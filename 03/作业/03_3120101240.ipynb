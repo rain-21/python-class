{
 "cells": [
  {
   "cell_type": "code",
   "execution_count": 7,
   "metadata": {},
   "outputs": [
    {
     "name": "stdin",
     "output_type": "stream",
     "text": [
      "enter a target: 14\n"
     ]
    },
    {
     "name": "stdout",
     "output_type": "stream",
     "text": [
      "[1, 6]\n"
     ]
    }
   ],
   "source": [
    "#给定一个整数数组 nums 和一个目标值 target，在该数组中找出和为目标值的那 两个 整数，并返回他们的数组下标。\n",
    "class Solution(object):\n",
    "    def twoSum(self, nums, target):\n",
    "        \"\"\"\n",
    "        :type nums: List[int]\n",
    "        :type target: int\n",
    "        :rtype: List[int]\n",
    "        \"\"\"\n",
    "        d = {}\n",
    "        result = []\n",
    "        for i in range(len(nums)):\n",
    "            d[nums[i]] = i\n",
    "        for i in range(len(nums)):\n",
    "            b = target - nums[i]\n",
    "            if b in d and d[b] != i:\n",
    "                result.append(i)\n",
    "                result.append(d[b])\n",
    "                return result\n",
    "if __name__==\"__main__\":\n",
    "    nums=[1,3,5,4,8,9,11,45,23,21]\n",
    "    target=int(input(\"enter a target:\"))\n",
    "    p=Solution()\n",
    "    result=p.twoSum(nums,target)\n",
    "    print(result)\n",
    "\n"
   ]
  },
  {
   "cell_type": "code",
   "execution_count": 16,
   "metadata": {},
   "outputs": [
    {
     "name": "stdin",
     "output_type": "stream",
     "text": [
      "enter a string: sasascasqwfvfghfgh\n"
     ]
    },
    {
     "name": "stdout",
     "output_type": "stream",
     "text": [
      "7\n"
     ]
    }
   ],
   "source": [
    "#给定一个字符串,找出其中不含有重复字符的 最长子串 的长度。\n",
    "class Solution(object):\n",
    "    def LongestString(self, s):\n",
    "        \"\"\"\n",
    "        :type s: str\n",
    "        :rtype: int\n",
    "        \"\"\"\n",
    "        ans = 0\n",
    "        i = 0\n",
    "        j = 0\n",
    "        substring_set = set()\n",
    "        n = len(s)\n",
    "        while i < n and j < n:\n",
    "            if s[j] not in substring_set:\n",
    "                substring_set.add(s[j])\n",
    "                j += 1\n",
    "                ans = max(ans, j - i)\n",
    "            else:\n",
    "                substring_set.remove(s[i])\n",
    "                i += 1\n",
    "        return ans\n",
    "if __name__==\"__main__\":\n",
    "    s=input(\"enter a string:\")\n",
    "    p=Solution()\n",
    "    result=p.LongestString(s)\n",
    "    print(result)\n"
   ]
  },
  {
   "cell_type": "code",
   "execution_count": 20,
   "metadata": {},
   "outputs": [
    {
     "name": "stdin",
     "output_type": "stream",
     "text": [
      "enter a num: 452\n"
     ]
    },
    {
     "name": "stdout",
     "output_type": "stream",
     "text": [
      "254\n"
     ]
    }
   ],
   "source": [
    "#整数反转\n",
    "class Solution(object):\n",
    "    def reverse(self, x):\n",
    "        \"\"\"\n",
    "        :type x: int\n",
    "        :rtype: int\n",
    "        \"\"\"\n",
    "        flag = 1\n",
    "        if x < 0:\n",
    "            flag = -1\n",
    "            x = abs(x)\n",
    "        s = str(x)\n",
    "        s_reverse = s[::-1]\n",
    "        res = int(s_reverse) * flag\n",
    "        if res >= pow(-2, 31) and res <= pow(2, 31) - 1:\n",
    "            return res\n",
    "        else:\n",
    "            return 0\n",
    "if __name__==\"__main__\":\n",
    "    x=int(input(\"enter a num:\"))\n",
    "    p=Solution()\n",
    "    result=p.reverse(x)\n",
    "    print(result)"
   ]
  },
  {
   "cell_type": "code",
   "execution_count": 34,
   "metadata": {},
   "outputs": [
    {
     "name": "stdout",
     "output_type": "stream",
     "text": [
      "8\n"
     ]
    }
   ],
   "source": [
    "#寻找两个有序数组的中位数\n",
    "class Solution(object):\n",
    "    def findMedian(self, A, B):\n",
    "        \"\"\"\n",
    "        :type A: List[int]\n",
    "        :type B: List[int]\n",
    "        :rtype: float\n",
    "        \"\"\" \n",
    "        m = len(A)\n",
    "        n = len(B)\n",
    "        if m > n:\n",
    "            temp = A \n",
    "            A = B\n",
    "            B = temp\n",
    "            t = m \n",
    "            m = n\n",
    "            n = t\n",
    "        iMin = 0\n",
    "        iMax = m \n",
    "        halfLen = (m + n + 1) // 2\n",
    "        while iMin <= iMax:\n",
    "            i = (iMin + iMax) // 2\n",
    "            j = halfLen - i \n",
    "            if i > 0 and j < n and A[i - 1] > B[j]:\n",
    "                iMax = i -1\n",
    "            elif i < m and j > 0 and B[j - 1] > A[i]:\n",
    "                iMin = i + 1\n",
    "            else:\n",
    "                if i == 0:\n",
    "                    maxLeft = B[j - 1]\n",
    "                elif j == 0:\n",
    "                    maxLeft = A[i - 1]\n",
    "                else:\n",
    "                    maxLeft = max(A[i -1], B[j - 1])\n",
    "                if (m + n) % 2 == 1:\n",
    "                    return maxLeft\n",
    "                if i == m:\n",
    "                    minRight = B[j]\n",
    "                elif j == n:\n",
    "                    minRight =  A[i]\n",
    "                else:\n",
    "                    minRight = min(A[i], B[j])\n",
    "\n",
    "                return (maxLeft + minRight) / 2.0\n",
    "if __name__==\"__main__\":\n",
    "    A=[1,3,4,7,12,16,18]\n",
    "    B=[2,4,5,8,9,11,13,17]\n",
    "    p=Solution()\n",
    "    result=p.findMedian(A,B)\n",
    "    print(result)\n",
    "    \n",
    "       \n"
   ]
  },
  {
   "cell_type": "code",
   "execution_count": 48,
   "metadata": {},
   "outputs": [
    {
     "name": "stdin",
     "output_type": "stream",
     "text": [
      "enter a string: asdfgghggfsaas\n"
     ]
    },
    {
     "name": "stdout",
     "output_type": "stream",
     "text": [
      "fgghggf\n"
     ]
    }
   ],
   "source": [
    "#给定一个字符串，寻找其中的最长回文字符串\n",
    "class Solution(object):\n",
    "    def longestPalindrome(self, s):\n",
    "        \"\"\"\n",
    "        :type s: str\n",
    "        :rtype: str\n",
    "        \"\"\"\n",
    "        if s == None or len(s) == 0:\n",
    "            return \"\"\n",
    "        start = 0\n",
    "        end =0\n",
    "        for i in range(len(s)):\n",
    "            len1 = self.expandAroundCenter(s, i, i) # 中心为1个字符的回文子串\n",
    "            len2 = self.expandAroundCenter(s, i, i + 1) # 中心为2个字符的回文子串\n",
    "            maxLen= max(len1, len2)\n",
    "            if maxLen > (end - start + 1):\n",
    "                start = i - (maxLen - 1) // 2\n",
    "                end = i + maxLen // 2\n",
    "        return s[start : end + 1]\n",
    "    \n",
    "    def expandAroundCenter(self, s, left, right):\n",
    "        \"\"\"\n",
    "        :type s: str\n",
    "        :type left: int\n",
    "        :type right: int\n",
    "        :rtype: int\n",
    "        \"\"\"\n",
    "        l = left\n",
    "        r = right\n",
    "        while l >= 0 and r < len(s) and s[l] == s[r]:\n",
    "            l = l - 1 \n",
    "            r = r + 1 \n",
    "        return r - l - 1\n",
    "if __name__==\"__main__\":\n",
    "    s=input(\"enter a string:\")\n",
    "    p=Solution()\n",
    "    result=p.longestPalindrome(s)\n",
    "    print(result)\n",
    "\n"
   ]
  },
  {
   "cell_type": "code",
   "execution_count": 57,
   "metadata": {},
   "outputs": [
    {
     "name": "stdin",
     "output_type": "stream",
     "text": [
      "enter a num: 12321\n"
     ]
    },
    {
     "name": "stdout",
     "output_type": "stream",
     "text": [
      "True\n"
     ]
    }
   ],
   "source": [
    "#判断是否为回文数\n",
    "class Solution(object):\n",
    "    def isPalindrome(self, x):\n",
    "        \"\"\"\n",
    "        :type x: int\n",
    "        :rtype: bool\n",
    "        \"\"\"\n",
    "        if x < 0 or (x % 10 == 0 and x != 0):\n",
    "            return False\n",
    "        x_str= str(x)\n",
    "        for i in range((len(x_str) + 1) // 2):\n",
    "            if x_str[i] != x_str[len(x_str) - 1 - i]:\n",
    "                return False\n",
    "        return True\n",
    "if __name__==\"__main__\":\n",
    "    s=int(input(\"enter a num:\"))\n",
    "    p=Solution()\n",
    "    result=p.isPalindrome(s)\n",
    "    print(result)\n"
   ]
  },
  {
   "cell_type": "code",
   "execution_count": 62,
   "metadata": {},
   "outputs": [
    {
     "name": "stdin",
     "output_type": "stream",
     "text": [
      "enter a num: 1253\n"
     ]
    },
    {
     "name": "stdout",
     "output_type": "stream",
     "text": [
      "MCCLIII\n"
     ]
    }
   ],
   "source": [
    "#整数转罗马数字\n",
    "class Solution:\n",
    "    def intToRoman(self, num):\n",
    "        dic = {1000 : \"M\", 900 : \"CM\", 500 : \"D\", 400 : \"CD\", 100 : \"C\",\n",
    "        90 : \"XC\", 50 : \"L\", 40 : \"XL\", 10 : \"X\",\n",
    "        9 : \"IX\", 5 : \"V\", 4 : \"IV\", 1: \"I\"}\n",
    "        res = \"\"\n",
    "        for key in dic:\n",
    "            count = num // key\n",
    "            if count != 0:\n",
    "                res += dic[key] * count\n",
    "                num %= key \n",
    "        return res\n",
    "if __name__==\"__main__\":\n",
    "    s=int(input(\"enter a num:\"))\n",
    "    p=Solution()\n",
    "    result=p.intToRoman(s)\n",
    "    print(result)"
   ]
  },
  {
   "cell_type": "code",
   "execution_count": null,
   "metadata": {},
   "outputs": [],
   "source": []
  }
 ],
 "metadata": {
  "kernelspec": {
   "display_name": "Python 3",
   "language": "python",
   "name": "python3"
  },
  "language_info": {
   "codemirror_mode": {
    "name": "ipython",
    "version": 3
   },
   "file_extension": ".py",
   "mimetype": "text/x-python",
   "name": "python",
   "nbconvert_exporter": "python",
   "pygments_lexer": "ipython3",
   "version": "3.6.12"
  }
 },
 "nbformat": 4,
 "nbformat_minor": 4
}
