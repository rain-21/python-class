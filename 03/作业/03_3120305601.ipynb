{
 "cells": [
  {
   "cell_type": "code",
   "execution_count": null,
   "metadata": {},
   "outputs": [],
   "source": [
    "import cv2 as cv\n",
    "import numpy as np\n",
    "import matplotlib.pyplot as plt\n",
    "\n",
    "\n",
    "\n",
    "def Harris_corner(img):\n",
    "\n",
    "    def BGR2GRAY(img):\n",
    "        gray = 0.2126 * img[..., 2] + 0.7152 * img[..., 1] + 0.0722 * img[..., 0]\n",
    "        gray = gray.astype(np.uint8)\n",
    "        return gray\n",
    "\n",
    "\n",
    "    def Sobel_filtering(gray):\n",
    "\n",
    "        H, W = gray.shape\n",
    "\n",
    "\n",
    "        sobely = np.array(((1, 2, 1),\n",
    "                           (0, 0, 0),\n",
    "                           (-1, -2, -1)), dtype=np.float32)\n",
    "\n",
    "        sobelx = np.array(((1, 0, -1),\n",
    "                           (2, 0, -2),\n",
    "                           (1, 0, -1)), dtype=np.float32)\n",
    "\n",
    "        tmp = np.pad(gray, (1, 1), 'edge')\n",
    "\n",
    "        Ix = np.zeros_like(gray, dtype=np.float32)\n",
    "        Iy = np.zeros_like(gray, dtype=np.float32)\n",
    "\n",
    "        for y in range(H):\n",
    "            for x in range(W):\n",
    "                Ix[y, x] = np.mean(tmp[y: y + 3, x: x + 3] * sobelx)\n",
    "                Iy[y, x] = np.mean(tmp[y: y + 3, x: x + 3] * sobely)\n",
    "\n",
    "        Ix2 = Ix ** 2\n",
    "        Iy2 = Iy ** 2\n",
    "        Ixy = Ix * Iy\n",
    "\n",
    "        return Ix2, Iy2, Ixy\n",
    "\n",
    "    def gaussian_filtering(I, K_size=3, sigma=3):\n",
    "\n",
    "        H, W = I.shape\n",
    "\n",
    "\n",
    "        I_t = np.pad(I, (K_size // 2, K_size // 2), 'edge')\n",
    "\n",
    "\n",
    "        K = np.zeros((K_size, K_size), dtype=np.float)\n",
    "        for x in range(K_size):\n",
    "            for y in range(K_size):\n",
    "                _x = x - K_size // 2\n",
    "                _y = y - K_size // 2\n",
    "                K[y, x] = np.exp(-(_x ** 2 + _y ** 2) / (2 * (sigma ** 2)))\n",
    "        K /= (sigma * np.sqrt(2 * np.pi))\n",
    "        K /= K.sum()\n",
    "\n",
    "\n",
    "        for y in range(H):\n",
    "            for x in range(W):\n",
    "                I[y, x] = np.sum(I_t[y: y + K_size, x: x + K_size] * K)\n",
    "\n",
    "        return I\n",
    "\n",
    "\n",
    "    def corner_detect(gray, Ix2, Iy2, Ixy, k=0.04, th=0.1):\n",
    "\n",
    "        out = np.array((gray, gray, gray))\n",
    "        out = np.transpose(out, (1, 2, 0))\n",
    "\n",
    "\n",
    "        R = (Ix2 * Iy2 - Ixy ** 2) - k * ((Ix2 + Iy2) ** 2)\n",
    "\n",
    "\n",
    "        out[R >= np.max(R) * th] = [255, 0, 0]\n",
    "\n",
    "        out = out.astype(np.uint8)\n",
    "\n",
    "        return out\n",
    "\n",
    "    gray = BGR2GRAY(img)\n",
    "\n",
    "    Ix2, Iy2, Ixy = Sobel_filtering(gray)\n",
    "\n",
    "    Ix2 = gaussian_filtering(Ix2, K_size=3, sigma=3)\n",
    "    Iy2 = gaussian_filtering(Iy2, K_size=3, sigma=3)\n",
    "    Ixy = gaussian_filtering(Ixy, K_size=3, sigma=3)\n",
    "\n",
    "    out = corner_detect(gray, Ix2, Iy2, Ixy)\n",
    "\n",
    "    return out\n",
    "\n",
    "\n",
    "img = cv.imread(\"test1.jpeg\").astype(np.float32)\n",
    "\n",
    "out = Harris_corner(img)\n",
    "\n",
    "cv.imwrite(\"out.jpg\", out)\n",
    "cv.imshow(\"result\", out)\n",
    "cv.waitKey(0)\n",
    "cv.destroyAllWindows()\n"
   ]
  },
  {
   "cell_type": "code",
   "execution_count": 1,
   "metadata": {},
   "outputs": [
    {
     "name": "stdout",
     "output_type": "stream",
     "text": [
      "<class 'str'>\n",
      "13\n",
      "var1[0]:  H\n",
      "var2[1:5]:  unoo\n"
     ]
    }
   ],
   "source": [
    "var1 = 'Hello  World!'\n",
    "var2 = \"Runoob\"\n",
    "print(type(var1))\n",
    "print(len(var1))\n",
    "print (\"var1[0]: \", var1[0])\n",
    "print (\"var2[1:5]: \", var2[1:5])\n",
    "\n"
   ]
  },
  {
   "cell_type": "code",
   "execution_count": 2,
   "metadata": {},
   "outputs": [
    {
     "name": "stdout",
     "output_type": "stream",
     "text": [
      "hello\n"
     ]
    }
   ],
   "source": [
    "print('hello')"
   ]
  },
  {
   "cell_type": "code",
   "execution_count": 3,
   "metadata": {},
   "outputs": [
    {
     "data": {
      "text/plain": [
       "<re.Match object; span=(0, 9), match='010-12345'>"
      ]
     },
     "execution_count": 3,
     "metadata": {},
     "output_type": "execute_result"
    }
   ],
   "source": [
    "import re\n",
    "re.match(r'\\d{3}\\-\\d{3,8}$', '010-12345')"
   ]
  },
  {
   "cell_type": "code",
   "execution_count": 4,
   "metadata": {},
   "outputs": [
    {
     "data": {
      "text/plain": [
       "['a', 'b', 'c']"
      ]
     },
     "execution_count": 4,
     "metadata": {},
     "output_type": "execute_result"
    }
   ],
   "source": [
    "re.split(r'\\s+', 'a b   c')"
   ]
  },
  {
   "cell_type": "code",
   "execution_count": 5,
   "metadata": {},
   "outputs": [
    {
     "name": "stdout",
     "output_type": "stream",
     "text": [
      "<re.Match object; span=(0, 9), match='010-12345'>\n",
      "010-12345\n",
      "010\n",
      "12345\n"
     ]
    }
   ],
   "source": [
    "m = re.match(r'^(\\d{3})-(\\d{3,8})$', '010-12345')\n",
    "print(m)\n",
    "print(m.group(0))\n",
    "print(m.group(1))\n",
    "print(m.group(2))"
   ]
  },
  {
   "cell_type": "code",
   "execution_count": 6,
   "metadata": {},
   "outputs": [
    {
     "data": {
      "text/plain": [
       "('19', '05', '30')"
      ]
     },
     "execution_count": 6,
     "metadata": {},
     "output_type": "execute_result"
    }
   ],
   "source": [
    "t = '19:05:30'\n",
    "m = re.match(r'^(0[0-9]|1[0-9]|2[0-3]|[0-9])\\:(0[0-9]|1[0-9]|2[0-9]|3[0-9]|4[0-9]|5[0-9]|[0-9])\\:(0[0-9]|1[0-9]|2[0-9]|3[0-9]|4[0-9]|5[0-9]|[0-9])$', t)\n",
    "m.groups()"
   ]
  },
  {
   "cell_type": "code",
   "execution_count": 7,
   "metadata": {},
   "outputs": [
    {
     "name": "stdout",
     "output_type": "stream",
     "text": [
      "<class 'list'>\n"
     ]
    },
    {
     "data": {
      "text/plain": [
       "['red', 'green', 'blue', 'yellow', 'white', 'black']"
      ]
     },
     "execution_count": 7,
     "metadata": {},
     "output_type": "execute_result"
    }
   ],
   "source": [
    "colors = ['red', 'green', 'blue', 'yellow', 'white', 'black']\n",
    "print(type(colors))\n",
    "colors"
   ]
  },
  {
   "cell_type": "code",
   "execution_count": 8,
   "metadata": {},
   "outputs": [
    {
     "name": "stdout",
     "output_type": "stream",
     "text": [
      "[20, 30]\n",
      "[30, 40, 50, 60, 70, 80, 90]\n",
      "[0, 10, 20]\n",
      "[60, 70]\n",
      "[0, 20, 40, 60]\n",
      "[80, 70, 60, 50, 40, 30, 20, 10]\n",
      "[80, 70, 60, 50, 40, 30, 20, 10, 0]\n",
      "[90, 80, 70, 60, 50, 40, 30, 20, 10]\n",
      "[90, 80, 70, 60, 50, 40, 30, 20, 10, 0]\n"
     ]
    }
   ],
   "source": [
    "numbers = [0 ,10, 20, 30, 40, 50, 60, 70, 80, 90]\n",
    "numbers\n",
    "print(numbers[2:4])\n",
    "print(numbers[3:])\n",
    "print(numbers[:3])\n",
    "print(numbers[-4:-2])\n",
    "print(numbers[0:8:2])\n",
    "print(numbers[-2:-10:-1])\n",
    "print(numbers[-2::-1])\n",
    "print(numbers[:-10:-1])\n",
    "print(numbers[::-1])"
   ]
  },
  {
   "cell_type": "code",
   "execution_count": 9,
   "metadata": {},
   "outputs": [
    {
     "name": "stdout",
     "output_type": "stream",
     "text": [
      "<class 'tuple'>\n",
      "('Google', 'Runoob', 1997, 2000)\n",
      "(1, 2, 3, 4, 5)\n",
      "('a', 'b', 'c', 'd')\n",
      "(1,)\n",
      "(1,)\n"
     ]
    }
   ],
   "source": [
    "tup1 = ('Google', 'Runoob', 1997, 2000)\n",
    "print(type(tup1))\n",
    "tup2 = (1, 2, 3, 4, 5)\n",
    "tup3 = \"a\", \"b\", \"c\", \"d\"   #  不需要括号也可以\n",
    "tup4 = (1,)\n",
    "tup5 = 1,\n",
    "print(tup1)\n",
    "print(tup2)\n",
    "print(tup3)\n",
    "print(tup4)\n",
    "print(tup5)"
   ]
  },
  {
   "cell_type": "code",
   "execution_count": 10,
   "metadata": {},
   "outputs": [
    {
     "name": "stdout",
     "output_type": "stream",
     "text": [
      "<class 'set'>\n",
      "{'banana', 'orange', 'apple', 'pear'}\n",
      "{'e', 'W', 'o', ' ', 'd', 'r', 'l', 'H'}\n"
     ]
    }
   ],
   "source": [
    "basket = {'apple', 'orange', 'apple', 'pear', 'orange', 'banana'}\n",
    "print(type(basket))\n",
    "print(basket)\n",
    "letters = set('Hello World')\n",
    "print(letters)"
   ]
  },
  {
   "cell_type": "code",
   "execution_count": 11,
   "metadata": {},
   "outputs": [
    {
     "name": "stdout",
     "output_type": "stream",
     "text": [
      "{'e', 'orange', 'o', 'banana', 'n', 'm', 'l', 'apple', 'pear'}\n",
      "{'e', 'lemon', 'orange', 'o', 'banana', 'n', 'melon', 'm', 'l', 'apple', 'pear'}\n"
     ]
    }
   ],
   "source": [
    "\n",
    "basket = {'apple', 'orange', 'apple', 'pear', 'orange', 'banana'}\n",
    "basket.update('melon')\n",
    "print(basket)\n",
    "basket.update(['melon', 'lemon'])\n",
    "print(basket)"
   ]
  },
  {
   "cell_type": "code",
   "execution_count": null,
   "metadata": {},
   "outputs": [],
   "source": []
  }
 ],
 "metadata": {
  "kernelspec": {
   "display_name": "Python 3",
   "language": "python",
   "name": "python3"
  },
  "language_info": {
   "codemirror_mode": {
    "name": "ipython",
    "version": 3
   },
   "file_extension": ".py",
   "mimetype": "text/x-python",
   "name": "python",
   "nbconvert_exporter": "python",
   "pygments_lexer": "ipython3",
   "version": "3.8.3"
  }
 },
 "nbformat": 4,
 "nbformat_minor": 4
}
