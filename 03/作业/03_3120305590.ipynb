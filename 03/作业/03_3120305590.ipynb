{
 "cells": [
  {
   "cell_type": "code",
   "execution_count": 59,
   "metadata": {},
   "outputs": [
    {
     "name": "stdout",
     "output_type": "stream",
     "text": [
      "<class 'str'> 7\n",
      "var[0:3]: Ker\n",
      "更新var: Kermocixuyifei\n",
      "xyfxyfxyfxyfxyf\n"
     ]
    },
    {
     "data": {
      "text/plain": [
       "['Hello',\n",
       " 'World',\n",
       " 'Hello',\n",
       " 'World',\n",
       " 'Hello',\n",
       " 'World',\n",
       " 'Hello',\n",
       " 'World',\n",
       " 'Hello',\n",
       " 'World']"
      ]
     },
     "execution_count": 59,
     "metadata": {},
     "output_type": "execute_result"
    }
   ],
   "source": [
    "#String字符串\n",
    "var=\"Kermoci\"\n",
    "print(type(var),len(var))\n",
    "print(\"var[0:3]:\",var[0:3])\n",
    "print(\"更新var:\",var[:7]+'xuyifei')\n",
    "print('xyf' * 5) #字符串复制5次\n",
    "['Hello', 'World'] * 5"
   ]
  },
  {
   "cell_type": "code",
   "execution_count": 143,
   "metadata": {},
   "outputs": [
    {
     "name": "stdout",
     "output_type": "stream",
     "text": [
      "True\n",
      "Xu yifei\n",
      "XU YIFEI\n",
      "Xu Yifei\n"
     ]
    }
   ],
   "source": [
    "print('H' in 'Hello')#判断\n",
    "sentence = 'xu yifei'\n",
    "#sentence = 'xuyifei'\n",
    "print(sentence.capitalize())#首字母大写\n",
    "print(sentence.upper())#大写\n",
    "print(sentence.title())"
   ]
  },
  {
   "cell_type": "code",
   "execution_count": 145,
   "metadata": {},
   "outputs": [
    {
     "name": "stdout",
     "output_type": "stream",
     "text": [
      "var.count('n') :  3\n",
      "var.count('run', 0, 15) :  3\n"
     ]
    }
   ],
   "source": [
    "var=\"www.runrunorunob.com\"\n",
    "print (\"var.count('n') : \", var.count('n'))\n",
    "sub='run'\n",
    "print (\"var.count('run', 0, 15) : \", var.count(sub,0,15))"
   ]
  },
  {
   "cell_type": "code",
   "execution_count": 146,
   "metadata": {},
   "outputs": [
    {
     "name": "stdout",
     "output_type": "stream",
     "text": [
      "True False False True\n",
      "**************************************************\n",
      "True True True True\n",
      "**************************************************\n",
      "False False True False\n",
      "**************************************************\n",
      "False False True True\n"
     ]
    }
   ],
   "source": [
    "str2 = \"runoob菜鸟教程\"#汉字在这里也是\n",
    "str4 = \"xyf2016\"\n",
    "str5 = \"2016\"\n",
    "str6 = \"二零一六\"\n",
    "\n",
    "print (str2.isalpha(),str4.isalpha(),str5.isalpha(),str6.isalpha())\n",
    "print('*' * 50)\n",
    "#数字or字母\n",
    "print (str2.isalnum(),str4.isalnum(),str5.isalnum(),str6.isalnum())\n",
    "print('*' * 50)\n",
    "#纯数字\n",
    "print (str2.isdigit(),str4.isdigit(),str5.isdigit(),str6.isdigit())\n",
    "print('*' * 50)\n",
    "print (str2.isnumeric(),str4.isnumeric(),str5.isnumeric(),str6.isnumeric())"
   ]
  },
  {
   "cell_type": "code",
   "execution_count": 178,
   "metadata": {},
   "outputs": [
    {
     "name": "stdout",
     "output_type": "stream",
     "text": [
      "True_True_True_True_False_True\n",
      "2\n",
      "16\n",
      "-1\n",
      "this is string eisxample....wow!!!\n",
      "thwas was string eisxample....wow!!!\n"
     ]
    }
   ],
   "source": [
    "var = \"this is string eisxample....wow!!!\"\n",
    "print (var.startswith( 'this' ),end=\"_\")\n",
    "print (var.startswith( 'string', 8 ),end=\"_\")  # 从第九个字符开始以 string 开头\n",
    "print (var.startswith( 'this', 0, 4 ),end=\"_\") # 从第2个字符开始到第四个字符结束的字符串是否以 this 开头\n",
    "print (var.endswith('!!'),end=\"_\")\n",
    "print (var.endswith('!!', len(var) - 1),end=\"_\")\n",
    "print (var.endswith('thi', 0, 3),end=\"\\n\")\n",
    "str2 = \"is\";\n",
    "print (var.find(str2))\n",
    "print (var.find(str2, 10))#从第10个字符开始找\n",
    "print (var.find(str2, 17))\n",
    "print(var)\n",
    "print (var.replace(\"is\", \"was\", 2))"
   ]
  },
  {
   "cell_type": "code",
   "execution_count": 169,
   "metadata": {},
   "outputs": [
    {
     "name": "stdout",
     "output_type": "stream",
     "text": [
      "*****this is **string** example....wow!!!*****\n"
     ]
    },
    {
     "data": {
      "text/plain": [
       "'this is **string** example....wow!!!'"
      ]
     },
     "execution_count": 169,
     "metadata": {},
     "output_type": "execute_result"
    }
   ],
   "source": [
    "str1 = \"    *****this is **string** example....wow!!!*****    \"\n",
    "str1 = str1.strip() # 默认空格\n",
    "print (str1)\n",
    "str1 = str1.strip('*') # 指定字符串 *\n",
    "str1"
   ]
  },
  {
   "cell_type": "code",
   "execution_count": 179,
   "metadata": {},
   "outputs": [
    {
     "name": "stdout",
     "output_type": "stream",
     "text": [
      "['Google', 'Runoob', 'Taobao', 'Facebook']\n",
      "['Google', 'Runoob#Taobao#Facebook']\n",
      "更新 Google#Runoob#Taobao#xyf.com\n"
     ]
    }
   ],
   "source": [
    "txt = \"Google#Runoob#Taobao#Facebook\"\n",
    "print(txt.split('#'))\n",
    "print(txt.split(\"#\", 1))#只分隔一次\n",
    "print (\"更新\", txt.replace(\"Facebook\", \"xyf.com\"))"
   ]
  },
  {
   "cell_type": "code",
   "execution_count": 196,
   "metadata": {},
   "outputs": [
    {
     "name": "stdout",
     "output_type": "stream",
     "text": [
      "<re.Match object; span=(0, 9), match='010-12345'>\n",
      "010-12345\n",
      "010\n",
      "12345\n"
     ]
    }
   ],
   "source": [
    "import re\n",
    "m = re.match(r'^(\\d{3})-(\\d{3,8})$', '010-12345')\n",
    "print(m)\n",
    "print(m.group(0))\n",
    "print(m.group(1))\n",
    "print(m.group(2))"
   ]
  },
  {
   "cell_type": "code",
   "execution_count": 97,
   "metadata": {},
   "outputs": [
    {
     "data": {
      "text/plain": [
       "('19', '05', '30')"
      ]
     },
     "execution_count": 97,
     "metadata": {},
     "output_type": "execute_result"
    }
   ],
   "source": [
    "t = '19:05:30'\n",
    "m = re.match(r'^(0[0-9]|1[0-9]|2[0-3]|[0-9])\\:(0[0-9]|1[0-9]|2[0-9]|3[0-9]|4[0-9]|5[0-9]|[0-9])\\:(0[0-9]|1[0-9]|2[0-9]|3[0-9]|4[0-9]|5[0-9]|[0-9])$', t)\n",
    "m.groups()"
   ]
  },
  {
   "cell_type": "code",
   "execution_count": 41,
   "metadata": {},
   "outputs": [
    {
     "data": {
      "text/plain": [
       "('102300', '')"
      ]
     },
     "execution_count": 41,
     "metadata": {},
     "output_type": "execute_result"
    }
   ],
   "source": [
    "#贪婪匹配\n",
    "re.match(r'^(\\d+)(0*)$', '102300').groups()\n",
    "#re.match(r'^(\\d+?)(0*)$', '102300').groups()\n",
    "# \\d+贪婪匹配，把后面的0全部匹配了，结果0*只能匹配空字符串了。"
   ]
  },
  {
   "cell_type": "code",
   "execution_count": 1,
   "metadata": {},
   "outputs": [
    {
     "name": "stdout",
     "output_type": "stream",
     "text": [
      "r g blue bl w y\n",
      "['r', 'g', 'brown', 'blue', 'y', 'w', 'bl', 'p']\n",
      "['r', 'brown', 'blue', 'y', 'w', 'bl', 'p']\n",
      "1\n",
      "2\n"
     ]
    }
   ],
   "source": [
    "#List列表\n",
    "colors = ['r', 'g', 'blue', 'y', 'w', 'bl']\n",
    "#print(type(colors))\n",
    "#colors\n",
    "print(colors[0],colors[1],colors[2],colors[-1],colors[-2],colors[-3])\n",
    "#增加\n",
    "colors.append('p')\n",
    "colors.insert(2, 'brown')\n",
    "print(colors)\n",
    "#删除\n",
    "colors.remove('g')\n",
    "print(colors)\n",
    "print(colors.count('r'))#计数\n",
    "print(colors.index('blue'))#索引"
   ]
  },
  {
   "cell_type": "code",
   "execution_count": 2,
   "metadata": {},
   "outputs": [
    {
     "name": "stdout",
     "output_type": "stream",
     "text": [
      "[2, 4]\n",
      "[4, 5, 6, 8, 9, 3, 1]\n",
      "[0, 1, 2]\n",
      "[8, 9]\n",
      "[0, 2, 5, 8]\n",
      "[3, 9, 8, 6, 5, 4, 2, 1]\n",
      "[3, 9, 8, 6, 5, 4, 2, 1, 0]\n",
      "[1, 3, 9, 8, 6, 5, 4, 2, 1]\n",
      "[1, 3, 9, 8, 6, 5, 4, 2, 1, 0]\n",
      "10\n",
      "9\n",
      "0\n",
      "[0, 1, 1, 2, 3, 4, 5, 6, 8, 9]\n",
      "[9, 8, 6, 5, 4, 3, 2, 1, 1, 0]\n",
      "[]\n"
     ]
    }
   ],
   "source": [
    "numbers = [0 ,1, 2, 4, 5, 6, 8, 9, 3, 1]\n",
    "print(numbers[2:4])\n",
    "print(numbers[3:])\n",
    "print(numbers[:3])\n",
    "print(numbers[-4:-2])\n",
    "print(numbers[0:8:2])\n",
    "print(numbers[-2:-10:-1])\n",
    "print(numbers[-2::-1])\n",
    "print(numbers[:-10:-1])\n",
    "print(numbers[::-1])\n",
    "print(len(numbers))\n",
    "print(max(numbers))\n",
    "print(min(numbers))\n",
    "numbers.sort()\n",
    "print(numbers)\n",
    "numbers.reverse()\n",
    "print(numbers)\n",
    "numbers.clear()\n",
    "print(numbers)"
   ]
  },
  {
   "cell_type": "code",
   "execution_count": 65,
   "metadata": {},
   "outputs": [
    {
     "name": "stdout",
     "output_type": "stream",
     "text": [
      "[1, 4, 9, 16, 25, 36, 49, 64, 81, 100]\n",
      "0 1 2 3 4 Hello World\n",
      "0_1_2_3_4_Hello_World\n"
     ]
    }
   ],
   "source": [
    "squares = []\n",
    "squares += [1, 4, 9, 16, 25]\n",
    "squares += [36, 49, 64]\n",
    "squares.extend([81, 100])\n",
    "print(squares)\n",
    "args = [*range(5), 'Hello', 'World']\n",
    "print(args)#*去掉符号\n",
    "print(*args, sep='_')"
   ]
  },
  {
   "cell_type": "code",
   "execution_count": 4,
   "metadata": {},
   "outputs": [
    {
     "name": "stdout",
     "output_type": "stream",
     "text": [
      "<class 'tuple'>\n",
      "('xyf', 'kermoci', 1999, 2020) - ('a', 'b', 'c', 'd') - (1,)\n"
     ]
    }
   ],
   "source": [
    "#Tuple元组\n",
    "tup1 = ('xyf', 'kermoci', 1999, 2020)\n",
    "print(type(tup1))\n",
    "tup3 = \"a\", \"b\", \"c\", \"d\"   #  不需要括号也可以\n",
    "tup4 = (1,)\n",
    "print(tup1,\"-\",tup3,\"-\",tup4)"
   ]
  },
  {
   "cell_type": "code",
   "execution_count": 5,
   "metadata": {},
   "outputs": [
    {
     "data": {
      "text/plain": [
       "('xyf', 'kermoci', 1999, 2020, 'a', 'b', 'c', 'd')"
      ]
     },
     "execution_count": 5,
     "metadata": {},
     "output_type": "execute_result"
    }
   ],
   "source": [
    "tup1[0]\n",
    "tup1 + tup3#连接"
   ]
  },
  {
   "cell_type": "code",
   "execution_count": 10,
   "metadata": {},
   "outputs": [
    {
     "name": "stdout",
     "output_type": "stream",
     "text": [
      "<class 'set'>\n",
      "{'banana', 'apple', 'pear', 'melon', 'orange'}\n",
      "{'banana', 'pear', 'melon', 'orange'}\n",
      "{'r', 'o', 'H', 'e', 'W', 'd', 'l'}\n"
     ]
    }
   ],
   "source": [
    "#Set集合<元素不重合>\n",
    "basket = {'apple', 'orange', 'apple', 'pear', 'orange', 'banana'}\n",
    "print(type(basket))\n",
    "basket.add('melon')\n",
    "print(basket)\n",
    "basket.remove('apple')\n",
    "print(basket)\n",
    "letters = set('HelloWorld')\n",
    "print(letters)"
   ]
  },
  {
   "cell_type": "code",
   "execution_count": 12,
   "metadata": {},
   "outputs": [
    {
     "name": "stdout",
     "output_type": "stream",
     "text": [
      "{'n', 'banana', 'o', 'apple', 'pear', 'e', 'm', 'l', 'orange'}\n",
      "{'n', 'banana', 'o', 'lemon', 'apple', 'pear', 'e', 'm', 'melon', 'l', 'orange'}\n"
     ]
    }
   ],
   "source": [
    "basket = {'apple', 'orange', 'apple', 'pear', 'orange', 'banana'}\n",
    "basket.update('melon')\n",
    "print(basket)\n",
    "basket.update(['melon', 'lemon'])\n",
    "print(basket)"
   ]
  },
  {
   "cell_type": "code",
   "execution_count": 15,
   "metadata": {},
   "outputs": [
    {
     "name": "stdout",
     "output_type": "stream",
     "text": [
      "{'b', 's', 'e'}\n",
      "{'b', 'a', 'e', 'c', 's', 'd'}\n",
      "{'c', 'd', 'a'}\n",
      "{'b', 'e', 's'}\n"
     ]
    }
   ],
   "source": [
    "a = set('abcdes')\n",
    "b = set('acd')\n",
    "print(a - b) \n",
    "print(a | b) # 并集\n",
    "print(a & b) # 交集\n",
    "print(a ^ b) # 不同时包含于a和b的元素"
   ]
  },
  {
   "cell_type": "code",
   "execution_count": 16,
   "metadata": {},
   "outputs": [
    {
     "name": "stdout",
     "output_type": "stream",
     "text": [
      "<class 'dict'>\n",
      "dict1['Name']:  xyf\n",
      "dict1['Age']:  7\n"
     ]
    }
   ],
   "source": [
    "#字典\n",
    "dict1 = {'Name': 'xyf', 'Age': 7, 'Class': '01'}\n",
    "print(type(dict1))\n",
    "print (\"dict1['Name']: \", dict1['Name'])\n",
    "print (\"dict1['Age']: \", dict1['Age'])"
   ]
  },
  {
   "cell_type": "code",
   "execution_count": 21,
   "metadata": {},
   "outputs": [
    {
     "name": "stdout",
     "output_type": "stream",
     "text": [
      "{'Age': 8, 'School': 'XJTU'}\n",
      "{'Age': 7, 'Class': 'First'}\n",
      "dict_keys(['Age', 'Class'])\n",
      "dict_values([7, 'First'])\n",
      "dict_items([('Age', 7), ('Class', 'First')])\n"
     ]
    }
   ],
   "source": [
    "dict1['Age'] = 8             # 更新 Age\n",
    "dict1['School'] = \"XJTU\"  # 添加信息\n",
    "print(dict1)\n",
    "dict1 = {'Name': 'Runoob', 'Age': 7, 'Class': 'First'}\n",
    "del dict1['Name'] \n",
    "print(dict1)\n",
    "print(dict1.keys())\n",
    "print(dict1.values())\n",
    "print(dict1.items())"
   ]
  },
  {
   "cell_type": "code",
   "execution_count": 22,
   "metadata": {},
   "outputs": [
    {
     "name": "stdout",
     "output_type": "stream",
     "text": [
      "{'a': 5, 'b': 5, 'c': 5}\n"
     ]
    }
   ],
   "source": [
    "print(dict1.fromkeys('abc', 5))"
   ]
  },
  {
   "cell_type": "code",
   "execution_count": 23,
   "metadata": {},
   "outputs": [
    {
     "name": "stdout",
     "output_type": "stream",
     "text": [
      "更新字典 dict1 :  {'Name': 'xyf', 'Age': 10, 'Sex': 'female'}\n"
     ]
    }
   ],
   "source": [
    "dict1 = {'Name': 'xyf', 'Age': 7}\n",
    "dict2 = {'Sex': 'female' , 'Age': 10}\n",
    " \n",
    "dict1.update(dict2)\n",
    "print (\"更新字典 dict1 : \", dict1)"
   ]
  },
  {
   "cell_type": "code",
   "execution_count": 24,
   "metadata": {},
   "outputs": [
    {
     "name": "stdout",
     "output_type": "stream",
     "text": [
      "p-y-t-h-o-n-p\n",
      "y\n",
      "t\n",
      "h\n",
      "o\n",
      "n\n"
     ]
    }
   ],
   "source": [
    "#遍历\n",
    "basket = ['p', 'y', 't', 'h', 'o', 'n']\n",
    "for x in basket:\n",
    "    print(x,end=\"-\")\n",
    "for i in range(len(basket)):\n",
    "    print(basket[i])"
   ]
  },
  {
   "cell_type": "code",
   "execution_count": 25,
   "metadata": {},
   "outputs": [
    {
     "name": "stdout",
     "output_type": "stream",
     "text": [
      "[(0, 'p'), (1, 'y'), (2, 't'), (3, 'h'), (4, 'o'), (5, 'n')]\n",
      "0----------p\n",
      "1----------y\n",
      "2----------t\n",
      "3----------h\n",
      "4----------o\n",
      "5----------n\n"
     ]
    }
   ],
   "source": [
    "print(list(enumerate(basket)))\n",
    "for i, v in enumerate(basket):\n",
    "    print(f'{i}{\"-\" * 10}{v}')"
   ]
  },
  {
   "cell_type": "code",
   "execution_count": 29,
   "metadata": {},
   "outputs": [
    {
     "name": "stdout",
     "output_type": "stream",
     "text": [
      "[(0, 'p'), (1, 'y'), (2, 't'), (3, 'h'), (4, 'o'), (5, 'n')]\n",
      "0 * 5 is 0\n",
      "1 * 6 is 6\n",
      "2 * 7 is 14\n",
      "3 * 8 is 24\n",
      "4 * 9 is 36\n"
     ]
    }
   ],
   "source": [
    "indexes = range(len(basket))\n",
    "print(list(zip(indexes, basket)))\n",
    "r1 = range(5)\n",
    "r2 = range(5, 10)\n",
    "for i, j in zip(r1, r2):\n",
    "    print(f'{i} * {j} is {i * j}')"
   ]
  },
  {
   "cell_type": "code",
   "execution_count": 35,
   "metadata": {},
   "outputs": [
    {
     "name": "stdout",
     "output_type": "stream",
     "text": [
      "name\n",
      "age\n",
      "class\n",
      "xyf\n",
      "20\n",
      "01\n",
      "name xyf\n",
      "age 20\n",
      "class 01\n"
     ]
    }
   ],
   "source": [
    "dict={'name':'xyf','age':'20','class':'01'}\n",
    "for k in dict.keys():\n",
    "    print(k)\n",
    "for v in dict.values():\n",
    "    print(v)\n",
    "for k,v in dict.items():\n",
    "    print(k,v)"
   ]
  },
  {
   "cell_type": "code",
   "execution_count": 37,
   "metadata": {},
   "outputs": [
    {
     "name": "stdout",
     "output_type": "stream",
     "text": [
      "['xyf', 'kermoci', [0, 1, 2]]\n"
     ]
    },
    {
     "data": {
      "text/plain": [
       "['xyf', 'kermoci', 0, 1, 2]"
      ]
     },
     "execution_count": 37,
     "metadata": {},
     "output_type": "execute_result"
    }
   ],
   "source": [
    "#嵌套\n",
    "basket = ['xyf', 'kermoci']\n",
    "numbers = list(range(3))\n",
    "basket.append(numbers)\n",
    "print(basket)\n",
    "def flat(l):\n",
    "    f = []\n",
    "    for x in l:\n",
    "        if type(x) is list:\n",
    "            f.extend(x)\n",
    "        else:\n",
    "            f.append(x)\n",
    "    return f\n",
    "flat(basket)"
   ]
  },
  {
   "cell_type": "code",
   "execution_count": 106,
   "metadata": {},
   "outputs": [
    {
     "name": "stdout",
     "output_type": "stream",
     "text": [
      "1\n",
      "2\n",
      "********\n",
      "3 4 "
     ]
    }
   ],
   "source": [
    "#迭代器与生成器\n",
    "l = [1,2,3,4]\n",
    "it = iter(l)    # 创建迭代器对象\n",
    "print(next(it))   # 输出迭代器的下一个元素\n",
    "print(next(it))\n",
    "print(\"********\")\n",
    "for x in it:\n",
    "    print (x, end=\" \")"
   ]
  },
  {
   "cell_type": "code",
   "execution_count": 40,
   "metadata": {},
   "outputs": [
    {
     "name": "stdout",
     "output_type": "stream",
     "text": [
      "153\n",
      "370\n",
      "371\n",
      "407\n"
     ]
    }
   ],
   "source": [
    "#水仙花数\n",
    "for i in range(100,1000):\n",
    "    a = i//100\n",
    "    b = (i-a*100)//10\n",
    "    c = (i-a*100-b*10)\n",
    "    if i == pow(a,3)+pow(b,3)+pow(c,3):\n",
    "        print(i)"
   ]
  },
  {
   "cell_type": "code",
   "execution_count": 43,
   "metadata": {},
   "outputs": [
    {
     "name": "stdout",
     "output_type": "stream",
     "text": [
      "4\n"
     ]
    },
    {
     "data": {
      "text/plain": [
       "[11, 12, 13, 14]"
      ]
     },
     "execution_count": 43,
     "metadata": {},
     "output_type": "execute_result"
    }
   ],
   "source": [
    "add = lambda x, y,z : x + y-z \n",
    "print(add(2, 3,1)) \n",
    "#符合的保留\n",
    "a = filter(lambda x : x % 2 != 0, [1,2,3,4])\n",
    "list(a)\n",
    "a = map(lambda x : x + 10, [1,2,3,4])\n",
    "list(a)"
   ]
  },
  {
   "cell_type": "code",
   "execution_count": 44,
   "metadata": {},
   "outputs": [
    {
     "data": {
      "text/plain": [
       "10"
      ]
     },
     "execution_count": 44,
     "metadata": {},
     "output_type": "execute_result"
    }
   ],
   "source": [
    "from functools import reduce\n",
    "reduce(lambda x, y : x + y, [1,2,3,4])"
   ]
  },
  {
   "cell_type": "code",
   "execution_count": 46,
   "metadata": {},
   "outputs": [],
   "source": [
    "class car:\n",
    "    def __init_(self,name,ttype):\n",
    "        self.name=name\n",
    "        self.ttype=ttpye\n",
    "        \n",
    "    def start(self): # 普通方法\n",
    "        print(self.name, \"is gas\")"
   ]
  },
  {
   "cell_type": "code",
   "execution_count": 116,
   "metadata": {},
   "outputs": [
    {
     "name": "stdout",
     "output_type": "stream",
     "text": [
      "20\n",
      "xyf 说: 我 20 岁。\n"
     ]
    }
   ],
   "source": [
    "#OOP\n",
    "from people import People\n",
    "p=People(\"xyf\",20)\n",
    "print(p.age)\n",
    "p.speak()"
   ]
  },
  {
   "cell_type": "code",
   "execution_count": 50,
   "metadata": {},
   "outputs": [
    {
     "name": "stdout",
     "output_type": "stream",
     "text": [
      "xyf 说: 我 7 岁了，我在读 1 年级\n"
     ]
    }
   ],
   "source": [
    "from people import Student\n",
    "s=Student('xyf',7,1)\n",
    "s.speak()"
   ]
  },
  {
   "cell_type": "code",
   "execution_count": 120,
   "metadata": {},
   "outputs": [
    {
     "data": {
      "text/plain": [
       "True"
      ]
     },
     "execution_count": 120,
     "metadata": {},
     "output_type": "execute_result"
    }
   ],
   "source": [
    "isinstance(s, Student)\n",
    "#isinstance(s, People)"
   ]
  },
  {
   "cell_type": "code",
   "execution_count": 55,
   "metadata": {},
   "outputs": [
    {
     "name": "stdout",
     "output_type": "stream",
     "text": [
      "p override()\n",
      "c override()\n",
      "p altered()\n",
      "c, BEFORE p altered()\n",
      "p altered()\n",
      "c, AFTER p altered()\n"
     ]
    }
   ],
   "source": [
    "class Parent(object):\n",
    "    def override(self):\n",
    "        print(\"p override()\")\n",
    "\n",
    "    def altered(self):\n",
    "        print(\"p altered()\")\n",
    "\n",
    "class Child(Parent):\n",
    "    def override(self):\n",
    "        print(\"c override()\")\n",
    "\n",
    "    def altered(self):\n",
    "        print(\"c, BEFORE p altered()\")\n",
    "        super(Child, self).altered()#父类\n",
    "        print(\"c, AFTER p altered()\")\n",
    "        \n",
    "dad = Parent()\n",
    "son = Child()\n",
    "\n",
    "dad.override()\n",
    "son.override()\n",
    "\n",
    "dad.altered()\n",
    "son.altered()"
   ]
  },
  {
   "cell_type": "code",
   "execution_count": 53,
   "metadata": {},
   "outputs": [
    {
     "name": "stdout",
     "output_type": "stream",
     "text": [
      "2020-12-04\n"
     ]
    },
    {
     "data": {
      "text/plain": [
       "8217"
      ]
     },
     "execution_count": 53,
     "metadata": {},
     "output_type": "execute_result"
    }
   ],
   "source": [
    "from datetime import date\n",
    "now = date.today()\n",
    "print(now)\n",
    "now.strftime(\"%m-%d-%y. %d %b %Y is a %A on the %d day of %B.\")\n",
    "birthday = date(1998, 6, 6)\n",
    "age = now - birthday\n",
    "age.days"
   ]
  },
  {
   "cell_type": "code",
   "execution_count": 131,
   "metadata": {},
   "outputs": [
    {
     "data": {
      "text/plain": [
       "0.25"
      ]
     },
     "execution_count": 131,
     "metadata": {},
     "output_type": "execute_result"
    }
   ],
   "source": [
    "import statistics as s\n",
    "data=[2,2,2,3]\n",
    "s.mean(data)\n",
    "s.median(data)\n",
    "s.variance(data)"
   ]
  },
  {
   "cell_type": "code",
   "execution_count": 58,
   "metadata": {},
   "outputs": [
    {
     "name": "stdout",
     "output_type": "stream",
     "text": [
      "pear\n",
      "[6, 98, 65, 31, 22, 94, 74, 23, 1, 37]\n",
      "0.5248231141769922\n",
      "2\n"
     ]
    }
   ],
   "source": [
    "import random\n",
    "print(random.choice(['apple', 'pear', 'banana']))\n",
    "print(random.sample(range(100), 10))\n",
    "print(random.random())\n",
    "print(random.randrange(6))"
   ]
  },
  {
   "cell_type": "code",
   "execution_count": 142,
   "metadata": {},
   "outputs": [
    {
     "data": {
      "text/plain": [
       "module"
      ]
     },
     "execution_count": 142,
     "metadata": {},
     "output_type": "execute_result"
    }
   ],
   "source": [
    "type(random)"
   ]
  },
  {
   "cell_type": "code",
   "execution_count": 59,
   "metadata": {},
   "outputs": [
    {
     "name": "stdout",
     "output_type": "stream",
     "text": [
      "    <title>【学科前瞻三十年】张伟：聚焦非易失存储与类脑计算材料与技术的研发-西安交通大学新闻网</title><META Name=\"keywords\" Content=\"西安交通大学新闻网,学科,前瞻,三十,十年,张伟,聚焦,存储,计算,材料,技术,研发\" />\r\n",
      "\n",
      "<META Name=\"description\" Content=\"处于信息社会的今天，世界对数据存储和处理的需求呈指数级增长。全球范围内通过移动电子设备、高清视频设备、基础研究以及包括人工智能和超级计算在内的先进技术生成的数据量每两年翻一番。根据国际数据公司IDC预测，全球数据总和将从2018年的33ZB增长到2025年的175ZB（1ZB约为10亿TB）。如此巨大的数据量无疑给数据的存储与处理带来了巨大的压力。不仅如此，随着机器学习、人工智能、数据挖掘等新兴技术的不断发展，如何进一步...\" />\r\n",
      "\n",
      "    <h1 class=\"ssd\" style=\"text-align: center; margin-bottom: 15px;     margin-left: 110px;\">【学科前瞻三十年】张伟：聚焦非易失存储与类脑计算材料与技术的研发\r\n",
      "\n",
      "<p class=\"vsbcontent_start\">处于信息社会的今天，世界对数据存储和处理的需求呈指数级增长。全球范围内通过移动电子设备、高清视频设备、基础研究以及包括人工智能和超级计算在内的先进技术生成的数据量每两年翻一番。根据国际数据公司IDC预测，全球数据总和将从2018年的33ZB增长到2025年的175ZB（1ZB约为10亿TB）。如此巨大的数据量无疑给数据的存储与处理带来了巨大的压力。不仅如此，随着机器学习、人工智能、数据挖掘等新兴技术的不断发展，如何进一步提升数据处理的效率和能力已经成为当今信息社会亟待解决的关键问题。</p>\r\n",
      "\n",
      "<p>当前的计算设备均基于“存算分离”的冯诺依曼计算体系。在计算时，数据被从存储介质中提取传输至计算处理核心CPU运算或显卡GPU，计算结束后再传回存储介质。存储介质包含内置于CPU中的缓存SRAM，与CPU频繁传输数据的内存DRAM，以及固态硬盘SSD以及机械硬盘HDD。海量数据在各个器件之间的传递制约了算力的进一步提升，且造成约40%的无效能耗。因此研发新式存储与计算器件迫在眉睫。</p>\r\n",
      "\n",
      "<p>在存储器端，以断电数据是否消失为区分，可分为易失性的缓存和内存，其操作速度快但数据容量小，以及非易失性的固态盘和硬盘，存储容量大但存取速度慢。这些器件之间的性能差距持续大，导致它们之间的协同性太差，经常出现内部数据传输的延迟现象，导致计算效率大大降低。该问题无法通过提升各自器件的性能来解决。为提升算力，研究人员提出了新式“非易失性内存技术NVM”，兼具较快存储速度、较大容量以及非易失性质。期望以单一器件统一存储与内存实现“通用式内存”，消除数据存储端的传输壁垒。</p>\r\n",
      "\n",
      "<p>在计算端，研究人员提出了类脑计算模式，旨在利用电子器件模拟生物体大脑的工作方式，实现“存算一体”。核心思想是以存储单元阵列实现“内存内计算”或“类脑神经元计算”。基本原理是利用存储单元的多值特性，通过器件本征的物理性能（例如基尔霍夫定律与欧姆定律）来直接实现数据的处理，如向量—矩阵乘法、图形识别等计算。由于数据壁垒的消除以及大规模并行链接内存计算节点，类脑计算芯片的计算效率、能源效率以及体积效率可得到数量级式的提升，颠覆摩尔定律、解决内存墙、能源壁垒等问题。</p>\r\n",
      "\n",
      "<p>可实现非易失存储和类脑神经元计算的主要新式电子材料包括相变材料PCM、阻变氧化物、自旋电子材料、铁电材料、碳纳米管、二维层状材料、钙钛矿材料以及有机高分子等。而其中相变材料是最稳定的材料载体之一：基于锗锑碲合金的相变存储器PCRAM已经率先实现大规模商业化生产，并实用于数据中心等高兴能计算平台。以英特尔傲腾固态盘为例，其容量可达到TB量级，且读写速度可达现有固态硬盘速度的1000倍。相变存储器的基本原理利用相变材料的非晶态（逻辑“0”）和晶态（逻辑“1”）之间巨大的电阻差异实现数据存储。该类材料的晶相与非晶相在高温下可快速完成可逆转变，并在室温下良好的热稳定性，同时保证了非易失相变应用所需的操作速度和数据保持时间。此外，可通过逐步非晶化以及逐步结晶化的方式在单个相变内存单元中实现电阻连续变化，拟合神经元动力学，以内存单元阵列实现神经元以及神经元突触的高效模拟。目前IBM等公司已经实现了相变类脑计算雏形芯片的研发。以图像识别任务为例，相比于当前的计算设备而言，相变类脑芯片可将计算效率提升近100倍、能源消耗降低200倍且体积效率提升多个数量级。</p>\r\n",
      "\n",
      "<p>目前主流的相变存储材料为锗锑碲合金，但其较低的结晶化速度尚不足以替代内存与缓存实现通用式内存。此外，且由于锗锑碲非晶相自发的结构弛豫导致其非晶态电阻漂移，极大限制了单个内存单元中可长时间有效识别的逻辑态数。近期设计研发的钪锑碲合金利用结构适配且更加稳定的钪碲化学键来加速晶核的孕育过程，显著降低形核过程的随机性，大幅加快结晶化速度，实现了0.7纳秒的可逆操作。该合金将相变存储速度提升近15倍达到缓存速度量级，为实现通用内存技术奠定了重要基础。另一种新设计研发的相变异质结合金则利用稳定的钛碲纳米层将单体相变锑碲合金分割成数个相变纳米层，有效抑制了相变材料的非晶结构弛豫以及反复相变过程中的原子迁移问题，在单个相变内存单元中实现了9个逻辑态的长时稳定识别，为实现高性能类脑计算提供了理想的材料载体。上述两项工作均以西安交通大学为通讯作者单位发表于《科学》杂志。这些新式合金的工程化以及商业化过程正在稳步地推进，可以期待其在未来十年应用于具体的芯片产品。</p>\r\n",
      "\n",
      "<p>非易失存储与类脑计算技术属于典型的交叉学科，涉及材料、物理、生物、微电子以及计算机等多个学科方向，其微观机制的研究需要深入至原子尺度以及电子结构层面，材料制备工艺以及器件微加工水平则决定了器件的性能与服役寿命，而器件的集成与算法应用则需与计算机技术以及生物学原理相结合，从根本上突破传统的冯诺伊曼计算体系，实现存算一体的非冯诺伊曼计算架构，以硬件技术革新推动“通用人工智能AGI”的发展。可以预期未来数十年内是通用内存与类脑计算技术从基础研究转向颠覆性技术的关键时刻，亟需高校研究所与高科技企业深度配合进行产学研全方位发展与协同育人，为我国在人工智能以及信息化技术领域的布局与发展提供关键性支持。</p>\r\n",
      "\n",
      "<p class=\"vsbcontent_strong\" style=\"text-align: left;\"><strong>个人简介：</strong>张伟，西安交通大学材料学院教授、博士生导师。2004-2010年在浙江大学物理系获得学士、硕士学位，于2011-2015年在德国亚琛工业大学物理系获得博士学位从事博士后研究。留德期间获得德国博士学位最高荣誉Summa Cum Laude、亚琛工业大学授予的Borchers奖章。2015年5月加入西安交通大学材料学院微纳中心CAMP-Nano以及金属材料强度国家重点实验室。专注于相变存储与类脑计算领域研究，在Science (3)、Nat Mater (2)、Nat Rev Mater、Mater Today、Adv Mater、ACS Nano、PRL/PRB/APL等国际知名学术期刊上发表学术论文53篇。获2018新材料国际发展趋势高层论坛IFAM 青学科学家奖、2018国际相变存储年会最佳报告一等奖、王宽诚基金会学术讲座奖等。在MRS、EPCOS等国际会议上做邀请报告20余次，并指导研究生获得 7个国际会议最佳展板报告奖。</p>\r\n",
      "\n",
      "    //发送POST数据\r\n",
      "\n"
     ]
    }
   ],
   "source": [
    "from urllib.request import urlopen\n",
    "with urlopen('http://news.xjtu.edu.cn/info/1033/125716.htm') as response:\n",
    "    for line in response:\n",
    "        line=line.decode('utf-8')\n",
    "        if '存储' in line or '数据' in line:\n",
    "            print(line)"
   ]
  },
  {
   "cell_type": "code",
   "execution_count": null,
   "metadata": {},
   "outputs": [],
   "source": []
  }
 ],
 "metadata": {
  "kernelspec": {
   "display_name": "Python 3",
   "language": "python",
   "name": "python3"
  },
  "language_info": {
   "codemirror_mode": {
    "name": "ipython",
    "version": 3
   },
   "file_extension": ".py",
   "mimetype": "text/x-python",
   "name": "python",
   "nbconvert_exporter": "python",
   "pygments_lexer": "ipython3",
   "version": "3.7.3"
  }
 },
 "nbformat": 4,
 "nbformat_minor": 2
}
