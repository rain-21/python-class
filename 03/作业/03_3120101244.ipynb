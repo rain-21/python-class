{
 "cells": [
  {
   "cell_type": "code",
   "execution_count": 15,
   "metadata": {},
   "outputs": [],
   "source": [
    "from lxml import etree\n",
    "import requests\n",
    "if __name__==\"__main__\":\n",
    "    url='https://nt.58.com/ershoufang/'\n",
    "    headers={\n",
    "        'User-Agent': 'Mozilla/5.0 (Windows NT 10.0; Win64; x64) AppleWebKit/537.36 (KHTML, like Gecko) Chrome/87.0.4280.67 Safari/537.36 Edg/87.0.664.55'\n",
    "    }\n",
    "    page_text=requests.get(url=url,headers=headers).text\n",
    "    tree=etree.HTML(page_text)\n",
    "    li_list=tree.xpath('//ul[@class=\"house-list-wrap\"]/li')\n",
    "    fp=open('./58.txt','w',encoding='utf-8')\n",
    "    for li in li_list:\n",
    "        title=li.xpath('./div[2]/h2/a/text()')[0]\n",
    "        price=li.xpath('./div[3]/p[1]/b/text()')[0]\n",
    "        a=title+price\n",
    "        fp.write(a+'\\n')\n",
    "    fp.close()"
   ]
  },
  {
   "cell_type": "code",
   "execution_count": 37,
   "metadata": {},
   "outputs": [
    {
     "ename": "MissingSchema",
     "evalue": "Invalid URL 'img_src': No schema supplied. Perhaps you meant http://img_src?",
     "output_type": "error",
     "traceback": [
      "\u001b[1;31m---------------------------------------------------------------------------\u001b[0m",
      "\u001b[1;31mMissingSchema\u001b[0m                             Traceback (most recent call last)",
      "\u001b[1;32m<ipython-input-37-8ca13ca8252c>\u001b[0m in \u001b[0;36m<module>\u001b[1;34m\u001b[0m\n\u001b[0;32m     18\u001b[0m         \u001b[0mimg_name\u001b[0m\u001b[1;33m=\u001b[0m\u001b[0mli\u001b[0m\u001b[1;33m.\u001b[0m\u001b[0mxpath\u001b[0m\u001b[1;33m(\u001b[0m\u001b[1;34m'./a/img/@alt'\u001b[0m\u001b[1;33m)\u001b[0m\u001b[1;33m[\u001b[0m\u001b[1;36m0\u001b[0m\u001b[1;33m]\u001b[0m\u001b[1;33m+\u001b[0m\u001b[1;34m'.jpg'\u001b[0m\u001b[1;33m\u001b[0m\u001b[1;33m\u001b[0m\u001b[0m\n\u001b[0;32m     19\u001b[0m         \u001b[0mimg_path\u001b[0m\u001b[1;33m=\u001b[0m\u001b[1;34m'./picture'\u001b[0m\u001b[1;33m+\u001b[0m\u001b[0mimg_name\u001b[0m\u001b[1;33m\u001b[0m\u001b[1;33m\u001b[0m\u001b[0m\n\u001b[1;32m---> 20\u001b[1;33m         \u001b[0mimg_data\u001b[0m\u001b[1;33m=\u001b[0m\u001b[0mrequests\u001b[0m\u001b[1;33m.\u001b[0m\u001b[0mget\u001b[0m\u001b[1;33m(\u001b[0m\u001b[0murl\u001b[0m\u001b[1;33m=\u001b[0m\u001b[1;34m'img_src'\u001b[0m\u001b[1;33m,\u001b[0m\u001b[0mheaders\u001b[0m\u001b[1;33m=\u001b[0m\u001b[0mheaders\u001b[0m\u001b[1;33m)\u001b[0m\u001b[1;33m\u001b[0m\u001b[1;33m\u001b[0m\u001b[0m\n\u001b[0m\u001b[0;32m     21\u001b[0m         \u001b[1;32mwith\u001b[0m \u001b[0mopen\u001b[0m\u001b[1;33m(\u001b[0m\u001b[1;34m'img_path'\u001b[0m\u001b[1;33m,\u001b[0m\u001b[1;34m'wb'\u001b[0m\u001b[1;33m)\u001b[0m \u001b[1;32mas\u001b[0m \u001b[0mfp\u001b[0m\u001b[1;33m:\u001b[0m\u001b[1;33m\u001b[0m\u001b[1;33m\u001b[0m\u001b[0m\n\u001b[0;32m     22\u001b[0m             \u001b[0mfp\u001b[0m\u001b[1;33m.\u001b[0m\u001b[0mwrite\u001b[0m\u001b[1;33m(\u001b[0m\u001b[0mimg_data\u001b[0m\u001b[1;33m)\u001b[0m\u001b[1;33m\u001b[0m\u001b[1;33m\u001b[0m\u001b[0m\n",
      "\u001b[1;32mC:\\ProgramData\\Anaconda3\\lib\\site-packages\\requests\\api.py\u001b[0m in \u001b[0;36mget\u001b[1;34m(url, params, **kwargs)\u001b[0m\n\u001b[0;32m     74\u001b[0m \u001b[1;33m\u001b[0m\u001b[0m\n\u001b[0;32m     75\u001b[0m     \u001b[0mkwargs\u001b[0m\u001b[1;33m.\u001b[0m\u001b[0msetdefault\u001b[0m\u001b[1;33m(\u001b[0m\u001b[1;34m'allow_redirects'\u001b[0m\u001b[1;33m,\u001b[0m \u001b[1;32mTrue\u001b[0m\u001b[1;33m)\u001b[0m\u001b[1;33m\u001b[0m\u001b[1;33m\u001b[0m\u001b[0m\n\u001b[1;32m---> 76\u001b[1;33m     \u001b[1;32mreturn\u001b[0m \u001b[0mrequest\u001b[0m\u001b[1;33m(\u001b[0m\u001b[1;34m'get'\u001b[0m\u001b[1;33m,\u001b[0m \u001b[0murl\u001b[0m\u001b[1;33m,\u001b[0m \u001b[0mparams\u001b[0m\u001b[1;33m=\u001b[0m\u001b[0mparams\u001b[0m\u001b[1;33m,\u001b[0m \u001b[1;33m**\u001b[0m\u001b[0mkwargs\u001b[0m\u001b[1;33m)\u001b[0m\u001b[1;33m\u001b[0m\u001b[1;33m\u001b[0m\u001b[0m\n\u001b[0m\u001b[0;32m     77\u001b[0m \u001b[1;33m\u001b[0m\u001b[0m\n\u001b[0;32m     78\u001b[0m \u001b[1;33m\u001b[0m\u001b[0m\n",
      "\u001b[1;32mC:\\ProgramData\\Anaconda3\\lib\\site-packages\\requests\\api.py\u001b[0m in \u001b[0;36mrequest\u001b[1;34m(method, url, **kwargs)\u001b[0m\n\u001b[0;32m     59\u001b[0m     \u001b[1;31m# cases, and look like a memory leak in others.\u001b[0m\u001b[1;33m\u001b[0m\u001b[1;33m\u001b[0m\u001b[1;33m\u001b[0m\u001b[0m\n\u001b[0;32m     60\u001b[0m     \u001b[1;32mwith\u001b[0m \u001b[0msessions\u001b[0m\u001b[1;33m.\u001b[0m\u001b[0mSession\u001b[0m\u001b[1;33m(\u001b[0m\u001b[1;33m)\u001b[0m \u001b[1;32mas\u001b[0m \u001b[0msession\u001b[0m\u001b[1;33m:\u001b[0m\u001b[1;33m\u001b[0m\u001b[1;33m\u001b[0m\u001b[0m\n\u001b[1;32m---> 61\u001b[1;33m         \u001b[1;32mreturn\u001b[0m \u001b[0msession\u001b[0m\u001b[1;33m.\u001b[0m\u001b[0mrequest\u001b[0m\u001b[1;33m(\u001b[0m\u001b[0mmethod\u001b[0m\u001b[1;33m=\u001b[0m\u001b[0mmethod\u001b[0m\u001b[1;33m,\u001b[0m \u001b[0murl\u001b[0m\u001b[1;33m=\u001b[0m\u001b[0murl\u001b[0m\u001b[1;33m,\u001b[0m \u001b[1;33m**\u001b[0m\u001b[0mkwargs\u001b[0m\u001b[1;33m)\u001b[0m\u001b[1;33m\u001b[0m\u001b[1;33m\u001b[0m\u001b[0m\n\u001b[0m\u001b[0;32m     62\u001b[0m \u001b[1;33m\u001b[0m\u001b[0m\n\u001b[0;32m     63\u001b[0m \u001b[1;33m\u001b[0m\u001b[0m\n",
      "\u001b[1;32mC:\\ProgramData\\Anaconda3\\lib\\site-packages\\requests\\sessions.py\u001b[0m in \u001b[0;36mrequest\u001b[1;34m(self, method, url, params, data, headers, cookies, files, auth, timeout, allow_redirects, proxies, hooks, stream, verify, cert, json)\u001b[0m\n\u001b[0;32m    514\u001b[0m             \u001b[0mhooks\u001b[0m\u001b[1;33m=\u001b[0m\u001b[0mhooks\u001b[0m\u001b[1;33m,\u001b[0m\u001b[1;33m\u001b[0m\u001b[1;33m\u001b[0m\u001b[0m\n\u001b[0;32m    515\u001b[0m         )\n\u001b[1;32m--> 516\u001b[1;33m         \u001b[0mprep\u001b[0m \u001b[1;33m=\u001b[0m \u001b[0mself\u001b[0m\u001b[1;33m.\u001b[0m\u001b[0mprepare_request\u001b[0m\u001b[1;33m(\u001b[0m\u001b[0mreq\u001b[0m\u001b[1;33m)\u001b[0m\u001b[1;33m\u001b[0m\u001b[1;33m\u001b[0m\u001b[0m\n\u001b[0m\u001b[0;32m    517\u001b[0m \u001b[1;33m\u001b[0m\u001b[0m\n\u001b[0;32m    518\u001b[0m         \u001b[0mproxies\u001b[0m \u001b[1;33m=\u001b[0m \u001b[0mproxies\u001b[0m \u001b[1;32mor\u001b[0m \u001b[1;33m{\u001b[0m\u001b[1;33m}\u001b[0m\u001b[1;33m\u001b[0m\u001b[1;33m\u001b[0m\u001b[0m\n",
      "\u001b[1;32mC:\\ProgramData\\Anaconda3\\lib\\site-packages\\requests\\sessions.py\u001b[0m in \u001b[0;36mprepare_request\u001b[1;34m(self, request)\u001b[0m\n\u001b[0;32m    447\u001b[0m \u001b[1;33m\u001b[0m\u001b[0m\n\u001b[0;32m    448\u001b[0m         \u001b[0mp\u001b[0m \u001b[1;33m=\u001b[0m \u001b[0mPreparedRequest\u001b[0m\u001b[1;33m(\u001b[0m\u001b[1;33m)\u001b[0m\u001b[1;33m\u001b[0m\u001b[1;33m\u001b[0m\u001b[0m\n\u001b[1;32m--> 449\u001b[1;33m         p.prepare(\n\u001b[0m\u001b[0;32m    450\u001b[0m             \u001b[0mmethod\u001b[0m\u001b[1;33m=\u001b[0m\u001b[0mrequest\u001b[0m\u001b[1;33m.\u001b[0m\u001b[0mmethod\u001b[0m\u001b[1;33m.\u001b[0m\u001b[0mupper\u001b[0m\u001b[1;33m(\u001b[0m\u001b[1;33m)\u001b[0m\u001b[1;33m,\u001b[0m\u001b[1;33m\u001b[0m\u001b[1;33m\u001b[0m\u001b[0m\n\u001b[0;32m    451\u001b[0m             \u001b[0murl\u001b[0m\u001b[1;33m=\u001b[0m\u001b[0mrequest\u001b[0m\u001b[1;33m.\u001b[0m\u001b[0murl\u001b[0m\u001b[1;33m,\u001b[0m\u001b[1;33m\u001b[0m\u001b[1;33m\u001b[0m\u001b[0m\n",
      "\u001b[1;32mC:\\ProgramData\\Anaconda3\\lib\\site-packages\\requests\\models.py\u001b[0m in \u001b[0;36mprepare\u001b[1;34m(self, method, url, headers, files, data, params, auth, cookies, hooks, json)\u001b[0m\n\u001b[0;32m    312\u001b[0m \u001b[1;33m\u001b[0m\u001b[0m\n\u001b[0;32m    313\u001b[0m         \u001b[0mself\u001b[0m\u001b[1;33m.\u001b[0m\u001b[0mprepare_method\u001b[0m\u001b[1;33m(\u001b[0m\u001b[0mmethod\u001b[0m\u001b[1;33m)\u001b[0m\u001b[1;33m\u001b[0m\u001b[1;33m\u001b[0m\u001b[0m\n\u001b[1;32m--> 314\u001b[1;33m         \u001b[0mself\u001b[0m\u001b[1;33m.\u001b[0m\u001b[0mprepare_url\u001b[0m\u001b[1;33m(\u001b[0m\u001b[0murl\u001b[0m\u001b[1;33m,\u001b[0m \u001b[0mparams\u001b[0m\u001b[1;33m)\u001b[0m\u001b[1;33m\u001b[0m\u001b[1;33m\u001b[0m\u001b[0m\n\u001b[0m\u001b[0;32m    315\u001b[0m         \u001b[0mself\u001b[0m\u001b[1;33m.\u001b[0m\u001b[0mprepare_headers\u001b[0m\u001b[1;33m(\u001b[0m\u001b[0mheaders\u001b[0m\u001b[1;33m)\u001b[0m\u001b[1;33m\u001b[0m\u001b[1;33m\u001b[0m\u001b[0m\n\u001b[0;32m    316\u001b[0m         \u001b[0mself\u001b[0m\u001b[1;33m.\u001b[0m\u001b[0mprepare_cookies\u001b[0m\u001b[1;33m(\u001b[0m\u001b[0mcookies\u001b[0m\u001b[1;33m)\u001b[0m\u001b[1;33m\u001b[0m\u001b[1;33m\u001b[0m\u001b[0m\n",
      "\u001b[1;32mC:\\ProgramData\\Anaconda3\\lib\\site-packages\\requests\\models.py\u001b[0m in \u001b[0;36mprepare_url\u001b[1;34m(self, url, params)\u001b[0m\n\u001b[0;32m    386\u001b[0m             \u001b[0merror\u001b[0m \u001b[1;33m=\u001b[0m \u001b[0merror\u001b[0m\u001b[1;33m.\u001b[0m\u001b[0mformat\u001b[0m\u001b[1;33m(\u001b[0m\u001b[0mto_native_string\u001b[0m\u001b[1;33m(\u001b[0m\u001b[0murl\u001b[0m\u001b[1;33m,\u001b[0m \u001b[1;34m'utf8'\u001b[0m\u001b[1;33m)\u001b[0m\u001b[1;33m)\u001b[0m\u001b[1;33m\u001b[0m\u001b[1;33m\u001b[0m\u001b[0m\n\u001b[0;32m    387\u001b[0m \u001b[1;33m\u001b[0m\u001b[0m\n\u001b[1;32m--> 388\u001b[1;33m             \u001b[1;32mraise\u001b[0m \u001b[0mMissingSchema\u001b[0m\u001b[1;33m(\u001b[0m\u001b[0merror\u001b[0m\u001b[1;33m)\u001b[0m\u001b[1;33m\u001b[0m\u001b[1;33m\u001b[0m\u001b[0m\n\u001b[0m\u001b[0;32m    389\u001b[0m \u001b[1;33m\u001b[0m\u001b[0m\n\u001b[0;32m    390\u001b[0m         \u001b[1;32mif\u001b[0m \u001b[1;32mnot\u001b[0m \u001b[0mhost\u001b[0m\u001b[1;33m:\u001b[0m\u001b[1;33m\u001b[0m\u001b[1;33m\u001b[0m\u001b[0m\n",
      "\u001b[1;31mMissingSchema\u001b[0m: Invalid URL 'img_src': No schema supplied. Perhaps you meant http://img_src?"
     ]
    }
   ],
   "source": [
    "from lxml import etree\n",
    "import requests\n",
    "import os\n",
    "if __name__==\"__main__\":\n",
    "    url='http://pic.netbian.com/4kmeinv/'\n",
    "    headers={\n",
    "        'User-Agent': 'Mozilla/5.0 (Windows NT 10.0; Win64; x64) AppleWebKit/537.36 (KHTML, like Gecko) Chrome/87.0.4280.67 Safari/537.36 Edg/87.0.664.55'\n",
    "    }\n",
    "    if not os.path.exists('./picture'):\n",
    "        os.mkdir('./picture')\n",
    "    response=requests.get(url=url,headers=headers)\n",
    "    response.encoding='utf-8'\n",
    "    page_text=response.text\n",
    "    tree=etree.HTML(page_text)\n",
    "    li_list=tree.xpath('//div[@class=\"slist\"]/ul/li')\n",
    "    for li in li_list:\n",
    "        img_src='http://pic.netbian.com'+li.xpath('./a/img/@src')[0]\n",
    "        img_name=li.xpath('./a/img/@alt')[0]+'.jpg'\n",
    "        img_path='./picture'+img_name\n",
    "        img_data=requests.get(url='img_src',headers=headers)\n",
    "        with open('img_path','wb') as fp:\n",
    "            fp.write(img_data)"
   ]
  },
  {
   "cell_type": "code",
   "execution_count": 4,
   "metadata": {},
   "outputs": [
    {
     "name": "stdout",
     "output_type": "stream",
     "text": [
      "['北京', '上海', '广州', '深圳', '杭州', '天津', '成都', '南京', '西安', '武汉', '阿坝州', '安康', '阿克苏地区', '阿里地区', '阿拉善盟', '阿勒泰地区', '安庆', '安顺', '鞍山', '克孜勒苏州', '安阳', '蚌埠', '白城', '保定', '北海', '宝鸡', '北京', '毕节', '博州', '白山', '百色', '保山', '白沙', '包头', '保亭', '本溪', '巴彦淖尔', '白银', '巴中', '滨州', '亳州', '长春', '昌都', '常德', '成都', '承德', '赤峰', '昌吉州', '五家渠', '昌江', '澄迈', '重庆', '长沙', '常熟', '楚雄州', '朝阳', '沧州', '长治', '常州', '潮州', '郴州', '池州', '崇左', '滁州', '定安', '丹东', '东方', '东莞', '德宏州', '大理州', '大连', '大庆', '大同', '定西', '大兴安岭地区', '德阳', '东营', '黔南州', '达州', '德州', '儋州', '鄂尔多斯', '恩施州', '鄂州', '防城港', '佛山', '抚顺', '阜新', '阜阳', '富阳', '抚州', '福州', '广安', '贵港', '桂林', '果洛州', '甘南州', '固原', '广元', '贵阳', '甘孜州', '赣州', '广州', '淮安', '海北州', '鹤壁', '淮北', '河池', '海东地区', '邯郸', '哈尔滨', '合肥', '鹤岗', '黄冈', '黑河', '红河州', '怀化', '呼和浩特', '海口', '呼伦贝尔', '葫芦岛', '哈密地区', '海门', '海南州', '淮南', '黄南州', '衡水', '黄山', '黄石', '和田地区', '海西州', '河源', '衡阳', '汉中', '杭州', '菏泽', '贺州', '湖州', '惠州', '吉安', '金昌', '晋城', '景德镇', '金华', '西双版纳州', '九江', '吉林', '即墨', '江门', '荆门', '佳木斯', '济南', '济宁', '胶南', '酒泉', '句容', '湘西州', '金坛', '鸡西', '嘉兴', '江阴', '揭阳', '济源', '嘉峪关', '胶州', '焦作', '锦州', '晋中', '荆州', '库尔勒', '开封', '黔东南州', '克拉玛依', '昆明', '喀什地区', '昆山', '临安', '六安', '来宾', '聊城', '临沧', '娄底', '乐东', '廊坊', '临汾', '临高', '漯河', '丽江', '吕梁', '陇南', '六盘水', '拉萨', '乐山', '丽水', '凉山州', '陵水', '莱芜', '莱西', '临夏州', '溧阳', '辽阳', '辽源', '临沂', '龙岩', '洛阳', '连云港', '莱州', '兰州', '林芝', '柳州', '泸州', '马鞍山', '牡丹江', '茂名', '眉山', '绵阳', '梅州', '宁波', '南昌', '南充', '宁德', '内江', '南京', '怒江州', '南宁', '南平', '那曲地区', '南通', '南阳', '平度', '平顶山', '普洱', '盘锦', '蓬莱', '平凉', '莆田', '萍乡', '濮阳', '攀枝花', '青岛', '琼海', '秦皇岛', '曲靖', '齐齐哈尔', '七台河', '黔西南州', '清远', '庆阳', '钦州', '衢州', '泉州', '琼中', '荣成', '日喀则', '乳山', '日照', '韶关', '寿光', '上海', '绥化', '石河子', '石家庄', '商洛', '三明', '三门峡', '山南', '遂宁', '四平', '商丘', '宿迁', '上饶', '汕头', '汕尾', '绍兴', '三亚', '邵阳', '沈阳', '十堰', '松原', '双鸭山', '深圳', '朔州', '宿州', '随州', '苏州', '石嘴山', '泰安', '塔城地区', '太仓', '铜川', '屯昌', '通化', '天津', '铁岭', '通辽', '铜陵', '吐鲁番地区', '铜仁地区', '唐山', '天水', '太原', '台州', '泰州', '文昌', '文登', '潍坊', '瓦房店', '威海', '乌海', '芜湖', '武汉', '吴江', '乌兰察布', '乌鲁木齐', '渭南', '万宁', '文山州', '武威', '无锡', '温州', '吴忠', '梧州', '五指山', '西安', '兴安盟', '许昌', '宣城', '襄阳', '孝感', '迪庆州', '锡林郭勒盟', '厦门', '西宁', '咸宁', '湘潭', '邢台', '新乡', '咸阳', '新余', '信阳', '忻州', '徐州', '雅安', '延安', '延边州', '宜宾', '盐城', '宜昌', '宜春', '银川', '运城', '伊春', '云浮', '阳江', '营口', '榆林', '玉林', '伊犁哈萨克州', '阳泉', '玉树州', '烟台', '鹰潭', '义乌', '宜兴', '玉溪', '益阳', '岳阳', '扬州', '永州', '淄博', '自贡', '珠海', '湛江', '镇江', '诸暨', '张家港', '张家界', '张家口', '周口', '驻马店', '章丘', '肇庆', '中山', '舟山', '昭通', '中卫', '张掖', '招远', '资阳', '遵义', '枣庄', '漳州', '郑州', '株洲'] 394\n"
     ]
    }
   ],
   "source": [
    "import requests\n",
    "from lxml import etree\n",
    "if __name__==\"__main__\":\n",
    "    headers={\n",
    "        'User-Agent': 'Mozilla/5.0 (Windows NT 10.0; Win64; x64) AppleWebKit/537.36 (KHTML, like Gecko) Chrome/87.0.4280.67 Safari/537.36 Edg/87.0.664.55'\n",
    "    }\n",
    "    url='https://www.aqistudy.cn/historydata/'\n",
    "    page_text=requests.get(url=url,headers=headers).text\n",
    "    tree=etree.HTML(page_text)\n",
    "    hot_li_list=tree.xpath(\"//div[@class='bottom']/ul/li\")\n",
    "    all_city_names=[]\n",
    "    for li in hot_li_list:\n",
    "        hot_city_name=li.xpath('./a/text()')[0]\n",
    "        all_city_names.append(hot_city_name)\n",
    "    city_names=tree.xpath('//div[@class=\"bottom\"]/ul/div[2]/li')\n",
    "    for li in city_names:\n",
    "        city_name=li.xpath('./a/text()')[0]\n",
    "        all_city_names.append(city_name)\n",
    "    print(all_city_names,len(all_city_names))"
   ]
  },
  {
   "cell_type": "code",
   "execution_count": 18,
   "metadata": {},
   "outputs": [],
   "source": [
    "import requests\n",
    "from lxml import etree\n",
    "if __name__=='__main__':\n",
    "    url='https://www.aqistudy.cn/historydata/'\n",
    "    headers={\n",
    "         'User-Agent': 'Mozilla/5.0 (Windows NT 10.0; Win64; x64) AppleWebKit/537.36 (KHTML, like Gecko) Chrome/87.0.4280.67 Safari/537.36 Edg/87.0.664.55'\n",
    "    }\n",
    "    page_text=requests.get(url=url,headers=headers).text\n",
    "    tree=etree.HTML(page_text)\n",
    "    all_city_name=[]\n",
    "    all_city_li=tree.xpath('//div[@class=\"bottom\"]/ul/li | //div[@class=\"bottom\"]/ul/div[2]/li')\n",
    "    fp=open('./城市名称','w',encoding='utf-8')\n",
    "    for li in all_city_li:\n",
    "        fp.write(li.xpath('./a/text()')[0]+'    ')\n",
    "    fp.close()"
   ]
  },
  {
   "cell_type": "code",
   "execution_count": 17,
   "metadata": {},
   "outputs": [],
   "source": [
    "from PIL import Image,ImageFilter\n",
    "#转换图像模式\n",
    "image_file=Image.open('./Girl/【SR】siren私人的直播.jpg')\n",
    "image_file=image_file.convert('1')\n",
    "image_file.show()"
   ]
  },
  {
   "cell_type": "code",
   "execution_count": 18,
   "metadata": {},
   "outputs": [
    {
     "name": "stdout",
     "output_type": "stream",
     "text": [
      "650 366\n"
     ]
    }
   ],
   "source": [
    "fp=Image.open('./Girl/【娱加】万里挑一的直播.jpg')\n",
    "w,h=fp.size\n",
    "print(w,h)\n",
    "fp.thumbnail((w//2,h//2))\n",
    "fp=fp.filter(ImageFilter.BLUR)\n",
    "fp.show()"
   ]
  },
  {
   "cell_type": "code",
   "execution_count": 47,
   "metadata": {},
   "outputs": [
    {
     "name": "stdout",
     "output_type": "stream",
     "text": [
      "d\n"
     ]
    }
   ],
   "source": [
    "from PIL import Image,ImageFilter,ImageFont,ImageDraw\n",
    "import random\n",
    "import string\n",
    "print(random.choice(string.ascii_letters))\n",
    "def rndChar():\n",
    "    return chr(random.randint(65,90))\n",
    "def getrand1(num,many):#num 位数 many个数\n",
    "    for x in range(many):\n",
    "        s=''\n",
    "        for i in range(num):\n",
    "            n=random.randint(1,2)#n=1 生成数字 2生成字母\n",
    "            if n==1:\n",
    "                numb=random.randint(0,9)\n",
    "                s+=str(numb)\n",
    "            else:\n",
    "                s+=str(random.choice(string.ascii_letters))\n",
    "    return s\n",
    "def ranColor():\n",
    "    return (random.randint(64,255),random.randint(64,255),random.randint(64,255))\n",
    "def ranColor1():\n",
    "    return (random.randint(32,127),random.randint(32,127),random.randint(32,127))\n",
    "a=rndChar()\n",
    "b=rndChar()\n",
    "c=rndChar()\n",
    "d=rndChar()\n",
    "width=60*4\n",
    "height=60\n",
    "image=Image.new('RGB',(width,height),(255,255,255))\n",
    "#指定字体 大小\n",
    "font=ImageFont.truetype('arialbd.ttf',36)\n",
    "draw=ImageDraw.Draw(image)\n",
    "for t in range(4):\n",
    "    draw.text((60*x+10,10),getrand1(1,4),font=font,fill=(255,255,255))\n",
    "for x in range(width):\n",
    "    for y in range(height):\n",
    "        draw.point((x,y),fill=ranColor1())\n",
    "for t in range(4):\n",
    "    draw.text((60*x+10,10),getrand1(1,4),font=font,fill=(255,255,255))\n",
    "image.show()"
   ]
  },
  {
   "cell_type": "code",
   "execution_count": null,
   "metadata": {},
   "outputs": [
    {
     "name": "stdout",
     "output_type": "stream",
     "text": [
      "����\u0000\u0010JFIF\u0000\u0001\u0002\u0000\u0000\u0001\u0000\u0001\u0000\u0000��\u0000C\u0006\u0006\u0007\u0006\u0007\u0007\u0007\t\n",
      "\u00182!\u001c",
      "!22222222222222222222222222222222222222222222222222��\u0000\u0000d\u0000�\u0003\u0001\"\u0000\u0002\u0011\u0001\u0003\u0011\u0001��\u0000\u001f\u0000\u0000\u0001\u0005\u0001\u0001\u0001\u0001\u0001\u0001\u0000\u0000\u0000\u0000\u0000\u0000\u0000\u0000\u0001\u0002\u0003\u0004\u0005\u0006\t\n",
      "\u000b",
      "��\u0000�\u0010\u0000\u0002\u0001\u0003\u0003\u0002\u0004\u0003\u0005\u0005\u0004\u0004\u0000\u0000\u0001}\u0001\u0002\u0003\u0000\u0004\u0011\u0005\u0012!1A\u0006\u0013Qa\u0007\"q\u00142��#B��\u0015R��$3br�\t\n",
      "\u0016\u0017\u0018\u0019\u001a%&'()*456789:CDEFGHIJSTUVWXYZcdefghijstuvwxyz���������������������������������������������������������������������������\u0000\u001f\u0001\u0000\u0003\u0001\u0001\u0001\u0001\u0001\u0001\u0001\u0001\u0001\u0000\u0000\u0000\u0000\u0000\u0000\u0001\u0002\u0003\u0004\u0005\u0006\t\n",
      "\u000b",
      "��\u0000�\u0011\u0000\u0002\u0001\u0002\u0004\u0004\u0003\u0004\u0007\u0005\u0004\u0004\u0000\u0001\u0002w\u0000\u0001\u0002\u0003\u0011\u0004\u0005!1\u0006\u0012AQ\u0007aq\u0013\"2\u0014B����\t#3R�\u0015br�\n",
      "\u000e��i\f",
      "b�Fp\u0000\u001f9�?\u001a��}PjVOrS�Tb\u000f>�.-\u0017\u0019'��0�$�\u0007sN�hfϕ*>:�`q^w���WF\u0018Y��N\u0015GV>��:\u001e",
      "�k\u0012ެ\u0012(_�r�̿�Z~�MX���+����$�[��M\"�\u001a\f",
      "�1�\u0002�]\u001f��\f",
      "f-I\u001aM��t\u001f1>��+]6}a����#��\u000eQ}\u000b",
      "��?�C�[�\u0019�|&���.�\u000b",
      "�\u00142�;�\u001b�1�\u000f�\u0001�\u0015����\u0000\u0000\u000e\u0005J����8\u000e(���\u0014�<1EJ����Q]���\u0018U$�\u0003&���u�3��MJ�$�γo���w(�\u001a�ކ���:\u0006C�q�VTV\u0005�����}���V�\u0012\u0007pz.A�Պ��\tԭ������q�dU��E���'��s����]�1��(\u0018\u0002���\u0017q�F��U\u0018\u0002�(�(�/�\u0016�/���\u000e3�����p$W���5*���i�˹$�q��o��a�9\"\u0012+\u0002��sR�Eŧ�0��J���\u0014\u0012�a�\u0003ҹ=kYye6��+�_�U���\u0019��荌d\f",
      "�~�r�v.}l��(�TW\n",
      "���\u0017s����\u0010�\u0000t\f",
      "\u0000;}j�[I\u000e�q6ߑ�T61���i�&e��D\u001a\\B�S�_�\\g=��U�O�r�v�y��̖��\"8q� \u001a�������K\u0017$���H�\u0000&������DwOo\u0014�\tcW���k/\\X��\u0006qo\u0018��B�GR{��\u001a��5�CG\"ugPyY\u000f=�����k��Q�\u0011o;vH\u001d",
      "�;��B�M\u001a9��s#Ð-ƻj�\f",
      "�|�^�y�2�\u001b\u001d",
      ":!s|G#?$C��o�Z�\u0018o���3��\u0017��<pkմ�6�L�\u0010[G�z�y,}I�iյ�E7\u001d",
      "\u000f:�>�.�,S��_<\u0012�\u0014(ߞ@\u001e",
      "�+��&�҆�.\u0018�_�\u0012};���}�����`n�\u0012\u0003鎿�yΏzt�^��tI\u0001oqޚ�᨟��+\u001e",
      "ڢ�QMQR��c�\u000e\u0003�)�qE!�\u0018��QLQS(���(��-����Jі\u0001<-\u0019���)�V�\u0014\u0012T��\u0015Yo�����N\u0017�84n\u001bnP�\u0016�V��J���k\u0003\u0003rA\u0000\u001fj�X�u\u0018��5U\u001c",
      "a�O�fw��;ljh�\u0019.��p��QX�v�*�+�����U\u0002����\u0000�\u0010��\u001f�Q-Y�n�5�г�i\t\u001b�\u000b",
      "�\\\u0013�+�f��'��d��N�*v��/\u001a\u0016�Y6pw����2��8$]�N��1�\u0018�>�Ҳ�2wv7,�6�\u0001�L\u001c",
      "���\u0018��\u0000Z�o��\u0000+D�\u0018v�\u00199\u001d",
      "���<�+cas�5K�\n",
      "\u0003LFI\u0019\u001d",
      "����\u0018�EwyZ{��H\f",
      "��g��{w'�P���+-\u0011�ŵ';�@\u0007�ߎ����3��c�.&\u0018�IH�O�=k�״V��ϷP`~F�ե�}r(��WO���lz}*���\"\u001e",
      "��c��\u001fQ��k북^$-�D�t\u0000O-߽r\n",
      "9#\u001f�_�\u001a��H�Ӫ\u0004�\"U��N����)�MB�lՈm�6�QL:�\u0006�d��nl�NC�l�\u0015�~!�&ҤGP^\u00026�\u0003����VC\u0012��mܛ[9����\u0000f�E̮���%�#���\\i�P�ݒ\u0017S� ��1�\f",
      "��^Ӭ]Ee��M+\u0000\u0004d\u000ey$���~��K�J\u000b",
      "t\u001b�Y\u0002�f�\u001d",
      "��\u001a��q�.�p4�|ƥ��歨��G\u0012 �\u0014\u00003S��c�\u000e\u0003�)�qE!�\u0018��QMQR����E+��/�{~d<\u0012;U�\u001b%�L��F��:\u000b",
      "X�vt\\3u��^]}�\u0001 MĶ�3���(o�\u0004���P\u000b",
      "t{�_�q�\u0003��V=��]ު���S����XF\u0017��8�kWM�:}��&\t�2\u000f��)셻�6c@�\u0014\f",
      "\u0001S(���TVF�%߇��\u001e",
      "v�\u0001\u0018���\tɷ�w\n",
      "NG\f",
      "1�t�*e\u0014s4>T�G\u0001>�n�4\f",
      "r8+���o��+\f",
      "[�}�X\f",
      "}I�^�\u00100�\u0000A�je\u0014�ؽ�H��ŜP�\u0015��V�\t\u0002���r\u001aKV\u0011����\u0000��QR���kcW\u0014�<��?�#-��� �A#��]7��2t�\u0017W[L�;@�\u001fƺU\u0015*�nm�\n",
      "4����m\u0015�&)�WC�\u0011\\n��&b�in\u000e�q�\u0013]ʊ�EJ����\n",
      "KS��ҵܭ�ַ�/\n",
      "�\t\u001f��\u0000Z��\u0006xI���п\\\\\u0011��?�=O�v**e\u0014�U�baB1w\u001c",
      "��QMQR��N��qE<\u000e(�g�(�TSTT�+��P�\u0014Mk\u0015�*J\tPwc8��\u0000ק��TT�6\u000b",
      "h�]�F�=�Z�aGdfPJ\u001c",
      "�=�\n",
      "*U\u0014�a�*e\u0014�\u00152�E\u000eQS(�(��T��(�TSTT�)\u0014���TSTT�)\u0014=EJ����QR49EL����QH��*e\u0014�\u00152�E!�*U\u0014�\u0015*�E\u000e\u0003�)�qE!�\u0018�*�Ev�j%QS-\u0014R\u001a%Z�h���J��Z(�R&Z�E\u0014R)\u0012�L�QH�J��Z(�\u001a%Z�E\u0014R)\u0013-J��)\u0014���QE\u0014�D�S-\u0014T�\u0012�(�����\n"
     ]
    }
   ],
   "source": [
    "import urllib.request\n",
    "import urllib.parse\n",
    "import requests\n",
    "def getHeaders(tempdata=''):\n",
    "    headers={\n",
    "        'Cookie': 'Hm_lvt_dc1d69ab90346d48ee02f18510292577=1607505696; language=1; Hm_lpvt_dc1d69ab90346d48ee02f18510292577=1607505752;'+tempdata,\n",
    "        'Host': 'appquery.neea.edu.cn',\n",
    "'Referer': 'http://cjcx.neea.edu.cn/',\n",
    "'User-Agent': 'Mozilla/5.0 (Windows NT 10.0; Win64; x64) AppleWebKit/537.36 (KHTML, like Gecko) Chrome/87.0.4280.88 Safari/537.36 Edg/87.0.664.57'\n",
    "    }\n",
    "    return headers\n",
    "image_pic='http://www.neea.edu.cn/res/verify/320970b3e48b9359ca683e014a84f0bf.jpg'\n",
    "content=requests.get(image_pic).text\n",
    "with open(\"verity.jpg\",'wb')as f:\n",
    "    f.write(requests.get(image_pic).content)\n",
    "print(content)\n",
    "verity=input('输入验证码：')\n",
    "post_url='http://cjcx.neea.edu.cn/html1/folder/20051/1156-1.htm'\n",
    "post_data={\n",
    "    'cb': 'jQuery1111028909395559385787_1607505752047',\n",
    "'subject': 'CET6',\n",
    "'xm': '张春波',\n",
    "'sfz': '210321199603030611',\n",
    "'verify': verity,\n",
    "'_': '1607505752048'\n",
    "}\n",
    "headers={\n",
    "    'User-Agent': 'Mozilla/5.0 (Windows NT 10.0; Win64; x64) AppleWebKit/537.36 (KHTML, like Gecko) Chrome/87.0.4280.88 Safari/537.36 Edg/87.0.664.57'\n",
    "}\n",
    "print(requests.post(url=post_url,headers=headers,data=post_data).text)"
   ]
  },
  {
   "cell_type": "code",
   "execution_count": null,
   "metadata": {},
   "outputs": [],
   "source": [
    "from selenium import webdriver"
   ]
  },
  {
   "cell_type": "code",
   "execution_count": null,
   "metadata": {},
   "outputs": [],
   "source": [
    "driver=webdriver.Chrome()\n",
    "driver.get('http://www.4399.com/')"
   ]
  },
  {
   "cell_type": "code",
   "execution_count": null,
   "metadata": {},
   "outputs": [],
   "source": [
    "import re\n",
    "from bs4 import BeautifulSoup\n",
    "import codecs\n",
    "import requests\n",
    "headers={'User-Agent': 'Mozilla/5.0 (Windows NT 6.1; Win64; x64) AppleWebKit/537.36 (KHTML, like Gecko) Chrome/79.0.3945.88 Safari/537.36'}\n",
    "\n",
    "def pachong(url):\n",
    "   cc = requests.get(url,headers=headers)\n",
    "   cc=cc.text\n",
    "   cc = BeautifulSoup(cc,\"html.parser\")\n",
    "   print(u'豆瓣top250 \\n')\n",
    "   for tag in cc.find_all(attrs={\"class\":\"item\"}):\n",
    "       shu = tag.find('em').get_text() #序号\n",
    "       print (shu)\n",
    "       outf.write(u\"<tr><th>\"+ shu)\n",
    "\n",
    "       name = tag.find_all(attrs={\"class\":\"title\"}) #中文名称\n",
    "       zname = name[0].get_text()\n",
    "       print (u'[名称]',zname)\n",
    "       outf.write(u\"</th><th>\"+ zname)\n",
    "\n",
    "       urlm = tag.find(attrs={\"class\":\"hd\"}).a  #链接\n",
    "       urls = urlm.attrs['href']\n",
    "       print (u'[链接]',urls)\n",
    "       outf.write(u\"</th><th>\"+urls)\n",
    "\n",
    "       ping = tag.find(attrs={\"class\":\"star\"}).get_text() #评分评论\n",
    "       ping = ping.replace('\\n',' ')\n",
    "       ping = ping.lstrip()\n",
    "       mode = re.compile(r'\\d+\\.?\\d*')\n",
    "       mm = mode.findall(ping)\n",
    "       k=0\n",
    "       for n in mm:\n",
    "           if k==0:\n",
    "               print (u\"[分数]\"+n)\n",
    "               outf.write(u\"</th><th>\" + n)\n",
    "           elif k==1:\n",
    "               print (u\"[评论人数]\"+n)\n",
    "               outf.write(u\"</th><th>\" +n)\n",
    "           k=k+1\n",
    "       \n",
    "\n",
    "       yu = tag.find(attrs={\"class\":\"inq\"}) #评语\n",
    "       if(yu):\n",
    "           content = yu.get_text()\n",
    "           print (u'[评语]',content)\n",
    "           outf.write(u\"</th><th>\")\n",
    "           outf.write(content)\n",
    "           outf.write(u\"</th></tr>\"+\"\\n\")\n",
    "\n",
    "\n",
    "if __name__=='__main__':\n",
    "      outf = codecs.open('top250.html','a','utf-8')\n",
    "      outf.write(u\"<html>\\n<body>\\n<table border=1>\\n\")\n",
    "      outf.write(u\"<tr><th>序号</th><th>名称</th><th>链接</th><th>评分</th><th>评论人数</th><th>影评</th></tr>\")\n",
    "      i = 0\n",
    "      while i<10:\n",
    "          print (u'页码',i+1)\n",
    "          num = i*25\n",
    "          url = 'https://movie.douban.com/top250?start='+str(num)+'&filter='\n",
    "          pachong (url)\n",
    "          i=i+1\n",
    "outf.write(u\"</table>\\n</bady>\\n</html>\")\n",
    "outf.close()"
   ]
  },
  {
   "cell_type": "code",
   "execution_count": null,
   "metadata": {},
   "outputs": [],
   "source": []
  }
 ],
 "metadata": {
  "kernelspec": {
   "display_name": "Python 3",
   "language": "python",
   "name": "python3"
  },
  "language_info": {
   "codemirror_mode": {
    "name": "ipython",
    "version": 3
   },
   "file_extension": ".py",
   "mimetype": "text/x-python",
   "name": "python",
   "nbconvert_exporter": "python",
   "pygments_lexer": "ipython3",
   "version": "3.8.3"
  }
 },
 "nbformat": 4,
 "nbformat_minor": 4
}
