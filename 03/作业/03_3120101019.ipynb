{
 "cells": [
  {
   "cell_type": "code",
   "execution_count": 2,
   "metadata": {},
   "outputs": [
    {
     "name": "stdout",
     "output_type": "stream",
     "text": [
      "<class 'str'>\n",
      "hamapii\n",
      "7\n",
      "h am\n"
     ]
    }
   ],
   "source": [
    "String=\"hamapii\"\n",
    "print(type(String))\n",
    "print(String)\n",
    "print(len(String))\n",
    "print(String[0],String[1:3])"
   ]
  },
  {
   "cell_type": "code",
   "execution_count": 3,
   "metadata": {},
   "outputs": [
    {
     "ename": "SyntaxError",
     "evalue": "invalid syntax (<ipython-input-3-2ea128a67a63>, line 2)",
     "output_type": "error",
     "traceback": [
      "\u001b[1;36m  File \u001b[1;32m\"<ipython-input-3-2ea128a67a63>\"\u001b[1;36m, line \u001b[1;32m2\u001b[0m\n\u001b[1;33m    print(cc shi {name})\u001b[0m\n\u001b[1;37m             ^\u001b[0m\n\u001b[1;31mSyntaxError\u001b[0m\u001b[1;31m:\u001b[0m invalid syntax\n"
     ]
    }
   ],
   "source": [
    "name=\"guapi\"\n",
    "print(cc shi {name})\n",
    "print(r'I\\'m ok')\n",
    "print('I\\'m ok')"
   ]
  },
  {
   "cell_type": "code",
   "execution_count": 7,
   "metadata": {},
   "outputs": [
    {
     "name": "stdout",
     "output_type": "stream",
     "text": [
      "Hello ccccc\n",
      "HELLO CCCCC\n",
      "Hello Ccccc\n"
     ]
    }
   ],
   "source": [
    "ss='hello ccccc'\n",
    "print(ss.capitalize())\n",
    "print(ss.upper())\n",
    "print(ss.title())\n",
    "\n",
    "print()"
   ]
  },
  {
   "cell_type": "code",
   "execution_count": 18,
   "metadata": {},
   "outputs": [
    {
     "name": "stdout",
     "output_type": "stream",
     "text": [
      "1\n",
      "True\n",
      "True\n",
      "False\n",
      "False\n",
      "True\n",
      "True\n",
      "7\n"
     ]
    }
   ],
   "source": [
    "var=\"aksjdfkjaiofeinwienf\"\n",
    "sub=\"s\"\n",
    "print(var.count(sub))\n",
    "\n",
    "print(var.isalpha())\n",
    "print(var.isalnum())\n",
    "print(var.isdigit())\n",
    "print(var.isnumeric())\n",
    "\n",
    "sc=\"nf\"\n",
    "print(var.endswith(sc))\n",
    "sv=\"aks\"\n",
    "print(var.startswith(sv))\n",
    "\n",
    "print(var.find(\"ja\"))"
   ]
  },
  {
   "cell_type": "code",
   "execution_count": 21,
   "metadata": {},
   "outputs": [
    {
     "name": "stdout",
     "output_type": "stream",
     "text": [
      "ashffjiauwnefnsaudffubwu  akshdfuwe s hu9w s\n",
      "     ashffjiauwnefnsaudffubwu  akshdfuwe s hu9w s \n"
     ]
    }
   ],
   "source": [
    "str1=\"     ashffjiauwnefnsaudffubwu  akshdfuwe s hu9w s \"\n",
    "str2=str1.strip()\n",
    "str3=str1.strip('*')\n",
    "print(str2)\n",
    "print(str3)"
   ]
  },
  {
   "cell_type": "code",
   "execution_count": 24,
   "metadata": {},
   "outputs": [
    {
     "name": "stdout",
     "output_type": "stream",
     "text": [
      "<class 'range'>\n"
     ]
    },
    {
     "data": {
      "text/plain": [
       "[0, 1, 2, 3, 4]"
      ]
     },
     "execution_count": 24,
     "metadata": {},
     "output_type": "execute_result"
    }
   ],
   "source": [
    "print(type(range(5)))\n",
    "list(range(5))\n"
   ]
  },
  {
   "cell_type": "code",
   "execution_count": 25,
   "metadata": {},
   "outputs": [
    {
     "name": "stdout",
     "output_type": "stream",
     "text": [
      "[0, 1, 2, 3, 4, 'hellp', 'world']\n",
      "0_1_2_3_4_hellp_world\n"
     ]
    }
   ],
   "source": [
    "args=[*range(5),'hellp','world']\n",
    "print(args)\n",
    "print(*args,sep='_')"
   ]
  },
  {
   "cell_type": "markdown",
   "metadata": {},
   "source": [
    "元组"
   ]
  },
  {
   "cell_type": "code",
   "execution_count": 27,
   "metadata": {},
   "outputs": [
    {
     "data": {
      "text/plain": [
       "(0, 1, 2, 3, 4, 0, 1, 2, 3, 4, 5)"
      ]
     },
     "execution_count": 27,
     "metadata": {},
     "output_type": "execute_result"
    }
   ],
   "source": [
    "t1=tuple(range(5))\n",
    "t2=tuple(range(6))\n",
    "t1+t2"
   ]
  },
  {
   "cell_type": "code",
   "execution_count": 32,
   "metadata": {},
   "outputs": [
    {
     "name": "stdout",
     "output_type": "stream",
     "text": [
      "<class 'set'>\n",
      "{'jdksinwe', 'sfewf', 'sfsf', 'sdfwee', 'sfesfd'}\n",
      "{'g', 'd', 'a', 's', 'f', 'h', 'x', 'c', 'z'}\n",
      "{'jdksinwe', 'sfewf', 'sfsf', 'm', 'n', 'sdfwee', 'l', 'o', 'e', 'sfesfd'}\n"
     ]
    }
   ],
   "source": [
    "set1={'sfsf',\"sfewf\",\"sfesfd\",\"jdksinwe\",\"sdfwee\"}\n",
    "print(type(set1))\n",
    "print(set1)\n",
    "\n",
    "set2=set('asdfghzxcasdf')\n",
    "print(set2)\n",
    "\n",
    "set1.update('melon')\n",
    "print(set1)"
   ]
  },
  {
   "cell_type": "markdown",
   "metadata": {},
   "source": [
    "字典"
   ]
  },
  {
   "cell_type": "code",
   "execution_count": 36,
   "metadata": {},
   "outputs": [
    {
     "name": "stdout",
     "output_type": "stream",
     "text": [
      "<class 'dict'>\n",
      "skdjf\n",
      "xjtu\n"
     ]
    }
   ],
   "source": [
    "dict1={'name':'skdjf','age':45,'high':168}\n",
    "print(type(dict1))\n",
    "print(dict1['name'])\n",
    "\n",
    "dict1['school']='xjtu'\n",
    "print(dict1['school'])"
   ]
  },
  {
   "cell_type": "code",
   "execution_count": 37,
   "metadata": {},
   "outputs": [],
   "source": [
    "def flat(l):\n",
    "    f=[]\n",
    "    for x in l:\n",
    "        if type(x) is list:\n",
    "            f.extend(x)\n",
    "        else:\n",
    "            f.attend(x)\n",
    "        return f\n",
    "    "
   ]
  },
  {
   "cell_type": "code",
   "execution_count": 38,
   "metadata": {},
   "outputs": [
    {
     "name": "stdout",
     "output_type": "stream",
     "text": [
      "[1, 2, 3, 4, 5]\n",
      "[1, 2, 3, 4, 5]\n",
      "[1, 2, 3, 4, 5]\n",
      "[1, 2, 3, 4, 5]\n",
      "[1, 2, 3, 4, 5]\n"
     ]
    }
   ],
   "source": [
    "l=[1,2,3,4,5]\n",
    "for i in l:\n",
    "    print(l)"
   ]
  },
  {
   "cell_type": "code",
   "execution_count": 39,
   "metadata": {},
   "outputs": [
    {
     "data": {
      "text/plain": [
       "5"
      ]
     },
     "execution_count": 39,
     "metadata": {},
     "output_type": "execute_result"
    }
   ],
   "source": [
    "add =lambda x,y:x+y\n",
    "add(2,3)"
   ]
  },
  {
   "cell_type": "code",
   "execution_count": 44,
   "metadata": {},
   "outputs": [
    {
     "name": "stdout",
     "output_type": "stream",
     "text": [
      "<map object at 0x0000016C6C7662E0>\n"
     ]
    },
    {
     "data": {
      "text/plain": [
       "[11, 12, 13, 14]"
      ]
     },
     "execution_count": 44,
     "metadata": {},
     "output_type": "execute_result"
    }
   ],
   "source": [
    "a=map(lambda x:x+10,[1,2,3,4])\n",
    "print(a)\n",
    "list(a)"
   ]
  },
  {
   "cell_type": "code",
   "execution_count": 1,
   "metadata": {},
   "outputs": [
    {
     "name": "stdout",
     "output_type": "stream",
     "text": [
      "postgraduate类构造方法被调用！\n",
      "student类构造方法被调用！\n",
      "person类构造方法被调用！\n",
      "该生的学号是31201010,姓名是小董,指导教师是王五\n"
     ]
    }
   ],
   "source": [
    "\n",
    "class person:\n",
    "    def __init__(self,name):\n",
    "        print(\"person类构造方法被调用！\")\n",
    "        self.name=name\n",
    "class student(person):\n",
    "    def __init__(self,sno,name):\n",
    "        print(\"student类构造方法被调用！\")\n",
    "        super().__init__(name)\n",
    "        self.sno=sno\n",
    "class postgraduate(student):\n",
    "    def __init__(self,sno,name,tutor):\n",
    "        print(\"postgraduate类构造方法被调用！\")\n",
    "        super().__init__(sno,name)\n",
    "        self.tutor=tutor\n",
    "if __name__=='__main__':\n",
    "    pg=postgraduate(\"31201010\",\"小董\",\"王五\")\n",
    "    print(\"该生的学号是%s,姓名是%s,指导教师是%s\"%(pg.sno,pg.name,pg.tutor))"
   ]
  },
  {
   "cell_type": "code",
   "execution_count": 4,
   "metadata": {},
   "outputs": [
    {
     "name": "stdout",
     "output_type": "stream",
     "text": [
      "2020-10-15\n",
      "2020-12-08\n",
      "3\n",
      "4\n",
      "2020-10-15\n",
      "10 15 2020\n",
      "10:57:25\n",
      "00:00:00\n",
      "23:59:59.999999\n",
      "10:57:25\n"
     ]
    }
   ],
   "source": [
    "import datetime as dt\n",
    "\n",
    "\"\"\"date对象\"\"\"\n",
    "date = dt.date(2020,10,15)\n",
    "print(date)\n",
    "print(date.today())\n",
    "\n",
    "print(date.weekday())\n",
    "print(date.isoweekday())\n",
    "\n",
    "print(date.isoformat())\n",
    "print(date.strftime(\"%m %d %Y\"))\n",
    "\n",
    "\"\"\"time对象\"\"\"\n",
    "time1 = dt.time(hour=10,minute=57,second=25)\n",
    "print(time1)\n",
    "\n",
    "print(dt.time.min)\n",
    "print(dt.time.max)\n",
    "\n",
    "print(time1.isoformat())\n"
   ]
  },
  {
   "cell_type": "code",
   "execution_count": 3,
   "metadata": {},
   "outputs": [
    {
     "name": "stdout",
     "output_type": "stream",
     "text": [
      "<class '__main__.complex'>\n",
      "The final result is 2.8+4.7i\n"
     ]
    }
   ],
   "source": [
    "\n",
    "class complex:\n",
    "    def __init__(self,real=0,image=0):\n",
    "        self.real=real\n",
    "        self.image=image\n",
    "\n",
    "    @classmethod\n",
    "    def add(cls,c1,c2):\n",
    "        print(cls)\n",
    "        c=complex()\n",
    "        c.real=c1.real+c2.real\n",
    "        c.image=c1.image+c2.image\n",
    "        return c\n",
    "\n",
    "if __name__=='__main__':\n",
    "    c1=complex(1.2,2.3)\n",
    "    c2=complex(1.6,2.4)\n",
    "    c=complex.add(c1,c2)\n",
    "    print(\"The final result is %.1f+%.1fi\"%(c.real,c.image))"
   ]
  },
  {
   "cell_type": "code",
   "execution_count": 5,
   "metadata": {},
   "outputs": [
    {
     "name": "stdout",
     "output_type": "stream",
     "text": [
      "1607415740.8549037\n",
      "time.struct_time(tm_year=2020, tm_mon=12, tm_mday=8, tm_hour=16, tm_min=22, tm_sec=20, tm_wday=1, tm_yday=343, tm_isdst=0)\n",
      "time.struct_time(tm_year=1970, tm_mon=1, tm_mday=1, tm_hour=8, tm_min=0, tm_sec=0, tm_wday=3, tm_yday=1, tm_isdst=0)\n",
      "time.mktime: 1602594300.000000\n",
      "1602594300.0\n",
      "time.struct_time(tm_year=2020, tm_mon=12, tm_mday=8, tm_hour=8, tm_min=22, tm_sec=20, tm_wday=1, tm_yday=343, tm_isdst=0)\n",
      "time.struct_time(tm_year=1970, tm_mon=1, tm_mday=1, tm_hour=0, tm_min=0, tm_sec=0, tm_wday=3, tm_yday=1, tm_isdst=0)\n",
      "Tue Oct 13 21:13:23 2020\n",
      "Tue Dec  8 16:22:20 2020\n",
      "Tue Dec  8 16:22:20 2020\n",
      "Tue Dec  8 16:22:21 2020\n"
     ]
    }
   ],
   "source": [
    "\n",
    "import time\n",
    "now = time.time()\n",
    "print(now)\n",
    "print(time.localtime())\n",
    "print(time.localtime(0))\n",
    "\n",
    "t = (2020,10,13,21,5,0,1,1,0)\n",
    "secs = time.mktime(t)\n",
    "print(\"time.mktime: %f\"%secs)\n",
    "print(time.mktime(time.localtime(secs)))\n",
    "\n",
    "print(time.gmtime())\n",
    "print(time.gmtime(0))\n",
    "\n",
    "t1 = (2020,10,13,21,13,23,1,1,0)\n",
    "print(time.asctime(t1))\n",
    "print(time.asctime(time.localtime()))\n",
    "\n",
    "print(time.ctime())\n",
    "time.sleep(1)\n",
    "print(time.ctime())"
   ]
  },
  {
   "cell_type": "code",
   "execution_count": 6,
   "metadata": {},
   "outputs": [
    {
     "name": "stdout",
     "output_type": "stream",
     "text": [
      "main thread start at 16:23:37\n",
      "Thread 0\t start at 16:23:37\n",
      "Thread 0\t sleeping\n",
      "Thread 1\t start at 16:23:38\n",
      "Thread 1\t sleeping\n",
      "Thread 2\t start at 16:23:39\n",
      "Thread 2\t sleeping\n",
      "Thread 3\t start at 16:23:40\n",
      "Thread 3\t sleeping\n",
      "Thread 0\t finish at 16:23:41\n",
      "Thread 4\t start at 16:23:41\n",
      "Thread 4\t sleeping\n",
      "Thread 1\t finish at 16:23:42\n",
      "Thread 2\t finish at 16:23:43\n",
      "Thread 3\t finish at 16:23:44\n",
      "Thread 4\t finish at 16:23:45\n",
      "main thread finish at 16:23:45\n"
     ]
    }
   ],
   "source": [
    "\n",
    "import time\n",
    "import datetime\n",
    "import _thread\n",
    "\n",
    "date_time_format = \"%H:%M:%S\"\n",
    "def get_time_str():\n",
    "    now = datetime.datetime.now()\n",
    "    return datetime.datetime.strftime(now,date_time_format)\n",
    "\n",
    "def thread_function(thread_id,lock):\n",
    "    print(\"Thread %d\\t start at %s\"%(thread_id,get_time_str()))\n",
    "    print(\"Thread %d\\t sleeping\"%thread_id)\n",
    "    time.sleep(4)\n",
    "    print(\"Thread %d\\t finish at %s\"%(thread_id,get_time_str()))\n",
    "    lock.release()\n",
    "\n",
    "def main():\n",
    "    print(\"main thread start at %s\"%get_time_str())\n",
    "    locks = []\n",
    "    for i in range(5):\n",
    "        lock = _thread.allocate_lock()\n",
    "        lock.acquire()\n",
    "        locks.append(lock)\n",
    "    for i in range(5):\n",
    "        _thread.start_new_thread(thread_function,(i, locks[i]))\n",
    "        time.sleep(1)\n",
    "    for i in range(5):\n",
    "        while locks[i].locked():\n",
    "            time.sleep(1)\n",
    "    print(\"main thread finish at %s\"%get_time_str())\n",
    "\n",
    "if __name__ == '__main__':\n",
    "    main()"
   ]
  },
  {
   "cell_type": "code",
   "execution_count": 7,
   "metadata": {},
   "outputs": [
    {
     "name": "stdout",
     "output_type": "stream",
     "text": [
      "main thread start at 16:24:24\n",
      "Thread 1\t start at 16:24:24\n",
      "Thread 1\t sleeping\n",
      "Thread 1\t start at 16:24:25\n",
      "Thread 1\t sleeping\n",
      "Thread 1\t start at 16:24:26\n",
      "Thread 1\t sleeping\n",
      "Thread 1\t start at 16:24:27\n",
      "Thread 1\t sleeping\n",
      "Thread 1\t finish at 16:24:28\n",
      "Thread 1\t start at 16:24:28\n",
      "Thread 1\t sleeping\n",
      "Thread 1\t finish at 16:24:29\n",
      "Thread 1\t finish at 16:24:30\n",
      "Thread 1\t finish at 16:24:31\n",
      "Thread 1\t finish at 16:24:32\n",
      "main thread finish at 16:24:32\n"
     ]
    }
   ],
   "source": [
    "import time\n",
    "import datetime\n",
    "import threading\n",
    "\n",
    "date_time_format = \"%H:%M:%S\"\n",
    "def get_time_str():\n",
    "    now = datetime.datetime.now()\n",
    "    return datetime.datetime.strftime(now,date_time_format)\n",
    "\n",
    "def thread_function(thread_id):\n",
    "    print(\"Thread %d\\t start at %s\"%(thread_id,get_time_str()))\n",
    "    print(\"Thread %d\\t sleeping\"%thread_id)\n",
    "    time.sleep(4)\n",
    "    print(\"Thread %d\\t finish at %s\"%(thread_id,get_time_str()))\n",
    "\n",
    "def main():\n",
    "    print(\"main thread start at %s\"%get_time_str())\n",
    "    threads = []\n",
    "\n",
    "    '''创建线程'''\n",
    "    for i in range(5):\n",
    "        thread = threading.Thread(target=thread_function,args=(1,))\n",
    "        threads.append(thread)\n",
    "\n",
    "    '''启动线程'''\n",
    "    for i in range(5):\n",
    "        threads[i].start()\n",
    "        time.sleep(1)\n",
    "\n",
    "    '''等待线程执行完毕'''\n",
    "    for i in range(5):\n",
    "        threads[i].join()\n",
    "\n",
    "    print(\"main thread finish at %s\"%get_time_str())\n",
    "\n",
    "if __name__ == '__main__':\n",
    "    main()"
   ]
  },
  {
   "cell_type": "code",
   "execution_count": 8,
   "metadata": {},
   "outputs": [
    {
     "name": "stdout",
     "output_type": "stream",
     "text": [
      "Thread 0\t received message id 0\n",
      "Thread 1\t received message id 1\n",
      "Thread 0\t received message id 2\n",
      "Thread 1\t received message id 3\n",
      "Thread 1\t received message id 5\n",
      "Thread 0\t received message id 4\n",
      "Thread 0\t received message id 7\n",
      "Thread 1\t received message id 6\n",
      "Thread 1\t received message id 9\n",
      "Thread 0\t received message id 8\n"
     ]
    }
   ],
   "source": [
    "import time\n",
    "import threading\n",
    "import queue\n",
    "\n",
    "work_queue = queue.Queue(maxsize=10)\n",
    "\n",
    "#创建结果队列并且限制队列的最大元素是10\n",
    "result_queue = queue.Queue(maxsize=10)\n",
    "\n",
    "class workthread(threading.Thread):\n",
    "    def __init__(self,threaf_id):\n",
    "        super(workthread, self).__init__()\n",
    "        self.thread_id = threaf_id\n",
    "    def run(self):\n",
    "        while not work_queue.empty():\n",
    "            #从工作队列里获取数据\n",
    "            work = work_queue.get()\n",
    "            time.sleep(3)\n",
    "            out = \"Thread %d\\t received %s\"%(self.thread_id,work)\n",
    "            #把结果放入结果队列\n",
    "            result_queue.put(out)\n",
    "\n",
    "def main():\n",
    "    #工作队列放入数据\n",
    "    for i in range(10):\n",
    "        work_queue.put(\"message id %d\"%i)\n",
    "    #开启两个工作线程\n",
    "    for i in range(2):\n",
    "        thread = workthread(i)\n",
    "        thread.start()\n",
    "    #输出10个结果\n",
    "    for i in range(10):\n",
    "        result = result_queue.get()\n",
    "        print(result)\n",
    "if __name__ == '__main__':\n",
    "    main()\n"
   ]
  },
  {
   "cell_type": "code",
   "execution_count": null,
   "metadata": {},
   "outputs": [],
   "source": []
  }
 ],
 "metadata": {
  "kernelspec": {
   "display_name": "Python 3",
   "language": "python",
   "name": "python3"
  },
  "language_info": {
   "codemirror_mode": {
    "name": "ipython",
    "version": 3
   },
   "file_extension": ".py",
   "mimetype": "text/x-python",
   "name": "python",
   "nbconvert_exporter": "python",
   "pygments_lexer": "ipython3",
   "version": "3.8.5"
  }
 },
 "nbformat": 4,
 "nbformat_minor": 4
}
