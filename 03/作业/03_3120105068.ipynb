{
 "cells": [
  {
   "cell_type": "code",
   "execution_count": 1,
   "metadata": {},
   "outputs": [
    {
     "name": "stdout",
     "output_type": "stream",
     "text": [
      "The length of the str1: 15\n",
      "The type of the str2: <class 'str'>\n",
      "str1[0]: A\n",
      "str2[1:4]: uno\n",
      "str1[-4:-1]: KLM\n",
      "str1[-1:-4:-1]: NML\n",
      "str1[:-4]: ABCDEFG HIJ\n",
      "str1[::-1]: NMLKJIH GFEDCBA \n",
      " ********************\n",
      "Capital the initials of str2: Runoob is a very excellent learning web\n",
      "Capital all the letters of str2: RUNOOB IS A VERY EXCELLENT LEARNING WEB\n",
      "Make all the letters of str1 and str2 lowercase: abcdefg hijklmn runoob is a very excellent learning web\n",
      "Capital the initials of each word of str2 Runoob Is A Very Excellent Learning Web\n",
      "0 2\n",
      "1 0\n",
      "0 1\n"
     ]
    }
   ],
   "source": [
    "# 字符串操作\n",
    "str1 = 'ABCDEFG HIJKLMN'\n",
    "str2 = 'runoob is a very excellent learning web'\n",
    "print('The length of the str1:', len(str1))\n",
    "print('The type of the str2:', type(str2))\n",
    "print(\"str1[0]:\", str1[0])\n",
    "print(\"str2[1:4]:\", str2[1:4])\n",
    "print(\"str1[-4:-1]:\", str1[-4:-1])\n",
    "print(\"str1[-1:-4:-1]:\", str1[-1:-4:-1])\n",
    "print(\"str1[:-4]:\", str1[:-4])\n",
    "print(\"str1[::-1]:\", str1[::-1], '\\n', \"*\"*20)\n",
    "# 字符串内建函数练习\n",
    "print(\"Capital the initials of str2:\", str2.capitalize())\n",
    "print(\"Capital all the letters of str2:\", str2.upper())\n",
    "print(\"Make all the letters of str1 and str2 lowercase:\", str1.lower(), str2.lower())\n",
    "print(\"Capital the initials of each word of str2\", str2.title())\n",
    "sub_letter1 = 'a'\n",
    "sub_letter2 = 'A'\n",
    "print(str1.count(sub_letter1), str2.count(sub_letter1))# 对字符串的特定字母进行计数\n",
    "print(str1.count(sub_letter2), str2.count(sub_letter2))\n",
    "sub_word = 'is'\n",
    "print(str1.count(sub_word), str2.count(sub_word))# 对字符串的特定单词进行计数"
   ]
  },
  {
   "cell_type": "code",
   "execution_count": 48,
   "metadata": {},
   "outputs": [
    {
     "name": "stdout",
     "output_type": "stream",
     "text": [
      "True\n",
      "False\n",
      "True\n",
      "False\n",
      "False\n",
      "True \n",
      " **************************************************\n",
      "False\n",
      "False\n",
      "False\n",
      "False\n",
      "True\n",
      "False \n",
      " **************************************************\n",
      "False\n",
      "False\n",
      "False\n",
      "False\n",
      "True\n",
      "True \n",
      " **************************************************\n",
      "True\n",
      "False\n",
      "True\n",
      "False\n",
      "True\n",
      "True \n",
      " **************************************************\n"
     ]
    }
   ],
   "source": [
    "var1 = 'hellopython'\n",
    "var2 = 'hello python'\n",
    "var3 = 'hellopython您好'\n",
    "var4 = 'hello python 20201209'\n",
    "var5 = '20201209'\n",
    "var6 = '二零二零'\n",
    "print(var1.isalpha())\n",
    "print(var2.isalpha())\n",
    "print(var3.isalpha())\n",
    "print(var4.isalpha())\n",
    "print(var5.isalpha())\n",
    "print(var6.isalpha(), '\\n', '*'*50)\n",
    "# 结论：汉字英文都是字符，空格、标点、数字等不是字符\n",
    "print(var1.isdigit())\n",
    "print(var2.isdigit())\n",
    "print(var3.isdigit())\n",
    "print(var4.isdigit())\n",
    "print(var5.isdigit())\n",
    "print(var6.isdigit(), '\\n', '*'*50)\n",
    "# 结论：只要含有字母这个字符串就不能认为是digit数字，汉字的数字也不是digit\n",
    "print(var1.isnumeric())\n",
    "print(var2.isnumeric())\n",
    "print(var3.isnumeric())\n",
    "print(var4.isnumeric())\n",
    "print(var5.isnumeric())\n",
    "print(var6.isnumeric(), '\\n', '*'*50)\n",
    "# 结论：汉字数字有可以认为是numeric\n",
    "print(var1.isalnum())\n",
    "print(var2.isalnum())\n",
    "print(var3.isalnum())\n",
    "print(var4.isalnum())\n",
    "print(var5.isalnum())\n",
    "print(var6.isalnum(), '\\n', '*'*50)\n",
    "# 结论：只要字符串中含有数字或者英文字母或汉字都为alnum,但空格等标点符号不能"
   ]
  },
  {
   "cell_type": "code",
   "execution_count": 52,
   "metadata": {},
   "outputs": [
    {
     "name": "stdout",
     "output_type": "stream",
     "text": [
      "True\n",
      "True\n",
      "True\n",
      "********************\n",
      "False\n",
      "False\n",
      "True\n",
      "********************\n",
      "False\n",
      "False\n",
      "True\n",
      "********************\n",
      "True\n"
     ]
    },
    {
     "ename": "AttributeError",
     "evalue": "'bytes' object has no attribute 'isdecimal'",
     "output_type": "error",
     "traceback": [
      "\u001b[1;31m---------------------------------------------------------------------------\u001b[0m",
      "\u001b[1;31mAttributeError\u001b[0m                            Traceback (most recent call last)",
      "\u001b[1;32m<ipython-input-52-89fbc8c742b6>\u001b[0m in \u001b[0;36m<module>\u001b[1;34m\u001b[0m\n\u001b[0;32m     16\u001b[0m \u001b[0mnum4\u001b[0m \u001b[1;33m=\u001b[0m \u001b[1;34mb'1'\u001b[0m\u001b[1;31m#byte数字\u001b[0m\u001b[1;33m\u001b[0m\u001b[1;33m\u001b[0m\u001b[0m\n\u001b[0;32m     17\u001b[0m \u001b[0mprint\u001b[0m\u001b[1;33m(\u001b[0m\u001b[0mnum4\u001b[0m\u001b[1;33m.\u001b[0m\u001b[0misdigit\u001b[0m\u001b[1;33m(\u001b[0m\u001b[1;33m)\u001b[0m\u001b[1;33m)\u001b[0m\u001b[1;33m\u001b[0m\u001b[1;33m\u001b[0m\u001b[0m\n\u001b[1;32m---> 18\u001b[1;33m \u001b[0mprint\u001b[0m\u001b[1;33m(\u001b[0m\u001b[0mnum4\u001b[0m\u001b[1;33m.\u001b[0m\u001b[0misdecimal\u001b[0m\u001b[1;33m(\u001b[0m\u001b[1;33m)\u001b[0m\u001b[1;33m)\u001b[0m\u001b[1;33m\u001b[0m\u001b[1;33m\u001b[0m\u001b[0m\n\u001b[0m\u001b[0;32m     19\u001b[0m \u001b[0mprint\u001b[0m\u001b[1;33m(\u001b[0m\u001b[0mnum4\u001b[0m\u001b[1;33m.\u001b[0m\u001b[0misnumeric\u001b[0m\u001b[1;33m(\u001b[0m\u001b[1;33m)\u001b[0m\u001b[1;33m)\u001b[0m\u001b[1;33m\u001b[0m\u001b[1;33m\u001b[0m\u001b[0m\n",
      "\u001b[1;31mAttributeError\u001b[0m: 'bytes' object has no attribute 'isdecimal'"
     ]
    }
   ],
   "source": [
    "num1 = '3' #阿拉伯数字\n",
    "print(num1.isdigit())\n",
    "print(num1.isdecimal())\n",
    "print(num1.isnumeric())\n",
    "print('*'*20)\n",
    "num2 = 'Ⅳ'#罗马数字\n",
    "print(num2.isdigit())\n",
    "print(num2.isdecimal())\n",
    "print(num2.isnumeric())\n",
    "print('*'*20)\n",
    "num3 = '三'#汉字数字\n",
    "print(num3.isdigit())\n",
    "print(num3.isdecimal())\n",
    "print(num3.isnumeric())\n",
    "print('*'*20)\n",
    "num4 = b'1'#byte数字\n",
    "print(num4.isdigit())\n",
    "print(num4.isdecimal())\n",
    "print(num4.isnumeric())"
   ]
  },
  {
   "cell_type": "code",
   "execution_count": 3,
   "metadata": {},
   "outputs": [
    {
     "name": "stdout",
     "output_type": "stream",
     "text": [
      "numbers[2]: 3\n",
      "numbers[-3]: 9\n",
      "numbers[::-1]: [5, 10, 9, 8, 7, 6, 5, 4, 3, 2, 1]\n",
      "numbers[::1]: [1, 2, 3, 4, 5, 6, 7, 8, 9, 10, 5] \n",
      " ********************\n",
      "2\n",
      "10\n",
      "1\n",
      "11\n",
      "sort numbers： [1, 2, 3, 4, 5, 5, 6, 7, 8, 9, 10]\n",
      "reverse numbers: [10, 9, 8, 7, 6, 5, 5, 4, 3, 2, 1]\n"
     ]
    }
   ],
   "source": [
    "# 列表操作\n",
    "numbers = [1, 2, 3, 4, 5, 6, 7, 8, 9, 10, 5]\n",
    "print('numbers[2]:', numbers[2])\n",
    "print('numbers[-3]:', numbers[-3])\n",
    "print('numbers[::-1]:', numbers[::-1])\n",
    "print('numbers[::1]:', numbers[::1], '\\n', '*'*20)\n",
    "print(numbers.count(5))\n",
    "print(max(numbers))\n",
    "print(min(numbers))\n",
    "print(len(numbers))\n",
    "numbers.sort()\n",
    "print('sort numbers：', numbers)\n",
    "numbers.reverse()\n",
    "print('reverse numbers:', numbers)"
   ]
  },
  {
   "cell_type": "code",
   "execution_count": 5,
   "metadata": {},
   "outputs": [
    {
     "name": "stdout",
     "output_type": "stream",
     "text": [
      "initial list ['hello', 'python', 'orange', [8, 'lie', '09'], '**']\n",
      "list[3]: ['hello', 'python', 'orange', 'cute', '**']\n",
      "del list[2]: ['hello', 'python', 'cute', '**']\n",
      "remove hello: ['python', 'cute', '**']\n",
      "append, insert list[4]: ['python', 'cute', '**', 'the last', '**']\n",
      "count**: 2\n",
      "index orange: 2\n"
     ]
    }
   ],
   "source": [
    "list = ['hello', 'python', 'orange', [8, 'lie', '09'], '**']\n",
    "print('initial list', list)\n",
    "\n",
    "list[3] = 'cute'\n",
    "print('list[3]:', list)\n",
    "\n",
    "del list[2]\n",
    "print('del list[2]:', list)\n",
    "\n",
    "list.remove('hello')\n",
    "print('remove hello:',list)\n",
    "\n",
    "list.append('the last')\n",
    "list.insert(4, '**')\n",
    "print('append, insert list[4]:', list)\n",
    "\n",
    "print('count**:', list.count('**'))\n",
    "print('index orange:', list.index('**'))"
   ]
  },
  {
   "cell_type": "code",
   "execution_count": 7,
   "metadata": {},
   "outputs": [
    {
     "name": "stdout",
     "output_type": "stream",
     "text": [
      "<class 'list'> <class 'tuple'> <class 'set'> <class 'dict'>\n"
     ]
    }
   ],
   "source": [
    "list = ['str_word', 'sentence is ok', 90, [9, '3','python']]\n",
    "tuple = ('first', 'second', 3, '!!')\n",
    "set = {'red', 'hello', 'red', 2020, '汉字'}\n",
    "dictionary = {'color':'blue', 'speed':2}\n",
    "print(type(list), type(tuple), type(set), type(dictionary))"
   ]
  },
  {
   "cell_type": "code",
   "execution_count": 2,
   "metadata": {},
   "outputs": [
    {
     "name": "stdout",
     "output_type": "stream",
     "text": [
      "{'colour': 'green', 'points': 5, 'speed': 'low', 'x_positon': 2, 'y_position': 2}\n"
     ]
    }
   ],
   "source": [
    "# 字典：外星人位置移动\n",
    "alien_0 = {'colour':'green', 'points':5, 'speed':'low', 'x_positon':2, 'y_position':1}\n",
    "if alien_0['speed'] == 'low':\n",
    "    add_y = 1\n",
    "elif alien_0['speed'] == 'midium':\n",
    "    add_y = 2\n",
    "else:\n",
    "    add_y = 3\n",
    "alien_0['y_position'] += add_y\n",
    "print(alien_0)"
   ]
  },
  {
   "cell_type": "code",
   "execution_count": 2,
   "metadata": {},
   "outputs": [
    {
     "data": {
      "text/plain": [
       "['str_word', 'sentence is ok', 90, [9, 3, 2]]"
      ]
     },
     "execution_count": 2,
     "metadata": {},
     "output_type": "execute_result"
    }
   ],
   "source": [
    "list = ['str_word', 'sentence is ok', 90, [9, 3, 2]]\n",
    "def flat(l):\n",
    "    f = []\n",
    "    for x in l:\n",
    "        if type(x) is list:\n",
    "            f.extend(x)\n",
    "        else:\n",
    "            f.append(x)\n",
    "    return f\n",
    "flat(list)"
   ]
  },
  {
   "cell_type": "code",
   "execution_count": 16,
   "metadata": {},
   "outputs": [
    {
     "name": "stdout",
     "output_type": "stream",
     "text": [
      "1\n",
      "2\n",
      "3\n"
     ]
    }
   ],
   "source": [
    "l = [1,2,3,4]\n",
    "it = iter(l)\n",
    "print(next(it))\n",
    "print(next(it))\n",
    "print(next(it))"
   ]
  },
  {
   "cell_type": "code",
   "execution_count": 18,
   "metadata": {},
   "outputs": [
    {
     "name": "stdout",
     "output_type": "stream",
     "text": [
      "1 * 2 * 3 * 4 * 5 * 6 * 7 * 8 * 9 * 10 * "
     ]
    }
   ],
   "source": [
    "list1 = [1,2,3,4,5,6,7,8,9,10]\n",
    "for i in list1:\n",
    "    print(i, end = ' * ')"
   ]
  },
  {
   "cell_type": "code",
   "execution_count": 17,
   "metadata": {},
   "outputs": [
    {
     "name": "stdout",
     "output_type": "stream",
     "text": [
      "1 2 3 4 5 6 7 8 9 10 "
     ]
    }
   ],
   "source": [
    "list1 = [1,2,3,4,5,6,7,8,9,10]\n",
    "it = iter(list1)\n",
    "for j in it:\n",
    "    print(j, end = ' ')"
   ]
  },
  {
   "cell_type": "code",
   "execution_count": 21,
   "metadata": {},
   "outputs": [
    {
     "name": "stdout",
     "output_type": "stream",
     "text": [
      "My dog's name is Ahuang.\n",
      "My dog is 3 yesrs old.\n",
      "Ahuang is now sitting.\n",
      "Ahuang rolled over!\n"
     ]
    }
   ],
   "source": [
    "class Dog():\n",
    "    \n",
    "    def __init__(self, name, age):\n",
    "        self.name = name\n",
    "        self.age = age\n",
    "        \n",
    "    def sit(self):\n",
    "        print(self.name.title() + \" is now sitting.\")\n",
    "        \n",
    "    def roll_over(self):\n",
    "        print(self.name.title() + \" rolled over!\")\n",
    "        \n",
    "my_dog = Dog('ahuang', 3)\n",
    "print(\"My dog's name is \" + my_dog.name.title() + \".\")\n",
    "print(\"My dog is \" + str(my_dog.age) + \" yesrs old.\")\n",
    "my_dog.sit()\n",
    "my_dog.roll_over()"
   ]
  },
  {
   "cell_type": "code",
   "execution_count": 3,
   "metadata": {},
   "outputs": [
    {
     "name": "stdout",
     "output_type": "stream",
     "text": [
      "3.0 -4.5\n"
     ]
    }
   ],
   "source": [
    "class Complex:\n",
    "    def __init__(self, realpart, imagpart):\n",
    "        self.r = realpart\n",
    "        self.i = imagpart\n",
    "x = Complex(3.0, -4.5)\n",
    "print(x.r, x.i)"
   ]
  },
  {
   "cell_type": "code",
   "execution_count": 55,
   "metadata": {},
   "outputs": [
    {
     "name": "stdout",
     "output_type": "stream",
     "text": [
      "2020 Bmw Model\n",
      "This car has 20000 miles on it.\n",
      "None\n",
      "2016 Tesla Model S\n"
     ]
    }
   ],
   "source": [
    "class Car():\n",
    "    def __init__(self, make, model, year):\n",
    "        self.make = make\n",
    "        self.model = model\n",
    "        self.year = year\n",
    "        self.odometer = 0\n",
    "    \n",
    "    def get_descriptive_name(self):\n",
    "        long_name = str(self.year) + ' ' + self.make + ' ' + self.model\n",
    "        return long_name.title()\n",
    "    \n",
    "    def read_odometer(self, miles):\n",
    "        self.miles = miles\n",
    "        print(\"This car has \" + str(self.miles) + ' miles on it.')\n",
    "    \n",
    "    def update_odometer(self, mileage):\n",
    "        if mileage >= self.miles:\n",
    "            self.odometer = mileage\n",
    "        else:\n",
    "            print(\"You can't roll back an odometer!\")\n",
    "            \n",
    "    def increment_odometer(self, miles):\n",
    "        self.odometer_reading  += miles\n",
    "        \n",
    "class ElectricCar(Car):\n",
    "    def __init__(self, make, model, year):\n",
    "        super().__init__(make, model, year)\n",
    "\n",
    "my_BMW = Car('BMW', 'model', 2020)\n",
    "print(my_BMW.get_descriptive_name())\n",
    "print(my_BMW.read_odometer(20000))\n",
    "\n",
    "my_tesla = ElectricCar('tesla', 'model s', 2016)\n",
    "print(my_tesla.get_descriptive_name())"
   ]
  }
 ],
 "metadata": {
  "kernelspec": {
   "display_name": "Python 3",
   "language": "python",
   "name": "python3"
  },
  "language_info": {
   "codemirror_mode": {
    "name": "ipython",
    "version": 3
   },
   "file_extension": ".py",
   "mimetype": "text/x-python",
   "name": "python",
   "nbconvert_exporter": "python",
   "pygments_lexer": "ipython3",
   "version": "3.8.3"
  }
 },
 "nbformat": 4,
 "nbformat_minor": 4
}
