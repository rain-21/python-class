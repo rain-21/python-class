{
 "cells": [
  {
   "cell_type": "code",
   "execution_count": 11,
   "metadata": {},
   "outputs": [
    {
     "name": "stdout",
     "output_type": "stream",
     "text": [
      "1×1=1\t\n",
      "\n",
      "2×1=2\t2×2=4\t\n",
      "\n",
      "3×1=3\t3×2=6\t3×3=9\t\n",
      "\n",
      "4×1=4\t4×2=8\t4×3=12\t4×4=16\t\n",
      "\n",
      "5×1=5\t5×2=10\t5×3=15\t5×4=20\t5×5=25\t\n",
      "\n",
      "6×1=6\t6×2=12\t6×3=18\t6×4=24\t6×5=30\t6×6=36\t\n",
      "\n",
      "7×1=7\t7×2=14\t7×3=21\t7×4=28\t7×5=35\t7×6=42\t7×7=49\t\n",
      "\n",
      "8×1=8\t8×2=16\t8×3=24\t8×4=32\t8×5=40\t8×6=48\t8×7=56\t8×8=64\t\n",
      "\n",
      "9×1=9\t9×2=18\t9×3=27\t9×4=36\t9×5=45\t9×6=54\t9×7=63\t9×8=72\t9×9=81\t\n",
      "\n"
     ]
    }
   ],
   "source": [
    "for i in range(1,10):\n",
    "    for j in range(1, i+1):\n",
    "        print('{}×{}={}'.format(i, j, i*j),end=\"\\t\")\n",
    "    print('\\n')\n"
   ]
  },
  {
   "cell_type": "code",
   "execution_count": 14,
   "metadata": {},
   "outputs": [],
   "source": [
    "# 4.打印三角形\n",
    "def que4():\n",
    "    # 实心三角形\n",
    "    def triangle_solid(num):\n",
    "        for i in range(num):\n",
    "            tab = False\n",
    "            for j in range(i+1):\n",
    "                print('*',end='')\n",
    "                if j == i:\n",
    "                    tab = True\n",
    "            if tab:\n",
    "                print('\\n' ,end = '')\n",
    "    # 空心三角形\n",
    "    def hollow_solid(num):\n",
    "        for i in range(num):\n",
    "            tab = False\n",
    "            for j in range(i + 1):\n",
    "                # 判断是否最后一行\n",
    "                if i != num-1:\n",
    "                    # 循环完成，修改标识符\n",
    "                    if j == i :\n",
    "                        tab = True\n",
    "                    # 判断打印空格还是*\n",
    "                    if (i == j or j == 0):\n",
    "                        print('*',end='')\n",
    "                    else :\n",
    "                        print(' ',end='')\n",
    "                # 最后一行，全部打印星号\n",
    "                else:\n",
    "                    print('*', end='')\n",
    "            if tab:\n",
    "                print('\\n', end='')\n",
    " \n",
    "    def hollow_solid_new(num):\n",
    "        for i in range(num):\n",
    "            for j in range(i + 1):\n",
    "                # 判断是否最后一行\n",
    "                if i != num-1:\n",
    "                    # 判断打印空格还是*\n",
    "                    if (i == j or j == 0):\n",
    "                        print('*',end='')\n",
    "                    else :\n",
    "                        print(' ',end='')\n",
    " \n",
    "                # 最后一行，全部打印星号\n",
    "                else:\n",
    "                    print('*', end='')\n",
    " \n",
    "                print('\\n')\n",
    "    num = int(input('你想打印几边形？请输入\\n'))\n",
    "    triangle_solid1(num)\n",
    "    print('\\n')\n",
    "    hollow_solid(num)\n",
    " \n",
    "    return '\\n'\n",
    "# que4()\n"
   ]
  },
  {
   "cell_type": "code",
   "execution_count": 15,
   "metadata": {},
   "outputs": [
    {
     "name": "stdout",
     "output_type": "stream",
     "text": [
      "Digital lower limit of guess number:\n",
      "2\n",
      "Digital upper limit of guess number:\n",
      "2\n",
      "WARNING: You have【3】 chances you guess --&&>>--【4】 chances left now:\n",
      "\n",
      "Please guess a int_number:\n",
      "3\n",
      "It's too big\n",
      "Please guess a int_number:\n",
      "6\n",
      "It's too big\n",
      "Please guess a int_number:\n",
      "1\n",
      "It's too small\n"
     ]
    }
   ],
   "source": [
    "import random\n",
    " \n",
    "def judge_num(num, num_random):\n",
    "    if num > num_random:\n",
    "        print('It\\'s too big')\n",
    "        return 1\n",
    "    elif num < num_random:\n",
    "        print('It\\'s too small')\n",
    "        return 1\n",
    "    else:\n",
    "        print(\"Congratulation!! That\\' right!\")\n",
    "        return 0\n",
    " \n",
    "# 产生随机数\n",
    "num_start = int(input('Digital lower limit of guess number:\\n'))\n",
    "num_end = int(input('Digital upper limit of guess number:\\n'))\n",
    "num_random = random.randint(num_start, num_end)\n",
    " \n",
    "# 参数初始化\n",
    "result = 1      # 判断结果\n",
    "i = 0           # 循环次数\n",
    "frequency = 3   # 循环限制次数\n",
    " \n",
    "# 提示总猜测次数、剩余次数\n",
    "print('WARNING: You have【{}】 chances you guess '.format(frequency), end = '--&&>>--')\n",
    "print('【{}】 chances left now:\\n'.format(frequency - i +1))\n",
    " \n",
    "while result and i != frequency:\n",
    "    # 猜数字\n",
    "    num = int(input('Please guess a int_number:\\n'))\n",
    "    result = judge_num(num, num_random)\n",
    "    i += 1\n"
   ]
  },
  {
   "cell_type": "code",
   "execution_count": null,
   "metadata": {},
   "outputs": [],
   "source": []
  }
 ],
 "metadata": {
  "kernelspec": {
   "display_name": "Python 3",
   "language": "python",
   "name": "python3"
  },
  "language_info": {
   "codemirror_mode": {
    "name": "ipython",
    "version": 3
   },
   "file_extension": ".py",
   "mimetype": "text/x-python",
   "name": "python",
   "nbconvert_exporter": "python",
   "pygments_lexer": "ipython3",
   "version": "3.8.5"
  }
 },
 "nbformat": 4,
 "nbformat_minor": 4
}
