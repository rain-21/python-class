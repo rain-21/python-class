{
 "cells": [
  {
   "cell_type": "code",
   "execution_count": 1,
   "metadata": {},
   "outputs": [
    {
     "name": "stdout",
     "output_type": "stream",
     "text": [
      "<class 'str'>\n",
      "12\n",
      "var1[5]:   \n",
      "var2[1:5]:  unoo\n"
     ]
    }
   ],
   "source": [
    "var1 = 'Hello World!'\n",
    "var2 = \"Runoob\"\n",
    "print(type(var1))\n",
    "print(len(var1))\n",
    "print (\"var1[5]: \", var1[5])\n",
    "print (\"var2[1:5]: \", var2[1:5])"
   ]
  },
  {
   "cell_type": "code",
   "execution_count": 2,
   "metadata": {},
   "outputs": [
    {
     "name": "stdout",
     "output_type": "stream",
     "text": [
      "已更新字符串 :  Hello Runoob!\n"
     ]
    }
   ],
   "source": [
    "var1 = 'Hello World!'\n",
    "print (\"已更新字符串 : \", var1[:6] + 'Runoob!')"
   ]
  },
  {
   "cell_type": "code",
   "execution_count": 5,
   "metadata": {},
   "outputs": [
    {
     "name": "stdout",
     "output_type": "stream",
     "text": [
      "Hello Hello Hello Hello Hello \n"
     ]
    },
    {
     "data": {
      "text/plain": [
       "True"
      ]
     },
     "execution_count": 5,
     "metadata": {},
     "output_type": "execute_result"
    }
   ],
   "source": [
    "print('Hello ' *5)\n",
    "'H' in 'Hello'"
   ]
  },
  {
   "cell_type": "code",
   "execution_count": 6,
   "metadata": {},
   "outputs": [
    {
     "name": "stdout",
     "output_type": "stream",
     "text": [
      "I am Lucy\n",
      "I\\'m OK\n",
      "I'm OK\n"
     ]
    }
   ],
   "source": [
    "name = 'Lucy'\n",
    "print(f'I am {name}')\n",
    "print(r'I\\'m OK')\n",
    "print('I\\'m OK')\n",
    "#r代表不转义字符"
   ]
  },
  {
   "cell_type": "code",
   "execution_count": 7,
   "metadata": {},
   "outputs": [
    {
     "name": "stdout",
     "output_type": "stream",
     "text": [
      "Hello world\n",
      "HELLO WORLD\n",
      "Hello World\n"
     ]
    }
   ],
   "source": [
    "sentence = 'hello world'\n",
    "print(sentence.capitalize())\n",
    "#首字母大写，其余小写\n",
    "print(sentence.upper())\n",
    "#全大写\n",
    "print(sentence.title())\n",
    "#每个单词首字母大写，其余小写"
   ]
  },
  {
   "cell_type": "code",
   "execution_count": 23,
   "metadata": {},
   "outputs": [
    {
     "name": "stdout",
     "output_type": "stream",
     "text": [
      "var.count('o') :  3\n",
      "var.count('run', 0, 10) :  0\n"
     ]
    }
   ],
   "source": [
    "var=\"www.runoob.com\"\n",
    "sub='o'\n",
    "#出现的次数\n",
    "print (\"var.count('o') : \", var.count('o'))\n",
    "sub='run'\n",
    "print (\"var.count('run', 0, 10) : \", var.count(sub,0,6))"
   ]
  },
  {
   "cell_type": "code",
   "execution_count": 17,
   "metadata": {},
   "outputs": [
    {
     "name": "stdout",
     "output_type": "stream",
     "text": [
      "True\n",
      "True\n",
      "False\n",
      "False\n",
      "False\n",
      "True\n",
      "**************************************************\n",
      "True\n",
      "True\n",
      "False\n",
      "True\n",
      "True\n",
      "True\n",
      "**************************************************\n",
      "False\n",
      "False\n",
      "False\n",
      "False\n",
      "True\n",
      "False\n",
      "**************************************************\n",
      "False\n",
      "False\n",
      "False\n",
      "False\n",
      "True\n",
      "True\n"
     ]
    }
   ],
   "source": [
    "str1 = \"runoob\"\n",
    "str2 = \"runoob菜鸟教程\"\n",
    "str3 = \"Runoob example....wow!!!\"\n",
    "str4 = \"runoob2016\"\n",
    "str5 = \"2016\"\n",
    "str6 = \"二零一六\"\n",
    "print(str1.isalpha())\n",
    "print(str2.isalpha())\n",
    "print(str3.isalpha())\n",
    "print(str4.isalpha())\n",
    "print(str5.isalpha())\n",
    "print(str6.isalpha())\n",
    "print('*'*50)\n",
    "print(str1.isalnum())\n",
    "print(str2.isalnum())\n",
    "print(str3.isalnum())\n",
    "print(str4.isalnum())\n",
    "print(str5.isalnum())\n",
    "print(str6.isalnum())\n",
    "print('*'*50)\n",
    "print (str1.isdigit())\n",
    "print (str2.isdigit())\n",
    "print (str3.isdigit())\n",
    "print (str4.isdigit())\n",
    "print (str5.isdigit())\n",
    "print (str6.isdigit())\n",
    "print('*'*50)\n",
    "print (str1.isnumeric())\n",
    "print (str2.isnumeric())\n",
    "print (str3.isnumeric())\n",
    "print (str4.isnumeric())\n",
    "print (str5.isnumeric())\n",
    "print (str6.isnumeric())"
   ]
  },
  {
   "cell_type": "code",
   "execution_count": 21,
   "metadata": {},
   "outputs": [
    {
     "name": "stdout",
     "output_type": "stream",
     "text": [
      "True\n",
      "True\n",
      "False\n"
     ]
    }
   ],
   "source": [
    "var = \"this is string example....wow!!!\"\n",
    "print (var.startswith( 'this' ))   # 字符串是否以 this 开头\n",
    "print (var.startswith( 'string', 8 ))  # 从第九个字符开始的字符串是否以 string 开头\n",
    "print (var.startswith( 'this', 1, 4 )) # 从第2个字符开始到第四个字符结束的字符串是否以 this 开头"
   ]
  },
  {
   "cell_type": "code",
   "execution_count": 37,
   "metadata": {},
   "outputs": [
    {
     "name": "stdout",
     "output_type": "stream",
     "text": [
      "True\n",
      "False\n",
      "False\n",
      "True\n"
     ]
    }
   ],
   "source": [
    "var='Runoob example....wow!!!'\n",
    "suffix='!!'\n",
    "print (var.endswith(suffix))\n",
    "print (var.endswith(suffix, len(var) - 1))\n",
    "#单数字代表从该索引开始一直到最后\n",
    "suffix='Run'\n",
    "print (var.endswith(suffix))\n",
    "print (var.endswith(suffix, 0, 3))"
   ]
  },
  {
   "cell_type": "code",
   "execution_count": 36,
   "metadata": {},
   "outputs": [
    {
     "name": "stdout",
     "output_type": "stream",
     "text": [
      "7\n",
      "7\n",
      "-1\n"
     ]
    }
   ],
   "source": [
    "str1 = \"Runoob example....wow!!!\"\n",
    "str2 = \"exam\";\n",
    "print (str1.find(str2))\n",
    "print (str1.find(str2, 7))\n",
    "print (str1.find(str2, 10))\n",
    "# print (str1.index(str2, 10))"
   ]
  },
  {
   "cell_type": "code",
   "execution_count": 38,
   "metadata": {},
   "outputs": [
    {
     "name": "stdout",
     "output_type": "stream",
     "text": [
      "*****this is **string** example....wow!!!*****\n"
     ]
    },
    {
     "data": {
      "text/plain": [
       "'this is **string** example....wow!!!'"
      ]
     },
     "execution_count": 38,
     "metadata": {},
     "output_type": "execute_result"
    }
   ],
   "source": [
    "str1 = \"    *****this is **string** example....wow!!!*****    \"\n",
    "#去掉开头末尾的空格\n",
    "str1 = str1.strip() # 默认空格\n",
    "print (str1)\n",
    "#去掉开头末尾的 '*'      \n",
    "str1 = str1.strip('*') # 指定字符串 *\n",
    "str1"
   ]
  },
  {
   "cell_type": "code",
   "execution_count": 4,
   "metadata": {},
   "outputs": [
    {
     "name": "stdout",
     "output_type": "stream",
     "text": [
      "['Google', 'Runoob', 'Taobao', 'Facebook']\n",
      "['Google', 'Runoob', 'Taobao#Facebook']\n"
     ]
    }
   ],
   "source": [
    "txt = \"Google#Runoob#Taobao#Facebook\"\n",
    "print(txt.split('#'))\n",
    "# 第二个参数为 1，分隔几个#\n",
    "x = txt.split(\"#\", 2)\n",
    "print(x)"
   ]
  },
  {
   "cell_type": "code",
   "execution_count": 6,
   "metadata": {},
   "outputs": [
    {
     "name": "stdout",
     "output_type": "stream",
     "text": [
      "菜鸟教程旧地址： www.w3cschool.cc\n",
      "菜鸟教程新地址： www.runoob.com\n",
      "thwas was string example....wow!!!\n"
     ]
    }
   ],
   "source": [
    "str1 = \"www.w3cschool.cc\"\n",
    "print (\"菜鸟教程旧地址：\", str1)\n",
    "print (\"菜鸟教程新地址：\", str1.replace(\"w3cschool.cc\", \"runoob.com\"))\n",
    "str2 = \"this is string example....wow!!!\"\n",
    "#数字代表替换几个\n",
    "print (str2.replace(\"is\", \"was\", 2))"
   ]
  },
  {
   "cell_type": "code",
   "execution_count": 4,
   "metadata": {},
   "outputs": [
    {
     "name": "stdout",
     "output_type": "stream",
     "text": [
      "<re.Match object; span=(0, 9), match='010-12345'>\n"
     ]
    }
   ],
   "source": [
    "import re\n",
    "#r代表不转yiyi字符\n",
    "a=re.match(r'\\d{3}\\-\\d{5}$', '010-12345')\n",
    "print(a)"
   ]
  },
  {
   "cell_type": "code",
   "execution_count": 17,
   "metadata": {},
   "outputs": [
    {
     "data": {
      "text/plain": [
       "['a', 'b', '', '', 'c']"
      ]
     },
     "execution_count": 17,
     "metadata": {},
     "output_type": "execute_result"
    }
   ],
   "source": [
    "'a b   c'.split(' ')"
   ]
  },
  {
   "cell_type": "code",
   "execution_count": 21,
   "metadata": {},
   "outputs": [
    {
     "name": "stdout",
     "output_type": "stream",
     "text": [
      "['a', 'b', 'c']\n",
      "['a', 'b', 'c', 'd']\n",
      "['a', 'b', 'c', 'd']\n"
     ]
    }
   ],
   "source": [
    "print(re.split(r'\\s+', 'a b   c'))\n",
    "print(re.split(r'[\\s\\,]+', 'a,b, c  d'))\n",
    "print(re.split(r'[\\s\\,\\;]+', 'a,b;; c  d'))"
   ]
  },
  {
   "cell_type": "code",
   "execution_count": 7,
   "metadata": {},
   "outputs": [
    {
     "name": "stdout",
     "output_type": "stream",
     "text": [
      "<re.Match object; span=(0, 11), match='15984804039'>\n",
      "15984804039\n",
      "5\n"
     ]
    }
   ],
   "source": [
    "m=re.match(r'^1(3|4|5|6|7|8|9)\\d{9}$','15984804039')\n",
    "print(m)\n",
    "print(m.group(0))\n",
    "print(m.group(1))"
   ]
  },
  {
   "cell_type": "code",
   "execution_count": 8,
   "metadata": {},
   "outputs": [
    {
     "data": {
      "text/plain": [
       "('102300', '')"
      ]
     },
     "execution_count": 8,
     "metadata": {},
     "output_type": "execute_result"
    }
   ],
   "source": [
    "re.match(r'^(\\d+)(0*)$', '102300').groups()\n",
    "# 由于\\d+采用贪婪匹配，直接把后面的0全部匹配了，结果0*只能匹配空字符串了。"
   ]
  },
  {
   "cell_type": "code",
   "execution_count": 9,
   "metadata": {},
   "outputs": [
    {
     "data": {
      "text/plain": [
       "('1023', '00')"
      ]
     },
     "execution_count": 9,
     "metadata": {},
     "output_type": "execute_result"
    }
   ],
   "source": [
    "re.match(r'^(\\d+?)(0*)$', '102300').groups()"
   ]
  },
  {
   "cell_type": "code",
   "execution_count": 11,
   "metadata": {},
   "outputs": [
    {
     "ename": "UnicodeDecodeError",
     "evalue": "'gbk' codec can't decode byte 0x9a in position 987: illegal multibyte sequence",
     "output_type": "error",
     "traceback": [
      "\u001b[1;31m---------------------------------------------------------------------------\u001b[0m",
      "\u001b[1;31mUnicodeDecodeError\u001b[0m                        Traceback (most recent call last)",
      "\u001b[1;32m<ipython-input-11-e769343ddaa0>\u001b[0m in \u001b[0;36m<module>\u001b[1;34m\u001b[0m\n\u001b[0;32m      1\u001b[0m \u001b[1;32mwith\u001b[0m \u001b[0mopen\u001b[0m\u001b[1;33m(\u001b[0m\u001b[1;34m're_test.txt'\u001b[0m\u001b[1;33m)\u001b[0m \u001b[1;32mas\u001b[0m \u001b[0mf\u001b[0m\u001b[1;33m:\u001b[0m\u001b[1;33m\u001b[0m\u001b[1;33m\u001b[0m\u001b[0m\n\u001b[1;32m----> 2\u001b[1;33m     \u001b[0mcontent\u001b[0m \u001b[1;33m=\u001b[0m \u001b[0mf\u001b[0m\u001b[1;33m.\u001b[0m\u001b[0mread\u001b[0m\u001b[1;33m(\u001b[0m\u001b[1;33m)\u001b[0m\u001b[1;33m\u001b[0m\u001b[1;33m\u001b[0m\u001b[0m\n\u001b[0m\u001b[0;32m      3\u001b[0m     \u001b[0mres\u001b[0m \u001b[1;33m=\u001b[0m \u001b[0mre\u001b[0m\u001b[1;33m.\u001b[0m\u001b[0msearch\u001b[0m\u001b[1;33m(\u001b[0m\u001b[1;34mr'^[a-zA-Z0-9_-]+@[a-zA-Z0-9_-]+(\\.[a-zA-Z0-9_-]+)+$'\u001b[0m\u001b[1;33m,\u001b[0m \u001b[0mcontent\u001b[0m\u001b[1;33m,\u001b[0m \u001b[0mre\u001b[0m\u001b[1;33m.\u001b[0m\u001b[0mM\u001b[0m\u001b[1;33m)\u001b[0m\u001b[1;33m\u001b[0m\u001b[1;33m\u001b[0m\u001b[0m\n\u001b[0;32m      4\u001b[0m     \u001b[0mprint\u001b[0m\u001b[1;33m(\u001b[0m\u001b[1;34m're.search'\u001b[0m\u001b[1;33m.\u001b[0m\u001b[0mcenter\u001b[0m\u001b[1;33m(\u001b[0m\u001b[1;36m50\u001b[0m\u001b[1;33m,\u001b[0m \u001b[1;34m'-'\u001b[0m\u001b[1;33m)\u001b[0m\u001b[1;33m)\u001b[0m\u001b[1;33m\u001b[0m\u001b[1;33m\u001b[0m\u001b[0m\n\u001b[0;32m      5\u001b[0m     \u001b[0mprint\u001b[0m\u001b[1;33m(\u001b[0m\u001b[0mres\u001b[0m\u001b[1;33m.\u001b[0m\u001b[0mgroup\u001b[0m\u001b[1;33m(\u001b[0m\u001b[1;33m)\u001b[0m\u001b[1;33m)\u001b[0m\u001b[1;33m\u001b[0m\u001b[1;33m\u001b[0m\u001b[0m\n",
      "\u001b[1;31mUnicodeDecodeError\u001b[0m: 'gbk' codec can't decode byte 0x9a in position 987: illegal multibyte sequence"
     ]
    }
   ],
   "source": [
    "with open('re_test.txt') as f:\n",
    "    content = f.read()\n",
    "    res = re.search(r'^[a-zA-Z0-9_-]+@[a-zA-Z0-9_-]+(\\.[a-zA-Z0-9_-]+)+$', content, re.M)\n",
    "    print('re.search'.center(50, '-'))\n",
    "    print(res.group())\n",
    "    print('re.findall'.center(50, '-'\n",
    "                             ))\n",
    "    res = re.findall(r'^([a-zA-Z0-9_-]+@[a-zA-Z0-9_-]+(\\.[a-zA-Z0-9_-]+)+)$', content, re.M)\n",
    "    for x in res:\n",
    "        print(x[0])"
   ]
  },
  {
   "cell_type": "code",
   "execution_count": 12,
   "metadata": {},
   "outputs": [
    {
     "name": "stdout",
     "output_type": "stream",
     "text": [
      "<class 'list'>\n"
     ]
    },
    {
     "data": {
      "text/plain": [
       "['red', 'green', 'blue', 'yellow', 'white', 'black']"
      ]
     },
     "execution_count": 12,
     "metadata": {},
     "output_type": "execute_result"
    }
   ],
   "source": [
    "colors = ['red', 'green', 'blue', 'yellow', 'white', 'black']\n",
    "print(type(colors))\n",
    "colors"
   ]
  },
  {
   "cell_type": "code",
   "execution_count": 13,
   "metadata": {},
   "outputs": [
    {
     "name": "stdout",
     "output_type": "stream",
     "text": [
      "red\n",
      "green\n",
      "blue\n",
      "black\n",
      "white\n",
      "yellow\n"
     ]
    }
   ],
   "source": [
    "print(colors[0])\n",
    "print(colors[1])\n",
    "print(colors[2])\n",
    "print(colors[-1])\n",
    "print(colors[-2])\n",
    "print(colors[-3])"
   ]
  },
  {
   "cell_type": "code",
   "execution_count": 14,
   "metadata": {},
   "outputs": [
    {
     "data": {
      "text/plain": [
       "[0, 10, 20, 30, 40, 50, 60, 70, 80, 90]"
      ]
     },
     "execution_count": 14,
     "metadata": {},
     "output_type": "execute_result"
    }
   ],
   "source": [
    "numbers = [0 ,10, 20, 30, 40, 50, 60, 70, 80, 90]\n",
    "numbers"
   ]
  },
  {
   "cell_type": "code",
   "execution_count": 15,
   "metadata": {},
   "outputs": [
    {
     "name": "stdout",
     "output_type": "stream",
     "text": [
      "[20, 30]\n",
      "[30, 40, 50, 60, 70, 80, 90]\n",
      "[0, 10, 20]\n",
      "[60, 70]\n",
      "[0, 20, 40, 60]\n",
      "[80, 70, 60, 50, 40, 30, 20, 10]\n",
      "[80, 70, 60, 50, 40, 30, 20, 10, 0]\n",
      "[90, 80, 70, 60, 50, 40, 30, 20, 10]\n",
      "[90, 80, 70, 60, 50, 40, 30, 20, 10, 0]\n"
     ]
    }
   ],
   "source": [
    "print(numbers[2:4])\n",
    "print(numbers[3:])\n",
    "print(numbers[:3])\n",
    "print(numbers[-4:-2])\n",
    "print(numbers[0:8:2])\n",
    "print(numbers[-2:-10:-1])\n",
    "print(numbers[-2::-1])\n",
    "print(numbers[:-10:-1])\n",
    "print(numbers[::-1])"
   ]
  },
  {
   "cell_type": "code",
   "execution_count": 16,
   "metadata": {},
   "outputs": [
    {
     "data": {
      "text/plain": [
       "['red', 'green', 'pink', 'yellow', 'white', 'black']"
      ]
     },
     "execution_count": 16,
     "metadata": {},
     "output_type": "execute_result"
    }
   ],
   "source": [
    "colors = ['red', 'green', 'blue', 'yellow', 'white', 'black']\n",
    "colors[2] = 'pink'\n",
    "colors"
   ]
  },
  {
   "cell_type": "code",
   "execution_count": 17,
   "metadata": {},
   "outputs": [
    {
     "data": {
      "text/plain": [
       "['green', 'yellow', 'white', 'black']"
      ]
     },
     "execution_count": 17,
     "metadata": {},
     "output_type": "execute_result"
    }
   ],
   "source": [
    "colors = ['red', 'green', 'blue', 'yellow', 'white', 'black']\n",
    "del colors[2]\n",
    "colors.remove('red')\n",
    "colors"
   ]
  },
  {
   "cell_type": "code",
   "execution_count": 18,
   "metadata": {},
   "outputs": [
    {
     "data": {
      "text/plain": [
       "['red', 'green', 'brown', 'blue', 'yellow', 'white', 'black', 'pink']"
      ]
     },
     "execution_count": 18,
     "metadata": {},
     "output_type": "execute_result"
    }
   ],
   "source": [
    "colors = ['red', 'green', 'blue', 'yellow', 'white', 'black']\n",
    "colors.append('pink')\n",
    "colors.insert(2, 'brown')\n",
    "colors"
   ]
  },
  {
   "cell_type": "code",
   "execution_count": 19,
   "metadata": {},
   "outputs": [
    {
     "name": "stdout",
     "output_type": "stream",
     "text": [
      "2\n",
      "1\n"
     ]
    }
   ],
   "source": [
    "colors = ['red', 'green', 'blue', 'yellow', 'white', 'black', 'red']\n",
    "print(colors.count('red'))\n",
    "print(colors.index('green'))"
   ]
  },
  {
   "cell_type": "code",
   "execution_count": 20,
   "metadata": {},
   "outputs": [
    {
     "name": "stdout",
     "output_type": "stream",
     "text": [
      "10\n",
      "9\n",
      "0\n",
      "[0, 1, 1, 2, 3, 4, 5, 6, 8, 9]\n",
      "[9, 8, 6, 5, 4, 3, 2, 1, 1, 0]\n",
      "[]\n"
     ]
    }
   ],
   "source": [
    "numbers = [0 ,1, 2, 4, 5, 6, 8, 9, 3, 1]\n",
    "print(len(numbers))\n",
    "print(max(numbers))\n",
    "print(min(numbers))\n",
    "numbers.sort()\n",
    "print(numbers)\n",
    "numbers.reverse()\n",
    "print(numbers)\n",
    "numbers.clear()\n",
    "print(numbers)"
   ]
  },
  {
   "cell_type": "code",
   "execution_count": 21,
   "metadata": {},
   "outputs": [
    {
     "data": {
      "text/plain": [
       "[1, 4, 9, 16, 25, 36, 49, 64]"
      ]
     },
     "execution_count": 21,
     "metadata": {},
     "output_type": "execute_result"
    }
   ],
   "source": [
    "squares = []\n",
    "squares += [1, 4, 9, 16, 25]\n",
    "squares += [36, 49, 64]\n",
    "squares"
   ]
  },
  {
   "cell_type": "code",
   "execution_count": 22,
   "metadata": {},
   "outputs": [
    {
     "data": {
      "text/plain": [
       "[1, 4, 9, 16, 25, 36, 49, 64, 81, 100]"
      ]
     },
     "execution_count": 22,
     "metadata": {},
     "output_type": "execute_result"
    }
   ],
   "source": [
    "squares.extend([81, 100])\n",
    "squares"
   ]
  },
  {
   "cell_type": "code",
   "execution_count": 23,
   "metadata": {},
   "outputs": [
    {
     "data": {
      "text/plain": [
       "['Hello',\n",
       " 'World',\n",
       " 'Hello',\n",
       " 'World',\n",
       " 'Hello',\n",
       " 'World',\n",
       " 'Hello',\n",
       " 'World',\n",
       " 'Hello',\n",
       " 'World']"
      ]
     },
     "execution_count": 23,
     "metadata": {},
     "output_type": "execute_result"
    }
   ],
   "source": [
    "['Hello', 'World'] * 5"
   ]
  },
  {
   "cell_type": "code",
   "execution_count": 24,
   "metadata": {},
   "outputs": [
    {
     "name": "stdout",
     "output_type": "stream",
     "text": [
      "<class 'range'>\n"
     ]
    },
    {
     "data": {
      "text/plain": [
       "[0, 1, 2, 3, 4]"
      ]
     },
     "execution_count": 24,
     "metadata": {},
     "output_type": "execute_result"
    }
   ],
   "source": [
    "print(type(range(5)))\n",
    "list(range(5))"
   ]
  },
  {
   "cell_type": "code",
   "execution_count": 25,
   "metadata": {},
   "outputs": [
    {
     "name": "stdout",
     "output_type": "stream",
     "text": [
      "[0, 1, 2, 3, 4, 'Hello', 'World']\n",
      "0_1_2_3_4_Hello_World\n"
     ]
    }
   ],
   "source": [
    "args = [*range(5), 'Hello', 'World']\n",
    "print(args)\n",
    "print(*args, sep='_')"
   ]
  },
  {
   "cell_type": "code",
   "execution_count": 26,
   "metadata": {},
   "outputs": [
    {
     "name": "stdout",
     "output_type": "stream",
     "text": [
      "<class 'tuple'>\n",
      "('Google', 'Runoob', 1997, 2000)\n",
      "(1, 2, 3, 4, 5)\n",
      "('a', 'b', 'c', 'd')\n",
      "(1,)\n",
      "(1,)\n"
     ]
    }
   ],
   "source": [
    "tup1 = ('Google', 'Runoob', 1997, 2000)\n",
    "print(type(tup1))\n",
    "tup2 = (1, 2, 3, 4, 5)\n",
    "tup3 = \"a\", \"b\", \"c\", \"d\"   #  不需要括号也可以\n",
    "tup4 = (1,)\n",
    "tup5 = 1,\n",
    "print(tup1)\n",
    "print(tup2)\n",
    "print(tup3)\n",
    "print(tup4)\n",
    "print(tup5)"
   ]
  },
  {
   "cell_type": "code",
   "execution_count": 27,
   "metadata": {},
   "outputs": [
    {
     "data": {
      "text/plain": [
       "'Google'"
      ]
     },
     "execution_count": 27,
     "metadata": {},
     "output_type": "execute_result"
    }
   ],
   "source": [
    "tup1[0]"
   ]
  },
  {
   "cell_type": "code",
   "execution_count": 28,
   "metadata": {},
   "outputs": [
    {
     "ename": "TypeError",
     "evalue": "'tuple' object does not support item assignment",
     "output_type": "error",
     "traceback": [
      "\u001b[1;31m---------------------------------------------------------------------------\u001b[0m",
      "\u001b[1;31mTypeError\u001b[0m                                 Traceback (most recent call last)",
      "\u001b[1;32m<ipython-input-28-842cf46cea7b>\u001b[0m in \u001b[0;36m<module>\u001b[1;34m\u001b[0m\n\u001b[1;32m----> 1\u001b[1;33m \u001b[0mtup1\u001b[0m\u001b[1;33m[\u001b[0m\u001b[1;36m1\u001b[0m\u001b[1;33m]\u001b[0m \u001b[1;33m=\u001b[0m \u001b[1;34m'Baidu'\u001b[0m\u001b[1;33m\u001b[0m\u001b[1;33m\u001b[0m\u001b[0m\n\u001b[0m",
      "\u001b[1;31mTypeError\u001b[0m: 'tuple' object does not support item assignment"
     ]
    }
   ],
   "source": [
    "tup1[1] = 'Baidu'"
   ]
  },
  {
   "cell_type": "code",
   "execution_count": 31,
   "metadata": {},
   "outputs": [
    {
     "ename": "NameError",
     "evalue": "name 'tup1' is not defined",
     "output_type": "error",
     "traceback": [
      "\u001b[1;31m---------------------------------------------------------------------------\u001b[0m",
      "\u001b[1;31mNameError\u001b[0m                                 Traceback (most recent call last)",
      "\u001b[1;32m<ipython-input-31-466ddaa8bb42>\u001b[0m in \u001b[0;36m<module>\u001b[1;34m\u001b[0m\n\u001b[1;32m----> 1\u001b[1;33m \u001b[0mtup1\u001b[0m \u001b[1;33m+\u001b[0m \u001b[0mtup2\u001b[0m\u001b[1;33m\u001b[0m\u001b[1;33m\u001b[0m\u001b[0m\n\u001b[0m",
      "\u001b[1;31mNameError\u001b[0m: name 'tup1' is not defined"
     ]
    }
   ],
   "source": [
    "tup1 + tup2"
   ]
  },
  {
   "cell_type": "code",
   "execution_count": 32,
   "metadata": {},
   "outputs": [
    {
     "ename": "NameError",
     "evalue": "name 'tup1' is not defined",
     "output_type": "error",
     "traceback": [
      "\u001b[1;31m---------------------------------------------------------------------------\u001b[0m",
      "\u001b[1;31mNameError\u001b[0m                                 Traceback (most recent call last)",
      "\u001b[1;32m<ipython-input-32-aed842374e0c>\u001b[0m in \u001b[0;36m<module>\u001b[1;34m\u001b[0m\n\u001b[1;32m----> 1\u001b[1;33m \u001b[1;32mdel\u001b[0m \u001b[0mtup1\u001b[0m\u001b[1;33m\u001b[0m\u001b[1;33m\u001b[0m\u001b[0m\n\u001b[0m\u001b[0;32m      2\u001b[0m \u001b[0mprint\u001b[0m\u001b[1;33m(\u001b[0m\u001b[0mtup1\u001b[0m\u001b[1;33m)\u001b[0m\u001b[1;33m\u001b[0m\u001b[1;33m\u001b[0m\u001b[0m\n",
      "\u001b[1;31mNameError\u001b[0m: name 'tup1' is not defined"
     ]
    }
   ],
   "source": [
    "del tup1\n",
    "print(tup1)"
   ]
  },
  {
   "cell_type": "code",
   "execution_count": 33,
   "metadata": {},
   "outputs": [
    {
     "data": {
      "text/plain": [
       "(0, 1, 2, 3, 4)"
      ]
     },
     "execution_count": 33,
     "metadata": {},
     "output_type": "execute_result"
    }
   ],
   "source": [
    "tuple(range(5))"
   ]
  },
  {
   "cell_type": "code",
   "execution_count": 34,
   "metadata": {},
   "outputs": [
    {
     "name": "stdout",
     "output_type": "stream",
     "text": [
      "<class 'set'>\n",
      "{'orange', 'banana', 'pear', 'apple'}\n",
      "{'H', 'r', ' ', 'W', 'd', 'o', 'l', 'e'}\n"
     ]
    }
   ],
   "source": [
    "basket = {'apple', 'orange', 'apple', 'pear', 'orange', 'banana'}\n",
    "print(type(basket))\n",
    "print(basket)\n",
    "letters = set('Hello World')\n",
    "print(letters)"
   ]
  },
  {
   "cell_type": "code",
   "execution_count": 35,
   "metadata": {},
   "outputs": [
    {
     "name": "stdout",
     "output_type": "stream",
     "text": [
      "{'orange', 'banana', 'pear', 'melon', 'apple'}\n",
      "{'orange', 'banana', 'pear', 'melon'}\n"
     ]
    }
   ],
   "source": [
    "basket.add('melon')\n",
    "print(basket)\n",
    "basket.remove('apple')\n",
    "print(basket)"
   ]
  },
  {
   "cell_type": "code",
   "execution_count": 36,
   "metadata": {},
   "outputs": [
    {
     "name": "stdout",
     "output_type": "stream",
     "text": [
      "{'orange', 'banana', 'm', 'n', 'pear', 'o', 'l', 'e', 'apple'}\n",
      "{'orange', 'lemon', 'banana', 'm', 'n', 'pear', 'o', 'l', 'e', 'melon', 'apple'}\n"
     ]
    }
   ],
   "source": [
    "basket = {'apple', 'orange', 'apple', 'pear', 'orange', 'banana'}\n",
    "basket.update('melon')\n",
    "print(basket)\n",
    "basket.update(['melon', 'lemon'])\n",
    "print(basket)"
   ]
  },
  {
   "cell_type": "code",
   "execution_count": 37,
   "metadata": {},
   "outputs": [
    {
     "name": "stdout",
     "output_type": "stream",
     "text": [
      "{'r', 'c', 'a', 'd', 'b'}\n",
      "{'c', 'z', 'm', 'a', 'l'}\n",
      "{'b', 'r', 'd'}\n",
      "{'r', 'c', 'z', 'm', 'l', 'a', 'd', 'b'}\n",
      "{'a', 'c'}\n",
      "{'b', 'r', 'm', 'z', 'l', 'd'}\n"
     ]
    }
   ],
   "source": [
    "a = set('abracadabra')\n",
    "b = set('alacazam')\n",
    "print(a)\n",
    "print(b)\n",
    "print(a - b) # 集合a中包含而集合b中不包含的元素\n",
    "print(a | b) # 集合a或b中包含的所有元素\n",
    "print(a & b) # 集合a和b中都包含了的元素\n",
    "print(a ^ b) # 不同时包含于a和b的元素"
   ]
  },
  {
   "cell_type": "code",
   "execution_count": 38,
   "metadata": {},
   "outputs": [
    {
     "name": "stdout",
     "output_type": "stream",
     "text": [
      "<class 'dict'>\n",
      "dict1['Name']:  Runoob\n",
      "dict1['Age']:  7\n"
     ]
    }
   ],
   "source": [
    "dict1 = {'Name': 'Runoob', 'Age': 7, 'Class': 'First'}\n",
    "print(type(dict1))\n",
    "print (\"dict1['Name']: \", dict1['Name'])\n",
    "print (\"dict1['Age']: \", dict1['Age'])"
   ]
  },
  {
   "cell_type": "code",
   "execution_count": 39,
   "metadata": {},
   "outputs": [
    {
     "data": {
      "text/plain": [
       "{'Name': 'Runoob', 'Age': 8, 'Class': 'First', 'School': '菜鸟教程'}"
      ]
     },
     "execution_count": 39,
     "metadata": {},
     "output_type": "execute_result"
    }
   ],
   "source": [
    "dict1 = {\n",
    "    'Name': 'Runoob', \n",
    "    'Age': 7, \n",
    "    'Class': 'First'\n",
    "}\n",
    " \n",
    "dict1['Age'] = 8             # 更新 Age\n",
    "dict1['School'] = \"菜鸟教程\"  # 添加信息\n",
    "dict1"
   ]
  },
  {
   "cell_type": "code",
   "execution_count": 40,
   "metadata": {},
   "outputs": [
    {
     "name": "stdout",
     "output_type": "stream",
     "text": [
      "{'Age': 7, 'Class': 'First'}\n",
      "{}\n"
     ]
    }
   ],
   "source": [
    "dict1 = {'Name': 'Runoob', 'Age': 7, 'Class': 'First'}\n",
    " \n",
    "del dict1['Name'] # 删除键 'Name'\n",
    "print(dict1)\n",
    "dict1.clear()     # 清空字典\n",
    "print(dict1)"
   ]
  },
  {
   "cell_type": "code",
   "execution_count": 41,
   "metadata": {},
   "outputs": [
    {
     "name": "stdout",
     "output_type": "stream",
     "text": [
      "dict_keys(['Name', 'Age', 'Class'])\n",
      "dict_values(['Runoob', 7, 'First'])\n",
      "dict_items([('Name', 'Runoob'), ('Age', 7), ('Class', 'First')])\n"
     ]
    }
   ],
   "source": [
    "dict1 = {'Name': 'Runoob', 'Age': 7, 'Class': 'First'}\n",
    "print(dict1.keys())\n",
    "print(dict1.values())\n",
    "print(dict1.items())"
   ]
  },
  {
   "cell_type": "code",
   "execution_count": 42,
   "metadata": {},
   "outputs": [
    {
     "name": "stdout",
     "output_type": "stream",
     "text": [
      "{'a': 0, 'b': 0, 'c': 0}\n"
     ]
    }
   ],
   "source": [
    "print(dict1.fromkeys('abc', 0))"
   ]
  },
  {
   "cell_type": "code",
   "execution_count": 43,
   "metadata": {},
   "outputs": [
    {
     "name": "stdout",
     "output_type": "stream",
     "text": [
      "更新字典 dict1 :  {'Name': 'Runoob', 'Age': 10, 'Sex': 'female'}\n"
     ]
    }
   ],
   "source": [
    "dict1 = {'Name': 'Runoob', 'Age': 7}\n",
    "dict2 = {'Sex': 'female' , 'Age': 10}\n",
    " \n",
    "dict1.update(dict2)\n",
    "print (\"更新字典 dict1 : \", dict1)"
   ]
  },
  {
   "cell_type": "code",
   "execution_count": 44,
   "metadata": {},
   "outputs": [
    {
     "name": "stdout",
     "output_type": "stream",
     "text": [
      "apple\n",
      "orange\n",
      "apple\n",
      "pear\n",
      "orange\n",
      "banana\n"
     ]
    }
   ],
   "source": [
    "basket = ['apple', 'orange', 'apple', 'pear', 'orange', 'banana']\n",
    "# basket = ('apple', 'orange', 'apple', 'pear', 'orange', 'banana')\n",
    "# basket = {'apple', 'orange', 'apple', 'pear', 'orange', 'banana'}\n",
    "for x in basket:\n",
    "    print(x)"
   ]
  },
  {
   "cell_type": "code",
   "execution_count": 45,
   "metadata": {},
   "outputs": [
    {
     "name": "stdout",
     "output_type": "stream",
     "text": [
      "apple\n",
      "orange\n",
      "apple\n",
      "pear\n",
      "orange\n",
      "banana\n"
     ]
    }
   ],
   "source": [
    "basket = ['apple', 'orange', 'apple', 'pear', 'orange', 'banana']\n",
    "for i in range(len(basket)):\n",
    "    print(basket[i])"
   ]
  },
  {
   "cell_type": "code",
   "execution_count": 46,
   "metadata": {},
   "outputs": [
    {
     "name": "stdout",
     "output_type": "stream",
     "text": [
      "[(0, 'apple'), (1, 'orange'), (2, 'apple'), (3, 'pear'), (4, 'orange'), (5, 'banana')]\n",
      "0----------apple\n",
      "1----------orange\n",
      "2----------apple\n",
      "3----------pear\n",
      "4----------orange\n",
      "5----------banana\n"
     ]
    }
   ],
   "source": [
    "basket = ['apple', 'orange', 'apple', 'pear', 'orange', 'banana']\n",
    "print(list(enumerate(basket)))\n",
    "for i, v in enumerate(basket):\n",
    "    print(f'{i}{\"-\" * 10}{v}')"
   ]
  },
  {
   "cell_type": "code",
   "execution_count": 47,
   "metadata": {},
   "outputs": [
    {
     "name": "stdout",
     "output_type": "stream",
     "text": [
      "[(0, 'apple'), (1, 'orange'), (2, 'apple'), (3, 'pear'), (4, 'orange'), (5, 'banana')]\n",
      "0----------apple\n",
      "1----------orange\n",
      "2----------apple\n",
      "3----------pear\n",
      "4----------orange\n",
      "5----------banana\n"
     ]
    }
   ],
   "source": [
    "basket = ['apple', 'orange', 'apple', 'pear', 'orange', 'banana']\n",
    "indexes = range(len(basket))\n",
    "print(list(zip(indexes, basket)))\n",
    "for i, v in zip(indexes, basket):\n",
    "    print(f'{i}{\"-\" * 10}{v}')"
   ]
  },
  {
   "cell_type": "code",
   "execution_count": 48,
   "metadata": {},
   "outputs": [
    {
     "name": "stdout",
     "output_type": "stream",
     "text": [
      "0 * 10 is 0\n",
      "1 * 11 is 11\n",
      "2 * 12 is 24\n",
      "3 * 13 is 39\n",
      "4 * 14 is 56\n",
      "5 * 15 is 75\n",
      "6 * 16 is 96\n",
      "7 * 17 is 119\n",
      "8 * 18 is 144\n",
      "9 * 19 is 171\n"
     ]
    }
   ],
   "source": [
    "r1 = range(10)\n",
    "r2 = range(10, 20)\n",
    "for i, j in zip(r1, r2):\n",
    "    print(f'{i} * {j} is {i * j}')"
   ]
  },
  {
   "cell_type": "code",
   "execution_count": 49,
   "metadata": {},
   "outputs": [
    {
     "name": "stdout",
     "output_type": "stream",
     "text": [
      "Name\n",
      "Age\n",
      "Class\n",
      "Runoob\n",
      "7\n",
      "First\n",
      "Name----------Runoob\n",
      "Age----------7\n",
      "Class----------First\n"
     ]
    }
   ],
   "source": [
    "dict1 = {'Name': 'Runoob', 'Age': 7, 'Class': 'First'}\n",
    "for k in dict1.keys():\n",
    "    print(k)\n",
    "for v in dict1.values():\n",
    "    print(v)\n",
    "for k, v in dict1.items():\n",
    "    print(f'{k}{\"-\" * 10}{v}')"
   ]
  },
  {
   "cell_type": "code",
   "execution_count": 50,
   "metadata": {},
   "outputs": [
    {
     "name": "stdout",
     "output_type": "stream",
     "text": [
      "['apple', 'pear', 'banana', [0, 1, 2]]\n"
     ]
    }
   ],
   "source": [
    "basket = ['apple', 'pear', 'banana']\n",
    "numbers = list(range(3))\n",
    "basket.append(numbers)\n",
    "print(basket)"
   ]
  },
  {
   "cell_type": "code",
   "execution_count": 51,
   "metadata": {},
   "outputs": [
    {
     "data": {
      "text/plain": [
       "['apple', 'pear', 'banana', 0, 1, 2]"
      ]
     },
     "execution_count": 51,
     "metadata": {},
     "output_type": "execute_result"
    }
   ],
   "source": [
    "def flat(l):\n",
    "    f = []\n",
    "    for x in l:\n",
    "        if type(x) is list:\n",
    "            f.extend(x)\n",
    "        else:\n",
    "            f.append(x)\n",
    "    return f\n",
    "flat(basket)"
   ]
  },
  {
   "cell_type": "code",
   "execution_count": 52,
   "metadata": {},
   "outputs": [
    {
     "name": "stdout",
     "output_type": "stream",
     "text": [
      "1\n",
      "2\n"
     ]
    }
   ],
   "source": [
    "l = [1,2,3,4]\n",
    "it = iter(l)    # 创建迭代器对象\n",
    "print(next(it))   # 输出迭代器的下一个元素\n",
    "print (next(it))"
   ]
  },
  {
   "cell_type": "code",
   "execution_count": 53,
   "metadata": {},
   "outputs": [
    {
     "name": "stdout",
     "output_type": "stream",
     "text": [
      "1 2 3 4 "
     ]
    }
   ],
   "source": [
    "l=[1,2,3,4]\n",
    "it = iter(l)    # 创建迭代器对象\n",
    "for x in it:\n",
    "    print (x, end=\" \")"
   ]
  },
  {
   "cell_type": "code",
   "execution_count": 54,
   "metadata": {},
   "outputs": [
    {
     "name": "stdout",
     "output_type": "stream",
     "text": [
      "0 1 1 2 3 5 8 13 21 34 55 "
     ]
    }
   ],
   "source": [
    "def fibonacci(n): # 生成器函数 - 斐波那契\n",
    "    a, b, counter = 0, 1, 0\n",
    "    while True:\n",
    "        if (counter > n): \n",
    "            return\n",
    "        yield a\n",
    "        a, b = b, a + b\n",
    "        counter += 1\n",
    "f = fibonacci(10) # f 是一个迭代器，由生成器返回生成\n",
    "\n",
    "for x in f:\n",
    "    print (x, end=\" \")"
   ]
  },
  {
   "cell_type": "code",
   "execution_count": 55,
   "metadata": {},
   "outputs": [
    {
     "data": {
      "text/plain": [
       "5"
      ]
     },
     "execution_count": 55,
     "metadata": {},
     "output_type": "execute_result"
    }
   ],
   "source": [
    "def add(x, y): \n",
    "    return x + y\n",
    "  \n",
    "# Call the function\n",
    "add(2, 3)  # Output: 5"
   ]
  },
  {
   "cell_type": "code",
   "execution_count": 56,
   "metadata": {},
   "outputs": [
    {
     "data": {
      "text/plain": [
       "5"
      ]
     },
     "execution_count": 56,
     "metadata": {},
     "output_type": "execute_result"
    }
   ],
   "source": [
    "add = lambda x, y : x + y \n",
    "  \n",
    "add(2, 3) # Output: 5"
   ]
  },
  {
   "cell_type": "code",
   "execution_count": 57,
   "metadata": {},
   "outputs": [
    {
     "data": {
      "text/plain": [
       "[1, 3]"
      ]
     },
     "execution_count": 57,
     "metadata": {},
     "output_type": "execute_result"
    }
   ],
   "source": [
    "a = filter(lambda x : x % 2 != 0, [1,2,3,4])\n",
    "list(a)"
   ]
  },
  {
   "cell_type": "code",
   "execution_count": 58,
   "metadata": {},
   "outputs": [
    {
     "data": {
      "text/plain": [
       "[11, 12, 13, 14]"
      ]
     },
     "execution_count": 58,
     "metadata": {},
     "output_type": "execute_result"
    }
   ],
   "source": [
    "a = map(lambda x : x + 10, [1,2,3,4])\n",
    "list(a)"
   ]
  },
  {
   "cell_type": "code",
   "execution_count": 59,
   "metadata": {},
   "outputs": [
    {
     "data": {
      "text/plain": [
       "10"
      ]
     },
     "execution_count": 59,
     "metadata": {},
     "output_type": "execute_result"
    }
   ],
   "source": [
    "from functools import reduce\n",
    "reduce(lambda x, y : x + y, [1,2,3,4])"
   ]
  },
  {
   "cell_type": "code",
   "execution_count": 63,
   "metadata": {},
   "outputs": [
    {
     "name": "stdout",
     "output_type": "stream",
     "text": [
      "10\n",
      "runoob\n",
      "runoob 说: 我 10 岁。\n"
     ]
    }
   ],
   "source": [
    "from people import People\n",
    "p = People('runoob',10)\n",
    "print(p.age)\n",
    "print(p.name)\n",
    "p.speak()"
   ]
  },
  {
   "cell_type": "code",
   "execution_count": 64,
   "metadata": {},
   "outputs": [
    {
     "data": {
      "text/plain": [
       "True"
      ]
     },
     "execution_count": 64,
     "metadata": {},
     "output_type": "execute_result"
    }
   ],
   "source": [
    "isinstance(p, People)"
   ]
  },
  {
   "cell_type": "code",
   "execution_count": 65,
   "metadata": {},
   "outputs": [
    {
     "name": "stdout",
     "output_type": "stream",
     "text": [
      "ken 说: 我 10 岁了，我在读 3 年级\n"
     ]
    }
   ],
   "source": [
    "from people import Student\n",
    "\n",
    "s = Student('ken',10,3)\n",
    "s.speak()"
   ]
  },
  {
   "cell_type": "code",
   "execution_count": 66,
   "metadata": {},
   "outputs": [
    {
     "ename": "NameError",
     "evalue": "name 'Blackcat' is not defined",
     "output_type": "error",
     "traceback": [
      "\u001b[1;31m---------------------------------------------------------------------------\u001b[0m",
      "\u001b[1;31mNameError\u001b[0m                                 Traceback (most recent call last)",
      "\u001b[1;32m<ipython-input-66-89bece10d224>\u001b[0m in \u001b[0;36m<module>\u001b[1;34m\u001b[0m\n\u001b[1;32m----> 1\u001b[1;33m \u001b[0missubclass\u001b[0m\u001b[1;33m(\u001b[0m\u001b[0mBlackcat\u001b[0m\u001b[1;33m,\u001b[0m \u001b[0mCat\u001b[0m\u001b[1;33m)\u001b[0m\u001b[1;33m\u001b[0m\u001b[1;33m\u001b[0m\u001b[0m\n\u001b[0m",
      "\u001b[1;31mNameError\u001b[0m: name 'Blackcat' is not defined"
     ]
    }
   ],
   "source": [
    "issubclass(Blackcat, Cat)"
   ]
  },
  {
   "cell_type": "code",
   "execution_count": 67,
   "metadata": {},
   "outputs": [
    {
     "data": {
      "text/plain": [
       "True"
      ]
     },
     "execution_count": 67,
     "metadata": {},
     "output_type": "execute_result"
    }
   ],
   "source": [
    "isinstance(s, Student)\n",
    "isinstance(s, People)"
   ]
  },
  {
   "cell_type": "code",
   "execution_count": 68,
   "metadata": {},
   "outputs": [
    {
     "name": "stdout",
     "output_type": "stream",
     "text": [
      "PARENT implicit()\n",
      "PARENT implicit()\n",
      "PARENT override()\n",
      "CHILD override()\n",
      "PARENT altered()\n",
      "CHILD, BEFORE PARENT altered()\n",
      "PARENT altered()\n",
      "CHILD, AFTER PARENT altered()\n"
     ]
    }
   ],
   "source": [
    "class Parent(object):\n",
    "    def override(self):\n",
    "        print(\"PARENT override()\")\n",
    "\n",
    "    def implicit(self):\n",
    "        print(\"PARENT implicit()\")\n",
    "\n",
    "    def altered(self):\n",
    "        print(\"PARENT altered()\")\n",
    "\n",
    "class Child(Parent):\n",
    "    def override(self):\n",
    "        print(\"CHILD override()\")\n",
    "\n",
    "    def altered(self):\n",
    "        print(\"CHILD, BEFORE PARENT altered()\")\n",
    "        super(Child, self).altered()\n",
    "        print(\"CHILD, AFTER PARENT altered()\")\n",
    "        \n",
    "dad = Parent()\n",
    "son = Child()\n",
    "\n",
    "dad.implicit()\n",
    "son.implicit()\n",
    "\n",
    "dad.override()\n",
    "son.override()\n",
    "\n",
    "dad.altered()\n",
    "son.altered()"
   ]
  },
  {
   "cell_type": "code",
   "execution_count": 69,
   "metadata": {},
   "outputs": [
    {
     "name": "stdout",
     "output_type": "stream",
     "text": [
      "OTHER implicit()\n",
      "CHILD override()\n",
      "CHILD, BEFORE OTHER altered()\n",
      "OTHER altered()\n",
      "CHILD, AFTER OTHER altered()\n"
     ]
    }
   ],
   "source": [
    "class Other(object): \n",
    "    def override(self):\n",
    "        print(\"OTHER override()\") \n",
    "    def implicit(self):\n",
    "        print(\"OTHER implicit()\") \n",
    "    def altered(self):\n",
    "        print(\"OTHER altered()\") \n",
    "        \n",
    "class Child(object):\n",
    "    def __init__(self): \n",
    "        self.other = Other()\n",
    "    def implicit(self): \n",
    "        self.other.implicit()\n",
    "    def override(self): \n",
    "        print(\"CHILD override()\")\n",
    "    def altered(self):\n",
    "        print(\"CHILD, BEFORE OTHER altered()\") \n",
    "        self.other.altered()\n",
    "        print(\"CHILD, AFTER OTHER altered()\")\n",
    "\n",
    "son = Child()\n",
    "son.implicit() \n",
    "son.override() \n",
    "son.altered()"
   ]
  },
  {
   "cell_type": "code",
   "execution_count": 70,
   "metadata": {},
   "outputs": [
    {
     "data": {
      "text/plain": [
       "False"
      ]
     },
     "execution_count": 70,
     "metadata": {},
     "output_type": "execute_result"
    }
   ],
   "source": [
    "issubclass(Child, Other)"
   ]
  },
  {
   "cell_type": "code",
   "execution_count": 71,
   "metadata": {},
   "outputs": [
    {
     "name": "stdout",
     "output_type": "stream",
     "text": [
      "Adams is sleeping\n",
      "Adams is eating meat\n",
      "I am really an animal\n",
      "I am actually an animal\n",
      "Tim is playing\n",
      "Mary is watching\n",
      "Animal\n",
      "Animal\n",
      "3\n"
     ]
    }
   ],
   "source": [
    "from animal import *\n",
    "\n",
    "# 创建实例调用Animal类\n",
    "adams = Animal(name=\"Adams\",age=2) # 创建实例\n",
    "adams.actually # 调用类属性\n",
    "# 'animal'\n",
    "Animal.actually # 类调用类属性\n",
    "# 'animal'\n",
    "adams.name # 调用普通属性\n",
    "# 'Adams'\n",
    "\n",
    "adams.sleep() # 调用普通方法\n",
    "# Adams is sleeping\n",
    "adams.eat(\"meat\") # 有参数的普通方法\n",
    "# Adams is eating meat\n",
    "\n",
    "adams.sentence(\"really\") # 实例调用类方法\n",
    "# I am really an animal\n",
    "Animal.sentence(\"actually\") # 类调用类方法\n",
    "# I am actually an animal\n",
    "\n",
    "adams.other(\"Tim\", \"play\") # 实例调用静态方法\n",
    "# Tim is playing\n",
    "Animal.other(\"Mary\", \"watch\") # 类调用静态方法\n",
    "# Mary is watching\n",
    "\n",
    "Animal.actually = \"Animal\" # 修改类属性\n",
    "print(adams.actually)\n",
    "# 'Animal'\n",
    "adams.actually = \"animal\"\n",
    "print(Animal.actually)\n",
    "# 'Animal'\n",
    "adams.age = 3 # 普通属性这样就改过来了\n",
    "print(adams.age)\n",
    "# Animal.print_animal()"
   ]
  },
  {
   "cell_type": "code",
   "execution_count": 72,
   "metadata": {},
   "outputs": [
    {
     "name": "stdout",
     "output_type": "stream",
     "text": [
      "I am eating\n",
      "I can't run\n",
      "I am running\n",
      "America\n",
      "The attr country is deleted\n",
      "Beijing\n"
     ]
    }
   ],
   "source": [
    "david = Dog(\"David\", 2) # 创建实例\n",
    "\n",
    "# 只用@property的情形\n",
    "david.eating() # 调用普通方法\n",
    "# I am eating\n",
    "david.running # 用过@property装饰器后不需要加括号\n",
    "# I can't run\n",
    "\n",
    "dean = Dog(\"Dean\", 4)\n",
    "dean.running # 在@property的属性中进行判断\n",
    "# I am running\n",
    "\n",
    "\n",
    "# @property等三个装饰器\n",
    "david.country = \"America\"\n",
    "print(david.country)\n",
    "del david.country # 如果这里的不出现_country则这样就可以删除，但是用self.country则真的变成了属性，所以为了区别多定义了一个_country\n",
    "del david._country # 如今需要再把这个中间变量删除掉才可以\n",
    "# 无法再调用 david.country\n",
    "\n",
    "# 不用装饰器，用函数的形式\n",
    "david.city = \"Beijing\"\n",
    "print(david.city) # Beijing"
   ]
  },
  {
   "cell_type": "code",
   "execution_count": 73,
   "metadata": {},
   "outputs": [
    {
     "name": "stdout",
     "output_type": "stream",
     "text": [
      "Actually the cat's weight is 5\n",
      "My weight is 7\n",
      "Actuall my weight is 6\n",
      "My weight is 6 kg\n",
      "My weight is exactly 7\n"
     ]
    }
   ],
   "source": [
    "# 测试私人变量的外部访问\n",
    "cole = Cat(5)\n",
    "cole.weight\n",
    "# 7\n",
    "cole._weight\n",
    "# 6\n",
    "cole.get_trueweight() # 在类中引用__weight，用这个方法返回\n",
    "# Actually the cat's weight is 5\n",
    "cole._Cat__weight # 非要访问也可以，其实是python解释器把__weight改成了_Cat__weight\n",
    "# 5\n",
    "\n",
    "# 测试私人变量的子类调用\n",
    "cain = Blackcat(5)\n",
    "cain.get_weight()\n",
    "# My weight is 7\n",
    "cain.get_weight_again()\n",
    "# Actuall my weight is 6\n",
    "# cain.get_true_weight() # 报错\n",
    "\n",
    "# 测试方法的继承与覆盖\n",
    "cain.get_myweight() # \n",
    "# My weight is 6 kg\n",
    "cain.get_trueweight() # 子类中同名函数覆盖父类\n",
    "# My weight is exactly 7"
   ]
  },
  {
   "cell_type": "code",
   "execution_count": 74,
   "metadata": {},
   "outputs": [
    {
     "data": {
      "text/plain": [
       "'Actually my name is Tony'"
      ]
     },
     "execution_count": 74,
     "metadata": {},
     "output_type": "execute_result"
    }
   ],
   "source": [
    "wtony = Whitetiger(\"Tony\", 10, 100)\n",
    "wtony.eatmore() # 'I am eating more'\n",
    "wtony.realname() # 'Actually my name is Tony'"
   ]
  },
  {
   "cell_type": "code",
   "execution_count": 75,
   "metadata": {},
   "outputs": [
    {
     "data": {
      "text/plain": [
       "'C:\\\\Users\\\\Administrator\\\\Desktop\\\\python课程\\\\第三周作业'"
      ]
     },
     "execution_count": 75,
     "metadata": {},
     "output_type": "execute_result"
    }
   ],
   "source": [
    "import os\n",
    "os.getcwd()      # Return the current working directory"
   ]
  },
  {
   "cell_type": "code",
   "execution_count": 76,
   "metadata": {},
   "outputs": [
    {
     "data": {
      "text/plain": [
       "['animal.py', 'people.py']"
      ]
     },
     "execution_count": 76,
     "metadata": {},
     "output_type": "execute_result"
    }
   ],
   "source": [
    "import glob\n",
    "glob.glob('*.py')"
   ]
  },
  {
   "cell_type": "code",
   "execution_count": 77,
   "metadata": {},
   "outputs": [
    {
     "name": "stdout",
     "output_type": "stream",
     "text": [
      "['D:\\\\Anaconda3\\\\lib\\\\site-packages\\\\ipykernel_launcher.py', '-f', 'C:\\\\Users\\\\Administrator\\\\AppData\\\\Roaming\\\\jupyter\\\\runtime\\\\kernel-aa294aa3-cb07-473d-8ac8-fcb7e8cd31dc.json']\n"
     ]
    }
   ],
   "source": [
    "import sys\n",
    "print(sys.argv)"
   ]
  },
  {
   "cell_type": "code",
   "execution_count": 78,
   "metadata": {},
   "outputs": [
    {
     "data": {
      "text/plain": [
       "10.0"
      ]
     },
     "execution_count": 78,
     "metadata": {},
     "output_type": "execute_result"
    }
   ],
   "source": [
    "import math\n",
    "math.cos(math.pi / 4)\n",
    "math.log(1024, 2)"
   ]
  },
  {
   "cell_type": "code",
   "execution_count": 79,
   "metadata": {},
   "outputs": [
    {
     "data": {
      "text/plain": [
       "5"
      ]
     },
     "execution_count": 79,
     "metadata": {},
     "output_type": "execute_result"
    }
   ],
   "source": [
    "import random\n",
    "random.choice(['apple', 'pear', 'banana'])\n",
    "random.sample(range(100), 10)\n",
    "random.random()\n",
    "random.randrange(6)"
   ]
  },
  {
   "cell_type": "code",
   "execution_count": 80,
   "metadata": {},
   "outputs": [
    {
     "data": {
      "text/plain": [
       "1.3720238095238095"
      ]
     },
     "execution_count": 80,
     "metadata": {},
     "output_type": "execute_result"
    }
   ],
   "source": [
    "import statistics\n",
    "data = [2.75, 1.75, 1.25, 0.25, 0.5, 1.25, 3.5]\n",
    "statistics.mean(data)\n",
    "statistics.median(data)\n",
    "statistics.variance(data)"
   ]
  },
  {
   "cell_type": "code",
   "execution_count": 82,
   "metadata": {},
   "outputs": [],
   "source": [
    "from urllib.request import urlopen\n",
    "with urlopen('http://news.xjtu.edu.cn/zyxw.htm') as response:\n",
    "    for line in response:\n",
    "        line = line.decode('utf-8')  # Decoding the binary data to text.\n",
    "        if '西迁精神' in line or '十九大' in line:  # look for Eastern Time\n",
    "            print(line)"
   ]
  },
  {
   "cell_type": "code",
   "execution_count": 83,
   "metadata": {},
   "outputs": [
    {
     "data": {
      "text/plain": [
       "20585"
      ]
     },
     "execution_count": 83,
     "metadata": {},
     "output_type": "execute_result"
    }
   ],
   "source": [
    "from datetime import date\n",
    "now = date.today()\n",
    "now\n",
    "now.strftime(\"%m-%d-%y. %d %b %Y is a %A on the %d day of %B.\")\n",
    "# dates support calendar arithmetic\n",
    "birthday = date(1964, 7, 31)\n",
    "age = now - birthday\n",
    "age.days"
   ]
  },
  {
   "cell_type": "code",
   "execution_count": 84,
   "metadata": {},
   "outputs": [
    {
     "data": {
      "text/plain": [
       "\"{'a', 'c', 'd', 'e', 'f', 'g', ...}\""
      ]
     },
     "execution_count": 84,
     "metadata": {},
     "output_type": "execute_result"
    }
   ],
   "source": [
    "import reprlib\n",
    "reprlib.repr(set('supercalifragilisticexpialidocious'))"
   ]
  },
  {
   "cell_type": "code",
   "execution_count": 85,
   "metadata": {},
   "outputs": [
    {
     "name": "stdout",
     "output_type": "stream",
     "text": [
      "[[[['black', 'cyan'],\n",
      "   'white',\n",
      "   ['green', 'red']],\n",
      "  [['magenta', 'yellow'],\n",
      "   'blue']]]\n"
     ]
    }
   ],
   "source": [
    "import pprint\n",
    "t = [[[['black', 'cyan'], 'white', ['green', 'red']], [['magenta',\n",
    "    'yellow'], 'blue']]]\n",
    "\n",
    "pprint.pprint(t, width=30)"
   ]
  },
  {
   "cell_type": "code",
   "execution_count": null,
   "metadata": {},
   "outputs": [],
   "source": []
  }
 ],
 "metadata": {
  "kernelspec": {
   "display_name": "Python 3",
   "language": "python",
   "name": "python3"
  },
  "language_info": {
   "codemirror_mode": {
    "name": "ipython",
    "version": 3
   },
   "file_extension": ".py",
   "mimetype": "text/x-python",
   "name": "python",
   "nbconvert_exporter": "python",
   "pygments_lexer": "ipython3",
   "version": "3.8.3"
  }
 },
 "nbformat": 4,
 "nbformat_minor": 4
}
