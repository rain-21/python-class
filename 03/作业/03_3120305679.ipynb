{
 "cells": [
  {
   "cell_type": "code",
   "execution_count": 3,
   "metadata": {
    "collapsed": false
   },
   "outputs": [
    {
     "name": "stdout",
     "output_type": "stream",
     "text": [
      "<class 'str'>\n",
      "12\n",
      "var1[0]:  H\n",
      "var2[1:5]:  unoo\n"
     ]
    }
   ],
   "source": [
    "var1 = 'Hello World!'\r\n",
    "var2 = \"Runoob\"\r\n",
    "print(type(var1))\r\n",
    "print(len(var1))\r\n",
    "print (\"var1[0]: \", var1[0])\r\n",
    "print (\"var2[1:5]: \", var2[1:5])"
   ]
  },
  {
   "cell_type": "code",
   "execution_count": 4,
   "metadata": {
    "collapsed": false
   },
   "outputs": [
    {
     "name": "stdout",
     "output_type": "stream",
     "text": [
      "已更新字符串 :  Hello Runoob!\n"
     ]
    }
   ],
   "source": [
    "\r\n",
    "var1 = 'Hello World!'\r\n",
    " \r\n",
    "print (\"已更新字符串 : \", var1[:6] + 'Runoob!')"
   ]
  },
  {
   "cell_type": "code",
   "execution_count": 5,
   "metadata": {
    "collapsed": false
   },
   "outputs": [
    {
     "data": {
      "text/plain": [
       "True"
      ]
     },
     "execution_count": 5,
     "metadata": {},
     "output_type": "execute_result"
    }
   ],
   "source": [
    "\r\n",
    "'Hello ' * 5\r\n",
    "'H' in 'Hello'"
   ]
  },
  {
   "cell_type": "code",
   "execution_count": 7,
   "metadata": {
    "collapsed": false
   },
   "outputs": [
    {
     "name": "stdout",
     "output_type": "stream",
     "text": [
      "I am asd\n",
      "I\\'m OK\n"
     ]
    }
   ],
   "source": [
    "name = 'asd'\r\n",
    "print(f'I am {name}')\r\n",
    "print(r'I\\'m OK')\r\n"
   ]
  },
  {
   "cell_type": "code",
   "execution_count": 8,
   "metadata": {
    "collapsed": false
   },
   "outputs": [
    {
     "name": "stdout",
     "output_type": "stream",
     "text": [
      "Hello world\n",
      "HELLO WORLD\n",
      "Hello World\n"
     ]
    }
   ],
   "source": [
    "sentence = 'hello world'\r\n",
    "print(sentence.capitalize())\r\n",
    "print(sentence.upper())\r\n",
    "print(sentence.title())"
   ]
  },
  {
   "cell_type": "code",
   "execution_count": 10,
   "metadata": {
    "collapsed": false
   },
   "outputs": [
    {
     "name": "stdout",
     "output_type": "stream",
     "text": [
      "var.count('o') :  3\n",
      "var.count('run', 0, 10) :  1\n"
     ]
    }
   ],
   "source": [
    "var=\"www.runoob.com\"\r\n",
    "sub='o'\r\n",
    "print (\"var.count('o') : \", var.count(sub))\r\n",
    "\r\n",
    "sub='run'\r\n",
    "print (\"var.count('run', 0, 10) : \", var.count(sub,0,10))"
   ]
  },
  {
   "cell_type": "code",
   "execution_count": 11,
   "metadata": {
    "collapsed": false
   },
   "outputs": [
    {
     "name": "stdout",
     "output_type": "stream",
     "text": [
      "True\n",
      "True\n",
      "False\n",
      "False\n",
      "False\n",
      "True\n",
      "**************************************************\n",
      "True\n",
      "True\n",
      "False\n",
      "True\n",
      "True\n",
      "True\n",
      "**************************************************\n",
      "False\n",
      "False\n",
      "False\n",
      "False\n",
      "True\n",
      "False\n"
     ]
    }
   ],
   "source": [
    "\r\n",
    "str1 = \"runoob\"\r\n",
    "str2 = \"runoob菜鸟教程\"\r\n",
    "str3 = \"Runoob example....wow!!!\"\r\n",
    "str4 = \"runoob2016\"\r\n",
    "str5 = \"2016\"\r\n",
    "str6 = \"二零一六\"\r\n",
    "\r\n",
    "print (str1.isalpha())\r\n",
    "print (str2.isalpha())\r\n",
    "print (str3.isalpha())\r\n",
    "print (str4.isalpha())\r\n",
    "print (str5.isalpha())\r\n",
    "print (str6.isalpha())\r\n",
    "print('*' * 50)\r\n",
    "print (str1.isalnum())\r\n",
    "print (str2.isalnum())\r\n",
    "print (str3.isalnum())\r\n",
    "print (str4.isalnum())\r\n",
    "print (str5.isalnum())\r\n",
    "print (str6.isalnum())\r\n",
    "print('*' * 50)\r\n",
    "print (str1.isdigit())\r\n",
    "print (str2.isdigit())\r\n",
    "print (str3.isdigit())\r\n",
    "print (str4.isdigit())\r\n",
    "print (str5.isdigit())\r\n",
    "print (str6.isdigit())"
   ]
  },
  {
   "cell_type": "code",
   "execution_count": 12,
   "metadata": {
    "collapsed": false
   },
   "outputs": [
    {
     "name": "stdout",
     "output_type": "stream",
     "text": [
      "True\n",
      "True\n",
      "False\n"
     ]
    }
   ],
   "source": [
    "\r\n",
    "var = \"this is string example....wow!!!\"\r\n",
    "print (var.startswith( 'this' ))   # 字符串是否以 this 开头\r\n",
    "print (var.startswith( 'string', 8 ))  # 从第九个字符开始的字符串是否以 string 开头\r\n",
    "print (var.startswith( 'this', 2, 4 )) # 从第2个字符开始到第四个字符结束的字符串是否以 this 开头"
   ]
  },
  {
   "cell_type": "code",
   "execution_count": 13,
   "metadata": {
    "collapsed": false
   },
   "outputs": [
    {
     "name": "stdout",
     "output_type": "stream",
     "text": [
      "True\n",
      "False\n",
      "False\n",
      "True\n"
     ]
    }
   ],
   "source": [
    "var='Runoob example....wow!!!'\r\n",
    "suffix='!!'\r\n",
    "print (var.endswith(suffix))\r\n",
    "print (var.endswith(suffix, len(var) - 1))\r\n",
    "suffix='Run'\r\n",
    "print (var.endswith(suffix))\r\n",
    "print (var.endswith(suffix, 0, 3))"
   ]
  },
  {
   "cell_type": "code",
   "execution_count": 14,
   "metadata": {
    "collapsed": false
   },
   "outputs": [
    {
     "name": "stdout",
     "output_type": "stream",
     "text": [
      "7\n",
      "7\n",
      "-1\n"
     ]
    }
   ],
   "source": [
    "str1 = \"Runoob example....wow!!!\"\r\n",
    "str2 = \"exam\";\r\n",
    " \r\n",
    "print (str1.find(str2))\r\n",
    "print (str1.find(str2, 5))\r\n",
    "print (str1.find(str2, 10))\r\n",
    "# print (str1.index(str2, 10))"
   ]
  },
  {
   "cell_type": "code",
   "execution_count": 15,
   "metadata": {
    "collapsed": false
   },
   "outputs": [
    {
     "name": "stdout",
     "output_type": "stream",
     "text": [
      "菜鸟教程旧地址： www.w3cschool.cc\n",
      "菜鸟教程新地址： www.runoob.com\n",
      "thwas was string example....wow!!!\n"
     ]
    }
   ],
   "source": [
    "str1 = \"www.w3cschool.cc\"\r\n",
    "print (\"菜鸟教程旧地址：\", str1)\r\n",
    "print (\"菜鸟教程新地址：\", str1.replace(\"w3cschool.cc\", \"runoob.com\"))\r\n",
    " \r\n",
    "str2 = \"this is string example....wow!!!\"\r\n",
    "print (str2.replace(\"is\", \"was\", 3))"
   ]
  },
  {
   "cell_type": "code",
   "execution_count": 16,
   "metadata": {
    "collapsed": false
   },
   "outputs": [
    {
     "data": {
      "text/plain": [
       "<re.Match object; span=(0, 9), match='010-12345'>"
      ]
     },
     "execution_count": 16,
     "metadata": {},
     "output_type": "execute_result"
    }
   ],
   "source": [
    "import re\r\n",
    "re.match(r'\\d{3}\\-\\d{3,8}$', '010-12345')"
   ]
  },
  {
   "cell_type": "code",
   "execution_count": 17,
   "metadata": {
    "collapsed": false
   },
   "outputs": [
    {
     "name": "stdout",
     "output_type": "stream",
     "text": [
      "None\n"
     ]
    }
   ],
   "source": [
    "\r\n",
    "print(re.match(r'^\\d{3}\\-\\d{3,8}$', '010 12345'))"
   ]
  },
  {
   "cell_type": "code",
   "execution_count": 19,
   "metadata": {
    "collapsed": false
   },
   "outputs": [
    {
     "name": "stdout",
     "output_type": "stream",
     "text": [
      "<re.Match object; span=(0, 9), match='010-12345'>\n",
      "010-12345\n",
      "010\n",
      "12345\n"
     ]
    }
   ],
   "source": [
    "\r\n",
    "m = re.match(r'^(\\d{3})-(\\d{3,8})$', '010-12345')\r\n",
    "print(m)\r\n",
    "print(m.group(0))\r\n",
    "print(m.group(1))\r\n",
    "print(m.group(2))"
   ]
  },
  {
   "cell_type": "code",
   "execution_count": 21,
   "metadata": {
    "collapsed": false
   },
   "outputs": [
    {
     "data": {
      "text/plain": [
       "('102300', '')"
      ]
     },
     "execution_count": 21,
     "metadata": {},
     "output_type": "execute_result"
    }
   ],
   "source": [
    "\r\n",
    "re.match(r'^(\\d+)(0*)$', '102300').groups()\r\n",
    "# 由于\\d+采用贪婪匹配，直接把后面的0全部匹配了，结果0*只能匹配空字符串了。"
   ]
  },
  {
   "cell_type": "code",
   "execution_count": 23,
   "metadata": {
    "collapsed": false
   },
   "outputs": [
    {
     "name": "stdout",
     "output_type": "stream",
     "text": [
      "<class 'list'>\n"
     ]
    },
    {
     "data": {
      "text/plain": [
       "['red', 'green', 'blue', 'yellow', 'white', 'black']"
      ]
     },
     "execution_count": 23,
     "metadata": {},
     "output_type": "execute_result"
    }
   ],
   "source": [
    "colors = ['red', 'green', 'blue', 'yellow', 'white', 'black']\r\n",
    "print(type(colors))\r\n",
    "colors"
   ]
  },
  {
   "cell_type": "code",
   "execution_count": 24,
   "metadata": {
    "collapsed": false
   },
   "outputs": [
    {
     "name": "stdout",
     "output_type": "stream",
     "text": [
      "red\n",
      "green\n",
      "blue\n",
      "black\n",
      "white\n",
      "yellow\n"
     ]
    }
   ],
   "source": [
    "print(colors[0])\r\n",
    "print(colors[1])\r\n",
    "print(colors[2])\r\n",
    "print(colors[-1])\r\n",
    "print(colors[-2])\r\n",
    "print(colors[-3])"
   ]
  },
  {
   "cell_type": "code",
   "execution_count": 25,
   "metadata": {
    "collapsed": false
   },
   "outputs": [
    {
     "data": {
      "text/plain": [
       "[0, 10, 20, 30, 40, 50, 60, 70, 80, 90]"
      ]
     },
     "execution_count": 25,
     "metadata": {},
     "output_type": "execute_result"
    }
   ],
   "source": [
    "\r\n",
    "numbers = [0 ,10, 20, 30, 40, 50, 60, 70, 80, 90]\r\n",
    "numbers"
   ]
  },
  {
   "cell_type": "code",
   "execution_count": 26,
   "metadata": {
    "collapsed": false
   },
   "outputs": [
    {
     "name": "stdout",
     "output_type": "stream",
     "text": [
      "<class 'tuple'>\n",
      "('Google', 'Runoob', 1997, 2000)\n",
      "(1, 2, 3, 4, 5)\n",
      "('a', 'b', 'c', 'd')\n",
      "(1,)\n",
      "(1,)\n"
     ]
    }
   ],
   "source": [
    "\r\n",
    "tup1 = ('Google', 'Runoob', 1997, 2000)\r\n",
    "print(type(tup1))\r\n",
    "tup2 = (1, 2, 3, 4, 5)\r\n",
    "tup3 = \"a\", \"b\", \"c\", \"d\"   #  不需要括号也可以\r\n",
    "tup4 = (1,)\r\n",
    "tup5 = 1,\r\n",
    "print(tup1)\r\n",
    "print(tup2)\r\n",
    "print(tup3)\r\n",
    "print(tup4)\r\n",
    "print(tup5)"
   ]
  },
  {
   "cell_type": "code",
   "execution_count": 27,
   "metadata": {
    "collapsed": false
   },
   "outputs": [
    {
     "name": "stdout",
     "output_type": "stream",
     "text": [
      "<class 'set'>\n",
      "{'banana', 'apple', 'pear', 'orange'}\n",
      "{'o', 'd', 'r', 'l', 'H', 'W', 'e', ' '}\n"
     ]
    }
   ],
   "source": [
    "basket = {'apple', 'orange', 'apple', 'pear', 'orange', 'banana'}\r\n",
    "print(type(basket))\r\n",
    "print(basket)\r\n",
    "letters = set('Hello World')\r\n",
    "print(letters)"
   ]
  },
  {
   "cell_type": "code",
   "execution_count": 28,
   "metadata": {
    "collapsed": false
   },
   "outputs": [
    {
     "name": "stdout",
     "output_type": "stream",
     "text": [
      "{'b', 'd', 'a', 'r', 'c'}\n",
      "{'a', 'l', 'm', 'c', 'z'}\n",
      "{'d', 'b', 'r'}\n",
      "{'b', 'd', 'a', 'r', 'l', 'm', 'c', 'z'}\n",
      "{'c', 'a'}\n",
      "{'b', 'd', 'm', 'z', 'r', 'l'}\n"
     ]
    }
   ],
   "source": [
    "a = set('abracadabra')\r\n",
    "b = set('alacazam')\r\n",
    "print(a)\r\n",
    "print(b)\r\n",
    "print(a - b) # 集合a中包含而集合b中不包含的元素\r\n",
    "print(a | b) # 集合a或b中包含的所有元素\r\n",
    "print(a & b) # 集合a和b中都包含了的元素\r\n",
    "print(a ^ b) # 不同时包含于a和b的元素"
   ]
  },
  {
   "cell_type": "code",
   "execution_count": 29,
   "metadata": {
    "collapsed": false
   },
   "outputs": [
    {
     "name": "stdout",
     "output_type": "stream",
     "text": [
      "<class 'dict'>\n",
      "dict1['Name']:  Runoob\n",
      "dict1['Age']:  7\n"
     ]
    }
   ],
   "source": [
    "dict1 = {'Name': 'Runoob', 'Age': 7, 'Class': 'First'}\r\n",
    "print(type(dict1))\r\n",
    "print (\"dict1['Name']: \", dict1['Name'])\r\n",
    "print (\"dict1['Age']: \", dict1['Age'])"
   ]
  },
  {
   "cell_type": "code",
   "execution_count": 30,
   "metadata": {
    "collapsed": false
   },
   "outputs": [
    {
     "name": "stdout",
     "output_type": "stream",
     "text": [
      "apple\n",
      "orange\n",
      "apple\n",
      "pear\n",
      "orange\n",
      "banana\n"
     ]
    }
   ],
   "source": [
    "\r\n",
    "basket = ['apple', 'orange', 'apple', 'pear', 'orange', 'banana']\r\n",
    "# basket = ('apple', 'orange', 'apple', 'pear', 'orange', 'banana')\r\n",
    "# basket = {'apple', 'orange', 'apple', 'pear', 'orange', 'banana'}\r\n",
    "for x in basket:\r\n",
    "    print(x)"
   ]
  },
  {
   "cell_type": "code",
   "execution_count": 32,
   "metadata": {
    "collapsed": false
   },
   "outputs": [
    {
     "name": "stdout",
     "output_type": "stream",
     "text": [
      "5\n"
     ]
    }
   ],
   "source": [
    "\r\n",
    "def add(x, y): \r\n",
    "    return x + y\r\n",
    "  \r\n",
    "# Call the function\r\n",
    "print((add(2, 3)))  # Output: 5"
   ]
  },
  {
   "cell_type": "code",
   "execution_count": null,
   "metadata": {
    "collapsed": false
   },
   "outputs": [],
   "source": []
  },
  {
   "cell_type": "code",
   "execution_count": null,
   "metadata": {
    "collapsed": false
   },
   "outputs": [],
   "source": []
  },
  {
   "cell_type": "code",
   "execution_count": null,
   "metadata": {
    "collapsed": false
   },
   "outputs": [],
   "source": []
  },
  {
   "cell_type": "code",
   "execution_count": null,
   "metadata": {
    "collapsed": false
   },
   "outputs": [],
   "source": []
  },
  {
   "cell_type": "code",
   "execution_count": null,
   "metadata": {
    "collapsed": false
   },
   "outputs": [],
   "source": []
  }
 ],
 "metadata": {
  "kernelspec": {
   "display_name": "PaddlePaddle 2.0.0b0 (Python 3.5)",
   "language": "python",
   "name": "py35-paddle1.2.0"
  },
  "language_info": {
   "codemirror_mode": {
    "name": "ipython",
    "version": 3
   },
   "file_extension": ".py",
   "mimetype": "text/x-python",
   "name": "python",
   "nbconvert_exporter": "python",
   "pygments_lexer": "ipython3",
   "version": "3.7.4"
  }
 },
 "nbformat": 4,
 "nbformat_minor": 1
}
