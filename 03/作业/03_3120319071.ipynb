{
 "cells": [
  {
   "cell_type": "code",
   "execution_count": 1,
   "metadata": {},
   "outputs": [
    {
     "name": "stdout",
     "output_type": "stream",
     "text": [
      "校长的身高是1.730000\n",
      "校长的体重是160.000000\n",
      "校长的爱好是唱歌\n",
      "校长的专业是计算机\n",
      "小李的身高是1.890000\n",
      "小李的体重是200.000000\n",
      "小李的爱好是打游戏\n",
      "小李的专业是咨询师\n",
      "peter的身高是1.750000\n",
      "peter的体重是100.000000\n",
      "peter的爱好是码代码\n",
      "peter的专业是计算机应用\n",
      "计算结果是15\n",
      "{'name': 'lee', 'age': 35}\n",
      "{'name': 'lee', 'age': 35}\n"
     ]
    }
   ],
   "source": [
    "print('校长的身高是%f'%1.73)\n",
    "print('校长的体重是%f'%160)\n",
    "print('校长的爱好是%s'%'唱歌')\n",
    "print('校长的专业是%s'%'计算机')\n",
    "def printInfo(name,height,weight,hobby,pro):\n",
    "    print('%s的身高是%f' % (name,height ))\n",
    "    print('%s的体重是%f' % (name ,weight ))\n",
    "    print('%s的爱好是%s' % (name,hobby ))\n",
    "    print('%s的专业是%s' % (name ,pro))\n",
    "    pass\n",
    "printInfo('小李',1.89,200,'打游戏','咨询师')\n",
    "printInfo('peter',1.75,100,'码代码','计算机应用')\n",
    "def getComputer(*args ):\n",
    "    '''\n",
    "    计算累加和\n",
    "    :param args:\n",
    "    :return:\n",
    "    '''\n",
    "    # print(args )\n",
    "    result=0\n",
    "    for item in args :\n",
    "        result+=item\n",
    "        pass\n",
    "    return result\n",
    "    #print('result=%d'%result)\n",
    "    pass\n",
    "rs=getComputer(1,2,3,4,5)\n",
    "print('计算结果是%d'%rs)\n",
    "def keyFunc(**kwargs ):\n",
    "    print(kwargs )\n",
    "    pass\n",
    "dictA={'name':'lee','age':35}\n",
    "keyFunc(**dictA )\n",
    "keyFunc(name='lee',age=35)\n",
    "\n",
    "\n",
    "\n",
    "\n",
    "def fun1():\n",
    "    pass\n",
    "def fun2():\n",
    "    fun1()\n",
    "    pass\n",
    "fun2()"
   ]
  },
  {
   "cell_type": "code",
   "execution_count": 14,
   "metadata": {},
   "outputs": [
    {
     "name": "stdout",
     "output_type": "stream",
     "text": [
      "18 李明\n",
      "李明\n",
      "刘德华\n",
      "刘德华\n",
      "china\n",
      "china\n",
      "________\n",
      "英国\n",
      "20:10:56\n"
     ]
    }
   ],
   "source": [
    "\n",
    " class Student:\n",
    "     name='李明'  #类属性\n",
    "     def __init__(self,age):\n",
    "         self.age=age  #实例属性\n",
    "         pass\n",
    "     pass\n",
    " lm=Student(18)\n",
    " print(lm.age,lm.name) #通过实例对象去访问类属性\n",
    " print(Student.name)\n",
    " lm.name='刘德华'\n",
    " print(lm.name)\n",
    " Student.name='张学友'\n",
    " print(lm.name)  #通过实例对象不能修改类属性  通过类对象可以修改类属性\n",
    "\n",
    " class People:\n",
    "     country='china'\n",
    "     @classmethod   #  定义类方法\n",
    "     def get_country(cls):\n",
    "         return cls.country  # 访问类属性\n",
    "     @classmethod\n",
    "     def change_country(cls,data):\n",
    "         cls.country=data   # 修改类属性的值，在类方法中\n",
    "         pass\n",
    "\n",
    "     pass\n",
    " print(People.get_country())  # 通过类对象引用\n",
    " p=People()\n",
    " print(p.get_country())  #通过实例对象引用\n",
    " print('________')\n",
    " People.change_country('英国')\n",
    " print(People.get_country())\n",
    "# 静态方法 类对象所拥有的方法 一般不会通过实例对象去访问静态方法\n",
    "import time  #引入时间模块\n",
    "class Timetest:\n",
    "    def __init__(self,hour,min,second):\n",
    "        self.hour=hour\n",
    "        self.min = min\n",
    "        self.second = second\n",
    "    @staticmethod   # 静态方法\n",
    "    def showtime():\n",
    "        return time.strftime('%H:%M:%S',time.localtime())\n",
    "    pass\n",
    "print(Timetest.showtime())"
   ]
  },
  {
   "cell_type": "code",
   "execution_count": 20,
   "metadata": {},
   "outputs": [
    {
     "name": "stdout",
     "output_type": "stream",
     "text": [
      "我是一只鸭子\n",
      "我不是一只小猫\n",
      "我是一只鸭子\n",
      "我不是一只鸭子\n"
     ]
    }
   ],
   "source": [
    "# 多态  多种状态或形态 同一种行为对于不同的子类有不同的行为表现 ，发生在父类和子类之间 子类重写父类的方法\n",
    "class Animal:   #  父类\n",
    "    def saywho(self):\n",
    "        print('我是一个动物')\n",
    "    pass\n",
    "class Duck(Animal):    #子类\n",
    "    def saywho(self,name):   # 重写父类的方法\n",
    "        self.name=name\n",
    "        print('我是一只%s'%self.name)\n",
    "    pass\n",
    "class Cat(Animal):    #子类\n",
    "    def saywho(self,name):   # 重写父类的方法\n",
    "        self.name=name\n",
    "        print('我不是一只%s'%self.name)\n",
    "    pass\n",
    "def commenInvoke(obj):  # 统一调用的方法\n",
    "    obj.saywho('鸭子')\n",
    "duck1=Duck()\n",
    "duck1.saywho('鸭子')\n",
    "cat1=Cat()\n",
    "cat1.saywho('小猫')\n",
    "listobj=[Duck(),Cat()]\n",
    "for item in listobj:\n",
    "    commenInvoke(item)  # 循环调用函数"
   ]
  }
 ],
 "metadata": {
  "kernelspec": {
   "display_name": "Python 3",
   "language": "python",
   "name": "python3"
  },
  "language_info": {
   "codemirror_mode": {
    "name": "ipython",
    "version": 3
   },
   "file_extension": ".py",
   "mimetype": "text/x-python",
   "name": "python",
   "nbconvert_exporter": "python",
   "pygments_lexer": "ipython3",
   "version": "3.8.3"
  }
 },
 "nbformat": 4,
 "nbformat_minor": 4
}
