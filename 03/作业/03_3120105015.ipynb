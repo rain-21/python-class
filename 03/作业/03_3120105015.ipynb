{
 "cells": [
  {
   "cell_type": "code",
   "execution_count": 4,
   "metadata": {},
   "outputs": [
    {
     "name": "stdout",
     "output_type": "stream",
     "text": [
      "<class 'str'>\n",
      "12\n",
      "var1[0]:  H\n",
      "var2[1:5]:  unoo\n"
     ]
    }
   ],
   "source": [
    "var1 = 'Hello World!'\n",
    "var2 = \"Runoob\"\n",
    "print(type(var1))\n",
    "print(len(var1))\n",
    "print (\"var1[0]: \", var1[0])\n",
    "print (\"var2[1:5]: \", var2[1:5])"
   ]
  },
  {
   "cell_type": "code",
   "execution_count": 3,
   "metadata": {},
   "outputs": [
    {
     "name": "stdout",
     "output_type": "stream",
     "text": [
      "已更新字符串 :  Hello Runoob!\n"
     ]
    }
   ],
   "source": [
    "var1 = 'Hello World!'\n",
    "print (\"已更新字符串 : \", var1[:6] + 'Runoob!')"
   ]
  },
  {
   "cell_type": "code",
   "execution_count": 7,
   "metadata": {},
   "outputs": [
    {
     "data": {
      "text/plain": [
       "'Hello Hello Hello Hello Hello '"
      ]
     },
     "execution_count": 7,
     "metadata": {},
     "output_type": "execute_result"
    }
   ],
   "source": [
    "'Hello ' * 5"
   ]
  },
  {
   "cell_type": "code",
   "execution_count": 8,
   "metadata": {},
   "outputs": [
    {
     "data": {
      "text/plain": [
       "True"
      ]
     },
     "execution_count": 8,
     "metadata": {},
     "output_type": "execute_result"
    }
   ],
   "source": [
    "'H' in 'Hello'"
   ]
  },
  {
   "cell_type": "code",
   "execution_count": 11,
   "metadata": {},
   "outputs": [
    {
     "name": "stdout",
     "output_type": "stream",
     "text": [
      "I am Lucy\n",
      "I\\'m OK\n",
      "I'm OK\n"
     ]
    }
   ],
   "source": [
    "name = 'Lucy'\n",
    "print(f'I am {name}')\n",
    "print(r'I\\'m OK')      #raw 不转义\n",
    "print(r\"I'm OK\")"
   ]
  },
  {
   "cell_type": "code",
   "execution_count": 14,
   "metadata": {},
   "outputs": [
    {
     "name": "stdout",
     "output_type": "stream",
     "text": [
      "Hello world\n",
      "HELLO WORLD\n",
      "Hello World\n"
     ]
    }
   ],
   "source": [
    "sentence = 'hello world'\n",
    "print(sentence.capitalize())\n",
    "print(sentence.upper())\n",
    "print(sentence.title())"
   ]
  },
  {
   "cell_type": "code",
   "execution_count": 21,
   "metadata": {},
   "outputs": [
    {
     "name": "stdout",
     "output_type": "stream",
     "text": [
      "var.count('o') :  3\n",
      "var.count('run', 0, 10) :  1\n"
     ]
    }
   ],
   "source": [
    "var=\"www.runoob.com\"\n",
    "sub='o'\n",
    "print (\"var.count('o') : \", var.count(sub))\n",
    "sub='run'\n",
    "print (\"var.count('run', 0, 10) : \", var.count(sub,0,10))"
   ]
  },
  {
   "cell_type": "code",
   "execution_count": 22,
   "metadata": {},
   "outputs": [
    {
     "name": "stdout",
     "output_type": "stream",
     "text": [
      "True\n",
      "True\n",
      "False\n",
      "False\n",
      "False\n",
      "True\n",
      "**************************************************\n",
      "True\n",
      "True\n",
      "False\n",
      "True\n",
      "True\n",
      "True\n",
      "**************************************************\n",
      "False\n",
      "False\n",
      "False\n",
      "False\n",
      "True\n",
      "False\n",
      "**************************************************\n",
      "False\n",
      "False\n",
      "False\n",
      "False\n",
      "True\n",
      "True\n"
     ]
    }
   ],
   "source": [
    "str1 = \"runoob\"\n",
    "str2 = \"runoob菜鸟教程\"\n",
    "str3 = \"Runoob example....wow!!!\"\n",
    "str4 = \"runoob2016\"\n",
    "str5 = \"2016\"\n",
    "str6 = \"二零一六\"\n",
    "print (str1.isalpha())   #字母类型\n",
    "print (str2.isalpha())\n",
    "print (str3.isalpha())\n",
    "print (str4.isalpha())\n",
    "print (str5.isalpha())\n",
    "print (str6.isalpha())\n",
    "print('*' * 50)\n",
    "print (str1.isalnum())    #字母或数字\n",
    "print (str2.isalnum())\n",
    "print (str3.isalnum())\n",
    "print (str4.isalnum())\n",
    "print (str5.isalnum())\n",
    "print (str6.isalnum())\n",
    "print('*' * 50)\n",
    "print (str1.isdigit())    #10进制数字\n",
    "print (str2.isdigit())     \n",
    "print (str3.isdigit())\n",
    "print (str4.isdigit())\n",
    "print (str5.isdigit())\n",
    "print (str6.isdigit())\n",
    "print('*' * 50)\n",
    "print (str1.isnumeric())   #数字和中文数字\n",
    "print (str2.isnumeric())\n",
    "print (str3.isnumeric())\n",
    "print (str4.isnumeric())\n",
    "print (str5.isnumeric())\n",
    "print (str6.isnumeric())"
   ]
  },
  {
   "cell_type": "code",
   "execution_count": 26,
   "metadata": {},
   "outputs": [
    {
     "name": "stdout",
     "output_type": "stream",
     "text": [
      "True\n",
      "True\n",
      "True\n"
     ]
    }
   ],
   "source": [
    "var = \"this is string example....wow!!!\"\n",
    "print (var.startswith( 'this' ))  \n",
    "print (var.startswith( 'string', 8 ))  \n",
    "print (var.startswith( 'this', 0, 4 )) "
   ]
  },
  {
   "cell_type": "code",
   "execution_count": 32,
   "metadata": {},
   "outputs": [
    {
     "name": "stdout",
     "output_type": "stream",
     "text": [
      "True\n",
      "24\n",
      "True\n",
      "False\n",
      "True\n"
     ]
    }
   ],
   "source": [
    "var='Runoob example....wow!!!'\n",
    "suffix='!!'\n",
    "print (var.endswith(suffix))\n",
    "print(len(var))\n",
    "print (var.endswith(suffix, 0,len(var)))\n",
    "suffix='Run'\n",
    "print (var.endswith(suffix))\n",
    "print (var.endswith('Run', 0,3 ))"
   ]
  },
  {
   "cell_type": "code",
   "execution_count": 42,
   "metadata": {},
   "outputs": [
    {
     "name": "stdout",
     "output_type": "stream",
     "text": [
      "7\n",
      "7\n",
      "-1\n",
      "7\n",
      "7\n"
     ]
    }
   ],
   "source": [
    "str1 = \"Runoob example....wow!!!\"\n",
    "str2 = \"exam\";\n",
    "print (str1.find(str2))\n",
    "print (str1.find(str2, 5))\n",
    "print (str1.find(str2, 12))   #如果包含子字符串返回开始的索引值，否则返回-1\n",
    "print (str1.index(str2,3))    #如果包含子字符串返回开始的索引值，否则抛出异常。\n",
    "print (str1.index(str2,3,15)) "
   ]
  },
  {
   "cell_type": "code",
   "execution_count": 49,
   "metadata": {},
   "outputs": [
    {
     "name": "stdout",
     "output_type": "stream",
     "text": [
      "****this is **string** example....wow!!!****\n",
      "this is **string** example....wow!!!\n",
      "this is **string** example....wow\n"
     ]
    }
   ],
   "source": [
    "str1 = \"  ****this is **string** example....wow!!!****  \"\n",
    "str1 = str1.strip() # 默认空格\n",
    "print (str1)\n",
    "str1 = str1.strip('*') # 指定字符串 *\n",
    "print(str1)\n",
    "str1 = str1.strip('!')\n",
    "print(str1)"
   ]
  },
  {
   "cell_type": "code",
   "execution_count": 2,
   "metadata": {},
   "outputs": [
    {
     "name": "stdout",
     "output_type": "stream",
     "text": [
      "['Google', 'Runoob', 'Taobao', 'Facebook']\n",
      "['Google', 'Runoob', 'Taobao#Facebook']\n"
     ]
    }
   ],
   "source": [
    "txt = \"Google#Runoob#Taobao#Facebook\"\n",
    "print(txt.split('#'))\n",
    "x = txt.split(\"#\", 2)\n",
    "print(x)"
   ]
  },
  {
   "cell_type": "code",
   "execution_count": 5,
   "metadata": {},
   "outputs": [
    {
     "name": "stdout",
     "output_type": "stream",
     "text": [
      "菜鸟教程旧地址： www.w3cschool.cc\n",
      "菜鸟教程新地址： www.runoob.com\n",
      "thwas was string example....wow!!!\n"
     ]
    }
   ],
   "source": [
    "str1 = \"www.w3cschool.cc\"\n",
    "print (\"菜鸟教程旧地址：\", str1)\n",
    "print (\"菜鸟教程新地址：\", str1.replace(\"w3cschool.cc\", \"runoob.com\"))\n",
    "str2 = \"this is string example....wow!!!\"\n",
    "print (str2.replace(\"is\", \"was\", 2))"
   ]
  },
  {
   "cell_type": "code",
   "execution_count": 6,
   "metadata": {},
   "outputs": [
    {
     "data": {
      "text/plain": [
       "<re.Match object; span=(0, 9), match='010-12345'>"
      ]
     },
     "execution_count": 6,
     "metadata": {},
     "output_type": "execute_result"
    }
   ],
   "source": [
    "import re\n",
    "re.match(r'\\d{3}\\-\\d{3,8}$', '010-12345')"
   ]
  },
  {
   "cell_type": "code",
   "execution_count": 13,
   "metadata": {},
   "outputs": [
    {
     "data": {
      "text/plain": [
       "['a', 'b', 'c', 'd', 'e;e;f']"
      ]
     },
     "execution_count": 13,
     "metadata": {},
     "output_type": "execute_result"
    }
   ],
   "source": [
    "re.split(r'\\s+', 'a b   c   d')\n",
    "re.split(r'[\\s\\,]+', 'a,b, c  d   e;e;f')\n",
    "#re.split(r'[\\s\\,\\;]+', 'a,b;; c  d;e;f;g')"
   ]
  },
  {
   "cell_type": "code",
   "execution_count": 14,
   "metadata": {},
   "outputs": [
    {
     "name": "stdout",
     "output_type": "stream",
     "text": [
      "<re.Match object; span=(0, 9), match='010-12345'>\n",
      "010-12345\n",
      "010\n",
      "12345\n"
     ]
    }
   ],
   "source": [
    "m = re.match(r'^(\\d{3})-(\\d{3,8})$', '010-12345')\n",
    "print(m)\n",
    "print(m.group(0))\n",
    "print(m.group(1))\n",
    "print(m.group(2))"
   ]
  },
  {
   "cell_type": "code",
   "execution_count": 31,
   "metadata": {},
   "outputs": [
    {
     "name": "stdout",
     "output_type": "stream",
     "text": [
      "('19', '05', '30')\n"
     ]
    }
   ],
   "source": [
    "t = '19:05:30'\n",
    "m = re.match(r'^(0[0-9]|1[0-9]|2[0-3]|[0-9])\\:(0[0-9]|1[0-9]|2[0-9]|3[0-9]|4[0-9]|5[0-9]|[0-9])\\:(0[0-9]|1[0-9]|2[0-9]|3[0-9]|4[0-9]|5[0-9]|[0-9])$', t)\n",
    "print(m.groups(0))"
   ]
  },
  {
   "cell_type": "code",
   "execution_count": 32,
   "metadata": {},
   "outputs": [
    {
     "data": {
      "text/plain": [
       "('102300', '')"
      ]
     },
     "execution_count": 32,
     "metadata": {},
     "output_type": "execute_result"
    }
   ],
   "source": [
    "re.match(r'^(\\d+)(0*)$', '102300').groups()"
   ]
  },
  {
   "cell_type": "code",
   "execution_count": 33,
   "metadata": {},
   "outputs": [
    {
     "data": {
      "text/plain": [
       "('1023', '00')"
      ]
     },
     "execution_count": 33,
     "metadata": {},
     "output_type": "execute_result"
    }
   ],
   "source": [
    "re.match(r'^(\\d+?)(0*)$', '102300').groups()"
   ]
  },
  {
   "cell_type": "code",
   "execution_count": 36,
   "metadata": {},
   "outputs": [
    {
     "name": "stdout",
     "output_type": "stream",
     "text": [
      "<class 'list'>\n"
     ]
    },
    {
     "data": {
      "text/plain": [
       "['red', 'green', 'blue', 'yellow', 'white', 'black']"
      ]
     },
     "execution_count": 36,
     "metadata": {},
     "output_type": "execute_result"
    }
   ],
   "source": [
    "colors = ['red', 'green', 'blue', 'yellow', 'white', 'black']\n",
    "print(type(colors))\n",
    "colors"
   ]
  },
  {
   "cell_type": "code",
   "execution_count": 37,
   "metadata": {},
   "outputs": [
    {
     "name": "stdout",
     "output_type": "stream",
     "text": [
      "red\n",
      "green\n",
      "blue\n",
      "black\n",
      "white\n",
      "yellow\n"
     ]
    }
   ],
   "source": [
    "print(colors[0])\n",
    "print(colors[1])\n",
    "print(colors[2])\n",
    "print(colors[-1])\n",
    "print(colors[-2])\n",
    "print(colors[-3])"
   ]
  },
  {
   "cell_type": "code",
   "execution_count": 38,
   "metadata": {},
   "outputs": [
    {
     "data": {
      "text/plain": [
       "[0, 10, 20, 30, 40, 50, 60, 70, 80, 90]"
      ]
     },
     "execution_count": 38,
     "metadata": {},
     "output_type": "execute_result"
    }
   ],
   "source": [
    "numbers = [0 ,10, 20, 30, 40, 50, 60, 70, 80, 90]\n",
    "numbers"
   ]
  },
  {
   "cell_type": "code",
   "execution_count": 39,
   "metadata": {},
   "outputs": [
    {
     "name": "stdout",
     "output_type": "stream",
     "text": [
      "[20, 30]\n",
      "[30, 40, 50, 60, 70, 80, 90]\n",
      "[0, 10, 20]\n",
      "[60, 70]\n",
      "[0, 20, 40, 60]\n",
      "[80, 70, 60, 50, 40, 30, 20, 10]\n",
      "[80, 70, 60, 50, 40, 30, 20, 10, 0]\n",
      "[90, 80, 70, 60, 50, 40, 30, 20, 10]\n",
      "[90, 80, 70, 60, 50, 40, 30, 20, 10, 0]\n"
     ]
    }
   ],
   "source": [
    "print(numbers[2:4])\n",
    "print(numbers[3:])\n",
    "print(numbers[:3])\n",
    "print(numbers[-4:-2])\n",
    "print(numbers[0:8:2])\n",
    "print(numbers[-2:-10:-1])\n",
    "print(numbers[-2::-1])\n",
    "print(numbers[:-10:-1])\n",
    "print(numbers[::-1])"
   ]
  },
  {
   "cell_type": "code",
   "execution_count": 40,
   "metadata": {},
   "outputs": [
    {
     "data": {
      "text/plain": [
       "['red', 'green', 'pink', 'yellow', 'white', 'black']"
      ]
     },
     "execution_count": 40,
     "metadata": {},
     "output_type": "execute_result"
    }
   ],
   "source": [
    "colors = ['red', 'green', 'blue', 'yellow', 'white', 'black']\n",
    "colors[2] = 'pink'\n",
    "colors"
   ]
  },
  {
   "cell_type": "code",
   "execution_count": 45,
   "metadata": {},
   "outputs": [
    {
     "data": {
      "text/plain": [
       "['green', 'yellow', 'white', 'black']"
      ]
     },
     "execution_count": 45,
     "metadata": {},
     "output_type": "execute_result"
    }
   ],
   "source": [
    "colors = ['red', 'green', 'blue', 'yellow', 'white', 'black']\n",
    "del colors[2]\n",
    "colors.remove('red')\n",
    "colors                              #try except"
   ]
  },
  {
   "cell_type": "code",
   "execution_count": 46,
   "metadata": {},
   "outputs": [
    {
     "data": {
      "text/plain": [
       "['red', 'green', 'brown', 'blue', 'yellow', 'white', 'black', 'pink']"
      ]
     },
     "execution_count": 46,
     "metadata": {},
     "output_type": "execute_result"
    }
   ],
   "source": [
    "colors = ['red', 'green', 'blue', 'yellow', 'white', 'black']\n",
    "colors.append('pink')\n",
    "colors.insert(2, 'brown')\n",
    "colors"
   ]
  },
  {
   "cell_type": "code",
   "execution_count": 47,
   "metadata": {},
   "outputs": [
    {
     "name": "stdout",
     "output_type": "stream",
     "text": [
      "2\n",
      "0\n"
     ]
    }
   ],
   "source": [
    "colors = ['red', 'green', 'blue', 'yellow', 'white', 'black', 'red']\n",
    "print(colors.count('red'))\n",
    "print(colors.index('red'))"
   ]
  },
  {
   "cell_type": "code",
   "execution_count": 48,
   "metadata": {},
   "outputs": [
    {
     "name": "stdout",
     "output_type": "stream",
     "text": [
      "11\n",
      "234\n",
      "0\n",
      "[0, 1, 1, 2, 3, 4, 5, 6, 8, 9, 234]\n",
      "[234, 9, 8, 6, 5, 4, 3, 2, 1, 1, 0]\n",
      "[]\n"
     ]
    }
   ],
   "source": [
    "numbers = [0 ,1, 2, 4, 5, 6, 8, 9, 3, 1,234]\n",
    "print(len(numbers))\n",
    "print(max(numbers))\n",
    "print(min(numbers))\n",
    "numbers.sort()\n",
    "print(numbers)\n",
    "numbers.reverse()\n",
    "print(numbers)\n",
    "numbers.clear()\n",
    "print(numbers)"
   ]
  },
  {
   "cell_type": "code",
   "execution_count": 49,
   "metadata": {},
   "outputs": [
    {
     "name": "stdout",
     "output_type": "stream",
     "text": [
      "[1, 4, 9, 16, 25, 36, 49, 64]\n"
     ]
    }
   ],
   "source": [
    "squares = []\n",
    "squares += [1, 4, 9, 16, 25]\n",
    "squares += [36, 49, 64]\n",
    "print(squares)"
   ]
  },
  {
   "cell_type": "code",
   "execution_count": 57,
   "metadata": {},
   "outputs": [
    {
     "name": "stdout",
     "output_type": "stream",
     "text": [
      "[1, 4, 9, 16, 25, 36, 49, 64, 11, 11, 11, 11, 11]\n"
     ]
    }
   ],
   "source": [
    "squares.extend([11])\n",
    "print(squares)"
   ]
  },
  {
   "cell_type": "code",
   "execution_count": 56,
   "metadata": {},
   "outputs": [
    {
     "data": {
      "text/plain": [
       "['Hello',\n",
       " 'World',\n",
       " 'Hello',\n",
       " 'World',\n",
       " 'Hello',\n",
       " 'World',\n",
       " 'Hello',\n",
       " 'World',\n",
       " 'Hello',\n",
       " 'World']"
      ]
     },
     "execution_count": 56,
     "metadata": {},
     "output_type": "execute_result"
    }
   ],
   "source": [
    "['Hello', 'World'] * 5"
   ]
  },
  {
   "cell_type": "code",
   "execution_count": 64,
   "metadata": {},
   "outputs": [
    {
     "name": "stdout",
     "output_type": "stream",
     "text": [
      "<class 'range'>\n",
      "[0, 1, 2, 3, 4, 1]\n"
     ]
    }
   ],
   "source": [
    "print(type(range(5)))   # 生成range\n",
    "print(list(range(5))+[1])          #转换为list"
   ]
  },
  {
   "cell_type": "code",
   "execution_count": 65,
   "metadata": {},
   "outputs": [
    {
     "data": {
      "text/plain": [
       "[0, 1, 2, 3, 4]"
      ]
     },
     "execution_count": 65,
     "metadata": {},
     "output_type": "execute_result"
    }
   ],
   "source": [
    "[i for i in range(5)]"
   ]
  },
  {
   "cell_type": "code",
   "execution_count": 67,
   "metadata": {},
   "outputs": [
    {
     "name": "stdout",
     "output_type": "stream",
     "text": [
      "[0, 1, 2, 3, 4, 'Hello', 'World']\n",
      "0*1*2*3*4*Hello*World\n"
     ]
    }
   ],
   "source": [
    "args = [*range(5), 'Hello', 'World']    #*解包  不确定传多少个参数  传入不是range对象\n",
    "print(args)\n",
    "print(*args, sep='*')                   #以*间隔"
   ]
  },
  {
   "cell_type": "code",
   "execution_count": 80,
   "metadata": {},
   "outputs": [
    {
     "name": "stdout",
     "output_type": "stream",
     "text": [
      "<class 'tuple'>\n",
      "('Google', 'Runoob', 1997, 2000)\n",
      "(1, 2, 3, 4, 5)\n",
      "('a', 'b', 'c', 'd')\n",
      "(1,)\n",
      "(1,)\n"
     ]
    }
   ],
   "source": [
    "tup1 = ('Google', 'Runoob', 1997, 2000)\n",
    "print(type(tup1))\n",
    "tup2 = (1, 2, 3, 4, 5)\n",
    "tup3 = \"a\", \"b\", \"c\", \"d\"   #  不需要括号也可以\n",
    "tup4 = (1,)     #一定要加逗号\n",
    "tup5 = 1,\n",
    "print(tup1)\n",
    "print(tup2)\n",
    "print(tup3)\n",
    "print(tup4)\n",
    "print(tup5)"
   ]
  },
  {
   "cell_type": "code",
   "execution_count": 81,
   "metadata": {},
   "outputs": [
    {
     "data": {
      "text/plain": [
       "'Google'"
      ]
     },
     "execution_count": 81,
     "metadata": {},
     "output_type": "execute_result"
    }
   ],
   "source": [
    "tup1[0]"
   ]
  },
  {
   "cell_type": "code",
   "execution_count": 83,
   "metadata": {},
   "outputs": [
    {
     "name": "stdout",
     "output_type": "stream",
     "text": [
      "('Google', 'Runoob', 1997, 2000, 1, 2, 3, 4, 5, 1, 2, 3, 4, 5)\n"
     ]
    }
   ],
   "source": [
    "tup1 += tup2\n",
    "print(tup1)"
   ]
  },
  {
   "cell_type": "code",
   "execution_count": 88,
   "metadata": {},
   "outputs": [
    {
     "data": {
      "text/plain": [
       "(0, 1, 2, 3, 4)"
      ]
     },
     "execution_count": 88,
     "metadata": {},
     "output_type": "execute_result"
    }
   ],
   "source": [
    "tuple(range(5))"
   ]
  },
  {
   "cell_type": "code",
   "execution_count": 108,
   "metadata": {},
   "outputs": [
    {
     "name": "stdout",
     "output_type": "stream",
     "text": [
      "<class 'set'>\n",
      "{'pear', 'banana', 'orange', 'apple'}\n",
      "{'/', 'l', 'e', 'd', '\"', '!', 'r', 'o', 'W', '\\\\', 'H', ' '}\n"
     ]
    }
   ],
   "source": [
    "basket = {'apple', 'orange', 'apple', 'pear', 'orange', 'banana'}    #set里元素不能重复，没有顺序\n",
    "print(type(basket))\n",
    "print(basket)\n",
    "letters = set('Hello World\"\\/\"! ')\n",
    "print(letters)"
   ]
  },
  {
   "cell_type": "code",
   "execution_count": 109,
   "metadata": {},
   "outputs": [
    {
     "name": "stdout",
     "output_type": "stream",
     "text": [
      "{'apple', 'pear', 'melon', 'banana', 'orange'}\n",
      "{'pear', 'melon', 'banana', 'orange'}\n"
     ]
    }
   ],
   "source": [
    "basket.add('melon')\n",
    "print(basket)\n",
    "basket.remove('apple')\n",
    "print(basket)"
   ]
  },
  {
   "cell_type": "code",
   "execution_count": 121,
   "metadata": {},
   "outputs": [
    {
     "name": "stdout",
     "output_type": "stream",
     "text": [
      "{'apple', 'pear', 'melon', 'banana', 'orange'}\n",
      "{'apple', 'pear', 'melon', 'banana', 'orange', 'lemon'}\n"
     ]
    }
   ],
   "source": [
    "basket = {'apple', 'orange', 'apple', 'pear', 'orange', 'banana'}\n",
    "basket.update( ['melon'])        #默认先转换为set\n",
    "print(basket)\n",
    "basket.update([ 'lemon'])\n",
    "print(basket)"
   ]
  },
  {
   "cell_type": "code",
   "execution_count": 123,
   "metadata": {},
   "outputs": [
    {
     "name": "stdout",
     "output_type": "stream",
     "text": [
      "{'b', 'a', 'd', 'r', 'c'}\n",
      "{'l', 'z', 'a', 'm', 'c'}\n",
      "{'b', 'r', 'd'}\n",
      "{'b', 'l', 'z', 'a', 'd', 'r', 'm', 'c'}\n",
      "{'a', 'c'}\n",
      "{'b', 'l', 'r', 'm', 'z', 'd'}\n"
     ]
    }
   ],
   "source": [
    "a = set('abracadabra')\n",
    "b = set('alacazam')\n",
    "print(a)\n",
    "print(b)\n",
    "print(a - b) # 集合a中包含而集合b中不包含的元素\n",
    "print(a | b) # 集合a或b中包含的所有元素\n",
    "print(a & b) # 集合a和b中都包含了的元素\n",
    "print(a ^ b) # 不同时包含于a和b的元素"
   ]
  },
  {
   "cell_type": "code",
   "execution_count": 124,
   "metadata": {},
   "outputs": [
    {
     "name": "stdout",
     "output_type": "stream",
     "text": [
      "<class 'dict'>\n",
      "dict1['Name']:  Runoob\n",
      "dict1['Age']:  7\n",
      "3\n"
     ]
    }
   ],
   "source": [
    "dict1 = {'Name': 'Runoob', 'Age': 7, 'Class': 'First',1:3}      #映射{k:v,}\n",
    "print(type(dict1))\n",
    "print (\"dict1['Name']: \", dict1['Name'])\n",
    "print (\"dict1['Age']: \", dict1['Age'])\n",
    "print(dict1[1])"
   ]
  },
  {
   "cell_type": "code",
   "execution_count": 126,
   "metadata": {},
   "outputs": [
    {
     "name": "stdout",
     "output_type": "stream",
     "text": [
      "{'Name': 'Runoob', 'Age': 8, 'Class': 'First', 'School': '菜鸟教程'}\n"
     ]
    }
   ],
   "source": [
    "dict1 = {'Name': 'Runoob', 'Age': 7, 'Class': 'First'}\n",
    "dict1['Age'] = 8             # 更新 Age\n",
    "dict1['School'] = \"菜鸟教程\"  # 添加信息\n",
    "print(dict1)"
   ]
  },
  {
   "cell_type": "code",
   "execution_count": 85,
   "metadata": {},
   "outputs": [
    {
     "name": "stdout",
     "output_type": "stream",
     "text": [
      "{'Age': 7, 'Class': 'First'}\n",
      "{}\n"
     ]
    }
   ],
   "source": [
    "dict1 = {'Name': 'Runoob', 'Age': 7, 'Class': 'First'}\n",
    "del dict1['Name'] # 删除键 'Name'\n",
    "print(dict1)\n",
    "dict1.clear()     # 清空字典\n",
    "print(dict1)"
   ]
  },
  {
   "cell_type": "code",
   "execution_count": 127,
   "metadata": {},
   "outputs": [
    {
     "name": "stdout",
     "output_type": "stream",
     "text": [
      "dict_keys(['Name', 'Age', 'Class'])\n",
      "dict_values(['Runoob', 7, 'First'])\n",
      "dict_items([('Name', 'Runoob'), ('Age', 7), ('Class', 'First')])\n"
     ]
    }
   ],
   "source": [
    "dict1 = {'Name': 'Runoob', 'Age': 7, 'Class': 'First'}\n",
    "print(dict1.keys())\n",
    "print(dict1.values())\n",
    "print(dict1.items())"
   ]
  },
  {
   "cell_type": "code",
   "execution_count": 129,
   "metadata": {},
   "outputs": [
    {
     "name": "stdout",
     "output_type": "stream",
     "text": [
      "{'a': 0, 'b': 0, 'c': 0, 'e': 0, 'f': 0, 'd': 0, 'g': 0, 's': 0, 'w': 0}\n"
     ]
    }
   ],
   "source": [
    "print(dict1.fromkeys('abcefdgsw', 0))"
   ]
  },
  {
   "cell_type": "code",
   "execution_count": 131,
   "metadata": {},
   "outputs": [
    {
     "name": "stdout",
     "output_type": "stream",
     "text": [
      "更新字典 dict1 :  {'Name': 'Runoob', 'Age': 10, 'Sex': 'female'}\n",
      "{'Sex': 'female', 'Age': 10}\n"
     ]
    }
   ],
   "source": [
    "dict1 = {'Name': 'Runoob', 'Age': 7}\n",
    "dict2 = {'Sex': 'female' , 'Age': 10}\n",
    "dict1.update(dict2)\n",
    "print (\"更新字典 dict1 : \", dict1)\n",
    "print(dict2)"
   ]
  },
  {
   "cell_type": "code",
   "execution_count": 134,
   "metadata": {},
   "outputs": [
    {
     "name": "stdout",
     "output_type": "stream",
     "text": [
      "pear___banana___orange___apple___"
     ]
    }
   ],
   "source": [
    "basket = ['apple', 'orange', 'apple', 'pear', 'orange', 'banana']\n",
    "basket = ('apple', 'orange', 'apple', 'pear', 'orange', 'banana')\n",
    "basket = {'apple', 'orange', 'apple', 'pear', 'orange', 'banana'}\n",
    "for x in basket:\n",
    "    print(x, end = '___')"
   ]
  },
  {
   "cell_type": "code",
   "execution_count": 135,
   "metadata": {},
   "outputs": [
    {
     "name": "stdout",
     "output_type": "stream",
     "text": [
      "apple\n",
      "orange\n",
      "apple\n",
      "pear\n",
      "orange\n",
      "banana\n"
     ]
    }
   ],
   "source": [
    "basket = ['apple', 'orange', 'apple', 'pear', 'orange', 'banana'] \n",
    "for i in range(len(basket)):\n",
    "    print(basket[i])"
   ]
  },
  {
   "cell_type": "code",
   "execution_count": 136,
   "metadata": {},
   "outputs": [
    {
     "name": "stdout",
     "output_type": "stream",
     "text": [
      "[(0, 'apple'), (1, 'orange'), (2, 'apple'), (3, 'pear'), (4, 'orange'), (5, 'banana')]\n",
      "0----------apple\n",
      "1----------orange\n",
      "2----------apple\n",
      "3----------pear\n",
      "4----------orange\n",
      "5----------banana\n"
     ]
    }
   ],
   "source": [
    "basket = ['apple', 'orange', 'apple', 'pear', 'orange', 'banana']\n",
    "print(list(enumerate(basket)))\n",
    "for i, v in enumerate(basket):\n",
    "    print(f'{i}{\"-\" * 10}{v}')"
   ]
  },
  {
   "cell_type": "code",
   "execution_count": 137,
   "metadata": {},
   "outputs": [
    {
     "name": "stdout",
     "output_type": "stream",
     "text": [
      "[(0, 'apple'), (1, 'orange'), (2, 'apple'), (3, 'pear'), (4, 'orange'), (5, 'banana')]\n",
      "0----------apple\n",
      "1----------orange\n",
      "2----------apple\n",
      "3----------pear\n",
      "4----------orange\n",
      "5----------banana\n"
     ]
    }
   ],
   "source": [
    "basket = ['apple', 'orange', 'apple', 'pear', 'orange', 'banana']\n",
    "indexes = range(len(basket))\n",
    "print(list(zip(indexes, basket)))      #两者交织\n",
    "for i, v in zip(indexes, basket):\n",
    "    print(f'{i}{\"-\" * 10}{v}')"
   ]
  },
  {
   "cell_type": "code",
   "execution_count": 138,
   "metadata": {},
   "outputs": [
    {
     "name": "stdout",
     "output_type": "stream",
     "text": [
      "0 * 10 is 0\n",
      "1 * 11 is 11\n",
      "2 * 12 is 24\n",
      "3 * 13 is 39\n",
      "4 * 14 is 56\n",
      "5 * 15 is 75\n",
      "6 * 16 is 96\n",
      "7 * 17 is 119\n",
      "8 * 18 is 144\n",
      "9 * 19 is 171\n"
     ]
    }
   ],
   "source": [
    "r1 = range(10)\n",
    "r2 = range(10, 20)\n",
    "for i, j in zip(r1, r2):\n",
    "    print(f'{i} * {j} is {i * j}')"
   ]
  },
  {
   "cell_type": "code",
   "execution_count": 140,
   "metadata": {},
   "outputs": [
    {
     "name": "stdout",
     "output_type": "stream",
     "text": [
      "Name\n",
      "Age\n",
      "Class\n",
      "Runoob\n",
      "7\n",
      "First\n",
      "Name----------Runoob\n",
      "Age----------7\n",
      "Class----------First\n"
     ]
    }
   ],
   "source": [
    "dict1 = {'Name': 'Runoob', 'Age': 7, 'Class': 'First'}     #dict不可迭代\n",
    "for k in dict1.keys():\n",
    "    print(k)\n",
    "for v in dict1.values():\n",
    "    print(v)\n",
    "for k, v in dict1.items():\n",
    "    print(f'{k}{\"-\" * 10}{v}')"
   ]
  },
  {
   "cell_type": "code",
   "execution_count": 2,
   "metadata": {},
   "outputs": [
    {
     "name": "stdout",
     "output_type": "stream",
     "text": [
      "['apple', 'pear', 'banana', [0, 1, 2]]\n"
     ]
    }
   ],
   "source": [
    "basket = ['apple', 'pear', 'banana']\n",
    "numbers = list(range(3))\n",
    "basket.append(numbers)\n",
    "print(basket)"
   ]
  },
  {
   "cell_type": "code",
   "execution_count": 6,
   "metadata": {},
   "outputs": [
    {
     "data": {
      "text/plain": [
       "['apple', 'pear', 'banana', 0, 1, 2]"
      ]
     },
     "execution_count": 6,
     "metadata": {},
     "output_type": "execute_result"
    }
   ],
   "source": [
    "def flat(l):\n",
    "    f = []\n",
    "    for x in l:\n",
    "        if type(x) is list:\n",
    "            f.extend(x)\n",
    "        else:\n",
    "            f.append(x)\n",
    "    return f\n",
    "flat(basket)"
   ]
  },
  {
   "cell_type": "code",
   "execution_count": 12,
   "metadata": {},
   "outputs": [
    {
     "name": "stdout",
     "output_type": "stream",
     "text": [
      "1\n",
      "2\n",
      "7\n"
     ]
    }
   ],
   "source": [
    "l = [1,2,3,4]\n",
    "it = iter(l)\n",
    "print(next(it))\n",
    "print (next(it))\n",
    "print (next(it) + next(it))"
   ]
  },
  {
   "cell_type": "code",
   "execution_count": 14,
   "metadata": {},
   "outputs": [
    {
     "name": "stdout",
     "output_type": "stream",
     "text": [
      "1#2#3#4#"
     ]
    }
   ],
   "source": [
    "l=[1,2,3,4]\n",
    "it = iter(l)\n",
    "for x in it:    \n",
    "    print (x, end=\"#\")"
   ]
  },
  {
   "cell_type": "code",
   "execution_count": 15,
   "metadata": {},
   "outputs": [
    {
     "name": "stdout",
     "output_type": "stream",
     "text": [
      "<class 'generator'>\n",
      "0 1 1 2 3 5 8 13 21 34 55 "
     ]
    }
   ],
   "source": [
    "def fibonacci(n): \n",
    "    a, b, counter = 0, 1, 0\n",
    "    while True:\n",
    "        if (counter > n): \n",
    "            return\n",
    "        yield a\n",
    "        a, b = b, a + b\n",
    "        counter += 1\n",
    "f = fibonacci(10)\n",
    "print(type(f))\n",
    "for x in f:\n",
    "    print (x, end=\" \")"
   ]
  },
  {
   "cell_type": "code",
   "execution_count": 16,
   "metadata": {},
   "outputs": [
    {
     "name": "stdout",
     "output_type": "stream",
     "text": [
      "5\n"
     ]
    }
   ],
   "source": [
    "def add(x, y): \n",
    "    return x + y\n",
    "print(add(2, 3))"
   ]
  },
  {
   "cell_type": "code",
   "execution_count": 19,
   "metadata": {},
   "outputs": [
    {
     "data": {
      "text/plain": [
       "[1, 3]"
      ]
     },
     "execution_count": 19,
     "metadata": {},
     "output_type": "execute_result"
    }
   ],
   "source": [
    "a = filter(lambda x : x % 2 != 0, [1,2,3,4])    #过滤器：True保留下来，False过滤掉\n",
    "list(a)"
   ]
  },
  {
   "cell_type": "code",
   "execution_count": 20,
   "metadata": {},
   "outputs": [
    {
     "data": {
      "text/plain": [
       "[11, 12, 13, 14]"
      ]
     },
     "execution_count": 20,
     "metadata": {},
     "output_type": "execute_result"
    }
   ],
   "source": [
    "a = map(lambda x : x + 10, [1,2,3,4])\n",
    "list(a)"
   ]
  },
  {
   "cell_type": "code",
   "execution_count": 21,
   "metadata": {},
   "outputs": [
    {
     "data": {
      "text/plain": [
       "10"
      ]
     },
     "execution_count": 21,
     "metadata": {},
     "output_type": "execute_result"
    }
   ],
   "source": [
    "from functools import reduce\n",
    "reduce(lambda x, y : x + y, [1,2,3,4])   #结果保留下来，求和"
   ]
  },
  {
   "cell_type": "code",
   "execution_count": 24,
   "metadata": {},
   "outputs": [],
   "source": [
    "class People:\n",
    "    def __init__(self,n,a):\n",
    "        self.name = n\n",
    "        self.age = a\n",
    "    def speak(self):\n",
    "        print(\"%s 说: 我 %d 岁。\" %(self.name,self.age))\n",
    "class Student(People):\n",
    "    def __init__(self,n,a,g):\n",
    "        super(Student, self).__init__(n,a)\n",
    "        self.grade = g\n",
    "    def speak(self):\n",
    "        print(\"%s 说: 我 %d 岁了，我在读 %d 年级\"%(self.name,self.age,self.grade))"
   ]
  },
  {
   "cell_type": "code",
   "execution_count": 26,
   "metadata": {},
   "outputs": [
    {
     "name": "stdout",
     "output_type": "stream",
     "text": [
      "10\n",
      "runoob\n",
      "runoob 说: 我 10 岁了，我在读 5 年级\n"
     ]
    }
   ],
   "source": [
    "#from people import People\n",
    "\n",
    "#p = People('runoob',10)\n",
    "#print(p.age)\n",
    "#print(p.name)\n",
    "#p.speak()\n",
    "p = Student('runoob',10,5)\n",
    "print(p.age)\n",
    "print(p.name)\n",
    "p.speak()"
   ]
  },
  {
   "cell_type": "code",
   "execution_count": 27,
   "metadata": {},
   "outputs": [
    {
     "data": {
      "text/plain": [
       "True"
      ]
     },
     "execution_count": 27,
     "metadata": {},
     "output_type": "execute_result"
    }
   ],
   "source": [
    "isinstance(p, People)"
   ]
  },
  {
   "cell_type": "code",
   "execution_count": 29,
   "metadata": {},
   "outputs": [
    {
     "name": "stdout",
     "output_type": "stream",
     "text": [
      "ken 说: 我 10 岁了，我在读 3 年级\n"
     ]
    }
   ],
   "source": [
    "#from people import Student\n",
    "s = Student('ken',10,3)\n",
    "s.speak()    #子类有调用子类的，子类没有调用父类的"
   ]
  },
  {
   "cell_type": "code",
   "execution_count": 30,
   "metadata": {},
   "outputs": [
    {
     "data": {
      "text/plain": [
       "True"
      ]
     },
     "execution_count": 30,
     "metadata": {},
     "output_type": "execute_result"
    }
   ],
   "source": [
    "isinstance(s, Student)\n",
    "isinstance(s, People)"
   ]
  },
  {
   "cell_type": "code",
   "execution_count": 31,
   "metadata": {},
   "outputs": [
    {
     "name": "stdout",
     "output_type": "stream",
     "text": [
      "PARENT implicit()\n",
      "PARENT implicit()\n",
      "PARENT override()\n",
      "CHILD override()\n",
      "PARENT altered()\n",
      "CHILD, BEFORE PARENT altered()\n",
      "PARENT altered()\n",
      "CHILD, AFTER PARENT altered()\n"
     ]
    }
   ],
   "source": [
    "class Parent(object):\n",
    "    def override(self):\n",
    "        print(\"PARENT override()\")\n",
    "\n",
    "    def implicit(self):\n",
    "        print(\"PARENT implicit()\")\n",
    "\n",
    "    def altered(self):\n",
    "        print(\"PARENT altered()\")\n",
    "\n",
    "class Child(Parent):\n",
    "    def override(self):\n",
    "        print(\"CHILD override()\")\n",
    "\n",
    "    def altered(self):\n",
    "        print(\"CHILD, BEFORE PARENT altered()\")\n",
    "        super(Child, self).altered()\n",
    "        print(\"CHILD, AFTER PARENT altered()\")\n",
    "        \n",
    "dad = Parent()\n",
    "son = Child()\n",
    "\n",
    "dad.implicit()\n",
    "son.implicit()\n",
    "\n",
    "dad.override()\n",
    "son.override()\n",
    "\n",
    "dad.altered()\n",
    "son.altered()"
   ]
  },
  {
   "cell_type": "code",
   "execution_count": 34,
   "metadata": {},
   "outputs": [
    {
     "name": "stdout",
     "output_type": "stream",
     "text": [
      "OTHER implicit()\n",
      "CHILD override()\n",
      "CHILD, BEFORE OTHER altered()\n",
      "OTHER altered()\n",
      "CHILD, AFTER OTHER altered()\n"
     ]
    }
   ],
   "source": [
    "class Other(object):             #object根类\n",
    "    def override(self):\n",
    "        print(\"OTHER override()\") \n",
    "    def implicit(self):\n",
    "        print(\"OTHER implicit()\") \n",
    "    def altered(self):\n",
    "        print(\"OTHER altered()\") \n",
    "        \n",
    "class Child(object):\n",
    "    def __init__(self): \n",
    "        self.other = Other()     #组合\n",
    "    def implicit(self): \n",
    "        self.other.implicit()\n",
    "    def override(self): \n",
    "        print(\"CHILD override()\")\n",
    "    def altered(self):\n",
    "        print(\"CHILD, BEFORE OTHER altered()\") \n",
    "        self.other.altered()\n",
    "        print(\"CHILD, AFTER OTHER altered()\")\n",
    "\n",
    "son = Child()\n",
    "son.implicit() \n",
    "son.override() \n",
    "son.altered()"
   ]
  },
  {
   "cell_type": "code",
   "execution_count": 35,
   "metadata": {},
   "outputs": [],
   "source": [
    "from urllib.request import urlopen\n",
    "with urlopen('http://news.xjtu.edu.cn/zyxw.htm') as response:\n",
    "    for line in response:\n",
    "        line = line.decode('utf-8')  # Decoding the binary data to text.\n",
    "        if '西迁精神' in line or '创新港' in line:  # look for Eastern Time\n",
    "            print(line)"
   ]
  },
  {
   "cell_type": "code",
   "execution_count": 41,
   "metadata": {},
   "outputs": [
    {
     "data": {
      "text/plain": [
       "'C:\\\\Users\\\\Think\\\\python_project\\\\project03'"
      ]
     },
     "execution_count": 41,
     "metadata": {},
     "output_type": "execute_result"
    }
   ],
   "source": [
    "import os\n",
    "os.getcwd() "
   ]
  },
  {
   "cell_type": "code",
   "execution_count": 42,
   "metadata": {},
   "outputs": [
    {
     "data": {
      "text/plain": [
       "[]"
      ]
     },
     "execution_count": 42,
     "metadata": {},
     "output_type": "execute_result"
    }
   ],
   "source": [
    "import glob\n",
    "glob.glob('*.py')"
   ]
  },
  {
   "cell_type": "code",
   "execution_count": 43,
   "metadata": {},
   "outputs": [
    {
     "name": "stdout",
     "output_type": "stream",
     "text": [
      "['D:\\\\Anaconda\\\\lib\\\\site-packages\\\\ipykernel_launcher.py', '-f', 'C:\\\\Users\\\\Think\\\\AppData\\\\Roaming\\\\jupyter\\\\runtime\\\\kernel-b0dc2949-d1dc-4a2d-888d-469eab5a2adf.json']\n"
     ]
    }
   ],
   "source": [
    "import sys\n",
    "print(sys.argv)"
   ]
  },
  {
   "cell_type": "code",
   "execution_count": 44,
   "metadata": {},
   "outputs": [
    {
     "data": {
      "text/plain": [
       "10.0"
      ]
     },
     "execution_count": 44,
     "metadata": {},
     "output_type": "execute_result"
    }
   ],
   "source": [
    "import math\n",
    "math.cos(math.pi / 4)\n",
    "math.log(1024, 2)"
   ]
  },
  {
   "cell_type": "code",
   "execution_count": 45,
   "metadata": {},
   "outputs": [
    {
     "data": {
      "text/plain": [
       "5"
      ]
     },
     "execution_count": 45,
     "metadata": {},
     "output_type": "execute_result"
    }
   ],
   "source": [
    "import random\n",
    "random.choice(['apple', 'pear', 'banana'])\n",
    "random.sample(range(100), 10)\n",
    "random.random()\n",
    "random.randrange(6)"
   ]
  },
  {
   "cell_type": "code",
   "execution_count": 47,
   "metadata": {},
   "outputs": [
    {
     "data": {
      "text/plain": [
       "1.3720238095238095"
      ]
     },
     "execution_count": 47,
     "metadata": {},
     "output_type": "execute_result"
    }
   ],
   "source": [
    "import statistics\n",
    "data = [2.75, 1.75, 1.25, 0.25, 0.5, 1.25, 3.5]\n",
    "statistics.mean(data)     \n",
    "statistics.median(data)    #中位数\n",
    "statistics.variance(data)  #方差"
   ]
  },
  {
   "cell_type": "code",
   "execution_count": 48,
   "metadata": {},
   "outputs": [
    {
     "data": {
      "text/plain": [
       "20585"
      ]
     },
     "execution_count": 48,
     "metadata": {},
     "output_type": "execute_result"
    }
   ],
   "source": [
    "from datetime import date\n",
    "now = date.today()\n",
    "now\n",
    "now.strftime(\"%m-%d-%y. %d %b %Y is a %A on the %d day of %B.\")\n",
    "# dates support calendar arithmetic\n",
    "birthday = date(1964, 7, 31)\n",
    "age = now - birthday\n",
    "age.days"
   ]
  },
  {
   "cell_type": "code",
   "execution_count": 49,
   "metadata": {},
   "outputs": [
    {
     "data": {
      "text/plain": [
       "\"{'a', 'c', 'd', 'e', 'f', 'g', ...}\""
      ]
     },
     "execution_count": 49,
     "metadata": {},
     "output_type": "execute_result"
    }
   ],
   "source": [
    "import reprlib\n",
    "reprlib.repr(set('supercalifragilisticexpialidocious'))"
   ]
  },
  {
   "cell_type": "code",
   "execution_count": 55,
   "metadata": {},
   "outputs": [
    {
     "name": "stdout",
     "output_type": "stream",
     "text": [
      "[[[['black', 'cyan'], 'white', ['green', 'red']], [['magenta', 'yellow'], 'blue']]]\n"
     ]
    }
   ],
   "source": [
    "import pprint\n",
    "t = [[[['black', 'cyan'], 'white', ['green', 'red']], [['magenta',\n",
    "    'yellow'], 'blue']]]\n",
    "pprint.pprint(t, width=100)"
   ]
  },
  {
   "cell_type": "code",
   "execution_count": null,
   "metadata": {},
   "outputs": [],
   "source": []
  }
 ],
 "metadata": {
  "kernelspec": {
   "display_name": "Python 3",
   "language": "python",
   "name": "python3"
  },
  "language_info": {
   "codemirror_mode": {
    "name": "ipython",
    "version": 3
   },
   "file_extension": ".py",
   "mimetype": "text/x-python",
   "name": "python",
   "nbconvert_exporter": "python",
   "pygments_lexer": "ipython3",
   "version": "3.8.3"
  }
 },
 "nbformat": 4,
 "nbformat_minor": 4
}
