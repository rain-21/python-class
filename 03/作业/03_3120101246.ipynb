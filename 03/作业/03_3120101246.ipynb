{
 "cells": [
  {
   "cell_type": "code",
   "execution_count": null,
   "metadata": {},
   "outputs": [
    {
     "name": "stdin",
     "output_type": "stream",
     "text": [
      "请填写用户名： 战千里\n",
      "战千里您好，请输入您的年龄 :  20\n"
     ]
    },
    {
     "name": "stdout",
     "output_type": "stream",
     "text": [
      "战千里您好，欢迎游玩本游戏，您的初始金币为：1500\n",
      "\n",
      "\n",
      "***********************游戏说明***********************\n",
      "*                                                     *\n",
      "*   电脑每次投掷三枚骰子，总点数>=10为大，否则为小    *\n",
      "*                                                     *\n",
      "******************************************************\n",
      "\n",
      "\n"
     ]
    },
    {
     "name": "stdin",
     "output_type": "stream",
     "text": [
      "是否开始游戏 yes or no :   yes\n",
      "请输入big OR small :  big\n"
     ]
    },
    {
     "name": "stdout",
     "output_type": "stream",
     "text": [
      "骰子点数为：[3, 1, 2] 您输了!\n",
      "您现在有金币:1400 \n"
     ]
    },
    {
     "name": "stdin",
     "output_type": "stream",
     "text": [
      "请输入big OR small :  big\n"
     ]
    },
    {
     "name": "stdout",
     "output_type": "stream",
     "text": [
      "骰子点数为：[4, 1, 6] 您赢了!!!\n"
     ]
    },
    {
     "name": "stdin",
     "output_type": "stream",
     "text": [
      "是否使用道具：  big\n"
     ]
    },
    {
     "name": "stdout",
     "output_type": "stream",
     "text": [
      "您现在有金币:1500 \n"
     ]
    },
    {
     "name": "stdin",
     "output_type": "stream",
     "text": [
      "请输入big OR small :  big\n"
     ]
    },
    {
     "name": "stdout",
     "output_type": "stream",
     "text": [
      "骰子点数为：[6, 1, 4] 您赢了!!!\n"
     ]
    },
    {
     "name": "stdin",
     "output_type": "stream",
     "text": [
      "是否使用道具：  big\n"
     ]
    },
    {
     "name": "stdout",
     "output_type": "stream",
     "text": [
      "您现在有金币:1600 \n"
     ]
    },
    {
     "name": "stdin",
     "output_type": "stream",
     "text": [
      "请输入big OR small :  big\n"
     ]
    },
    {
     "name": "stdout",
     "output_type": "stream",
     "text": [
      "骰子点数为：[4, 4, 6] 您赢了!!!\n"
     ]
    },
    {
     "name": "stdin",
     "output_type": "stream",
     "text": [
      "是否使用道具：  否\n"
     ]
    },
    {
     "name": "stdout",
     "output_type": "stream",
     "text": [
      "您现在有金币:1700 \n"
     ]
    },
    {
     "name": "stdin",
     "output_type": "stream",
     "text": [
      "请输入big OR small :  big\n"
     ]
    },
    {
     "name": "stdout",
     "output_type": "stream",
     "text": [
      "骰子点数为：[5, 2, 5] 您赢了!!!\n"
     ]
    },
    {
     "name": "stdin",
     "output_type": "stream",
     "text": [
      "是否使用道具：  否\n"
     ]
    },
    {
     "name": "stdout",
     "output_type": "stream",
     "text": [
      "您现在有金币:1800 \n"
     ]
    },
    {
     "name": "stdin",
     "output_type": "stream",
     "text": [
      "请输入big OR small :  big\n"
     ]
    },
    {
     "name": "stdout",
     "output_type": "stream",
     "text": [
      "骰子点数为：[6, 4, 1] 您赢了!!!\n"
     ]
    },
    {
     "name": "stdin",
     "output_type": "stream",
     "text": [
      "是否使用道具：  no\n"
     ]
    },
    {
     "name": "stdout",
     "output_type": "stream",
     "text": [
      "您现在有金币:1900 \n"
     ]
    },
    {
     "name": "stdin",
     "output_type": "stream",
     "text": [
      "请输入big OR small :  big\n"
     ]
    },
    {
     "name": "stdout",
     "output_type": "stream",
     "text": [
      "骰子点数为：[6, 1, 4] 您赢了!!!\n"
     ]
    },
    {
     "name": "stdin",
     "output_type": "stream",
     "text": [
      "是否使用道具：  no\n",
      "您现在有金币:2000，是否购买道具 yes or no:  yes\n",
      "请选择要购买第几个道具 ['X3 (250G)', 'X1-5 (300G)'] 2\n"
     ]
    },
    {
     "name": "stdout",
     "output_type": "stream",
     "text": [
      "购买成功！消耗金币300\n"
     ]
    },
    {
     "name": "stdin",
     "output_type": "stream",
     "text": [
      "请输入big OR small :  big\n"
     ]
    },
    {
     "name": "stdout",
     "output_type": "stream",
     "text": [
      "骰子点数为：[2, 4, 5] 您赢了!!!\n"
     ]
    },
    {
     "name": "stdin",
     "output_type": "stream",
     "text": [
      "是否使用道具：  yes\n",
      "请选择使用第几个道具['X 1-5', 'X 1-5'] ： 1\n"
     ]
    },
    {
     "name": "stdout",
     "output_type": "stream",
     "text": [
      "奖金翻2倍\n",
      "您现在有金币:1900 \n"
     ]
    },
    {
     "name": "stdin",
     "output_type": "stream",
     "text": [
      "请输入big OR small :  NO\n"
     ]
    },
    {
     "name": "stdout",
     "output_type": "stream",
     "text": [
      "骰子点数为：[2, 3, 5] 您输了!\n",
      "您现在有金币:1800 \n"
     ]
    }
   ],
   "source": [
    "import time\n",
    "import random\n",
    "# 让用户注册\n",
    "name = input('请填写用户名：')\n",
    "age = input(\"{}您好，请输入您的年龄 : \".format(name))\n",
    "user_info = {'name': name, 'age': int(age)}  # 用户信息\n",
    "user_properties = ['X 1-5']  # 用于存放用户道具 默认道具\n",
    "properties = ['X3 (250G)', 'X1-5 (300G)']  # 道具列表 显示用\n",
    "\n",
    "# 根据用户年龄 给与不同的初始金币\n",
    "if 10 < user_info['age'] < 18:\n",
    "    glod = 1000\n",
    "elif 18 <= user_info['age'] <= 30:\n",
    "    glod = 1500\n",
    "else:\n",
    "    glod = 500\n",
    "user_info['glod'] = glod\n",
    "\n",
    "# 输出相关提示信息\n",
    "print(\"{}您好，欢迎游玩本游戏，您的初始金币为：{}\".format(user_info['name'], user_info['glod']))\n",
    "print(\"\\n\")\n",
    "time.sleep(1)\n",
    "print('游戏说明'.center(50, '*'))\n",
    "print('*'.ljust(53), '*')\n",
    "print('*', end='')\n",
    "print(\"电脑每次投掷三枚骰子，总点数>=10为大，否则为小\".center(32), end='')\n",
    "print('*')\n",
    "print('*'.ljust(53), '*')\n",
    "print('*' * 54)\n",
    "print(\"\\n\")\n",
    "\n",
    "#             开始游戏\n",
    "result = input('是否开始游戏 yes or no :  ')\n",
    "go = True\n",
    "if (result.lower() == 'yes'):\n",
    "    while go:\n",
    "        dices = []\n",
    "        # 开始投掷\n",
    "        for i in range(0, 3):\n",
    "            dices.append(random.randint(1, 6))\n",
    "        total = sum(dices)  # 计算总和\n",
    "        user_input = input('请输入big OR small : ')  # 等待用户输入\n",
    "        u_input = user_input.strip().lower()\n",
    "        time.sleep(1)\n",
    "        # 判断用户输入\n",
    "        print('骰子点数为：{}'.format(dices), end=' ')\n",
    "        if (total >= 10 and u_input == 'big') or (total < 10 and u_input == 'small'):\n",
    "            print('您赢了!!!')\n",
    "            multi = 1  # 倍数\n",
    "            if len(user_properties) > 0:  # 如果用户有道具 选择是否使用道具\n",
    "                use_pro = input('是否使用道具： ')\n",
    "                if use_pro.lower() == 'yes':\n",
    "                    use_pro = int(input('请选择使用第几个道具{} ：'.format(user_properties)))\n",
    "                    use_pro -= 1\n",
    "                    # 判断道具类型\n",
    "                    if user_properties[use_pro] == 'X 3':\n",
    "                        multi = 3\n",
    "                        print('奖金翻3倍')\n",
    "                    elif user_properties[use_pro] == 'X 1-5':\n",
    "                        multi = random.randint(1, 5)\n",
    "                        print('奖金翻{}倍'.format(multi))\n",
    "                    user_properties.remove(user_properties[use_pro])  # 删除道具\n",
    "\n",
    "            user_info['glod'] += 100 * multi;  # 金额增加\n",
    "        else:\n",
    "            print('您输了!')\n",
    "            user_info['glod'] -= 100;  # 错误 用户金币减 100\n",
    "\n",
    "        # 判断用户金币 是否够下次玩 不够则退出程序\n",
    "        if (user_info['glod'] <= 0):\n",
    "            print('您的金币已经用完，感谢您的游玩')\n",
    "            break\n",
    "\n",
    "        if user_info['glod'] % 1000 == 0:  # 用户金币 是1000的倍数是 可购买道具\n",
    "            shop = input('您现在有金币:{}，是否购买道具 yes or no: '.format(user_info['glod']))\n",
    "            if shop.lower() == 'yes':\n",
    "                good_num = int(input('请选择要购买第几个道具 {}'.format(properties)))\n",
    "                if good_num == 1:\n",
    "                    user_properties.append('X 3')  # 给用户添加道具\n",
    "                    user_info['glod'] -= 250\n",
    "                    print('购买成功！消耗金币250')\n",
    "                elif good_num == 2:\n",
    "                    user_properties.append('X 1-5')  # 给用户添加道具\n",
    "                    user_info['glod'] -= 300  # 用户金币减 300\n",
    "                    print('购买成功！消耗金币300')\n",
    "                else:\n",
    "                    print('没有该道具，您失去了这次机会')\n",
    "        else:\n",
    "            #  一直提示 太烦\n",
    "            # conti = input('您现在有金币:{}，是否继续游玩,yes or no: '.format(user_info['glod']))\n",
    "            print('您现在有金币:{} '.format(user_info['glod']))\n",
    "else:\n",
    "    print('欢迎下次游玩，再见！')"
   ]
  },
  {
   "cell_type": "code",
   "execution_count": null,
   "metadata": {},
   "outputs": [],
   "source": [
    "import pygame, sys, time, random\n",
    "\n",
    "color_red = pygame.Color(255, 0, 0)\n",
    "color_white = pygame.Color(255, 255, 255)\n",
    "color_green = pygame.Color(0, 255, 0)\n",
    "pygame.init()\n",
    "screen = pygame.display.set_mode((600, 400))\n",
    "screen.fill(color_white)\n",
    "pygame.display.set_caption(\"贪吃蛇小游戏\")\n",
    "arr = [([0] * 41) for i in range(61)]\n",
    "x = 10\n",
    "y = 10\n",
    "foodx = random.randint(1, 60)\n",
    "foody = random.randint(1, 40)\n",
    "arr[foodx][foody] = -1\n",
    "snake_lon = 3\n",
    "way = 1\n",
    "\n",
    "while True:\n",
    "    screen.fill(color_white)\n",
    "    time.sleep(0.1)\n",
    "    for event in pygame.event.get():\n",
    "        if event.type == pygame.QUIT:\n",
    "            sys.exit()\n",
    "        elif event.type == pygame.KEYDOWN:\n",
    "            if (event.key == pygame.K_RIGHT) and (way != 2):\n",
    "                way = 1\n",
    "            if (event.key == pygame.K_LEFT) and (way != 1):\n",
    "                way = 2\n",
    "            if (event.key == pygame.K_UP) and (way != 4):\n",
    "                way = 3\n",
    "            if (event.key == pygame.K_DOWN) and (way != 3):\n",
    "                way = 4\n",
    "    if way == 1:\n",
    "        x += 1\n",
    "    if way == 2:\n",
    "        x -= 1\n",
    "    if way == 3:\n",
    "        y -= 1\n",
    "    if way == 4:\n",
    "        y += 1\n",
    "    if (x > 60) or (y > 40) or (x < 1) or (y < 1) or (arr[x][y] > 0):\n",
    "        sys.exit()\n",
    "    arr[x][y] = snake_lon\n",
    "    for a, b in enumerate(arr, 1):\n",
    "        for c, d in enumerate(b, 1):\n",
    "            if (d > 0):\n",
    "                arr[a - 1][c - 1] = arr[a - 1][c - 1] - 1\n",
    "                pygame.draw.rect(screen, color_green, ((a - 1) * 10, (c - 1) * 10, 10, 10))\n",
    "            if (d < 0):\n",
    "                pygame.draw.rect(screen, color_red, ((a - 1) * 10, (c - 1) * 10, 10, 10))\n",
    "    if (x == foodx) and (y == foody):\n",
    "        snake_lon += 1\n",
    "        while (arr[foodx][foody] != 0):\n",
    "            foodx = random.randint(1, 60)\n",
    "            foody = random.randint(1, 40)\n",
    "        arr[foodx][foody] = -1\n",
    "    pygame.display.update()"
   ]
  },
  {
   "cell_type": "code",
   "execution_count": null,
   "metadata": {},
   "outputs": [],
   "source": [
    "import pygame, sys, random, time\n",
    "\n",
    "pygame.init()\n",
    "screen = pygame.display.set_mode((660, 640))\n",
    "pygame.display.set_caption(\"宝石矿工\")\n",
    "gemImg = pygame.image.load(\"gem.png\")\n",
    "heroImg = pygame.image.load(\"hero.png\")\n",
    "gameoverbg = pygame.image.load(\"gameover.png\")\n",
    "bgImg = pygame.image.load(\"bg.png\")\n",
    "myFont = pygame.font.SysFont(\"kaiti\", 30)\n",
    "heroRect = pygame.Rect(270, 0, 80, 80)\n",
    "gemRectList = []\n",
    "number = 0\n",
    "start = False\n",
    "\n",
    "for i in range(5):\n",
    "    x = random.randint(0, 610)\n",
    "    y = random.randint(30, 590)\n",
    "    gemRect = pygame.Rect(x, y, 50, 50)\n",
    "    gemRectList.append(gemRect)\n",
    "\n",
    "while True:\n",
    "    for event in pygame.event.get():\n",
    "        if event.type == pygame.QUIT:\n",
    "            pygame.quit()\n",
    "            sys.exit()\n",
    "        elif event.type == pygame.KEYDOWN:\n",
    "            if event.key == pygame.K_y:\n",
    "                with open(\"record.txt\", \"r\") as file:\n",
    "                    number = int(file.read())\n",
    "                start = True\n",
    "            elif event.key == pygame.K_n:\n",
    "                start = True\n",
    "    screen.fill((0, 0, 0))\n",
    "    myWord = \"是否继续上次的游戏成绩？y/n\"\n",
    "    text = myFont.render(myWord, True, (255, 0, 0))\n",
    "    screen.blit(text, (130, 280))\n",
    "    if start == True:\n",
    "        break\n",
    "    pygame.display.update()\n",
    "\n",
    "t1 = time.time()\n",
    "while True:\n",
    "    for event in pygame.event.get():\n",
    "        if event.type == pygame.QUIT:\n",
    "            pygame.quit()\n",
    "            sys.exit()\n",
    "        elif event.type == pygame.KEYDOWN:\n",
    "            if event.key == pygame.K_UP and heroRect.y > 0:\n",
    "                heroRect.y = heroRect.y - 40\n",
    "            elif event.key == pygame.K_DOWN and heroRect.y < 560:\n",
    "                heroRect.y = heroRect.y + 40\n",
    "            elif event.key == pygame.K_LEFT and heroRect.x > 0:\n",
    "                heroRect.x = heroRect.x - 40\n",
    "            elif event.key == pygame.K_RIGHT and heroRect.x < 560:\n",
    "                heroRect.x = heroRect.x + 40\n",
    "    t2 = time.time()\n",
    "    t = t2 - t1\n",
    "    \n",
    "    screen.blit(bgImg, (0, 0))\n",
    "\n",
    "    for n in gemRectList:\n",
    "        if n.colliderect(heroRect):\n",
    "            number = number + 1\n",
    "            n.x = random.randint(0, 610)\n",
    "            n.y = random.randint(40, 590)\n",
    "        screen.blit(gemImg, n)\n",
    "\n",
    "    screen.blit(heroImg, heroRect)\n",
    "\n",
    "    myWord = \"挖到的宝石数:\" + str(number)\n",
    "    myText = myFont.render(myWord, True, (0, 0, 0))\n",
    "    screen.blit(myText, (420, 10))\n",
    "    myWord = \"剩余时间:\" + str(int(20 - t))\n",
    "    myText = myFont.render(myWord, True, (0, 0, 0))\n",
    "    screen.blit(myText, (10, 10))\n",
    "\n",
    "    if int(t) >= 20:\n",
    "        with open(\"record.txt\", \"w\") as file:\n",
    "            file.write(str(number))\n",
    "        screen.blit(gameoverbg, (0, 0))\n",
    "        myWord = \"时间到了,你的成绩为:\" + str(number)\n",
    "        myText = myFont.render(myWord, True, (0, 0, 0))\n",
    "        screen.blit(myText, (160, 80))\n",
    "    pygame.display.update()"
   ]
  },
  {
   "cell_type": "code",
   "execution_count": null,
   "metadata": {},
   "outputs": [],
   "source": []
  }
 ],
 "metadata": {
  "kernelspec": {
   "display_name": "Python 3",
   "language": "python",
   "name": "python3"
  },
  "language_info": {
   "codemirror_mode": {
    "name": "ipython",
    "version": 3
   },
   "file_extension": ".py",
   "mimetype": "text/x-python",
   "name": "python",
   "nbconvert_exporter": "python",
   "pygments_lexer": "ipython3",
   "version": "3.8.3"
  }
 },
 "nbformat": 4,
 "nbformat_minor": 4
}
