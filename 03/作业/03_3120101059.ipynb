{
 "cells": [
  {
   "cell_type": "code",
   "execution_count": 1,
   "metadata": {},
   "outputs": [
    {
     "name": "stdout",
     "output_type": "stream",
     "text": [
      "<class 'str'>\n",
      "12\n",
      "var1[0]:  H\n",
      "var2[1:5]:  unoo\n"
     ]
    }
   ],
   "source": [
    "#6-4\n",
    "var1 = 'Hello World!'\n",
    "var2 = \"Runoob\"\n",
    "print(type(var1))\n",
    "print(len(var1))\n",
    "print (\"var1[0]: \", var1[0])\n",
    "print (\"var2[1:5]: \", var2[1:5])"
   ]
  },
  {
   "cell_type": "code",
   "execution_count": 2,
   "metadata": {},
   "outputs": [
    {
     "name": "stdout",
     "output_type": "stream",
     "text": [
      "<class 'dict'>\n",
      "dict1['Name']:  Runoob\n",
      "dict1['Age']:  7\n"
     ]
    }
   ],
   "source": [
    "dict1 = {'Name': 'Runoob', 'Age': 7, 'Class': 'First'}\n",
    "print(type(dict1))\n",
    "print (\"dict1['Name']: \", dict1['Name'])\n",
    "print (\"dict1['Age']: \", dict1['Age'])"
   ]
  },
  {
   "cell_type": "code",
   "execution_count": 3,
   "metadata": {},
   "outputs": [
    {
     "name": "stdout",
     "output_type": "stream",
     "text": [
      "{'Name': 'Runoob', 'age': 7, 'Class': 'First', 'Age': 8, 'School': '菜鸟教程'}\n"
     ]
    }
   ],
   "source": [
    "dic1={\n",
    "    'Name':'Runoob',\n",
    "    'age':7,\n",
    "    'Class':'First'\n",
    "    }\n",
    "dic1['Age']=8\n",
    "dic1['School']=\"菜鸟教程\"\n",
    "print(dic1)"
   ]
  },
  {
   "cell_type": "code",
   "execution_count": 4,
   "metadata": {},
   "outputs": [
    {
     "data": {
      "text/plain": [
       "{'Name': 'Runoob', 'age': 7, 'Class': 'First', 'Age': 8, 'School': '菜鸟教程'}"
      ]
     },
     "execution_count": 4,
     "metadata": {},
     "output_type": "execute_result"
    }
   ],
   "source": [
    "dic1={\n",
    "    'Name':'Runoob',\n",
    "    'age':7,\n",
    "    'Class':'First'\n",
    "    }\n",
    "dic1['Age']=8\n",
    "dic1['School']=\"菜鸟教程\"\n",
    "dic1"
   ]
  },
  {
   "cell_type": "code",
   "execution_count": 1,
   "metadata": {},
   "outputs": [
    {
     "name": "stdout",
     "output_type": "stream",
     "text": [
      "{'Age': '7', 'Class': 'First'}\n"
     ]
    }
   ],
   "source": [
    "dict1={'Name':'Runoob','Age':'7','Class':'First'}\n",
    "del dict1['Name']\n",
    "print(dict1)"
   ]
  },
  {
   "cell_type": "code",
   "execution_count": 2,
   "metadata": {},
   "outputs": [
    {
     "name": "stdout",
     "output_type": "stream",
     "text": [
      "Python\n",
      "C\n",
      "Ruby\n",
      "Python\n"
     ]
    }
   ],
   "source": [
    "favorite_languages={\n",
    "    'jen':'python',\n",
    "    'sarah':'c',\n",
    "    'edward':'ruby',\n",
    "    'phil':'python',\n",
    "    }\n",
    "for language in favorite_languages.values():\n",
    "    print(language.title())"
   ]
  },
  {
   "cell_type": "code",
   "execution_count": 17,
   "metadata": {},
   "outputs": [
    {
     "name": "stdout",
     "output_type": "stream",
     "text": [
      "The nile run through egypt.\n",
      "The changjiang run through Chin.\n",
      "The huanghe run through China.\n",
      "\n",
      "\n",
      "Nile\n",
      "Changjiang\n",
      "Huanghe\n",
      "\n",
      "\n",
      "Egypt\n",
      "Chin\n",
      "China\n"
     ]
    }
   ],
   "source": [
    "#6-5\n",
    "rivers={\n",
    "    'egypt':'nile',\n",
    "    'Chin':'changjiang',#一键对应一个值，值可以一样，健不能一样\n",
    "    'China':'huanghe',\n",
    "    }\n",
    "for country,river in rivers.items():\n",
    "    print(\"The \"+river+\" run through \"+country+\".\")\n",
    "print(\"\\n\")\n",
    "for river in rivers.values():\n",
    "    print(river.title())\n",
    "print(\"\\n\")\n",
    "for country in rivers.keys():\n",
    "    print(country.title())"
   ]
  },
  {
   "cell_type": "code",
   "execution_count": 18,
   "metadata": {},
   "outputs": [
    {
     "name": "stdout",
     "output_type": "stream",
     "text": [
      "Jen,thank you!\n",
      "Sarah,invite you!\n",
      "Edward,thank you!\n",
      "Phil,invite you!\n"
     ]
    }
   ],
   "source": [
    "#6-6\n",
    "favorite_languages = {\n",
    "    'jen': 'python',                 \n",
    "    'sarah': 'c',\n",
    "    'edward': 'ruby',\n",
    "    'phil': 'python',\n",
    "    }\n",
    "people=['jen','edward']\n",
    "for name in favorite_languages.keys():\n",
    "    if name in people:\n",
    "        print(name.title()+\",thank you!\")\n",
    "    else:\n",
    "        print(name.title()+\",invite you!\")"
   ]
  },
  {
   "cell_type": "code",
   "execution_count": 2,
   "metadata": {},
   "outputs": [
    {
     "name": "stdout",
     "output_type": "stream",
     "text": [
      "{'color': 'green', 'points': '5', 'speed': 'slow'}\n",
      "{'color': 'green', 'points': '5', 'speed': 'slow'}\n",
      "{'color': 'green', 'points': '5', 'speed': 'slow'}\n",
      "{'color': 'green', 'points': '5', 'speed': 'slow'}\n",
      "{'color': 'green', 'points': '5', 'speed': 'slow'}\n",
      "....\n",
      "Total number of aliens:30\n"
     ]
    }
   ],
   "source": [
    "aliens=[]\n",
    "for alien_number in range(30):\n",
    "    new_alien={'color':'green','points':'5','speed':'slow'}\n",
    "    aliens.append(new_alien)\n",
    "for alien in aliens[:5]:\n",
    "    print(alien)\n",
    "print(\"....\")\n",
    "print(\"Total number of aliens:\"+str(len(aliens)))"
   ]
  },
  {
   "cell_type": "code",
   "execution_count": 3,
   "metadata": {},
   "outputs": [
    {
     "name": "stdout",
     "output_type": "stream",
     "text": [
      "You ordered a thick-crust pizza with the following toppings:\n",
      "\tmushrooms\n",
      "\textra cheese\n"
     ]
    }
   ],
   "source": [
    "pizza={\n",
    "    'crust':'thick',\n",
    "    'toppings':['mushrooms','extra cheese'],\n",
    "    }\n",
    "print(\"You ordered a \"+pizza['crust']+\"-crust pizza \"+\"with the following toppings:\")\n",
    "for topping in pizza['toppings']:\n",
    "    print(\"\\t\"+topping)"
   ]
  },
  {
   "cell_type": "code",
   "execution_count": 4,
   "metadata": {},
   "outputs": [
    {
     "ename": "NameError",
     "evalue": "name 'favorite_languages' is not defined",
     "output_type": "error",
     "traceback": [
      "\u001b[1;31m---------------------------------------------------------------------------\u001b[0m",
      "\u001b[1;31mNameError\u001b[0m                                 Traceback (most recent call last)",
      "\u001b[1;32m<ipython-input-4-d82f3247e1f1>\u001b[0m in \u001b[0;36m<module>\u001b[1;34m\u001b[0m\n\u001b[1;32m----> 1\u001b[1;33m favorite_languages-{\n\u001b[0m\u001b[0;32m      2\u001b[0m     \u001b[1;34m'jen'\u001b[0m\u001b[1;33m:\u001b[0m\u001b[1;33m[\u001b[0m\u001b[1;34m'python'\u001b[0m\u001b[1;33m,\u001b[0m\u001b[1;34m'ruby'\u001b[0m\u001b[1;33m]\u001b[0m\u001b[1;33m,\u001b[0m\u001b[1;33m\u001b[0m\u001b[1;33m\u001b[0m\u001b[0m\n\u001b[0;32m      3\u001b[0m     \u001b[1;34m'sarah'\u001b[0m\u001b[1;33m:\u001b[0m\u001b[1;34m'c'\u001b[0m\u001b[1;33m,\u001b[0m\u001b[1;33m\u001b[0m\u001b[1;33m\u001b[0m\u001b[0m\n\u001b[0;32m      4\u001b[0m     \u001b[1;34m'edward'\u001b[0m\u001b[1;33m:\u001b[0m\u001b[1;33m[\u001b[0m\u001b[1;34m'ruby'\u001b[0m\u001b[1;33m,\u001b[0m\u001b[1;34m'go'\u001b[0m\u001b[1;33m]\u001b[0m\u001b[1;33m,\u001b[0m\u001b[1;33m\u001b[0m\u001b[1;33m\u001b[0m\u001b[0m\n\u001b[0;32m      5\u001b[0m     \u001b[1;34m'phil'\u001b[0m\u001b[1;33m:\u001b[0m\u001b[1;33m[\u001b[0m\u001b[1;34m'python'\u001b[0m\u001b[1;33m,\u001b[0m\u001b[1;34m'haskell'\u001b[0m\u001b[1;33m]\u001b[0m\u001b[1;33m,\u001b[0m\u001b[1;33m\u001b[0m\u001b[1;33m\u001b[0m\u001b[0m\n",
      "\u001b[1;31mNameError\u001b[0m: name 'favorite_languages' is not defined"
     ]
    }
   ],
   "source": [
    "favorite_languages-{\n",
    "    'jen':['python','ruby'],\n",
    "    'sarah':'c',\n",
    "    'edward':['ruby','go'],\n",
    "    'phil':['python','haskell'],\n",
    "    }\n",
    "for name,languages in favorite_languages.items():\n",
    "    print(\"\\n\"+name.title()+\"'s favorite languages are:\")\n",
    "    if(len(languages)>1):\n",
    "        for language in languages:\n",
    "            print(\"\\t\"+language.title())\n",
    "    else:\n",
    "        print(\"\\t\"+languages.title())"
   ]
  },
  {
   "cell_type": "code",
   "execution_count": 10,
   "metadata": {},
   "outputs": [
    {
     "name": "stdout",
     "output_type": "stream",
     "text": [
      "\n",
      "Jen's favorite languages are:\n",
      "\tPython\n",
      "\tRuby\n",
      "\n",
      "Sarah's favorite languages are:\n",
      "\thaha\n",
      "\n",
      "Edward's favorite languages are:\n",
      "\tRuby\n",
      "\tGo\n",
      "\n",
      "Phil's favorite languages are:\n",
      "\tPython\n",
      "\tHaskell\n"
     ]
    }
   ],
   "source": [
    "favorite_languages={\n",
    "    'jen':['python','ruby'],\n",
    "    'sarah':'c',\n",
    "    'edward':['ruby','go'],\n",
    "    'phil':['python','haskell'],\n",
    "    }\n",
    "for name,languages in favorite_languages.items():\n",
    "    print(\"\\n\"+name.title()+\"'s favorite languages are:\")\n",
    "    if(len(languages)>1):\n",
    "        for language in languages:\n",
    "            print(\"\\t\"+language.title())\n",
    "    else:\n",
    "        print(\"\\t\"+\"haha\")"
   ]
  },
  {
   "cell_type": "code",
   "execution_count": 23,
   "metadata": {},
   "outputs": [
    {
     "ename": "TypeError",
     "evalue": "string indices must be integers",
     "output_type": "error",
     "traceback": [
      "\u001b[1;31m---------------------------------------------------------------------------\u001b[0m",
      "\u001b[1;31mTypeError\u001b[0m                                 Traceback (most recent call last)",
      "\u001b[1;32m<ipython-input-23-0ad21d31f074>\u001b[0m in \u001b[0;36m<module>\u001b[1;34m\u001b[0m\n\u001b[0;32m     18\u001b[0m \u001b[1;32mfor\u001b[0m \u001b[0mpeople\u001b[0m \u001b[1;32min\u001b[0m \u001b[0mpeoples\u001b[0m\u001b[1;33m:\u001b[0m\u001b[1;33m\u001b[0m\u001b[1;33m\u001b[0m\u001b[0m\n\u001b[0;32m     19\u001b[0m     \u001b[1;32mfor\u001b[0m \u001b[0mkey\u001b[0m\u001b[1;33m,\u001b[0m\u001b[0mvalue\u001b[0m \u001b[1;32min\u001b[0m \u001b[0mpeople\u001b[0m\u001b[1;33m.\u001b[0m\u001b[0mitems\u001b[0m\u001b[1;33m(\u001b[0m\u001b[1;33m)\u001b[0m\u001b[1;33m:\u001b[0m\u001b[1;33m\u001b[0m\u001b[1;33m\u001b[0m\u001b[0m\n\u001b[1;32m---> 20\u001b[1;33m         \u001b[0mfull_name\u001b[0m\u001b[1;33m=\u001b[0m\u001b[0mvalue\u001b[0m\u001b[1;33m[\u001b[0m\u001b[1;34m'first_name'\u001b[0m\u001b[1;33m]\u001b[0m\u001b[1;33m+\u001b[0m\u001b[1;34m\" \"\u001b[0m\u001b[1;33m+\u001b[0m\u001b[0mvalue\u001b[0m\u001b[1;33m[\u001b[0m\u001b[1;34m'last_name'\u001b[0m\u001b[1;33m]\u001b[0m\u001b[1;33m\u001b[0m\u001b[1;33m\u001b[0m\u001b[0m\n\u001b[0m\u001b[0;32m     21\u001b[0m         \u001b[0mcity\u001b[0m\u001b[1;33m=\u001b[0m\u001b[0mvalue\u001b[0m\u001b[1;33m[\u001b[0m\u001b[1;34m'city'\u001b[0m\u001b[1;33m]\u001b[0m\u001b[1;33m\u001b[0m\u001b[1;33m\u001b[0m\u001b[0m\n\u001b[0;32m     22\u001b[0m         \u001b[0mprint\u001b[0m\u001b[1;33m(\u001b[0m\u001b[0mfull_name\u001b[0m\u001b[1;33m)\u001b[0m\u001b[1;33m\u001b[0m\u001b[1;33m\u001b[0m\u001b[0m\n",
      "\u001b[1;31mTypeError\u001b[0m: string indices must be integers"
     ]
    }
   ],
   "source": [
    "#6-7\n",
    "taotao={\n",
    "    'first_name':'Zhang',\n",
    "    'last_name':'Jintao',\n",
    "    'city':'linfen',\n",
    "    }\n",
    "qq={\n",
    "    'first_name':'Cai',\n",
    "    'last_name':'Ji',\n",
    "    'city':'haerbing',\n",
    "   }\n",
    "ww={\n",
    "    'first_name':'Fei',\n",
    "    'last_name':'Wu',\n",
    "    'city':'taiyuan',\n",
    "   }\n",
    "peoples=[taotao,qq,ww]\n",
    "for people in peoples:\n",
    "    for key,value in people.items():\n",
    "        full_name=value['first_name']+\" \"+value['last_name']\n",
    "        city=value['city']\n",
    "        print(full_name)\n",
    "        print(city)"
   ]
  },
  {
   "cell_type": "code",
   "execution_count": 25,
   "metadata": {},
   "outputs": [
    {
     "name": "stdout",
     "output_type": "stream",
     "text": [
      "first_name\n",
      "Zhang\n",
      "last_name\n",
      "Jintao\n",
      "city\n",
      "linfen\n",
      "\n",
      "\n",
      "first_name\n",
      "Cai\n",
      "last_name\n",
      "Ji\n",
      "city\n",
      "haerbing\n",
      "\n",
      "\n",
      "first_name\n",
      "Fei\n",
      "last_name\n",
      "Wu\n",
      "city\n",
      "taiyuan\n",
      "\n",
      "\n"
     ]
    }
   ],
   "source": [
    "#6-7\n",
    "taotao={\n",
    "    'first_name':'Zhang',\n",
    "    'last_name':'Jintao',\n",
    "    'city':'linfen',\n",
    "    }\n",
    "qq={\n",
    "    'first_name':'Cai',\n",
    "    'last_name':'Ji',\n",
    "    'city':'haerbing',\n",
    "   }\n",
    "ww={\n",
    "    'first_name':'Fei',\n",
    "    'last_name':'Wu',\n",
    "    'city':'taiyuan',\n",
    "   }\n",
    "peoples=[taotao,qq,ww]\n",
    "for people in peoples:\n",
    "    for key,value in people.items():\n",
    "        print(key)\n",
    "        print(value)\n",
    "    print(\"\\n\")"
   ]
  },
  {
   "cell_type": "code",
   "execution_count": 4,
   "metadata": {},
   "outputs": [
    {
     "name": "stdout",
     "output_type": "stream",
     "text": [
      "name:\n",
      "xiaoxiao\n",
      "type:\n",
      "cat\n",
      "master:\n",
      "LiChao\n",
      "\n",
      "\n",
      "name:\n",
      "dabai\n",
      "type:\n",
      "dog\n",
      "master:\n",
      "JianKang\n",
      "\n",
      "\n"
     ]
    }
   ],
   "source": [
    "#6-8\n",
    "xiaoxiao={\n",
    "    'name':'xiaoxiao',\n",
    "    'type':'cat',\n",
    "    'master':'LiChao',\n",
    "    }\n",
    "dabai={\n",
    "    'name':'dabai',\n",
    "    'type':'dog',\n",
    "    'master':'JianKang',\n",
    "    }\n",
    "pets=[xiaoxiao,dabai]\n",
    "for pet in pets:\n",
    "    for keys,values in pet.items():\n",
    "        print(keys+\":\")\n",
    "        print(values)\n",
    "    print(\"\\n\")"
   ]
  },
  {
   "cell_type": "code",
   "execution_count": 10,
   "metadata": {},
   "outputs": [
    {
     "name": "stdout",
     "output_type": "stream",
     "text": [
      "tao's favorite_places are :\n",
      "\t厦门\n",
      "\t重庆\n",
      "\t成都\n",
      "\n",
      "\n",
      "a's favorite_places are :\n",
      "\t南京\n",
      "\t成都\n",
      "\t上海\n",
      "\n",
      "\n",
      "b's favorite_places are :\n",
      "\t海南\n",
      "\t西安\n",
      "\t青岛\n",
      "\n",
      "\n"
     ]
    }
   ],
   "source": [
    "#6-9\n",
    "favorite_places={\n",
    "    'tao':['厦门','重庆','成都'],\n",
    "    'a':['南京','成都','上海'],\n",
    "    'b':['海南','西安','青岛'],\n",
    "    }\n",
    "for person,citys in favorite_places.items():\n",
    "    print(person+\"'s favorite_places are :\")\n",
    "    for city in citys:\n",
    "        print(\"\\t\"+city)\n",
    "    print(\"\\n\")"
   ]
  },
  {
   "cell_type": "code",
   "execution_count": 3,
   "metadata": {},
   "outputs": [
    {
     "name": "stdout",
     "output_type": "stream",
     "text": [
      "shanghai:\n",
      "country: China\n",
      "popolation: 2428.14万\n",
      "fact: 上海是中国的经济中心\n",
      "\n",
      "\n",
      "x:\n",
      "country: y\n",
      "popolation: u\n",
      "fact: i\n",
      "\n",
      "\n",
      "q:\n",
      "country: x\n",
      "popolation: c\n",
      "fact: v\n",
      "\n",
      "\n"
     ]
    }
   ],
   "source": [
    "#6-11\n",
    "cities={\n",
    "    'shanghai':{\n",
    "             'country':'China',\n",
    "             'popolation':'2428.14万',\n",
    "             'fact':'上海是中国的经济中心',\n",
    "             },\n",
    "    'x':{\n",
    "      'country':'y',\n",
    "      'popolation':'u',\n",
    "      'fact':'i',\n",
    "      },\n",
    "    'q':{\n",
    "      'country':'x',\n",
    "      'popolation':'c',\n",
    "      'fact':'v',\n",
    "      },\n",
    "    }\n",
    "for city,values in cities.items():\n",
    "    print(city+\":\")\n",
    "    for key,value in values.items():\n",
    "        print(key+\": \"+value)\n",
    "    print(\"\\n\")"
   ]
  },
  {
   "cell_type": "code",
   "execution_count": null,
   "metadata": {},
   "outputs": [],
   "source": [
    "#字典是键-值对，与键相关的值可以是数字、字符串、列表至字典\n",
    "alien_0 = {'color': 'green'}\n",
    "print(alien_0['color'])\n",
    "#字典是一种动态结构，可随时在其中添加键-值对\n",
    "alien_0 = {'color': 'green', 'points': 5}\n",
    "print(alien_0)\n",
    "alien_0['x_position'] = 0\n",
    "alien_0['y_position'] = 25\n",
    "print(alien_0)\n",
    "#修改字典中的值\n",
    "alien_0 = {'color': 'green'}\n",
    "print(\"The alien is \" + alien_0['color'] + \".\")\n",
    "alien_0['color'] = 'yellow'\n",
    "print(\"The alien is now \" + alien_0['color'] + \".\")\n",
    "#删除键-值对\n",
    "alien_0 = {'color': 'green', 'points': 5}\n",
    "print(alien_0)\n",
    "del alien_0['points']\n",
    "print(alien_0)\n",
    "#遍历字典\n",
    "user_0 = {\n",
    "    'username': 'efermi',\n",
    "    'first': 'enrico',\n",
    "    'last': 'fermi',\n",
    "    }\n",
    "for key, value in user_0.items():\n",
    "    print(\"\\nKey: \" + key)\n",
    "    print(\"Value: \" + value)\n",
    "#在不需要使用字典中的值时，方法keys()很有用\n",
    "favorite_languages = {\n",
    "    'jen': 'python',\n",
    "    'sarah': 'c',\n",
    "    'edward': 'ruby',\n",
    "    'phil': 'python',\n",
    "    }\n",
    "for name in favorite_languages.keys():\n",
    "    print(name.title())\n",
    "#如果感兴趣的是字典包含的值，可使用方法values()\n",
    "favorite_languages = {\n",
    "    'jen': 'python',\n",
    "    'sarah': 'c',\n",
    "    'edward': 'ruby',\n",
    "    'phil': 'python',\n",
    "    }\n",
    "print(\"The following languages have been mentioned:\")\n",
    "for language in favorite_languages.values():\n",
    "    print(language.title())\n",
    "#按顺序遍历字典中的所有键\n",
    "#可使用函数sortted()来获得按特定顺序排列的键列表的副本\n",
    "#为剔除重复项，可使用集合set\n",
    "favorite_languages = {\n",
    "    'jen': 'python',\n",
    "    'sarah': 'c',\n",
    "    'edward': 'ruby',\n",
    "    'phil': 'python',\n",
    "    }\n",
    "print(\"The following languages have been mentioned:\")\n",
    "for language in set(favorite_languages.values()):\n",
    "    print(language.title())\n",
    "#你可以在列表中嵌套字典、在字典中嵌套列表甚至在字典中嵌套字典\n",
    "#每当需要在字典中将一个键关联到多个值时，都可以在字典中嵌套一个列表"
   ]
  }
 ],
 "metadata": {
  "kernelspec": {
   "display_name": "Python 3",
   "language": "python",
   "name": "python3"
  },
  "language_info": {
   "codemirror_mode": {
    "name": "ipython",
    "version": 3
   },
   "file_extension": ".py",
   "mimetype": "text/x-python",
   "name": "python",
   "nbconvert_exporter": "python",
   "pygments_lexer": "ipython3",
   "version": "3.8.3"
  }
 },
 "nbformat": 4,
 "nbformat_minor": 4
}
