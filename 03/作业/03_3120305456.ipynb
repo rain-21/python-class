{
 "cells": [
  {
   "cell_type": "code",
   "execution_count": 1,
   "metadata": {},
   "outputs": [
    {
     "name": "stdout",
     "output_type": "stream",
     "text": [
      "Zhang zihao\n"
     ]
    }
   ],
   "source": [
    "a = \"zhang zihao\"\n",
    "print(a.capitalize())"
   ]
  },
  {
   "cell_type": "code",
   "execution_count": 2,
   "metadata": {},
   "outputs": [
    {
     "name": "stdout",
     "output_type": "stream",
     "text": [
      "Zhang Zihao\n"
     ]
    }
   ],
   "source": [
    "a = \"zhang zihao\"\n",
    "print(a.title())"
   ]
  },
  {
   "cell_type": "code",
   "execution_count": 43,
   "metadata": {},
   "outputs": [
    {
     "name": "stdout",
     "output_type": "stream",
     "text": [
      "13\n",
      "<class 'int'>\n",
      "8\n",
      "8\n",
      "3\n"
     ]
    }
   ],
   "source": [
    "a=\"zzzzzzzzzzzzz\"\n",
    "print(a.count(\"z\"))\n",
    "print(type(a.count(\"z\")))\n",
    "print(a.count(\"z\", 5))\n",
    "print(a.count(\"z\", 5, len(a)))\n",
    "print(a.count(\"z\", 5, 8))"
   ]
  },
  {
   "cell_type": "code",
   "execution_count": 5,
   "metadata": {},
   "outputs": [
    {
     "ename": "AttributeError",
     "evalue": "'str' object has no attribute 'endwith'",
     "output_type": "error",
     "traceback": [
      "\u001b[1;31m---------------------------------------------------------------------------\u001b[0m",
      "\u001b[1;31mAttributeError\u001b[0m                            Traceback (most recent call last)",
      "\u001b[1;32m<ipython-input-5-f4c0576ad112>\u001b[0m in \u001b[0;36m<module>\u001b[1;34m\u001b[0m\n\u001b[0;32m      1\u001b[0m \u001b[0ma\u001b[0m\u001b[1;33m=\u001b[0m\u001b[1;34m\"zhang zihao\"\u001b[0m\u001b[1;33m\u001b[0m\u001b[1;33m\u001b[0m\u001b[0m\n\u001b[1;32m----> 2\u001b[1;33m \u001b[0mprint\u001b[0m\u001b[1;33m(\u001b[0m\u001b[0ma\u001b[0m\u001b[1;33m.\u001b[0m\u001b[0mendwith\u001b[0m\u001b[1;33m(\u001b[0m\u001b[1;34m\"hao\"\u001b[0m\u001b[1;33m)\u001b[0m\u001b[1;33m)\u001b[0m\u001b[1;33m\u001b[0m\u001b[1;33m\u001b[0m\u001b[0m\n\u001b[0m\u001b[0;32m      3\u001b[0m \u001b[0mprint\u001b[0m\u001b[1;33m(\u001b[0m\u001b[0ma\u001b[0m\u001b[1;33m.\u001b[0m\u001b[0mendwith\u001b[0m\u001b[1;33m(\u001b[0m\u001b[1;34m'ang'\u001b[0m\u001b[1;33m,\u001b[0m \u001b[1;36m0\u001b[0m\u001b[1;33m,\u001b[0m \u001b[1;36m4\u001b[0m\u001b[1;33m)\u001b[0m\u001b[1;33m)\u001b[0m\u001b[1;33m\u001b[0m\u001b[1;33m\u001b[0m\u001b[0m\n",
      "\u001b[1;31mAttributeError\u001b[0m: 'str' object has no attribute 'endwith'"
     ]
    }
   ],
   "source": [
    "a=\"zhang zihao\"\n",
    "print(a.endwith(\"hao\"))\n",
    "print(a.endwith('ang', 0, 4))"
   ]
  },
  {
   "cell_type": "code",
   "execution_count": 7,
   "metadata": {},
   "outputs": [
    {
     "name": "stdout",
     "output_type": "stream",
     "text": [
      "True\n",
      "False\n",
      "True\n"
     ]
    }
   ],
   "source": [
    "a=\"zhang zihao\"\n",
    "print(a.endswith(\"hao\"))\n",
    "print(a.endswith('ang', 0, 4))\n",
    "print(a.endswith('ang', 0, 5))"
   ]
  },
  {
   "cell_type": "code",
   "execution_count": 10,
   "metadata": {},
   "outputs": [
    {
     "name": "stdout",
     "output_type": "stream",
     "text": [
      "z h a n g   z i h a o\n"
     ]
    }
   ],
   "source": [
    "a=\"zhang zihao\"\n",
    "print(*a)"
   ]
  },
  {
   "cell_type": "code",
   "execution_count": 40,
   "metadata": {},
   "outputs": [
    {
     "name": "stdout",
     "output_type": "stream",
     "text": [
      "2\n",
      "9\n",
      "9\n",
      "-1\n"
     ]
    }
   ],
   "source": [
    "a=\"zhang zihao\"\n",
    "print(a.find(\"a\"))\n",
    "print(a.rfind('a'))\n",
    "print(a.find(\"a\", 6))\n",
    "print(a.find(\"x\"))"
   ]
  },
  {
   "cell_type": "code",
   "execution_count": 41,
   "metadata": {},
   "outputs": [
    {
     "name": "stdout",
     "output_type": "stream",
     "text": [
      "2\n",
      "9\n",
      "9\n"
     ]
    },
    {
     "ename": "ValueError",
     "evalue": "substring not found",
     "output_type": "error",
     "traceback": [
      "\u001b[1;31m---------------------------------------------------------------------------\u001b[0m",
      "\u001b[1;31mValueError\u001b[0m                                Traceback (most recent call last)",
      "\u001b[1;32m<ipython-input-41-77e637b44105>\u001b[0m in \u001b[0;36m<module>\u001b[1;34m\u001b[0m\n\u001b[0;32m      3\u001b[0m \u001b[0mprint\u001b[0m\u001b[1;33m(\u001b[0m\u001b[0ma\u001b[0m\u001b[1;33m.\u001b[0m\u001b[0mindex\u001b[0m\u001b[1;33m(\u001b[0m\u001b[1;34m\"a\"\u001b[0m\u001b[1;33m,\u001b[0m \u001b[1;36m6\u001b[0m\u001b[1;33m)\u001b[0m\u001b[1;33m)\u001b[0m\u001b[1;33m\u001b[0m\u001b[1;33m\u001b[0m\u001b[0m\n\u001b[0;32m      4\u001b[0m \u001b[0mprint\u001b[0m\u001b[1;33m(\u001b[0m\u001b[0ma\u001b[0m\u001b[1;33m.\u001b[0m\u001b[0mrindex\u001b[0m\u001b[1;33m(\u001b[0m\u001b[1;34m\"a\"\u001b[0m\u001b[1;33m)\u001b[0m\u001b[1;33m)\u001b[0m\u001b[1;33m\u001b[0m\u001b[1;33m\u001b[0m\u001b[0m\n\u001b[1;32m----> 5\u001b[1;33m \u001b[0mprint\u001b[0m\u001b[1;33m(\u001b[0m\u001b[0ma\u001b[0m\u001b[1;33m.\u001b[0m\u001b[0mindex\u001b[0m\u001b[1;33m(\u001b[0m\u001b[1;34m\"x\"\u001b[0m\u001b[1;33m)\u001b[0m\u001b[1;33m)\u001b[0m\u001b[1;33m\u001b[0m\u001b[1;33m\u001b[0m\u001b[0m\n\u001b[0m",
      "\u001b[1;31mValueError\u001b[0m: substring not found"
     ]
    }
   ],
   "source": [
    "a=\"zhang zihao\"\n",
    "print(a.index(\"a\"))\n",
    "print(a.index(\"a\", 6))\n",
    "print(a.rindex(\"a\"))\n",
    "print(a.index(\"x\"))"
   ]
  },
  {
   "cell_type": "code",
   "execution_count": 18,
   "metadata": {},
   "outputs": [
    {
     "ename": "TypeError",
     "evalue": "'>' not supported between instances of 'str' and 'int'",
     "output_type": "error",
     "traceback": [
      "\u001b[1;31m---------------------------------------------------------------------------\u001b[0m",
      "\u001b[1;31mTypeError\u001b[0m                                 Traceback (most recent call last)",
      "\u001b[1;32m<ipython-input-18-9590644199cb>\u001b[0m in \u001b[0;36m<module>\u001b[1;34m\u001b[0m\n\u001b[1;32m----> 1\u001b[1;33m \u001b[0mprint\u001b[0m\u001b[1;33m(\u001b[0m\u001b[1;34m'a'\u001b[0m  \u001b[1;33m>\u001b[0m \u001b[1;36m26\u001b[0m\u001b[1;33m)\u001b[0m\u001b[1;33m\u001b[0m\u001b[1;33m\u001b[0m\u001b[0m\n\u001b[0m",
      "\u001b[1;31mTypeError\u001b[0m: '>' not supported between instances of 'str' and 'int'"
     ]
    }
   ],
   "source": [
    "print('a'  > 26)"
   ]
  },
  {
   "cell_type": "code",
   "execution_count": 19,
   "metadata": {},
   "outputs": [
    {
     "ename": "TypeError",
     "evalue": "unsupported operand type(s) for -: 'str' and 'int'",
     "output_type": "error",
     "traceback": [
      "\u001b[1;31m---------------------------------------------------------------------------\u001b[0m",
      "\u001b[1;31mTypeError\u001b[0m                                 Traceback (most recent call last)",
      "\u001b[1;32m<ipython-input-19-556bfaf8ddc7>\u001b[0m in \u001b[0;36m<module>\u001b[1;34m\u001b[0m\n\u001b[1;32m----> 1\u001b[1;33m \u001b[0mprint\u001b[0m\u001b[1;33m(\u001b[0m\u001b[1;34m'a'\u001b[0m \u001b[1;33m-\u001b[0m \u001b[1;36m26\u001b[0m\u001b[1;33m)\u001b[0m\u001b[1;33m\u001b[0m\u001b[1;33m\u001b[0m\u001b[0m\n\u001b[0m",
      "\u001b[1;31mTypeError\u001b[0m: unsupported operand type(s) for -: 'str' and 'int'"
     ]
    }
   ],
   "source": [
    "print('a' - 26)"
   ]
  },
  {
   "cell_type": "code",
   "execution_count": 23,
   "metadata": {},
   "outputs": [
    {
     "name": "stdout",
     "output_type": "stream",
     "text": [
      "True\n",
      "True\n",
      "False\n",
      "False\n"
     ]
    }
   ],
   "source": [
    "a = \"vnsduifghkws\"\n",
    "print(a.isalpha())\n",
    "b =  \"vnsduifghkws234242j4289u42\"\n",
    "print(b.isalnum())\n",
    "print(b.isalpha())\n",
    "c = b + \"-\"\n",
    "print(c.isalnum())"
   ]
  },
  {
   "cell_type": "code",
   "execution_count": 24,
   "metadata": {},
   "outputs": [
    {
     "name": "stdout",
     "output_type": "stream",
     "text": [
      "True\n"
     ]
    }
   ],
   "source": [
    "a = \"2856432746\"\n",
    "print(a.isnumeric())"
   ]
  },
  {
   "cell_type": "code",
   "execution_count": 27,
   "metadata": {},
   "outputs": [
    {
     "name": "stdout",
     "output_type": "stream",
     "text": [
      "False\n",
      "False\n",
      "False\n",
      "True\n"
     ]
    }
   ],
   "source": [
    "a = \"4545241754 454\"\n",
    "print(a.isnumeric())\n",
    "print(a.isspace())\n",
    "a = \"\"\n",
    "print(a.isspace())\n",
    "a = \"          \"\n",
    "print(a.isspace())"
   ]
  },
  {
   "cell_type": "code",
   "execution_count": 28,
   "metadata": {},
   "outputs": [
    {
     "name": "stdout",
     "output_type": "stream",
     "text": [
      "False\n",
      "True\n",
      "False\n",
      "True\n",
      "False\n",
      "False\n"
     ]
    }
   ],
   "source": [
    "a = \"zhangzihao\"\n",
    "print(a.istitle())\n",
    "a = \"Zhangzihao\"\n",
    "print(a.istitle())\n",
    "a = \"Zhang zihao\"\n",
    "print(a.istitle())\n",
    "a = \"Zhang Zihao\"\n",
    "print(a.istitle())\n",
    "a = \"Zhang ZiHao\"\n",
    "print(a.istitle())\n",
    "a = \"ZHANGZIHAO\"\n",
    "print(a.istitle())"
   ]
  },
  {
   "cell_type": "code",
   "execution_count": 29,
   "metadata": {},
   "outputs": [
    {
     "name": "stdout",
     "output_type": "stream",
     "text": [
      "True\n",
      "False\n"
     ]
    }
   ],
   "source": [
    "a = \"ZHANGZIHAO\"\n",
    "print(a.isupper())\n",
    "a = \"Zhang Zihao\"\n",
    "print(a.isupper())"
   ]
  },
  {
   "cell_type": "code",
   "execution_count": 30,
   "metadata": {},
   "outputs": [
    {
     "name": "stdout",
     "output_type": "stream",
     "text": [
      "11\n"
     ]
    }
   ],
   "source": [
    "a = \"Zhang Zihao\"\n",
    "print(len(a))"
   ]
  },
  {
   "cell_type": "code",
   "execution_count": 31,
   "metadata": {},
   "outputs": [
    {
     "name": "stdout",
     "output_type": "stream",
     "text": [
      "zhang zihao\n"
     ]
    }
   ],
   "source": [
    "a = \"Zhang Zihao\"\n",
    "print(a.lower())"
   ]
  },
  {
   "cell_type": "code",
   "execution_count": 32,
   "metadata": {},
   "outputs": [
    {
     "name": "stdout",
     "output_type": "stream",
     "text": [
      "ZHANG ZIHAO\n"
     ]
    }
   ],
   "source": [
    "a = \"Zhang Zihao\"\n",
    "print(a.upper())"
   ]
  },
  {
   "cell_type": "code",
   "execution_count": 34,
   "metadata": {},
   "outputs": [
    {
     "name": "stdout",
     "output_type": "stream",
     "text": [
      "#######Zhang Zihao#########   \n",
      "Zhang Zihao#########   \n",
      "#######Zhang Zihao#########\n",
      "Zhang Zihao\n",
      "    #######Zhang Zihao#########\n",
      "    #######Zhang Zihao\n"
     ]
    }
   ],
   "source": [
    "a = \"    #######Zhang Zihao#########   \"\n",
    "print(a.lstrip())\n",
    "print(a.lstrip().lstrip(\"#\"))\n",
    "print(a.strip())\n",
    "print(a.strip().strip(\"#\"))\n",
    "print(a.rstrip())\n",
    "print(a.rstrip().rstrip(\"#\"))"
   ]
  },
  {
   "cell_type": "code",
   "execution_count": 36,
   "metadata": {},
   "outputs": [
    {
     "name": "stdout",
     "output_type": "stream",
     "text": [
      "z\n",
      "Z\n"
     ]
    }
   ],
   "source": [
    "a  = \"Zhangzihao\"\n",
    "print(max(a))\n",
    "print(min(a))"
   ]
  },
  {
   "cell_type": "code",
   "execution_count": 38,
   "metadata": {},
   "outputs": [
    {
     "name": "stdout",
     "output_type": "stream",
     "text": [
      "小王上二年级啦！\n"
     ]
    }
   ],
   "source": [
    "a = \"小明上一年级啦！\"\n",
    "print(a.replace(\"小明\", \"小王\").replace(\"一\", \"二\"))"
   ]
  },
  {
   "cell_type": "code",
   "execution_count": 46,
   "metadata": {},
   "outputs": [
    {
     "name": "stdout",
     "output_type": "stream",
     "text": [
      "['z', 'h', 'a', 'n', 'g', 'z', 'i', 'h', 'a', 'o']\n",
      "['z', 'h', 'a', 'n', 'g', 'z i h a o']\n"
     ]
    }
   ],
   "source": [
    "a = \"z h a n g z i h a o\"\n",
    "print(a.split(' '))\n",
    "print(a.split(' ', 5))"
   ]
  },
  {
   "cell_type": "code",
   "execution_count": 48,
   "metadata": {},
   "outputs": [
    {
     "name": "stdout",
     "output_type": "stream",
     "text": [
      "zHANG zIHAO\n"
     ]
    }
   ],
   "source": [
    "a = \"Zhang Zihao\"\n",
    "print(a.swapcase())"
   ]
  },
  {
   "cell_type": "code",
   "execution_count": 61,
   "metadata": {},
   "outputs": [
    {
     "name": "stdout",
     "output_type": "stream",
     "text": [
      "[\"/0_1/3899862.html' >第一千五百五十一章 邪神陨落（大结局）</a></dd>\", \"/0_1/3899375.html' >第一千五百五十章 生灵之力</a></dd>\", \"/0_1/3894984.html' >第一千五百四十九章 最后一战</a></dd>\", \"/0_1/3890723.html' >第一千五百四十八章</a></dd>\", \"/0_1/3887427.html' >第一千五百四十七章 最后的底牌</a></dd>\", \"/0_1/3883903.html' >第一千五百四十六章 十目</a></dd>\", \"/0_1/3879466.html' >第一千五百四十五章 最强之力</a></dd>\", \"/0_1/3873595.html' >第一千五百四十四章 再战天邪神</a></dd>\", \"/0_1/3867788.html' >第一千五百四十三章 第三位榜上者</a></dd>\", '/0_1/1.html\">第一章 北灵院</a></dd>', '/0_1/2.html\">第二章 被踢出灵路的少年</a></dd>', '/0_1/3.html\">第三章 牧域</a></dd>', '/0_1/4.html\">第四章 大浮屠诀</a></dd>', '/0_1/5.html\">第五章 大千世界</a></dd>', '/0_1/6.html\">第六章 灵力增幅</a></dd>', '/0_1/7.html\">第七章 慕元</a></dd>', '/0_1/8.html\">第八章 柳阳</a></dd>', '/0_1/9.html\">第九章 对恃</a></dd>', '/0_1/10.html\">第十章 院试</a></dd>', '/0_1/11.html\">第十一章 谭青山</a></dd>', '/0_1/12.html\">第十二章 出手</a></dd>', '/0_1/13.html\">第十三章 战柳阳</a></dd>', '/0_1/14.html\">第十四章 灵动境中期</a></dd>', '/0_1/15.html\">第十五章 破灵珠</a></dd>', '/0_1/16.html\">第十六章 天届</a></dd>']\n",
      "['/0_1/3899862.html\\' >第一千五百五十一章 邪神陨落（大结局）</a></dd>\\n\\t\\t\\t\\t<dd><a href=\\'/0_1/3899375.html\\' >第一千五百五十章 生灵之力</a></dd>\\n\\t\\t\\t\\t<dd><a href=\\'/0_1/3894984.html\\' >第一千五百四十九章 最后一战</a></dd>\\n\\t\\t\\t\\t<dd><a href=\\'/0_1/3890723.html\\' >第一千五百四十八章</a></dd>\\n\\t\\t\\t\\t<dd><a href=\\'/0_1/3887427.html\\' >第一千五百四十七章 最后的底牌</a></dd>\\n\\t\\t\\t\\t<dd><a href=\\'/0_1/3883903.html\\' >第一千五百四十六章 十目</a></dd>\\n\\t\\t\\t\\t<dd><a href=\\'/0_1/3879466.html\\' >第一千五百四十五章 最强之力</a></dd>\\n\\t\\t\\t\\t<dd><a href=\\'/0_1/3873595.html\\' >第一千五百四十四章 再战天邪神</a></dd>\\n\\t\\t\\t\\t<dd><a href=\\'/0_1/3867788.html\\' >第一千五百四十三章 第三位榜上者</a></dd>\\n\\t\\t\\t\\t\\n\\t\\t\\t\\t\\t<dt>《大主宰》正文</dt>\\n                    \\n                      \\n                        <dd><a href=\"/0_1/1.html\">第一章 北灵院</a></dd>\\n                        <dd><a href=\"/0_1/2.html\">第二章 被踢出灵路的少年</a></dd>\\n                        <dd><a href=\"/0_1/3.html\">第三章 牧域</a></dd>\\n                        <dd><a href=\"/0_1/4.html\">第四章 大浮屠诀</a></dd>\\n                      \\n                     \\n                      \\n                        <dd><a href=\"/0_1/5.html\">第五章 大千世界</a></dd>\\n                        <dd><a href=\"/0_1/6.html\">第六章 灵力增幅</a></dd>\\n                        <dd><a href=\"/0_1/7.html\">第七章 慕元</a></dd>\\n                        <dd><a href=\"/0_1/8.html\">第八章 柳阳</a></dd>\\n                      \\n                     \\n                      \\n                        <dd><a href=\"/0_1/9.html\">第九章 对恃</a></dd>\\n                        <dd><a href=\"/0_1/10.html\">第十章 院试</a></dd>\\n                        <dd><a href=\"/0_1/11.html\">第十一章 谭青山</a></dd>\\n                        <dd><a href=\"/0_1/12.html\">第十二章 出手</a></dd>\\n                      \\n                     \\n                      \\n                        <dd><a href=\"/0_1/13.html\">第十三章 战柳阳</a></dd>\\n                        <dd><a href=\"/0_1/14.html\">第十四章 灵动境中期</a></dd>\\n                        <dd><a href=\"/0_1/15.html\">第十五章 破灵珠</a></dd>\\n                        <dd><a href=\"/0_1/16.html\">第十六章 天届</a></dd>\\n']\n",
      "1\n",
      "['/0_1/3899862.html', '/0_1/3899375.html', '/0_1/3894984.html', '/0_1/3890723.html', '/0_1/3887427.html', '/0_1/3883903.html', '/0_1/3879466.html', '/0_1/3873595.html', '/0_1/3867788.html', '/0_1/1.html', '/0_1/2.html', '/0_1/3.html', '/0_1/4.html', '/0_1/5.html', '/0_1/6.html', '/0_1/7.html', '/0_1/8.html', '/0_1/9.html', '/0_1/10.html', '/0_1/11.html', '/0_1/12.html', '/0_1/13.html', '/0_1/14.html', '/0_1/15.html', '/0_1/16.html']\n",
      "['/0_1/3899862.html', '/0_1/3899375.html', '/0_1/3894984.html', '/0_1/3890723.html', '/0_1/3887427.html', '/0_1/3883903.html', '/0_1/3879466.html', '/0_1/3873595.html', '/0_1/3867788.html', '/0_1/1.html', '/0_1/2.html', '/0_1/3.html', '/0_1/4.html', '/0_1/5.html', '/0_1/6.html', '/0_1/7.html', '/0_1/8.html', '/0_1/9.html', '/0_1/10.html', '/0_1/11.html', '/0_1/12.html', '/0_1/13.html', '/0_1/14.html', '/0_1/15.html', '/0_1/16.html']\n"
     ]
    }
   ],
   "source": [
    "import re\n",
    "page = \"\"\"\n",
    "    <div id=\"sidebar\">\n",
    "\t\t\t\t<div id=\"fmimg\"><img alt=\"大主宰\" src=\"/files/article/image/0/1/1s.jpg\" onerror=\"src='/images/nocover.jpg'\"/><span class=\"b\"></span></div>\n",
    "\t\t\t</div> \n",
    "\t\t\t<div id=\"listtj\">&nbsp;推荐阅读：<a href='/7_7325/' >盗天仙途</a>\n",
    "\t\t\t\t<a href='/2_2491/' style='font-weight:bold'>逍遥游</a>\n",
    "\t\t\t\t<a href='/7_7435/' >透视小邪医</a>\n",
    "\t\t\t\t<a href='/7_7289/' >寒门枭士</a>\n",
    "\t\t\t\t<a href='/19_19323/' style='font-weight:bold'>九星毒奶</a>\n",
    "\t\t\t\t<a href='/0_899/' >武炼巅峰</a>\n",
    "\t\t\t\t<a href='/3_3330/' style='font-weight:bold'>最强狂兵</a>\n",
    "\t\t\t\t<a href='/0_864/' >极道天魔</a>\n",
    "\t\t\t\t<a href='/0_621/' >彪悍的人生</a>\n",
    "\t\t\t\t</div>\n",
    "\t\t</div>\n",
    "\t\t\n",
    "\t\t<div class=\"box_con\">\n",
    "\t\t\t<div id=\"list\">\n",
    "\t\t\t\t<dl>\n",
    "\t\t\t\t\t<dt><b>《大主宰》最新章节</b>（提示：已启用缓存技术，最新章节可能会延时显示，登录书架即可实时查看。）</dt>\n",
    "\t\t\t\t\t\t<dd><a href='/0_1/3899862.html' >第一千五百五十一章 邪神陨落（大结局）</a></dd>\n",
    "\t\t\t\t<dd><a href='/0_1/3899375.html' >第一千五百五十章 生灵之力</a></dd>\n",
    "\t\t\t\t<dd><a href='/0_1/3894984.html' >第一千五百四十九章 最后一战</a></dd>\n",
    "\t\t\t\t<dd><a href='/0_1/3890723.html' >第一千五百四十八章</a></dd>\n",
    "\t\t\t\t<dd><a href='/0_1/3887427.html' >第一千五百四十七章 最后的底牌</a></dd>\n",
    "\t\t\t\t<dd><a href='/0_1/3883903.html' >第一千五百四十六章 十目</a></dd>\n",
    "\t\t\t\t<dd><a href='/0_1/3879466.html' >第一千五百四十五章 最强之力</a></dd>\n",
    "\t\t\t\t<dd><a href='/0_1/3873595.html' >第一千五百四十四章 再战天邪神</a></dd>\n",
    "\t\t\t\t<dd><a href='/0_1/3867788.html' >第一千五百四十三章 第三位榜上者</a></dd>\n",
    "\t\t\t\t\n",
    "\t\t\t\t\t<dt>《大主宰》正文</dt>\n",
    "                    \n",
    "                      \n",
    "                        <dd><a href=\"/0_1/1.html\">第一章 北灵院</a></dd>\n",
    "                        <dd><a href=\"/0_1/2.html\">第二章 被踢出灵路的少年</a></dd>\n",
    "                        <dd><a href=\"/0_1/3.html\">第三章 牧域</a></dd>\n",
    "                        <dd><a href=\"/0_1/4.html\">第四章 大浮屠诀</a></dd>\n",
    "                      \n",
    "                     \n",
    "                      \n",
    "                        <dd><a href=\"/0_1/5.html\">第五章 大千世界</a></dd>\n",
    "                        <dd><a href=\"/0_1/6.html\">第六章 灵力增幅</a></dd>\n",
    "                        <dd><a href=\"/0_1/7.html\">第七章 慕元</a></dd>\n",
    "                        <dd><a href=\"/0_1/8.html\">第八章 柳阳</a></dd>\n",
    "                      \n",
    "                     \n",
    "                      \n",
    "                        <dd><a href=\"/0_1/9.html\">第九章 对恃</a></dd>\n",
    "                        <dd><a href=\"/0_1/10.html\">第十章 院试</a></dd>\n",
    "                        <dd><a href=\"/0_1/11.html\">第十一章 谭青山</a></dd>\n",
    "                        <dd><a href=\"/0_1/12.html\">第十二章 出手</a></dd>\n",
    "                      \n",
    "                     \n",
    "                      \n",
    "                        <dd><a href=\"/0_1/13.html\">第十三章 战柳阳</a></dd>\n",
    "                        <dd><a href=\"/0_1/14.html\">第十四章 灵动境中期</a></dd>\n",
    "                        <dd><a href=\"/0_1/15.html\">第十五章 破灵珠</a></dd>\n",
    "                        <dd><a href=\"/0_1/16.html\">第十六章 天届</a></dd>\n",
    "\"\"\"\n",
    "ex1 = \"/0_1/.*\"\n",
    "ex2 = \"/0_1/.*?.html\"\n",
    "print(re.findall(ex1, page))\n",
    "print(re.findall(ex1, page, re.S))\n",
    "print(len(re.findall(ex1, page, re.S)))\n",
    "print(re.findall(ex2, page))\n",
    "print(re.findall(ex2, page, re.S))"
   ]
  },
  {
   "cell_type": "code",
   "execution_count": 60,
   "metadata": {},
   "outputs": [
    {
     "name": "stdout",
     "output_type": "stream",
     "text": [
      "b is  []\n",
      "c is  ['lsdlfsdfiooefo:\\n877898989']\n"
     ]
    }
   ],
   "source": [
    "import re\n",
    "a = \"\"\"sdfkhellolsdlfsdfiooefo:\n",
    "877898989worldafdsf\"\"\"\n",
    "b = re.findall('hello(.*?)world',a)\n",
    "c = re.findall('hello(.*?)world',a,re.S)\n",
    "print ('b is ' , b)\n",
    "print ('c is ' , c)"
   ]
  },
  {
   "cell_type": "code",
   "execution_count": 1,
   "metadata": {},
   "outputs": [
    {
     "name": "stdout",
     "output_type": "stream",
     "text": [
      "a + b helloPython\n"
     ]
    }
   ],
   "source": [
    "a = \"hello\"\n",
    "b = \"Python\"\n",
    "print(\"a + b\", a+b)\n"
   ]
  },
  {
   "cell_type": "code",
   "execution_count": 5,
   "metadata": {},
   "outputs": [
    {
     "name": "stdout",
     "output_type": "stream",
     "text": [
      "\n",
      "gdsjkghbnerakjtghlek FEJIJWALHGNE R\n",
      "福IErlkjfglerhn】分klwrj'mfeklorgjtnlke\n",
      "rafgolpe a'j wetopwja美国控制\n",
      " iwaowe jo 佛和我IE围殴人围殴和沃尔沃荣和文和容我和日温柔\n",
      "\n",
      "Hello roob\n",
      "<class 'list'>\n",
      "sfsfdsaffnjfg\n",
      "<class 'str'>\n"
     ]
    }
   ],
   "source": [
    "str = \"\"\"\n",
    "gdsjkghbnerakjtghlek FEJIJWALHGNE R\n",
    "福IErlkjfglerhn】分klwrj'mfeklorgjtnlke\n",
    "rafgolpe a'j wetopwja美国控制\n",
    " iwaowe jo 佛和我IE围殴人围殴和沃尔沃荣和文和容我和日温柔\n",
    "\"\"\"\n",
    "print(str)\n",
    "name = \"roob\"\n",
    "print(f\"Hello {name}\")\n",
    "li = [\"sfs\", \"fdsaf\", \"fnjfg\"]\n",
    "print(type(li))\n",
    "li = \"\".join(li)\n",
    "print(li)\n",
    "print(type(li))"
   ]
  },
  {
   "cell_type": "code",
   "execution_count": 3,
   "metadata": {},
   "outputs": [
    {
     "ename": "SyntaxError",
     "evalue": "invalid character in identifier (<ipython-input-3-e94f8b7dd690>, line 3)",
     "output_type": "error",
     "traceback": [
      "\u001b[1;36m  File \u001b[1;32m\"<ipython-input-3-e94f8b7dd690>\"\u001b[1;36m, line \u001b[1;32m3\u001b[0m\n\u001b[1;33m    print(\"我叫%s,今年%d岁了\",(\"小明\"， 10))\u001b[0m\n\u001b[1;37m                             ^\u001b[0m\n\u001b[1;31mSyntaxError\u001b[0m\u001b[1;31m:\u001b[0m invalid character in identifier\n"
     ]
    }
   ],
   "source": [
    "print(a[1:-1])\n",
    "print(a[0:-1])\n",
    "print(\"我叫%s,今年%d岁了\",(\"小明\"， 10))"
   ]
  },
  {
   "cell_type": "code",
   "execution_count": 4,
   "metadata": {},
   "outputs": [
    {
     "ename": "SyntaxError",
     "evalue": "invalid character in identifier (<ipython-input-4-5a647337286b>, line 3)",
     "output_type": "error",
     "traceback": [
      "\u001b[1;36m  File \u001b[1;32m\"<ipython-input-4-5a647337286b>\"\u001b[1;36m, line \u001b[1;32m3\u001b[0m\n\u001b[1;33m    print(\"我叫%s,今年%d岁了\"%(\"小明\"， 10))\u001b[0m\n\u001b[1;37m                             ^\u001b[0m\n\u001b[1;31mSyntaxError\u001b[0m\u001b[1;31m:\u001b[0m invalid character in identifier\n"
     ]
    }
   ],
   "source": [
    "print(a[1:-1])\n",
    "print(a[0:-1])\n",
    "print(\"我叫%s,今年%d岁了\"%(\"小明\"， 10))"
   ]
  },
  {
   "cell_type": "code",
   "execution_count": 6,
   "metadata": {},
   "outputs": [
    {
     "name": "stdout",
     "output_type": "stream",
     "text": [
      "{'k', 'g', 'r', 'h', 'b', 'w', 's', 'j', 'f', 'd', 'n'}\n",
      "{'g', 'e', 's', 'f', 'd', 'k', 'n', 'h', 'b', 'w', 'j', 'r', 'v'}\n",
      "{'g', 'n', 'w', 's', 'j', 'r', 'd', 'k'}\n",
      "{'f', 'h', 'b'}\n",
      "{'e', 'h', 'b', 'f', 'v'}\n"
     ]
    }
   ],
   "source": [
    "a = set(\"fnjkrsdfgbwsjkhfgbk\")\n",
    "b = set(\"vgsedrgwegnjk\")\n",
    "\n",
    "print(a)\n",
    "print(a | b)\n",
    "print(a & b)\n",
    "print(a - b)\n",
    "print(a ^ b)"
   ]
  },
  {
   "cell_type": "code",
   "execution_count": 7,
   "metadata": {},
   "outputs": [
    {
     "name": "stdout",
     "output_type": "stream",
     "text": [
      "k g r h b w s j f d n\n",
      "k g e w d s j r v n\n"
     ]
    }
   ],
   "source": [
    "a = set(\"fnjkrsdfgbwsjkhfgbk\")\n",
    "b = set(\"vgsedrgwegnjk\")\n",
    "print(*a)\n",
    "print(*b)"
   ]
  },
  {
   "cell_type": "code",
   "execution_count": 8,
   "metadata": {},
   "outputs": [
    {
     "ename": "SyntaxError",
     "evalue": "expression cannot contain assignment, perhaps you meant \"==\"? (<ipython-input-8-240afcbfbe47>, line 5)",
     "output_type": "error",
     "traceback": [
      "\u001b[1;36m  File \u001b[1;32m\"<ipython-input-8-240afcbfbe47>\"\u001b[1;36m, line \u001b[1;32m5\u001b[0m\n\u001b[1;33m    print(\"s\" + end = \" \")\u001b[0m\n\u001b[1;37m          ^\u001b[0m\n\u001b[1;31mSyntaxError\u001b[0m\u001b[1;31m:\u001b[0m expression cannot contain assignment, perhaps you meant \"==\"?\n"
     ]
    }
   ],
   "source": [
    "print(\"s\")\n",
    "a = 10\n",
    "print(a)\n",
    "print(\"======================\")\n",
    "print(\"s\" + end = \" \")\n",
    "print(a + end = \" \")"
   ]
  },
  {
   "cell_type": "code",
   "execution_count": 9,
   "metadata": {},
   "outputs": [
    {
     "ename": "SyntaxError",
     "evalue": "expression cannot contain assignment, perhaps you meant \"==\"? (<ipython-input-9-240afcbfbe47>, line 5)",
     "output_type": "error",
     "traceback": [
      "\u001b[1;36m  File \u001b[1;32m\"<ipython-input-9-240afcbfbe47>\"\u001b[1;36m, line \u001b[1;32m5\u001b[0m\n\u001b[1;33m    print(\"s\" + end = \" \")\u001b[0m\n\u001b[1;37m          ^\u001b[0m\n\u001b[1;31mSyntaxError\u001b[0m\u001b[1;31m:\u001b[0m expression cannot contain assignment, perhaps you meant \"==\"?\n"
     ]
    }
   ],
   "source": [
    "print(\"s\")\n",
    "a = 10\n",
    "print(a)\n",
    "print(\"======================\")\n",
    "print(\"s\" + end = \" \")\n",
    "print(a + end = \" \")"
   ]
  },
  {
   "cell_type": "code",
   "execution_count": 10,
   "metadata": {},
   "outputs": [
    {
     "name": "stdout",
     "output_type": "stream",
     "text": [
      "s\n",
      "10\n",
      "======================\n",
      "s 10 "
     ]
    }
   ],
   "source": [
    "print(\"s\")\n",
    "a = 10\n",
    "print(a)\n",
    "print(\"======================\")\n",
    "print(\"s\" , end= \" \")\n",
    "print(a , end= \" \")"
   ]
  },
  {
   "cell_type": "code",
   "execution_count": 11,
   "metadata": {},
   "outputs": [
    {
     "name": "stdout",
     "output_type": "stream",
     "text": [
      "==========Python import mode===============\n",
      "D:\\ANACONDA\\lib\\site-packages\\ipykernel_launcher.py\n",
      "-f\n",
      "C:\\Users\\PublicStaticVoid\\AppData\\Roaming\\jupyter\\runtime\\kernel-20abe8b9-8e19-49b3-8cea-5c44be9beac2.json\n",
      "\n",
      " Python的路径为: ['C:\\\\Users\\\\PublicStaticVoid', 'D:\\\\ANACONDA\\\\python38.zip', 'D:\\\\ANACONDA\\\\DLLs', 'D:\\\\ANACONDA\\\\lib', 'D:\\\\ANACONDA', '', 'D:\\\\ANACONDA\\\\lib\\\\site-packages', 'D:\\\\ANACONDA\\\\lib\\\\site-packages\\\\win32', 'D:\\\\ANACONDA\\\\lib\\\\site-packages\\\\win32\\\\lib', 'D:\\\\ANACONDA\\\\lib\\\\site-packages\\\\Pythonwin', 'D:\\\\ANACONDA\\\\lib\\\\site-packages\\\\IPython\\\\extensions', 'C:\\\\Users\\\\PublicStaticVoid\\\\.ipython']\n"
     ]
    }
   ],
   "source": [
    "import sys\n",
    "print(\"==========Python import mode===============\")\n",
    "for i in sys.argv:\n",
    "    print(i)\n",
    "print(\"\\n Python的路径为:\", sys.path)"
   ]
  },
  {
   "cell_type": "code",
   "execution_count": null,
   "metadata": {},
   "outputs": [],
   "source": []
  }
 ],
 "metadata": {
  "kernelspec": {
   "display_name": "Python 3",
   "language": "python",
   "name": "python3"
  },
  "language_info": {
   "codemirror_mode": {
    "name": "ipython",
    "version": 3
   },
   "file_extension": ".py",
   "mimetype": "text/x-python",
   "name": "python",
   "nbconvert_exporter": "python",
   "pygments_lexer": "ipython3",
   "version": "3.8.3"
  }
 },
 "nbformat": 4,
 "nbformat_minor": 4
}
