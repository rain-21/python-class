{
 "cells": [
  {
   "cell_type": "code",
   "execution_count": 1,
   "metadata": {},
   "outputs": [
    {
     "name": "stdout",
     "output_type": "stream",
     "text": [
      "<class 'str'>\n",
      "12\n",
      "var1[0]:  h\n",
      "var2[1:5]:  unoo\n"
     ]
    }
   ],
   "source": [
    "var1 = 'hello world!'\n",
    "var2 = \"runoob\"\n",
    "print(type(var1))\n",
    "print(len(var1))\n",
    "print(\"var1[0]: \", var1[0])\n",
    "print(\"var2[1:5]: \", var2[1:5])"
   ]
  },
  {
   "cell_type": "code",
   "execution_count": 2,
   "metadata": {},
   "outputs": [
    {
     "name": "stdout",
     "output_type": "stream",
     "text": [
      "已更新字符串:  hello runoob!\n"
     ]
    }
   ],
   "source": [
    "var1 = 'hello world!'\n",
    "\n",
    "print(\"已更新字符串: \", var1[:6] + 'runoob!')"
   ]
  },
  {
   "cell_type": "code",
   "execution_count": 3,
   "metadata": {},
   "outputs": [
    {
     "data": {
      "text/plain": [
       "True"
      ]
     },
     "execution_count": 3,
     "metadata": {},
     "output_type": "execute_result"
    }
   ],
   "source": [
    "'hello ' * 5\n",
    "'h' in 'hello'"
   ]
  },
  {
   "cell_type": "code",
   "execution_count": 4,
   "metadata": {},
   "outputs": [
    {
     "name": "stdout",
     "output_type": "stream",
     "text": [
      "i am lucy\n",
      "i\\'m OK\n"
     ]
    }
   ],
   "source": [
    "name = 'lucy'\n",
    "print(f'i am {name}')\n",
    "print(r'i\\'m OK')"
   ]
  },
  {
   "cell_type": "code",
   "execution_count": 5,
   "metadata": {},
   "outputs": [
    {
     "name": "stdout",
     "output_type": "stream",
     "text": [
      "Hello world\n",
      "HELLO WORLD\n",
      "Hello World\n"
     ]
    }
   ],
   "source": [
    "sentence = 'hello world'\n",
    "print(sentence. capitalize())\n",
    "print(sentence. upper())\n",
    "print(sentence. title())"
   ]
  },
  {
   "cell_type": "code",
   "execution_count": 7,
   "metadata": {},
   "outputs": [
    {
     "name": "stdout",
     "output_type": "stream",
     "text": [
      "var. count('o'):  3\n",
      "var. count('run', 0, 10):  1\n"
     ]
    }
   ],
   "source": [
    "var = \"www.runoob. com\"\n",
    "sub = 'o'\n",
    "print(\"var. count('o'): \", var. count(sub))\n",
    "\n",
    "sub = 'run'\n",
    "print(\"var. count('run', 0, 10): \",var. count(sub, 0, 10))"
   ]
  },
  {
   "cell_type": "code",
   "execution_count": 8,
   "metadata": {},
   "outputs": [
    {
     "name": "stdout",
     "output_type": "stream",
     "text": [
      "True\n",
      "True\n",
      "False\n",
      "False\n",
      "False\n",
      "True\n",
      "**************************************************\n",
      "True\n",
      "True\n",
      "False\n",
      "True\n",
      "True\n",
      "True\n",
      "**************************************************\n",
      "False\n",
      "False\n",
      "False\n",
      "False\n",
      "True\n",
      "False\n",
      "**************************************************\n",
      "False\n",
      "False\n",
      "False\n",
      "False\n",
      "True\n",
      "True\n"
     ]
    }
   ],
   "source": [
    "str1 = \"runoob\"\n",
    "str2 = \"runoob菜鸟教程\"\n",
    "str3 = \"runoob example....wow!!!\"\n",
    "str4 = \"runoob2016\"\n",
    "str5 = \"2016\"\n",
    "str6 = \"二零一六\"\n",
    "\n",
    "print (str1.isalpha())\n",
    "print (str2.isalpha())\n",
    "print (str3.isalpha())\n",
    "print (str4.isalpha())\n",
    "print (str5.isalpha())\n",
    "print (str6.isalpha())\n",
    "print('*' * 50)\n",
    "print (str1.isalnum())\n",
    "print (str2.isalnum())\n",
    "print (str3.isalnum())\n",
    "print (str4.isalnum())\n",
    "print (str5.isalnum())\n",
    "print (str6.isalnum())\n",
    "print('*' * 50)\n",
    "print (str1.isdigit())\n",
    "print (str2.isdigit())\n",
    "print (str3.isdigit())\n",
    "print (str4.isdigit())\n",
    "print (str5.isdigit())\n",
    "print (str6.isdigit())\n",
    "print('*' * 50)\n",
    "print (str1.isnumeric())\n",
    "print (str2.isnumeric())\n",
    "print (str3.isnumeric())\n",
    "print (str4.isnumeric())\n",
    "print (str5.isnumeric())\n",
    "print (str6.isnumeric())"
   ]
  },
  {
   "cell_type": "code",
   "execution_count": 9,
   "metadata": {},
   "outputs": [
    {
     "name": "stdout",
     "output_type": "stream",
     "text": [
      "True\n",
      "True\n",
      "False\n"
     ]
    }
   ],
   "source": [
    "var = \"this is string example....wow!!!\"\n",
    "print(var.startswith('this'))\n",
    "print(var.startswith('string', 8))\n",
    "print(var.startswith('this', 2, 4))"
   ]
  },
  {
   "cell_type": "code",
   "execution_count": 13,
   "metadata": {},
   "outputs": [
    {
     "name": "stdout",
     "output_type": "stream",
     "text": [
      "True\n",
      "False\n",
      "False\n",
      "True\n"
     ]
    }
   ],
   "source": [
    "var='runoob example....wow!!!'\n",
    "suffix='!!'\n",
    "print(var.endswith(suffix))\n",
    "print(var.endswith(suffix, len(var) - 1))\n",
    "suffix='run'\n",
    "print(var.endswith(suffix))\n",
    "print(var.endswith(suffix, 0, 3))"
   ]
  },
  {
   "cell_type": "code",
   "execution_count": 14,
   "metadata": {},
   "outputs": [
    {
     "name": "stdout",
     "output_type": "stream",
     "text": [
      "7\n",
      "-1\n",
      "-1\n"
     ]
    }
   ],
   "source": [
    "str1 = \"runoob example....wow!!!\"\n",
    "str2 = \"exam\";\n",
    "\n",
    "print(str1.find(str2))\n",
    "print(str2.find(str2, 5))\n",
    "print(str1.find(str2, 10))"
   ]
  },
  {
   "cell_type": "code",
   "execution_count": 1,
   "metadata": {},
   "outputs": [
    {
     "name": "stdout",
     "output_type": "stream",
     "text": [
      "*****this is **string** example....wow!!!*****\n"
     ]
    },
    {
     "data": {
      "text/plain": [
       "'this is **string** example....wow!!!'"
      ]
     },
     "execution_count": 1,
     "metadata": {},
     "output_type": "execute_result"
    }
   ],
   "source": [
    "str1 = \"*****this is **string** example....wow!!!*****\"\n",
    "str1 = str1. strip()\n",
    "print(str1)\n",
    "str1 = str1. strip('*')\n",
    "str1"
   ]
  },
  {
   "cell_type": "code",
   "execution_count": 2,
   "metadata": {},
   "outputs": [
    {
     "name": "stdout",
     "output_type": "stream",
     "text": [
      "['google', 'runoob', 'taobao', 'facebook']\n",
      "['google', 'runoob#taobao#facebook']\n"
     ]
    }
   ],
   "source": [
    "txt = \"google#runoob#taobao#facebook\"\n",
    "print(txt. split('#'))\n",
    "x = txt. split(\"#\",1)\n",
    "print(x)"
   ]
  },
  {
   "cell_type": "code",
   "execution_count": 3,
   "metadata": {},
   "outputs": [
    {
     "name": "stdout",
     "output_type": "stream",
     "text": [
      "菜鸟教程旧地址: www.w3cschool.cc\n",
      "菜鸟教程新地址: www.runoob.com\n",
      "thwas was string example....wow!!!\n"
     ]
    }
   ],
   "source": [
    "str1 = \"www.w3cschool.cc\"\n",
    "print(\"菜鸟教程旧地址:\",str1)\n",
    "print(\"菜鸟教程新地址:\",str1.replace(\"w3cschool.cc\",\"runoob.com\"))\n",
    "\n",
    "str2 = \"this is string example....wow!!!\"\n",
    "print(str2.replace(\"is\",\"was\",3))"
   ]
  },
  {
   "cell_type": "code",
   "execution_count": 1,
   "metadata": {},
   "outputs": [
    {
     "name": "stdout",
     "output_type": "stream",
     "text": [
      "age < 20\n"
     ]
    }
   ],
   "source": [
    "age = 18\n",
    "\n",
    "if age < 20:\n",
    "    print(\"age < 20\")"
   ]
  },
  {
   "cell_type": "code",
   "execution_count": 2,
   "metadata": {},
   "outputs": [
    {
     "data": {
      "text/plain": [
       "300"
      ]
     },
     "execution_count": 2,
     "metadata": {},
     "output_type": "execute_result"
    }
   ],
   "source": [
    "def newfunc(n):\n",
    "    def myfunc(x):\n",
    "        return x + n\n",
    "    return myfunc\n",
    "\n",
    "new = newfunc(100)\n",
    "new(200)"
   ]
  },
  {
   "cell_type": "code",
   "execution_count": 3,
   "metadata": {},
   "outputs": [
    {
     "name": "stdout",
     "output_type": "stream",
     "text": [
      "i is smaller than 15\n",
      "i is smaller than 12 too\n"
     ]
    }
   ],
   "source": [
    "i = 10\n",
    "if (i == 10):\n",
    "    if ( i < 15):\n",
    "        print (\"i is smaller than 15\")\n",
    "    if (i < 12):\n",
    "        print(\"i is smaller than 12 too\")\n",
    "    else:\n",
    "        print(\"i is greater than 15\")"
   ]
  },
  {
   "cell_type": "code",
   "execution_count": 4,
   "metadata": {},
   "outputs": [
    {
     "name": "stdout",
     "output_type": "stream",
     "text": [
      "2\n",
      "4\n",
      "6\n",
      "8\n",
      "10\n",
      "1\n",
      "2\n",
      "3\n",
      "4\n",
      "5\n",
      "6\n",
      "7\n",
      "8\n",
      "9\n",
      "10\n"
     ]
    }
   ],
   "source": [
    "i = 1\n",
    "while i < 10:\n",
    "    i += 1\n",
    "    if i%2 > 0:\n",
    "        continue\n",
    "    print(i)\n",
    "i = 1\n",
    "while 1:\n",
    "    print(i)\n",
    "    i += 1\n",
    "    if i > 10:\n",
    "        break"
   ]
  },
  {
   "cell_type": "code",
   "execution_count": 5,
   "metadata": {},
   "outputs": [
    {
     "name": "stdout",
     "output_type": "stream",
     "text": [
      "0 is less than 5\n",
      "1 is less than 5\n",
      "2 is less than 5\n",
      "3 is less than 5\n",
      "4 is less than 5\n",
      "5 is not less than 5\n"
     ]
    }
   ],
   "source": [
    "count =0\n",
    "while count < 5:\n",
    "    print(count, \"is less than 5\")\n",
    "    count = count + 1\n",
    "else:\n",
    "    print(count, \"is not less than 5\")"
   ]
  },
  {
   "cell_type": "code",
   "execution_count": 6,
   "metadata": {},
   "outputs": [
    {
     "name": "stdout",
     "output_type": "stream",
     "text": [
      "4\n",
      "3\n",
      "2\n",
      "1\n",
      "0\n"
     ]
    }
   ],
   "source": [
    "n = 5\n",
    "while n > 0:\n",
    "    n -= 1\n",
    "    print(n)"
   ]
  },
  {
   "cell_type": "code",
   "execution_count": 7,
   "metadata": {},
   "outputs": [
    {
     "name": "stdout",
     "output_type": "stream",
     "text": [
      "4\n",
      "3\n",
      "2\n",
      "1\n",
      "0\n",
      "Done.\n"
     ]
    }
   ],
   "source": [
    "q = 5\n",
    "while q > 0:\n",
    "    q -= 1\n",
    "    print(q)\n",
    "else:\n",
    "    print('Done.')"
   ]
  },
  {
   "cell_type": "code",
   "execution_count": 8,
   "metadata": {},
   "outputs": [
    {
     "data": {
      "text/plain": [
       "['https:',\n",
       " '',\n",
       " 'github.com',\n",
       " 'yuanxiaodu',\n",
       " 'python-class',\n",
       " 'blob',\n",
       " 'main',\n",
       " '02',\n",
       " '02.ipynb']"
      ]
     },
     "execution_count": 8,
     "metadata": {},
     "output_type": "execute_result"
    }
   ],
   "source": [
    "In [1]: str = 'https://github.com/yuanxiaodu/python-class/blob/main/02/02.ipynb'\n",
    "\n",
    "In [2]: str.split('/')"
   ]
  },
  {
   "cell_type": "code",
   "execution_count": 9,
   "metadata": {},
   "outputs": [
    {
     "name": "stdout",
     "output_type": "stream",
     "text": [
      "arg1:zhangfan,arg1:第二节课\n",
      "arg1:leanr,arg2:python\n",
      "arg1:fighting\n",
      "i got nothing.\n"
     ]
    }
   ],
   "source": [
    "def print_two(*args):\n",
    "    arg1,arg2=args\n",
    "    print(f\"arg1:{arg1},arg1:{arg2}\")\n",
    "    \n",
    "def print_two_again(arg1,arg2):\n",
    "    print(f'arg1:{arg1},arg2:{arg2}')\n",
    "\n",
    "def print_one(arg1):\n",
    "    print(f\"arg1:{arg1}\")\n",
    "    \n",
    "def print_none():\n",
    "    print(\"i got nothing.\")\n",
    "    \n",
    "    \n",
    "print_two(\"zhangfan\",\"第二节课\")\n",
    "print_two_again(\"leanr\",\"python\")\n",
    "print_one(\"fighting\")\n",
    "print_none()"
   ]
  },
  {
   "cell_type": "code",
   "execution_count": 10,
   "metadata": {},
   "outputs": [
    {
     "name": "stdout",
     "output_type": "stream",
     "text": [
      "we can just give the function numbers directly:\n",
      "you have 20 cheese.\n",
      "you have 30 boxes of crackers.\n",
      "man that's enough for the party.\n",
      "get a blanket.\n",
      "\n",
      "or,we can just give variable from our script:\n",
      "you have 10 cheese.\n",
      "you have 50 boxes of crackers.\n",
      "man that's enough for the party.\n",
      "get a blanket.\n",
      "\n",
      "we can even do math inside too.\n",
      "you have 22 cheese.\n",
      "you have 60 boxes of crackers.\n",
      "man that's enough for the party.\n",
      "get a blanket.\n",
      "\n"
     ]
    }
   ],
   "source": [
    "def cheese_and_crackers(cheese_count,boxes_of_crackers):\n",
    "    print(f\"you have {cheese_count} cheese.\")\n",
    "    print(f\"you have {boxes_of_crackers} boxes of crackers.\" )\n",
    "    print(\"man that's enough for the party.\")\n",
    "    print(\"get a blanket.\\n\")\n",
    "    \n",
    "print(\"we can just give the function numbers directly:\")\n",
    "cheese_and_crackers(20,30)\n",
    "\n",
    "print(\"or,we can just give variable from our script:\")\n",
    "amount_of_cheese=10\n",
    "amount_of_crackers=50\n",
    "\n",
    "cheese_and_crackers(amount_of_cheese,amount_of_crackers)\n",
    "\n",
    "print(\"we can even do math inside too.\")\n",
    "cheese_and_crackers(amount_of_cheese+12,amount_of_crackers+10)"
   ]
  },
  {
   "cell_type": "code",
   "execution_count": 12,
   "metadata": {},
   "outputs": [
    {
     "ename": "FileNotFoundError",
     "evalue": "[Errno 2] No such file or directory: 'sample.txt'",
     "output_type": "error",
     "traceback": [
      "\u001b[1;31m---------------------------------------------------------------------------\u001b[0m",
      "\u001b[1;31mFileNotFoundError\u001b[0m                         Traceback (most recent call last)",
      "\u001b[1;32m<ipython-input-12-3c33d660691f>\u001b[0m in \u001b[0;36m<module>\u001b[1;34m\u001b[0m\n\u001b[0;32m     10\u001b[0m     \u001b[0mprint\u001b[0m\u001b[1;33m(\u001b[0m\u001b[0mline_count\u001b[0m\u001b[1;33m,\u001b[0m\u001b[0mf\u001b[0m\u001b[1;33m.\u001b[0m\u001b[0mreadline\u001b[0m\u001b[1;33m(\u001b[0m\u001b[1;33m)\u001b[0m\u001b[1;33m)\u001b[0m\u001b[1;33m\u001b[0m\u001b[1;33m\u001b[0m\u001b[0m\n\u001b[0;32m     11\u001b[0m \u001b[1;33m\u001b[0m\u001b[0m\n\u001b[1;32m---> 12\u001b[1;33m \u001b[0mcurrent_file\u001b[0m\u001b[1;33m=\u001b[0m\u001b[0mopen\u001b[0m\u001b[1;33m(\u001b[0m\u001b[0minput_file\u001b[0m\u001b[1;33m)\u001b[0m\u001b[1;33m\u001b[0m\u001b[1;33m\u001b[0m\u001b[0m\n\u001b[0m\u001b[0;32m     13\u001b[0m \u001b[1;33m\u001b[0m\u001b[0m\n\u001b[0;32m     14\u001b[0m \u001b[0mprint\u001b[0m\u001b[1;33m(\u001b[0m\u001b[1;34m\"first let's print the whole file:\\n\"\u001b[0m\u001b[1;33m)\u001b[0m\u001b[1;33m\u001b[0m\u001b[1;33m\u001b[0m\u001b[0m\n",
      "\u001b[1;31mFileNotFoundError\u001b[0m: [Errno 2] No such file or directory: 'sample.txt'"
     ]
    }
   ],
   "source": [
    "input_file=\"sample.txt\"\n",
    "\n",
    "def print_all(f):\n",
    "    print(f.read())\n",
    "    \n",
    "def rewind(f):\n",
    "    f.seek(0)\n",
    "    \n",
    "def print_a_line(line_count,f):\n",
    "    print(line_count,f.readline())\n",
    "    \n",
    "current_file=open(input_file)\n",
    "\n",
    "print(\"first let's print the whole file:\\n\")\n",
    "\n",
    "print_all(current_file)\n",
    "\n",
    "print(\"now let's rewind,kind of like a tape.\")\n",
    "rewind(current_file)\n",
    "\n",
    "print(\"let's print three lines.\")\n",
    "\n",
    "current_line=1\n",
    "print_a_line(current_line,current_file)\n",
    "\n",
    "current_line=current_line+1\n",
    "print_a_line(current_line,current_file)\n",
    "\n",
    "current_line+=1\n",
    "print_a_line(current_line,current_file)\n",
    "\n",
    "current_file.close()"
   ]
  },
  {
   "cell_type": "code",
   "execution_count": 13,
   "metadata": {},
   "outputs": [
    {
     "name": "stdout",
     "output_type": "stream",
     "text": [
      "you enter a dark room with two doors.\n",
      "do you go through door #1 or door #2?\n"
     ]
    },
    {
     "name": "stdin",
     "output_type": "stream",
     "text": [
      "> 1\n"
     ]
    },
    {
     "name": "stdout",
     "output_type": "stream",
     "text": [
      "there's a qiant bear here eating a cheese cake.what do you do?\n",
      "1.take the cake.\n",
      "2.scream at the bear.\n"
     ]
    },
    {
     "name": "stdin",
     "output_type": "stream",
     "text": [
      "> 2\n"
     ]
    },
    {
     "name": "stdout",
     "output_type": "stream",
     "text": [
      "the bear eats your legs off.  Good job!\n"
     ]
    }
   ],
   "source": [
    "print(\"\"\"you enter a dark room with two doors.\n",
    "do you go through door #1 or door #2?\"\"\")\n",
    "      \n",
    "      \n",
    "door=input(\">\")\n",
    "\n",
    "if door==\"1\":\n",
    "    print(\"there's a qiant bear here eating a cheese cake.what do you do?\")\n",
    "    print(\"1.take the cake.\")\n",
    "    print(\"2.scream at the bear.\")\n",
    "    \n",
    "    bear=input(\">\")\n",
    "    if bear==\"1\":\n",
    "        print(\"the bear eats your face off.  Good job!\")\n",
    "    elif bear==\"2\":\n",
    "        print(\"the bear eats your legs off.  Good job!\")\n",
    "    else:\n",
    "        print(f\"well,doing {bear} is probably better. Bears runs away.\")\n",
    "        \n",
    "elif door==\"2\":\n",
    "    print(\"you stars into the endless abyss at Cthulhu's retina.\")\n",
    "    print(\"1.Blueburries.\")\n",
    "    print(\"2.yellow jacket clothespins.\")\n",
    "    print(\"3.understanding revolvers yelling melodies.\")\n",
    "      \n",
    "    insanity=input(\">\")\n",
    "      \n",
    "    if insanity==\"1\"or insanity==\"2\":\n",
    "            print(\"your body survives powered by a mind of jello. good job!\")\n",
    "    else:\n",
    "        print(\"the insanity rots your eyes into a pool of muck. good job!\")\n",
    "else:\n",
    "      print(\"you stumble around and fall on a knife and die. good job!\")"
   ]
  },
  {
   "cell_type": "code",
   "execution_count": 14,
   "metadata": {},
   "outputs": [
    {
     "name": "stdout",
     "output_type": "stream",
     "text": [
      "The length of the str1: 15\n",
      "The type of the str2: <class 'str'>\n",
      "str1[0]: A\n",
      "str2[1:4]: uno\n",
      "str1[-4:-1]: KLM\n",
      "str1[-1:-4:-1]: NML\n",
      "str1[:-4]: ABCDEFG HIJ\n",
      "str1[::-1]: NMLKJIH GFEDCBA \n",
      " ********************\n",
      "Capital the initials of str2: Runoob is a very excellent learning web\n",
      "Capital all the letters of str2: RUNOOB IS A VERY EXCELLENT LEARNING WEB\n",
      "Make all the letters of str1 and str2 lowercase: abcdefg hijklmn runoob is a very excellent learning web\n",
      "Capital the initials of each word of str2 Runoob Is A Very Excellent Learning Web\n",
      "0 2\n",
      "1 0\n",
      "0 1\n"
     ]
    }
   ],
   "source": [
    "# 字符串操作\n",
    "str1 = 'ABCDEFG HIJKLMN'\n",
    "str2 = 'runoob is a very excellent learning web'\n",
    "print('The length of the str1:', len(str1))\n",
    "print('The type of the str2:', type(str2))\n",
    "print(\"str1[0]:\", str1[0])\n",
    "print(\"str2[1:4]:\", str2[1:4])\n",
    "print(\"str1[-4:-1]:\", str1[-4:-1])\n",
    "print(\"str1[-1:-4:-1]:\", str1[-1:-4:-1])\n",
    "print(\"str1[:-4]:\", str1[:-4])\n",
    "print(\"str1[::-1]:\", str1[::-1], '\\n', \"*\"*20)\n",
    "# 字符串内建函数练习\n",
    "print(\"Capital the initials of str2:\", str2.capitalize())\n",
    "print(\"Capital all the letters of str2:\", str2.upper())\n",
    "print(\"Make all the letters of str1 and str2 lowercase:\", str1.lower(), str2.lower())\n",
    "print(\"Capital the initials of each word of str2\", str2.title())\n",
    "sub_letter1 = 'a'\n",
    "sub_letter2 = 'A'\n",
    "print(str1.count(sub_letter1), str2.count(sub_letter1))# 对字符串的特定字母进行计数\n",
    "print(str1.count(sub_letter2), str2.count(sub_letter2))\n",
    "sub_word = 'is'\n",
    "print(str1.count(sub_word), str2.count(sub_word))# 对字符串的特定单词进行计数"
   ]
  },
  {
   "cell_type": "code",
   "execution_count": 15,
   "metadata": {},
   "outputs": [
    {
     "name": "stdout",
     "output_type": "stream",
     "text": [
      "True\n",
      "False\n",
      "True\n",
      "False\n",
      "False\n",
      "True \n",
      " **************************************************\n",
      "False\n",
      "False\n",
      "False\n",
      "False\n",
      "True\n",
      "False \n",
      " **************************************************\n",
      "False\n",
      "False\n",
      "False\n",
      "False\n",
      "True\n",
      "True \n",
      " **************************************************\n",
      "True\n",
      "False\n",
      "True\n",
      "False\n",
      "True\n",
      "True \n",
      " **************************************************\n"
     ]
    }
   ],
   "source": [
    "var1 = 'hellopython'\n",
    "var2 = 'hello python'\n",
    "var3 = 'hellopython您好'\n",
    "var4 = 'hello python 20201209'\n",
    "var5 = '20201209'\n",
    "var6 = '二零二零'\n",
    "print(var1.isalpha())\n",
    "print(var2.isalpha())\n",
    "print(var3.isalpha())\n",
    "print(var4.isalpha())\n",
    "print(var5.isalpha())\n",
    "print(var6.isalpha(), '\\n', '*'*50)\n",
    "# 结论：汉字英文都是字符，空格、标点、数字等不是字符\n",
    "print(var1.isdigit())\n",
    "print(var2.isdigit())\n",
    "print(var3.isdigit())\n",
    "print(var4.isdigit())\n",
    "print(var5.isdigit())\n",
    "print(var6.isdigit(), '\\n', '*'*50)\n",
    "# 结论：只要含有字母这个字符串就不能认为是digit数字，汉字的数字也不是digit\n",
    "print(var1.isnumeric())\n",
    "print(var2.isnumeric())\n",
    "print(var3.isnumeric())\n",
    "print(var4.isnumeric())\n",
    "print(var5.isnumeric())\n",
    "print(var6.isnumeric(), '\\n', '*'*50)\n",
    "# 结论：汉字数字有可以认为是numeric\n",
    "print(var1.isalnum())\n",
    "print(var2.isalnum())\n",
    "print(var3.isalnum())\n",
    "print(var4.isalnum())\n",
    "print(var5.isalnum())\n",
    "print(var6.isalnum(), '\\n', '*'*50)\n",
    "# 结论：只要字符串中含有数字或者英文字母或汉字都为alnum,但空格等标点符号不能"
   ]
  },
  {
   "cell_type": "code",
   "execution_count": 19,
   "metadata": {},
   "outputs": [
    {
     "name": "stdout",
     "output_type": "stream",
     "text": [
      "True\n",
      "True\n",
      "True\n",
      "********************\n",
      "False\n",
      "False\n",
      "True\n",
      "********************\n",
      "False\n",
      "False\n",
      "True\n",
      "********************\n",
      "True\n"
     ]
    }
   ],
   "source": [
    "num1 = '3' #阿拉伯数字\n",
    "print(num1.isdigit())\n",
    "print(num1.isdecimal())\n",
    "print(num1.isnumeric())\n",
    "print('*'*20)\n",
    "num2 = 'Ⅳ'#罗马数字\n",
    "print(num2.isdigit())\n",
    "print(num2.isdecimal())\n",
    "print(num2.isnumeric())\n",
    "print('*'*20)\n",
    "num3 = '三'#汉字数字\n",
    "print(num3.isdigit())\n",
    "print(num3.isdecimal())\n",
    "print(num3.isnumeric())\n",
    "print('*'*20)\n",
    "num4 = b'1'#byte数字\n",
    "print(num4.isdigit())"
   ]
  },
  {
   "cell_type": "code",
   "execution_count": 20,
   "metadata": {},
   "outputs": [
    {
     "name": "stdout",
     "output_type": "stream",
     "text": [
      "numbers[2]: 3\n",
      "numbers[-3]: 9\n",
      "numbers[::-1]: [5, 10, 9, 8, 7, 6, 5, 4, 3, 2, 1]\n",
      "numbers[::1]: [1, 2, 3, 4, 5, 6, 7, 8, 9, 10, 5] \n",
      " ********************\n",
      "2\n",
      "10\n",
      "1\n",
      "11\n",
      "sort numbers： [1, 2, 3, 4, 5, 5, 6, 7, 8, 9, 10]\n",
      "reverse numbers: [10, 9, 8, 7, 6, 5, 5, 4, 3, 2, 1]\n"
     ]
    }
   ],
   "source": [
    "# 列表操作\n",
    "numbers = [1, 2, 3, 4, 5, 6, 7, 8, 9, 10, 5]\n",
    "print('numbers[2]:', numbers[2])\n",
    "print('numbers[-3]:', numbers[-3])\n",
    "print('numbers[::-1]:', numbers[::-1])\n",
    "print('numbers[::1]:', numbers[::1], '\\n', '*'*20)\n",
    "print(numbers.count(5))\n",
    "print(max(numbers))\n",
    "print(min(numbers))\n",
    "print(len(numbers))\n",
    "numbers.sort()\n",
    "print('sort numbers：', numbers)\n",
    "numbers.reverse()\n",
    "print('reverse numbers:', numbers)"
   ]
  },
  {
   "cell_type": "code",
   "execution_count": 21,
   "metadata": {},
   "outputs": [
    {
     "name": "stdout",
     "output_type": "stream",
     "text": [
      "initial list ['hello', 'python', 'orange', [8, 'lie', '09'], '**']\n",
      "list[3]: ['hello', 'python', 'orange', 'cute', '**']\n",
      "del list[2]: ['hello', 'python', 'cute', '**']\n",
      "remove hello: ['python', 'cute', '**']\n",
      "append, insert list[4]: ['python', 'cute', '**', 'the last', '**']\n",
      "count**: 2\n",
      "index orange: 2\n"
     ]
    }
   ],
   "source": [
    "list = ['hello', 'python', 'orange', [8, 'lie', '09'], '**']\n",
    "print('initial list', list)\n",
    "\n",
    "list[3] = 'cute'\n",
    "print('list[3]:', list)\n",
    "\n",
    "del list[2]\n",
    "print('del list[2]:', list)\n",
    "\n",
    "list.remove('hello')\n",
    "print('remove hello:',list)\n",
    "\n",
    "list.append('the last')\n",
    "list.insert(4, '**')\n",
    "print('append, insert list[4]:', list)\n",
    "\n",
    "print('count**:', list.count('**'))\n",
    "print('index orange:', list.index('**'))"
   ]
  },
  {
   "cell_type": "code",
   "execution_count": 22,
   "metadata": {},
   "outputs": [
    {
     "name": "stdout",
     "output_type": "stream",
     "text": [
      "{'colour': 'green', 'points': 5, 'speed': 'low', 'x_positon': 2, 'y_position': 2}\n"
     ]
    }
   ],
   "source": [
    "# 字典：外星人位置移动\n",
    "alien_0 = {'colour':'green', 'points':5, 'speed':'low', 'x_positon':2, 'y_position':1}\n",
    "if alien_0['speed'] == 'low':\n",
    "    add_y = 1\n",
    "elif alien_0['speed'] == 'midium':\n",
    "    add_y = 2\n",
    "else:\n",
    "    add_y = 3\n",
    "alien_0['y_position'] += add_y\n",
    "print(alien_0)"
   ]
  },
  {
   "cell_type": "code",
   "execution_count": 24,
   "metadata": {},
   "outputs": [
    {
     "name": "stdout",
     "output_type": "stream",
     "text": [
      "3.0 -4.5\n"
     ]
    }
   ],
   "source": [
    "class Complex:\n",
    "    def __init__(self, realpart, imagpart):\n",
    "        self.r = realpart\n",
    "        self.i = imagpart\n",
    "x = Complex(3.0, -4.5)\n",
    "print(x.r, x.i)"
   ]
  },
  {
   "cell_type": "code",
   "execution_count": 25,
   "metadata": {},
   "outputs": [
    {
     "name": "stdout",
     "output_type": "stream",
     "text": [
      "1 * 2 * 3 * 4 * 5 * 6 * 7 * 8 * 9 * 10 * "
     ]
    }
   ],
   "source": [
    "list1 = [1,2,3,4,5,6,7,8,9,10]\n",
    "for i in list1:\n",
    "    print(i, end = ' * ')"
   ]
  },
  {
   "cell_type": "code",
   "execution_count": 26,
   "metadata": {},
   "outputs": [
    {
     "name": "stdout",
     "output_type": "stream",
     "text": [
      "1 2 3 4 5 6 7 8 9 10 "
     ]
    }
   ],
   "source": [
    "list1 = [1,2,3,4,5,6,7,8,9,10]\n",
    "it = iter(list1)\n",
    "for j in it:\n",
    "    print(j, end = ' ')"
   ]
  },
  {
   "cell_type": "code",
   "execution_count": 27,
   "metadata": {},
   "outputs": [
    {
     "data": {
      "text/plain": [
       "['str_word', 'sentence is ok', 90, [9, 3, 2]]"
      ]
     },
     "execution_count": 27,
     "metadata": {},
     "output_type": "execute_result"
    }
   ],
   "source": [
    "list = ['str_word', 'sentence is ok', 90, [9, 3, 2]]\n",
    "def flat(l):\n",
    "    f = []\n",
    "    for x in l:\n",
    "        if type(x) is list:\n",
    "            f.extend(x)\n",
    "        else:\n",
    "            f.append(x)\n",
    "    return f\n",
    "flat(list)"
   ]
  },
  {
   "cell_type": "code",
   "execution_count": 28,
   "metadata": {},
   "outputs": [
    {
     "name": "stdout",
     "output_type": "stream",
     "text": [
      "1\n",
      "2\n",
      "3\n"
     ]
    }
   ],
   "source": [
    "l = [1,2,3,4]\n",
    "it = iter(l)\n",
    "print(next(it))\n",
    "print(next(it))\n",
    "print(next(it))"
   ]
  },
  {
   "cell_type": "code",
   "execution_count": 29,
   "metadata": {},
   "outputs": [
    {
     "name": "stdout",
     "output_type": "stream",
     "text": [
      "arg1:Bass, arg2:Baritone, arg3:Tenor\n",
      "arg1:Bass, arg2:Baritone, arg3:Tenor\n"
     ]
    }
   ],
   "source": [
    "def print_1(*args):\n",
    "    arg1, arg2, arg3=args\n",
    "    print(f\"arg1:{arg1}, arg2:{arg2}, arg3:{arg3}\")\n",
    "def print_1a(arg1, arg2, arg3):\n",
    "    print(f\"arg1:{arg1}, arg2:{arg2}, arg3:{arg3}\")\n",
    "print_1(\"Bass\", \"Baritone\", \"Tenor\")\n",
    "print_1a(\"Bass\", \"Baritone\", \"Tenor\")"
   ]
  },
  {
   "cell_type": "code",
   "execution_count": 33,
   "metadata": {},
   "outputs": [
    {
     "name": "stdout",
     "output_type": "stream",
     "text": [
      "Please calculate the following questions:\n",
      "\n",
      "Add 8+20\n",
      "Substract 20-4\n",
      "Multiply 6*35\n",
      "Devide 60/5\n",
      "The answer is:\n",
      "Amount: 28\n",
      "Price: 16\n",
      "Total_price: 210\n",
      "Weight: 12.0\n",
      "\n",
      "Devide 12.0/3\n",
      "Multiply 210*4.0\n",
      "Substract 16-840.0\n",
      "Add 28+-824.0\n",
      "That becomes:  -796.0 Can you do it by hand?\n"
     ]
    }
   ],
   "source": [
    "def add(a, b):\n",
    "    print(f\"Add {a}+{b}\")\n",
    "    return a+b\n",
    "def subtract(a, b):\n",
    "    print(f\"Substract {a}-{b}\")\n",
    "    return a-b\n",
    "def multiply(a, b):\n",
    "    print(f\"Multiply {a}*{b}\")\n",
    "    return a*b\n",
    "def divide(a, b):\n",
    "    print(f\"Devide {a}/{b}\")\n",
    "    return a/b\n",
    "\n",
    "print(\"Please calculate the following questions:\\n\")\n",
    "amount=add(8,20)\n",
    "price=subtract(20,4)\n",
    "total_price=multiply(6, 35)\n",
    "weight=divide(60, 5)\n",
    "\n",
    "print(\"The answer is:\")\n",
    "print(f\"Amount: {amount}\\nPrice: {price}\\nTotal_price: {total_price}\\nWeight: {weight}\\n\")\n",
    "\n",
    "what = add(amount, subtract(price, multiply(total_price, divide(weight, 3))))\n",
    "print(\"That becomes: \", what, \"Can you do it by hand?\")"
   ]
  },
  {
   "cell_type": "code",
   "execution_count": 34,
   "metadata": {},
   "outputs": [
    {
     "name": "stdout",
     "output_type": "stream",
     "text": [
      "Normal.\n",
      "What are you drawing?\n",
      "Voldmort!\n"
     ]
    }
   ],
   "source": [
    "eye=2\n",
    "nose=1\n",
    "mouth=1\n",
    "\n",
    "if nose==mouth:\n",
    "    print(\"Normal.\")\n",
    "    \n",
    "nose += 1\n",
    "mouth += 2\n",
    "if eye <= nose:\n",
    "    print(\"What are you drawing?\")\n",
    "if mouth > nose:\n",
    "    print(\"Voldmort!\")"
   ]
  },
  {
   "cell_type": "code",
   "execution_count": null,
   "metadata": {},
   "outputs": [],
   "source": []
  }
 ],
 "metadata": {
  "kernelspec": {
   "display_name": "Python 3",
   "language": "python",
   "name": "python3"
  },
  "language_info": {
   "codemirror_mode": {
    "name": "ipython",
    "version": 3
   },
   "file_extension": ".py",
   "mimetype": "text/x-python",
   "name": "python",
   "nbconvert_exporter": "python",
   "pygments_lexer": "ipython3",
   "version": "3.8.3"
  }
 },
 "nbformat": 4,
 "nbformat_minor": 4
}
