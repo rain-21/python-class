{
 "cells": [
  {
   "cell_type": "code",
   "execution_count": 13,
   "metadata": {},
   "outputs": [
    {
     "name": "stdout",
     "output_type": "stream",
     "text": [
      "<class 'str'>\n",
      "Hello World!\n",
      "HELLO WORLD!\n",
      "hello world!\n",
      "Hello World!\n"
     ]
    },
    {
     "data": {
      "text/plain": [
       "['Hello', 'World!']"
      ]
     },
     "execution_count": 13,
     "metadata": {},
     "output_type": "execute_result"
    }
   ],
   "source": [
    "str1='Hello World!'\n",
    "print(type(str1))\n",
    "print(str1[0:-1]+str1[-1])\n",
    "print(str1.upper())\n",
    "print(str1.lower())\n",
    "print(str1.title())\n",
    "str1.split()"
   ]
  },
  {
   "cell_type": "code",
   "execution_count": 32,
   "metadata": {},
   "outputs": [
    {
     "name": "stdout",
     "output_type": "stream",
     "text": [
      "1\n",
      "False\n",
      "True\n",
      "True\n",
      "False\n",
      "True\n"
     ]
    }
   ],
   "source": [
    "str1='My name is Psj!'\n",
    "str2='0332156'\n",
    "str3='hello'\n",
    "str1.replace('name','姓名')\n",
    "print(str1.count('a'))\n",
    "print(str1.isalpha())\n",
    "print(str2.isdigit())\n",
    "print(str2.isalnum())\n",
    "print(str3.isnumeric())\n",
    "print(str3.isalpha())"
   ]
  },
  {
   "cell_type": "code",
   "execution_count": 4,
   "metadata": {},
   "outputs": [
    {
     "name": "stdout",
     "output_type": "stream",
     "text": [
      "True\n",
      "False\n",
      "True\n",
      "True\n",
      "False\n",
      "True\n"
     ]
    }
   ],
   "source": [
    "var='String example test！'\n",
    "print(var.startswith('String'))\n",
    "print(var.startswith('String',2))\n",
    "print(var.startswith('ex',7))\n",
    "print(var.startswith('ex',7,-1))\n",
    "print(var.endswith('!'))\n",
    "print(var.endswith(\"！\"))"
   ]
  },
  {
   "cell_type": "code",
   "execution_count": 49,
   "metadata": {},
   "outputs": [
    {
     "name": "stdout",
     "output_type": "stream",
     "text": [
      "14\n",
      "14\n"
     ]
    },
    {
     "ename": "ValueError",
     "evalue": "substring not found",
     "output_type": "error",
     "traceback": [
      "\u001b[1;31m---------------------------------------------------------------------------\u001b[0m",
      "\u001b[1;31mValueError\u001b[0m                                Traceback (most recent call last)",
      "\u001b[1;32m<ipython-input-49-1450b03c00e2>\u001b[0m in \u001b[0;36m<module>\u001b[1;34m\u001b[0m\n\u001b[0;32m      3\u001b[0m \u001b[0mprint\u001b[0m\u001b[1;33m(\u001b[0m\u001b[0mstr1\u001b[0m\u001b[1;33m.\u001b[0m\u001b[0mfind\u001b[0m\u001b[1;33m(\u001b[0m\u001b[0mstr2\u001b[0m\u001b[1;33m)\u001b[0m\u001b[1;33m)\u001b[0m\u001b[1;33m\u001b[0m\u001b[1;33m\u001b[0m\u001b[0m\n\u001b[0;32m      4\u001b[0m \u001b[0mprint\u001b[0m\u001b[1;33m(\u001b[0m\u001b[0mstr1\u001b[0m\u001b[1;33m.\u001b[0m\u001b[0mindex\u001b[0m\u001b[1;33m(\u001b[0m\u001b[0mstr2\u001b[0m\u001b[1;33m,\u001b[0m\u001b[1;36m0\u001b[0m\u001b[1;33m)\u001b[0m\u001b[1;33m)\u001b[0m\u001b[1;33m\u001b[0m\u001b[1;33m\u001b[0m\u001b[0m\n\u001b[1;32m----> 5\u001b[1;33m \u001b[0mprint\u001b[0m\u001b[1;33m(\u001b[0m\u001b[0mstr1\u001b[0m\u001b[1;33m.\u001b[0m\u001b[0mindex\u001b[0m\u001b[1;33m(\u001b[0m\u001b[0mstr2\u001b[0m\u001b[1;33m,\u001b[0m\u001b[1;36m15\u001b[0m\u001b[1;33m)\u001b[0m\u001b[1;33m)\u001b[0m\u001b[1;33m\u001b[0m\u001b[1;33m\u001b[0m\u001b[0m\n\u001b[0m",
      "\u001b[1;31mValueError\u001b[0m: substring not found"
     ]
    }
   ],
   "source": [
    "str1='Have fun with python!'\n",
    "str2=\"py\"\n",
    "print(str1.find(str2))\n",
    "print(str1.index(str2,0))\n",
    "print(str1.index(str2,15))"
   ]
  },
  {
   "cell_type": "code",
   "execution_count": 67,
   "metadata": {},
   "outputs": [
    {
     "name": "stdout",
     "output_type": "stream",
     "text": [
      "****Go to ***swim *with* beautiful girls!****\n",
      "Go to ***swim *with* beautiful girls!\n",
      "['Go', 'to', '***swim', '*with*', 'beautiful', 'girls!']\n",
      "['Go to ', '', '', 'swim ', 'with', ' beautiful girls!']\n",
      "['dasd', 'asd', 'safdj', 'qwe']\n"
     ]
    }
   ],
   "source": [
    "str1=' ****Go to ***swim *with* beautiful girls!**** '\n",
    "str1=str1.strip()\n",
    "print(str1)\n",
    "str1=str1.strip(\"*\")\n",
    "print(str1.center(len(str1)//2,\"=\"))\n",
    "str2='dasd#asd#safdj#qwe'\n",
    "print(str1.split())\n",
    "print(str1.split('*'))\n",
    "print(str2.split('#'))"
   ]
  },
  {
   "cell_type": "code",
   "execution_count": 10,
   "metadata": {},
   "outputs": [
    {
     "name": "stdout",
     "output_type": "stream",
     "text": [
      "<re.Match object; span=(0, 9), match='010-12345'>\n"
     ]
    }
   ],
   "source": [
    "import re\n",
    "r=re.match(r'\\d{3}\\-\\d{3,8}$','010-12345')\n",
    "print(r)"
   ]
  },
  {
   "cell_type": "code",
   "execution_count": 29,
   "metadata": {},
   "outputs": [
    {
     "name": "stdout",
     "output_type": "stream",
     "text": [
      "['AS', 'FSDF', '', 'D', 'F', '', 'SD']\n",
      "['AS', 'FSDF', 'D', 'F', 'SD']\n",
      "['AS', 'FSDF', 'D', 'F', 'SD']\n"
     ]
    }
   ],
   "source": [
    "'iHarbor XJTU/'.split(' ')\n",
    "print(re.split(r'[\\s\\,]','AS,FSDF, D F  SD'))\n",
    "print(re.split(r'[\\s\\,]+','AS,FSDF, D F  SD'))\n",
    "print(re.split(r'[\\s\\,\\;]+','AS,FSDF, D F;  SD'))"
   ]
  },
  {
   "cell_type": "code",
   "execution_count": 49,
   "metadata": {},
   "outputs": [
    {
     "name": "stdout",
     "output_type": "stream",
     "text": [
      "<re.Match object; span=(0, 16), match='645247908@qq.com'>\n",
      "<re.Match object; span=(0, 15), match='asd1e23@163.com'>\n"
     ]
    }
   ],
   "source": [
    "m=re.match(r'^[0-9_-]+@[a-zA-Z0-9_-]+(\\.[a-z]+)+$','645247908@qq.com')\n",
    "m1=re.match(r'^[0-9a-zA-Z]+@[a-zA-Z0-9]+(\\.[a-z]+)+$','asd1e23@163.com')\n",
    "print(m)\n",
    "print(m1)"
   ]
  },
  {
   "cell_type": "code",
   "execution_count": 58,
   "metadata": {},
   "outputs": [
    {
     "name": "stdout",
     "output_type": "stream",
     "text": [
      "--------------------re.search---------------------\n",
      "toocle01@netsun.com\n",
      "---------------------findall----------------------\n",
      "toocle01@netsun.com\n",
      "jingchuang@gdjingchuang.com\n",
      "tianyi0205@163.com\n"
     ]
    }
   ],
   "source": [
    "with open('re_test.txt','r',encoding='utf-8') as f:\n",
    "    content=f.read()\n",
    "    res=re.search(r'^[0-9a-zA-Z]+@[0-9a-zA-Z]+(\\.[a-zA-Z]+)+$',content,re.M)\n",
    "    print('re.search'.center(50,'-'))\n",
    "    print(res.group())\n",
    "    print('findall'.center(50,'-'))\n",
    "    res = re.findall(r'^([a-zA-Z0-9]+@[a-zA-Z0-9]+(\\.[a-zA-Z]+)+)$', content, re.M)\n",
    "    for i in res:\n",
    "        print(i[0])"
   ]
  },
  {
   "cell_type": "code",
   "execution_count": 65,
   "metadata": {},
   "outputs": [
    {
     "name": "stdout",
     "output_type": "stream",
     "text": [
      "['green', 'pink', 'red', 'yellow']\n",
      "['green', 'pink', 'black', 'red', 'yellow']\n",
      "['green', 'pink', 'red', 'yellow']\n",
      "[]\n"
     ]
    }
   ],
   "source": [
    "colors=['blue','green','pink','red','yellow']\n",
    "colors.remove('blue')\n",
    "print(colors)\n",
    "colors.insert(2,'black')\n",
    "print(colors)\n",
    "del colors[2]\n",
    "print(colors)\n",
    "colors.clear()\n",
    "print(colors)"
   ]
  },
  {
   "cell_type": "code",
   "execution_count": 9,
   "metadata": {},
   "outputs": [
    {
     "name": "stdout",
     "output_type": "stream",
     "text": [
      "===========star==========\n",
      "100%[->**************************************************]\n",
      "\n",
      "===========end===========\n"
     ]
    }
   ],
   "source": [
    "import time\n",
    "print('star'.center(25,'='))\n",
    "for i in range(51):\n",
    "    n='*'*i\n",
    "    m='#'*(50-i)\n",
    "    c=(i/50)*100\n",
    "    print(\"\\r{:^3.0f}%[{}->{}]\".format(c,m,n),end='')\n",
    "    time.sleep(0.1)\n",
    "print('\\n')\n",
    "print('end'.center(25,'='))"
   ]
  },
  {
   "cell_type": "code",
   "execution_count": 11,
   "metadata": {},
   "outputs": [
    {
     "name": "stdout",
     "output_type": "stream",
     "text": [
      "[0, 1, 2, 3, 4, 'Hello', 'World']\n",
      "<class 'range'>\n",
      "[0, 1, 2, 3, 4]\n",
      "(0, 1, 2, 3, 4)\n"
     ]
    }
   ],
   "source": [
    "arg=[*range(5),'Hello','World']\n",
    "print(arg)\n",
    "print(type(range(5)))\n",
    "print(list(range(5)))\n",
    "print(tuple(range(5)))"
   ]
  },
  {
   "cell_type": "code",
   "execution_count": 27,
   "metadata": {},
   "outputs": [
    {
     "name": "stdout",
     "output_type": "stream",
     "text": [
      "PengShiJin\n",
      "47\n",
      "47\n",
      "name : PengShiJin\n",
      "Age : 24\n",
      "Class : S0013\n"
     ]
    }
   ],
   "source": [
    "Student={'name':'PengShiJin','Age':'24','Class':'S0013'}\n",
    "print(Student['name'])\n",
    "Student1={'name':'ShiZhenXiang','Age':'23','Class':'45'}\n",
    "sum=eval(Student['Age'])+eval(Student1['Age'])\n",
    "print(sum)\n",
    "n=int(Student['Age'])+int(Student1['Age'])\n",
    "print(n)\n",
    "for i,j in Student.items():\n",
    "    print(f'{i}{\" : \"}{j}')"
   ]
  },
  {
   "cell_type": "code",
   "execution_count": 36,
   "metadata": {},
   "outputs": [
    {
     "name": "stdout",
     "output_type": "stream",
     "text": [
      "<class 'complex'>\n",
      "(3.3+7.5j)\n",
      "(-8.7+10.1j)\n",
      "(0.011136118273985066+0.009176278636100687j)\n"
     ]
    }
   ],
   "source": [
    "x=1+2j\n",
    "print(type(x))\n",
    "y=2.3+5.5j\n",
    "print(x+y)\n",
    "print(x*y)\n",
    "print(pow(x,y))"
   ]
  },
  {
   "cell_type": "code",
   "execution_count": 41,
   "metadata": {},
   "outputs": [
    {
     "name": "stdout",
     "output_type": "stream",
     "text": [
      "<list_iterator object at 0x000001CFC37DD760>\n",
      "1 2 3 4 "
     ]
    }
   ],
   "source": [
    "l=[1,2,3,4]\n",
    "it=iter(l)\n",
    "print(it)\n",
    "for x in it:\n",
    "    print(x,end=\" \")"
   ]
  },
  {
   "cell_type": "code",
   "execution_count": 43,
   "metadata": {},
   "outputs": [
    {
     "name": "stdout",
     "output_type": "stream",
     "text": [
      "0 1 1 2 3 5 8 13 21 34 55 "
     ]
    }
   ],
   "source": [
    "def fibonacci(n):\n",
    "    a,b,counter=0,1,0\n",
    "    while True:\n",
    "        if(counter>n):\n",
    "            return\n",
    "        yield a\n",
    "        a,b=b,a+b\n",
    "        counter+=1\n",
    "f=fibonacci(10)\n",
    "for x in f:\n",
    "    print(x,end=\" \")"
   ]
  },
  {
   "cell_type": "code",
   "execution_count": 4,
   "metadata": {},
   "outputs": [
    {
     "name": "stdin",
     "output_type": "stream",
     "text": [
      " 25\n"
     ]
    },
    {
     "name": "stdout",
     "output_type": "stream",
     "text": [
      "猜错了\n"
     ]
    }
   ],
   "source": [
    "guess=eval(input())\n",
    "print(\"猜{}了\".format(\"对\"if guess==99 else\"错\"))"
   ]
  },
  {
   "cell_type": "code",
   "execution_count": 6,
   "metadata": {},
   "outputs": [
    {
     "name": "stdin",
     "output_type": "stream",
     "text": [
      "输入一个数字： 2sad\n"
     ]
    },
    {
     "name": "stdout",
     "output_type": "stream",
     "text": [
      "error\n"
     ]
    }
   ],
   "source": [
    "try:\n",
    "    num=eval(input(\"输入一个数字：\"))\n",
    "    print(num**2)\n",
    "except:\n",
    "    print(\"error\")"
   ]
  },
  {
   "cell_type": "code",
   "execution_count": 14,
   "metadata": {},
   "outputs": [
    {
     "name": "stdin",
     "output_type": "stream",
     "text": [
      "输入数字n= 564\n"
     ]
    },
    {
     "name": "stdout",
     "output_type": "stream",
     "text": [
      "318096\n",
      "5\n"
     ]
    }
   ],
   "source": [
    "try:\n",
    "    num=eval(input(\"输入数字n=\"))\n",
    "    n=num**2\n",
    "except:\n",
    "    print(\"error\")\n",
    "else:\n",
    "    print(n)\n",
    "finally:\n",
    "    print(str(num)[0])"
   ]
  },
  {
   "cell_type": "code",
   "execution_count": 22,
   "metadata": {},
   "outputs": [
    {
     "name": "stdout",
     "output_type": "stream",
     "text": [
      "设定随机数种子\n",
      "0.5714025946899135\n",
      "0.4288890546751146\n",
      "复现随机过程\n",
      "0.5714025946899135\n",
      "0.4288890546751146\n",
      "不设定随机数种子\n",
      "0.9937872217820208\n",
      "0.5455782252131718\n"
     ]
    }
   ],
   "source": [
    "import random\n",
    "print(\"设定随机数种子\")\n",
    "random.seed(10)\n",
    "print(random.random())\n",
    "print(random.random())\n",
    "print(\"复现随机过程\")\n",
    "random.seed(10)\n",
    "print(random.random())\n",
    "print(random.random())\n",
    "print(\"不设定随机数种子\")\n",
    "random.seed()\n",
    "print(random.random())\n",
    "print(random.random())"
   ]
  },
  {
   "cell_type": "code",
   "execution_count": 33,
   "metadata": {},
   "outputs": [
    {
     "name": "stdout",
     "output_type": "stream",
     "text": [
      "0.5714025946899135\n",
      "0.48256167455085586\n",
      "0.20609823213950174\n",
      "0.8235888725334455\n",
      "0.034403573875645965\n",
      "0.32777281162209315\n",
      "0.9523992311419316\n",
      "0.04455638245043303\n",
      "0.603190610968185\n",
      "0.4212639948995278\n",
      "a= 0.04455638245043303\n",
      "[0, 20, 25, 35, 40, 55, 60, 65, 75, 75]\n",
      "[0, 75, 75, 65, 60, 35, 20, 55, 40, 25]\n"
     ]
    }
   ],
   "source": [
    "import random as r\n",
    "l=[]\n",
    "s=[]\n",
    "r.seed(10)\n",
    "for i in range(10):\n",
    "    l.append(r.random())\n",
    "    s.append(r.randrange(0,100,5))\n",
    "    print(l[i])\n",
    "a=r.choice(l)\n",
    "print(\"a=\",a)\n",
    "s.sort()\n",
    "print(s)\n",
    "r.shuffle(s)\n",
    "print(s)"
   ]
  },
  {
   "cell_type": "markdown",
   "metadata": {},
   "source": [
    "计算圆周率"
   ]
  },
  {
   "cell_type": "code",
   "execution_count": 44,
   "metadata": {},
   "outputs": [
    {
     "name": "stdout",
     "output_type": "stream",
     "text": [
      "pi=3.141592653589793\n",
      "公式法计算时间= 60.89324949999991\n",
      "pi= 3.143004\n",
      "公式法计算时间= 0.8333737000002657\n"
     ]
    }
   ],
   "source": [
    "#方法一\n",
    "import time\n",
    "sum=0\n",
    "start1=time.perf_counter()\n",
    "for k in range(1000*100):\n",
    "    sum+=(1/16**k)*(4/(8*k+1)-2/(8*k+4)-1/(8*k+5)-1/(8*k+6))\n",
    "end1=time.perf_counter()\n",
    "print(\"pi={:.15f}\".format(sum))\n",
    "print(\"公式法计算时间=\",end1-start1)\n",
    "#方法二\n",
    "import random\n",
    "total=1000*1000\n",
    "in_circle=0\n",
    "start2=time.perf_counter()\n",
    "for i in range(1,total+1):\n",
    "    x,y=random.random(),random.random()\n",
    "    if(pow(x*x+y*y,0.5)<1):\n",
    "        in_circle+=1\n",
    "pi=in_circle/total*4\n",
    "end2=time.perf_counter()\n",
    "print(\"pi=\",pi)\n",
    "print(\"公式法计算时间=\",end2-start2)"
   ]
  },
  {
   "cell_type": "code",
   "execution_count": 6,
   "metadata": {},
   "outputs": [
    {
     "name": "stdout",
     "output_type": "stream",
     "text": [
      "153,370,371,407\n"
     ]
    }
   ],
   "source": [
    "l=[]\n",
    "for i in range(100,1000):\n",
    "    a=i//100\n",
    "    b=(i-a*100)//10\n",
    "    c=i-100*a-10*b\n",
    "    if(a**3+b**3+c**3==i):\n",
    "        l.append(i)\n",
    "n=len(l)\n",
    "for i in range(n-1):\n",
    "    print(l[i],end=\",\")\n",
    "print(l[-1])"
   ]
  },
  {
   "cell_type": "code",
   "execution_count": 9,
   "metadata": {},
   "outputs": [
    {
     "name": "stdin",
     "output_type": "stream",
     "text": [
      " Kate\n",
      " 666666\n"
     ]
    },
    {
     "name": "stdout",
     "output_type": "stream",
     "text": [
      "登陆成功！\n"
     ]
    }
   ],
   "source": [
    "i=1\n",
    "while(i<=3):\n",
    "    name=input()\n",
    "    password=input()\n",
    "    if(name=='Kate'and password=='666666'):\n",
    "        print(\"登录成功！\")\n",
    "        break\n",
    "    else:\n",
    "        i+=1\n",
    "if(i==4):\n",
    "    print(\"3次用户名或者密码均有误！退出程序。\")"
   ]
  },
  {
   "cell_type": "code",
   "execution_count": 10,
   "metadata": {},
   "outputs": [
    {
     "name": "stdout",
     "output_type": "stream",
     "text": [
      "-483\n"
     ]
    }
   ],
   "source": [
    "sum=0\n",
    "for i in range(1,967):\n",
    "    sum+=pow(-1,i+1)*i\n",
    "print(sum)"
   ]
  },
  {
   "cell_type": "code",
   "execution_count": null,
   "metadata": {},
   "outputs": [],
   "source": []
  }
 ],
 "metadata": {
  "kernelspec": {
   "display_name": "Python 3",
   "language": "python",
   "name": "python3"
  },
  "language_info": {
   "codemirror_mode": {
    "name": "ipython",
    "version": 3
   },
   "file_extension": ".py",
   "mimetype": "text/x-python",
   "name": "python",
   "nbconvert_exporter": "python",
   "pygments_lexer": "ipython3",
   "version": "3.8.3"
  }
 },
 "nbformat": 4,
 "nbformat_minor": 4
}
