{
 "cells": [
  {
   "cell_type": "code",
   "execution_count": 1,
   "metadata": {
    "collapsed": false
   },
   "outputs": [],
   "source": [
    "# 查看当前挂载的数据集目录, 该目录下的变更重启环境后会自动还原\n",
    "# View dataset directory. \n",
    "# This directory will be recovered automatically after resetting environment. \n",
    "!ls /home/aistudio/data"
   ]
  },
  {
   "cell_type": "code",
   "execution_count": 2,
   "metadata": {
    "collapsed": false
   },
   "outputs": [],
   "source": [
    "# 查看工作区文件, 该目录下的变更将会持久保存. 请及时清理不必要的文件, 避免加载过慢.\n",
    "# View personal work directory. \n",
    "# All changes under this directory will be kept even after reset. \n",
    "# Please clean unnecessary files in time to speed up environment loading. \n",
    "!ls /home/aistudio/work"
   ]
  },
  {
   "cell_type": "code",
   "execution_count": 3,
   "metadata": {
    "collapsed": false
   },
   "outputs": [
    {
     "name": "stdout",
     "output_type": "stream",
     "text": [
      "Looking in indexes: https://mirror.baidu.com/pypi/simple/\n",
      "Collecting beautifulsoup4\n",
      "\u001b[?25l  Downloading https://mirror.baidu.com/pypi/packages/d1/41/e6495bd7d3781cee623ce23ea6ac73282a373088fcd0ddc809a047b18eae/beautifulsoup4-4.9.3-py3-none-any.whl (115kB)\n",
      "\u001b[K     |████████████████████████████████| 122kB 15.6MB/s eta 0:00:01\n",
      "\u001b[?25hCollecting soupsieve>1.2; python_version >= \"3.0\" (from beautifulsoup4)\n",
      "  Downloading https://mirror.baidu.com/pypi/packages/6f/8f/457f4a5390eeae1cc3aeab89deb7724c965be841ffca6cfca9197482e470/soupsieve-2.0.1-py3-none-any.whl\n",
      "Installing collected packages: soupsieve, beautifulsoup4\n",
      "Successfully installed beautifulsoup4-4.9.3 soupsieve-2.0.1\n"
     ]
    }
   ],
   "source": [
    "# 如果需要进行持久化安装, 需要使用持久化路径, 如下方代码示例:\n",
    "# If a persistence installation is required, \n",
    "# you need to use the persistence path as the following: \n",
    "!mkdir /home/aistudio/external-libraries\n",
    "!pip install beautifulsoup4 -t /home/aistudio/external-libraries"
   ]
  },
  {
   "cell_type": "code",
   "execution_count": 4,
   "metadata": {
    "collapsed": false
   },
   "outputs": [],
   "source": [
    "# 同时添加如下代码, 这样每次环境(kernel)启动的时候只要运行下方代码即可: \n",
    "# Also add the following code, \n",
    "# so that every time the environment (kernel) starts, \n",
    "# just run the following code: \n",
    "import sys \n",
    "sys.path.append('/home/aistudio/external-libraries')"
   ]
  },
  {
   "cell_type": "markdown",
   "metadata": {
    "collapsed": false
   },
   "source": [
    "请点击[此处](https://ai.baidu.com/docs#/AIStudio_Project_Notebook/a38e5576)查看本环境基本用法.  <br>\n",
    "Please click [here ](https://ai.baidu.com/docs#/AIStudio_Project_Notebook/a38e5576) for more detailed instructions. "
   ]
  },
  {
   "cell_type": "code",
   "execution_count": 2,
   "metadata": {
    "collapsed": false
   },
   "outputs": [
    {
     "name": "stdout",
     "output_type": "stream",
     "text": [
      "hellworld\n"
     ]
    }
   ],
   "source": [
    "import sys\n",
    "print(\"hellworld\")"
   ]
  },
  {
   "cell_type": "code",
   "execution_count": 1,
   "metadata": {
    "collapsed": false
   },
   "outputs": [
    {
     "data": {
      "text/plain": [
       "'/opt/conda/envs/python35-paddle120-env/bin/python'"
      ]
     },
     "execution_count": 1,
     "metadata": {},
     "output_type": "execute_result"
    }
   ],
   "source": [
    "\r\n",
    "import sys\r\n",
    "sys.executable"
   ]
  },
  {
   "cell_type": "code",
   "execution_count": 4,
   "metadata": {
    "collapsed": false
   },
   "outputs": [
    {
     "data": {
      "text/plain": [
       "['/opt/conda/envs/python35-paddle120-env/lib/python3.7/site-packages/ipykernel_launcher.py',\n",
       " '-f',\n",
       " '/home/aistudio/.local/share/jupyter/runtime/kernel-724ffece-cd49-4d1b-8155-d7189e96ea6c.json']"
      ]
     },
     "execution_count": 4,
     "metadata": {},
     "output_type": "execute_result"
    }
   ],
   "source": [
    "sys.argv"
   ]
  },
  {
   "cell_type": "code",
   "execution_count": 6,
   "metadata": {
    "collapsed": false
   },
   "outputs": [
    {
     "name": "stdout",
     "output_type": "stream",
     "text": [
      "arg1: Zed, arg2: Shaw\n",
      "arg1: Zed, arg2: Shaw\n",
      "arg1: First!\n",
      "I got nothin'.\n"
     ]
    }
   ],
   "source": [
    "# this one is like your scripts with argv\r\n",
    "def print_two(*args):\r\n",
    "    arg1, arg2 = args\r\n",
    "    print(f\"arg1: {arg1}, arg2: {arg2}\")\r\n",
    "\r\n",
    "# ok, that *args is actually pointless, we can just do this\r\n",
    "def print_two_again(arg1, arg2):\r\n",
    "    print(f\"arg1: {arg1}, arg2: {arg2}\")\r\n",
    "\r\n",
    "# this just takes one argument\r\n",
    "def print_one(arg1):\r\n",
    "    print(f\"arg1: {arg1}\")\r\n",
    "\r\n",
    "# this one takes no arguments\r\n",
    "def print_none():\r\n",
    "    print(\"I got nothin'.\")\r\n",
    "\r\n",
    "\r\n",
    "print_two(\"Zed\",\"Shaw\")\r\n",
    "print_two_again(\"Zed\",\"Shaw\")\r\n",
    "print_one(\"First!\")\r\n",
    "print_none()"
   ]
  },
  {
   "cell_type": "code",
   "execution_count": 7,
   "metadata": {
    "collapsed": false
   },
   "outputs": [
    {
     "name": "stdout",
     "output_type": "stream",
     "text": [
      "We can just give the function numbers directly:\n",
      "You have 20 cheeses!\n",
      "You have 30 boxes of crackers!\n",
      "Man that's enough for a party!\n",
      "Get a blanket.\n",
      "\n",
      "OR, we can use variables from our script:\n",
      "You have 10 cheeses!\n",
      "You have 50 boxes of crackers!\n",
      "Man that's enough for a party!\n",
      "Get a blanket.\n",
      "\n",
      "We can even do math inside too:\n",
      "You have 30 cheeses!\n",
      "You have 11 boxes of crackers!\n",
      "Man that's enough for a party!\n",
      "Get a blanket.\n",
      "\n",
      "And we can combine the two, variables and math:\n",
      "You have 110 cheeses!\n",
      "You have 1050 boxes of crackers!\n",
      "Man that's enough for a party!\n",
      "Get a blanket.\n",
      "\n"
     ]
    }
   ],
   "source": [
    "def cheese_and_crackers(cheese_count, boxes_of_crackers):\r\n",
    "    print(f\"You have {cheese_count} cheeses!\")\r\n",
    "    print(f\"You have {boxes_of_crackers} boxes of crackers!\")\r\n",
    "    print(\"Man that's enough for a party!\")\r\n",
    "    print(\"Get a blanket.\\n\")\r\n",
    "\r\n",
    "\r\n",
    "print(\"We can just give the function numbers directly:\")\r\n",
    "cheese_and_crackers(20, 30)\r\n",
    "\r\n",
    "\r\n",
    "print(\"OR, we can use variables from our script:\")\r\n",
    "amount_of_cheese = 10\r\n",
    "amount_of_crackers = 50\r\n",
    "\r\n",
    "cheese_and_crackers(amount_of_cheese, amount_of_crackers)\r\n",
    "\r\n",
    "\r\n",
    "print(\"We can even do math inside too:\")\r\n",
    "cheese_and_crackers(10 + 20, 5 + 6)\r\n",
    "\r\n",
    "\r\n",
    "print(\"And we can combine the two, variables and math:\")\r\n",
    "cheese_and_crackers(amount_of_cheese + 100, amount_of_crackers + 1000)"
   ]
  },
  {
   "cell_type": "markdown",
   "metadata": {
    "collapsed": false
   },
   "source": [
    "# 文件操作\n"
   ]
  },
  {
   "cell_type": "code",
   "execution_count": 8,
   "metadata": {
    "collapsed": false
   },
   "outputs": [
    {
     "name": "stdout",
     "output_type": "stream",
     "text": [
      "Here's your file work/test.txt:\n",
      "Although I originally intended to write a book covering all three, I quickly realized that a\n",
      "thorough treatment of “substantive expertise” would require tens of thousands of pages. At\n",
      "that point, I decided to focus on the first two. My goal is to help you develop the hacking\n",
      "skills that you’ll need to get started doing data science. And my goal is to help you get\n",
      "comfortable with the mathematics and statistics that are at the core of data science.\n",
      "This is a somewhat heavy aspiration for a book. The best way to learn hacking skills is by\n",
      "hacking on things. By reading this book, you will get a good understanding of the way I\n",
      "hack on things, which may not necessarily be the best way for you to hack on things. You\n",
      "will get a good understanding of some of the tools I use, which will not necessarily be the\n",
      "best tools for you to use. You will get a good understanding of the way I approach data\n",
      "problems, which may not necessarily be the best way for you to approach data problems.\n",
      "The intent (and the hope) is that my examples will inspire you try things your own way.\n",
      "All the code and data from the book is available on GitHub to get you started.\n",
      "Similarly, the best way to learn mathematics is by doing mathematics. This is emphatically\n",
      "not a math book, and for the most part, we won’t be “doing mathematics.” However, you\n",
      "can’t really do data science without some understanding of probability and statistics and\n",
      "linear algebra. This means that, where appropriate, we will dive into mathematical\n",
      "equations, mathematical intuition, mathematical axioms, and cartoon versions of big\n",
      "mathematical ideas. I hope that you won’t be afraid to dive in with me.\n",
      "Throughout it all, I also hope to give you a sense that playing with data is fun, because,\n",
      "well, playing with data is fun!\n"
     ]
    }
   ],
   "source": [
    "filename = 'work/test.txt'\r\n",
    "txt = open(filename)\r\n",
    "\r\n",
    "print(f\"Here's your file {filename}:\")\r\n",
    "print(txt.read())\r\n",
    "txt.close()"
   ]
  },
  {
   "cell_type": "code",
   "execution_count": 9,
   "metadata": {
    "collapsed": false
   },
   "outputs": [
    {
     "name": "stdout",
     "output_type": "stream",
     "text": [
      "Truncating the file.  Goodbye!\n",
      "inpuit 3 lines .\n",
      "line 1: line 2: line 3: writing.\n",
      "And finally, we close it.\n"
     ]
    }
   ],
   "source": [
    "target = open(filename, 'w')\r\n",
    "\r\n",
    "print(\"Truncating the file.  Goodbye!\")\r\n",
    "# target.truncate()\r\n",
    "\r\n",
    "print(\"inpuit 3 lines .\")\r\n",
    "\r\n",
    "line1 = input(\"line 1: \")\r\n",
    "line2 = input(\"line 2: \")\r\n",
    "line3 = input(\"line 3: \")\r\n",
    "\r\n",
    "print(\"writing.\")\r\n",
    "\r\n",
    "target.write(line1)\r\n",
    "target.write(\"\\n\")\r\n",
    "target.write(line2)\r\n",
    "target.write(\"\\n\")\r\n",
    "target.write(line3)\r\n",
    "target.write(\"\\n\")\r\n",
    "\r\n",
    "print(\"And finally, we close it.\")\r\n",
    "target.close()"
   ]
  },
  {
   "cell_type": "code",
   "execution_count": 10,
   "metadata": {
    "collapsed": false
   },
   "outputs": [
    {
     "name": "stdout",
     "output_type": "stream",
     "text": [
      "1111\r\n",
      "22222\r\n",
      "33333\r\n"
     ]
    }
   ],
   "source": [
    "!cat work/test.txt"
   ]
  },
  {
   "cell_type": "code",
   "execution_count": 12,
   "metadata": {
    "collapsed": false
   },
   "outputs": [
    {
     "name": "stdout",
     "output_type": "stream",
     "text": [
      "First let's print the whole file:\n",
      "\n",
      "1111\n",
      "22222\n",
      "33333\n",
      "\n",
      "Now let's rewind, kind of like a tape.\n",
      "Let's print three lines:\n",
      "1 1111\n",
      "\n",
      "2 22222\n",
      "\n",
      "3 33333\n",
      "\n"
     ]
    }
   ],
   "source": [
    "input_file = 'work/test.txt'\r\n",
    "\r\n",
    "def print_all(f):\r\n",
    "    print(f.read())\r\n",
    "\r\n",
    "def rewind(f):\r\n",
    "    f.seek(0)\r\n",
    "\r\n",
    "def print_a_line(line_count, f):\r\n",
    "    print(line_count, f.readline())\r\n",
    "\r\n",
    "current_file = open(input_file)\r\n",
    "\r\n",
    "print(\"First let's print the whole file:\\n\")\r\n",
    "\r\n",
    "print_all(current_file)\r\n",
    "\r\n",
    "print(\"Now let's rewind, kind of like a tape.\")\r\n",
    "\r\n",
    "rewind(current_file)\r\n",
    "\r\n",
    "print(\"Let's print three lines:\")\r\n",
    "\r\n",
    "current_line = 1\r\n",
    "print_a_line(current_line, current_file)\r\n",
    "\r\n",
    "current_line = current_line + 1\r\n",
    "print_a_line(current_line, current_file)\r\n",
    "\r\n",
    "current_line += 1\r\n",
    "print_a_line(current_line, current_file)\r\n",
    "\r\n",
    "current_file.close()"
   ]
  },
  {
   "cell_type": "code",
   "execution_count": 13,
   "metadata": {
    "collapsed": false
   },
   "outputs": [],
   "source": [
    "def add(a, b):\r\n",
    "    print(f\"ADDING {a} + {b}\")\r\n",
    "    return a + b\r\n",
    "\r\n",
    "def subtract(a, b):\r\n",
    "    print(f\"SUBTRACTING {a} - {b}\")\r\n",
    "    return a - b\r\n",
    "\r\n",
    "def multiply(a, b):\r\n",
    "    print(f\"MULTIPLYING {a} * {b}\")\r\n",
    "    return a * b\r\n",
    "\r\n",
    "def divide(a, b):\r\n",
    "    print(f\"DIVIDING {a} / {b}\")\r\n",
    "    return a / b"
   ]
  },
  {
   "cell_type": "code",
   "execution_count": 15,
   "metadata": {
    "collapsed": false
   },
   "outputs": [
    {
     "name": "stdout",
     "output_type": "stream",
     "text": [
      "ADDING 3 + 3\n",
      "6\n",
      "SUBTRACTING 43 - 2\n",
      "41\n",
      "MULTIPLYING 23 * 22\n",
      "506\n",
      "DIVIDING 3 / 3\n",
      "1.0\n"
     ]
    }
   ],
   "source": [
    "print(add(3,3))\r\n",
    "print(subtract(43,2))\r\n",
    "print(multiply(23,22))\r\n",
    "print(divide(3,3))"
   ]
  },
  {
   "cell_type": "code",
   "execution_count": 16,
   "metadata": {
    "collapsed": false
   },
   "outputs": [
    {
     "name": "stdout",
     "output_type": "stream",
     "text": [
      "DIVIDING 3 / 3\n",
      "ADDING 2 + 2\n",
      "4\n"
     ]
    }
   ],
   "source": [
    "if divide(3,3):\r\n",
    "    print(add(2,2))\r\n"
   ]
  },
  {
   "cell_type": "code",
   "execution_count": 17,
   "metadata": {
    "collapsed": false
   },
   "outputs": [
    {
     "data": {
      "text/plain": [
       "True"
      ]
     },
     "execution_count": 17,
     "metadata": {},
     "output_type": "execute_result"
    }
   ],
   "source": [
    "3 == 3 and (not (\"testing\" == \"testing\" or \"Python\" == \"Fun\"))\r\n",
    "\"chunky\" == \"bacon\" and (not (3 == 4 or 3 == 3))\r\n",
    "1==1 and (not(\"testing\"==1 or 1==0))\r\n",
    "not (\"testing\" == \"testing\" and \"Zed\" == \"Cool Guy\")\r\n",
    "not(1!=10 or 3==4)\r\n",
    "not (10 == 1 or 1000 == 1000)\r\n",
    "not(1==1 and 0!=1)\r\n",
    "not (True and False)\r\n",
    "\"test\" == 1\r\n",
    "\"test\" != \"testing\"\r\n",
    "1!=0 and 2==1\r\n",
    "\"test\" == \"testing\"\r\n",
    "True or 1==1\r\n",
    "False and 0!=0\r\n",
    "True and 1==1\r\n",
    "1==1 or 2!=1\r\n",
    "\"test\" == \"test\"\r\n",
    "1==1 and 2==1\r\n",
    "False and True\r\n",
    "True and True"
   ]
  },
  {
   "cell_type": "code",
   "execution_count": 18,
   "metadata": {
    "collapsed": false
   },
   "outputs": [
    {
     "name": "stdout",
     "output_type": "stream",
     "text": [
      "ADDING 0 + 1\n",
      "1\n",
      "ADDING 1 + 2\n",
      "3\n",
      "ADDING 2 + 3\n",
      "5\n",
      "ADDING 3 + 4\n",
      "7\n",
      "ADDING 4 + 5\n",
      "9\n",
      "ADDING 5 + 6\n",
      "11\n",
      "ADDING 6 + 7\n",
      "13\n",
      "ADDING 7 + 8\n",
      "15\n",
      "ADDING 8 + 9\n",
      "17\n",
      "ADDING 9 + 10\n",
      "19\n",
      "ADDING 10 + 11\n",
      "21\n",
      "ADDING 11 + 12\n",
      "23\n",
      "ADDING 12 + 13\n",
      "25\n",
      "ADDING 13 + 14\n",
      "27\n",
      "ADDING 14 + 15\n",
      "29\n",
      "ADDING 15 + 16\n",
      "31\n",
      "ADDING 16 + 17\n",
      "33\n",
      "ADDING 17 + 18\n",
      "35\n",
      "ADDING 18 + 19\n",
      "37\n",
      "ADDING 19 + 20\n",
      "39\n",
      "ADDING 20 + 21\n",
      "41\n",
      "ADDING 21 + 22\n",
      "43\n",
      "ADDING 22 + 23\n",
      "45\n",
      "ADDING 23 + 24\n",
      "47\n",
      "ADDING 24 + 25\n",
      "49\n",
      "ADDING 25 + 26\n",
      "51\n",
      "ADDING 26 + 27\n",
      "53\n",
      "ADDING 27 + 28\n",
      "55\n",
      "ADDING 28 + 29\n",
      "57\n",
      "ADDING 29 + 30\n",
      "59\n",
      "ADDING 30 + 31\n",
      "61\n",
      "ADDING 31 + 32\n",
      "63\n",
      "ADDING 32 + 33\n",
      "65\n",
      "ADDING 33 + 34\n",
      "67\n",
      "ADDING 34 + 35\n",
      "69\n",
      "ADDING 35 + 36\n",
      "71\n",
      "ADDING 36 + 37\n",
      "73\n",
      "ADDING 37 + 38\n",
      "75\n",
      "ADDING 38 + 39\n",
      "77\n",
      "ADDING 39 + 40\n",
      "79\n",
      "ADDING 40 + 41\n",
      "81\n",
      "ADDING 41 + 42\n",
      "83\n",
      "ADDING 42 + 43\n",
      "85\n",
      "ADDING 43 + 44\n",
      "87\n",
      "ADDING 44 + 45\n",
      "89\n",
      "ADDING 45 + 46\n",
      "91\n",
      "ADDING 46 + 47\n",
      "93\n",
      "ADDING 47 + 48\n",
      "95\n",
      "ADDING 48 + 49\n",
      "97\n",
      "ADDING 49 + 50\n",
      "99\n",
      "ADDING 50 + 51\n",
      "101\n",
      "ADDING 51 + 52\n",
      "103\n",
      "ADDING 52 + 53\n",
      "105\n",
      "ADDING 53 + 54\n",
      "107\n",
      "ADDING 54 + 55\n",
      "109\n",
      "ADDING 55 + 56\n",
      "111\n",
      "ADDING 56 + 57\n",
      "113\n",
      "ADDING 57 + 58\n",
      "115\n",
      "ADDING 58 + 59\n",
      "117\n",
      "ADDING 59 + 60\n",
      "119\n",
      "ADDING 60 + 61\n",
      "121\n",
      "ADDING 61 + 62\n",
      "123\n",
      "ADDING 62 + 63\n",
      "125\n",
      "ADDING 63 + 64\n",
      "127\n",
      "ADDING 64 + 65\n",
      "129\n",
      "ADDING 65 + 66\n",
      "131\n",
      "ADDING 66 + 67\n",
      "133\n",
      "ADDING 67 + 68\n",
      "135\n",
      "ADDING 68 + 69\n",
      "137\n",
      "ADDING 69 + 70\n",
      "139\n",
      "ADDING 70 + 71\n",
      "141\n",
      "ADDING 71 + 72\n",
      "143\n",
      "ADDING 72 + 73\n",
      "145\n",
      "ADDING 73 + 74\n",
      "147\n",
      "ADDING 74 + 75\n",
      "149\n",
      "ADDING 75 + 76\n",
      "151\n",
      "ADDING 76 + 77\n",
      "153\n",
      "ADDING 77 + 78\n",
      "155\n",
      "ADDING 78 + 79\n",
      "157\n",
      "ADDING 79 + 80\n",
      "159\n",
      "ADDING 80 + 81\n",
      "161\n",
      "ADDING 81 + 82\n",
      "163\n",
      "ADDING 82 + 83\n",
      "165\n",
      "ADDING 83 + 84\n",
      "167\n",
      "ADDING 84 + 85\n",
      "169\n",
      "ADDING 85 + 86\n",
      "171\n",
      "ADDING 86 + 87\n",
      "173\n",
      "ADDING 87 + 88\n",
      "175\n",
      "ADDING 88 + 89\n",
      "177\n",
      "ADDING 89 + 90\n",
      "179\n",
      "ADDING 90 + 91\n",
      "181\n",
      "ADDING 91 + 92\n",
      "183\n",
      "ADDING 92 + 93\n",
      "185\n",
      "ADDING 93 + 94\n",
      "187\n",
      "ADDING 94 + 95\n",
      "189\n",
      "ADDING 95 + 96\n",
      "191\n",
      "ADDING 96 + 97\n",
      "193\n",
      "ADDING 97 + 98\n",
      "195\n",
      "ADDING 98 + 99\n",
      "197\n",
      "ADDING 99 + 100\n",
      "199\n"
     ]
    }
   ],
   "source": [
    "for i in range(100):\r\n",
    "    print(add(i,i+1))"
   ]
  },
  {
   "cell_type": "code",
   "execution_count": 21,
   "metadata": {
    "collapsed": false
   },
   "outputs": [],
   "source": [
    "stu_names = ['Lily', 'Lucy', 'Han Meimei']\r\n",
    "with open('work/data.txt', 'w') as txt:\r\n",
    "    for name in stu_names:\r\n",
    "        txt.write(f'{name} 签到！\\n')"
   ]
  },
  {
   "cell_type": "code",
   "execution_count": 23,
   "metadata": {
    "collapsed": false
   },
   "outputs": [
    {
     "name": "stdout",
     "output_type": "stream",
     "text": [
      "Lily 签到！\r\n",
      "Lucy 签到！\r\n",
      "Han Meimei 签到！\r\n"
     ]
    }
   ],
   "source": [
    "!cat work/data.txt"
   ]
  },
  {
   "cell_type": "code",
   "execution_count": 24,
   "metadata": {
    "collapsed": false
   },
   "outputs": [
    {
     "data": {
      "text/plain": [
       "['ArithmeticError',\n",
       " 'AssertionError',\n",
       " 'AttributeError',\n",
       " 'BaseException',\n",
       " 'BlockingIOError',\n",
       " 'BrokenPipeError',\n",
       " 'BufferError',\n",
       " 'BytesWarning',\n",
       " 'ChildProcessError',\n",
       " 'ConnectionAbortedError',\n",
       " 'ConnectionError',\n",
       " 'ConnectionRefusedError',\n",
       " 'ConnectionResetError',\n",
       " 'DeprecationWarning',\n",
       " 'EOFError',\n",
       " 'Ellipsis',\n",
       " 'EnvironmentError',\n",
       " 'Exception',\n",
       " 'False',\n",
       " 'FileExistsError',\n",
       " 'FileNotFoundError',\n",
       " 'FloatingPointError',\n",
       " 'FutureWarning',\n",
       " 'GeneratorExit',\n",
       " 'IOError',\n",
       " 'ImportError',\n",
       " 'ImportWarning',\n",
       " 'IndentationError',\n",
       " 'IndexError',\n",
       " 'InterruptedError',\n",
       " 'IsADirectoryError',\n",
       " 'KeyError',\n",
       " 'KeyboardInterrupt',\n",
       " 'LookupError',\n",
       " 'MemoryError',\n",
       " 'ModuleNotFoundError',\n",
       " 'NameError',\n",
       " 'None',\n",
       " 'NotADirectoryError',\n",
       " 'NotImplemented',\n",
       " 'NotImplementedError',\n",
       " 'OSError',\n",
       " 'OverflowError',\n",
       " 'PendingDeprecationWarning',\n",
       " 'PermissionError',\n",
       " 'ProcessLookupError',\n",
       " 'RecursionError',\n",
       " 'ReferenceError',\n",
       " 'ResourceWarning',\n",
       " 'RuntimeError',\n",
       " 'RuntimeWarning',\n",
       " 'StopAsyncIteration',\n",
       " 'StopIteration',\n",
       " 'SyntaxError',\n",
       " 'SyntaxWarning',\n",
       " 'SystemError',\n",
       " 'SystemExit',\n",
       " 'TabError',\n",
       " 'TimeoutError',\n",
       " 'True',\n",
       " 'TypeError',\n",
       " 'UnboundLocalError',\n",
       " 'UnicodeDecodeError',\n",
       " 'UnicodeEncodeError',\n",
       " 'UnicodeError',\n",
       " 'UnicodeTranslateError',\n",
       " 'UnicodeWarning',\n",
       " 'UserWarning',\n",
       " 'ValueError',\n",
       " 'Warning',\n",
       " 'ZeroDivisionError',\n",
       " '__IPYTHON__',\n",
       " '__build_class__',\n",
       " '__debug__',\n",
       " '__doc__',\n",
       " '__import__',\n",
       " '__loader__',\n",
       " '__name__',\n",
       " '__package__',\n",
       " '__spec__',\n",
       " 'abs',\n",
       " 'all',\n",
       " 'any',\n",
       " 'ascii',\n",
       " 'bin',\n",
       " 'bool',\n",
       " 'breakpoint',\n",
       " 'bytearray',\n",
       " 'bytes',\n",
       " 'callable',\n",
       " 'chr',\n",
       " 'classmethod',\n",
       " 'compile',\n",
       " 'complex',\n",
       " 'copyright',\n",
       " 'credits',\n",
       " 'delattr',\n",
       " 'dict',\n",
       " 'dir',\n",
       " 'display',\n",
       " 'divmod',\n",
       " 'enumerate',\n",
       " 'eval',\n",
       " 'exec',\n",
       " 'filter',\n",
       " 'float',\n",
       " 'format',\n",
       " 'frozenset',\n",
       " 'get_ipython',\n",
       " 'getattr',\n",
       " 'globals',\n",
       " 'hasattr',\n",
       " 'hash',\n",
       " 'help',\n",
       " 'hex',\n",
       " 'id',\n",
       " 'input',\n",
       " 'int',\n",
       " 'isinstance',\n",
       " 'issubclass',\n",
       " 'iter',\n",
       " 'len',\n",
       " 'license',\n",
       " 'list',\n",
       " 'locals',\n",
       " 'map',\n",
       " 'max',\n",
       " 'memoryview',\n",
       " 'min',\n",
       " 'next',\n",
       " 'object',\n",
       " 'oct',\n",
       " 'open',\n",
       " 'ord',\n",
       " 'pow',\n",
       " 'print',\n",
       " 'property',\n",
       " 'range',\n",
       " 'repr',\n",
       " 'reversed',\n",
       " 'round',\n",
       " 'set',\n",
       " 'setattr',\n",
       " 'slice',\n",
       " 'sorted',\n",
       " 'staticmethod',\n",
       " 'str',\n",
       " 'sum',\n",
       " 'super',\n",
       " 'tuple',\n",
       " 'type',\n",
       " 'vars',\n",
       " 'zip']"
      ]
     },
     "execution_count": 24,
     "metadata": {},
     "output_type": "execute_result"
    }
   ],
   "source": [
    "\r\n",
    "import builtins\r\n",
    "dir(builtins)"
   ]
  },
  {
   "cell_type": "code",
   "execution_count": null,
   "metadata": {
    "collapsed": false
   },
   "outputs": [],
   "source": []
  },
  {
   "cell_type": "code",
   "execution_count": null,
   "metadata": {
    "collapsed": false
   },
   "outputs": [],
   "source": []
  },
  {
   "cell_type": "code",
   "execution_count": null,
   "metadata": {
    "collapsed": false
   },
   "outputs": [],
   "source": []
  },
  {
   "cell_type": "code",
   "execution_count": null,
   "metadata": {
    "collapsed": false
   },
   "outputs": [],
   "source": []
  },
  {
   "cell_type": "code",
   "execution_count": null,
   "metadata": {
    "collapsed": false
   },
   "outputs": [],
   "source": []
  },
  {
   "cell_type": "code",
   "execution_count": null,
   "metadata": {
    "collapsed": false
   },
   "outputs": [],
   "source": []
  },
  {
   "cell_type": "code",
   "execution_count": null,
   "metadata": {
    "collapsed": false
   },
   "outputs": [],
   "source": []
  },
  {
   "cell_type": "code",
   "execution_count": null,
   "metadata": {
    "collapsed": false
   },
   "outputs": [],
   "source": []
  },
  {
   "cell_type": "code",
   "execution_count": null,
   "metadata": {
    "collapsed": false
   },
   "outputs": [],
   "source": []
  },
  {
   "cell_type": "code",
   "execution_count": null,
   "metadata": {
    "collapsed": false
   },
   "outputs": [],
   "source": []
  },
  {
   "cell_type": "code",
   "execution_count": null,
   "metadata": {
    "collapsed": false
   },
   "outputs": [],
   "source": []
  }
 ],
 "metadata": {
  "kernelspec": {
   "display_name": "PaddlePaddle 2.0.0b0 (Python 3.5)",
   "language": "python",
   "name": "py35-paddle1.2.0"
  },
  "language_info": {
   "codemirror_mode": {
    "name": "ipython",
    "version": 3
   },
   "file_extension": ".py",
   "mimetype": "text/x-python",
   "name": "python",
   "nbconvert_exporter": "python",
   "pygments_lexer": "ipython3",
   "version": "3.7.4"
  }
 },
 "nbformat": 4,
 "nbformat_minor": 1
}
