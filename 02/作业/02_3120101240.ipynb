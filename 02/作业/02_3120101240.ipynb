{
 "cells": [
  {
   "cell_type": "code",
   "execution_count": 3,
   "metadata": {},
   "outputs": [
    {
     "name": "stdout",
     "output_type": "stream",
     "text": [
      "(0, 3)\n",
      "None\n"
     ]
    }
   ],
   "source": [
    "#正则表达式学习\n",
    "#!/usr/bin/python\n",
    "# -*- coding: UTF-8 -*- \n",
    "#re.match 尝试从字符串的起始位置匹配一个模式，如果不是起始位置匹配成功的话，match()就返回none。\n",
    "import re\n",
    "print(re.match('www','www.runoob.com').span()) #在起始位置匹配\n",
    "print(re.match('com','www.runoob.com')) #不在起始位置匹配\n"
   ]
  },
  {
   "cell_type": "code",
   "execution_count": 11,
   "metadata": {},
   "outputs": [
    {
     "name": "stdout",
     "output_type": "stream",
     "text": [
      "matchObj.group(): Cats are smarter than dogs\n",
      "matchObj.group(1): Cats\n",
      "matchObj.group(2): smarter\n"
     ]
    }
   ],
   "source": [
    "#!/usr/bin/python\n",
    "# -*- coding: UTF-8 -*- \n",
    "import re\n",
    "line=\"Cats are smarter than dogs\"\n",
    "#.*表示任意匹配换行符（\\n,\\r）之外的任何单个和多个字符\n",
    "matchObj=re.match(r'(.*) are (.*?) .*',line,re.M|re.I)\n",
    "if matchObj:\n",
    "    print(\"matchObj.group():\",matchObj.group())\n",
    "    print(\"matchObj.group(1):\",matchObj.group(1))\n",
    "    print(\"matchObj.group(2):\",matchObj.group(2))\n",
    "else:\n",
    "    print(\"No match!!\")\n",
    "                  "
   ]
  },
  {
   "cell_type": "code",
   "execution_count": 14,
   "metadata": {},
   "outputs": [
    {
     "name": "stdout",
     "output_type": "stream",
     "text": [
      "(0, 3)\n",
      "(11, 14)\n"
     ]
    }
   ],
   "source": [
    "#!/usr/bin/python\n",
    "# -*- coding: UTF-8 -*- \n",
    "#re.search 扫描整个字符串并返回第一个成功的匹配\n",
    "import re\n",
    "print(re.search('www','www.runoob.com').span())   #在起始位置匹配\n",
    "print(re.search('com','www.runoob.com').span())   #不在起始位置匹配\n"
   ]
  },
  {
   "cell_type": "code",
   "execution_count": 43,
   "metadata": {},
   "outputs": [
    {
     "name": "stdout",
     "output_type": "stream",
     "text": [
      "searchObj.group(): Cats are smarter than dogs\n",
      "searchObj.group(1): Cats\n",
      "searchObj.group(2): smarter\n"
     ]
    }
   ],
   "source": [
    "#!/usr/bin/python\n",
    "# -*- coding: UTF-8 -*- \n",
    "import re\n",
    "line=\"Cats are smarter than dogs\"\n",
    "searchObj=re.search(r'(.*) are (.*?) .*',line,re.M|re.I)\n",
    "if searchObj:\n",
    "    print(\"searchObj.group():\",searchObj.group())\n",
    "    print(\"searchObj.group(1):\",searchObj.group(1))\n",
    "    print(\"searchObj.group(2):\",searchObj.group(2))\n",
    "else:\n",
    "    print(\"Nothing found!!\")\n",
    "    "
   ]
  },
  {
   "cell_type": "code",
   "execution_count": 17,
   "metadata": {},
   "outputs": [
    {
     "name": "stdout",
     "output_type": "stream",
     "text": [
      "No match!!\n",
      "search --> matchObj.group(): dogs\n"
     ]
    }
   ],
   "source": [
    "#re.match与re.search的区别：re.match只匹配字符串的开始，如果字符串开始不符合正则表达式，则匹配失败，函数返回None，而re.search匹配整个字符串直到找到一个匹配\n",
    "#!/usr/bin/python\n",
    "import re\n",
    "line=\"Cats are smarter than dogs\"\n",
    "matchObj=re.match(r'dogs',line,re.M|re.I)\n",
    "if matchObj:\n",
    "    print(\"match --> matchObj.group():\",match.group)\n",
    "else:\n",
    "    print(\"No match!!\")\n",
    "matchObj=re.search(r'dogs',line,re.M|re.I)\n",
    "if matchObj:\n",
    "    print(\"search --> matchObj.group():\",matchObj.group())\n",
    "else:\n",
    "    print(\"NO match!!\")"
   ]
  },
  {
   "cell_type": "code",
   "execution_count": 23,
   "metadata": {},
   "outputs": [
    {
     "name": "stdout",
     "output_type": "stream",
     "text": [
      "电话号码: 2004-959-559 \n",
      "电话号码: 2004959559\n"
     ]
    }
   ],
   "source": [
    "#re.sub(pattern,repl,count=0,flags=0) 用于替换字符串中的匹配项\n",
    "#!/usr/bin/python\n",
    "import re\n",
    "phone=\"2004-959-559 # 这是一个电话号码\"\n",
    "#删除注释\n",
    "num=re.sub(r'#.*$',\"\",phone)\n",
    "print(\"电话号码:\",num)\n",
    "#移除非数字内容\n",
    "num=re.sub(r'\\D',\"\",phone)\n",
    "print(\"电话号码:\",num)\n"
   ]
  },
  {
   "cell_type": "code",
   "execution_count": 24,
   "metadata": {},
   "outputs": [
    {
     "name": "stdout",
     "output_type": "stream",
     "text": [
      "A46G8HFD1134\n"
     ]
    }
   ],
   "source": [
    "#repl参数为一个函数\n",
    "#!/usr/bin/python\n",
    "import re\n",
    "#将匹配的数字乘以2\n",
    "def double(matched):\n",
    "    value=int(matched.group('value'))\n",
    "    return str(value*2)\n",
    "s='A23G4HFD567'\n",
    "print(re.sub('(?P<value>\\d+)',double,s))"
   ]
  },
  {
   "cell_type": "code",
   "execution_count": 29,
   "metadata": {},
   "outputs": [
    {
     "name": "stdout",
     "output_type": "stream",
     "text": [
      "None\n",
      "None\n",
      "<re.Match object; span=(3, 5), match='12'>\n"
     ]
    },
    {
     "data": {
      "text/plain": [
       "(3, 5)"
      ]
     },
     "execution_count": 29,
     "metadata": {},
     "output_type": "execute_result"
    }
   ],
   "source": [
    "#compile 函数用于编译正则表达式，生成一个正则表达式（Pattern）对象，供match()和search()两个函数使用\n",
    "#re.compile(pattern[,flags])\n",
    "#!/usr/bin/python\n",
    "import re\n",
    "pattern=re.compile(r'\\d+') #用于匹配至少一个数字\n",
    "m=pattern.match('one12twothree34four') #查找头部没有匹配\n",
    "print(m)\n",
    "m=pattern.match('one12twothree34four',2,10)\n",
    "print(m)\n",
    "m=pattern.match('one12twothree34four',3,10)\n",
    "print(m)\n",
    "m.group()\n",
    "m.start()\n",
    "m.end()\n",
    "m.span()"
   ]
  },
  {
   "cell_type": "code",
   "execution_count": 31,
   "metadata": {},
   "outputs": [
    {
     "name": "stdout",
     "output_type": "stream",
     "text": [
      "['123', '456']\n",
      "['123', '456']\n",
      "['88', '123']\n"
     ]
    }
   ],
   "source": [
    "#findall 在字符串中找到正则表达式所匹配的所有子串，并返回一个列表，如果没有找到匹配的，则返回空列表\n",
    "#re.findall(pattern,string,flags=0) 或pattern.findall(string[,pos[,endpos]])\n",
    "#!/usr/bin/python\n",
    "import re\n",
    "result1=re.findall(r'\\d+','runoob 123 google 456')\n",
    "pattern=re.compile(r'\\d+') #查找数字\n",
    "result2=pattern.findall('runoob 123 google 456')\n",
    "result3=pattern.findall('run88oob123google456',0,10)\n",
    "print(result1)\n",
    "print(result2)\n",
    "print(result3)"
   ]
  },
  {
   "cell_type": "code",
   "execution_count": 32,
   "metadata": {},
   "outputs": [
    {
     "name": "stdout",
     "output_type": "stream",
     "text": [
      "12\n",
      "32\n",
      "43\n",
      "3\n"
     ]
    }
   ],
   "source": [
    "#re.finditer 和findall类似，在字符串中找到正则表达式所匹配的所有子串，并把他们作为一个迭代器返回\n",
    "#!/usr/bin/python\n",
    "import re\n",
    "it=re.finditer(r'\\d+',\"12a32bc43jf3\")\n",
    "for match in it:\n",
    "    print(match.group())"
   ]
  },
  {
   "cell_type": "code",
   "execution_count": 41,
   "metadata": {},
   "outputs": [
    {
     "data": {
      "text/plain": [
       "['', 'h', 'e', 'l', 'l', 'o', ' ', 'w', 'o', 'r', 'l', 'd', '']"
      ]
     },
     "execution_count": 41,
     "metadata": {},
     "output_type": "execute_result"
    }
   ],
   "source": [
    "#re.split 能够按照匹配的子串将字符串分割后返回列表\n",
    "#re.split(pattern,string[,maxsplit=0,flags=0])\n",
    "import re\n",
    "re.split('\\W+','runoob,runoob,runoob.')\n",
    "re.split('(\\W+)',' runoob, runoob, runoob.')\n",
    "re.split('\\W+',' runoob, runoob, runoob.',1) #仅进行一次分割\n",
    "re.split('a*','hello world')  \n"
   ]
  },
  {
   "cell_type": "code",
   "execution_count": 52,
   "metadata": {},
   "outputs": [
    {
     "name": "stdout",
     "output_type": "stream",
     "text": [
      "010-1234567\n",
      "0101234567\n",
      "010-12345 is invalid\n",
      "010-123456789 is invalid\n"
     ]
    }
   ],
   "source": [
    "#eg1 匹配电话号码\n",
    "#!/usr/bin/python\n",
    "# -*- coding: UTF-8 -*- \n",
    "import re\n",
    "reg=r\"010-?\\d{7}$\" #规则 -可有可无；需要以7个数字结尾\n",
    "phones=[\"010-1234567\",\"0101234567\",\"010-12345\",\"010-123456789\"]\n",
    "for i in phones:\n",
    "    a=re.match(reg,i)\n",
    "    if a:\n",
    "        print(a.group())\n",
    "    else:\n",
    "        print(\"%s is invalid\" %(i))"
   ]
  },
  {
   "cell_type": "code",
   "execution_count": 55,
   "metadata": {},
   "outputs": [
    {
     "name": "stdout",
     "output_type": "stream",
     "text": [
      "Hello is valid\n",
      "HEllo is valid\n",
      "hello is invalid\n",
      "H is valid\n",
      "h is invalid\n"
     ]
    }
   ],
   "source": [
    "#eg2 匹配字符串\n",
    "#!/usr/bin/python\n",
    "# -*- coding: UTF-8 -*- \n",
    "import re\n",
    "s=[\"Hello\",\"HEllo\",\"hello\",\"H\",\"h\"]\n",
    "reg=r\"[A-Z][a-z]*\" #规则：默认大写字母开头，小写字母可有可无 中括号用于指向一个字符集合\n",
    "for i in s:\n",
    "    a=re.match(reg,i)\n",
    "    if a:\n",
    "        print(\"%s is valid\" %(i))\n",
    "    else:\n",
    "        print(\"%s is invalid\" %(i))"
   ]
  },
  {
   "cell_type": "code",
   "execution_count": 59,
   "metadata": {},
   "outputs": [
    {
     "name": "stdout",
     "output_type": "stream",
     "text": [
      "sky_sky@qq.com\n",
      "sky001@qq.com\n",
      "1357sky@qq.com\n"
     ]
    }
   ],
   "source": [
    "#eg3 筛选邮箱\n",
    "#!/usr/bin/python\n",
    "# -*- coding: UTF-8 -*- \n",
    "import re\n",
    "maillist=[\"sky@qq.com\",\"sky_sky@qq.com\",\"sky_001.qq.com\",\"sky001@qq.com\",\"1357sky@qq.com\"]\n",
    "def ismail_ok(mailname):\n",
    "    reg=r\"\\w{4,15}@qq.com$\"\n",
    "    a=re.match(reg,mailname)\n",
    "    if a:\n",
    "        return True\n",
    "    else:\n",
    "        return False\n",
    "mailok_list=[i for i in maillist if ismail_ok(i)]\n",
    "with open(\"mail.txt\",\"a+\") as f:\n",
    "    for i in mailok_list:\n",
    "        f.write(i+\"\\n\")\n",
    "        print(i)"
   ]
  },
  {
   "cell_type": "code",
   "execution_count": 61,
   "metadata": {},
   "outputs": [
    {
     "name": "stdout",
     "output_type": "stream",
     "text": [
      "0 is ok\n",
      "15 is ok\n",
      "20 is ok\n",
      "100 is ok\n"
     ]
    }
   ],
   "source": [
    "#eg:匹配0-100之间的数值，包含0和100\n",
    "#!/usr/bin/python\n",
    "# -*- coding: UTF-8 -*- \n",
    "import re\n",
    "num=[\"0\",\"15\",\"20\",\"100\",\"120\",\"1000\"]\n",
    "reg=r\"^0$|^100$|[0-9]\\d?$\" #规则:含有0或100；1-9后最多一个数字结尾\n",
    "for i in num:\n",
    "    a=re.match(reg,i)\n",
    "    if a:\n",
    "        print(\"%s is ok\" %(i))"
   ]
  },
  {
   "cell_type": "code",
   "execution_count": 75,
   "metadata": {},
   "outputs": [
    {
     "data": {
      "text/plain": [
       "['15657353139',\n",
       " '18882863687',\n",
       " '17649232615',\n",
       " '18528972071',\n",
       " '13493054020',\n",
       " '13119172939',\n",
       " '18398330638',\n",
       " '13240946899',\n",
       " '13665442636',\n",
       " '17640152739']"
      ]
     },
     "execution_count": 75,
     "metadata": {},
     "output_type": "execute_result"
    }
   ],
   "source": [
    "#随机产生固定要求得一串号码\n",
    "import random\n",
    "#随机产生多少个号码函数\n",
    "def create_phone(num):\n",
    "    total=[]\n",
    "    for n in range(0,num):\n",
    "        #第二位\n",
    "        second=[3,4,5,7,8][random.randint(0,4)]\n",
    "        #第三位\n",
    "        third={\n",
    "            3:range(0,10)[random.randint(0,9)],\n",
    "            4:[5,7,9][random.randint(0,2)],\n",
    "            5:[value5 for value5 in range(0,10) if value5!=4][random.randint(0,8)],\n",
    "            7:[value7 for value7 in range(0,10) if value7!=4 and value7!=9 ][random.randint(0,7)],\n",
    "            8:random.randint(0,9)\n",
    "        }[second]\n",
    "        last=''\n",
    "        for i in range(0,8):\n",
    "            aa=str(random.randint(0,9))\n",
    "            last=last+aa\n",
    "            #i=i+1\n",
    "        phone='1{}{}{}'.format(second,third,last)  \n",
    "        for pn in range(0,len(total)):\n",
    "            if total[pn]==phone:\n",
    "                continue\n",
    "            #else:\n",
    "                #pn=pn+1    \n",
    "        total.append(phone)\n",
    "        #num=num+1\n",
    "    return total\n",
    "    #测试\n",
    "create_phone(10)\n"
   ]
  },
  {
   "cell_type": "code",
   "execution_count": null,
   "metadata": {},
   "outputs": [],
   "source": []
  },
  {
   "cell_type": "code",
   "execution_count": null,
   "metadata": {},
   "outputs": [],
   "source": []
  }
 ],
 "metadata": {
  "kernelspec": {
   "display_name": "Python 3",
   "language": "python",
   "name": "python3"
  },
  "language_info": {
   "codemirror_mode": {
    "name": "ipython",
    "version": 3
   },
   "file_extension": ".py",
   "mimetype": "text/x-python",
   "name": "python",
   "nbconvert_exporter": "python",
   "pygments_lexer": "ipython3",
   "version": "3.8.3"
  }
 },
 "nbformat": 4,
 "nbformat_minor": 4
}
