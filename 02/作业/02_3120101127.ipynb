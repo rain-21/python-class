{
 "cells": [
  {
   "cell_type": "code",
   "execution_count": 1,
   "metadata": {},
   "outputs": [
    {
     "name": "stdout",
     "output_type": "stream",
     "text": [
      "\n",
      "\n",
      "按下 enter 键后退出。\n"
     ]
    },
    {
     "data": {
      "text/plain": [
       "''"
      ]
     },
     "execution_count": 1,
     "metadata": {},
     "output_type": "execute_result"
    }
   ],
   "source": [
    "input(\"\\n\\n按下 enter 键后退出。\")"
   ]
  },
  {
   "cell_type": "code",
   "execution_count": 2,
   "metadata": {},
   "outputs": [
    {
     "name": "stdout",
     "output_type": "stream",
     "text": [
      "<class 'int'> <class 'float'> <class 'bool'> <class 'complex'>\n"
     ]
    }
   ],
   "source": [
    "a,b,c,d=20,5.5,True,4+3j\n",
    "print(type(a),type(b),type(c),type(d))"
   ]
  },
  {
   "cell_type": "code",
   "execution_count": 3,
   "metadata": {},
   "outputs": [
    {
     "data": {
      "text/plain": [
       "True"
      ]
     },
     "execution_count": 3,
     "metadata": {},
     "output_type": "execute_result"
    }
   ],
   "source": [
    "a=123\n",
    "isinstance(a,int)"
   ]
  },
  {
   "cell_type": "code",
   "execution_count": 4,
   "metadata": {},
   "outputs": [
    {
     "data": {
      "text/plain": [
       "0"
      ]
     },
     "execution_count": 4,
     "metadata": {},
     "output_type": "execute_result"
    }
   ],
   "source": [
    "2//4 #除法商取整"
   ]
  },
  {
   "cell_type": "code",
   "execution_count": 5,
   "metadata": {},
   "outputs": [
    {
     "data": {
      "text/plain": [
       "2"
      ]
     },
     "execution_count": 5,
     "metadata": {},
     "output_type": "execute_result"
    }
   ],
   "source": [
    "17%3  #取余"
   ]
  },
  {
   "cell_type": "code",
   "execution_count": 6,
   "metadata": {},
   "outputs": [
    {
     "data": {
      "text/plain": [
       "32"
      ]
     },
     "execution_count": 6,
     "metadata": {},
     "output_type": "execute_result"
    }
   ],
   "source": [
    "2**5 #乘方 "
   ]
  },
  {
   "cell_type": "code",
   "execution_count": 7,
   "metadata": {},
   "outputs": [
    {
     "name": "stdout",
     "output_type": "stream",
     "text": [
      "r\n"
     ]
    }
   ],
   "source": [
    "str1='runoob'\n",
    "print(str1[0:-5]) #10"
   ]
  },
  {
   "cell_type": "code",
   "execution_count": 8,
   "metadata": {},
   "outputs": [
    {
     "name": "stdout",
     "output_type": "stream",
     "text": [
      "Ru\n",
      "oob\n",
      "Ru\\noob\n"
     ]
    }
   ],
   "source": [
    "print('Ru\\noob')\n",
    "print(r'Ru\\noob')"
   ]
  },
  {
   "cell_type": "code",
   "execution_count": 9,
   "metadata": {},
   "outputs": [
    {
     "name": "stdout",
     "output_type": "stream",
     "text": [
      "P n\n",
      "n P\n"
     ]
    }
   ],
   "source": [
    "word='Python'\n",
    "print(word[0],word[5])\n",
    "print(word[-1],word[-6])"
   ]
  },
  {
   "cell_type": "code",
   "execution_count": 10,
   "metadata": {
    "scrolled": false
   },
   "outputs": [
    {
     "name": "stdout",
     "output_type": "stream",
     "text": [
      "['abcd', '123', 2.23, 'runoob', 77.2]\n",
      "abcd\n",
      "['123', 2.23]\n",
      "[2.23, 'runoob', 77.2]\n",
      "[123, 'runoob', 123, 'runoob']\n",
      "['abcd', '123', 2.23, 'runoob', 77.2, 123, 'runoob']\n"
     ]
    }
   ],
   "source": [
    "list=['abcd','123',2.23,'runoob',77.2]\n",
    "tinylist=[123,'runoob']\n",
    "print(list)\n",
    "print(list[0])\n",
    "print(list[1:3])      #20\n",
    "print(list[2:])\n",
    "print(tinylist*2)\n",
    "print(list+tinylist)"
   ]
  },
  {
   "cell_type": "code",
   "execution_count": 11,
   "metadata": {},
   "outputs": [
    {
     "name": "stdout",
     "output_type": "stream",
     "text": [
      "runoob like I\n"
     ]
    }
   ],
   "source": [
    "def reversewords(input):\n",
    "    inputwords=input.split(\" \")\n",
    "    inputwords=inputwords[-1::-1]\n",
    "    output=' '.join(inputwords)\n",
    "    return output\n",
    "if __name__==\"__main__\":\n",
    "    input=(\"I like runoob\")\n",
    "    rw=reversewords(input)\n",
    "    print(rw)"
   ]
  },
  {
   "cell_type": "code",
   "execution_count": 12,
   "metadata": {},
   "outputs": [
    {
     "name": "stdout",
     "output_type": "stream",
     "text": [
      "('runoob', 786, 2.23, 'john', 70.2)\n",
      "runoob\n",
      "(786, 2.23)\n",
      "(2.23, 'john', 70.2)\n",
      "(123, 'john', 123, 'john')\n",
      "('runoob', 786, 2.23, 'john', 70.2, 123, 'john')\n"
     ]
    }
   ],
   "source": [
    "tuple = ( 'runoob', 786 , 2.23, 'john', 70.2 )\n",
    "tinytuple = (123, 'john')\n",
    "print (tuple)               \n",
    "print (tuple[0])            \n",
    "print (tuple[1:3])           \n",
    "print (tuple[2:])           \n",
    "print (tinytuple * 2)       \n",
    "print (tuple + tinytuple)   "
   ]
  },
  {
   "cell_type": "code",
   "execution_count": 13,
   "metadata": {},
   "outputs": [
    {
     "name": "stdout",
     "output_type": "stream",
     "text": [
      "{'Facebook', 'Taobao', 'Runoob', 'Baidu', 'Google', 'Zhihu'}\n",
      "Runoob在集合中\n",
      "{'c', 'd', 'r', 'a', 'b'}\n",
      "{'d', 'r', 'b'}\n",
      "{'z', 'c', 'd', 'r', 'm', 'a', 'l', 'b'}\n",
      "{'a', 'c'}\n",
      "{'z', 'm', 'd', 'r', 'l', 'b'}\n"
     ]
    }
   ],
   "source": [
    "sites={'Google','Taobao','Runoob','Facebook','Zhihu','Baidu'}\n",
    "print (sites)\n",
    "if 'Runoob' in sites:\n",
    "    print('Runoob在集合中')\n",
    "else:\n",
    "    print('Runoob不在集合中')\n",
    "a=set('abracadabra')\n",
    "b=set('alacazam')\n",
    "print(a)\n",
    "print(a-b)  #a和b的差集\n",
    "print(a|b)  #a和b的并集\n",
    "print(a&b)  #a和b的交集\n",
    "print(a^b)  #a和b中不同时存在的元素"
   ]
  },
  {
   "cell_type": "code",
   "execution_count": 14,
   "metadata": {},
   "outputs": [
    {
     "name": "stdout",
     "output_type": "stream",
     "text": [
      "1-菜鸟教程\n",
      "2-菜鸟工具\n",
      "{'name': 'runoob', 'code': 1, 'site': 'www.runoob.com'}\n",
      "dict_keys(['name', 'code', 'site'])\n",
      "dict_values(['runoob', 1, 'www.runoob.com'])\n"
     ]
    }
   ],
   "source": [
    "dict={}\n",
    "dict['one']=\"1-菜鸟教程\"\n",
    "dict[2]=\"2-菜鸟工具\"\n",
    "tinydict={'name':'runoob','code':1,'site':'www.runoob.com'}\n",
    "print(dict['one'])\n",
    "print(dict[2])\n",
    "print(tinydict)\n",
    "print(tinydict.keys())\n",
    "print(tinydict.values())"
   ]
  },
  {
   "cell_type": "code",
   "execution_count": 15,
   "metadata": {},
   "outputs": [
    {
     "name": "stdout",
     "output_type": "stream",
     "text": [
      "1-变量a和b都为true\n",
      "2-变量a和b都为true，或其中一个变量为true\n",
      "3-变量a和b有一个不为true\n",
      "4-变量a和b都为true，或其中一个变量为true\n",
      "5-变量a和b都为false,或其中一个变量为false\n"
     ]
    }
   ],
   "source": [
    "a=10\n",
    "b=20\n",
    "if (a and b):\n",
    "    print(\"1-变量a和b都为true\")\n",
    "else:\n",
    "    print('1-变量a和b有一个不为true')\n",
    "if (a or b):\n",
    "    print(\"2-变量a和b都为true，或其中一个变量为true\")\n",
    "else:\n",
    "    print(\"2-变量a和b都不为true\")\n",
    "#修改变量a的值\n",
    "a=0\n",
    "if (a and b):\n",
    "    print(\"3-变量a和b都为true\")\n",
    "else:\n",
    "    print('3-变量a和b有一个不为true')\n",
    "if (a or b):\n",
    "    print(\"4-变量a和b都为true，或其中一个变量为true\")\n",
    "else:\n",
    "    print(\"4-变量a和b都不为true\")\n",
    "if not(a and b):\n",
    "    print(\"5-变量a和b都为false,或其中一个变量为false\")\n",
    "else:\n",
    "    print(\"5-变量a和b都为true\")"
   ]
  },
  {
   "cell_type": "code",
   "execution_count": 16,
   "metadata": {},
   "outputs": [
    {
     "name": "stdout",
     "output_type": "stream",
     "text": [
      "1-变量a不在给定的列表list中\n",
      "2-变量b不在给定的列表list中\n",
      "3-变量a在给定的列表list中\n"
     ]
    }
   ],
   "source": [
    "a=20\n",
    "b=20\n",
    "list=[1,2,3,4,5]\n",
    "if(a in list):\n",
    "    print(\"1-变量a在给定的列表list中\")\n",
    "else:\n",
    "    print(\"1-变量a不在给定的列表list中\")\n",
    "if(b not in list):\n",
    "    print(\"2-变量b不在给定的列表list中\")\n",
    "else:\n",
    "    print(\"2-变量b在给定的列表list中\")\n",
    "a=2\n",
    "if(a in list):\n",
    "    print(\"3-变量a在给定的列表list中\")\n",
    "else:\n",
    "    print(\"3-变量a不在给定的列表list中\")"
   ]
  },
  {
   "cell_type": "code",
   "execution_count": 17,
   "metadata": {},
   "outputs": [
    {
     "name": "stdout",
     "output_type": "stream",
     "text": [
      "1-a和b有相同的标识\n",
      "2-a和b有相同的标识\n",
      "3-a和b没有相同的标识\n",
      "4-a和b没有相同的标识\n",
      "5-a和b没有相同的标识\n"
     ]
    }
   ],
   "source": [
    "a=20\n",
    "b=20\n",
    "if (a is b):\n",
    "    print(\"1-a和b有相同的标识\")\n",
    "else:\n",
    "    print(\"1-a和b没有相同的标识\")\n",
    "if (id(a)==id(b)):\n",
    "    print(\"2-a和b有相同的标识\")\n",
    "else:\n",
    "    print(\"2-a和b没有相同的标识\")\n",
    "b=30\n",
    "if (a is b):\n",
    "    print(\"3-a和b有相同的标识\")\n",
    "else:\n",
    "    print(\"3-a和b没有相同的标识\")\n",
    "if (id(a)==id(b)):\n",
    "    print(\"4-a和b有相同的标识\")\n",
    "else:\n",
    "    print(\"4-a和b没有相同的标识\")\n",
    "if (a is not b):\n",
    "    print(\"5-a和b没有相同的标识\")\n",
    "else:\n",
    "    print(\"5-a和b有相同的标识\")"
   ]
  },
  {
   "cell_type": "code",
   "execution_count": 18,
   "metadata": {},
   "outputs": [
    {
     "data": {
      "text/plain": [
       "12.5625"
      ]
     },
     "execution_count": 18,
     "metadata": {},
     "output_type": "execute_result"
    }
   ],
   "source": [
    "tax=12.5/100\n",
    "price=100.5\n",
    "price*tax"
   ]
  },
  {
   "cell_type": "code",
   "execution_count": 19,
   "metadata": {},
   "outputs": [
    {
     "name": "stdout",
     "output_type": "stream",
     "text": [
      "已更新字符： Hello Runoob!\n"
     ]
    }
   ],
   "source": [
    "var1='Hello World!'\n",
    "print(\"已更新字符：\",var1[:6]+'Runoob!')"
   ]
  },
  {
   "cell_type": "code",
   "execution_count": 20,
   "metadata": {},
   "outputs": [
    {
     "name": "stdout",
     "output_type": "stream",
     "text": [
      "a+b输出结果： HelloPython\n",
      "a*2输出结果： HelloHello\n",
      "a[1]输出结果为 e\n",
      "a[1:4]输出结果为 ell\n",
      "H在变量a中\n",
      "M不在变量a中\n",
      "\\n\n",
      "\\n\n"
     ]
    }
   ],
   "source": [
    "a=\"Hello\"\n",
    "b=\"Python\"\n",
    "print(\"a+b输出结果：\",a+b)\n",
    "print(\"a*2输出结果：\",a*2)\n",
    "print(\"a[1]输出结果为\",a[1])\n",
    "print(\"a[1:4]输出结果为\",a[1:4])\n",
    "if (\"H\" in a):\n",
    "    print(\"H在变量a中\")\n",
    "else:\n",
    "    print(\"H不在变量a中\")\n",
    "if (\"M\" not in a):\n",
    "    print(\"M不在变量a中\")\n",
    "else:\n",
    "    print(\"M在变量a中\")\n",
    "print(r'\\n')\n",
    "print(R'\\n')"
   ]
  },
  {
   "cell_type": "code",
   "execution_count": 21,
   "metadata": {},
   "outputs": [
    {
     "name": "stdout",
     "output_type": "stream",
     "text": [
      "red\n",
      "green\n",
      "blue\n"
     ]
    }
   ],
   "source": [
    "list = ['red', 'green', 'blue', 'yellow', 'white', 'black']\n",
    "print( list[0] )\n",
    "print( list[1] )\n",
    "print( list[2] )"
   ]
  },
  {
   "cell_type": "code",
   "execution_count": 22,
   "metadata": {},
   "outputs": [
    {
     "name": "stdout",
     "output_type": "stream",
     "text": [
      "black\n",
      "white\n",
      "yellow\n"
     ]
    }
   ],
   "source": [
    "list = ['red', 'green', 'blue', 'yellow', 'white', 'black']\n",
    "print( list[-1] )\n",
    "print( list[-2] )\n",
    "print( list[-3] )"
   ]
  },
  {
   "cell_type": "code",
   "execution_count": 23,
   "metadata": {},
   "outputs": [
    {
     "name": "stdout",
     "output_type": "stream",
     "text": [
      "[10, 20, 30, 40]\n"
     ]
    }
   ],
   "source": [
    "nums = [10, 20, 30, 40, 50, 60, 70, 80, 90]\n",
    "print(nums[0:4])"
   ]
  },
  {
   "cell_type": "code",
   "execution_count": 24,
   "metadata": {},
   "outputs": [
    {
     "name": "stdout",
     "output_type": "stream",
     "text": [
      "1 - a 不等于 b\n",
      "2 - a 不等于 b\n",
      "3 - a 大于等于 b\n",
      "4 - a 大于 b\n",
      "5 - a 小于等于 b\n",
      "6 - b 大于等于 a\n"
     ]
    }
   ],
   "source": [
    "a = 21\n",
    "b = 10\n",
    "c = 0\n",
    "if ( a == b ):\n",
    "   print (\"1 - a 等于 b\")\n",
    "else:\n",
    "   print (\"1 - a 不等于 b\")\n",
    " \n",
    "if ( a != b ):\n",
    "   print (\"2 - a 不等于 b\")\n",
    "else:\n",
    "   print (\"2 - a 等于 b\")\n",
    "if ( a < b ):\n",
    "   print (\"3 - a 小于 b\")\n",
    "else:\n",
    "   print (\"3 - a 大于等于 b\")\n",
    " \n",
    "if ( a > b ):\n",
    "   print (\"4 - a 大于 b\")\n",
    "else:\n",
    "   print (\"4 - a 小于等于 b\")\n",
    "a = 5\n",
    "b = 20\n",
    "if ( a <= b ):\n",
    "   print (\"5 - a 小于等于 b\")\n",
    "else:\n",
    "   print (\"5 - a 大于  b\")\n",
    "if ( b >= a ):\n",
    "   print (\"6 - b 大于等于 a\")\n",
    "else:\n",
    "   print (\"6 - b 小于 a\")"
   ]
  },
  {
   "cell_type": "code",
   "execution_count": 25,
   "metadata": {},
   "outputs": [
    {
     "name": "stdout",
     "output_type": "stream",
     "text": [
      "('Google', 'Runoob', -1997, 2000)\n",
      "删除后的元组tup:\n"
     ]
    }
   ],
   "source": [
    "tup=('Google','Runoob',-1997,2000)\n",
    "print(tup)\n",
    "del tup\n",
    "print(\"删除后的元组tup:\")\n"
   ]
  },
  {
   "cell_type": "code",
   "execution_count": 26,
   "metadata": {},
   "outputs": [
    {
     "name": "stdout",
     "output_type": "stream",
     "text": [
      "1\n",
      "1\n",
      "2\n",
      "3\n",
      "5\n",
      "8\n"
     ]
    }
   ],
   "source": [
    "#两个元素的总和确定下一个数\n",
    "a,b=0,1\n",
    "while b<10:\n",
    "    print(b)\n",
    "    a,b=b,a+b"
   ]
  },
  {
   "cell_type": "code",
   "execution_count": 27,
   "metadata": {},
   "outputs": [
    {
     "name": "stdout",
     "output_type": "stream",
     "text": [
      "1,1,2,3,5,8,13,21,34,55,89,144,233,377,610,987,"
     ]
    }
   ],
   "source": [
    "a,b=0,1\n",
    "while b<1000:\n",
    "    print(b,end=\",\")\n",
    "    a,b=b,a+b"
   ]
  },
  {
   "cell_type": "code",
   "execution_count": 28,
   "metadata": {},
   "outputs": [
    {
     "name": "stdout",
     "output_type": "stream",
     "text": [
      "1 is odd\n",
      "2 is even\n",
      "3 is odd\n",
      "4 is even\n",
      "5 is odd\n",
      "6 is even\n"
     ]
    }
   ],
   "source": [
    "a=1\n",
    "while a<7:\n",
    "    if(a%2==0):\n",
    "        print(a,\"is even\")\n",
    "    else:\n",
    "        print(a,'is odd')\n",
    "    a+=1"
   ]
  },
  {
   "cell_type": "code",
   "execution_count": 29,
   "metadata": {},
   "outputs": [
    {
     "name": "stdout",
     "output_type": "stream",
     "text": [
      "1-if表达条件为true\n",
      "100\n",
      "Good bye!\n"
     ]
    }
   ],
   "source": [
    "var1=100\n",
    "if var1:\n",
    "    print(\"1-if表达条件为true\")\n",
    "    print(var1)\n",
    "var2=0\n",
    "if var2:\n",
    "    print(\"2-if表达条件为true\")\n",
    "    print(var2)\n",
    "print(\"Good bye!\")"
   ]
  },
  {
   "cell_type": "code",
   "execution_count": 30,
   "metadata": {},
   "outputs": [
    {
     "ename": "TypeError",
     "evalue": "'str' object is not callable",
     "output_type": "error",
     "traceback": [
      "\u001b[1;31m---------------------------------------------------------------------------\u001b[0m",
      "\u001b[1;31mTypeError\u001b[0m                                 Traceback (most recent call last)",
      "\u001b[1;32m<ipython-input-30-d5283e1b5b77>\u001b[0m in \u001b[0;36m<module>\u001b[1;34m\u001b[0m\n\u001b[1;32m----> 1\u001b[1;33m \u001b[0mage\u001b[0m \u001b[1;33m=\u001b[0m \u001b[0minput\u001b[0m\u001b[1;33m(\u001b[0m\u001b[1;34m\"请输入你家狗狗的年龄：\"\u001b[0m\u001b[1;33m)\u001b[0m\u001b[1;33m\u001b[0m\u001b[1;33m\u001b[0m\u001b[0m\n\u001b[0m\u001b[0;32m      2\u001b[0m \u001b[0mprint\u001b[0m\u001b[1;33m(\u001b[0m\u001b[1;34m\"\"\u001b[0m\u001b[1;33m)\u001b[0m\u001b[1;33m\u001b[0m\u001b[1;33m\u001b[0m\u001b[0m\n\u001b[0;32m      3\u001b[0m \u001b[1;32mif\u001b[0m \u001b[0mage\u001b[0m\u001b[1;33m<=\u001b[0m\u001b[1;36m0\u001b[0m\u001b[1;33m:\u001b[0m\u001b[1;33m\u001b[0m\u001b[1;33m\u001b[0m\u001b[0m\n\u001b[0;32m      4\u001b[0m     \u001b[0mprint\u001b[0m\u001b[1;33m(\u001b[0m\u001b[1;34m\"你是在逗我吧！\"\u001b[0m\u001b[1;33m)\u001b[0m\u001b[1;33m\u001b[0m\u001b[1;33m\u001b[0m\u001b[0m\n\u001b[0;32m      5\u001b[0m \u001b[1;32melif\u001b[0m \u001b[0mage\u001b[0m\u001b[1;33m==\u001b[0m\u001b[1;36m1\u001b[0m\u001b[1;33m:\u001b[0m\u001b[1;33m\u001b[0m\u001b[1;33m\u001b[0m\u001b[0m\n",
      "\u001b[1;31mTypeError\u001b[0m: 'str' object is not callable"
     ]
    }
   ],
   "source": [
    "age = input(\"请输入你家狗狗的年龄：\")\n",
    "print(\"\")\n",
    "if age<=0:\n",
    "    print(\"你是在逗我吧！\")\n",
    "elif age==1:\n",
    "    print(\"相当于14岁的人。\")\n",
    "elif age==2:\n",
    "    \n",
    "    print(\"相当于22岁的人。\")\n",
    "elif age>2:\n",
    "    human=22+(age-2)*5\n",
    "    print(\"对应人类年龄：\",human)\n",
    "input(\"点击enter键退出\")"
   ]
  },
  {
   "cell_type": "code",
   "execution_count": null,
   "metadata": {},
   "outputs": [],
   "source": [
    "\n",
    "number = 7\n",
    "guess = -1\n",
    "print(\"数字猜谜游戏!\")\n",
    "while guess != number:\n",
    "    guess = int(input(\"请输入你猜的数字：\"))\n",
    " \n",
    "    if guess == number:\n",
    "        print(\"恭喜，你猜对了！\")\n",
    "    elif guess < number:\n",
    "        print(\"猜的数字小了...\")\n",
    "    elif guess > number:\n",
    "        print(\"猜的数字大了...\")"
   ]
  },
  {
   "cell_type": "code",
   "execution_count": null,
   "metadata": {},
   "outputs": [],
   "source": []
  },
  {
   "cell_type": "code",
   "execution_count": null,
   "metadata": {},
   "outputs": [],
   "source": []
  },
  {
   "cell_type": "code",
   "execution_count": null,
   "metadata": {},
   "outputs": [],
   "source": []
  }
 ],
 "metadata": {
  "kernelspec": {
   "display_name": "Python 3",
   "language": "python",
   "name": "python3"
  },
  "language_info": {
   "codemirror_mode": {
    "name": "ipython",
    "version": 3
   },
   "file_extension": ".py",
   "mimetype": "text/x-python",
   "name": "python",
   "nbconvert_exporter": "python",
   "pygments_lexer": "ipython3",
   "version": "3.8.5"
  }
 },
 "nbformat": 4,
 "nbformat_minor": 4
}
