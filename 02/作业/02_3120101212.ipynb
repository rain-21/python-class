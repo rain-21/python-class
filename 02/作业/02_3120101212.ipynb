{
 "cells": [
  {
   "cell_type": "code",
   "execution_count": 1,
   "metadata": {},
   "outputs": [],
   "source": [
    "def func(*ages):\n",
    "    func(1,2,3) #args表示（1，2，3）这个元组"
   ]
  },
  {
   "cell_type": "code",
   "execution_count": 6,
   "metadata": {},
   "outputs": [
    {
     "name": "stdout",
     "output_type": "stream",
     "text": [
      "arg1: Zed, arg2: Shaw\n"
     ]
    }
   ],
   "source": [
    "def print_two(*args):\n",
    "    arg1, arg2 = args\n",
    "    print(f\"arg1: {arg1}, arg2: {arg2}\")\n",
    "print_two(\"Zed\",\"Shaw\")"
   ]
  },
  {
   "cell_type": "code",
   "execution_count": 2,
   "metadata": {},
   "outputs": [
    {
     "name": "stdout",
     "output_type": "stream",
     "text": [
      "小明说：hello\n"
     ]
    }
   ],
   "source": [
    "import xiaoming \n",
    "xiaoming.say('hello')"
   ]
  },
  {
   "cell_type": "code",
   "execution_count": 3,
   "metadata": {},
   "outputs": [
    {
     "name": "stdout",
     "output_type": "stream",
     "text": [
      "小明说：hello\n"
     ]
    }
   ],
   "source": [
    "import xiaoming as XM\n",
    "XM.say('hello')"
   ]
  },
  {
   "cell_type": "code",
   "execution_count": 3,
   "metadata": {},
   "outputs": [
    {
     "name": "stdout",
     "output_type": "stream",
     "text": [
      "小明说：\"你好！\"\n"
     ]
    }
   ],
   "source": [
    "from xiaoming import say as speak\n",
    "speak('\"你好！\"')"
   ]
  },
  {
   "cell_type": "code",
   "execution_count": 4,
   "metadata": {},
   "outputs": [
    {
     "data": {
      "text/plain": [
       "'E:\\\\anaconda3\\\\python.exe'"
      ]
     },
     "execution_count": 4,
     "metadata": {},
     "output_type": "execute_result"
    }
   ],
   "source": [
    "import sys\n",
    "sys.executable"
   ]
  },
  {
   "cell_type": "code",
   "execution_count": 5,
   "metadata": {},
   "outputs": [
    {
     "data": {
      "text/plain": [
       "['E:\\\\anaconda3\\\\lib\\\\site-packages\\\\ipykernel_launcher.py',\n",
       " '-f',\n",
       " 'C:\\\\Users\\\\Lenovo\\\\AppData\\\\Roaming\\\\jupyter\\\\runtime\\\\kernel-0c9ceb2f-182f-4836-8584-2420078606a8.json']"
      ]
     },
     "execution_count": 5,
     "metadata": {},
     "output_type": "execute_result"
    }
   ],
   "source": [
    "sys.argv"
   ]
  },
  {
   "cell_type": "code",
   "execution_count": 7,
   "metadata": {},
   "outputs": [
    {
     "name": "stdout",
     "output_type": "stream",
     "text": [
      "变量一为:12，变量二为:25\n"
     ]
    }
   ],
   "source": [
    "def print_double(*args):\n",
    "    a1,a2 = args\n",
    "    print(f\"变量一为:{a1}，变量二为:{a2}\")\n",
    "print_double(12,25)"
   ]
  },
  {
   "cell_type": "code",
   "execution_count": 9,
   "metadata": {},
   "outputs": [
    {
     "name": "stdout",
     "output_type": "stream",
     "text": [
      "num=1000\n"
     ]
    }
   ],
   "source": [
    "def print_one(ace):\n",
    "    print(f\"num={ace}\")\n",
    "print_one(1000)"
   ]
  },
  {
   "cell_type": "code",
   "execution_count": 10,
   "metadata": {},
   "outputs": [
    {
     "ename": "SyntaxError",
     "evalue": "invalid syntax (<ipython-input-10-042bff3870c2>, line 1)",
     "output_type": "error",
     "traceback": [
      "\u001b[1;36m  File \u001b[1;32m\"<ipython-input-10-042bff3870c2>\"\u001b[1;36m, line \u001b[1;32m1\u001b[0m\n\u001b[1;33m    def print_dou(a1,a2)\u001b[0m\n\u001b[1;37m                        ^\u001b[0m\n\u001b[1;31mSyntaxError\u001b[0m\u001b[1;31m:\u001b[0m invalid syntax\n"
     ]
    }
   ],
   "source": [
    "def print_dou(a1,a2)\n",
    "    print(f\"num1={a1},num2={a2}\")\n",
    "print_dou(1,2)"
   ]
  },
  {
   "cell_type": "code",
   "execution_count": 11,
   "metadata": {},
   "outputs": [
    {
     "name": "stdout",
     "output_type": "stream",
     "text": [
      "num1=1,num2=2\n"
     ]
    }
   ],
   "source": [
    "def print_dou(a1,a2):\n",
    "    print(f\"num1={a1},num2={a2}\")\n",
    "print_dou(1,2)"
   ]
  },
  {
   "cell_type": "code",
   "execution_count": 15,
   "metadata": {},
   "outputs": [
    {
     "name": "stdout",
     "output_type": "stream",
     "text": [
      "啥也没有！\n"
     ]
    }
   ],
   "source": [
    "def print_none():\n",
    "    print(\"啥也没有！\")\n",
    "print_none()"
   ]
  },
  {
   "cell_type": "code",
   "execution_count": 3,
   "metadata": {},
   "outputs": [
    {
     "name": "stdout",
     "output_type": "stream",
     "text": [
      "a\n",
      "b\n"
     ]
    }
   ],
   "source": [
    "print(\"a\\nb\")"
   ]
  },
  {
   "cell_type": "code",
   "execution_count": 34,
   "metadata": {},
   "outputs": [
    {
     "name": "stdout",
     "output_type": "stream",
     "text": [
      "here is your file xiaoming.txt\n",
      "hhh000\n",
      "\n"
     ]
    }
   ],
   "source": [
    "filename='xiaoming.txt'\n",
    "txt=open(filename)\n",
    "print(f\"here is your file {filename}\")\n",
    "print(txt.readline())\n",
    "txt.close()"
   ]
  },
  {
   "cell_type": "code",
   "execution_count": 10,
   "metadata": {},
   "outputs": [
    {
     "name": "stdin",
     "output_type": "stream",
     "text": [
      "line1: hhh\n",
      "line2: sss\n",
      "line3: asaas\n"
     ]
    }
   ],
   "source": [
    "target=open(filename,'w')\n",
    "line1=input(\"line1:\")\n",
    "line2=input(\"line2:\")\n",
    "line3=input(\"line3:\")\n",
    "target.write(line1)\n",
    "target.write('\\n')\n",
    "target.write(line2)\n",
    "target.write('\\n')\n",
    "target.write(line3)\n",
    "target.write('\\n')\n",
    "target.close()"
   ]
  },
  {
   "cell_type": "code",
   "execution_count": 26,
   "metadata": {},
   "outputs": [
    {
     "name": "stdout",
     "output_type": "stream",
     "text": [
      "hhh000\n",
      "ss0s\n",
      "a0s0aa0s\n",
      "\n"
     ]
    }
   ],
   "source": [
    "input_file = 'xiaoming.txt'\n",
    "current_file = open(input_file)\n",
    "def print_all(file):\n",
    "    print(file.read())\n",
    "print_all(current_file)"
   ]
  },
  {
   "cell_type": "code",
   "execution_count": 27,
   "metadata": {},
   "outputs": [
    {
     "name": "stdout",
     "output_type": "stream",
     "text": [
      "Let's print three lines:\n",
      "1 hhh000\n",
      "\n",
      "2 ss0s\n",
      "\n",
      "3 a0s0aa0s\n",
      "\n"
     ]
    }
   ],
   "source": [
    "current_file = open(input_file)\n",
    "\n",
    "def rewind(f):\n",
    "    f.seek(0)\n",
    "\n",
    "def print_a_line(line_count, f):\n",
    "    print(line_count, f.readline())\n",
    "\n",
    "\n",
    "rewind(current_file)\n",
    "\n",
    "print(\"Let's print three lines:\")\n",
    "\n",
    "current_line = 1\n",
    "print_a_line(current_line, current_file)\n",
    "\n",
    "current_line = current_line + 1\n",
    "print_a_line(current_line, current_file)\n",
    "\n",
    "current_line += 1\n",
    "print_a_line(current_line, current_file)\n",
    "\n",
    "current_file.close()"
   ]
  },
  {
   "cell_type": "code",
   "execution_count": 53,
   "metadata": {},
   "outputs": [
    {
     "name": "stdout",
     "output_type": "stream",
     "text": [
      "DIVIDING 50 / 2\n",
      "IQ: 25.0\n"
     ]
    }
   ],
   "source": [
    "def divide(a, b):\n",
    "    print(f\"DIVIDING {a} / {b}\")\n",
    "    return a / b\n",
    "iq = divide(50, 2)\n",
    "\n",
    "print(f\"IQ: {iq}\")\n"
   ]
  },
  {
   "cell_type": "code",
   "execution_count": 38,
   "metadata": {},
   "outputs": [
    {
     "name": "stdout",
     "output_type": "stream",
     "text": [
      "苹果太多了\n"
     ]
    }
   ],
   "source": [
    "people = 20\n",
    "apple = 30\n",
    "banana = 10\n",
    "if people<apple:\n",
    "    print(\"苹果太多了\")\n",
    "if people>apple:\n",
    "    print(\"苹果不够吃\")"
   ]
  },
  {
   "cell_type": "code",
   "execution_count": 44,
   "metadata": {},
   "outputs": [
    {
     "name": "stdout",
     "output_type": "stream",
     "text": [
      "车不够分\n"
     ]
    }
   ],
   "source": [
    "people=30\n",
    "car=40\n",
    "bike=20\n",
    "car-=15\n",
    "if car>people:\n",
    "    print(\"一个人至少能得到一台车\")\n",
    "elif car<people:\n",
    "    print(\"车不够分\")\n",
    "else:\n",
    "    print(\"一人一车\")\n"
   ]
  },
  {
   "cell_type": "code",
   "execution_count": 52,
   "metadata": {},
   "outputs": [
    {
     "name": "stdout",
     "output_type": "stream",
     "text": [
      "1 到 100 之和为: 5050\n"
     ]
    }
   ],
   "source": [
    "n=100\n",
    "sum=0\n",
    "counter=1\n",
    "while counter<=n:\n",
    "    sum=sum+counter\n",
    "    counter+=1\n",
    "print(\"1 到 %d 之和为: %d\" % (n,sum))"
   ]
  },
  {
   "cell_type": "code",
   "execution_count": 4,
   "metadata": {},
   "outputs": [],
   "source": [
    "def save_grade(name, grade):\n",
    "    grades = open('sample.txt', 'a')\n",
    "    grades.write(f'姓名：{name}\\t成绩：{grade}\\n')\n",
    "    grades.close()"
   ]
  },
  {
   "cell_type": "code",
   "execution_count": 5,
   "metadata": {},
   "outputs": [
    {
     "name": "stdin",
     "output_type": "stream",
     "text": [
      "请输入自己的名字： tom\n",
      "请输入自己的成绩： 55\n"
     ]
    },
    {
     "name": "stdout",
     "output_type": "stream",
     "text": [
      "tom的成绩已经保存\n"
     ]
    },
    {
     "name": "stdin",
     "output_type": "stream",
     "text": [
      "是否继续输入（Y or N） N\n"
     ]
    }
   ],
   "source": [
    "while True:\n",
    "    name = input(\"请输入自己的名字：\")\n",
    "    grade=input(\"请输入自己的成绩：\")\n",
    "    save_grade(name,grade)\n",
    "    print(f'{name}的成绩已经保存')\n",
    "    go_on = input('是否继续输入（Y or N）')\n",
    "    #n=0\n",
    "    if go_on =='Y':\n",
    "        continue\n",
    "    elif go_on == 'N':\n",
    "        break\n",
    "    print('成绩输入结束')"
   ]
  },
  {
   "cell_type": "code",
   "execution_count": 6,
   "metadata": {},
   "outputs": [
    {
     "name": "stdin",
     "output_type": "stream",
     "text": [
      "请输入姓名： 美羊羊\n",
      "请输入成绩： 94\n"
     ]
    },
    {
     "name": "stdout",
     "output_type": "stream",
     "text": [
      "美羊羊的成绩已保存。\n"
     ]
    },
    {
     "name": "stdin",
     "output_type": "stream",
     "text": [
      "是否继续输入（Y or N）？ ddd\n",
      "2 指令无效，是否继续输入（Y or N）？ aaa\n",
      "3 指令无效，是否继续输入（Y or N）？ N\n"
     ]
    },
    {
     "name": "stdout",
     "output_type": "stream",
     "text": [
      "结束\n"
     ]
    }
   ],
   "source": [
    "while True:\n",
    "    name = input(\"请输入姓名：\")\n",
    "    grade = input('请输入成绩：')\n",
    "    save_grade(name, grade)\n",
    "    print(f'{name}的成绩已保存。')\n",
    "    go_on = input('是否继续输入（Y or N）？')\n",
    "    n = 0\n",
    "    while n < 2:\n",
    "        if go_on == 'Y':\n",
    "            break\n",
    "            n = 0\n",
    "        elif go_on == 'N':\n",
    "            break\n",
    "        else:\n",
    "            n+=1\n",
    "            go_on = input(f'{n + 1} 指令无效，是否继续输入（Y or N）？')\n",
    "    if go_on == 'N' or n == 2:\n",
    "        print('结束')\n",
    "        break"
   ]
  },
  {
   "cell_type": "code",
   "execution_count": 8,
   "metadata": {},
   "outputs": [
    {
     "name": "stdout",
     "output_type": "stream",
     "text": [
      "编号为：1\n",
      "编号为：2\n",
      "编号为：3\n",
      "编号为：4\n",
      "编号为：5\n",
      "水果的种类为：apple\n",
      "水果的种类为：banana\n",
      "水果的种类为：peach\n",
      "水果的种类为：orange\n"
     ]
    }
   ],
   "source": [
    "the_count = [1,2,3,4,5]\n",
    "fruits=['apple','banana','peach','orange']\n",
    "change=[1,'pennies',2,'dimes',3,'quarters']\n",
    "for number in the_count:\n",
    "    print(f\"编号为：{number}\")\n",
    "for fruit in fruits:\n",
    "    print(f\"水果的种类为：{fruit}\")"
   ]
  },
  {
   "cell_type": "code",
   "execution_count": 9,
   "metadata": {},
   "outputs": [
    {
     "name": "stdout",
     "output_type": "stream",
     "text": [
      "I got 1\n",
      "I got pennies\n",
      "I got 2\n",
      "I got dimes\n",
      "I got 3\n",
      "I got quarters\n"
     ]
    }
   ],
   "source": [
    "for i in change:\n",
    "    print(f\"I got {i}\")"
   ]
  },
  {
   "cell_type": "code",
   "execution_count": 10,
   "metadata": {},
   "outputs": [
    {
     "name": "stdout",
     "output_type": "stream",
     "text": [
      "把0加入到list\n",
      "把1加入到list\n",
      "把2加入到list\n",
      "把3加入到list\n",
      "把4加入到list\n",
      "把5加入到list\n",
      "element was 0\n",
      "element was 1\n",
      "element was 2\n",
      "element was 3\n",
      "element was 4\n",
      "element was 5\n"
     ]
    }
   ],
   "source": [
    "elements=[]\n",
    "for i in range(0,6):\n",
    "    print(f\"把{i}加入到list\")\n",
    "    elements.append(i)\n",
    "for i in elements:\n",
    "    print(f\"element was {i}\")"
   ]
  },
  {
   "cell_type": "code",
   "execution_count": 11,
   "metadata": {},
   "outputs": [
    {
     "name": "stdout",
     "output_type": "stream",
     "text": [
      "[0, 1, 2, 3, 4, 5]\n"
     ]
    }
   ],
   "source": [
    "print(elements)"
   ]
  },
  {
   "cell_type": "code",
   "execution_count": 14,
   "metadata": {},
   "outputs": [
    {
     "name": "stdout",
     "output_type": "stream",
     "text": [
      "37\n"
     ]
    }
   ],
   "source": [
    "file = open('number.txt')\n",
    "numbers=file.readlines()\n",
    "sum=0\n",
    "for number in numbers:\n",
    "    number=int(number)\n",
    "    sum+=number\n",
    "print(sum)\n",
    "file.close()\n",
    "    \n"
   ]
  },
  {
   "cell_type": "code",
   "execution_count": 24,
   "metadata": {},
   "outputs": [
    {
     "name": "stdout",
     "output_type": "stream",
     "text": [
      "a\n",
      "不是数字！\n"
     ]
    }
   ],
   "source": [
    "try:\n",
    "    number_file = open('number.txt')\n",
    "    numbers = number_file.readlines()\n",
    "    sum = 0\n",
    "    for number in numbers:\n",
    "        sum += int(number)\n",
    "except TypeError as te:\n",
    "    print(te.args)\n",
    "except ValueError:\n",
    "    print(f'{number}不是数字！')\n",
    "except:\n",
    "    print('未知错误')\n",
    "else:\n",
    "    print(sum)\n",
    "finally:\n",
    "    number_file.close()"
   ]
  },
  {
   "cell_type": "code",
   "execution_count": 26,
   "metadata": {},
   "outputs": [],
   "source": [
    "stu_names=['lily','lucy','amber']\n",
    "with open('stu.txt','w') as file:\n",
    "    for name in stu_names:\n",
    "        file.write(f'{name}签到成功！\\n')\n",
    "    "
   ]
  },
  {
   "cell_type": "code",
   "execution_count": 27,
   "metadata": {},
   "outputs": [
    {
     "ename": "SyntaxError",
     "evalue": "invalid syntax (<ipython-input-27-926971fafbab>, line 1)",
     "output_type": "error",
     "traceback": [
      "\u001b[1;36m  File \u001b[1;32m\"<ipython-input-27-926971fafbab>\"\u001b[1;36m, line \u001b[1;32m1\u001b[0m\n\u001b[1;33m    dictionary={'color':'pink','name':lily''}\u001b[0m\n\u001b[1;37m                                          ^\u001b[0m\n\u001b[1;31mSyntaxError\u001b[0m\u001b[1;31m:\u001b[0m invalid syntax\n"
     ]
    }
   ],
   "source": [
    "dictionary={'color':'pink','name':lily''}\n",
    "print(dictionary['color'])"
   ]
  },
  {
   "cell_type": "code",
   "execution_count": 31,
   "metadata": {},
   "outputs": [
    {
     "name": "stdout",
     "output_type": "stream",
     "text": [
      "pink\n",
      "lily\n"
     ]
    }
   ],
   "source": [
    "dictionary={'color':'pink','name':'lily'}\n",
    "print(dictionary['color'])\n",
    "print(dictionary['name'])\n",
    "\n"
   ]
  },
  {
   "cell_type": "code",
   "execution_count": 32,
   "metadata": {},
   "outputs": [
    {
     "name": "stdout",
     "output_type": "stream",
     "text": [
      "{'color': 'pink', 'name': 'lily', 'grade': 44}\n"
     ]
    }
   ],
   "source": [
    "dictionary['grade']=44\n",
    "print(dictionary)"
   ]
  },
  {
   "cell_type": "code",
   "execution_count": 33,
   "metadata": {},
   "outputs": [
    {
     "name": "stdout",
     "output_type": "stream",
     "text": [
      "{}\n"
     ]
    }
   ],
   "source": [
    "alien={}\n",
    "print(alien)"
   ]
  },
  {
   "cell_type": "code",
   "execution_count": 34,
   "metadata": {},
   "outputs": [
    {
     "name": "stdout",
     "output_type": "stream",
     "text": [
      "{'hhh': 12}\n"
     ]
    }
   ],
   "source": [
    "alien['hhh']=12\n",
    "print(alien)"
   ]
  },
  {
   "cell_type": "markdown",
   "metadata": {},
   "source": [
    "修改字典中的值"
   ]
  },
  {
   "cell_type": "code",
   "execution_count": 35,
   "metadata": {},
   "outputs": [
    {
     "name": "stdout",
     "output_type": "stream",
     "text": [
      "{'hhh': 55}\n"
     ]
    }
   ],
   "source": [
    "alien['hhh']=55\n",
    "print(alien)"
   ]
  },
  {
   "cell_type": "code",
   "execution_count": 36,
   "metadata": {},
   "outputs": [
    {
     "name": "stdout",
     "output_type": "stream",
     "text": [
      "{'color': 55, 'name': 'lily', 'grade': 44}\n"
     ]
    }
   ],
   "source": [
    "dic={'color': 'pink', 'name': 'lily', 'grade': 44}\n",
    "dic['color']=55\n",
    "print(dic)"
   ]
  },
  {
   "cell_type": "code",
   "execution_count": 37,
   "metadata": {},
   "outputs": [
    {
     "name": "stdout",
     "output_type": "stream",
     "text": [
      "{'name': 'lily', 'grade': 44}\n"
     ]
    }
   ],
   "source": [
    "del dic['color']\n",
    "print(dic)"
   ]
  },
  {
   "cell_type": "code",
   "execution_count": 40,
   "metadata": {},
   "outputs": [
    {
     "name": "stdout",
     "output_type": "stream",
     "text": [
      "Sarah's favorite language is c.\n"
     ]
    }
   ],
   "source": [
    "favorite_languages = {'jen': 'python','sarah': 'c','edward': 'ruby','phil': 'python'}\n",
    "print(\"Sarah's favorite language is \" + favorite_languages['sarah']+  \".\")"
   ]
  },
  {
   "cell_type": "code",
   "execution_count": 43,
   "metadata": {},
   "outputs": [
    {
     "name": "stdout",
     "output_type": "stream",
     "text": [
      "\n",
      "Key:username\n",
      "\n",
      "Value:efermi\n",
      "\n",
      "Key:first\n",
      "\n",
      "Value:enrico\n",
      "\n",
      "Key:last\n",
      "\n",
      "Value:fermi\n"
     ]
    }
   ],
   "source": [
    "user_0 = {'username': 'efermi','first': 'enrico','last': 'fermi'}\n",
    "for k, v in user_0.items():\n",
    "    print(\"\\nKey:\"+k)\n",
    "    print(\"\\nValue:\"+v)\n"
   ]
  },
  {
   "cell_type": "code",
   "execution_count": 44,
   "metadata": {},
   "outputs": [
    {
     "name": "stdout",
     "output_type": "stream",
     "text": [
      "Jen's favorite language is Python.\n",
      "Sarah's favorite language is C.\n",
      "Edward's favorite language is Ruby.\n",
      "Phil's favorite language is Python.\n"
     ]
    }
   ],
   "source": [
    "languages = {\n",
    "'jen': 'python',\n",
    "'sarah': 'c',\n",
    "'edward': 'ruby',\n",
    "'phil': 'python',\n",
    "}\n",
    "for name, language in languages.items(): \n",
    "    print(name.title() + \"'s favorite language is \" + language.title() + \".\")"
   ]
  },
  {
   "cell_type": "code",
   "execution_count": 45,
   "metadata": {},
   "outputs": [
    {
     "name": "stdout",
     "output_type": "stream",
     "text": [
      "python\n",
      "c\n",
      "ruby\n",
      "python\n"
     ]
    }
   ],
   "source": [
    "for langu in languages.values():\n",
    "    print(langu)"
   ]
  },
  {
   "cell_type": "raw",
   "metadata": {},
   "source": [
    "剔除重复项"
   ]
  },
  {
   "cell_type": "code",
   "execution_count": 47,
   "metadata": {},
   "outputs": [
    {
     "name": "stdout",
     "output_type": "stream",
     "text": [
      "Python\n",
      "C\n",
      "Ruby\n"
     ]
    }
   ],
   "source": [
    "languages = {\n",
    "'jen': 'python',\n",
    "'sarah': 'c',\n",
    "'edward': 'ruby',\n",
    "'phil': 'python',\n",
    "}\n",
    "for language in set(languages.values()):\n",
    "    print(language.title())"
   ]
  },
  {
   "cell_type": "code",
   "execution_count": null,
   "metadata": {},
   "outputs": [],
   "source": []
  }
 ],
 "metadata": {
  "kernelspec": {
   "display_name": "Python 3",
   "language": "python",
   "name": "python3"
  },
  "language_info": {
   "codemirror_mode": {
    "name": "ipython",
    "version": 3
   },
   "file_extension": ".py",
   "mimetype": "text/x-python",
   "name": "python",
   "nbconvert_exporter": "python",
   "pygments_lexer": "ipython3",
   "version": "3.8.3"
  }
 },
 "nbformat": 4,
 "nbformat_minor": 4
}
