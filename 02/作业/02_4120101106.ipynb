{
 "cells": [
  {
   "cell_type": "code",
   "execution_count": 3,
   "metadata": {},
   "outputs": [
    {
     "data": {
      "text/plain": [
       "'E:\\\\anaconda3\\\\python.exe'"
      ]
     },
     "execution_count": 3,
     "metadata": {},
     "output_type": "execute_result"
    }
   ],
   "source": [
    "import sys\n",
    "sys.executable"
   ]
  },
  {
   "cell_type": "code",
   "execution_count": 4,
   "metadata": {},
   "outputs": [
    {
     "data": {
      "text/plain": [
       "['E:\\\\anaconda3\\\\lib\\\\site-packages\\\\ipykernel_launcher.py',\n",
       " '-f',\n",
       " 'C:\\\\Users\\\\lenovo\\\\AppData\\\\Roaming\\\\jupyter\\\\runtime\\\\kernel-72da38a4-231f-42ff-b21b-70b2e0a0d537.json']"
      ]
     },
     "execution_count": 4,
     "metadata": {},
     "output_type": "execute_result"
    }
   ],
   "source": [
    "sys.argv"
   ]
  },
  {
   "cell_type": "code",
   "execution_count": 5,
   "metadata": {},
   "outputs": [
    {
     "name": "stdout",
     "output_type": "stream",
     "text": [
      "\n",
      "Note: you may need to restart the kernel to use updated packages.\n"
     ]
    }
   ],
   "source": [
    "conda config"
   ]
  },
  {
   "cell_type": "code",
   "execution_count": 6,
   "metadata": {},
   "outputs": [
    {
     "ename": "NameError",
     "evalue": "name 'hello' is not defined",
     "output_type": "error",
     "traceback": [
      "\u001b[1;31m---------------------------------------------------------------------------\u001b[0m",
      "\u001b[1;31mNameError\u001b[0m                                 Traceback (most recent call last)",
      "\u001b[1;32m<ipython-input-6-7e72b4372bf1>\u001b[0m in \u001b[0;36m<module>\u001b[1;34m\u001b[0m\n\u001b[0;32m      1\u001b[0m \u001b[1;32mdef\u001b[0m \u001b[0msay\u001b[0m\u001b[1;33m(\u001b[0m\u001b[0mwords\u001b[0m\u001b[1;33m)\u001b[0m\u001b[1;33m:\u001b[0m\u001b[1;33m\u001b[0m\u001b[1;33m\u001b[0m\u001b[0m\n\u001b[0;32m      2\u001b[0m     \u001b[0mprint\u001b[0m\u001b[1;33m(\u001b[0m\u001b[1;34mf'xiaoming say {words}'\u001b[0m\u001b[1;33m)\u001b[0m\u001b[1;33m\u001b[0m\u001b[1;33m\u001b[0m\u001b[0m\n\u001b[1;32m----> 3\u001b[1;33m \u001b[0msay\u001b[0m \u001b[1;33m(\u001b[0m\u001b[0mhello\u001b[0m\u001b[1;33m)\u001b[0m\u001b[1;33m\u001b[0m\u001b[1;33m\u001b[0m\u001b[0m\n\u001b[0m",
      "\u001b[1;31mNameError\u001b[0m: name 'hello' is not defined"
     ]
    }
   ],
   "source": [
    "def say(words):\n",
    "    print(f'xiaoming say {words}')\n",
    "say (hello)"
   ]
  },
  {
   "cell_type": "code",
   "execution_count": 7,
   "metadata": {},
   "outputs": [
    {
     "name": "stdout",
     "output_type": "stream",
     "text": [
      "xiaoming say hello\n"
     ]
    }
   ],
   "source": [
    "say('hello')"
   ]
  },
  {
   "cell_type": "code",
   "execution_count": 8,
   "metadata": {},
   "outputs": [],
   "source": [
    "def print_two(*args):\n",
    "    arg1,arg2 = args\n",
    "    print(f'arg1:{arg1},arg2:{arg2}')"
   ]
  },
  {
   "cell_type": "code",
   "execution_count": 9,
   "metadata": {},
   "outputs": [
    {
     "name": "stdout",
     "output_type": "stream",
     "text": [
      "arg1:tom,arg2:tim\n"
     ]
    }
   ],
   "source": [
    "print_two('tom','tim')"
   ]
  },
  {
   "cell_type": "code",
   "execution_count": 10,
   "metadata": {},
   "outputs": [],
   "source": [
    "def cheese_and_crackers(cheese_count, boxes_of_crackers):\n",
    "    print(f\"You have {cheese_count} cheeses!\")\n",
    "    print(f\"You have {boxes_of_crackers} boxes of crackers!\")\n",
    "    print(\"Man that's enough for a party!\")\n",
    "    print(\"Get a blanket.\\n\")"
   ]
  },
  {
   "cell_type": "code",
   "execution_count": 11,
   "metadata": {},
   "outputs": [
    {
     "name": "stdout",
     "output_type": "stream",
     "text": [
      "We can just give the function numbers directly:\n",
      "You have 20 cheeses!\n",
      "You have 30 boxes of crackers!\n",
      "Man that's enough for a party!\n",
      "Get a blanket.\n",
      "\n"
     ]
    }
   ],
   "source": [
    "print(\"We can just give the function numbers directly:\")\n",
    "cheese_and_crackers(20, 30)"
   ]
  },
  {
   "cell_type": "code",
   "execution_count": 12,
   "metadata": {},
   "outputs": [
    {
     "name": "stdout",
     "output_type": "stream",
     "text": [
      "And we can combine the two, variables and math:\n",
      "You have 110 cheeses!\n",
      "You have 1050 boxes of crackers!\n",
      "Man that's enough for a party!\n",
      "Get a blanket.\n",
      "\n"
     ]
    }
   ],
   "source": [
    "amount_of_cheese = 10\n",
    "amount_of_crackers = 50\n",
    "print(\"And we can combine the two, variables and math:\")\n",
    "cheese_and_crackers(amount_of_cheese + 100, amount_of_crackers + 1000)"
   ]
  },
  {
   "cell_type": "code",
   "execution_count": 13,
   "metadata": {},
   "outputs": [
    {
     "ename": "FileNotFoundError",
     "evalue": "[Errno 2] No such file or directory: 'sample.txt'",
     "output_type": "error",
     "traceback": [
      "\u001b[1;31m---------------------------------------------------------------------------\u001b[0m",
      "\u001b[1;31mFileNotFoundError\u001b[0m                         Traceback (most recent call last)",
      "\u001b[1;32m<ipython-input-13-e925d175147d>\u001b[0m in \u001b[0;36m<module>\u001b[1;34m\u001b[0m\n\u001b[0;32m      1\u001b[0m \u001b[0mfilename\u001b[0m \u001b[1;33m=\u001b[0m \u001b[1;34m'sample.txt'\u001b[0m\u001b[1;33m\u001b[0m\u001b[1;33m\u001b[0m\u001b[0m\n\u001b[1;32m----> 2\u001b[1;33m \u001b[0mtxt\u001b[0m \u001b[1;33m=\u001b[0m \u001b[0mopen\u001b[0m\u001b[1;33m(\u001b[0m\u001b[0mfilename\u001b[0m\u001b[1;33m)\u001b[0m\u001b[1;33m\u001b[0m\u001b[1;33m\u001b[0m\u001b[0m\n\u001b[0m\u001b[0;32m      3\u001b[0m \u001b[1;33m\u001b[0m\u001b[0m\n\u001b[0;32m      4\u001b[0m \u001b[0mprint\u001b[0m\u001b[1;33m(\u001b[0m\u001b[1;34mf\"Here's your file {filename}:\"\u001b[0m\u001b[1;33m)\u001b[0m\u001b[1;33m\u001b[0m\u001b[1;33m\u001b[0m\u001b[0m\n\u001b[0;32m      5\u001b[0m \u001b[0mprint\u001b[0m\u001b[1;33m(\u001b[0m\u001b[0mtxt\u001b[0m\u001b[1;33m.\u001b[0m\u001b[0mread\u001b[0m\u001b[1;33m(\u001b[0m\u001b[1;33m)\u001b[0m\u001b[1;33m)\u001b[0m\u001b[1;33m\u001b[0m\u001b[1;33m\u001b[0m\u001b[0m\n",
      "\u001b[1;31mFileNotFoundError\u001b[0m: [Errno 2] No such file or directory: 'sample.txt'"
     ]
    }
   ],
   "source": [
    "filename = 'sample.txt'\n",
    "txt = open(filename)\n",
    "\n",
    "print(f\"Here's your file {filename}:\")\n",
    "print(txt.read())\n",
    "txt.close()"
   ]
  },
  {
   "cell_type": "code",
   "execution_count": 14,
   "metadata": {},
   "outputs": [
    {
     "name": "stdout",
     "output_type": "stream",
     "text": [
      "Here's your file sample.txt:\n"
     ]
    },
    {
     "ename": "UnicodeDecodeError",
     "evalue": "'gbk' codec can't decode byte 0x81 in position 13: illegal multibyte sequence",
     "output_type": "error",
     "traceback": [
      "\u001b[1;31m---------------------------------------------------------------------------\u001b[0m",
      "\u001b[1;31mUnicodeDecodeError\u001b[0m                        Traceback (most recent call last)",
      "\u001b[1;32m<ipython-input-14-e925d175147d>\u001b[0m in \u001b[0;36m<module>\u001b[1;34m\u001b[0m\n\u001b[0;32m      3\u001b[0m \u001b[1;33m\u001b[0m\u001b[0m\n\u001b[0;32m      4\u001b[0m \u001b[0mprint\u001b[0m\u001b[1;33m(\u001b[0m\u001b[1;34mf\"Here's your file {filename}:\"\u001b[0m\u001b[1;33m)\u001b[0m\u001b[1;33m\u001b[0m\u001b[1;33m\u001b[0m\u001b[0m\n\u001b[1;32m----> 5\u001b[1;33m \u001b[0mprint\u001b[0m\u001b[1;33m(\u001b[0m\u001b[0mtxt\u001b[0m\u001b[1;33m.\u001b[0m\u001b[0mread\u001b[0m\u001b[1;33m(\u001b[0m\u001b[1;33m)\u001b[0m\u001b[1;33m)\u001b[0m\u001b[1;33m\u001b[0m\u001b[1;33m\u001b[0m\u001b[0m\n\u001b[0m\u001b[0;32m      6\u001b[0m \u001b[0mtxt\u001b[0m\u001b[1;33m.\u001b[0m\u001b[0mclose\u001b[0m\u001b[1;33m(\u001b[0m\u001b[1;33m)\u001b[0m\u001b[1;33m\u001b[0m\u001b[1;33m\u001b[0m\u001b[0m\n",
      "\u001b[1;31mUnicodeDecodeError\u001b[0m: 'gbk' codec can't decode byte 0x81 in position 13: illegal multibyte sequence"
     ]
    }
   ],
   "source": [
    "filename = 'sample.txt'\n",
    "txt = open(filename)\n",
    "\n",
    "print(f\"Here's your file {filename}:\")\n",
    "print(txt.read())\n",
    "txt.close()"
   ]
  },
  {
   "cell_type": "code",
   "execution_count": 15,
   "metadata": {},
   "outputs": [
    {
     "ename": "SyntaxError",
     "evalue": "invalid syntax (<ipython-input-15-462dffb0945f>, line 2)",
     "output_type": "error",
     "traceback": [
      "\u001b[1;36m  File \u001b[1;32m\"<ipython-input-15-462dffb0945f>\"\u001b[1;36m, line \u001b[1;32m2\u001b[0m\n\u001b[1;33m    txt = open(filename.'encoding=UTF-8')\u001b[0m\n\u001b[1;37m                        ^\u001b[0m\n\u001b[1;31mSyntaxError\u001b[0m\u001b[1;31m:\u001b[0m invalid syntax\n"
     ]
    }
   ],
   "source": [
    "filename = 'sample.txt'\n",
    "txt = open(filename.'encoding=UTF-8')\n",
    "\n",
    "print(f\"Here's your file {filename}:\")\n",
    "print(txt.read())\n",
    "txt.close()"
   ]
  },
  {
   "cell_type": "code",
   "execution_count": 16,
   "metadata": {},
   "outputs": [
    {
     "ename": "SyntaxError",
     "evalue": "expression cannot contain assignment, perhaps you meant \"==\"? (<ipython-input-16-8bc615216784>, line 2)",
     "output_type": "error",
     "traceback": [
      "\u001b[1;36m  File \u001b[1;32m\"<ipython-input-16-8bc615216784>\"\u001b[1;36m, line \u001b[1;32m2\u001b[0m\n\u001b[1;33m    txt = open(filename.encoding='UTF-8')\u001b[0m\n\u001b[1;37m               ^\u001b[0m\n\u001b[1;31mSyntaxError\u001b[0m\u001b[1;31m:\u001b[0m expression cannot contain assignment, perhaps you meant \"==\"?\n"
     ]
    }
   ],
   "source": [
    "filename = 'sample.txt'\n",
    "txt = open(filename.encoding='UTF-8')\n",
    "\n",
    "print(f\"Here's your file {filename}:\")\n",
    "print(txt.read())\n",
    "txt.close()"
   ]
  },
  {
   "cell_type": "code",
   "execution_count": 17,
   "metadata": {},
   "outputs": [
    {
     "name": "stdout",
     "output_type": "stream",
     "text": [
      "Here's your file sample.txt:\n",
      "Lily 签到！\n",
      "Lucy 签到！\n",
      "Han Meimei 签到！\n",
      "\n"
     ]
    }
   ],
   "source": [
    "filename = 'sample.txt'\n",
    "txt = open(filename,encoding='UTF-8')\n",
    "\n",
    "print(f\"Here's your file {filename}:\")\n",
    "print(txt.read())\n",
    "txt.close()"
   ]
  },
  {
   "cell_type": "code",
   "execution_count": 18,
   "metadata": {},
   "outputs": [
    {
     "ename": "FileNotFoundError",
     "evalue": "[Errno 2] No such file or directory: 'sample.txt'",
     "output_type": "error",
     "traceback": [
      "\u001b[1;31m---------------------------------------------------------------------------\u001b[0m",
      "\u001b[1;31mFileNotFoundError\u001b[0m                         Traceback (most recent call last)",
      "\u001b[1;32m<ipython-input-18-005fd05276ee>\u001b[0m in \u001b[0;36m<module>\u001b[1;34m\u001b[0m\n\u001b[0;32m      1\u001b[0m \u001b[0mfilename\u001b[0m \u001b[1;33m=\u001b[0m \u001b[1;34m'sample.txt'\u001b[0m\u001b[1;33m\u001b[0m\u001b[1;33m\u001b[0m\u001b[0m\n\u001b[1;32m----> 2\u001b[1;33m \u001b[0mtxt\u001b[0m \u001b[1;33m=\u001b[0m \u001b[0mopen\u001b[0m\u001b[1;33m(\u001b[0m\u001b[0mfilename\u001b[0m\u001b[1;33m,\u001b[0m\u001b[0mencoding\u001b[0m\u001b[1;33m=\u001b[0m\u001b[1;34m'UTF-8'\u001b[0m\u001b[1;33m)\u001b[0m\u001b[1;33m\u001b[0m\u001b[1;33m\u001b[0m\u001b[0m\n\u001b[0m\u001b[0;32m      3\u001b[0m \u001b[1;33m\u001b[0m\u001b[0m\n\u001b[0;32m      4\u001b[0m \u001b[0mprint\u001b[0m\u001b[1;33m(\u001b[0m\u001b[1;34mf\"Here's your file {filename}:\"\u001b[0m\u001b[1;33m)\u001b[0m\u001b[1;33m\u001b[0m\u001b[1;33m\u001b[0m\u001b[0m\n\u001b[0;32m      5\u001b[0m \u001b[0mprint\u001b[0m\u001b[1;33m(\u001b[0m\u001b[0mtxt\u001b[0m\u001b[1;33m.\u001b[0m\u001b[0mread\u001b[0m\u001b[1;33m(\u001b[0m\u001b[1;33m)\u001b[0m\u001b[1;33m)\u001b[0m\u001b[1;33m\u001b[0m\u001b[1;33m\u001b[0m\u001b[0m\n",
      "\u001b[1;31mFileNotFoundError\u001b[0m: [Errno 2] No such file or directory: 'sample.txt'"
     ]
    }
   ],
   "source": [
    "filename = 'sample.txt'\n",
    "txt = open(filename,encoding='UTF-8')\n",
    "\n",
    "print(f\"Here's your file {filename}:\")\n",
    "print(txt.read())\n",
    "txt.close()"
   ]
  },
  {
   "cell_type": "code",
   "execution_count": 1,
   "metadata": {},
   "outputs": [
    {
     "name": "stdout",
     "output_type": "stream",
     "text": [
      "157\n"
     ]
    }
   ],
   "source": [
    "a = '1'\n",
    "b = '5'\n",
    "c = '7'\n",
    "e = a+b+c\n",
    "print(e)"
   ]
  },
  {
   "cell_type": "code",
   "execution_count": 2,
   "metadata": {},
   "outputs": [
    {
     "ename": "TypeError",
     "evalue": "can only concatenate str (not \"int\") to str",
     "output_type": "error",
     "traceback": [
      "\u001b[1;31m---------------------------------------------------------------------------\u001b[0m",
      "\u001b[1;31mTypeError\u001b[0m                                 Traceback (most recent call last)",
      "\u001b[1;32m<ipython-input-2-3d84a4fcc7c9>\u001b[0m in \u001b[0;36m<module>\u001b[1;34m\u001b[0m\n\u001b[1;32m----> 1\u001b[1;33m \u001b[0mprint\u001b[0m\u001b[1;33m(\u001b[0m\u001b[0me\u001b[0m\u001b[1;33m+\u001b[0m\u001b[1;36m2\u001b[0m\u001b[1;33m)\u001b[0m\u001b[1;33m\u001b[0m\u001b[1;33m\u001b[0m\u001b[0m\n\u001b[0m",
      "\u001b[1;31mTypeError\u001b[0m: can only concatenate str (not \"int\") to str"
     ]
    }
   ],
   "source": [
    "print(e+2)"
   ]
  },
  {
   "cell_type": "code",
   "execution_count": 3,
   "metadata": {},
   "outputs": [],
   "source": [
    "f = int(a)+int(b)+int(c)"
   ]
  },
  {
   "cell_type": "code",
   "execution_count": 4,
   "metadata": {},
   "outputs": [
    {
     "data": {
      "text/plain": [
       "13"
      ]
     },
     "execution_count": 4,
     "metadata": {},
     "output_type": "execute_result"
    }
   ],
   "source": [
    "f"
   ]
  },
  {
   "cell_type": "code",
   "execution_count": 5,
   "metadata": {},
   "outputs": [
    {
     "name": "stdout",
     "output_type": "stream",
     "text": [
      "159\n"
     ]
    }
   ],
   "source": [
    "print(int(e)+2)"
   ]
  },
  {
   "cell_type": "code",
   "execution_count": 8,
   "metadata": {},
   "outputs": [
    {
     "name": "stdout",
     "output_type": "stream",
     "text": [
      "Lily 签到！\n",
      "Lucy 签到！\n",
      "Han Meimei 签到！\n",
      "\n"
     ]
    }
   ],
   "source": [
    "filament = 'sample.txt'\n",
    "t = open(filament,encoding='UTF=8')\n",
    "print(t.read())\n",
    "t.close()"
   ]
  },
  {
   "cell_type": "code",
   "execution_count": 9,
   "metadata": {},
   "outputs": [
    {
     "name": "stdout",
     "output_type": "stream",
     "text": [
      "truncating the file\n"
     ]
    }
   ],
   "source": [
    "target = open(filament,'w')\n",
    "print('truncating the file')"
   ]
  },
  {
   "cell_type": "code",
   "execution_count": 10,
   "metadata": {},
   "outputs": [
    {
     "name": "stdout",
     "output_type": "stream",
     "text": [
      "Now I'm going to ask you for three lines.\n",
      "line 1: kang\n",
      "line 2: zhang\n",
      "line 3: wang\n",
      "I'm going to write these to the file.\n",
      "And finally, we close it.\n"
     ]
    }
   ],
   "source": [
    "print(\"Now I'm going to ask you for three lines.\")\n",
    "\n",
    "line1 = input(\"line 1: \")\n",
    "line2 = input(\"line 2: \")\n",
    "line3 = input(\"line 3: \")\n",
    "\n",
    "print(\"I'm going to write these to the file.\")\n",
    "\n",
    "target.write(line1)\n",
    "target.write(\"\\n\")\n",
    "target.write(line2)\n",
    "target.write(\"\\n\")\n",
    "target.write(line3)\n",
    "target.write(\"\\n\")\n",
    "\n",
    "print(\"And finally, we close it.\")\n",
    "target.close()"
   ]
  },
  {
   "cell_type": "code",
   "execution_count": 11,
   "metadata": {},
   "outputs": [
    {
     "name": "stdout",
     "output_type": "stream",
     "text": [
      "kang\n",
      "zhang\n",
      "wang\n",
      "\n"
     ]
    }
   ],
   "source": [
    "filament = 'sample.txt'\n",
    "t = open(filament,encoding='UTF=8')\n",
    "print(t.read())\n",
    "t.close()"
   ]
  },
  {
   "cell_type": "code",
   "execution_count": 15,
   "metadata": {},
   "outputs": [],
   "source": [
    "xingming = open('sample.txt','w')\n",
    "xingming.write('xiao')\n",
    "xingming.write('\\n')\n",
    "xingming.write('\\tzhong\\n')\n",
    "xingming.write('ali')\n",
    "xingming.close()"
   ]
  },
  {
   "cell_type": "code",
   "execution_count": 1,
   "metadata": {},
   "outputs": [
    {
     "ename": "TypeError",
     "evalue": "not enough arguments for format string",
     "output_type": "error",
     "traceback": [
      "\u001b[1;31m---------------------------------------------------------------------------\u001b[0m",
      "\u001b[1;31mTypeError\u001b[0m                                 Traceback (most recent call last)",
      "\u001b[1;32m<ipython-input-1-5ed941682a0e>\u001b[0m in \u001b[0;36m<module>\u001b[1;34m\u001b[0m\n\u001b[0;32m      1\u001b[0m \u001b[0mname\u001b[0m \u001b[1;33m=\u001b[0m \u001b[1;34m'tom'\u001b[0m\u001b[1;33m\u001b[0m\u001b[1;33m\u001b[0m\u001b[0m\n\u001b[1;32m----> 2\u001b[1;33m \u001b[0mprint\u001b[0m\u001b[1;33m(\u001b[0m\u001b[1;34m'%s is %s'\u001b[0m\u001b[1;33m%\u001b[0m\u001b[0mname\u001b[0m\u001b[1;33m)\u001b[0m\u001b[1;33m\u001b[0m\u001b[1;33m\u001b[0m\u001b[0m\n\u001b[0m",
      "\u001b[1;31mTypeError\u001b[0m: not enough arguments for format string"
     ]
    }
   ],
   "source": [
    "name = 'tom'\n",
    "print('%s is %s'%name)"
   ]
  },
  {
   "cell_type": "code",
   "execution_count": 2,
   "metadata": {},
   "outputs": [
    {
     "name": "stdout",
     "output_type": "stream",
     "text": [
      "tom is tom\n"
     ]
    }
   ],
   "source": [
    "name = 'tom'\n",
    "print('%s is %s'%(name,name))"
   ]
  },
  {
   "cell_type": "code",
   "execution_count": 3,
   "metadata": {},
   "outputs": [
    {
     "name": "stdout",
     "output_type": "stream",
     "text": [
      "Tom is Tom\n"
     ]
    }
   ],
   "source": [
    "name = 'tom'\n",
    "print('%s is %s'%(name.title(),name.title()))"
   ]
  },
  {
   "cell_type": "code",
   "execution_count": 4,
   "metadata": {},
   "outputs": [
    {
     "name": "stdout",
     "output_type": "stream",
     "text": [
      "Tom is not Anna\n"
     ]
    }
   ],
   "source": [
    "name0 = 'anna'\n",
    "print('%s is not %s'%(name.title(),name0.title()))"
   ]
  },
  {
   "cell_type": "code",
   "execution_count": 6,
   "metadata": {},
   "outputs": [
    {
     "name": "stdout",
     "output_type": "stream",
     "text": [
      "xiao\n",
      "\tzhong\n",
      "ali\n"
     ]
    }
   ],
   "source": [
    "file = open('sample.txt')\n",
    "print(file.read())\n",
    "file.close()"
   ]
  },
  {
   "cell_type": "code",
   "execution_count": 9,
   "metadata": {},
   "outputs": [
    {
     "name": "stdout",
     "output_type": "stream",
     "text": [
      "messi\n",
      "ronaldo\n",
      "fati\n",
      "\n"
     ]
    }
   ],
   "source": [
    "change = open('sample.txt','w')\n",
    "change.write('messi\\n')\n",
    "change.write('ronaldo\\n')\n",
    "change.write('fati\\n')\n",
    "change.close()\n",
    "change = open('sample.txt')\n",
    "print(change.read())\n",
    "change.close()"
   ]
  },
  {
   "cell_type": "code",
   "execution_count": 13,
   "metadata": {},
   "outputs": [
    {
     "name": "stdout",
     "output_type": "stream",
     "text": [
      "messi\n",
      "ronaldo\n",
      "fati\n",
      "ansu\n",
      "kobe\n",
      "jamsansu\n",
      "kobe\n",
      "jams\n"
     ]
    }
   ],
   "source": [
    "change = open('sample.txt','a')\n",
    "change.write('ansu\\n')\n",
    "change.write('kobe\\n')\n",
    "change.write('jams')\n",
    "change.close()\n",
    "change = open('sample.txt')\n",
    "print(change.read())\n",
    "change.close()"
   ]
  },
  {
   "cell_type": "code",
   "execution_count": 16,
   "metadata": {},
   "outputs": [],
   "source": [
    "def save_grade(name,grade):\n",
    "    save_grade = open('sample.txt','a')\n",
    "    save_grade.write(f'姓名{name}:\\t成绩{grade}\\n')\n",
    "    save_grade.close()"
   ]
  },
  {
   "cell_type": "code",
   "execution_count": 20,
   "metadata": {},
   "outputs": [
    {
     "name": "stdout",
     "output_type": "stream",
     "text": [
      "请输入姓名：kang\n",
      "请输入成绩:99\n",
      "是否继续录入？（yes/no）\n",
      "请按要求输入\n",
      "请输入姓名：liang\n",
      "请输入成绩:88\n",
      "是否继续录入？（yes/no）ye\n",
      "请按要求输入\n",
      "请输入姓名：wang\n",
      "请输入成绩:77\n",
      "是否继续录入？（yes/no）yes\n",
      "请输入姓名：jun\n",
      "请输入成绩:66\n",
      "是否继续录入？（yes/no）yes\n",
      "请输入姓名：wu\n",
      "请输入成绩:55\n",
      "是否继续录入？（yes/no）no\n",
      "录入完毕\n",
      "\n",
      "姓名kang:\t成绩99\n",
      "姓名liang:\t成绩88\n",
      "姓名wang:\t成绩77\n",
      "姓名jun:\t成绩66\n",
      "姓名wu:\t成绩55\n",
      "\n"
     ]
    }
   ],
   "source": [
    "clear = open('sample.txt','w')\n",
    "clear.write(\"\\n\")\n",
    "clear.close()\n",
    "while True:\n",
    "    name = input('请输入姓名：')\n",
    "    grade = input('请输入成绩:')\n",
    "    save_grade(name,grade)\n",
    "    go_on = input('是否继续录入？（yes/no）')\n",
    "    if go_on == 'yes':\n",
    "        continue\n",
    "    if go_on == 'no':\n",
    "        break\n",
    "    else:\n",
    "        print('请按要求输入')\n",
    "print('录入完毕')\n",
    "txt = open('sample.txt')\n",
    "print(txt.read())\n",
    "txt.close()"
   ]
  },
  {
   "cell_type": "code",
   "execution_count": 12,
   "metadata": {},
   "outputs": [
    {
     "name": "stdout",
     "output_type": "stream",
     "text": [
      "输入被除数：9\n",
      "输入除数：0.1\n",
      "程序发生了数字格式异常、算术异常之一\n",
      "程序继续运行\n"
     ]
    }
   ],
   "source": [
    "try:\n",
    "    a = int(input(\"输入被除数：\"))\n",
    "    b = int(input(\"输入除数：\"))\n",
    "    c = a / b\n",
    "    print(\"您输入的两个数相除的结果是：\", c )\n",
    "except (ValueError, ArithmeticError):\n",
    "    print(\"程序发生了数字格式异常、算术异常之一\")\n",
    "except :\n",
    "    print(\"未知异常\")\n",
    "print(\"程序继续运行\")"
   ]
  },
  {
   "cell_type": "code",
   "execution_count": 15,
   "metadata": {},
   "outputs": [
    {
     "name": "stdout",
     "output_type": "stream",
     "text": [
      "Lily 签到！\n",
      "Lucy 签到！\n",
      "Han Meimei 签到！\n",
      "\n"
     ]
    }
   ],
   "source": [
    "with open('sample.txt',encoding=\"UTF=8\") as txt:\n",
    "    print(txt.read())"
   ]
  },
  {
   "cell_type": "code",
   "execution_count": 29,
   "metadata": {},
   "outputs": [
    {
     "name": "stdout",
     "output_type": "stream",
     "text": [
      "1\n"
     ]
    }
   ],
   "source": [
    "msg_inner = 1\n",
    "def test():\n",
    "    msg_inner = 'I am a local variable.'\n",
    "    msg_inner\n",
    "test()\n",
    "print(msg_inner)"
   ]
  },
  {
   "cell_type": "code",
   "execution_count": 21,
   "metadata": {},
   "outputs": [
    {
     "data": {
      "text/plain": [
       "1"
      ]
     },
     "execution_count": 21,
     "metadata": {},
     "output_type": "execute_result"
    }
   ],
   "source": [
    "a = 1\n",
    "a"
   ]
  },
  {
   "cell_type": "code",
   "execution_count": 23,
   "metadata": {},
   "outputs": [
    {
     "name": "stdout",
     "output_type": "stream",
     "text": [
      "1\n"
     ]
    }
   ],
   "source": [
    "a = 10\n",
    "def test():\n",
    "    a = 0\n",
    "    a += 1\n",
    "    print(a)\n",
    "test() "
   ]
  },
  {
   "cell_type": "code",
   "execution_count": 30,
   "metadata": {},
   "outputs": [
    {
     "name": "stdout",
     "output_type": "stream",
     "text": [
      "name:kang\n",
      "age:22\n",
      "weight:68\n",
      "kang\n",
      "22\n",
      "68\n"
     ]
    }
   ],
   "source": [
    "name = input('name:')\n",
    "age = input('age:')\n",
    "weight = input('weight:')\n",
    "info = [name,age,weight]\n",
    "for i in info:\n",
    "    print(i)"
   ]
  },
  {
   "cell_type": "code",
   "execution_count": 31,
   "metadata": {},
   "outputs": [
    {
     "ename": "TypeError",
     "evalue": "list expected at most 1 argument, got 3",
     "output_type": "error",
     "traceback": [
      "\u001b[1;31m---------------------------------------------------------------------------\u001b[0m",
      "\u001b[1;31mTypeError\u001b[0m                                 Traceback (most recent call last)",
      "\u001b[1;32m<ipython-input-31-2da49647926f>\u001b[0m in \u001b[0;36m<module>\u001b[1;34m\u001b[0m\n\u001b[1;32m----> 1\u001b[1;33m \u001b[0mprint\u001b[0m\u001b[1;33m(\u001b[0m\u001b[0mlist\u001b[0m\u001b[1;33m(\u001b[0m\u001b[0mage\u001b[0m\u001b[1;33m,\u001b[0m\u001b[0mname\u001b[0m\u001b[1;33m,\u001b[0m\u001b[0mweight\u001b[0m\u001b[1;33m)\u001b[0m\u001b[1;33m)\u001b[0m\u001b[1;33m\u001b[0m\u001b[1;33m\u001b[0m\u001b[0m\n\u001b[0m",
      "\u001b[1;31mTypeError\u001b[0m: list expected at most 1 argument, got 3"
     ]
    }
   ],
   "source": [
    "print(list(age,name,weight))"
   ]
  },
  {
   "cell_type": "code",
   "execution_count": 32,
   "metadata": {},
   "outputs": [
    {
     "name": "stdout",
     "output_type": "stream",
     "text": [
      "['kang', '22', '68']\n"
     ]
    }
   ],
   "source": [
    "print(info)"
   ]
  },
  {
   "cell_type": "code",
   "execution_count": 33,
   "metadata": {},
   "outputs": [
    {
     "ename": "TypeError",
     "evalue": "unsupported operand type(s) for ** or pow(): 'str' and 'int'",
     "output_type": "error",
     "traceback": [
      "\u001b[1;31m---------------------------------------------------------------------------\u001b[0m",
      "\u001b[1;31mTypeError\u001b[0m                                 Traceback (most recent call last)",
      "\u001b[1;32m<ipython-input-33-9a27c96e7822>\u001b[0m in \u001b[0;36m<module>\u001b[1;34m\u001b[0m\n\u001b[1;32m----> 1\u001b[1;33m \u001b[0msquares\u001b[0m \u001b[1;33m=\u001b[0m \u001b[1;33m[\u001b[0m\u001b[0mi\u001b[0m\u001b[1;33m**\u001b[0m\u001b[1;36m2\u001b[0m \u001b[1;32mfor\u001b[0m \u001b[0mi\u001b[0m \u001b[1;32min\u001b[0m \u001b[0minfo\u001b[0m\u001b[1;33m]\u001b[0m\u001b[1;33m\u001b[0m\u001b[1;33m\u001b[0m\u001b[0m\n\u001b[0m\u001b[0;32m      2\u001b[0m \u001b[0mprint\u001b[0m\u001b[1;33m(\u001b[0m\u001b[0msquares\u001b[0m\u001b[1;33m)\u001b[0m\u001b[1;33m\u001b[0m\u001b[1;33m\u001b[0m\u001b[0m\n",
      "\u001b[1;32m<ipython-input-33-9a27c96e7822>\u001b[0m in \u001b[0;36m<listcomp>\u001b[1;34m(.0)\u001b[0m\n\u001b[1;32m----> 1\u001b[1;33m \u001b[0msquares\u001b[0m \u001b[1;33m=\u001b[0m \u001b[1;33m[\u001b[0m\u001b[0mi\u001b[0m\u001b[1;33m**\u001b[0m\u001b[1;36m2\u001b[0m \u001b[1;32mfor\u001b[0m \u001b[0mi\u001b[0m \u001b[1;32min\u001b[0m \u001b[0minfo\u001b[0m\u001b[1;33m]\u001b[0m\u001b[1;33m\u001b[0m\u001b[1;33m\u001b[0m\u001b[0m\n\u001b[0m\u001b[0;32m      2\u001b[0m \u001b[0mprint\u001b[0m\u001b[1;33m(\u001b[0m\u001b[0msquares\u001b[0m\u001b[1;33m)\u001b[0m\u001b[1;33m\u001b[0m\u001b[1;33m\u001b[0m\u001b[0m\n",
      "\u001b[1;31mTypeError\u001b[0m: unsupported operand type(s) for ** or pow(): 'str' and 'int'"
     ]
    }
   ],
   "source": [
    "squares = [i**2 for i in info]\n",
    "print(squares)"
   ]
  },
  {
   "cell_type": "code",
   "execution_count": 34,
   "metadata": {},
   "outputs": [
    {
     "data": {
      "text/plain": [
       "tuple"
      ]
     },
     "execution_count": 34,
     "metadata": {},
     "output_type": "execute_result"
    }
   ],
   "source": [
    "dimensions = (200,5)\n",
    "type(dimensions)"
   ]
  },
  {
   "cell_type": "code",
   "execution_count": 35,
   "metadata": {},
   "outputs": [
    {
     "ename": "TypeError",
     "evalue": "'tuple' object is not callable",
     "output_type": "error",
     "traceback": [
      "\u001b[1;31m---------------------------------------------------------------------------\u001b[0m",
      "\u001b[1;31mTypeError\u001b[0m                                 Traceback (most recent call last)",
      "\u001b[1;32m<ipython-input-35-7d837e0d9397>\u001b[0m in \u001b[0;36m<module>\u001b[1;34m\u001b[0m\n\u001b[1;32m----> 1\u001b[1;33m \u001b[0mdimensions\u001b[0m\u001b[1;33m(\u001b[0m\u001b[1;36m0\u001b[0m\u001b[1;33m)\u001b[0m\u001b[1;33m\u001b[0m\u001b[1;33m\u001b[0m\u001b[0m\n\u001b[0m",
      "\u001b[1;31mTypeError\u001b[0m: 'tuple' object is not callable"
     ]
    }
   ],
   "source": [
    "dimensions(0)"
   ]
  },
  {
   "cell_type": "code",
   "execution_count": 36,
   "metadata": {},
   "outputs": [
    {
     "data": {
      "text/plain": [
       "200"
      ]
     },
     "execution_count": 36,
     "metadata": {},
     "output_type": "execute_result"
    }
   ],
   "source": [
    "dimensions[0]"
   ]
  },
  {
   "cell_type": "code",
   "execution_count": 37,
   "metadata": {},
   "outputs": [
    {
     "ename": "TypeError",
     "evalue": "'list' object is not callable",
     "output_type": "error",
     "traceback": [
      "\u001b[1;31m---------------------------------------------------------------------------\u001b[0m",
      "\u001b[1;31mTypeError\u001b[0m                                 Traceback (most recent call last)",
      "\u001b[1;32m<ipython-input-37-6f7ce0b2c65d>\u001b[0m in \u001b[0;36m<module>\u001b[1;34m\u001b[0m\n\u001b[1;32m----> 1\u001b[1;33m \u001b[0minfo\u001b[0m\u001b[1;33m(\u001b[0m\u001b[1;36m0\u001b[0m\u001b[1;33m)\u001b[0m\u001b[1;33m\u001b[0m\u001b[1;33m\u001b[0m\u001b[0m\n\u001b[0m",
      "\u001b[1;31mTypeError\u001b[0m: 'list' object is not callable"
     ]
    }
   ],
   "source": [
    "info(0)"
   ]
  },
  {
   "cell_type": "code",
   "execution_count": 38,
   "metadata": {},
   "outputs": [
    {
     "data": {
      "text/plain": [
       "'kang'"
      ]
     },
     "execution_count": 38,
     "metadata": {},
     "output_type": "execute_result"
    }
   ],
   "source": [
    "info[0]"
   ]
  },
  {
   "cell_type": "code",
   "execution_count": 41,
   "metadata": {},
   "outputs": [],
   "source": [
    "def describe_pet(animal_type ='cat', pet_name = 'tom'):\n",
    "    \"\"\"显示宠物的信息\"\"\"\n",
    "    print(\"\\nI have a \" + animal_type + \".\")\n",
    "    print(\"My \" + animal_type + \"'s name is \" + pet_name.title() + \".\")"
   ]
  },
  {
   "cell_type": "code",
   "execution_count": 43,
   "metadata": {},
   "outputs": [
    {
     "name": "stdout",
     "output_type": "stream",
     "text": [
      "\n",
      "I have a cat.\n",
      "My cat's name is Tom.\n"
     ]
    }
   ],
   "source": [
    "describe_pet()"
   ]
  },
  {
   "cell_type": "code",
   "execution_count": 44,
   "metadata": {},
   "outputs": [
    {
     "name": "stdout",
     "output_type": "stream",
     "text": [
      "\n",
      "I have a dog.\n",
      "My dog's name is Job.\n"
     ]
    }
   ],
   "source": [
    "describe_pet('dog','job')"
   ]
  },
  {
   "cell_type": "code",
   "execution_count": 46,
   "metadata": {},
   "outputs": [
    {
     "name": "stdout",
     "output_type": "stream",
     "text": [
      "\n",
      "I have a dog.\n",
      "My dog's name is Job.\n"
     ]
    }
   ],
   "source": [
    "describe_pet(pet_name='job',animal_type=\"dog\")"
   ]
  },
  {
   "cell_type": "code",
   "execution_count": 13,
   "metadata": {},
   "outputs": [
    {
     "name": "stdout",
     "output_type": "stream",
     "text": [
      "步骤如下：\n",
      "\n",
      "1、在Word中打开你需要处理的doc文档；\n",
      "2、键入ALT+F11；\n",
      "\n",
      "3、左边的工程里面有个“Normal”，展开它后有个“模块”节点；\n",
      "\n",
      "4、在这个“模块”节点上点鼠标右键，选择“插入-模块”，这样右边就会出现代码窗口；\n",
      "\n",
      "5、在出现的VBA代码窗口中，粘贴下面的代码；\n",
      "\n",
      "6、按“F5”运行代码；\n"
     ]
    }
   ],
   "source": [
    "file_path = 'F:\\\\test_py.txt'\n",
    "with open(file_path,mode= 'r',encoding = 'UTF-8') as file:\n",
    "    print(file.read())"
   ]
  },
  {
   "cell_type": "code",
   "execution_count": 10,
   "metadata": {},
   "outputs": [
    {
     "name": "stdout",
     "output_type": "stream",
     "text": [
      "步骤如下：\n",
      "\n",
      "\n",
      "\n",
      "1、在Word中打开你需要处理的doc文档；\n",
      "\n",
      "2、键入ALT+F11；\n",
      "\n",
      "\n",
      "\n",
      "3、左边的工程里面有个“Normal”，展开它后有个“模块”节点；\n",
      "\n",
      "\n",
      "\n",
      "4、在这个“模块”节点上点鼠标右键，选择“插入-模块”，这样右边就会出现代码窗口；\n",
      "\n",
      "\n",
      "\n",
      "5、在出现的VBA代码窗口中，粘贴下面的代码；\n",
      "\n",
      "\n",
      "\n",
      "6、按“F5”运行代码；\n"
     ]
    }
   ],
   "source": [
    "file_path = 'F:\\\\test_py.txt'\n",
    "with open(file_path,encoding = 'UTF-8') as file:\n",
    "    for line in file:\n",
    "        print(line)"
   ]
  },
  {
   "cell_type": "code",
   "execution_count": 20,
   "metadata": {},
   "outputs": [
    {
     "name": "stdout",
     "output_type": "stream",
     "text": [
      "步骤如下：\n",
      "\n",
      "1、在Word中打开你需要处理的doc文档；\n",
      "2、键入ALT+F11；\n",
      "\n",
      "3、左边的工程里面有个“Normal”，展开它后有个“模块”节点；\n",
      "\n",
      "4、在这个“模块”节点上点鼠标右键，选择“插入-模块”，这样右边就会出现代码窗口；\n",
      "\n",
      "5、在出现的VBA代码窗口中，粘贴下面的代码；\n",
      "\n",
      "6、按“F5”运行代码；\n"
     ]
    }
   ],
   "source": [
    "file_path = 'F:\\\\测试.txt'\n",
    "with open(file_path,mode= 'r',encoding = 'utf-8') as file:\n",
    "    print(file.read())"
   ]
  },
  {
   "cell_type": "code",
   "execution_count": 3,
   "metadata": {},
   "outputs": [
    {
     "ename": "UnicodeDecodeError",
     "evalue": "'utf-8' codec can't decode byte 0xd0 in position 0: invalid continuation byte",
     "output_type": "error",
     "traceback": [
      "\u001b[1;31m---------------------------------------------------------------------------\u001b[0m",
      "\u001b[1;31mUnicodeDecodeError\u001b[0m                        Traceback (most recent call last)",
      "\u001b[1;32m<ipython-input-3-e5abf6bd66e4>\u001b[0m in \u001b[0;36m<module>\u001b[1;34m\u001b[0m\n\u001b[0;32m      1\u001b[0m \u001b[0mfile_path\u001b[0m \u001b[1;33m=\u001b[0m \u001b[1;34m'F:\\\\测试.doc'\u001b[0m\u001b[1;33m\u001b[0m\u001b[1;33m\u001b[0m\u001b[0m\n\u001b[0;32m      2\u001b[0m \u001b[1;32mwith\u001b[0m \u001b[0mopen\u001b[0m\u001b[1;33m(\u001b[0m\u001b[0mfile_path\u001b[0m\u001b[1;33m,\u001b[0m\u001b[0mmode\u001b[0m\u001b[1;33m=\u001b[0m \u001b[1;34m'r'\u001b[0m\u001b[1;33m,\u001b[0m\u001b[0mencoding\u001b[0m \u001b[1;33m=\u001b[0m \u001b[1;34m'UTF-8'\u001b[0m\u001b[1;33m)\u001b[0m \u001b[1;32mas\u001b[0m \u001b[0mfile\u001b[0m\u001b[1;33m:\u001b[0m\u001b[1;33m\u001b[0m\u001b[1;33m\u001b[0m\u001b[0m\n\u001b[1;32m----> 3\u001b[1;33m     \u001b[0mprint\u001b[0m\u001b[1;33m(\u001b[0m\u001b[0mfile\u001b[0m\u001b[1;33m.\u001b[0m\u001b[0mread\u001b[0m\u001b[1;33m(\u001b[0m\u001b[1;33m)\u001b[0m\u001b[1;33m)\u001b[0m\u001b[1;33m\u001b[0m\u001b[1;33m\u001b[0m\u001b[0m\n\u001b[0m",
      "\u001b[1;32mE:\\anaconda3\\lib\\codecs.py\u001b[0m in \u001b[0;36mdecode\u001b[1;34m(self, input, final)\u001b[0m\n\u001b[0;32m    320\u001b[0m         \u001b[1;31m# decode input (taking the buffer into account)\u001b[0m\u001b[1;33m\u001b[0m\u001b[1;33m\u001b[0m\u001b[1;33m\u001b[0m\u001b[0m\n\u001b[0;32m    321\u001b[0m         \u001b[0mdata\u001b[0m \u001b[1;33m=\u001b[0m \u001b[0mself\u001b[0m\u001b[1;33m.\u001b[0m\u001b[0mbuffer\u001b[0m \u001b[1;33m+\u001b[0m \u001b[0minput\u001b[0m\u001b[1;33m\u001b[0m\u001b[1;33m\u001b[0m\u001b[0m\n\u001b[1;32m--> 322\u001b[1;33m         \u001b[1;33m(\u001b[0m\u001b[0mresult\u001b[0m\u001b[1;33m,\u001b[0m \u001b[0mconsumed\u001b[0m\u001b[1;33m)\u001b[0m \u001b[1;33m=\u001b[0m \u001b[0mself\u001b[0m\u001b[1;33m.\u001b[0m\u001b[0m_buffer_decode\u001b[0m\u001b[1;33m(\u001b[0m\u001b[0mdata\u001b[0m\u001b[1;33m,\u001b[0m \u001b[0mself\u001b[0m\u001b[1;33m.\u001b[0m\u001b[0merrors\u001b[0m\u001b[1;33m,\u001b[0m \u001b[0mfinal\u001b[0m\u001b[1;33m)\u001b[0m\u001b[1;33m\u001b[0m\u001b[1;33m\u001b[0m\u001b[0m\n\u001b[0m\u001b[0;32m    323\u001b[0m         \u001b[1;31m# keep undecoded input until the next call\u001b[0m\u001b[1;33m\u001b[0m\u001b[1;33m\u001b[0m\u001b[1;33m\u001b[0m\u001b[0m\n\u001b[0;32m    324\u001b[0m         \u001b[0mself\u001b[0m\u001b[1;33m.\u001b[0m\u001b[0mbuffer\u001b[0m \u001b[1;33m=\u001b[0m \u001b[0mdata\u001b[0m\u001b[1;33m[\u001b[0m\u001b[0mconsumed\u001b[0m\u001b[1;33m:\u001b[0m\u001b[1;33m]\u001b[0m\u001b[1;33m\u001b[0m\u001b[1;33m\u001b[0m\u001b[0m\n",
      "\u001b[1;31mUnicodeDecodeError\u001b[0m: 'utf-8' codec can't decode byte 0xd0 in position 0: invalid continuation byte"
     ]
    }
   ],
   "source": [
    "file_path = 'F:\\\\测试.doc'\n",
    "with open(file_path,mode= 'r',encoding = 'UTF-8') as file:\n",
    "    print(file.read())"
   ]
  },
  {
   "cell_type": "code",
   "execution_count": 9,
   "metadata": {},
   "outputs": [
    {
     "name": "stdout",
     "output_type": "stream",
     "text": [
      "['步骤如下：', '1、在Word中打开你需要处理的doc文档；', '2、键入ALT+F11；', '3、左边的工程里面有个“Normal”，展开它后有个“模块”节点；', '4、在这个“模块”节点上点鼠标右键，选择“插入-模块”，这样右边就会出现代码窗口；', '5、在出现的VBA代码窗口中，粘贴下面的代码；', '6、按“F5”运行代码；']\n"
     ]
    }
   ],
   "source": [
    "file_path = 'F:\\\\测试.txt'\n",
    "with open(file_path,mode= 'r',encoding = 'utf-8') as file:\n",
    "    txt = file.read()\n",
    "    print(txt.split())"
   ]
  },
  {
   "cell_type": "code",
   "execution_count": 10,
   "metadata": {},
   "outputs": [
    {
     "data": {
      "text/plain": [
       "'如'"
      ]
     },
     "execution_count": 10,
     "metadata": {},
     "output_type": "execute_result"
    }
   ],
   "source": [
    "txt[2]"
   ]
  },
  {
   "cell_type": "code",
   "execution_count": 11,
   "metadata": {},
   "outputs": [
    {
     "data": {
      "text/plain": [
       "'2、键入ALT+F11；'"
      ]
     },
     "execution_count": 11,
     "metadata": {},
     "output_type": "execute_result"
    }
   ],
   "source": [
    "txt.split()[2]"
   ]
  },
  {
   "cell_type": "code",
   "execution_count": 1,
   "metadata": {},
   "outputs": [
    {
     "name": "stdout",
     "output_type": "stream",
     "text": [
      "a = 5\n",
      "b = 2\n",
      "2.5\n",
      "是否继续？(yes/no)no\n"
     ]
    }
   ],
   "source": [
    "a = input('a = ')\n",
    "b = input('b = ')\n",
    "while True:\n",
    "    \n",
    "    try:\n",
    "        c = int(a)/int(b)\n",
    "    except ZeroDivisionError:\n",
    "        print('除数不能为0')\n",
    "    else:\n",
    "        print(c)\n",
    "    go_on = input('是否继续？(yes/no)')\n",
    "    if go_on == 'yes':\n",
    "        \n",
    "        continue\n",
    "    elif go_on == 'no':\n",
    "        break\n",
    "        "
   ]
  },
  {
   "cell_type": "code",
   "execution_count": 2,
   "metadata": {},
   "outputs": [
    {
     "name": "stdout",
     "output_type": "stream",
     "text": [
      "a = 5\n",
      "b = 2\n",
      "2.5\n",
      "是否继续？(yes/no)yes\n",
      "a = 5\n",
      "b = 0\n",
      "除数不能为0\n",
      "是否继续？(yes/no)en\n",
      "a = 5\n",
      "b = 1\n",
      "5.0\n",
      "是否继续？(yes/no)no\n"
     ]
    }
   ],
   "source": [
    "\n",
    "while True:\n",
    "    a = input('a = ')\n",
    "    b = input('b = ')\n",
    "    try:\n",
    "        c = int(a)/int(b)\n",
    "    except ZeroDivisionError:\n",
    "        print('除数不能为0')\n",
    "    else:\n",
    "        print(c)\n",
    "    go_on = input('是否继续？(yes/no)')\n",
    "    if go_on == 'yes':\n",
    "        \n",
    "        continue\n",
    "    elif go_on == 'no':\n",
    "        break"
   ]
  },
  {
   "cell_type": "code",
   "execution_count": 6,
   "metadata": {},
   "outputs": [
    {
     "ename": "ModuleNotFoundError",
     "evalue": "No module named 'docx'",
     "output_type": "error",
     "traceback": [
      "\u001b[1;31m---------------------------------------------------------------------------\u001b[0m",
      "\u001b[1;31mModuleNotFoundError\u001b[0m                       Traceback (most recent call last)",
      "\u001b[1;32m<ipython-input-6-3d20d9bdfc5a>\u001b[0m in \u001b[0;36m<module>\u001b[1;34m\u001b[0m\n\u001b[1;32m----> 1\u001b[1;33m \u001b[1;32mimport\u001b[0m \u001b[0mdocx\u001b[0m\u001b[1;33m\u001b[0m\u001b[1;33m\u001b[0m\u001b[0m\n\u001b[0m\u001b[0;32m      2\u001b[0m \u001b[0mfile_path\u001b[0m \u001b[1;33m=\u001b[0m \u001b[1;34m'F:\\\\测试py.docx'\u001b[0m\u001b[1;33m\u001b[0m\u001b[1;33m\u001b[0m\u001b[0m\n\u001b[0;32m      3\u001b[0m \u001b[1;32mwith\u001b[0m \u001b[0mopen\u001b[0m\u001b[1;33m(\u001b[0m\u001b[0mfile_path\u001b[0m\u001b[1;33m,\u001b[0m\u001b[0mmode\u001b[0m\u001b[1;33m=\u001b[0m \u001b[1;34m'r'\u001b[0m\u001b[1;33m,\u001b[0m\u001b[0mencoding\u001b[0m \u001b[1;33m=\u001b[0m \u001b[1;34m'UTF-8'\u001b[0m\u001b[1;33m)\u001b[0m \u001b[1;32mas\u001b[0m \u001b[0mfile\u001b[0m\u001b[1;33m:\u001b[0m\u001b[1;33m\u001b[0m\u001b[1;33m\u001b[0m\u001b[0m\n\u001b[0;32m      4\u001b[0m     \u001b[0mprint\u001b[0m\u001b[1;33m(\u001b[0m\u001b[0mfile\u001b[0m\u001b[1;33m.\u001b[0m\u001b[0mread\u001b[0m\u001b[1;33m(\u001b[0m\u001b[1;33m)\u001b[0m\u001b[1;33m)\u001b[0m\u001b[1;33m\u001b[0m\u001b[1;33m\u001b[0m\u001b[0m\n",
      "\u001b[1;31mModuleNotFoundError\u001b[0m: No module named 'docx'"
     ]
    }
   ],
   "source": [
    "import docx\n",
    "file_path = 'F:\\\\测试py.docx'\n",
    "with open(file_path,mode= 'r',encoding = 'UTF-8') as file:\n",
    "    print(file.read())"
   ]
  },
  {
   "cell_type": "code",
   "execution_count": 7,
   "metadata": {},
   "outputs": [
    {
     "name": "stdout",
     "output_type": "stream",
     "text": [
      "<!DOCTYPE html><html lang=\"en\"><head><meta charset=\"utf-8\"><meta http-equiv=\"X-UA-Compatible\" content=\"IE=edge\"><meta name=\"viewport\" content=\"width=device-width, user-scalable=no,initial-scale=1.0,maximum-scale=1.0,minimum-scale=1.0,viewport-fit=cover\"><title>GitChat</title><meta name=\"description\" content=\"GitChat 是一款基于微信平台的知识分享产品。通过这款产品我们希望改变IT知识的学习方式。\"><meta name=\"robots\" content=\"index,follow\"><meta name=\"keywords\" content=\"GitChat,机器学习,大数据,程序员,用户体验,软件开发,知识付费,技术分享\"><meta name=\"baidu-site-verification\" content=\"BRkuL6TTfM\"><link href=\"/dist/site/gitbook/bundle1.css\" rel=\"stylesheet\"><script src=\"/dist/gitbook/js/productionSa.js\"></script><script src=\"/dist/site/gitbook/js1.js\"></script><script src=\"/dist/js/jquery.lazyload.min.js\"></script><link href=\"/css/gitbook/common/common.css\" rel=\"stylesheet\"><script src=\"/dist/gitbook/js/common.js\"></script><link rel=\"icon\" type=\"image/png\" href=\"https://images.gitbook.cn/FrfR1mB39xM-U6iSAmDCpxWVxvoa\" sizes=\"16x16\"><link rel=\"icon\" type=\"image/png\" href=\"https://images.gitbook.cn/FrfR1mB39xM-U6iSAmDCpxWVxvoa\" sizes=\"32x32\"></head><link href=\"/swiper/swiper-4.3.3.min.css\" rel=\"stylesheet\"><link rel=\"stylesheet\" href=\"/dist/gitbook/css/indexGitChat.css\"><link rel=\"stylesheet\" href=\"/dist/gitbook/scss2css/v5.css\"><script src=\"/swiper/swiper-4.3.3.min.js\"></script><style>body#v5-main-container {\n",
      "  background: #fff;\n",
      "  height: 100%;\n",
      "  -moz-osx-font-smoothing: grayscale;\n",
      "  -webkit-font-smoothing: antialiased;\n",
      "  text-rendering: optimizeLegibility;\n",
      "  font-size: 14px;\n",
      "  margin: 0;\n",
      "  overflow: auto !important;\n",
      "}\n",
      "a:focus,\n",
      "a:active {\n",
      "  outline: none;\n",
      "}\n",
      "a,\n",
      "a:focus,\n",
      "a:hover {\n",
      "  cursor: pointer;\n",
      "  color: inherit;\n",
      "  text-decoration: none;\n",
      "}\n",
      "#v5-main-container ul {\n",
      "  margin: 0;\n",
      "  padding: 0;\n",
      "}\n",
      "//- #v5-main-container ul li {\n",
      "//-   width: 100%;\n",
      "//-   list-style-type: none;\n",
      "//-   cursor: pointer;\n",
      "//- }</style></html><body id=\"v5-main-container\"><style>.arrow-right-circle {\n",
      "  width:12px;height:12px;border-radius:12px;\n",
      "  color:#fff;background:#A2A7B8;\n",
      "  font-size:12px;\n",
      "  position:relative;\n",
      "}\n",
      ".arrow-right-circle:after {\n",
      "  position:absolute;\n",
      "  content: '';top: 3px;left: 2px;\n",
      "  border-top: 1px solid #fff;\n",
      "  border-right: 1px solid #fff;\n",
      "  transform: rotate(45deg);\n",
      "  width: 5px;\n",
      "  height: 5px;\n",
      "}\n",
      ".thumb-img {\n",
      "  background-repeat: no-repeat;\n",
      "  background-position: center;\n",
      "  background-size: 100% 100%;\n",
      "}\n",
      "#article-list-item:hover .hover-hlight {\n",
      "  color: #FF700A;\n",
      "  transition: color .2s ease;\n",
      "}\n",
      "#article-list-item:hover .thumb-img {\n",
      "  background-size: 110% 110%;\n",
      "  transition: background-size .5s ease-in;\n",
      "}</style><style>.f-t-horz-card {\n",
      "  padding-top: 35%;\n",
      "  width: 24%;\n",
      "  margin-right: 1.3%;\n",
      "}\n",
      ".f-t-horz-card .card {\n",
      "  position: absolute;\n",
      "  top: 0;\n",
      "  height: 90%;\n",
      "  transition: transform .5s ease-in, box-shadow .2s ease;\n",
      "  background: #fff;\n",
      "}\n",
      ".f-t-horz-card .card:hover {\n",
      "  transform: translateY(-5px);\n",
      "  box-shadow:0px 2px 10px 0px rgba(58,65,86,0.1);\n",
      "}\n",
      ".enter-btn { transition: all .2s ease; }\n",
      ".f-t-horz-card .card:hover .enter-btn {\n",
      "  color: #fff !important;\n",
      "  background: #FF700A;\n",
      "}\n",
      ".f-t-vtcl-card .enter-btn,\n",
      ".f-t-vtcl-card .hover-hlight { transition: all .2s ease-in;}\n",
      ".f-t-vtcl-card:hover .enter-btn {\n",
      "  color: #fff !important;\n",
      "  background: #FF700A;\n",
      "}\n",
      ".f-t-vtcl-card:hover .hover-hlight {\n",
      "  color: #FF700A;\n",
      "}\n",
      ".follow-mask {\n",
      "  background:linear-gradient(180deg, rgba(26,28,34,0) 0%,rgba(26,28,34,0.8) 100%);\n",
      "  border-radius:0px 0px 4px 4px;\n",
      "  padding-top: 30px;\n",
      "}</style><div id=\"layout-container\"><link rel=\"stylesheet\" href=\"/css/gitbook/topV6.css\"><link rel=\"stylesheet\" href=\"/dist/gitbook/css/topV6.css\"><link rel=\"stylesheet\" href=\"/dist/gitbook/scss2css/v5.css\"><script async src=\"/dist/js/storage.js\"></script><style>.blk-filter-vp { color: #fff !important;background:#3A4156; }\n",
      ".link_to_vip {\n",
      "  width: fit-content !important;\n",
      "  height: fit-content !important;\n",
      "  font-size: 14px !important;\n",
      "  padding: 2px 6px;\n",
      "  line-height: unset !important;\n",
      "  font-weight: 400 !important;\n",
      "}\n",
      ".home_top_img {\n",
      "  margin: 0 auto !important;\n",
      "  margin-top: 20px !important;\n",
      "}\n",
      "#globalSearch .modal-dialog {\n",
      "  width: 100%;\n",
      "  height: 100%;margin:0;\n",
      "}\n",
      "#globalSearch .modal-content {\n",
      "  border: none;\n",
      "  box-shadow: none;\n",
      "  background: transparent;\n",
      "  width: 100%;\n",
      "  height: 100%;\n",
      "  overflow: auto;\n",
      "}\n",
      ".home_tab {\n",
      "  margin: 0 auto !important;\n",
      "  margin-bottom: 15px !important;\n",
      "}\n",
      ".home_top_logo {\n",
      "  margin-bottom: 25px !important;\n",
      "}</style><script>let isV5 = location.search.indexOf('v5') >= 0;</script><div id=\"header\" class=\"headroom hidden-md hidden-lg hidden-sm top_box\"><div style=\"float: left;-webkit-animation-name:none;animation-name:none;\" class=\"container hidden-md hidden-lg hidden-sm\"><ul id=\"gn-menu\" class=\"gn-menu-main\"><li class=\"gn-trigger\"><a class=\"gn-icon gn-icon-menu\"><span>Menu</span></a><nav class=\"gn-menu-wrapper\"><div class=\"gn-scroller\"><ul style=\"border-bottom:0\" class=\"gn-menu\"><li><a href=\"/\" class=\"icon lnr-home\">首 页</a></li><li><a href=\"/gitchat/columns\" class=\"icon lnr-rocket\">专 栏</a></li><li><a href=\"/gitchat/series/list\" class=\"icon lnr-diamond\">专 题</a></li><li><a href=\"/gitchat/geekbooks\" class=\"icon lnr-book\">电子书</a></li><li><a href=\"/books/5b398139328f856827673b50/index.html\" class=\"icon lnr-earth\">关于我们</a></li><li><a class=\"icon lnr-text-align-justify\">活动分类</a><div class=\"activity_type clearfix\"><a href=\"/gitchat/categories/58e84f875295227534aad506/1\">前端</a><a href=\"/gitchat/categories/58e84f53ec8e9e7b34457809/2\">人工智能</a><a href=\"/gitchat/categories/58e84f6bad952d6b3428af9a/3\">架构</a><a href=\"/gitchat/categories/5953698a3d38293ecceacb89/4\">区块链</a><a href=\"/gitchat/categories/58e84f1584c651693437f27c/5\">职场</a><a href=\"/gitchat/categories/59c491948fee063dc3c447ab/6\">编程语言</a><a href=\"/gitchat/categories/58e84f31ad952d6b3428af99/7\">技术管理</a><a href=\"/gitchat/categories/58e84f7bec8e9e7b3445780d/8\">大数据</a><a href=\"/gitchat/categories/591171a3e692d5280d8157b6/9\">移动开发</a><a href=\"/gitchat/categories/58e84f2284c651693437f27d/10\">产品与运营</a><a href=\"/gitchat/categories/58e84f425295227534aad502/11\">测试</a><a href=\"/gitchat/categories/591f073981be962a981acf18/12\">安全</a><a href=\"/gitchat/categories/5901bd477b61a76bc4016423/13\">运维</a></div><div style=\"margin:0 auto;width:90%;margin-top: 180px;\"></div></li></ul></div></nav></li></ul></div><div class=\"top_logo_m\"><a href=\"/\"><img src=\"https://images.gitbook.cn/FnzjNghzs_ktFPUKeLaFX38rbNsL\"></a></div></div><div class=\"hidden-xs home_top_box\"><div class=\"top_fix\"><div class=\"home_top_logo\"><a href=\"/\"><img src=\"https://images.gitbook.cn/FpdQSGLQ9JWwdHIQHK7Cp4m0LEXj\" alt=\"GitChat\" title=\"GitChat\"></a></div><div class=\"home_top_tabs\"><a href=\"/\" class=\"home_tab_select home_tab\">首页</a><a href=\"/chat\" class=\"home_tab\">Chat</a><a href=\"/gitchat/columns\" class=\"home_tab\">专栏</a><div id=\"find_tab\" class=\"home_tab\"><span>发现</span><span class=\"menu_sign\"></span><div class=\"book_series_menu\"><a href=\"/gitchat/geekbooks\" class=\"inner_menu\">电子书</a><a href=\"/gitchat/series/list\" class=\"inner_menu\">专题</a></div></div><a id=\"loginBtn3\" href=\"javascript:void(0)\" role=\"button\" class=\"home_tab\">消息</a><div style=\"border-left:none;border-right:none;width:60%;margin:0 auto;\" class=\"flex a-center p-v-10 gc-add-border\"><img src=\"https://images.gitbook.cn/FjE2q1EynW2BnBwH1NgAGenNXl40\" alt=\"搜索\" width=\"20\" height=\"20\" class=\"no-shrink\"><a role=\"button\" data-toggle=\"modal\" href=\"#globalSearch\" class=\"global-search-ipt-trigger inlineBlock\">搜索</a></div><a href=\"/gitchat/vip\" target=\"_blank\" style=\"font-size:13px !important;margin-top:24px;\" class=\"link_to_vip br-2\"><span>开通会员</span></a><a id=\"loginBtn2\" href=\"javascript:void(0)\" role=\"button\" style=\"margin:24px auto 0\" class=\"login_box\">登录 / 注册</a></div><script>const qrcodeMouseEnter = function (event) {\n",
      "  const trgt = event.currentTarget;\n",
      "  if (trgt.tagName == 'A') {\n",
      "    const showTooltipTotalHeight = trgt.offsetTop + trgt.scrollHeight + 123;\n",
      "    if (showTooltipTotalHeight > window.innerHeight) {\n",
      "      $(trgt).children('.qr-code-tooltip').addClass('t-center').show();\n",
      "    } else {\n",
      "      $(trgt).children('.qr-code-tooltip').addClass('b-center').show();\n",
      "    }\n",
      "  }\n",
      "}\n",
      "const qrcodeMouseLeave = function (event) {\n",
      "  const trgt = event.currentTarget;\n",
      "  if (trgt.tagName == 'A') {\n",
      "    $(trgt).children('.qr-code-tooltip').removeClass('t-center').hide();\n",
      "  }\n",
      "}</script><a onmouseenter=\"qrcodeMouseEnter(event)\" onmouseleave=\"qrcodeMouseLeave(event)\" role=\"button\" style=\"margin-top: 20px\" class=\"hidden-xs home_top_publish relative\">团队入驻<div class=\"qr-code-tooltip ls\"><div class=\"qr-code-tooltip-content flex\"><img src=\"https://images.gitbook.cn/FmZj8QbIjP7O5AyZCAMMZeU6yqEq\" width=\"99\" height=\"99\"><div style=\"line-height:14px\" class=\"m-t-5 fs-14 t-left m-l-5\"><div class=\"m-b-5\">添加小助手申请</div><span class=\"fs-12\">团队入驻</span></div></div></div></a><a onmouseenter=\"qrcodeMouseEnter(event)\" onmouseleave=\"qrcodeMouseLeave(event)\" role=\"button\" style=\"margin-top: 20px\" class=\"hidden-xs home_top_publish relative\">下载APP<div class=\"qr-code-tooltip ls\"><div class=\"qr-code-tooltip-content flex\"><img src=\"https://images.gitbook.cn/Fqz-Z28mupLvMTQxiuvoxW-UAVA2\" width=\"99\" height=\"99\"><div style=\"line-height:14px\" class=\"m-t-3 fs-14 t-left m-l-5\"><div class=\"m-b-5\">下载 App </div><span class=\"fs-12\">即可获得 4 张优惠券</span></div></div></div></a></div></div><div id=\"globalSearch\" tabindex=\"-1\" role=\"dialog\" aria-labelledby=\"myModalLabel\" style=\"background: rgba(255,255,255,.9)\" class=\"modal fade\"><div role=\"document\" class=\"modal-dialog\"><div class=\"modal-content\"><div style=\"width: 60%;margin:0 auto;margin-top: 100px\"><div class=\"flex a-center j-space-between\"><img src=\"https://images.gitbook.cn/FpdQSGLQ9JWwdHIQHK7Cp4m0LEXj\" alt=\"GitChat\" width=\"40\" height=\"42\"><img src=\"https://images.gitbook.cn/FgORKeqHG2cPcFTGkEMhFRBGXujN?imageView2\" width=\"24\" height=\"24\" class=\"c-p globalSearch-close-btn\"></div><div style=\"width:80%;margin:0 auto;margin-top:130px;\"><script nomodule async type=\"module\">import { refreshHistory } from '/dist/js/webModules/v5.js';\n",
      "window.refreshHistory = refreshHistory;\n",
      "let history = refreshHistory();\n",
      "const cache = $('#history-list');\n",
      "if (cache && cache[0]) {\n",
      "  let cacheItems = '';\n",
      "  history.forEach(h => {\n",
      "    cacheItems += `<a class='fl m-r-10 br-2 block p-v-3 p-h-5 fs-16 t-center c-p hover-text-black'\n",
      "      style='color: #848999;min-width:88px;background:#efeeee;'>\n",
      "      ${h.kw}\n",
      "    </a>`;\n",
      "  });\n",
      "  cache.html(cacheItems);\n",
      "  cache.children('a').click((e) => {\n",
      "    const _self = e.currentTarget;\n",
      "    const keyword = _self.innerText;\n",
      "    refreshHistory(keyword);\n",
      "    window.open(`/articles?search=${keyword}`, '_self');\n",
      "  })\n",
      "}</script><script>const search = () => {\n",
      "  const trgt = $('.global-search-ipt');\n",
      "  if (event.keyCode == 13 || event.which == 13) {\n",
      "    const keyword = trgt.val();\n",
      "    refreshHistory(keyword);\n",
      "    window.open(`/articles?search=${keyword}`, '_self');\n",
      "  }\n",
      "}</script><input onKeyup=\"search()\" type=\"text\" placeholder=\"请输入关键词\" class=\"global-search-ipt\"><div style=\"margin-top: 44px;color:#3A4156\" class=\"bold fs-20\"># 热门搜索 #</div><div class=\"hot-kw-list text-grey fs-16 m-v-20 o-hidden\">暂无</div><div style=\"margin-top: 20px;color:#3A4156\" class=\"bold fs-20 w-full flex a-center j-space-between\"># 历史记录 #<script>const cleanSearchHistory = () => {\n",
      "  storagejs('web_search_history').deleteAll((err) => {\n",
      "    if (err) alert('清除记录失败～')\n",
      "    else alert('清除记录成功～')\n",
      "  });\n",
      "  $('#history-list').hide();\n",
      "  $('.history-list').hide();\n",
      "}</script><div onclick=\"cleanSearchHistory()\" class=\"flex a-center fs-14 text-grey c-p hover-text-black\">清除历史记录<img src=\"https://images.gitbook.cn/FpU9E201Ec9zTcRu7V6TBfWwVsnJ\" width=\"16\" height=\"16\" class=\"m-l-10\"></div></div><div id=\"history-list\" class=\"w-full m-t-20\"></div></div></div></div></div></div><div id=\"myArtsAlertModal\" style=\"margin-top: 100px;\" tabindex=\"-1\" role=\"dialog\" aria-labelledby=\"myModalLabel\" class=\"modal fade\"><div role=\"document\" class=\"modal-dialog\"><div class=\"modal-content\"><div class=\"modal-header\"><button type=\"button\" data-dismiss=\"modal\" aria-label=\"Close\" class=\"close\"><span aria-hidden=\"true\">×</span></button><h4 id=\"authorModalLabel\" class=\"modal-title\">提示</h4></div><div class=\"modal-body\"><div style=\"text-align:center;padding-top:10px;\">此功能目前只对PC端开放，请用PC访问网站 gitbook.cn</div></div><div style=\"margin-top: 20px;\" class=\"modal-footer\"><button type=\"button\" data-dismiss=\"modal\" class=\"btn btn-default\">返回</button></div></div></div></div><div id=\"newChatModal\" style=\"margin-top: 100px;\" tabindex=\"-1\" role=\"dialog\" aria-labelledby=\"myModalLabel\" class=\"modal fade\"><div role=\"document\" class=\"modal-dialog\"><div class=\"modal-content\"><div class=\"modal-header\"><button type=\"button\" data-dismiss=\"modal\" aria-label=\"Close\" class=\"close\"><span aria-hidden=\"true\">×</span></button><h4 id=\"newChatLabel\" style=\"text-align:center;\" class=\"modal-title\">微信扫码，发起Chat</h4></div><div class=\"modal-body\"><div style=\"text-align:center;\"><img src=\"https://images.gitbook.cn/new_chat_qr_code.jpg\" style=\"width:250px;margin-top:-10px;\"></div></div></div></div></div><div id=\"contactUsModal\" style=\"margin-top: 100px;\" tabindex=\"-1\" role=\"dialog\" aria-labelledby=\"myModalLabel\" class=\"modal fade\"><div role=\"document\" class=\"modal-dialog\"><div class=\"modal-content\"><div style=\"text-align:center;\" class=\"modal-header\"><h4 id=\"followWeixinModalLabel\" class=\"modal-title\">微信扫描二维码联系客服</h4></div><div style=\"padding:0;\" class=\"modal-body\"><div style=\"text-align:center;padding-top:10px;\"><img src=\"https://images.gitbook.cn/FrlpzkY_9jMjGMSgc4XQFrwy4xf3\" style=\"margin:5px;width:172px;height:172px;\"></div></div><div style=\"margin-top: 10px;text-align:center;\" class=\"modal-footer\"><button type=\"button\" data-dismiss=\"modal\" class=\"btn btn-default\">关闭</button></div></div></div></div><div id=\"publishModal\" tabindex=\"-1\" role=\"dialog\" aria-labelledby=\"myModalLabel\" class=\"modal fade\"><div role=\"document\" class=\"modal-dialog\"><div class=\"modal-content\"><img data-dismiss=\"modal\" aria-label=\"Close\" src=\"https://images.gitbook.cn/FmvfihH2VOBiRj3ynta4yK_DvZM_\" class=\"close\"><div class=\"flex_view clearfix\"><div class=\"helf_view bg_left\"><div class=\"scope_title scope_blue\">发布免费内容</div><ul><li>· 即时创作和发布文章</li><li>· 读者可免费阅读</li></ul><div id=\"freeChatBtn\" class=\"chat_btn bg_blue\">创作/发布文章</div></div><div class=\"line\"></div><div class=\"helf_view bg_right\"><div class=\"scope_title scope_orange\">发布收费 Chat</div><ul><li>· 发布话题开启众筹</li><li>· 为你的文章收费</li><li>· 可选择与读者在微信群交流</li></ul><div id=\"payChatBtn\" class=\"chat_btn bg_orange\">发布话题</div></div></div></div></div></div><a id=\"telModalLink\" role=\"button\" data-toggle=\"modal\" href=\"#telModal\" style=\"display:none;\"></a><link href=\"/dist/gitbook/css/modals.css\" rel=\"stylesheet\"><div id=\"pwdModal\" tabindex=\"-1\" role=\"dialog\" aria-labelledby=\"myModalLabel\" class=\"modal fade\"><div class=\"login-error-tip\"></div><div role=\"document\" class=\"modal-dialog\"><img src=\"https://images.gitbook.cn/FmolTdK1yu4DdPWmTFDgRbSRrACQ\" class=\"login-modal-close\"><div class=\"tel_title pwd_title\">设置密码</div><div class=\"tel_input_view\"><input id=\"pwdInput-1\" type=\"password\" placeholder=\"请设置登录密码\" maxlength=\"20\"></div><div class=\"tel_input_view\"><input id=\"pwdInput-2\" type=\"password\" placeholder=\"确认登录密码\" maxlength=\"20\"></div><div class=\"pwd_tip\">8-20位的数字混合密码更安全哦～</div><div id=\"pwdSubmit\" class=\"tel_btn\">确定</div></div></div><div id=\"pwdEditModal\" tabindex=\"-1\" role=\"dialog\" aria-labelledby=\"myModalLabel\" class=\"modal fade\"><div class=\"login-error-tip\"></div><div role=\"document\" class=\"modal-dialog\"><img src=\"https://images.gitbook.cn/FmolTdK1yu4DdPWmTFDgRbSRrACQ\" class=\"login-modal-close\"><div class=\"tel_title pwd_title\">修改密码</div><div class=\"tel_input_view\"><input id=\"pwdInput-old\" type=\"password\" placeholder=\"请输入原始密码\" maxlength=\"20\"></div><div class=\"tel_input_view\"><input id=\"pwdInput-new\" type=\"password\" placeholder=\"请输入新密码\" maxlength=\"20\"></div><div class=\"tel_input_view\"><input id=\"pwdInput-repeat\" type=\"password\" placeholder=\"请再次输入新密码\" maxlength=\"20\"></div><div class=\"pwd_tip\">8-20位的数字混合密码更安全哦～</div><div id=\"pwdEditSubmit\" class=\"tel_btn\">确认修改</div></div></div><div id=\"telModal\" tabindex=\"-1\" role=\"dialog\" aria-labelledby=\"myModalLabel\" class=\"modal fade\"><div class=\"login-error-tip\"></div><div role=\"document\" class=\"modal-dialog\"><img src=\"https://images.gitbook.cn/FmolTdK1yu4DdPWmTFDgRbSRrACQ\" class=\"login-modal-close\"><div class=\"tel_title\">绑定手机号</div><div class=\"tel_tip\">根据相关法规要求，请完善您的信息</div><div class=\"tel_input_view\"><input id=\"telInput\" type=\"text\" placeholder=\"手机号\" maxlength=\"11\"><button class=\"codeBtn code_btn\">获取验证码</button></div><div class=\"tel_input_view\"><input id=\"codeInput\" type=\"text\" placeholder=\"验证码\" maxlength=\"6\"></div><div id=\"telSubmit\" class=\"tel_btn\">确定</div></div></div><div id=\"telEditModal\" tabindex=\"-1\" role=\"dialog\" aria-labelledby=\"myModalLabel\" class=\"modal fade\"><div class=\"login-error-tip\"></div><div role=\"document\" class=\"modal-dialog\"><img src=\"https://images.gitbook.cn/FmolTdK1yu4DdPWmTFDgRbSRrACQ\" class=\"login-modal-close\"><div class=\"tel_title\">更换绑定手机号</div><div class=\"tel_old_tip\">当前手机号：undefined</div><div class=\"tel_input_view\"><input id=\"telEditInput\" type=\"text\" placeholder=\"新手机号\" maxlength=\"12\"><button class=\"codeBtn code_btn\">获取验证码</button></div><div class=\"tel_input_view\"><input id=\"codeEditInput\" type=\"text\" placeholder=\"验证码\" maxlength=\"6\"></div><div id=\"telEditSubmit\" class=\"tel_btn tel_btn_margin\">确认更换</div></div></div><a id=\"auditSuccessLink\" role=\"button\" data-toggle=\"modal\" href=\"#auditSuccessModal\"></a><div id=\"auditSuccessModal\" tabindex=\"-1\" role=\"dialog\" aria-labelledby=\"myModalLabel\" class=\"modal fade\"><div role=\"document\" class=\"modal-dialog\"><div class=\"modal-content\"><img data-dismiss=\"modal\" aria-label=\"Close\" src=\"https://images.gitbook.cn/FmvfihH2VOBiRj3ynta4yK_DvZM_\" class=\"as_close\"><img src=\"https://images.gitbook.cn/Fk5dJI2l4uoORgulVV86kaHqJ9jS\" class=\"as_img\"><div class=\"as_tip\">提交成功</div><div class=\"as_txt\">平台会在 48 小时内通知您审核结果</div><a href=\"/mazi/my/activity\" class=\"as_chat_button\">查看我的创作</a><div class=\"as_bottom\"><img src=\"https://images.gitbook.cn/FmtmUdg3yuMFRE_vO7vV6PvW-Iot\" class=\"as_qrcode\"><span class=\"as_tip_bottom\">关注公众号<br>第一时间获得相关结果通知</span></div></div></div></div><a id=\"auditWrongLink\" role=\"button\" data-toggle=\"modal\" href=\"#auditWrongModal\"></a><div id=\"auditWrongModal\" tabindex=\"-1\" role=\"dialog\" aria-labelledby=\"myModalLabel\" class=\"modal fade\"><div role=\"document\" class=\"modal-dialog\"><div class=\"modal-content\"><img src=\"https://images.gitbook.cn/FhPXnIoHYe2jzxy-3k0hpQT3dpoH\" class=\"aw_img\"><div class=\"aw_tip\">提交审核失败</div><div class=\"aw_txt\">请检查您的网络状态后再试一次</div><div class=\"aw_btn\">重新提交</div></div></div></div><div class=\"mine_tip mine_tip_yes\"><img src=\"https://images.gitbook.cn/FjeoT6Flh_RPDTwaJa3i4927CQMI\"><span>保存成功</span></div><div class=\"mine_tip order_tip_yes\"><img src=\"https://images.gitbook.cn/FjeoT6Flh_RPDTwaJa3i4927CQMI\"><span>订阅成功</span></div><div class=\"mine_tip mine_tip_no\"><img src=\"https://images.gitbook.cn/Fq0bYPvfhvhi_dHp9Hhr4h4rb6Q0\" alt=\"\"><span>保存失败，请重试</span></div><div class=\"mine_tip tip_submit\"><img src=\"https://images.gitbook.cn/FjeoT6Flh_RPDTwaJa3i4927CQMI\"><span>提交成功</span><script>// grab an element\n",
      "var myElement = document.getElementById(\"header\");\n",
      "// construct an instance of Headroom, passing the element\n",
      "var headroom  = new Headroom(myElement);\n",
      "// initialise\n",
      "headroom.init();\n",
      "var pointAjax = function(type){\n",
      "    if($('#tab_item_'+type).length == 0||$('#tab_item_'+type).is(':hidden')){\n",
      "        return;\n",
      "    }\n",
      "    $.ajax ({\n",
      "        url: '/notifications?type='+type,\n",
      "        type: \"POST\",\n",
      "        data: JSON.stringify({lastTime:''}),\n",
      "        dataType: \"json\",\n",
      "        contentType: \"application/json; charset=utf-8\",\n",
      "        success: function (data) {\n",
      "            if(data.code == 0){\n",
      "                $('#tab_item_'+type).hide();\n",
      "            }\n",
      "        }\n",
      "    })\n",
      "}\n",
      "$(function(){\n",
      "    var isYearCard = \"\";\n",
      "    var isNormalCard = \"\";\n",
      "    var vipEndTime = \"\";\n",
      "    var msgView = $('#message_view');\n",
      "    var sortStr = 'mainPage';\n",
      "    const getHotKeywords = () => {\n",
      "      $.ajax ({\n",
      "          url: '/gitchat/rest/tag/hot',\n",
      "          type: 'GET',\n",
      "          dataType: \"json\",\n",
      "          contentType: \"application/json; charset=utf-8\",\n",
      "          success: function (res) {\n",
      "            if(res.code == 0) {\n",
      "              const list = $('.hot-kw-list');\n",
      "              if (list && list[0]) {\n",
      "                let items = '';\n",
      "                res.data.forEach(kw => {\n",
      "                  items += `<a class='fl m-r-10 br-2 block p-v-3 p-h-5 fs-16 t-center c-p hover-text-black'\n",
      "                    style='color: #848999;min-width:88px;background:#efeeee;'>\n",
      "                    ${kw}\n",
      "                  </a>`;\n",
      "                });\n",
      "                list.html(items);\n",
      "                list.children('a').click((e) => {\n",
      "                  const _self = e.currentTarget;\n",
      "                  const keyword = _self.innerText;\n",
      "                  window.open(`/articles?search=${keyword}`, '_self');\n",
      "                })\n",
      "              } \n",
      "            }\n",
      "          }\n",
      "      })\n",
      "    }\n",
      "    getHotKeywords();\n",
      "    if(sortStr == 'geekbook' || sortStr == 'series'){\n",
      "        $('#find_tab').addClass('home_tab_select')\n",
      "        $('.menu_sign').addClass('menu_sign_hover')\n",
      "    }else{\n",
      "        $('.book_series_menu').hover(function(){\n",
      "            $('#find_tab').addClass('home_tab_select')\n",
      "            $('.menu_sign').addClass('menu_sign_hover')\n",
      "            $(this).show()\n",
      "        },function(){\n",
      "        })\n",
      "        $('#find_tab').hover(function(){\n",
      "            $(this).addClass('home_tab_select')\n",
      "            $('.menu_sign').addClass('menu_sign_hover')\n",
      "            $('.book_series_menu').show()\n",
      "        },function(){\n",
      "            $(this).removeClass('home_tab_select')\n",
      "            $('.book_series_menu').hide()\n",
      "            $('.menu_sign').removeClass('menu_sign_hover')\n",
      "        })\n",
      "    }\n",
      "    if(isNormalCard == 'true'){\n",
      "        var vipObj = {\n",
      "            \"cardImg\": \"https://images.gitbook.cn/Fts0XPWoZzTOhFWLuyg-GlswFlwB?imageslim\",\n",
      "            \"className\": \"normalClass\",\n",
      "            \"textColor\": \"#46669B\",\n",
      "            \"cardList\": [\"全场 Chat 免费订\", \"每月免费学习 2 门专栏\", \"全站文章和实录免费阅读\", \"进入上百位专家的读者圈，无限互动与追问\"]\n",
      "        }\n",
      "    }else if(isYearCard=='true'){\n",
      "        var vipObj = {\n",
      "            \"cardImg\": \"https://images.gitbook.cn/FvC7tICKSIS7XCR0Oftj41OhcpkN?imageslim\",\n",
      "            \"className\":\"yearClass\",\n",
      "            \"textColor\": \"#DDC492\",\n",
      "            \"cardList\": [\"全场 Chat 免费订\", \"全场专栏免费学\", \"全站文章和实录免费阅读\", \"每月免费领一本电子书\", \"进入上百位专家的读者圈，无限互动与追问\"]\n",
      "        }\n",
      "    }\n",
      "    if(isYearCard=='true' || isNormalCard == 'true'){\n",
      "        var htmlString = '<div id=\"vipDialog\" class=\"vip_model\"><div class=\"vip_model_content\"><img src=\"'+vipObj.cardImg+'\" class=\"vip_img\"><div class=\"'+vipObj.className+'\">'+vipEndTime+' 到期</div><ul class=\"vip_list_ul\"><li style=\"color:'+vipObj.textColor+'\">会员权益</li>';\n",
      "        for(var hIndex = 0;hIndex<vipObj.cardList.length;hIndex++){\n",
      "            htmlString += '<li>'+vipObj.cardList[hIndex]+'</li>';\n",
      "        }\n",
      "        htmlString += '</ul><img src=\"https://images.gitbook.cn/FoZcXZPNXxknIpi0zhdlAuUCfkJR\" class=\"vip_close\"></div></div>';\n",
      "        $('body').append(htmlString);\n",
      "        $('.vip_model_content').click(function () {\n",
      "            return false;\n",
      "        })\n",
      "        $('#vipDialog,.vip_close').click(function () {\n",
      "            $('#vipDialog').hide();\n",
      "        })\n",
      "    }\n",
      "    $('.msg_tab').click(function(){\n",
      "        if(msgView.is(':hidden')){\n",
      "            msgView.fadeIn();\n",
      "            $('span').remove('.red_point');\n",
      "            pointAjax(2);\n",
      "        }else{\n",
      "            msgView.fadeOut();\n",
      "        }\n",
      "        return false;\n",
      "    })\n",
      "    msgView.click(function(event){\n",
      "        event.stopPropagation();\n",
      "    })\n",
      "    $(document).click(function(){\n",
      "        msgView.fadeOut();\n",
      "    })\n",
      "    $('.tab_item').click(function(){\n",
      "        $('.tab_item').removeClass('msg_choose');\n",
      "        $(this).addClass('msg_choose');\n",
      "        if($(this).data('name')=='comment'){\n",
      "            $('.like_list,.msg_list').hide();\n",
      "            $('.comment_list').show();\n",
      "            $('.msg_more').attr('href','/notifications?type=comment');\n",
      "        }else if($(this).data('name')=='like'){\n",
      "            $('.comment_list,.msg_list').hide();\n",
      "            $('.like_list').show();\n",
      "            $('.msg_more').attr('href','/notifications?type=like');\n",
      "        }else{\n",
      "            $('.comment_list,.like_list').hide();\n",
      "            $('.msg_list').show();\n",
      "            $('.msg_more').attr('href','/notifications?type=navigation');\n",
      "        }\n",
      "    })\n",
      "    $('.top_search_img').on('click', function () {\n",
      "        var searchKey = $('#rightTopSearchInput').val();\n",
      "        if(searchKey != ''){\n",
      "            window.open(\"/articles?search=\" + searchKey,\"_blank\");\n",
      "        }\n",
      "    })\n",
      "    $('.menu_out').click(function(){\n",
      "        try{\n",
      "            sensors.logout();\n",
      "        }catch(e){}\n",
      "        window.location.href='/customers/logout';\n",
      "    })\n",
      "    let searchFocusTimer;\n",
      "    $('.global-search-ipt').focus(() => {\n",
      "      clearInterval(searchFocusTimer);\n",
      "    })\n",
      "    $('.global-search-ipt-trigger').click(() => {\n",
      "      searchFocusTimer = setInterval(() => $('.global-search-ipt').focus(), 1000)\n",
      "    })\n",
      "})\n",
      "$('#freeChatBtn').click(function(){\n",
      "    $('#publishModal').modal('hide')\n",
      "    $('.modal-backdrop').hide();\n",
      "    setTimeout(function(){\n",
      "        window.open('/new/gitchat/activity?type=free')\n",
      "    },200)\n",
      "})\n",
      "$('#payChatBtn').click(function(){\n",
      "    $('#publishModal').modal('hide')\n",
      "    $('.modal-backdrop').hide();\n",
      "    setTimeout(function(){\n",
      "        window.open('/new/gitchat/activity?type=crowdfunding')\n",
      "    },200)\n",
      "})\n",
      "$('.globalSearch-close-btn').click(() => {\n",
      "  $('#globalSearch').modal('hide');\n",
      "});</script></div><script>var timeCount = 60;\n",
      "var msg_id;\n",
      "$(function(){\n",
      "    var codeBtn = $('.codeBtn');\n",
      "    var telSubmit = $('#telSubmit');\n",
      "    var pwdSubmit = $('#pwdSubmit');\n",
      "    var telEditSubmit = $('#telEditSubmit');\n",
      "    var resCodeNum = '0000';\n",
      "    var password,repassword,oldpassword = '';\n",
      "    var telNum,codeNum = '';\n",
      "    var oldPwd = '';//原始密码\n",
      "    var pwdEditSubmit = $('#pwdEditSubmit');\n",
      "    $('.as_chat_button').click(function(){\n",
      "        window.location.href='/mazi/my/activity'\n",
      "        return false\n",
      "    })\n",
      "    codeBtn.click(function(){\n",
      "        telNum = $('#telInput').val().trim() || $('#telEditInput').val().trim();\n",
      "        if(isPhoneNumber(telNum)){\n",
      "            codeBtn.attr('disabled','true');\n",
      "            codeBtn.text(--timeCount+'s后重新获取');\n",
      "            // 计时器\n",
      "            var timer = setInterval(function(){\n",
      "                if(timeCount == 0){\n",
      "                    clearInterval(timer);\n",
      "                    timeCount = 60;\n",
      "                    codeBtn.text('获取验证码');\n",
      "                    codeBtn.removeAttr('disabled');\n",
      "                }else{\n",
      "                    codeBtn.text(--timeCount+'s后重新获取');\n",
      "                }\n",
      "            }, 1000)\n",
      "            $.ajax({\n",
      "                url: \"/sms/code\",\n",
      "                type: \"POST\",\n",
      "                data: JSON.stringify({mobile:telNum}),\n",
      "                dataType: \"json\",\n",
      "                contentType: \"application/json; charset=utf-8\",\n",
      "                success: function (data, status) {\n",
      "                    if (status == 'success' && data.code == 0) {\n",
      "                        msg_id = data.msg_id;\n",
      "                    } else {\n",
      "                        alert(data.message);\n",
      "                        clearInterval(timer);\n",
      "                        timeCount = 60;\n",
      "                        codeBtn.text('获取验证码');\n",
      "                        codeBtn.removeAttr('disabled');\n",
      "                    }\n",
      "                }\n",
      "            })\n",
      "            \n",
      "        } else{\n",
      "            showErrTip('请输入正确的手机号！');\n",
      "        }\n",
      "    })\n",
      "    telSubmit.click(function(){\n",
      "        telNum = $('#telInput').val().trim();\n",
      "        codeNum = $('#codeInput').val().trim();\n",
      "        if(isPhoneNumber(telNum)){\n",
      "            $.ajax({\n",
      "                url: \"/sms/check/code\",\n",
      "                type: \"POST\",\n",
      "                data: JSON.stringify({msg_id: msg_id, code: codeNum}),\n",
      "                dataType: \"json\",\n",
      "                contentType: \"application/json; charset=utf-8\",\n",
      "                success: function (data, status) {\n",
      "                    if (status == 'success' && data.code == 0) {\n",
      "                        mineYes()\n",
      "                        closeTelModal();\n",
      "                        if(window.location.href.indexOf('v2/editor') == -1 && window.location.href.indexOf('new/gitchat/activity') == -1){\n",
      "                            setTimeout(function(){\n",
      "                                window.location.reload();\n",
      "                            },1000)\n",
      "                        }\n",
      "                    } else {\n",
      "                        mineNo()\n",
      "                    }\n",
      "                }\n",
      "            })\n",
      "        }else{\n",
      "            showErrTip('请输入正确的手机号！');\n",
      "        }\n",
      "    })\n",
      "    telEditSubmit.click(function(){\n",
      "        telNum = $('#telEditInput').val().trim();\n",
      "        codeNum = $('#codeEditInput').val().trim();\n",
      "        if(isPhoneNumber(telNum)){\n",
      "            $.ajax({\n",
      "                url: \"/sms/check/code\",\n",
      "                type: \"POST\",\n",
      "                data: JSON.stringify({msg_id: msg_id, code: codeNum}),\n",
      "                dataType: \"json\",\n",
      "                contentType: \"application/json; charset=utf-8\",\n",
      "                success: function (data, status) {\n",
      "                    if (status == 'success' && data.code == 0) {\n",
      "                        mineYes()\n",
      "                        setTimeout(function(){\n",
      "                            $('.modal').modal('hide');\n",
      "                            window.location.reload();\n",
      "                        },1000)\n",
      "                    } else {\n",
      "                        mineNo()\n",
      "                    }\n",
      "                }\n",
      "            })\n",
      "        }else{\n",
      "            showErrTip('请输入正确的手机号！');\n",
      "        }\n",
      "    })\n",
      "    pwdSubmit.click(function(){\n",
      "        password = $('#pwdInput-1').val().trim();\n",
      "        repassword = $('#pwdInput-2').val().trim();\n",
      "        if(!passwordReg(password)){\n",
      "            showErrTip('请输入正确格式的密码！');\n",
      "        } else if(password != repassword){\n",
      "            showErrTip('两次密码不一致！');\n",
      "        } else{\n",
      "            showErrTip('设置密码成功！');\n",
      "            setTimeout(function(){\n",
      "                window.location.reload();\n",
      "            },1000)\n",
      "        }\n",
      "    })\n",
      "    pwdEditSubmit.click(function(){\n",
      "        oldpassword = $('#pwdInput-old').val().trim();\n",
      "        password = $('#pwdInput-new').val().trim();\n",
      "        repassword = $('#pwdInput-repeat').val().trim();\n",
      "        if(oldpassword != oldPwd){\n",
      "            showErrTip('原始密码不正确！');\n",
      "        }else if(!passwordReg(password)){\n",
      "            showErrTip('请输入正确格式的密码！');\n",
      "        }else if(password != repassword){\n",
      "            showErrTip('两次密码不一致！');\n",
      "        } else{\n",
      "            showErrTip('修改密码成功！');\n",
      "            setTimeout(function(){\n",
      "                $('.modal').modal('hide');\n",
      "                window.location.reload();\n",
      "            },1000)\n",
      "        }\n",
      "    })\n",
      "    $('.aw_btn').click(function(){\n",
      "        closeErrModal();\n",
      "    })\n",
      "})</script><div class=\"layout-col-3\"><div class=\"swp-container\"><div id=\"gc-swp\" class=\"swiper-container\"><div class=\"swiper-wrapper\"><a href=\"https://gitbook.cn/gitchat/column/5fa8a161e25b7a14972ae641?utm_source=hp_banner\" class=\"swiper-slide relative\"><img src=\"https://images.gitbook.cn/23b67c30-2887-11eb-b447-491cf81dff70\" width=\"100%\" height=\"100%\"><div class=\"swiper-hover-mask\"></div></a><a href=\"https://gitbook.cn/gitchat/column/5f97d01ece02be189fdca437?utm_source=hp_banner\" class=\"swiper-slide relative\"><img src=\"https://images.gitbook.cn/1f9c3860-1f18-11eb-b854-ed98dda0a5ef\" width=\"100%\" height=\"100%\"><div class=\"swiper-hover-mask\"></div></a><a href=\"https://gitbook.cn/gitchat/column/5f599623b2239819577277a8?utm_source=hp_banner\" class=\"swiper-slide relative\"><img src=\"https://images.gitbook.cn/069b6aa0-f88c-11ea-b4d0-c1a215af70e7\" width=\"100%\" height=\"100%\"><div class=\"swiper-hover-mask\"></div></a><a href=\"https://gitbook.cn/gitchat/column/5f34b38305cd3d35a3b01d4a?utm_source=hp_banner\" class=\"swiper-slide relative\"><img src=\"https://images.gitbook.cn/53c780b0-e1c2-11ea-8704-a72392762156\" width=\"100%\" height=\"100%\"><div class=\"swiper-hover-mask\"></div></a><a href=\"https://gitbook.cn/gitchat/column/5f1a9c00dfc48f2858fa9092\" class=\"swiper-slide relative\"><img src=\"https://images.gitbook.cn/727ad460-d215-11ea-aa27-eb944ec8269d\" width=\"100%\" height=\"100%\"><div class=\"swiper-hover-mask\"></div></a></div><div class=\"swiper-pagination\"></div><div class=\"swp-btn-prev\"><div class=\"arrow-left\"></div></div><div class=\"swp-btn-next\"><div class=\"arrow-right\"></div></div></div></div><!-- 最新文章模块 --><style>.v-split-line {\n",
      "  height: 20px;\n",
      "  width: 1px;\n",
      "  background:#AAB0C1;\n",
      "  opacity: .5;\n",
      "  font-size: 15px;\n",
      "  display: inline-block;\n",
      "}\n",
      "i {font-style: unset;}\n",
      ".tabbar-item { transition: color .2s ease;color:#3A4156; }\n",
      ".tabbar-item:hover, .tabbar-item.active { color: #FF700A; }\n",
      ".expand-tabbar {\n",
      "  line-height: 20px;\n",
      "  background: #fff;\n",
      "  right: 15px;\n",
      "  top: 50%;\n",
      "  transform: translateY(-50%);\n",
      "  transition: color 1s ease;\n",
      "}\n",
      ".expand-tabbar:hover {\n",
      "  color: #FEC171;\n",
      "}\n",
      ".text-grey { color: #848999;}\n",
      ".article-tag {\n",
      "  font-size: 12px;\n",
      "  color: #FF700A;\n",
      "  padding: 0 4px;\n",
      "  border: 1px solid #FF700A;\n",
      "  border-radius: 2px;\n",
      "}\n",
      ".tabs-container {\n",
      "  margin-left: 10px;\n",
      "  border-left: 1px solid #D8D8D8;\n",
      "  padding-left: 10px;\n",
      "  word-break: keep-all;\n",
      "}\n",
      ".arrow-btn {\n",
      "  width: 15px;\n",
      "  height: 15px;\n",
      "  right: 0;\n",
      "  bottom: 2px;\n",
      "  border: 1px solid #D8D8D8;\n",
      "  background: #fff;\n",
      "  z-index: 11;\n",
      "}\n",
      ".arrow-down {\n",
      "  width: 5px;\n",
      "  height: 5px;\n",
      "  border-top: 1px solid #D8D8D8;\n",
      "  border-right: 1px solid #D8D8D8;\n",
      "  transform: rotate(135deg);\n",
      "  margin-bottom: 3px;\n",
      "}\n",
      ".arrow-up {\n",
      "  width: 5px;\n",
      "  height: 5px;\n",
      "  border-top: 1px solid #D8D8D8;\n",
      "  border-right: 1px solid #D8D8D8;\n",
      "  transform: rotate(-45deg);\n",
      "  margin-top: 3px;\n",
      "  display: none;\n",
      "}\n",
      ".arrow-btn:hover {border-color: transparent;}\n",
      ".arrow-btn:hover .arrow-down {border-color:#fff;transition:all .2s ease;}\n",
      ".fit-content { height: fit-content !important; }\n",
      "</style><div class=\"bold m-t-30 flex a-center relative m-b-20 p-l-15 p-r-20\"><div style=\"visibility: hidden\" class=\"arrow-btn flex a-center j-center absolute c-p br-2 hover-bg-gc-orange\"><div class=\"arrow-down\"></div><div class=\"arrow-up\"></div></div><div class=\"fs-15 no-shrink\">Chat分类</div><div class=\"h-20 o-hidden\"><div id=\"gc-categories-bar\" class=\"tabs-container text-grey\"><span data-label=\"\"><i class=\"tabbar-item c-p\">全部</i><i class=\"inlineBlock m-h-5\">·</i></span><span data-label=\"5d8b7c3786194a1921979122\"><i class=\"tabbar-item c-p\">后端</i><i class=\"inlineBlock m-h-5\">·</i></span><span data-label=\"58e84f6bad952d6b3428af9a\"><i class=\"tabbar-item c-p\">架构</i><i class=\"inlineBlock m-h-5\">·</i></span><span data-label=\"58e84f875295227534aad506\"><i class=\"tabbar-item c-p\">前端</i><i class=\"inlineBlock m-h-5\">·</i></span><span data-label=\"free\"><i class=\"tabbar-item c-p\">免费专区</i><img src=\"https://images.gitbook.cn/FrdOge1UpO-I6UJqIGT-IvDC6ltu?imageView2/2/h/250\" width=\"25\" height=\"24\" alt=\"免费专区\" style=\"top: -25px;left:50%\" class=\"free-tag absolute\"><i class=\"inlineBlock m-h-5\">·</i></span><span data-label=\"5d8b7c3786194a1921979124\"><i class=\"tabbar-item c-p\">互联网</i><i class=\"inlineBlock m-h-5\">·</i></span><span data-label=\"5901bd477b61a76bc4016423\"><i class=\"tabbar-item c-p\">运维</i><i class=\"inlineBlock m-h-5\">·</i></span><span data-label=\"58e84f53ec8e9e7b34457809\"><i class=\"tabbar-item c-p\">人工智能</i><i class=\"inlineBlock m-h-5\">·</i></span><span data-label=\"58e84f1584c651693437f27c\"><i class=\"tabbar-item c-p\">职场</i><i class=\"inlineBlock m-h-5\">·</i></span><span data-label=\"58e84f425295227534aad502\"><i class=\"tabbar-item c-p\">测试</i><i class=\"inlineBlock m-h-5\">·</i></span><span data-label=\"5d8b7c3786194a1921979123\"><i class=\"tabbar-item c-p\">移动开发</i></span></div></div><script>let freeTab = $('.tabs-container > span[data-label=free]');\n",
      "freeTab = freeTab[0] || freeTab;\n",
      "if (freeTab) {\n",
      "  const offset = freeTab.offsetLeft;\n",
      "  $('.free-tag').css('left', offset + 20 + 'px');\n",
      "} else {\n",
      "  $('.free-tag').hide();\n",
      "}</script></div><div class=\"split-line m-h-15\"></div><div class=\"p-v-15\"><div class=\"m-t-15 m-b-4\"><div class=\"flex j-space-between a-center p-h-15\"><div class=\"flex a-center\"><h4 class=\"m-r-20\">最新文章</h4><span class=\"text-grey\">新鲜出炉的 Chat 文章，为作者鼓个掌吧</span></div><a href=\"/chat\" target=\"blank\" class=\"text-grey hover-text-gc-orange c-p\">查看更多 ></a></div></div><a id=\"article-list-item\" href=\"/gitchat/activity/5fb2a84a720cc95f0e333516\" target=\"_blank\" class=\"c-p inlineBlock hover-bg-for-grey p-a-15\"><div class=\"flex w-full a-center\"><div style=\"width:104px;height:104px;background-image:url(https://images.gitbook.cn/1eb0c1b0-3105-11eb-9be5-1150cb1fb404?imageslim)\" class=\"thumb-img no-shrink m-r-20 br-4\"></div><div style=\"height:104px\" class=\"flex-column g-1 j-space-around\"><div class=\"flex a-center\"><div class=\"article-tag m-r-5 fs-14 no-shrink\">最新</div><div class=\"fs-18 bold hover-hlight txt-limit-1 user_select_text\">Java 面试笔记之 Synchronized 和 Lock</div></div><div class=\"fs-14 txt-limit-2 text-grey user_select_text\">Java 锁是面试常考知识点，比如：Volatile 的原理及有什么特性、CAS 的原理、AQS 的原理、Synchronized 如何使用及原理、Lock 如何使用及原理等等，本篇文章一一为您解答，祝各位顺利找到满意的高新工作。\n",
      "\n",
      "本 Chat 你将会获得以下知识：\n",
      "1. Volatile 原理分析\n",
      "2. CAS 原理分析\n",
      "3. AQS 原理分析\n",
      "4. Synchronized 示例代码及原理分析\n",
      "5. Lock 示例代码及原理分析\n",
      "6. Synchronized 和 Lock 的区别\n",
      "\n",
      "适合人群： Java 面试、技术整理总结。</div><div class=\"fs-12 flex a-center j-space-between\"><div class=\"text-grey fs-12 flex a-center\">1分钟前<span class=\"m-l-30 user_select_text\">老牛</span><div class=\"m-h-3\">·</div><span class=\"user_select_text\">资深开发</span></div></div></div></div></a><a id=\"article-list-item\" href=\"/gitchat/activity/5fa9757f1f577d4d9f42c50b\" target=\"_blank\" class=\"c-p inlineBlock hover-bg-for-grey p-a-15\"><div class=\"flex w-full a-center\"><div style=\"width:104px;height:104px;background-image:url(https://images.gitbook.cn/b3316210-3207-11eb-a3fe-4f57d7580ecb?imageslim)\" class=\"thumb-img no-shrink m-r-20 br-4\"></div><div style=\"height:104px\" class=\"flex-column g-1 j-space-around\"><div class=\"flex a-center\"><div class=\"article-tag m-r-5 fs-14 no-shrink\">最新</div><div class=\"fs-18 bold hover-hlight txt-limit-1 user_select_text\">Spring Boot 启动过程源码解析</div></div><div class=\"fs-14 txt-limit-2 text-grey user_select_text\">Spring Boot 是一个很庞大很复杂的一个框架，一提到要学习他的启动过程，我相信很多人就会立刻头大。\n",
      "\n",
      "&amp;amp;gt;“学海无涯苦作舟，学习的过程中越痛苦，你的成长才会越快”。 -- 尼古拉斯 · 赵五\n",
      "\n",
      "本篇 Chat， 我会带着大家逐步拆分 Spring Boot 的启动过程，让大家：\n",
      "1. 对 Spring Boot 的整体启动过程有一个较深的印象；\n",
      "2. 知道如何慢慢蚕食掉 Spring Boot 的启动过程源码，知道如何拆分学习路线，提高学习的效率和热情\n",
      "3. 知道 Spring Boot 启动过程中用了什么比较好的设计模式；\n",
      "4. 知道在启动过程中，如何扩展自己的功能。\n",
      "\n",
      "**适合人群**：正在准备 Java 技术栈的面试、想要突破技术瓶颈、入门源码学习的同学</div><div class=\"fs-12 flex a-center j-space-between\"><div class=\"text-grey fs-12 flex a-center\">2分钟前<span class=\"m-l-30 user_select_text\">湖人总冠军</span><div class=\"m-h-3\">·</div><span class=\"user_select_text\">工程师</span></div></div></div></div></a><a id=\"article-list-item\" href=\"/gitchat/activity/5fb28278720cc95f0e3334ce\" target=\"_blank\" class=\"c-p inlineBlock hover-bg-for-grey p-a-15\"><div class=\"flex w-full a-center\"><div style=\"width:104px;height:104px;background-image:url(https://images.gitbook.cn/0444da00-2e4e-11eb-9f65-39fa030f3354?imageslim)\" class=\"thumb-img no-shrink m-r-20 br-4\"></div><div style=\"height:104px\" class=\"flex-column g-1 j-space-around\"><div class=\"flex a-center\"><div class=\"article-tag m-r-5 fs-14 no-shrink\">最新</div><div class=\"fs-18 bold hover-hlight txt-limit-1 user_select_text\">Docker 容器化应用部署实践</div></div><div class=\"fs-14 txt-limit-2 text-grey user_select_text\">Docker 代表的容器技术是近两年的大热技术，和人工智能、区块链等热点不同，容器技术的门槛并不高，每一个开发、测试、运维人员都能在日常工作中掌握和使用，是当今 IT 从业人员的必备技能之一。 \n",
      "\n",
      "Docker 是一个开源的应用容器引擎，让开发者可以打包他们的应用以及依赖包到一个可移植的容器中，然后发布到任何流行的 Linux 机器上，也可以实现虚拟化，容器是完全使用沙箱机制，相互之间不会有任何接口。\n",
      "\n",
      "本次 Chat 主要讲解 Docker 技术栈及其应用实践，从环境安装到容器、镜像操作以及生产环境如何部署开发的微服务应用。\n",
      "\n",
      "\n",
      "Chat 亮点：系统的学习 Docker 技术栈，从 0 到 1，场景式案例，带你掌握最先进的容器技术。\n",
      "\n",
      "Chat 课程大纲：\n",
      "\n",
      "1. 什么是容器 \n",
      "2. 容器管理工具\n",
      "3. Docker 容器化部署以及 Docker 加速器配置\n",
      "4. 一个故事带你了解容器生态圈\n",
      "5. 容器管理操作\n",
      "6. Docker Compose 容器编排\n",
      "7. 综合案例：容器化应用部署实践\n",
      "</div><div class=\"fs-12 flex a-center j-space-between\"><div class=\"text-grey fs-12 flex a-center\">4天前<span class=\"m-l-30 user_select_text\">夏天</span><div class=\"m-h-3\">·</div><span class=\"user_select_text\">技术总监</span></div></div></div></div></a><a id=\"article-list-item\" href=\"/gitchat/activity/5faa6d9d8ccd294da0c37acc\" target=\"_blank\" class=\"c-p inlineBlock hover-bg-for-grey p-a-15\"><div class=\"flex w-full a-center\"><div style=\"width:104px;height:104px;background-image:url(https://images.gitbook.cn/f756ed30-2ef0-11eb-a633-37d374a73d3f?imageslim)\" class=\"thumb-img no-shrink m-r-20 br-4\"></div><div style=\"height:104px\" class=\"flex-column g-1 j-space-around\"><div class=\"flex a-center\"><div class=\"article-tag m-r-5 fs-14 no-shrink\">最新</div><div class=\"fs-18 bold hover-hlight txt-limit-1 user_select_text\">Shiro 企业级模板与原理解析</div></div><div class=\"fs-14 txt-limit-2 text-grey user_select_text\">Shiro 是一个安全框架，适合大部分的单体应用，上手简单，相对于 Spring Security 来说，对于新手用户简直是好太多了。\n",
      "\n",
      "基础的 Shiro 可能不能满足现在的开发了，比如对于 App 来说就有点问题，在 App 中处理 Cookie上可能有点麻烦，基于 Token 认证来说操作相对简单一些。\n",
      "\n",
      "以下内容适合使用过 Shiro 或者想直接用模板的人。\n",
      "\n",
      "大概会讲：\n",
      "\n",
      "- Shiro 是如何工作的\n",
      "- Shiro 过滤器为什么可以执行\n",
      "- Shiro 是如何去选择相应的过滤器的\n",
      "- Shiro 为什么要这样改\n",
      "- Shiro 常见解析 ”快捷类“\n",
      "- 项目地址\n",
      "- 代码操作教程</div><div class=\"fs-12 flex a-center j-space-between\"><div class=\"text-grey fs-12 flex a-center\">4天前<span class=\"m-l-30 user_select_text\">rookie</span><div class=\"m-h-3\">·</div><span class=\"user_select_text\">java工程师</span></div></div></div></div></a><a id=\"article-list-item\" href=\"/gitchat/activity/5fa667d21f577d4d9f42bf79\" target=\"_blank\" class=\"c-p inlineBlock hover-bg-for-grey p-a-15\"><div class=\"flex w-full a-center\"><div style=\"width:104px;height:104px;background-image:url(https://images.gitbook.cn/ffc6fda0-2ffb-11eb-9e6e-492b4066adc9?imageslim)\" class=\"thumb-img no-shrink m-r-20 br-4\"></div><div style=\"height:104px\" class=\"flex-column g-1 j-space-around\"><div class=\"flex a-center\"><div class=\"article-tag m-r-5 fs-14 no-shrink\">最新</div><div class=\"fs-18 bold hover-hlight txt-limit-1 user_select_text\">从底层架构认识 ClickHouse</div></div><div class=\"fs-14 txt-limit-2 text-grey user_select_text\">ClickHouse 一般用户 OLAP 场景，即基于大宽表的聚合查询，在这种场景下，ClickHouse 是目前性能最好的，简单说，就是快！那么其底层架构是如何实现的，如何做到 90% 的查询能够在 1 秒内返回，我们一起来聊聊。\n",
      "\n",
      "在本场 Chat 中，会讲到如下内容：\n",
      "\n",
      "1. ClickHouse 性能优势\n",
      "2. ClickHouse 引擎\n",
      "3. MergeTree 引擎：逻辑视图和物理视图上的数据存储方式\n",
      "4. MergeTree 引擎：稀疏索引\n",
      "5. 高性能的原因\n",
      "6. 计算引擎：向量化执行\n",
      "7. 为什么适合大宽表的聚合分析\n",
      "\n",
      "适合人群： 对 ClickHouse 有兴趣的技术人员</div><div class=\"fs-12 flex a-center j-space-between\"><div class=\"text-grey fs-12 flex a-center\">4天前<span class=\"m-l-30 user_select_text\">Kane</span><div class=\"m-h-3\">·</div><span class=\"user_select_text\">高级大数据工程师</span></div></div></div></div></a></div><script>let expand = false;\n",
      "const tabsHeight = $('.tabs-container').height();\n",
      "if (tabsHeight > 20) {\n",
      "  $('.arrow-btn').css('visibility','visible').click(() => {\n",
      "    expand = !expand;\n",
      "    if (expand) {\n",
      "      $('.tabs-container').parent().addClass('fit-content');\n",
      "      $('.arrow-up').show();\n",
      "      $('.arrow-down').hide();\n",
      "    } else {\n",
      "      $('.tabs-container').parent().removeClass('fit-content');\n",
      "      $('.arrow-up').hide();\n",
      "      $('.arrow-down').show();\n",
      "    }\n",
      "  });\n",
      "}</script><style>.waiting-article-card {\n",
      "  float: left;\n",
      "  padding-top: 20%;\n",
      "  position: relative;\n",
      "  width: 32%;\n",
      "  margin-right: 2%;\n",
      "  box-sizing: border-box !important;\n",
      "  margin-bottom: 20px;\n",
      "}\n",
      ".waiting-article-card .card {\n",
      "  top: 0;\n",
      "  height: 100%;\n",
      "  width: 100%;\n",
      "  padding: 8px;\n",
      "  padding-top: 3px;\n",
      "  z-index: 11;\n",
      "  background: #fff;\n",
      "  box-shadow: none;\n",
      "  transition: box-shadow .5s ease, transform .5s ease;\n",
      "}\n",
      ".author-header {\n",
      "  top: -10px;\n",
      "  left: 8px;\n",
      "  width: 37px;\n",
      "  height: 37px;\n",
      "  border-radius: 100%;\n",
      "  z-index: 12;\n",
      "}\n",
      ".waiting-article-card .card:hover {\n",
      "  box-shadow:0px 2px 10px 0px rgba(58,65,86,0.1);\n",
      "  transform: scale(1.1);\n",
      "  z-index: 13;\n",
      "}\n",
      "</style><div class=\"p-a-15 o-hidden\"><div class=\"flex j-space-between a-center\"><div class=\"flex a-center\"><h4 class=\"m-r-20\">等待助力</h4><span class=\"text-grey\">助力作者完成达标，就可以看到这篇文章啦</span></div></div><div class=\"m-v-15\"><a href=\"/gitchat/activity/5f69a4a83334370f1f80cc62\" target=\"_blank\" class=\"waiting-article-card c-p\"><div class=\"card gc-add-border br-4 absolute flex-column j-space-around\"><img src=\"http://thirdwx.qlogo.cn/mmopen/vi_32/uwJia43CReZpp8KIaicgvdeASOydAnj3ufiarzibzHe1ia7qSpl5qIgPcf64ruBZric1aNEicqHqlxfVQiarXOA7z5qu2Q/132\" alt=\"作者：5f461f6d291a33221f789749\" class=\"absolute author-header\"><div style=\"padding-left: 45px\" class=\"flex a-center j-space-between user_select_text\">无名<div style=\"background:linear-gradient(270deg,rgba(255,112,10,1) 0%,rgba(254,111,62,1) 100%);line-height:14px;\" class=\"br-8 p-h-4 text-normal fs-12 p-v-1\">还差<span class=\"fs-14 inlineBlock m-h-3 bold gc-font-br\">2425</span>人</div></div><div class=\"m-a-0 txt-limit-2 fs-14 bold user_select_text\">深入理解 Socket 缓冲区</div><div class=\"m-t-5 fs-12 text-grey\">还差<span class=\"fs-16 bold text-gc-orange inlineBlock m-h-3\">2425</span>人助力订阅，作者就可以在<span class=\"fs-16 bold text-gc-orange inlineBlock m-h-3\">13</span>天后发布文章啦</div></div></a><a href=\"/gitchat/activity/5fb4ea3f3922905ec04e35cf\" target=\"_blank\" class=\"waiting-article-card c-p\"><div class=\"card gc-add-border br-4 absolute flex-column j-space-around\"><img src=\"http://images.gitbook.cn/Ftq_krAYkfxBx4aEpk__mNo3y_VJ\" alt=\"作者：5d08ed9e11ce7c0efdc80c80\" class=\"absolute author-header\"><div style=\"padding-left: 45px\" class=\"flex a-center j-space-between user_select_text\">贾斯汀<div style=\"background:linear-gradient(270deg,rgba(255,112,10,1) 0%,rgba(254,111,62,1) 100%);line-height:14px;\" class=\"br-8 p-h-4 text-normal fs-12 p-v-1\">还差<span class=\"fs-14 inlineBlock m-h-3 bold gc-font-br\">35</span>人</div></div><div class=\"m-a-0 txt-limit-2 fs-14 bold user_select_text\">论如何将网页写进 ESP32/8266 实现配网获取天气！（附源码）</div><div class=\"m-t-5 fs-12 text-grey\">还差<span class=\"fs-16 bold text-gc-orange inlineBlock m-h-3\">35</span>人助力订阅，作者就可以在<span class=\"fs-16 bold text-gc-orange inlineBlock m-h-3\">20</span>天后发布文章啦</div></div></a><a style=\"margin: 0 !important\" href=\"/gitchat/activity/5fb5f8c3ba1ba05ec14d1cd5\" target=\"_blank\" class=\"waiting-article-card c-p\"><div class=\"card gc-add-border br-4 absolute flex-column j-space-around\"><img src=\"https://images.gitbook.cn/2f8875d0-f9e5-11e9-8349-cd2016f766f5\" alt=\"作者：5db78b489b9f4c3f6a3424dc\" class=\"absolute author-header\"><div style=\"padding-left: 45px\" class=\"flex a-center j-space-between user_select_text\">薛定喵君<div style=\"background:linear-gradient(270deg,rgba(255,112,10,1) 0%,rgba(254,111,62,1) 100%);line-height:14px;\" class=\"br-8 p-h-4 text-normal fs-12 p-v-1\">还差<span class=\"fs-14 inlineBlock m-h-3 bold gc-font-br\">4</span>人</div></div><div class=\"m-a-0 txt-limit-2 fs-14 bold user_select_text\">腾讯云 TCB 云函数实现任意微信公众号话题标签文章抓取</div><div class=\"m-t-5 fs-12 text-grey\">还差<span class=\"fs-16 bold text-gc-orange inlineBlock m-h-3\">4</span>人助力订阅，作者就可以在<span class=\"fs-16 bold text-gc-orange inlineBlock m-h-3\">7</span>天后发布文章啦</div></div></a><a href=\"/gitchat/activity/5fb6670eba1ba05ec14d1e50\" target=\"_blank\" class=\"waiting-article-card c-p\"><div class=\"card gc-add-border br-4 absolute flex-column j-space-around\"><img src=\"https://images.gitbook.cn/FmpZb5rDPElIXnNb26ZJbvZWTvdy\" alt=\"作者：5e61bd28b6ea0b5d4d5de726\" class=\"absolute author-header\"><div style=\"padding-left: 45px\" class=\"flex a-center j-space-between user_select_text\">一秋<div style=\"background:linear-gradient(270deg,rgba(255,112,10,1) 0%,rgba(254,111,62,1) 100%);line-height:14px;\" class=\"br-8 p-h-4 text-normal fs-12 p-v-1\">还差<span class=\"fs-14 inlineBlock m-h-3 bold gc-font-br\">11</span>人</div></div><div class=\"m-a-0 txt-limit-2 fs-14 bold user_select_text\">解密一线厂商大数据岗位细分及面试要求</div><div class=\"m-t-5 fs-12 text-grey\">还差<span class=\"fs-16 bold text-gc-orange inlineBlock m-h-3\">11</span>人助力订阅，作者就可以在<span class=\"fs-16 bold text-gc-orange inlineBlock m-h-3\">7</span>天后发布文章啦</div></div></a><a href=\"/gitchat/activity/5fb79e2d720cc95f0e33416b\" target=\"_blank\" class=\"waiting-article-card c-p\"><div class=\"card gc-add-border br-4 absolute flex-column j-space-around\"><img src=\"https://images.gitbook.cn/e2c373e0-e97b-11e9-8926-8f8e1fb3395a\" alt=\"作者：5b20f0d691ca5411a04ae2c0\" class=\"absolute author-header\"><div style=\"padding-left: 45px\" class=\"flex a-center j-space-between user_select_text\">wangweijun<div style=\"background:linear-gradient(270deg,rgba(255,112,10,1) 0%,rgba(254,111,62,1) 100%);line-height:14px;\" class=\"br-8 p-h-4 text-normal fs-12 p-v-1\">还差<span class=\"fs-14 inlineBlock m-h-3 bold gc-font-br\">8</span>人</div></div><div class=\"m-a-0 txt-limit-2 fs-14 bold user_select_text\">网络爬虫之爬取新冠疫情最新数据</div><div class=\"m-t-5 fs-12 text-grey\">还差<span class=\"fs-16 bold text-gc-orange inlineBlock m-h-3\">8</span>人助力订阅，作者就可以在<span class=\"fs-16 bold text-gc-orange inlineBlock m-h-3\">9</span>天后发布文章啦</div></div></a><a style=\"margin: 0 !important\" href=\"/gitchat/activity/5fb79ea5c4b5045f0f07c523\" target=\"_blank\" class=\"waiting-article-card c-p\"><div class=\"card gc-add-border br-4 absolute flex-column j-space-around\"><img src=\"https://images.gitbook.cn/e2c373e0-e97b-11e9-8926-8f8e1fb3395a\" alt=\"作者：5b20f0d691ca5411a04ae2c0\" class=\"absolute author-header\"><div style=\"padding-left: 45px\" class=\"flex a-center j-space-between user_select_text\">wangweijun<div style=\"background:linear-gradient(270deg,rgba(255,112,10,1) 0%,rgba(254,111,62,1) 100%);line-height:14px;\" class=\"br-8 p-h-4 text-normal fs-12 p-v-1\">还差<span class=\"fs-14 inlineBlock m-h-3 bold gc-font-br\">14</span>人</div></div><div class=\"m-a-0 txt-limit-2 fs-14 bold user_select_text\">SSM 框架项目整合中的那些细节</div><div class=\"m-t-5 fs-12 text-grey\">还差<span class=\"fs-16 bold text-gc-orange inlineBlock m-h-3\">14</span>人助力订阅，作者就可以在<span class=\"fs-16 bold text-gc-orange inlineBlock m-h-3\">12</span>天后发布文章啦</div></div></a><a href=\"/gitchat/activity/5fb79f17720cc95f0e33416f\" target=\"_blank\" class=\"waiting-article-card c-p\"><div class=\"card gc-add-border br-4 absolute flex-column j-space-around\"><img src=\"https://images.gitbook.cn/e2c373e0-e97b-11e9-8926-8f8e1fb3395a\" alt=\"作者：5b20f0d691ca5411a04ae2c0\" class=\"absolute author-header\"><div style=\"padding-left: 45px\" class=\"flex a-center j-space-between user_select_text\">wangweijun<div style=\"background:linear-gradient(270deg,rgba(255,112,10,1) 0%,rgba(254,111,62,1) 100%);line-height:14px;\" class=\"br-8 p-h-4 text-normal fs-12 p-v-1\">还差<span class=\"fs-14 inlineBlock m-h-3 bold gc-font-br\">11</span>人</div></div><div class=\"m-a-0 txt-limit-2 fs-14 bold user_select_text\">Vue 前端框架完全掌握</div><div class=\"m-t-5 fs-12 text-grey\">还差<span class=\"fs-16 bold text-gc-orange inlineBlock m-h-3\">11</span>人助力订阅，作者就可以在<span class=\"fs-16 bold text-gc-orange inlineBlock m-h-3\">12</span>天后发布文章啦</div></div></a><a href=\"/gitchat/activity/5fb7e96bba1ba05ec14d21d3\" target=\"_blank\" class=\"waiting-article-card c-p\"><div class=\"card gc-add-border br-4 absolute flex-column j-space-around\"><img src=\"https://images.gitbook.cn/ef501ac0-da1a-11e9-a7ef-ddf0c6208feb\" alt=\"作者：5d823592a883f57676338b3b\" class=\"absolute author-header\"><div style=\"padding-left: 45px\" class=\"flex a-center j-space-between user_select_text\">扎克斯<div style=\"background:linear-gradient(270deg,rgba(255,112,10,1) 0%,rgba(254,111,62,1) 100%);line-height:14px;\" class=\"br-8 p-h-4 text-normal fs-12 p-v-1\">还差<span class=\"fs-14 inlineBlock m-h-3 bold gc-font-br\">15</span>人</div></div><div class=\"m-a-0 txt-limit-2 fs-14 bold user_select_text\">Python 装饰器详解</div><div class=\"m-t-5 fs-12 text-grey\">还差<span class=\"fs-16 bold text-gc-orange inlineBlock m-h-3\">15</span>人助力订阅，作者就可以在<span class=\"fs-16 bold text-gc-orange inlineBlock m-h-3\">7</span>天后发布文章啦</div></div></a><a style=\"margin: 0 !important\" href=\"/gitchat/activity/5fb8e4cb720cc95f0e33435b\" target=\"_blank\" class=\"waiting-article-card c-p\"><div class=\"card gc-add-border br-4 absolute flex-column j-space-around\"><img src=\"https://images.gitbook.cn/4a487a30-d649-11e7-af65-8501d8a20035\" alt=\"作者：5a20cf08d161595700e0d9d5\" class=\"absolute author-header\"><div style=\"padding-left: 45px\" class=\"flex a-center j-space-between user_select_text\">Future<div style=\"background:linear-gradient(270deg,rgba(255,112,10,1) 0%,rgba(254,111,62,1) 100%);line-height:14px;\" class=\"br-8 p-h-4 text-normal fs-12 p-v-1\">还差<span class=\"fs-14 inlineBlock m-h-3 bold gc-font-br\">3</span>人</div></div><div class=\"m-a-0 txt-limit-2 fs-14 bold user_select_text\">你写的拦截器为什么注入不了 Java Bean</div><div class=\"m-t-5 fs-12 text-grey\">还差<span class=\"fs-16 bold text-gc-orange inlineBlock m-h-3\">3</span>人助力订阅，作者就可以在<span class=\"fs-16 bold text-gc-orange inlineBlock m-h-3\">8</span>天后发布文章啦</div></div></a></div></div><style>#link2-all-artical:hover { color: #fff; }</style><div class=\"p-v-15\"><div class=\"flex j-space-between a-center p-h-15\"><div class=\"flex a-center\"><h4 class=\"m-r-20\">严选 Chat</h4><span class=\"text-grey\">优质作者完成的Chat，文章已发布，即刻可读</span></div><a href=\"/chat?strict=1\" class=\"text-grey hover-text-gc-orange c-p\">查看更多 ></a></div><a id=\"article-list-item\" href=\"/gitchat/activity/5f5dd38d8351d121c278df55\" target=\"_blank\" class=\"c-p inlineBlock hover-bg-for-grey p-a-15\"><div class=\"flex w-full a-center\"><div style=\"width:104px;height:104px;background-image:url(https://images.gitbook.cn/Ft4QXR2idkhisZ50pf72-zO1i3p5?imageslim)\" class=\"thumb-img no-shrink m-r-20 br-4\"></div><div style=\"height:104px\" class=\"flex-column g-1 j-space-around\"><div class=\"flex a-center\"><div class=\"fs-18 bold hover-hlight txt-limit-1 user_select_text\">手写线程池，全面了解 JDK 线程池实现原理</div></div><div class=\"fs-14 txt-limit-2 text-grey user_select_text\">线程池，顾名思义就是存放线程的池子，池子中存放了很多可复用的线程。同时作为面试必备考点，大多数面试者对线程池还是停留在一些基础概念上，对其中的关键点及原理理解不到位或者不深刻，这将会为自己的面试大大减分。本篇 Chat 将以 JDK 线程池为背景，从零到一实现自己的线程池，麻雀虽小，五脏俱全。如果对本 Chat 都理解了，再返回去看 JDK 线程池，例如 ThreadPoolExecutor 等源码，将会得心应手。\n",
      "\n",
      "在本场 Chat 中，将会涉及如下内容：\n",
      "\n",
      "-  基于 Runnable 实现不带返回值的任务\n",
      "-  基于 Callable 实现带返回值的任务\n",
      "-  实现任务的异常处理，将线程中的异常能够抛到线程外\n",
      "-  利用 AtomicXXX 原子类的 CAS 特性并发控制变量的原子操作\n",
      "-  基于自旋方式从队列中获取任务并执行，实现线程复用机制\n",
      "-  基于 LockSupport.park/unpark 实现主线程获取任务返回值\n",
      "-  控制线程数量，做到线程队列良好的伸缩性\n",
      "-  灵活实现任务拒绝策略</div><div class=\"fs-12 flex a-center j-space-between\"><div class=\"text-grey fs-12 flex a-center\"><span class=\"user_select_text\">Limynl</span><div class=\"m-h-3\">·</div><span class=\"user_select_text\">Java高级工程师</span></div><div style=\"border-color:#F3F3F3;border-radius:14px\" class=\"gc-add-border p-h-8 p-v-2 fs-12 text-grey flex a-center\"><span>线程池</span><div class=\"m-h-5\">·</div><span>198</span>&nbsp;订阅<div class=\"arrow-right-circle m-l-5\"></div></div></div></div></div></a><a id=\"article-list-item\" href=\"/gitchat/activity/5f620af9e8f6415f69856d2c\" target=\"_blank\" class=\"c-p inlineBlock hover-bg-for-grey p-a-15\"><div class=\"flex w-full a-center\"><div style=\"width:104px;height:104px;background-image:url(https://images.gitbook.cn/de9afc00-fe71-11ea-a23c-cb79ad67f6c6?imageslim)\" class=\"thumb-img no-shrink m-r-20 br-4\"></div><div style=\"height:104px\" class=\"flex-column g-1 j-space-around\"><div class=\"flex a-center\"><div class=\"fs-18 bold hover-hlight txt-limit-1 user_select_text\">Kafka 实战教程与面试题讲解</div></div><div class=\"fs-14 txt-limit-2 text-grey user_select_text\">Kafka 是一个分布式的、发布-订阅式消息中间件。最初是由 Linkedin 领英公司基于 Scala 和 Java 语言开发的分布式消息系统，现已捐献给 Apache 软件基金会。事实上 Kafka 不仅仅是一个消息队列（MQ），其已然成为一个开源的分布式流处理平台。Kafka 具有高吞吐、低延迟的特性，许多大数据处理系统比如 Storm、Spark、Flink 等都能很好地与之集成。\n",
      "\n",
      "在本场 Chat 中，将会讲到如下内容：\n",
      "- Kafka 概述\n",
      "- Kafka 体系结构\n",
      "- 分区和主题\n",
      "- Kafka 文件存储机制\n",
      "- Kafka 安装与配置\n",
      "- Kafka 监控管理\n",
      "- Kafka 生产者消费者脚本\n",
      "- Kafka 生产者客户端 API\n",
      "- Kafka 消费者客户端 API\t\n",
      "- Kafka 事务\n",
      "- Spring Boot 集成 Kafka\n",
      "- Kafka 面试题集锦\n",
      "\n",
      "**适合人群**：对消息队列感兴趣，在实际开发中需要使用 Kafka 的技术人员</div><div class=\"fs-12 flex a-center j-space-between\"><div class=\"text-grey fs-12 flex a-center\"><span class=\"user_select_text\">大鸟说说</span><div class=\"m-h-3\">·</div><span class=\"user_select_text\">攻城狮||程序猿</span></div><div style=\"border-color:#F3F3F3;border-radius:14px\" class=\"gc-add-border p-h-8 p-v-2 fs-12 text-grey flex a-center\"><span>Kafka</span><div class=\"m-h-5\">·</div><span>170</span>&nbsp;订阅<div class=\"arrow-right-circle m-l-5\"></div></div></div></div></div></a><div class=\"p-h-15\"><div class=\"flex a-center j-space-between\"><div class=\"flex a-center\"><img src=\"https://images.gitbook.cn/Flv0rl-UpH5JZaK6H_vzM9czHi1i?imageView2/0/h/250\" width=\"17\" height=\"17\" class=\"m-r-5\"><h4 class=\"m-r-20 text-gc-orange\">领域话题</h4></div><a href=\"/gitchat/series/list\" target=\"_self\" class=\"text-grey hover-text-gc-orange\">查看更多 ></a></div><a href=\"gitchat/series/5ed70d45b73f3b2e1807f03a\" target=\"_blank\" class=\"f-t-horz-card relative fl\"><div class=\"card gc-add-border br-6 p-a-10 flex-column a-center j-space-between c-p\"><div style=\"padding-top: 70%;\" class=\"relative o-hidden w-full\"><img style=\"top: 0;z-index: 11\" src=\"https://images.gitbook.cn/f858b890-a542-11ea-8e5f-87b8ab7dc5af\" class=\"absolute br-4 w-full h-full\"><div style=\"left: 0;bottom: 0;z-index:12;\" class=\"follow-mask bold absolute text-normal fs-12 w-full p-l-3 p-b-3\">8586&nbsp;人关注</div></div><div><div style=\"border-left: 3px solid #FF700A\" class=\"fs-14 bold p-l-8 txt-limit-1 user_select_text\">Java 高并发难题一网打尽</div><div style=\"padding-left: 13px\" class=\"fs-12 bold text-grey w-full m-t-5\">8篇文章</div></div><div class=\"enter-btn p-v-3 p-h-6 br-2 gc-add-border\">进入话题</div></div></a><a href=\"gitchat/series/5e9fde6e2b347727958797ac\" target=\"_blank\" class=\"f-t-horz-card relative fl\"><div class=\"card gc-add-border br-6 p-a-10 flex-column a-center j-space-between c-p\"><div style=\"padding-top: 70%;\" class=\"relative o-hidden w-full\"><img style=\"top: 0;z-index: 11\" src=\"https://images.gitbook.cn/d323c330-845e-11ea-b660-dd3206d7683b\" class=\"absolute br-4 w-full h-full\"><div style=\"left: 0;bottom: 0;z-index:12;\" class=\"follow-mask bold absolute text-normal fs-12 w-full p-l-3 p-b-3\">12896&nbsp;人关注</div></div><div><div style=\"border-left: 3px solid #FF700A\" class=\"fs-14 bold p-l-8 txt-limit-1 user_select_text\">Java 开发者必学的基础知识</div><div style=\"padding-left: 13px\" class=\"fs-12 bold text-grey w-full m-t-5\">12篇文章</div></div><div class=\"enter-btn p-v-3 p-h-6 br-2 gc-add-border\">进入话题</div></div></a><a href=\"gitchat/series/5e8428576a28093c950debe9\" target=\"_blank\" class=\"f-t-horz-card relative fl\"><div class=\"card gc-add-border br-6 p-a-10 flex-column a-center j-space-between c-p\"><div style=\"padding-top: 70%;\" class=\"relative o-hidden w-full\"><img style=\"top: 0;z-index: 11\" src=\"https://images.gitbook.cn/c5da6330-73da-11ea-aebe-b1d52f058e6a\" class=\"absolute br-4 w-full h-full\"><div style=\"left: 0;bottom: 0;z-index:12;\" class=\"follow-mask bold absolute text-normal fs-12 w-full p-l-3 p-b-3\">7430&nbsp;人关注</div></div><div><div style=\"border-left: 3px solid #FF700A\" class=\"fs-14 bold p-l-8 txt-limit-1 user_select_text\">Java 问题定位方法和工具</div><div style=\"padding-left: 13px\" class=\"fs-12 bold text-grey w-full m-t-5\">7篇文章</div></div><div class=\"enter-btn p-v-3 p-h-6 br-2 gc-add-border\">进入话题</div></div></a><a style=\"margin: 0 !important\" href=\"gitchat/series/5e7b38589bbb1d452bee31ec\" target=\"_blank\" class=\"f-t-horz-card relative fl\"><div class=\"card gc-add-border br-6 p-a-10 flex-column a-center j-space-between c-p\"><div style=\"padding-top: 70%;\" class=\"relative o-hidden w-full\"><img style=\"top: 0;z-index: 11\" src=\"https://images.gitbook.cn/7298b6c0-6f27-11ea-b115-9d81e79daf58\" class=\"absolute br-4 w-full h-full\"><div style=\"left: 0;bottom: 0;z-index:12;\" class=\"follow-mask bold absolute text-normal fs-12 w-full p-l-3 p-b-3\">15348&nbsp;人关注</div></div><div><div style=\"border-left: 3px solid #FF700A\" class=\"fs-14 bold p-l-8 txt-limit-1 user_select_text\">如何进行系统架构设计？</div><div style=\"padding-left: 13px\" class=\"fs-12 bold text-grey w-full m-t-5\">23篇文章</div></div><div class=\"enter-btn p-v-3 p-h-6 br-2 gc-add-border\">进入话题</div></div></a></div><a id=\"article-list-item\" href=\"/gitchat/activity/5e6835d2833e9438d0f0709e\" target=\"_blank\" class=\"c-p inlineBlock hover-bg-for-grey p-a-15\"><div class=\"flex w-full a-center\"><div style=\"width:104px;height:104px;background-image:url(https://images.gitbook.cn/Fi3wj7UuLW1ULmdL-Z55jPazb9Q9?imageslim)\" class=\"thumb-img no-shrink m-r-20 br-4\"></div><div style=\"height:104px\" class=\"flex-column g-1 j-space-around\"><div class=\"flex a-center\"><div class=\"fs-18 bold hover-hlight txt-limit-1 user_select_text\">动态代理种类及原理，你知道多少？</div></div><div class=\"fs-14 txt-limit-2 text-grey user_select_text\">动态代理是代理模式的一种，指在不改动目标对象的基础上，通过一些辅助技术，能够对目标对象实现功能扩展。动态代理的应用场景也是非常广泛，比如常见 Hibernate、Spring、Dubbo 等框架均有运用，因此在了解了常见的动态代理种类及原理后，无疑对这些框架相关部分会理解得更加透彻。同时在面试中，如果能把本文涉及的知识点都讲到，那将会大大增加录用的几率。\n",
      "\n",
      "在本场 Chat 中，将会涉及如下内容：\n",
      "\n",
      "- 对静态代理回顾，与动态代理本质区别\n",
      "- JDK 动态代理实现，动态生成代理类源码剖析\n",
      "- Cglib 代理方式实现，反编译代理类源码剖析\n",
      "- Javassist 字节码 API 两种情景演示\n",
      "- 使用 Javassist 动态生成代理类，模拟 JDK 动态代理\n",
      "- Cglib 底层字节码 ASM 框架介绍</div><div class=\"fs-12 flex a-center j-space-between\"><div class=\"text-grey fs-12 flex a-center\"><span class=\"user_select_text\">Limynl</span><div class=\"m-h-3\">·</div><span class=\"user_select_text\">Java高级工程师</span></div><div style=\"border-color:#F3F3F3;border-radius:14px\" class=\"gc-add-border p-h-8 p-v-2 fs-12 text-grey flex a-center\"><span>代理</span><div class=\"m-h-5\">·</div><span>287</span>&nbsp;订阅<div class=\"arrow-right-circle m-l-5\"></div></div></div></div></div></a><a id=\"article-list-item\" href=\"/gitchat/activity/5f07e13bab6c1d295d75ced6\" target=\"_blank\" class=\"c-p inlineBlock hover-bg-for-grey p-a-15\"><div class=\"flex w-full a-center\"><div style=\"width:104px;height:104px;background-image:url(https://images.gitbook.cn/4c85bb30-d7b0-11ea-9d0f-7d943bcd0777?imageslim)\" class=\"thumb-img no-shrink m-r-20 br-4\"></div><div style=\"height:104px\" class=\"flex-column g-1 j-space-around\"><div class=\"flex a-center\"><div class=\"fs-18 bold hover-hlight txt-limit-1 user_select_text\">React 中实现权限管理（前端）</div></div><div class=\"fs-14 txt-limit-2 text-grey user_select_text\">权限管理分为后端权限与前端权限，主要介绍 React 中实现前端权限管理具体方法。\n",
      "\n",
      "在本场 Chat 中，会讲到如下内容：\n",
      "1. 动态生成菜单（使用 antd）\n",
      "2. 动态生成路由（使用 mobx 存储数据）\n",
      "3. 整个的流程，登录成功，获取数据，进行存储，动态生成菜单与路由的整个过程\n",
      "采用框架 create-react-app</div><div class=\"fs-12 flex a-center j-space-between\"><div class=\"text-grey fs-12 flex a-center\"><span class=\"user_select_text\">doubleyong</span><div class=\"m-h-3\">·</div><span class=\"user_select_text\">项目经理</span></div><div style=\"border-color:#F3F3F3;border-radius:14px\" class=\"gc-add-border p-h-8 p-v-2 fs-12 text-grey flex a-center\"><span>React.js</span><div class=\"m-h-5\">·</div><span>168</span>&nbsp;订阅<div class=\"arrow-right-circle m-l-5\"></div></div></div></div></div></a><a id=\"article-list-item\" href=\"/gitchat/activity/5ef782a534b17609e14c5324\" target=\"_blank\" class=\"c-p inlineBlock hover-bg-for-grey p-a-15\"><div class=\"flex w-full a-center\"><div style=\"width:104px;height:104px;background-image:url(https://images.gitbook.cn/dcafc440-d002-11ea-b9bb-4faf075ff50b?imageslim)\" class=\"thumb-img no-shrink m-r-20 br-4\"></div><div style=\"height:104px\" class=\"flex-column g-1 j-space-around\"><div class=\"flex a-center\"><div class=\"fs-18 bold hover-hlight txt-limit-1 user_select_text\">大数据开发技能储备&amp;面试指南</div></div><div class=\"fs-14 txt-limit-2 text-grey user_select_text\">大数据技术目前十分火热，但是面对种类繁多的开源框架，如何学习才能更高效？面试前如何准备，才能提高简历筛选通过率？面试中如何应对，才能提高面试成功率？\n",
      "\n",
      "本文从面试实战中，提炼出大数据开发重要知识点，详细讲解，绝非提纲式阐述，会结合实际场景讲应用、讲原理，绝对干货\n",
      "\n",
      "本 Chat 包含以下几方面内容：\n",
      "\n",
      "1. 技能储备\n",
      "    - 大数据项目中，常用的 Java 基础知识，包含 Hashmap、序列化、并发等重点知识\n",
      "    - 大数据项目中，常见的算法数据结构，结合面试真题讲解算法应用、原理\n",
      "    -  Hadoop/Hive 必备基础知识，以及考点、面试真题讲解\n",
      "2. 面试\n",
      "    - JD 识别以及简历准备\n",
      "    - 面试技巧，以及如何与面试官有效沟通\n",
      "</div><div class=\"fs-12 flex a-center j-space-between\"><div class=\"text-grey fs-12 flex a-center\"><span class=\"user_select_text\">一秋</span><div class=\"m-h-3\">·</div><span class=\"user_select_text\">数据架构师</span></div><div style=\"border-color:#F3F3F3;border-radius:14px\" class=\"gc-add-border p-h-8 p-v-2 fs-12 text-grey flex a-center\"><span>大数据</span><div class=\"m-h-5\">·</div><span>242</span>&nbsp;订阅<div class=\"arrow-right-circle m-l-5\"></div></div></div></div></div></a><a id=\"article-list-item\" href=\"/gitchat/activity/5efede3644dfac09f99613e6\" target=\"_blank\" class=\"c-p inlineBlock hover-bg-for-grey p-a-15\"><div class=\"flex w-full a-center\"><div style=\"width:104px;height:104px;background-image:url(https://images.gitbook.cn/73033790-cc1d-11ea-9379-c723f8642543?imageslim)\" class=\"thumb-img no-shrink m-r-20 br-4\"></div><div style=\"height:104px\" class=\"flex-column g-1 j-space-around\"><div class=\"flex a-center\"><div class=\"fs-18 bold hover-hlight txt-limit-1 user_select_text\">前端框架及项目面试：聚焦 Vue 原理与实战</div></div><div class=\"fs-14 txt-limit-2 text-grey user_select_text\">前端面试时，除了考察原生基础之外，还必考 Vue 框架内容，对于求职者是刚需。在这基础上，还会考察能力方面，即项目设计和项目经验，最终才能通过。\n",
      "\n",
      "掌握一个框架原理的时候，不一定要一行一行去看源码，毕竟太耗时而且枯燥，正确路线应该先通过别人写的博客，或者视频先掌握框架的大体原理，知道大体原理后，看源码才会事半功倍。\n",
      "\n",
      "文章会把 Vue.js 拆分成多个小模块，讲解模块间的依赖以及调用关系。然后将源码核心部分抽离压缩，各个模块以小 Demo 的形式展现出来，用最少的代码讲解内部实现。掌握了这些模块的核心原理之后，你足可以应对所有的前端 Vue 技术面试。\n",
      "\n",
      "在本场 Chat 中，会讲到如下内容：\n",
      "* 响应式系统的基本原理\n",
      "* 响应式系统的依赖收集追踪原理\n",
      "* 异步更新策略及 nextTick 原理\n",
      "* 虚拟（Virtual ）DOM 和 Diff 算法\n",
      "* 数据状态管理 Vuex 工作原理\n",
      "\n",
      "**适合人群**： 工作 1-3 年的初中级前端工程师，需要修炼内力提升对框架的理解</div><div class=\"fs-12 flex a-center j-space-between\"><div class=\"text-grey fs-12 flex a-center\"><span class=\"user_select_text\">VC橙</span><div class=\"m-h-3\">·</div><span class=\"user_select_text\">前端技术团队</span></div><div style=\"border-color:#F3F3F3;border-radius:14px\" class=\"gc-add-border p-h-8 p-v-2 fs-12 text-grey flex a-center\"><span>Vue.js</span><div class=\"m-h-5\">·</div><span>192</span>&nbsp;订阅<div class=\"arrow-right-circle m-l-5\"></div></div></div></div></div></a><a id=\"article-list-item\" href=\"/gitchat/activity/5ed9103a63e9604b8f0b0fae\" target=\"_blank\" class=\"c-p inlineBlock hover-bg-for-grey p-a-15\"><div class=\"flex w-full a-center\"><div style=\"width:104px;height:104px;background-image:url(https://images.gitbook.cn/6ca89810-c83d-11ea-933d-77cb7bd575f8?imageslim)\" class=\"thumb-img no-shrink m-r-20 br-4\"></div><div style=\"height:104px\" class=\"flex-column g-1 j-space-around\"><div class=\"flex a-center\"><div class=\"fs-18 bold hover-hlight txt-limit-1 user_select_text\">学了这篇 Zookeeper，分分钟钟写出分布式应用程序</div></div><div class=\"fs-14 txt-limit-2 text-grey user_select_text\">Zookeeper 是 Apache 软件基金会顶级的开源项目之一，在我们熟知的分布式领域中，Dubbo 就是用它来实现服务注册与发现的，当然在 Kafka 中也有它的影子，主要用它来实现服务器之间的协调、生产者负载均衡、Topic 与 Broker 的注册等等，可见它的作用很强大，但是如果抛开这些开源的项目，让你来设计一个高可用的分布式架构，你可以胜任吗？那还用说？当然可以了！不过前提条件我们得有这方面的技能，所以还是要踏踏实实的去学习它，相信有了 Zookeeper 的介入，你定能会设计出属于自己的分布式应用程序，所以本场 Chat 你值得拥有！\n",
      "\n",
      "\n",
      "\n",
      "在本场 Chat 中，会讲到如下内容：\n",
      "\n",
      "- Zookeeper 的核心理念与角色分析。\n",
      "- 集群的搭建步骤与实操。\n",
      "- 节点类型与常用命令。\n",
      "- Zookeeper 的读写流程。\n",
      "- ZAB协议的分析。\n",
      "- Leader 挂掉之后的分析。\n",
      "- 第一个Zookeeper 应用程序的讲解。\n",
      "- 实现自己的服务注册、发现和负载均衡，掌握注册中心的精髓。\n",
      "- 实现一个几乎“永不宕机”的 HA 架构。\n",
      "- 分布式锁的实现，并与 Redis 实现的分布式锁做比较。\n",
      "- 其他应用场景的介绍。\n",
      "- 关于 Zookeeper 的一些思考。\n",
      "- 做最后的总结。\n",
      "\n",
      "温馨提示：实例代码使用的是 Java 语言。\n",
      "\n",
      "适合人群： 对分布式架构设计感兴趣的所有开发人员。\n",
      "\n",
      "\n",
      "\n",
      "\n",
      "\n",
      "\n",
      "\n",
      "\n",
      "\n",
      "\n",
      "\n",
      "\n",
      "\n",
      "\n",
      "\n",
      "</div><div class=\"fs-12 flex a-center j-space-between\"><div class=\"text-grey fs-12 flex a-center\"><span class=\"user_select_text\">清然</span><div class=\"m-h-3\">·</div><span class=\"user_select_text\">高级软件工程师</span></div><div style=\"border-color:#F3F3F3;border-radius:14px\" class=\"gc-add-border p-h-8 p-v-2 fs-12 text-grey flex a-center\"><span>ZooKeeper</span><div class=\"m-h-5\">·</div><span>441</span>&nbsp;订阅<div class=\"arrow-right-circle m-l-5\"></div></div></div></div></div></a><a id=\"article-list-item\" href=\"/gitchat/activity/5eb2e609edf3136c22fcffd2\" target=\"_blank\" class=\"c-p inlineBlock hover-bg-for-grey p-a-15\"><div class=\"flex w-full a-center\"><div style=\"width:104px;height:104px;background-image:url(https://images.gitbook.cn/84c023d0-aa58-11ea-a382-1bc24e5c2d40?imageslim)\" class=\"thumb-img no-shrink m-r-20 br-4\"></div><div style=\"height:104px\" class=\"flex-column g-1 j-space-around\"><div class=\"flex a-center\"><div class=\"fs-18 bold hover-hlight txt-limit-1 user_select_text\">千亿数据的潘多拉魔盒：从分库分表到分布式数据库</div></div><div class=\"fs-14 txt-limit-2 text-grey user_select_text\">近年来，随着国内互联网行业的加速发展，以及摩尔定律的实效，千亿数据的潘多拉魔盒早已打开，传统的开源/商业关系数据库早已遇到了容量的瓶颈。而容量告警则不仅意味着业务发展收到影响，同时对现有系统的稳定性和可用性、可维护性，也带来极大的挑战。\n",
      "\n",
      "从十年前起，淘宝等公司就遇到这类制约业务发展的技术问题，进而有了 TDDL 框架，2016 年当当网也发起了 Sharding-JDBC 项目，通过包装 JDBC，来屏蔽 MySQL 分库分表的逻辑，让业务系统想使用单机数据库一样方便。\n",
      "\n",
      "后来，JDBC 封装框架逐渐演变到中间件，在 TDDL 的基础上，淘宝逐渐发展出来了 DRDS，在 Sharding-JDBC 转移到 Apache 和京东数科以后又孵化出来了 Sharding-Proxy，都是以一个虚拟的 MySQL Server 提供更透明和无侵入的客户端接入服务。其他的中间件，像 MyCat 和 DBLE 也方兴未艾。\n",
      "\n",
      "另一方面，随着 Google 的 Spanner，阿里的 OceanBase 和 PolarDB，AWS 的 Aurora，PingCAP 的 TiDB，Cockroachlabs 的 CockroachDB 等商业或开源的技术作为代表，分布式数据库开始大规模兴起。这些技术试图通过一个直接的数据库来解决上述问题，而不仅仅是类库或中间件，这种增强 MySQL/PGSQL 的间接方式。当然，分布式数据库本身的复杂度，是另外一个话题。\n",
      "\n",
      "以上种种对于企业来说，都是试图通过采用类似 Apache ShardingSphere 这种分布式的数据库中间件、或者 CockroachDB 这种分布式数据库作为整体解决方案，增强数据库的吞吐能力，保证高可用和实时强一致性的同时，实现线性的水平扩展能力，在一定规模上提升企业信息系统的数据管理上限。本文将从这个整体的发展过程谈起，详细介绍每一个阶段技术的特点、解决的问题，适用的场景，带领大家了解千亿数据的秘密。\n",
      "\n",
      "计划写作大纲：\n",
      "\n",
      "- 从单机数据库讲起\n",
      "    - MySQL 的高可用与短板\n",
      "- 分库分表的优势与陷阱\n",
      "    - 哪些场景下我们需要用分库分表\n",
      "- 数据库中间件的技术选型\n",
      "    - 什么时候引入数据库中间件\n",
      "- NoSQL 与 NewSQL\n",
      "    - 当我们谈分布式数据库的时候，我们在谈什么\n",
      "    - 典型的几个分布式数据库\n",
      "</div><div class=\"fs-12 flex a-center j-space-between\"><div class=\"text-grey fs-12 flex a-center\"><span class=\"user_select_text\">秦金卫(kimmking)</span><div class=\"m-h-3\">·</div><span class=\"user_select_text\">高级技术总监</span></div><div style=\"border-color:#F3F3F3;border-radius:14px\" class=\"gc-add-border p-h-8 p-v-2 fs-12 text-grey flex a-center\"><span>数据仓库</span><div class=\"m-h-5\">·</div><span>687</span>&nbsp;订阅<div class=\"arrow-right-circle m-l-5\"></div></div></div></div></div></a><a id=\"article-list-item\" href=\"/gitchat/activity/5ea0e8dcb135b25b61e31b84\" target=\"_blank\" class=\"c-p inlineBlock hover-bg-for-grey p-a-15\"><div class=\"flex w-full a-center\"><div style=\"width:104px;height:104px;background-image:url(https://images.gitbook.cn/dd225310-99c6-11ea-9a3f-9b7e83504296?imageslim)\" class=\"thumb-img no-shrink m-r-20 br-4\"></div><div style=\"height:104px\" class=\"flex-column g-1 j-space-around\"><div class=\"flex a-center\"><div class=\"fs-18 bold hover-hlight txt-limit-1 user_select_text\">前端搞工程化：持续集成</div></div><div class=\"fs-14 txt-limit-2 text-grey user_select_text\">你工作 1～3 年时， 三大框架都有接触过了，平常需求来了，都能很好的完成，感觉遇到瓶颈了，想做些提效的工具又不知道从哪下手，网上文章有泛泛而谈，看完也不知道咋下手\n",
      "\n",
      "笔者在中台写前端，不夸张的说，写各种持续集成 CI 脚本快要写吐了，也给很多同事讲解过怎么样设计一套好用的 CI，还算比较有经验。能很好的梳理这些知识点，讲解清晰，通俗易懂的学会这些知识。网上这类文章都不集中，分散四处，不成体系，本次 Chat 的目的是，看完能在大脑形成一颗树状结构化知识\n",
      "\n",
      "因为大部分公司一般都用 Gitlab，这里主要用 Gitlab CI 讲解，会提供能直接用的 Demo。\n",
      "\n",
      "总之就是，看完能懂，懂完能抄，抄完能出成果。\n",
      "\n",
      "\n",
      "在本场 Chat 中，会讲到如下内容：\n",
      "\n",
      "-  写 CI 难道真的是上来一个 npm i  xxx-ci -g 么（最不喜欢就这种全局安装了，学习下 egg 优雅方式）\n",
      "-  Gitlab-CI 简单介绍\n",
      "-  Gitlab Restful API 介绍\n",
      "-  脚手架、本地创建项目 =&amp;amp;amp;gt; 自动同步到 Gitlab\n",
      "-  单页应用 push =&amp;amp;amp;gt; 打包构建 =&amp;amp;amp;gt; 发布 =&amp;amp;amp;gt; 接oss =&amp;amp;amp;gt; 自动刷新cdn =&amp;amp;amp;gt; 消息通知\n",
      "-  多页应用、增量构建\n",
      "-   微信小程序 push  =&amp;amp;amp;gt; 构建 =&amp;amp;amp;gt; 上传，一条龙服务\n",
      "-   npm 组件，构建发布一条龙\n",
      "</div><div class=\"fs-12 flex a-center j-space-between\"><div class=\"text-grey fs-12 flex a-center\"><span class=\"user_select_text\">hucheng</span><div class=\"m-h-3\">·</div><span class=\"user_select_text\">高级前端工程师</span></div><div style=\"border-color:#F3F3F3;border-radius:14px\" class=\"gc-add-border p-h-8 p-v-2 fs-12 text-grey flex a-center\"><span>持续集成</span><div class=\"m-h-5\">·</div><span>337</span>&nbsp;订阅<div class=\"arrow-right-circle m-l-5\"></div></div></div></div></div></a><a id=\"article-list-item\" href=\"/gitchat/activity/5e914256e416f80b73e3cfd4\" target=\"_blank\" class=\"c-p inlineBlock hover-bg-for-grey p-a-15\"><div class=\"flex w-full a-center\"><div style=\"width:104px;height:104px;background-image:url(https://images.gitbook.cn/0b882cc0-96a7-11ea-939c-7dbf0d668637?imageslim)\" class=\"thumb-img no-shrink m-r-20 br-4\"></div><div style=\"height:104px\" class=\"flex-column g-1 j-space-around\"><div class=\"flex a-center\"><div class=\"fs-18 bold hover-hlight txt-limit-1 user_select_text\">用 Python 开发一个自动发邮件脚本</div></div><div class=\"fs-14 txt-limit-2 text-grey user_select_text\">电子邮件是个非常伟大的发明，它让世界上任意两个地方的人得以交流。在当今社会，越来越多的社交平台出现，让电子邮件的地位受到冲击。但是因为电子邮件的便捷性，广泛性，让电子邮件仍然发挥着无可取代的作用。在电子邮件中没有好友的概念，我们只需要知道彼此的邮箱即可发送。我们可以利用爬虫搜集一些自己感兴趣的内容，然后自动发送到自己的邮箱，从而达到更加精准的内容推送。\n",
      "\n",
      "本次 Chat 的内容如下：\n",
      "1. 发送一个纯文本邮件\n",
      "2. 发送一个 HTML 页面邮件\n",
      "3. 发送一个图片邮件\n",
      "4. 发送一个带附件的邮件\n",
      "5. 解析命令行参数\n",
      "6. 将 py 文件打包成 exe 文件\n",
      "7. 使用命令行执行\n",
      "\n",
      "适合读者：有 Python 基础，对电子邮件感兴趣的读者。\n",
      "</div><div class=\"fs-12 flex a-center j-space-between\"><div class=\"text-grey fs-12 flex a-center\"><span class=\"user_select_text\">扎克斯</span><div class=\"m-h-3\">·</div><span class=\"user_select_text\">Java开发工程师</span></div><div style=\"border-color:#F3F3F3;border-radius:14px\" class=\"gc-add-border p-h-8 p-v-2 fs-12 text-grey flex a-center\"><span>Python</span><div class=\"m-h-5\">·</div><span>246</span>&nbsp;订阅<div class=\"arrow-right-circle m-l-5\"></div></div></div></div></div></a><a id=\"article-list-item\" href=\"/gitchat/activity/5e9eb571d78bf019914f867b\" target=\"_blank\" class=\"c-p inlineBlock hover-bg-for-grey p-a-15\"><div class=\"flex w-full a-center\"><div style=\"width:104px;height:104px;background-image:url(https://images.gitbook.cn/269b2220-96a6-11ea-939c-7dbf0d668637?imageslim)\" class=\"thumb-img no-shrink m-r-20 br-4\"></div><div style=\"height:104px\" class=\"flex-column g-1 j-space-around\"><div class=\"flex a-center\"><div class=\"fs-18 bold hover-hlight txt-limit-1 user_select_text\">Spring Boot 应用开发基本模板</div></div><div class=\"fs-14 txt-limit-2 text-grey user_select_text\">本场 Chat 分享主要介绍 Spring Boot 开发过程使用到的一些组件，帮助开发人员快速搭建基础开发框架。\n",
      "\n",
      "本场 Chat 内容将涉及如下：\n",
      "\n",
      "1. 日志配置相关\n",
      "2. 集成 Swagger，快速生成 API 接口文档\n",
      "3. 敏感信息加密\n",
      "4. 数据源配置（单数据源和多数据源）\n",
      "5. 集成 Redis，缓存信息\n",
      "6. 集成 ElasticSearch\n",
      "7. 集成 Spring Security+JWT，实现登录验证\n",
      "8. 跨域配置\n",
      "\n",
      "适合人员：Spring Boot 开发人员</div><div class=\"fs-12 flex a-center j-space-between\"><div class=\"text-grey fs-12 flex a-center\"><span class=\"user_select_text\">Mr.Liu</span><div class=\"m-h-3\">·</div><span class=\"user_select_text\">资深软件工程师</span></div><div style=\"border-color:#F3F3F3;border-radius:14px\" class=\"gc-add-border p-h-8 p-v-2 fs-12 text-grey flex a-center\"><span>严选</span><div class=\"m-h-5\">·</div><span>374</span>&nbsp;订阅<div class=\"arrow-right-circle m-l-5\"></div></div></div></div></div></a><a id=\"article-list-item\" href=\"/gitchat/activity/5e906a4a6ab5775c2588f674\" target=\"_blank\" class=\"c-p inlineBlock hover-bg-for-grey p-a-15\"><div class=\"flex w-full a-center\"><div style=\"width:104px;height:104px;background-image:url(https://images.gitbook.cn/046e6510-95be-11ea-b576-0b7e1cf9ed3c?imageslim)\" class=\"thumb-img no-shrink m-r-20 br-4\"></div><div style=\"height:104px\" class=\"flex-column g-1 j-space-around\"><div class=\"flex a-center\"><div class=\"fs-18 bold hover-hlight txt-limit-1 user_select_text\">系统上线后雪崩！让我来带你们学习 Spring Cloud Hystrix 及监控来解决雪崩问题</div></div><div class=\"fs-14 txt-limit-2 text-grey user_select_text\">在如今随着网络及电商的发展，系统雪崩也是人们常遇到的问题，每年在年度大促时，总会有某个知名平台因此雪崩，我们传统的提前处理方法是，加机器加机器加机器，促销机器专用等等，事件发生时的处理方式是紧急召集一批人，处理数据的、处理业务的、处理部署架构的、等等整晚整晚紧急对应，很多时候还要申请一堆新机器，暂时把出了问题的机器切换掉，把应用修改，切换等等，耗时耗力不说，效果实在也是差强人意，经常还要听一大堆人的抱怨，“怎么还没好........&amp;amp;amp;amp;amp;#34;，云云。\n",
      "\n",
      "如今随着微服务的到来，Spring Cloud 可以非常快速、方便、有效的解决雪崩问题。\n",
      "Spring Cloud 的熔断器会在自动侦测系统的错误，发现错误后，会强迫以后的访问快速失败，从而防止某个服务不断地尝试执行会失败的操作，它会使服务继续执行而不用等待修正错误，或者浪费 CPU 时间去等到超时产生。熔断器也可以使服务能够诊断错误是否已经修正，如果已经修正，服务会再次尝试调用操作。\n",
      "\n",
      "本课程就带领大家来实践一下 Spring Cloud 的熔断器及熔断监控。\n",
      "\n",
      "本场 Chat 包含如下内容：\n",
      "\n",
      "- 使用 Spring Cloud 创建注册中心\n",
      "- 加入提供服务者、及消费者模块\n",
      "- 加入熔断器设定\n",
      "- 单个应用加入熔断监控\n",
      "- 为整个项目加入熔断器监控\n",
      "    \n",
      "本场 Chat 适用于：\n",
      "- 希望学习了解熔断器及监控来解决雪崩问题的人员\n",
      "- 任何希望了解、学习 Spring Cloud 的人员\n",
      "- 希望从事 Java 相关工作的人员</div><div class=\"fs-12 flex a-center j-space-between\"><div class=\"text-grey fs-12 flex a-center\"><span class=\"user_select_text\">IT职涯</span><div class=\"m-h-3\">·</div><span class=\"user_select_text\">架构师</span></div><div style=\"border-color:#F3F3F3;border-radius:14px\" class=\"gc-add-border p-h-8 p-v-2 fs-12 text-grey flex a-center\"><span>严选</span><div class=\"m-h-5\">·</div><span>254</span>&nbsp;订阅<div class=\"arrow-right-circle m-l-5\"></div></div></div></div></div></a><a id=\"article-list-item\" href=\"/gitchat/activity/5e9db6358d6f9619b1fc5360\" target=\"_blank\" class=\"c-p inlineBlock hover-bg-for-grey p-a-15\"><div class=\"flex w-full a-center\"><div style=\"width:104px;height:104px;background-image:url(https://images.gitbook.cn/60632180-94f1-11ea-8dd7-d7f50228700c?imageslim)\" class=\"thumb-img no-shrink m-r-20 br-4\"></div><div style=\"height:104px\" class=\"flex-column g-1 j-space-around\"><div class=\"flex a-center\"><div class=\"fs-18 bold hover-hlight txt-limit-1 user_select_text\">DDD 分层架构的三种模式 2.0</div></div><div class=\"fs-14 txt-limit-2 text-grey user_select_text\">去年，作者去年写了一篇 Chat [轻松 TDD 之旅 2.0](https://gitbook.cn/new/gitchat/activity/5d667350cca96a09360e14e0)，将这几年 TDD 的一些心得和感悟反映到了简书上的文章[《轻松 TDD 之旅》](https://www.jianshu.com/p/41b48a771a35)的结构和要点中去，使得 TDD 之旅在 2.0 版本更深刻，更完备，更流畅。该 Chat 发布后，受到了很多同学的肯定和鼓励，同时作者自身也感觉收获非常大。\n",
      "\n",
      "《DDD 分层架构的三种模式》既是作者在简书上写的一篇热门[文章](https://www.jianshu.com/p/a775836c7e25)，又是作者在`领域驱动设计峰会 2017` 上的演进话题。经过这几年的沉淀，作者对 DDD 分层架构有了更深入的思考，想通过本 Chat 将新的认识和实践分享给更多的同学，从而大家一起升级到 2.0 版本。\n",
      "\n",
      "本 Chat 的主要内容为：\n",
      "- 分层架构简介\n",
      "- 经典分层架构\n",
      "    - B/S 三层架构\n",
      "    - DDD 四层架构\n",
      "- DDD 分层：L 型架构模式\n",
      "    - 模式介绍（L 型四层架构）\n",
      "    - 物理设计\n",
      "    - 典型案例\n",
      "- DDD 分层：L 型 + DCI 架构模式\n",
      "    - 模式介绍（L 型五层架构，L 型六层架构）\n",
      "    - 物理设计\n",
      "    - 典型案例\n",
      "- DDD 分层：DIP 架构模式\n",
      "    - 模式介绍（六边形架构，整洁架构）\n",
      "    - 物理设计\n",
      "    - 典型案例</div><div class=\"fs-12 flex a-center j-space-between\"><div class=\"text-grey fs-12 flex a-center\"><span class=\"user_select_text\">张晓龙</span><div class=\"m-h-3\">·</div><span class=\"user_select_text\">架构师，DDD实践布道者</span></div><div style=\"border-color:#F3F3F3;border-radius:14px\" class=\"gc-add-border p-h-8 p-v-2 fs-12 text-grey flex a-center\"><span>领域驱动</span><div class=\"m-h-5\">·</div><span>406</span>&nbsp;订阅<div class=\"arrow-right-circle m-l-5\"></div></div></div></div></div></a><a id=\"article-list-item\" href=\"/gitchat/activity/5ea25f5ab135b25b61e32608\" target=\"_blank\" class=\"c-p inlineBlock hover-bg-for-grey p-a-15\"><div class=\"flex w-full a-center\"><div style=\"width:104px;height:104px;background-image:url(https://images.gitbook.cn/a0bcd320-94f1-11ea-b6a0-518616422bed?imageslim)\" class=\"thumb-img no-shrink m-r-20 br-4\"></div><div style=\"height:104px\" class=\"flex-column g-1 j-space-around\"><div class=\"flex a-center\"><div class=\"fs-18 bold hover-hlight txt-limit-1 user_select_text\">手把手教你用 Python 打造股票行情分析的 GUI</div></div><div class=\"fs-14 txt-limit-2 text-grey user_select_text\">Python 的出现可以帮助我们快速解决实际的问题，提高工作效率。如果给 Python 脚本加上一个 GUI 的话，不仅可以进一步提升使用效率（不用每次停止运行去修改参数），而且还能把自己程序分享给不懂编程的朋友们使用，的确让人激动不已！\n",
      "\n",
      "wxPython 是基于 Python 的跨平台 GUI 扩展库，是对 wxWidgets（ C++ 编写）封装实现，也是目前最为流行的 GUI 库之一。\n",
      "\n",
      "本场 Chat 我们就来和大家一起学习 wxPython 的使用方法，运用知识点打造股票行情分析界面，为实现自己的桌面交互界面添砖加瓦。\n",
      "\n",
      "本场 Chat 主要内容包括：\n",
      "1. 通过最小框架的实现快速入门 wxPython\n",
      "2. 界面的布局管理及多页面之间的切换，嵌入 Matplotlib 可以显示各种图形\n",
      "3. 不仅介绍基本的按钮、文本、工具栏、菜单栏的使用，还有高级的树形列表、Excel 表格、进度条、滑块、日历、对话框的扩展介绍\n",
      "4. 结合以上知识点，制作一个基础版的股票行情分析界面 ，可以交互查看个股走势\n",
      "</div><div class=\"fs-12 flex a-center j-space-between\"><div class=\"text-grey fs-12 flex a-center\"><span class=\"user_select_text\">元宵大师</span><div class=\"m-h-3\">·</div><span class=\"user_select_text\">Python高级工程师</span></div><div style=\"border-color:#F3F3F3;border-radius:14px\" class=\"gc-add-border p-h-8 p-v-2 fs-12 text-grey flex a-center\"><span>Python</span><div class=\"m-h-5\">·</div><span>305</span>&nbsp;订阅<div class=\"arrow-right-circle m-l-5\"></div></div></div></div></div></a><a id=\"article-list-item\" href=\"/gitchat/activity/5e8c4e2c9d7b9132e3a278aa\" target=\"_blank\" class=\"c-p inlineBlock hover-bg-for-grey p-a-15\"><div class=\"flex w-full a-center\"><div style=\"width:104px;height:104px;background-image:url(https://images.gitbook.cn/2d8ecac0-8df8-11ea-b008-772ef2ae7360?imageslim)\" class=\"thumb-img no-shrink m-r-20 br-4\"></div><div style=\"height:104px\" class=\"flex-column g-1 j-space-around\"><div class=\"flex a-center\"><div class=\"fs-18 bold hover-hlight txt-limit-1 user_select_text\">网易严选怎么做全链路监控的？</div></div><div class=\"fs-14 txt-limit-2 text-grey user_select_text\">严选全链路基建从 2018 年就开始了，2019 年又对多端进行了补充，今年再做完大前端部分的链路就实现了全端全链路的覆盖。我有幸参与了整个建设过程，并作为大前端部分的负责人设计和完成了大前端部分的链路建设。\n",
      "\n",
      "那么问题来了：\n",
      "\n",
      "1. 数据是怎么收集的？\n",
      "2. 数据是怎么上报的？\n",
      "3. 数据是怎么可视化的？\n",
      "4. SDK 怎么实现的多端兼容？\n",
      "\n",
      "最后还会分享些做 SDK 的心得和对 APM 的一些展望。</div><div class=\"fs-12 flex a-center j-space-between\"><div class=\"text-grey fs-12 flex a-center\"><span class=\"user_select_text\">付超</span><div class=\"m-h-3\">·</div><span class=\"user_select_text\">前端砖家</span></div><div style=\"border-color:#F3F3F3;border-radius:14px\" class=\"gc-add-border p-h-8 p-v-2 fs-12 text-grey flex a-center\"><span>监控</span><div class=\"m-h-5\">·</div><span>390</span>&nbsp;订阅<div class=\"arrow-right-circle m-l-5\"></div></div></div></div></div></a><a id=\"article-list-item\" href=\"/gitchat/activity/5e90a72ccac0955c24cea1d5\" target=\"_blank\" class=\"c-p inlineBlock hover-bg-for-grey p-a-15\"><div class=\"flex w-full a-center\"><div style=\"width:104px;height:104px;background-image:url(https://images.gitbook.cn/1f5be4e0-8af8-11ea-b008-772ef2ae7360?imageslim)\" class=\"thumb-img no-shrink m-r-20 br-4\"></div><div style=\"height:104px\" class=\"flex-column g-1 j-space-around\"><div class=\"flex a-center\"><div class=\"fs-18 bold hover-hlight txt-limit-1 user_select_text\">如何使用 JFinal Weixin SDK 完成微信小程序单/多账号配置与切换使用？</div></div><div class=\"fs-14 txt-limit-2 text-grey user_select_text\">目前，使用 JFinal 做微信公众平台和微信小程序的开发者越来越多，JFinal 与 JFinal Weixin SDK 也在紧跟趋势，快速迭代，目前已经支持公众平台服务号、订阅号、微信小程序的多账号管理。\n",
      "\n",
      "本 Chat 你将会学到以下内容：\n",
      "1. 如何直接在项目里配置单个微信小程序\n",
      "2. 如何使用配置文件配置单个微信小程序\n",
      "3. 如何使用配置文件配置多个微信小程序\n",
      "4. 如何基于数据库配置多个微信小程序\n",
      "5. 数据库配置加载到缓存，提升切换时获取配置的性能\n",
      "6. 优雅切换多账号调用接口\n",
      "\n",
      "适合人群： JFinal 开发者和微信小程序开发者</div><div class=\"fs-12 flex a-center j-space-between\"><div class=\"text-grey fs-12 flex a-center\"><span class=\"user_select_text\">山东小木</span><div class=\"m-h-3\">·</div><span class=\"user_select_text\">架构师</span></div><div style=\"border-color:#F3F3F3;border-radius:14px\" class=\"gc-add-border p-h-8 p-v-2 fs-12 text-grey flex a-center\"><span>微信</span><div class=\"m-h-5\">·</div><span>小程序</span><div class=\"m-h-5\">·</div><span>130</span>&nbsp;订阅<div class=\"arrow-right-circle m-l-5\"></div></div></div></div></div></a><a id=\"article-list-item\" href=\"/gitchat/activity/5e8d9f5b6ab5775c2588e45d\" target=\"_blank\" class=\"c-p inlineBlock hover-bg-for-grey p-a-15\"><div class=\"flex w-full a-center\"><div style=\"width:104px;height:104px;background-image:url(https://images.gitbook.cn/fd192460-8af7-11ea-b008-772ef2ae7360?imageslim)\" class=\"thumb-img no-shrink m-r-20 br-4\"></div><div style=\"height:104px\" class=\"flex-column g-1 j-space-around\"><div class=\"flex a-center\"><div class=\"fs-18 bold hover-hlight txt-limit-1 user_select_text\">Java 面试笔记之线程池</div></div><div class=\"fs-14 txt-limit-2 text-grey user_select_text\">线程池是面试常考知识点，比如：如何创建线程池、线程池有什么参数及参数的用意、有哪些拒绝策略、线程池原理、如何监控等等，本篇文章一一为您解答，祝各位顺利找到满意的高新工作。\n",
      "\n",
      "本 Chat 你将会获得以下知识：\n",
      "1. 简介\n",
      "2. 使用线程池的好处\n",
      "3. 不使用线程池的坏处\n",
      "4. 创建线程池的方式\n",
      "5. 提交任务的方式\n",
      "6. 获取结果的方式\n",
      "7. 线程池状态\n",
      "8. 关闭线程池方式\n",
      "9. 线程池的线程初始化\n",
      "10. 动态调整线程池容量\n",
      "11. 线程池监控\n",
      "12. 线程池调优\n",
      "13. 线程池的原理(含部分源码分析)\n",
      "14. 总结\n",
      "\n",
      "适合人群： Java 面试、技术整理总结。</div><div class=\"fs-12 flex a-center j-space-between\"><div class=\"text-grey fs-12 flex a-center\"><span class=\"user_select_text\">老牛</span><div class=\"m-h-3\">·</div><span class=\"user_select_text\">资深开发</span></div><div style=\"border-color:#F3F3F3;border-radius:14px\" class=\"gc-add-border p-h-8 p-v-2 fs-12 text-grey flex a-center\"><span>Java</span><div class=\"m-h-5\">·</div><span>311</span>&nbsp;订阅<div class=\"arrow-right-circle m-l-5\"></div></div></div></div></div></a><a id=\"article-list-item\" href=\"/gitchat/activity/5e8068d0d804b02b17203b74\" target=\"_blank\" class=\"c-p inlineBlock hover-bg-for-grey p-a-15\"><div class=\"flex w-full a-center\"><div style=\"width:104px;height:104px;background-image:url(https://images.gitbook.cn/d310eac0-849b-11ea-b660-dd3206d7683b?imageslim)\" class=\"thumb-img no-shrink m-r-20 br-4\"></div><div style=\"height:104px\" class=\"flex-column g-1 j-space-around\"><div class=\"flex a-center\"><div class=\"fs-18 bold hover-hlight txt-limit-1 user_select_text\">线程池原理分析以及结合 Spring 事件机制实战</div></div><div class=\"fs-14 txt-limit-2 text-grey user_select_text\">在 Java 中，我们可以利用线程池来有效管理线程，充分发挥多核 CPU 优势。但是，线程池本身是把双刃剑，我们需要知道它的利弊，才能在实际系统中游刃有余地运用。\n",
      "\n",
      "本次 Chat 我们将学习线程池原理，还会结合 Spring 的事件来实现一个基于状态机驱动业务的实战，适合所有状态驱动的业务（如订单类）。\n",
      "\n",
      "在本场 Chat 中，会讲到如下内容：\n",
      "\n",
      "- 线程池基本概念\n",
      "- 线程池使用的优缺点\n",
      "- 线程池实现原理\n",
      "- 快速入门\n",
      "- 整合 Spring 以及原理分析\n",
      "- 事件驱动实战开发\n",
      "\n",
      "适合人群： 有一定的 Java 基础和 Spring 框架基础的开发人员\n",
      "</div><div class=\"fs-12 flex a-center j-space-between\"><div class=\"text-grey fs-12 flex a-center\"><span class=\"user_select_text\">Jacks</span><div class=\"m-h-3\">·</div><span class=\"user_select_text\">架构师</span></div><div style=\"border-color:#F3F3F3;border-radius:14px\" class=\"gc-add-border p-h-8 p-v-2 fs-12 text-grey flex a-center\"><span>Spring</span><div class=\"m-h-5\">·</div><span>291</span>&nbsp;订阅<div class=\"arrow-right-circle m-l-5\"></div></div></div></div></div></a><a id=\"article-list-item\" href=\"/gitchat/activity/5e7cc6126aecae76a2050991\" target=\"_blank\" class=\"c-p inlineBlock hover-bg-for-grey p-a-15\"><div class=\"flex w-full a-center\"><div style=\"width:104px;height:104px;background-image:url(https://images.gitbook.cn/89484180-849c-11ea-b660-dd3206d7683b?imageslim)\" class=\"thumb-img no-shrink m-r-20 br-4\"></div><div style=\"height:104px\" class=\"flex-column g-1 j-space-around\"><div class=\"flex a-center\"><div class=\"fs-18 bold hover-hlight txt-limit-1 user_select_text\">一个实例学会 Spring Cloud 的注册中心 Eureka 的用法</div></div><div class=\"fs-14 txt-limit-2 text-grey user_select_text\">“Spring Cloud 是一系列框架的有序集合。它利用 Spring Boot 的开发便利性巧妙地简化了分布式系统基础设施的开发，如服务发现注册、配置中心、消息总线、负载均衡、断路器、数据监控等，都可以用 Spring Boot 的开发风格做到一键启动和部署。Spring Cloud 并没有重复制造轮子，它只是将各家公司开发的比较成熟、经得起实际考验的服务框架组合起来，通过 Spring Boot 风格进行再封装屏蔽掉了复杂的配置和实现原理，最终给开发者留出了一套简单易懂、易部署和易维护的分布式系统开发工具包。”引自百度百科。\n",
      "\n",
      "Eureka 是 Spring Cloud 中非常重要的核心模块，使用 Spring Cloud 就离不开 Eureka，我们用一个产品服务中的获取 Promotion 信息，及所有产品功能为例，让大家快速了解 Eureka 是做什么用的，及如何使用。\n",
      "\n",
      "本场 Chat 包含如下内容：\n",
      "1. 使用 Spring Boot 创建 Spring Cloud 的注册中心\n",
      "2. 创建 Promotion 信息及产品信息的服务提供者\n",
      "3. 创建调用他们的消费者\n",
      "\n",
      "本场 Chat 适用于：任何希望了解、学习 Spring Cloud 的人员，或者希望从事 Java 相关工作的人员。</div><div class=\"fs-12 flex a-center j-space-between\"><div class=\"text-grey fs-12 flex a-center\"><span class=\"user_select_text\">IT职涯</span><div class=\"m-h-3\">·</div><span class=\"user_select_text\">架构师</span></div><div style=\"border-color:#F3F3F3;border-radius:14px\" class=\"gc-add-border p-h-8 p-v-2 fs-12 text-grey flex a-center\"><span>Spring Cloud</span><div class=\"m-h-5\">·</div><span>139</span>&nbsp;订阅<div class=\"arrow-right-circle m-l-5\"></div></div></div></div></div></a><a id=\"article-list-item\" href=\"/gitchat/activity/5e78c14b22af4843abeefb16\" target=\"_blank\" class=\"c-p inlineBlock hover-bg-for-grey p-a-15\"><div class=\"flex w-full a-center\"><div style=\"width:104px;height:104px;background-image:url(https://images.gitbook.cn/b2a14910-82d9-11ea-b660-dd3206d7683b?imageslim)\" class=\"thumb-img no-shrink m-r-20 br-4\"></div><div style=\"height:104px\" class=\"flex-column g-1 j-space-around\"><div class=\"flex a-center\"><div class=\"fs-18 bold hover-hlight txt-limit-1 user_select_text\">TypeScript 从零到一，2020 开发必备</div></div><div class=\"fs-14 txt-limit-2 text-grey user_select_text\">2020 年，项目中使用 TypeScript 已经变得寻常起来了，而 TypeScript 这项技能自然也从加分项慢慢变成了必备项，本课程旨在帮助你快速学习 TypeScript，助你在今后开发中减少傻瓜 BUG。\n",
      "\n",
      "本篇涉及到的知识点如下：\n",
      "1. TypeScript 基础入门。环境搭建、基础类型、函数类型、数组和元组、类与接口。\n",
      "2. TypeScript 语法进阶。TS 配置文件、编译机制、枚举类型、联合类型、泛型、命名空间和模块化。\n",
      "3. TypeScript 高级语法。类装饰器、方法属性装饰器、参数装饰器、第三方库解释文件。\n",
      "\n",
      "最后把 TypeScript 语法学习后，通过一个项目加深对基础知识的理解  \n",
      "\n",
      "本篇适合人群：具有 ES6 基础以及有 TypeScript 学习需求的同学。</div><div class=\"fs-12 flex a-center j-space-between\"><div class=\"text-grey fs-12 flex a-center\"><span class=\"user_select_text\">贫僧发</span><div class=\"m-h-3\">·</div><span class=\"user_select_text\">前端工程师</span></div><div style=\"border-color:#F3F3F3;border-radius:14px\" class=\"gc-add-border p-h-8 p-v-2 fs-12 text-grey flex a-center\"><span>TypeScript</span><div class=\"m-h-5\">·</div><span>300</span>&nbsp;订阅<div class=\"arrow-right-circle m-l-5\"></div></div></div></div></div></a><a id=\"link2-all-artical\" style=\"background:#FF700A\" href=\"/chat\" class=\"text-normal br-4 w-full t-center p-v-10 fs-16 inlineBlock m-t-30\">查看全部文章</a></div></div><div class=\"layout-col-1\"><style>.rank-tag {\n",
      "  width: 18px;\n",
      "  height: 18px;\n",
      "  color: rgba(170,176,193,0.3);\n",
      "  font-family: bebas-regular, sans-serif;\n",
      "  font-size: 16px;\n",
      "  font-weight: bold;\n",
      "  text-align: center;\n",
      "  line-height: 18px;\n",
      "  flex-shrink: 0;\n",
      "  margin-right: 15px;\n",
      "}\n",
      ".rank-tag.top3 {\n",
      "  background: orange;\n",
      "  border-radius: 4px;\n",
      "  color: #fff;\n",
      "}\n",
      ".article-txt {\n",
      "  word-break:break-all; display:-webkit-box; -webkit-line-clamp:1;\n",
      "  -webkit-box-orient:vertical; overflow:hidden;\n",
      "  transition: color .2s ease;\n",
      "  font-weight:400;\n",
      "}\n",
      ".article-txt:hover {\n",
      "  color: #FF700A;\n",
      "}\n",
      "</style><div style=\"padding-top:98%\" class=\"relative o-hidden\"><div style=\"top:0;\" class=\"gc-add-border br-4 p-a-10 absolute h-full w-full\"><span class=\"relative bold fs-18\">热门文章<div class=\"backup-line absolute\"></div></span><div class=\"split-line m-t-5\"></div><div class=\"article-list\"><div class=\"flex a-center m-t-18\"><div class=\"rank-tag no-shrink top3\">1</div><a href=\"/gitchat/activity/5db15513784426110edc905c\" target=\"_blank\" class=\"article-txt text-limit-1 user_select_text\">小程序用户行为数据采集器讲解</a></div><div class=\"flex a-center m-t-18\"><div class=\"rank-tag no-shrink top3\">2</div><a href=\"/gitchat/activity/5db9240e3589de50879b0102\" target=\"_blank\" class=\"article-txt text-limit-1 user_select_text\">如何管理一个测试团队</a></div><div class=\"flex a-center m-t-18\"><div class=\"rank-tag no-shrink top3\">3</div><a href=\"/gitchat/activity/5de39fc4e8a3a37d46ee95cd\" target=\"_blank\" class=\"article-txt text-limit-1 user_select_text\">HTTP 四十问全解析</a></div><div class=\"flex a-center m-t-18\"><div class=\"rank-tag no-shrink false\">4</div><a href=\"/gitchat/activity/59b09bbf015c905277c2cc09\" target=\"_blank\" class=\"article-txt text-limit-1 user_select_text\">一小时入门 Python 3 网络爬虫</a></div><div class=\"flex a-center m-t-18\"><div class=\"rank-tag no-shrink false\">5</div><a href=\"/gitchat/activity/5dc7cf6c573506442c3b388e\" target=\"_blank\" class=\"article-txt text-limit-1 user_select_text\">程序员的数学修养</a></div><div class=\"flex a-center m-t-18\"><div class=\"rank-tag no-shrink false\">6</div><a href=\"/gitchat/activity/5eb2e609edf3136c22fcffd2\" target=\"_blank\" class=\"article-txt text-limit-1 user_select_text\">千亿数据的潘多拉魔盒：从分库分表到分布式数据库</a></div></div></div></div><link rel=\"stylesheet\" href=\"/dist/gitbook/css/indexGitChatRight.css\"><style>.right_biwen_box, .right_biwen_box * {\n",
      "  box-sizing: border-box;\n",
      "}\n",
      ".right_biwen_box {\n",
      "  position: unset;\n",
      "  display: block;\n",
      "  width: 100%;\n",
      "  margin-left: 0;\n",
      "  padding-top: 0;\n",
      "}\n",
      ".right_biwen_box .right_biwen_box_inner {\n",
      "  width: 100%;\n",
      "  height: auto;\n",
      "  box-shadow: unset;\n",
      "}\n",
      ".biwen_left, .biwen_right { padding: 10px 15px 20px 15px !important; }\n",
      ".biwen_title {font-size: 14px !important;}\n",
      ".biwen_desc {margin:0 0 15px 0 !important;}\n",
      ".biwen_desc,.biwen_btn {font-size: 12px !important;}\n",
      ".deep-blue { background: #4b3fe0 !important;color: #fff !important; }\n",
      "</style><div class=\"right_biwen_box m-t-30\"><div class=\"right_biwen_box_inner gc-add-border\"><img src=\"https://images.gitbook.cn/FoN1uKeiVRH0DIjtA4dxjb4PSM0c?imageslim\" class=\"biwen_img\"><div class=\"biwen_content flex a-center j-space-between\"><div class=\"biwen_left\"><p class=\"biwen_title\">你有技术难题？</p><p class=\"biwen_desc\">来这里提问吧，必问为你找到答案！</p><button class=\"biwen_btn deep-blue\">去提问</button></div><div class=\"biwen_right\"><p class=\"biwen_title\">你有经验和知识？</p><p class=\"biwen_desc\">来这里回答吧，丰厚奖金等你拿！</p><button class=\"biwen_btn\">去回答</button></div></div></div></div><style>.usr-toolsbar-btn img { transition: all .2s ease-in }\n",
      ".usr-toolsbar-btn:hover img {\n",
      "  transform: translateY(-5px);\n",
      "}\n",
      ".usr-toolsbar-btn:hover {\n",
      "  color: #FF700A;\n",
      "}\n",
      ".collection {\n",
      "  display:none;\n",
      "}</style><div class=\"gc-add-border m-t-30\"><div class=\"p-v-25 p-h-20 flex j-space-around\"><a class=\"usr-toolsbar-btn t-center collection\"><img src=\"https://images.gitbook.cn/FiDzCGT9ob3X30k4MZYNgnozxltb\" alt=\"收藏\" width=\"50\" height=\"50\" class=\"block\"><span class=\"inlineBlock m-t-5\">收藏</span><script>if (location.search.indexOf('debug') >= 0) {\n",
      "  $('.collection').show();\n",
      "}</script></a><a href=\"/mazi/my/activity\" class=\"usr-toolsbar-btn t-center\"><img src=\"https://images.gitbook.cn/FhnwVp04-Cgfti9fGTkKfeSCEbEX\" alt=\"创作\" width=\"50\" height=\"50\" class=\"block\"><span class=\"inlineBlock m-t-5\">创作</span></a><a href=\"/gitchat/ordered\" class=\"usr-toolsbar-btn t-center\"><img src=\"https://images.gitbook.cn/Fk9259Mw9PpOn_XF6hGi29bQYbVy\" alt=\"订阅\" width=\"50\" height=\"50\" class=\"block\"><span class=\"inlineBlock m-t-5\">订阅</span></a></div><div class=\"split-line bg-gc-grey\"></div><a role=\"button\" data-toggle=\"modal\" href=\"#publishModal\" target=\"_blank\" class=\"write-article-btn flex a-center j-center bold fs-18 p-v-20\"><img src=\"https://images.gitbook.cn/FudsZaL8v2PlW-8CZWaie4tvfGHb\" alt=\"创作\" width=\"20\" height=\"20\" class=\"m-r-10\">创作文章</a></div><style>.hover-bg-for-grey #author-name {\n",
      "  transition: color .2s ease;\n",
      "}\n",
      ".hover-bg-for-grey:hover #author-name {\n",
      "  color: #FF700A;\n",
      "}\n",
      "</style><div class=\"gc-add-border br-4 m-t-30\"><span class=\"block relative bold fs-18 m-t-22 m-b-13 p-h-10\">作者推荐</span><div class=\"split-line m-h-10\"></div><a href=\"/gitchat/author/5d8aba8ac2357c631bcf395a\" target=\"_blank\" class=\"hover-bg-for-grey flex a-center m-b-15 p-h-10 p-v-5 c-p\"><img src=\"https://images.gitbook.cn/FvXCwF2TKU0QG5jE5CICqqYYYaN-?imageView2/1/w/400/h/400\" alt=\"松\" width=\"54\" height=\"54\" style=\"border-radius: 54px;\" class=\"no-shrink\"><div style=\"height:54px;\" class=\"flex a-center j-space-between g-1 m-l-10\"><div class=\"flex-column j-space-between h-full\"><div id=\"author-name\" class=\"fs-14 txt-limit-1 bold user_select_text\">松</div><div class=\"text-grey fs-12 txt-limit-1 user_select_text\">大数据高级架构师</div><div class=\"text-grey fs-12\">12 篇文章</div></div><button class=\"recommend_follow_btn login_event\">关注</button></div></a><a href=\"/gitchat/author/5934b0d29c4a2b0d0f31923c\" target=\"_blank\" class=\"hover-bg-for-grey flex a-center m-b-15 p-h-10 p-v-5 c-p\"><img src=\"http://thirdwx.qlogo.cn/mmopen/vi_32/Q0j4TwGTfTIoOX6IfJ8lSBMY6FFwibxyOl7p5mx356XhvKGHz04P5rnLBRZVM5DR3VArZbNzeWcuGzVbPdw593A/132\" alt=\"陈旭\" width=\"54\" height=\"54\" style=\"border-radius: 54px;\" class=\"no-shrink\"><div style=\"height:54px;\" class=\"flex a-center j-space-between g-1 m-l-10\"><div class=\"flex-column j-space-between h-full\"><div id=\"author-name\" class=\"fs-14 txt-limit-1 bold user_select_text\">陈旭</div><div class=\"text-grey fs-12 txt-limit-1 user_select_text\">Tech Lead</div><div class=\"text-grey fs-12\">6 篇文章</div></div><button class=\"recommend_follow_btn login_event\">关注</button></div></a><a href=\"/gitchat/author/59e87ef381f8273047f18e19\" target=\"_blank\" class=\"hover-bg-for-grey flex a-center m-b-15 p-h-10 p-v-5 c-p\"><img src=\"http://images.gitbook.cn/Fjos3edEGXdrscTaVcEpkRHidLiv?imageView2/1/w/400/h/400\" alt=\"酸奶\" width=\"54\" height=\"54\" style=\"border-radius: 54px;\" class=\"no-shrink\"><div style=\"height:54px;\" class=\"flex a-center j-space-between g-1 m-l-10\"><div class=\"flex-column j-space-between h-full\"><div id=\"author-name\" class=\"fs-14 txt-limit-1 bold user_select_text\">酸奶</div><div class=\"text-grey fs-12 txt-limit-1 user_select_text\">java 高级开发工程师</div><div class=\"text-grey fs-12\">25 篇文章</div></div><button class=\"recommend_follow_btn login_event\">关注</button></div></a><a href=\"/gitchat/author/5b9a6f0e6fad8f58bc41d40f\" target=\"_blank\" class=\"hover-bg-for-grey flex a-center m-b-15 p-h-10 p-v-5 c-p\"><img src=\"https://images.gitbook.cn/4e9470c0-b75e-11e8-b809-d915783fbfe8?imageView2/1/w/400/h/400\" alt=\"浩子\" width=\"54\" height=\"54\" style=\"border-radius: 54px;\" class=\"no-shrink\"><div style=\"height:54px;\" class=\"flex a-center j-space-between g-1 m-l-10\"><div class=\"flex-column j-space-between h-full\"><div id=\"author-name\" class=\"fs-14 txt-limit-1 bold user_select_text\">浩子</div><div class=\"text-grey fs-12 txt-limit-1 user_select_text\">工程师</div><div class=\"text-grey fs-12\">3 篇文章</div></div><button class=\"recommend_follow_btn login_event\">关注</button></div></a></div><div class=\"m-t-30\"><div class=\"gc-add-border br-4 m-t-30\"><span class=\"block relative bold fs-18 m-t-22 m-b-13 p-h-10\">领域话题</span><div class=\"split-line m-h-10 m-b-10\"></div><a href=\"gitchat/series/5ed70d45b73f3b2e1807f03a\" target=\"_blank\" class=\"f-t-vtcl-card c-p flex a-center m-b-15 p-h-10\"><img src=\"https://images.gitbook.cn/f858b890-a542-11ea-8e5f-87b8ab7dc5af\" width=\"110\" height=\"77\" class=\"br-4 no-shrink\"><div style=\"height:77px\" class=\"flex-column j-space-between m-l-10\"><div class=\"hover-hlight fs-14 bold txt-limit-1 user_select_text\">Java 高并发难题一网打尽</div><div class=\"fs-12 text-grey\">8篇文章<span class=\"inlineBlock m-l-10\">8586</span>关注</div><div style=\"width: max-content;\" class=\"enter-btn c-p p-v-3 p-h-6 br-2 gc-add-border text-grey fs-12\">进入话题</div></div></a><a href=\"gitchat/series/5e9fde6e2b347727958797ac\" target=\"_blank\" class=\"f-t-vtcl-card c-p flex a-center m-b-15 p-h-10\"><img src=\"https://images.gitbook.cn/d323c330-845e-11ea-b660-dd3206d7683b\" width=\"110\" height=\"77\" class=\"br-4 no-shrink\"><div style=\"height:77px\" class=\"flex-column j-space-between m-l-10\"><div class=\"hover-hlight fs-14 bold txt-limit-1 user_select_text\">Java 开发者必学的基础知识</div><div class=\"fs-12 text-grey\">12篇文章<span class=\"inlineBlock m-l-10\">12896</span>关注</div><div style=\"width: max-content;\" class=\"enter-btn c-p p-v-3 p-h-6 br-2 gc-add-border text-grey fs-12\">进入话题</div></div></a><a href=\"gitchat/series/5e8428576a28093c950debe9\" target=\"_blank\" class=\"f-t-vtcl-card c-p flex a-center m-b-15 p-h-10\"><img src=\"https://images.gitbook.cn/c5da6330-73da-11ea-aebe-b1d52f058e6a\" width=\"110\" height=\"77\" class=\"br-4 no-shrink\"><div style=\"height:77px\" class=\"flex-column j-space-between m-l-10\"><div class=\"hover-hlight fs-14 bold txt-limit-1 user_select_text\">Java 问题定位方法和工具</div><div class=\"fs-12 text-grey\">7篇文章<span class=\"inlineBlock m-l-10\">7430</span>关注</div><div style=\"width: max-content;\" class=\"enter-btn c-p p-v-3 p-h-6 br-2 gc-add-border text-grey fs-12\">进入话题</div></div></a><a href=\"gitchat/series/5e7b38589bbb1d452bee31ec\" target=\"_blank\" class=\"f-t-vtcl-card c-p flex a-center m-b-15 p-h-10\"><img src=\"https://images.gitbook.cn/7298b6c0-6f27-11ea-b115-9d81e79daf58\" width=\"110\" height=\"77\" class=\"br-4 no-shrink\"><div style=\"height:77px\" class=\"flex-column j-space-between m-l-10\"><div class=\"hover-hlight fs-14 bold txt-limit-1 user_select_text\">如何进行系统架构设计？</div><div class=\"fs-12 text-grey\">23篇文章<span class=\"inlineBlock m-l-10\">15348</span>关注</div><div style=\"width: max-content;\" class=\"enter-btn c-p p-v-3 p-h-6 br-2 gc-add-border text-grey fs-12\">进入话题</div></div></a><a style=\"background:#F9FAFD\" href=\"/gitchat/series/list\" target=\"_self\" class=\"link2-all-article block t-center fs-14 bold p-v-10 m-h-10 m-b-20\">查看全部 ></a></div></div><style>.rank-txt {\n",
      "  font-size: 40px;\n",
      "  color:rgba(243,244,247,1);\n",
      "  line-height:36px;\n",
      "  letter-spacing:1px;\n",
      "}\n",
      ".article-item, .article-item .rank-txt{ transition: color .2s ease-in; }\n",
      ".article-item:hover {\n",
      "  color: #FF700A;\n",
      "}\n",
      ".article-item:hover .rank-txt {\n",
      "  color: #FF700A;\n",
      "}\n",
      ".link2-all-article {transition:background .2s ease-in;}\n",
      ".link2-all-article:hover {\n",
      "  color: #fff;\n",
      "  background: #FF700A !important;\n",
      "}\n",
      "</style><div class=\"gc-add-border br-4 m-t-30\"><span class=\"block relative bold fs-18 m-t-22 m-b-13 p-h-10\">免费文章</span><div class=\"split-line m-h-10 m-b-10\"></div><a href=\"/gitchat/activity/5fbcce54a02cbd537f92f11a\" target=\"_blank\" class=\"flex a-center m-b-15 article-item p-h-10 c-p\"><div class=\"rank-txt no-shrink gc-font-br\">01</div><div class=\"g-1 flex-column j-space-between m-l-10\"><div class=\"bold fs-14 txt-limit-1 user_select_text\">实战：部署前端项目的几种方案并探讨优缺点</div><div class=\"text-grey fs-14 user_select_text\">Fizz</div></div></a><a href=\"/gitchat/activity/5fa414b7b8787d39a2eccf75\" target=\"_blank\" class=\"flex a-center m-b-15 article-item p-h-10 c-p\"><div class=\"rank-txt no-shrink gc-font-br\">02</div><div class=\"g-1 flex-column j-space-between m-l-10\"><div class=\"bold fs-14 txt-limit-1 user_select_text\">一文带你彻底了解 Java 异步编程</div><div class=\"text-grey fs-14 user_select_text\">毛毛</div></div></a><a href=\"/gitchat/activity/5f8274a0d5dcda32a6c2139f\" target=\"_blank\" class=\"flex a-center m-b-15 article-item p-h-10 c-p\"><div class=\"rank-txt no-shrink gc-font-br\">03</div><div class=\"g-1 flex-column j-space-between m-l-10\"><div class=\"bold fs-14 txt-limit-1 user_select_text\">面试官：你说说互斥锁、自旋锁、读写锁、悲观锁、乐观锁的应用场景</div><div class=\"text-grey fs-14 user_select_text\">小林coding</div></div></a><a href=\"/gitchat/activity/5f8274396966c432f3e85ec6\" target=\"_blank\" class=\"flex a-center m-b-15 article-item p-h-10 c-p\"><div class=\"rank-txt no-shrink gc-font-br\">04</div><div class=\"g-1 flex-column j-space-between m-l-10\"><div class=\"bold fs-14 txt-limit-1 user_select_text\">CPU 执行程序的秘密，藏在了这 15 张图里</div><div class=\"text-grey fs-14 user_select_text\">小林coding</div></div></a><a href=\"/gitchat/activity/5f824af13334370f1f81033f\" target=\"_blank\" class=\"flex a-center m-b-15 article-item p-h-10 c-p\"><div class=\"rank-txt no-shrink gc-font-br\">05</div><div class=\"g-1 flex-column j-space-between m-l-10\"><div class=\"bold fs-14 txt-limit-1 user_select_text\">Vue 3.0+UI 库，封装一套表单组件</div><div class=\"text-grey fs-14 user_select_text\">金色海洋</div></div></a><a style=\"background:#F9FAFD\" href=\"/chat?free=1\" target=\"_self\" class=\"link2-all-article block t-center fs-14 bold p-v-10 m-h-10 m-b-20\">查看全部 ></a></div><style>.hover-item:hover .hover-hlight {\n",
      "  color: #FF700A;\n",
      "  transition: color .2s ease;\n",
      "}\n",
      "</style><div class=\"gc-add-border br-4 m-t-30\"><span class=\"block relative bold fs-18 m-t-22 m-b-13 p-h-10\">技术团队</span><div class=\"split-line m-h-10 m-b-10\"></div><a href=\"/gitchat/author/5b19cb9ff72ca24397956775\" target=\"_blank\" class=\"flex a-center m-b-15 p-h-10 hover-item\"><img src=\"https://images.gitbook.cn/853fe1d0-cad2-11e9-8c9c-71bdf4cf60f5?imageView2/1/w/400/h/400\" alt=\"阿里巴巴云原生\" width=\"50\" height=\"50\" style=\"border-radius: 4px;\" class=\"no-shrink\"><div style=\"height:54px;\" class=\"flex a-center j-space-between g-1 m-l-10\"><div class=\"flex-column h-full\"><div class=\"hover-hlight fs-14 txt-limit-1 bold user_select_text\">阿里巴巴云原生</div><div class=\"text-grey fs-12 flex a-center m-t-5\"><span class=\"m-r-15\">189 关注</span><span>179 篇文章</span></div></div><button class=\"recommend_follow_btn login_event\">关注</button></div></a><a href=\"/gitchat/author/5b6847b16c699b4dfc6cc4b6\" target=\"_blank\" class=\"flex a-center m-b-15 p-h-10 hover-item\"><img src=\"https://images.gitbook.cn/7315ef30-9979-11e8-aa32-8ffa5a06f32d?imageView2/1/w/400/h/400\" alt=\"Apollo开发者社区\" width=\"50\" height=\"50\" style=\"border-radius: 4px;\" class=\"no-shrink\"><div style=\"height:54px;\" class=\"flex a-center j-space-between g-1 m-l-10\"><div class=\"flex-column h-full\"><div class=\"hover-hlight fs-14 txt-limit-1 bold user_select_text\">Apollo开发者社区</div><div class=\"text-grey fs-12 flex a-center m-t-5\"><span class=\"m-r-15\">13 关注</span><span>3 篇文章</span></div></div><button class=\"recommend_follow_btn login_event\">关注</button></div></a><a href=\"/gitchat/author/58f03fd4777cc6f8150ada69\" target=\"_blank\" class=\"flex a-center m-b-15 p-h-10 hover-item\"><img src=\"https://images.gitbook.cn/376b8620-20c1-11e7-9ea4-73b80aa23d02?imageView2/1/w/400/h/400\" alt=\"携程技术微分享\" width=\"50\" height=\"50\" style=\"border-radius: 4px;\" class=\"no-shrink\"><div style=\"height:54px;\" class=\"flex a-center j-space-between g-1 m-l-10\"><div class=\"flex-column h-full\"><div class=\"hover-hlight fs-14 txt-limit-1 bold user_select_text\">携程技术微分享</div><div class=\"text-grey fs-12 flex a-center m-t-5\"><span class=\"m-r-15\">17 关注</span><span>7 篇文章</span></div></div><button class=\"recommend_follow_btn login_event\">关注</button></div></a><a href=\"/gitchat/author/5c89ff1023f8185c2d56cbf9\" target=\"_blank\" class=\"flex a-center m-b-15 p-h-10 hover-item\"><img src=\"https://images.gitbook.cn/a5a08f30-4628-11e9-89dd-13e2db9469e7?imageView2/1/w/400/h/400\" alt=\"饿了么物流技术团队\" width=\"50\" height=\"50\" style=\"border-radius: 4px;\" class=\"no-shrink\"><div style=\"height:54px;\" class=\"flex a-center j-space-between g-1 m-l-10\"><div class=\"flex-column h-full\"><div class=\"hover-hlight fs-14 txt-limit-1 bold user_select_text\">饿了么物流技术团队</div><div class=\"text-grey fs-12 flex a-center m-t-5\"><span class=\"m-r-15\">15 关注</span><span>5 篇文章</span></div></div><button class=\"recommend_follow_btn login_event\">关注</button></div></a><a href=\"/gitchat/author/5992e74a425122289fa27bf5\" target=\"_blank\" class=\"flex a-center m-b-15 p-h-10 hover-item\"><img src=\"https://images.gitbook.cn/7018b3b0-7f6d-11e8-9cf9-b723497582a3?imageView2/1/w/400/h/400\" alt=\"美团技术团队\" width=\"50\" height=\"50\" style=\"border-radius: 4px;\" class=\"no-shrink\"><div style=\"height:54px;\" class=\"flex a-center j-space-between g-1 m-l-10\"><div class=\"flex-column h-full\"><div class=\"hover-hlight fs-14 txt-limit-1 bold user_select_text\">美团技术团队</div><div class=\"text-grey fs-12 flex a-center m-t-5\"><span class=\"m-r-15\">23 关注</span><span>13 篇文章</span></div></div><button class=\"recommend_follow_btn login_event\">关注</button></div></a></div><div class=\"gc-add-border br-4 m-t-30\"><span class=\"block relative bold fs-18 m-t-22 m-b-13 p-h-10\">新晋作者</span><div class=\"split-line m-h-10 m-b-10\"></div><div class=\"flex a-center m-b-15 p-h-10 hover-bg-for-grey\"><img src=\"https://images.gitbook.cn/28e81ee0-7504-11e8-b50a-afc9280408c6?imageView2/1/w/400/h/400\" alt=\"晓舜\" width=\"46\" height=\"46\" style=\"border-radius:100%;\" class=\"no-shrink\"><div style=\"height:54px;\" class=\"flex a-center j-space-between g-1 m-l-10\"><div class=\"flex-column j-center h-full g-1\"><div class=\"fs-14 flex a-center\"><a href=\"/gitchat/author/5b2b1d07d1d1e70f9cec884f\" target=\"_blank\" class=\"txt-limit-1 bold user_select_text\">晓舜</a><div style=\"background:rgba(255,112,10,.2)\" class=\"fs-12 p-h-4 text-gc-orange m-l-10 br-4\">上周入驻</div></div><a href=\"/gitchat/activity/5fbf05f7ba1ba05ec14d2f0a\" target=\"_blank\" class=\"text-grey fs-12 txt-limit-1 m-t-5 user_select_text\">首发文章 | 聊聊 MySQL 事务</a></div></div></div><div class=\"flex a-center m-b-15 p-h-10 hover-bg-for-grey\"><img src=\"http://images.gitbook.cn/Fmxz0pNwONWBuzf6_6GHvZ_R28Rw?imageView2/1/w/400/h/400\" alt=\"喵叔\" width=\"46\" height=\"46\" style=\"border-radius:100%;\" class=\"no-shrink\"><div style=\"height:54px;\" class=\"flex a-center j-space-between g-1 m-l-10\"><div class=\"flex-column j-center h-full g-1\"><div class=\"fs-14 flex a-center\"><a href=\"/gitchat/author/5ad6a5735e01002e2c78d4c6\" target=\"_blank\" class=\"txt-limit-1 bold user_select_text\">喵叔</a><div style=\"background:rgba(255,112,10,.2)\" class=\"fs-12 p-h-4 text-gc-orange m-l-10 br-4\">上周入驻</div></div><a href=\"/gitchat/activity/5fbd1d9f3922905ec04e4709\" target=\"_blank\" class=\"text-grey fs-12 txt-limit-1 m-t-5 user_select_text\">首发文章 | DIY 自己的 IoC</a></div></div></div><div class=\"flex a-center m-b-15 p-h-10 hover-bg-for-grey\"><img src=\"https://images.gitbook.cn/a3403a90-3ee1-11e9-a7f2-db689d3df630?imageView2/1/w/400/h/400\" alt=\"不说\" width=\"46\" height=\"46\" style=\"border-radius:100%;\" class=\"no-shrink\"><div style=\"height:54px;\" class=\"flex a-center j-space-between g-1 m-l-10\"><div class=\"flex-column j-center h-full g-1\"><div class=\"fs-14 flex a-center\"><a href=\"/gitchat/author/5c7dc9735410817ae3a51e87\" target=\"_blank\" class=\"txt-limit-1 bold user_select_text\">不说</a><div style=\"background:rgba(255,112,10,.2)\" class=\"fs-12 p-h-4 text-gc-orange m-l-10 br-4\">上周入驻</div></div><a href=\"/gitchat/activity/5f810d1973ca75329b950793\" target=\"_blank\" class=\"text-grey fs-12 txt-limit-1 m-t-5 user_select_text\">首发文章 | 《.net 之美》之读书笔记（一）：C# 语言基础</a></div></div></div><div class=\"flex a-center m-b-15 p-h-10 hover-bg-for-grey\"><img src=\"https://images.gitbook.cn/4e90f980-f736-11ea-b763-4f3713dd1f43?imageView2/1/w/400/h/400\" alt=\"悟空聊架构\" width=\"46\" height=\"46\" style=\"border-radius:100%;\" class=\"no-shrink\"><div style=\"height:54px;\" class=\"flex a-center j-space-between g-1 m-l-10\"><div class=\"flex-column j-center h-full g-1\"><div class=\"fs-14 flex a-center\"><a href=\"/gitchat/author/5d861f5eeaa67b3c5f9047fe\" target=\"_blank\" class=\"txt-limit-1 bold user_select_text\">悟空聊架构</a><div style=\"background:rgba(255,112,10,.2)\" class=\"fs-12 p-h-4 text-gc-orange m-l-10 br-4\">上周入驻</div></div><a href=\"/gitchat/activity/5f807ea0dc0d2e0f38b45fde\" target=\"_blank\" class=\"text-grey fs-12 txt-limit-1 m-t-5 user_select_text\">首发文章 | 别只会搜日志了，求你懂点检索原理吧</a></div></div></div><div class=\"flex a-center m-b-15 p-h-10 hover-bg-for-grey\"><img src=\"https://images.gitbook.cn/FtCuvw0xzX9xRVUoF7b0jgv9Lvpe?imageView2/1/w/400/h/400\" alt=\"Amy\" width=\"46\" height=\"46\" style=\"border-radius:100%;\" class=\"no-shrink\"><div style=\"height:54px;\" class=\"flex a-center j-space-between g-1 m-l-10\"><div class=\"flex-column j-center h-full g-1\"><div class=\"fs-14 flex a-center\"><a href=\"/gitchat/author/5e96974dd58cb049149d99a6\" target=\"_blank\" class=\"txt-limit-1 bold user_select_text\">Amy</a><div style=\"background:rgba(255,112,10,.2)\" class=\"fs-12 p-h-4 text-gc-orange m-l-10 br-4\">11-22入驻</div></div><a href=\"/gitchat/activity/5fba4825ba1ba05ec14d258c\" target=\"_blank\" class=\"text-grey fs-12 txt-limit-1 m-t-5 user_select_text\">首发文章 | MySQL 查询语句是如何执行的？</a></div></div></div></div><style>.link2-column-del,\n",
      ".hover-item .hover-hlight { transition: all .2s ease-in;}\n",
      ".hover-item:hover .link2-column-del {\n",
      "  color: #fff !important;\n",
      "  background: #FF700A;\n",
      "}\n",
      ".hover-item:hover .hover-hlight { color: #FF700A; }\n",
      "</style><div class=\"gc-add-border br-4 m-t-30\"><span class=\"block relative bold fs-18 m-t-22 m-b-13 p-h-10\">专栏推荐</span><div class=\"split-line m-h-10 m-b-10\"></div><a href=\"/gitchat/column/5cdab7fb34b6ed1398fd8de7\" target=\"_blank\" class=\"flex a-center m-b-15 p-h-10 c-p hover-item\"><img src=\"https://images.gitbook.cn/Fk_xOIS_94DRdwNKwggz6nBEgGzC?imageslim\" width=\"60\" height=\"80\" class=\"no-shrink br-4 m-r-10\"><div style=\"height: 80px\" class=\"g-1 flex-column j-space-between\"><div><div class=\"fs-14 bold txt-limit-1 hover-hlight\">领域驱动设计实践（战略+战术）</div><div class=\"flex a-center fs-12 text-grey m-t-4\"><span class=\"m-r-15\">3244订阅</span><span>109篇文章</span></div></div><div style=\"width: fit-content\" class=\"link2-column-del gc-add-border p-v-3 p-h-5 fs-12 text-grey c-p br-2\">进入专栏</div></div></a><a href=\"/gitchat/column/5efc04f01d0c3d14668b869b\" target=\"_blank\" class=\"flex a-center m-b-15 p-h-10 c-p hover-item\"><img src=\"https://images.gitbook.cn/FtDwPOfBjKTLNeQHm8KeOyf5Poxo?imageslim\" width=\"60\" height=\"80\" class=\"no-shrink br-4 m-r-10\"><div style=\"height: 80px\" class=\"g-1 flex-column j-space-between\"><div><div class=\"fs-14 bold txt-limit-1 hover-hlight\">机器学习中的数学（全集）</div><div class=\"flex a-center fs-12 text-grey m-t-4\"><span class=\"m-r-15\">582订阅</span><span>71篇文章</span></div></div><div style=\"width: fit-content\" class=\"link2-column-del gc-add-border p-v-3 p-h-5 fs-12 text-grey c-p br-2\">进入专栏</div></div></a><a href=\"/gitchat/column/5f1a9c00dfc48f2858fa9092\" target=\"_blank\" class=\"flex a-center m-b-15 p-h-10 c-p hover-item\"><img src=\"https://images.gitbook.cn/FgV7JmZssvsXtxU4O6KmhZbLCESn?imageslim\" width=\"60\" height=\"80\" class=\"no-shrink br-4 m-r-10\"><div style=\"height: 80px\" class=\"g-1 flex-column j-space-between\"><div><div class=\"fs-14 bold txt-limit-1 hover-hlight\">数据结构算法面试全解析</div><div class=\"flex a-center fs-12 text-grey m-t-4\"><span class=\"m-r-15\">493订阅</span><span>18篇文章</span></div></div><div style=\"width: fit-content\" class=\"link2-column-del gc-add-border p-v-3 p-h-5 fs-12 text-grey c-p br-2\">进入专栏</div></div></a><a href=\"/gitchat/column/5dad4a20669f843a1a37cb4f\" target=\"_blank\" class=\"flex a-center m-b-15 p-h-10 c-p hover-item\"><img src=\"https://images.gitbook.cn/Fmpxt9nSnCYY4GOCX5FSVpCANeFT?imageslim\" width=\"60\" height=\"80\" class=\"no-shrink br-4 m-r-10\"><div style=\"height: 80px\" class=\"g-1 flex-column j-space-between\"><div><div class=\"fs-14 bold txt-limit-1 hover-hlight\">大数据实时计算引擎 Flink 实战与性能优化</div><div class=\"flex a-center fs-12 text-grey m-t-4\"><span class=\"m-r-15\">2275订阅</span><span>49篇文章</span></div></div><div style=\"width: fit-content\" class=\"link2-column-del gc-add-border p-v-3 p-h-5 fs-12 text-grey c-p br-2\">进入专栏</div></div></a><a href=\"/gitchat/column/5e37978dec8d9033cf916b5d\" target=\"_blank\" class=\"flex a-center m-b-15 p-h-10 c-p hover-item\"><img src=\"https://images.gitbook.cn/Fh5vfQphjmmXjblyCq6j1GtTmGda?imageslim\" width=\"60\" height=\"80\" class=\"no-shrink br-4 m-r-10\"><div style=\"height: 80px\" class=\"g-1 flex-column j-space-between\"><div><div class=\"fs-14 bold txt-limit-1 hover-hlight\">Python 全栈 60 天精通之路</div><div class=\"flex a-center fs-12 text-grey m-t-4\"><span class=\"m-r-15\">7522订阅</span><span>61篇文章</span></div></div><div style=\"width: fit-content\" class=\"link2-column-del gc-add-border p-v-3 p-h-5 fs-12 text-grey c-p br-2\">进入专栏</div></div></a><a href=\"/gitchat/column/5f27b043f84af80b7669f79b\" target=\"_blank\" class=\"flex a-center m-b-15 p-h-10 c-p hover-item\"><img src=\"https://images.gitbook.cn/Fnb7f5aLChOXnfvUpaPvjGYXcELq?imageslim\" width=\"60\" height=\"80\" class=\"no-shrink br-4 m-r-10\"><div style=\"height: 80px\" class=\"g-1 flex-column j-space-between\"><div><div class=\"fs-14 bold txt-limit-1 hover-hlight\">Kubernetes 实践入门指南</div><div class=\"flex a-center fs-12 text-grey m-t-4\"><span class=\"m-r-15\">524订阅</span><span>32篇文章</span></div></div><div style=\"width: fit-content\" class=\"link2-column-del gc-add-border p-v-3 p-h-5 fs-12 text-grey c-p br-2\">进入专栏</div></div></a><a style=\"background:#F9FAFD\" href=\"/gitchat/columns\" target=\"_blank\" class=\"link2-all-article block t-center fs-14 bold p-v-10 m-h-10 m-b-20\">查看全部 ></a></div><!-- 附加的板块 备案号及其他small shit --><div class=\"m-b-20\"><a href=\"https://github.com/GitBookCn/GitChat/issues\" class=\"w-full m-t-30 c-p block\"><img src=\"https://images.gitbook.cn/FoyiuT7b9raIvxPKhVPpjbVKFDDj?imageView2\" alt=\"问题反馈\" class=\"w-full\"></a><div class=\"w-full m-t-30\"><img src=\"https://images.gitbook.cn/Fvs8XFqEA5B1TBf2GFYbrOdjgW1I\" alt=\"下载app\" class=\"w-full\"></div><div class=\"flex j-space-between m-t-30 text-grey\"><a href=\"/books/5ad965d38ba0ed4ba9410f27/index.html\" target=\"_blank\">加入我们</a><a id=\"aboutusLink\" href=\"/books/5b398139328f856827673b50/index.html\" target=\"_blank\">常见问题</a><a id=\"contactUsLink\" data-toggle=\"modal\" href=\"#contactUsModal\">联系客服</a><a target=\"_blank\" href=\"https://github.com/GitBookCn/GitChat\" role=\"button\">反馈需求</a></div><a href=\"http://beian.miit.gov.cn/\" target=\"_blank\" rel=\"noopener\" class=\"m-v-5 text-grey inlineBlock\">京ICP备16004941号-1</a><a href=\"http://www.beian.gov.cn/portal/registerSystemInfo?recordcode=11010502038640\" target=\"_blank\" rel=\"noopener\" class=\"text-grey inlineBlock flex a-center\"><img src=\"https://images.gitbook.cn/FqxLleiqU0FJhzIuEdvvT-7lvUw1\"><span class=\"m-l-5\">京公网安备 11010502038640 号</span></a></div></div></div></body><script src=\"https://res.wx.qq.com/connect/zh_CN/htmledition/js/wxLogin.js\"></script><div class=\"fat-nav\"><div class=\"login-error-tip\"></div><div class=\"login-modal\"><img src=\"https://images.gitbook.cn/FmolTdK1yu4DdPWmTFDgRbSRrACQ\" class=\"login-modal-close\"><div class=\"login-modal-content\"><img src=\"https://images.gitbook.cn/FkY0yoXWhzILK9EC-t-Uhs9ffpCv\" data-type=\"1\" class=\"login-change-type\"><div class=\"login-title-view\"><img src=\"https://images.gitbook.cn/FsTnKJc1n62yCeTvOpMs09f5wZuk\" class=\"login-title-img\"><h3 class=\"login-title-txt\">登录 GitChat</h3></div><div class=\"login-by-code\"><div class=\"login-tel-view\"><input id=\"loginTelInput\" type=\"text\" maxlength=\"12\" placeholder=\"手机号\" class=\"login-tel-input\"><button id=\"loginCode\" class=\"login-get-code\">获取验证码</button></div><div class=\"login-code-view\"><input id=\"loginCodeInput\" type=\"text\" maxlength=\"8\" placeholder=\"输入6位验证码\" class=\"login-code-input\"></div><div class=\"login-tip\">验证即登录，未注册则自动创建新账号</div></div><div class=\"login-by-pwd\"><div class=\"login-tel-view\"><input id=\"loginPwdTelInput\" type=\"text\" maxlength=\"12\" placeholder=\"手机号\" class=\"login-tel-input\"></div><div class=\"login-code-view\"><input id=\"loginPwdInput\" type=\"password\" maxlength=\"20\" placeholder=\"密码\" class=\"login-code-input\"></div><div class=\"login-tip forget-pwd\">忘记登录密码</div></div><button class=\"login-btn\">登录</button><button class=\"login-change\">密码登录</button><div class=\"login-agreement\"><span>登录即表示您同意</span><a href=\"javascript:void(0)\" target=\"_blank\" class=\"login-agreement-link\">《用户协议》</a></div></div><div class=\"login-modal-new-password\"><div class=\"login-new-pwd-title\">设置登录密码</div><div class=\"login-new-pwd-view\"><input id=\"loginNewPwdInput\" type=\"password\" maxlength=\"20\" placeholder=\"设置密码\" class=\"login-input-pwd\"></div><div class=\"login-tip\">验证即登录，未注册则自动创建新账号</div><button class=\"login-new-pwd-btn\">保存并登录</button></div><div class=\"login-modal-find-pwd\"><div class=\"login-find-pwd-title\"><div class=\"login-find-back\"><img src=\"https://images.gitbook.cn/FjzVephZ66cbiGNQd7ZEqnLM8XaB\"><span>返回</span></div><span>找回密码</span></div><div class=\"login-tel-view\"><input id=\"loginFindTelInput\" type=\"text\" maxlength=\"12\" placeholder=\"手机号\" class=\"login-tel-input\"><button class=\"login-get-code\">获取验证码</button></div><div class=\"login-code-view\"><input id=\"loginFindCode\" type=\"text\" maxlength=\"8\" placeholder=\"输入6位验证码\" class=\"login-code-input\"></div><div class=\"login-find-pwd-view\"><input id=\"loginFindPwdInput\" type=\"password\" maxlength=\"20\" placeholder=\"设置密码\" class=\"login-input-pwd\"></div><div class=\"login-tip\">8-20位的数字混合密码更安全哦～</div><button class=\"login-find-pwd-btn\">保存并登录</button></div><div class=\"login-modal-qr-new\"><div class=\"login-qr-new-jump\">跳过</div><div class=\"login-qr-new-title\">温馨提示</div><div class=\"login-qr-new-tips\">若您曾经在微信端使用过 GitChat 产品 请您绑定微信以避免数据丢失， 也可以在设置/微信绑定里进行绑定</div><div class=\"login-qr-new-code\"><div class=\"login-qr-new-success\"><img src=\"https://images.gitbook.cn/FhZRtbS3b0UVaVg3hEN_Utstfh78\"><p>绑定成功</p></div></div><div class=\"login-qr-new-tips2\">请使用微信APP扫描二维码绑定</div></div><div class=\"login-modal-qr-login\"><img src=\"https://images.gitbook.cn/FlubT1vz8CZXxft08deUqOpCo2cT\" data-type=\"2\" class=\"login-change-type\"><div class=\"login-qr-login-title\">微信登录</div><div id=\"login_container\" class=\"login-qr-login-code\"></div><div class=\"login-qr-login-tip\">请使用微信APP扫描二维码登录</div></div><div class=\"login-modal-bind-tel\"><div class=\"login-bind-title\">绑定手机</div><div class=\"login-bind-tip\">绑定手机可以和微信端保持数据同步</div><div class=\"login-tel-view\"><input id=\"loginBindTelInput\" type=\"text\" maxlength=\"12\" placeholder=\"手机号\" class=\"login-tel-input\"><button id=\"loginBindCode\" class=\"login-get-code\">获取验证码</button></div><div class=\"login-code-view\"><input id=\"loginBindCodeInput\" type=\"text\" maxlength=\"6\" placeholder=\"输入6位验证码\" class=\"login-code-input\"></div><div class=\"login-pwd-view\"><input id=\"loginBindPwdInput\" type=\"password\" maxlength=\"20\" placeholder=\"密码\" class=\"login-input-pwd\"></div><div style=\"display:none\" class=\"login-tip\">8-20位的数字混合密码更安全哦～</div><button class=\"login-bind-btn\">确认并登录</button></div></div>\n",
      "</div><div id=\"authorModal\" style=\"margin-top: 60px;\" tabindex=\"-1\" role=\"dialog\" aria-labelledby=\"myModalLabel\" class=\"modal fade\"><div role=\"document\" class=\"modal-dialog\"><div class=\"modal-content\"><div class=\"modal-header\"><button type=\"button\" data-dismiss=\"modal\" aria-label=\"Close\" class=\"close\"><span aria-hidden=\"true\">×</span></button><h4 id=\"authorModalLabel\" class=\"modal-title\">帐号设置</h4></div><div class=\"modal-body\"><div style=\"display:inline-block;width: 100%;\"><div style=\"display:inline;float:left;padding: 20px 0 0 10px;min-width: 280px;\"><div id=\"authorThumb\" style=\"display: inline-block;float:left;width: 100px;height: 100px;border: 1px solid #cccccc;margin-right: 20px;                        line-height: 100px;font-size: 30px;text-align: center;-webkit-border-radius: 50px;margin-bottom:20px;\">头像</div><form id=\"thumbUploadForm\" style=\"margin-top:25px;\" method=\"post\" action=\"/upload/book/image\" enctype=\"multipart/form-data\"><div style=\"display: inline\" class=\"form-group\"><a href=\"javascript:;\" class=\"file\">选择头像<input id=\"thumbInputFile\" type=\"file\" name=\"tmpFile\" onchange=\"javascript:submitThumbForm()\"></a><p style=\"font-size:12px;\" class=\"help-block\">最佳分辨率：200*200像素</p></div></form></div><!--if customerAccountStatus == 'onlymail'--><!--    div.hidden-xs(style='display:inline;float:right;width:50%;height: 220px;text-align: center;')--><!--        span 绑 定 微 信 帐 号--><!--        div#bandweixin(style='height: 220px;overflow: hidden;')--><!--    script.--><!--        if (!(/MicroMessenger/i).test(window.navigator.userAgent)) {--><!--            var state = encodeURI(window.location.href);--><!--            $.ajax ({--><!--                url: \"/weixin/bind/weixin/qr\",--><!--                type: \"POST\",--><!--                dataType: \"json\",--><!--                contentType: \"application/json; charset=utf-8\",--><!--                success: function(data,status){--><!--                    if(data.code == 0){--><!--                        var obj = new WxLogin({--><!--                            id:\"bandweixin\",--><!--                            appid: data.appId,--><!--                            scope: data.scope,--><!--                            redirect_uri: data.redirectUrl,--><!--                            state: state,--><!--                            style: \"black\",--><!--                            href: \"https%3A%2F%2Foabbwo5lj.qnssl.com%2FweixinLoginQr2.css\"--><!--                            });--><!--                    }--><!--                }--><!--            });--><!--        }--></div><div style=\"display:inline-block;width:100%;border-top:1px dashed #f5f5f5;height:20px;\"></div><div style=\"display:inline-block;width:100%;\"><div style=\"float:left;line-height:30px;\">昵   称:</div><div style=\"margin-left:70px;\"><input id=\"authorName\" style=\"margin-bottom: 10px;\" type=\"text\" placeholder=\"用户昵称\" value=\"\" class=\"form-control\"></div></div><div style=\"display:inline-block;width:100%;\"><div style=\"float:left;line-height:30px;\">微信号:</div><div style=\"margin-left:70px;\"><input id=\"weixinAccount\" style=\"margin-bottom: 10px;\" type=\"text\" placeholder=\"不填写微信号就不能发布Chat活动哦^_^\" value=\"\" class=\"form-control\"></div></div><div style=\"display:inline-block;width:100%;\"><div style=\"float:left;line-height:30px;\">头   衔:</div><div style=\"margin-left:70px;\"><input id=\"authorTitle\" style=\"margin-bottom: 10px;\" type=\"text\" placeholder=\"用户头衔\" value=\"\" class=\"form-control\"></div></div><div style=\"display:inline-block;width:100%;\"><div style=\"float:left;line-height:30px;\">背景介绍:</div><div style=\"margin-left:70px;\"><textarea id=\"authorBackground\" style=\"margin-bottom: 10px;\" rows=\"3\" placeholder=\"用户背景简介\" class=\"form-control\"></textarea><input id=\"hideCustomerThumbImage\" style=\"display:none\"></div></div><div style=\"font-size: 25px;line-height: 35px;\"></div><div id=\"thumbUploadingAlertDiv\" style=\"display:none;margin-top: 50px;margin-bottom: -20px;\" class=\"alert alert-info\">正在上传头像，请稍等......</div><div id=\"updatingAlertDiv\" style=\"display:none;margin-top: 50px;margin-bottom: -20px;\" class=\"alert alert-info\">正在更新，请稍等......</div><div id=\"emailCheckAlertDiv\" style=\"display:none;margin-top: 50px;margin-bottom: -20px;\" class=\"alert alert-danger\">邮件地址格式不正确，请重新填写</div><div id=\"dupEmailAlertDiv\" style=\"display:none;margin-top: 50px;margin-bottom: -20px;\" class=\"alert alert-danger\">此邮件地址已经被其他用户使用</div></div><div style=\"margin-top: 20px;\" class=\"modal-footer\"><button type=\"button\" data-dismiss=\"modal\" class=\"btn btn-default\">取消</button><button id=\"authorSubmitBtn\" type=\"button\" data-dismiss=\"modal\" class=\"btn btn-primary\">保存</button></div></div></div></div><script>if (!(/MicroMessenger/i).test(window.navigator.userAgent)) {\n",
      "    var state = encodeURI(window.location.href);\n",
      "    $.ajax ({\n",
      "            url: \"/weixin/login/qr\",\n",
      "            type: \"POST\",\n",
      "            dataType: \"json\",\n",
      "            contentType: \"application/json; charset=utf-8\",\n",
      "            success: function(data,status){\n",
      "                if(data.code == 0){\n",
      "                    var obj = new WxLogin({\n",
      "                        id:\"login_container\",\n",
      "                        appid: data.appId,\n",
      "                        scope: data.scope,\n",
      "                        redirect_uri: data.redirectUrl,\n",
      "                        state: state,\n",
      "                        style: \"white\",\n",
      "                        href: \"https%3A%2F%2Fgitbook.cn%2Fdist%2Fsite%2Fgitbook%2FweixinLoginQr.css\"\n",
      "                    });\n",
      "                }\n",
      "            }\n",
      "    });\n",
      "}</script><script src=\"/dist/js/jquery.fatNav.js\"></script><script>new gnMenu( document.getElementById( 'gn-menu' ) );</script><script async src=\"https://www.googletagmanager.com/gtag/js?id=UA-96766334-1\"></script><script>window.dataLayer = window.dataLayer || [];\n",
      "function gtag(){dataLayer.push(arguments);}\n",
      "gtag('js', new Date());\n",
      "var userId = '';\n",
      "if(userId && userId != '' && userId != 'do_not_exist'){\n",
      "    gtag('set', {'user_id': userId});\n",
      "}\n",
      "gtag('config', 'UA-96766334-1');\n",
      "var gEvent = ''\n",
      "if (gEvent && gEvent != '') {\n",
      "    gtag('event', gEvent);\n",
      "}</script><script>var _hmt = _hmt || [];\n",
      "(function() {\n",
      "    var hm = document.createElement(\"script\");\n",
      "    hm.src = \"https://hm.baidu.com/hm.js?5667c6d502e51ebd8bd9e9be6790fb5d\";\n",
      "    var s = document.getElementsByTagName(\"script\")[0];\n",
      "    s.parentNode.insertBefore(hm, s);\n",
      "})();</script><script nomodule async type=\"module\">import { initSwiper, addEventListener2Categories } from '/dist/js/webModules/v5.js';\n",
      "initSwiper('#gc-swp');\n",
      "addEventListener2Categories();</script><script>const log = console.log;\n",
      "$('.biwen_btn').click(function(){\n",
      "  try{\n",
      "    let biwenTxt = $(this).text().substr(1,2);\n",
      "    sensors.track('biwen_pageview', {'biwen_entrance':biwenTxt})\n",
      "  } catch(e) {\n",
      "    if (e) log(e)\n",
      "  }\n",
      "  return window.open('https://biwen.csdn.net','_blank');\n",
      "})</script>\n"
     ]
    }
   ],
   "source": [
    "import requests\n",
    "url = \"http://gitbook.cn/\"\n",
    "web_data = requests.get(url)\n",
    "web_info = web_data.text\n",
    "print(web_info)\n"
   ]
  },
  {
   "cell_type": "code",
   "execution_count": null,
   "metadata": {},
   "outputs": [],
   "source": []
  }
 ],
 "metadata": {
  "kernelspec": {
   "display_name": "Python 3",
   "language": "python",
   "name": "python3"
  },
  "language_info": {
   "codemirror_mode": {
    "name": "ipython",
    "version": 3
   },
   "file_extension": ".py",
   "mimetype": "text/x-python",
   "name": "python",
   "nbconvert_exporter": "python",
   "pygments_lexer": "ipython3",
   "version": "3.8.5"
  }
 },
 "nbformat": 4,
 "nbformat_minor": 4
}
