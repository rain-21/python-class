{
 "cells": [
  {
   "cell_type": "code",
   "execution_count": 1,
   "metadata": {},
   "outputs": [
    {
     "data": {
      "text/plain": [
       "'E:\\\\Anaconda\\\\envs\\\\TF2.1\\\\python.exe'"
      ]
     },
     "execution_count": 1,
     "metadata": {},
     "output_type": "execute_result"
    }
   ],
   "source": [
    "import sys\n",
    "sys.executable"
   ]
  },
  {
   "cell_type": "code",
   "execution_count": 6,
   "metadata": {},
   "outputs": [
    {
     "data": {
      "text/plain": [
       "['E:\\\\Anaconda\\\\envs\\\\TF2.1\\\\lib\\\\site-packages\\\\ipykernel_launcher.py',\n",
       " '-f',\n",
       " 'C:\\\\Users\\\\Han_te\\\\AppData\\\\Roaming\\\\jupyter\\\\runtime\\\\kernel-e309c2fe-702e-4253-81a9-8dc988b92d6f.json']"
      ]
     },
     "execution_count": 6,
     "metadata": {},
     "output_type": "execute_result"
    }
   ],
   "source": [
    "sys.argv"
   ]
  },
  {
   "cell_type": "code",
   "execution_count": 13,
   "metadata": {},
   "outputs": [
    {
     "name": "stdout",
     "output_type": "stream",
     "text": [
      "arg1:Zed,arg2:Shaw\n",
      "arg1:Zed,arg2:Shaw\n",
      "arg1:First!\n",
      "I got nothing.\n"
     ]
    }
   ],
   "source": [
    "def print_two(*args):\n",
    "    arg1,arg2=args\n",
    "    print(f\"arg1:{arg1},arg2:{arg2}\")\n",
    "def print_two_again(arg1,arg2):\n",
    "    print(f\"arg1:{arg1},arg2:{arg2}\")\n",
    "def print_one(arg1):\n",
    "    print(f\"arg1:{arg1}\")\n",
    "def print_none():\n",
    "    print(\"I got nothing.\")\n",
    "\n",
    "print_two_again(\"Zed\",\"Shaw\")\n",
    "print_two(\"Zed\",\"Shaw\")\n",
    "print_one(\"First!\")\n",
    "print_none()"
   ]
  },
  {
   "cell_type": "code",
   "execution_count": 18,
   "metadata": {},
   "outputs": [
    {
     "name": "stdout",
     "output_type": "stream",
     "text": [
      "We can just give the function numbers directly:\n",
      "You have 20 cheese!\n",
      "You have 30 boxes_of_crackers!\n",
      "Man that's enough for a party!\n",
      "Get a blanket.\n",
      "\n",
      "Or, we can use variables from our script:\n",
      "You have 10 cheese!\n",
      "You have 50 boxes_of_crackers!\n",
      "Man that's enough for a party!\n",
      "Get a blanket.\n",
      "\n",
      "We can even do math inside too:\n",
      "You have 30 cheese!\n",
      "You have 11 boxes_of_crackers!\n",
      "Man that's enough for a party!\n",
      "Get a blanket.\n",
      "\n",
      "And we can combine the two, variables and math:\n",
      "You have 110 cheese!\n",
      "You have 1050 boxes_of_crackers!\n",
      "Man that's enough for a party!\n",
      "Get a blanket.\n",
      "\n"
     ]
    }
   ],
   "source": [
    "def cheese_and_crackers(cheese_count,boxes_of_crackers):\n",
    "    print(f\"You have {cheese_count} cheese!\")\n",
    "    print(f\"You have {boxes_of_crackers} boxes_of_crackers!\")\n",
    "    print(\"Man that's enough for a party!\")\n",
    "    print(\"Get a blanket.\\n\")\n",
    "\n",
    "print(\"We can just give the function numbers directly:\")\n",
    "cheese_and_crackers(20,30)\n",
    "\n",
    "print(\"Or, we can use variables from our script:\")\n",
    "amount_of_cheese=10\n",
    "amount_of_crackers=50\n",
    "cheese_and_crackers(amount_of_cheese, amount_of_crackers)\n",
    "\n",
    "print(\"We can even do math inside too:\")\n",
    "cheese_and_crackers(10+20,5+6)\n",
    "\n",
    "print(\"And we can combine the two, variables and math:\")\n",
    "cheese_and_crackers(amount_of_cheese + 100, amount_of_crackers + 1000)"
   ]
  },
  {
   "cell_type": "code",
   "execution_count": 4,
   "metadata": {},
   "outputs": [
    {
     "name": "stdout",
     "output_type": "stream",
     "text": [
      "Too many cats! The world is doomed!\n",
      "Thr world is dry!\n",
      "People are greater than or equal to dogs.\n",
      "People are less than or equal to dogs\n",
      "People are dogs.\n"
     ]
    }
   ],
   "source": [
    "people=20\n",
    "cats=30\n",
    "dogs=15\n",
    "if people<cats:\n",
    "    print(\"Too many cats! The world is doomed!\")\n",
    "if people>cats:\n",
    "    print(\"Not many cats! The world is saved\")\n",
    "if people<dogs:\n",
    "    print(\"The world is drooled on!\")\n",
    "if people>dogs:\n",
    "    print(\"Thr world is dry!\")\n",
    "dogs+=5\n",
    "if people>=dogs:\n",
    "    print(\"People are greater than or equal to dogs.\")\n",
    "if people<=dogs:\n",
    "    print(\"People are less than or equal to dogs\")\n",
    "if people==dogs:\n",
    "    print(\"People are dogs.\")"
   ]
  },
  {
   "cell_type": "code",
   "execution_count": 21,
   "metadata": {},
   "outputs": [
    {
     "data": {
      "text/plain": [
       "False"
      ]
     },
     "execution_count": 21,
     "metadata": {},
     "output_type": "execute_result"
    }
   ],
   "source": [
    "1==1and(not(\"testing\"==\"testing\"or\"Python\"==\"Fun\"))\n",
    "\"chunky\"==\"bacon\"and(not(3==4 or 3==3))\n",
    "1==1and(not(\"testing\"==1 or 1==0))\n",
    "not(\"testing\"==\"testing\"and\"Zed\"==\"Cool Guy\")\n",
    "not(1!=10 or 3==4)\n",
    "not(10==1 or 1000==1000)\n",
    "not(1==1 and 0!=1)"
   ]
  },
  {
   "cell_type": "code",
   "execution_count": 25,
   "metadata": {},
   "outputs": [
    {
     "name": "stdout",
     "output_type": "stream",
     "text": [
      "We should take the cars.\n",
      "Maybe we could take the trucks.\n",
      "Alright, let's just take the trucks.\n"
     ]
    }
   ],
   "source": [
    "people=30\n",
    "cars=40\n",
    "trucks=15\n",
    "if cars>people:\n",
    "    print(\"We should take the cars.\")\n",
    "elif cars<people:\n",
    "    print(\"We should not take the cars.\")\n",
    "else:\n",
    "    print(\"We can't decide.\")\n",
    "if trucks>cars:\n",
    "    print(\"That's too many trucks.\")\n",
    "elif trucks<cars:\n",
    "    print(\"Maybe we could take the trucks.\")\n",
    "else:\n",
    "    print(\"We still can't decide.\")\n",
    "if people>trucks:\n",
    "    print(\"Alright, let's just take the trucks.\")\n",
    "else:\n",
    "    print(\"Fine, let's stay at home then.\")"
   ]
  },
  {
   "cell_type": "code",
   "execution_count": 36,
   "metadata": {},
   "outputs": [
    {
     "name": "stdout",
     "output_type": "stream",
     "text": [
      "You enter a dark room with two doors.\n",
      "Do you go through door #1 or door #2?\n"
     ]
    },
    {
     "name": "stdin",
     "output_type": "stream",
     "text": [
      "> 2\n"
     ]
    },
    {
     "name": "stdout",
     "output_type": "stream",
     "text": [
      "You stare into the endless abyss at Cthulhu's retina.\n",
      "1. Blueberries.\n",
      "2. Yellow jacket clothespins.\n",
      "3. Understanding revolvers yelling melodies.\n"
     ]
    },
    {
     "name": "stdin",
     "output_type": "stream",
     "text": [
      "> 3\n"
     ]
    },
    {
     "name": "stdout",
     "output_type": "stream",
     "text": [
      "The insanity rots your eyes into a pool of muck. Good job!\n"
     ]
    }
   ],
   "source": [
    "print(\"\"\"You enter a dark room with two doors.\n",
    "Do you go through door #1 or door #2?\"\"\")\n",
    "door=input(\">\")\n",
    "if door==\"1\":\n",
    "    print(\"There's a giant bear here eating a cheese cake. What do you do?\")\n",
    "    print(\"1. Take the cake.\")\n",
    "    print(\"2. Scream at the bear.\")\n",
    "    bear=input(\">\")\n",
    "    if bear==\"1\":\n",
    "        print(\"The bear eats your face off. Good job!\")\n",
    "    elif bear==\"2\":\n",
    "        print(\"The bear eats your legs off. Good job!\")\n",
    "    else:\n",
    "        print(f\"Well, doing {bear} is probabiy better. Bear runs away.\")\n",
    "elif door==\"2\":\n",
    "    print(\"You stare into the endless abyss at Cthulhu's retina.\")\n",
    "    print(\"1. Blueberries.\")\n",
    "    print(\"2. Yellow jacket clothespins.\")\n",
    "    print(\"3. Understanding revolvers yelling melodies.\")\n",
    "    insanity=input(\">\")\n",
    "    if insanity==\"1\" or insanity==\"2\":\n",
    "        print(\"Your body survives powered by a mind of jello. Good job!\")\n",
    "    else:\n",
    "        print(\"The insanity rots your eyes into a pool of muck. Good job!\")\n",
    "else:\n",
    "    print(\"You stumble around and fall on a knife and die. Good job!\")"
   ]
  },
  {
   "cell_type": "code",
   "execution_count": 1,
   "metadata": {},
   "outputs": [
    {
     "name": "stdin",
     "output_type": "stream",
     "text": [
      "输入你最喜欢的正整数： 100\n"
     ]
    },
    {
     "name": "stdout",
     "output_type": "stream",
     "text": [
      "1到100之和为：5050\n"
     ]
    }
   ],
   "source": [
    "number=input(\"输入你最喜欢的正整数：\")\n",
    "n=int(number)\n",
    "sum=0\n",
    "counter=1\n",
    "while counter<=n:\n",
    "    sum=sum+counter\n",
    "    counter+=1\n",
    "print(\"1到%d之和为：%d\"%(n,sum))"
   ]
  },
  {
   "cell_type": "code",
   "execution_count": 5,
   "metadata": {},
   "outputs": [
    {
     "name": "stdin",
     "output_type": "stream",
     "text": [
      "请输入姓名： 张小义\n",
      "请输入成绩： 99\n"
     ]
    },
    {
     "name": "stdout",
     "output_type": "stream",
     "text": [
      "张小义的成绩已保存。\n"
     ]
    },
    {
     "name": "stdin",
     "output_type": "stream",
     "text": [
      "是否继续输入(yes or no)? yes\n",
      "请输入姓名： 韩小特\n",
      "请输入成绩： 99\n"
     ]
    },
    {
     "name": "stdout",
     "output_type": "stream",
     "text": [
      "韩小特的成绩已保存。\n"
     ]
    },
    {
     "name": "stdin",
     "output_type": "stream",
     "text": [
      "是否继续输入(yes or no)? no\n"
     ]
    }
   ],
   "source": [
    "def save_grade(name,grade):\n",
    "    grades=open('sample.txt','a')\n",
    "    grades.write(f'姓名：{name}\\t成绩：{grade}\\n')\n",
    "    grades.close()\n",
    "    \n",
    "while True:\n",
    "    name=input(\"请输入姓名：\")\n",
    "    grade=input(\"请输入成绩：\")\n",
    "    save_grade(name,grade)\n",
    "    print(f'{name}的成绩已保存。')\n",
    "    go_on=input('是否继续输入(yes or no)?')\n",
    "    n=0\n",
    "    if go_on=='yes':\n",
    "        continue\n",
    "    elif go_on=='no':\n",
    "        break\n",
    "    print('成绩输入结束。')"
   ]
  },
  {
   "cell_type": "code",
   "execution_count": 10,
   "metadata": {},
   "outputs": [
    {
     "name": "stdout",
     "output_type": "stream",
     "text": [
      "变量 a 和 b 都为true\n",
      "变量 a 和 b 至少有一个为true\n"
     ]
    }
   ],
   "source": [
    "#逻辑运算符\n",
    "a=10\n",
    "b=20\n",
    "if(a and b):\n",
    "    print(\"变量 a 和 b 都为true\")\n",
    "else:\n",
    "    print(\"变量 a 和 b 有一个不为true\")\n",
    "if(a or b):\n",
    "    print(\"变量 a 和 b 至少有一个为true\")\n",
    "else:\n",
    "    print(\"变量 a 和 b 都不为true\")"
   ]
  },
  {
   "cell_type": "code",
   "execution_count": 12,
   "metadata": {},
   "outputs": [
    {
     "name": "stdout",
     "output_type": "stream",
     "text": [
      "变量 a 和 b 有一个不为true\n",
      "变量 a 和 b 至少有一个不为true\n",
      "变量 a 和 b 至少有一个为flase\n"
     ]
    }
   ],
   "source": [
    "#逻辑运算符\n",
    "a=0\n",
    "b=20\n",
    "if(a and b):\n",
    "    print(\"变量 a 和 b 都为true\")\n",
    "else:\n",
    "    print(\"变量 a 和 b 有一个不为true\")\n",
    "if(a or b):\n",
    "    print(\"变量 a 和 b 至少有一个不为true\")\n",
    "else:\n",
    "    print(\"变量 a 和 b 都不为true\")\n",
    "if not(a and b):\n",
    "    print(\"变量 a 和 b 至少有一个为flase\")\n",
    "else:\n",
    "    print(\"变量 a 和 b 都为true\")"
   ]
  },
  {
   "cell_type": "code",
   "execution_count": 15,
   "metadata": {},
   "outputs": [
    {
     "name": "stdout",
     "output_type": "stream",
     "text": [
      "变量a在给定的列表中\n",
      "变量b不在给定的列表中\n"
     ]
    }
   ],
   "source": [
    "#成员运算符\n",
    "a=1\n",
    "b=6\n",
    "list=[1,2,3,4,5]\n",
    "if(a in list):\n",
    "    print(\"变量a在给定的列表中\")\n",
    "else:\n",
    "    print(\"变量a不在给定的列表中\")\n",
    "if(b not in list):\n",
    "    print(\"变量b不在给定的列表中\")\n",
    "else:\n",
    "    print(\"变量b在给定的列表中\")"
   ]
  },
  {
   "cell_type": "code",
   "execution_count": 19,
   "metadata": {},
   "outputs": [
    {
     "name": "stdout",
     "output_type": "stream",
     "text": [
      "a和b有相同的标识\n",
      "a和b有相同的标识\n",
      "a和c没有相同的标识\n",
      "a和c没有相同的标识\n"
     ]
    }
   ],
   "source": [
    "#身份运算符\n",
    "a=20\n",
    "b=20\n",
    "c=30\n",
    "if (a is b):\n",
    "    print(\"a和b有相同的标识\")\n",
    "else:\n",
    "    print(\"a和b没有相同的标识\")\n",
    "if (id(a)==id(b)):\n",
    "    print(\"a和b有相同的标识\")\n",
    "else:\n",
    "    print(\"a和b没有相同的标识\")\n",
    "if (a is c):\n",
    "    print(\"a和c有相同的标识\")\n",
    "else:\n",
    "    print(\"a和c没有相同的标识\")\n",
    "if (a is not c):\n",
    "    print(\"a和c没有相同的标识\")\n",
    "else:\n",
    "    print(\"a和c有相同的标识\")"
   ]
  },
  {
   "cell_type": "code",
   "execution_count": 23,
   "metadata": {},
   "outputs": [
    {
     "name": "stdout",
     "output_type": "stream",
     "text": [
      "(a+b)*c/d的运算结果是： 90.0\n",
      "((a+b)*c)/d的运算结果是： 90.0\n",
      "(a+b)*(c/d)的运算结果是： 90.0\n",
      "a+(b*c)/d的运算结果是： 50.0\n"
     ]
    }
   ],
   "source": [
    "#运算符优先级\n",
    "a=20\n",
    "b=10\n",
    "c=15\n",
    "d=5\n",
    "e=(a+b)*c/d\n",
    "print(\"(a+b)*c/d的运算结果是：\",e)\n",
    "e=((a+b)*c)/d\n",
    "print(\"((a+b)*c)/d的运算结果是：\",e)\n",
    "e=(a+b)*(c/d)\n",
    "print(\"(a+b)*(c/d)的运算结果是：\",e)\n",
    "e=a+(b*c)/d\n",
    "print(\"a+(b*c)/d的运算结果是：\",e)"
   ]
  },
  {
   "cell_type": "code",
   "execution_count": 25,
   "metadata": {},
   "outputs": [
    {
     "name": "stdout",
     "output_type": "stream",
     "text": [
      "yes\n"
     ]
    }
   ],
   "source": [
    "#and的优先级\n",
    "x=True\n",
    "y=False\n",
    "z=False\n",
    "if x or y and z:\n",
    "    print(\"yes\")\n",
    "else:\n",
    "    print(\"no\")"
   ]
  },
  {
   "cell_type": "code",
   "execution_count": 28,
   "metadata": {},
   "outputs": [
    {
     "data": {
      "text/plain": [
       "1"
      ]
     },
     "execution_count": 28,
     "metadata": {},
     "output_type": "execute_result"
    }
   ],
   "source": [
    "#数字类型转换\n",
    "a=1.0\n",
    "int(a)"
   ]
  },
  {
   "cell_type": "code",
   "execution_count": 29,
   "metadata": {},
   "outputs": [
    {
     "data": {
      "text/plain": [
       "2.0"
      ]
     },
     "execution_count": 29,
     "metadata": {},
     "output_type": "execute_result"
    }
   ],
   "source": [
    "#数字类型转换\n",
    "a=2\n",
    "float(a)"
   ]
  },
  {
   "cell_type": "code",
   "execution_count": 31,
   "metadata": {},
   "outputs": [
    {
     "data": {
      "text/plain": [
       "(3+0j)"
      ]
     },
     "execution_count": 31,
     "metadata": {},
     "output_type": "execute_result"
    }
   ],
   "source": [
    "#数字类型转换\n",
    "a=3\n",
    "complex(a)"
   ]
  },
  {
   "cell_type": "code",
   "execution_count": 32,
   "metadata": {},
   "outputs": [
    {
     "data": {
      "text/plain": [
       "(4+5j)"
      ]
     },
     "execution_count": 32,
     "metadata": {},
     "output_type": "execute_result"
    }
   ],
   "source": [
    "#数字类型转换\n",
    "a=4\n",
    "b=5\n",
    "complex(a,b)"
   ]
  }
 ],
 "metadata": {
  "kernelspec": {
   "display_name": "Python 3",
   "language": "python",
   "name": "python3"
  },
  "language_info": {
   "codemirror_mode": {
    "name": "ipython",
    "version": 3
   },
   "file_extension": ".py",
   "mimetype": "text/x-python",
   "name": "python",
   "nbconvert_exporter": "python",
   "pygments_lexer": "ipython3",
   "version": "3.8.5"
  }
 },
 "nbformat": 4,
 "nbformat_minor": 4
}
