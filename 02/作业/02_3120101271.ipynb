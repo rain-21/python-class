{
 "cells": [
  {
   "cell_type": "code",
   "execution_count": 1,
   "metadata": {},
   "outputs": [
    {
     "data": {
      "text/plain": [
       "'D:\\\\ProgramData\\\\Anaconda3\\\\python.exe'"
      ]
     },
     "execution_count": 1,
     "metadata": {},
     "output_type": "execute_result"
    }
   ],
   "source": [
    "import sys\n",
    "sys.executable"
   ]
  },
  {
   "cell_type": "code",
   "execution_count": 2,
   "metadata": {},
   "outputs": [
    {
     "data": {
      "text/plain": [
       "['D:\\\\ProgramData\\\\Anaconda3\\\\lib\\\\site-packages\\\\ipykernel_launcher.py',\n",
       " '-f',\n",
       " 'C:\\\\Users\\\\Austral\\\\AppData\\\\Roaming\\\\jupyter\\\\runtime\\\\kernel-b4b76920-7caf-4f53-8bae-73d991a65547.json']"
      ]
     },
     "execution_count": 2,
     "metadata": {},
     "output_type": "execute_result"
    }
   ],
   "source": [
    "sys.argv"
   ]
  },
  {
   "cell_type": "code",
   "execution_count": 3,
   "metadata": {},
   "outputs": [],
   "source": [
    "def say(words):\n",
    "    print(f\"小明说：{words}\")"
   ]
  },
  {
   "cell_type": "code",
   "execution_count": 4,
   "metadata": {},
   "outputs": [
    {
     "name": "stdout",
     "output_type": "stream",
     "text": [
      "小明说：Hello!\n"
     ]
    }
   ],
   "source": [
    "say(\"Hello!\")"
   ]
  },
  {
   "cell_type": "code",
   "execution_count": 5,
   "metadata": {},
   "outputs": [
    {
     "name": "stdout",
     "output_type": "stream",
     "text": [
      "小明说：Hello world!\n"
     ]
    }
   ],
   "source": [
    "words=\"Hello world!\"\n",
    "say(words)"
   ]
  },
  {
   "cell_type": "code",
   "execution_count": 7,
   "metadata": {},
   "outputs": [],
   "source": [
    "#调用：函数名+括号"
   ]
  },
  {
   "cell_type": "code",
   "execution_count": 16,
   "metadata": {},
   "outputs": [],
   "source": [
    "def print_two(*args):\n",
    "    arg1,arg2=args\n",
    "    print(f\"arg1:{arg1},arg2:{arg2}\")"
   ]
  },
  {
   "cell_type": "code",
   "execution_count": 17,
   "metadata": {},
   "outputs": [],
   "source": [
    "# *argv:传递多个参数"
   ]
  },
  {
   "cell_type": "code",
   "execution_count": 18,
   "metadata": {},
   "outputs": [],
   "source": [
    "def print_two_again(arg1,arg2):\n",
    "    print(f\"arg1:{arg1},arg2:{arg2}\")"
   ]
  },
  {
   "cell_type": "code",
   "execution_count": 19,
   "metadata": {},
   "outputs": [],
   "source": [
    "def print_one(arg1):\n",
    "    print(f\"arg1:{arg1}\")"
   ]
  },
  {
   "cell_type": "code",
   "execution_count": 20,
   "metadata": {},
   "outputs": [],
   "source": [
    "def print_none():\n",
    "    print(\"I got nothin'.\")"
   ]
  },
  {
   "cell_type": "code",
   "execution_count": 21,
   "metadata": {},
   "outputs": [
    {
     "name": "stdout",
     "output_type": "stream",
     "text": [
      "arg1:T,arg2:Q\n",
      "arg1:T,arg2:Q\n",
      "arg1:One\n",
      "I got nothin'.\n"
     ]
    }
   ],
   "source": [
    "print_two(\"T\",\"Q\")\n",
    "print_two_again(\"T\",\"Q\")\n",
    "print_one(\"One\")\n",
    "print_none()"
   ]
  },
  {
   "cell_type": "code",
   "execution_count": 36,
   "metadata": {},
   "outputs": [],
   "source": [
    "def T_and_Q(T,Q):\n",
    "    print(f\"The first is {T}\")\n",
    "    print(f\"The second is {Q}\")\n",
    "    print(\"Is that right?\",end=' ')\n",
    "    answer=input()\n",
    "    print(f\"So your answer is {answer}.\")"
   ]
  },
  {
   "cell_type": "code",
   "execution_count": 37,
   "metadata": {},
   "outputs": [
    {
     "name": "stdout",
     "output_type": "stream",
     "text": [
      "The first is 1\n",
      "The second is 2\n",
      "Is that right? "
     ]
    },
    {
     "name": "stdin",
     "output_type": "stream",
     "text": [
      " y\n"
     ]
    },
    {
     "name": "stdout",
     "output_type": "stream",
     "text": [
      "So your answer is y.\n"
     ]
    }
   ],
   "source": [
    "T_and_Q(1,2)"
   ]
  },
  {
   "cell_type": "code",
   "execution_count": 38,
   "metadata": {},
   "outputs": [
    {
     "name": "stdout",
     "output_type": "stream",
     "text": [
      "The first is 1\n",
      "The second is 2\n",
      "Is that right? "
     ]
    },
    {
     "name": "stdin",
     "output_type": "stream",
     "text": [
      " y\n"
     ]
    },
    {
     "name": "stdout",
     "output_type": "stream",
     "text": [
      "So your answer is y.\n"
     ]
    }
   ],
   "source": [
    "T=1\n",
    "Q=2\n",
    "T_and_Q(T,Q)"
   ]
  },
  {
   "cell_type": "code",
   "execution_count": 39,
   "metadata": {},
   "outputs": [],
   "source": [
    "# end=' '：不换行"
   ]
  },
  {
   "cell_type": "code",
   "execution_count": 40,
   "metadata": {},
   "outputs": [
    {
     "name": "stdout",
     "output_type": "stream",
     "text": [
      "The first is 3\n",
      "The second is 7\n",
      "Is that right? "
     ]
    },
    {
     "name": "stdin",
     "output_type": "stream",
     "text": [
      " No?\n"
     ]
    },
    {
     "name": "stdout",
     "output_type": "stream",
     "text": [
      "So your answer is No?.\n"
     ]
    }
   ],
   "source": [
    "T_and_Q(1+2,3+4)"
   ]
  },
  {
   "cell_type": "code",
   "execution_count": 41,
   "metadata": {},
   "outputs": [
    {
     "name": "stdout",
     "output_type": "stream",
     "text": [
      "The first is 2\n",
      "The second is 3\n",
      "Is that right? "
     ]
    },
    {
     "name": "stdin",
     "output_type": "stream",
     "text": [
      " Perfect\n"
     ]
    },
    {
     "name": "stdout",
     "output_type": "stream",
     "text": [
      "So your answer is Perfect.\n"
     ]
    }
   ],
   "source": [
    "T_and_Q(T+1,Q+1)"
   ]
  },
  {
   "cell_type": "code",
   "execution_count": 42,
   "metadata": {},
   "outputs": [],
   "source": [
    "# # print\n",
    "# # print\n",
    "# ctrl+/:多行注释"
   ]
  },
  {
   "cell_type": "code",
   "execution_count": 2,
   "metadata": {},
   "outputs": [
    {
     "name": "stdout",
     "output_type": "stream",
     "text": [
      "Here's your file sample.txt: \n",
      "汤强\n",
      "TQ\n",
      "Max\n",
      "\n"
     ]
    }
   ],
   "source": [
    "filename = 'sample.txt'\n",
    "txt = open(filename)\n",
    "print(f\"Here's your file {filename}: \")\n",
    "print(txt.read())\n",
    "txt.close()"
   ]
  },
  {
   "cell_type": "code",
   "execution_count": 3,
   "metadata": {},
   "outputs": [
    {
     "name": "stdout",
     "output_type": "stream",
     "text": [
      "Loading...\n",
      "Now you can input three lines.\n"
     ]
    },
    {
     "name": "stdin",
     "output_type": "stream",
     "text": [
      "line 1:  TQ\n",
      "line 2:  Max\n",
      "line 3:  Amber\n"
     ]
    },
    {
     "name": "stdout",
     "output_type": "stream",
     "text": [
      "Writing file...\n",
      "All right, closing...\n"
     ]
    }
   ],
   "source": [
    "target = open(filename, 'w')\n",
    "print('Loading...')\n",
    "\n",
    "print(\"Now you can input three lines.\")\n",
    "line1 = input(\"line 1: \")\n",
    "line2 = input(\"line 2: \")\n",
    "line3 = input(\"line 3: \")\n",
    "print(\"Writing file...\")\n",
    "\n",
    "target.write(line1)\n",
    "target.write(\"\\n\")\n",
    "target.write(line2)\n",
    "target.write(\"\\n\")\n",
    "target.write(line3)\n",
    "target.write(\"\\n\")\n",
    "\n",
    "print(\"All right, closing...\")\n",
    "target.close()"
   ]
  },
  {
   "cell_type": "code",
   "execution_count": 4,
   "metadata": {},
   "outputs": [
    {
     "name": "stdout",
     "output_type": "stream",
     "text": [
      "TQ\n",
      "Max\n",
      "Amber\n",
      "\n",
      "1 TQ\n",
      "\n",
      "2 Max\n",
      "\n",
      "3 Amber\n",
      "\n"
     ]
    }
   ],
   "source": [
    "input_file = 'sample.txt'\n",
    "\n",
    "def print_all(f):\n",
    "    print(f.read())\n",
    "\n",
    "def rewind(f):\n",
    "    f.seek(0)\n",
    "\n",
    "def print_a_line(count, f):\n",
    "    print(count, f.readline())\n",
    "\n",
    "current_file = open(input_file, encoding='UTF-8')\n",
    "print_all(current_file)\n",
    "rewind(current_file)\n",
    "line_count = [1, 2, 3]\n",
    "for line in line_count:\n",
    "    print_a_line(line, current_file)\n",
    "current_file.close()"
   ]
  },
  {
   "cell_type": "code",
   "execution_count": 5,
   "metadata": {},
   "outputs": [
    {
     "name": "stdout",
     "output_type": "stream",
     "text": [
      "ADD 20 + 2\n",
      "SUB 170 - 1\n",
      "MUL 55 * 1\n",
      "DIV 500 / 2\n",
      "Age: 22, height: 169, weight: 55, IQ: 250.0\n"
     ]
    }
   ],
   "source": [
    "def add(a, b):\n",
    "    print(f\"ADD {a} + {b}\")\n",
    "    return a + b\n",
    "\n",
    "def sub(a, b):\n",
    "    print(f\"SUB {a} - {b}\")\n",
    "    return a - b\n",
    "\n",
    "def mul(a, b):\n",
    "    print(f\"MUL {a} * {b}\")\n",
    "    return a * b\n",
    "\n",
    "def div(a, b):\n",
    "    print(f\"DIV {a} / {b}\")\n",
    "    return a / b\n",
    "\n",
    "age = add(20, 2)\n",
    "height = sub(170, 1)\n",
    "weight = mul(55, 1)\n",
    "IQ = div(500, 2)\n",
    "\n",
    "print(f\"Age: {age}, height: {height}, weight: {weight}, IQ: {IQ}\")"
   ]
  },
  {
   "cell_type": "code",
   "execution_count": 6,
   "metadata": {},
   "outputs": [
    {
     "name": "stdout",
     "output_type": "stream",
     "text": [
      "DIV 250.0 / 2\n",
      "MUL 55 * 125.0\n",
      "SUB 169 - 6875.0\n",
      "ADD 22 + -6706.0\n"
     ]
    }
   ],
   "source": [
    "what = add(age, sub(height, mul(weight, div(IQ, 2))))"
   ]
  },
  {
   "cell_type": "code",
   "execution_count": 7,
   "metadata": {},
   "outputs": [
    {
     "name": "stdout",
     "output_type": "stream",
     "text": [
      "Too many cats! The world is doomed?\n",
      "The world is dry?\n"
     ]
    }
   ],
   "source": [
    "people = 20\n",
    "cats = 40\n",
    "dogs = 10\n",
    "\n",
    "if people < cats:\n",
    "    print(\"Too many cats! The world is doomed?\")\n",
    "\n",
    "if people > cats:\n",
    "    print(\"Not many cats! The world is saved?\")\n",
    "\n",
    "if people < dogs:\n",
    "    print(\"The world is drooled on?\")\n",
    "\n",
    "if people > dogs:\n",
    "    print(\"The world is dry?\")"
   ]
  },
  {
   "cell_type": "code",
   "execution_count": 8,
   "metadata": {},
   "outputs": [
    {
     "data": {
      "text/plain": [
       "True"
      ]
     },
     "execution_count": 8,
     "metadata": {},
     "output_type": "execute_result"
    }
   ],
   "source": [
    "True and True"
   ]
  },
  {
   "cell_type": "code",
   "execution_count": 9,
   "metadata": {},
   "outputs": [
    {
     "data": {
      "text/plain": [
       "False"
      ]
     },
     "execution_count": 9,
     "metadata": {},
     "output_type": "execute_result"
    }
   ],
   "source": [
    "1==1 and 2==1"
   ]
  },
  {
   "cell_type": "code",
   "execution_count": 10,
   "metadata": {},
   "outputs": [
    {
     "data": {
      "text/plain": [
       "False"
      ]
     },
     "execution_count": 10,
     "metadata": {},
     "output_type": "execute_result"
    }
   ],
   "source": [
    "False and 0!=0"
   ]
  },
  {
   "cell_type": "code",
   "execution_count": 11,
   "metadata": {},
   "outputs": [
    {
     "data": {
      "text/plain": [
       "False"
      ]
     },
     "execution_count": 11,
     "metadata": {},
     "output_type": "execute_result"
    }
   ],
   "source": [
    "not(1!=10 or 3==4)"
   ]
  },
  {
   "cell_type": "code",
   "execution_count": 12,
   "metadata": {},
   "outputs": [
    {
     "data": {
      "text/plain": [
       "False"
      ]
     },
     "execution_count": 12,
     "metadata": {},
     "output_type": "execute_result"
    }
   ],
   "source": [
    "2016 ==2016 and (not (\"you\" == \"you\" or \"you\" == \"I\"))"
   ]
  },
  {
   "cell_type": "code",
   "execution_count": 2,
   "metadata": {},
   "outputs": [
    {
     "name": "stdout",
     "output_type": "stream",
     "text": [
      "We should take the cars.\n",
      "Maybe we could take the trucks!\n",
      "Alright, just take the trucks!\n"
     ]
    }
   ],
   "source": [
    "people = 20\n",
    "cars = 40\n",
    "trucks = 10\n",
    "\n",
    "if cars > people:\n",
    "    print(\"We should take the cars.\")\n",
    "elif cars < people:\n",
    "    print(\"We should not take the cars.\")\n",
    "else:\n",
    "    print(\"We can't decide...\")\n",
    "\n",
    "if trucks > cars:\n",
    "    print(\"Too many trucks!\")\n",
    "elif trucks < cars:\n",
    "    print(\"Maybe we could take the trucks!\")\n",
    "else:\n",
    "    print(\"We can't decide yet...\")\n",
    "\n",
    "if people > trucks:\n",
    "    print(\"Alright, just take the trucks!\")\n",
    "else:\n",
    "    print(\"Fine, let's stsy at home, doesn't it great?\")"
   ]
  },
  {
   "cell_type": "code",
   "execution_count": 6,
   "metadata": {},
   "outputs": [
    {
     "name": "stdout",
     "output_type": "stream",
     "text": [
      "You enter a dark room with two doors.\n",
      "Do you go through door #1 or #2!?\n"
     ]
    },
    {
     "name": "stdin",
     "output_type": "stream",
     "text": [
      "-> 2\n"
     ]
    },
    {
     "name": "stdout",
     "output_type": "stream",
     "text": [
      "You stare into the endless abyss at Cthulhu's retina.\n",
      "1. Blueberries.\n",
      "2. Yellow jacket colthespins.\n",
      "3. Understanding rebolbers yelling melodies.\n"
     ]
    },
    {
     "name": "stdin",
     "output_type": "stream",
     "text": [
      "-> 1\n"
     ]
    },
    {
     "name": "stdout",
     "output_type": "stream",
     "text": [
      "Your body survives powered by a mind of jello. Good job!\n"
     ]
    }
   ],
   "source": [
    "print(\"\"\"You enter a dark room with two doors.\n",
    "Do you go through door #1 or #2!?\"\"\")\n",
    "\n",
    "door = input(\"->\")\n",
    "\n",
    "if door == \"1\":\n",
    "    print(\"There's a giant bear here eating a cheese cake. What do you do?\")\n",
    "    print(\"1. Take the cake.\")\n",
    "    print(\"2. Scream at the bear.\")\n",
    "    \n",
    "    \n",
    "    bear = input(\"->\")\n",
    "    \n",
    "    if bear == \"1\":\n",
    "        print(\"The bear ears your face off. Good job!\")\n",
    "    elif bear == \"2\":\n",
    "        print(\"The bear eats your legs off. Good job!\")\n",
    "    else:\n",
    "        print(\"Well, doing {bear} is probably better. Bear runs away!\")\n",
    "\n",
    "elif door == \"2\":\n",
    "    print(\"You stare into the endless abyss at Cthulhu's retina.\")\n",
    "    print(\"1. Blueberries.\")\n",
    "    print(\"2. Yellow jacket colthespins.\")\n",
    "    print(\"3. Understanding rebolbers yelling melodies.\")\n",
    "    \n",
    "    insanity = input(\"->\")\n",
    "    \n",
    "    if insanity == \"1\" or insanity == \"2\":\n",
    "        print(\"Your body survives powered by a mind of jello. Good job!\")\n",
    "    else:\n",
    "        print(\"The insanity rots your eyes int a pool of muck. Good job!\")\n",
    "\n",
    "else:\n",
    "    print(\"You stumble around and fall on a knife and die. Good job!\")"
   ]
  },
  {
   "cell_type": "code",
   "execution_count": 7,
   "metadata": {},
   "outputs": [
    {
     "name": "stdout",
     "output_type": "stream",
     "text": [
      "1到 100 之和为：5050\n"
     ]
    }
   ],
   "source": [
    "n = 100\n",
    "sum = 0\n",
    "counter = 1\n",
    "while counter <= n:\n",
    "    sum = sum + counter\n",
    "    counter += 1\n",
    "print(\"1到 %d 之和为：%d\" % (n,sum))"
   ]
  },
  {
   "cell_type": "code",
   "execution_count": 15,
   "metadata": {},
   "outputs": [
    {
     "name": "stdout",
     "output_type": "stream",
     "text": [
      "This is count 1\n",
      "This is count 2\n",
      "This is count 3\n",
      "This is count 4\n",
      "This is count 5\n",
      "fruit: a\n",
      "fruit: b\n",
      "fruit: c\n",
      "fruit: d\n",
      "i: 1\n",
      "i: a\n",
      "i: 2\n",
      "i: b\n",
      "i: 3\n",
      "i: c\n",
      "Adding 0 to the list.\n",
      "Adding 1 to the list.\n",
      "Adding 2 to the list.\n",
      "Adding 3 to the list.\n",
      "Adding 4 to the list.\n",
      "Adding 5 to the list.\n",
      "Element was: 0\n",
      "Element was: 1\n",
      "Element was: 2\n",
      "Element was: 3\n",
      "Element was: 4\n",
      "Element was: 5\n"
     ]
    }
   ],
   "source": [
    "the_count = [1, 2, 3, 4, 5]\n",
    "fruits = ['a', 'b', 'c', 'd']\n",
    "change = [1, 'a', 2, 'b', 3, 'c']\n",
    "\n",
    "for number in the_count:\n",
    "    print(f\"This is count {number}\")\n",
    "\n",
    "for fruit in fruits:\n",
    "    print(f\"fruit: {fruit}\")\n",
    "\n",
    "for i in change:\n",
    "    print(f\"i: {i}\")\n",
    "\n",
    "elements = []\n",
    "\n",
    "for i in range(0,6):\n",
    "    print(f\"Adding {i} to the list.\")\n",
    "    elements.append(i)\n",
    "\n",
    "for i in elements:\n",
    "    print(f\"Element was: {i}\")"
   ]
  },
  {
   "cell_type": "code",
   "execution_count": 17,
   "metadata": {},
   "outputs": [
    {
     "ename": "TypeError",
     "evalue": "unsupported operand type(s) for +=: 'int' and 'str'",
     "output_type": "error",
     "traceback": [
      "\u001b[1;31m---------------------------------------------------------------------------\u001b[0m",
      "\u001b[1;31mTypeError\u001b[0m                                 Traceback (most recent call last)",
      "\u001b[1;32m<ipython-input-17-50272aedc5f7>\u001b[0m in \u001b[0;36m<module>\u001b[1;34m\u001b[0m\n\u001b[0;32m      3\u001b[0m \u001b[0msum\u001b[0m \u001b[1;33m=\u001b[0m \u001b[1;36m0\u001b[0m\u001b[1;33m\u001b[0m\u001b[1;33m\u001b[0m\u001b[0m\n\u001b[0;32m      4\u001b[0m \u001b[1;32mfor\u001b[0m \u001b[0mnumber\u001b[0m \u001b[1;32min\u001b[0m \u001b[0mnumbers\u001b[0m\u001b[1;33m:\u001b[0m\u001b[1;33m\u001b[0m\u001b[1;33m\u001b[0m\u001b[0m\n\u001b[1;32m----> 5\u001b[1;33m     \u001b[0msum\u001b[0m \u001b[1;33m+=\u001b[0m \u001b[0mnumber\u001b[0m\u001b[1;33m\u001b[0m\u001b[1;33m\u001b[0m\u001b[0m\n\u001b[0m\u001b[0;32m      6\u001b[0m \u001b[0mprint\u001b[0m\u001b[1;33m(\u001b[0m\u001b[0msum\u001b[0m\u001b[1;33m)\u001b[0m\u001b[1;33m\u001b[0m\u001b[1;33m\u001b[0m\u001b[0m\n\u001b[0;32m      7\u001b[0m \u001b[0mnumber_file\u001b[0m\u001b[1;33m.\u001b[0m\u001b[0mclose\u001b[0m\u001b[1;33m(\u001b[0m\u001b[1;33m)\u001b[0m\u001b[1;33m\u001b[0m\u001b[1;33m\u001b[0m\u001b[0m\n",
      "\u001b[1;31mTypeError\u001b[0m: unsupported operand type(s) for +=: 'int' and 'str'"
     ]
    }
   ],
   "source": [
    "number_file = open('TQ.txt', encoding='UTF-8')\n",
    "numbers = number_file.readlines()\n",
    "sum = 0\n",
    "for number in numbers:\n",
    "    sum += number\n",
    "print(sum)\n",
    "number_file.close()"
   ]
  },
  {
   "cell_type": "code",
   "execution_count": 22,
   "metadata": {},
   "outputs": [
    {
     "name": "stdout",
     "output_type": "stream",
     "text": [
      "21\n"
     ]
    }
   ],
   "source": [
    "try:\n",
    "    number_file = open('TQ.txt')\n",
    "    numbers = number_file.readlines()\n",
    "    sum = 0\n",
    "    for number in numbers:\n",
    "        sum += int(number)\n",
    "except TypeError as te:\n",
    "    print(te.args)\n",
    "except ValueError:\n",
    "    print(f'{number}不是数字！')\n",
    "except:\n",
    "    print('未知错误')\n",
    "else:\n",
    "    print(sum)\n",
    "finally:\n",
    "    number_file.close()"
   ]
  },
  {
   "cell_type": "code",
   "execution_count": 6,
   "metadata": {},
   "outputs": [
    {
     "name": "stdout",
     "output_type": "stream",
     "text": [
      "汤强\n",
      "TQ\n",
      "Max\n",
      "\n"
     ]
    }
   ],
   "source": [
    "words = ['汤强', 'TQ', 'Max']\n",
    "with open('sample.txt', 'w') as txt:\n",
    "    for word in words:\n",
    "        txt.write(word)\n",
    "        txt.write(\"\\n\")\n",
    "\n",
    "with open('sample.txt') as name:\n",
    "    print_all(name)\n",
    "#     count = [1, 2, 3]\n",
    "#     rewind(name)\n",
    "#     for i in count:\n",
    "#         print_a_line(i, name)"
   ]
  },
  {
   "cell_type": "code",
   "execution_count": 7,
   "metadata": {},
   "outputs": [
    {
     "ename": "NameError",
     "evalue": "name 'msg' is not defined",
     "output_type": "error",
     "traceback": [
      "\u001b[1;31m---------------------------------------------------------------------------\u001b[0m",
      "\u001b[1;31mNameError\u001b[0m                                 Traceback (most recent call last)",
      "\u001b[1;32m<ipython-input-7-a210ed788dd7>\u001b[0m in \u001b[0;36m<module>\u001b[1;34m\u001b[0m\n\u001b[0;32m      1\u001b[0m \u001b[1;32mdef\u001b[0m \u001b[0mtest\u001b[0m\u001b[1;33m(\u001b[0m\u001b[1;33m)\u001b[0m\u001b[1;33m:\u001b[0m\u001b[1;33m\u001b[0m\u001b[1;33m\u001b[0m\u001b[0m\n\u001b[0;32m      2\u001b[0m     \u001b[0mmsg\u001b[0m \u001b[1;33m=\u001b[0m \u001b[1;34m'I am a local variable.'\u001b[0m\u001b[1;33m\u001b[0m\u001b[1;33m\u001b[0m\u001b[0m\n\u001b[1;32m----> 3\u001b[1;33m \u001b[0mmsg\u001b[0m\u001b[1;33m\u001b[0m\u001b[1;33m\u001b[0m\u001b[0m\n\u001b[0m",
      "\u001b[1;31mNameError\u001b[0m: name 'msg' is not defined"
     ]
    }
   ],
   "source": [
    "def test():\n",
    "    msg = 'I am a local variable.'\n",
    "msg"
   ]
  },
  {
   "cell_type": "code",
   "execution_count": 9,
   "metadata": {},
   "outputs": [
    {
     "data": {
      "text/plain": [
       "'I am a global variable.'"
      ]
     },
     "execution_count": 9,
     "metadata": {},
     "output_type": "execute_result"
    }
   ],
   "source": [
    "if True:\n",
    "    msg_1 = 'I am a global variable.'\n",
    "msg_1"
   ]
  },
  {
   "cell_type": "code",
   "execution_count": 12,
   "metadata": {},
   "outputs": [
    {
     "ename": "UnboundLocalError",
     "evalue": "local variable 'a' referenced before assignment",
     "output_type": "error",
     "traceback": [
      "\u001b[1;31m---------------------------------------------------------------------------\u001b[0m",
      "\u001b[1;31mUnboundLocalError\u001b[0m                         Traceback (most recent call last)",
      "\u001b[1;32m<ipython-input-12-e042c846cb16>\u001b[0m in \u001b[0;36m<module>\u001b[1;34m\u001b[0m\n\u001b[0;32m      3\u001b[0m     \u001b[0ma\u001b[0m \u001b[1;33m+=\u001b[0m \u001b[1;36m1\u001b[0m\u001b[1;33m\u001b[0m\u001b[1;33m\u001b[0m\u001b[0m\n\u001b[0;32m      4\u001b[0m     \u001b[0mprint\u001b[0m\u001b[1;33m(\u001b[0m\u001b[0ma\u001b[0m\u001b[1;33m)\u001b[0m\u001b[1;33m\u001b[0m\u001b[1;33m\u001b[0m\u001b[0m\n\u001b[1;32m----> 5\u001b[1;33m \u001b[0mtest\u001b[0m\u001b[1;33m(\u001b[0m\u001b[1;33m)\u001b[0m\u001b[1;33m\u001b[0m\u001b[1;33m\u001b[0m\u001b[0m\n\u001b[0m",
      "\u001b[1;32m<ipython-input-12-e042c846cb16>\u001b[0m in \u001b[0;36mtest\u001b[1;34m()\u001b[0m\n\u001b[0;32m      1\u001b[0m \u001b[0ma\u001b[0m \u001b[1;33m=\u001b[0m \u001b[1;36m1\u001b[0m\u001b[1;33m\u001b[0m\u001b[1;33m\u001b[0m\u001b[0m\n\u001b[0;32m      2\u001b[0m \u001b[1;32mdef\u001b[0m \u001b[0mtest\u001b[0m\u001b[1;33m(\u001b[0m\u001b[1;33m)\u001b[0m\u001b[1;33m:\u001b[0m\u001b[1;33m\u001b[0m\u001b[1;33m\u001b[0m\u001b[0m\n\u001b[1;32m----> 3\u001b[1;33m     \u001b[0ma\u001b[0m \u001b[1;33m+=\u001b[0m \u001b[1;36m1\u001b[0m\u001b[1;33m\u001b[0m\u001b[1;33m\u001b[0m\u001b[0m\n\u001b[0m\u001b[0;32m      4\u001b[0m     \u001b[0mprint\u001b[0m\u001b[1;33m(\u001b[0m\u001b[0ma\u001b[0m\u001b[1;33m)\u001b[0m\u001b[1;33m\u001b[0m\u001b[1;33m\u001b[0m\u001b[0m\n\u001b[0;32m      5\u001b[0m \u001b[0mtest\u001b[0m\u001b[1;33m(\u001b[0m\u001b[1;33m)\u001b[0m\u001b[1;33m\u001b[0m\u001b[1;33m\u001b[0m\u001b[0m\n",
      "\u001b[1;31mUnboundLocalError\u001b[0m: local variable 'a' referenced before assignment"
     ]
    }
   ],
   "source": [
    "a = 1\n",
    "def test():\n",
    "    a += 1\n",
    "    print(a)\n",
    "test()"
   ]
  },
  {
   "cell_type": "code",
   "execution_count": 16,
   "metadata": {},
   "outputs": [
    {
     "name": "stdout",
     "output_type": "stream",
     "text": [
      "11\n",
      "1\n"
     ]
    }
   ],
   "source": [
    "a = 1\n",
    "def test():\n",
    "    a = 10\n",
    "    a += 1\n",
    "    print(a)\n",
    "test()\n",
    "print(a)"
   ]
  },
  {
   "cell_type": "code",
   "execution_count": null,
   "metadata": {},
   "outputs": [],
   "source": []
  }
 ],
 "metadata": {
  "kernelspec": {
   "display_name": "Python 3",
   "language": "python",
   "name": "python3"
  },
  "language_info": {
   "codemirror_mode": {
    "name": "ipython",
    "version": 3
   },
   "file_extension": ".py",
   "mimetype": "text/x-python",
   "name": "python",
   "nbconvert_exporter": "python",
   "pygments_lexer": "ipython3",
   "version": "3.8.3"
  }
 },
 "nbformat": 4,
 "nbformat_minor": 4
}
