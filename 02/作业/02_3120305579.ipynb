{
 "cells": [
  {
   "cell_type": "code",
   "execution_count": 1,
   "metadata": {},
   "outputs": [],
   "source": [
    "def print_fruits(*args):\n",
    "    f1,f2,f3=args\n",
    "    print(f\"f1:{f1},f2:{f2},f3{f3}\")\n",
    "    "
   ]
  },
  {
   "cell_type": "code",
   "execution_count": 2,
   "metadata": {},
   "outputs": [
    {
     "name": "stdout",
     "output_type": "stream",
     "text": [
      "f1:apple,f2:orange,f3pear\n"
     ]
    }
   ],
   "source": [
    "print_fruits(\"apple\",\"orange\",\"pear\")"
   ]
  },
  {
   "cell_type": "code",
   "execution_count": 3,
   "metadata": {},
   "outputs": [],
   "source": [
    "def print_test(arg1):\n",
    "    print(f\"arg1:{arg1}\")"
   ]
  },
  {
   "cell_type": "code",
   "execution_count": 4,
   "metadata": {},
   "outputs": [],
   "source": [
    "def print_test2(arg1,arg2):\n",
    "    print(f\"arg1:{arg1},arg2:{arg2}\")"
   ]
  },
  {
   "cell_type": "code",
   "execution_count": 5,
   "metadata": {},
   "outputs": [
    {
     "name": "stdout",
     "output_type": "stream",
     "text": [
      "arg1:hello\n"
     ]
    }
   ],
   "source": [
    "print_test(\"hello\")"
   ]
  },
  {
   "cell_type": "code",
   "execution_count": 6,
   "metadata": {},
   "outputs": [
    {
     "name": "stdout",
     "output_type": "stream",
     "text": [
      "arg1:hello,arg2:world\n"
     ]
    }
   ],
   "source": [
    "print_test2(\"hello\",\"world\")"
   ]
  },
  {
   "cell_type": "code",
   "execution_count": 7,
   "metadata": {},
   "outputs": [],
   "source": [
    "def print_none():\n",
    "    print(\"hello world\")"
   ]
  },
  {
   "cell_type": "code",
   "execution_count": 8,
   "metadata": {},
   "outputs": [
    {
     "name": "stdout",
     "output_type": "stream",
     "text": [
      "hello world\n"
     ]
    }
   ],
   "source": [
    "print_none()"
   ]
  },
  {
   "cell_type": "code",
   "execution_count": 9,
   "metadata": {},
   "outputs": [],
   "source": [
    "def calculate(arg1,arg2,arg3):\n",
    "    x1,x2,x3=arg1,arg2,arg3\n",
    "    y=0\n",
    "    y=x1+x2*x3\n",
    "    print(y)"
   ]
  },
  {
   "cell_type": "code",
   "execution_count": 10,
   "metadata": {},
   "outputs": [
    {
     "name": "stdout",
     "output_type": "stream",
     "text": [
      "7\n"
     ]
    }
   ],
   "source": [
    "calculate(1,2,3)"
   ]
  },
  {
   "cell_type": "code",
   "execution_count": 11,
   "metadata": {},
   "outputs": [],
   "source": [
    "def calculate_test(arg1,arg2,arg3):\n",
    "    print(f\"传入的第一个数是：{arg1}\")\n",
    "    print(f\"传入的第二个数是：{arg2}\")\n",
    "    print(f\"传入的第三个数是：{arg3}\")\n",
    "    n1,n2,n3=arg1+1,arg2+3,arg3+5\n",
    "    print(f\"第一个操作数是：{n1}. \\n第二个操作数是：{n2}.\\n第三个操作数是：{n3}.\")\n",
    "    y=n1%n2+n3\n",
    "    print(y)"
   ]
  },
  {
   "cell_type": "code",
   "execution_count": 12,
   "metadata": {},
   "outputs": [
    {
     "name": "stdout",
     "output_type": "stream",
     "text": [
      "传入的第一个数是：2\n",
      "传入的第二个数是：3\n",
      "传入的第三个数是：4\n",
      "第一个操作数是：3. \n",
      "第二个操作数是：6.\n",
      "第三个操作数是：9.\n",
      "12\n"
     ]
    }
   ],
   "source": [
    "calculate_test(2,3,4)"
   ]
  },
  {
   "cell_type": "code",
   "execution_count": 13,
   "metadata": {},
   "outputs": [
    {
     "name": "stdout",
     "output_type": "stream",
     "text": [
      "传入的第一个数是：3\n",
      "传入的第二个数是：6\n",
      "传入的第三个数是：9\n",
      "第一个操作数是：4. \n",
      "第二个操作数是：9.\n",
      "第三个操作数是：14.\n",
      "18\n"
     ]
    }
   ],
   "source": [
    "calculate_test(2+1,3+3,4+5)"
   ]
  },
  {
   "cell_type": "code",
   "execution_count": 14,
   "metadata": {},
   "outputs": [
    {
     "name": "stdout",
     "output_type": "stream",
     "text": [
      "open the file :test.txt\n",
      "hello world\n"
     ]
    }
   ],
   "source": [
    "filename=\"test.txt\"\n",
    "txt=open(filename)\n",
    "print(f'open the file :{filename}')\n",
    "print(txt.read())\n",
    "txt.close()"
   ]
  },
  {
   "cell_type": "code",
   "execution_count": 15,
   "metadata": {},
   "outputs": [
    {
     "name": "stdout",
     "output_type": "stream",
     "text": [
      "hello\n",
      "请输入三行\n",
      "line1:do a test\n",
      "line2:hello\n",
      "line3:bye\n"
     ]
    }
   ],
   "source": [
    "file_test=open(filename,'w')\n",
    "print(\"hello\")\n",
    "print(\"请输入三行\")\n",
    "line1=input(\"line1:\")\n",
    "line2=input(\"line2:\")\n",
    "line3=input(\"line3:\")"
   ]
  },
  {
   "cell_type": "code",
   "execution_count": 16,
   "metadata": {},
   "outputs": [
    {
     "name": "stdout",
     "output_type": "stream",
     "text": [
      "现在把输入的三行输入到文档中\n",
      "关闭文件\n"
     ]
    }
   ],
   "source": [
    "print(\"现在把输入的三行输入到文档中\")\n",
    "file_test.write(line1)\n",
    "file_test.write(\"\\n\")\n",
    "file_test.write(line2 )\n",
    "file_test.write(\"\\n\")\n",
    "file_test.write(line3 )\n",
    "file_test.write(\"\\n\")\n",
    "\n",
    "print(\"关闭文件\")\n",
    "file_test.close()"
   ]
  },
  {
   "cell_type": "code",
   "execution_count": 27,
   "metadata": {},
   "outputs": [
    {
     "name": "stdout",
     "output_type": "stream",
     "text": [
      "输出整个文档里的内容\n",
      "do a test \n",
      "aaaaaaaaaa\n",
      "bbbbbbbbbb\n",
      "cccccccccc\n",
      "dddddddddd\n",
      "eeeeeeeeee\n",
      "ffffffffff\n",
      "rewind\n",
      "现在输出两行\n",
      "1 do a test \n",
      "\n",
      "2 aaaaaaaaaa\n",
      "\n"
     ]
    }
   ],
   "source": [
    "one_file='one.txt'\n",
    "\n",
    "def print_all(f):\n",
    "    print(f.read())\n",
    "\n",
    "def rewind(f):\n",
    "    f.seek(0)\n",
    "    \n",
    "def print_a_line(line_c,f):\n",
    "    print(line_c,f.readline())\n",
    "\n",
    "one_txt=open(one_file)\n",
    "\n",
    "print(\"输出整个文档里的内容\")\n",
    "print_all(one_txt)\n",
    "\n",
    "print(\"rewind\")\n",
    "rewind(one_txt)\n",
    "\n",
    "print(\"现在输出两行\")\n",
    "line_c=1\n",
    "print_a_line(line_c,one_txt)\n",
    "line_c+=1\n",
    "print_a_line(line_c,one_txt)\n",
    "\n",
    "one_txt.close()"
   ]
  },
  {
   "cell_type": "code",
   "execution_count": 29,
   "metadata": {},
   "outputs": [
    {
     "name": "stdout",
     "output_type": "stream",
     "text": [
      "3+4=7\n",
      "4-5=-1\n",
      "5*6=30\n",
      "6/7=0.8571428571428571\n",
      "y1=7,y2=-1,y3=30,y4=0.8571428571428571\n",
      "综合计算一下\n",
      "0.8571428571428571/5=0.17142857142857143\n",
      "30*0.17142857142857143=5.142857142857143\n",
      "-1-5.142857142857143=-6.142857142857143\n",
      "7+-6.142857142857143=0.8571428571428568\n",
      "y=0.8571428571428568\n"
     ]
    }
   ],
   "source": [
    "def add(a,b):\n",
    "    print(f\"{a}+{b}={a+b}\")\n",
    "    return a+b\n",
    "\n",
    "def subtract(a,b):\n",
    "    print(f\"{a}-{b}={a-b}\")\n",
    "    return a-b\n",
    "\n",
    "def multiply(a,b):\n",
    "    print(f\"{a}*{b}={a*b}\")\n",
    "    return a*b\n",
    "          \n",
    "def divide(a,b):\n",
    "    print(f\"{a}/{b}={a/b}\")\n",
    "    return a/b\n",
    "\n",
    "y1=add(3,4)\n",
    "y2=subtract(4,5)\n",
    "y3=multiply(5,6)\n",
    "y4=divide(6,7)\n",
    "          \n",
    "print(f\"y1={y1},y2={y2},y3={y3},y4={y4}\")\n",
    "\n",
    "print(\"综合计算一下\")\n",
    "y=add(y1,subtract(y2,multiply(y3,divide(y4,5))))\n",
    "print(f\"y={y}\")"
   ]
  },
  {
   "cell_type": "code",
   "execution_count": 30,
   "metadata": {},
   "outputs": [
    {
     "name": "stdout",
     "output_type": "stream",
     "text": [
      "小鱼快跑\n"
     ]
    }
   ],
   "source": [
    "big_fish =10\n",
    "small_fish=5\n",
    "\n",
    "if big_fish>=small_fish:\n",
    "    print(\"小鱼快跑\")\n",
    "    \n",
    "if big_fish<small_fish:\n",
    "    print(\"小鱼暂时安全\")"
   ]
  },
  {
   "cell_type": "code",
   "execution_count": 31,
   "metadata": {},
   "outputs": [
    {
     "data": {
      "text/plain": [
       "True"
      ]
     },
     "execution_count": 31,
     "metadata": {},
     "output_type": "execute_result"
    }
   ],
   "source": [
    "3==3"
   ]
  },
  {
   "cell_type": "code",
   "execution_count": 32,
   "metadata": {},
   "outputs": [
    {
     "data": {
      "text/plain": [
       "False"
      ]
     },
     "execution_count": 32,
     "metadata": {},
     "output_type": "execute_result"
    }
   ],
   "source": [
    "1==3"
   ]
  },
  {
   "cell_type": "code",
   "execution_count": 34,
   "metadata": {},
   "outputs": [
    {
     "data": {
      "text/plain": [
       "True"
      ]
     },
     "execution_count": 34,
     "metadata": {},
     "output_type": "execute_result"
    }
   ],
   "source": [
    "\"hello\"==\"hello\"\n"
   ]
  },
  {
   "cell_type": "code",
   "execution_count": 35,
   "metadata": {},
   "outputs": [
    {
     "data": {
      "text/plain": [
       "False"
      ]
     },
     "execution_count": 35,
     "metadata": {},
     "output_type": "execute_result"
    }
   ],
   "source": [
    "\"hello\"==\"world\""
   ]
  },
  {
   "cell_type": "code",
   "execution_count": 38,
   "metadata": {},
   "outputs": [
    {
     "data": {
      "text/plain": [
       "False"
      ]
     },
     "execution_count": 38,
     "metadata": {},
     "output_type": "execute_result"
    }
   ],
   "source": [
    "3>=4"
   ]
  },
  {
   "cell_type": "code",
   "execution_count": 39,
   "metadata": {},
   "outputs": [
    {
     "data": {
      "text/plain": [
       "True"
      ]
     },
     "execution_count": 39,
     "metadata": {},
     "output_type": "execute_result"
    }
   ],
   "source": [
    "1!=0"
   ]
  },
  {
   "cell_type": "code",
   "execution_count": 41,
   "metadata": {},
   "outputs": [
    {
     "data": {
      "text/plain": [
       "True"
      ]
     },
     "execution_count": 41,
     "metadata": {},
     "output_type": "execute_result"
    }
   ],
   "source": [
    "True and True"
   ]
  },
  {
   "cell_type": "code",
   "execution_count": 42,
   "metadata": {},
   "outputs": [
    {
     "data": {
      "text/plain": [
       "True"
      ]
     },
     "execution_count": 42,
     "metadata": {},
     "output_type": "execute_result"
    }
   ],
   "source": [
    "True or False"
   ]
  },
  {
   "cell_type": "code",
   "execution_count": 43,
   "metadata": {},
   "outputs": [
    {
     "data": {
      "text/plain": [
       "False"
      ]
     },
     "execution_count": 43,
     "metadata": {},
     "output_type": "execute_result"
    }
   ],
   "source": [
    "1==1 and 2==3"
   ]
  },
  {
   "cell_type": "code",
   "execution_count": 44,
   "metadata": {},
   "outputs": [
    {
     "data": {
      "text/plain": [
       "True"
      ]
     },
     "execution_count": 44,
     "metadata": {},
     "output_type": "execute_result"
    }
   ],
   "source": [
    "1==1 or 2!=3"
   ]
  },
  {
   "cell_type": "code",
   "execution_count": 45,
   "metadata": {},
   "outputs": [
    {
     "data": {
      "text/plain": [
       "True"
      ]
     },
     "execution_count": 45,
     "metadata": {},
     "output_type": "execute_result"
    }
   ],
   "source": [
    "3==3 and \"hello\"==\"hello\""
   ]
  },
  {
   "cell_type": "code",
   "execution_count": 47,
   "metadata": {},
   "outputs": [
    {
     "name": "stdout",
     "output_type": "stream",
     "text": [
      "蛋糕够吃了！\n"
     ]
    }
   ],
   "source": [
    "cake=10 \n",
    "people=8\n",
    "\n",
    "if cake>people:\n",
    "    print(\"蛋糕够吃了！\")\n",
    "elif cake<people:\n",
    "    print(\"我们需要再买些蛋糕\")\n",
    "else :\n",
    "    print(\"蛋糕数量刚刚好\")"
   ]
  },
  {
   "cell_type": "code",
   "execution_count": 48,
   "metadata": {},
   "outputs": [
    {
     "name": "stdout",
     "output_type": "stream",
     "text": [
      "你上山砍柴，但是斧子掉河里了，这时河神拿出了三把斧子\n",
      "1:金斧子\n",
      "2:银斧子\n",
      "3:你的破斧子\n",
      "你要选责哪一个\n",
      "选择1：1\n",
      "河神给了你金斧子，你准备\n",
      "1:用它砍柴\n",
      "2:卖了它买房子\n",
      "金斧子用途：1\n",
      "你依然是个樵夫\n"
     ]
    }
   ],
   "source": [
    "print(\"你上山砍柴，但是斧子掉河里了，这时河神拿出了三把斧子\")\n",
    "print(\"1:金斧子\\n2:银斧子\\n3:你的破斧子\")\n",
    "print(\"你要选责哪一个\")\n",
    "\n",
    "choose=input(\"选择1：\")\n",
    "\n",
    "if choose==\"1\":\n",
    "    print(\"河神给了你金斧子，你准备\\n1:用它砍柴\\n2:卖了它买房子\")\n",
    "    \n",
    "    choose1=input(\"金斧子用途：\")\n",
    "    if choose1==\"1\":\n",
    "        print(\"你依然是个樵夫\")\n",
    "    elif choose1==\"2\":\n",
    "        print(\"恭喜你拥有了一套大房子\")\n",
    "    else :\n",
    "        print(\"想的倒挺多\")\n",
    "elif choose==\"2\":\n",
    "    print(\"河神给了你银斧子，你准备\\n1:用它砍柴\\n2:卖了它买车\")\n",
    "    choose2==intput(\"银斧子用途:\")\n",
    "    if choose2==\"1\":\n",
    "        print(\"你依然是个樵夫\")\n",
    "    elif choose2==\"2\":\n",
    "        print(\"恭喜你拥有了一辆跑车\")\n",
    "    else:\n",
    "        print(\"想的确实挺多\")\n",
    "elif choose==\"3\":\n",
    "    print(\"河神给了你的破斧子，你只能用来砍柴\")\n",
    "else:\n",
    "    print(\"你拒绝了斧子，现在你啥也没了\")\n"
   ]
  },
  {
   "cell_type": "code",
   "execution_count": 1,
   "metadata": {},
   "outputs": [
    {
     "name": "stdout",
     "output_type": "stream",
     "text": [
      "这是个成绩输入小程序\n",
      "请输入姓名：ll\n",
      "请输入成绩：88\n",
      "ll的成绩已保存。\n",
      "是否继续输入（yes or no）？yes\n",
      "请输入姓名：wang\n",
      "请输入成绩：66\n",
      "wang的成绩已保存。\n",
      "是否继续输入（yes or no）？ww\n",
      "2 指令无效，是否继续输入（yes or no）？yes\n",
      "请输入姓名：xx\n",
      "请输入成绩：55\n",
      "xx的成绩已保存。\n",
      "是否继续输入（yes or no）？no\n",
      "结束\n"
     ]
    }
   ],
   "source": [
    "print(\"这是个成绩输入小程序\")\n",
    "#成绩写入函数\n",
    "def save_grade (n,g):\n",
    "    gs=open('two.txt','a')\n",
    "    gs.write(f\"name:{n},grade:{g}\\n\")\n",
    "    gs.close()\n",
    "while True:\n",
    "    name = input(\"请输入姓名：\")\n",
    "    grade = input('请输入成绩：')\n",
    "    save_grade(name, grade)\n",
    "    print(f'{name}的成绩已保存。')\n",
    "    go_on = input('是否继续输入（yes or no）？')\n",
    "    n = 0\n",
    "    while n < 2:\n",
    "        if go_on == 'yes':\n",
    "            break\n",
    "            n = 0\n",
    "        elif go_on == 'no':\n",
    "            break\n",
    "        else:\n",
    "            n+=1\n",
    "            go_on = input(f'{n + 1} 指令无效，是否继续输入（yes or no）？')\n",
    "    if go_on == 'no' or n == 2:\n",
    "        print('结束')\n",
    "        break"
   ]
  },
  {
   "cell_type": "code",
   "execution_count": 48,
   "metadata": {},
   "outputs": [
    {
     "name": "stdout",
     "output_type": "stream",
     "text": [
      "幸运数字开奖游戏，0-9数字里有一个幸运数字，从10个数中选择3个，等待开奖\n",
      "输入你想要的数字1\n",
      "输入你想要的数字5\n",
      "输入你想要的数字7\n",
      "开奖了\n",
      "恭喜你中奖了\n"
     ]
    }
   ],
   "source": [
    "print(\"幸运数字开奖游戏，0-9数字里有一个幸运数字，从10个数中选择3个，等待开奖\")\n",
    "counts=[0,1,2,3,4,5,6,7,8,9]\n",
    "\n",
    "\n",
    "elements=[]\n",
    "n=0\n",
    "while n<3:\n",
    "    choose=input(\"输入你想要的数字\")\n",
    "    elements.append(choose)\n",
    "    n+=1\n",
    "\n",
    "print(\"开奖了\")\n",
    "f=False\n",
    "len=0\n",
    "for x in elements:\n",
    "    if elements[len]=='5':\n",
    "        f=True\n",
    "        \n",
    "    len+=1\n",
    "    \n",
    "\n",
    "\n",
    "if f==True:\n",
    "    print(\"恭喜你中奖了\")\n",
    "else:\n",
    "    print(\"很抱歉，未中奖\")\n",
    "        \n"
   ]
  },
  {
   "cell_type": "code",
   "execution_count": 51,
   "metadata": {},
   "outputs": [
    {
     "name": "stdout",
     "output_type": "stream",
     "text": [
      "do a test \n",
      "aaaaaaaaaa\n",
      "bbbbbbbbbb\n",
      "cccccccccc\n",
      "dddddddddd\n",
      "eeeeeeeeee\n",
      "ffffffffff\n"
     ]
    }
   ],
   "source": [
    "with open ('one.txt','r') as txt:\n",
    "    print(txt.read())"
   ]
  },
  {
   "cell_type": "code",
   "execution_count": null,
   "metadata": {},
   "outputs": [],
   "source": []
  }
 ],
 "metadata": {
  "kernelspec": {
   "display_name": "Python 3",
   "language": "python",
   "name": "python3"
  },
  "language_info": {
   "codemirror_mode": {
    "name": "ipython",
    "version": 3
   },
   "file_extension": ".py",
   "mimetype": "text/x-python",
   "name": "python",
   "nbconvert_exporter": "python",
   "pygments_lexer": "ipython3",
   "version": "3.8.3"
  }
 },
 "nbformat": 4,
 "nbformat_minor": 4
}
