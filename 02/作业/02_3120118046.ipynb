{
 "cells": [
  {
   "cell_type": "code",
   "execution_count": 2,
   "metadata": {},
   "outputs": [
    {
     "data": {
      "text/plain": [
       "'D:\\\\anaconda3\\\\python.exe'"
      ]
     },
     "execution_count": 2,
     "metadata": {},
     "output_type": "execute_result"
    }
   ],
   "source": [
    "import sys\n",
    "sys.executable"
   ]
  },
  {
   "cell_type": "code",
   "execution_count": 4,
   "metadata": {},
   "outputs": [
    {
     "name": "stdout",
     "output_type": "stream",
     "text": [
      "arg1:Bass, arg2:Baritone, arg3:Tenor\n",
      "arg1:Bass, arg2:Baritone, arg3:Tenor\n"
     ]
    }
   ],
   "source": [
    "def print_1(*args):\n",
    "    arg1, arg2, arg3=args\n",
    "    print(f\"arg1:{arg1}, arg2:{arg2}, arg3:{arg3}\")\n",
    "def print_1a(arg1, arg2, arg3):\n",
    "    print(f\"arg1:{arg1}, arg2:{arg2}, arg3:{arg3}\")\n",
    "print_1(\"Bass\", \"Baritone\", \"Tenor\")\n",
    "print_1a(\"Bass\", \"Baritone\", \"Tenor\")"
   ]
  },
  {
   "cell_type": "code",
   "execution_count": 5,
   "metadata": {},
   "outputs": [
    {
     "name": "stdout",
     "output_type": "stream",
     "text": [
      "She is Ariana. That is Alexander.\n"
     ]
    }
   ],
   "source": [
    "def name(*names):\n",
    "    name1, name2=names\n",
    "    print(f\"She is {name1}. That is {name2}.\")\n",
    "name(\"Ariana\", \"Alexander\")"
   ]
  },
  {
   "cell_type": "code",
   "execution_count": 6,
   "metadata": {},
   "outputs": [
    {
     "name": "stdout",
     "output_type": "stream",
     "text": [
      "Null.\n"
     ]
    }
   ],
   "source": [
    "def none():\n",
    "    print(\"Null.\")\n",
    "none()"
   ]
  },
  {
   "cell_type": "code",
   "execution_count": 12,
   "metadata": {},
   "outputs": [
    {
     "name": "stdout",
     "output_type": "stream",
     "text": [
      "a - - b\n"
     ]
    }
   ],
   "source": [
    "def mark(mark):\n",
    "    print(f\"a {mark} {mark} b\")\n",
    "mark(\"-\")"
   ]
  },
  {
   "cell_type": "code",
   "execution_count": 14,
   "metadata": {},
   "outputs": [
    {
     "name": "stdout",
     "output_type": "stream",
     "text": [
      "\n",
      "    I've prepared 4 scones and 8 cups of tea.\n",
      "    Oh, lovely! Let's invite Lizzy and Jane to join us.\n",
      "    \n"
     ]
    }
   ],
   "source": [
    "def afternoon_tea(scone, earl_grey):\n",
    "    print(f\"\"\"\n",
    "    I've prepared {scone} scones and {earl_grey} cups of tea.\n",
    "    Oh, lovely! Let's invite Lizzy and Jane to join us.\n",
    "    \"\"\")\n",
    "afternoon_tea(4, 8)"
   ]
  },
  {
   "cell_type": "code",
   "execution_count": 29,
   "metadata": {},
   "outputs": [],
   "source": [
    "def snack_amount(scone_amount, tea_amount):\n",
    "    print(f\"\"\"\n",
    "    We can use variables from our script:\n",
    "    scone:{scone_amount}\n",
    "    tea:{tea_amount}\n",
    "    \"\"\")\n",
    "scone_amount=4\n",
    "tea_amount=8"
   ]
  },
  {
   "cell_type": "code",
   "execution_count": 31,
   "metadata": {},
   "outputs": [
    {
     "name": "stdout",
     "output_type": "stream",
     "text": [
      "\n",
      "    We can use variables from our script:\n",
      "    scone:6\n",
      "    tea:14\n",
      "    \n",
      "scone:6, tea:12\n"
     ]
    }
   ],
   "source": [
    "#We can combine the variables and math:#\n",
    "snack_amount(scone_amount+2, tea_amount+6)\n",
    "print(f\"scone:{scone_amount+2}, tea:{tea_amount+4}\")   "
   ]
  },
  {
   "cell_type": "code",
   "execution_count": 13,
   "metadata": {},
   "outputs": [
    {
     "name": "stdout",
     "output_type": "stream",
     "text": [
      "Here's your file: list.txt.\n",
      "Lars? Here!\n",
      "Carlo? Here!\n"
     ]
    }
   ],
   "source": [
    "filename=\"list.txt\"\n",
    "txt=open(filename)\n",
    "print(f\"Here's your file: {filename}.\")\n",
    "print(txt.read())\n",
    "txt.close()"
   ]
  },
  {
   "cell_type": "code",
   "execution_count": 8,
   "metadata": {},
   "outputs": [
    {
     "name": "stdout",
     "output_type": "stream",
     "text": [
      "Truncating the file. Goodbye!\n",
      "Please input three lines:\n"
     ]
    },
    {
     "name": "stdin",
     "output_type": "stream",
     "text": [
      "line1:  Ed Sheerna\n",
      "line2:  Charlie Puth\n",
      "line3:  Troye Sivan\n"
     ]
    },
    {
     "name": "stdout",
     "output_type": "stream",
     "text": [
      "I'm going to write these to the file.\n",
      "Finally, we close it.\n"
     ]
    }
   ],
   "source": [
    "filename='list of favourite male singers'\n",
    "target = open(filename, 'w')\n",
    "print(\"Truncating the file. Goodbye!\")\n",
    "\n",
    "print(\"Please input three lines:\")\n",
    "line1=input(\"line1: \")\n",
    "line2=input(\"line2: \")\n",
    "line3=input(\"line3: \")\n",
    "\n",
    "print(\"I'm going to write these to the file.\")\n",
    "target.write(line1)\n",
    "target.write(\"\\n\")\n",
    "target.write(line2)\n",
    "target.write(\"\\n\")\n",
    "target.write(line3)\n",
    "\n",
    "print(\"Finally, we close it.\")\n",
    "target.close()"
   ]
  },
  {
   "cell_type": "code",
   "execution_count": 14,
   "metadata": {},
   "outputs": [
    {
     "name": "stdout",
     "output_type": "stream",
     "text": [
      "First let's print the whole file:\n",
      "\n",
      "Lars? Here!\n",
      "Carlo? Here!\n",
      "Gyon? Here!\n",
      "Now let's rewind.\n",
      "Let's print three lines:\n",
      "1 Lars? Here!\n",
      "\n",
      "2 Carlo? Here!\n",
      "\n",
      "3 Gyon? Here!\n"
     ]
    }
   ],
   "source": [
    "input_file = 'list.txt'\n",
    "\n",
    "def print_all(f):\n",
    "    print(f.read())\n",
    "    \n",
    "def rewind(f):\n",
    "    f.seek(0)\n",
    "    \n",
    "def print_a_line(line_count,f):\n",
    "    print(line_count, f.readline())\n",
    "    \n",
    "current_file=open(input_file)\n",
    "print(\"First let's print the whole file:\\n\")\n",
    "print_all(current_file)\n",
    "print(\"Now let's rewind.\")\n",
    "rewind(current_file)\n",
    "print(\"Let's print three lines:\")\n",
    "current_line=1\n",
    "print_a_line(current_line, current_file)\n",
    "\n",
    "current_line += 1\n",
    "print_a_line(current_line, current_file)\n",
    "\n",
    "current_line = current_line+1\n",
    "print_a_line(current_line, current_file)\n",
    "\n",
    "current_file.close()"
   ]
  },
  {
   "cell_type": "code",
   "execution_count": 21,
   "metadata": {},
   "outputs": [
    {
     "name": "stdout",
     "output_type": "stream",
     "text": [
      "Please calculate the following questions:\n",
      "\n",
      "Add 8+20\n",
      "Substract 20-4\n",
      "Multiply 6*35\n",
      "Devide 60/5\n",
      "The answer is:\n",
      "Amount: 28\n",
      "Price: 16\n",
      "Total_price: 210\n",
      "Weight: 12.0\n",
      "\n",
      "Devide 12.0/3\n",
      "Multiply 210*4.0\n",
      "Substract 16-840.0\n",
      "Add 28+-824.0\n",
      "That becomes:  -796.0 Can you do it by hand?\n"
     ]
    }
   ],
   "source": [
    "def add(a, b):\n",
    "    print(f\"Add {a}+{b}\")\n",
    "    return a+b\n",
    "def subtract(a, b):\n",
    "    print(f\"Substract {a}-{b}\")\n",
    "    return a-b\n",
    "def multiply(a, b):\n",
    "    print(f\"Multiply {a}*{b}\")\n",
    "    return a*b\n",
    "def divide(a, b):\n",
    "    print(f\"Devide {a}/{b}\")\n",
    "    return a/b\n",
    "\n",
    "print(\"Please calculate the following questions:\\n\")\n",
    "amount=add(8,20)\n",
    "price=subtract(20,4)\n",
    "total_price=multiply(6, 35)\n",
    "weight=divide(60, 5)\n",
    "\n",
    "print(\"The answer is:\")\n",
    "print(f\"Amount: {amount}\\nPrice: {price}\\nTotal_price: {total_price}\\nWeight: {weight}\\n\")\n",
    "\n",
    "what = add(amount, subtract(price, multiply(total_price, divide(weight, 3))))\n",
    "print(\"That becomes: \", what, \"Can you do it by hand?\")"
   ]
  },
  {
   "cell_type": "code",
   "execution_count": 27,
   "metadata": {},
   "outputs": [
    {
     "name": "stdout",
     "output_type": "stream",
     "text": [
      "Normal.\n",
      "What are you drawing?\n",
      "Voldmort!\n"
     ]
    }
   ],
   "source": [
    "eye=2\n",
    "nose=1\n",
    "mouth=1\n",
    "\n",
    "if nose==mouth:\n",
    "    print(\"Normal.\")\n",
    "    \n",
    "nose += 1\n",
    "mouth += 2\n",
    "if eye <= nose:\n",
    "    print(\"What are you drawing?\")\n",
    "if mouth > nose:\n",
    "    print(\"Voldmort!\")"
   ]
  },
  {
   "cell_type": "code",
   "execution_count": 28,
   "metadata": {},
   "outputs": [
    {
     "data": {
      "text/plain": [
       "False"
      ]
     },
     "execution_count": 28,
     "metadata": {},
     "output_type": "execute_result"
    }
   ],
   "source": [
    "2>4 and (not(\"me\"==\"me\" or \"d\" == \"d\"))"
   ]
  },
  {
   "cell_type": "code",
   "execution_count": 29,
   "metadata": {},
   "outputs": [
    {
     "data": {
      "text/plain": [
       "False"
      ]
     },
     "execution_count": 29,
     "metadata": {},
     "output_type": "execute_result"
    }
   ],
   "source": [
    "not(3>2)"
   ]
  },
  {
   "cell_type": "code",
   "execution_count": 30,
   "metadata": {},
   "outputs": [
    {
     "data": {
      "text/plain": [
       "False"
      ]
     },
     "execution_count": 30,
     "metadata": {},
     "output_type": "execute_result"
    }
   ],
   "source": [
    "False and False"
   ]
  },
  {
   "cell_type": "code",
   "execution_count": 31,
   "metadata": {},
   "outputs": [
    {
     "data": {
      "text/plain": [
       "False"
      ]
     },
     "execution_count": 31,
     "metadata": {},
     "output_type": "execute_result"
    }
   ],
   "source": [
    "False and True"
   ]
  },
  {
   "cell_type": "code",
   "execution_count": 32,
   "metadata": {},
   "outputs": [
    {
     "data": {
      "text/plain": [
       "True"
      ]
     },
     "execution_count": 32,
     "metadata": {},
     "output_type": "execute_result"
    }
   ],
   "source": [
    "True or False"
   ]
  },
  {
   "cell_type": "code",
   "execution_count": 33,
   "metadata": {},
   "outputs": [
    {
     "data": {
      "text/plain": [
       "False"
      ]
     },
     "execution_count": 33,
     "metadata": {},
     "output_type": "execute_result"
    }
   ],
   "source": [
    "\"ddf\" == 1"
   ]
  },
  {
   "cell_type": "code",
   "execution_count": 34,
   "metadata": {},
   "outputs": [
    {
     "data": {
      "text/plain": [
       "True"
      ]
     },
     "execution_count": 34,
     "metadata": {},
     "output_type": "execute_result"
    }
   ],
   "source": [
    "\"ddf\" != 1"
   ]
  },
  {
   "cell_type": "code",
   "execution_count": 36,
   "metadata": {},
   "outputs": [
    {
     "name": "stdout",
     "output_type": "stream",
     "text": [
      "The cars are not enough.\n"
     ]
    }
   ],
   "source": [
    "people=50\n",
    "car_seats=40\n",
    "\n",
    "if people < car_seats:\n",
    "    print(\"We can take the car.\")\n",
    "elif people > car_seats:\n",
    "    print(\"The cars are not enough.\")\n",
    "else:\n",
    "    print(\"We can't decide.\")"
   ]
  },
  {
   "cell_type": "code",
   "execution_count": 41,
   "metadata": {},
   "outputs": [
    {
     "name": "stdout",
     "output_type": "stream",
     "text": [
      "\n",
      "You happened to enter a magic forests. There are plenty of magic plants.\n",
      "Would you pick 1 or 2?\n"
     ]
    },
    {
     "name": "stdin",
     "output_type": "stream",
     "text": [
      "-  1\n"
     ]
    },
    {
     "name": "stdout",
     "output_type": "stream",
     "text": [
      "What would you do with it?\n",
      "1.Eat it.\n",
      "2.Grap it.\n"
     ]
    },
    {
     "name": "stdin",
     "output_type": "stream",
     "text": [
      "-  2\n"
     ]
    },
    {
     "name": "stdout",
     "output_type": "stream",
     "text": [
      "Hufflepuff.\n"
     ]
    }
   ],
   "source": [
    "print(\"\"\"\n",
    "You happened to enter a magic forests. There are plenty of magic plants.\n",
    "Would you pick 1 or 2?\"\"\")\n",
    "plant=input(\"- \")\n",
    "\n",
    "if plant==\"1\":\n",
    "    print(\"What would you do with it?\")\n",
    "    print(\"1.Eat it.\")\n",
    "    print(\"2.Grap it.\")\n",
    "    act=input(\"- \")\n",
    "    if act==\"1\":\n",
    "        print(\"Gryffindor.\")\n",
    "    else:\n",
    "        print(\"Hufflepuff.\")\n",
    "else:\n",
    "    print(\"What would you do with it?\")\n",
    "    print(\"1.Eat it.\")\n",
    "    print(\"2.Grap it.\")\n",
    "    act=input(\"- \")\n",
    "    if act==\"1\":\n",
    "        print(\"Ravenclaw.\")\n",
    "    else:\n",
    "        print(\"Slytherin.\")"
   ]
  },
  {
   "cell_type": "code",
   "execution_count": 44,
   "metadata": {},
   "outputs": [
    {
     "name": "stdout",
     "output_type": "stream",
     "text": [
      "1到50之和为: 1275\n"
     ]
    }
   ],
   "source": [
    "n = 50\n",
    " \n",
    "sum = 0\n",
    "counter = 1\n",
    "while counter <= n:\n",
    "    sum = sum + counter\n",
    "    counter += 1\n",
    " \n",
    "print(\"1到%d之和为: %d\" % (n,sum))"
   ]
  },
  {
   "cell_type": "code",
   "execution_count": null,
   "metadata": {},
   "outputs": [],
   "source": [
    "def scores(name, score):\n",
    "    score_list=open('score.txt', 'a')\n",
    "    score_list.write(f'姓名：{name}\\t成绩：{score}')\n",
    "    score_list.close()"
   ]
  },
  {
   "cell_type": "code",
   "execution_count": 46,
   "metadata": {},
   "outputs": [
    {
     "name": "stdin",
     "output_type": "stream",
     "text": [
      "请输入姓名： 张德\n",
      "请输入成绩： 87\n"
     ]
    },
    {
     "name": "stdout",
     "output_type": "stream",
     "text": [
      "张德的成绩已保存\n"
     ]
    },
    {
     "name": "stdin",
     "output_type": "stream",
     "text": [
      "是否继续输入？（yes or no） yes\n",
      "请输入姓名： 登封\n",
      "请输入成绩： 89\n"
     ]
    },
    {
     "name": "stdout",
     "output_type": "stream",
     "text": [
      "登封的成绩已保存\n"
     ]
    },
    {
     "name": "stdin",
     "output_type": "stream",
     "text": [
      "是否继续输入？（yes or no） no\n"
     ]
    }
   ],
   "source": [
    "while True:\n",
    "    name=input(\"请输入姓名：\")\n",
    "    score=input(\"请输入成绩：\")\n",
    "    scores(name, score)\n",
    "    print(f\"{name}的成绩已保存\")\n",
    "    go_on=input(\"是否继续输入？（yes or no）\")\n",
    "    n=0\n",
    "    if go_on==\"yes\":\n",
    "        continue\n",
    "    elif go_on==\"no\":\n",
    "        break\n",
    "    print(\"成绩输入结束\")"
   ]
  },
  {
   "cell_type": "code",
   "execution_count": 5,
   "metadata": {},
   "outputs": [
    {
     "name": "stdin",
     "output_type": "stream",
     "text": [
      "请输入姓名： yu\n",
      "请输入成绩： 98\n"
     ]
    },
    {
     "name": "stdout",
     "output_type": "stream",
     "text": [
      "yu的成绩已保存。\n"
     ]
    },
    {
     "name": "stdin",
     "output_type": "stream",
     "text": [
      "是否继续输入（yes or no）？ e\n",
      "e 指令无效，是否继续输入（yes or no）？ no\n"
     ]
    },
    {
     "name": "stdout",
     "output_type": "stream",
     "text": [
      "结束\n"
     ]
    }
   ],
   "source": [
    "while True:\n",
    "    name = input(\"请输入姓名：\")\n",
    "    score = input('请输入成绩：')\n",
    "    scores(name, score)\n",
    "    print(f'{name}的成绩已保存。')\n",
    "    go_on = input('是否继续输入（yes or no）？')\n",
    "    n = 0\n",
    "    while n < 2:\n",
    "        if go_on == 'yes':\n",
    "            break\n",
    "            n = 0\n",
    "        elif go_on == 'no':\n",
    "            break\n",
    "        else:\n",
    "            n+=1\n",
    "            go_on = input(f'{go_on} 指令无效，是否继续输入（yes or no）？')\n",
    "    if go_on == 'no' or n == 2:\n",
    "        print('结束')\n",
    "        break"
   ]
  },
  {
   "cell_type": "code",
   "execution_count": 8,
   "metadata": {},
   "outputs": [
    {
     "name": "stdout",
     "output_type": "stream",
     "text": [
      "This is count 1\n",
      "This is count 2\n",
      "This is count 3\n",
      "This is count 4\n",
      "This is count 5\n",
      "A vegetables of type: tomatoes\n",
      "A vegetables of type: cucumbers\n",
      "A vegetables of type: cabbages\n",
      "A vegetables of type: eggplants\n",
      "I got 1\n",
      "I got pennies\n",
      "I got 2\n",
      "I got dimes\n",
      "I got 3\n",
      "I got quarters\n"
     ]
    }
   ],
   "source": [
    "the_count = [1, 2, 3, 4, 5]\n",
    "vegetables = ['tomatoes', 'cucumbers', 'cabbages', 'eggplants']\n",
    "change = [1, 'pennies', 2, 'dimes', 3, 'quarters']\n",
    "\n",
    "for number in the_count:\n",
    "    print(f\"This is count {number}\")\n",
    "\n",
    "for veg in vegetables:\n",
    "    print(f\"A vegetables of type: {veg}\")\n",
    "\n",
    "for i in change:\n",
    "    print(f\"I got {i}\")"
   ]
  },
  {
   "cell_type": "code",
   "execution_count": 9,
   "metadata": {},
   "outputs": [
    {
     "name": "stdout",
     "output_type": "stream",
     "text": [
      "Adding 0 to the list.\n",
      "Adding 1 to the list.\n",
      "Adding 2 to the list.\n",
      "Adding 3 to the list.\n",
      "Adding 4 to the list.\n",
      "Adding 5 to the list.\n",
      "Element was: 0\n",
      "Element was: 1\n",
      "Element was: 2\n",
      "Element was: 3\n",
      "Element was: 4\n",
      "Element was: 5\n"
     ]
    }
   ],
   "source": [
    "elements = []\n",
    "\n",
    "for i in range(0, 6):\n",
    "    print(f\"Adding {i} to the list.\")\n",
    "    elements.append(i)\n",
    "\n",
    "for i in elements:\n",
    "    print(f\"Element was: {i}\")"
   ]
  },
  {
   "cell_type": "code",
   "execution_count": 15,
   "metadata": {},
   "outputs": [
    {
     "name": "stdout",
     "output_type": "stream",
     "text": [
      "TypeError\n",
      "不是数字！\n"
     ]
    }
   ],
   "source": [
    "try:\n",
    "    number_file = open('numbers.txt')\n",
    "    numbers = number_file.readlines()\n",
    "    sum = 0\n",
    "    for number in numbers:\n",
    "        sum += int(number)\n",
    "except TypeError as te:\n",
    "    print(te.args)\n",
    "except ValueError:\n",
    "    print(f'{number}不是数字！')\n",
    "except:\n",
    "    print('未知错误')\n",
    "else:\n",
    "    print(sum)\n",
    "finally:\n",
    "    number_file.close()"
   ]
  },
  {
   "cell_type": "code",
   "execution_count": 16,
   "metadata": {},
   "outputs": [],
   "source": [
    "stu_names = ['Lily', 'Lucy', 'Jhon']\n",
    "with open('list.txt', 'w') as txt:\n",
    "    for name in stu_names:\n",
    "        txt.write(f'{name} Here！\\n')"
   ]
  },
  {
   "cell_type": "code",
   "execution_count": 18,
   "metadata": {},
   "outputs": [
    {
     "name": "stdout",
     "output_type": "stream",
     "text": [
      "11\n"
     ]
    }
   ],
   "source": [
    "def test():\n",
    "    a = 10\n",
    "    a = a + 1\n",
    "    print(a)\n",
    "test()"
   ]
  },
  {
   "cell_type": "code",
   "execution_count": 19,
   "metadata": {},
   "outputs": [
    {
     "data": {
      "text/plain": [
       "['ArithmeticError',\n",
       " 'AssertionError',\n",
       " 'AttributeError',\n",
       " 'BaseException',\n",
       " 'BlockingIOError',\n",
       " 'BrokenPipeError',\n",
       " 'BufferError',\n",
       " 'BytesWarning',\n",
       " 'ChildProcessError',\n",
       " 'ConnectionAbortedError',\n",
       " 'ConnectionError',\n",
       " 'ConnectionRefusedError',\n",
       " 'ConnectionResetError',\n",
       " 'DeprecationWarning',\n",
       " 'EOFError',\n",
       " 'Ellipsis',\n",
       " 'EnvironmentError',\n",
       " 'Exception',\n",
       " 'False',\n",
       " 'FileExistsError',\n",
       " 'FileNotFoundError',\n",
       " 'FloatingPointError',\n",
       " 'FutureWarning',\n",
       " 'GeneratorExit',\n",
       " 'IOError',\n",
       " 'ImportError',\n",
       " 'ImportWarning',\n",
       " 'IndentationError',\n",
       " 'IndexError',\n",
       " 'InterruptedError',\n",
       " 'IsADirectoryError',\n",
       " 'KeyError',\n",
       " 'KeyboardInterrupt',\n",
       " 'LookupError',\n",
       " 'MemoryError',\n",
       " 'ModuleNotFoundError',\n",
       " 'NameError',\n",
       " 'None',\n",
       " 'NotADirectoryError',\n",
       " 'NotImplemented',\n",
       " 'NotImplementedError',\n",
       " 'OSError',\n",
       " 'OverflowError',\n",
       " 'PendingDeprecationWarning',\n",
       " 'PermissionError',\n",
       " 'ProcessLookupError',\n",
       " 'RecursionError',\n",
       " 'ReferenceError',\n",
       " 'ResourceWarning',\n",
       " 'RuntimeError',\n",
       " 'RuntimeWarning',\n",
       " 'StopAsyncIteration',\n",
       " 'StopIteration',\n",
       " 'SyntaxError',\n",
       " 'SyntaxWarning',\n",
       " 'SystemError',\n",
       " 'SystemExit',\n",
       " 'TabError',\n",
       " 'TimeoutError',\n",
       " 'True',\n",
       " 'TypeError',\n",
       " 'UnboundLocalError',\n",
       " 'UnicodeDecodeError',\n",
       " 'UnicodeEncodeError',\n",
       " 'UnicodeError',\n",
       " 'UnicodeTranslateError',\n",
       " 'UnicodeWarning',\n",
       " 'UserWarning',\n",
       " 'ValueError',\n",
       " 'Warning',\n",
       " 'WindowsError',\n",
       " 'ZeroDivisionError',\n",
       " '__IPYTHON__',\n",
       " '__build_class__',\n",
       " '__debug__',\n",
       " '__doc__',\n",
       " '__import__',\n",
       " '__loader__',\n",
       " '__name__',\n",
       " '__package__',\n",
       " '__spec__',\n",
       " 'abs',\n",
       " 'all',\n",
       " 'any',\n",
       " 'ascii',\n",
       " 'bin',\n",
       " 'bool',\n",
       " 'breakpoint',\n",
       " 'bytearray',\n",
       " 'bytes',\n",
       " 'callable',\n",
       " 'chr',\n",
       " 'classmethod',\n",
       " 'compile',\n",
       " 'complex',\n",
       " 'copyright',\n",
       " 'credits',\n",
       " 'delattr',\n",
       " 'dict',\n",
       " 'dir',\n",
       " 'display',\n",
       " 'divmod',\n",
       " 'enumerate',\n",
       " 'eval',\n",
       " 'exec',\n",
       " 'filter',\n",
       " 'float',\n",
       " 'format',\n",
       " 'frozenset',\n",
       " 'get_ipython',\n",
       " 'getattr',\n",
       " 'globals',\n",
       " 'hasattr',\n",
       " 'hash',\n",
       " 'help',\n",
       " 'hex',\n",
       " 'id',\n",
       " 'input',\n",
       " 'int',\n",
       " 'isinstance',\n",
       " 'issubclass',\n",
       " 'iter',\n",
       " 'len',\n",
       " 'license',\n",
       " 'list',\n",
       " 'locals',\n",
       " 'map',\n",
       " 'max',\n",
       " 'memoryview',\n",
       " 'min',\n",
       " 'next',\n",
       " 'object',\n",
       " 'oct',\n",
       " 'open',\n",
       " 'ord',\n",
       " 'pow',\n",
       " 'print',\n",
       " 'property',\n",
       " 'range',\n",
       " 'repr',\n",
       " 'reversed',\n",
       " 'round',\n",
       " 'set',\n",
       " 'setattr',\n",
       " 'slice',\n",
       " 'sorted',\n",
       " 'staticmethod',\n",
       " 'str',\n",
       " 'sum',\n",
       " 'super',\n",
       " 'tuple',\n",
       " 'type',\n",
       " 'vars',\n",
       " 'zip']"
      ]
     },
     "execution_count": 19,
     "metadata": {},
     "output_type": "execute_result"
    }
   ],
   "source": [
    "import builtins\n",
    "dir(builtins)"
   ]
  },
  {
   "cell_type": "code",
   "execution_count": null,
   "metadata": {},
   "outputs": [],
   "source": []
  }
 ],
 "metadata": {
  "kernelspec": {
   "display_name": "Python 3",
   "language": "python",
   "name": "python3"
  },
  "language_info": {
   "codemirror_mode": {
    "name": "ipython",
    "version": 3
   },
   "file_extension": ".py",
   "mimetype": "text/x-python",
   "name": "python",
   "nbconvert_exporter": "python",
   "pygments_lexer": "ipython3",
   "version": "3.8.3"
  }
 },
 "nbformat": 4,
 "nbformat_minor": 4
}
