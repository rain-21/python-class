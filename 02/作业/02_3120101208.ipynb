{
 "cells": [
  {
   "cell_type": "code",
   "execution_count": 1,
   "metadata": {},
   "outputs": [
    {
     "data": {
      "text/plain": [
       "'C:\\\\Users\\\\lll51\\\\anaconda3\\\\python.exe'"
      ]
     },
     "execution_count": 1,
     "metadata": {},
     "output_type": "execute_result"
    }
   ],
   "source": [
    "import sys\n",
    "sys.executable"
   ]
  },
  {
   "cell_type": "code",
   "execution_count": 2,
   "metadata": {},
   "outputs": [
    {
     "data": {
      "text/plain": [
       "['C:\\\\Users\\\\lll51\\\\anaconda3\\\\lib\\\\site-packages\\\\ipykernel_launcher.py',\n",
       " '-f',\n",
       " 'C:\\\\Users\\\\lll51\\\\AppData\\\\Roaming\\\\jupyter\\\\runtime\\\\kernel-3ea0aa66-2fd1-4efc-8758-57e05e07a606.json']"
      ]
     },
     "execution_count": 2,
     "metadata": {},
     "output_type": "execute_result"
    }
   ],
   "source": [
    "sys.argv"
   ]
  },
  {
   "cell_type": "code",
   "execution_count": 5,
   "metadata": {},
   "outputs": [
    {
     "name": "stdout",
     "output_type": "stream",
     "text": [
      "arg1:Zed,arg2:shaw\n"
     ]
    }
   ],
   "source": [
    "def print_two(*args):\n",
    "    arg1,arg2=args\n",
    "    print(f\"arg1:{arg1},arg2:{arg2}\")\n",
    "print_two(\"Zed\",\"shaw\")"
   ]
  },
  {
   "cell_type": "code",
   "execution_count": 7,
   "metadata": {},
   "outputs": [
    {
     "name": "stdout",
     "output_type": "stream",
     "text": [
      "arg1:Zed,arg2:Shaw\n",
      "arg1:zed,arg2:Shaw\n",
      "arg1:Zed\n",
      "I got nothing.\n"
     ]
    }
   ],
   "source": [
    "def print_two(*args):\n",
    "    arg1,arg2=args\n",
    "    print(f\"arg1:{arg1},arg2:{arg2}\")\n",
    "print_two(\"Zed\",\"Shaw\")\n",
    "def print_two_again(arg1,arg2):\n",
    "    print(f\"arg1:{arg1},arg2:{arg2}\")\n",
    "print_two_again(\"zed\",\"Shaw\")\n",
    "def print_one(arg1):\n",
    "    print(f\"arg1:{arg1}\")\n",
    "print_one(\"Zed\")\n",
    "def print_none():\n",
    "    print(\"I got nothing.\")\n",
    "print_none()"
   ]
  },
  {
   "cell_type": "code",
   "execution_count": 8,
   "metadata": {},
   "outputs": [
    {
     "name": "stdout",
     "output_type": "stream",
     "text": [
      "we can just give the function numbers directly:\n",
      "you have 20 cheeses!\n",
      "you have 30 boxes of crackes!\n",
      "Man that's enough for a party!\n",
      "get a blanket.\n",
      "\n",
      "or, use varibles from the script:\n",
      "you have 10 cheeses!\n",
      "you have 50 boxes of crackes!\n",
      "Man that's enough for a party!\n",
      "get a blanket.\n",
      "\n",
      "math inside:\n",
      "you have 30 cheeses!\n",
      "you have 11 boxes of crackes!\n",
      "Man that's enough for a party!\n",
      "get a blanket.\n",
      "\n",
      "combine,varibles and math:\n",
      "you have 1010 cheeses!\n",
      "you have 1050 boxes of crackes!\n",
      "Man that's enough for a party!\n",
      "get a blanket.\n",
      "\n"
     ]
    }
   ],
   "source": [
    "def cheese_and_crackers(cheese_count,boxes_of_crackers):\n",
    "    print(f\"you have {cheese_count} cheeses!\")\n",
    "    print(f\"you have {boxes_of_crackers} boxes of crackes!\")\n",
    "    print(\"Man that's enough for a party!\")\n",
    "    print(\"get a blanket.\\n\")\n",
    "          \n",
    "print(\"we can just give the function numbers directly:\")\n",
    "cheese_and_crackers(20,30)\n",
    "          \n",
    "print(\"or, use varibles from the script:\")\n",
    "amount_of_cheese = 10\n",
    "amount_of_crackers = 50\n",
    "\n",
    "cheese_and_crackers(amount_of_cheese, amount_of_crackers)\n",
    "\n",
    "print(\"math inside:\")\n",
    "cheese_and_crackers(10+20,5+6)\n",
    "\n",
    "print(\"combine,varibles and math:\")\n",
    "cheese_and_crackers(amount_of_cheese + 1000, amount_of_crackers + 1000)"
   ]
  },
  {
   "cell_type": "code",
   "execution_count": 9,
   "metadata": {},
   "outputs": [
    {
     "name": "stdout",
     "output_type": "stream",
     "text": [
      "Here's your file sample.txt:\n",
      "11\n",
      "22\n",
      "333\n",
      "\n"
     ]
    }
   ],
   "source": [
    "filename = 'sample.txt'\n",
    "txt = open(filename)\n",
    "print(f\"Here's your file {filename}:\")\n",
    "print(txt.read())\n",
    "txt.close()"
   ]
  },
  {
   "cell_type": "code",
   "execution_count": 10,
   "metadata": {},
   "outputs": [
    {
     "name": "stdout",
     "output_type": "stream",
     "text": [
      "Here's your file sample.txt:\n",
      "11\n",
      "22\n",
      "333\n",
      "\n"
     ]
    }
   ],
   "source": [
    "filename = 'sample.txt'\n",
    "txt = open(filename,encoding='gbk')\n",
    "print(f\"Here's your file {filename}:\")\n",
    "print(txt.read())\n",
    "txt.close()"
   ]
  },
  {
   "cell_type": "code",
   "execution_count": 11,
   "metadata": {},
   "outputs": [
    {
     "name": "stdout",
     "output_type": "stream",
     "text": [
      "Here's your file sample.txt:\n",
      "11\n",
      "22\n",
      "333\n",
      "\n"
     ]
    }
   ],
   "source": [
    "filename = 'sample.txt'\n",
    "txt = open(filename,encoding='utf-8')\n",
    "\n",
    "print(f\"Here's your file {filename}:\")\n",
    "print(txt.read())\n",
    "txt.close()"
   ]
  },
  {
   "cell_type": "code",
   "execution_count": 12,
   "metadata": {},
   "outputs": [
    {
     "name": "stdout",
     "output_type": "stream",
     "text": [
      "Truncating the file. Goodbye!\n",
      "ask 3 lines.\n"
     ]
    },
    {
     "name": "stdin",
     "output_type": "stream",
     "text": [
      "line 1:  11\n",
      "line 2:  22\n",
      "line 3:  333\n"
     ]
    },
    {
     "name": "stdout",
     "output_type": "stream",
     "text": [
      "I'm going to write these to the file.\n",
      "Add finally, we close it.\n"
     ]
    }
   ],
   "source": [
    "filename = 'sample.txt'\n",
    "target=open(filename,\"w\")\n",
    "\n",
    "print(\"Truncating the file. Goodbye!\")\n",
    "# target.truncate()\n",
    "\n",
    "print(\"ask 3 lines.\")\n",
    "line1 = input(\"line 1: \")\n",
    "line2 = input(\"line 2: \")\n",
    "line3 = input(\"line 3: \")\n",
    "\n",
    "print(\"I'm going to write these to the file.\")\n",
    "\n",
    "target.write(line1)\n",
    "target.write(\"\\n\")\n",
    "target.write(line2)\n",
    "target.write(\"\\n\")\n",
    "target.write(line3)\n",
    "target.write(\"\\n\")\n",
    "\n",
    "print(\"Add finally, we close it.\")\n",
    "target.close()"
   ]
  },
  {
   "cell_type": "code",
   "execution_count": 19,
   "metadata": {},
   "outputs": [
    {
     "name": "stdout",
     "output_type": "stream",
     "text": [
      "now, let's print the whole file:\n",
      "\n",
      "11\n",
      "22\n",
      "333\n",
      "\n"
     ]
    }
   ],
   "source": [
    "#file showed in lines.\n",
    "\n",
    "input_file = 'sample.txt'\n",
    "\n",
    "def print_all(f):\n",
    "    print(f.read())\n",
    "    \n",
    "def rewind(f):\n",
    "    f.seek(0)\n",
    "    \n",
    "def print_a_line(line_count,f):\n",
    "    print(line_count,f.readline())\n",
    "    \n",
    "current_file=open(input_file)\n",
    "\n",
    "print(\"now, let's print the whole file:\\n\")\n",
    "\n",
    "print_all(current_file)"
   ]
  },
  {
   "cell_type": "code",
   "execution_count": 14,
   "metadata": {},
   "outputs": [
    {
     "name": "stdout",
     "output_type": "stream",
     "text": [
      "Now let's rewind, kind of like a tape.\n",
      "Let's print three lines:\n",
      "1 11\n",
      "\n",
      "2 22\n",
      "\n",
      "3 333\n",
      "\n"
     ]
    }
   ],
   "source": [
    "print(\"Now let's rewind, kind of like a tape.\")\n",
    "\n",
    "rewind(current_file)\n",
    "\n",
    "print(\"Let's print three lines:\")\n",
    "\n",
    "current_line = 1\n",
    "print_a_line(current_line, current_file)\n",
    "\n",
    "current_line = current_line + 1\n",
    "print_a_line(current_line, current_file)\n",
    "\n",
    "current_line += 1\n",
    "print_a_line(current_line, current_file)\n",
    "\n",
    "current_file.close()"
   ]
  },
  {
   "cell_type": "code",
   "execution_count": 15,
   "metadata": {},
   "outputs": [
    {
     "name": "stdout",
     "output_type": "stream",
     "text": [
      "Let's do some math with just functions!\n",
      "adding25+5\n",
      "subtracting 88 - 4\n",
      "multiplying 90 * 2\n",
      "divding 100 / 2\n",
      "Age: 30, Height: 84, Weight: 180, IQ: 50.0\n"
     ]
    }
   ],
   "source": [
    "def add(a,b):\n",
    "    print(f\"adding{a}+{b}\")\n",
    "    return a + b\n",
    "\n",
    "def subtract(a, b):\n",
    "    print(f\"subtracting {a} - {b}\")\n",
    "    return a - b\n",
    "\n",
    "def multiply(a, b):\n",
    "    print(f\"multiplying {a} * {b}\")\n",
    "    return a * b\n",
    "\n",
    "def divide(a, b):\n",
    "    print(f\"divding {a} / {b}\")\n",
    "    return a / b\n",
    "\n",
    "print(\"Let's do some math with just functions!\")\n",
    "\n",
    "age = add(25, 5)\n",
    "height = subtract(88, 4)\n",
    "weight = multiply(90, 2)\n",
    "iq = divide(100, 2)\n",
    "\n",
    "print(f\"Age: {age}, Height: {height}, Weight: {weight}, IQ: {iq}\")"
   ]
  },
  {
   "cell_type": "code",
   "execution_count": 18,
   "metadata": {},
   "outputs": [
    {
     "name": "stdout",
     "output_type": "stream",
     "text": [
      "Here is a puzzle.\n",
      "divding 50.0 / 2\n",
      "multiplying 180 * 25.0\n",
      "subtracting 84 - 4500.0\n",
      "adding30+-4416.0\n",
      "That becomes:  -4386.0 Can you do it by hand?\n",
      "divding 50.0 / 2\n",
      "multiplying 30 * 25.0\n",
      "adding180+750.0\n",
      "subtracting 30 - 930.0\n",
      "That becomes:  -900.0 Can you do it by hand?\n"
     ]
    }
   ],
   "source": [
    "# A puzzle for the extra credit, type it in anyway.\n",
    "print(\"Here is a puzzle.\")\n",
    "\n",
    "what = add(age, subtract(height, multiply(weight, divide(iq, 2))))\n",
    "\n",
    "print(\"That becomes: \", what, \"Can you do it by hand?\")\n",
    "\n",
    "what2 = subtract(age, add(weight, multiply(age, divide(iq, 2))))\n",
    "\n",
    "print(\"That becomes: \", what2, \"Can you do it by hand?\")"
   ]
  },
  {
   "cell_type": "code",
   "execution_count": 21,
   "metadata": {},
   "outputs": [
    {
     "name": "stdout",
     "output_type": "stream",
     "text": [
      "Too many cats!\n",
      "the world is dry\n",
      "People are greater than or equal to dogs.\n",
      "People are dogs…^^.\n"
     ]
    }
   ],
   "source": [
    "people = 20\n",
    "cats = 30\n",
    "dogs = 15\n",
    "\n",
    "if people < cats:\n",
    "    print(\"Too many cats!\")\n",
    "    \n",
    "if people > cats:\n",
    "    print(\"Too many people!\")\n",
    "    \n",
    "if people < dogs:\n",
    "    print(\"The world is drooled on!\")\n",
    "    \n",
    "if people > dogs:\n",
    "    print(\"the world is dry\")\n",
    "    \n",
    "dogs += 5\n",
    "\n",
    "if people >= dogs:\n",
    "    print(\"People are greater than or equal to dogs.\")\n",
    "    \n",
    "if people == dogs:\n",
    "    print(\"People are dogs…^^.\")"
   ]
  },
  {
   "cell_type": "code",
   "execution_count": 3,
   "metadata": {},
   "outputs": [
    {
     "data": {
      "text/plain": [
       "True"
      ]
     },
     "execution_count": 3,
     "metadata": {},
     "output_type": "execute_result"
    }
   ],
   "source": [
    "3==3"
   ]
  },
  {
   "cell_type": "code",
   "execution_count": 4,
   "metadata": {},
   "outputs": [
    {
     "data": {
      "text/plain": [
       "False"
      ]
     },
     "execution_count": 4,
     "metadata": {},
     "output_type": "execute_result"
    }
   ],
   "source": [
    "'chunky'=='bacon'"
   ]
  },
  {
   "cell_type": "code",
   "execution_count": 6,
   "metadata": {},
   "outputs": [
    {
     "data": {
      "text/plain": [
       "False"
      ]
     },
     "execution_count": 6,
     "metadata": {},
     "output_type": "execute_result"
    }
   ],
   "source": [
    "not(3==4 or 3==3)"
   ]
  },
  {
   "cell_type": "code",
   "execution_count": 7,
   "metadata": {},
   "outputs": [
    {
     "data": {
      "text/plain": [
       "False"
      ]
     },
     "execution_count": 7,
     "metadata": {},
     "output_type": "execute_result"
    }
   ],
   "source": [
    "not(1!=10)"
   ]
  },
  {
   "cell_type": "code",
   "execution_count": 8,
   "metadata": {},
   "outputs": [
    {
     "data": {
      "text/plain": [
       "False"
      ]
     },
     "execution_count": 8,
     "metadata": {},
     "output_type": "execute_result"
    }
   ],
   "source": [
    "\"test\"==1"
   ]
  },
  {
   "cell_type": "code",
   "execution_count": 9,
   "metadata": {},
   "outputs": [
    {
     "data": {
      "text/plain": [
       "True"
      ]
     },
     "execution_count": 9,
     "metadata": {},
     "output_type": "execute_result"
    }
   ],
   "source": [
    "\"testing\"==\"testing\""
   ]
  },
  {
   "cell_type": "code",
   "execution_count": 11,
   "metadata": {},
   "outputs": [
    {
     "data": {
      "text/plain": [
       "True"
      ]
     },
     "execution_count": 11,
     "metadata": {},
     "output_type": "execute_result"
    }
   ],
   "source": [
    "1!=0 and 2!=1"
   ]
  },
  {
   "cell_type": "code",
   "execution_count": 13,
   "metadata": {},
   "outputs": [
    {
     "data": {
      "text/plain": [
       "True"
      ]
     },
     "execution_count": 13,
     "metadata": {},
     "output_type": "execute_result"
    }
   ],
   "source": [
    "False and True and True or True"
   ]
  },
  {
   "cell_type": "code",
   "execution_count": 33,
   "metadata": {},
   "outputs": [
    {
     "name": "stdout",
     "output_type": "stream",
     "text": [
      "We should take the cars.\n"
     ]
    }
   ],
   "source": [
    "people = 30\n",
    "cars = 45\n",
    "trunks = 15\n",
    "\n",
    "if cars > people:\n",
    "    print(\"We should take the cars.\")\n",
    "elif cars < people:\n",
    "    print(\"not take the cars\")\n",
    "else: #  maohao!\n",
    "    {\n",
    "        print(\"cannot decide.\")\n",
    "    }"
   ]
  },
  {
   "cell_type": "code",
   "execution_count": 35,
   "metadata": {},
   "outputs": [
    {
     "name": "stdout",
     "output_type": "stream",
     "text": [
      "Maybe we could take the trunks.\n",
      "Fine, let's stay home.\n"
     ]
    }
   ],
   "source": [
    "if trunks > cars:\n",
    "    print(\"thats too many trunks.\")\n",
    "elif trunks < cars:\n",
    "    print(\"Maybe we could take the trunks.\")\n",
    "else:\n",
    "    print(\"cannot decide.\")\n",
    "    \n",
    "trunks += 55  #  warning:Tab\n",
    "\n",
    "if people > trunks:\n",
    "    print(\"Alright, let's just take the trunks.\")\n",
    "else:\n",
    "    print(\"Fine, let's stay home.\")"
   ]
  },
  {
   "cell_type": "code",
   "execution_count": 42,
   "metadata": {},
   "outputs": [
    {
     "name": "stdout",
     "output_type": "stream",
     "text": [
      "You enter a dark roomm with two doors.\n",
      "Do you go through door #1 or door#2? \n"
     ]
    },
    {
     "name": "stdin",
     "output_type": "stream",
     "text": [
      ">  2\n"
     ]
    },
    {
     "name": "stdout",
     "output_type": "stream",
     "text": [
      "You stare into the endless abyss at Ctulhu's retina.\n",
      "    1.Blueberries.\n",
      "    2.Yellow jacket clothespins.\n",
      "    3.Understanding revolvers yelling melodies.\n"
     ]
    },
    {
     "name": "stdin",
     "output_type": "stream",
     "text": [
      ">  2\n"
     ]
    },
    {
     "name": "stdout",
     "output_type": "stream",
     "text": [
      "Your body survives powered by a mind of jello. Good job!\n"
     ]
    }
   ],
   "source": [
    "print(\"\"\"You enter a dark roomm with two doors.\n",
    "Do you go through door #1 or door#2? \"\"\")\n",
    "\n",
    "door = input(\"> \")\n",
    "\n",
    "if door == \"1\":\n",
    "    print(\"\"\"There's a giant bear here eating a cheese cake.  What do you do?\n",
    "    1.Take the cake.\n",
    "    2.Scream at the bear.\"\"\")\n",
    "    \n",
    "    bear = input(\"> \")\n",
    "    \n",
    "    if bear == \"1\":\n",
    "        print(\"The bear eats your face off. Good job!\")\n",
    "    elif bear ==\"2\":\n",
    "        print(\"The bear eats your legs off. Good job!\")\n",
    "    else:\n",
    "        print(f\"well, doing {bear} is probably better.  Bear run away.\")\n",
    "        \n",
    "elif door == \"2\":\n",
    "    print(\"\"\"You stare into the endless abyss at Ctulhu's retina.\n",
    "    1.Blueberries.\n",
    "    2.Yellow jacket clothespins.\n",
    "    3.Understanding revolvers yelling melodies.\"\"\")\n",
    "    \n",
    "    insanity = input(\"> \")\n",
    "    \n",
    "    if insanity ==\"1\" or insanity ==\"2\":\n",
    "        print(\"Your body survives powered by a mind of jello. Good job!\")\n",
    "    else:\n",
    "        print(\"The insanity rots your eyes into a pool of muck. Good job!\")\n",
    "    \n",
    "else:\n",
    "    print(\"You stumble around and fall on a knife and die. Good job!\")"
   ]
  },
  {
   "cell_type": "code",
   "execution_count": 3,
   "metadata": {},
   "outputs": [
    {
     "name": "stdout",
     "output_type": "stream",
     "text": [
      "The sum of 1 to 100 is 5050\n"
     ]
    }
   ],
   "source": [
    "# use of while\n",
    "n = 100\n",
    "\n",
    "sum = 0\n",
    "counter = 1\n",
    "while counter <= n:\n",
    "    sum = sum + counter\n",
    "    counter +=1\n",
    "\n",
    "print(f\"The sum of 1 to {n} is %d\" % (sum))\n",
    "# print(\"The sum of 1 to %d\" % (n,sum))\n",
    "# TypeError: not all arguments converted during string formatting"
   ]
  },
  {
   "cell_type": "code",
   "execution_count": 6,
   "metadata": {},
   "outputs": [
    {
     "name": "stdin",
     "output_type": "stream",
     "text": [
      "please input the name: 11\n",
      "please input the grade: 11\n"
     ]
    },
    {
     "name": "stdout",
     "output_type": "stream",
     "text": [
      "11's grade is saved.\n"
     ]
    },
    {
     "name": "stdin",
     "output_type": "stream",
     "text": [
      "continue to input? (yes or no) yes\n",
      "please input the name: 11\n",
      "please input the grade: 11\n"
     ]
    },
    {
     "name": "stdout",
     "output_type": "stream",
     "text": [
      "11's grade is saved.\n"
     ]
    },
    {
     "name": "stdin",
     "output_type": "stream",
     "text": [
      "continue to input? (yes or no) no\n"
     ]
    },
    {
     "name": "stdout",
     "output_type": "stream",
     "text": [
      "The input of greades is end.\n"
     ]
    }
   ],
   "source": [
    "def save_grade(name,grade):\n",
    "    grades = open('sample.txt', 'a')\n",
    "    grades.write(f'name:{name}\\tgrade:{grade}\\n')\n",
    "    grades.close()\n",
    "\n",
    "while True:\n",
    "    name = input(\"please input the name:\")\n",
    "    grade = input(\"please input the grade:\")\n",
    "    save_grade(name, grade)\n",
    "    print(f\"{name}'s grade is saved.\")\n",
    "    go_on = input('continue to input? (yes or no)')\n",
    "    n = 0\n",
    "    if go_on == 'yes':\n",
    "        continue\n",
    "    elif go_on == 'no':\n",
    "        print('The input of greades is end.')\n",
    "        break\n",
    "    "
   ]
  },
  {
   "cell_type": "code",
   "execution_count": 21,
   "metadata": {},
   "outputs": [
    {
     "name": "stdin",
     "output_type": "stream",
     "text": [
      "Please input the name: 11\n",
      "Please input the grade: 22\n"
     ]
    },
    {
     "name": "stdout",
     "output_type": "stream",
     "text": [
      " 11 's grade is saved.\n"
     ]
    },
    {
     "name": "stdin",
     "output_type": "stream",
     "text": [
      "continue to input? (yes or no) 1\n",
      "2 input is valid, continue to go? (yes or no) 1\n",
      "3 input is valid, continue to go? (yes or no) yes\n",
      "Please input the name: 111\n",
      "Please input the grade: 222\n"
     ]
    },
    {
     "name": "stdout",
     "output_type": "stream",
     "text": [
      " 111 's grade is saved.\n"
     ]
    },
    {
     "name": "stdin",
     "output_type": "stream",
     "text": [
      "continue to input? (yes or no) 1\n",
      "2 input is valid, continue to go? (yes or no) 1\n",
      "3 input is valid, continue to go? (yes or no) no\n"
     ]
    },
    {
     "name": "stdout",
     "output_type": "stream",
     "text": [
      "end.\n"
     ]
    }
   ],
   "source": [
    "while True:\n",
    "    name = input(\"Please input the name:\")\n",
    "    grade = input('Please input the grade:')\n",
    "    save_grade(name, grade)\n",
    "    print(f\" {name} 's grade is saved.\")\n",
    "    go_on = input('continue to input? (yes or no)')\n",
    "    n = 0\n",
    "    while n < 2:\n",
    "        if go_on == 'yes':\n",
    "            break\n",
    "            n = 0\n",
    "        elif go_on == 'no':\n",
    "            print('end.')\n",
    "            break\n",
    "        else:\n",
    "            n += 1\n",
    "            go_on = input(f'{n + 1} input is valid, continue to go? (yes or no)')\n",
    "    if go_on == 'yes':  # 优先判定是否为yes\n",
    "        n = 0\n",
    "    elif go_on == 'no' or n == 2:\n",
    "        print('end.')\n",
    "        break\n",
    "        "
   ]
  },
  {
   "cell_type": "code",
   "execution_count": 23,
   "metadata": {},
   "outputs": [
    {
     "name": "stdout",
     "output_type": "stream",
     "text": [
      "This is count 1\n",
      "This is count 2\n",
      "This is count 3\n",
      "This is count 4\n",
      "This is count 5\n",
      "A fruit of type:apples\n",
      "A fruit of type:oranges\n",
      "A fruit of type:pears\n",
      "A fruit of type:aprictos\n",
      "I got 1\n",
      "I got pennies\n",
      "I got 2\n",
      "I got dimes\n",
      "I got 3\n",
      "I got quarters\n",
      "adding 0 to the list.\n",
      "adding 1 to the list.\n",
      "adding 2 to the list.\n",
      "adding 3 to the list.\n",
      "adding 4 to the list.\n",
      "adding 5 to the list.\n",
      "element was: 0\n",
      "element was: 1\n",
      "element was: 2\n",
      "element was: 3\n",
      "element was: 4\n",
      "element was: 5\n"
     ]
    }
   ],
   "source": [
    "the_count = [1, 2, 3, 4, 5]\n",
    "fruits = ['apples', 'oranges', 'pears', 'aprictos']\n",
    "change = [1, 'pennies', 2, 'dimes', 3, 'quarters']\n",
    "\n",
    "for number in the_count:\n",
    "    print(f\"This is count {number}\")\n",
    "    \n",
    "for fruit in fruits:\n",
    "    print(f\"A fruit of type:{fruit}\")\n",
    "    \n",
    "for i in change:\n",
    "    print(f\"I got {i}\")\n",
    "    \n",
    "elements = []\n",
    "\n",
    "for i in range(0, 6):\n",
    "    print(f'adding {i} to the list.')\n",
    "    elements.append(i)\n",
    "    \n",
    "for i in elements:\n",
    "    print(f\"element was: {i}\")"
   ]
  },
  {
   "cell_type": "code",
   "execution_count": 27,
   "metadata": {},
   "outputs": [
    {
     "name": "stdout",
     "output_type": "stream",
     "text": [
      "10\n"
     ]
    }
   ],
   "source": [
    "number_file = open('number.txt')\n",
    "numbers = number_file.readlines()\n",
    "sum = 0\n",
    "for number in numbers:\n",
    "    sum += int (number)\n",
    "\n",
    "print(sum)\n",
    "\n",
    "number_file.close()"
   ]
  },
  {
   "cell_type": "code",
   "execution_count": 29,
   "metadata": {},
   "outputs": [
    {
     "name": "stdout",
     "output_type": "stream",
     "text": [
      "unknown error.\n"
     ]
    }
   ],
   "source": [
    "try:\n",
    "    number_file = open('number.txt')\n",
    "    numbers = number_file.readlines()\n",
    "    sum = 0\n",
    "    for number in numbers:\n",
    "        sum += int(number)\n",
    "except TypeError as te:\n",
    "    print(te.args)\n",
    "except:\n",
    "    print('unknown error.')\n",
    "else:\n",
    "    print(sum)\n",
    "finally:\n",
    "    number_file.close()"
   ]
  },
  {
   "cell_type": "code",
   "execution_count": 31,
   "metadata": {},
   "outputs": [
    {
     "name": "stdout",
     "output_type": "stream",
     "text": [
      "10\n"
     ]
    }
   ],
   "source": [
    "try:\n",
    "    number_file = open('number.txt')\n",
    "    numbers = number_file.readlines()\n",
    "    sum = 0\n",
    "    for number in numbers:\n",
    "        sum += int(number)\n",
    "except TypeError as te:\n",
    "    print(te.args)\n",
    "except:\n",
    "    print('unknown error.')\n",
    "else:\n",
    "    print(sum)\n",
    "finally:\n",
    "    number_file.close()"
   ]
  },
  {
   "cell_type": "code",
   "execution_count": 33,
   "metadata": {},
   "outputs": [],
   "source": [
    "stu_names = ['Bill', 'John', 'Joe']\n",
    "with open('sample.txt', 'w') as txt:\n",
    "    for name in stu_names:\n",
    "        txt.write(f'{name} sign in!\\n')"
   ]
  },
  {
   "cell_type": "code",
   "execution_count": 34,
   "metadata": {},
   "outputs": [
    {
     "ename": "NameError",
     "evalue": "name 'msg_inner' is not defined",
     "output_type": "error",
     "traceback": [
      "\u001b[1;31m---------------------------------------------------------------------------\u001b[0m",
      "\u001b[1;31mNameError\u001b[0m                                 Traceback (most recent call last)",
      "\u001b[1;32m<ipython-input-34-0fa2391b9685>\u001b[0m in \u001b[0;36m<module>\u001b[1;34m\u001b[0m\n\u001b[0;32m      1\u001b[0m \u001b[1;32mdef\u001b[0m \u001b[0mtest\u001b[0m\u001b[1;33m(\u001b[0m\u001b[1;33m)\u001b[0m\u001b[1;33m:\u001b[0m\u001b[1;33m\u001b[0m\u001b[1;33m\u001b[0m\u001b[0m\n\u001b[0;32m      2\u001b[0m     \u001b[0mmsg_inner\u001b[0m \u001b[1;33m=\u001b[0m \u001b[1;34m'I am a local var'\u001b[0m\u001b[1;33m\u001b[0m\u001b[1;33m\u001b[0m\u001b[0m\n\u001b[1;32m----> 3\u001b[1;33m \u001b[0mmsg_inner\u001b[0m\u001b[1;33m\u001b[0m\u001b[1;33m\u001b[0m\u001b[0m\n\u001b[0m\u001b[0;32m      4\u001b[0m \u001b[1;33m\u001b[0m\u001b[0m\n\u001b[0;32m      5\u001b[0m \u001b[1;32mif\u001b[0m \u001b[1;32mTrue\u001b[0m\u001b[1;33m:\u001b[0m\u001b[1;33m\u001b[0m\u001b[1;33m\u001b[0m\u001b[0m\n",
      "\u001b[1;31mNameError\u001b[0m: name 'msg_inner' is not defined"
     ]
    }
   ],
   "source": [
    "def test():\n",
    "    msg_inner = 'I am a local var'\n",
    "msg_inner\n",
    "\n",
    "if True:\n",
    "    msg = 'I am a global var'\n",
    "msg\n",
    "\n",
    "a = 10\n",
    "def test():\n",
    "    a = a +1\n",
    "    print(a)\n",
    "test()\n",
    "\n",
    "import builtins\n",
    "dir(builtins)"
   ]
  },
  {
   "cell_type": "code",
   "execution_count": 54,
   "metadata": {},
   "outputs": [
    {
     "name": "stdout",
     "output_type": "stream",
     "text": [
      "11\n"
     ]
    }
   ],
   "source": [
    "def test():\n",
    "    msg_inner = 'I am a local var'\n",
    "test()\n",
    "    \n",
    "if True:\n",
    "    msg = 'I am a global var'\n",
    "msg\n",
    "\n",
    "a = 10\n",
    "def test():\n",
    "    global a\n",
    "    a = a +1\n",
    "    print(a)\n",
    "test()\n"
   ]
  },
  {
   "cell_type": "code",
   "execution_count": 55,
   "metadata": {},
   "outputs": [
    {
     "data": {
      "text/plain": [
       "['ArithmeticError',\n",
       " 'AssertionError',\n",
       " 'AttributeError',\n",
       " 'BaseException',\n",
       " 'BlockingIOError',\n",
       " 'BrokenPipeError',\n",
       " 'BufferError',\n",
       " 'BytesWarning',\n",
       " 'ChildProcessError',\n",
       " 'ConnectionAbortedError',\n",
       " 'ConnectionError',\n",
       " 'ConnectionRefusedError',\n",
       " 'ConnectionResetError',\n",
       " 'DeprecationWarning',\n",
       " 'EOFError',\n",
       " 'Ellipsis',\n",
       " 'EnvironmentError',\n",
       " 'Exception',\n",
       " 'False',\n",
       " 'FileExistsError',\n",
       " 'FileNotFoundError',\n",
       " 'FloatingPointError',\n",
       " 'FutureWarning',\n",
       " 'GeneratorExit',\n",
       " 'IOError',\n",
       " 'ImportError',\n",
       " 'ImportWarning',\n",
       " 'IndentationError',\n",
       " 'IndexError',\n",
       " 'InterruptedError',\n",
       " 'IsADirectoryError',\n",
       " 'KeyError',\n",
       " 'KeyboardInterrupt',\n",
       " 'LookupError',\n",
       " 'MemoryError',\n",
       " 'ModuleNotFoundError',\n",
       " 'NameError',\n",
       " 'None',\n",
       " 'NotADirectoryError',\n",
       " 'NotImplemented',\n",
       " 'NotImplementedError',\n",
       " 'OSError',\n",
       " 'OverflowError',\n",
       " 'PendingDeprecationWarning',\n",
       " 'PermissionError',\n",
       " 'ProcessLookupError',\n",
       " 'RecursionError',\n",
       " 'ReferenceError',\n",
       " 'ResourceWarning',\n",
       " 'RuntimeError',\n",
       " 'RuntimeWarning',\n",
       " 'StopAsyncIteration',\n",
       " 'StopIteration',\n",
       " 'SyntaxError',\n",
       " 'SyntaxWarning',\n",
       " 'SystemError',\n",
       " 'SystemExit',\n",
       " 'TabError',\n",
       " 'TimeoutError',\n",
       " 'True',\n",
       " 'TypeError',\n",
       " 'UnboundLocalError',\n",
       " 'UnicodeDecodeError',\n",
       " 'UnicodeEncodeError',\n",
       " 'UnicodeError',\n",
       " 'UnicodeTranslateError',\n",
       " 'UnicodeWarning',\n",
       " 'UserWarning',\n",
       " 'ValueError',\n",
       " 'Warning',\n",
       " 'WindowsError',\n",
       " 'ZeroDivisionError',\n",
       " '__IPYTHON__',\n",
       " '__build_class__',\n",
       " '__debug__',\n",
       " '__doc__',\n",
       " '__import__',\n",
       " '__loader__',\n",
       " '__name__',\n",
       " '__package__',\n",
       " '__spec__',\n",
       " 'abs',\n",
       " 'all',\n",
       " 'any',\n",
       " 'ascii',\n",
       " 'bin',\n",
       " 'bool',\n",
       " 'breakpoint',\n",
       " 'bytearray',\n",
       " 'bytes',\n",
       " 'callable',\n",
       " 'chr',\n",
       " 'classmethod',\n",
       " 'compile',\n",
       " 'complex',\n",
       " 'copyright',\n",
       " 'credits',\n",
       " 'delattr',\n",
       " 'dict',\n",
       " 'dir',\n",
       " 'display',\n",
       " 'divmod',\n",
       " 'enumerate',\n",
       " 'eval',\n",
       " 'exec',\n",
       " 'filter',\n",
       " 'float',\n",
       " 'format',\n",
       " 'frozenset',\n",
       " 'get_ipython',\n",
       " 'getattr',\n",
       " 'globals',\n",
       " 'hasattr',\n",
       " 'hash',\n",
       " 'help',\n",
       " 'hex',\n",
       " 'id',\n",
       " 'input',\n",
       " 'int',\n",
       " 'isinstance',\n",
       " 'issubclass',\n",
       " 'iter',\n",
       " 'len',\n",
       " 'license',\n",
       " 'list',\n",
       " 'locals',\n",
       " 'map',\n",
       " 'max',\n",
       " 'memoryview',\n",
       " 'min',\n",
       " 'next',\n",
       " 'object',\n",
       " 'oct',\n",
       " 'open',\n",
       " 'ord',\n",
       " 'pow',\n",
       " 'print',\n",
       " 'property',\n",
       " 'range',\n",
       " 'repr',\n",
       " 'reversed',\n",
       " 'round',\n",
       " 'set',\n",
       " 'setattr',\n",
       " 'slice',\n",
       " 'sorted',\n",
       " 'staticmethod',\n",
       " 'str',\n",
       " 'sum',\n",
       " 'super',\n",
       " 'tuple',\n",
       " 'type',\n",
       " 'vars',\n",
       " 'zip']"
      ]
     },
     "execution_count": 55,
     "metadata": {},
     "output_type": "execute_result"
    }
   ],
   "source": [
    "import builtins\n",
    "dir(builtins)"
   ]
  },
  {
   "cell_type": "code",
   "execution_count": null,
   "metadata": {},
   "outputs": [],
   "source": []
  }
 ],
 "metadata": {
  "kernelspec": {
   "display_name": "Python 3",
   "language": "python",
   "name": "python3"
  },
  "language_info": {
   "codemirror_mode": {
    "name": "ipython",
    "version": 3
   },
   "file_extension": ".py",
   "mimetype": "text/x-python",
   "name": "python",
   "nbconvert_exporter": "python",
   "pygments_lexer": "ipython3",
   "version": "3.8.5"
  }
 },
 "nbformat": 4,
 "nbformat_minor": 4
}
