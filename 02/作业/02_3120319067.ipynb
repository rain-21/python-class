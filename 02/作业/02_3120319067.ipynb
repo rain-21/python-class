{
 "cells": [
  {
   "cell_type": "code",
   "execution_count": 5,
   "metadata": {},
   "outputs": [
    {
     "name": "stdin",
     "output_type": "stream",
     "text": [
      "输入智商值： 120\n"
     ]
    },
    {
     "name": "stdout",
     "output_type": "stream",
     "text": [
      "智力较高\n"
     ]
    }
   ],
   "source": [
    "score = int(input('输入智商值：'))\n",
    "if score < 80:\n",
    "  print('智力低下')\n",
    "if score >= 80 and score < 110:\n",
    "  print('普通智力')\n",
    "if score >= 110 and score < 140:\n",
    "  print('智力较高')\n",
    "if score >= 140:\n",
    "  print('天才')"
   ]
  },
  {
   "cell_type": "code",
   "execution_count": null,
   "metadata": {},
   "outputs": [],
   "source": []
  },
  {
   "cell_type": "code",
   "execution_count": 97,
   "metadata": {},
   "outputs": [
    {
     "name": "stdout",
     "output_type": "stream",
     "text": [
      "F\n"
     ]
    }
   ],
   "source": [
    "skill = '1'\n",
    "if skill == '2':\n",
    "  print('T')\n",
    "else:\n",
    "  print('F')"
   ]
  },
  {
   "cell_type": "code",
   "execution_count": 7,
   "metadata": {},
   "outputs": [
    {
     "name": "stdout",
     "output_type": "stream",
     "text": [
      "超速\n"
     ]
    }
   ],
   "source": [
    "speed = 100\n",
    "if speed > 60:\n",
    "  print('超速')\n",
    "else:\n",
    "  print('车速正常')"
   ]
  },
  {
   "cell_type": "code",
   "execution_count": 6,
   "metadata": {},
   "outputs": [
    {
     "data": {
      "text/plain": [
       "'D:\\\\Users\\\\dell\\\\anaconda3\\\\python.exe'"
      ]
     },
     "execution_count": 6,
     "metadata": {},
     "output_type": "execute_result"
    }
   ],
   "source": [
    "import sys\n",
    "sys.executable#查看python运行位置"
   ]
  },
  {
   "cell_type": "code",
   "execution_count": 7,
   "metadata": {},
   "outputs": [
    {
     "data": {
      "text/plain": [
       "['D:\\\\Users\\\\dell\\\\anaconda3\\\\lib\\\\site-packages\\\\ipykernel_launcher.py',\n",
       " '-f',\n",
       " 'C:\\\\Users\\\\dell\\\\AppData\\\\Roaming\\\\jupyter\\\\runtime\\\\kernel-4f3cdeb5-71ba-4d1d-8368-6bfbbef55914.json']"
      ]
     },
     "execution_count": 7,
     "metadata": {},
     "output_type": "execute_result"
    }
   ],
   "source": [
    "sys.argv#python命令参数"
   ]
  },
  {
   "cell_type": "code",
   "execution_count": 13,
   "metadata": {},
   "outputs": [],
   "source": [
    "def say(words):\n",
    "    print(f'小明说: {words}')"
   ]
  },
  {
   "cell_type": "code",
   "execution_count": 14,
   "metadata": {},
   "outputs": [
    {
     "name": "stdout",
     "output_type": "stream",
     "text": [
      "小明说: Hello!\n"
     ]
    }
   ],
   "source": [
    "say(\"Hello!\")"
   ]
  },
  {
   "cell_type": "code",
   "execution_count": 15,
   "metadata": {},
   "outputs": [
    {
     "name": "stdout",
     "output_type": "stream",
     "text": [
      "小明说: Hello Word!\n"
     ]
    }
   ],
   "source": [
    "a=\"Hello Word!\"\n",
    "say(a)"
   ]
  },
  {
   "cell_type": "code",
   "execution_count": 36,
   "metadata": {},
   "outputs": [
    {
     "name": "stdout",
     "output_type": "stream",
     "text": [
      "arg1: Zed, arg2: Shaw\n"
     ]
    }
   ],
   "source": [
    "def print_two(*args):\n",
    "    arg1, arg2=args\n",
    "    print(f\"arg1: {arg1}, arg2: {arg2}\")\n",
    "\n",
    "print_two(\"Zed\",\"Shaw\")"
   ]
  },
  {
   "cell_type": "code",
   "execution_count": 37,
   "metadata": {},
   "outputs": [
    {
     "name": "stdout",
     "output_type": "stream",
     "text": [
      "arg1: 1, arg2: 2\n"
     ]
    }
   ],
   "source": [
    "def print_two_again(arg1,arg2):\n",
    "    print(f\"arg1: {arg1}, arg2: {arg2}\")\n",
    "print_two_again(1,2)"
   ]
  },
  {
   "cell_type": "code",
   "execution_count": 38,
   "metadata": {},
   "outputs": [
    {
     "name": "stdout",
     "output_type": "stream",
     "text": [
      "arg1: 1, arg2: 2\n"
     ]
    }
   ],
   "source": [
    "print_two_again(\"1\",\"2\")"
   ]
  },
  {
   "cell_type": "code",
   "execution_count": 46,
   "metadata": {},
   "outputs": [
    {
     "name": "stdout",
     "output_type": "stream",
     "text": [
      "Here's your file sample.txt:\n",
      "\n"
     ]
    }
   ],
   "source": [
    "filename = 'sample.txt'\n",
    "txt = open(filename)\n",
    "\n",
    "print(f\"Here's your file {filename}:\")\n",
    "print(txt.read())\n",
    "txt.close()#打开一定要关闭"
   ]
  },
  {
   "cell_type": "code",
   "execution_count": 8,
   "metadata": {},
   "outputs": [
    {
     "name": "stdout",
     "output_type": "stream",
     "text": [
      "201\n",
      "10\n"
     ]
    }
   ],
   "source": [
    "num=10\n",
    "def test(num):\n",
    "    num=200\n",
    "    num+=1\n",
    "    print(num)\n",
    "test(num)\n",
    "print(num)"
   ]
  },
  {
   "cell_type": "code",
   "execution_count": 31,
   "metadata": {},
   "outputs": [
    {
     "ename": "ImportError",
     "evalue": "attempted relative import with no known parent package",
     "output_type": "error",
     "traceback": [
      "\u001b[1;31m---------------------------------------------------------------------------\u001b[0m",
      "\u001b[1;31mImportError\u001b[0m                               Traceback (most recent call last)",
      "\u001b[1;32m<ipython-input-31-c1e69fe85f1e>\u001b[0m in \u001b[0;36m<module>\u001b[1;34m\u001b[0m\n\u001b[0;32m      3\u001b[0m \u001b[1;32mimport\u001b[0m \u001b[0mmatplotlib\u001b[0m\u001b[1;33m.\u001b[0m\u001b[0mpyplot\u001b[0m \u001b[1;32mas\u001b[0m \u001b[0mplt\u001b[0m\u001b[1;33m\u001b[0m\u001b[1;33m\u001b[0m\u001b[0m\n\u001b[0;32m      4\u001b[0m \u001b[1;32mimport\u001b[0m \u001b[0mnumpy\u001b[0m \u001b[1;32mas\u001b[0m \u001b[0mnp\u001b[0m\u001b[1;33m\u001b[0m\u001b[1;33m\u001b[0m\u001b[0m\n\u001b[1;32m----> 5\u001b[1;33m \u001b[1;32mfrom\u001b[0m \u001b[0mwordcloud\u001b[0m \u001b[1;32mimport\u001b[0m \u001b[0mWordCloud\u001b[0m\u001b[1;33m,\u001b[0m \u001b[0mSTOPWORDS\u001b[0m\u001b[1;33m,\u001b[0m \u001b[0mImageColorGenerator\u001b[0m\u001b[1;33m\u001b[0m\u001b[1;33m\u001b[0m\u001b[0m\n\u001b[0m\u001b[0;32m      6\u001b[0m \u001b[1;32mfrom\u001b[0m \u001b[0mPIL\u001b[0m \u001b[1;32mimport\u001b[0m \u001b[0mImage\u001b[0m\u001b[1;33m\u001b[0m\u001b[1;33m\u001b[0m\u001b[0m\n\u001b[0;32m      7\u001b[0m \u001b[1;32mfrom\u001b[0m \u001b[0mio\u001b[0m \u001b[1;32mimport\u001b[0m \u001b[0mBytesIO\u001b[0m\u001b[1;33m\u001b[0m\u001b[1;33m\u001b[0m\u001b[0m\n",
      "\u001b[1;32m~\\wordcloud.py\u001b[0m in \u001b[0;36m<module>\u001b[1;34m\u001b[0m\n\u001b[0;32m     28\u001b[0m \u001b[1;32mfrom\u001b[0m \u001b[0mPIL\u001b[0m \u001b[1;32mimport\u001b[0m \u001b[0mImageFont\u001b[0m\u001b[1;33m\u001b[0m\u001b[1;33m\u001b[0m\u001b[0m\n\u001b[0;32m     29\u001b[0m \u001b[1;33m\u001b[0m\u001b[0m\n\u001b[1;32m---> 30\u001b[1;33m \u001b[1;32mfrom\u001b[0m \u001b[1;33m.\u001b[0m\u001b[0mquery_integral_image\u001b[0m \u001b[1;32mimport\u001b[0m \u001b[0mquery_integral_image\u001b[0m\u001b[1;33m\u001b[0m\u001b[1;33m\u001b[0m\u001b[0m\n\u001b[0m\u001b[0;32m     31\u001b[0m \u001b[1;32mfrom\u001b[0m \u001b[1;33m.\u001b[0m\u001b[0mtokenization\u001b[0m \u001b[1;32mimport\u001b[0m \u001b[0munigrams_and_bigrams\u001b[0m\u001b[1;33m,\u001b[0m \u001b[0mprocess_tokens\u001b[0m\u001b[1;33m\u001b[0m\u001b[1;33m\u001b[0m\u001b[0m\n\u001b[0;32m     32\u001b[0m \u001b[1;33m\u001b[0m\u001b[0m\n",
      "\u001b[1;31mImportError\u001b[0m: attempted relative import with no known parent package"
     ]
    }
   ],
   "source": [
    "# -*- encoding:utf-8 -*-\n",
    "import requests\n",
    "import matplotlib.pyplot as plt\n",
    "import numpy as np\n",
    "from wordcloud import WordCloud, STOPWORDS, ImageColorGenerator\n",
    "from PIL import Image\n",
    "from io import BytesIO\n",
    "from words import seg_list\n",
    "\n",
    "img_src = 'https://media-image1.baydn.com/storage_media_image/uyacwn/80bb5a6bc052b8f235aeca8d989d3f51.3999985708845840269f5099694ae67b.webp'\n",
    "background_image = requests.get(img_src)\n",
    "\n",
    "back_coloring = np.array(Image.open(BytesIO(background_image.content)))\n",
    "\n",
    "word_list = [\n",
    "    '还是', '一个', '自己', '不知道', '什么', '就是', '一遍', '一天', '时候', '没有', '真是', '电影',\n",
    "    '觉得', '其实', '原来', '应该', '可是', '现在', '那个', '这个', '那么'\n",
    "]\n",
    "\n",
    "stopwords = set(STOPWORDS)\n",
    "for word in word_list:\n",
    "    stopwords.add(word)\n",
    "\n",
    "word_cloud = WordCloud(font_path='/usr/share/fonts/opentype/NotoSansCJK-Regular.ttc',\n",
    "                       background_color='white',\n",
    "                       max_words=70,\n",
    "                       mask=back_coloring,\n",
    "                       stopwords=stopwords,\n",
    "                       margin=10)\n",
    "word_cloud.generate(seg_list)\n",
    "\n",
    "image_colors = ImageColorGenerator(back_coloring)\n",
    "plt.figure(dpi=160)\n",
    "plt.imshow(word_cloud.recolor(color_func=image_colors))\n",
    "plt.axis(\"off\")\n",
    "plt.show()\n",
    "word_cloud.to_file(\"词云图片.jpg\")\n",
    "print('点击【词云图片】就可以看到词云')"
   ]
  },
  {
   "cell_type": "code",
   "execution_count": 14,
   "metadata": {},
   "outputs": [
    {
     "name": "stdout",
     "output_type": "stream",
     "text": [
      "7\n",
      "7\n"
     ]
    }
   ],
   "source": [
    "def f(x):\n",
    "    y=2*x+1\n",
    "    return y\n",
    "result=f(3)\n",
    "print(result)\n",
    "print(f(3))"
   ]
  },
  {
   "cell_type": "code",
   "execution_count": 15,
   "metadata": {},
   "outputs": [
    {
     "name": "stdout",
     "output_type": "stream",
     "text": [
      "7\n"
     ]
    }
   ],
   "source": [
    "def f(x):\n",
    "  y = 2 * x + 1\n",
    "  print(y)\n",
    "f(3)"
   ]
  },
  {
   "cell_type": "code",
   "execution_count": 16,
   "metadata": {},
   "outputs": [
    {
     "name": "stdout",
     "output_type": "stream",
     "text": [
      "23\n"
     ]
    }
   ],
   "source": [
    "def calc_age(x):\n",
    "  y=2020-x\n",
    "  return y\n",
    "print(calc_age(1997))"
   ]
  },
  {
   "cell_type": "code",
   "execution_count": 17,
   "metadata": {},
   "outputs": [
    {
     "name": "stdout",
     "output_type": "stream",
     "text": [
      "你好,wang\n"
     ]
    }
   ],
   "source": [
    "def say_hello(name):\n",
    "  greetings = '你好,'\n",
    "  print(greetings + name)\n",
    "\n",
    "# 不用再 print 了，因为函数里用了 print 函数\n",
    "say_hello('wang')"
   ]
  },
  {
   "cell_type": "code",
   "execution_count": 3,
   "metadata": {},
   "outputs": [
    {
     "name": "stdout",
     "output_type": "stream",
     "text": [
      "姓名： wang\n",
      "年龄： 22\n",
      "身高： 176 cm\n",
      "体重： 75 kg\n",
      "姓名： zhang\n",
      "年龄： 21\n",
      "身高： 168 cm\n",
      "体重： 50 kg\n",
      "姓名： zhang\n",
      "年龄： 21\n",
      "身高： 168 cm\n",
      "体重： 50 kg\n"
     ]
    }
   ],
   "source": [
    "def record(name, age, height, weight):\n",
    "  print('姓名：', name)\n",
    "  print('年龄：', age)\n",
    "  print('身高：', height, 'cm')\n",
    "  print('体重：', weight, 'kg')\n",
    "\n",
    "record('wang', 22, 176, 75)\n",
    "record('zhang', 21, 168, 50)#位置参数\n",
    "record(age=21, weight=50, name='zhang', height=168)#关键字参数"
   ]
  },
  {
   "cell_type": "code",
   "execution_count": 4,
   "metadata": {},
   "outputs": [
    {
     "name": "stdout",
     "output_type": "stream",
     "text": [
      "姓名： wang\n",
      "年龄： 22\n",
      "身高： 176 cm\n",
      "体重： 75 kg\n",
      "姓名： zhang\n",
      "年龄： 21\n",
      "身高： 168 cm\n",
      "体重： 50 kg\n",
      "姓名： zhang\n",
      "年龄： 22\n",
      "身高： 168 cm\n",
      "体重： 50 kg\n"
     ]
    }
   ],
   "source": [
    "def record(name,  height, weight,age=22):#含有默认参数，默认参数要在非默认参数后面\n",
    "  print('姓名：', name)\n",
    "  print('年龄：', age)\n",
    "  print('身高：', height, 'cm')\n",
    "  print('体重：', weight, 'kg')\n",
    "\n",
    "record('wang', 176, 75)\n",
    "record('zhang', 168, 50,21)#位置参数\n",
    "record(weight=50, name='zhang', height=168)#关键字参数"
   ]
  },
  {
   "cell_type": "code",
   "execution_count": 64,
   "metadata": {},
   "outputs": [
    {
     "name": "stdout",
     "output_type": "stream",
     "text": [
      "1\n",
      "姓名： wang\n",
      "年龄： 22\n",
      "身高： 176 cm\n",
      "体重： 75 kg\n",
      "1\n",
      "姓名： zhang\n",
      "年龄： 21\n",
      "身高： 168 cm\n",
      "体重： 50 kg\n",
      "1\n"
     ]
    }
   ],
   "source": [
    "def record(name,  height, weight,age=22):#含有默认参数，默认参数要在非默认参数后面\n",
    "  global class_name#设置class_name为全局变量\n",
    "  class_name=1\n",
    "  print(class_name)\n",
    "  print('姓名：', name)\n",
    "  print('年龄：', age)\n",
    "  print('身高：', height, 'cm')\n",
    "  print('体重：', weight, 'kg')\n",
    "\n",
    "record('wang', 176, 75)\n",
    "record('zhang', 168, 50,21)#位置参数\n",
    "print(class_name)\n",
    "#如果局部变量和全局变量名称相同，那函数内部会优先访问局部变量，外部只会访问全局变量。"
   ]
  },
  {
   "cell_type": "code",
   "execution_count": 24,
   "metadata": {},
   "outputs": [
    {
     "name": "stdout",
     "output_type": "stream",
     "text": [
      "42000\n"
     ]
    }
   ],
   "source": [
    "def calc_rent(n, rent):\n",
    "  total_rent = n * rent\n",
    "  return total_rent\n",
    "calc_rent(12, 3500)\n",
    "print(total_rent)"
   ]
  },
  {
   "cell_type": "code",
   "execution_count": 25,
   "metadata": {},
   "outputs": [
    {
     "name": "stdout",
     "output_type": "stream",
     "text": [
      "42000\n"
     ]
    }
   ],
   "source": [
    "def calc_rent(n, rent):\n",
    "  total_rent = n * rent\n",
    "  return total_rent\n",
    "print(calc_rent(12, 3500))"
   ]
  },
  {
   "cell_type": "code",
   "execution_count": 26,
   "metadata": {},
   "outputs": [
    {
     "name": "stdout",
     "output_type": "stream",
     "text": [
      "42000\n"
     ]
    }
   ],
   "source": [
    "total_rent=0\n",
    "def calc_rent(n, rent):\n",
    "    global total_rent\n",
    "    total_rent = n * rent\n",
    "calc_rent(12,3500)\n",
    "print(total_rent)"
   ]
  },
  {
   "cell_type": "code",
   "execution_count": 27,
   "metadata": {},
   "outputs": [
    {
     "name": "stdout",
     "output_type": "stream",
     "text": [
      "(16, 9)\n"
     ]
    }
   ],
   "source": [
    "def clac_square(x, y):\n",
    "  return y ** 2, x ** 2\n",
    "\n",
    "print(clac_square(3, 4))"
   ]
  },
  {
   "cell_type": "code",
   "execution_count": 28,
   "metadata": {},
   "outputs": [
    {
     "name": "stdout",
     "output_type": "stream",
     "text": [
      "5\n"
     ]
    }
   ],
   "source": [
    "a = 5\n",
    "def func():\n",
    "  a = 3\n",
    "print(a)\n",
    "\n",
    "func()"
   ]
  },
  {
   "cell_type": "code",
   "execution_count": 31,
   "metadata": {},
   "outputs": [
    {
     "name": "stdout",
     "output_type": "stream",
     "text": [
      "a\n"
     ]
    }
   ],
   "source": [
    "def func():\n",
    "  print(\"a\")\n",
    "func()"
   ]
  },
  {
   "cell_type": "code",
   "execution_count": 56,
   "metadata": {},
   "outputs": [
    {
     "data": {
      "text/plain": [
       "'2'"
      ]
     },
     "execution_count": 56,
     "metadata": {},
     "output_type": "execute_result"
    }
   ],
   "source": [
    "value = '1'\n",
    "\n",
    "def func():\n",
    "  global value\n",
    "  value = '2'\n",
    "  return value\n",
    "func()"
   ]
  },
  {
   "cell_type": "code",
   "execution_count": 57,
   "metadata": {},
   "outputs": [
    {
     "name": "stdout",
     "output_type": "stream",
     "text": [
      "1\n"
     ]
    }
   ],
   "source": [
    "value = '1'\n",
    "\n",
    "def func():\n",
    "  global value\n",
    "  value = '2'\n",
    "  return value\n",
    "print(value)#没有运行func"
   ]
  },
  {
   "cell_type": "code",
   "execution_count": 58,
   "metadata": {},
   "outputs": [
    {
     "name": "stdout",
     "output_type": "stream",
     "text": [
      "1\n"
     ]
    }
   ],
   "source": [
    "value = '1'\n",
    "\n",
    "def func():\n",
    "  global value\n",
    "  value = '2'\n",
    "print(value)#没有运行func"
   ]
  },
  {
   "cell_type": "code",
   "execution_count": 63,
   "metadata": {},
   "outputs": [
    {
     "name": "stdout",
     "output_type": "stream",
     "text": [
      "2\n"
     ]
    }
   ],
   "source": [
    "value = '1'\n",
    "\n",
    "def func():\n",
    "  global value\n",
    "  value = '2'\n",
    "\n",
    "func()\n",
    "print(value)"
   ]
  },
  {
   "cell_type": "code",
   "execution_count": 70,
   "metadata": {},
   "outputs": [
    {
     "name": "stdout",
     "output_type": "stream",
     "text": [
      "2\n"
     ]
    }
   ],
   "source": [
    "counter = 1\n",
    "\n",
    "def func():\n",
    "  global counter\n",
    "  if counter > 0:\n",
    "    counter = counter + 1\n",
    "\n",
    "func()\n",
    "print(counter)"
   ]
  },
  {
   "cell_type": "code",
   "execution_count": 84,
   "metadata": {},
   "outputs": [
    {
     "data": {
      "text/plain": [
       "2"
      ]
     },
     "execution_count": 84,
     "metadata": {},
     "output_type": "execute_result"
    }
   ],
   "source": [
    "counter = 1\n",
    "\n",
    "def func(con):\n",
    "  if counter > 0:\n",
    "    con = counter + 1\n",
    "    return con\n",
    "func(con=1)"
   ]
  },
  {
   "cell_type": "code",
   "execution_count": 86,
   "metadata": {},
   "outputs": [
    {
     "data": {
      "text/plain": [
       "2"
      ]
     },
     "execution_count": 86,
     "metadata": {},
     "output_type": "execute_result"
    }
   ],
   "source": [
    "counter = 1\n",
    "\n",
    "def func(con):\n",
    "  if counter > 0:\n",
    "    con = counter + 1\n",
    "    return con\n",
    "func(con=3)"
   ]
  },
  {
   "cell_type": "code",
   "execution_count": 73,
   "metadata": {},
   "outputs": [
    {
     "name": "stdout",
     "output_type": "stream",
     "text": [
      "2\n"
     ]
    }
   ],
   "source": [
    "counter = 1\n",
    "\n",
    "def func():\n",
    "  global counter\n",
    "  if counter > 0:\n",
    "    counter = counter + 1\n",
    "\n",
    "func()\n",
    "print(counter)"
   ]
  },
  {
   "cell_type": "code",
   "execution_count": 100,
   "metadata": {},
   "outputs": [
    {
     "data": {
      "text/plain": [
       "2"
      ]
     },
     "execution_count": 100,
     "metadata": {},
     "output_type": "execute_result"
    }
   ],
   "source": [
    "def test(x):  \n",
    "    if x==1:\n",
    "        val = 2  \n",
    "    else:  \n",
    "        print('Error') \n",
    "    return val\n",
    "test(x=1)"
   ]
  },
  {
   "cell_type": "code",
   "execution_count": 101,
   "metadata": {},
   "outputs": [
    {
     "name": "stdout",
     "output_type": "stream",
     "text": [
      "Error\n"
     ]
    }
   ],
   "source": [
    "def test(x):  \n",
    "    if x==1:\n",
    "        val = 2  \n",
    "    else:  \n",
    "        print('Error') \n",
    "test(x=2)"
   ]
  },
  {
   "cell_type": "code",
   "execution_count": 1,
   "metadata": {},
   "outputs": [
    {
     "name": "stdout",
     "output_type": "stream",
     "text": [
      "5319.430273915713\n"
     ]
    }
   ],
   "source": [
    "#等额本息还款法计算每月应还款总额\n",
    "def calc_loan(p,n,r):\n",
    "  x1=r*(1+r)**n\n",
    "  x2=(1+r)**n-1\n",
    "  return p*x1/x2\n",
    "  \n",
    "print(calc_loan(1000000,360,0.0041))"
   ]
  },
  {
   "cell_type": "code",
   "execution_count": 4,
   "metadata": {},
   "outputs": [
    {
     "ename": "TypeError",
     "evalue": "unsupported operand type(s) for /: 'list' and 'list'",
     "output_type": "error",
     "traceback": [
      "\u001b[1;31m---------------------------------------------------------------------------\u001b[0m",
      "\u001b[1;31mTypeError\u001b[0m                                 Traceback (most recent call last)",
      "\u001b[1;32m<ipython-input-4-833e91f33ff0>\u001b[0m in \u001b[0;36m<module>\u001b[1;34m\u001b[0m\n\u001b[0;32m      3\u001b[0m   \u001b[1;32mreturn\u001b[0m \u001b[0mx\u001b[0m\u001b[1;33m\u001b[0m\u001b[1;33m\u001b[0m\u001b[0m\n\u001b[0;32m      4\u001b[0m \u001b[1;33m\u001b[0m\u001b[0m\n\u001b[1;32m----> 5\u001b[1;33m \u001b[0mprint\u001b[0m\u001b[1;33m(\u001b[0m\u001b[0mcalc_loan\u001b[0m\u001b[1;33m(\u001b[0m\u001b[1;36m1000000\u001b[0m\u001b[1;33m,\u001b[0m\u001b[1;36m360\u001b[0m\u001b[1;33m,\u001b[0m\u001b[1;36m0.0041\u001b[0m\u001b[1;33m)\u001b[0m\u001b[1;33m)\u001b[0m\u001b[1;33m\u001b[0m\u001b[1;33m\u001b[0m\u001b[0m\n\u001b[0m",
      "\u001b[1;32m<ipython-input-4-833e91f33ff0>\u001b[0m in \u001b[0;36mcalc_loan\u001b[1;34m(p, n, r)\u001b[0m\n\u001b[0;32m      1\u001b[0m \u001b[1;32mdef\u001b[0m \u001b[0mcalc_loan\u001b[0m\u001b[1;33m(\u001b[0m\u001b[0mp\u001b[0m\u001b[1;33m,\u001b[0m\u001b[0mn\u001b[0m\u001b[1;33m,\u001b[0m\u001b[0mr\u001b[0m\u001b[1;33m)\u001b[0m\u001b[1;33m:\u001b[0m\u001b[1;33m\u001b[0m\u001b[1;33m\u001b[0m\u001b[0m\n\u001b[1;32m----> 2\u001b[1;33m   \u001b[0mx\u001b[0m\u001b[1;33m=\u001b[0m\u001b[0mp\u001b[0m\u001b[1;33m*\u001b[0m\u001b[1;33m{\u001b[0m\u001b[1;33m[\u001b[0m\u001b[0mr\u001b[0m\u001b[1;33m*\u001b[0m\u001b[1;33m(\u001b[0m\u001b[1;36m1\u001b[0m\u001b[1;33m+\u001b[0m\u001b[0mr\u001b[0m\u001b[1;33m)\u001b[0m\u001b[1;33m**\u001b[0m\u001b[0mn\u001b[0m\u001b[1;33m]\u001b[0m\u001b[1;33m/\u001b[0m\u001b[1;33m[\u001b[0m\u001b[1;33m(\u001b[0m\u001b[1;36m1\u001b[0m\u001b[1;33m+\u001b[0m\u001b[0mr\u001b[0m\u001b[1;33m)\u001b[0m\u001b[1;33m**\u001b[0m\u001b[0mn\u001b[0m\u001b[1;33m-\u001b[0m\u001b[1;36m1\u001b[0m\u001b[1;33m]\u001b[0m\u001b[1;33m}\u001b[0m\u001b[1;33m\u001b[0m\u001b[1;33m\u001b[0m\u001b[0m\n\u001b[0m\u001b[0;32m      3\u001b[0m   \u001b[1;32mreturn\u001b[0m \u001b[0mx\u001b[0m\u001b[1;33m\u001b[0m\u001b[1;33m\u001b[0m\u001b[0m\n\u001b[0;32m      4\u001b[0m \u001b[1;33m\u001b[0m\u001b[0m\n\u001b[0;32m      5\u001b[0m \u001b[0mprint\u001b[0m\u001b[1;33m(\u001b[0m\u001b[0mcalc_loan\u001b[0m\u001b[1;33m(\u001b[0m\u001b[1;36m1000000\u001b[0m\u001b[1;33m,\u001b[0m\u001b[1;36m360\u001b[0m\u001b[1;33m,\u001b[0m\u001b[1;36m0.0041\u001b[0m\u001b[1;33m)\u001b[0m\u001b[1;33m)\u001b[0m\u001b[1;33m\u001b[0m\u001b[1;33m\u001b[0m\u001b[0m\n",
      "\u001b[1;31mTypeError\u001b[0m: unsupported operand type(s) for /: 'list' and 'list'"
     ]
    }
   ],
   "source": [
    "def calc_loan(p,n,r):\n",
    "  x=p*{[r*(1+r)**n]/[(1+r)**n-1]}#不能用分数？？？\n",
    "  return x\n",
    "  \n",
    "print(calc_loan(1000000,360,0.0041))"
   ]
  },
  {
   "cell_type": "code",
   "execution_count": 10,
   "metadata": {},
   "outputs": [
    {
     "name": "stdout",
     "output_type": "stream",
     "text": [
      "False\n"
     ]
    }
   ],
   "source": [
    "data=0\n",
    "if data:\n",
    "    print(data)\n",
    "else:\n",
    "    print(bool(data))"
   ]
  },
  {
   "cell_type": "code",
   "execution_count": 11,
   "metadata": {},
   "outputs": [
    {
     "name": "stdout",
     "output_type": "stream",
     "text": [
      "1\n"
     ]
    }
   ],
   "source": [
    "data=1\n",
    "if data:\n",
    "    print(data)\n",
    "else:\n",
    "    print(bool(data))"
   ]
  },
  {
   "cell_type": "code",
   "execution_count": 30,
   "metadata": {},
   "outputs": [
    {
     "name": "stdin",
     "output_type": "stream",
     "text": [
      "输入: 2\n"
     ]
    },
    {
     "name": "stdout",
     "output_type": "stream",
     "text": [
      "2\n"
     ]
    }
   ],
   "source": [
    "def check_growth(growth):\n",
    "  if growth:\n",
    "    print(growth)\n",
    "  else:\n",
    "    print('没有输入')\n",
    "input_growth=input('输入:')\n",
    "check_growth(input_growth)"
   ]
  },
  {
   "cell_type": "code",
   "execution_count": 10,
   "metadata": {},
   "outputs": [
    {
     "name": "stdin",
     "output_type": "stream",
     "text": [
      "输入： 20\n"
     ]
    },
    {
     "name": "stdout",
     "output_type": "stream",
     "text": [
      "0\n"
     ]
    }
   ],
   "source": [
    "score = int(input('输入：'))\n",
    "\n",
    "if score >= 80:\n",
    "    print(score*score)\n",
    "elif score >= 60:\n",
    "    print(score**2)\n",
    "else:\n",
    "    print(0)#按照if elif else顺序依此判断"
   ]
  },
  {
   "cell_type": "code",
   "execution_count": 12,
   "metadata": {},
   "outputs": [
    {
     "name": "stdin",
     "output_type": "stream",
     "text": [
      "输入： 100\n"
     ]
    },
    {
     "name": "stdout",
     "output_type": "stream",
     "text": [
      "1\n"
     ]
    }
   ],
   "source": [
    "def choose_destination(fuel):\n",
    "  a=100*(fuel/8)\n",
    "  if a>=472:\n",
    "    print('1')\n",
    "  elif a>=435:\n",
    "    print('2')\n",
    "  elif a>=175:\n",
    "    print('3')\n",
    "  else:\n",
    "    print('4')\n",
    "fuel=int(input('输入：'))\n",
    "choose_destination(fuel)"
   ]
  },
  {
   "cell_type": "code",
   "execution_count": 17,
   "metadata": {},
   "outputs": [
    {
     "name": "stdin",
     "output_type": "stream",
     "text": [
      "请输入身份：教师/访客/行政/学生/财务 教师\n"
     ]
    },
    {
     "name": "stdout",
     "output_type": "stream",
     "text": [
      "请通过\n"
     ]
    }
   ],
   "source": [
    "identity = input('请输入身份：教师/访客/行政/学生/财务')\n",
    "if not identity == '访客':\n",
    "  print('请通过')"
   ]
  },
  {
   "cell_type": "code",
   "execution_count": 20,
   "metadata": {},
   "outputs": [
    {
     "name": "stdout",
     "output_type": "stream",
     "text": [
      "True\n",
      "False\n",
      "True\n"
     ]
    }
   ],
   "source": [
    "print('He' in 'Hello world')\n",
    "\n",
    "print('x' in 'Hello world')\n",
    "\n",
    "print('x' not in 'Hello world')"
   ]
  },
  {
   "cell_type": "code",
   "execution_count": 21,
   "metadata": {},
   "outputs": [
    {
     "name": "stdout",
     "output_type": "stream",
     "text": [
      "4\n"
     ]
    }
   ],
   "source": [
    "x = 4\n",
    "x_abs = x if x >= 0 else -x\n",
    "print(x_abs)"
   ]
  },
  {
   "cell_type": "code",
   "execution_count": 25,
   "metadata": {},
   "outputs": [
    {
     "name": "stdin",
     "output_type": "stream",
     "text": [
      "输入： 26\n"
     ]
    },
    {
     "name": "stdout",
     "output_type": "stream",
     "text": [
      "26\n"
     ]
    }
   ],
   "source": [
    "num=int(input('输入：'))\n",
    "x=num\n",
    "x_abs=x if x>=0 else -x\n",
    "print(x_abs)"
   ]
  },
  {
   "cell_type": "code",
   "execution_count": 28,
   "metadata": {},
   "outputs": [
    {
     "name": "stdin",
     "output_type": "stream",
     "text": [
      "输入1： 2\n",
      "输入2： 6\n"
     ]
    },
    {
     "name": "stdout",
     "output_type": "stream",
     "text": [
      "6\n"
     ]
    }
   ],
   "source": [
    "score_1=int(input('输入1：'))\n",
    "score_2=int(input(\"输入2：\"))\n",
    "score_max=score_1 if score_1>score_2 else score_2\n",
    "print(score_max)"
   ]
  },
  {
   "cell_type": "code",
   "execution_count": 29,
   "metadata": {},
   "outputs": [
    {
     "name": "stdout",
     "output_type": "stream",
     "text": [
      "1\n"
     ]
    }
   ],
   "source": [
    "x=1\n",
    "y=2\n",
    "z=3\n",
    "min_1=z if y>z else y\n",
    "min=min_1 if min_1<x else x\n",
    "print(min)"
   ]
  },
  {
   "cell_type": "code",
   "execution_count": 30,
   "metadata": {},
   "outputs": [
    {
     "name": "stdout",
     "output_type": "stream",
     "text": [
      "a\n"
     ]
    }
   ],
   "source": [
    "prop=1\n",
    "SP = 1200\n",
    "if prop==1:\n",
    "  if SP>=1000:\n",
    "    print('a')\n",
    "  else:\n",
    "    print('b')\n",
    "else:\n",
    "  if SP>=1000:\n",
    "    print('c')\n",
    "  else:\n",
    "    print('d')"
   ]
  },
  {
   "cell_type": "code",
   "execution_count": 31,
   "metadata": {},
   "outputs": [
    {
     "name": "stdout",
     "output_type": "stream",
     "text": [
      "优惠八折\n"
     ]
    }
   ],
   "source": [
    "def discount(time, is_V):\n",
    "  if time>=9and time<=15:\n",
    "    if is_V==True:\n",
    "      print('优惠八折')\n",
    "    else:\n",
    "      print('优惠九折')\n",
    "  else:\n",
    "    print('没有优惠')\n",
    "discount(12, True)"
   ]
  },
  {
   "cell_type": "code",
   "execution_count": 32,
   "metadata": {},
   "outputs": [
    {
     "name": "stdout",
     "output_type": "stream",
     "text": [
      "True\n"
     ]
    }
   ],
   "source": [
    "word_1='panda'\n",
    "word_2='bear'\n",
    "\n",
    "answer='a' in word_1 and 'e' in word_2\n",
    "print(answer)"
   ]
  },
  {
   "cell_type": "code",
   "execution_count": 38,
   "metadata": {},
   "outputs": [
    {
     "name": "stdin",
     "output_type": "stream",
     "text": [
      "1 or 2: 1\n",
      "11 or 12: 11\n",
      "111 or 112: 111\n"
     ]
    },
    {
     "name": "stdout",
     "output_type": "stream",
     "text": [
      "c\n"
     ]
    }
   ],
   "source": [
    "ending_1 = 'a'\n",
    "ending_2 = 'b'\n",
    "ending_3 = 'c'\n",
    "ending_4 = 'd'\n",
    "\n",
    "answer_1 = input('1 or 2:')\n",
    "if answer_1=='1':\n",
    "  answer_2 = input('11 or 12:')\n",
    "  if answer_2=='11':\n",
    "    answer_3 = input('111 or 112:')\n",
    "    if answer_3=='111':\n",
    "      print(ending_3)\n",
    "    else:\n",
    "      print(ending_4)\n",
    "  else:\n",
    "    print(ending_2)\n",
    "else:\n",
    "  print(ending_1)\n",
    " "
   ]
  },
  {
   "cell_type": "code",
   "execution_count": null,
   "metadata": {},
   "outputs": [],
   "source": []
  }
 ],
 "metadata": {
  "kernelspec": {
   "display_name": "Python 3",
   "language": "python",
   "name": "python3"
  },
  "language_info": {
   "codemirror_mode": {
    "name": "ipython",
    "version": 3
   },
   "file_extension": ".py",
   "mimetype": "text/x-python",
   "name": "python",
   "nbconvert_exporter": "python",
   "pygments_lexer": "ipython3",
   "version": "3.8.3"
  }
 },
 "nbformat": 4,
 "nbformat_minor": 4
}
