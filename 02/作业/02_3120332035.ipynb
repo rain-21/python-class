{
 "cells": [
  {
   "cell_type": "code",
   "execution_count": 2,
   "metadata": {},
   "outputs": [
    {
     "data": {
      "text/plain": [
       "'D:\\\\Users\\\\Study\\\\anaconda3\\\\python.exe'"
      ]
     },
     "execution_count": 2,
     "metadata": {},
     "output_type": "execute_result"
    }
   ],
   "source": [
    "import sys\n",
    "sys.executable"
   ]
  },
  {
   "cell_type": "code",
   "execution_count": 3,
   "metadata": {},
   "outputs": [
    {
     "data": {
      "text/plain": [
       "['D:\\\\Users\\\\Study\\\\anaconda3\\\\lib\\\\site-packages\\\\ipykernel_launcher.py',\n",
       " '-f',\n",
       " 'C:\\\\Users\\\\Study\\\\AppData\\\\Roaming\\\\jupyter\\\\runtime\\\\kernel-20d893d2-fa62-4155-8b83-2c6b822a582c.json']"
      ]
     },
     "execution_count": 3,
     "metadata": {},
     "output_type": "execute_result"
    }
   ],
   "source": [
    "sys.argv"
   ]
  },
  {
   "cell_type": "code",
   "execution_count": 24,
   "metadata": {},
   "outputs": [],
   "source": [
    "def say(words):\n",
    "    print (f'小明说:{words}')"
   ]
  },
  {
   "cell_type": "code",
   "execution_count": 25,
   "metadata": {},
   "outputs": [
    {
     "name": "stdout",
     "output_type": "stream",
     "text": [
      "小明说:hello!\n"
     ]
    }
   ],
   "source": [
    "say('hello!')"
   ]
  },
  {
   "cell_type": "code",
   "execution_count": 26,
   "metadata": {},
   "outputs": [
    {
     "name": "stdout",
     "output_type": "stream",
     "text": [
      "arg1:zed,arg2:shaw\n",
      "arg1:zed,arg2:shaw\n",
      "arg1:first!\n",
      "i got nothin'.\n"
     ]
    }
   ],
   "source": [
    "def print_two(*args):\n",
    "    arg1,arg2=args\n",
    "    print(f\"arg1:{arg1},arg2:{arg2}\")\n",
    "    \n",
    "def print_two_again(arg1,arg2):\n",
    "    print(f\"arg1:{arg1},arg2:{arg2}\")\n",
    "    \n",
    "def print_one(arg1):\n",
    "    print(f\"arg1:{arg1}\")\n",
    "    \n",
    "def print_none():\n",
    "    print(\"i got nothin'.\")\n",
    "    \n",
    "print_two(\"zed\",\"shaw\")\n",
    "print_two_again(\"zed\",\"shaw\")\n",
    "print_one(\"first!\")\n",
    "print_none()"
   ]
  },
  {
   "cell_type": "code",
   "execution_count": 30,
   "metadata": {},
   "outputs": [
    {
     "name": "stdout",
     "output_type": "stream",
     "text": [
      "we can just give the function numbers directly:\n",
      "you have 20 cheese!\n",
      "you have 30 boxes of crackers!\n",
      "man that's enough for a party!\n",
      "get a blanket.\n",
      "\n",
      "or,we can use variables form our script：\n",
      "you have 10 cheese!\n",
      "you have 50 boxes of crackers!\n",
      "man that's enough for a party!\n",
      "get a blanket.\n",
      "\n",
      "we can even do math inside too:\n",
      "you have 30 cheese!\n",
      "you have 11 boxes of crackers!\n",
      "man that's enough for a party!\n",
      "get a blanket.\n",
      "\n",
      "and we can combine the two, variables and math:\n",
      "you have 110 cheese!\n",
      "you have 1050 boxes of crackers!\n",
      "man that's enough for a party!\n",
      "get a blanket.\n",
      "\n"
     ]
    }
   ],
   "source": [
    "def cheese_and_crackers(cheese_count,boxes_of_crackers):\n",
    "    print(f\"you have {cheese_count} cheese!\")\n",
    "    print(f\"you have {boxes_of_crackers} boxes of crackers!\")\n",
    "    print(\"man that's enough for a party!\")\n",
    "    print(\"get a blanket.\\n\")\n",
    "    \n",
    "print(\"we can just give the function numbers directly:\")\n",
    "cheese_and_crackers(20,30)\n",
    "\n",
    "print(\"or,we can use variables form our script：\")\n",
    "amount_of_cheese=10\n",
    "amount_of_crackers=50\n",
    "\n",
    "cheese_and_crackers(amount_of_cheese, amount_of_crackers)\n",
    "\n",
    "print(\"we can even do math inside too:\")\n",
    "cheese_and_crackers(10 + 20, 5 + 6)\n",
    "\n",
    "print(\"and we can combine the two, variables and math:\")\n",
    "cheese_and_crackers(amount_of_cheese + 100, amount_of_crackers + 1000)"
   ]
  },
  {
   "cell_type": "code",
   "execution_count": 33,
   "metadata": {},
   "outputs": [
    {
     "name": "stdout",
     "output_type": "stream",
     "text": [
      "here's your file sample.txt:\n",
      "Lily 签到！\n",
      "Lucy 签到！\n",
      "Han Meimei 签到！\n",
      "\n"
     ]
    }
   ],
   "source": [
    "filename='sample.txt'\n",
    "txt=open(filename,encoding='utf-8')\n",
    "\n",
    "print(f\"here's your file {filename}:\")\n",
    "print(txt.read())\n",
    "txt.close()"
   ]
  },
  {
   "cell_type": "code",
   "execution_count": 10,
   "metadata": {},
   "outputs": [],
   "source": [
    "def save_grade(name,grade):\n",
    "    grades=open('sample.txt','a')\n",
    "    grades.write(f'姓名:{name}\\t成绩:{grade}\\n')\n",
    "    grades.close()"
   ]
  },
  {
   "cell_type": "code",
   "execution_count": 36,
   "metadata": {},
   "outputs": [
    {
     "name": "stdin",
     "output_type": "stream",
     "text": [
      "请输入姓名: yu\n",
      "请输入成绩: 100\n"
     ]
    },
    {
     "name": "stdout",
     "output_type": "stream",
     "text": [
      "yu的成绩已保存。\n"
     ]
    },
    {
     "name": "stdin",
     "output_type": "stream",
     "text": [
      "是否继续输入(yes or no)? yes\n",
      "请输入姓名: li\n",
      "请输入成绩: 30\n"
     ]
    },
    {
     "name": "stdout",
     "output_type": "stream",
     "text": [
      "li的成绩已保存。\n"
     ]
    },
    {
     "name": "stdin",
     "output_type": "stream",
     "text": [
      "是否继续输入(yes or no)? no\n"
     ]
    }
   ],
   "source": [
    "while True:\n",
    "    name=input(\"请输入姓名:\")\n",
    "    grade=input(\"请输入成绩:\")\n",
    "    save_grade(name,grade)\n",
    "    print(f'{name}的成绩已保存。')\n",
    "    go_on=input('是否继续输入(yes or no)?')\n",
    "    n=0\n",
    "    if go_on=='yes':\n",
    "        continue\n",
    "    elif go_on=='no':\n",
    "        break\n",
    "    print('成绩输入结束。')"
   ]
  },
  {
   "cell_type": "code",
   "execution_count": 11,
   "metadata": {},
   "outputs": [
    {
     "name": "stdin",
     "output_type": "stream",
     "text": [
      "请输入姓名： xi\n",
      "请输入成绩： 100\n"
     ]
    },
    {
     "name": "stdout",
     "output_type": "stream",
     "text": [
      "xi的成绩已保存。\n"
     ]
    },
    {
     "name": "stdin",
     "output_type": "stream",
     "text": [
      "是否继续输入（yes or no）？ yes\n",
      "请输入姓名： xi\n",
      "请输入成绩： 100\n"
     ]
    },
    {
     "name": "stdout",
     "output_type": "stream",
     "text": [
      "xi的成绩已保存。\n"
     ]
    },
    {
     "name": "stdin",
     "output_type": "stream",
     "text": [
      "是否继续输入（yes or no）？ no\n"
     ]
    },
    {
     "name": "stdout",
     "output_type": "stream",
     "text": [
      "结束\n"
     ]
    }
   ],
   "source": [
    "while True:\n",
    "    name = input(\"请输入姓名：\")\n",
    "    grade = input('请输入成绩：')\n",
    "    save_grade(name, grade)\n",
    "    print(f'{name}的成绩已保存。')\n",
    "    go_on = input('是否继续输入（yes or no）？')\n",
    "    n=0\n",
    "    while n<2:\n",
    "        if go_on=='yes':\n",
    "            break\n",
    "            n=0\n",
    "        elif go_on=='no':\n",
    "            break\n",
    "        else:\n",
    "            n+=1\n",
    "            go_on=input(f'{n+1}指令无效，是否继续输入(yes or no)？')\n",
    "    if go_on=='no' or n==2:\n",
    "        print('结束')\n",
    "        break"
   ]
  },
  {
   "cell_type": "code",
   "execution_count": 14,
   "metadata": {},
   "outputs": [
    {
     "name": "stdout",
     "output_type": "stream",
     "text": [
      "this is count 1\n",
      "this is count 2\n",
      "this is count 3\n",
      "this is count 4\n",
      "this is count 5\n",
      "this is count 5\n",
      "this is count 5\n",
      "this is count 5\n",
      "this is count 5\n",
      "i got 1\n",
      "i got pennies\n",
      "i got 2\n",
      "i got dimes\n",
      "i got 3\n",
      "i got quarters\n",
      "adding 0 to the list.\n",
      "adding 1 to the list.\n",
      "adding 2 to the list.\n",
      "adding 3 to the list.\n",
      "adding 4 to the list.\n",
      "adding 5 to the list.\n",
      "Elements was:0\n",
      "Elements was:1\n",
      "Elements was:2\n",
      "Elements was:3\n",
      "Elements was:4\n",
      "Elements was:5\n"
     ]
    }
   ],
   "source": [
    "the_count=[1,2,3,4,5]\n",
    "fruits=['apples','oranges','pears','apricots']\n",
    "change=[1,'pennies',2,'dimes',3,'quarters']\n",
    "\n",
    "for number in the_count:\n",
    "    print(f'this is count {number}')\n",
    "    \n",
    "for fruit in fruits:\n",
    "    print(f\"this is count {number}\")\n",
    "    \n",
    "for i in change:\n",
    "    print(f\"i got {i}\")\n",
    "    \n",
    "elements=[]\n",
    "\n",
    "for i in range(0,6):\n",
    "    print(f\"adding {i} to the list.\")\n",
    "    elements.append(i)\n",
    "    \n",
    "for i in elements:\n",
    "    print(f\"Elements was:{i}\")\n",
    "    "
   ]
  },
  {
   "cell_type": "code",
   "execution_count": 19,
   "metadata": {},
   "outputs": [
    {
     "name": "stdout",
     "output_type": "stream",
     "text": [
      "21\n"
     ]
    }
   ],
   "source": [
    "number_file=open('numbers.txt')\n",
    "numbers = number_file.readlines()\n",
    "sum=0\n",
    "for number in numbers:\n",
    "    sum += int(number)\n",
    "print(sum)\n",
    "number_file.close()"
   ]
  },
  {
   "cell_type": "code",
   "execution_count": 20,
   "metadata": {},
   "outputs": [],
   "source": [
    "stu_names=['lily','lucy','han meimei']\n",
    "with open('sample.txt','w')as txt:\n",
    "    for name in stu_names:\n",
    "        txt.write(f'{name}签到!\\n')"
   ]
  },
  {
   "cell_type": "code",
   "execution_count": null,
   "metadata": {},
   "outputs": [],
   "source": []
  }
 ],
 "metadata": {
  "kernelspec": {
   "display_name": "Python 3",
   "language": "python",
   "name": "python3"
  },
  "language_info": {
   "codemirror_mode": {
    "name": "ipython",
    "version": 3
   },
   "file_extension": ".py",
   "mimetype": "text/x-python",
   "name": "python",
   "nbconvert_exporter": "python",
   "pygments_lexer": "ipython3",
   "version": "3.8.3"
  }
 },
 "nbformat": 4,
 "nbformat_minor": 4
}
