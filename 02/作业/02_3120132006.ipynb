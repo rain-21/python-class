{
 "cells": [
  {
   "cell_type": "code",
   "execution_count": 3,
   "metadata": {},
   "outputs": [
    {
     "name": "stdout",
     "output_type": "stream",
     "text": [
      "小明说：hello\n"
     ]
    }
   ],
   "source": [
    "import xiaoming\n",
    "xiaoming.say(\"hello\")"
   ]
  },
  {
   "cell_type": "code",
   "execution_count": 4,
   "metadata": {},
   "outputs": [
    {
     "data": {
      "text/plain": [
       "'C:\\\\ProgramData\\\\Anaconda3\\\\python.exe'"
      ]
     },
     "execution_count": 4,
     "metadata": {},
     "output_type": "execute_result"
    }
   ],
   "source": [
    "import sys\n",
    "sys.executable"
   ]
  },
  {
   "cell_type": "code",
   "execution_count": 5,
   "metadata": {},
   "outputs": [
    {
     "data": {
      "text/plain": [
       "['C:\\\\ProgramData\\\\Anaconda3\\\\lib\\\\site-packages\\\\ipykernel_launcher.py',\n",
       " '-f',\n",
       " 'C:\\\\Users\\\\lenovo\\\\AppData\\\\Roaming\\\\jupyter\\\\runtime\\\\kernel-91aaf631-bf25-4bf3-b657-4e1ae243c071.json']"
      ]
     },
     "execution_count": 5,
     "metadata": {},
     "output_type": "execute_result"
    }
   ],
   "source": [
    "sys.argv"
   ]
  },
  {
   "cell_type": "code",
   "execution_count": null,
   "metadata": {},
   "outputs": [],
   "source": []
  },
  {
   "cell_type": "code",
   "execution_count": 4,
   "metadata": {},
   "outputs": [
    {
     "name": "stdout",
     "output_type": "stream",
     "text": [
      "arg1:zhangfan,arg1:第二节课\n",
      "arg1:leanr,arg2:python\n",
      "arg1:fighting\n",
      "i got nothing.\n"
     ]
    }
   ],
   "source": [
    "def print_two(*args):\n",
    "    arg1,arg2=args\n",
    "    print(f\"arg1:{arg1},arg1:{arg2}\")\n",
    "    \n",
    "def print_two_again(arg1,arg2):\n",
    "    print(f'arg1:{arg1},arg2:{arg2}')\n",
    "\n",
    "def print_one(arg1):\n",
    "    print(f\"arg1:{arg1}\")\n",
    "    \n",
    "def print_none():\n",
    "    print(\"i got nothing.\")\n",
    "    \n",
    "    \n",
    "print_two(\"zhangfan\",\"第二节课\")\n",
    "print_two_again(\"leanr\",\"python\")\n",
    "print_one(\"fighting\")\n",
    "print_none()"
   ]
  },
  {
   "cell_type": "code",
   "execution_count": 9,
   "metadata": {},
   "outputs": [
    {
     "name": "stdout",
     "output_type": "stream",
     "text": [
      "we can just give the function numbers directly:\n",
      "you have 20 cheese.\n",
      "you have 30 boxes of crackers.\n",
      "man that's enough for the party.\n",
      "get a blanket.\n",
      "\n",
      "or,we can just give variable from our script:\n",
      "you have 10 cheese.\n",
      "you have 50 boxes of crackers.\n",
      "man that's enough for the party.\n",
      "get a blanket.\n",
      "\n",
      "we can even do math inside too.\n",
      "you have 22 cheese.\n",
      "you have 60 boxes of crackers.\n",
      "man that's enough for the party.\n",
      "get a blanket.\n",
      "\n"
     ]
    }
   ],
   "source": [
    "def cheese_and_crackers(cheese_count,boxes_of_crackers):\n",
    "    print(f\"you have {cheese_count} cheese.\")\n",
    "    print(f\"you have {boxes_of_crackers} boxes of crackers.\" )\n",
    "    print(\"man that's enough for the party.\")\n",
    "    print(\"get a blanket.\\n\")\n",
    "    \n",
    "print(\"we can just give the function numbers directly:\")\n",
    "cheese_and_crackers(20,30)\n",
    "\n",
    "print(\"or,we can just give variable from our script:\")\n",
    "amount_of_cheese=10\n",
    "amount_of_crackers=50\n",
    "\n",
    "cheese_and_crackers(amount_of_cheese,amount_of_crackers)\n",
    "\n",
    "print(\"we can even do math inside too.\")\n",
    "cheese_and_crackers(amount_of_cheese+12,amount_of_crackers+10)"
   ]
  },
  {
   "cell_type": "code",
   "execution_count": 5,
   "metadata": {},
   "outputs": [
    {
     "name": "stdout",
     "output_type": "stream",
     "text": [
      "here is your file sample.txt:\n",
      "1223333\n"
     ]
    }
   ],
   "source": [
    "filename='sample.txt'\n",
    "txt=open(filename)\n",
    "\n",
    "print(f\"here is your file {filename}:\")\n",
    "print(txt.read())\n",
    "txt.close()"
   ]
  },
  {
   "cell_type": "code",
   "execution_count": 9,
   "metadata": {},
   "outputs": [
    {
     "name": "stdout",
     "output_type": "stream",
     "text": [
      "truncating the file. goodbye!\n",
      "now I'm going to ask you for three lines.\n"
     ]
    },
    {
     "name": "stdin",
     "output_type": "stream",
     "text": [
      "line1: ok\n",
      "line2: go on\n",
      "line3: come \n"
     ]
    },
    {
     "name": "stdout",
     "output_type": "stream",
     "text": [
      "I'm going to write these to the file.\n",
      "and finally,we close it.\n"
     ]
    }
   ],
   "source": [
    "target=open(filename,\"w\")\n",
    "\n",
    "print(\"truncating the file. goodbye!\")\n",
    "#target.truncate()\n",
    "\n",
    "print(\"now I'm going to ask you for three lines.\")\n",
    "\n",
    "line1=input(\"line1:\")\n",
    "line2=input(\"line2:\")\n",
    "line3=input(\"line3:\")\n",
    "\n",
    "print(\"I'm going to write these to the file.\")\n",
    "\n",
    "target.write(line1)\n",
    "target.write(\"\\n\")\n",
    "target.write(line2)\n",
    "target.write(\"\\n\")\n",
    "target.write(line2)\n",
    "target.write(\"\\n\")\n",
    "\n",
    "print(\"and finally,we close it.\")\n",
    "target.close()"
   ]
  },
  {
   "cell_type": "code",
   "execution_count": 12,
   "metadata": {},
   "outputs": [
    {
     "name": "stdout",
     "output_type": "stream",
     "text": [
      "first let's print the whole file:\n",
      "\n",
      "ok\n",
      "go on\n",
      "go on\n",
      "\n",
      "now let's rewind,kind of like a tape.\n",
      "let's print three lines.\n",
      "1 ok\n",
      "\n",
      "2 go on\n",
      "\n",
      "3 go on\n",
      "\n"
     ]
    }
   ],
   "source": [
    "input_file=\"sample.txt\"\n",
    "\n",
    "def print_all(f):\n",
    "    print(f.read())\n",
    "    \n",
    "def rewind(f):\n",
    "    f.seek(0)\n",
    "    \n",
    "def print_a_line(line_count,f):\n",
    "    print(line_count,f.readline())\n",
    "    \n",
    "current_file=open(input_file)\n",
    "\n",
    "print(\"first let's print the whole file:\\n\")\n",
    "\n",
    "print_all(current_file)\n",
    "\n",
    "print(\"now let's rewind,kind of like a tape.\")\n",
    "rewind(current_file)\n",
    "\n",
    "print(\"let's print three lines.\")\n",
    "\n",
    "current_line=1\n",
    "print_a_line(current_line,current_file)\n",
    "\n",
    "current_line=current_line+1\n",
    "print_a_line(current_line,current_file)\n",
    "\n",
    "current_line+=1\n",
    "print_a_line(current_line,current_file)\n",
    "\n",
    "current_file.close()"
   ]
  },
  {
   "cell_type": "code",
   "execution_count": 15,
   "metadata": {},
   "outputs": [
    {
     "name": "stdout",
     "output_type": "stream",
     "text": [
      "let's do some math with just functions!\n",
      "ADDING1+20\n",
      "SUBTRACT58-10\n",
      "MULTIPLYING80*2\n",
      "DIVIDING1000/2\n",
      "Age:21;Height:48;Weight:160;IQ:500.0\n",
      "here is a puzzle.\n",
      "DIVIDING500.0/2\n",
      "MULTIPLYING160*250.0\n",
      "SUBTRACT48-40000.0\n",
      "ADDING21+-39952.0\n",
      "that become: -39931.0 can you do it by hand?\n"
     ]
    }
   ],
   "source": [
    "def add(a,b):\n",
    "    print(f\"ADDING{a}+{b}\")\n",
    "    return a+b\n",
    "\n",
    "def subtract(a,b):\n",
    "    print(f\"SUBTRACT{a}-{b}\")\n",
    "    return a-b\n",
    "\n",
    "def multiply(a,b):\n",
    "    print(f\"MULTIPLYING{a}*{b}\")\n",
    "    return a*b\n",
    "\n",
    "def divide(a,b):\n",
    "    print(f\"DIVIDING{a}/{b}\")\n",
    "    return a/b\n",
    "\n",
    "print(\"let's do some math with just functions!\")\n",
    "\n",
    "age=add(1,20)\n",
    "height=subtract(58,10)\n",
    "weight=multiply(80,2)\n",
    "IQ=divide(1000,2)\n",
    "\n",
    "print(f\"Age:{age};Height:{height};Weight:{weight};IQ:{IQ}\")\n",
    "\n",
    "print(\"here is a puzzle.\")\n",
    "\n",
    "what=add(age,subtract(height,multiply(weight,divide(IQ,2))))\n",
    "print(\"that become:\",what,\"can you do it by hand?\")"
   ]
  },
  {
   "cell_type": "code",
   "execution_count": 20,
   "metadata": {},
   "outputs": [
    {
     "name": "stdout",
     "output_type": "stream",
     "text": [
      "not many cats!the world is saved.\n",
      "the world is dry.\n",
      "people are greater than or equal to dogs.\n",
      "people are less than or equal to dogs.\n",
      "people are dogs.\n"
     ]
    }
   ],
   "source": [
    "people=20\n",
    "cats=10\n",
    "dogs=15\n",
    "\n",
    "if people<cats:\n",
    "    print(\"too many cats!the world is doomed!\")\n",
    "if people>cats:\n",
    "    print(\"not many cats!the world is saved.\")\n",
    "if people<dogs:\n",
    "    print(\"the world is drooled on!\")\n",
    "if  people>dogs:\n",
    "    print(\"the world is dry.\")\n",
    "\n",
    "dogs+=5\n",
    "\n",
    "\n",
    "if people>=dogs:\n",
    "    print(\"people are greater than or equal to dogs.\")\n",
    "if people<=dogs:\n",
    "    print(\"people are less than or equal to dogs.\")\n",
    "\n",
    "if people==dogs:\n",
    "    print(\"people are dogs.\")"
   ]
  },
  {
   "cell_type": "code",
   "execution_count": 21,
   "metadata": {},
   "outputs": [
    {
     "data": {
      "text/plain": [
       "False"
      ]
     },
     "execution_count": 21,
     "metadata": {},
     "output_type": "execute_result"
    }
   ],
   "source": [
    "3==3 and(not(\"testing\"==\"testing\"or\"python\"==\"fun\"))"
   ]
  },
  {
   "cell_type": "code",
   "execution_count": 25,
   "metadata": {},
   "outputs": [
    {
     "data": {
      "text/plain": [
       "False"
      ]
     },
     "execution_count": 25,
     "metadata": {},
     "output_type": "execute_result"
    }
   ],
   "source": [
    "\"chunky\"==\"bacon\"and(not(3==4 or 3==3))"
   ]
  },
  {
   "cell_type": "code",
   "execution_count": 27,
   "metadata": {},
   "outputs": [
    {
     "data": {
      "text/plain": [
       "True"
      ]
     },
     "execution_count": 27,
     "metadata": {},
     "output_type": "execute_result"
    }
   ],
   "source": [
    "1==1and(not(\"testing\"==1 or 1==0))"
   ]
  },
  {
   "cell_type": "code",
   "execution_count": 1,
   "metadata": {},
   "outputs": [
    {
     "data": {
      "text/plain": [
       "True"
      ]
     },
     "execution_count": 1,
     "metadata": {},
     "output_type": "execute_result"
    }
   ],
   "source": [
    "not(\"testing\"==\"testing\"and\"zed\"==\"cool guy\")"
   ]
  },
  {
   "cell_type": "code",
   "execution_count": 3,
   "metadata": {},
   "outputs": [
    {
     "data": {
      "text/plain": [
       "False"
      ]
     },
     "execution_count": 3,
     "metadata": {},
     "output_type": "execute_result"
    }
   ],
   "source": [
    "not(1!=10 or 3==4)"
   ]
  },
  {
   "cell_type": "code",
   "execution_count": 4,
   "metadata": {},
   "outputs": [
    {
     "data": {
      "text/plain": [
       "False"
      ]
     },
     "execution_count": 4,
     "metadata": {},
     "output_type": "execute_result"
    }
   ],
   "source": [
    "not(10==1 or 1000==1000)"
   ]
  },
  {
   "cell_type": "code",
   "execution_count": 5,
   "metadata": {},
   "outputs": [
    {
     "data": {
      "text/plain": [
       "False"
      ]
     },
     "execution_count": 5,
     "metadata": {},
     "output_type": "execute_result"
    }
   ],
   "source": [
    "not(1==1 and 0!=1)"
   ]
  },
  {
   "cell_type": "code",
   "execution_count": 6,
   "metadata": {},
   "outputs": [
    {
     "data": {
      "text/plain": [
       "True"
      ]
     },
     "execution_count": 6,
     "metadata": {},
     "output_type": "execute_result"
    }
   ],
   "source": [
    "not(True and False)"
   ]
  },
  {
   "cell_type": "code",
   "execution_count": 7,
   "metadata": {},
   "outputs": [
    {
     "data": {
      "text/plain": [
       "False"
      ]
     },
     "execution_count": 7,
     "metadata": {},
     "output_type": "execute_result"
    }
   ],
   "source": [
    "\"test\"==1"
   ]
  },
  {
   "cell_type": "code",
   "execution_count": 9,
   "metadata": {},
   "outputs": [
    {
     "data": {
      "text/plain": [
       "True"
      ]
     },
     "execution_count": 9,
     "metadata": {},
     "output_type": "execute_result"
    }
   ],
   "source": [
    "\"test\"!=\"testing\""
   ]
  },
  {
   "cell_type": "code",
   "execution_count": 11,
   "metadata": {},
   "outputs": [
    {
     "data": {
      "text/plain": [
       "False"
      ]
     },
     "execution_count": 11,
     "metadata": {},
     "output_type": "execute_result"
    }
   ],
   "source": [
    "1!=0 and 2==1"
   ]
  },
  {
   "cell_type": "code",
   "execution_count": 12,
   "metadata": {},
   "outputs": [
    {
     "data": {
      "text/plain": [
       "False"
      ]
     },
     "execution_count": 12,
     "metadata": {},
     "output_type": "execute_result"
    }
   ],
   "source": [
    "\"test\"==\"testing\""
   ]
  },
  {
   "cell_type": "code",
   "execution_count": 13,
   "metadata": {},
   "outputs": [
    {
     "data": {
      "text/plain": [
       "True"
      ]
     },
     "execution_count": 13,
     "metadata": {},
     "output_type": "execute_result"
    }
   ],
   "source": [
    "True or 1==1"
   ]
  },
  {
   "cell_type": "code",
   "execution_count": 14,
   "metadata": {},
   "outputs": [
    {
     "data": {
      "text/plain": [
       "True"
      ]
     },
     "execution_count": 14,
     "metadata": {},
     "output_type": "execute_result"
    }
   ],
   "source": [
    "1==1 or 2!=1"
   ]
  },
  {
   "cell_type": "code",
   "execution_count": 15,
   "metadata": {},
   "outputs": [
    {
     "data": {
      "text/plain": [
       "True"
      ]
     },
     "execution_count": 15,
     "metadata": {},
     "output_type": "execute_result"
    }
   ],
   "source": [
    "\"test\"==\"test\""
   ]
  },
  {
   "cell_type": "code",
   "execution_count": 16,
   "metadata": {},
   "outputs": [
    {
     "data": {
      "text/plain": [
       "False"
      ]
     },
     "execution_count": 16,
     "metadata": {},
     "output_type": "execute_result"
    }
   ],
   "source": [
    "1==1 and 2==1"
   ]
  },
  {
   "cell_type": "code",
   "execution_count": 17,
   "metadata": {},
   "outputs": [
    {
     "data": {
      "text/plain": [
       "False"
      ]
     },
     "execution_count": 17,
     "metadata": {},
     "output_type": "execute_result"
    }
   ],
   "source": [
    "False and True"
   ]
  },
  {
   "cell_type": "code",
   "execution_count": 18,
   "metadata": {},
   "outputs": [
    {
     "data": {
      "text/plain": [
       "True"
      ]
     },
     "execution_count": 18,
     "metadata": {},
     "output_type": "execute_result"
    }
   ],
   "source": [
    "True and True"
   ]
  },
  {
   "cell_type": "code",
   "execution_count": 21,
   "metadata": {},
   "outputs": [
    {
     "name": "stdout",
     "output_type": "stream",
     "text": [
      "we should take the cars.\n",
      "maybe we could take the cars.\n",
      "alright,let's just take the trucks.\n"
     ]
    }
   ],
   "source": [
    "people=30\n",
    "cars=40\n",
    "trucks=15\n",
    "\n",
    "if cars>people:\n",
    "    print(\"we should take the cars.\")\n",
    "elif cars<people:\n",
    "    print(\"we should not take the cars.\")\n",
    "else:\n",
    "    print(\"we can't decide.\")\n",
    "\n",
    "    \n",
    "if trucks>cars:\n",
    "    print(\"that's too many trucks.\")\n",
    "elif trucks<cars:\n",
    "    print(\"maybe we could take the cars.\")\n",
    "else:\n",
    "    print(\"we still can't decide.\")\n",
    "\n",
    "    \n",
    "if people>trucks:\n",
    "    print(\"alright,let's just take the trucks.\")\n",
    "else:\n",
    "    print(\"fine,let's stay home then.\")"
   ]
  },
  {
   "cell_type": "code",
   "execution_count": 42,
   "metadata": {},
   "outputs": [
    {
     "name": "stdout",
     "output_type": "stream",
     "text": [
      "you enter a dark room with two doors.\n",
      "do you go through door #1 or door #2?\n"
     ]
    },
    {
     "name": "stdin",
     "output_type": "stream",
     "text": [
      "> 1\n"
     ]
    },
    {
     "name": "stdout",
     "output_type": "stream",
     "text": [
      "there's a qiant bear here eating a cheese cake.what do you do?\n",
      "1.take the cake.\n",
      "2.scream at the bear.\n"
     ]
    },
    {
     "name": "stdin",
     "output_type": "stream",
     "text": [
      "> \n"
     ]
    },
    {
     "name": "stdout",
     "output_type": "stream",
     "text": [
      "well,doing  is probably better. Bears runs away.\n"
     ]
    }
   ],
   "source": [
    "print(\"\"\"you enter a dark room with two doors.\n",
    "do you go through door #1 or door #2?\"\"\")\n",
    "      \n",
    "      \n",
    "door=input(\">\")\n",
    "\n",
    "if door==\"1\":\n",
    "    print(\"there's a qiant bear here eating a cheese cake.what do you do?\")\n",
    "    print(\"1.take the cake.\")\n",
    "    print(\"2.scream at the bear.\")\n",
    "    \n",
    "    bear=input(\">\")\n",
    "    if bear==\"1\":\n",
    "        print(\"the bear eats your face off.  Good job!\")\n",
    "    elif bear==\"2\":\n",
    "        print(\"the bear eats your legs off.  Good job!\")\n",
    "    else:\n",
    "        print(f\"well,doing {bear} is probably better. Bears runs away.\")\n",
    "        \n",
    "elif door==\"2\":\n",
    "    print(\"you stars into the endless abyss at Cthulhu's retina.\")\n",
    "    print(\"1.Blueburries.\")\n",
    "    print(\"2.yellow jacket clothespins.\")\n",
    "    print(\"3.understanding revolvers yelling melodies.\")\n",
    "      \n",
    "    insanity=input(\">\")\n",
    "      \n",
    "    if insanity==\"1\"or insanity==\"2\":\n",
    "            print(\"your body survives powered by a mind of jello. good job!\")\n",
    "    else:\n",
    "        print(\"the insanity rots your eyes into a pool of muck. good job!\")\n",
    "else:\n",
    "      print(\"you stumble around and fall on a knife and die. good job!\")"
   ]
  },
  {
   "cell_type": "code",
   "execution_count": 43,
   "metadata": {},
   "outputs": [
    {
     "name": "stdout",
     "output_type": "stream",
     "text": [
      "1到100之和为：5050\n"
     ]
    }
   ],
   "source": [
    "n=100\n",
    "\n",
    "sum=0\n",
    "counter=1\n",
    "while counter<=n:\n",
    "    sum=sum+counter\n",
    "    counter+=1\n",
    "    \n",
    "print(\"1到%d之和为：%d\"% (n,sum))"
   ]
  },
  {
   "cell_type": "code",
   "execution_count": 44,
   "metadata": {},
   "outputs": [],
   "source": [
    "def save_grade(name,grade):\n",
    "    grades=open(\"sample.txt\",\"a\")\n",
    "    grades.write(f\"姓名:{name}\\t成绩:{grade}\\n\")\n",
    "    grades.close()"
   ]
  },
  {
   "cell_type": "code",
   "execution_count": 46,
   "metadata": {},
   "outputs": [
    {
     "name": "stdin",
     "output_type": "stream",
     "text": [
      "请输入姓名: 张三\n",
      "请输入成绩： 100\n"
     ]
    },
    {
     "name": "stdout",
     "output_type": "stream",
     "text": [
      "张三的成绩已经保存。\n"
     ]
    },
    {
     "name": "stdin",
     "output_type": "stream",
     "text": [
      "是否继续输入（yes or no）？ no\n"
     ]
    },
    {
     "name": "stdout",
     "output_type": "stream",
     "text": [
      "结束\n"
     ]
    }
   ],
   "source": [
    "while True:\n",
    "    name=input(\"请输入姓名:\")\n",
    "    grade=input(\"请输入成绩：\")\n",
    "    save_grade(name,grade)\n",
    "    print(f\"{name}的成绩已经保存。\")\n",
    "    go_on=input(\"是否继续输入（yes or no）？\")\n",
    "    n=0\n",
    "    while n<2:\n",
    "        if go_on==\"yes\":\n",
    "            break\n",
    "            n=0\n",
    "        elif go_on==\"no\":\n",
    "                break\n",
    "        else:\n",
    "            n+=1\n",
    "            go_on=input(f\"{n+1}指令无效，是否继续输入（yes or no）？\")\n",
    "    if go_on==\"no\" or n==2:\n",
    "        print(\"结束\")\n",
    "        break  "
   ]
  },
  {
   "cell_type": "code",
   "execution_count": 48,
   "metadata": {},
   "outputs": [
    {
     "name": "stdout",
     "output_type": "stream",
     "text": [
      "this is count 1\n",
      "this is count 2\n",
      "this is count 3\n",
      "this is count 4\n",
      "this is count 5\n",
      "Afruit of type:apples\n",
      "Afruit of type:oranges\n",
      "Afruit of type:pears\n",
      "Afruit of type:apricots\n",
      "I got 1.\n",
      "I got pennies.\n",
      "I got 2.\n",
      "I got dimes.\n",
      "I got 3.\n",
      "I got quarters.\n",
      "Adding 0 to the list.\n",
      "Adding 1 to the list.\n",
      "Adding 2 to the list.\n",
      "Adding 3 to the list.\n",
      "Adding 4 to the list.\n",
      "Adding 5 to the list.\n",
      "Element was:0.\n",
      "Element was:1.\n",
      "Element was:2.\n",
      "Element was:3.\n",
      "Element was:4.\n",
      "Element was:5.\n"
     ]
    }
   ],
   "source": [
    "the_count=[1,2,3,4,5]\n",
    "fruits=[\"apples\",\"oranges\",\"pears\",\"apricots\"]\n",
    "change=[1,\"pennies\",2,\"dimes\",3,\"quarters\"]\n",
    "\n",
    "#this first kind of for-loop goes through a list\n",
    "for number in the_count:\n",
    "    print(f\"this is count {number}\")\n",
    "\n",
    "#same as above\n",
    "for fruit in fruits:\n",
    "    print(f\"Afruit of type:{fruit}\")\n",
    "    \n",
    "#also we can go through mixed lists too\n",
    "#notice we have to use {} since we don't know what's in it\n",
    "for i in change:\n",
    "    print(f\"I got {i}.\")\n",
    "\n",
    "#we can also build lists,first start with an empty one\n",
    "elements=[]\n",
    "\n",
    "#then use the range function to do 0 to 5 counts\n",
    "for i in range(0,6):\n",
    "    print(f\"Adding {i} to the list.\")\n",
    "    #apped is a function that lists understand\n",
    "    elements.append(i)\n",
    "#now we can print them out too\n",
    "for i in elements:\n",
    "    print(f\"Element was:{i}.\")"
   ]
  },
  {
   "cell_type": "code",
   "execution_count": 49,
   "metadata": {},
   "outputs": [],
   "source": [
    "#错误和异常"
   ]
  },
  {
   "cell_type": "code",
   "execution_count": 57,
   "metadata": {},
   "outputs": [
    {
     "name": "stdout",
     "output_type": "stream",
     "text": [
      "9\n"
     ]
    }
   ],
   "source": [
    "number_file=open(\"numbers.txt\")\n",
    "numbers=number_file.readlines()\n",
    "sum=0\n",
    "for number in numbers:\n",
    "    sum+=1\n",
    "    \n",
    "print(sum)\n",
    "number_file.close()"
   ]
  },
  {
   "cell_type": "code",
   "execution_count": 60,
   "metadata": {},
   "outputs": [
    {
     "name": "stdout",
     "output_type": "stream",
     "text": [
      "未知错误\n"
     ]
    }
   ],
   "source": [
    "try:\n",
    "    number_file=open(\"numbers.txt\")\n",
    "    numbers==number_file.readlines()\n",
    "    sum=0\n",
    "    for number in numbers:\n",
    "        sum+=int(number)\n",
    "except TypeError as te:\n",
    "    print(te.args)\n",
    "except:\n",
    "    print(\"未知错误\")\n",
    "else:\n",
    "    print(sum)\n",
    "finally:\n",
    "    number_file.close()"
   ]
  },
  {
   "cell_type": "code",
   "execution_count": 61,
   "metadata": {},
   "outputs": [
    {
     "name": "stdout",
     "output_type": "stream",
     "text": [
      "\n",
      "不是数字！\n"
     ]
    }
   ],
   "source": [
    "try:\n",
    "    number_file=open(\"numbers.txt\")\n",
    "    numbers==number_file.readlines()\n",
    "    sum=0\n",
    "    for number in numbers:\n",
    "        sum+=int(number)\n",
    "except TypeError as te:\n",
    "    print(te.args)\n",
    "except ValueError:\n",
    "    print(f\"{number}不是数字！\")\n",
    "except:\n",
    "    print(\"未知错误\")\n",
    "else:\n",
    "    print(sum)\n",
    "finally:\n",
    "    number_file.close()"
   ]
  },
  {
   "cell_type": "code",
   "execution_count": 62,
   "metadata": {},
   "outputs": [],
   "source": [
    "stu_names=[\"lily\",\"lucy\",\"han meimei\"]\n",
    "with open(\"sample.txt\",\"w\")as txt:\n",
    "    for name in stu_names:\n",
    "        txt.write(f\"{name}签到！\\n\")"
   ]
  },
  {
   "cell_type": "code",
   "execution_count": 74,
   "metadata": {},
   "outputs": [
    {
     "ename": "NameError",
     "evalue": "name 'msg_inner' is not defined",
     "output_type": "error",
     "traceback": [
      "\u001b[1;31m---------------------------------------------------------------------------\u001b[0m",
      "\u001b[1;31mNameError\u001b[0m                                 Traceback (most recent call last)",
      "\u001b[1;32m<ipython-input-74-f76dc32285b7>\u001b[0m in \u001b[0;36m<module>\u001b[1;34m\u001b[0m\n\u001b[0;32m      1\u001b[0m \u001b[1;32mdef\u001b[0m \u001b[0mtest\u001b[0m\u001b[1;33m(\u001b[0m\u001b[1;33m)\u001b[0m\u001b[1;33m:\u001b[0m\u001b[1;33m\u001b[0m\u001b[1;33m\u001b[0m\u001b[0m\n\u001b[0;32m      2\u001b[0m     \u001b[0mmsg_inner\u001b[0m\u001b[1;33m=\u001b[0m\u001b[1;34m\"I am a local variable.\"\u001b[0m\u001b[1;33m\u001b[0m\u001b[1;33m\u001b[0m\u001b[0m\n\u001b[1;32m----> 3\u001b[1;33m \u001b[0mmsg_inner\u001b[0m\u001b[1;33m\u001b[0m\u001b[1;33m\u001b[0m\u001b[0m\n\u001b[0m\u001b[0;32m      4\u001b[0m \u001b[0mprint\u001b[0m\u001b[1;33m(\u001b[0m\u001b[0mtest\u001b[0m\u001b[1;33m(\u001b[0m\u001b[1;33m)\u001b[0m\u001b[1;33m)\u001b[0m\u001b[1;33m\u001b[0m\u001b[1;33m\u001b[0m\u001b[0m\n",
      "\u001b[1;31mNameError\u001b[0m: name 'msg_inner' is not defined"
     ]
    }
   ],
   "source": [
    "def test():\n",
    "    msg_inner=\"I am a local variable.\"\n",
    "msg_inner"
   ]
  },
  {
   "cell_type": "code",
   "execution_count": 75,
   "metadata": {},
   "outputs": [
    {
     "data": {
      "text/plain": [
       "'I am a global variable.'"
      ]
     },
     "execution_count": 75,
     "metadata": {},
     "output_type": "execute_result"
    }
   ],
   "source": [
    "if True:\n",
    "    msg=\"I am a global variable.\"\n",
    "msg"
   ]
  },
  {
   "cell_type": "code",
   "execution_count": 77,
   "metadata": {},
   "outputs": [
    {
     "name": "stdout",
     "output_type": "stream",
     "text": [
      "11\n"
     ]
    }
   ],
   "source": [
    "a=10\n",
    "def test():\n",
    "    a=10\n",
    "    a=a+1\n",
    "    print(a)\n",
    "test()"
   ]
  },
  {
   "cell_type": "code",
   "execution_count": 78,
   "metadata": {},
   "outputs": [
    {
     "data": {
      "text/plain": [
       "['ArithmeticError',\n",
       " 'AssertionError',\n",
       " 'AttributeError',\n",
       " 'BaseException',\n",
       " 'BlockingIOError',\n",
       " 'BrokenPipeError',\n",
       " 'BufferError',\n",
       " 'BytesWarning',\n",
       " 'ChildProcessError',\n",
       " 'ConnectionAbortedError',\n",
       " 'ConnectionError',\n",
       " 'ConnectionRefusedError',\n",
       " 'ConnectionResetError',\n",
       " 'DeprecationWarning',\n",
       " 'EOFError',\n",
       " 'Ellipsis',\n",
       " 'EnvironmentError',\n",
       " 'Exception',\n",
       " 'False',\n",
       " 'FileExistsError',\n",
       " 'FileNotFoundError',\n",
       " 'FloatingPointError',\n",
       " 'FutureWarning',\n",
       " 'GeneratorExit',\n",
       " 'IOError',\n",
       " 'ImportError',\n",
       " 'ImportWarning',\n",
       " 'IndentationError',\n",
       " 'IndexError',\n",
       " 'InterruptedError',\n",
       " 'IsADirectoryError',\n",
       " 'KeyError',\n",
       " 'KeyboardInterrupt',\n",
       " 'LookupError',\n",
       " 'MemoryError',\n",
       " 'ModuleNotFoundError',\n",
       " 'NameError',\n",
       " 'None',\n",
       " 'NotADirectoryError',\n",
       " 'NotImplemented',\n",
       " 'NotImplementedError',\n",
       " 'OSError',\n",
       " 'OverflowError',\n",
       " 'PendingDeprecationWarning',\n",
       " 'PermissionError',\n",
       " 'ProcessLookupError',\n",
       " 'RecursionError',\n",
       " 'ReferenceError',\n",
       " 'ResourceWarning',\n",
       " 'RuntimeError',\n",
       " 'RuntimeWarning',\n",
       " 'StopAsyncIteration',\n",
       " 'StopIteration',\n",
       " 'SyntaxError',\n",
       " 'SyntaxWarning',\n",
       " 'SystemError',\n",
       " 'SystemExit',\n",
       " 'TabError',\n",
       " 'TimeoutError',\n",
       " 'True',\n",
       " 'TypeError',\n",
       " 'UnboundLocalError',\n",
       " 'UnicodeDecodeError',\n",
       " 'UnicodeEncodeError',\n",
       " 'UnicodeError',\n",
       " 'UnicodeTranslateError',\n",
       " 'UnicodeWarning',\n",
       " 'UserWarning',\n",
       " 'ValueError',\n",
       " 'Warning',\n",
       " 'WindowsError',\n",
       " 'ZeroDivisionError',\n",
       " '__IPYTHON__',\n",
       " '__build_class__',\n",
       " '__debug__',\n",
       " '__doc__',\n",
       " '__import__',\n",
       " '__loader__',\n",
       " '__name__',\n",
       " '__package__',\n",
       " '__spec__',\n",
       " 'abs',\n",
       " 'all',\n",
       " 'any',\n",
       " 'ascii',\n",
       " 'bin',\n",
       " 'bool',\n",
       " 'breakpoint',\n",
       " 'bytearray',\n",
       " 'bytes',\n",
       " 'callable',\n",
       " 'chr',\n",
       " 'classmethod',\n",
       " 'compile',\n",
       " 'complex',\n",
       " 'copyright',\n",
       " 'credits',\n",
       " 'delattr',\n",
       " 'dict',\n",
       " 'dir',\n",
       " 'display',\n",
       " 'divmod',\n",
       " 'enumerate',\n",
       " 'eval',\n",
       " 'exec',\n",
       " 'filter',\n",
       " 'float',\n",
       " 'format',\n",
       " 'frozenset',\n",
       " 'get_ipython',\n",
       " 'getattr',\n",
       " 'globals',\n",
       " 'hasattr',\n",
       " 'hash',\n",
       " 'help',\n",
       " 'hex',\n",
       " 'id',\n",
       " 'input',\n",
       " 'int',\n",
       " 'isinstance',\n",
       " 'issubclass',\n",
       " 'iter',\n",
       " 'len',\n",
       " 'license',\n",
       " 'list',\n",
       " 'locals',\n",
       " 'map',\n",
       " 'max',\n",
       " 'memoryview',\n",
       " 'min',\n",
       " 'next',\n",
       " 'object',\n",
       " 'oct',\n",
       " 'open',\n",
       " 'ord',\n",
       " 'pow',\n",
       " 'print',\n",
       " 'property',\n",
       " 'range',\n",
       " 'repr',\n",
       " 'reversed',\n",
       " 'round',\n",
       " 'set',\n",
       " 'setattr',\n",
       " 'slice',\n",
       " 'sorted',\n",
       " 'staticmethod',\n",
       " 'str',\n",
       " 'sum',\n",
       " 'super',\n",
       " 'tuple',\n",
       " 'type',\n",
       " 'vars',\n",
       " 'zip']"
      ]
     },
     "execution_count": 78,
     "metadata": {},
     "output_type": "execute_result"
    }
   ],
   "source": [
    "import builtins\n",
    "dir(builtins)"
   ]
  },
  {
   "cell_type": "code",
   "execution_count": null,
   "metadata": {},
   "outputs": [],
   "source": []
  }
 ],
 "metadata": {
  "kernelspec": {
   "display_name": "Python 3",
   "language": "python",
   "name": "python3"
  },
  "language_info": {
   "codemirror_mode": {
    "name": "ipython",
    "version": 3
   },
   "file_extension": ".py",
   "mimetype": "text/x-python",
   "name": "python",
   "nbconvert_exporter": "python",
   "pygments_lexer": "ipython3",
   "version": "3.8.3"
  }
 },
 "nbformat": 4,
 "nbformat_minor": 4
}
