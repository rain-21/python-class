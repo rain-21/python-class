{
 "cells": [
  {
   "cell_type": "markdown",
   "metadata": {},
   "source": [
    "数组"
   ]
  },
  {
   "cell_type": "code",
   "execution_count": null,
   "metadata": {},
   "outputs": [],
   "source": [
    "#列表\n",
    "list1=[4,\"大西瓜\",5666.66,[\"鸡蛋\",\"苹果\",\"橙\"]]\n",
    "print(list1)"
   ]
  },
  {
   "cell_type": "code",
   "execution_count": null,
   "metadata": {},
   "outputs": [],
   "source": [
    "#创建一个空列表\n",
    "empty=[]\n",
    "len(empty)"
   ]
  },
  {
   "cell_type": "code",
   "execution_count": null,
   "metadata": {},
   "outputs": [],
   "source": [
    "#使用append函数给列表加入函数\n",
    "empty.append(\"大娃\")#empty就是对象，append是方法。但是append方法只能添加一个元素,即使是列表他也只会按一个元素进行插入。\n",
    "len(empty)"
   ]
  },
  {
   "cell_type": "code",
   "execution_count": null,
   "metadata": {},
   "outputs": [],
   "source": [
    "#采用extend拓展列表。请注意extend函数的参数必须是列表\n",
    "empty.extend([\"二娃\",\"三娃\"])\n",
    "empty"
   ]
  },
  {
   "cell_type": "code",
   "execution_count": null,
   "metadata": {},
   "outputs": [],
   "source": [
    "#采用insert函数给列表添加元素。insert第一个参数是插入位置，第二个参数是插入元素\n",
    "empty.insert(0,\"爷爷\")#放置在第一个位置要用0\n",
    "empty"
   ]
  },
  {
   "cell_type": "code",
   "execution_count": null,
   "metadata": {},
   "outputs": [],
   "source": [
    "#从列表中获取元素\n",
    "empty[2]#实际上是第三个"
   ]
  },
  {
   "cell_type": "code",
   "execution_count": null,
   "metadata": {},
   "outputs": [],
   "source": [
    "#二娃跟大娃顺序互换\n",
    "a=empty[1]\n",
    "empty[1]=empty[2]\n",
    "empty[2]=a\n",
    "empty"
   ]
  },
  {
   "cell_type": "code",
   "execution_count": null,
   "metadata": {},
   "outputs": [],
   "source": [
    "#爷爷被抓走了\n",
    "empty.remove(\"爷爷\")\n",
    "empty"
   ]
  },
  {
   "cell_type": "code",
   "execution_count": null,
   "metadata": {},
   "outputs": [],
   "source": [
    "#大娃也被抓走了\n",
    "del empty[1]\n",
    "empty"
   ]
  },
  {
   "cell_type": "code",
   "execution_count": null,
   "metadata": {},
   "outputs": [],
   "source": [
    "#python是按照栈存储元素，采用pop方法可以取出最后一个元素并且返回给你。\n",
    "empty.pop()#不带参数默认最后一个，还可以给pop的括号中加上一个数字参数，确定返回列表中那个变量。"
   ]
  },
  {
   "cell_type": "code",
   "execution_count": null,
   "metadata": {},
   "outputs": [],
   "source": [
    "empty"
   ]
  },
  {
   "cell_type": "code",
   "execution_count": null,
   "metadata": {},
   "outputs": [],
   "source": [
    "#列表的切片\n",
    "a=empty[0:1]\n",
    "a"
   ]
  },
  {
   "cell_type": "markdown",
   "metadata": {},
   "source": [
    "##列表的比较符"
   ]
  },
  {
   "cell_type": "code",
   "execution_count": null,
   "metadata": {},
   "outputs": [],
   "source": [
    "list1=[123]\n",
    "list2=[234]\n",
    "list1>list2"
   ]
  },
  {
   "cell_type": "code",
   "execution_count": null,
   "metadata": {},
   "outputs": [],
   "source": [
    "list1=[123,456]\n",
    "list2=[234,123]\n",
    "list1>list2#列表比较符如果可比的话之后比较第一个，后面不管，字符串的比较是比较ACII码的大小"
   ]
  },
  {
   "cell_type": "code",
   "execution_count": null,
   "metadata": {},
   "outputs": [],
   "source": [
    "list3=[123,456]\n",
    "(list1<list2) and (list1==list3) #and逻辑符，左右两边均为true的时候判断结果为true"
   ]
  },
  {
   "cell_type": "code",
   "execution_count": null,
   "metadata": {},
   "outputs": [],
   "source": [
    "list4=list1+list2#列表相加减，是所有的元素拼接到一个list。\n",
    "list4#但是规范操作是使用extend方法"
   ]
  },
  {
   "cell_type": "code",
   "execution_count": null,
   "metadata": {},
   "outputs": [],
   "source": [
    "list3 *3"
   ]
  },
  {
   "cell_type": "code",
   "execution_count": null,
   "metadata": {},
   "outputs": [],
   "source": [
    "list3*=5\n",
    "list3"
   ]
  },
  {
   "cell_type": "code",
   "execution_count": null,
   "metadata": {},
   "outputs": [],
   "source": [
    "123 in list3"
   ]
  },
  {
   "cell_type": "code",
   "execution_count": null,
   "metadata": {},
   "outputs": [],
   "source": [
    "45646 not in list3"
   ]
  },
  {
   "cell_type": "code",
   "execution_count": null,
   "metadata": {},
   "outputs": [],
   "source": [
    "list5=[123,[\"葫芦娃\",\"蛇精\"],456]\n",
    "\"葫芦娃\" in list5"
   ]
  },
  {
   "cell_type": "code",
   "execution_count": null,
   "metadata": {},
   "outputs": [],
   "source": [
    "\"葫芦娃\" in list5[1]#可以调用列表中的元素"
   ]
  },
  {
   "cell_type": "code",
   "execution_count": null,
   "metadata": {},
   "outputs": [],
   "source": [
    "list5[1][0]"
   ]
  },
  {
   "cell_type": "code",
   "execution_count": null,
   "metadata": {},
   "outputs": [],
   "source": [
    "dir(list)"
   ]
  },
  {
   "cell_type": "code",
   "execution_count": null,
   "metadata": {},
   "outputs": [],
   "source": [
    "list3.count(123)#统计列表中共有多少个这个元素"
   ]
  },
  {
   "cell_type": "code",
   "execution_count": null,
   "metadata": {},
   "outputs": [],
   "source": [
    "list3.index(123)#查看元素第一个出现的位置。index(查找到元素，开始位置（n+1），结束位置(不包括这个点值))"
   ]
  },
  {
   "cell_type": "code",
   "execution_count": null,
   "metadata": {},
   "outputs": [],
   "source": [
    "list3.reverse()#将列表翻转\n",
    "list3"
   ]
  },
  {
   "cell_type": "code",
   "execution_count": null,
   "metadata": {},
   "outputs": [],
   "source": [
    "list6=[45,54,51,25,6565,65,6263,9,4894,247,8]\n",
    "list6.sort()#列表排序\n",
    "list6"
   ]
  },
  {
   "cell_type": "code",
   "execution_count": null,
   "metadata": {},
   "outputs": [],
   "source": [
    "#sort(func(采用何种排序方式),key(排序关键字),reverse=False(false默认从小排到大))\n",
    "list6.sort(reverse=True)\n",
    "list6"
   ]
  },
  {
   "cell_type": "code",
   "execution_count": null,
   "metadata": {},
   "outputs": [],
   "source": [
    "list7=[1412,124,545,2,475,452145,45,12,45,452]\n",
    "list8=list7#这个步骤并没有copy那个列表，因为这个操作只是给同一个对象不同的标签，东西还是那个东西，但是有两个不同的名字罢了。\n",
    "list8.sort()\n",
    "list7"
   ]
  },
  {
   "cell_type": "markdown",
   "metadata": {},
   "source": [
    "###元组 Tuple，带上枷锁的列表，定义好一个元组，元组里面的元素不可改变，排序都行"
   ]
  },
  {
   "cell_type": "code",
   "execution_count": null,
   "metadata": {},
   "outputs": [],
   "source": [
    "tuple1=(1,2,3,4,5,6,7,8,9)"
   ]
  },
  {
   "cell_type": "code",
   "execution_count": null,
   "metadata": {},
   "outputs": [],
   "source": [
    "tuple1[1]#访问元组中的一个元素"
   ]
  },
  {
   "cell_type": "code",
   "execution_count": null,
   "metadata": {},
   "outputs": [],
   "source": [
    "tuple2=tuple1[:]\n",
    "tuple2"
   ]
  },
  {
   "cell_type": "code",
   "execution_count": null,
   "metadata": {},
   "outputs": [],
   "source": [
    "type(tuple2)#创建元组逗号是关键，元素后面必须要有逗号才能被认定为这是一个元组。"
   ]
  },
  {
   "cell_type": "code",
   "execution_count": null,
   "metadata": {},
   "outputs": [],
   "source": [
    "3%2"
   ]
  },
  {
   "cell_type": "markdown",
   "metadata": {},
   "source": [
    "#快捷键---Esc进入命令模式,M切换Markdown,Y切换为代码,X剪切,V黏贴,C复制,按两下D删除,A上方加新行,B下方加新行。Ctrl+Enter仅执行本行,Shift+Enter执行本行并且切换到下一行，Alt+Enter执行本行并且新建一行。"
   ]
  },
  {
   "cell_type": "code",
   "execution_count": null,
   "metadata": {},
   "outputs": [],
   "source": [
    "\"{0} love {1} {2}\".format(\"I\",\"you\",\"too\")#大括号里面的是位置参数可以直接引用"
   ]
  },
  {
   "cell_type": "code",
   "execution_count": null,
   "metadata": {},
   "outputs": [],
   "source": [
    "\"{z} love {b} {c}\".format(\"I\",\"you\",\"too\")#大括号里面如果是变量必须采用赋值的形式才能命名变量"
   ]
  },
  {
   "cell_type": "code",
   "execution_count": null,
   "metadata": {},
   "outputs": [],
   "source": [
    "\"{a} love {b} {c}\".format(a=\"I\",b=\"you\",c=\"too\")#引用关键字参数必须得赋值。"
   ]
  },
  {
   "cell_type": "code",
   "execution_count": null,
   "metadata": {},
   "outputs": [],
   "source": [
    "\"{0} love {b} {c}\".format(\"I\",b=\"you\",c=\"too\")#混合引用，必须要求位置参数在关键字参数前面"
   ]
  },
  {
   "cell_type": "code",
   "execution_count": null,
   "metadata": {},
   "outputs": [],
   "source": [
    "print(\"\\ta\")#字符串中\\t意思是Tab键"
   ]
  },
  {
   "cell_type": "code",
   "execution_count": null,
   "metadata": {},
   "outputs": [],
   "source": [
    "\"{{0}}\".format(\"不打印\")"
   ]
  },
  {
   "cell_type": "code",
   "execution_count": null,
   "metadata": {},
   "outputs": [],
   "source": [
    "\"{0:.1f}{1}\".format(27.658,\"GB\")#:是指格式化开始，.1是四舍五入，f是格式化符号"
   ]
  },
  {
   "cell_type": "code",
   "execution_count": null,
   "metadata": {},
   "outputs": [],
   "source": [
    "#字符串格式化符号"
   ]
  },
  {
   "cell_type": "code",
   "execution_count": null,
   "metadata": {},
   "outputs": [],
   "source": [
    "\"%c\"%97#a的ASCII码刚好是97，%c是将十进制ASCII码转换为对应的符号"
   ]
  },
  {
   "cell_type": "code",
   "execution_count": null,
   "metadata": {},
   "outputs": [],
   "source": [
    "#%c中间%是作用符号，c是采用那种形式作用"
   ]
  },
  {
   "cell_type": "code",
   "execution_count": null,
   "metadata": {},
   "outputs": [],
   "source": [
    "\"%c\"%124"
   ]
  },
  {
   "cell_type": "code",
   "execution_count": null,
   "metadata": {},
   "outputs": [],
   "source": [
    "\"%c\"%456"
   ]
  },
  {
   "cell_type": "code",
   "execution_count": null,
   "metadata": {},
   "outputs": [],
   "source": [
    "\"%c %c %c\"%(97,98,99)"
   ]
  },
  {
   "cell_type": "code",
   "execution_count": null,
   "metadata": {},
   "outputs": [],
   "source": [
    "\"%s\"%\"i love you\""
   ]
  },
  {
   "cell_type": "markdown",
   "metadata": {},
   "source": [
    "#序列"
   ]
  },
  {
   "cell_type": "code",
   "execution_count": null,
   "metadata": {},
   "outputs": [],
   "source": [
    "a=list()\n",
    "a"
   ]
  },
  {
   "cell_type": "code",
   "execution_count": null,
   "metadata": {},
   "outputs": [],
   "source": [
    "b=\"wo ai ni\"\n",
    "b=list(b)\n",
    "b"
   ]
  },
  {
   "cell_type": "code",
   "execution_count": null,
   "metadata": {},
   "outputs": [],
   "source": [
    "c=(1,1,2,3,5,8,13,21,34)\n",
    "c=list(c)\n",
    "c#新建了一个列表并给他命名为C"
   ]
  },
  {
   "cell_type": "code",
   "execution_count": null,
   "metadata": {},
   "outputs": [],
   "source": [
    "len(b)#返回列表长度"
   ]
  },
  {
   "cell_type": "code",
   "execution_count": null,
   "metadata": {},
   "outputs": [],
   "source": [
    "max(b)#返回列表中字符ASCII码最大值"
   ]
  },
  {
   "cell_type": "code",
   "execution_count": null,
   "metadata": {},
   "outputs": [],
   "source": [
    "numbers=[1,18,13,0,-98,34,54,76,32]\n",
    "max(numbers)"
   ]
  },
  {
   "cell_type": "code",
   "execution_count": null,
   "metadata": {},
   "outputs": [],
   "source": [
    "min(numbers)"
   ]
  },
  {
   "cell_type": "code",
   "execution_count": null,
   "metadata": {},
   "outputs": [],
   "source": [
    "chars=\"1234567489\"\n",
    "min(chars)#字符串也可以用min函数返回最小值，同理元组中的数字最小值也可以返回"
   ]
  },
  {
   "cell_type": "code",
   "execution_count": null,
   "metadata": {},
   "outputs": [],
   "source": [
    "#但是使用max，min和sum要求元组或者列表中数据类型相同，否则会报错"
   ]
  },
  {
   "cell_type": "code",
   "execution_count": null,
   "metadata": {},
   "outputs": [],
   "source": [
    "sorted(numbers)#排序函数"
   ]
  },
  {
   "cell_type": "code",
   "execution_count": null,
   "metadata": {},
   "outputs": [],
   "source": [
    "reversed(numbers)#返回的是一个迭代器对象"
   ]
  },
  {
   "cell_type": "code",
   "execution_count": null,
   "metadata": {},
   "outputs": [],
   "source": [
    "list(reversed(numbers))"
   ]
  },
  {
   "cell_type": "code",
   "execution_count": null,
   "metadata": {},
   "outputs": [],
   "source": [
    "enumerate(numbers)\n",
    "list(enumerate(numbers))"
   ]
  },
  {
   "cell_type": "code",
   "execution_count": null,
   "metadata": {},
   "outputs": [],
   "source": [
    "a=[1,2,3,4,5,6,7,8,9]\n",
    "b=[4,5,6,7,8]\n",
    "zip(a,b)\n",
    "list(zip(a,b))#这里list为什么不能用"
   ]
  },
  {
   "cell_type": "code",
   "execution_count": null,
   "metadata": {},
   "outputs": [],
   "source": [
    "#函数\n",
    "def Myfirstfunction():\n",
    "    print('这是我创建的第一个函数')\n",
    "    print('谢谢大家')\n",
    "Myfirstfunction()"
   ]
  },
  {
   "cell_type": "code",
   "execution_count": null,
   "metadata": {},
   "outputs": [],
   "source": [
    "def Mysecondfunction(name):\n",
    "    print(name+\"I love you\")\n",
    "Mysecondfunction(\"苹果\")"
   ]
  },
  {
   "cell_type": "code",
   "execution_count": null,
   "metadata": {},
   "outputs": [],
   "source": [
    "def add(number1,number2):\n",
    "    result=number1+number2\n",
    "    print(result)\n",
    "add(1,3)"
   ]
  },
  {
   "cell_type": "code",
   "execution_count": null,
   "metadata": {},
   "outputs": [],
   "source": [
    "add(\"我喜欢吃\",\"柚子\")"
   ]
  },
  {
   "cell_type": "code",
   "execution_count": null,
   "metadata": {},
   "outputs": [],
   "source": [
    "def add(number1,number2):\n",
    "    return(number1+number2)\n",
    "add(1,556)"
   ]
  },
  {
   "cell_type": "code",
   "execution_count": null,
   "metadata": {},
   "outputs": [],
   "source": [
    "#函数的参数包括形参和实参\n",
    "help(add)"
   ]
  },
  {
   "cell_type": "code",
   "execution_count": null,
   "metadata": {},
   "outputs": [],
   "source": [
    "def saysomething(name,word):\n",
    "    print (name+'->'+word)\n",
    "saysomething('louis','let\\'s programe change the world')"
   ]
  },
  {
   "cell_type": "code",
   "execution_count": null,
   "metadata": {},
   "outputs": [],
   "source": [
    "saysomething('let\\'s programe change the world','louis')#不设置关键字参数会顺序是有意义的"
   ]
  },
  {
   "cell_type": "code",
   "execution_count": null,
   "metadata": {},
   "outputs": [],
   "source": [
    "saysomething(word='let\\'s programe change the world',name='louis')#设置了关键字参数顺序就没意义了"
   ]
  },
  {
   "cell_type": "code",
   "execution_count": null,
   "metadata": {},
   "outputs": [],
   "source": [
    "def saysomething2(name=\"Louis\",word='let\\'s programe change the word'):\n",
    "    print (name+'->'+word)\n",
    "saysomething2()#此处为设置了默认参数"
   ]
  },
  {
   "cell_type": "code",
   "execution_count": null,
   "metadata": {},
   "outputs": [],
   "source": [
    "saysomething2(\"MoYan\",'if the heart doesn\\'t move, what can the wind do; if you don\\'t hurt, the years are safe.')"
   ]
  },
  {
   "cell_type": "code",
   "execution_count": null,
   "metadata": {},
   "outputs": [],
   "source": [
    "#收集参数collective parameters allow programmer to join a series of parameters in bracket\n",
    "def test(*parameters):\n",
    "    print(\"the length of the parameter is\",len(parameters))#the plus sign doesn't allow to exist between strings and integer numbers\n",
    "    print('the second parameter of this function is',parameters[1])\n",
    "test('ssa',45,1,45,1,456465,54545.55445,'sadasda')"
   ]
  },
  {
   "cell_type": "code",
   "execution_count": null,
   "metadata": {},
   "outputs": [],
   "source": [
    "#function and procedure\n",
    "def hello():\n",
    "    print(\"hello world\")\n",
    "temp= hello()"
   ]
  },
  {
   "cell_type": "code",
   "execution_count": null,
   "metadata": {},
   "outputs": [],
   "source": [
    "temp"
   ]
  },
  {
   "cell_type": "code",
   "execution_count": null,
   "metadata": {},
   "outputs": [],
   "source": [
    "print(temp)#the function python will always return something, even if there isn't any return in the function.\n",
    "#if there is not return in that function,it will return none"
   ]
  },
  {
   "cell_type": "code",
   "execution_count": null,
   "metadata": {},
   "outputs": [],
   "source": [
    "def back():\n",
    "    return[1,'litle turtle',9.66]\n",
    "back()"
   ]
  },
  {
   "cell_type": "code",
   "execution_count": null,
   "metadata": {},
   "outputs": [],
   "source": [
    "def back():\n",
    "    return 1,2,3,4,56,5\n",
    "back()#evenif there isn't braket, element with comma means this is an element of a tuple."
   ]
  },
  {
   "cell_type": "code",
   "execution_count": null,
   "metadata": {},
   "outputs": [],
   "source": [
    "#Local variable& Global variable"
   ]
  },
  {
   "cell_type": "code",
   "execution_count": null,
   "metadata": {},
   "outputs": [],
   "source": [
    "def discounts(price,rate):\n",
    "    final_price=price*rate\n",
    "    return final_price\n",
    "old_price=float(input('please enter the original price:'))\n",
    "rate=float(input('please enter the discount rate'))\n",
    "new_price=discounts(old_price,rate)\n",
    "print(\"the discounted price\",new_price)"
   ]
  },
  {
   "cell_type": "code",
   "execution_count": null,
   "metadata": {},
   "outputs": [],
   "source": [
    "\n",
    "def discounts(price,rate):\n",
    "    final_price=price*rate\n",
    "    return final_price\n",
    "old_price=float(input('please enter the original price:'))\n",
    "rate=float(input('please enter the discount rate'))\n",
    "new_price=discounts(old_price,rate)\n",
    "print(\"the discounted price\",new_price)\n",
    "print('here we try to print a value of the local variable-final_price:',final_price)\n",
    "#variables which define in the function is local variable.it can't be founf"
   ]
  },
  {
   "cell_type": "code",
   "execution_count": null,
   "metadata": {},
   "outputs": [],
   "source": [
    "def discounts(price,rate):\n",
    "    final_price=price*rate\n",
    "    old_price=88#Here we try to modify global variables\n",
    "    print(\"the value of modified old_price\",old_price)\n",
    "    return final_price\n",
    "old_price=float(input('please enter the original price:'))\n",
    "rate=float(input('please enter the discount rate'))\n",
    "new_price=discounts(old_price,rate)\n",
    "print(\"the discounted price\",new_price)\n",
    "#variables we defined out of the function is global variable.Global variables can be visit everywhere.\n",
    "#but we can't modify a global variable in a function. If we modified it,in the function there will define another local variable with the same label as the global out"
   ]
  },
  {
   "cell_type": "code",
   "execution_count": null,
   "metadata": {},
   "outputs": [],
   "source": [
    "#Embedded functions and closures\n",
    "#using global function to make local variable to be a global\n",
    "#example\n",
    "count=10\n",
    "def myf():\n",
    "    count=5\n",
    "    print(count)\n",
    "myf()"
   ]
  },
  {
   "cell_type": "code",
   "execution_count": null,
   "metadata": {},
   "outputs": [],
   "source": [
    "count"
   ]
  },
  {
   "cell_type": "code",
   "execution_count": null,
   "metadata": {},
   "outputs": [],
   "source": [
    "count=10\n",
    "def myf():\n",
    "    global count\n",
    "    count=5\n",
    "    print(count)\n",
    "myf()"
   ]
  },
  {
   "cell_type": "code",
   "execution_count": null,
   "metadata": {},
   "outputs": [],
   "source": [
    "count#using global function has change the global variable in a function"
   ]
  },
  {
   "cell_type": "code",
   "execution_count": null,
   "metadata": {},
   "outputs": [],
   "source": [
    "#embedded function\n",
    "#python supports the nesting of functions\n",
    "def func1():\n",
    "    print(\"func1() is being called\")\n",
    "    def func2():\n",
    "        print('func2() is being called')\n",
    "    func2()\n",
    "func1()"
   ]
  },
  {
   "cell_type": "code",
   "execution_count": null,
   "metadata": {},
   "outputs": [],
   "source": [
    "#func2 is not available without using func1\n",
    "func2()"
   ]
  },
  {
   "cell_type": "code",
   "execution_count": null,
   "metadata": {},
   "outputs": [],
   "source": [
    "#closure-The important structure of functional programming\n",
    "def funx(x):\n",
    "    def funy(y):\n",
    "        return x*y\n",
    "    return funy\n",
    "#closure can be treated as an inner function which has called a variable from out.\n",
    "i=funx(8)\n",
    "i#i is a function with a parameter,but it need two parameters to complete this function"
   ]
  },
  {
   "cell_type": "code",
   "execution_count": null,
   "metadata": {},
   "outputs": [],
   "source": [
    "type(i)#"
   ]
  },
  {
   "cell_type": "code",
   "execution_count": null,
   "metadata": {},
   "outputs": [],
   "source": [
    "i(5)"
   ]
  },
  {
   "cell_type": "code",
   "execution_count": null,
   "metadata": {},
   "outputs": [],
   "source": [
    "funx(8)(5)"
   ]
  },
  {
   "cell_type": "code",
   "execution_count": null,
   "metadata": {},
   "outputs": [],
   "source": [
    "funy(5)#if you call closure outside without providing the first needed parameter,it will report error"
   ]
  },
  {
   "cell_type": "code",
   "execution_count": null,
   "metadata": {},
   "outputs": [],
   "source": [
    "#return must be in the function"
   ]
  },
  {
   "cell_type": "code",
   "execution_count": null,
   "metadata": {},
   "outputs": [],
   "source": [
    "def f():\n",
    "    x=5\n",
    "    return x\n",
    "f()"
   ]
  },
  {
   "cell_type": "code",
   "execution_count": null,
   "metadata": {},
   "outputs": [],
   "source": [
    "x=5\n",
    "x*=x\n",
    "x"
   ]
  },
  {
   "cell_type": "code",
   "execution_count": null,
   "metadata": {},
   "outputs": [],
   "source": [
    "def func1():\n",
    "    x=5#x isn't a global variable, but outside of fun2\n",
    "    def fun2():\n",
    "        x*=x\n",
    "        return x\n",
    "    return fun2()\n",
    "func1()\n",
    "#when python run the inner function, all the variables in the inner are local.they can't find the true value of x"
   ]
  },
  {
   "cell_type": "code",
   "execution_count": null,
   "metadata": {},
   "outputs": [],
   "source": [
    "def func1():\n",
    "    x=[5]\n",
    "    def fun2():\n",
    "        x[0]*=x[0]#the number in the square bracket is the index of 5\n",
    "        return x[0]\n",
    "    return fun2()\n",
    "func1()#because X[5] is not a variable but a list and list isn't saved in a Stack"
   ]
  },
  {
   "cell_type": "code",
   "execution_count": null,
   "metadata": {},
   "outputs": [],
   "source": [
    "def func1():\n",
    "    x=5\n",
    "    def fun2():\n",
    "        nonlocal x  # nonlocal is a function that will enable variables to be referenced out of one layer.\n",
    "        x*=x\n",
    "        return x\n",
    "    return fun2()\n",
    "func1() #the range of global is largest, the range of nonlocal is only the function"
   ]
  },
  {
   "cell_type": "code",
   "execution_count": null,
   "metadata": {},
   "outputs": [],
   "source": [
    "# the lambda expression\n",
    "#use lambda expression to build anonymous function\n",
    "def df(x):\n",
    "    return 2*x+1\n",
    "df(5)"
   ]
  },
  {
   "cell_type": "code",
   "execution_count": null,
   "metadata": {},
   "outputs": [],
   "source": [
    "lambda x:2*x+1#before colon is parameter,after colon is return value"
   ]
  },
  {
   "cell_type": "code",
   "execution_count": null,
   "metadata": {},
   "outputs": [],
   "source": [
    "g=lambda x:2*x+1\n",
    "g(5)"
   ]
  },
  {
   "cell_type": "code",
   "execution_count": null,
   "metadata": {},
   "outputs": [],
   "source": [
    "#how to use lambda expression to define an anonymous function with two parameter\n",
    "g=lambda x,y:x+y\n",
    "g(3,4)"
   ]
  },
  {
   "cell_type": "code",
   "execution_count": null,
   "metadata": {},
   "outputs": [],
   "source": [
    "# two useful bif\n",
    "#first filter\n",
    "list(filter(None,[1,0,False,True]))#filter all element who is not ture"
   ]
  },
  {
   "cell_type": "code",
   "execution_count": null,
   "metadata": {},
   "outputs": [],
   "source": [
    "#we can set a filter rule in the first section\n",
    "def odd(x):\n",
    "    return x%2#the type of what is returned is Boolean\n",
    "temp=range(1,20)\n",
    "show=filter(odd,temp)\n",
    "list(show)"
   ]
  },
  {
   "cell_type": "code",
   "execution_count": null,
   "metadata": {},
   "outputs": [],
   "source": [
    "#simplification of code above,one row can explain this situation\n",
    "list(filter(lambda x:x%2,range(1,20)))"
   ]
  },
  {
   "cell_type": "code",
   "execution_count": null,
   "metadata": {},
   "outputs": [],
   "source": [
    "#second Mapping function（映射函数）\n",
    "list(map(lambda x:x*2,range(10)))"
   ]
  },
  {
   "cell_type": "code",
   "execution_count": null,
   "metadata": {},
   "outputs": [],
   "source": [
    "#What is recursion\n",
    "def recursion():\n",
    "    recursion()#this is a basic recursion,and the result of this recursion is infinite\n",
    "recursion()"
   ]
  },
  {
   "cell_type": "code",
   "execution_count": null,
   "metadata": {},
   "outputs": [],
   "source": []
  },
  {
   "cell_type": "code",
   "execution_count": null,
   "metadata": {},
   "outputs": [],
   "source": []
  },
  {
   "cell_type": "code",
   "execution_count": null,
   "metadata": {},
   "outputs": [],
   "source": []
  },
  {
   "cell_type": "code",
   "execution_count": null,
   "metadata": {},
   "outputs": [],
   "source": []
  },
  {
   "cell_type": "code",
   "execution_count": null,
   "metadata": {},
   "outputs": [],
   "source": []
  },
  {
   "cell_type": "code",
   "execution_count": null,
   "metadata": {},
   "outputs": [],
   "source": []
  },
  {
   "cell_type": "code",
   "execution_count": null,
   "metadata": {},
   "outputs": [],
   "source": []
  },
  {
   "cell_type": "code",
   "execution_count": null,
   "metadata": {},
   "outputs": [],
   "source": []
  },
  {
   "cell_type": "code",
   "execution_count": null,
   "metadata": {},
   "outputs": [],
   "source": []
  },
  {
   "cell_type": "code",
   "execution_count": null,
   "metadata": {},
   "outputs": [],
   "source": []
  },
  {
   "cell_type": "code",
   "execution_count": null,
   "metadata": {},
   "outputs": [],
   "source": []
  },
  {
   "cell_type": "code",
   "execution_count": null,
   "metadata": {},
   "outputs": [],
   "source": []
  },
  {
   "cell_type": "code",
   "execution_count": null,
   "metadata": {},
   "outputs": [],
   "source": []
  },
  {
   "cell_type": "code",
   "execution_count": null,
   "metadata": {},
   "outputs": [],
   "source": []
  },
  {
   "cell_type": "code",
   "execution_count": null,
   "metadata": {},
   "outputs": [],
   "source": []
  },
  {
   "cell_type": "code",
   "execution_count": null,
   "metadata": {},
   "outputs": [],
   "source": []
  },
  {
   "cell_type": "code",
   "execution_count": null,
   "metadata": {},
   "outputs": [],
   "source": []
  },
  {
   "cell_type": "code",
   "execution_count": null,
   "metadata": {},
   "outputs": [],
   "source": []
  },
  {
   "cell_type": "code",
   "execution_count": null,
   "metadata": {},
   "outputs": [],
   "source": []
  },
  {
   "cell_type": "code",
   "execution_count": null,
   "metadata": {},
   "outputs": [],
   "source": []
  },
  {
   "cell_type": "code",
   "execution_count": null,
   "metadata": {},
   "outputs": [],
   "source": []
  },
  {
   "cell_type": "code",
   "execution_count": null,
   "metadata": {},
   "outputs": [],
   "source": []
  },
  {
   "cell_type": "code",
   "execution_count": null,
   "metadata": {},
   "outputs": [],
   "source": []
  },
  {
   "cell_type": "code",
   "execution_count": null,
   "metadata": {},
   "outputs": [],
   "source": []
  },
  {
   "cell_type": "code",
   "execution_count": null,
   "metadata": {},
   "outputs": [],
   "source": []
  },
  {
   "cell_type": "code",
   "execution_count": null,
   "metadata": {},
   "outputs": [],
   "source": []
  },
  {
   "cell_type": "code",
   "execution_count": null,
   "metadata": {},
   "outputs": [],
   "source": []
  },
  {
   "cell_type": "code",
   "execution_count": null,
   "metadata": {},
   "outputs": [],
   "source": []
  },
  {
   "cell_type": "code",
   "execution_count": null,
   "metadata": {},
   "outputs": [],
   "source": []
  },
  {
   "cell_type": "code",
   "execution_count": null,
   "metadata": {},
   "outputs": [],
   "source": []
  },
  {
   "cell_type": "code",
   "execution_count": null,
   "metadata": {},
   "outputs": [],
   "source": []
  }
 ],
 "metadata": {
  "kernelspec": {
   "display_name": "Python 3",
   "language": "python",
   "name": "python3"
  },
  "language_info": {
   "codemirror_mode": {
    "name": "ipython",
    "version": 3
   },
   "file_extension": ".py",
   "mimetype": "text/x-python",
   "name": "python",
   "nbconvert_exporter": "python",
   "pygments_lexer": "ipython3",
   "version": "3.8.3"
  }
 },
 "nbformat": 4,
 "nbformat_minor": 4
}
