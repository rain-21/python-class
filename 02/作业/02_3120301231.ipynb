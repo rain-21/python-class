{
 "cells": [
  {
   "cell_type": "code",
   "execution_count": 1,
   "metadata": {},
   "outputs": [],
   "source": [
    "def print_2(*a):\n",
    "    a1,a2 = a\n",
    "    print(f'a1:{a1},a2:{a2}')\n",
    "\n",
    "def print_2_new(a1,a2):\n",
    "    print(f'a1:{a1},a2:{a2}')\n",
    "    \n",
    "def print_1(a1):\n",
    "    print(f\"a1:{a1}\")\n",
    "    \n",
    "def print_none():\n",
    "    print(\"I got nothing!\")"
   ]
  },
  {
   "cell_type": "code",
   "execution_count": 2,
   "metadata": {},
   "outputs": [
    {
     "name": "stdout",
     "output_type": "stream",
     "text": [
      "a1:1,a2:2\n"
     ]
    }
   ],
   "source": [
    "print_2(1,2)"
   ]
  },
  {
   "cell_type": "code",
   "execution_count": 3,
   "metadata": {},
   "outputs": [
    {
     "name": "stdout",
     "output_type": "stream",
     "text": [
      "a1:1,a2:2\n"
     ]
    }
   ],
   "source": [
    "print_2_new(1,2)"
   ]
  },
  {
   "cell_type": "code",
   "execution_count": 4,
   "metadata": {},
   "outputs": [
    {
     "name": "stdout",
     "output_type": "stream",
     "text": [
      "a1:1\n"
     ]
    }
   ],
   "source": [
    "print_1(1)"
   ]
  },
  {
   "cell_type": "code",
   "execution_count": 5,
   "metadata": {},
   "outputs": [
    {
     "name": "stdout",
     "output_type": "stream",
     "text": [
      "I got nothing!\n"
     ]
    }
   ],
   "source": [
    "print_none()"
   ]
  },
  {
   "cell_type": "code",
   "execution_count": 6,
   "metadata": {},
   "outputs": [],
   "source": [
    "def print_2_2(a):\n",
    "    a1,a2 = a\n",
    "    print(f'a1:{a1},a2:{a2}')"
   ]
  },
  {
   "cell_type": "code",
   "execution_count": 8,
   "metadata": {},
   "outputs": [
    {
     "name": "stdout",
     "output_type": "stream",
     "text": [
      "a1:1,a2:2\n"
     ]
    }
   ],
   "source": [
    "print_2_2([1,2])"
   ]
  },
  {
   "cell_type": "code",
   "execution_count": 9,
   "metadata": {},
   "outputs": [
    {
     "ename": "TypeError",
     "evalue": "print_2_2() takes 1 positional argument but 2 were given",
     "output_type": "error",
     "traceback": [
      "\u001b[1;31m---------------------------------------------------------------------------\u001b[0m",
      "\u001b[1;31mTypeError\u001b[0m                                 Traceback (most recent call last)",
      "\u001b[1;32m<ipython-input-9-bf2968ac9869>\u001b[0m in \u001b[0;36m<module>\u001b[1;34m()\u001b[0m\n\u001b[1;32m----> 1\u001b[1;33m \u001b[0mprint_2_2\u001b[0m\u001b[1;33m(\u001b[0m\u001b[1;36m1\u001b[0m\u001b[1;33m,\u001b[0m\u001b[1;36m2\u001b[0m\u001b[1;33m)\u001b[0m\u001b[1;33m\u001b[0m\u001b[0m\n\u001b[0m",
      "\u001b[1;31mTypeError\u001b[0m: print_2_2() takes 1 positional argument but 2 were given"
     ]
    }
   ],
   "source": [
    "print_2_2(1,2)"
   ]
  },
  {
   "cell_type": "code",
   "execution_count": 10,
   "metadata": {},
   "outputs": [
    {
     "name": "stdout",
     "output_type": "stream",
     "text": [
      "You have 20 cheeses!\n",
      "You have 30 boxes of crackers!\n"
     ]
    }
   ],
   "source": [
    "def che_and_cra(cheese_count, boxes_of_crackers):\n",
    "    print(f'You have {cheese_count} cheeses!')\n",
    "    print(f'You have {boxes_of_crackers} boxes of crackers!')\n",
    "    \n",
    "che_and_cra(20,30)"
   ]
  },
  {
   "cell_type": "code",
   "execution_count": 11,
   "metadata": {},
   "outputs": [
    {
     "name": "stdout",
     "output_type": "stream",
     "text": [
      "You have 10 cheeses!\n",
      "You have 20 boxes of crackers!\n"
     ]
    }
   ],
   "source": [
    "a = 10\n",
    "b = 20\n",
    "che_and_cra(a,b)"
   ]
  },
  {
   "cell_type": "code",
   "execution_count": 12,
   "metadata": {},
   "outputs": [
    {
     "name": "stdout",
     "output_type": "stream",
     "text": [
      "You have 30 cheeses!\n",
      "You have 50 boxes of crackers!\n"
     ]
    }
   ],
   "source": [
    "che_and_cra(a+20,b+30)"
   ]
  },
  {
   "cell_type": "code",
   "execution_count": 17,
   "metadata": {},
   "outputs": [],
   "source": [
    "filename = 'Sample.txt'\n",
    "target = open(filename, 'w')\n",
    "line1 = input(\"line 1 :\")\n",
    "line2 = input(\"line 2 :\")\n",
    "line3 = input(\"line 3 :\")\n",
    "target.write(line1)\n",
    "target.write('\\n')\n",
    "target.write(line2)\n",
    "target.write('\\n')\n",
    "target.write(line3)\n",
    "target.write('\\n')\n",
    "target.close()"
   ]
  },
  {
   "cell_type": "code",
   "execution_count": 18,
   "metadata": {},
   "outputs": [],
   "source": [
    "text = open(filename)"
   ]
  },
  {
   "cell_type": "code",
   "execution_count": 19,
   "metadata": {},
   "outputs": [
    {
     "data": {
      "text/plain": [
       "'1\\n2\\n3\\n'"
      ]
     },
     "execution_count": 19,
     "metadata": {},
     "output_type": "execute_result"
    }
   ],
   "source": [
    "text.read()"
   ]
  },
  {
   "cell_type": "code",
   "execution_count": 32,
   "metadata": {},
   "outputs": [],
   "source": [
    "def print_all(f):\n",
    "    print(f.read())\n",
    "    \n",
    "def rewind(f):\n",
    "    print(f.seek(0))\n",
    "    \n",
    "def print_a_line(line_count,f):\n",
    "    print(line_count,f.readline())"
   ]
  },
  {
   "cell_type": "code",
   "execution_count": 38,
   "metadata": {},
   "outputs": [],
   "source": [
    "current_file = open(filename)"
   ]
  },
  {
   "cell_type": "code",
   "execution_count": 34,
   "metadata": {},
   "outputs": [
    {
     "name": "stdout",
     "output_type": "stream",
     "text": [
      "1\n",
      "2\n",
      "3\n",
      "\n"
     ]
    }
   ],
   "source": [
    "print_all(current_file)"
   ]
  },
  {
   "cell_type": "code",
   "execution_count": 35,
   "metadata": {},
   "outputs": [
    {
     "name": "stdout",
     "output_type": "stream",
     "text": [
      "0\n"
     ]
    }
   ],
   "source": [
    "rewind(current_file)"
   ]
  },
  {
   "cell_type": "code",
   "execution_count": 39,
   "metadata": {},
   "outputs": [
    {
     "name": "stdout",
     "output_type": "stream",
     "text": [
      "1 1\n",
      "\n",
      "2 2\n",
      "\n",
      "3 3\n",
      "\n"
     ]
    }
   ],
   "source": [
    "print_a_line(1,current_file)\n",
    "print_a_line(2,current_file)\n",
    "print_a_line(3,current_file)"
   ]
  },
  {
   "cell_type": "code",
   "execution_count": 40,
   "metadata": {},
   "outputs": [],
   "source": [
    "current_file.close()"
   ]
  },
  {
   "cell_type": "code",
   "execution_count": 43,
   "metadata": {},
   "outputs": [
    {
     "name": "stdout",
     "output_type": "stream",
     "text": [
      "3\n",
      "3\n"
     ]
    }
   ],
   "source": [
    "def add(a,b):\n",
    "    print(a+b)\n",
    "    return a+b\n",
    "\n",
    "age = add(1,2)\n",
    "print(age)"
   ]
  },
  {
   "cell_type": "code",
   "execution_count": 45,
   "metadata": {},
   "outputs": [
    {
     "name": "stdout",
     "output_type": "stream",
     "text": [
      "a>b\n"
     ]
    }
   ],
   "source": [
    "a = input(\"a:\")\n",
    "b = input(\"b:\")\n",
    "c = input('c:')\n",
    "if a < b:\n",
    "    print(\"a<b\")\n",
    "elif a == b:\n",
    "    print('a=b')\n",
    "else:\n",
    "    print(\"a>b\")"
   ]
  },
  {
   "cell_type": "code",
   "execution_count": 48,
   "metadata": {},
   "outputs": [
    {
     "data": {
      "text/plain": [
       "False"
      ]
     },
     "execution_count": 48,
     "metadata": {},
     "output_type": "execute_result"
    }
   ],
   "source": [
    "'b' == 'a'"
   ]
  },
  {
   "cell_type": "code",
   "execution_count": 49,
   "metadata": {},
   "outputs": [
    {
     "data": {
      "text/plain": [
       "True"
      ]
     },
     "execution_count": 49,
     "metadata": {},
     "output_type": "execute_result"
    }
   ],
   "source": [
    "'a' == 'a'"
   ]
  },
  {
   "cell_type": "code",
   "execution_count": 50,
   "metadata": {},
   "outputs": [
    {
     "data": {
      "text/plain": [
       "False"
      ]
     },
     "execution_count": 50,
     "metadata": {},
     "output_type": "execute_result"
    }
   ],
   "source": [
    "1 == \"a\""
   ]
  },
  {
   "cell_type": "code",
   "execution_count": 52,
   "metadata": {},
   "outputs": [
    {
     "name": "stdout",
     "output_type": "stream",
     "text": [
      "sum = 5050\n"
     ]
    }
   ],
   "source": [
    "n = 100\n",
    "sum = 0\n",
    "flag = 1\n",
    "while flag:\n",
    "    sum = sum + n\n",
    "    n -= 1\n",
    "    if n == 0:\n",
    "        flag = 0\n",
    "\n",
    "print(f'sum = {sum}')"
   ]
  },
  {
   "cell_type": "code",
   "execution_count": 53,
   "metadata": {},
   "outputs": [
    {
     "name": "stdout",
     "output_type": "stream",
     "text": [
      "0\n",
      "1\n",
      "2\n",
      "3\n",
      "4\n",
      "5\n"
     ]
    }
   ],
   "source": [
    "for i in range(6):\n",
    "    print(i)"
   ]
  },
  {
   "cell_type": "code",
   "execution_count": 56,
   "metadata": {},
   "outputs": [],
   "source": [
    "number_file = open('numbers.txt','w')"
   ]
  },
  {
   "cell_type": "code",
   "execution_count": 61,
   "metadata": {},
   "outputs": [
    {
     "data": {
      "text/plain": [
       "1"
      ]
     },
     "execution_count": 61,
     "metadata": {},
     "output_type": "execute_result"
    }
   ],
   "source": [
    "number_file.write('1')"
   ]
  },
  {
   "cell_type": "code",
   "execution_count": 63,
   "metadata": {},
   "outputs": [],
   "source": [
    "number_file.close()"
   ]
  },
  {
   "cell_type": "code",
   "execution_count": 64,
   "metadata": {},
   "outputs": [],
   "source": [
    "file = open(\"numbers.txt\")"
   ]
  },
  {
   "cell_type": "code",
   "execution_count": 65,
   "metadata": {},
   "outputs": [
    {
     "data": {
      "text/plain": [
       "'1'"
      ]
     },
     "execution_count": 65,
     "metadata": {},
     "output_type": "execute_result"
    }
   ],
   "source": [
    "file.read()"
   ]
  },
  {
   "cell_type": "code",
   "execution_count": 99,
   "metadata": {},
   "outputs": [],
   "source": [
    "import numpy as np\n",
    "from keras.models import Sequential\n",
    "from keras.layers import Dense,Dropout,Flatten,Conv1D,MaxPooling1D\n",
    "import matplotlib.pyplot as plt"
   ]
  },
  {
   "cell_type": "code",
   "execution_count": 100,
   "metadata": {},
   "outputs": [],
   "source": [
    "def data_pre(data,label):\n",
    "    a = np.loadtxt(data)\n",
    "    b = a[0:144000]\n",
    "    c = b.reshape(240,600)\n",
    "    np.random.shuffle(c)\n",
    "    train = c[:200,:]\n",
    "    test = c[200:,:]\n",
    "    label_train = np.array([label for i in range(0,200)])\n",
    "    label_test = np.array([label for i in range(0,40)])\n",
    "    return train, test, label_train, label_test"
   ]
  },
  {
   "cell_type": "code",
   "execution_count": 101,
   "metadata": {},
   "outputs": [],
   "source": [
    "def stackkk(a,b,c,d,e,f,g,h):\n",
    "    aa = np.vstack((a,e))\n",
    "    bb = np.vstack((b,f))\n",
    "    cc = np.hstack((c,g))\n",
    "    dd = np.hstack((d,h))\n",
    "    return aa, bb, cc, dd"
   ]
  },
  {
   "cell_type": "code",
   "execution_count": 102,
   "metadata": {},
   "outputs": [],
   "source": [
    "x_tra0, x_tes0, y_tra0, y_tes0 = data_pre('n.txt',0)\n",
    "x_tra1, x_tes1, y_tra1, y_tes1 = data_pre('b.txt',1)\n",
    "x_tra2, x_tes2, y_tra2, y_tes2 = data_pre('i.txt',2)\n",
    "x_tra3, x_tes3, y_tra3, y_tes3 = data_pre('o.txt',3)\n",
    "x_tra4, x_tes4, y_tra4, y_tes4 = data_pre('h.txt',4)"
   ]
  },
  {
   "cell_type": "code",
   "execution_count": 119,
   "metadata": {},
   "outputs": [],
   "source": [
    "tr1, te1, yr1, ye1 = stackkk(x_tra0, x_tes0, y_tra0, y_tes0, x_tra1, x_tes1, y_tra1, y_tes1)\n",
    "tr2, te2, yr2, ye2 = stackkk(tr1, te1, yr1, ye1, x_tra2, x_tes2, y_tra2, y_tes2)\n",
    "tr3, te3, yr3, ye3 = stackkk(tr2, te2, yr2, ye2, x_tra3, x_tes3, y_tra3, y_tes3)\n",
    "tr4, te4, yr4, ye4 = stackkk(tr3, te3, yr3, ye3, x_tra4, x_tes4, y_tra4, y_tes4)\n",
    "data_train = tr4.reshape(1000,600,1)\n",
    "data_test = te4.reshape(200,600,1)\n",
    "labe1_train = yr4\n",
    "label_test = ye4"
   ]
  },
  {
   "cell_type": "code",
   "execution_count": 120,
   "metadata": {},
   "outputs": [],
   "source": [
    "state = np.random.get_state()\n",
    "np.random.shuffle(data_train)\n",
    "np.random.set_state(state)\n",
    "np.random.shuffle(labe1_train)"
   ]
  },
  {
   "cell_type": "code",
   "execution_count": 121,
   "metadata": {},
   "outputs": [],
   "source": [
    "def to_one_hot(labels, dimension = 5):\n",
    "    results = np.zeros((len(labels),dimension))\n",
    "    for i,label in enumerate(labels):\n",
    "        results[i,label] = 1\n",
    "    return results"
   ]
  },
  {
   "cell_type": "code",
   "execution_count": 122,
   "metadata": {},
   "outputs": [],
   "source": [
    "one_hot_train_label = to_one_hot(labe1_train)\n",
    "one_hot_test_label = to_one_hot(label_test)"
   ]
  },
  {
   "cell_type": "code",
   "execution_count": 125,
   "metadata": {},
   "outputs": [
    {
     "name": "stdout",
     "output_type": "stream",
     "text": [
      "<bound method Network.summary of <keras.engine.sequential.Sequential object at 0x0000012D5E61C048>>\n",
      "Train on 700 samples, validate on 300 samples\n",
      "Epoch 1/30\n",
      " - 1s - loss: 13.0155 - accuracy: 0.1843 - val_loss: 12.9094 - val_accuracy: 0.1967\n",
      "Epoch 2/30\n",
      " - 0s - loss: 12.7185 - accuracy: 0.2043 - val_loss: 12.8945 - val_accuracy: 0.2000\n",
      "Epoch 3/30\n",
      " - 0s - loss: 13.0186 - accuracy: 0.1829 - val_loss: 12.8945 - val_accuracy: 0.2000\n",
      "Epoch 4/30\n",
      " - 0s - loss: 12.9994 - accuracy: 0.1900 - val_loss: 12.8945 - val_accuracy: 0.2000\n",
      "Epoch 5/30\n",
      " - 0s - loss: 12.7341 - accuracy: 0.2071 - val_loss: 12.8945 - val_accuracy: 0.2000\n",
      "Epoch 6/30\n",
      " - 0s - loss: 12.7222 - accuracy: 0.2071 - val_loss: 12.6258 - val_accuracy: 0.2167\n",
      "Epoch 7/30\n",
      " - 0s - loss: 13.0096 - accuracy: 0.1929 - val_loss: 12.6258 - val_accuracy: 0.2167\n",
      "Epoch 8/30\n",
      " - 0s - loss: 12.9866 - accuracy: 0.1943 - val_loss: 12.6258 - val_accuracy: 0.2167\n",
      "Epoch 9/30\n",
      " - 0s - loss: 13.0096 - accuracy: 0.1929 - val_loss: 12.6258 - val_accuracy: 0.2167\n",
      "Epoch 10/30\n",
      " - 0s - loss: 13.0096 - accuracy: 0.1929 - val_loss: 12.6258 - val_accuracy: 0.2167\n",
      "Epoch 11/30\n",
      " - 1s - loss: 13.0096 - accuracy: 0.1929 - val_loss: 12.6258 - val_accuracy: 0.2167\n",
      "Epoch 12/30\n",
      " - 1s - loss: 12.9866 - accuracy: 0.1943 - val_loss: 12.6258 - val_accuracy: 0.2167\n",
      "Epoch 13/30\n",
      " - 1s - loss: 13.0096 - accuracy: 0.1929 - val_loss: 12.6258 - val_accuracy: 0.2167\n",
      "Epoch 14/30\n",
      " - 1s - loss: 13.0096 - accuracy: 0.1929 - val_loss: 12.6258 - val_accuracy: 0.2167\n",
      "Epoch 15/30\n",
      " - 0s - loss: 13.0096 - accuracy: 0.1929 - val_loss: 12.6258 - val_accuracy: 0.2167\n",
      "Epoch 16/30\n",
      " - 0s - loss: 13.0326 - accuracy: 0.1914 - val_loss: 12.6258 - val_accuracy: 0.2167\n",
      "Epoch 17/30\n",
      " - 0s - loss: 12.9239 - accuracy: 0.1971 - val_loss: 12.6258 - val_accuracy: 0.2167\n",
      "Epoch 18/30\n",
      " - 0s - loss: 12.9866 - accuracy: 0.1943 - val_loss: 12.6258 - val_accuracy: 0.2167\n",
      "Epoch 19/30\n",
      " - 0s - loss: 13.0326 - accuracy: 0.1914 - val_loss: 12.6258 - val_accuracy: 0.2167\n",
      "Epoch 20/30\n",
      " - 0s - loss: 13.0326 - accuracy: 0.1914 - val_loss: 12.6258 - val_accuracy: 0.2167\n",
      "Epoch 21/30\n",
      " - 0s - loss: 13.0096 - accuracy: 0.1929 - val_loss: 12.6258 - val_accuracy: 0.2167\n",
      "Epoch 22/30\n",
      " - 1s - loss: 13.0096 - accuracy: 0.1929 - val_loss: 12.6258 - val_accuracy: 0.2167\n",
      "Epoch 23/30\n",
      " - 1s - loss: 13.0096 - accuracy: 0.1929 - val_loss: 12.6258 - val_accuracy: 0.2167\n",
      "Epoch 24/30\n",
      " - 1s - loss: 13.0096 - accuracy: 0.1929 - val_loss: 12.6258 - val_accuracy: 0.2167\n",
      "Epoch 25/30\n",
      " - 1s - loss: 13.0096 - accuracy: 0.1929 - val_loss: 12.6258 - val_accuracy: 0.2167\n",
      "Epoch 26/30\n",
      " - 1s - loss: 13.0096 - accuracy: 0.1929 - val_loss: 12.6258 - val_accuracy: 0.2167\n",
      "Epoch 27/30\n",
      " - 1s - loss: 13.0096 - accuracy: 0.1929 - val_loss: 12.6258 - val_accuracy: 0.2167\n",
      "Epoch 28/30\n",
      " - 1s - loss: 13.0096 - accuracy: 0.1929 - val_loss: 12.6258 - val_accuracy: 0.2167\n",
      "Epoch 29/30\n",
      " - 1s - loss: 13.0096 - accuracy: 0.1929 - val_loss: 12.6258 - val_accuracy: 0.2167\n",
      "Epoch 30/30\n",
      " - 0s - loss: 13.0096 - accuracy: 0.1929 - val_loss: 12.6258 - val_accuracy: 0.2167\n"
     ]
    }
   ],
   "source": [
    "model = Sequential()\n",
    "model.add(Conv1D(filters = 16,\n",
    "                kernel_size = 25,\n",
    "                padding = 'same',\n",
    "                input_shape = (600,1),\n",
    "                activation = 'relu'))\n",
    "model.add(MaxPooling1D(pool_size = 4))\n",
    "model.add(Conv1D(filters = 10,\n",
    "                kernel_size = 25,\n",
    "                padding = 'same',\n",
    "                activation = 'relu'))\n",
    "model.add(MaxPooling1D(pool_size = 4))\n",
    "model.add(Dropout(0.25))\n",
    "model.add(Flatten())\n",
    "model.add(Dense(128,activation = 'relu'))\n",
    "model.add(Dropout(0.5))\n",
    "model.add(Dense(5,activation = 'softmax'))\n",
    "print(model.summary)\n",
    "model.compile(loss = 'categorical_crossentropy',\n",
    "             optimizer = 'adam', metrics = ['accuracy'])\n",
    "train_history=model.fit(x = data_train, y = one_hot_train_label,\n",
    "                        validation_split=0.3,\n",
    "                        epochs=30,batch_size=20,verbose=2)"
   ]
  },
  {
   "cell_type": "code",
   "execution_count": 126,
   "metadata": {},
   "outputs": [],
   "source": [
    "def show_train_history(train_history, train, validation):\n",
    "    plt.plot(train_history.history[train])\n",
    "    plt.plot(train_history.history[validation])\n",
    "    plt.ylabel(train)\n",
    "    plt.xlabel('Epoch')\n",
    "    plt.legend(['train','validation'],loc = 'upper left')\n",
    "    plt.show()"
   ]
  },
  {
   "cell_type": "code",
   "execution_count": 130,
   "metadata": {},
   "outputs": [
    {
     "data": {
      "image/png": "[encoded data removed]",
      "text/plain": [
       "<Figure size 432x288 with 1 Axes>"
      ]
     },
     "metadata": {},
     "output_type": "display_data"
    },
    {
     "data": {
      "image/png": "[encoded data removed]",
      "text/plain": [
       "<Figure size 432x288 with 1 Axes>"
      ]
     },
     "metadata": {},
     "output_type": "display_data"
    }
   ],
   "source": [
    "show_train_history(train_history, 'accuracy', 'val_accuracy')\n",
    "show_train_history(train_history, 'loss', 'val_loss')"
   ]
  },
  {
   "cell_type": "code",
   "execution_count": 1,
   "metadata": {},
   "outputs": [
    {
     "name": "stdout",
     "output_type": "stream",
     "text": [
      "gx len 1000\n",
      "ynew len 1000\n",
      "(1000, 1000)\n"
     ]
    },
    {
     "data": {
      "text/plain": [
       "<Figure size 640x480 with 1 Axes>"
      ]
     },
     "metadata": {},
     "output_type": "display_data"
    },
    {
     "data": {
      "text/plain": [
       "<mpl_toolkits.mplot3d.art3d.Poly3DCollection at 0x1c3cde12048>"
      ]
     },
     "execution_count": 1,
     "metadata": {},
     "output_type": "execute_result"
    }
   ],
   "source": [
    "import matplotlib.pyplot as plt\n",
    "import numpy as np\n",
    "from scipy.interpolate import interp1d\n",
    "from mpl_toolkits.mplot3d import Axes3D\n",
    "import math\n",
    "x = [0,0.8,1,1.8,2,2.8,3.3,3.8,4.3,5]\n",
    "yx = [0,1,0.8,1.8,1.6,2.6,1.8,1.4,1,0.4]\n",
    "xx = np.linspace(0,5,1000)\n",
    "gx = np.exp(-0.02*xx**2)\n",
    "print(\"gx len\",len(gx))\n",
    "f = interp1d(x, yx,kind=\"cubic\")\n",
    "ynew=f(xx)\n",
    "print(\"ynew len\",len(ynew))\n",
    "hx = np.zeros((1000,1000))\n",
    "print(hx.shape)\n",
    "for i in range(999):\n",
    "     hx[i+1,:math.floor(ynew[i+1]/0.05)]=gx[i+1]\n",
    "\n",
    "plt.plot(x,yx)\n",
    "plt.plot(xx,gx)\n",
    "plt.plot(xx,ynew)\n",
    "plt.show()\n",
    "fig1 = plt.figure()\n",
    "plt.title('3d')\n",
    "ax1 = Axes3D(fig1)\n",
    "x,y = np.meshgrid(xx,xx)\n",
    "ax1.plot_surface(x, y, hx, rstride=1, cstride=1, cmap=plt.get_cmap('rainbow'))"
   ]
  },
  {
   "cell_type": "code",
   "execution_count": 6,
   "metadata": {},
   "outputs": [
    {
     "name": "stdout",
     "output_type": "stream",
     "text": [
      "[ 1  2  3  4  5  6  7  8  9 10]\n",
      "[1.84147098 1.90929743 1.14112001 0.2431975  0.04107573 0.7205845\n",
      " 1.6569866  1.98935825 1.41211849 0.45597889]\n"
     ]
    },
    {
     "data": {
      "image/png": "[encoded data removed]",
      "text/plain": [
       "<Figure size 432x288 with 1 Axes>"
      ]
     },
     "metadata": {},
     "output_type": "display_data"
    }
   ],
   "source": [
    "x = np.arange(1,11)\n",
    "print(x)\n",
    "y = np.sin(x)+1\n",
    "print(y)\n",
    "plt.title(\"demo\") \n",
    "plt.xlabel(\"x\") \n",
    "plt.ylabel(\"y\") \n",
    "plt.plot(x,y) \n",
    "plt.show()"
   ]
  },
  {
   "cell_type": "code",
   "execution_count": 7,
   "metadata": {},
   "outputs": [
    {
     "data": {
      "image/png": "[encoded data removed]",
      "text/plain": [
       "<Figure size 432x288 with 1 Axes>"
      ]
     },
     "metadata": {},
     "output_type": "display_data"
    }
   ],
   "source": [
    "plt.plot(x,y,\"ob\")\n",
    "plt.show()"
   ]
  },
  {
   "cell_type": "code",
   "execution_count": null,
   "metadata": {},
   "outputs": [],
   "source": [
    "x = np.arange(0,2*np.pi,0.01)\n",
    "y1 = cos(x)\n",
    "y2 = sin(x)\n",
    "plt.subplot(211)\n",
    "plt.plot(x,y,'b')\n",
    "plt.subplot(212)\n",
    "plt.plot(x,)"
   ]
  }
 ],
 "metadata": {
  "kernelspec": {
   "display_name": "Python 3",
   "language": "python",
   "name": "python3"
  },
  "language_info": {
   "codemirror_mode": {
    "name": "ipython",
    "version": 3
   },
   "file_extension": ".py",
   "mimetype": "text/x-python",
   "name": "python",
   "nbconvert_exporter": "python",
   "pygments_lexer": "ipython3",
   "version": "3.6.5"
  }
 },
 "nbformat": 4,
 "nbformat_minor": 2
}
