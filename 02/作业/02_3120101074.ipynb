{
 "cells": [
  {
   "cell_type": "code",
   "execution_count": 3,
   "metadata": {},
   "outputs": [
    {
     "name": "stdout",
     "output_type": "stream",
     "text": [
      "a1 is: Wang, a2 is: Long\n"
     ]
    }
   ],
   "source": [
    "def print_two(*a):\n",
    "    a1, a2 = a\n",
    "    print(f\"a1 is: {a1}, a2 is: {a2}\")\n",
    "print_two(\"Wang\",\"Long\")"
   ]
  },
  {
   "cell_type": "code",
   "execution_count": 4,
   "metadata": {},
   "outputs": [
    {
     "name": "stdout",
     "output_type": "stream",
     "text": [
      "a1 is: Wang, a2 is: Long\n"
     ]
    }
   ],
   "source": [
    "def print_two_again(a1, a2):\n",
    "    print(f\"a1 is: {a1}, a2 is: {a2}\")\n",
    "print_two_again(\"Wang\",\"Long\")"
   ]
  },
  {
   "cell_type": "code",
   "execution_count": 6,
   "metadata": {},
   "outputs": [
    {
     "name": "stdout",
     "output_type": "stream",
     "text": [
      "a is: WL\n"
     ]
    }
   ],
   "source": [
    "def print_one(a1):\n",
    "    print(f\"a is: {a1}\")\n",
    "print_one(\"WL\")"
   ]
  },
  {
   "cell_type": "code",
   "execution_count": 7,
   "metadata": {},
   "outputs": [
    {
     "name": "stdout",
     "output_type": "stream",
     "text": [
      "Nothing\n"
     ]
    }
   ],
   "source": [
    "def print_none():\n",
    "    print(\"Nothing\")\n",
    "print_none()"
   ]
  },
  {
   "cell_type": "code",
   "execution_count": 8,
   "metadata": {},
   "outputs": [
    {
     "name": "stdout",
     "output_type": "stream",
     "text": [
      "Here's your file class2.txt:\n",
      "\n"
     ]
    }
   ],
   "source": [
    "filename = 'class2.txt'\n",
    "txt = open(filename)\n",
    "print(f\"Here's your file {filename}:\")\n",
    "print(txt.read())\n",
    "txt.close()"
   ]
  },
  {
   "cell_type": "code",
   "execution_count": 9,
   "metadata": {},
   "outputs": [
    {
     "name": "stdout",
     "output_type": "stream",
     "text": [
      "Please input something\n"
     ]
    },
    {
     "name": "stdin",
     "output_type": "stream",
     "text": [
      "line 1:  123\n",
      "line 2:  123\n"
     ]
    },
    {
     "name": "stdout",
     "output_type": "stream",
     "text": [
      "save and  close it.\n"
     ]
    }
   ],
   "source": [
    "target = open(filename, 'w')\n",
    "print(\"Please input something\")\n",
    "line1 = input(\"line 1: \")\n",
    "line2 = input(\"line 2: \")\n",
    "target.write(line1)\n",
    "target.write(\"\\n\")\n",
    "target.write(line2)\n",
    "target.write(\"\\n\")\n",
    "print(\"save and  close it.\")\n",
    "target.close()"
   ]
  },
  {
   "cell_type": "code",
   "execution_count": 13,
   "metadata": {},
   "outputs": [
    {
     "name": "stdout",
     "output_type": "stream",
     "text": [
      "Adding 3 + 3\n"
     ]
    },
    {
     "data": {
      "text/plain": [
       "6"
      ]
     },
     "execution_count": 13,
     "metadata": {},
     "output_type": "execute_result"
    }
   ],
   "source": [
    "def add(a, b):\n",
    "    print(f\"Adding {a} + {b}\")\n",
    "    return a + b\n",
    "add(3,3)"
   ]
  },
  {
   "cell_type": "markdown",
   "metadata": {},
   "source": [
    "### 列表"
   ]
  },
  {
   "cell_type": "code",
   "execution_count": 16,
   "metadata": {},
   "outputs": [
    {
     "name": "stdout",
     "output_type": "stream",
     "text": [
      "Tom\n",
      "Lily\n",
      "Rose\n"
     ]
    }
   ],
   "source": [
    "name_list = ['Tom', 'Lily', 'Rose']\n",
    "print(name_list[0]) # Tom\n",
    "print(name_list[1]) # Lily\n",
    "print(name_list[2]) # Rose"
   ]
  },
  {
   "cell_type": "code",
   "execution_count": 17,
   "metadata": {},
   "outputs": [
    {
     "name": "stdout",
     "output_type": "stream",
     "text": [
      "1\n",
      "1\n",
      "3\n"
     ]
    }
   ],
   "source": [
    "# index() 返回指定数据所在的下标\n",
    "print(name_list.index('Lily'))\n",
    "# count() 统计指定数据在当前列表中出现的次数\n",
    "print(name_list.count('Lily')) \n",
    "# len()：访问列表长度，即列表中数据的个数。\n",
    "print(len(name_list ))"
   ]
  },
  {
   "cell_type": "code",
   "execution_count": 18,
   "metadata": {},
   "outputs": [
    {
     "name": "stdout",
     "output_type": "stream",
     "text": [
      "True\n",
      "False\n",
      "False\n",
      "True\n"
     ]
    }
   ],
   "source": [
    "print('Lily' in name_list)\n",
    "print('Lilys' in name_list)\n",
    "print('Lily' not in name_list)\n",
    "print('Lilys' not in name_list)"
   ]
  },
  {
   "cell_type": "code",
   "execution_count": 19,
   "metadata": {},
   "outputs": [
    {
     "name": "stdin",
     "output_type": "stream",
     "text": [
      "请输⼊入您要搜索的名字： Tom\n"
     ]
    },
    {
     "name": "stdout",
     "output_type": "stream",
     "text": [
      "您输⼊入的名字是Tom, 名字已经存在\n"
     ]
    }
   ],
   "source": [
    "name_list = ['Tom', 'Lily', 'Rose']\n",
    "name = input('请输⼊入您要搜索的名字：')\n",
    "if name in name_list:\n",
    "    print(f'您输⼊入的名字是{name}, 名字已经存在')\n",
    "else:\n",
    "    print(f'您输⼊入的名字是{name}, 名字不不存在')"
   ]
  },
  {
   "cell_type": "code",
   "execution_count": 20,
   "metadata": {},
   "outputs": [
    {
     "name": "stdout",
     "output_type": "stream",
     "text": [
      "['Tom', 'Lily', 'Rose', 'xiaoming']\n"
     ]
    }
   ],
   "source": [
    "name_list = ['Tom', 'Lily', 'Rose']\n",
    "name_list.append('xiaoming')\n",
    "print(name_list)"
   ]
  },
  {
   "cell_type": "code",
   "execution_count": 21,
   "metadata": {},
   "outputs": [
    {
     "name": "stdout",
     "output_type": "stream",
     "text": [
      "['Tom', 'Lily', 'Rose', 'xiaoming', ['xiaoming', 'xiaohong']]\n"
     ]
    }
   ],
   "source": [
    "name_list.append(['xiaoming', 'xiaohong'])\n",
    "print(name_list)"
   ]
  },
  {
   "cell_type": "code",
   "execution_count": 22,
   "metadata": {},
   "outputs": [
    {
     "name": "stdout",
     "output_type": "stream",
     "text": [
      "['Tom', 'Lily', 'Rose', 'xiaoming', ['xiaoming', 'xiaohong'], 'x', 'i', 'a', 'o', 'm', 'i', 'n', 'g']\n"
     ]
    }
   ],
   "source": [
    "name_list.extend('xiaoming')\n",
    "print(name_list)"
   ]
  },
  {
   "cell_type": "code",
   "execution_count": 23,
   "metadata": {},
   "outputs": [
    {
     "name": "stdout",
     "output_type": "stream",
     "text": [
      "['Tom', 'xiaoming', 'Lily', 'Rose']\n"
     ]
    }
   ],
   "source": [
    "name_list = ['Tom', 'Lily', 'Rose']\n",
    "name_list.insert(1, 'xiaoming')\n",
    "print(name_list)"
   ]
  },
  {
   "cell_type": "code",
   "execution_count": 26,
   "metadata": {},
   "outputs": [],
   "source": [
    "# name_list = ['Tom', 'Lily', 'Rose']\n",
    "# del name_list\n",
    "# print(name_list)\n",
    "# 结果报错"
   ]
  },
  {
   "cell_type": "code",
   "execution_count": 29,
   "metadata": {},
   "outputs": [
    {
     "name": "stdout",
     "output_type": "stream",
     "text": [
      "['Lily', 'Rose']\n"
     ]
    }
   ],
   "source": [
    "name_list = ['Tom', 'Lily', 'Rose']\n",
    "del name_list[0]\n",
    "print(name_list)"
   ]
  },
  {
   "cell_type": "code",
   "execution_count": 30,
   "metadata": {},
   "outputs": [
    {
     "name": "stdout",
     "output_type": "stream",
     "text": [
      "Lily\n",
      "['Tom', 'Rose']\n"
     ]
    }
   ],
   "source": [
    "name_list = ['Tom', 'Lily', 'Rose']\n",
    "del_name = name_list.pop(1)\n",
    "print(del_name)\n",
    "print(name_list)"
   ]
  },
  {
   "cell_type": "code",
   "execution_count": 31,
   "metadata": {},
   "outputs": [
    {
     "name": "stdout",
     "output_type": "stream",
     "text": [
      "['Tom', 'Lily']\n"
     ]
    }
   ],
   "source": [
    "name_list = ['Tom', 'Lily', 'Rose']\n",
    "name_list.remove('Rose')\n",
    "print(name_list)"
   ]
  },
  {
   "cell_type": "code",
   "execution_count": 33,
   "metadata": {},
   "outputs": [
    {
     "name": "stdout",
     "output_type": "stream",
     "text": [
      "[]\n"
     ]
    }
   ],
   "source": [
    "name_list = ['Tom', 'Lily', 'Rose']\n",
    "name_list.clear()\n",
    "print(name_list) #"
   ]
  },
  {
   "cell_type": "code",
   "execution_count": 35,
   "metadata": {},
   "outputs": [
    {
     "name": "stdout",
     "output_type": "stream",
     "text": [
      "['aaa', 'Lily', 'Rose']\n"
     ]
    }
   ],
   "source": [
    "name_list = ['Tom', 'Lily', 'Rose']\n",
    "name_list[0] = 'aaa'\n",
    "print(name_list)"
   ]
  },
  {
   "cell_type": "code",
   "execution_count": 37,
   "metadata": {},
   "outputs": [
    {
     "name": "stdout",
     "output_type": "stream",
     "text": [
      "[8, 6, 3, 2, 5, 1]\n"
     ]
    }
   ],
   "source": [
    "num_list = [1, 5, 2, 3, 6, 8]\n",
    "num_list.reverse()\n",
    "print(num_list)"
   ]
  },
  {
   "cell_type": "code",
   "execution_count": 38,
   "metadata": {},
   "outputs": [
    {
     "name": "stdout",
     "output_type": "stream",
     "text": [
      "['Tom', 'Lily', 'Rose']\n"
     ]
    }
   ],
   "source": [
    "name_list = ['Tom', 'Lily', 'Rose']\n",
    "name_li2 = name_list.copy()\n",
    "print(name_li2)"
   ]
  },
  {
   "cell_type": "code",
   "execution_count": 40,
   "metadata": {},
   "outputs": [
    {
     "name": "stdout",
     "output_type": "stream",
     "text": [
      "Tom\n",
      "Lily\n",
      "Rose\n"
     ]
    }
   ],
   "source": [
    "name_list = ['Tom', 'Lily', 'Rose']\n",
    "i = 0\n",
    "while i < len(name_list):\n",
    "    print(name_list[i])\n",
    "    i += 1"
   ]
  },
  {
   "cell_type": "code",
   "execution_count": 42,
   "metadata": {},
   "outputs": [
    {
     "name": "stdout",
     "output_type": "stream",
     "text": [
      "Tom\n",
      "Lily\n",
      "Rose\n"
     ]
    }
   ],
   "source": [
    "name_list = ['Tom', 'Lily', 'Rose']\n",
    "for i in name_list:\n",
    "    print(i)"
   ]
  },
  {
   "cell_type": "code",
   "execution_count": 43,
   "metadata": {},
   "outputs": [
    {
     "name": "stdout",
     "output_type": "stream",
     "text": [
      "['张三', '李四', '王五']\n",
      "李四\n"
     ]
    }
   ],
   "source": [
    "name_list = [['⼩明', '小红', '小绿'], ['Tom', 'Lily', 'Rose'], ['张三', '李四',\n",
    "'王五']]\n",
    "print(name_list[2])\n",
    "print(name_list[2][1])"
   ]
  },
  {
   "cell_type": "markdown",
   "metadata": {},
   "source": [
    "### 元组"
   ]
  },
  {
   "cell_type": "code",
   "execution_count": 47,
   "metadata": {},
   "outputs": [
    {
     "name": "stdout",
     "output_type": "stream",
     "text": [
      "(10, 20, 30)\n",
      "(10,)\n"
     ]
    }
   ],
   "source": [
    "# 多个数据元组\n",
    "t1 = (10, 20, 30)\n",
    "# 单个数据元组\n",
    "t2 = (10,)\n",
    "print(t1)\n",
    "print(t2)"
   ]
  },
  {
   "cell_type": "code",
   "execution_count": 49,
   "metadata": {},
   "outputs": [
    {
     "name": "stdout",
     "output_type": "stream",
     "text": [
      "<class 'tuple'>\n",
      "<class 'int'>\n",
      "<class 'str'>\n"
     ]
    }
   ],
   "source": [
    "t2 = (10,)\n",
    "print(type(t2)) \n",
    "t3 = (20)\n",
    "print(type(t3)) \n",
    "t4 = ('hello')\n",
    "print(type(t4)) "
   ]
  },
  {
   "cell_type": "code",
   "execution_count": 54,
   "metadata": {},
   "outputs": [
    {
     "name": "stdout",
     "output_type": "stream",
     "text": [
      "aa\n",
      "0\n",
      "2\n",
      "4\n"
     ]
    }
   ],
   "source": [
    "tuple1 = ('aa', 'bb', 'cc', 'bb')\n",
    "print(tuple1[0]) \n",
    "print(tuple1.index('aa'))\n",
    "print(tuple1.count('bb'))\n",
    "print(len(tuple1))"
   ]
  },
  {
   "cell_type": "code",
   "execution_count": 58,
   "metadata": {},
   "outputs": [],
   "source": [
    "tuple1[0] = 'aaa'\n",
    "# 报错，不能直接修改"
   ]
  },
  {
   "cell_type": "code",
   "execution_count": 60,
   "metadata": {},
   "outputs": [
    {
     "name": "stdout",
     "output_type": "stream",
     "text": [
      "['aa', 'bb', 'cc']\n",
      "(10, 20, ['aaaaa', 'bb', 'cc'], 50, 30)\n"
     ]
    }
   ],
   "source": [
    "tuple2 = (10, 20, ['aa', 'bb', 'cc'], 50, 30)\n",
    "print(tuple2[2]) # 访问到列表\n",
    "tuple2[2][0] = 'aaaaa'\n",
    "print(tuple2)"
   ]
  },
  {
   "cell_type": "markdown",
   "metadata": {},
   "source": [
    "### 集合"
   ]
  },
  {
   "cell_type": "code",
   "execution_count": 62,
   "metadata": {},
   "outputs": [
    {
     "name": "stdout",
     "output_type": "stream",
     "text": [
      "{40, 10, 50, 20, 30}\n",
      "{40, 10, 50, 20, 30}\n",
      "{'e', 'c', 'b', 'f', 'a', 'd', 'g'}\n",
      "<class 'set'>\n",
      "<class 'dict'>\n"
     ]
    }
   ],
   "source": [
    "s1 = {10, 20, 30, 40, 50}\n",
    "print(s1)\n",
    "s2 = {10, 30, 20, 10, 30, 40, 30, 50}\n",
    "print(s2)\n",
    "s3 = set('abcdefg')\n",
    "print(s3)\n",
    "s4 = set()\n",
    "print(type(s4)) \n",
    "s5 = {}\n",
    "print(type(s5))"
   ]
  },
  {
   "cell_type": "code",
   "execution_count": 64,
   "metadata": {},
   "outputs": [
    {
     "name": "stdout",
     "output_type": "stream",
     "text": [
      "{100, 10, 20}\n"
     ]
    }
   ],
   "source": [
    "s1 = {10, 20}\n",
    "s1.add(100)\n",
    "s1.add(10)\n",
    "print(s1) "
   ]
  },
  {
   "cell_type": "code",
   "execution_count": 70,
   "metadata": {},
   "outputs": [
    {
     "name": "stdout",
     "output_type": "stream",
     "text": [
      "{20}\n",
      "{20}\n"
     ]
    }
   ],
   "source": [
    "s1 = {10, 20}\n",
    "s1.remove(10)\n",
    "print(s1)\n",
    "# s1.remove(10) # 报错\n",
    "print(s1)"
   ]
  },
  {
   "cell_type": "code",
   "execution_count": 71,
   "metadata": {},
   "outputs": [
    {
     "name": "stdout",
     "output_type": "stream",
     "text": [
      "{20}\n",
      "{20}\n"
     ]
    }
   ],
   "source": [
    "s1 = {10, 20}\n",
    "s1.discard(10)\n",
    "print(s1)\n",
    "s1.discard(10)\n",
    "print(s1)"
   ]
  },
  {
   "cell_type": "code",
   "execution_count": 72,
   "metadata": {},
   "outputs": [
    {
     "name": "stdout",
     "output_type": "stream",
     "text": [
      "40\n",
      "{10, 50, 20, 30}\n"
     ]
    }
   ],
   "source": [
    "s1 = {10, 20, 30, 40, 50}\n",
    "del_num = s1.pop()\n",
    "print(del_num)\n",
    "print(s1)"
   ]
  },
  {
   "cell_type": "code",
   "execution_count": 73,
   "metadata": {},
   "outputs": [
    {
     "name": "stdout",
     "output_type": "stream",
     "text": [
      "True\n",
      "False\n"
     ]
    }
   ],
   "source": [
    "s1 = {10, 20, 30, 40, 50}\n",
    "print(10 in s1)\n",
    "print(10 not in s1)"
   ]
  },
  {
   "cell_type": "markdown",
   "metadata": {},
   "source": [
    "### 字典"
   ]
  },
  {
   "cell_type": "code",
   "execution_count": 75,
   "metadata": {},
   "outputs": [
    {
     "name": "stdout",
     "output_type": "stream",
     "text": [
      "['Tom', '男', 20]\n"
     ]
    }
   ],
   "source": [
    "list1 = ['Tom', '男', 20]\n",
    "print(list1)"
   ]
  },
  {
   "cell_type": "code",
   "execution_count": 82,
   "metadata": {},
   "outputs": [
    {
     "name": "stdout",
     "output_type": "stream",
     "text": [
      "{'name': 'Tom', 'age': 20, 'gender': '男'}\n",
      "{}\n",
      "{}\n"
     ]
    }
   ],
   "source": [
    "## 有数据字典\n",
    "dict1 = {'name': 'Tom', 'age': 20, 'gender': '男'}\n",
    "# 空字典\n",
    "dict2 = {}\n",
    "dict3 = dict()\n",
    "print(dict1)\n",
    "print(dict2)\n",
    "print(dict3)"
   ]
  },
  {
   "cell_type": "code",
   "execution_count": 83,
   "metadata": {},
   "outputs": [
    {
     "name": "stdout",
     "output_type": "stream",
     "text": [
      "{'name': 'Rose', 'age': 20, 'gender': '男'}\n",
      "{'name': 'Rose', 'age': 20, 'gender': '男', 'id': 110}\n"
     ]
    }
   ],
   "source": [
    "dict1 = {'name': 'Tom', 'age': 20, 'gender': '男'}\n",
    "dict1['name'] = 'Rose'\n",
    "print(dict1)\n",
    "dict1['id'] = 110\n",
    "print(dict1)"
   ]
  },
  {
   "cell_type": "code",
   "execution_count": 84,
   "metadata": {},
   "outputs": [
    {
     "name": "stdout",
     "output_type": "stream",
     "text": [
      "{'name': 'Tom', 'age': 20}\n"
     ]
    }
   ],
   "source": [
    "dict1 = {'name': 'Tom', 'age': 20, 'gender': '男'}\n",
    "del dict1['gender']\n",
    "print(dict1)"
   ]
  },
  {
   "cell_type": "code",
   "execution_count": 85,
   "metadata": {},
   "outputs": [
    {
     "name": "stdout",
     "output_type": "stream",
     "text": [
      "{}\n"
     ]
    }
   ],
   "source": [
    "dict1 = {'name': 'Tom', 'age': 20, 'gender': '男'}\n",
    "dict1.clear()\n",
    "print(dict1) "
   ]
  },
  {
   "cell_type": "code",
   "execution_count": 87,
   "metadata": {},
   "outputs": [
    {
     "name": "stdout",
     "output_type": "stream",
     "text": [
      "Tom\n"
     ]
    }
   ],
   "source": [
    "dict1 = {'name': 'Tom', 'age': 20, 'gender': '男'}\n",
    "print(dict1['name']) \n",
    "# print(dict1['id']) # 报错"
   ]
  },
  {
   "cell_type": "code",
   "execution_count": 88,
   "metadata": {},
   "outputs": [
    {
     "name": "stdout",
     "output_type": "stream",
     "text": [
      "Tom\n",
      "110\n",
      "None\n"
     ]
    }
   ],
   "source": [
    "dict1 = {'name': 'Tom', 'age': 20, 'gender': '男'}\n",
    "print(dict1.get('name')) \n",
    "print(dict1.get('id', 110))\n",
    "print(dict1.get('id'))"
   ]
  },
  {
   "cell_type": "code",
   "execution_count": 91,
   "metadata": {},
   "outputs": [
    {
     "name": "stdout",
     "output_type": "stream",
     "text": [
      "dict_keys(['name', 'age', 'gender'])\n",
      "dict_values(['Tom', 20, '男'])\n",
      "dict_items([('name', 'Tom'), ('age', 20), ('gender', '男')])\n"
     ]
    }
   ],
   "source": [
    "dict1 = {'name': 'Tom', 'age': 20, 'gender': '男'}\n",
    "print(dict1.keys())\n",
    "print(dict1.values())\n",
    "print(dict1.items())"
   ]
  },
  {
   "cell_type": "code",
   "execution_count": 95,
   "metadata": {},
   "outputs": [
    {
     "name": "stdout",
     "output_type": "stream",
     "text": [
      "name\n",
      "age\n",
      "gender\n",
      "Tom\n",
      "20\n",
      "男\n",
      "('name', 'Tom')\n",
      "('age', 20)\n",
      "('gender', '男')\n",
      "name = Tom\n",
      "age = 20\n",
      "gender = 男\n"
     ]
    }
   ],
   "source": [
    "dict1 = {'name': 'Tom', 'age': 20, 'gender': '男'}\n",
    "for key in dict1.keys():\n",
    "    print(key)\n",
    "for value in dict1.values():\n",
    "    print(value)\n",
    "for item in dict1.items():\n",
    "    print(item)\n",
    "for key, value in dict1.items():\n",
    "    print(f'{key} = {value}')"
   ]
  },
  {
   "cell_type": "markdown",
   "metadata": {},
   "source": [
    "### 运算符"
   ]
  },
  {
   "cell_type": "code",
   "execution_count": 96,
   "metadata": {},
   "outputs": [
    {
     "name": "stdout",
     "output_type": "stream",
     "text": [
      "aabb\n",
      "[1, 2, 10, 20]\n",
      "(1, 2, 10, 20)\n"
     ]
    }
   ],
   "source": [
    "# 1. 字符串\n",
    "str1 = 'aa'\n",
    "str2 = 'bb'\n",
    "str3 = str1 + str2\n",
    "print(str3)\n",
    "# 2. 列表\n",
    "list1 = [1, 2]\n",
    "list2 = [10, 20]\n",
    "list3 = list1 + list2\n",
    "print(list3)\n",
    "# 3. 元组\n",
    "t1 = (1, 2)\n",
    "t2 = (10, 20)\n",
    "t3 = t1 + t2\n",
    "print(t3) "
   ]
  },
  {
   "cell_type": "code",
   "execution_count": 97,
   "metadata": {},
   "outputs": [
    {
     "name": "stdout",
     "output_type": "stream",
     "text": [
      "----------\n",
      "['hello', 'hello', 'hello', 'hello']\n",
      "('world', 'world', 'world', 'world')\n"
     ]
    }
   ],
   "source": [
    "# 1. 字符串\n",
    "print('-' * 10)\n",
    "# 2. 列列表\n",
    "list1 = ['hello']\n",
    "print(list1 * 4)\n",
    "# 3. 元组\n",
    "t1 = ('world',)\n",
    "print(t1 * 4)"
   ]
  },
  {
   "cell_type": "code",
   "execution_count": 98,
   "metadata": {},
   "outputs": [
    {
     "name": "stdout",
     "output_type": "stream",
     "text": [
      "True\n",
      "False\n",
      "True\n",
      "False\n",
      "False\n",
      "True\n"
     ]
    }
   ],
   "source": [
    "# 1. 字符串\n",
    "print('a' in 'abcd') \n",
    "print('a' not in 'abcd') #\n",
    "# 2. 列表\n",
    "list1 = ['a', 'b', 'c', 'd']\n",
    "print('a' in list1) \n",
    "print('a' not in list1) \n",
    "# 3. 元组\n",
    "t1 = ('a', 'b', 'c', 'd')\n",
    "print('aa' in t1) \n",
    "print('aa' not in t1) "
   ]
  },
  {
   "cell_type": "code",
   "execution_count": 99,
   "metadata": {},
   "outputs": [
    {
     "name": "stdout",
     "output_type": "stream",
     "text": [
      "7\n",
      "4\n",
      "5\n",
      "3\n",
      "2\n"
     ]
    }
   ],
   "source": [
    "# 1. 字符串\n",
    "str1 = 'abcdefg'\n",
    "print(len(str1)) \n",
    "# 2. 列表\n",
    "list1 = [10, 20, 30, 40]\n",
    "print(len(list1)) \n",
    "# 3. 元组\n",
    "t1 = (10, 20, 30, 40, 50)\n",
    "print(len(t1)) \n",
    "# 4. 集合\n",
    "s1 = {10, 20, 30}\n",
    "print(len(s1))\n",
    "# 5. 字典\n",
    "dict1 = {'name': 'Rose', 'age': 18}\n",
    "print(len(dict1)) "
   ]
  },
  {
   "cell_type": "code",
   "execution_count": 103,
   "metadata": {},
   "outputs": [
    {
     "name": "stdout",
     "output_type": "stream",
     "text": [
      "g\n",
      "40\n"
     ]
    }
   ],
   "source": [
    "# 1. 字符串\n",
    "str1 = 'abcdefg'\n",
    "print(max(str1))\n",
    "# 2. 列表\n",
    "list1 = [10, 20, 30, 40]\n",
    "print(max(list1)) "
   ]
  },
  {
   "cell_type": "code",
   "execution_count": 104,
   "metadata": {},
   "outputs": [
    {
     "name": "stdout",
     "output_type": "stream",
     "text": [
      "a\n",
      "10\n"
     ]
    }
   ],
   "source": [
    "# 1. 字符串\n",
    "str1 = 'abcdefg'\n",
    "print(min(str1)) \n",
    "# 2. 列表\n",
    "list1 = [10, 20, 30, 40]\n",
    "print(min(list1)) "
   ]
  },
  {
   "cell_type": "code",
   "execution_count": 107,
   "metadata": {},
   "outputs": [],
   "source": [
    "for i in range(1, 10, 1):\n",
    "    print(i)\n",
    "for i in range(1, 10, 2):\n",
    "    print(i)\n",
    "for i in range(10):\n",
    "    print(i)"
   ]
  },
  {
   "cell_type": "code",
   "execution_count": 108,
   "metadata": {},
   "outputs": [
    {
     "name": "stdout",
     "output_type": "stream",
     "text": [
      "(0, 'a')\n",
      "(1, 'b')\n",
      "(2, 'c')\n",
      "(3, 'd')\n",
      "(4, 'e')\n",
      "下标是1, 对应的字符是a\n",
      "下标是2, 对应的字符是b\n",
      "下标是3, 对应的字符是c\n",
      "下标是4, 对应的字符是d\n",
      "下标是5, 对应的字符是e\n"
     ]
    }
   ],
   "source": [
    "list1 = ['a', 'b', 'c', 'd', 'e']\n",
    "for i in enumerate(list1):\n",
    "    print(i)\n",
    "for index, char in enumerate(list1, start=1):\n",
    "    print(f'下标是{index}, 对应的字符是{char}')"
   ]
  },
  {
   "cell_type": "code",
   "execution_count": 109,
   "metadata": {},
   "outputs": [
    {
     "name": "stdout",
     "output_type": "stream",
     "text": [
      "(10, 20, 30, 40, 50, 20)\n",
      "(100, 200, 300, 400, 500)\n"
     ]
    }
   ],
   "source": [
    "list1 = [10, 20, 30, 40, 50, 20]\n",
    "s1 = {100, 200, 300, 400, 500}\n",
    "print(tuple(list1))\n",
    "print(tuple(s1))"
   ]
  },
  {
   "cell_type": "code",
   "execution_count": 110,
   "metadata": {},
   "outputs": [
    {
     "name": "stdout",
     "output_type": "stream",
     "text": [
      "['a', 'b', 'c', 'd', 'e']\n",
      "[100, 200, 300, 400, 500]\n"
     ]
    }
   ],
   "source": [
    "t1 = ('a', 'b', 'c', 'd', 'e')\n",
    "s1 = {100, 200, 300, 400, 500}\n",
    "print(list(t1))\n",
    "print(list(s1))"
   ]
  },
  {
   "cell_type": "code",
   "execution_count": 111,
   "metadata": {},
   "outputs": [
    {
     "name": "stdout",
     "output_type": "stream",
     "text": [
      "{40, 10, 50, 20, 30}\n",
      "{'e', 'c', 'b', 'a', 'd'}\n"
     ]
    }
   ],
   "source": [
    "list1 = [10, 20, 30, 40, 50, 20]\n",
    "t1 = ('a', 'b', 'c', 'd', 'e')\n",
    "print(set(list1))\n",
    "print(set(t1))"
   ]
  }
 ],
 "metadata": {
  "kernelspec": {
   "display_name": "Python 3",
   "language": "python",
   "name": "python3"
  },
  "language_info": {
   "codemirror_mode": {
    "name": "ipython",
    "version": 3
   },
   "file_extension": ".py",
   "mimetype": "text/x-python",
   "name": "python",
   "nbconvert_exporter": "python",
   "pygments_lexer": "ipython3",
   "version": "3.8.3"
  }
 },
 "nbformat": 4,
 "nbformat_minor": 4
}
