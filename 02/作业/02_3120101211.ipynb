{
 "cells": [
  {
   "cell_type": "code",
   "execution_count": null,
   "metadata": {},
   "outputs": [],
   "source": [
    "print('hello world')"
   ]
  },
  {
   "cell_type": "code",
   "execution_count": null,
   "metadata": {},
   "outputs": [],
   "source": [
    "a=1\n",
    "b=2\n",
    "a+b"
   ]
  },
  {
   "cell_type": "code",
   "execution_count": null,
   "metadata": {},
   "outputs": [],
   "source": [
    "x=3\n",
    "print(x*3)"
   ]
  },
  {
   "cell_type": "code",
   "execution_count": 4,
   "metadata": {},
   "outputs": [],
   "source": [
    "a=3\n",
    "b=4\n",
    "c=a*b\n",
    "d=c/a\n",
    "print(c,d)\n"
   ]
  },
  {
   "cell_type": "markdown",
   "metadata": {},
   "source": [
    "a=2\n",
    "b=3\n",
    "c=a>b\n",
    "print(c)"
   ]
  },
  {
   "cell_type": "markdown",
   "metadata": {},
   "source": [
    "## Type()"
   ]
  },
  {
   "cell_type": "code",
   "execution_count": 5,
   "metadata": {},
   "outputs": [
    {
     "name": "stdout",
     "output_type": "stream",
     "text": [
      "<class 'int'> <class 'float'> <class 'str'> <class 'bool'>\n"
     ]
    }
   ],
   "source": [
    "a=10\n",
    "b=10.0\n",
    "c=\"hello world\"\n",
    "d=True\n",
    "print(type(a),type(b),type(c),type(d))"
   ]
  },
  {
   "cell_type": "code",
   "execution_count": 6,
   "metadata": {},
   "outputs": [
    {
     "name": "stdout",
     "output_type": "stream",
     "text": [
      "<class 'tuple'>\n",
      "<class 'list'>\n",
      "<class 'dict'>\n"
     ]
    }
   ],
   "source": [
    "e=()  #元组\n",
    "f=[]  #列表\n",
    "g={}  #字典\n",
    "print(type(e))\n",
    "print(type(f))\n",
    "print(type(g))\n"
   ]
  },
  {
   "cell_type": "markdown",
   "metadata": {},
   "source": [
    "## 变量名区分大小写"
   ]
  },
  {
   "cell_type": "code",
   "execution_count": 7,
   "metadata": {},
   "outputs": [
    {
     "name": "stdout",
     "output_type": "stream",
     "text": [
      "1 2\n"
     ]
    }
   ],
   "source": [
    "d=1\n",
    "D=2\n",
    "print(d,D)"
   ]
  },
  {
   "cell_type": "markdown",
   "metadata": {},
   "source": [
    "## 算术运算符 可以直接print"
   ]
  },
  {
   "cell_type": "markdown",
   "metadata": {},
   "source": [
    "# + - * / %求余 **指数 //保留整数除法 "
   ]
  },
  {
   "cell_type": "code",
   "execution_count": 8,
   "metadata": {},
   "outputs": [
    {
     "name": "stdout",
     "output_type": "stream",
     "text": [
      "37\n",
      "4\n",
      "21\n",
      "2.3333333333333335\n",
      "2\n",
      "1\n",
      "343\n"
     ]
    }
   ],
   "source": [
    "a=7\n",
    "b=3\n",
    "c=10\n",
    "print(a+b*c)\n",
    "print(a-b)\n",
    "print(a*b)\n",
    "print(a/b)\n",
    "print(a//b)\n",
    "print(a%b)\n",
    "print(a**b)"
   ]
  },
  {
   "cell_type": "markdown",
   "metadata": {},
   "source": [
    "## 比较运算 可以print\n",
    "==等于 !=不等 > >= < <= output Ture(1)orFalse(0)"
   ]
  },
  {
   "cell_type": "code",
   "execution_count": 9,
   "metadata": {},
   "outputs": [
    {
     "name": "stdout",
     "output_type": "stream",
     "text": [
      "False\n",
      "True\n",
      "False\n",
      "True\n"
     ]
    }
   ],
   "source": [
    "a,b=10,5\n",
    "print(a==b)\n",
    "print(a>=b)\n",
    "print(a<=b)\n",
    "print(a!=b)"
   ]
  },
  {
   "cell_type": "markdown",
   "metadata": {},
   "source": [
    "## 逻辑运算 优先级 () -> not -> and -> or \n",
    "and or not  "
   ]
  },
  {
   "cell_type": "code",
   "execution_count": 10,
   "metadata": {},
   "outputs": [
    {
     "name": "stdout",
     "output_type": "stream",
     "text": [
      "False\n",
      "True\n",
      "False\n",
      "False\n",
      "True\n"
     ]
    }
   ],
   "source": [
    "a,b,c,d=23,19,10,5\n",
    "print(a+b>c and c<d)\n",
    "print(a+b>c or c<d)\n",
    "print(not a)\n",
    "print(not a>b)\n",
    "print(not a<b)"
   ]
  },
  {
   "cell_type": "markdown",
   "metadata": {},
   "source": [
    "## 赋值运算符 不能直接print \n",
    "= ， += ，-= ， *= ， /= ， 从左往右"
   ]
  },
  {
   "cell_type": "code",
   "execution_count": 11,
   "metadata": {},
   "outputs": [
    {
     "name": "stdout",
     "output_type": "stream",
     "text": [
      "16\n",
      "13 24389\n"
     ]
    }
   ],
   "source": [
    "a,b,c=10,29,3\n",
    "a+=c\n",
    "b**=c\n",
    "print(a+c)\n",
    "print(a,b)\n"
   ]
  },
  {
   "cell_type": "markdown",
   "metadata": {},
   "source": [
    "## 占位符 %（多个） %单个。等效 {参数索引，不填默认顺序} 加上.format（）\n",
    "%c 单个字符 %s字符串 %i %d有符号十进制 %u无符号十进制 %o八进制 %x十六进制 %e %E索引\n",
    "%f 浮点实数 "
   ]
  },
  {
   "cell_type": "code",
   "execution_count": 12,
   "metadata": {},
   "outputs": [
    {
     "name": "stdout",
     "output_type": "stream",
     "text": [
      "我的名字是周孟航，学号是3210101211,来自S0005\n",
      "我的名字是周孟航，学号是3210101211,来自S0005\n",
      "我的名字是周孟航，学号是3210101211，来自S0005\n"
     ]
    }
   ],
   "source": [
    "name='周孟航'\n",
    "number=3210101211\n",
    "classpro='S0005'\n",
    "print('我的名字是%s，学号是%d,来自%s'%(name,number,classpro)) #占位符\n",
    "print('我的名字是{}，学号是{},来自{}'.format(name,number,classpro)) \n",
    "print('我的名字是{1}，学号是{0}，来自{2}'.format(number,name,classpro))\n",
    "#format 不需要指定数据类型\n"
   ]
  },
  {
   "cell_type": "markdown",
   "metadata": {},
   "source": [
    "## 输入input 都是str类型 转换类型 name=int(input())转整形"
   ]
  },
  {
   "cell_type": "code",
   "execution_count": 13,
   "metadata": {},
   "outputs": [
    {
     "name": "stdin",
     "output_type": "stream",
     "text": [
      "请输入你的姓名 周孟航\n",
      "请输入你的学号 3120101211\n",
      "请输入你的班级 5\n"
     ]
    },
    {
     "name": "stdout",
     "output_type": "stream",
     "text": [
      "姓名：周孟航\n",
      "学号：3120101211\n",
      "班级：5\n"
     ]
    }
   ],
   "source": [
    "name=input(\"请输入你的姓名\")\n",
    "number=input(\"请输入你的学号\")\n",
    "classpro=input('请输入你的班级')\n",
    "print('姓名：{}'.format(name))\n",
    "print('学号：{}'.format(number))\n",
    "print('班级：{}'.format(classpro))\n"
   ]
  },
  {
   "cell_type": "markdown",
   "metadata": {},
   "source": [
    "## 循环语句\n",
    "选择流程                                             循环流程                                         \n",
    "  1.单分支                                           while 条件表达式:                                                                        \n",
    "     if 条件表达：                                      。。。。。。。                                           \n",
    "        。。。。。。。                               for x ##设的参数  in 可迭代的集合对象: ## x依次赋值集合内的每一个值                                                       \n",
    "  2.双分支                                           break ##退出当前的for或者while循环 continue 进行新的循环                                                               \n",
    "     if 条件表达：                                   range() ## 生成数列                                                                      \n",
    "        。。。。。。。                                                                                                          \n",
    "     else：                                                                                                          \n",
    "        。。。。。。。                                                                                                          \n",
    "  3.多分支                                                                                                          \n",
    "     if 条件表达：                                                                                                          \n",
    "        。。。。。。。                                                                                                          \n",
    "     elif 条件表达：                                                                                                          \n",
    "        。。。。。。。                                                                                                          \n",
    "     elif 条件表达：                                                                                                          \n",
    "        。。。。。。。                                                                                                          \n",
    "     。。。                                                                                                          \n",
    "     else：                                                                                                          \n",
    "条件表达式：比较运算（< > == !=）/逻辑运算符（not and or）/复合运算                                                                                                          "
   ]
  },
  {
   "cell_type": "code",
   "execution_count": 14,
   "metadata": {},
   "outputs": [
    {
     "name": "stdin",
     "output_type": "stream",
     "text": [
      "请输姓名 周孟航\n",
      "请输入学号 3120101211\n",
      "请输班级 5\n",
      "请输入分数 99\n"
     ]
    },
    {
     "name": "stdout",
     "output_type": "stream",
     "text": [
      "姓名：周孟航\n",
      "学号：3120101211\n",
      "班级：5\n",
      "等级：优秀\n"
     ]
    }
   ],
   "source": [
    "name=input(\"请输姓名\")\n",
    "number=input(\"请输入学号\")\n",
    "classpro=input('请输班级')\n",
    "score=int(input('请输入分数'))\n",
    "print('姓名：{}'.format(name))\n",
    "print('学号：{}'.format(number))\n",
    "print('班级：{}'.format(classpro))\n",
    "if score<60:\n",
    "    print('等级：不合格')\n",
    "elif (score>=60) and (score<75):\n",
    "    print('等级：合格')\n",
    "elif (score>=75) and (score<85):\n",
    "    print('等级：良好')\n",
    "else:\n",
    "    print('等级：优秀')\n",
    "    \n"
   ]
  },
  {
   "cell_type": "markdown",
   "metadata": {},
   "source": [
    "## 猜拳"
   ]
  },
  {
   "cell_type": "code",
   "execution_count": 15,
   "metadata": {},
   "outputs": [
    {
     "name": "stdin",
     "output_type": "stream",
     "text": [
      "请出拳：[石头：0，剪刀：1，布：2] 2\n"
     ]
    },
    {
     "name": "stdout",
     "output_type": "stream",
     "text": [
      "equal\n"
     ]
    }
   ],
   "source": [
    "import random #产生随机数的模块\n",
    "person=int(input('请出拳：[石头：0，剪刀：1，布：2]'))\n",
    "computer=random.randint(0,2)\n",
    "#if person==0 and computer==1:\n",
    "#    print('you win')\n",
    "#elif person==1 and computer==2:\n",
    "#    print('you win')\n",
    "#elif person==2 and computer==0:\n",
    "#    print('you win')\n",
    "if person==0 and computer==1 or person==1 and computer==2 or person==2 and computer==0:\n",
    "    print('you win')\n",
    "elif person==computer:\n",
    "    print('equal')\n",
    "else:\n",
    "    print('you lose')"
   ]
  },
  {
   "cell_type": "markdown",
   "metadata": {},
   "source": [
    "## 猜数字"
   ]
  },
  {
   "cell_type": "code",
   "execution_count": 16,
   "metadata": {},
   "outputs": [
    {
     "name": "stdin",
     "output_type": "stream",
     "text": [
      "请输入数字 5\n"
     ]
    },
    {
     "name": "stdout",
     "output_type": "stream",
     "text": [
      "猜小了\n"
     ]
    },
    {
     "name": "stdin",
     "output_type": "stream",
     "text": [
      "请输入数字 9\n"
     ]
    },
    {
     "name": "stdout",
     "output_type": "stream",
     "text": [
      "猜大了\n"
     ]
    },
    {
     "name": "stdin",
     "output_type": "stream",
     "text": [
      "请输入数字 8\n"
     ]
    },
    {
     "name": "stdout",
     "output_type": "stream",
     "text": [
      "猜对了\n"
     ]
    }
   ],
   "source": [
    "number=8\n",
    "guessnumber=-1\n",
    "while guessnumber!=number:\n",
    "    guessnumber=int(input('请输入数字'))\n",
    "    if guessnumber>number:\n",
    "        print('猜大了')\n",
    "        continue\n",
    "    elif guessnumber<number:\n",
    "        print('猜小了')\n",
    "        continue\n",
    "    else:\n",
    "        break\n",
    "print('猜对了')"
   ]
  },
  {
   "cell_type": "code",
   "execution_count": 17,
   "metadata": {},
   "outputs": [
    {
     "name": "stdout",
     "output_type": "stream",
     "text": [
      "1*1=1 \n",
      "2*1=2 2*2=4 \n",
      "3*1=3 3*2=6 3*3=9 \n",
      "4*1=4 4*2=8 4*3=12 4*4=16 \n",
      "5*1=5 5*2=10 5*3=15 5*4=20 5*5=25 \n",
      "6*1=6 6*2=12 6*3=18 6*4=24 6*5=30 6*6=36 \n",
      "7*1=7 7*2=14 7*3=21 7*4=28 7*5=35 7*6=42 7*7=49 \n",
      "8*1=8 8*2=16 8*3=24 8*4=32 8*5=40 8*6=48 8*7=56 8*8=64 \n",
      "9*1=9 9*2=18 9*3=27 9*4=36 9*5=45 9*6=54 9*7=63 9*8=72 9*9=81 \n"
     ]
    }
   ],
   "source": [
    "row=1\n",
    "while row<=9:\n",
    "    col=1\n",
    "    while col<=row:\n",
    "        print('%d*%d=%d'%(row,col,row*col),end=' ')\n",
    "        col+=1\n",
    "    print( )\n",
    "    row+=1\n",
    "    "
   ]
  },
  {
   "cell_type": "code",
   "execution_count": 18,
   "metadata": {},
   "outputs": [
    {
     "name": "stdout",
     "output_type": "stream",
     "text": [
      "1*9=9 2*9=18 3*9=27 4*9=36 5*9=45 6*9=54 7*9=63 8*9=72 9*9=81 \n",
      "1*8=8 2*8=16 3*8=24 4*8=32 5*8=40 6*8=48 7*8=56 8*8=64 \n",
      "1*7=7 2*7=14 3*7=21 4*7=28 5*7=35 6*7=42 7*7=49 \n",
      "1*6=6 2*6=12 3*6=18 4*6=24 5*6=30 6*6=36 \n",
      "1*5=5 2*5=10 3*5=15 4*5=20 5*5=25 \n",
      "1*4=4 2*4=8 3*4=12 4*4=16 \n",
      "1*3=3 2*3=6 3*3=9 \n",
      "1*2=2 2*2=4 \n",
      "1*1=1 \n"
     ]
    }
   ],
   "source": [
    "row=9\n",
    "while row>=1:\n",
    "    col=1\n",
    "    while col<=row:\n",
    "        print('%d*%d=%d'%(col,row,row*col),end=' ')\n",
    "        col+=1\n",
    "    print()\n",
    "    row-=1"
   ]
  },
  {
   "cell_type": "code",
   "execution_count": 19,
   "metadata": {},
   "outputs": [
    {
     "name": "stdout",
     "output_type": "stream",
     "text": [
      "    *\n",
      "   ***\n",
      "  *****\n",
      " *******\n",
      "*********\n"
     ]
    }
   ],
   "source": [
    "row=1\n",
    "while row<=5:\n",
    "    j=1\n",
    "    while j<=5-row:\n",
    "        print(' ',end='')\n",
    "        j+=1\n",
    "    k=1\n",
    "    while k<=2*row-1:\n",
    "        print('*',end='')\n",
    "        k+=1\n",
    "    row+=1\n",
    "    print()"
   ]
  },
  {
   "cell_type": "markdown",
   "metadata": {},
   "source": [
    "## 猜年龄\n",
    "#### 退出循环 break 或者 使判断条件不成立\n",
    "#### 多层嵌套循环时\n",
    "#### 1while a:\n",
    "####     2while b:\n",
    "####          if :\n",
    "####             break 退出2while 继续进行 1while循环\n",
    "####          else:\n",
    "####             改变a的条件\n",
    "####             break       从而可以退出2while和1while "
   ]
  },
  {
   "cell_type": "code",
   "execution_count": 20,
   "metadata": {},
   "outputs": [
    {
     "name": "stdin",
     "output_type": "stream",
     "text": [
      "请输入目标年龄： 45\n",
      "请输入猜测年龄 45\n"
     ]
    },
    {
     "name": "stdout",
     "output_type": "stream",
     "text": [
      "真聪明！猜对了！\n"
     ]
    }
   ],
   "source": [
    "target_age=int(input('请输入目标年龄：'))\n",
    "i=0\n",
    "while i<=2:\n",
    "    guess_age=int(input('请输入猜测年龄'))\n",
    "    if guess_age==target_age:\n",
    "        print('真聪明！猜对了！')\n",
    "        break\n",
    "    else:\n",
    "        \n",
    "        if guess_age<target_age:\n",
    "            print('不好意思，猜小了。')\n",
    "            i+=1\n",
    "        else:\n",
    "            print('不好意思，猜大了。')\n",
    "            i+=1\n",
    "        while i==3:\n",
    "            choice=input('是否愿意继续游戏，请输入Y/y or N/n:')\n",
    "            if choice!='Y' and choice!='N' and choice!='y' and choice!='n':\n",
    "                print('输入错误请重新输入')\n",
    "                continue\n",
    "            else:\n",
    "                if choice=='Y' or choice=='y':\n",
    "                    i=0\n",
    "                    break\n",
    "                elif choice=='N' or choice=='n':\n",
    "                    print('游戏结束')\n",
    "                    i=3\n",
    "                    break\n",
    "        continue\n",
    "        \n",
    "\n"
   ]
  },
  {
   "cell_type": "markdown",
   "metadata": {},
   "source": [
    "## 字符串操作\n",
    "#### 0 为左边第一个  -1 为右边第一个 + 向右 - 向左 id(a) 可以查看a的内存地址\n",
    "#### 切片：截取字符串中的一部分内容 [起始下标:截至下标:步长][start:end:step]"
   ]
  },
  {
   "cell_type": "markdown",
   "metadata": {},
   "source": [
    "### str.capitalize():str首字母变大写； .endswith/startswith(x):是否x结束/开始； .find(x):检查x是否在字符串中在哪，返回下标值，没有返回-1，约等于.index(),区别在找不到报错;str.strip():去除str中的空格 str.lstrip()左删除空格 str.rstrip()右；.lower()变小写；,upper()变大写；"
   ]
  },
  {
   "cell_type": "code",
   "execution_count": 21,
   "metadata": {},
   "outputs": [
    {
     "name": "stdout",
     "output_type": "stream",
     "text": [
      "pytho n Pytho n \n",
      "pytho n\n",
      "2\n",
      "2041154156080\n",
      "pytho  n ohtyp pytho n  <class 'str'> True\n"
     ]
    }
   ],
   "source": [
    "test='pytho n '\n",
    "test[0]\n",
    "for i in test:\n",
    "    print(i,end='')\n",
    "a=test.capitalize()\n",
    "print(a)\n",
    "print(test.strip())\n",
    "print(test.find('t'))\n",
    "print(id(a))\n",
    "print(test[0:-3],test[::-1],test[::],type(test),test.startswith('p'))"
   ]
  },
  {
   "cell_type": "markdown",
   "metadata": {},
   "source": [
    "## list:支持增删改查，数据可以变化，内存地址不变，数据项可以是任何类型的数据，[]\n",
    "### .append(一次只能添加一个数据或者列表) count extend(不能添加数字) index(位置，'数据') insert .pop(移除指定位置元素)类似于del list[]; remove(删除指定元素) reverse sort ;del list[::]删除下标元素或者范围元素；"
   ]
  },
  {
   "cell_type": "code",
   "execution_count": 22,
   "metadata": {},
   "outputs": [
    {
     "name": "stdout",
     "output_type": "stream",
     "text": [
      "<class 'list'> 4 1\n",
      "1 [1, 23, 'hello'] [(1, 3, 2), 'hello', 23, 1] [1, 23, 'hello', (1, 3, 2), 1, 23, 'hello', (1, 3, 2), 1, 23, 'hello', (1, 3, 2)]\n",
      "[1, 23, 'hello', (1, 3, 2), 'zmh', 12, 'e', 'e', 'e', 'e', 'e', 'e']\n",
      "[0, 1, 2, 3, 4, 5, 6, 7, 8, 9] <class 'list'>\n",
      "[23, 'hello', (1, 3, 2), 'zmh', 12, 'e', 'e', 'e', 'e', 'e', 'e'] [1, 2, 5, 6, 7, 8, 9]\n",
      "4 7 6\n"
     ]
    }
   ],
   "source": [
    "li=[1,23,'hello',(1,3,2)]\n",
    "print(type(li),len(li),li[0])\n",
    "print(li.index(23),li[:3],li[::-1],3*li)\n",
    "li.append('zmh')\n",
    "li.append(12)\n",
    "li.extend('eeeeee')\n",
    "li.extend([ ])\n",
    "print(li)\n",
    "b=list(range(10))\n",
    "print(b,type(b))\n",
    "li.remove(1)\n",
    "del b[0]\n",
    "del b[2:4]\n",
    "print(li,b)\n",
    "print(b.index(7),len(b),b[3])\n"
   ]
  },
  {
   "cell_type": "markdown",
   "metadata": {},
   "source": [
    "## tuple元组（） 只有一个元素时 要加， 只能查找 不能修改！可以对元组中的list进行修改 tuple(A)强制转换A为tuple tuple.count(x)查找x出现的次数"
   ]
  },
  {
   "cell_type": "code",
   "execution_count": 23,
   "metadata": {},
   "outputs": [
    {
     "name": "stdout",
     "output_type": "stream",
     "text": [
      "(123, 23, [1, 2, 3])\n",
      "[2, 2, 3] (123, 23, [2, 2, 3]) <class 'tuple'>\n",
      "1\n",
      "<class 'tuple'> <class 'int'>\n",
      "(123,) 3 [132, 'hello', '01'] ([132, 'hello', '01'], 123, 'asdf')\n"
     ]
    }
   ],
   "source": [
    "tuple1=('asdf',123,[132,'hello','01'])\n",
    "list1=[1,2,3]\n",
    "tuple2=(123,23,list1)\n",
    "print(tuple2)\n",
    "list1[0]=2\n",
    "tuple2=(123,23,list1)\n",
    "print(list1,tuple2,type(tuple2))\n",
    "print(tuple2.count(123))\n",
    "tuple3=(1,)\n",
    "tuple4=(1)\n",
    "print(type(tuple3),type(4))\n",
    "# print(tuple1)\n",
    "print(tuple1[1:2],len(tuple1),tuple1[-1],tuple1[::-1])\n",
    "# print(tuple1[0::2],tuple1[::-2])\n",
    "# print(id(turple1))"
   ]
  },
  {
   "cell_type": "markdown",
   "metadata": {},
   "source": [
    "## 字典dictionary dict[键]=键值 无序 无下标{键值集合} 内置的高级数据类型 键是不可变的类型[元组、字符串] 值可以是任意类型 键是唯一的 相同后面会覆盖前面 dict[]通过键可以得到键的值.keys()获取键 .values()获取值 .items()获取键值对\n",
    "## for key,value in dict.items(): 逐条获取键值对  dict.update({'键':'键值}) 添加或更新键值对  sorted(dict.items(),key=lambda d:d[0/1])； del dict[键]=dict.pop(键)删除指定键 ；"
   ]
  },
  {
   "cell_type": "code",
   "execution_count": 24,
   "metadata": {},
   "outputs": [
    {
     "name": "stdout",
     "output_type": "stream",
     "text": [
      "{'pro': 'machanical', 'year': 2020, 'name': 'zmh', 'age': 22, 'class': 5}\n",
      "pro\n",
      "year\n",
      "name\n",
      "age\n",
      "class\n"
     ]
    },
    {
     "ename": "TypeError",
     "evalue": "descriptor 'keys' of 'dict' object needs an argument",
     "output_type": "error",
     "traceback": [
      "\u001b[1;31m---------------------------------------------------------------------------\u001b[0m",
      "\u001b[1;31mTypeError\u001b[0m                                 Traceback (most recent call last)",
      "\u001b[1;32m<ipython-input-24-9833479e7ad0>\u001b[0m in \u001b[0;36m<module>\u001b[1;34m\u001b[0m\n\u001b[0;32m     10\u001b[0m \u001b[1;32mfor\u001b[0m \u001b[0mi\u001b[0m \u001b[1;32min\u001b[0m \u001b[0mdict1\u001b[0m\u001b[1;33m:\u001b[0m\u001b[1;33m\u001b[0m\u001b[1;33m\u001b[0m\u001b[0m\n\u001b[0;32m     11\u001b[0m     \u001b[0mprint\u001b[0m\u001b[1;33m(\u001b[0m\u001b[0mi\u001b[0m\u001b[1;33m)\u001b[0m\u001b[1;33m\u001b[0m\u001b[1;33m\u001b[0m\u001b[0m\n\u001b[1;32m---> 12\u001b[1;33m \u001b[1;32mfor\u001b[0m \u001b[0mi\u001b[0m \u001b[1;32min\u001b[0m \u001b[0mdict\u001b[0m\u001b[1;33m.\u001b[0m\u001b[0mkeys\u001b[0m\u001b[1;33m(\u001b[0m\u001b[1;33m)\u001b[0m\u001b[1;33m:\u001b[0m\u001b[1;33m\u001b[0m\u001b[1;33m\u001b[0m\u001b[0m\n\u001b[0m\u001b[0;32m     13\u001b[0m     \u001b[0mprint\u001b[0m\u001b[1;33m(\u001b[0m\u001b[0mi\u001b[0m\u001b[1;33m)\u001b[0m\u001b[1;33m\u001b[0m\u001b[1;33m\u001b[0m\u001b[0m\n\u001b[0;32m     14\u001b[0m \u001b[1;31m# print(dict1.keys(),dict1.values(),dict1.items())\u001b[0m\u001b[1;33m\u001b[0m\u001b[1;33m\u001b[0m\u001b[1;33m\u001b[0m\u001b[0m\n",
      "\u001b[1;31mTypeError\u001b[0m: descriptor 'keys' of 'dict' object needs an argument"
     ]
    }
   ],
   "source": [
    "dict1={'pro':'machanical','year':2020}\n",
    "dict1['name']='zmh'\n",
    "dict1['age']=22\n",
    "dict1['class']=5\n",
    "# print(len(dict1),dict1)\n",
    "# print(dict1['name'])\n",
    "# dict1['name']='wzw'\n",
    "# print(dict1['name'])\n",
    "print(dict1)\n",
    "for i in dict1:\n",
    "    print(i)\n",
    "for i in dict.keys():\n",
    "    print(i)\n",
    "# print(dict1.keys(),dict1.values(),dict1.items())\n",
    "# for key,value in dict1.items():\n",
    "#     print('{}={}'.format(key,value))\n",
    "# print(dict1)\n",
    "# print(dict1.update({'pro':'mechanical'}))\n",
    "# print(sorted(dict1.items(),key=lambda d:d[0]))\n",
    "\n"
   ]
  },
  {
   "cell_type": "code",
   "execution_count": null,
   "metadata": {},
   "outputs": [],
   "source": [
    "import sys\n",
    "sys.executable"
   ]
  },
  {
   "cell_type": "code",
   "execution_count": null,
   "metadata": {},
   "outputs": [],
   "source": [
    "print(sys.argv) ##命令参数\n",
    "for i in sys.argv:\n",
    "    print(i)"
   ]
  },
  {
   "cell_type": "markdown",
   "metadata": {},
   "source": [
    "## 可变关键字  \n",
    "(*args) 函数传入元组数据 (**kwargs) 传入字典数据 "
   ]
  },
  {
   "cell_type": "code",
   "execution_count": null,
   "metadata": {},
   "outputs": [],
   "source": [
    "def num_sum(*args): ## *args 表示传一段元组数据给函数,只能是元组\n",
    "    result=0\n",
    "    print(*args,args,type(args))\n",
    "    for item in args:\n",
    "        result+=item\n",
    "        pass\n",
    "    return result\n",
    "rs=num_sum(1.,12,45)\n",
    "print(rs)\n",
    "    "
   ]
  },
  {
   "cell_type": "code",
   "execution_count": null,
   "metadata": {},
   "outputs": [],
   "source": [
    "def process_func(con):\n",
    "    new_list=[]\n",
    "    print(len(con),con[1],con)\n",
    "    \n",
    "    for i in range(len(con)):\n",
    "        if i%2==0:\n",
    "            new_list.append(con[i])\n",
    "            pass\n",
    "    return new_list\n",
    "rs=process_func([12.,32.,4.,51.,56.,2.])\n",
    "print(rs)\n",
    "rs1=process_func(tuple(range(10,30)))\n",
    "print(rs1)\n",
    "print(type(range(10,12)))"
   ]
  },
  {
   "cell_type": "code",
   "execution_count": null,
   "metadata": {},
   "outputs": [],
   "source": [
    "def dict_func(**kwargs): #用**kwargs 读取传入的字典参数 key=values的形式 kwargs=dict\n",
    "    list_new=[]\n",
    "    print(kwargs,*kwargs,kwargs.keys(),kwargs.values())\n",
    "    for i in kwargs.values():\n",
    "        if len(i)>2:\n",
    "            i=i[0:2]\n",
    "            list_new.append(i)\n",
    "        else:\n",
    "            list_new.append(i)\n",
    "    return list_new\n",
    "rs=dict_func(name='zmh',Class='s0005',age='22',pro='mechanical')\n",
    "print(rs)"
   ]
  },
  {
   "cell_type": "code",
   "execution_count": null,
   "metadata": {},
   "outputs": [],
   "source": [
    "def dic_func1(dict): ## 用dict 读取 （）内 dict1的数据 dict=dict1\n",
    "    list_new=[]\n",
    "    print(dict,dict.keys(),dict.values())\n",
    "    for i in dict.values():\n",
    "        if len(i)>2:\n",
    "            i=i[:2]\n",
    "            list_new.append(i)\n",
    "        else:\n",
    "            list_new.append(i)\n",
    "            pass\n",
    "        pass\n",
    "    return list_new\n",
    "dict1={'name': 'zmh', 'Class': 's0005', 'age': '22', 'pro': 'mechanical'}\n",
    "rs=dic_func1(dict1)\n",
    "print(rs)        "
   ]
  },
  {
   "cell_type": "markdown",
   "metadata": {},
   "source": [
    "## Guassian elimination"
   ]
  },
  {
   "cell_type": "code",
   "execution_count": 25,
   "metadata": {},
   "outputs": [
    {
     "name": "stdout",
     "output_type": "stream",
     "text": [
      "[[1. 0. 0.]\n",
      " [0. 1. 0.]\n",
      " [0. 0. 1.]] [[1. 2. 0.]\n",
      " [0. 1. 2.]\n",
      " [1. 2. 1.]]\n",
      "将矩阵进行LU分解，L=[[ 0.  0.  1.]\n",
      " [ 0.  1.  0.]\n",
      " [ 1.  0. -1.]],U=[[ 1.  2.  1.]\n",
      " [ 0.  1.  2.]\n",
      " [ 0.  0. -1.]]\n",
      "化为单位阵[[ 1.  0.  0. -1.]\n",
      " [ 0.  1.  0.  2.]\n",
      " [-0. -0.  1. -0.]],行变换矩阵为[[-3. -2.  4.]\n",
      " [ 2.  1. -2.]\n",
      " [-1. -0.  1.]]\n",
      "此方程的解X=[[-1.]\n",
      " [ 2.]\n",
      " [-0.]]\n",
      "计算次数为7\n"
     ]
    }
   ],
   "source": [
    "import numpy as np\n",
    "def swap(A,b,m,n,E,k,count): ##做列主元交换\n",
    "    max_k=0\n",
    "    for i in range(k,m):    ##找出列最大主元\n",
    "        if max_k<=abs(A[i][k]):\n",
    "            max_k=abs(A[i][k])\n",
    "            max_num=i\n",
    "    count+=1\n",
    "    A[[k,max_num],:]=A[[max_num,k],:]##交换\n",
    "    b[k],b[max_num]=b[max_num],b[k]\n",
    "    E[[k,max_num],:]=E[[max_num,k],:]\n",
    "    \n",
    "def gaussian(A,b,m,n,E,X):\n",
    "    count=0\n",
    "    c=np.c_[A,b]\n",
    "    if np.linalg.matrix_rank(A)==np.linalg.matrix_rank(c) and np.linalg.matrix_rank(A)==n:##判断有唯一解\n",
    "        for k in range(n): ##按列消元\n",
    "            swap(A,b,m,n,E,k,count)               \n",
    "            for i in range(k+1,m):##每列的消元过程\n",
    "                if A[i][k]!=0:    ## 如果元素为0，则不需要消元\n",
    "                    count+=1\n",
    "                    num_1=A[i][k]/A[k][k]\n",
    "                    A[i]-=num_1*A[k]\n",
    "                    b[i]-=num_1*b[k]\n",
    "                    E[i]-=num_1*E[k]\n",
    "                else:\n",
    "                    continue\n",
    "        print('将矩阵进行LU分解，L={},U={}'.format(E,A))   ##输出上三角矩阵 LU分解 L=E,U=A\n",
    "\n",
    "        for j in range(0,m):##主对角线变为1\n",
    "            count+=1\n",
    "            num_2=A[j][j]\n",
    "            A[j]/=num_2\n",
    "            b[j]/=num_2\n",
    "            E[j]/=num_2\n",
    "#         print(np.c_[A,b])\n",
    "#         print(E)\n",
    "        while k>=1:\n",
    "            for z in range(0,k):##输出单位阵 \n",
    "                count+=1\n",
    "                num_3=A[z][k]\n",
    "                A[z]-=num_3*A[k]\n",
    "                b[z]-=num_3*b[k]\n",
    "                E[z]-=num_3*E[k]\n",
    "            k-=1\n",
    "#         back(A,b,k)\n",
    "        print('化为单位阵{},行变换矩阵为{}'.format(np.c_[A,b],E))\n",
    "        print('此方程的解X={}'.format(b))\n",
    "        print('计算次数为%d'%(count))\n",
    "            \n",
    "    elif np.linalg.matrix_rank(A)==np.linalg.matrix_rank(c) and np.linalg.matrix_rank(A)<n:\n",
    "        print('此方程有无数个解')\n",
    "    else:\n",
    "        print('此方程无解')\n",
    "        \n",
    "A=np.array([[1,2,0,],[0,1,2],[1,2,1]])    #  A=np.array([[1.,2.,0.,],[0.,1.,2.],[1.,2.,1.]])##注意不同类型的数据不能进行运算 float和int A.astype(int/float) 可以改变array/matrix/mat的数据类型\n",
    "A=A.astype(np.float)  ## 把A的数据转换为浮点型\n",
    "b = np.mat([1.,2.,3.]).T\n",
    "m,n=A.shape\n",
    "E=np.eye(m)\n",
    "X=np.zeros(shape=(m,1))\n",
    "print(E,A)\n",
    "# E=np.eye(n)\n",
    "gaussian(A,b,m,n,E,X)"
   ]
  },
  {
   "cell_type": "code",
   "execution_count": null,
   "metadata": {},
   "outputs": [],
   "source": [
    "import numpy as np\n",
    "m=6\n",
    "a=np.zeros(shape=(m,1))\n",
    "a=a.astype(np.str)\n",
    "for i in range(m):\n",
    "    a[i]='x'\n",
    "print(a)\n"
   ]
  },
  {
   "cell_type": "code",
   "execution_count": null,
   "metadata": {},
   "outputs": [],
   "source": [
    "for i in range(5):\n",
    "    print(i)"
   ]
  },
  {
   "cell_type": "code",
   "execution_count": null,
   "metadata": {},
   "outputs": [],
   "source": []
  }
 ],
 "metadata": {
  "kernelspec": {
   "display_name": "Python 3",
   "language": "python",
   "name": "python3"
  },
  "language_info": {
   "codemirror_mode": {
    "name": "ipython",
    "version": 3
   },
   "file_extension": ".py",
   "mimetype": "text/x-python",
   "name": "python",
   "nbconvert_exporter": "python",
   "pygments_lexer": "ipython3",
   "version": "3.8.5"
  }
 },
 "nbformat": 4,
 "nbformat_minor": 4
}
