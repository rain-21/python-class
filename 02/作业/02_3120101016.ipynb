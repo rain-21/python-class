{
 "cells": [
  {
   "cell_type": "code",
   "execution_count": 1,
   "metadata": {},
   "outputs": [
    {
     "data": {
      "text/plain": [
       "'C:\\\\Users\\\\hjh\\\\anaconda3\\\\python.exe'"
      ]
     },
     "execution_count": 1,
     "metadata": {},
     "output_type": "execute_result"
    }
   ],
   "source": [
    "import sys\n",
    "sys.executable"
   ]
  },
  {
   "cell_type": "code",
   "execution_count": 2,
   "metadata": {},
   "outputs": [
    {
     "data": {
      "text/plain": [
       "['C:\\\\Users\\\\hjh\\\\anaconda3\\\\lib\\\\site-packages\\\\ipykernel_launcher.py',\n",
       " '-f',\n",
       " 'C:\\\\Users\\\\hjh\\\\AppData\\\\Roaming\\\\jupyter\\\\runtime\\\\kernel-5539ef38-8e15-4f62-908a-5952b2a62ea0.json']"
      ]
     },
     "execution_count": 2,
     "metadata": {},
     "output_type": "execute_result"
    }
   ],
   "source": [
    "sys.argv"
   ]
  },
  {
   "cell_type": "code",
   "execution_count": 5,
   "metadata": {},
   "outputs": [
    {
     "name": "stdout",
     "output_type": "stream",
     "text": [
      "Hello from a function\n"
     ]
    }
   ],
   "source": [
    "def my_function():\n",
    "  print(\"Hello from a function\")\n",
    "\n",
    "my_function()"
   ]
  },
  {
   "cell_type": "markdown",
   "metadata": {},
   "source": [
    "说明函数不一定需要输入参数！"
   ]
  },
  {
   "cell_type": "code",
   "execution_count": 6,
   "metadata": {},
   "outputs": [
    {
     "name": "stdout",
     "output_type": "stream",
     "text": [
      "Rory John Gates\n",
      "Jennifer Katharine Gates\n",
      "Phoebe Adele Gates\n"
     ]
    }
   ],
   "source": [
    "def my_function(fname):\n",
    "  print(fname + \" Gates\")\n",
    "\n",
    "my_function(\"Rory John\")\n",
    "my_function(\"Jennifer Katharine\")\n",
    "my_function(\"Phoebe Adele\")"
   ]
  },
  {
   "cell_type": "markdown",
   "metadata": {},
   "source": [
    "带参数的函数"
   ]
  },
  {
   "cell_type": "code",
   "execution_count": 7,
   "metadata": {},
   "outputs": [
    {
     "name": "stdout",
     "output_type": "stream",
     "text": [
      "I am from jiaozuo\n",
      "I am from China\n"
     ]
    }
   ],
   "source": [
    "def my_function(country = \"China\"):\n",
    "  print(\"I am from \" + country)\n",
    "\n",
    "my_function(\"jiaozuo\")\n",
    "my_function()"
   ]
  },
  {
   "cell_type": "markdown",
   "metadata": {},
   "source": [
    "可以给参数设置默认值"
   ]
  },
  {
   "cell_type": "code",
   "execution_count": 8,
   "metadata": {},
   "outputs": [
    {
     "name": "stdout",
     "output_type": "stream",
     "text": [
      "apple\n",
      "banana\n",
      "cherry\n"
     ]
    }
   ],
   "source": [
    "def my_function(food):\n",
    "  for x in food:\n",
    "    print(x)\n",
    "\n",
    "fruits = [\"apple\", \"banana\", \"cherry\"]\n",
    "\n",
    "my_function(fruits)"
   ]
  },
  {
   "cell_type": "markdown",
   "metadata": {},
   "source": [
    "参数不一定是一个值，也可以是列表、字典等。"
   ]
  },
  {
   "cell_type": "code",
   "execution_count": 9,
   "metadata": {},
   "outputs": [
    {
     "name": "stdout",
     "output_type": "stream",
     "text": [
      "15\n"
     ]
    }
   ],
   "source": [
    "def my_function(x):\n",
    "  return 5 * x\n",
    "\n",
    "print(my_function(3))"
   ]
  },
  {
   "cell_type": "markdown",
   "metadata": {},
   "source": [
    "参数可以通过return返回出来！"
   ]
  },
  {
   "cell_type": "code",
   "execution_count": 10,
   "metadata": {},
   "outputs": [
    {
     "name": "stdout",
     "output_type": "stream",
     "text": [
      "The youngest child is Rory\n"
     ]
    }
   ],
   "source": [
    "def my_function(*kids):\n",
    "  print(\"The youngest child is \" + kids[2])\n",
    "\n",
    "my_function(\"Phoebe\", \"Jennifer\", \"Rory\")"
   ]
  },
  {
   "cell_type": "markdown",
   "metadata": {},
   "source": [
    "当不清楚实际输入参数的个数或者类型的时候，可以通过给参数加* 来保证参数可以识别！"
   ]
  },
  {
   "cell_type": "code",
   "execution_count": 11,
   "metadata": {},
   "outputs": [
    {
     "ename": "SyntaxError",
     "evalue": "invalid syntax (<ipython-input-11-5cf68887a9fa>, line 1)",
     "output_type": "error",
     "traceback": [
      "\u001b[1;36m  File \u001b[1;32m\"<ipython-input-11-5cf68887a9fa>\"\u001b[1;36m, line \u001b[1;32m1\u001b[0m\n\u001b[1;33m    def myfunction:\u001b[0m\n\u001b[1;37m                  ^\u001b[0m\n\u001b[1;31mSyntaxError\u001b[0m\u001b[1;31m:\u001b[0m invalid syntax\n"
     ]
    }
   ],
   "source": [
    "def myfunction:\n",
    "  pass"
   ]
  },
  {
   "cell_type": "markdown",
   "metadata": {},
   "source": [
    "pass可以省略此处的代码，在最开始写整个程序的时候，可以用pass来代替之后需要慢慢写的局部程序，使程序结构更加清晰"
   ]
  },
  {
   "cell_type": "code",
   "execution_count": 12,
   "metadata": {},
   "outputs": [
    {
     "name": "stdout",
     "output_type": "stream",
     "text": [
      "\n",
      "\n",
      "Recursion Example Results\n",
      "1\n",
      "3\n",
      "6\n",
      "10\n",
      "15\n",
      "21\n"
     ]
    },
    {
     "data": {
      "text/plain": [
       "21"
      ]
     },
     "execution_count": 12,
     "metadata": {},
     "output_type": "execute_result"
    }
   ],
   "source": [
    "def tri_recursion(k):\n",
    "  if(k>0):\n",
    "    result = k+tri_recursion(k-1)\n",
    "    print(result)\n",
    "  else:\n",
    "    result = 0\n",
    "  return result\n",
    "\n",
    "print(\"\\n\\nRecursion Example Results\")\n",
    "tri_recursion(6)"
   ]
  },
  {
   "cell_type": "markdown",
   "metadata": {},
   "source": [
    "函数的递归：意味着函数调用自身。这样做的好处是可以循环访问数据以达成结果。\n",
    "函数递归可以使编程思路变得清晰而简单\n",
    "但是递归会造成程序的运算量加大，一般尽可能找更合理的算法\n",
    "最开始写程序时要慎用递归，防止出现死循环！"
   ]
  },
  {
   "cell_type": "code",
   "execution_count": 13,
   "metadata": {},
   "outputs": [],
   "source": [
    "def print_two(*args):\n",
    "    arg1, arg2 = args\n",
    "    print(f\"arg1: {arg1}, arg2: {arg2}\")"
   ]
  },
  {
   "cell_type": "code",
   "execution_count": 14,
   "metadata": {},
   "outputs": [
    {
     "name": "stdout",
     "output_type": "stream",
     "text": [
      "arg1: Zed, arg2: Shaw\n"
     ]
    }
   ],
   "source": [
    "print_two(\"Zed\",\"Shaw\")"
   ]
  },
  {
   "cell_type": "markdown",
   "metadata": {},
   "source": [
    "在这里我们就用* 引入了两个参数"
   ]
  },
  {
   "cell_type": "code",
   "execution_count": 15,
   "metadata": {},
   "outputs": [
    {
     "ename": "ValueError",
     "evalue": "too many values to unpack (expected 2)",
     "output_type": "error",
     "traceback": [
      "\u001b[1;31m---------------------------------------------------------------------------\u001b[0m",
      "\u001b[1;31mValueError\u001b[0m                                Traceback (most recent call last)",
      "\u001b[1;32m<ipython-input-15-27269464006d>\u001b[0m in \u001b[0;36m<module>\u001b[1;34m\u001b[0m\n\u001b[1;32m----> 1\u001b[1;33m \u001b[0mprint_two\u001b[0m\u001b[1;33m(\u001b[0m\u001b[1;34m\"Zed\"\u001b[0m\u001b[1;33m,\u001b[0m\u001b[1;34m\"Shaw\"\u001b[0m\u001b[1;33m,\u001b[0m\u001b[1;34m\"hujiahao\"\u001b[0m\u001b[1;33m)\u001b[0m\u001b[1;33m\u001b[0m\u001b[1;33m\u001b[0m\u001b[0m\n\u001b[0m",
      "\u001b[1;32m<ipython-input-13-5a6d19f78322>\u001b[0m in \u001b[0;36mprint_two\u001b[1;34m(*args)\u001b[0m\n\u001b[0;32m      1\u001b[0m \u001b[1;32mdef\u001b[0m \u001b[0mprint_two\u001b[0m\u001b[1;33m(\u001b[0m\u001b[1;33m*\u001b[0m\u001b[0margs\u001b[0m\u001b[1;33m)\u001b[0m\u001b[1;33m:\u001b[0m\u001b[1;33m\u001b[0m\u001b[1;33m\u001b[0m\u001b[0m\n\u001b[1;32m----> 2\u001b[1;33m     \u001b[0marg1\u001b[0m\u001b[1;33m,\u001b[0m \u001b[0marg2\u001b[0m \u001b[1;33m=\u001b[0m \u001b[0margs\u001b[0m\u001b[1;33m\u001b[0m\u001b[1;33m\u001b[0m\u001b[0m\n\u001b[0m\u001b[0;32m      3\u001b[0m     \u001b[0mprint\u001b[0m\u001b[1;33m(\u001b[0m\u001b[1;34mf\"arg1: {arg1}, arg2: {arg2}\"\u001b[0m\u001b[1;33m)\u001b[0m\u001b[1;33m\u001b[0m\u001b[1;33m\u001b[0m\u001b[0m\n",
      "\u001b[1;31mValueError\u001b[0m: too many values to unpack (expected 2)"
     ]
    }
   ],
   "source": [
    "print_two(\"Zed\",\"Shaw\",\"hujiahao\")"
   ]
  },
  {
   "cell_type": "markdown",
   "metadata": {},
   "source": [
    "我们可以发现，因为我们使用了arg1, arg2 = args语句，因此我们输入必须是两个值"
   ]
  },
  {
   "cell_type": "markdown",
   "metadata": {},
   "source": [
    "程序改写如下："
   ]
  },
  {
   "cell_type": "code",
   "execution_count": 18,
   "metadata": {},
   "outputs": [],
   "source": [
    "def print_two(*args):\n",
    "    arg1, arg2 = args[1],args[2]\n",
    "    print(f\"arg1: {arg1}, arg2: {arg2}\")"
   ]
  },
  {
   "cell_type": "code",
   "execution_count": 19,
   "metadata": {},
   "outputs": [
    {
     "name": "stdout",
     "output_type": "stream",
     "text": [
      "arg1: Shaw, arg2: hujiahao\n"
     ]
    }
   ],
   "source": [
    "print_two(\"Zed\",\"Shaw\",\"hujiahao\")"
   ]
  },
  {
   "cell_type": "code",
   "execution_count": 20,
   "metadata": {},
   "outputs": [
    {
     "ename": "IndexError",
     "evalue": "tuple index out of range",
     "output_type": "error",
     "traceback": [
      "\u001b[1;31m---------------------------------------------------------------------------\u001b[0m",
      "\u001b[1;31mIndexError\u001b[0m                                Traceback (most recent call last)",
      "\u001b[1;32m<ipython-input-20-ca1c340057a9>\u001b[0m in \u001b[0;36m<module>\u001b[1;34m\u001b[0m\n\u001b[1;32m----> 1\u001b[1;33m \u001b[0mprint_two\u001b[0m\u001b[1;33m(\u001b[0m\u001b[1;34m\"Zed\"\u001b[0m\u001b[1;33m)\u001b[0m\u001b[1;33m\u001b[0m\u001b[1;33m\u001b[0m\u001b[0m\n\u001b[0m",
      "\u001b[1;32m<ipython-input-18-5addb0fad05b>\u001b[0m in \u001b[0;36mprint_two\u001b[1;34m(*args)\u001b[0m\n\u001b[0;32m      1\u001b[0m \u001b[1;32mdef\u001b[0m \u001b[0mprint_two\u001b[0m\u001b[1;33m(\u001b[0m\u001b[1;33m*\u001b[0m\u001b[0margs\u001b[0m\u001b[1;33m)\u001b[0m\u001b[1;33m:\u001b[0m\u001b[1;33m\u001b[0m\u001b[1;33m\u001b[0m\u001b[0m\n\u001b[1;32m----> 2\u001b[1;33m     \u001b[0marg1\u001b[0m\u001b[1;33m,\u001b[0m \u001b[0marg2\u001b[0m \u001b[1;33m=\u001b[0m \u001b[0margs\u001b[0m\u001b[1;33m[\u001b[0m\u001b[1;36m1\u001b[0m\u001b[1;33m]\u001b[0m\u001b[1;33m,\u001b[0m\u001b[0margs\u001b[0m\u001b[1;33m[\u001b[0m\u001b[1;36m2\u001b[0m\u001b[1;33m]\u001b[0m\u001b[1;33m\u001b[0m\u001b[1;33m\u001b[0m\u001b[0m\n\u001b[0m\u001b[0;32m      3\u001b[0m     \u001b[0mprint\u001b[0m\u001b[1;33m(\u001b[0m\u001b[1;34mf\"arg1: {arg1}, arg2: {arg2}\"\u001b[0m\u001b[1;33m)\u001b[0m\u001b[1;33m\u001b[0m\u001b[1;33m\u001b[0m\u001b[0m\n",
      "\u001b[1;31mIndexError\u001b[0m: tuple index out of range"
     ]
    }
   ],
   "source": [
    "print_two(\"Zed\")"
   ]
  },
  {
   "cell_type": "markdown",
   "metadata": {},
   "source": [
    "这时候我们只需要保证输入的值大于等于两个就行，小于两个不可以"
   ]
  },
  {
   "cell_type": "code",
   "execution_count": 21,
   "metadata": {},
   "outputs": [],
   "source": [
    "def print_two_again(arg1, arg2):\n",
    "    print(f\"arg1: {arg1}, arg2: {arg2}\")"
   ]
  },
  {
   "cell_type": "code",
   "execution_count": 22,
   "metadata": {},
   "outputs": [
    {
     "name": "stdout",
     "output_type": "stream",
     "text": [
      "arg1: Zed, arg2: Shaw\n"
     ]
    }
   ],
   "source": [
    "print_two_again(\"Zed\",\"Shaw\")"
   ]
  },
  {
   "cell_type": "markdown",
   "metadata": {},
   "source": [
    "这时候我们也是需要保证输入的参数必须是两个"
   ]
  },
  {
   "cell_type": "code",
   "execution_count": 23,
   "metadata": {},
   "outputs": [],
   "source": [
    "def cheese_and_crackers(cheese_count, boxes_of_crackers):\n",
    "    print(f\"You have {cheese_count} cheeses!\")\n",
    "    print(f\"You have {boxes_of_crackers} boxes of crackers!\")\n",
    "    print(\"Man that's enough for a party!\")\n",
    "    print(\"Get a blanket.\\n\")"
   ]
  },
  {
   "cell_type": "code",
   "execution_count": 24,
   "metadata": {},
   "outputs": [
    {
     "name": "stdout",
     "output_type": "stream",
     "text": [
      "We can even do math inside too:\n",
      "You have 30 cheeses!\n",
      "You have 11 boxes of crackers!\n",
      "Man that's enough for a party!\n",
      "Get a blanket.\n",
      "\n"
     ]
    }
   ],
   "source": [
    "print(\"We can even do math inside too:\")\n",
    "cheese_and_crackers(10 + 20, 5 + 6)"
   ]
  },
  {
   "cell_type": "markdown",
   "metadata": {},
   "source": [
    "参数可以通过输入计算式来实现"
   ]
  },
  {
   "cell_type": "code",
   "execution_count": 25,
   "metadata": {},
   "outputs": [
    {
     "ename": "FileNotFoundError",
     "evalue": "[Errno 2] No such file or directory: 'sample.txt'",
     "output_type": "error",
     "traceback": [
      "\u001b[1;31m---------------------------------------------------------------------------\u001b[0m",
      "\u001b[1;31mFileNotFoundError\u001b[0m                         Traceback (most recent call last)",
      "\u001b[1;32m<ipython-input-25-e925d175147d>\u001b[0m in \u001b[0;36m<module>\u001b[1;34m\u001b[0m\n\u001b[0;32m      1\u001b[0m \u001b[0mfilename\u001b[0m \u001b[1;33m=\u001b[0m \u001b[1;34m'sample.txt'\u001b[0m\u001b[1;33m\u001b[0m\u001b[1;33m\u001b[0m\u001b[0m\n\u001b[1;32m----> 2\u001b[1;33m \u001b[0mtxt\u001b[0m \u001b[1;33m=\u001b[0m \u001b[0mopen\u001b[0m\u001b[1;33m(\u001b[0m\u001b[0mfilename\u001b[0m\u001b[1;33m)\u001b[0m\u001b[1;33m\u001b[0m\u001b[1;33m\u001b[0m\u001b[0m\n\u001b[0m\u001b[0;32m      3\u001b[0m \u001b[1;33m\u001b[0m\u001b[0m\n\u001b[0;32m      4\u001b[0m \u001b[0mprint\u001b[0m\u001b[1;33m(\u001b[0m\u001b[1;34mf\"Here's your file {filename}:\"\u001b[0m\u001b[1;33m)\u001b[0m\u001b[1;33m\u001b[0m\u001b[1;33m\u001b[0m\u001b[0m\n\u001b[0;32m      5\u001b[0m \u001b[0mprint\u001b[0m\u001b[1;33m(\u001b[0m\u001b[0mtxt\u001b[0m\u001b[1;33m.\u001b[0m\u001b[0mread\u001b[0m\u001b[1;33m(\u001b[0m\u001b[1;33m)\u001b[0m\u001b[1;33m)\u001b[0m\u001b[1;33m\u001b[0m\u001b[1;33m\u001b[0m\u001b[0m\n",
      "\u001b[1;31mFileNotFoundError\u001b[0m: [Errno 2] No such file or directory: 'sample.txt'"
     ]
    }
   ],
   "source": [
    "filename = 'sample.txt'\n",
    "txt = open(filename)\n",
    "\n",
    "print(f\"Here's your file {filename}:\")\n",
    "print(txt.read())\n",
    "txt.close()"
   ]
  },
  {
   "cell_type": "code",
   "execution_count": 13,
   "metadata": {},
   "outputs": [
    {
     "data": {
      "text/plain": [
       "0.1837748344370861"
      ]
     },
     "execution_count": 13,
     "metadata": {},
     "output_type": "execute_result"
    }
   ],
   "source": [
    "# 分项的权重\n",
    "def W(N, D, i):\n",
    "    d = 0.1\n",
    "    for j in range(N):\n",
    "        d += D[j]\n",
    "    w = (1-D[i]/d)/(N - 1)\n",
    "\n",
    "    return w\n",
    "W(5,[1,2,3,4,5],3)"
   ]
  },
  {
   "cell_type": "code",
   "execution_count": 2,
   "metadata": {},
   "outputs": [],
   "source": [
    "# 标准欧式距离\n",
    "import numpy as np\n",
    "\n",
    "\n",
    "def D(Z, G_i, t_j, LenZ, LenG):\n",
    "    d = 0\n",
    "    Var = np.var(G_i)\n",
    "    for k in range(LenZ):\n",
    "        if (t_j + k) >= LenG:\n",
    "            break\n",
    "        else:\n",
    "           d += pow(Z[k] - G_i[t_j + k], 2)\n",
    "\n",
    "    d = d/Var\n",
    "\n",
    "    return d"
   ]
  },
  {
   "cell_type": "code",
   "execution_count": 3,
   "metadata": {},
   "outputs": [
    {
     "data": {
      "image/png": "[encoded data removed]",
      "text/plain": [
       "<Figure size 720x720 with 1 Axes>"
      ]
     },
     "metadata": {
      "needs_background": "light"
     },
     "output_type": "display_data"
    },
    {
     "data": {
      "image/png": "[encoded data removed]",
      "text/plain": [
       "<Figure size 720x720 with 1 Axes>"
      ]
     },
     "metadata": {
      "needs_background": "light"
     },
     "output_type": "display_data"
    },
    {
     "data": {
      "image/png": "[encoded data removed]",
      "text/plain": [
       "<Figure size 720x720 with 1 Axes>"
      ]
     },
     "metadata": {
      "needs_background": "light"
     },
     "output_type": "display_data"
    },
    {
     "data": {
      "image/png": "[encoded data removed]",
      "text/plain": [
       "<Figure size 720x720 with 1 Axes>"
      ]
     },
     "metadata": {
      "needs_background": "light"
     },
     "output_type": "display_data"
    },
    {
     "data": {
      "image/png": "[encoded data removed]",
      "text/plain": [
       "<Figure size 720x720 with 1 Axes>"
      ]
     },
     "metadata": {
      "needs_background": "light"
     },
     "output_type": "display_data"
    },
    {
     "data": {
      "image/png": "[encoded data removed]",
      "text/plain": [
       "<Figure size 720x720 with 1 Axes>"
      ]
     },
     "metadata": {
      "needs_background": "light"
     },
     "output_type": "display_data"
    }
   ],
   "source": [
    "# 导入数据\n",
    "\n",
    "\n",
    "# import csv\n",
    "import numpy as np\n",
    "import pandas as pd\n",
    "import glob,os\n",
    "import matplotlib.pyplot as plt\n",
    "\n",
    "\n",
    "path = r'D:\\PHM 2010\\c1\\c1'\n",
    "\n",
    "file = glob.glob(os.path.join(path, \"c_1_*.csv\"))\n",
    "# print(file)\n",
    "\n",
    "t1 = []\n",
    "# x = []\n",
    "# y = []\n",
    "# z = []\n",
    "k1 = []\n",
    "\n",
    "i1 = 1\n",
    "\n",
    "for f in file:\n",
    "    data = pd.read_csv(f, header=None)\n",
    "    # x.append(np.mean(data.iloc[:, 0]))\n",
    "    # y.append(np.mean(data.iloc[:, 1]))\n",
    "    # z.append(np.mean(data.iloc[:, 2]))\n",
    "    k1.append((np.mean(data.iloc[:, 0])+np.mean(data.iloc[:, 1])+np.mean(data.iloc[:, 2]))/3)\n",
    "    t1.append(i1)\n",
    "    i1 += 1\n",
    "\n",
    "\n",
    "path = r'D:\\PHM 2010\\c2\\c2'\n",
    "\n",
    "file = glob.glob(os.path.join(path, \"c_2_*.csv\"))\n",
    "# print(file)\n",
    "\n",
    "t2 = []\n",
    "# x = []\n",
    "# y = []\n",
    "# z = []\n",
    "k2 = []\n",
    "\n",
    "i2 = 1\n",
    "\n",
    "for f in file:\n",
    "    data = pd.read_csv(f, header=None)\n",
    "    # x.append(np.mean(data.iloc[:, 0]))\n",
    "    # y.append(np.mean(data.iloc[:, 1]))\n",
    "    # z.append(np.mean(data.iloc[:, 2]))\n",
    "    k2.append((np.mean(data.iloc[:, 0])+np.mean(data.iloc[:, 1])+np.mean(data.iloc[:, 2]))/3)\n",
    "    t2.append(i2)\n",
    "    i2 += 1\n",
    "\n",
    "\n",
    "path = r'D:\\PHM 2010\\c3\\c3'\n",
    "\n",
    "file = glob.glob(os.path.join(path, \"c_3_*.csv\"))\n",
    "# print(file)\n",
    "\n",
    "t3 = []\n",
    "# x = []\n",
    "# y = []\n",
    "# z = []\n",
    "k3 = []\n",
    "\n",
    "i3 = 1\n",
    "\n",
    "for f in file:\n",
    "    data = pd.read_csv(f, header=None)\n",
    "    # x.append(np.mean(data.iloc[:, 0]))\n",
    "    # y.append(np.mean(data.iloc[:, 1]))\n",
    "    # z.append(np.mean(data.iloc[:, 2]))\n",
    "    k3.append((np.mean(data.iloc[:, 0])+np.mean(data.iloc[:, 1])+np.mean(data.iloc[:, 2]))/3)\n",
    "    t3.append(i3)\n",
    "    i3 += 1\n",
    "\n",
    "\n",
    "path = r'D:\\PHM 2010\\c4\\c4'\n",
    "\n",
    "file = glob.glob(os.path.join(path, \"c_4_*.csv\"))\n",
    "# print(file)\n",
    "\n",
    "t4 = []\n",
    "# x = []\n",
    "# y = []\n",
    "# z = []\n",
    "k4 = []\n",
    "\n",
    "i4 = 1\n",
    "\n",
    "for f in file:\n",
    "    data = pd.read_csv(f, header=None)\n",
    "    # x.append(np.mean(data.iloc[:, 0]))\n",
    "    # y.append(np.mean(data.iloc[:, 1]))\n",
    "    # z.append(np.mean(data.iloc[:, 2]))\n",
    "    k4.append((np.mean(data.iloc[:, 0])+np.mean(data.iloc[:, 1])+np.mean(data.iloc[:, 2]))/3)\n",
    "    t4.append(i4)\n",
    "    i4 += 1\n",
    "\n",
    "\n",
    "path = r'D:\\PHM 2010\\c5\\c5'\n",
    "\n",
    "file = glob.glob(os.path.join(path, \"c_5_*.csv\"))\n",
    "# print(file)\n",
    "\n",
    "t5 = []\n",
    "# x = []\n",
    "# y = []\n",
    "# z = []\n",
    "k5 = []\n",
    "\n",
    "i5 = 1\n",
    "\n",
    "for f in file:\n",
    "    data = pd.read_csv(f, header=None)\n",
    "    # x.append(np.mean(data.iloc[:, 0]))\n",
    "    # y.append(np.mean(data.iloc[:, 1]))\n",
    "    # z.append(np.mean(data.iloc[:, 2]))\n",
    "    k5.append((np.mean(data.iloc[:, 0])+np.mean(data.iloc[:, 1])+np.mean(data.iloc[:, 2]))/3)\n",
    "    t5.append(i5)\n",
    "    i5 += 1\n",
    "\n",
    "\n",
    "path = r'D:\\PHM 2010\\c6\\c6'\n",
    "\n",
    "file = glob.glob(os.path.join(path, \"c_6_*.csv\"))\n",
    "# print(file)\n",
    "\n",
    "t6 = []\n",
    "# x = []\n",
    "# y = []\n",
    "# z = []\n",
    "k6 = []\n",
    "\n",
    "i6 = 1\n",
    "\n",
    "for f in file:\n",
    "    data = pd.read_csv(f, header=None)\n",
    "    # x.append(np.mean(data.iloc[:, 0]))\n",
    "    # y.append(np.mean(data.iloc[:, 1]))\n",
    "    # z.append(np.mean(data.iloc[:, 2]))\n",
    "    k6.append((np.mean(data.iloc[:, 0])+np.mean(data.iloc[:, 1])+np.mean(data.iloc[:, 2]))/3)\n",
    "    t6.append(i6)\n",
    "    i6 += 1\n",
    "\n",
    "fig1 = plt.figure(figsize=(10, 10))\n",
    "plt.plot(t1, k1)\n",
    "# plt.savefig(\"D:/fig-1.png\")\n",
    "\n",
    "fig2 = plt.figure(figsize=(10, 10))\n",
    "plt.plot(t2, k2)\n",
    "\n",
    "fig3 = plt.figure(figsize=(10, 10))\n",
    "plt.plot(t3, k3)\n",
    "\n",
    "fig4 = plt.figure(figsize=(10, 10))\n",
    "plt.plot(t4, k4)\n",
    "\n",
    "fig5 = plt.figure(figsize=(10, 10))\n",
    "plt.plot(t5, k5)\n",
    "\n",
    "fig6 = plt.figure(figsize=(10, 10))\n",
    "plt.plot(t6, k6)\n",
    "\n",
    "plt.show()\n",
    "\n",
    "\n",
    "def write_csv(sql_data, filename):\n",
    "    file_name = filename\n",
    "    save = pd.DataFrame(list(sql_data))\n",
    "    try:\n",
    "        save.to_csv(file_name)\n",
    "    except UnicodeEncodeError:\n",
    "        print(\"编码错误, 该数据无法写到文件中, 直接忽略该数据\")\n",
    "\n",
    "\n",
    "write_csv(t3, 't3.csv')\n",
    "write_csv(t4, 't4.csv')\n",
    "write_csv(t6, 't6.csv')\n",
    "write_csv(k3, 'k3.csv')\n",
    "write_csv(k4, 'k4.csv')\n",
    "write_csv(k6, 'k6.csv')"
   ]
  },
  {
   "cell_type": "code",
   "execution_count": 4,
   "metadata": {},
   "outputs": [
    {
     "name": "stdout",
     "output_type": "stream",
     "text": [
      "1 1 2 3 5 8 13 21 34 55 89 144 233 377 610 987 \n"
     ]
    },
    {
     "data": {
      "text/plain": [
       "[1, 1, 2, 3, 5, 8, 13, 21, 34, 55, 89]"
      ]
     },
     "execution_count": 4,
     "metadata": {},
     "output_type": "execute_result"
    }
   ],
   "source": [
    "def fib(n):    # 定义到 n 的斐波那契数列\n",
    "    a, b = 0, 1\n",
    "    while b < n:\n",
    "        print(b, end=' ')\n",
    "        a, b = b, a+b\n",
    "    print()\n",
    " \n",
    "def fib2(n): # 返回到 n 的斐波那契数列\n",
    "    result = []\n",
    "    a, b = 0, 1\n",
    "    while b < n:\n",
    "        result.append(b)\n",
    "        a, b = b, a+b\n",
    "    return result\n",
    "\n",
    "fib(1000)\n",
    "fib2(100)"
   ]
  },
  {
   "cell_type": "code",
   "execution_count": 5,
   "metadata": {},
   "outputs": [
    {
     "name": "stdout",
     "output_type": "stream",
     "text": [
      "x 的值为： 32.5,  y 的值为：40000...\n",
      "'hello, runoob\\n'\n"
     ]
    },
    {
     "data": {
      "text/plain": [
       "\"(32.5, 40000, ('Google', 'Runoob'))\""
      ]
     },
     "execution_count": 5,
     "metadata": {},
     "output_type": "execute_result"
    }
   ],
   "source": [
    ">>> s = 'Hello, Runoob'\n",
    ">>> x = 10 * 3.25\n",
    ">>> y = 200 * 200\n",
    ">>> s = 'x 的值为： ' + repr(x) + ',  y 的值为：' + repr(y) + '...'\n",
    ">>> print(s)\n",
    ">>> #  repr() 函数可以转义字符串中的特殊字符\n",
    "... hello = 'hello, runoob\\n'\n",
    ">>> hellos = repr(hello)\n",
    ">>> print(hellos)\n",
    ">>> # repr() 的参数可以是 Python 的任何对象\n",
    "... repr((x, y, ('Google', 'Runoob')))"
   ]
  },
  {
   "cell_type": "code",
   "execution_count": 6,
   "metadata": {},
   "outputs": [
    {
     "name": "stdout",
     "output_type": "stream",
     "text": [
      "常量 PI 的值近似为： 3.141592653589793。\n",
      "常量 PI 的值近似为： 3.141592653589793。\n"
     ]
    }
   ],
   "source": [
    ">>> import math\n",
    ">>> print('常量 PI 的值近似为： {}。'.format(math.pi))\n",
    ">>> print('常量 PI 的值近似为： {!r}。'.format(math.pi))"
   ]
  },
  {
   "cell_type": "code",
   "execution_count": 7,
   "metadata": {},
   "outputs": [
    {
     "name": "stdout",
     "output_type": "stream",
     "text": [
      "这句话，无论异常是否发生都会执行。\n"
     ]
    },
    {
     "ename": "NameError",
     "evalue": "name 'runoob' is not defined",
     "output_type": "error",
     "traceback": [
      "\u001b[1;31m---------------------------------------------------------------------------\u001b[0m",
      "\u001b[1;31mNameError\u001b[0m                                 Traceback (most recent call last)",
      "\u001b[1;32m<ipython-input-7-88753c8cc555>\u001b[0m in \u001b[0;36m<module>\u001b[1;34m\u001b[0m\n\u001b[0;32m      1\u001b[0m \u001b[1;32mtry\u001b[0m\u001b[1;33m:\u001b[0m\u001b[1;33m\u001b[0m\u001b[1;33m\u001b[0m\u001b[0m\n\u001b[1;32m----> 2\u001b[1;33m     \u001b[0mrunoob\u001b[0m\u001b[1;33m(\u001b[0m\u001b[1;33m)\u001b[0m\u001b[1;33m\u001b[0m\u001b[1;33m\u001b[0m\u001b[0m\n\u001b[0m\u001b[0;32m      3\u001b[0m \u001b[1;32mexcept\u001b[0m \u001b[0mAssertionError\u001b[0m \u001b[1;32mas\u001b[0m \u001b[0merror\u001b[0m\u001b[1;33m:\u001b[0m\u001b[1;33m\u001b[0m\u001b[1;33m\u001b[0m\u001b[0m\n\u001b[0;32m      4\u001b[0m     \u001b[0mprint\u001b[0m\u001b[1;33m(\u001b[0m\u001b[0merror\u001b[0m\u001b[1;33m)\u001b[0m\u001b[1;33m\u001b[0m\u001b[1;33m\u001b[0m\u001b[0m\n\u001b[0;32m      5\u001b[0m \u001b[1;32melse\u001b[0m\u001b[1;33m:\u001b[0m\u001b[1;33m\u001b[0m\u001b[1;33m\u001b[0m\u001b[0m\n",
      "\u001b[1;31mNameError\u001b[0m: name 'runoob' is not defined"
     ]
    }
   ],
   "source": [
    "try:\n",
    "    runoob()\n",
    "except AssertionError as error:\n",
    "    print(error)\n",
    "else:\n",
    "    try:\n",
    "        with open('file.log') as file:\n",
    "            read_data = file.read()\n",
    "    except FileNotFoundError as fnf_error:\n",
    "        print(fnf_error)\n",
    "finally:\n",
    "    print('这句话，无论异常是否发生都会执行。')"
   ]
  },
  {
   "cell_type": "code",
   "execution_count": 11,
   "metadata": {},
   "outputs": [
    {
     "ename": "SyntaxError",
     "evalue": "invalid syntax (<ipython-input-11-e48062d19579>, line 15)",
     "output_type": "error",
     "traceback": [
      "\u001b[1;36m  File \u001b[1;32m\"<ipython-input-11-e48062d19579>\"\u001b[1;36m, line \u001b[1;32m15\u001b[0m\n\u001b[1;33m    executing finally clause\u001b[0m\n\u001b[1;37m              ^\u001b[0m\n\u001b[1;31mSyntaxError\u001b[0m\u001b[1;31m:\u001b[0m invalid syntax\n"
     ]
    }
   ],
   "source": [
    "print(\"函数\")\n",
    "def divide(x, y):\n",
    "        try:\n",
    "            result = x / y\n",
    "        except ZeroDivisionError:\n",
    "            print(\"division by zero!\")\n",
    "        else:\n",
    "            print(\"result is\", result)\n",
    "        finally:\n",
    "            print(\"executing finally clause\")\n",
    " \n",
    "c=divide(2, 1)\n",
    "print(c)\n",
    "result is 2.0\n",
    "executing finally clause\n",
    " divide(2, 0)\n",
    "division by zero!\n",
    "executing finally clause\n",
    ">>> divide(\"2\", \"1\")\n",
    "executing finally clause\n",
    "Traceback (most recent call last):\n",
    "  File \"<stdin>\", line 1, in ?\n",
    "  File \"<stdin>\", line 3, in divide"
   ]
  },
  {
   "cell_type": "code",
   "execution_count": 9,
   "metadata": {},
   "outputs": [
    {
     "name": "stdout",
     "output_type": "stream",
     "text": [
      "函数内是局部变量 :  30\n",
      "函数外是全局变量 :  0\n"
     ]
    }
   ],
   "source": [
    "total = 0 # 这是一个全局变量\n",
    "# 可写函数说明\n",
    "def sum( arg1, arg2 ):\n",
    "    #返回2个参数的和.\"\n",
    "    total = arg1 + arg2 # total在这里是局部变量.\n",
    "    print (\"函数内是局部变量 : \", total)\n",
    "    return total\n",
    " \n",
    "#调用sum函数\n",
    "sum( 10, 20 )\n",
    "print (\"函数外是全局变量 : \", total)"
   ]
  },
  {
   "cell_type": "code",
   "execution_count": null,
   "metadata": {},
   "outputs": [],
   "source": []
  }
 ],
 "metadata": {
  "kernelspec": {
   "display_name": "Python 3",
   "language": "python",
   "name": "python3"
  },
  "language_info": {
   "codemirror_mode": {
    "name": "ipython",
    "version": 3
   },
   "file_extension": ".py",
   "mimetype": "text/x-python",
   "name": "python",
   "nbconvert_exporter": "python",
   "pygments_lexer": "ipython3",
   "version": "3.8.5"
  }
 },
 "nbformat": 4,
 "nbformat_minor": 4
}
