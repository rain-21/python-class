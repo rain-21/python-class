{
 "cells": [
  {
   "cell_type": "code",
   "execution_count": 1,
   "metadata": {},
   "outputs": [
    {
     "name": "stdout",
     "output_type": "stream",
     "text": [
      "Wiki\n",
      "['Google', 'Runoob', 'Zhihu', 'Taobao']\n"
     ]
    }
   ],
   "source": [
    "list = ['Google', 'Runoob', \"Zhihu\", \"Taobao\", \"Wiki\"]\n",
    "print(list[-1])\n",
    "print(list[:-1])"
   ]
  },
  {
   "cell_type": "code",
   "execution_count": 2,
   "metadata": {},
   "outputs": [
    {
     "name": "stdout",
     "output_type": "stream",
     "text": [
      "['Google', 'Runoob', 'Zhihu', 'Taobao', 'Wiki']\n"
     ]
    }
   ],
   "source": [
    "print(list[:])"
   ]
  },
  {
   "cell_type": "code",
   "execution_count": 3,
   "metadata": {},
   "outputs": [
    {
     "name": "stdout",
     "output_type": "stream",
     "text": [
      "['Google', 'Runoob', 'Zhihu', 'Taobao', 'Wiki', 'Alibaba']\n"
     ]
    }
   ],
   "source": [
    "list.append(\"Alibaba\")\n",
    "print(list)"
   ]
  },
  {
   "cell_type": "code",
   "execution_count": 4,
   "metadata": {},
   "outputs": [
    {
     "name": "stdout",
     "output_type": "stream",
     "text": [
      "<class 'list'>\n",
      "GoogleRunoobZhihuTaobaoWikiAlibaba\n",
      "<class 'str'>\n"
     ]
    }
   ],
   "source": [
    "print(type(list))\n",
    "list = \"\".join(list)\n",
    "print(list)\n",
    "print(type(list))"
   ]
  },
  {
   "cell_type": "code",
   "execution_count": 5,
   "metadata": {},
   "outputs": [
    {
     "name": "stdout",
     "output_type": "stream",
     "text": [
      "Google\n",
      "Runoob\n",
      "Zhihu\n",
      "Taobao\n",
      "Wiki\n"
     ]
    }
   ],
   "source": [
    "list = ['Google', 'Runoob', \"Zhihu\", \"Taobao\", \"Wiki\"]\n",
    "list = \"\\n\".join(list)\n",
    "print(list)"
   ]
  },
  {
   "cell_type": "code",
   "execution_count": 6,
   "metadata": {},
   "outputs": [
    {
     "name": "stdout",
     "output_type": "stream",
     "text": [
      "<class 'str'>\n",
      "<class 'str'>\n"
     ]
    }
   ],
   "source": [
    "print(type(\"\"))\n",
    "print(type(\" \"))"
   ]
  },
  {
   "cell_type": "code",
   "execution_count": 11,
   "metadata": {},
   "outputs": [
    {
     "ename": "AttributeError",
     "evalue": "'NoneType' object has no attribute 'group'",
     "output_type": "error",
     "traceback": [
      "\u001b[1;31m---------------------------------------------------------------------------\u001b[0m",
      "\u001b[1;31mAttributeError\u001b[0m                            Traceback (most recent call last)",
      "\u001b[1;32m<ipython-input-11-e79f0299a54e>\u001b[0m in \u001b[0;36m<module>\u001b[1;34m\u001b[0m\n\u001b[0;32m      1\u001b[0m \u001b[1;32mimport\u001b[0m \u001b[0mre\u001b[0m\u001b[1;33m\u001b[0m\u001b[1;33m\u001b[0m\u001b[0m\n\u001b[1;32m----> 2\u001b[1;33m \u001b[0mprint\u001b[0m\u001b[1;33m(\u001b[0m\u001b[0mre\u001b[0m\u001b[1;33m.\u001b[0m\u001b[0mmatch\u001b[0m\u001b[1;33m(\u001b[0m\u001b[1;34m'/d'\u001b[0m\u001b[1;33m,\u001b[0m \u001b[1;34m'123uuasf'\u001b[0m\u001b[1;33m)\u001b[0m\u001b[1;33m.\u001b[0m\u001b[0mgroup\u001b[0m\u001b[1;33m(\u001b[0m\u001b[1;33m)\u001b[0m\u001b[1;33m)\u001b[0m\u001b[1;33m\u001b[0m\u001b[1;33m\u001b[0m\u001b[0m\n\u001b[0m",
      "\u001b[1;31mAttributeError\u001b[0m: 'NoneType' object has no attribute 'group'"
     ]
    }
   ],
   "source": [
    "import re\n",
    "print(re.match('/d', '123uuasf').group())\n"
   ]
  },
  {
   "cell_type": "code",
   "execution_count": 17,
   "metadata": {},
   "outputs": [
    {
     "name": "stdout",
     "output_type": "stream",
     "text": [
      "123\n"
     ]
    }
   ],
   "source": [
    "    import re\n",
    "    obj = re.match('\\d+', '123uuasf')\n",
    "    if obj: \n",
    "        print(obj.group())"
   ]
  },
  {
   "cell_type": "code",
   "execution_count": 20,
   "metadata": {},
   "outputs": [
    {
     "ename": "AttributeError",
     "evalue": "module 're' has no attribute 'find'",
     "output_type": "error",
     "traceback": [
      "\u001b[1;31m---------------------------------------------------------------------------\u001b[0m",
      "\u001b[1;31mAttributeError\u001b[0m                            Traceback (most recent call last)",
      "\u001b[1;32m<ipython-input-20-b925da90d3be>\u001b[0m in \u001b[0;36m<module>\u001b[1;34m\u001b[0m\n\u001b[0;32m      1\u001b[0m \u001b[1;32mimport\u001b[0m \u001b[0mre\u001b[0m\u001b[1;33m\u001b[0m\u001b[1;33m\u001b[0m\u001b[0m\n\u001b[1;32m----> 2\u001b[1;33m \u001b[0mprint\u001b[0m\u001b[1;33m(\u001b[0m\u001b[0mre\u001b[0m\u001b[1;33m.\u001b[0m\u001b[0mfind\u001b[0m\u001b[1;33m(\u001b[0m\u001b[1;34m'\\d'\u001b[0m\u001b[1;33m,\u001b[0m \u001b[1;34m'123uuasf'\u001b[0m\u001b[1;33m)\u001b[0m\u001b[1;33m)\u001b[0m\u001b[1;33m\u001b[0m\u001b[1;33m\u001b[0m\u001b[0m\n\u001b[0m",
      "\u001b[1;31mAttributeError\u001b[0m: module 're' has no attribute 'find'"
     ]
    }
   ],
   "source": [
    "import re \n",
    "print(re.find('\\d', '123uuasf'))"
   ]
  },
  {
   "cell_type": "code",
   "execution_count": 23,
   "metadata": {},
   "outputs": [
    {
     "name": "stdout",
     "output_type": "stream",
     "text": [
      "3627\n"
     ]
    }
   ],
   "source": [
    "import re \n",
    "print(re.findall('\\d+', '第3627章 天赐神名')[0])"
   ]
  },
  {
   "cell_type": "code",
   "execution_count": 24,
   "metadata": {},
   "outputs": [
    {
     "name": "stdout",
     "output_type": "stream",
     "text": [
      "1\n",
      "2\n",
      "3\n",
      "4\n",
      "5\n",
      "6\n",
      "7\n",
      "8\n",
      "9\n"
     ]
    }
   ],
   "source": [
    "import time\n",
    "for i in range(1, 10):\n",
    "    print(i)\n",
    "    time.sleep(1)"
   ]
  },
  {
   "cell_type": "code",
   "execution_count": 1,
   "metadata": {},
   "outputs": [
    {
     "name": "stdout",
     "output_type": "stream",
     "text": [
      " world!\n"
     ]
    }
   ],
   "source": [
    "print(\"Hello \\r world!\")"
   ]
  },
  {
   "cell_type": "code",
   "execution_count": 4,
   "metadata": {},
   "outputs": [
    {
     "name": "stdout",
     "output_type": "stream",
     "text": [
      "Hello \n",
      "world!\n",
      "Hello\n",
      "world!\n"
     ]
    }
   ],
   "source": [
    "print(\"Hello \\r\\nworld!\")\n",
    "print(\"Hello\\nworld!\")"
   ]
  },
  {
   "cell_type": "code",
   "execution_count": 1,
   "metadata": {},
   "outputs": [
    {
     "name": "stdout",
     "output_type": "stream",
     "text": [
      "110\n",
      "10\n",
      "======================================\n",
      "def\n",
      "abc\n"
     ]
    }
   ],
   "source": [
    "num = 10 \n",
    "def change_num(num):\n",
    "    num += 100\n",
    "    print(num)\n",
    "change_num(num)\n",
    "print(num)\n",
    "\n",
    "print(\"======================================\")\n",
    "\n",
    "str_ = \"abc\"\n",
    "def change_str(str_):\n",
    "    str_ = \"def\"\n",
    "    print(str_)\n",
    "change_str(str_)\n",
    "print(str_)"
   ]
  },
  {
   "cell_type": "code",
   "execution_count": 2,
   "metadata": {},
   "outputs": [
    {
     "ename": "SyntaxError",
     "evalue": "invalid syntax (<ipython-input-2-22d22314fc7c>, line 1)",
     "output_type": "error",
     "traceback": [
      "\u001b[1;36m  File \u001b[1;32m\"<ipython-input-2-22d22314fc7c>\"\u001b[1;36m, line \u001b[1;32m1\u001b[0m\n\u001b[1;33m    int[] a = {1, 2, 3}\u001b[0m\n\u001b[1;37m        ^\u001b[0m\n\u001b[1;31mSyntaxError\u001b[0m\u001b[1;31m:\u001b[0m invalid syntax\n"
     ]
    }
   ],
   "source": [
    "int[] a = {1, 2, 3}"
   ]
  },
  {
   "cell_type": "code",
   "execution_count": 1,
   "metadata": {},
   "outputs": [
    {
     "data": {
      "text/plain": [
       "array([[1., 0., 0., 0.],\n",
       "       [0., 1., 0., 0.],\n",
       "       [0., 0., 1., 0.],\n",
       "       [0., 0., 0., 1.]])"
      ]
     },
     "execution_count": 1,
     "metadata": {},
     "output_type": "execute_result"
    }
   ],
   "source": [
    "from numpy import*\n",
    "eye(4)"
   ]
  },
  {
   "cell_type": "code",
   "execution_count": 3,
   "metadata": {},
   "outputs": [
    {
     "name": "stdout",
     "output_type": "stream",
     "text": [
      "[1 2 3]\n",
      "[[1 2]\n",
      " [3 4]]\n"
     ]
    }
   ],
   "source": [
    "import numpy\n",
    "a = numpy.array([1,2,3])\n",
    "print(a)\n",
    "b = numpy.array([[1,2],[3,4]])\n",
    "print(b)"
   ]
  },
  {
   "cell_type": "code",
   "execution_count": 8,
   "metadata": {},
   "outputs": [
    {
     "name": "stdout",
     "output_type": "stream",
     "text": [
      "[[[[[1 2 3 4 5]]]]]\n"
     ]
    }
   ],
   "source": [
    "a = numpy.array([1,2,3,4,5], ndmin=5)\n",
    "print(a)"
   ]
  },
  {
   "cell_type": "code",
   "execution_count": 10,
   "metadata": {},
   "outputs": [
    {
     "name": "stdout",
     "output_type": "stream",
     "text": [
      "[1.+0.j 2.+0.j 3.+0.j]\n"
     ]
    }
   ],
   "source": [
    "a = numpy.array([1,2,3], dtype = complex )\n",
    "print(a)"
   ]
  },
  {
   "cell_type": "code",
   "execution_count": 1,
   "metadata": {},
   "outputs": [
    {
     "name": "stdout",
     "output_type": "stream",
     "text": [
      "第3627章\n"
     ]
    }
   ],
   "source": [
    "import re \n",
    "print(re.findall('第\\d+章', '第3627章 天赐神名')[0])"
   ]
  },
  {
   "cell_type": "code",
   "execution_count": 6,
   "metadata": {},
   "outputs": [
    {
     "name": "stdout",
     "output_type": "stream",
     "text": [
      "35713933\n",
      "36307449\n",
      "36583260\n",
      "2670261\n",
      "2781512\n",
      "2781519\n",
      "2807111\n",
      "2807114\n",
      "2807116\n"
     ]
    },
    {
     "ename": "IndexError",
     "evalue": "list index out of range",
     "output_type": "error",
     "traceback": [
      "\u001b[1;31m---------------------------------------------------------------------------\u001b[0m",
      "\u001b[1;31mIndexError\u001b[0m                                Traceback (most recent call last)",
      "\u001b[1;32m<ipython-input-6-2fe4ca15c586>\u001b[0m in \u001b[0;36m<module>\u001b[1;34m\u001b[0m\n\u001b[0;32m      1\u001b[0m \u001b[0mlist\u001b[0m \u001b[1;33m=\u001b[0m \u001b[1;33m[\u001b[0m\u001b[1;34m'35713933'\u001b[0m\u001b[1;33m,\u001b[0m \u001b[1;34m'36240746'\u001b[0m\u001b[1;33m,\u001b[0m \u001b[1;34m'36307449'\u001b[0m\u001b[1;33m,\u001b[0m \u001b[1;34m'36471479'\u001b[0m\u001b[1;33m,\u001b[0m \u001b[1;34m'36583260'\u001b[0m\u001b[1;33m,\u001b[0m \u001b[1;34m'36661263'\u001b[0m\u001b[1;33m,\u001b[0m \u001b[1;34m'2670261'\u001b[0m\u001b[1;33m,\u001b[0m \u001b[1;34m'2670269'\u001b[0m\u001b[1;33m,\u001b[0m \u001b[1;34m'2781512'\u001b[0m\u001b[1;33m,\u001b[0m \u001b[1;34m'2781514'\u001b[0m\u001b[1;33m,\u001b[0m \u001b[1;34m'2781519'\u001b[0m\u001b[1;33m,\u001b[0m \u001b[1;34m'2807109'\u001b[0m\u001b[1;33m,\u001b[0m \u001b[1;34m'2807111'\u001b[0m\u001b[1;33m,\u001b[0m \u001b[1;34m'2807113'\u001b[0m\u001b[1;33m,\u001b[0m \u001b[1;34m'2807114'\u001b[0m\u001b[1;33m,\u001b[0m \u001b[1;34m'2807115'\u001b[0m\u001b[1;33m,\u001b[0m \u001b[1;34m'2807116'\u001b[0m\u001b[1;33m,\u001b[0m \u001b[1;34m'2807117'\u001b[0m\u001b[1;33m]\u001b[0m\u001b[1;33m\u001b[0m\u001b[1;33m\u001b[0m\u001b[0m\n\u001b[0;32m      2\u001b[0m \u001b[1;32mfor\u001b[0m \u001b[0mi\u001b[0m \u001b[1;32min\u001b[0m \u001b[0mrange\u001b[0m\u001b[1;33m(\u001b[0m\u001b[1;36m0\u001b[0m\u001b[1;33m,\u001b[0m \u001b[1;36m12\u001b[0m\u001b[1;33m)\u001b[0m\u001b[1;33m:\u001b[0m\u001b[1;33m\u001b[0m\u001b[1;33m\u001b[0m\u001b[0m\n\u001b[1;32m----> 3\u001b[1;33m     \u001b[0mprint\u001b[0m\u001b[1;33m(\u001b[0m\u001b[0mlist\u001b[0m\u001b[1;33m[\u001b[0m\u001b[0mi\u001b[0m\u001b[1;33m]\u001b[0m\u001b[1;33m)\u001b[0m\u001b[1;33m\u001b[0m\u001b[1;33m\u001b[0m\u001b[0m\n\u001b[0m\u001b[0;32m      4\u001b[0m     \u001b[1;32mdel\u001b[0m \u001b[0mlist\u001b[0m\u001b[1;33m[\u001b[0m\u001b[0mi\u001b[0m\u001b[1;33m]\u001b[0m\u001b[1;33m\u001b[0m\u001b[1;33m\u001b[0m\u001b[0m\n\u001b[0;32m      5\u001b[0m \u001b[0mprint\u001b[0m\u001b[1;33m(\u001b[0m\u001b[0mlist\u001b[0m\u001b[1;33m)\u001b[0m\u001b[1;33m\u001b[0m\u001b[1;33m\u001b[0m\u001b[0m\n",
      "\u001b[1;31mIndexError\u001b[0m: list index out of range"
     ]
    }
   ],
   "source": [
    "list = ['35713933', '36240746', '36307449', '36471479', '36583260', '36661263', '2670261', '2670269', '2781512', '2781514', '2781519', '2807109', '2807111', '2807113', '2807114', '2807115', '2807116', '2807117']\n",
    "for i in range(0, 12):\n",
    "    print(list[i])\n",
    "    del list[i]\n",
    "print(list)"
   ]
  },
  {
   "cell_type": "code",
   "execution_count": 35,
   "metadata": {},
   "outputs": [
    {
     "name": "stdout",
     "output_type": "stream",
     "text": [
      "[\"var cctxt='\\t\\t\\xa0\\xa0\\xa0\\xa0“走了顺困顶枯枵赶紧回学校去了！”陈九小心夺回顾功带困揣起照片顺困顶枯枵快步夺回顾功带困赶紧返校而去。\", '\\xa0\\xa0\\xa0\\xa0“砰！”夺回顾功带困一声顺困顶枯枵急步夺回顾功带困回到了宿舍中顺困顶枯枵他一头就扎入了卫生间中顺困顶枯枵也不知道去干些什么了。', '\\xa0\\xa0\\xa0\\xa0时间消逝顺困顶枯枵过了许久顺困顶枯枵陈九还顶置中夺粗功地没茵右脚楞夺出来顺困顶枯枵不过一位同学顺困顶枯枵却顶置中夺粗功地抱着肚子火速夺回顾功带困回归了顺困顶枯枵他一进来就撞向了卫生间顺困顶枯枵可惜一下子没茵右脚楞夺撞开顺困顶枯枵随即重敲起来。', '\\xa0\\xa0\\xa0\\xa0“砰砰……”强烈夺回顾功带困声音顺困顶枯枵却顶置中夺粗功地并没茵右脚楞夺惊动陈九顺困顶枯枵这一点极度夺回顾功带困不正常。', '\\xa0\\xa0\\xa0\\xa0“陈九顺困顶枯枵陈九顺困顶枯枵顶置中夺粗功地你在里面吗顺困顶枯枵快开门顺困顶枯枵老子吃坏肚子了顺困顶枯枵要拉屎……”一个强壮夺回顾功带困人影顺困顶枯枵夹着屁屁顺困顶枯枵很顶置中夺粗功地着急夺回顾功带困。', '\\xa0\\xa0\\xa0\\xa0“妈夺回顾功带困顺困顶枯枵搞什么东西顺困顶枯枵你这穷酸东西也敢霸占老子夺回顾功带困厕所？”强壮夺回顾功带困青年着急上火顺困顶枯枵本就看不起陈九夺回顾功带困他顺困顶枯枵当场一脚向门锁踹去。', '\\xa0\\xa0\\xa0\\xa0“轰……”一声顺困顶枯枵木门应声而开顺困顶枯枵青年迫不急待夺回顾功带困走入了其中顺困顶枯枵不过看到里面夺回顾功带困场景时顺困顶枯枵他却顶置中夺粗功地当即傻了眼。', '\\xa0\\xa0\\xa0\\xa0陈九顺困顶枯枵软倒在地上顺困顶枯枵一动不动顺困顶枯枵毫无声息顺困顶枯枵脸色煞白顺困顶枯枵超级吓人！', '\\xa0\\xa0\\xa0\\xa0壮着大胆夺回顾功带困顺困顶枯枵青年来到了陈九夺回顾功带困鼻息间一试顺困顶枯枵顿时大骇顺困顶枯枵慌乱一般夺回顾功带困逃了出去“啊……救人啊顺困顶枯枵救命啊顺困顶枯枵校长顺困顶枯枵我们宿舍死人了……”', '\\xa0\\xa0\\xa0\\xa0这一叫顺困顶枯枵全校师生顺困顶枯枵可谓顶置中夺粗功地轰然间炸开了锅。', '\\xa0\\xa0\\xa0\\xa0经过多部门夺回顾功带困联合调查顺困顶枯枵这次死亡事件最终低调处理了顺困顶枯枵这也顶置中夺粗功地大学里夺回顾功带困一贯作风！', '\\xa0\\xa0\\xa0\\xa0事后顺困顶枯枵学校为了防止茵右脚楞夺损名誉顺困顶枯枵禁止一切人再谈论此事顺困顶枯枵而陈九夺回顾功带困家人顺困顶枯枵因为陈九夺回顾功带困意外顺困顶枯枵也获得了一笔不小夺回顾功带困赔偿顺困顶枯枵这也算他对家人夺回顾功带困最后一点偿还了。', '\\xa0\\xa0\\xa0\\xa0“少爷顺困顶枯枵该起床了顺困顶枯枵都日上三竿了顺困顶枯枵你不顶置中夺粗功地还要赴约吗？一会儿就迟到了！”一声聆动夺回顾功带困声音再一次夺回顾功带困将陈九拉回了现实顺困顶枯枵当他睁开眼睛夺回顾功带困那一刻顺困顶枯枵浑然间茵右脚楞夺些傻了。', '\\xa0\\xa0\\xa0\\xa0这里顺困顶枯枵不再顶置中夺粗功地白洁夺回顾功带困卫生间顺困顶枯枵而顶置中夺粗功地变成了一座古色古香夺回顾功带困房子。', '\\xa0\\xa0\\xa0\\xa0女神夺回顾功带困照片没茵右脚楞夺了顺困顶枯枵取尔代之夺回顾功带困顺困顶枯枵乃顶置中夺粗功地面前一位扎着马尾辩夺回顾功带困顺困顶枯枵充满了灵动气息夺回顾功带困小丫头！', '\\xa0\\xa0\\xa0\\xa0“少爷顺困顶枯枵你怎么了？怎么还没茵右脚楞夺睡醒吗？”小丫头十分夺回顾功带困不解询问道。', '\\xa0\\xa0\\xa0\\xa0“啊顺困顶枯枵我……你让我再眯一会儿！”马上闭上眼睛顺困顶枯枵陈九压下自己混乱夺回顾功带困思想顺困顶枯枵细细夺回顾功带困琢磨起来。', '\\xa0\\xa0\\xa0\\xa0不琢磨不要紧顺困顶枯枵这一琢磨顺困顶枯枵那从来都没茵右脚楞夺过夺回顾功带困记忆顺困顶枯枵更顶置中夺粗功地将他吓了一大跳！', '\\xa0\\xa0\\xa0\\xa0原来顺困顶枯枵这里竟然顶置中夺粗功地什么乾坤大陆顺困顶枯枵根本就不再顶置中夺粗功地地球了顺困顶枯枵难道穿越了？陈九最后不得不相信这个事实。', '\\xa0\\xa0\\xa0\\xa0苦逼啊顺困顶枯枵撸个管居然穿越了？难道自己刚才达到了天人合一、破碎虚空夺回顾功带困境界不成？陈九自嘲夺回顾功带困笑着顺困顶枯枵只觉得自己太倒霉了。', '\\xa0\\xa0\\xa0\\xa0暗暗对父母们说着对不起顺困顶枯枵陈九也知道顺困顶枯枵自己恐怕已然成为了大学中夺回顾功带困笑柄顺困顶枯枵恐怕再回去顺困顶枯枵那顶置中夺粗功地再也没茵右脚楞夺脸了。', '\\xa0\\xa0\\xa0\\xa0也许在这里生活下去顺困顶枯枵当一个富家少爷顺困顶枯枵不再为钱犯愁顺困顶枯枵茵右脚楞夺事没事调弄一下俏美小丫头顺困顶枯枵将来再娶个富家小姐顺困顶枯枵也顶置中夺粗功地一件不错夺回顾功带困事情！', '\\xa0\\xa0\\xa0\\xa0苦逼夺回顾功带困生活似乎终于结束了顺困顶枯枵陈九思想交织间顺困顶枯枵总算安定了下来顺困顶枯枵他睁开眼睛顺困顶枯枵看着小丫头顺困顶枯枵也瞬间知道了她夺回顾功带困名字。', '\\xa0\\xa0\\xa0\\xa0陈蓝顺困顶枯枵小名蓝蓝顺困顶枯枵乃顶置中夺粗功地陈家早年收养夺回顾功带困一名弃婴顺困顶枯枵如今充作陈九夺回顾功带困小丫头顺困顶枯枵照顾他夺回顾功带困生活起居顺困顶枯枵也算顶置中夺粗功地莫大夺回顾功带困福利！', '\\xa0\\xa0\\xa0\\xa0陈家顺困顶枯枵天龙城夺回顾功带困四大世家之一顺困顶枯枵地位颇高顺困顶枯枵生意遍布各行各业顺困顶枯枵在全国看来顺困顶枯枵也算顶置中夺粗功地小富之家。', '\\xa0\\xa0\\xa0\\xa0陈九顺困顶枯枵家中夺回顾功带困老二顺困顶枯枵这之所以叫做陈九顺困顶枯枵那就顶置中夺粗功地其母先后流产七次顺困顶枯枵这才生下了陈九顺困顶枯枵可谓顶置中夺粗功地金贵夺回顾功带困很！', '\\xa0\\xa0\\xa0\\xa0“少爷顺困顶枯枵你怎么了？怎么今天茵右脚楞夺点不对劲？”陈蓝瞪着纯净夺回顾功带困大眼睛看着顺困顶枯枵十分夺回顾功带困不解。', '\\xa0\\xa0\\xa0\\xa0“能茵右脚楞夺什么不对劲啊？快来给少爷更衣顺困顶枯枵本少爷可不能去晚了……”陈九厉斥顺困顶枯枵倒顶置中夺粗功地茵右脚楞夺着几分威严。', '\\xa0\\xa0\\xa0\\xa0吐了吐舌头顺困顶枯枵陈蓝赶紧伺.候着陈九穿上了一身华贵夺回顾功带困衣服顺困顶枯枵甚顶置中夺粗功地英俊潇洒！', '\\xa0\\xa0\\xa0\\xa0不得不说顺困顶枯枵这一世陈九夺回顾功带困基因顺困顶枯枵还顶置中夺粗功地非常优秀夺回顾功带困顺困顶枯枵看了看镜中夺回顾功带困自己顺困顶枯枵陈九还顶置中夺粗功地非常满意夺回顾功带困。', '\\xa0\\xa0\\xa0\\xa0从小娇生惯养顺困顶枯枵陈九能够成材就怪了顺困顶枯枵他乃顶置中夺粗功地城中茵右脚楞夺名夺回顾功带困纨绔顺困顶枯枵今天与其它三位公子相约顺困顶枯枵乃顶置中夺粗功地看美人而去。', '\\xa0\\xa0\\xa0\\xa0虽然不太满意陈九以前夺回顾功带困所作所为顺困顶枯枵但陈九暂时也不好改变太多顺困顶枯枵这个约顺困顶枯枵还顶置中夺粗功地要赴夺回顾功带困。', '\\xa0\\xa0\\xa0\\xa0出得房门顺困顶枯枵走过长长夺回顾功带困走廊顺困顶枯枵陈九正好经过一片演武场顺困顶枯枵这顶置中夺粗功地家族培养武力夺回顾功带困一个基地。', '\\xa0\\xa0\\xa0\\xa0“轰隆隆……”演武场中顺困顶枯枵斗气横行、魔法横飞顺困顶枯枵只见那不同夺回顾功带困强者纷纷夺回顾功带困演练着他们夺回顾功带困绝计顺困顶枯枵可谓顶置中夺粗功地多姿多彩顺困顶枯枵厉害非凡！', '\\xa0\\xa0\\xa0\\xa0看到他们这惊天夺回顾功带困神计顺困顶枯枵陈九自察顺困顶枯枵直觉得丁点修为没茵右脚楞夺顺困顶枯枵于顶置中夺粗功地很顶置中夺粗功地鄙视夺回顾功带困对着前方竖了竖中指顺困顶枯枵茵右脚楞夺武力了不起啊顺困顶枯枵还不顶置中夺粗功地要为我们家族服务顺困顶枯枵茵右脚楞夺钱才顶置中夺粗功地硬道理。', '\\xa0\\xa0\\xa0\\xa0当陈九重拾信心夺回顾功带困时候顺困顶枯枵他忽然间眼睛定格了顺困顶枯枵因为在他夺回顾功带困中指上顺困顶枯枵竟然带着一只诡异夺回顾功带困戒指。', '\\xa0\\xa0\\xa0\\xa0黝黑夺回顾功带困闪着幽光顺困顶枯枵黑鳞满布顺困顶枯枵似龙躯一般结实顺困顶枯枵九尊或嗔或笑或痴或狞或狰……夺回顾功带困龙头顺困顶枯枵似花一般夺回顾功带困绽放开来顺困顶枯枵甚顶置中夺粗功地漂亮与霸气。', '\\xa0\\xa0\\xa0\\xa0九龙戒顺困顶枯枵这顶置中夺粗功地陈九在地球时顺困顶枯枵忍受不住别人嘲讽顺困顶枯枵硬顶置中夺粗功地狠心花了九块钱顺困顶枯枵在地摊上买夺回顾功带困一支复古戒指顺困顶枯枵并且吹牛逼夺回顾功带困说顶置中夺粗功地家族祖传！', '\\xa0\\xa0\\xa0\\xa0这一次顺困顶枯枵意外穿越顺困顶枯枵陈九怎么也无法想到顺困顶枯枵这只戒指竟然伴随着他一起穿越了过来顺困顶枯枵这实在顶置中夺粗功地诡异极了。', '\\xa0\\xa0\\xa0\\xa0“这顶置中夺粗功地怎么回事？”意志集中顺困顶枯枵想要看清戒指夺回顾功带困真伪顺困顶枯枵不过直觉得脑袋一晕顺困顶枯枵陈九竟然来到了另外一个空间。', '\\xa0\\xa0\\xa0\\xa0空间很大顺困顶枯枵七彩琉璃夺回顾功带困顺困顶枯枵浩瀚无限顺困顶枯枵正在陈九纳闷夺回顾功带困时候顺困顶枯枵一条巨龙轰然间从天而降顺困顶枯枵身躯绵延了不知道多少万里。', '\\xa0\\xa0\\xa0\\xa0龙首如房子般顺困顶枯枵狰狞中带着极度夺回顾功带困邪恶之意顺困顶枯枵陈九本.能夺回顾功带困退了一步顺困顶枯枵很顶置中夺粗功地害怕不已夺回顾功带困。', '\\xa0\\xa0\\xa0\\xa0“不用害怕顺困顶枯枵陈九顺困顶枯枵你顶置中夺粗功地我夺回顾功带困主人顺困顶枯枵我顶置中夺粗功地不会伤害你夺回顾功带困！”巨龙友好夺回顾功带困讲道。', '\\xa0\\xa0\\xa0\\xa0“什么？主人顺困顶枯枵我夺回顾功带困穿越顶置中夺粗功地不顶置中夺粗功地跟你茵右脚楞夺关系？”陈九似乎明白了一些什么。', \"\\xa0\\xa0\\xa0\\xa0“当然顺困顶枯枵如果不带着你来到这个世界顺困顶枯枵我们也根本就无法恢复力量！”巨龙点头承认道。\\t\\t';\\r\\ncctxt=cctxt.replace(/夺回顾功带困/g,'的');\\r\\ncctxt=cctxt.replace(/顶置中夺粗功地/g,'是');\\r\\ncctxt=cctxt.replace(/茵右脚楞夺/g,'有');\\r\\ncctxt=cctxt.replace(/顺困顶枯枵/g,'，');\\r\\n\"]\n"
     ]
    }
   ],
   "source": [
    "import requests\n",
    "from lxml import etree\n",
    "url = 'https://www.youshuba.cc/ks/txtt333/8337/2670264.txt'\n",
    "headers = {\n",
    "    \"User-Agent\" : \"Mozilla/5.0 (Windows NT 10.0; Win64; x64; rv:83.0) Gecko/20100101 Firefox/83.0\"\n",
    "}\n",
    "chapter_content = requests.get(url=url, headers=headers).text\n",
    "# print(chapter_content)\n",
    "tree = etree.HTML(chapter_content)\n",
    "# print(tree)\n",
    "chapter = tree.xpath('body//text()')\n",
    "# print(chapter)\n",
    "\n",
    "print(chapter)"
   ]
  },
  {
   "cell_type": "code",
   "execution_count": 1,
   "metadata": {},
   "outputs": [
    {
     "name": "stdin",
     "output_type": "stream",
     "text": [
      "enter a word you want to search: 阿达\n"
     ]
    }
   ],
   "source": [
    "    import requests\n",
    "    word = input('enter a word you want to search:')\n",
    "    headers={\n",
    "        'User-Agent': 'Mozilla/5.0 (Macintosh; Intel Mac OS X 10_12_0) AppleWebKit/537.36 (KHTML, like Gecko) Chrome/69.0.3497.100 Safari/537.36',\n",
    "        }\n",
    "    url = 'https://www.sogou.com/web'\n",
    "    param = {\n",
    "        'query':word,\n",
    "    }\n",
    "    response = requests.get(url=url,params=param,headers=headers)\n",
    "    page_text = response.text\n",
    "    fileName = word+'.html'\n",
    "    with open(fileName,'w',encoding='utf-8') as fp:\n",
    "        fp.write(page_text)"
   ]
  },
  {
   "cell_type": "code",
   "execution_count": 1,
   "metadata": {},
   "outputs": [
    {
     "ename": "SyntaxError",
     "evalue": "invalid syntax (<ipython-input-1-3b27c0a5c781>, line 12)",
     "output_type": "error",
     "traceback": [
      "\u001b[1;36m  File \u001b[1;32m\"<ipython-input-1-3b27c0a5c781>\"\u001b[1;36m, line \u001b[1;32m12\u001b[0m\n\u001b[1;33m    print(r str + \"\\nrunoob\")\u001b[0m\n\u001b[1;37m            ^\u001b[0m\n\u001b[1;31mSyntaxError\u001b[0m\u001b[1;31m:\u001b[0m invalid syntax\n"
     ]
    }
   ],
   "source": [
    "str=\"Runoob\"\n",
    "print(str)\n",
    "print(str[0:-1])\n",
    "print(str[0])\n",
    "print(str[2:5])\n",
    "print(str[2:])\n",
    "print(str[1:5:2])\n",
    "print(str*2)\n",
    "print(str + \"您好！\")\n",
    "print(\"========================\")\n",
    "print(str + \"\\nrunoob\" )\n",
    "print(r str + \"\\nrunoob\")"
   ]
  },
  {
   "cell_type": "code",
   "execution_count": 2,
   "metadata": {},
   "outputs": [
    {
     "name": "stdout",
     "output_type": "stream",
     "text": [
      "Runoob\n",
      "Runoo\n",
      "R\n",
      "noo\n",
      "noob\n",
      "uo\n",
      "RunoobRunoob\n",
      "Runoob您好！\n",
      "========================\n",
      "Runoob\n",
      "runoob\n"
     ]
    },
    {
     "ename": "NameError",
     "evalue": "name 'r' is not defined",
     "output_type": "error",
     "traceback": [
      "\u001b[1;31m---------------------------------------------------------------------------\u001b[0m",
      "\u001b[1;31mNameError\u001b[0m                                 Traceback (most recent call last)",
      "\u001b[1;32m<ipython-input-2-cc88d1dd034d>\u001b[0m in \u001b[0;36m<module>\u001b[1;34m\u001b[0m\n\u001b[0;32m     11\u001b[0m \u001b[0mprint\u001b[0m\u001b[1;33m(\u001b[0m\u001b[0mstr\u001b[0m \u001b[1;33m+\u001b[0m \u001b[1;34m\"\\nrunoob\"\u001b[0m \u001b[1;33m)\u001b[0m\u001b[1;33m\u001b[0m\u001b[1;33m\u001b[0m\u001b[0m\n\u001b[0;32m     12\u001b[0m \u001b[1;33m\u001b[0m\u001b[0m\n\u001b[1;32m---> 13\u001b[1;33m \u001b[0mprint\u001b[0m\u001b[1;33m(\u001b[0m\u001b[0mr\u001b[0m\u001b[1;33m(\u001b[0m\u001b[0mstr\u001b[0m \u001b[1;33m+\u001b[0m \u001b[1;34m\"\\nrunoob\"\u001b[0m\u001b[1;33m)\u001b[0m\u001b[1;33m)\u001b[0m\u001b[1;33m\u001b[0m\u001b[1;33m\u001b[0m\u001b[0m\n\u001b[0m",
      "\u001b[1;31mNameError\u001b[0m: name 'r' is not defined"
     ]
    }
   ],
   "source": [
    "str=\"Runoob\"\n",
    "print(str)\n",
    "print(str[0:-1])\n",
    "print(str[0])\n",
    "print(str[2:5])\n",
    "print(str[2:])\n",
    "print(str[1:5:2])\n",
    "print(str*2)\n",
    "print(str + \"您好！\")\n",
    "print(\"========================\")\n",
    "print(str + \"\\nrunoob\" )\n",
    "\n",
    "print(r(str + \"\\nrunoob\"))"
   ]
  },
  {
   "cell_type": "code",
   "execution_count": 3,
   "metadata": {},
   "outputs": [
    {
     "name": "stdout",
     "output_type": "stream",
     "text": [
      "Runoob\n",
      "Runoo\n",
      "R\n",
      "noo\n",
      "noob\n",
      "uo\n",
      "RunoobRunoob\n",
      "Runoob您好！\n",
      "========================\n",
      "Runoob\n",
      "runoob\n"
     ]
    }
   ],
   "source": [
    "str=\"Runoob\"\n",
    "print(str)\n",
    "print(str[0:-1])\n",
    "print(str[0])\n",
    "print(str[2:5])\n",
    "print(str[2:])\n",
    "print(str[1:5:2])\n",
    "print(str*2)\n",
    "print(str + \"您好！\")\n",
    "print(\"========================\")\n",
    "print(str + \"\\nrunoob\" )\n",
    "\n",
    "# print()"
   ]
  },
  {
   "cell_type": "code",
   "execution_count": 4,
   "metadata": {},
   "outputs": [
    {
     "name": "stdout",
     "output_type": "stream",
     "text": [
      "Runoob\n",
      "Runoo\n",
      "R\n",
      "noo\n",
      "noob\n",
      "uo\n",
      "RunoobRunoob\n",
      "Runoob您好！\n",
      "========================\n",
      "Runoob\n",
      "runoob\n",
      "Runoob\\nrunoob\n"
     ]
    }
   ],
   "source": [
    "str=\"Runoob\"\n",
    "print(str)\n",
    "print(str[0:-1])\n",
    "print(str[0])\n",
    "print(str[2:5])\n",
    "print(str[2:])\n",
    "print(str[1:5:2])\n",
    "print(str*2)\n",
    "print(str + \"您好！\")\n",
    "print(\"========================\")\n",
    "print(str + \"\\nrunoob\" )\n",
    "\n",
    "print(rf\"{str}\\nrunoob\")"
   ]
  },
  {
   "cell_type": "code",
   "execution_count": 5,
   "metadata": {},
   "outputs": [
    {
     "name": "stdout",
     "output_type": "stream",
     "text": [
      "Runoob\n",
      "Runoo\n",
      "R\n",
      "noo\n",
      "noob\n",
      "uo\n",
      "RunoobRunoob\n",
      "Runoob您好！\n",
      "========================\n",
      "Runoob\n",
      "runoob\n",
      "Runoob\\nrunoob\n"
     ]
    }
   ],
   "source": [
    "str=\"Runoob\"\n",
    "print(str)\n",
    "print(str[0:-1])\n",
    "print(str[0])\n",
    "print(str[2:5])\n",
    "print(str[2:])\n",
    "print(str[1:5:2])\n",
    "print(str*2)\n",
    "print(str + \"您好！\")\n",
    "print(\"========================\")\n",
    "print(str + \"\\nrunoob\" )\n",
    "\n",
    "print(fr\"{str}\\nrunoob\")"
   ]
  },
  {
   "cell_type": "code",
   "execution_count": 6,
   "metadata": {},
   "outputs": [
    {
     "name": "stdout",
     "output_type": "stream",
     "text": [
      "Runoob\n",
      "Runoo\n",
      "R\n",
      "noo\n",
      "noob\n",
      "uo\n",
      "RunoobRunoob\n",
      "Runoob您好！\n",
      "========================\n",
      "Runoob\n",
      "runoob\n",
      "================================\n",
      "\\nrunoob\n",
      "\n",
      "runoob\n"
     ]
    }
   ],
   "source": [
    "str=\"Runoob\"\n",
    "print(str)\n",
    "print(str[0:-1])\n",
    "print(str[0])\n",
    "print(str[2:5])\n",
    "print(str[2:])\n",
    "print(str[1:5:2])\n",
    "print(str*2)\n",
    "print(str + \"您好！\")\n",
    "print(\"========================\")\n",
    "print(str + \"\\nrunoob\" )\n",
    "print(\"================================\")\n",
    "print(r\"\\nrunoob\")\n",
    "print(\"\\nrunoob\")"
   ]
  },
  {
   "cell_type": "code",
   "execution_count": 7,
   "metadata": {},
   "outputs": [
    {
     "name": "stdout",
     "output_type": "stream",
     "text": [
      "True\n",
      "False\n"
     ]
    }
   ],
   "source": [
    "class A:\n",
    "    pass\n",
    "class B(A):\n",
    "    pass\n",
    "isinstance(A(), A)\n",
    "print(type(A()) == A)\n",
    "isinstance(B(), A)\n",
    "print(type(B()) == A)\n"
   ]
  },
  {
   "cell_type": "code",
   "execution_count": 8,
   "metadata": {},
   "outputs": [
    {
     "name": "stdout",
     "output_type": "stream",
     "text": [
      "name Python\n",
      "mission 简单易用的编程语言\n",
      "website https://www.python.org\n"
     ]
    }
   ],
   "source": [
    "info = {\n",
    "    \"name\":\"Python\",\n",
    "    \"mission\": \"简单易用的编程语言\",\n",
    "    \"website\": \"https://www.python.org\"\n",
    "}\n",
    "for k in info:\n",
    "    print(k,info[k])"
   ]
  },
  {
   "cell_type": "code",
   "execution_count": 11,
   "metadata": {},
   "outputs": [
    {
     "name": "stdout",
     "output_type": "stream",
     "text": [
      "大主宰\n",
      "作牋牋者：天蚕土豆\n",
      "['从现在开始，大主宰就要开始打榜了，特别是推荐票和收藏，一对一本新书很重要。所以，在这里请各位读者，不论是正版还是盗版，希望大家看完更新能够将推荐票投给大主宰。当然，不要忘记收藏哦，这也很重要的~~~~新书正式开始，欢迎大家。求推荐票和收藏啦~~~~~~~~~~~~;']\n"
     ]
    },
    {
     "ename": "TypeError",
     "evalue": "can only concatenate list (not \"str\") to list",
     "output_type": "error",
     "traceback": [
      "\u001b[1;31m---------------------------------------------------------------------------\u001b[0m",
      "\u001b[1;31mTypeError\u001b[0m                                 Traceback (most recent call last)",
      "\u001b[1;32m<ipython-input-11-636fea70b3b3>\u001b[0m in \u001b[0;36m<module>\u001b[1;34m\u001b[0m\n\u001b[0;32m     31\u001b[0m         \u001b[0mprint\u001b[0m\u001b[1;33m(\u001b[0m\u001b[0mchapter_content\u001b[0m\u001b[1;33m)\u001b[0m\u001b[1;33m\u001b[0m\u001b[1;33m\u001b[0m\u001b[0m\n\u001b[0;32m     32\u001b[0m         \u001b[0mf\u001b[0m\u001b[1;33m.\u001b[0m\u001b[0mwrite\u001b[0m\u001b[1;33m(\u001b[0m\u001b[0mchapter_title\u001b[0m \u001b[1;33m+\u001b[0m \u001b[1;34m\"\\n\"\u001b[0m\u001b[1;33m)\u001b[0m\u001b[1;33m\u001b[0m\u001b[1;33m\u001b[0m\u001b[0m\n\u001b[1;32m---> 33\u001b[1;33m         \u001b[0mf\u001b[0m\u001b[1;33m.\u001b[0m\u001b[0mwrite\u001b[0m\u001b[1;33m(\u001b[0m\u001b[0mchapter_content\u001b[0m \u001b[1;33m+\u001b[0m \u001b[1;34m\"\\n\"\u001b[0m\u001b[1;33m)\u001b[0m\u001b[1;33m\u001b[0m\u001b[1;33m\u001b[0m\u001b[0m\n\u001b[0m\u001b[0;32m     34\u001b[0m         \u001b[0mprint\u001b[0m\u001b[1;33m(\u001b[0m\u001b[0mchapter_title\u001b[0m \u001b[1;33m+\u001b[0m \u001b[1;34m\"下载完成！！！\"\u001b[0m\u001b[1;33m)\u001b[0m\u001b[1;33m\u001b[0m\u001b[1;33m\u001b[0m\u001b[0m\n\u001b[0;32m     35\u001b[0m     \u001b[0mprint\u001b[0m\u001b[1;33m(\u001b[0m\u001b[0mtitle\u001b[0m \u001b[1;33m+\u001b[0m \u001b[1;34m\"保存成功！！！\"\u001b[0m\u001b[1;33m)\u001b[0m\u001b[1;33m\u001b[0m\u001b[1;33m\u001b[0m\u001b[0m\n",
      "\u001b[1;31mTypeError\u001b[0m: can only concatenate list (not \"str\") to list"
     ]
    }
   ],
   "source": [
    "import requests\n",
    "from lxml import etree\n",
    "if __name__ == \"__main__\":\n",
    "    url = \"https://www.37zw.net/0/330/\"\n",
    "    headers = {\n",
    "        \"User-Agent\" : \"Mozilla/5.0 (Windows NT 10.0; Win64; x64; rv:82.0) Gecko/20100101 Firefox/82.0\"\n",
    "    }\n",
    "    page_text = requests.get(url=url, headers=headers).text\n",
    "#     page_text = page_text.encode(\"iso-8859-1\").decode(\"gbk\")\n",
    "    HTML_etree = etree.HTML(page_text)\n",
    "    title = HTML_etree.xpath('//div[@id=\"info\"]/h1/text()')[0]\n",
    "    author = HTML_etree.xpath('//div[@id=\"info\"]/p[1]/text()')[0]\n",
    "    title = title.encode('iso-8859-1').decode('gbk')\n",
    "    author = author.encode('iso-8859-1').decode('gbk')\n",
    "    print(title)\n",
    "    print(author)\n",
    "    f = open(\"D:/\"+ title +\".txt\", \"w\")\n",
    "    f.write(title)\n",
    "    f.write(author)\n",
    "    dd_list = HTML_etree.xpath('//div[@id=\"list\"]//dd')\n",
    "    for dd in dd_list:\n",
    "        chapter_title = dd.xpath('./a/text()')[0]\n",
    "        chapter_title = chapter_title.encode('iso-8859-1').decode('gbk')\n",
    "        chapter_src = url + dd.xpath('./a/@href')[0]\n",
    "        chapter_HTML = requests.get(url=chapter_src, headers=headers).text\n",
    "        chapter_HTML = chapter_HTML.encode('iso-8859-1').decode('gbk')\n",
    "#         print(chapter_HTML)\n",
    "        chapter_etree = etree.HTML(chapter_HTML)\n",
    "        chapter_content = chapter_etree.xpath('//div[@id=\"content\"]//text()')\n",
    "#         chapter_content = chapter_content.encode('iso-8859-1').decode('gbk')\n",
    "        print(chapter_content)\n",
    "        f.write(chapter_title + \"\\n\")\n",
    "        f.write(chapter_content + \"\\n\")\n",
    "        print(chapter_title + \"下载完成！！！\")\n",
    "    print(title + \"保存成功！！！\")"
   ]
  },
  {
   "cell_type": "code",
   "execution_count": 13,
   "metadata": {},
   "outputs": [
    {
     "name": "stdout",
     "output_type": "stream",
     "text": [
      "大主宰\n",
      "作    者：天蚕土豆\n"
     ]
    },
    {
     "ename": "UnicodeEncodeError",
     "evalue": "'gbk' codec can't encode character '\\xa0' in position 1: illegal multibyte sequence",
     "output_type": "error",
     "traceback": [
      "\u001b[1;31m---------------------------------------------------------------------------\u001b[0m",
      "\u001b[1;31mUnicodeEncodeError\u001b[0m                        Traceback (most recent call last)",
      "\u001b[1;32m<ipython-input-13-6fa1b5ec3203>\u001b[0m in \u001b[0;36m<module>\u001b[1;34m\u001b[0m\n\u001b[0;32m     17\u001b[0m     \u001b[0mf\u001b[0m \u001b[1;33m=\u001b[0m \u001b[0mopen\u001b[0m\u001b[1;33m(\u001b[0m\u001b[1;34m\"D:/\"\u001b[0m\u001b[1;33m+\u001b[0m \u001b[0mtitle\u001b[0m \u001b[1;33m+\u001b[0m\u001b[1;34m\".txt\"\u001b[0m\u001b[1;33m,\u001b[0m \u001b[1;34m\"w\"\u001b[0m\u001b[1;33m,\u001b[0m \u001b[0mencoding\u001b[0m \u001b[1;33m=\u001b[0m \u001b[1;34m'gbk'\u001b[0m\u001b[1;33m)\u001b[0m\u001b[1;33m\u001b[0m\u001b[1;33m\u001b[0m\u001b[0m\n\u001b[0;32m     18\u001b[0m     \u001b[0mf\u001b[0m\u001b[1;33m.\u001b[0m\u001b[0mwrite\u001b[0m\u001b[1;33m(\u001b[0m\u001b[0mtitle\u001b[0m\u001b[1;33m)\u001b[0m\u001b[1;33m\u001b[0m\u001b[1;33m\u001b[0m\u001b[0m\n\u001b[1;32m---> 19\u001b[1;33m     \u001b[0mf\u001b[0m\u001b[1;33m.\u001b[0m\u001b[0mwrite\u001b[0m\u001b[1;33m(\u001b[0m\u001b[0mauthor\u001b[0m\u001b[1;33m)\u001b[0m\u001b[1;33m\u001b[0m\u001b[1;33m\u001b[0m\u001b[0m\n\u001b[0m\u001b[0;32m     20\u001b[0m     \u001b[0mdd_list\u001b[0m \u001b[1;33m=\u001b[0m \u001b[0mHTML_etree\u001b[0m\u001b[1;33m.\u001b[0m\u001b[0mxpath\u001b[0m\u001b[1;33m(\u001b[0m\u001b[1;34m'//div[@id=\"list\"]//dd'\u001b[0m\u001b[1;33m)\u001b[0m\u001b[1;33m\u001b[0m\u001b[1;33m\u001b[0m\u001b[0m\n\u001b[0;32m     21\u001b[0m     \u001b[1;32mfor\u001b[0m \u001b[0mdd\u001b[0m \u001b[1;32min\u001b[0m \u001b[0mdd_list\u001b[0m\u001b[1;33m:\u001b[0m\u001b[1;33m\u001b[0m\u001b[1;33m\u001b[0m\u001b[0m\n",
      "\u001b[1;31mUnicodeEncodeError\u001b[0m: 'gbk' codec can't encode character '\\xa0' in position 1: illegal multibyte sequence"
     ]
    }
   ],
   "source": [
    "import requests\n",
    "from lxml import etree\n",
    "if __name__ == \"__main__\":\n",
    "    url = \"https://www.37zw.net/0/330/\"\n",
    "    headers = {\n",
    "        \"User-Agent\" : \"Mozilla/5.0 (Windows NT 10.0; Win64; x64; rv:82.0) Gecko/20100101 Firefox/82.0\"\n",
    "    }\n",
    "    request = requests.get(url=url, headers=headers)\n",
    "    request.encoding = 'gbk'\n",
    "    page_text = request.text\n",
    "#     page_text = page_text.encode(\"iso-8859-1\").decode(\"gbk\")\n",
    "    HTML_etree = etree.HTML(page_text)\n",
    "    title = HTML_etree.xpath('//div[@id=\"info\"]/h1/text()')[0]\n",
    "    author = HTML_etree.xpath('//div[@id=\"info\"]/p[1]/text()')[0]\n",
    "    print(title)\n",
    "    print(author)\n",
    "    f = open(\"D:/\"+ title +\".txt\", \"w\", encoding = 'gbk')\n",
    "    f.write(title)\n",
    "    f.write(author)\n",
    "    dd_list = HTML_etree.xpath('//div[@id=\"list\"]//dd')\n",
    "    for dd in dd_list:\n",
    "        chapter_title = dd.xpath('./a/text()')[0]\n",
    "        chapter_title = chapter_title.encode('iso-8859-1').decode('gbk')\n",
    "        chapter_src = url + dd.xpath('./a/@href')[0]\n",
    "        chapter_HTML = requests.get(url=chapter_src, headers=headers).text\n",
    "        chapter_HTML = chapter_HTML.encode('iso-8859-1').decode('gbk')\n",
    "#         print(chapter_HTML)\n",
    "        chapter_etree = etree.HTML(chapter_HTML)\n",
    "        chapter_content = chapter_etree.xpath('//div[@id=\"content\"]//text()')\n",
    "#         chapter_content = chapter_content.encode('iso-8859-1').decode('gbk')\n",
    "        print(chapter_content)\n",
    "        f.write(chapter_title + \"\\n\")\n",
    "        f.write(chapter_content + \"\\n\")\n",
    "        print(chapter_title + \"下载完成！！！\")\n",
    "    print(title + \"保存成功！！！\")"
   ]
  },
  {
   "cell_type": "code",
   "execution_count": 14,
   "metadata": {},
   "outputs": [
    {
     "name": "stdout",
     "output_type": "stream",
     "text": [
      "大主宰\n",
      "作    者：天蚕土豆\n"
     ]
    },
    {
     "ename": "UnicodeEncodeError",
     "evalue": "'gbk' codec can't encode character '\\xa0' in position 1: illegal multibyte sequence",
     "output_type": "error",
     "traceback": [
      "\u001b[1;31m---------------------------------------------------------------------------\u001b[0m",
      "\u001b[1;31mUnicodeEncodeError\u001b[0m                        Traceback (most recent call last)",
      "\u001b[1;32m<ipython-input-14-f13db98063d7>\u001b[0m in \u001b[0;36m<module>\u001b[1;34m\u001b[0m\n\u001b[0;32m     17\u001b[0m     \u001b[0mf\u001b[0m \u001b[1;33m=\u001b[0m \u001b[0mopen\u001b[0m\u001b[1;33m(\u001b[0m\u001b[1;34m\"D:/大主宰.txt\"\u001b[0m\u001b[1;33m,\u001b[0m \u001b[1;34m\"w\"\u001b[0m\u001b[1;33m,\u001b[0m \u001b[0mencoding\u001b[0m \u001b[1;33m=\u001b[0m \u001b[1;34m'gbk'\u001b[0m\u001b[1;33m)\u001b[0m\u001b[1;33m\u001b[0m\u001b[1;33m\u001b[0m\u001b[0m\n\u001b[0;32m     18\u001b[0m     \u001b[0mf\u001b[0m\u001b[1;33m.\u001b[0m\u001b[0mwrite\u001b[0m\u001b[1;33m(\u001b[0m\u001b[0mtitle\u001b[0m\u001b[1;33m)\u001b[0m\u001b[1;33m\u001b[0m\u001b[1;33m\u001b[0m\u001b[0m\n\u001b[1;32m---> 19\u001b[1;33m     \u001b[0mf\u001b[0m\u001b[1;33m.\u001b[0m\u001b[0mwrite\u001b[0m\u001b[1;33m(\u001b[0m\u001b[0mauthor\u001b[0m\u001b[1;33m)\u001b[0m\u001b[1;33m\u001b[0m\u001b[1;33m\u001b[0m\u001b[0m\n\u001b[0m\u001b[0;32m     20\u001b[0m     \u001b[0mdd_list\u001b[0m \u001b[1;33m=\u001b[0m \u001b[0mHTML_etree\u001b[0m\u001b[1;33m.\u001b[0m\u001b[0mxpath\u001b[0m\u001b[1;33m(\u001b[0m\u001b[1;34m'//div[@id=\"list\"]//dd'\u001b[0m\u001b[1;33m)\u001b[0m\u001b[1;33m\u001b[0m\u001b[1;33m\u001b[0m\u001b[0m\n\u001b[0;32m     21\u001b[0m     \u001b[1;32mfor\u001b[0m \u001b[0mdd\u001b[0m \u001b[1;32min\u001b[0m \u001b[0mdd_list\u001b[0m\u001b[1;33m:\u001b[0m\u001b[1;33m\u001b[0m\u001b[1;33m\u001b[0m\u001b[0m\n",
      "\u001b[1;31mUnicodeEncodeError\u001b[0m: 'gbk' codec can't encode character '\\xa0' in position 1: illegal multibyte sequence"
     ]
    }
   ],
   "source": [
    "import requests\n",
    "from lxml import etree\n",
    "if __name__ == \"__main__\":\n",
    "    url = \"https://www.37zw.net/0/330/\"\n",
    "    headers = {\n",
    "        \"User-Agent\" : \"Mozilla/5.0 (Windows NT 10.0; Win64; x64; rv:82.0) Gecko/20100101 Firefox/82.0\"\n",
    "    }\n",
    "    request = requests.get(url=url, headers=headers)\n",
    "    request.encoding = 'gbk'\n",
    "    page_text = request.text\n",
    "#     page_text = page_text.encode(\"iso-8859-1\").decode(\"gbk\")\n",
    "    HTML_etree = etree.HTML(page_text)\n",
    "    title = HTML_etree.xpath('//div[@id=\"info\"]/h1/text()')[0]\n",
    "    author = HTML_etree.xpath('//div[@id=\"info\"]/p[1]/text()')[0]\n",
    "    print(title)\n",
    "    print(author)\n",
    "    f = open(\"D:/大主宰.txt\", \"w\", encoding = 'gbk')\n",
    "    f.write(title)\n",
    "    f.write(author)\n",
    "    dd_list = HTML_etree.xpath('//div[@id=\"list\"]//dd')\n",
    "    for dd in dd_list:\n",
    "        chapter_title = dd.xpath('./a/text()')[0]\n",
    "        chapter_title = chapter_title.encode('iso-8859-1').decode('gbk')\n",
    "        chapter_src = url + dd.xpath('./a/@href')[0]\n",
    "        chapter_HTML = requests.get(url=chapter_src, headers=headers).text\n",
    "        chapter_HTML = chapter_HTML.encode('iso-8859-1').decode('gbk')\n",
    "#         print(chapter_HTML)\n",
    "        chapter_etree = etree.HTML(chapter_HTML)\n",
    "        chapter_content = chapter_etree.xpath('//div[@id=\"content\"]//text()')\n",
    "#         chapter_content = chapter_content.encode('iso-8859-1').decode('gbk')\n",
    "        print(chapter_content)\n",
    "        f.write(chapter_title + \"\\n\")\n",
    "        f.write(chapter_content + \"\\n\")\n",
    "        print(chapter_title + \"下载完成！！！\")\n",
    "    print(title + \"保存成功！！！\")"
   ]
  },
  {
   "cell_type": "code",
   "execution_count": 16,
   "metadata": {},
   "outputs": [
    {
     "name": "stdout",
     "output_type": "stream",
     "text": [
      "大主宰\n",
      "作    者：天蚕土豆\n"
     ]
    },
    {
     "ename": "UnicodeEncodeError",
     "evalue": "'gbk' codec can't encode character '\\xa0' in position 6: illegal multibyte sequence",
     "output_type": "error",
     "traceback": [
      "\u001b[1;31m---------------------------------------------------------------------------\u001b[0m",
      "\u001b[1;31mUnicodeEncodeError\u001b[0m                        Traceback (most recent call last)",
      "\u001b[1;32m<ipython-input-16-a92914075752>\u001b[0m in \u001b[0;36m<module>\u001b[1;34m\u001b[0m\n\u001b[0;32m     16\u001b[0m     \u001b[0mprint\u001b[0m\u001b[1;33m(\u001b[0m\u001b[0mauthor\u001b[0m\u001b[1;33m)\u001b[0m\u001b[1;33m\u001b[0m\u001b[1;33m\u001b[0m\u001b[0m\n\u001b[0;32m     17\u001b[0m     \u001b[0mf\u001b[0m \u001b[1;33m=\u001b[0m \u001b[0mopen\u001b[0m\u001b[1;33m(\u001b[0m\u001b[1;34m\"D:/大主宰.txt\"\u001b[0m\u001b[1;33m,\u001b[0m \u001b[1;34m\"w\"\u001b[0m\u001b[1;33m,\u001b[0m \u001b[0mencoding\u001b[0m \u001b[1;33m=\u001b[0m \u001b[1;34m'gbk'\u001b[0m\u001b[1;33m)\u001b[0m\u001b[1;33m\u001b[0m\u001b[1;33m\u001b[0m\u001b[0m\n\u001b[1;32m---> 18\u001b[1;33m     \u001b[0mf\u001b[0m\u001b[1;33m.\u001b[0m\u001b[0mwrite\u001b[0m\u001b[1;33m(\u001b[0m\u001b[0mtitle\u001b[0m \u001b[1;33m+\u001b[0m \u001b[1;34m'\\n'\u001b[0m \u001b[1;33m+\u001b[0m \u001b[0mauthor\u001b[0m\u001b[1;33m)\u001b[0m\u001b[1;33m\u001b[0m\u001b[1;33m\u001b[0m\u001b[0m\n\u001b[0m\u001b[0;32m     19\u001b[0m \u001b[1;33m\u001b[0m\u001b[0m\n\u001b[0;32m     20\u001b[0m     \u001b[0mdd_list\u001b[0m \u001b[1;33m=\u001b[0m \u001b[0mHTML_etree\u001b[0m\u001b[1;33m.\u001b[0m\u001b[0mxpath\u001b[0m\u001b[1;33m(\u001b[0m\u001b[1;34m'//div[@id=\"list\"]//dd'\u001b[0m\u001b[1;33m)\u001b[0m\u001b[1;33m\u001b[0m\u001b[1;33m\u001b[0m\u001b[0m\n",
      "\u001b[1;31mUnicodeEncodeError\u001b[0m: 'gbk' codec can't encode character '\\xa0' in position 6: illegal multibyte sequence"
     ]
    }
   ],
   "source": [
    "import requests\n",
    "from lxml import etree\n",
    "if __name__ == \"__main__\":\n",
    "    url = \"https://www.37zw.net/0/330/\"\n",
    "    headers = {\n",
    "        \"User-Agent\" : \"Mozilla/5.0 (Windows NT 10.0; Win64; x64; rv:82.0) Gecko/20100101 Firefox/82.0\"\n",
    "    }\n",
    "    request = requests.get(url=url, headers=headers)\n",
    "    request.encoding = 'gbk'\n",
    "    page_text = request.text\n",
    "#     page_text = page_text.encode(\"iso-8859-1\").decode(\"gbk\")\n",
    "    HTML_etree = etree.HTML(page_text)\n",
    "    title = HTML_etree.xpath('//div[@id=\"info\"]/h1/text()')[0]\n",
    "    author = HTML_etree.xpath('//div[@id=\"info\"]/p[1]/text()')[0]\n",
    "    print(title)\n",
    "    print(author)\n",
    "    f = open(\"D:/大主宰.txt\", \"w\", encoding = 'gbk')\n",
    "    f.write(title + '\\n' + author)\n",
    "\n",
    "    dd_list = HTML_etree.xpath('//div[@id=\"list\"]//dd')\n",
    "    for dd in dd_list:\n",
    "        chapter_title = dd.xpath('./a/text()')[0]\n",
    "        chapter_src = url + dd.xpath('./a/@href')[0]\n",
    "        chapter_HTML = requests.get(url=chapter_src, headers=headers).text\n",
    "#         print(chapter_HTML)\n",
    "        chapter_etree = etree.HTML(chapter_HTML)\n",
    "        chapter_content = chapter_etree.xpath('//div[@id=\"content\"]//text()')\n",
    "#         chapter_content = chapter_content.encode('iso-8859-1').decode('gbk')\n",
    "        print(chapter_content)\n",
    "        f.write(chapter_title + \"\\n\")\n",
    "        f.write(chapter_content + \"\\n\")\n",
    "        print(chapter_title + \"下载完成！！！\")\n",
    "    print(title + \"保存成功！！！\")"
   ]
  },
  {
   "cell_type": "code",
   "execution_count": 22,
   "metadata": {},
   "outputs": [
    {
     "name": "stdout",
     "output_type": "stream",
     "text": [
      "大主宰\n",
      "作    者：天蚕土豆\n"
     ]
    },
    {
     "ename": "UnicodeEncodeError",
     "evalue": "'gbk' codec can't encode character '\\xa0' in position 6: illegal multibyte sequence",
     "output_type": "error",
     "traceback": [
      "\u001b[1;31m---------------------------------------------------------------------------\u001b[0m",
      "\u001b[1;31mUnicodeEncodeError\u001b[0m                        Traceback (most recent call last)",
      "\u001b[1;32m<ipython-input-22-42307b86793a>\u001b[0m in \u001b[0;36m<module>\u001b[1;34m\u001b[0m\n\u001b[0;32m     16\u001b[0m     \u001b[0mprint\u001b[0m\u001b[1;33m(\u001b[0m\u001b[0mauthor\u001b[0m\u001b[1;33m)\u001b[0m\u001b[1;33m\u001b[0m\u001b[1;33m\u001b[0m\u001b[0m\n\u001b[0;32m     17\u001b[0m     \u001b[0mf\u001b[0m \u001b[1;33m=\u001b[0m \u001b[0mopen\u001b[0m\u001b[1;33m(\u001b[0m\u001b[1;34m\"D:/大主宰.txt\"\u001b[0m\u001b[1;33m,\u001b[0m \u001b[1;34m\"w\"\u001b[0m\u001b[1;33m)\u001b[0m\u001b[1;33m\u001b[0m\u001b[1;33m\u001b[0m\u001b[0m\n\u001b[1;32m---> 18\u001b[1;33m     \u001b[0mf\u001b[0m\u001b[1;33m.\u001b[0m\u001b[0mwrite\u001b[0m\u001b[1;33m(\u001b[0m\u001b[0mtitle\u001b[0m \u001b[1;33m+\u001b[0m \u001b[1;34m'\\n'\u001b[0m \u001b[1;33m+\u001b[0m \u001b[0mauthor\u001b[0m\u001b[1;33m)\u001b[0m\u001b[1;33m\u001b[0m\u001b[1;33m\u001b[0m\u001b[0m\n\u001b[0m\u001b[0;32m     19\u001b[0m \u001b[1;33m\u001b[0m\u001b[0m\n\u001b[0;32m     20\u001b[0m     \u001b[0mdd_list\u001b[0m \u001b[1;33m=\u001b[0m \u001b[0mHTML_etree\u001b[0m\u001b[1;33m.\u001b[0m\u001b[0mxpath\u001b[0m\u001b[1;33m(\u001b[0m\u001b[1;34m'//div[@id=\"list\"]//dd'\u001b[0m\u001b[1;33m)\u001b[0m\u001b[1;33m\u001b[0m\u001b[1;33m\u001b[0m\u001b[0m\n",
      "\u001b[1;31mUnicodeEncodeError\u001b[0m: 'gbk' codec can't encode character '\\xa0' in position 6: illegal multibyte sequence"
     ]
    }
   ],
   "source": [
    "import requests\n",
    "from lxml import etree\n",
    "if __name__ == \"__main__\":\n",
    "    url = \"https://www.37zw.net/0/330/\"\n",
    "    headers = {\n",
    "        \"User-Agent\" : \"Mozilla/5.0 (Windows NT 10.0; Win64; x64; rv:82.0) Gecko/20100101 Firefox/82.0\"\n",
    "    }\n",
    "    request = requests.get(url=url, headers=headers)\n",
    "#     request.encoding = 'gbk'\n",
    "    page_text = request.text\n",
    "    page_text = page_text.encode(\"iso-8859-1\").decode(\"gbk\")\n",
    "    HTML_etree = etree.HTML(page_text)\n",
    "    title = HTML_etree.xpath('//div[@id=\"info\"]/h1/text()')[0]\n",
    "    author = HTML_etree.xpath('//div[@id=\"info\"]/p[1]/text()')[0]\n",
    "    print(title)\n",
    "    print(author)\n",
    "    f = open(\"D:/大主宰.txt\", \"w\")\n",
    "    f.write(title + '\\n' + author)\n",
    "\n",
    "    dd_list = HTML_etree.xpath('//div[@id=\"list\"]//dd')\n",
    "    for dd in dd_list:\n",
    "        chapter_title = dd.xpath('./a/text()')[0]\n",
    "        chapter_src = url + dd.xpath('./a/@href')[0]\n",
    "        chapter_HTML = requests.get(url=chapter_src, headers=headers).text\n",
    "#         print(chapter_HTML)\n",
    "        chapter_etree = etree.HTML(chapter_HTML)\n",
    "        chapter_content = chapter_etree.xpath('//div[@id=\"content\"]//text()')\n",
    "#         chapter_content = chapter_content.encode('iso-8859-1').decode('gbk')\n",
    "        print(chapter_content)\n",
    "        f.write(chapter_title + \"\\n\")\n",
    "        f.write(chapter_content + \"\\n\")\n",
    "        print(chapter_title + \"下载完成！！！\")\n",
    "    print(title + \"保存成功！！！\")"
   ]
  },
  {
   "cell_type": "code",
   "execution_count": null,
   "metadata": {},
   "outputs": [],
   "source": []
  }
 ],
 "metadata": {
  "kernelspec": {
   "display_name": "Python 3",
   "language": "python",
   "name": "python3"
  },
  "language_info": {
   "codemirror_mode": {
    "name": "ipython",
    "version": 3
   },
   "file_extension": ".py",
   "mimetype": "text/x-python",
   "name": "python",
   "nbconvert_exporter": "python",
   "pygments_lexer": "ipython3",
   "version": "3.8.3"
  }
 },
 "nbformat": 4,
 "nbformat_minor": 4
}
