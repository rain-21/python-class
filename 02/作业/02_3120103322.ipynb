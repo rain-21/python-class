{
 "cells": [
  {
   "cell_type": "code",
   "execution_count": 1,
   "metadata": {},
   "outputs": [
    {
     "data": {
      "text/plain": [
       "'D:\\\\anaconda\\\\python.exe'"
      ]
     },
     "execution_count": 1,
     "metadata": {},
     "output_type": "execute_result"
    }
   ],
   "source": [
    "import sys\n",
    "sys.executable"
   ]
  },
  {
   "cell_type": "code",
   "execution_count": 2,
   "metadata": {},
   "outputs": [
    {
     "ename": "NameError",
     "evalue": "name 'true' is not defined",
     "output_type": "error",
     "traceback": [
      "\u001b[1;31m---------------------------------------------------------------------------\u001b[0m",
      "\u001b[1;31mNameError\u001b[0m                                 Traceback (most recent call last)",
      "\u001b[1;32m<ipython-input-2-11596cf7581c>\u001b[0m in \u001b[0;36m<module>\u001b[1;34m\u001b[0m\n\u001b[1;32m----> 1\u001b[1;33m \u001b[1;32mif\u001b[0m \u001b[0mtrue\u001b[0m\u001b[1;33m:\u001b[0m\u001b[1;33m\u001b[0m\u001b[1;33m\u001b[0m\u001b[0m\n\u001b[0m\u001b[0;32m      2\u001b[0m     \u001b[0mprint\u001b[0m\u001b[1;33m(\u001b[0m\u001b[1;34m\"hello girl\"\u001b[0m\u001b[1;33m)\u001b[0m\u001b[1;33m\u001b[0m\u001b[1;33m\u001b[0m\u001b[0m\n\u001b[0;32m      3\u001b[0m \u001b[1;32melse\u001b[0m\u001b[1;33m:\u001b[0m\u001b[1;33m\u001b[0m\u001b[1;33m\u001b[0m\u001b[0m\n\u001b[0;32m      4\u001b[0m     \u001b[0mprint\u001b[0m\u001b[1;33m(\u001b[0m\u001b[1;34m\"hello boy\"\u001b[0m\u001b[1;33m)\u001b[0m\u001b[1;33m\u001b[0m\u001b[1;33m\u001b[0m\u001b[0m\n\u001b[0;32m      5\u001b[0m \u001b[1;33m\u001b[0m\u001b[0m\n",
      "\u001b[1;31mNameError\u001b[0m: name 'true' is not defined"
     ]
    }
   ],
   "source": [
    "if true:\n",
    "    print(\"hello girl\")\n",
    "else:\n",
    "    print(\"hello boy\")\n",
    "    "
   ]
  },
  {
   "cell_type": "code",
   "execution_count": 3,
   "metadata": {},
   "outputs": [
    {
     "name": "stdout",
     "output_type": "stream",
     "text": [
      "x:1,y:2,z:3\n"
     ]
    }
   ],
   "source": [
    "a=(1,2,3)\n",
    "x,y,z=a\n",
    "print(\"x:%d,y:%d,z:%d\"%(x,y,z))"
   ]
  },
  {
   "cell_type": "code",
   "execution_count": 4,
   "metadata": {},
   "outputs": [
    {
     "name": "stdout",
     "output_type": "stream",
     "text": [
      "var1[10] d\n",
      "var2[1:5] ytho\n"
     ]
    }
   ],
   "source": [
    "var1='hello world'\n",
    "var2=\"Python Toppr\"\n",
    "print(\"var1[10]\",var1[10])\n",
    "print(\"var2[1:5]\",var2[1:5])"
   ]
  },
  {
   "cell_type": "code",
   "execution_count": 7,
   "metadata": {},
   "outputs": [
    {
     "name": "stdout",
     "output_type": "stream",
     "text": [
      "原来是：   hello world\n",
      "下面开始更新字符串：   hello WWW.toppr.net!\n"
     ]
    }
   ],
   "source": [
    "var1='hello world'\n",
    "print(\"原来是：  \",var1)\n",
    "print(\"下面开始更新字符串：  \",var1[:6]+'WWW.toppr.net!')\n"
   ]
  },
  {
   "cell_type": "code",
   "execution_count": 9,
   "metadata": {},
   "outputs": [
    {
     "name": "stdout",
     "output_type": "stream",
     "text": [
      "source string is:  I LOVE YOU!\n",
      "swapcase demo\t  i love you!\n",
      "upper demo\t  I LOVE YOU!\n",
      "lower demo\t  i love you!\n",
      "title demo\t  I Love You!\n",
      "istitle demo\t  False\n",
      "islower demo\t  False\n",
      "capitalize demo\t  I love you!\n",
      "find demo\t  -1\n",
      "count demo\t  0\n",
      "split demo\t  ['I', 'LOVE', 'YOU!']\n",
      "join demo\t  a b c d e\n",
      "len demo\t  5\n"
     ]
    }
   ],
   "source": [
    "mystr = 'I LOVE YOU!'\n",
    "print('source string is: ',mystr)\n",
    "print('swapcase demo\\t ',mystr.swapcase())\n",
    "print('upper demo\\t ',mystr.upper())\n",
    "print('lower demo\\t ',mystr.lower())\n",
    "print('title demo\\t ',mystr.title())\n",
    "print('istitle demo\\t ',mystr.istitle())\n",
    "print('islower demo\\t ',mystr.islower())\n",
    "print('capitalize demo\\t ',mystr.capitalize())\n",
    "print('find demo\\t ',mystr.find('u'))\n",
    "print('count demo\\t ',mystr.count('a'))\n",
    "print('split demo\\t ',mystr.split(' '))\n",
    "print('join demo\\t ',' '.join('abcde'))\n",
    "print('len demo\\t ',len('mystr'))"
   ]
  },
  {
   "cell_type": "code",
   "execution_count": 10,
   "metadata": {},
   "outputs": [
    {
     "data": {
      "text/plain": [
       "True"
      ]
     },
     "execution_count": 10,
     "metadata": {},
     "output_type": "execute_result"
    }
   ],
   "source": [
    "True"
   ]
  },
  {
   "cell_type": "code",
   "execution_count": 11,
   "metadata": {},
   "outputs": [
    {
     "data": {
      "text/plain": [
       "False"
      ]
     },
     "execution_count": 11,
     "metadata": {},
     "output_type": "execute_result"
    }
   ],
   "source": [
    "False"
   ]
  },
  {
   "cell_type": "code",
   "execution_count": 12,
   "metadata": {},
   "outputs": [
    {
     "data": {
      "text/plain": [
       "True"
      ]
     },
     "execution_count": 12,
     "metadata": {},
     "output_type": "execute_result"
    }
   ],
   "source": [
    "3>2\n"
   ]
  },
  {
   "cell_type": "code",
   "execution_count": 13,
   "metadata": {},
   "outputs": [
    {
     "data": {
      "text/plain": [
       "False"
      ]
     },
     "execution_count": 13,
     "metadata": {},
     "output_type": "execute_result"
    }
   ],
   "source": [
    "3>5"
   ]
  },
  {
   "cell_type": "code",
   "execution_count": 14,
   "metadata": {},
   "outputs": [
    {
     "data": {
      "text/plain": [
       "True"
      ]
     },
     "execution_count": 14,
     "metadata": {},
     "output_type": "execute_result"
    }
   ],
   "source": [
    "True and True"
   ]
  },
  {
   "cell_type": "code",
   "execution_count": 15,
   "metadata": {},
   "outputs": [
    {
     "data": {
      "text/plain": [
       "False"
      ]
     },
     "execution_count": 15,
     "metadata": {},
     "output_type": "execute_result"
    }
   ],
   "source": [
    "True and False"
   ]
  },
  {
   "cell_type": "code",
   "execution_count": 16,
   "metadata": {},
   "outputs": [
    {
     "data": {
      "text/plain": [
       "False"
      ]
     },
     "execution_count": 16,
     "metadata": {},
     "output_type": "execute_result"
    }
   ],
   "source": [
    "False and False"
   ]
  },
  {
   "cell_type": "code",
   "execution_count": 17,
   "metadata": {},
   "outputs": [
    {
     "data": {
      "text/plain": [
       "True"
      ]
     },
     "execution_count": 17,
     "metadata": {},
     "output_type": "execute_result"
    }
   ],
   "source": [
    "True or True"
   ]
  },
  {
   "cell_type": "code",
   "execution_count": 18,
   "metadata": {},
   "outputs": [
    {
     "data": {
      "text/plain": [
       "True"
      ]
     },
     "execution_count": 18,
     "metadata": {},
     "output_type": "execute_result"
    }
   ],
   "source": [
    "True or False"
   ]
  },
  {
   "cell_type": "code",
   "execution_count": 19,
   "metadata": {},
   "outputs": [
    {
     "data": {
      "text/plain": [
       "False"
      ]
     },
     "execution_count": 19,
     "metadata": {},
     "output_type": "execute_result"
    }
   ],
   "source": [
    "False or False"
   ]
  },
  {
   "cell_type": "code",
   "execution_count": 20,
   "metadata": {},
   "outputs": [
    {
     "data": {
      "text/plain": [
       "False"
      ]
     },
     "execution_count": 20,
     "metadata": {},
     "output_type": "execute_result"
    }
   ],
   "source": [
    "not True"
   ]
  },
  {
   "cell_type": "code",
   "execution_count": 21,
   "metadata": {},
   "outputs": [
    {
     "data": {
      "text/plain": [
       "True"
      ]
     },
     "execution_count": 21,
     "metadata": {},
     "output_type": "execute_result"
    }
   ],
   "source": [
    "not False"
   ]
  },
  {
   "cell_type": "code",
   "execution_count": 25,
   "metadata": {},
   "outputs": [
    {
     "name": "stdout",
     "output_type": "stream",
     "text": [
      "teenager\n"
     ]
    }
   ],
   "source": [
    "age=12\n",
    "if age >= 18:\n",
    "    print(\"adult\")\n",
    "else:\n",
    "    print(\"teenager\")"
   ]
  },
  {
   "cell_type": "code",
   "execution_count": 28,
   "metadata": {},
   "outputs": [
    {
     "name": "stdout",
     "output_type": "stream",
     "text": [
      "<class 'int'> <class 'float'> <class 'bool'> <class 'complex'>\n"
     ]
    }
   ],
   "source": [
    "a,b,c,d,=20,5.5,True,4+3j\n",
    "print(type(a),type(b),type(c),type(d))"
   ]
  },
  {
   "cell_type": "code",
   "execution_count": 31,
   "metadata": {},
   "outputs": [
    {
     "ename": "NameError",
     "evalue": "name 'sin' is not defined",
     "output_type": "error",
     "traceback": [
      "\u001b[1;31m---------------------------------------------------------------------------\u001b[0m",
      "\u001b[1;31mNameError\u001b[0m                                 Traceback (most recent call last)",
      "\u001b[1;32m<ipython-input-31-ef290668fc98>\u001b[0m in \u001b[0;36m<module>\u001b[1;34m\u001b[0m\n\u001b[0;32m      1\u001b[0m \u001b[0mx\u001b[0m\u001b[1;33m=\u001b[0m\u001b[0ma\u001b[0m\u001b[1;33m+\u001b[0m\u001b[0mb\u001b[0m\u001b[1;33m\u001b[0m\u001b[1;33m\u001b[0m\u001b[0m\n\u001b[1;32m----> 2\u001b[1;33m \u001b[0mw\u001b[0m\u001b[1;33m=\u001b[0m\u001b[0msin\u001b[0m\u001b[1;33m(\u001b[0m\u001b[0ma\u001b[0m\u001b[1;33m)\u001b[0m\u001b[1;33m+\u001b[0m\u001b[0msin\u001b[0m\u001b[1;33m(\u001b[0m\u001b[0mb\u001b[0m\u001b[1;33m)\u001b[0m\u001b[1;33m\u001b[0m\u001b[1;33m\u001b[0m\u001b[0m\n\u001b[0m\u001b[0;32m      3\u001b[0m \u001b[0my\u001b[0m\u001b[1;33m=\u001b[0m\u001b[0mi\u001b[0m\u001b[1;33m+\u001b[0m\u001b[1;33m+\u001b[0m\u001b[1;33m+\u001b[0m\u001b[1;33m-\u001b[0m\u001b[1;33m-\u001b[0m\u001b[0mj\u001b[0m\u001b[1;33m\u001b[0m\u001b[1;33m\u001b[0m\u001b[0m\n",
      "\u001b[1;31mNameError\u001b[0m: name 'sin' is not defined"
     ]
    }
   ],
   "source": [
    "x=a+b\n",
    "w=sin(a)+sin(b)\n",
    "y=i+++--j"
   ]
  },
  {
   "cell_type": "code",
   "execution_count": 33,
   "metadata": {},
   "outputs": [
    {
     "name": "stdout",
     "output_type": "stream",
     "text": [
      "100\n",
      "1000.0\n",
      "浪潮软件\n"
     ]
    }
   ],
   "source": [
    "counter=100\n",
    "miles=1000.0\n",
    "name=\"浪潮软件\"\n",
    "print(counter)\n",
    "print(miles)\n",
    "print(name)"
   ]
  },
  {
   "cell_type": "code",
   "execution_count": 35,
   "metadata": {},
   "outputs": [
    {
     "name": "stdout",
     "output_type": "stream",
     "text": [
      "1-c的值为:  31\n",
      "2-c的值为:  21\n",
      "3-c的值为:  441\n",
      "4-c的值为:  21.0\n",
      "5-c的值为:  2\n",
      "6-c的值为:  2097152\n",
      "7-c的值为:  99864\n"
     ]
    }
   ],
   "source": [
    "a=21\n",
    "b=10\n",
    "c=0\n",
    "c=a+b\n",
    "print(\"1-c的值为: \",c)\n",
    "c =+a\n",
    "print(\"2-c的值为: \",c)\n",
    "c *=a\n",
    "print(\"3-c的值为: \",c)\n",
    "c /=a\n",
    "print(\"4-c的值为: \",c)\n",
    "c=2\n",
    "c %=a\n",
    "print(\"5-c的值为: \",c)\n",
    "c **=a\n",
    "print(\"6-c的值为: \",c)\n",
    "c //=a\n",
    "print(\"7-c的值为: \",c)"
   ]
  },
  {
   "cell_type": "code",
   "execution_count": 37,
   "metadata": {},
   "outputs": [
    {
     "name": "stdout",
     "output_type": "stream",
     "text": [
      "1 - 变量a和b都为true\n",
      "2 - 变量a和b都为true,或其中一个为true\n",
      "3 - 变量a和b都为true\n",
      "4 - 变量a和b都不为true\n",
      "5 - 变量a 和 b 都为true\n"
     ]
    }
   ],
   "source": [
    "a=10\n",
    "b=20\n",
    "if(a and b):\n",
    "    print(\"1 - 变量a和b都为true\")\n",
    "else:\n",
    "    print(\"1 - 变量a和有一个不为true\")\n",
    "if(a or b):\n",
    "    print(\"2 - 变量a和b都为true,或其中一个为true\")\n",
    "else:\n",
    "    print(\"2 - 变量a和b都不为true\")\n",
    "if(a and b):\n",
    "    print(\"3 - 变量a和b都为true\")\n",
    "else:\n",
    "    print(\"3 - 变量a和b有一个不为true\")\n",
    "if(a or b):\n",
    "    print(\"4 - 变量a和b都不为true\")\n",
    "else:\n",
    "    print(\"4 - 变量a和b都为true，或其中一个变量为true\")\n",
    "if not(a and b):\n",
    "    print(\"5 - 变量a 和 b 都为false，或其中一个变量为false\")\n",
    "else:\n",
    "    print(\"5 - 变量a 和 b 都为true\")\n"
   ]
  },
  {
   "cell_type": "code",
   "execution_count": 39,
   "metadata": {},
   "outputs": [
    {
     "name": "stdout",
     "output_type": "stream",
     "text": [
      "1 - 变量a不在给定的列表中list中\n",
      "2 - 变量b不在给定的列表中list中\n",
      "3 - 变量a在给定的列表中list中\n"
     ]
    }
   ],
   "source": [
    "a=10\n",
    "b=20\n",
    "list=[1,2,3,4,5];\n",
    "if (a in list):\n",
    "    print(\"1 - 变量a在给定的列表中list中\")\n",
    "else:\n",
    "    print(\"1 - 变量a不在给定的列表中list中\")\n",
    "if (b not in list):\n",
    "    print(\"2 - 变量b不在给定的列表中list中\")\n",
    "else:\n",
    "    print(\"2 - 变量b在给定的列表中list中\")\n",
    "a=2\n",
    "if (a in list):\n",
    "    print(\"3 - 变量a在给定的列表中list中\")\n",
    "else:\n",
    "    print(\"3 - 变量a不在给定的列表中list中\")"
   ]
  },
  {
   "cell_type": "code",
   "execution_count": 40,
   "metadata": {},
   "outputs": [
    {
     "name": "stdout",
     "output_type": "stream",
     "text": [
      "Yes\n"
     ]
    }
   ],
   "source": [
    "a=[1,2,3,4,5]\n",
    "b=[1,2,3,4,5]\n",
    "if(5 == len(a) == len(b)):\n",
    "    print(\"Yes\")\n",
    "else:\n",
    "    print(\"No\")\n",
    "    "
   ]
  },
  {
   "cell_type": "code",
   "execution_count": 41,
   "metadata": {},
   "outputs": [
    {
     "name": "stdout",
     "output_type": "stream",
     "text": [
      "True\n",
      "False\n"
     ]
    }
   ],
   "source": [
    "a=[1,2,3]\n",
    "b=[1,2,3]\n",
    "print(a == b)\n",
    "print(a is b)"
   ]
  },
  {
   "cell_type": "code",
   "execution_count": 43,
   "metadata": {},
   "outputs": [
    {
     "name": "stdout",
     "output_type": "stream",
     "text": [
      "True\n",
      "False\n"
     ]
    }
   ],
   "source": [
    "a=100      #对于小的整数，Python缓存了-5 -~256之间的所有整数，共262个\n",
    "b=100\n",
    "print(a is b)\n",
    "c=500\n",
    "d=500\n",
    "print(c is d)"
   ]
  },
  {
   "cell_type": "code",
   "execution_count": 44,
   "metadata": {},
   "outputs": [
    {
     "data": {
      "text/plain": [
       "'b'"
      ]
     },
     "execution_count": 44,
     "metadata": {},
     "output_type": "execute_result"
    }
   ],
   "source": [
    "'a' and 'b' "
   ]
  },
  {
   "cell_type": "code",
   "execution_count": 45,
   "metadata": {},
   "outputs": [
    {
     "data": {
      "text/plain": [
       "''"
      ]
     },
     "execution_count": 45,
     "metadata": {},
     "output_type": "execute_result"
    }
   ],
   "source": [
    "'' and 'b'"
   ]
  },
  {
   "cell_type": "code",
   "execution_count": 46,
   "metadata": {},
   "outputs": [
    {
     "data": {
      "text/plain": [
       "'a'"
      ]
     },
     "execution_count": 46,
     "metadata": {},
     "output_type": "execute_result"
    }
   ],
   "source": [
    "'a' or 'b'"
   ]
  },
  {
   "cell_type": "code",
   "execution_count": 47,
   "metadata": {},
   "outputs": [
    {
     "data": {
      "text/plain": [
       "'a'"
      ]
     },
     "execution_count": 47,
     "metadata": {},
     "output_type": "execute_result"
    }
   ],
   "source": [
    "'a' or 'b'"
   ]
  },
  {
   "cell_type": "code",
   "execution_count": 48,
   "metadata": {},
   "outputs": [
    {
     "data": {
      "text/plain": [
       "'b'"
      ]
     },
     "execution_count": 48,
     "metadata": {},
     "output_type": "execute_result"
    }
   ],
   "source": [
    "'' or 'b'"
   ]
  },
  {
   "cell_type": "code",
   "execution_count": 49,
   "metadata": {},
   "outputs": [
    {
     "data": {
      "text/plain": [
       "'second'"
      ]
     },
     "execution_count": 49,
     "metadata": {},
     "output_type": "execute_result"
    }
   ],
   "source": [
    "a = 'first'\n",
    "b = 'second'\n",
    "0 and a or b"
   ]
  },
  {
   "cell_type": "code",
   "execution_count": 50,
   "metadata": {},
   "outputs": [
    {
     "data": {
      "text/plain": [
       "'second'"
      ]
     },
     "execution_count": 50,
     "metadata": {},
     "output_type": "execute_result"
    }
   ],
   "source": [
    "a = 'first'\n",
    "b = 'second'\n",
    "0 and a or b"
   ]
  },
  {
   "cell_type": "code",
   "execution_count": 51,
   "metadata": {},
   "outputs": [
    {
     "data": {
      "text/plain": [
       "True"
      ]
     },
     "execution_count": 51,
     "metadata": {},
     "output_type": "execute_result"
    }
   ],
   "source": [
    "a='iplaypython.com'\n",
    "b='iplaypython.com'\n",
    "a == b"
   ]
  },
  {
   "cell_type": "code",
   "execution_count": 52,
   "metadata": {},
   "outputs": [
    {
     "name": "stdin",
     "output_type": "stream",
     "text": [
      "请输入一个整数：  3\n"
     ]
    },
    {
     "name": "stdout",
     "output_type": "stream",
     "text": [
      "3\n"
     ]
    }
   ],
   "source": [
    "x=input('请输入一个整数： ')\n",
    "x=int(x)\n",
    "if x<0:\n",
    "    x=-x\n",
    "print(x)"
   ]
  },
  {
   "cell_type": "code",
   "execution_count": 55,
   "metadata": {},
   "outputs": [
    {
     "name": "stdin",
     "output_type": "stream",
     "text": [
      "请输入一个整数：  -2\n"
     ]
    },
    {
     "name": "stdout",
     "output_type": "stream",
     "text": [
      "大哥，您输入的是一个负数。\n"
     ]
    }
   ],
   "source": [
    "x=input('请输入一个整数： ')\n",
    "x=int(x)\n",
    "if x <0:\n",
    "    print('大哥，您输入的是一个负数。')\n",
    "else:\n",
    "    print('大哥，您输入的是0或者正数。')"
   ]
  },
  {
   "cell_type": "code",
   "execution_count": 56,
   "metadata": {},
   "outputs": [
    {
     "name": "stdin",
     "output_type": "stream",
     "text": [
      "小朋友，请输入你的二级C语言成绩：  23\n"
     ]
    },
    {
     "name": "stdout",
     "output_type": "stream",
     "text": [
      "你的成绩为：不合格\n"
     ]
    }
   ],
   "source": [
    "x=input('小朋友，请输入你的二级C语言成绩： ')\n",
    "x=float(x)\n",
    "if x >= 90:\n",
    "    print('你的成绩为：优')\n",
    "elif x >= 80:\n",
    "    print('你的成绩为：良')\n",
    "elif x >= 70:\n",
    "    print('你的成绩为：中')\n",
    "elif x >= 60:\n",
    "    print('你的成绩为：合格')\n",
    "else:\n",
    "    print('你的成绩为：不合格')"
   ]
  },
  {
   "cell_type": "code",
   "execution_count": 59,
   "metadata": {},
   "outputs": [
    {
     "name": "stdout",
     "output_type": "stream",
     "text": [
      "hello\n"
     ]
    }
   ],
   "source": [
    "num = 9\n",
    "if num >= 0 and num <= 10:\n",
    "    print('hello')"
   ]
  },
  {
   "cell_type": "code",
   "execution_count": 62,
   "metadata": {},
   "outputs": [
    {
     "name": "stdout",
     "output_type": "stream",
     "text": [
      "undefine\n"
     ]
    }
   ],
   "source": [
    "num = 8\n",
    "if num >= 0 and num <= 5:\n",
    "    print('hello')\n",
    "else:\n",
    "    print('undefine')"
   ]
  },
  {
   "cell_type": "code",
   "execution_count": 65,
   "metadata": {},
   "outputs": [
    {
     "ename": "ModuleNotFoundError",
     "evalue": "No module named '_future_'",
     "output_type": "error",
     "traceback": [
      "\u001b[1;31m---------------------------------------------------------------------------\u001b[0m",
      "\u001b[1;31mModuleNotFoundError\u001b[0m                       Traceback (most recent call last)",
      "\u001b[1;32m<ipython-input-65-c26ee7e70019>\u001b[0m in \u001b[0;36m<module>\u001b[1;34m\u001b[0m\n\u001b[1;32m----> 1\u001b[1;33m \u001b[1;32mfrom\u001b[0m \u001b[0m_future_\u001b[0m \u001b[1;32mimport\u001b[0m \u001b[0mdivision\u001b[0m\u001b[1;33m\u001b[0m\u001b[1;33m\u001b[0m\u001b[0m\n\u001b[0m\u001b[0;32m      2\u001b[0m \u001b[0mx\u001b[0m\u001b[1;33m=\u001b[0m\u001b[1;36m1\u001b[0m\u001b[1;33m\u001b[0m\u001b[1;33m\u001b[0m\u001b[0m\n\u001b[0;32m      3\u001b[0m \u001b[0my\u001b[0m\u001b[1;33m=\u001b[0m\u001b[1;36m2\u001b[0m\u001b[1;33m\u001b[0m\u001b[1;33m\u001b[0m\u001b[0m\n\u001b[0;32m      4\u001b[0m \u001b[0moperator\u001b[0m \u001b[1;33m=\u001b[0m \u001b[1;34m\"/\"\u001b[0m\u001b[1;33m\u001b[0m\u001b[1;33m\u001b[0m\u001b[0m\n\u001b[0;32m      5\u001b[0m result = {\n",
      "\u001b[1;31mModuleNotFoundError\u001b[0m: No module named '_future_'"
     ]
    }
   ],
   "source": [
    "from _future_ import division\n",
    "x=1\n",
    "y=2\n",
    "operator = \"/\"\n",
    "result = {\n",
    "    \"+\" : x + y,\n",
    "    \"-\" : x - y,\n",
    "    \"*\" : x * y,\n",
    "    \"/\" : x / y\n",
    "}\n",
    "print(result.get(operator))"
   ]
  },
  {
   "cell_type": "code",
   "execution_count": 68,
   "metadata": {},
   "outputs": [
    {
     "ename": "SyntaxError",
     "evalue": "invalid syntax (<ipython-input-68-a260989fdd5a>, line 1)",
     "output_type": "error",
     "traceback": [
      "\u001b[1;36m  File \u001b[1;32m\"<ipython-input-68-a260989fdd5a>\"\u001b[1;36m, line \u001b[1;32m1\u001b[0m\n\u001b[1;33m    if (condition)\u001b[0m\n\u001b[1;37m                  ^\u001b[0m\n\u001b[1;31mSyntaxError\u001b[0m\u001b[1;31m:\u001b[0m invalid syntax\n"
     ]
    }
   ],
   "source": [
    "if (condition)\n",
    "{\n",
    "    dosomething();\n",
    "}"
   ]
  },
  {
   "cell_type": "code",
   "execution_count": 70,
   "metadata": {},
   "outputs": [],
   "source": [
    "def islen(strString):\n",
    "    if len(strString)>6:\n",
    "        return True\n",
    "    else:\n",
    "        return False"
   ]
  },
  {
   "cell_type": "code",
   "execution_count": 72,
   "metadata": {},
   "outputs": [],
   "source": [
    "def islen(strString):\n",
    "    return True if len(strString)>6 else False"
   ]
  },
  {
   "cell_type": "code",
   "execution_count": 74,
   "metadata": {},
   "outputs": [],
   "source": [
    "def islen(strString):\n",
    "    return[False,True][len(strString)>6]"
   ]
  },
  {
   "cell_type": "code",
   "execution_count": 75,
   "metadata": {},
   "outputs": [
    {
     "name": "stdout",
     "output_type": "stream",
     "text": [
      "当前字母： P\n",
      "当前字母： y\n",
      "当前字母： t\n",
      "当前字母： h\n",
      "当前字母： o\n",
      "当前字母： n\n"
     ]
    }
   ],
   "source": [
    "for letter in 'Python':\n",
    "    print('当前字母：',letter)"
   ]
  },
  {
   "cell_type": "code",
   "execution_count": 76,
   "metadata": {},
   "outputs": [
    {
     "name": "stdout",
     "output_type": "stream",
     "text": [
      "当前字母： F\n",
      "当前字母： e\n",
      "当前字母： n\n",
      "当前字母： g\n",
      "当前字母： Y\n",
      "当前字母： u\n",
      "当前字母： n\n"
     ]
    }
   ],
   "source": [
    "for letter in 'FengYun':\n",
    "    print('当前字母：',letter)"
   ]
  },
  {
   "cell_type": "code",
   "execution_count": 77,
   "metadata": {},
   "outputs": [
    {
     "name": "stdout",
     "output_type": "stream",
     "text": [
      "当前单词:  banana\n",
      "Good bye!\n",
      "当前单词:  apple\n",
      "Good bye!\n",
      "当前单词:  mango\n",
      "Good bye!\n"
     ]
    }
   ],
   "source": [
    "fruits=['banana','apple','mango']\n",
    "for fruit in fruits:\n",
    "    print('当前单词: ',fruit)\n",
    "    print(\"Good bye!\")"
   ]
  },
  {
   "cell_type": "code",
   "execution_count": 79,
   "metadata": {},
   "outputs": [
    {
     "name": "stdout",
     "output_type": "stream",
     "text": [
      "10 等于 2*5\n",
      "11 是一个质数\n",
      "12 等于 2*6\n",
      "13 是一个质数\n",
      "14 等于 2*7\n",
      "15 等于 3*5\n",
      "16 等于 2*8\n",
      "17 是一个质数\n",
      "18 等于 2*9\n",
      "19 是一个质数\n"
     ]
    }
   ],
   "source": [
    "for num in range(10,20):\n",
    "    for i in range(2,num):\n",
    "        if num%i == 0:\n",
    "            j=num/i\n",
    "        \n",
    "            print('%d 等于 %d*%d' % (num,i,j))\n",
    "            break\n",
    "    else:\n",
    "        print(num,'是一个质数')"
   ]
  },
  {
   "cell_type": "code",
   "execution_count": 81,
   "metadata": {},
   "outputs": [
    {
     "ename": "NameError",
     "evalue": "name 'sequence' is not defined",
     "output_type": "error",
     "traceback": [
      "\u001b[1;31m---------------------------------------------------------------------------\u001b[0m",
      "\u001b[1;31mNameError\u001b[0m                                 Traceback (most recent call last)",
      "\u001b[1;32m<ipython-input-81-db5bd17dea68>\u001b[0m in \u001b[0;36m<module>\u001b[1;34m\u001b[0m\n\u001b[1;32m----> 1\u001b[1;33m \u001b[1;32mfor\u001b[0m \u001b[0miterating_var\u001b[0m \u001b[1;32min\u001b[0m \u001b[0msequence\u001b[0m\u001b[1;33m:\u001b[0m\u001b[1;33m\u001b[0m\u001b[1;33m\u001b[0m\u001b[0m\n\u001b[0m\u001b[0;32m      2\u001b[0m     \u001b[1;32mfor\u001b[0m \u001b[0miterating_var\u001b[0m \u001b[1;32min\u001b[0m \u001b[0msequence\u001b[0m\u001b[1;33m:\u001b[0m\u001b[1;33m\u001b[0m\u001b[1;33m\u001b[0m\u001b[0m\n\u001b[0;32m      3\u001b[0m         \u001b[0mstatements\u001b[0m\u001b[1;33m\u001b[0m\u001b[1;33m\u001b[0m\u001b[0m\n\u001b[0;32m      4\u001b[0m     \u001b[0mstatements\u001b[0m\u001b[1;33m\u001b[0m\u001b[1;33m\u001b[0m\u001b[0m\n",
      "\u001b[1;31mNameError\u001b[0m: name 'sequence' is not defined"
     ]
    }
   ],
   "source": [
    "for iterating_var in sequence:\n",
    "    for iterating_var in sequence:\n",
    "        statements\n",
    "    statements"
   ]
  },
  {
   "cell_type": "code",
   "execution_count": 82,
   "metadata": {},
   "outputs": [
    {
     "name": "stdin",
     "output_type": "stream",
     "text": [
      "请输入一个整数值作为开始： 3\n",
      "请输入一个整数值作为结尾： 4\n"
     ]
    }
   ],
   "source": [
    "x=(int(input(\"请输入一个整数值作为开始：\")),int(input(\"请输入一个整数值作为结尾：\")))\n",
    "x1 = min(x)\n",
    "x2 = max(x)\n",
    "for n in range (x1,x2+1):\n",
    "    for i in range (2,n-1):\n",
    "        if n % i == 0:\n",
    "            break\n",
    "        else:\n",
    "            print(\"你输入的\",n,\"是素数。\")"
   ]
  },
  {
   "cell_type": "code",
   "execution_count": 84,
   "metadata": {},
   "outputs": [
    {
     "name": "stdout",
     "output_type": "stream",
     "text": [
      "the count is: 0\n",
      "the count is: 1\n",
      "the count is: 2\n",
      "the count is: 3\n",
      "the count is: 4\n",
      "the count is: 5\n",
      "the count is: 6\n",
      "the count is: 7\n",
      "the count is: 8\n",
      "Good bye!\n"
     ]
    }
   ],
   "source": [
    "count = 0\n",
    "while (count < 9):\n",
    "    print('the count is:',count)\n",
    "    count=count+1\n",
    "print(\"Good bye!\")"
   ]
  },
  {
   "cell_type": "code",
   "execution_count": 87,
   "metadata": {},
   "outputs": [
    {
     "name": "stdout",
     "output_type": "stream",
     "text": [
      "arg1: Zed, arg2: Shaw\n",
      "arg1: Zed, arg2: Shaw\n",
      "arg1: First!\n",
      "I got nothin'.\n"
     ]
    }
   ],
   "source": [
    "def print_two(*args):\n",
    "    arg1, arg2 = args\n",
    "    print(f\"arg1: {arg1}, arg2: {arg2}\")\n",
    "def print_two_again(arg1, arg2):\n",
    "    print(f\"arg1: {arg1}, arg2: {arg2}\")\n",
    "def print_one(arg1):\n",
    "    print(f\"arg1: {arg1}\")\n",
    "\n",
    "def print_none():\n",
    "    print(\"I got nothin'.\")\n",
    "print_two(\"Zed\",\"Shaw\")\n",
    "print_two_again(\"Zed\",\"Shaw\")\n",
    "print_one(\"First!\")\n",
    "print_none()\n"
   ]
  },
  {
   "cell_type": "code",
   "execution_count": 88,
   "metadata": {},
   "outputs": [
    {
     "name": "stdout",
     "output_type": "stream",
     "text": [
      "2 是素数\n",
      "3 是素数\n",
      "5 是素数\n",
      "7 是素数\n",
      "11 是素数\n",
      "13 是素数\n",
      "17 是素数\n",
      "19 是素数\n",
      "23 是素数\n",
      "29 是素数\n",
      "31 是素数\n",
      "37 是素数\n",
      "41 是素数\n",
      "43 是素数\n",
      "47 是素数\n",
      "53 是素数\n",
      "59 是素数\n",
      "61 是素数\n",
      "67 是素数\n",
      "71 是素数\n",
      "73 是素数\n",
      "79 是素数\n",
      "83 是素数\n",
      "89 是素数\n",
      "97 是素数\n",
      "101 是素数\n",
      "103 是素数\n",
      "107 是素数\n",
      "109 是素数\n",
      "113 是素数\n",
      "127 是素数\n",
      "131 是素数\n",
      "137 是素数\n",
      "139 是素数\n",
      "149 是素数\n",
      "151 是素数\n",
      "157 是素数\n",
      "163 是素数\n",
      "167 是素数\n",
      "173 是素数\n",
      "179 是素数\n",
      "181 是素数\n",
      "191 是素数\n",
      "193 是素数\n",
      "197 是素数\n",
      "199 是素数\n",
      "211 是素数\n",
      "223 是素数\n",
      "227 是素数\n",
      "229 是素数\n",
      "233 是素数\n",
      "239 是素数\n",
      "241 是素数\n",
      "251 是素数\n",
      "257 是素数\n",
      "263 是素数\n",
      "269 是素数\n",
      "271 是素数\n",
      "277 是素数\n",
      "281 是素数\n",
      "283 是素数\n",
      "293 是素数\n",
      "307 是素数\n",
      "311 是素数\n",
      "313 是素数\n",
      "317 是素数\n",
      "331 是素数\n",
      "337 是素数\n",
      "347 是素数\n",
      "349 是素数\n",
      "353 是素数\n",
      "359 是素数\n",
      "367 是素数\n",
      "373 是素数\n",
      "379 是素数\n",
      "383 是素数\n",
      "389 是素数\n",
      "397 是素数\n",
      "401 是素数\n",
      "409 是素数\n",
      "419 是素数\n",
      "421 是素数\n",
      "431 是素数\n",
      "433 是素数\n",
      "439 是素数\n",
      "443 是素数\n",
      "449 是素数\n",
      "457 是素数\n",
      "461 是素数\n",
      "463 是素数\n",
      "467 是素数\n",
      "479 是素数\n",
      "487 是素数\n",
      "491 是素数\n",
      "499 是素数\n",
      "503 是素数\n",
      "509 是素数\n",
      "521 是素数\n",
      "523 是素数\n",
      "541 是素数\n",
      "547 是素数\n",
      "557 是素数\n",
      "563 是素数\n",
      "569 是素数\n",
      "571 是素数\n",
      "577 是素数\n",
      "587 是素数\n",
      "593 是素数\n",
      "599 是素数\n",
      "601 是素数\n",
      "607 是素数\n",
      "613 是素数\n",
      "617 是素数\n",
      "619 是素数\n",
      "631 是素数\n",
      "641 是素数\n",
      "643 是素数\n",
      "647 是素数\n",
      "653 是素数\n",
      "659 是素数\n",
      "661 是素数\n",
      "673 是素数\n",
      "677 是素数\n",
      "683 是素数\n",
      "691 是素数\n",
      "701 是素数\n",
      "709 是素数\n",
      "719 是素数\n",
      "727 是素数\n",
      "733 是素数\n",
      "739 是素数\n",
      "743 是素数\n",
      "751 是素数\n",
      "757 是素数\n",
      "761 是素数\n",
      "769 是素数\n",
      "773 是素数\n",
      "787 是素数\n",
      "797 是素数\n",
      "809 是素数\n",
      "811 是素数\n",
      "821 是素数\n",
      "823 是素数\n",
      "827 是素数\n",
      "829 是素数\n",
      "839 是素数\n",
      "853 是素数\n",
      "857 是素数\n",
      "859 是素数\n",
      "863 是素数\n",
      "877 是素数\n",
      "881 是素数\n",
      "883 是素数\n",
      "887 是素数\n",
      "907 是素数\n",
      "911 是素数\n",
      "919 是素数\n",
      "929 是素数\n",
      "937 是素数\n",
      "941 是素数\n",
      "947 是素数\n",
      "953 是素数\n",
      "967 是素数\n",
      "971 是素数\n",
      "977 是素数\n",
      "983 是素数\n",
      "991 是素数\n",
      "997 是素数\n",
      "谢谢使用，Good bye\n"
     ]
    }
   ],
   "source": [
    "i = 2 \n",
    "while (i<1000):\n",
    "    j=2\n",
    "    while(j<=(i/j)):\n",
    "        if not(i%j):break\n",
    "        j=j+1\n",
    "    if(j>i/j):\n",
    "        print(i,\"是素数\")\n",
    "    i=i+1\n",
    "print(\"谢谢使用，Good bye\")"
   ]
  },
  {
   "cell_type": "code",
   "execution_count": 94,
   "metadata": {},
   "outputs": [
    {
     "name": "stdout",
     "output_type": "stream",
     "text": [
      "Current letter: p\n",
      "Current variable value: 10\n",
      "Current variable value: 9\n",
      "Current variable value: 8\n",
      "Current variable value: 7\n",
      "Current variable value: 6\n",
      "执行完毕，Good bye\n",
      "Current letter: y\n",
      "Current variable value: 10\n",
      "Current variable value: 9\n",
      "Current variable value: 8\n",
      "Current variable value: 7\n",
      "Current variable value: 6\n",
      "执行完毕，Good bye\n",
      "Current letter: t\n",
      "Current variable value: 10\n",
      "Current variable value: 9\n",
      "Current variable value: 8\n",
      "Current variable value: 7\n",
      "Current variable value: 6\n",
      "执行完毕，Good bye\n"
     ]
    }
   ],
   "source": [
    "for letter in 'python':\n",
    "    if letter == 'h':\n",
    "        break\n",
    "    print('Current letter:',letter)\n",
    "    var=10\n",
    "    while var> 0:\n",
    "        print('Current variable value:',var)\n",
    "        var=var-1\n",
    "        if var==5:\n",
    "            break\n",
    "    print(\"执行完毕，Good bye\")\n",
    "        "
   ]
  },
  {
   "cell_type": "code",
   "execution_count": 99,
   "metadata": {},
   "outputs": [
    {
     "name": "stdout",
     "output_type": "stream",
     "text": [
      "当前字母： p\n",
      "当前字母： y\n",
      "当前字母： t\n",
      "当前字母： o\n",
      "当前字母： n\n",
      "当前变量值： 9\n",
      "当前变量值： 8\n",
      "当前变量值： 7\n",
      "当前变量值： 6\n",
      "当前变量值： 4\n",
      "当前变量值： 3\n",
      "当前变量值： 2\n",
      "当前变量值： 1\n",
      "当前变量值： 0\n",
      "执行完毕，Good bye\n"
     ]
    }
   ],
   "source": [
    "for letter in 'python':\n",
    "    if letter == 'h':\n",
    "        continue\n",
    "    print('当前字母：',letter)\n",
    "var=10\n",
    "while var>0:\n",
    "    var=var-1\n",
    "    if var == 5:\n",
    "        continue\n",
    "    print('当前变量值：',var)\n",
    "print(\"执行完毕，Good bye\")"
   ]
  },
  {
   "cell_type": "code",
   "execution_count": 100,
   "metadata": {},
   "outputs": [
    {
     "name": "stdout",
     "output_type": "stream",
     "text": [
      "当前字母： p\n",
      "当前字母： y\n",
      "当前字母： t\n",
      "这是pass语句，是一个空语句，什么都不执行！\n",
      "当前字母： h\n",
      "当前字母： o\n",
      "当前字母： n\n",
      "程序执行完毕，Good bye\n"
     ]
    }
   ],
   "source": [
    "for letter in 'python':\n",
    "    if letter == 'h':\n",
    "        pass\n",
    "        print('这是pass语句，是一个空语句，什么都不执行！')\n",
    "    print('当前字母：',letter)\n",
    "print(\"程序执行完毕，Good bye\")\n"
   ]
  },
  {
   "cell_type": "code",
   "execution_count": 101,
   "metadata": {},
   "outputs": [],
   "source": [
    "list1=['Google','Runoob',1997,2000];\n",
    "list2=[1,2,3,4,5];\n",
    "list3=[\"a\",\"b\",\"c\",\"d\"];"
   ]
  },
  {
   "cell_type": "code",
   "execution_count": 103,
   "metadata": {},
   "outputs": [
    {
     "ename": "TypeError",
     "evalue": "'list' object is not callable",
     "output_type": "error",
     "traceback": [
      "\u001b[1;31m---------------------------------------------------------------------------\u001b[0m",
      "\u001b[1;31mTypeError\u001b[0m                                 Traceback (most recent call last)",
      "\u001b[1;32m<ipython-input-103-166a7d32429d>\u001b[0m in \u001b[0;36m<module>\u001b[1;34m\u001b[0m\n\u001b[1;32m----> 1\u001b[1;33m \u001b[0mnumbers\u001b[0m\u001b[1;33m=\u001b[0m\u001b[0mlist\u001b[0m\u001b[1;33m(\u001b[0m\u001b[0mrange\u001b[0m\u001b[1;33m(\u001b[0m\u001b[1;36m1\u001b[0m\u001b[1;33m,\u001b[0m\u001b[1;36m4\u001b[0m\u001b[1;33m)\u001b[0m\u001b[1;33m)\u001b[0m\u001b[1;33m\u001b[0m\u001b[1;33m\u001b[0m\u001b[0m\n\u001b[0m\u001b[0;32m      2\u001b[0m \u001b[0mprint\u001b[0m\u001b[1;33m(\u001b[0m\u001b[0mnumbers\u001b[0m\u001b[1;33m)\u001b[0m\u001b[1;33m\u001b[0m\u001b[1;33m\u001b[0m\u001b[0m\n",
      "\u001b[1;31mTypeError\u001b[0m: 'list' object is not callable"
     ]
    }
   ],
   "source": [
    "numbers=list(range(1,4))\n",
    "print(numbers)"
   ]
  },
  {
   "cell_type": "code",
   "execution_count": 106,
   "metadata": {},
   "outputs": [
    {
     "name": "stdout",
     "output_type": "stream",
     "text": [
      "0\n",
      "2\n",
      "一轮结束\n",
      "1\n",
      "3\n",
      "一轮结束\n",
      "2\n",
      "4\n",
      "一轮结束\n",
      "3\n",
      "5\n",
      "一轮结束\n",
      "4\n",
      "6\n",
      "一轮结束\n"
     ]
    }
   ],
   "source": [
    "for i in range (5):\n",
    "    print(i)\n",
    "    i+=2\n",
    "    print (i)\n",
    "    print('一轮结束')"
   ]
  },
  {
   "cell_type": "code",
   "execution_count": 112,
   "metadata": {},
   "outputs": [
    {
     "name": "stdout",
     "output_type": "stream",
     "text": [
      "list1[0]: Google\n",
      "list2[1：5]: [2, 3, 4, 5]\n"
     ]
    }
   ],
   "source": [
    "list1=['Google','baidu',1997,2000];\n",
    "list2=[1,2,3,4,5,6,7];\n",
    "print(\"list1[0]:\",list1[0])\n",
    "print(\"list2[1：5]:\",list2[1:5])"
   ]
  },
  {
   "cell_type": "code",
   "execution_count": 113,
   "metadata": {},
   "outputs": [
    {
     "name": "stdout",
     "output_type": "stream",
     "text": [
      "lingzhi\n"
     ]
    }
   ],
   "source": [
    "car=['audi','bmw','benchi','lingzhi']\n",
    "print(car[-1])"
   ]
  },
  {
   "cell_type": "code",
   "execution_count": 115,
   "metadata": {},
   "outputs": [
    {
     "name": "stdout",
     "output_type": "stream",
     "text": [
      "我人生中第一辆汽车是: 奥迪.\n"
     ]
    }
   ],
   "source": [
    "car=['奥迪','宝马','奔驰','雷克萨斯']\n",
    "message=\"我人生中第一辆汽车是: \" +car[0].title()+\".\"\n",
    "print(message)"
   ]
  },
  {
   "cell_type": "code",
   "execution_count": 120,
   "metadata": {},
   "outputs": [
    {
     "name": "stdout",
     "output_type": "stream",
     "text": [
      "宝马,是好车，值得您拥有！\n",
      "我想看看下面还有什么好车!,宝马.\n",
      "\n",
      "奔驰,是好车，值得您拥有！\n",
      "我想看看下面还有什么好车!,奔驰.\n",
      "\n",
      "奥迪,是好车，值得您拥有！\n",
      "我想看看下面还有什么好车!,奥迪.\n",
      "\n",
      "都是好车啊，随便给我一辆就行！\n"
     ]
    }
   ],
   "source": [
    "magicians = ['宝马','奔驰','奥迪']\n",
    "for magician in magicians:\n",
    "    print(magician.title() + \",是好车，值得您拥有！\")\n",
    "    print(\"我想看看下面还有什么好车!,\" + magician.title() +\".\\n\")\n",
    "print(\"都是好车啊，随便给我一辆就行！\")"
   ]
  },
  {
   "cell_type": "code",
   "execution_count": 122,
   "metadata": {},
   "outputs": [
    {
     "name": "stdout",
     "output_type": "stream",
     "text": [
      "['奥迪', '宝马', '奔驰', '雷克萨斯']\n",
      "['沃尔沃', '宝马', '奔驰', '雷克萨斯']\n"
     ]
    }
   ],
   "source": [
    "car = ['奥迪','宝马','奔驰','雷克萨斯']\n",
    "print(car)\n",
    "car[0] = '沃尔沃'\n",
    "print(car)"
   ]
  },
  {
   "cell_type": "code",
   "execution_count": 123,
   "metadata": {},
   "outputs": [
    {
     "name": "stdout",
     "output_type": "stream",
     "text": [
      "['奥迪', '宝马', '奔驰', '雷克萨斯']\n",
      "['凯迪拉克', '奥迪', '宝马', '奔驰', '雷克萨斯']\n"
     ]
    }
   ],
   "source": [
    "car = ['奥迪','宝马','奔驰','雷克萨斯']\n",
    "print(car)\n",
    "car.insert(0,'凯迪拉克')\n",
    "print(car)"
   ]
  },
  {
   "cell_type": "code",
   "execution_count": 124,
   "metadata": {},
   "outputs": [
    {
     "name": "stdout",
     "output_type": "stream",
     "text": [
      "['奥迪', '宝马', '奔驰', '雷克萨斯']\n",
      "['奥迪', '宝马', '奔驰', '雷克萨斯', '凯迪拉克']\n"
     ]
    }
   ],
   "source": [
    "car = ['奥迪','宝马','奔驰','雷克萨斯']\n",
    "print(car)\n",
    "car.append('凯迪拉克')\n",
    "print(car)"
   ]
  },
  {
   "cell_type": "code",
   "execution_count": 125,
   "metadata": {},
   "outputs": [
    {
     "name": "stdout",
     "output_type": "stream",
     "text": [
      "['AA', 'BB', 'CC']\n"
     ]
    }
   ],
   "source": [
    "car=[]\n",
    "car.append('AA')\n",
    "car.append('BB')\n",
    "car.append('CC')\n",
    "print(car)"
   ]
  },
  {
   "cell_type": "code",
   "execution_count": 126,
   "metadata": {},
   "outputs": [
    {
     "name": "stdout",
     "output_type": "stream",
     "text": [
      "['奥迪', '宝马', '奔驰', '雷克萨斯']\n",
      "['宝马', '奔驰', '雷克萨斯']\n"
     ]
    }
   ],
   "source": [
    "car = ['奥迪','宝马','奔驰','雷克萨斯']\n",
    "print(car)\n",
    "del car[0]\n",
    "print(car)"
   ]
  },
  {
   "cell_type": "code",
   "execution_count": 127,
   "metadata": {},
   "outputs": [
    {
     "name": "stdout",
     "output_type": "stream",
     "text": [
      "['奥迪', '宝马', '奔驰', '雷克萨斯']\n",
      "['奥迪', '奔驰', '雷克萨斯']\n"
     ]
    }
   ],
   "source": [
    "car = ['奥迪','宝马','奔驰','雷克萨斯']\n",
    "print(car)\n",
    "car.pop(1)\n",
    "print(car)"
   ]
  },
  {
   "cell_type": "code",
   "execution_count": 129,
   "metadata": {},
   "outputs": [
    {
     "ename": "SyntaxError",
     "evalue": "EOL while scanning string literal (<ipython-input-129-be352e672389>, line 1)",
     "output_type": "error",
     "traceback": [
      "\u001b[1;36m  File \u001b[1;32m\"<ipython-input-129-be352e672389>\"\u001b[1;36m, line \u001b[1;32m1\u001b[0m\n\u001b[1;33m    car = ['奥迪','宝马','奔驰'']\u001b[0m\n\u001b[1;37m                           ^\u001b[0m\n\u001b[1;31mSyntaxError\u001b[0m\u001b[1;31m:\u001b[0m EOL while scanning string literal\n"
     ]
    }
   ],
   "source": [
    "car = ['奥迪','宝马','奔驰'']\n",
    "first_owned = car.pop(0)\n",
    "print('我人生的第一辆汽车是： '+ first_owned.title() + '!')\n",
    "print(car)"
   ]
  },
  {
   "cell_type": "code",
   "execution_count": 134,
   "metadata": {},
   "outputs": [
    {
     "name": "stdout",
     "output_type": "stream",
     "text": [
      "['奥迪', '宝马', '奔驰']\n",
      "['奥迪', '奔驰']\n"
     ]
    }
   ],
   "source": [
    "car = ['奥迪','宝马','奔驰']\n",
    "print(car)\n",
    "car.remove('宝马')\n",
    "print(car)"
   ]
  },
  {
   "cell_type": "code",
   "execution_count": 135,
   "metadata": {},
   "outputs": [
    {
     "name": "stdout",
     "output_type": "stream",
     "text": [
      "['AA', 'BB', 'CC', 'DD']\n",
      "['BB', 'CC', 'DD']\n",
      "\n",
      "AAais too expensive for me\n"
     ]
    }
   ],
   "source": [
    "car = ['AA','BB','CC','DD']\n",
    "print(car)\n",
    "too_expensive = 'AA'\n",
    "car.remove(too_expensive)\n",
    "print(car)\n",
    "print(\"\\nA\" + too_expensive.title() + \"is too expensive for me\")"
   ]
  },
  {
   "cell_type": "code",
   "execution_count": 136,
   "metadata": {},
   "outputs": [
    {
     "name": "stdout",
     "output_type": "stream",
     "text": [
      "['奔驰', '奥迪', '宝马', '雷克萨斯']\n"
     ]
    }
   ],
   "source": [
    "car = ['奥迪','宝马','奔驰','雷克萨斯']\n",
    "car.sort()\n",
    "print(car)"
   ]
  },
  {
   "cell_type": "code",
   "execution_count": 137,
   "metadata": {},
   "outputs": [
    {
     "name": "stdout",
     "output_type": "stream",
     "text": [
      "列表中原来的排列顺序是：\n",
      "['benchi', 'baoma', 'aodi', 'leikesasi']\n",
      "\n",
      "经过排列处理后的顺序：\n",
      "['aodi', 'baoma', 'benchi', 'leikesasi']\n",
      "\n",
      "再次显示列表中原来的排列顺序是：\n",
      "['benchi', 'baoma', 'aodi', 'leikesasi']\n"
     ]
    }
   ],
   "source": [
    "cars=['benchi','baoma','aodi','leikesasi']\n",
    "print(\"列表中原来的排列顺序是：\")\n",
    "print(cars)\n",
    "print(\"\\n经过排列处理后的顺序：\")\n",
    "print(sorted(cars))\n",
    "print(\"\\n再次显示列表中原来的排列顺序是：\")\n",
    "print(cars)"
   ]
  },
  {
   "cell_type": "code",
   "execution_count": 138,
   "metadata": {},
   "outputs": [
    {
     "name": "stdout",
     "output_type": "stream",
     "text": [
      "列表中原来的排列顺序是：\n",
      "['benchi', 'baoma', 'aodi', 'leikesasi']\n",
      "\n",
      "经过排列处理后的顺序：\n",
      "['benchi', 'baoma', 'aodi', 'leikesasi']\n",
      "\n",
      "再次显示列表中原来的排列顺序是：\n",
      "['benchi', 'baoma', 'aodi', 'leikesasi']\n"
     ]
    }
   ],
   "source": [
    "cars=['benchi','baoma','aodi','leikesasi']\n",
    "print(\"列表中原来的排列顺序是：\")\n",
    "print(cars)\n",
    "print(\"\\n经过排列处理后的顺序：\")\n",
    "cars.reverse\n",
    "print(cars)\n",
    "print(\"\\n再次显示列表中原来的排列顺序是：\")\n",
    "print(cars)"
   ]
  },
  {
   "cell_type": "code",
   "execution_count": 140,
   "metadata": {},
   "outputs": [
    {
     "name": "stdout",
     "output_type": "stream",
     "text": [
      "3\n"
     ]
    }
   ],
   "source": [
    "list1=['谷歌','百度','苹果']\n",
    "print(len(list1))\n"
   ]
  },
  {
   "cell_type": "code",
   "execution_count": 141,
   "metadata": {},
   "outputs": [
    {
     "name": "stdout",
     "output_type": "stream",
     "text": [
      "taobao\n",
      "baidu\n",
      "['baidu', 'taobao']\n",
      "[1, 4, 9, 16, 25, 36, 49, 64, 81, 100]\n"
     ]
    }
   ],
   "source": [
    "L=['google','baidu','taobao']\n",
    "print(L[2])\n",
    "print(L[-2])\n",
    "print(L[1:])\n",
    "squares=[1,4,9,16,25]\n",
    "print(squares + [36,49,64,81,100])\n"
   ]
  },
  {
   "cell_type": "code",
   "execution_count": 143,
   "metadata": {},
   "outputs": [
    {
     "name": "stdout",
     "output_type": "stream",
     "text": [
      "[['a', 'b', 'c'], [1, 2, 3]]\n",
      "['a', 'b', 'c']\n",
      "b\n"
     ]
    }
   ],
   "source": [
    "a=['a','b','c']\n",
    "n=[1,2,3]\n",
    "x=[a,n]\n",
    "print(x)\n",
    "print(x[0])\n",
    "print(x[0][1])"
   ]
  },
  {
   "cell_type": "code",
   "execution_count": 144,
   "metadata": {},
   "outputs": [
    {
     "name": "stdout",
     "output_type": "stream",
     "text": [
      "list1最大元素值： Taobao\n",
      "list2最大元素值： 700\n",
      "list1最小元素值： Apple\n",
      "list2最小元素值： 200\n"
     ]
    }
   ],
   "source": [
    "list1,list2=['Google','Apple','Taobao'],[456,700,200]\n",
    "print(\"list1最大元素值：\",max(list1))\n",
    "print(\"list2最大元素值：\",max(list2))\n",
    "print(\"list1最小元素值：\",min(list1))\n",
    "print(\"list2最小元素值：\",min(list2))"
   ]
  },
  {
   "cell_type": "code",
   "execution_count": 145,
   "metadata": {},
   "outputs": [
    {
     "ename": "TypeError",
     "evalue": "'list' object is not callable",
     "output_type": "error",
     "traceback": [
      "\u001b[1;31m---------------------------------------------------------------------------\u001b[0m",
      "\u001b[1;31mTypeError\u001b[0m                                 Traceback (most recent call last)",
      "\u001b[1;32m<ipython-input-145-1a3554f89a20>\u001b[0m in \u001b[0;36m<module>\u001b[1;34m\u001b[0m\n\u001b[0;32m      1\u001b[0m \u001b[0mlist1\u001b[0m\u001b[1;33m=\u001b[0m\u001b[1;33m[\u001b[0m\u001b[1;34m'Google'\u001b[0m\u001b[1;33m,\u001b[0m\u001b[1;34m'Apple'\u001b[0m\u001b[1;33m,\u001b[0m\u001b[1;34m'Taobao'\u001b[0m\u001b[1;33m]\u001b[0m\u001b[1;33m\u001b[0m\u001b[1;33m\u001b[0m\u001b[0m\n\u001b[1;32m----> 2\u001b[1;33m \u001b[0mlist2\u001b[0m\u001b[1;33m=\u001b[0m\u001b[0mlist\u001b[0m\u001b[1;33m(\u001b[0m\u001b[0mrange\u001b[0m\u001b[1;33m(\u001b[0m\u001b[1;36m5\u001b[0m\u001b[1;33m)\u001b[0m\u001b[1;33m)\u001b[0m\u001b[1;33m\u001b[0m\u001b[1;33m\u001b[0m\u001b[0m\n\u001b[0m\u001b[0;32m      3\u001b[0m \u001b[0mlist\u001b[0m\u001b[1;33m.\u001b[0m\u001b[0mextend\u001b[0m\u001b[1;33m(\u001b[0m\u001b[0mlist2\u001b[0m\u001b[1;33m)\u001b[0m\u001b[1;33m\u001b[0m\u001b[1;33m\u001b[0m\u001b[0m\n\u001b[0;32m      4\u001b[0m \u001b[0mprint\u001b[0m\u001b[1;33m(\u001b[0m\u001b[1;34m\"扩展后的列表：\"\u001b[0m\u001b[1;33m,\u001b[0m\u001b[0mlist1\u001b[0m\u001b[1;33m)\u001b[0m\u001b[1;33m\u001b[0m\u001b[1;33m\u001b[0m\u001b[0m\n",
      "\u001b[1;31mTypeError\u001b[0m: 'list' object is not callable"
     ]
    }
   ],
   "source": [
    "list1=['Google','Apple','Taobao']\n",
    "list2=list(range(5))\n",
    "list.extend(list2)\n",
    "print(\"扩展后的列表：\",list1)"
   ]
  },
  {
   "cell_type": "code",
   "execution_count": 146,
   "metadata": {},
   "outputs": [
    {
     "name": "stdout",
     "output_type": "stream",
     "text": [
      "列表已经被清空，现在还有元素： []\n"
     ]
    }
   ],
   "source": [
    "list1=[123,'Google','Runoob','Taobao','Baidu',456]\n",
    "list1.clear()\n",
    "print(\"列表已经被清空，现在还有元素：\",list1)\n",
    "\n"
   ]
  },
  {
   "cell_type": "code",
   "execution_count": 154,
   "metadata": {},
   "outputs": [
    {
     "name": "stdout",
     "output_type": "stream",
     "text": [
      "list2列表中的元素是从列表list1复制而来的： ['Google', 'Runoob', 'Taobao', 'Baidu']\n"
     ]
    }
   ],
   "source": [
    "list1=['Google','Runoob','Taobao','Baidu']\n",
    "list2=list1.copy()\n",
    "print(\"list2列表中的元素是从列表list1复制而来的：\",list2)\n",
    "\n"
   ]
  },
  {
   "cell_type": "code",
   "execution_count": 155,
   "metadata": {},
   "outputs": [
    {
     "name": "stdout",
     "output_type": "stream",
     "text": [
      "Apple的索引值为 1\n",
      "Taobao的索引值为 2\n",
      "Baidu的索引值为 3\n",
      "Google的索引值为 0\n"
     ]
    }
   ],
   "source": [
    "list1=['Google','Apple','Taobao','Baidu']\n",
    "print('Apple的索引值为',list1.index('Apple'))\n",
    "print('Taobao的索引值为',list1.index('Taobao'))\n",
    "print('Baidu的索引值为',list1.index('Baidu'))\n",
    "print('Google的索引值为',list1.index('Google'))"
   ]
  },
  {
   "cell_type": "code",
   "execution_count": 156,
   "metadata": {},
   "outputs": [
    {
     "name": "stdout",
     "output_type": "stream",
     "text": [
      "语文成绩是： 99\n",
      "数学成绩是： 99\n",
      "英语成绩是： 99\n"
     ]
    }
   ],
   "source": [
    "dict={'数学':'99','语文':'99','英语':'99'}\n",
    "print(\"语文成绩是：\",dict['语文'])\n",
    "print(\"数学成绩是：\",dict['数学'])\n",
    "print(\"英语成绩是：\",dict['英语'])"
   ]
  },
  {
   "cell_type": "code",
   "execution_count": 157,
   "metadata": {},
   "outputs": [
    {
     "name": "stdout",
     "output_type": "stream",
     "text": [
      "{'Age': 7, 'Class': 'First'}\n"
     ]
    }
   ],
   "source": [
    "dict={'Name':'Topper','Age':7,'Class':'First'}\n",
    "del dict['Name']\n",
    "print(dict)"
   ]
  },
  {
   "cell_type": "code",
   "execution_count": 159,
   "metadata": {},
   "outputs": [
    {
     "name": "stdout",
     "output_type": "stream",
     "text": [
      "{'name': 'Topper', 'age': 7, 'Clase': 'First'}\n"
     ]
    }
   ],
   "source": [
    "dict={}\n",
    "dict['name']='Topper'\n",
    "dict['age']=7\n",
    "dict['Clase']='First'\n",
    "print(dict)"
   ]
  },
  {
   "cell_type": "code",
   "execution_count": 160,
   "metadata": {},
   "outputs": [
    {
     "name": "stdout",
     "output_type": "stream",
     "text": [
      "3\n",
      "{'Name': 'Topper', 'Age': 7, 'Class': 'First'}\n",
      "<class 'dict'>\n"
     ]
    }
   ],
   "source": [
    "dict={'Name':'Topper','Age':7,'Class':'First'}\n",
    "print(len(dict))\n",
    "print(str(dict))\n",
    "print(type(dict))"
   ]
  },
  {
   "cell_type": "code",
   "execution_count": 161,
   "metadata": {},
   "outputs": [
    {
     "ename": "TypeError",
     "evalue": "'list' object is not callable",
     "output_type": "error",
     "traceback": [
      "\u001b[1;31m---------------------------------------------------------------------------\u001b[0m",
      "\u001b[1;31mTypeError\u001b[0m                                 Traceback (most recent call last)",
      "\u001b[1;32m<ipython-input-161-856aaf3deddb>\u001b[0m in \u001b[0;36m<module>\u001b[1;34m\u001b[0m\n\u001b[0;32m      1\u001b[0m \u001b[0mdict\u001b[0m\u001b[1;33m=\u001b[0m\u001b[1;33m{\u001b[0m\u001b[1;34m'Sex'\u001b[0m\u001b[1;33m:\u001b[0m\u001b[1;34m'female'\u001b[0m\u001b[1;33m,\u001b[0m\u001b[1;34m'Age'\u001b[0m\u001b[1;33m:\u001b[0m\u001b[1;36m7\u001b[0m\u001b[1;33m,\u001b[0m\u001b[1;34m'Name'\u001b[0m\u001b[1;33m:\u001b[0m\u001b[1;34m'Zara'\u001b[0m\u001b[1;33m}\u001b[0m\u001b[1;33m\u001b[0m\u001b[1;33m\u001b[0m\u001b[0m\n\u001b[1;32m----> 2\u001b[1;33m \u001b[0mprint\u001b[0m\u001b[1;33m(\u001b[0m\u001b[1;34m\"字典中所有的值为： \"\u001b[0m\u001b[1;33m,\u001b[0m\u001b[0mlist\u001b[0m\u001b[1;33m(\u001b[0m\u001b[0mdict\u001b[0m\u001b[1;33m.\u001b[0m\u001b[0mvalues\u001b[0m\u001b[1;33m(\u001b[0m\u001b[1;33m)\u001b[0m\u001b[1;33m)\u001b[0m\u001b[1;33m)\u001b[0m\u001b[1;33m\u001b[0m\u001b[1;33m\u001b[0m\u001b[0m\n\u001b[0m",
      "\u001b[1;31mTypeError\u001b[0m: 'list' object is not callable"
     ]
    }
   ],
   "source": [
    "dict={'Sex':'female','Age':7,'Name':'Zara'}\n",
    "print(\"字典中所有的值为： \",list(dict.values()))"
   ]
  },
  {
   "cell_type": "code",
   "execution_count": 165,
   "metadata": {},
   "outputs": [
    {
     "name": "stdout",
     "output_type": "stream",
     "text": [
      "字典删除后长度： 2\n"
     ]
    }
   ],
   "source": [
    "dict={'Name':'Zara','Age':7}\n",
    "dict.clear\n",
    "print(\"字典删除后长度： %d\"% len(dict))"
   ]
  },
  {
   "cell_type": "code",
   "execution_count": 166,
   "metadata": {},
   "outputs": [
    {
     "name": "stdout",
     "output_type": "stream",
     "text": [
      "新复制的字典为： {'Name': 'Topper', 'Age': 7, 'Class': 'First'}\n"
     ]
    }
   ],
   "source": [
    "dict1={'Name':'Topper','Age':7,'Class':'First'}\n",
    "dict2=dict1.copy()\n",
    "print(\"新复制的字典为：\",dict2)"
   ]
  },
  {
   "cell_type": "code",
   "execution_count": 168,
   "metadata": {},
   "outputs": [
    {
     "name": "stdout",
     "output_type": "stream",
     "text": [
      "Age值为： 7\n"
     ]
    }
   ],
   "source": [
    "dict={'Name':'Zara','Age':7}\n",
    "print(\"Age值为： %s\"% dict.get('Age'))\n"
   ]
  },
  {
   "cell_type": "code",
   "execution_count": 169,
   "metadata": {},
   "outputs": [
    {
     "name": "stdout",
     "output_type": "stream",
     "text": [
      "Sex值为： NA\n"
     ]
    }
   ],
   "source": [
    "dict={'Name':'Zara','Age':7}\n",
    "print(\"Sex值为： %s\"% dict.get('Sex',\"NA\"))\n"
   ]
  },
  {
   "cell_type": "code",
   "execution_count": 170,
   "metadata": {},
   "outputs": [
    {
     "name": "stdout",
     "output_type": "stream",
     "text": [
      "更新字典dict：  {'Name': 'Zara', 'Age': 7, 'Sex': 'female'}\n"
     ]
    }
   ],
   "source": [
    "dict={'Name':'Zara','Age':7}\n",
    "dict2={'Sex':'female'}\n",
    "dict.update(dict2)\n",
    "print(\"更新字典dict： \",dict)"
   ]
  },
  {
   "cell_type": "code",
   "execution_count": 171,
   "metadata": {},
   "outputs": [
    {
     "name": "stdout",
     "output_type": "stream",
     "text": [
      "hello world\n"
     ]
    }
   ],
   "source": [
    "def hello() :\n",
    "    print(\"hello world\")\n",
    "hello()"
   ]
  },
  {
   "cell_type": "code",
   "execution_count": 181,
   "metadata": {},
   "outputs": [
    {
     "name": "stdout",
     "output_type": "stream",
     "text": [
      "我是中国人\n"
     ]
    }
   ],
   "source": [
    "def printme (str):\n",
    "    \"打印任何传入的字符串\"\n",
    "    print (str);\n",
    "    return;\n",
    "printme (str=\"我是中国人\");"
   ]
  },
  {
   "cell_type": "code",
   "execution_count": 182,
   "metadata": {},
   "outputs": [
    {
     "name": "stdout",
     "output_type": "stream",
     "text": [
      "Python教程\n"
     ]
    }
   ],
   "source": [
    "def printme (str):\n",
    "    \"打印任何传入的字符串\"\n",
    "    print (str);\n",
    "    return;\n",
    "printme (str=\"Python教程\");"
   ]
  },
  {
   "cell_type": "code",
   "execution_count": 183,
   "metadata": {},
   "outputs": [
    {
     "name": "stdout",
     "output_type": "stream",
     "text": [
      "名字： Toppr\n",
      "年龄： 50\n"
     ]
    }
   ],
   "source": [
    "def printinfo(name,age):\n",
    "    \"打印任何传入的字符串\"\n",
    "    print(\"名字：\",name);\n",
    "    print(\"年龄：\",age);\n",
    "    return;\n",
    "printinfo(age=50,name=\"Toppr\");\n",
    "    "
   ]
  },
  {
   "cell_type": "code",
   "execution_count": 186,
   "metadata": {},
   "outputs": [
    {
     "name": "stdout",
     "output_type": "stream",
     "text": [
      "浪潮软件\n"
     ]
    }
   ],
   "source": [
    "def get_name(first_name,last_name):\n",
    "    full_name=first_name+''+last_name\n",
    "    return full_name.title()\n",
    "jiandan=get_name('浪潮','软件')\n",
    "print(jiandan)\n"
   ]
  },
  {
   "cell_type": "code",
   "execution_count": 190,
   "metadata": {},
   "outputs": [
    {
     "name": "stdout",
     "output_type": "stream",
     "text": [
      "中国集团浪潮\n"
     ]
    }
   ],
   "source": [
    "def get_name(first_name,last_name,middle_name):\n",
    "    \"\"\"返回一个简单的值\"\"\"\n",
    "    full_name=first_name+''+middle_name+''+last_name\n",
    "    return full_name.title()\n",
    "jiandan=get_name('中国','浪潮','集团')\n",
    "print(jiandan)"
   ]
  },
  {
   "cell_type": "code",
   "execution_count": 191,
   "metadata": {},
   "outputs": [
    {
     "name": "stdout",
     "output_type": "stream",
     "text": [
      "{'first': '浪潮', 'last': '软件', 'age': 33}\n"
     ]
    }
   ],
   "source": [
    "def person(first_name,last_name,age=''):\n",
    "    \"\"\"截止到2016年，浪潮软件成立33年了（返回一个字典）\"\"\"\n",
    "    person={'first':first_name,'last':last_name}\n",
    "    if age:\n",
    "        person['age']=age\n",
    "    return person\n",
    "musician=person('浪潮','软件',age=33)\n",
    "print(musician)\n"
   ]
  },
  {
   "cell_type": "code",
   "execution_count": 192,
   "metadata": {},
   "outputs": [
    {
     "name": "stdout",
     "output_type": "stream",
     "text": [
      "全局作用域a: external\n",
      "函数内a: 3\n",
      "全局作用域a: external\n"
     ]
    }
   ],
   "source": [
    "def myfun():\n",
    "    a=0\n",
    "    a+=3\n",
    "    print('函数内a:',a)\n",
    "a='external'\n",
    "print('全局作用域a:',a)\n",
    "myfun()\n",
    "print('全局作用域a:',a)"
   ]
  },
  {
   "cell_type": "code",
   "execution_count": 193,
   "metadata": {},
   "outputs": [
    {
     "name": "stdout",
     "output_type": "stream",
     "text": [
      "全局作用域a: external\n",
      "函数内a: 3\n",
      "全局作用域a: 3\n"
     ]
    }
   ],
   "source": [
    "def myfun():\n",
    "    global a\n",
    "    a=0\n",
    "    a+=3\n",
    "    print('函数内a:',a)\n",
    "a='external'\n",
    "print('全局作用域a:',a)\n",
    "myfun()\n",
    "print('全局作用域a:',a)"
   ]
  },
  {
   "cell_type": "code",
   "execution_count": 198,
   "metadata": {},
   "outputs": [],
   "source": [
    "def users(names):\n",
    "    \"\"\"向我的每一位好友打一个招呼：\"\"\"\n",
    "    for name in names:\n",
    "        msg=\"hello,\"+ name.title() + \"!\"\n",
    "        print(msg)\n",
    "    usernames=['雨夜','好人','落雪飞花']\n",
    "    users(usernames)\n",
    "    "
   ]
  },
  {
   "cell_type": "code",
   "execution_count": 200,
   "metadata": {},
   "outputs": [
    {
     "name": "stdout",
     "output_type": "stream",
     "text": [
      "相加后的值为： 30\n",
      "相加后的值为： 40\n"
     ]
    }
   ],
   "source": [
    "sum=lambda arg1,arg2:arg1+arg2;\n",
    "print(\"相加后的值为：\",sum(10,20))\n",
    "print(\"相加后的值为：\",sum(20,20))"
   ]
  },
  {
   "cell_type": "code",
   "execution_count": 201,
   "metadata": {},
   "outputs": [],
   "source": [
    "def printinfo(arg1,*vartuple):\n",
    "    \"显示任何传入的参数\"\n",
    "    print(\"输出：\")\n",
    "    print(arg1)\n",
    "    for var in vartuple:\n",
    "        print(var)\n",
    "    return;"
   ]
  },
  {
   "cell_type": "code",
   "execution_count": 207,
   "metadata": {},
   "outputs": [
    {
     "name": "stdout",
     "output_type": "stream",
     "text": [
      "类MyClass中的属性i为： 12345\n",
      "类MyClass中的方法f输出为： hello world\n"
     ]
    }
   ],
   "source": [
    "class MyClass:\n",
    "    \"\"\"一个简单的类实例.\"\"\"\n",
    "    i = 12345\n",
    "    def f(self):\n",
    "        return 'hello world'\n",
    "x=MyClass()\n",
    "print(\"类MyClass中的属性i为：\",x.i)\n",
    "print(\"类MyClass中的方法f输出为：\",x.f())"
   ]
  },
  {
   "cell_type": "code",
   "execution_count": null,
   "metadata": {},
   "outputs": [],
   "source": []
  }
 ],
 "metadata": {
  "kernelspec": {
   "display_name": "Python 3",
   "language": "python",
   "name": "python3"
  },
  "language_info": {
   "codemirror_mode": {
    "name": "ipython",
    "version": 3
   },
   "file_extension": ".py",
   "mimetype": "text/x-python",
   "name": "python",
   "nbconvert_exporter": "python",
   "pygments_lexer": "ipython3",
   "version": "3.8.5"
  }
 },
 "nbformat": 4,
 "nbformat_minor": 4
}
