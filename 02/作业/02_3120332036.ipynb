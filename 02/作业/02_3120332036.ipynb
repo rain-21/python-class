{
 "cells": [
  {
   "cell_type": "code",
   "execution_count": 3,
   "metadata": {},
   "outputs": [
    {
     "data": {
      "text/plain": [
       "'C:\\\\Users\\\\huawei\\\\anaconda3\\\\python.exe'"
      ]
     },
     "execution_count": 3,
     "metadata": {},
     "output_type": "execute_result"
    }
   ],
   "source": [
    "import sys\n",
    "sys.executable"
   ]
  },
  {
   "cell_type": "code",
   "execution_count": 4,
   "metadata": {},
   "outputs": [
    {
     "data": {
      "text/plain": [
       "['C:\\\\Users\\\\huawei\\\\anaconda3\\\\lib\\\\site-packages\\\\ipykernel_launcher.py',\n",
       " '-f',\n",
       " 'C:\\\\Users\\\\huawei\\\\AppData\\\\Roaming\\\\jupyter\\\\runtime\\\\kernel-e896d750-b5ae-4562-b79b-72006df71b91.json']"
      ]
     },
     "execution_count": 4,
     "metadata": {},
     "output_type": "execute_result"
    }
   ],
   "source": [
    "sys.argv"
   ]
  },
  {
   "cell_type": "code",
   "execution_count": 6,
   "metadata": {},
   "outputs": [
    {
     "name": "stdout",
     "output_type": "stream",
     "text": [
      "arg1:Zed,arg2:Shaw\n",
      "arg1:Zed,arg2:Shaw\n",
      "arg1:First!\n",
      "I got nothing.\n"
     ]
    }
   ],
   "source": [
    "def print_two(*args):\n",
    "    arg1,arg2=args\n",
    "    print(f\"arg1:{arg1},arg2:{arg2}\")\n",
    "def print_two_again(arg1,arg2):\n",
    "    print(f\"arg1:{arg1},arg2:{arg2}\")\n",
    "def print_one(arg1):\n",
    "    print(f\"arg1:{arg1}\")\n",
    "def print_none():\n",
    "    print(\"I got nothing.\")\n",
    "\n",
    "print_two(\"Zed\",\"Shaw\")\n",
    "print_two_again(\"Zed\",\"Shaw\")\n",
    "print_one(\"First!\")\n",
    "print_none()"
   ]
  },
  {
   "cell_type": "code",
   "execution_count": 6,
   "metadata": {},
   "outputs": [
    {
     "name": "stdout",
     "output_type": "stream",
     "text": [
      "We can just give the function numbers directly:\n",
      "You have 20 cheeses!\n",
      "You have 30 boxes of crackers!\n",
      "Man that's enough for a party!\n",
      "Get a blanket.\n",
      "\n",
      "OR,we can use variables from our script:\n",
      "You have 10 cheeses!\n",
      "You have 50 boxes of crackers!\n",
      "Man that's enough for a party!\n",
      "Get a blanket.\n",
      "\n",
      "We can even do math inside too:\n",
      "You have 30 cheeses!\n",
      "You have 11 boxes of crackers!\n",
      "Man that's enough for a party!\n",
      "Get a blanket.\n",
      "\n",
      "And we can combine the two, variables and math:\n",
      "You have 110 cheeses!\n",
      "You have 1050 boxes of crackers!\n",
      "Man that's enough for a party!\n",
      "Get a blanket.\n",
      "\n"
     ]
    }
   ],
   "source": [
    "def cheese_and_crackers(cheese_count,boxes_of_crackers):\n",
    "    print(f\"You have {cheese_count} cheeses!\")\n",
    "    print(f\"You have {boxes_of_crackers} boxes of crackers!\")\n",
    "    print(\"Man that's enough for a party!\")\n",
    "    print(\"Get a blanket.\\n\")\n",
    "    \n",
    "print(\"We can just give the function numbers directly:\")\n",
    "cheese_and_crackers(20,30)\n",
    "\n",
    "print(\"OR,we can use variables from our script:\")\n",
    "amount_of_cheese=10\n",
    "amount_of_crackers=50\n",
    "\n",
    "cheese_and_crackers(amount_of_cheese,amount_of_crackers)\n",
    "\n",
    "print(\"We can even do math inside too:\")\n",
    "cheese_and_crackers(10+20,5+6)\n",
    "\n",
    "print(\"And we can combine the two, variables and math:\")\n",
    "cheese_and_crackers(amount_of_cheese+100,amount_of_crackers+1000)"
   ]
  },
  {
   "cell_type": "code",
   "execution_count": 9,
   "metadata": {},
   "outputs": [
    {
     "name": "stdout",
     "output_type": "stream",
     "text": [
      "Here's your file sample.txt:\n",
      "Lucy    绛惧埌\n",
      "Lily    绛惧埌\n",
      "Jame    绛惧埌\n"
     ]
    }
   ],
   "source": [
    "filename='sample.txt'\n",
    "txt=open(filename)\n",
    "\n",
    "print(f\"Here's your file {filename}:\")\n",
    "print(txt.read())\n",
    "txt.close()"
   ]
  },
  {
   "cell_type": "code",
   "execution_count": 10,
   "metadata": {},
   "outputs": [
    {
     "name": "stdout",
     "output_type": "stream",
     "text": [
      "Truncating the file.Goodbye!\n",
      "Now I'm going to ask you for three lines.\n"
     ]
    },
    {
     "ename": "KeyboardInterrupt",
     "evalue": "Interrupted by user",
     "output_type": "error",
     "traceback": [
      "\u001b[1;31m---------------------------------------------------------------------------\u001b[0m",
      "\u001b[1;31mKeyboardInterrupt\u001b[0m                         Traceback (most recent call last)",
      "\u001b[1;32m<ipython-input-10-3d93bf8bc812>\u001b[0m in \u001b[0;36m<module>\u001b[1;34m\u001b[0m\n\u001b[0;32m      4\u001b[0m \u001b[0mprint\u001b[0m\u001b[1;33m(\u001b[0m\u001b[1;34m\"Now I'm going to ask you for three lines.\"\u001b[0m\u001b[1;33m)\u001b[0m\u001b[1;33m\u001b[0m\u001b[1;33m\u001b[0m\u001b[0m\n\u001b[0;32m      5\u001b[0m \u001b[1;33m\u001b[0m\u001b[0m\n\u001b[1;32m----> 6\u001b[1;33m \u001b[0mline1\u001b[0m\u001b[1;33m=\u001b[0m\u001b[0minput\u001b[0m\u001b[1;33m(\u001b[0m\u001b[1;34m\"line1:\"\u001b[0m\u001b[1;33m)\u001b[0m\u001b[1;33m\u001b[0m\u001b[1;33m\u001b[0m\u001b[0m\n\u001b[0m\u001b[0;32m      7\u001b[0m \u001b[0mline2\u001b[0m\u001b[1;33m=\u001b[0m\u001b[0minput\u001b[0m\u001b[1;33m(\u001b[0m\u001b[1;34m\"line2:\"\u001b[0m\u001b[1;33m)\u001b[0m\u001b[1;33m\u001b[0m\u001b[1;33m\u001b[0m\u001b[0m\n\u001b[0;32m      8\u001b[0m \u001b[0mline3\u001b[0m\u001b[1;33m=\u001b[0m\u001b[0minput\u001b[0m\u001b[1;33m(\u001b[0m\u001b[1;34m\"line3:\"\u001b[0m\u001b[1;33m)\u001b[0m\u001b[1;33m\u001b[0m\u001b[1;33m\u001b[0m\u001b[0m\n",
      "\u001b[1;32m~\\anaconda3\\lib\\site-packages\\ipykernel\\kernelbase.py\u001b[0m in \u001b[0;36mraw_input\u001b[1;34m(self, prompt)\u001b[0m\n\u001b[0;32m    858\u001b[0m                 \u001b[1;34m\"raw_input was called, but this frontend does not support input requests.\"\u001b[0m\u001b[1;33m\u001b[0m\u001b[1;33m\u001b[0m\u001b[0m\n\u001b[0;32m    859\u001b[0m             )\n\u001b[1;32m--> 860\u001b[1;33m         return self._input_request(str(prompt),\n\u001b[0m\u001b[0;32m    861\u001b[0m             \u001b[0mself\u001b[0m\u001b[1;33m.\u001b[0m\u001b[0m_parent_ident\u001b[0m\u001b[1;33m,\u001b[0m\u001b[1;33m\u001b[0m\u001b[1;33m\u001b[0m\u001b[0m\n\u001b[0;32m    862\u001b[0m             \u001b[0mself\u001b[0m\u001b[1;33m.\u001b[0m\u001b[0m_parent_header\u001b[0m\u001b[1;33m,\u001b[0m\u001b[1;33m\u001b[0m\u001b[1;33m\u001b[0m\u001b[0m\n",
      "\u001b[1;32m~\\anaconda3\\lib\\site-packages\\ipykernel\\kernelbase.py\u001b[0m in \u001b[0;36m_input_request\u001b[1;34m(self, prompt, ident, parent, password)\u001b[0m\n\u001b[0;32m    902\u001b[0m             \u001b[1;32mexcept\u001b[0m \u001b[0mKeyboardInterrupt\u001b[0m\u001b[1;33m:\u001b[0m\u001b[1;33m\u001b[0m\u001b[1;33m\u001b[0m\u001b[0m\n\u001b[0;32m    903\u001b[0m                 \u001b[1;31m# re-raise KeyboardInterrupt, to truncate traceback\u001b[0m\u001b[1;33m\u001b[0m\u001b[1;33m\u001b[0m\u001b[1;33m\u001b[0m\u001b[0m\n\u001b[1;32m--> 904\u001b[1;33m                 \u001b[1;32mraise\u001b[0m \u001b[0mKeyboardInterrupt\u001b[0m\u001b[1;33m(\u001b[0m\u001b[1;34m\"Interrupted by user\"\u001b[0m\u001b[1;33m)\u001b[0m \u001b[1;32mfrom\u001b[0m \u001b[1;32mNone\u001b[0m\u001b[1;33m\u001b[0m\u001b[1;33m\u001b[0m\u001b[0m\n\u001b[0m\u001b[0;32m    905\u001b[0m             \u001b[1;32mexcept\u001b[0m \u001b[0mException\u001b[0m \u001b[1;32mas\u001b[0m \u001b[0me\u001b[0m\u001b[1;33m:\u001b[0m\u001b[1;33m\u001b[0m\u001b[1;33m\u001b[0m\u001b[0m\n\u001b[0;32m    906\u001b[0m                 \u001b[0mself\u001b[0m\u001b[1;33m.\u001b[0m\u001b[0mlog\u001b[0m\u001b[1;33m.\u001b[0m\u001b[0mwarning\u001b[0m\u001b[1;33m(\u001b[0m\u001b[1;34m\"Invalid Message:\"\u001b[0m\u001b[1;33m,\u001b[0m \u001b[0mexc_info\u001b[0m\u001b[1;33m=\u001b[0m\u001b[1;32mTrue\u001b[0m\u001b[1;33m)\u001b[0m\u001b[1;33m\u001b[0m\u001b[1;33m\u001b[0m\u001b[0m\n",
      "\u001b[1;31mKeyboardInterrupt\u001b[0m: Interrupted by user"
     ]
    },
    {
     "name": "stdin",
     "output_type": "stream",
     "text": [
      "line1: Lucy\n"
     ]
    }
   ],
   "source": [
    "target=open(filename,'w')\n",
    "\n",
    "print(\"Truncating the file.Goodbye!\")\n",
    "print(\"Now I'm going to ask you for three lines.\")\n",
    "\n",
    "line1=input(\"line1:\")\n",
    "line2=input(\"line2:\")\n",
    "line3=input(\"line3:\")\n",
    "\n",
    "print(\"I'm going to write these to the file.\")\n",
    "\n",
    "target.write(line1)\n",
    "target.write(\"\\n\")\n",
    "target.write(line2)\n",
    "target.write(\"\\n\")\n",
    "target.write(line3)\n",
    "target.write(\"\\n\")\n",
    "\n",
    "print(\"And finally,we close it.\")\n",
    "target.close()"
   ]
  },
  {
   "cell_type": "code",
   "execution_count": null,
   "metadata": {},
   "outputs": [],
   "source": [
    "imput_file='sample.txt'\n",
    "\n",
    "def print_all(f):\n",
    "    print(f.read())\n",
    "    \n",
    "def rewind(f)\n",
    "    f.seek(0)\n",
    "    \n",
    "def print_a_line(line_count,f):\n",
    "    print(line_count,f.readline())\n",
    "    \n",
    "current_file=open(imput_file)\n",
    "\n",
    "print(\"First let's print the whole file:\\n\")\n",
    "\n",
    "print_all(curreent_file)\n",
    "\n",
    "print(\"Now let's rewind,kind of like a tape.\")\n",
    "\n",
    "rewind(current_file)\n",
    "\n",
    "print(\"Let's print three lines:\")\n",
    "\n",
    "current_line=1\n",
    "print_a_line(current_line,current_file)\n",
    "\n",
    "current_line=current_line+1\n",
    "print_a_line(current_line,current_file)\n",
    "\n",
    "current_line+=1\n",
    "print_a_line(current_line,current_file)\n",
    "\n",
    "current_file.close()"
   ]
  },
  {
   "cell_type": "code",
   "execution_count": 11,
   "metadata": {},
   "outputs": [
    {
     "name": "stdout",
     "output_type": "stream",
     "text": [
      "Let's do some math with just functions!\n",
      "ADDING 30+5\n",
      "SUBTRACT 78-4\n",
      "MULTIPLY 90*2\n",
      "DIVIDE 100/2\n",
      "Age: 35,Height: 74,Weight: 180,IQ: 50.0\n",
      "Here is a puzzle.\n",
      "DIVIDE 50.0/2\n",
      "MULTIPLY 180*25.0\n",
      "SUBTRACT 74-4500.0\n",
      "ADDING 35+-4426.0\n",
      "That becomes: -4391.0 Can you do it by hand?\n"
     ]
    }
   ],
   "source": [
    "def add(a,b):\n",
    "    print(f\"ADDING {a}+{b}\")\n",
    "    return a+b\n",
    "\n",
    "def subtract(a,b):\n",
    "    print(f\"SUBTRACT {a}-{b}\")\n",
    "    return a-b\n",
    "\n",
    "def multiply(a,b):\n",
    "    print(f\"MULTIPLY {a}*{b}\")\n",
    "    return a*b\n",
    "\n",
    "def divide(a,b):\n",
    "    print(f\"DIVIDE {a}/{b}\")\n",
    "    return a/b\n",
    "\n",
    "print(\"Let's do some math with just functions!\")\n",
    "\n",
    "age=add(30,5)\n",
    "height=subtract(78,4)\n",
    "weight=multiply(90,2)\n",
    "iq=divide(100,2)\n",
    "\n",
    "print(f\"Age: {age},Height: {height},Weight: {weight},IQ: {iq}\")\n",
    "print(\"Here is a puzzle.\")\n",
    "\n",
    "what=add(age,subtract(height,multiply(weight,divide(iq,2))))\n",
    "\n",
    "print(\"That becomes:\",what,\"Can you do it by hand?\")"
   ]
  },
  {
   "cell_type": "code",
   "execution_count": 12,
   "metadata": {},
   "outputs": [
    {
     "name": "stdout",
     "output_type": "stream",
     "text": [
      "Too many cats! The world is doomed!\n",
      "The world is dry!\n",
      "People are greater than or equal to dogs.\n",
      "People are less than or equal to dogs.\n",
      "People are dogs.\n"
     ]
    }
   ],
   "source": [
    "people=20\n",
    "cats=30\n",
    "dogs=15\n",
    "\n",
    "if people<cats:\n",
    "    print(\"Too many cats! The world is doomed!\")\n",
    "    \n",
    "if people>cats:\n",
    "    print(\"Not many cats! The world is saved!\")\n",
    "    \n",
    "if people<dogs:\n",
    "    print(\"The world is drooled on!\")\n",
    "    \n",
    "if people>dogs:\n",
    "    print(\"The world is dry!\")\n",
    "    \n",
    "dogs+=5\n",
    "if people>=dogs:\n",
    "    print(\"People are greater than or equal to dogs.\")\n",
    "    \n",
    "if people<=dogs:\n",
    "    print(\"People are less than or equal to dogs.\")\n",
    "    \n",
    "if people==dogs:\n",
    "    print(\"People are dogs.\")"
   ]
  },
  {
   "cell_type": "code",
   "execution_count": 13,
   "metadata": {},
   "outputs": [
    {
     "data": {
      "text/plain": [
       "True"
      ]
     },
     "execution_count": 13,
     "metadata": {},
     "output_type": "execute_result"
    }
   ],
   "source": [
    "3==3 and (not(\"testing\" == \"testing\" or \"Python\" == \"Fun\"))\n",
    "\"chunky\" == \"bacon\" and (not(3==4 or 3==3))\n",
    "1==1 and (not(\"testing\"==1 or 1==0))\n",
    "not(\"testing\"==\"testing\" and \"Zed\"==\"Cool Guy\")\n",
    "not(1!=10 or 3==4)\n",
    "not(10==1 or 1000==1000)\n",
    "not(1==1 and 0!=1)\n",
    "not(True and False)\n",
    "\"test\"==1\n",
    "\"test\"!=\"testing\"\n",
    "1!=0 and 2==1\n",
    "\"test\"==\"testing\"\n",
    "True or 1==1\n",
    "False and 0!=0\n",
    "True and 1==1\n",
    "1==1 or 2!=1\n",
    "\"test\"==\"test\"\n",
    "1==1 and 2==1\n",
    "False and True\n",
    "True and True"
   ]
  },
  {
   "cell_type": "code",
   "execution_count": 14,
   "metadata": {},
   "outputs": [
    {
     "name": "stdout",
     "output_type": "stream",
     "text": [
      "We should take the cars.\n",
      "Maybe we could take the trucks.\n",
      "Alright,let's just take the trucks.\n"
     ]
    }
   ],
   "source": [
    "people=30\n",
    "cars=40\n",
    "trucks=15\n",
    "\n",
    "if cars>people:\n",
    "    print(\"We should take the cars.\")\n",
    "elif cars<people:\n",
    "    print(\"We should not take the cars.\")\n",
    "else:\n",
    "    print(\"We can't decide.\")\n",
    "\n",
    "if trucks>cars:\n",
    "    print(\"That's too many trucks.\")\n",
    "elif trucks<cars:\n",
    "    print(\"Maybe we could take the trucks.\")\n",
    "else:\n",
    "    print(\"We still can't decide.\")\n",
    "    \n",
    "if people>trucks:\n",
    "    print(\"Alright,let's just take the trucks.\")\n",
    "else:\n",
    "    print(\"Fine,let's stay home then.\")"
   ]
  },
  {
   "cell_type": "code",
   "execution_count": 17,
   "metadata": {},
   "outputs": [
    {
     "ename": "SyntaxError",
     "evalue": "invalid syntax (<ipython-input-17-f13be5adf94f>, line 20)",
     "output_type": "error",
     "traceback": [
      "\u001b[1;36m  File \u001b[1;32m\"<ipython-input-17-f13be5adf94f>\"\u001b[1;36m, line \u001b[1;32m20\u001b[0m\n\u001b[1;33m    elif door==\"2\":\u001b[0m\n\u001b[1;37m    ^\u001b[0m\n\u001b[1;31mSyntaxError\u001b[0m\u001b[1;31m:\u001b[0m invalid syntax\n"
     ]
    }
   ],
   "source": [
    "print(\"\"\"You enter a dark room with two doors.\n",
    "Do you go turough door #1 or door #2?\"\"\")\n",
    "\n",
    "door=input(\">\")\n",
    "\n",
    "if door==\"1\":\n",
    "    print(\"There's a giant bear here eating a cheese cake.What do you do?\")\n",
    "    print(\"1.Take the cake.\")\n",
    "    print(\"2.Scream at the bear.\")\n",
    "    \n",
    "    bear=input(\">\")\n",
    "    \n",
    "    if bear==\"1\":\n",
    "        print(\"The bear eats your face off.Good job!\")\n",
    "    elif bear==\"2\":\n",
    "        print(\"The bear eats your legs off.Good job!\")\n",
    "    else:\n",
    "        print(f\"Well,doing {bear} is probably better.Bear runs away.\")\n",
    "        \n",
    "    elif door==\"2\":\n",
    "        print(\"You stare into the endless abyss at Cthulhu's retina.\")\n",
    "        print(\"1.Blueberries.\")\n",
    "        print(\"2.Yellow jacket clothespins.\")\n",
    "        print(\"3.Understanding revolvers yelling melodies.\")\n",
    "        \n",
    "        insanity=input(\">\")\n",
    "        \n",
    "        if insanity==\"1\" or insanity==\"2\":\n",
    "            print(\"Your body survives powered by a mind of jello.Good job!\")\n",
    "        else:\n",
    "            print(\"The insanity rots your eyes into a pool of muck.Good job!\")\n",
    "else:\n",
    "    print(\"You stumble around and fall on a knife and die.Good job!\")"
   ]
  },
  {
   "cell_type": "code",
   "execution_count": 18,
   "metadata": {},
   "outputs": [
    {
     "name": "stdout",
     "output_type": "stream",
     "text": [
      "1 到 100 之和为：5050\n"
     ]
    }
   ],
   "source": [
    "n=100\n",
    "\n",
    "sum=0\n",
    "counter=1\n",
    "while counter<=n:\n",
    "    sum=sum+counter\n",
    "    counter+=1\n",
    "    \n",
    "print(\"1 到 %d 之和为：%d\" %(n,sum))"
   ]
  },
  {
   "cell_type": "code",
   "execution_count": 32,
   "metadata": {},
   "outputs": [],
   "source": [
    "def save_grade(name,grade):\n",
    "    grades=open('sample.txt','a')\n",
    "    grades.write(f'姓名：{name}\\t成绩：{grade}\\n')\n",
    "    grades.close()"
   ]
  },
  {
   "cell_type": "code",
   "execution_count": 33,
   "metadata": {},
   "outputs": [
    {
     "ename": "SyntaxError",
     "evalue": "invalid character in identifier (<ipython-input-33-940c343546a6>, line 10)",
     "output_type": "error",
     "traceback": [
      "\u001b[1;36m  File \u001b[1;32m\"<ipython-input-33-940c343546a6>\"\u001b[1;36m, line \u001b[1;32m10\u001b[0m\n\u001b[1;33m    elif go_on=='no'：\u001b[0m\n\u001b[1;37m                    ^\u001b[0m\n\u001b[1;31mSyntaxError\u001b[0m\u001b[1;31m:\u001b[0m invalid character in identifier\n"
     ]
    }
   ],
   "source": [
    "while True:\n",
    "    name=input(\"请输入姓名：\")\n",
    "    grade=input('请输入成绩：')\n",
    "    save_grade(name,grade)\n",
    "    print(f'{name}的成绩已保存。')\n",
    "    go_on=input('是否继续输入(yes or no)?')\n",
    "    n=0\n",
    "    if go_on=='yes':\n",
    "        continue\n",
    "    elif go_on=='no'：\n",
    "        break\n",
    "    print('成绩输入结束。')"
   ]
  },
  {
   "cell_type": "code",
   "execution_count": 28,
   "metadata": {},
   "outputs": [
    {
     "ename": "SyntaxError",
     "evalue": "invalid syntax (<ipython-input-28-38762fbbdb20>, line 12)",
     "output_type": "error",
     "traceback": [
      "\u001b[1;36m  File \u001b[1;32m\"<ipython-input-28-38762fbbdb20>\"\u001b[1;36m, line \u001b[1;32m12\u001b[0m\n\u001b[1;33m    elif go_on='no':\u001b[0m\n\u001b[1;37m              ^\u001b[0m\n\u001b[1;31mSyntaxError\u001b[0m\u001b[1;31m:\u001b[0m invalid syntax\n"
     ]
    }
   ],
   "source": [
    "while True:\n",
    "    name=input(\"请输入姓名：\")\n",
    "    grade=input('请输入成绩：')\n",
    "    save_grade(name,grade)\n",
    "    print(f'{name}的成绩已保存。')\n",
    "    go_on=input('是否继续输入(yes or no)?')\n",
    "    n=0\n",
    "    while n<2:\n",
    "        if go_on=='yes':\n",
    "            break\n",
    "            n=0\n",
    "        elif go_on='no':\n",
    "            break\n",
    "        else:\n",
    "            n+=1\n",
    "            go_on=input(f'{n+1}指令无效，是否继续输入(yes or no)?')\n",
    "    if go_on=='no' or n==2:\n",
    "        print('结束')\n",
    "        break"
   ]
  },
  {
   "cell_type": "code",
   "execution_count": 34,
   "metadata": {},
   "outputs": [
    {
     "name": "stdout",
     "output_type": "stream",
     "text": [
      "This is count 1\n",
      "This is count 2\n",
      "This is count 3\n",
      "This is count 4\n",
      "This is count 5\n",
      "A fruit of type:apples\n",
      "A fruit of type:oranges\n",
      "A fruit of type:pears\n",
      "A fruit of type:apricots\n",
      "I got [i]\n",
      "I got [i]\n",
      "I got [i]\n",
      "I got [i]\n",
      "I got [i]\n",
      "I got [i]\n",
      "Adding 0 to the list.\n",
      "Adding 1 to the list.\n",
      "Adding 2 to the list.\n",
      "Adding 3 to the list.\n",
      "Adding 4 to the list.\n",
      "Adding 5 to the list.\n",
      "Element was:0\n",
      "Element was:1\n",
      "Element was:2\n",
      "Element was:3\n",
      "Element was:4\n",
      "Element was:5\n"
     ]
    }
   ],
   "source": [
    "the_count=[1,2,3,4,5]\n",
    "fruits=['apples','oranges','pears','apricots']\n",
    "change=[1,'pennies',2,'dimes',3,'quarters']\n",
    "\n",
    "for number in the_count:\n",
    "    print(f\"This is count {number}\")\n",
    "    \n",
    "for fruit in fruits:\n",
    "    print(f\"A fruit of type:{fruit}\")\n",
    "    \n",
    "for i in change:\n",
    "    print(f\"I got [i]\")\n",
    "    \n",
    "elements=[]\n",
    "\n",
    "for i in range(0,6):\n",
    "    print(f\"Adding {i} to the list.\")\n",
    "    elements.append(i)\n",
    "    \n",
    "for i in elements:\n",
    "    print(f\"Element was:{i}\")"
   ]
  },
  {
   "cell_type": "code",
   "execution_count": 49,
   "metadata": {},
   "outputs": [
    {
     "ename": "SyntaxError",
     "evalue": "invalid character in identifier (<ipython-input-49-f3951a5b1c57>, line 1)",
     "output_type": "error",
     "traceback": [
      "\u001b[1;36m  File \u001b[1;32m\"<ipython-input-49-f3951a5b1c57>\"\u001b[1;36m, line \u001b[1;32m1\u001b[0m\n\u001b[1;33m    number_file=open('numbers.txt'，encoding='UTF-8')\u001b[0m\n\u001b[1;37m                                          ^\u001b[0m\n\u001b[1;31mSyntaxError\u001b[0m\u001b[1;31m:\u001b[0m invalid character in identifier\n"
     ]
    }
   ],
   "source": [
    "number_file=open('numbers.txt'，encoding='UTF-8')\n",
    "numbers=number_file.readlines()\n",
    "sum=0\n",
    "for number in numbers:\n",
    "    sum+=number\n",
    "print(sum)\n",
    "number_file.close()"
   ]
  },
  {
   "cell_type": "code",
   "execution_count": 43,
   "metadata": {},
   "outputs": [
    {
     "name": "stdout",
     "output_type": "stream",
     "text": [
      "21\n"
     ]
    }
   ],
   "source": [
    "try:\n",
    "    number_file=open('numbers.txt')\n",
    "    numbers=number_file.readlines()\n",
    "    sum=0\n",
    "    for number in numbers:\n",
    "        sum+=int(number)\n",
    "except TypeError as te:\n",
    "    print(te.args)\n",
    "except:\n",
    "    print('未知错误')\n",
    "else:\n",
    "    print(sum)\n",
    "finally:\n",
    "    number_file.close()"
   ]
  },
  {
   "cell_type": "code",
   "execution_count": 44,
   "metadata": {},
   "outputs": [
    {
     "name": "stdout",
     "output_type": "stream",
     "text": [
      "21\n"
     ]
    }
   ],
   "source": [
    "try:\n",
    "    number_file=open('numbers.txt')\n",
    "    numbers=number_file.readlines()\n",
    "    sum=0\n",
    "    for number in numbers:\n",
    "        sum+=int(number)\n",
    "except TypeError as te:\n",
    "    print(te.args)\n",
    "except ValueError:\n",
    "    print(f'{number}不是数字！')\n",
    "except:\n",
    "    print('未知错误')\n",
    "else:\n",
    "    print(sum)\n",
    "finally:\n",
    "    number_file.close()"
   ]
  },
  {
   "cell_type": "code",
   "execution_count": 47,
   "metadata": {},
   "outputs": [],
   "source": [
    "stu_names=['Lily','Lucy','Han Meimei']\n",
    "with open('sample.txt','w') as txt:\n",
    "    for name in stu_names:\n",
    "        txt.write(f'{name}签到！\\n')"
   ]
  }
 ],
 "metadata": {
  "kernelspec": {
   "display_name": "Python 3",
   "language": "python",
   "name": "python3"
  },
  "language_info": {
   "codemirror_mode": {
    "name": "ipython",
    "version": 3
   },
   "file_extension": ".py",
   "mimetype": "text/x-python",
   "name": "python",
   "nbconvert_exporter": "python",
   "pygments_lexer": "ipython3",
   "version": "3.8.3"
  }
 },
 "nbformat": 4,
 "nbformat_minor": 4
}
