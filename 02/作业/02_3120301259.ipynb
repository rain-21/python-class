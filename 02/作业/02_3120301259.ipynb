{
 "cells": [
  {
   "cell_type": "code",
   "execution_count": 46,
   "metadata": {},
   "outputs": [
    {
     "name": "stdout",
     "output_type": "stream",
     "text": [
      "1 34 45 232 345\n"
     ]
    }
   ],
   "source": [
    "txt=open('test.txt','r',encoding='utf-8')\n",
    "l=[]\n",
    "l.append(txt.read())\n",
    "print(l1)\n",
    "txt.close()"
   ]
  },
  {
   "cell_type": "code",
   "execution_count": 6,
   "metadata": {},
   "outputs": [
    {
     "name": "stdout",
     "output_type": "stream",
     "text": [
      "sum= 657\n"
     ]
    }
   ],
   "source": [
    "with open(\"test.txt\",\"r\") as f:\n",
    " sum=0\n",
    " for line in f:#遍历每一行\n",
    "     wordlist=line.split()#将每一行的数字分开放在列表中\n",
    "     for a in wordlist:#遍历每一行的数字\n",
    "        # number=int(a)\n",
    "        # sum=sum+number#求和\n",
    "        sum+=int(a)\n",
    "     print(f\"sum=\",sum)\n",
    "f.close()"
   ]
  },
  {
   "cell_type": "code",
   "execution_count": 4,
   "metadata": {},
   "outputs": [
    {
     "name": "stdout",
     "output_type": "stream",
     "text": [
      "max=20\n"
     ]
    }
   ],
   "source": [
    "def findmax(x,y):\n",
    "    if (x>y):\n",
    "        print(f\"max={x}\")\n",
    "    else:\n",
    "        print(f'max={y}')\n",
    "findmax(10,20)"
   ]
  },
  {
   "cell_type": "code",
   "execution_count": 7,
   "metadata": {},
   "outputs": [],
   "source": [
    "#绘制边长100的正方形\n",
    "from turtle import*\n",
    "fd(100)\n",
    "seth(-90)\n",
    "fd(100)\n",
    "seth(-180)\n",
    "fd(100)\n",
    "seth(90)\n",
    "fd(100)\n",
    "done()"
   ]
  },
  {
   "cell_type": "code",
   "execution_count": 11,
   "metadata": {},
   "outputs": [],
   "source": [
    "#绘制边长100的正六边形\n",
    "from turtle import*\n",
    "fd(100)\n",
    "seth(-60)\n",
    "fd(100)\n",
    "seth(-120)\n",
    "fd(100)\n",
    "seth(-180)\n",
    "fd(100)\n",
    "seth(-240)\n",
    "fd(100)\n",
    "seth(-300)\n",
    "fd(100)\n",
    "done()"
   ]
  },
  {
   "cell_type": "code",
   "execution_count": 3,
   "metadata": {},
   "outputs": [],
   "source": [
    "#循环结构画图\n",
    "from turtle import*\n",
    "#画正六边形\n",
    "for i in range(6):\n",
    "    seth(-i*60)\n",
    "    fd(100)\n",
    "#画正方形\n",
    "for j in range(4):\n",
    "    seth(-j*90)\n",
    "    fd(100)\n",
    "done()"
   ]
  },
  {
   "cell_type": "code",
   "execution_count": 13,
   "metadata": {},
   "outputs": [],
   "source": [
    "from turtle import*\n",
    "for i in range(5):\n",
    "    seth(-i*72)\n",
    "    fd(100)\n",
    "penup()\n",
    "fd(150)\n",
    "pendown()\n",
    "for i in range(9):\n",
    "    fd(100)\n",
    "    left(80)\n",
    "done()"
   ]
  },
  {
   "cell_type": "code",
   "execution_count": 29,
   "metadata": {},
   "outputs": [],
   "source": [
    "#画风车\n",
    "from turtle import*\n",
    "for i in range(4):\n",
    "    seth(45+i*90)\n",
    "    fd(150)\n",
    "    seth(45+i*90+90)\n",
    "    circle(150,45)\n",
    "    goto(0,0)\n",
    "done()"
   ]
  },
  {
   "cell_type": "code",
   "execution_count": 53,
   "metadata": {},
   "outputs": [
    {
     "name": "stdout",
     "output_type": "stream",
     "text": [
      "1 34 45 232 345\n",
      "1\n",
      "23\n",
      "4\n",
      "5 \n",
      "\n",
      "read by lines:\n",
      "1 1 34 45 232 345\n",
      "\n",
      "2 1\n",
      "\n",
      "3 23\n",
      "\n",
      "4 4\n",
      "\n",
      "5 5\n"
     ]
    }
   ],
   "source": [
    "f=open('test.txt','r')\n",
    "print(f.read(),'\\n')\n",
    "i=1\n",
    "f.seek(0)\n",
    "print('read by lines:')\n",
    "while(i<=5):\n",
    "    print(i,f.readline())\n",
    "    i+=1\n",
    "f.close()"
   ]
  },
  {
   "cell_type": "markdown",
   "metadata": {},
   "source": [
    "## 浮点数运算存在不确定尾数"
   ]
  },
  {
   "cell_type": "code",
   "execution_count": 61,
   "metadata": {},
   "outputs": [
    {
     "name": "stdout",
     "output_type": "stream",
     "text": [
      "0.30000000000000004\n",
      "False\n",
      "True\n"
     ]
    }
   ],
   "source": [
    "print(0.1+0.2)\n",
    "print(0.1+0.2==0.3)\n",
    "print(round(0.1+0.2,1)==0.3)"
   ]
  },
  {
   "cell_type": "code",
   "execution_count": 62,
   "metadata": {},
   "outputs": [
    {
     "name": "stdout",
     "output_type": "stream",
     "text": [
      "9\n"
     ]
    }
   ],
   "source": [
    "x=[2,6,5,9]\n",
    "print(max(x))"
   ]
  },
  {
   "cell_type": "code",
   "execution_count": 70,
   "metadata": {},
   "outputs": [
    {
     "name": "stdout",
     "output_type": "stream",
     "text": [
      "dayfactor=0.020\n"
     ]
    }
   ],
   "source": [
    "def dayup(df):\n",
    "    dayup=1\n",
    "    for i in range(365):\n",
    "        if i%7 in [6,0]:\n",
    "            dayup=dayup*(1-0.01)\n",
    "        else:\n",
    "            dayup=dayup*(1+df)\n",
    "    return dayup\n",
    "dayfactor=0.01\n",
    "while dayup(dayfactor)<37.78:\n",
    "    dayfactor+=0.01\n",
    "print(\"dayfactor={:.3f}\".format(dayfactor))"
   ]
  },
  {
   "cell_type": "code",
   "execution_count": 2,
   "metadata": {},
   "outputs": [
    {
     "name": "stdout",
     "output_type": "stream",
     "text": [
      "♈♉♊♋♌♍♎♏♐♑♒♓"
     ]
    }
   ],
   "source": [
    "for i in range(12):\n",
    "    print(chr(9800+i),end=\"\")"
   ]
  },
  {
   "cell_type": "code",
   "execution_count": 14,
   "metadata": {},
   "outputs": [
    {
     "name": "stdout",
     "output_type": "stream",
     "text": [
      "str_time=2020-12-02 Wednesday 04:14:51 AM\n"
     ]
    },
    {
     "data": {
      "text/plain": [
       "time.struct_time(tm_year=2020, tm_mon=12, tm_mday=2, tm_hour=4, tm_min=14, tm_sec=51, tm_wday=2, tm_yday=337, tm_isdst=-1)"
      ]
     },
     "execution_count": 14,
     "metadata": {},
     "output_type": "execute_result"
    }
   ],
   "source": [
    "import time\n",
    "t=time.gmtime()\n",
    "str_time=time.strftime(\"%Y-%m-%d %A %H:%M:%S %p\",t)\n",
    "print(f\"str_time={str_time}\")\n",
    "time.strptime(str_time,\"%Y-%m-%d %A %H:%M:%S %p\")"
   ]
  },
  {
   "cell_type": "code",
   "execution_count": 17,
   "metadata": {},
   "outputs": [
    {
     "name": "stdout",
     "output_type": "stream",
     "text": [
      "------执行开始------\n",
      " 0 %[->..........]\n",
      "10 %[*->.........]\n",
      "20 %[**->........]\n",
      "30 %[***->.......]\n",
      "40 %[****->......]\n",
      "50 %[*****->.....]\n",
      "60 %[******->....]\n",
      "70 %[*******->...]\n",
      "80 %[********->..]\n",
      "90 %[*********->.]\n",
      "100%[**********->]\n",
      "------执行结束------\n"
     ]
    }
   ],
   "source": [
    "import time\n",
    "scale=10\n",
    "print('------执行开始------')\n",
    "for i in range(scale+1):\n",
    "    a='*'*i\n",
    "    b='.'*(scale-i)\n",
    "    c=(i/scale)*100\n",
    "    print(\"{:^3.0f}%[{}->{}]\".format(c,a,b))\n",
    "    time.sleep(0.1)\n",
    "print('------执行结束------')"
   ]
  },
  {
   "cell_type": "code",
   "execution_count": 19,
   "metadata": {},
   "outputs": [
    {
     "name": "stdout",
     "output_type": "stream",
     "text": [
      "100%"
     ]
    }
   ],
   "source": [
    "import time\n",
    "for i in range(101):\n",
    "    print(\"\\r{:3}%\".format(i),end=\"\")\n",
    "    time.sleep(0.1)"
   ]
  },
  {
   "cell_type": "code",
   "execution_count": 22,
   "metadata": {},
   "outputs": [
    {
     "name": "stdout",
     "output_type": "stream",
     "text": [
      "-执行开始\n",
      "100%[**********->]1.00s\n",
      "-执行结束\n"
     ]
    }
   ],
   "source": [
    "import time\n",
    "scale=10\n",
    "print('执行开始'.center(scale//2,\"-\"))\n",
    "start=time.perf_counter()\n",
    "for i in range(scale+1):\n",
    "    a='*'*i\n",
    "    b='.'*(scale-i)\n",
    "    c=(i/scale)*100\n",
    "    dur=time.perf_counter()-start\n",
    "    print(\"\\r{:^3.0f}%[{}->{}]{:.2f}s\".format(c,a,b,dur),end=\"\")\n",
    "    time.sleep(0.1)\n",
    "print('\\n'+'执行结束'.center(scale//2,\"-\"))"
   ]
  },
  {
   "cell_type": "code",
   "execution_count": 27,
   "metadata": {},
   "outputs": [
    {
     "name": "stdin",
     "output_type": "stream",
     "text": [
      " 121411324543532313131355313\n"
     ]
    },
    {
     "name": "stdout",
     "output_type": "stream",
     "text": [
      "1789689092717178027834661160090169185181538951256731419569705053723099659649297\n"
     ]
    }
   ],
   "source": [
    "a=input()\n",
    "b=pow(eval(a),3)\n",
    "c=str(b)\n",
    "if(len(c)<=20):\n",
    "    print(c.center(20,'-'))\n",
    "else:\n",
    "    print(b)"
   ]
  },
  {
   "cell_type": "code",
   "execution_count": 37,
   "metadata": {},
   "outputs": [
    {
     "name": "stdin",
     "output_type": "stream",
     "text": [
      " 11\n"
     ]
    },
    {
     "name": "stdout",
     "output_type": "stream",
     "text": [
      "*\n",
      "***\n",
      "*****\n",
      "*******\n",
      "*********\n",
      "***********\n"
     ]
    }
   ],
   "source": [
    "x=input()\n",
    "if((int(x)+1)%2!=0):\n",
    "    print(\"error!\")\n",
    "else:\n",
    "    for i in range((int(x)+1)//2):\n",
    "        print((2*(i+1)-1)*'*')"
   ]
  },
  {
   "cell_type": "code",
   "execution_count": null,
   "metadata": {},
   "outputs": [],
   "source": [
    "S=input()\n",
    "P=[]\n",
    "for i in range(len(S)):\n",
    "    p=ord(S[i])\n",
    "    if(p>=ord('a') and p<=ord('z')):\n",
    "        C=(p-ord('a')+3)%26+ord('a')\n",
    "        P.append(chr(C))\n",
    "    elif(p>=ord('A') and p<=ord('Z')):\n",
    "        C=(p-ord('A')+3)%26+ord('A')\n",
    "        P.append(chr(C))\n",
    "    else:\n",
    "        C=S[i]\n",
    "        P.append(C)\n",
    "print(P[0],P[1])"
   ]
  },
  {
   "cell_type": "code",
   "execution_count": 66,
   "metadata": {},
   "outputs": [
    {
     "name": "stdin",
     "output_type": "stream",
     "text": [
      " Python is good!\n"
     ]
    },
    {
     "name": "stdout",
     "output_type": "stream",
     "text": [
      "mbwkrq lv jrrgr\n"
     ]
    }
   ],
   "source": [
    "tempstr=input()\n",
    "result=\"\"\n",
    "for i in tempstr: \n",
    "    if i !=\" \":\n",
    "        i=chr((ord(i)-97+3)%26+97)\n",
    "        result=result+i\n",
    "    elif i==\" \":\n",
    "        result=result+\" \"\n",
    "print(result)"
   ]
  },
  {
   "cell_type": "code",
   "execution_count": 76,
   "metadata": {},
   "outputs": [
    {
     "data": {
      "text/plain": [
       "32"
      ]
     },
     "execution_count": 76,
     "metadata": {},
     "output_type": "execute_result"
    }
   ],
   "source": [
    "ord(\" \")"
   ]
  },
  {
   "cell_type": "code",
   "execution_count": 77,
   "metadata": {},
   "outputs": [
    {
     "name": "stdout",
     "output_type": "stream",
     "text": [
      "97\n",
      "122\n",
      "65\n",
      "90\n"
     ]
    }
   ],
   "source": [
    "print(ord('a'))\n",
    "print(ord('z'))\n",
    "print(ord('A'))\n",
    "print(ord('Z'))"
   ]
  },
  {
   "cell_type": "code",
   "execution_count": null,
   "metadata": {},
   "outputs": [],
   "source": []
  }
 ],
 "metadata": {
  "kernelspec": {
   "display_name": "Python 3",
   "language": "python",
   "name": "python3"
  },
  "language_info": {
   "codemirror_mode": {
    "name": "ipython",
    "version": 3
   },
   "file_extension": ".py",
   "mimetype": "text/x-python",
   "name": "python",
   "nbconvert_exporter": "python",
   "pygments_lexer": "ipython3",
   "version": "3.8.3"
  }
 },
 "nbformat": 4,
 "nbformat_minor": 4
}
