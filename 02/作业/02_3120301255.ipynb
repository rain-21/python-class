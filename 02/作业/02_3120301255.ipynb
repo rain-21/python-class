{
 "cells": [
  {
   "cell_type": "code",
   "execution_count": 1,
   "metadata": {},
   "outputs": [
    {
     "data": {
      "text/plain": [
       "'D:\\\\anaconda3\\\\python.exe'"
      ]
     },
     "execution_count": 1,
     "metadata": {},
     "output_type": "execute_result"
    }
   ],
   "source": [
    "import sys\n",
    "sys.executable"
   ]
  },
  {
   "cell_type": "code",
   "execution_count": 11,
   "metadata": {},
   "outputs": [
    {
     "name": "stdout",
     "output_type": "stream",
     "text": [
      "我有一只小毛驴，我从来都不骑。\n",
      "我有一只小毛驴，我从来都不骑。\n",
      "我有一只小毛驴，我从来都不骑。\n",
      "\n"
     ]
    }
   ],
   "source": [
    "with open(r'C:\\Users\\王晨浩\\Desktop\\test.txt','a+') as file:  #注意此处的冒号,a+表示可读写，文件存在则追加写\n",
    "    file.write('我有一只小毛驴，我从来都不骑。\\n' )             #注意此处字符串中\\n换行操作有效\n",
    "    file.seek(0)\n",
    "    content = file.read()\n",
    "\n",
    "    print(content)\n"
   ]
  },
  {
   "cell_type": "code",
   "execution_count": 12,
   "metadata": {},
   "outputs": [
    {
     "name": "stdout",
     "output_type": "stream",
     "text": [
      "*********Made by WCH**********\n"
     ]
    },
    {
     "name": "stdin",
     "output_type": "stream",
     "text": [
      "猜一下我心中在想什么，你有四次机会哦！ 5\n"
     ]
    },
    {
     "name": "stdout",
     "output_type": "stream",
     "text": [
      "大了大了\n"
     ]
    },
    {
     "name": "stdin",
     "output_type": "stream",
     "text": [
      "真遗憾，猜错了，再猜一次吧，你还有3次机会 3\n"
     ]
    },
    {
     "name": "stdout",
     "output_type": "stream",
     "text": [
      "大了大了\n"
     ]
    },
    {
     "name": "stdin",
     "output_type": "stream",
     "text": [
      "真遗憾，猜错了，再猜一次吧，你还有2次机会 1\n"
     ]
    },
    {
     "name": "stdout",
     "output_type": "stream",
     "text": [
      "猜对啦，真聪明，不过没有奖励，哈哈\n",
      "5秒钟后我会自动关闭哦\n"
     ]
    }
   ],
   "source": [
    "#猜字小游戏\n",
    "print('*********Made by WCH**********')\n",
    "import random\n",
    "import time\n",
    "\n",
    "secret = random.randint(1,10)\n",
    "guess = input('猜一下我心中在想什么，你有四次机会哦！')\n",
    "guess = int(guess)\n",
    "i = 3\n",
    "index = False\n",
    "while i > 0:\n",
    "    if guess == secret:\n",
    "        print('猜对啦，真聪明，不过没有奖励，哈哈')\n",
    "        print('5秒钟后我会自动关闭哦')\n",
    "        time.sleep(5)\n",
    "        index = True\n",
    "        exit()\n",
    "    else:\n",
    "        if guess < secret:\n",
    "            print('小了小了')\n",
    "        else:\n",
    "            print('大了大了')\n",
    "        guess = int(input(\"真遗憾，猜错了，再猜一次吧，你还有%d次机会\"%i))\n",
    "    i -= 1\n",
    "if not index:\n",
    "    print('你真笨，这都猜不着')\n",
    "    print('5秒钟后我会自动关闭哦')\n",
    "    time.sleep(5)"
   ]
  },
  {
   "cell_type": "code",
   "execution_count": null,
   "metadata": {},
   "outputs": [],
   "source": [
    "try : #执行代码\n",
    "except : #出现异常时执行的代码\n",
    "else :\n",
    "finally : #无论有无错误都要执行的代码"
   ]
  },
  {
   "cell_type": "code",
   "execution_count": 1,
   "metadata": {},
   "outputs": [
    {
     "name": "stdout",
     "output_type": "stream",
     "text": [
      "['我有一只小毛驴，我从来都不骑。\\n', '我有一只小毛驴，我从来都不骑。\\n', '我有一只小毛驴，我从来都不骑。\\n', '我有一只小毛驴，我从来都不骑。\\n']\n"
     ]
    }
   ],
   "source": [
    "with open(r'C:\\Users\\王晨浩\\Desktop\\test.txt','a+') as file:  #注意此处的冒号,a+表示可读写，文件存在则追加写\n",
    "    file.write('我有一只小毛驴，我从来都不骑。\\n' )             #注意此处字符串中\\n换行操作有效\n",
    "    file.seek(0)\n",
    "    content = file.readlines()                       #file.readlines()以每行内容为元素分界，返回一个列表\n",
    "\n",
    "    print(content)"
   ]
  },
  {
   "cell_type": "code",
   "execution_count": 6,
   "metadata": {},
   "outputs": [
    {
     "name": "stdout",
     "output_type": "stream",
     "text": [
      "*********Made by WCH**********\n"
     ]
    },
    {
     "name": "stdin",
     "output_type": "stream",
     "text": [
      "猜一下我心中在想什么，你有四次机会哦！ 5\n"
     ]
    },
    {
     "name": "stdout",
     "output_type": "stream",
     "text": [
      "小了小了\n"
     ]
    },
    {
     "name": "stdin",
     "output_type": "stream",
     "text": [
      "真遗憾，猜错了，再猜一次吧，你还有3次机会 8\n"
     ]
    },
    {
     "name": "stdout",
     "output_type": "stream",
     "text": [
      "小了小了\n"
     ]
    },
    {
     "name": "stdin",
     "output_type": "stream",
     "text": [
      "真遗憾，猜错了，再猜一次吧，你还有2次机会 9\n"
     ]
    },
    {
     "name": "stdout",
     "output_type": "stream",
     "text": [
      "猜对啦，真聪明，不过没有奖励，哈哈\n",
      "5秒钟后我会自动关闭哦\n"
     ]
    }
   ],
   "source": [
    "#文件调用只能是上层调用下层\n",
    "from sys import *\n",
    "from Desktop import 猜字小游戏\n"
   ]
  },
  {
   "cell_type": "code",
   "execution_count": 7,
   "metadata": {},
   "outputs": [
    {
     "name": "stdout",
     "output_type": "stream",
     "text": [
      "11\n"
     ]
    }
   ],
   "source": [
    "#全局变量会占用更多内存\n",
    "a = 10\n",
    "def test():\n",
    "    global a   #声明此处调用的变量为全局变量\n",
    "    a += 1\n",
    "    print(a)\n",
    "test()"
   ]
  },
  {
   "cell_type": "code",
   "execution_count": 8,
   "metadata": {},
   "outputs": [
    {
     "name": "stdout",
     "output_type": "stream",
     "text": [
      "201\n",
      "10\n"
     ]
    }
   ],
   "source": [
    "num = 10\n",
    "def test():\n",
    "    num = 200\n",
    "    num += 1\n",
    "    print(num)    #此处num变量与函数外num变量不同，其值互不影响，定义互不影响\n",
    "test()\n",
    "print(num)"
   ]
  },
  {
   "cell_type": "code",
   "execution_count": null,
   "metadata": {},
   "outputs": [],
   "source": [
    "#仿写老师的爬虫程序\n",
    "import codecs\n",
    "import copy\n",
    "import csv\n",
    "import json\n",
    "import math\n",
    "import os\n",
    "import random\n",
    "import sys\n",
    "import traceback\n",
    "from collections import OrderedDict\n",
    "from datetime import date,datetime,timedelta\n",
    "from time import sleep\n",
    "\n",
    "import requestes.adapters import HTTPAdapter\n",
    "from tqdm import tqdm\n",
    "\n",
    "#定义微博对象\n",
    "class Weibo(object):\n",
    "    def __init__(self,config):\n",
    "        '''微博类初始化'''\n",
    "        self.validate_config(config)\n",
    "        #fliter参数为0（默认）时，爬取用户全部微博，为1时只爬取用户的原创微博\n",
    "        self.filter = config['filter']\n",
    "        since_date = str(config['sunce_date'])\n",
    "        if since_date.isdigit():\n",
    "            since_date = str(date.today() - timedelta(int(since_date)))\n",
    "            #起始时间，即爬取发布日期从该值到现在的微博，形式为yyyy-mm-dd(年月日？)\n",
    "        self.since_date = since_date\n",
    "            #结果信息保存类型为List形式，可包含csv、mongo和mysql三种类型\n",
    "        self.write_mode = config['write_mode']\n",
    "            #参数original_pic_download取值0（默认）代表不下载_原创微博图片，取值1代表下载\n",
    "        self.original_pic_download = config['original_pic_download']\n",
    "            #参数retweet_pic_download取值0（默认）代表不下载_转发图片，取值1代表下载\n",
    "        self.retweet_pic_download = config['retweet_pic_download']\n",
    "            #参数original_video_download取值0（默认）代表不下载_原创微博视频，取值1代表下载\n",
    "        self.original_video_download = config['original_video_download']\n",
    "            #参数retweet_video_download取值0（默认）代表不下载_转发视频，取值1代表下载\n",
    "        self.retweet_video_download = config['retweet_video_download']\n",
    "        self.cookie = {'Cookie':config.get('cookie')} #微博cookie可填可不填\n",
    "        self.mysql_config = config.get('mysql_config')#MySQL数据库连接配置，可填可不填。\n",
    "        User_id_list = config['user_id_list']\n",
    "        if not isinstance(User_id_list,list):\n",
    "            if not os.path.isabs(User_id_list):\n",
    "                User_id_list = os.path.split(\n",
    "                    os.path.realpath(__file__))[0] + os.sep + User_id_list\n",
    "                self.User_config_file_path = User_id_list  #用户配置及文件路径\n",
    "                User_config_list = self.get_User_config_list(User_id_list)\n",
    "        \n",
    "        \n",
    "        "
   ]
  },
  {
   "cell_type": "code",
   "execution_count": 4,
   "metadata": {},
   "outputs": [
    {
     "data": {
      "image/png": "[encoded data removed]",
      "text/plain": [
       "<Figure size 432x288 with 1 Axes>"
      ]
     },
     "metadata": {
      "needs_background": "light"
     },
     "output_type": "display_data"
    }
   ],
   "source": [
    "from matplotlib import pyplot as plt\n",
    "x = range(2,26,2)\n",
    "y = [15,13,14.5,17,20,25,26,26,24,22,18,15]\n",
    "plt.plot(x,y)\n",
    "plt.show()"
   ]
  },
  {
   "cell_type": "code",
   "execution_count": 1,
   "metadata": {},
   "outputs": [
    {
     "data": {
      "text/plain": [
       "'D:\\\\anaconda\\\\python.exe'"
      ]
     },
     "execution_count": 1,
     "metadata": {},
     "output_type": "execute_result"
    }
   ],
   "source": [
    "import sys\n",
    "sys.executable"
   ]
  },
  {
   "cell_type": "code",
   "execution_count": 3,
   "metadata": {},
   "outputs": [
    {
     "name": "stdout",
     "output_type": "stream",
     "text": [
      "moving from A to C\n",
      "moving from A to B\n",
      "moving from C to B\n",
      "moving from A to C\n",
      "moving from B to A\n",
      "moving from B to C\n",
      "moving from A to C\n"
     ]
    }
   ],
   "source": [
    "#运用递归解决汉诺塔问题\n",
    "def hannoi(n,a,b,c): \n",
    "    if n > 0:\n",
    "        hannoi(n-1,a,c,b)\n",
    "        print('moving from %s to %s'%(a,c))\n",
    "        hannoi(n-1,b,a,c)\n",
    "hannoi(3,'A','B','C')\n"
   ]
  },
  {
   "cell_type": "code",
   "execution_count": 10,
   "metadata": {},
   "outputs": [
    {
     "name": "stdout",
     "output_type": "stream",
     "text": [
      "[1, 4, 7, 10, 13, 16, 19, 22, 25, 28, 31, 34, 37, 40, 43, 46, 49, 52, 55, 58, 61, 64, 67, 70, 73, 76, 79, 82, 85, 88, 91, 94, 97]\n",
      "[1, 4, 7, 10, 13, 16, 19, 22, 25, 28, 31, 34, 37, 40, 43, 46, 49, 52, 55, 58, 61, 64, 67, 70, 73, 76, 79, 82, 85, 88, 91, 94, 97]\n",
      "22\n"
     ]
    }
   ],
   "source": [
    "#在有序数组中运用二分法查找元素\n",
    "def binary_search(li,val):\n",
    "    left = 0\n",
    "    right = len(li) - 1\n",
    "    while left <= right:   #候选区有值\n",
    "        mid = (left + right)//2\n",
    "        if li[mid] == val:\n",
    "            return mid        \n",
    "        elif li[mid] > val:\n",
    "            right = mid - 1\n",
    "        else:\n",
    "            left = mid + 1\n",
    "    else: \n",
    "        return None\n",
    "    \n",
    "li = [i for i in range(1,99,3)]\n",
    "print(li)\n",
    "print(str(li))\n",
    "print(binary_search(li,67))\n"
   ]
  },
  {
   "cell_type": "code",
   "execution_count": null,
   "metadata": {},
   "outputs": [],
   "source": []
  }
 ],
 "metadata": {
  "kernelspec": {
   "display_name": "Python 3",
   "language": "python",
   "name": "python3"
  },
  "language_info": {
   "codemirror_mode": {
    "name": "ipython",
    "version": 3
   },
   "file_extension": ".py",
   "mimetype": "text/x-python",
   "name": "python",
   "nbconvert_exporter": "python",
   "pygments_lexer": "ipython3",
   "version": "3.8.5"
  }
 },
 "nbformat": 4,
 "nbformat_minor": 4
}
