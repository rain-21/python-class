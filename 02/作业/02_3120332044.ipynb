{
 "cells": [
  {
   "cell_type": "code",
   "execution_count": 1,
   "metadata": {},
   "outputs": [
    {
     "data": {
      "text/plain": [
       "'D:\\\\Program Files (x86)\\\\Anaconda\\\\python.exe'"
      ]
     },
     "execution_count": 1,
     "metadata": {},
     "output_type": "execute_result"
    }
   ],
   "source": [
    "#python命令位置\n",
    "import sys\n",
    "sys.executable"
   ]
  },
  {
   "cell_type": "code",
   "execution_count": 2,
   "metadata": {},
   "outputs": [
    {
     "data": {
      "text/plain": [
       "['D:\\\\Program Files (x86)\\\\Anaconda\\\\lib\\\\site-packages\\\\ipykernel_launcher.py',\n",
       " '-f',\n",
       " 'C:\\\\Users\\\\DELL\\\\AppData\\\\Roaming\\\\jupyter\\\\runtime\\\\kernel-cdf6686d-d0d0-4e41-8972-d57e9e1f341d.json']"
      ]
     },
     "execution_count": 2,
     "metadata": {},
     "output_type": "execute_result"
    }
   ],
   "source": [
    "#python命令参数\n",
    "sys.argv"
   ]
  },
  {
   "cell_type": "code",
   "execution_count": 3,
   "metadata": {},
   "outputs": [
    {
     "name": "stdout",
     "output_type": "stream",
     "text": [
      "小明说：hello world!.\n"
     ]
    }
   ],
   "source": [
    "#命名、变量、代码和函数\n",
    "def say(words):\n",
    "    print(f'小明说：{words}.')\n",
    "say('hello world!')"
   ]
  },
  {
   "cell_type": "code",
   "execution_count": 13,
   "metadata": {},
   "outputs": [
    {
     "name": "stdout",
     "output_type": "stream",
     "text": [
      "arg1:Zed,arg2:Shaw\n",
      "arg1:Zed,arg2:Shaw\n",
      "arg1:First!\n",
      "i got nothing.\n"
     ]
    }
   ],
   "source": [
    "def print_two(*args):\n",
    "    arg1,arg2=args\n",
    "    print(f\"arg1:{arg1},arg2:{arg2}\")\n",
    "    \n",
    "def print_two_again(arg1,arg2):\n",
    "    print(f\"arg1:{arg1},arg2:{arg2}\")\n",
    "\n",
    "def print_one(arg1):\n",
    "    print(f\"arg1:{arg1}\")\n",
    "    \n",
    "def print_none():\n",
    "    print(\"i got nothing.\")\n",
    "    \n",
    "print_two(\"Zed\",\"Shaw\")\n",
    "print_two_again(\"Zed\",\"Shaw\")\n",
    "print_one(\"First!\")\n",
    "print_none()"
   ]
  },
  {
   "cell_type": "code",
   "execution_count": 16,
   "metadata": {},
   "outputs": [
    {
     "name": "stdout",
     "output_type": "stream",
     "text": [
      "We can just give the function numbers directly:\n",
      "You have 20 cheese!\n",
      "You have 30 boxes of crackers!\n",
      "Man that's enough for a party!\n",
      "Get a blanket.\n",
      "\n",
      "OR, we can use variables from our script:\n",
      "You have 10 cheese!\n",
      "You have 50 boxes of crackers!\n",
      "Man that's enough for a party!\n",
      "Get a blanket.\n",
      "\n",
      "We can even do math inside too:\n",
      "You have 30 cheese!\n",
      "You have 11 boxes of crackers!\n",
      "Man that's enough for a party!\n",
      "Get a blanket.\n",
      "\n",
      "And we can combine the two, variables and math:\n",
      "You have 110 cheese!\n",
      "You have 1050 boxes of crackers!\n",
      "Man that's enough for a party!\n",
      "Get a blanket.\n",
      "\n"
     ]
    }
   ],
   "source": [
    "def cheese_and_crackers(cheese_count, boxes_of_crackers):\n",
    "    print(f\"You have {cheese_count} cheese!\")\n",
    "    print(f\"You have {boxes_of_crackers} boxes of crackers!\")\n",
    "    print(\"Man that's enough for a party!\")\n",
    "    print(\"Get a blanket.\\n\")\n",
    "    \n",
    "print(\"We can just give the function numbers directly:\")\n",
    "cheese_and_crackers(20,30)\n",
    "\n",
    "\n",
    "print(\"OR, we can use variables from our script:\")\n",
    "amount_of_cheese=10\n",
    "amount_of_crackers=50\n",
    "\n",
    "cheese_and_crackers(amount_of_cheese, amount_of_crackers)\n",
    "\n",
    "\n",
    "print(\"We can even do math inside too:\")\n",
    "cheese_and_crackers(10+20, 5+6)\n",
    "\n",
    "\n",
    "print(\"And we can combine the two, variables and math:\")\n",
    "cheese_and_crackers(amount_of_cheese + 100, amount_of_crackers + 1000)"
   ]
  },
  {
   "cell_type": "code",
   "execution_count": 17,
   "metadata": {},
   "outputs": [],
   "source": [
    "#文件操作"
   ]
  },
  {
   "cell_type": "markdown",
   "metadata": {},
   "source": [
    "filename='sample.txt'\n",
    "txt=open(filename, encoding='utf-8')\n",
    "\n",
    "print(f\"Here's your file {filename}:\")\n",
    "print(txt.read())\n",
    "txt.close()"
   ]
  },
  {
   "cell_type": "code",
   "execution_count": 23,
   "metadata": {},
   "outputs": [
    {
     "name": "stdout",
     "output_type": "stream",
     "text": [
      "Truncating the file. Goodbye!\n",
      "Now I'm going to ask you for three lines.\n"
     ]
    },
    {
     "name": "stdin",
     "output_type": "stream",
     "text": [
      "line 1: I'm a cat.\n",
      "line 2: I'm a female cat.\n",
      "line 3: I am not a male cat.\n"
     ]
    },
    {
     "name": "stdout",
     "output_type": "stream",
     "text": [
      "I'm going to write these to the file.\n",
      "And finally, we close it.\n"
     ]
    }
   ],
   "source": [
    "target=open(filename, \"w\")\n",
    "\n",
    "print(\"Truncating the file. Goodbye!\")\n",
    "\n",
    "print(\"Now I'm going to ask you for three lines.\")\n",
    "\n",
    "line1=input(\"line 1:\")\n",
    "line2=input(\"line 2:\")\n",
    "line3=input(\"line 3:\")\n",
    "\n",
    "print(\"I'm going to write these to the file.\")\n",
    "\n",
    "target.write(line1)\n",
    "target.write(\"\\n\")\n",
    "target.write(line2)\n",
    "target.write(\"\\n\")\n",
    "target.write(line3)\n",
    "target.write(\"\\n\")\n",
    "\n",
    "print(\"And finally, we close it.\")\n",
    "target.close()"
   ]
  },
  {
   "cell_type": "code",
   "execution_count": 25,
   "metadata": {},
   "outputs": [],
   "source": [
    "#functions and files"
   ]
  },
  {
   "cell_type": "code",
   "execution_count": 6,
   "metadata": {},
   "outputs": [
    {
     "name": "stdout",
     "output_type": "stream",
     "text": [
      "First let's print the whole file:\n",
      "\n",
      "I'm a cat.\n",
      "I'm a female cat.\n",
      "I am not a male cat.\n",
      "\n",
      "Now let's rewind, king of like a tape.\n",
      "Let's print three lines:\n",
      "1 I'm a cat.\n",
      "\n",
      "2 I'm a female cat.\n",
      "\n",
      "3 I am not a male cat.\n",
      "\n"
     ]
    }
   ],
   "source": [
    "input_file='sample.txt'\n",
    "\n",
    "def print_all(f):\n",
    "    print(f.read())\n",
    "    \n",
    "def rewind(f):\n",
    "    f.seek(0)\n",
    "    \n",
    "def print_a_line(line_count, f):\n",
    "    print(line_count, f.readline())\n",
    "    \n",
    "current_file=open(input_file)\n",
    "\n",
    "print(\"First let's print the whole file:\\n\")\n",
    "\n",
    "print_all(current_file)\n",
    "\n",
    "print(\"Now let's rewind, king of like a tape.\")\n",
    "\n",
    "rewind(current_file)  #rewind函数：文件指针倒回开头\n",
    "\n",
    "print(\"Let's print three lines:\")\n",
    "\n",
    "current_line=1\n",
    "print_a_line(current_line, current_file)\n",
    "\n",
    "current_line=current_line+1\n",
    "print_a_line(current_line, current_file)\n",
    "\n",
    "current_line+=1\n",
    "print_a_line(current_line, current_file)\n",
    "\n",
    "current_file.close()"
   ]
  },
  {
   "cell_type": "code",
   "execution_count": 7,
   "metadata": {},
   "outputs": [],
   "source": [
    "#functions can return something"
   ]
  },
  {
   "cell_type": "code",
   "execution_count": 9,
   "metadata": {},
   "outputs": [
    {
     "name": "stdout",
     "output_type": "stream",
     "text": [
      "Let's do some math with just functions!\n",
      "ADDING 30 + 5\n",
      "SUBTRACTING 78 - 4\n",
      "MULTIPLYING 90 * 2\n",
      "DIVIDING 100 / 2\n",
      "Age:35, Height:74, Weight:180, IQ:50\n",
      "Here is a puzzle.\n",
      "DIVIDING 50 / 2\n",
      "MULTIPLYING 180 * 25\n",
      "SUBTRACTING 74 - 4500\n",
      "ADDING 35 + -4426\n",
      "That becomes: -4391 Can you do it by hand?\n"
     ]
    }
   ],
   "source": [
    "def add(a, b):\n",
    "    print(f\"ADDING {a} + {b}\")\n",
    "    return a + b\n",
    "\n",
    "def subtract(a, b):\n",
    "    print(f\"SUBTRACTING {a} - {b}\")\n",
    "    return a - b\n",
    "\n",
    "def multiply(a, b):\n",
    "    print(f\"MULTIPLYING {a} * {b}\")\n",
    "    return a * b\n",
    "\n",
    "def divide(a, b):\n",
    "    print(f\"DIVIDING {a} / {b}\")\n",
    "    return int(a / b)\n",
    "\n",
    "print(\"Let's do some math with just functions!\")\n",
    "\n",
    "age=add(30, 5)\n",
    "height=subtract(78, 4)\n",
    "weight=multiply(90, 2)\n",
    "iq=divide(100, 2)\n",
    "\n",
    "print(f\"Age:{age}, Height:{height}, Weight:{weight}, IQ:{iq}\")\n",
    "\n",
    "print(\"Here is a puzzle.\")\n",
    "\n",
    "what=add(age, subtract(height, multiply(weight, divide(iq, 2))))\n",
    "\n",
    "print(\"That becomes:\", what, \"Can you do it by hand?\")"
   ]
  },
  {
   "cell_type": "code",
   "execution_count": 10,
   "metadata": {},
   "outputs": [],
   "source": [
    "#条件控制"
   ]
  },
  {
   "cell_type": "code",
   "execution_count": 12,
   "metadata": {},
   "outputs": [
    {
     "name": "stdout",
     "output_type": "stream",
     "text": [
      "Too many cats! The world is doomed!\n",
      "The world is dry!\n",
      "People are greater than or equal to dogs.\n",
      "People are less than or equal to dogs.\n",
      "People are dogs.\n"
     ]
    }
   ],
   "source": [
    "people = 20\n",
    "cats = 30\n",
    "dogs = 15\n",
    "\n",
    "if people < cats:\n",
    "    print(\"Too many cats! The world is doomed!\")\n",
    "    \n",
    "if people > cats:\n",
    "    print(\"Not many cats! The world is saved!\")\n",
    "    \n",
    "if people < dogs:\n",
    "    print(\"The world is drooled on!\")\n",
    "    \n",
    "if people > dogs:\n",
    "    print(\"The world is dry!\")\n",
    "    \n",
    "dogs+=5\n",
    "\n",
    "if people >= dogs:\n",
    "    print(\"People are greater than or equal to dogs.\")\n",
    "    \n",
    "if people <= dogs:\n",
    "    print(\"People are less than or equal to dogs.\")\n",
    "\n",
    "if people == dogs:\n",
    "    print(\"People are dogs.\")"
   ]
  },
  {
   "cell_type": "code",
   "execution_count": 13,
   "metadata": {},
   "outputs": [],
   "source": [
    "#Boolean Practice"
   ]
  },
  {
   "cell_type": "code",
   "execution_count": 14,
   "metadata": {},
   "outputs": [],
   "source": [
    "#if elif else"
   ]
  },
  {
   "cell_type": "code",
   "execution_count": 15,
   "metadata": {},
   "outputs": [
    {
     "name": "stdout",
     "output_type": "stream",
     "text": [
      "We should take the cars.\n",
      "Maybe we could take the trucks.\n",
      "Alright, let's just take the trucks.\n"
     ]
    }
   ],
   "source": [
    "people = 30\n",
    "cars = 40\n",
    "trucks = 15 \n",
    "\n",
    "if cars > people:\n",
    "    print(\"We should take the cars.\")\n",
    "elif cars < people:\n",
    "    print(\"We should not take the cars.\")\n",
    "else:\n",
    "    print(\"We can't decide.\")\n",
    "    \n",
    "if trucks > cars:\n",
    "    print(\"That's too many truckers.\")\n",
    "elif trucks < cars:\n",
    "    print(\"Maybe we could take the trucks.\")\n",
    "else:\n",
    "    print(\"We still can't decide.\")\n",
    "\n",
    "if people > trucks:\n",
    "    print(\"Alright, let's just take the trucks.\")\n",
    "else:\n",
    "    print(\"Fine, let's stay home then.\")"
   ]
  },
  {
   "cell_type": "code",
   "execution_count": 17,
   "metadata": {},
   "outputs": [
    {
     "name": "stdout",
     "output_type": "stream",
     "text": [
      "You enter a dark room with two doors.\n",
      "Do you go through door #1 or door #2?\n"
     ]
    },
    {
     "name": "stdin",
     "output_type": "stream",
     "text": [
      "> 2\n"
     ]
    },
    {
     "name": "stdout",
     "output_type": "stream",
     "text": [
      "You stare into the endless abyss at Cthulhu's retina.\n",
      "1. Blueberries.\n",
      "2. Yellow jacket clothespins.\n",
      "3. Understanding revolvers yelling melodies.\n"
     ]
    },
    {
     "name": "stdin",
     "output_type": "stream",
     "text": [
      "> 1\n"
     ]
    },
    {
     "name": "stdout",
     "output_type": "stream",
     "text": [
      "You body survives powered by a mind of jello. Good job!\n"
     ]
    }
   ],
   "source": [
    "print(\"\"\"You enter a dark room with two doors.\n",
    "Do you go through door #1 or door #2?\"\"\")\n",
    "\n",
    "door = input(\">\")\n",
    "\n",
    "if door == \"1\":\n",
    "    print(\"There's a giant bear here eating a cheese cake. What do you do?\")\n",
    "    print(\"1. Take the cake.\")\n",
    "    print(\"2. Scream at the bear.\")\n",
    "    \n",
    "    bear = input (\">\")\n",
    "    \n",
    "    if bear == \"1\":\n",
    "        print(\"The bear eats your face off. Good job!\")\n",
    "    elif bear == \"2\":\n",
    "        print(\"The bear eats your legs off. Good job!\")\n",
    "    else:\n",
    "        print(f\"Well, doing {bear} is probably better. Bear runs away.\")\n",
    "        \n",
    "elif door == \"2\":\n",
    "    print(\"You stare into the endless abyss at Cthulhu's retina.\")\n",
    "    print(\"1. Blueberries.\")\n",
    "    print(\"2. Yellow jacket clothespins.\")\n",
    "    print(\"3. Understanding revolvers yelling melodies.\")\n",
    "    \n",
    "    insanity = input(\">\")\n",
    "    \n",
    "    if insanity == \"1\" or insanity == \"2\":\n",
    "        print(\"You body survives powered by a mind of jello. Good job!\")\n",
    "    else:\n",
    "        print(\"The insanity rotes your eyes into a pool of muck. Good job!\")\n",
    "\n",
    "else:\n",
    "    print(\"You stumble around and fall on a knife and die. Good job!\")"
   ]
  },
  {
   "cell_type": "code",
   "execution_count": 18,
   "metadata": {},
   "outputs": [],
   "source": [
    "#while循环"
   ]
  },
  {
   "cell_type": "code",
   "execution_count": 3,
   "metadata": {},
   "outputs": [
    {
     "name": "stdout",
     "output_type": "stream",
     "text": [
      "1到100之和为：5050\n",
      "1到100之和为：5050\n"
     ]
    }
   ],
   "source": [
    "n = 100\n",
    "sum = 0\n",
    "counter = 1\n",
    "\n",
    "while counter <= n:\n",
    "    sum = sum + counter\n",
    "    counter += 1\n",
    "    \n",
    "print(\"1到%d之和为：%d\" % (n,sum))   #格式化符号  %d 有符号的十进制整数，  %的左侧放置一个字符串（格式化字符串），而右侧则放置希望格式化的值\n",
    "print(f\"1到{counter - 1}之和为：{sum}\")"
   ]
  },
  {
   "cell_type": "code",
   "execution_count": 1,
   "metadata": {},
   "outputs": [],
   "source": [
    "def save_grade(name, grade):\n",
    "    grades = open('sample.txt', 'a')  #a表示追加写模式\n",
    "    grades.write(f'姓名：{name}\\t成绩：{grade}\\n')\n",
    "    grades.close()"
   ]
  },
  {
   "cell_type": "code",
   "execution_count": 2,
   "metadata": {},
   "outputs": [
    {
     "name": "stdin",
     "output_type": "stream",
     "text": [
      "请输入姓名： a\n",
      "请输入成绩： 100\n"
     ]
    },
    {
     "name": "stdout",
     "output_type": "stream",
     "text": [
      "a的成绩已保存。\n"
     ]
    },
    {
     "name": "stdin",
     "output_type": "stream",
     "text": [
      "是否继续输入(yes or no)? yes\n",
      "请输入姓名： b\n",
      "请输入成绩： 120\n"
     ]
    },
    {
     "name": "stdout",
     "output_type": "stream",
     "text": [
      "b的成绩已保存。\n"
     ]
    },
    {
     "name": "stdin",
     "output_type": "stream",
     "text": [
      "是否继续输入(yes or no)? no\n"
     ]
    },
    {
     "name": "stdout",
     "output_type": "stream",
     "text": [
      "成绩输入结束。\n"
     ]
    }
   ],
   "source": [
    "while True:\n",
    "    name = input('请输入姓名：')\n",
    "    grade = input('请输入成绩：')\n",
    "    save_grade(name, grade)\n",
    "    print(f'{name}的成绩已保存。')\n",
    "    go_on = input('是否继续输入(yes or no)?')\n",
    "    n = 0\n",
    "    if go_on == 'yes':\n",
    "        continue\n",
    "    elif go_on == 'no':\n",
    "        break\n",
    "print('成绩输入结束。')"
   ]
  },
  {
   "cell_type": "code",
   "execution_count": 4,
   "metadata": {},
   "outputs": [
    {
     "name": "stdin",
     "output_type": "stream",
     "text": [
      "请输入姓名： xiaoming\n",
      "请输入成绩： 85\n"
     ]
    },
    {
     "name": "stdout",
     "output_type": "stream",
     "text": [
      "xiaoming的成绩已保存。\n"
     ]
    },
    {
     "name": "stdin",
     "output_type": "stream",
     "text": [
      "是否继续输入(yes or no)? a\n",
      "True指令无效，是否继续输入(yes or no)? a\n",
      "False指令无效，是否继续输入(yes or no)? a\n"
     ]
    },
    {
     "name": "stdout",
     "output_type": "stream",
     "text": [
      "结束\n"
     ]
    }
   ],
   "source": [
    "while True:\n",
    "    name = input(\"请输入姓名：\")\n",
    "    grade = input(\"请输入成绩：\")\n",
    "    save_grade(name, grade)\n",
    "    print(f\"{name}的成绩已保存。\")\n",
    "    go_on = input('是否继续输入(yes or no)?')\n",
    "    n=0\n",
    "    while n < 2:\n",
    "        if go_on == 'yes':\n",
    "            break\n",
    "            n = 0\n",
    "        elif go_on == 'no':\n",
    "            break\n",
    "        else:\n",
    "            n+=1\n",
    "            go_on = input(f'{n==1}指令无效，是否继续输入(yes or no)?')\n",
    "    if go_on == 'no' or n == 2:\n",
    "        print('结束')\n",
    "        break"
   ]
  },
  {
   "cell_type": "code",
   "execution_count": 5,
   "metadata": {},
   "outputs": [],
   "source": [
    "#for循环"
   ]
  },
  {
   "cell_type": "code",
   "execution_count": 9,
   "metadata": {},
   "outputs": [
    {
     "name": "stdout",
     "output_type": "stream",
     "text": [
      "This is count 1\n",
      "This is count 2\n",
      "This is count 3\n",
      "This is count 4\n",
      "This is count 5\n",
      "A fruit of type:apples\n",
      "A fruit of type:oranges\n",
      "A fruit of type:pears\n",
      "A fruit of type:apricots\n",
      "I got 1\n",
      "I got pennies\n",
      "I got 2\n",
      "I got dimes\n",
      "I got 3\n",
      "I got quarters\n",
      "Adding 0 to the list.\n",
      "Adding 1 to the list.\n",
      "Adding 2 to the list.\n",
      "Adding 3 to the list.\n",
      "Adding 4 to the list.\n",
      "Adding 5 to the list.\n",
      "Element was:0\n",
      "Element was:1\n",
      "Element was:2\n",
      "Element was:3\n",
      "Element was:4\n",
      "Element was:5\n"
     ]
    }
   ],
   "source": [
    "the_count=[1,2,3,4,5]\n",
    "fruits=['apples', 'oranges', 'pears', 'apricots']\n",
    "change=[1, 'pennies', 2, 'dimes', 3, 'quarters']\n",
    "\n",
    "for number in the_count:\n",
    "    print(f\"This is count {number}\")\n",
    "\n",
    "for fruit in fruits:\n",
    "    print(f\"A fruit of type:{fruit}\")\n",
    "\n",
    "for i in change:\n",
    "    print(f\"I got {i}\")\n",
    "    \n",
    "elements=[]\n",
    "\n",
    "for i in range(0, 6):   #range() 函数可创建一个整数列表，一般用在 for 循环中,从0开始到6结束，默认间隔1\n",
    "    print(f\"Adding {i} to the list.\")\n",
    "    \n",
    "    elements.append(i)  #append() 方法用于在列表末尾添加新的对象。\n",
    "    \n",
    "for i in elements:\n",
    "    print(f\"Element was:{i}\")"
   ]
  },
  {
   "cell_type": "code",
   "execution_count": 10,
   "metadata": {},
   "outputs": [],
   "source": [
    "#错误和异常"
   ]
  },
  {
   "cell_type": "code",
   "execution_count": 12,
   "metadata": {},
   "outputs": [
    {
     "name": "stdout",
     "output_type": "stream",
     "text": [
      "21\n"
     ]
    }
   ],
   "source": [
    "number_file=open('numbers.txt')\n",
    "numbers=number_file.readlines()\n",
    "sum=0\n",
    "for number in numbers:\n",
    "    #sum+=number\n",
    "    sum+=int(number)\n",
    "print(sum)\n",
    "number_file.close()"
   ]
  },
  {
   "cell_type": "code",
   "execution_count": 2,
   "metadata": {},
   "outputs": [
    {
     "name": "stdout",
     "output_type": "stream",
     "text": [
      "21\n"
     ]
    }
   ],
   "source": [
    "try:\n",
    "    number_file=open('numbers.txt')\n",
    "    numbers=number_file.readlines()\n",
    "    sum=0\n",
    "    for number in numbers:\n",
    "        sum+=int(number)\n",
    "except TypeError as te:\n",
    "    print(te.args)\n",
    "except:\n",
    "    print('未知错误')\n",
    "else:\n",
    "    print(sum)\n",
    "finally:\n",
    "    number_file.close()"
   ]
  },
  {
   "cell_type": "code",
   "execution_count": 3,
   "metadata": {},
   "outputs": [],
   "source": [
    "#with关键字"
   ]
  },
  {
   "cell_type": "code",
   "execution_count": 5,
   "metadata": {},
   "outputs": [],
   "source": [
    "stu_names=['Lily', 'Lucy', 'Han Meimei']\n",
    "with open('sample.txt', 'w') as txt:   #不需要我们自己关闭文件，无论是否出现异常，with都会自动帮助我们关闭文件\n",
    "    for name in stu_names:\n",
    "        txt.write(f'{name}签到!\\n')"
   ]
  },
  {
   "cell_type": "code",
   "execution_count": 6,
   "metadata": {},
   "outputs": [],
   "source": [
    "#Namespaces and Scope"
   ]
  },
  {
   "cell_type": "code",
   "execution_count": 12,
   "metadata": {},
   "outputs": [],
   "source": [
    "def test():\n",
    "    msg_inner='这是局部变量local variable'\n",
    "    print(msg_inner)\n",
    "#msg_inner"
   ]
  },
  {
   "cell_type": "code",
   "execution_count": 14,
   "metadata": {},
   "outputs": [
    {
     "data": {
      "text/plain": [
       "'全局变量global variable'"
      ]
     },
     "execution_count": 14,
     "metadata": {},
     "output_type": "execute_result"
    }
   ],
   "source": [
    "if True:\n",
    "    msg='全局变量global variable'\n",
    "msg"
   ]
  },
  {
   "cell_type": "code",
   "execution_count": 22,
   "metadata": {},
   "outputs": [
    {
     "name": "stdout",
     "output_type": "stream",
     "text": [
      "11\n"
     ]
    }
   ],
   "source": [
    "a=10\n",
    "def test(a):\n",
    "    a+=1\n",
    "    print(a)\n",
    "test(a)"
   ]
  },
  {
   "cell_type": "code",
   "execution_count": 23,
   "metadata": {},
   "outputs": [
    {
     "name": "stdout",
     "output_type": "stream",
     "text": [
      "11\n"
     ]
    }
   ],
   "source": [
    "number=10\n",
    "def test(a):\n",
    "    a+=1\n",
    "    print(a)\n",
    "test(number)"
   ]
  },
  {
   "cell_type": "code",
   "execution_count": 25,
   "metadata": {},
   "outputs": [
    {
     "data": {
      "text/plain": [
       "['ArithmeticError',\n",
       " 'AssertionError',\n",
       " 'AttributeError',\n",
       " 'BaseException',\n",
       " 'BlockingIOError',\n",
       " 'BrokenPipeError',\n",
       " 'BufferError',\n",
       " 'BytesWarning',\n",
       " 'ChildProcessError',\n",
       " 'ConnectionAbortedError',\n",
       " 'ConnectionError',\n",
       " 'ConnectionRefusedError',\n",
       " 'ConnectionResetError',\n",
       " 'DeprecationWarning',\n",
       " 'EOFError',\n",
       " 'Ellipsis',\n",
       " 'EnvironmentError',\n",
       " 'Exception',\n",
       " 'False',\n",
       " 'FileExistsError',\n",
       " 'FileNotFoundError',\n",
       " 'FloatingPointError',\n",
       " 'FutureWarning',\n",
       " 'GeneratorExit',\n",
       " 'IOError',\n",
       " 'ImportError',\n",
       " 'ImportWarning',\n",
       " 'IndentationError',\n",
       " 'IndexError',\n",
       " 'InterruptedError',\n",
       " 'IsADirectoryError',\n",
       " 'KeyError',\n",
       " 'KeyboardInterrupt',\n",
       " 'LookupError',\n",
       " 'MemoryError',\n",
       " 'ModuleNotFoundError',\n",
       " 'NameError',\n",
       " 'None',\n",
       " 'NotADirectoryError',\n",
       " 'NotImplemented',\n",
       " 'NotImplementedError',\n",
       " 'OSError',\n",
       " 'OverflowError',\n",
       " 'PendingDeprecationWarning',\n",
       " 'PermissionError',\n",
       " 'ProcessLookupError',\n",
       " 'RecursionError',\n",
       " 'ReferenceError',\n",
       " 'ResourceWarning',\n",
       " 'RuntimeError',\n",
       " 'RuntimeWarning',\n",
       " 'StopAsyncIteration',\n",
       " 'StopIteration',\n",
       " 'SyntaxError',\n",
       " 'SyntaxWarning',\n",
       " 'SystemError',\n",
       " 'SystemExit',\n",
       " 'TabError',\n",
       " 'TimeoutError',\n",
       " 'True',\n",
       " 'TypeError',\n",
       " 'UnboundLocalError',\n",
       " 'UnicodeDecodeError',\n",
       " 'UnicodeEncodeError',\n",
       " 'UnicodeError',\n",
       " 'UnicodeTranslateError',\n",
       " 'UnicodeWarning',\n",
       " 'UserWarning',\n",
       " 'ValueError',\n",
       " 'Warning',\n",
       " 'WindowsError',\n",
       " 'ZeroDivisionError',\n",
       " '__IPYTHON__',\n",
       " '__build_class__',\n",
       " '__debug__',\n",
       " '__doc__',\n",
       " '__import__',\n",
       " '__loader__',\n",
       " '__name__',\n",
       " '__package__',\n",
       " '__spec__',\n",
       " 'abs',\n",
       " 'all',\n",
       " 'any',\n",
       " 'ascii',\n",
       " 'bin',\n",
       " 'bool',\n",
       " 'breakpoint',\n",
       " 'bytearray',\n",
       " 'bytes',\n",
       " 'callable',\n",
       " 'chr',\n",
       " 'classmethod',\n",
       " 'compile',\n",
       " 'complex',\n",
       " 'copyright',\n",
       " 'credits',\n",
       " 'delattr',\n",
       " 'dict',\n",
       " 'dir',\n",
       " 'display',\n",
       " 'divmod',\n",
       " 'enumerate',\n",
       " 'eval',\n",
       " 'exec',\n",
       " 'filter',\n",
       " 'float',\n",
       " 'format',\n",
       " 'frozenset',\n",
       " 'get_ipython',\n",
       " 'getattr',\n",
       " 'globals',\n",
       " 'hasattr',\n",
       " 'hash',\n",
       " 'help',\n",
       " 'hex',\n",
       " 'id',\n",
       " 'input',\n",
       " 'int',\n",
       " 'isinstance',\n",
       " 'issubclass',\n",
       " 'iter',\n",
       " 'len',\n",
       " 'license',\n",
       " 'list',\n",
       " 'locals',\n",
       " 'map',\n",
       " 'max',\n",
       " 'memoryview',\n",
       " 'min',\n",
       " 'next',\n",
       " 'object',\n",
       " 'oct',\n",
       " 'open',\n",
       " 'ord',\n",
       " 'pow',\n",
       " 'print',\n",
       " 'property',\n",
       " 'range',\n",
       " 'repr',\n",
       " 'reversed',\n",
       " 'round',\n",
       " 'set',\n",
       " 'setattr',\n",
       " 'slice',\n",
       " 'sorted',\n",
       " 'staticmethod',\n",
       " 'str',\n",
       " 'sum',\n",
       " 'super',\n",
       " 'tuple',\n",
       " 'type',\n",
       " 'vars',\n",
       " 'zip']"
      ]
     },
     "execution_count": 25,
     "metadata": {},
     "output_type": "execute_result"
    }
   ],
   "source": [
    "#import builtins  #builtins是python的内建模块，所谓内建模块就是你在使用时不需要import，在python启动后，在没有执行程序员编写的任何代码前，python会加载内建模块中的函数到内存中。\n",
    "dir(builtins)  #dir() 函数不带参数时，返回当前范围内的变量、方法和定义的类型列表；带参数时，返回参数的属性、方法列表。"
   ]
  },
  {
   "cell_type": "code",
   "execution_count": null,
   "metadata": {},
   "outputs": [],
   "source": []
  }
 ],
 "metadata": {
  "kernelspec": {
   "display_name": "Python 3",
   "language": "python",
   "name": "python3"
  },
  "language_info": {
   "codemirror_mode": {
    "name": "ipython",
    "version": 3
   },
   "file_extension": ".py",
   "mimetype": "text/x-python",
   "name": "python",
   "nbconvert_exporter": "python",
   "pygments_lexer": "ipython3",
   "version": "3.8.3"
  }
 },
 "nbformat": 4,
 "nbformat_minor": 4
}
