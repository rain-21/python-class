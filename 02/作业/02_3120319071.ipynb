{
 "cells": [
  {
   "cell_type": "code",
   "execution_count": 4,
   "metadata": {},
   "outputs": [
    {
     "name": "stdout",
     "output_type": "stream",
     "text": [
      "第一个字符y\n"
     ]
    }
   ],
   "source": [
    "test='python'\n",
    "print('第一个字符%s'%test [1])"
   ]
  },
  {
   "cell_type": "code",
   "execution_count": 5,
   "metadata": {},
   "outputs": [
    {
     "name": "stdout",
     "output_type": "stream",
     "text": [
      "p y t h o n 首字母大写Python\n"
     ]
    }
   ],
   "source": [
    "for item in test :\n",
    "    print(item,end=' ')\n",
    "    pass\n",
    "print('首字母大写%s'%test .capitalize())"
   ]
  },
  {
   "cell_type": "code",
   "execution_count": 6,
   "metadata": {},
   "outputs": [
    {
     "name": "stdout",
     "output_type": "stream",
     "text": [
      "['abcd', 785, 12.23, 'qiuzhi', True]\n",
      "abcd\n",
      "[785, 12.23]\n",
      "[True, 'qiuzhi', 12.23, 785, 'abcd']\n",
      "追加之前 ['abcd', 785, 12.23, 'qiuzhi', True]\n",
      "追加之后 ['abcd', 785, 12.23, 'qiuzhi', True, ['fff', 'ddd']]\n",
      "['abcd', '这是我刚插入的', 785, 12.23, 'qiuzhi', True, ['fff', 'ddd']]\n"
     ]
    }
   ],
   "source": [
    "listA=['abcd',785,12.23,'qiuzhi',True]\n",
    "print(listA )\n",
    "print(listA [0])\n",
    "print(listA[1:3] )\n",
    "print(listA[::-1])\n",
    "print('追加之前',listA )\n",
    "listA.append(['fff','ddd'])\n",
    "print('追加之后',listA )\n",
    "listA.insert(1,'这是我刚插入的')\n",
    "print(listA )"
   ]
  },
  {
   "cell_type": "code",
   "execution_count": 7,
   "metadata": {},
   "outputs": [
    {
     "name": "stdout",
     "output_type": "stream",
     "text": [
      "<class 'list'>\n",
      "['abcd', '这是我刚插入的', 785, 12.23, 'qiuzhi', True, ['fff', 'ddd'], 0, 1, 2, 3, 4, 5, 6, 7, 8, 9]\n",
      "['peter', '这是我刚插入的', 785, 12.23, 'qiuzhi', True, ['fff', 'ddd'], 0, 1, 2, 3, 4, 5, 6, 7, 8, 9]\n"
     ]
    }
   ],
   "source": [
    "rsData=list(range (10))\n",
    "print(type (rsData ))\n",
    "listA .extend(rsData )\n",
    "print(listA )\n",
    "listA [0]='peter'\n",
    "print(listA)"
   ]
  },
  {
   "cell_type": "code",
   "execution_count": 8,
   "metadata": {},
   "outputs": [
    {
     "name": "stdout",
     "output_type": "stream",
     "text": [
      "[10, 11, 12, 13, 14, 15, 16, 17, 18, 19, 20, 21, 22, 23, 24, 25, 26, 27, 28, 29, 30, 31, 32, 33, 34, 35, 36, 37, 38, 39, 40, 41, 42, 43, 44, 45, 46, 47, 48, 49]\n",
      "[11, 12, 13, 14, 15, 16, 17, 18, 19, 20, 21, 22, 23, 24, 25, 26, 27, 28, 29, 30, 31, 32, 33, 34, 35, 36, 37, 38, 39, 40, 41, 42, 43, 44, 45, 46, 47, 48, 49]\n",
      "[11, 14, 15, 16, 17, 18, 19, 20, 21, 22, 23, 24, 25, 26, 27, 28, 29, 30, 31, 32, 33, 34, 35, 36, 37, 38, 39, 40, 41, 42, 43, 44, 45, 46, 47, 48, 49]\n"
     ]
    }
   ],
   "source": [
    "listB=list(range (10,50))\n",
    "print(listB )\n",
    "del listB [0]\n",
    "print(listB )\n",
    "del listB[1:3]\n",
    "print(listB )"
   ]
  },
  {
   "cell_type": "code",
   "execution_count": 9,
   "metadata": {},
   "outputs": [],
   "source": [
    "class Databass(object):\n",
    "    def __new__(cls, *args, **kwargs):\n",
    "        if not hasattr(cls,'_instance'):\n",
    "            cls._instance=object.__new__(cls, *args, **kwargs)\n",
    "        return cls._instance\n",
    "    pass"
   ]
  },
  {
   "cell_type": "code",
   "execution_count": 10,
   "metadata": {},
   "outputs": [
    {
     "name": "stdout",
     "output_type": "stream",
     "text": [
      "2312268524848\n",
      "2312268524848\n"
     ]
    }
   ],
   "source": [
    "d1=Databass()\n",
    "d2=Databass()\n",
    "print(id(d1))\n",
    "print(id(d2))"
   ]
  },
  {
   "cell_type": "code",
   "execution_count": 11,
   "metadata": {},
   "outputs": [
    {
     "name": "stdout",
     "output_type": "stream",
     "text": [
      "红色\n"
     ]
    }
   ],
   "source": [
    "class Animal:\n",
    "    def __init__(self):\n",
    "        self.color='红色'\n",
    "    def __new__(cls, *args, **kwargs):\n",
    "        return super().__new__(cls, *args, **kwargs)  #如果不重写，则默认结构如下\n",
    "    pass\n",
    "tiger=Animal()  #实例化过程会自动调用new去创建实例\n",
    "print(tiger.color)"
   ]
  },
  {
   "cell_type": "code",
   "execution_count": 12,
   "metadata": {},
   "outputs": [
    {
     "name": "stdout",
     "output_type": "stream",
     "text": [
      "计算结果是45\n"
     ]
    }
   ],
   "source": [
    "def sum(a,b):\n",
    "    result = 0\n",
    "    for item in range(a,b):\n",
    "        result += item\n",
    "    print('计算结果是%d'%result )\n",
    "    pass\n",
    "sum(1,10)"
   ]
  },
  {
   "cell_type": "code",
   "execution_count": 13,
   "metadata": {},
   "outputs": [
    {
     "name": "stdout",
     "output_type": "stream",
     "text": [
      "(25, 75)\n"
     ]
    }
   ],
   "source": [
    "def man(a,b):\n",
    "    for i in range(0,100):\n",
    "        if i*3+(a-i)*(1/3)==b:\n",
    "            return i,100-i\n",
    "        else:\n",
    "            i+=1\n",
    "    pass\n",
    "re=man(100,100)\n",
    "print(re)"
   ]
  },
  {
   "cell_type": "code",
   "execution_count": 16,
   "metadata": {},
   "outputs": [
    {
     "name": "stdout",
     "output_type": "stream",
     "text": [
      "{1, 2, 3, 4, 5}\n",
      "{2, 3, 4, 5}\n",
      "{1}\n",
      "1\n"
     ]
    }
   ],
   "source": [
    "li=[1,3,4,5,3,5,2,2,4]\n",
    "set1=set (li)\n",
    "print(set1 )\n",
    "for i in set1 :\n",
    "    li.remove(i)\n",
    "    pass\n",
    "set2=set (li)\n",
    "print(set2)  #set2为原来li中有重复数字的集合\n",
    "print(set1-set2 )\n",
    "for i in set1:\n",
    "    if i not in set2:\n",
    "        print(i)"
   ]
  },
  {
   "cell_type": "code",
   "execution_count": null,
   "metadata": {},
   "outputs": [],
   "source": []
  }
 ],
 "metadata": {
  "kernelspec": {
   "display_name": "Python 3",
   "language": "python",
   "name": "python3"
  },
  "language_info": {
   "codemirror_mode": {
    "name": "ipython",
    "version": 3
   },
   "file_extension": ".py",
   "mimetype": "text/x-python",
   "name": "python",
   "nbconvert_exporter": "python",
   "pygments_lexer": "ipython3",
   "version": "3.8.3"
  }
 },
 "nbformat": 4,
 "nbformat_minor": 4
}
