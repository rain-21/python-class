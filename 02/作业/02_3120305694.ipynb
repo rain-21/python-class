{
 "cells": [
  {
   "cell_type": "code",
   "execution_count": 4,
   "metadata": {},
   "outputs": [
    {
     "name": "stdout",
     "output_type": "stream",
     "text": [
      "l26H\n"
     ]
    }
   ],
   "source": [
    "import random\n",
    "if __name__ ==\"__main__\":    \n",
    "    checkcode=\"\" \n",
    "    for i in range(4):\n",
    "        index=random.randrange(0,4) \n",
    "        if index!=i and index +1 !=i:\n",
    "            checkcode +=chr(random.randint(97,122)) \n",
    "        elif index +1==i:\n",
    "            checkcode +=chr(random.randint(65,90) ) \n",
    "        else:\n",
    "            checkcode +=str(random.randint(1,9)) \n",
    "    print(checkcode)"
   ]
  },
  {
   "cell_type": "code",
   "execution_count": 8,
   "metadata": {},
   "outputs": [
    {
     "name": "stdout",
     "output_type": "stream",
     "text": [
      "请输入想要提问的内容：bye\n",
      "谢谢，再见！\n"
     ]
    }
   ],
   "source": [
    "def find_answer(question):\n",
    "    with open('reply.txt','r') as f :\n",
    "        while True:\n",
    "            line=f.readline()\n",
    "            if  not line:   \n",
    "                break\n",
    "            keyword=line.split('|')[0]\n",
    "            reply=line.split('|')[1]\n",
    "            if keyword in question:\n",
    "                return reply\n",
    "        return '对不起，没有你想要找的问题'\n",
    "\n",
    "if __name__ =='__main__':\n",
    "    question=input('请输入想要提问的内容：')\n",
    "    while True:\n",
    "        if question=='bye':\n",
    "            break\n",
    "        reply=find_answer(question)\n",
    "        if not reply:\n",
    "            question=input(\"小蜜不懂您在说什么，您可以问一些与订单、账户和支付相关的内容（退出请输入bye）：\")\n",
    "        else:\n",
    "            print(reply)\n",
    "            question=input(\"您可以问一些与订单、账户和支付相关的内容（退出请输入bye）：\")\n",
    "    print('谢谢，再见！')"
   ]
  },
  {
   "cell_type": "code",
   "execution_count": 12,
   "metadata": {},
   "outputs": [
    {
     "name": "stdout",
     "output_type": "stream",
     "text": [
      "输入数字1:45\n",
      "输入数字2:15\n",
      "15 is the maximum common divisor最大公约数\n",
      "45 is the least common multiple，最小公倍数\n"
     ]
    }
   ],
   "source": [
    "a=int(input('输入数字1:'))\n",
    "b=int(input('输入数字2:'))\n",
    "s=a*b\n",
    "while a%b!=0:\n",
    "    a,b=b,(a%b)\n",
    "    print(a)\n",
    "    print(b)\n",
    "else:\n",
    "    print(b,'is the maximum common divisor最大公约数')\n",
    "    print(s//b,'is the least common multiple，最小公倍数')"
   ]
  },
  {
   "cell_type": "code",
   "execution_count": null,
   "metadata": {},
   "outputs": [
    {
     "name": "stdout",
     "output_type": "stream",
     "text": [
      "请输入一个年份：2020\n",
      "2020 是闰年\n",
      "请输入一个年份：2018\n",
      "2018 不是闰年\n",
      "请输入一个年份：32003\n",
      "32003 不是闰年\n",
      "请输入一个年份：3300\n",
      "3300 不是闰年\n"
     ]
    }
   ],
   "source": [
    "# 判断是否为闰年\n",
    "while True:\n",
    "    try:\n",
    "        num=eval(input(\"请输入一个年份：\"))\n",
    "    except:\n",
    "        print('输入错误年份')\n",
    "        continue\n",
    "    if (num %4==0 and num%100 !=0) or num %400==0:\n",
    "        print(num,\"是闰年\")\n",
    "    else:\n",
    "        print(num,\"不是闰年\")"
   ]
  },
  {
   "cell_type": "code",
   "execution_count": null,
   "metadata": {},
   "outputs": [],
   "source": [
    "import calendar\n",
    "\n",
    "year = int(input(\"请输入年份：\"))\n",
    "check_year=calendar.isleap(year)\n",
    "if check_year == True:\n",
    "    print (\"闰年\")\n",
    "else:\n",
    "    print (\"平年\")"
   ]
  },
  {
   "cell_type": "code",
   "execution_count": null,
   "metadata": {},
   "outputs": [],
   "source": []
  }
 ],
 "metadata": {
  "kernelspec": {
   "display_name": "Python 3",
   "language": "python",
   "name": "python3"
  },
  "language_info": {
   "codemirror_mode": {
    "name": "ipython",
    "version": 3
   },
   "file_extension": ".py",
   "mimetype": "text/x-python",
   "name": "python",
   "nbconvert_exporter": "python",
   "pygments_lexer": "ipython3",
   "version": "3.8.5"
  }
 },
 "nbformat": 4,
 "nbformat_minor": 4
}
