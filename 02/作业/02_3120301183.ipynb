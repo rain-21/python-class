{
 "cells": [
  {
   "cell_type": "code",
   "execution_count": 7,
   "metadata": {},
   "outputs": [],
   "source": [
    "def say(words):\n",
    "    print(f'小明说:{words}')"
   ]
  },
  {
   "cell_type": "code",
   "execution_count": 14,
   "metadata": {},
   "outputs": [
    {
     "data": {
      "text/plain": [
       "['C:\\\\Users\\\\DELL\\\\anaconda3\\\\lib\\\\site-packages\\\\ipykernel_launcher.py',\n",
       " '-f',\n",
       " 'C:\\\\Users\\\\DELL\\\\AppData\\\\Roaming\\\\jupyter\\\\runtime\\\\kernel-6d9d2a00-ebf9-42ec-b245-1a95e2672e37.json']"
      ]
     },
     "execution_count": 14,
     "metadata": {},
     "output_type": "execute_result"
    }
   ],
   "source": [
    "import sys\n",
    "sys.executable\n",
    "sys.argv"
   ]
  },
  {
   "cell_type": "code",
   "execution_count": 17,
   "metadata": {},
   "outputs": [
    {
     "name": "stdout",
     "output_type": "stream",
     "text": [
      "arg1:abc,arg2:yinzi\n",
      "arg1:abc,arg2:yinzi\n",
      "arg1:yinzi~abc\n",
      "i got nothing.\n"
     ]
    }
   ],
   "source": [
    "def print_two(*args):\n",
    "    arg1,arg2=args\n",
    "    print(f\"arg1:{arg1},arg2:{arg2}\")\n",
    "def print_two_again(arg1,arg2):\n",
    "    print(f\"arg1:{arg1},arg2:{arg2}\")\n",
    "def print_one(arg1):\n",
    "    print(f\"arg1:{arg1}\")\n",
    "def print_none():\n",
    "    print(\"i got nothing.\")\n",
    "print_two('abc','yinzi')\n",
    "print_two_again('abc','yinzi')\n",
    "print_one('yinzi~abc')\n",
    "print_none()"
   ]
  },
  {
   "cell_type": "code",
   "execution_count": 18,
   "metadata": {},
   "outputs": [
    {
     "name": "stdout",
     "output_type": "stream",
     "text": [
      "we can just give the function numbers directly:\n",
      "你现在有10只猫！\n",
      "你现在还有20只狗！\n",
      "足够你开宠物咖了。\n",
      "走，跟我去领猫和狗\n",
      "or, we can use variables from our script:\n",
      "你现在有10只猫！\n",
      "你现在还有15只狗！\n",
      "足够你开宠物咖了。\n",
      "走，跟我去领猫和狗\n",
      "we can even do math inside too:\n",
      "你现在有8只猫！\n",
      "你现在还有13只狗！\n",
      "足够你开宠物咖了。\n",
      "走，跟我去领猫和狗\n",
      "and we can combine the two, variables and math:\n",
      "你现在有110只猫！\n",
      "你现在还有1015只狗！\n",
      "足够你开宠物咖了。\n",
      "走，跟我去领猫和狗\n"
     ]
    }
   ],
   "source": [
    "def cats_and_dogs(cats_count,dogs_count):\n",
    "    print(f'你现在有{cats_count}只猫！')\n",
    "    print(f'你现在还有{dogs_count}只狗！')\n",
    "    print('足够你开宠物咖了。')\n",
    "    print('走，跟我去领猫和狗')\n",
    "    \n",
    "print('we can just give the function numbers directly:')\n",
    "cats_and_dogs(10,20)\n",
    "print('or, we can use variables from our script:')\n",
    "amount_of_cats = 10\n",
    "amount_of_dogs = 15\n",
    "cats_and_dogs(amount_of_cats,amount_of_dogs)\n",
    "print('we can even do math inside too:')\n",
    "cats_and_dogs(3+5,5+8)\n",
    "print('and we can combine the two, variables and math:')\n",
    "cats_and_dogs(amount_of_cats+100,amount_of_dogs+1000)"
   ]
  },
  {
   "cell_type": "code",
   "execution_count": 19,
   "metadata": {},
   "outputs": [
    {
     "name": "stdout",
     "output_type": "stream",
     "text": [
      "我要调用用户自定义函数\n",
      "再次调用同一函数\n"
     ]
    },
    {
     "data": {
      "text/plain": [
       "0"
      ]
     },
     "execution_count": 19,
     "metadata": {},
     "output_type": "execute_result"
    }
   ],
   "source": [
    "def printme(str):\n",
    "    print(str)\n",
    "    return 0 \n",
    "printme('我要调用用户自定义函数')\n",
    "printme('再次调用同一函数')"
   ]
  },
  {
   "cell_type": "code",
   "execution_count": 23,
   "metadata": {},
   "outputs": [
    {
     "name": "stdout",
     "output_type": "stream",
     "text": [
      "140715492058912\n",
      "140715492058912\n",
      "140715492062080\n"
     ]
    }
   ],
   "source": [
    "def change(a):\n",
    "    print(id(a))\n",
    "    a=100\n",
    "    print(id(a))\n",
    "a=1\n",
    "print(id(a))\n",
    "change(a)"
   ]
  },
  {
   "cell_type": "code",
   "execution_count": 24,
   "metadata": {},
   "outputs": [
    {
     "name": "stdout",
     "output_type": "stream",
     "text": [
      "hello!\n"
     ]
    }
   ],
   "source": [
    "def greet_user():\n",
    "    print('hello!')\n",
    "greet_user()"
   ]
  },
  {
   "cell_type": "code",
   "execution_count": 28,
   "metadata": {},
   "outputs": [
    {
     "name": "stdout",
     "output_type": "stream",
     "text": [
      "hello,Jesse!\n"
     ]
    }
   ],
   "source": [
    "def greet_user(username):\n",
    "    print('hello,'+username.title()+\"!\")\n",
    "greet_user('jesse')"
   ]
  },
  {
   "cell_type": "code",
   "execution_count": 33,
   "metadata": {},
   "outputs": [
    {
     "name": "stdout",
     "output_type": "stream",
     "text": [
      "I have a cat.\n",
      "my cat's name is Ben.\n"
     ]
    }
   ],
   "source": [
    "def describe_pet(animal_type,pet_name):\n",
    "    print('I have a '+animal_type+'.')\n",
    "    print('my '+animal_type+\"'s name is \"+pet_name.title()+'.')\n",
    "    \n",
    "describe_pet('cat','ben')\n"
   ]
  },
  {
   "cell_type": "code",
   "execution_count": 34,
   "metadata": {},
   "outputs": [
    {
     "name": "stdout",
     "output_type": "stream",
     "text": [
      "I have a cat.\n",
      "my cat's name is Ben.\n",
      "I have a dog.\n",
      "my dog's name is Alice.\n"
     ]
    }
   ],
   "source": [
    "def describe_pet(animal_type,pet_name):\n",
    "    print('I have a '+animal_type+'.')\n",
    "    print('my '+animal_type+\"'s name is \"+pet_name.title()+'.')\n",
    "    \n",
    "describe_pet('cat','ben')\n",
    "describe_pet('dog','alice')\n"
   ]
  },
  {
   "cell_type": "code",
   "execution_count": 35,
   "metadata": {},
   "outputs": [
    {
     "name": "stdout",
     "output_type": "stream",
     "text": [
      "I have a cat.\n",
      "my cat's name is ben.\n"
     ]
    }
   ],
   "source": [
    "def describe_pet(animal_type,pet_name):\n",
    "    print('I have a '+animal_type+'.')\n",
    "    print('my '+animal_type+\"'s name is \"+pet_name+'.')\n",
    "    \n",
    "describe_pet('cat','ben')"
   ]
  },
  {
   "cell_type": "code",
   "execution_count": 38,
   "metadata": {},
   "outputs": [
    {
     "name": "stdout",
     "output_type": "stream",
     "text": [
      "Here's your file sample.txt:\n",
      "abc\n",
      "def\n",
      "ghj\n"
     ]
    }
   ],
   "source": [
    "filename = 'sample.txt'\n",
    "txt = open(filename)\n",
    "\n",
    "print(f\"Here's your file {filename}:\")\n",
    "print(txt.read())\n",
    "txt.close()"
   ]
  },
  {
   "cell_type": "code",
   "execution_count": 5,
   "metadata": {},
   "outputs": [
    {
     "name": "stdout",
     "output_type": "stream",
     "text": [
      "truncating the file. goodbye!\n",
      "now i am going to ask you for three lines.\n"
     ]
    },
    {
     "name": "stdin",
     "output_type": "stream",
     "text": [
      "line 1: 123\n",
      "line 2: 456\n",
      "line 3: 789\n"
     ]
    },
    {
     "name": "stdout",
     "output_type": "stream",
     "text": [
      "i am going to write these to the file.\n",
      "and finally, we close it.\n"
     ]
    }
   ],
   "source": [
    "filename = 'sample.txt'\n",
    "target = open(filename,'w')\n",
    "print('truncating the file. goodbye!')\n",
    "print('now i am going to ask you for three lines.')\n",
    "line1=input('line 1:')\n",
    "line2=input('line 2:')\n",
    "line3=input('line 3:')\n",
    "print('i am going to write these to the file.')\n",
    "target.write(line1)\n",
    "target.write('\\n')\n",
    "target.write(line2)\n",
    "target.write(\"\\n\")\n",
    "target.write(line3)\n",
    "target.write(\"\\n\")\n",
    "print('and finally, we close it.')\n",
    "target.close()"
   ]
  },
  {
   "cell_type": "code",
   "execution_count": 7,
   "metadata": {},
   "outputs": [
    {
     "name": "stdout",
     "output_type": "stream",
     "text": [
      "first let us print the whole file:\n",
      "\n",
      "123\n",
      "456\n",
      "789\n",
      "\n",
      "now let us rewind, kind of like a tape\n",
      "let us print three lines:\n",
      "1 123\n",
      "\n",
      "2 456\n",
      "\n",
      "3 789\n",
      "\n"
     ]
    }
   ],
   "source": [
    "input_file = 'sample.txt'\n",
    "\n",
    "def print_all(f):\n",
    "    print(f.read())\n",
    "def rewind(f):\n",
    "    f.seek(0)\n",
    "def print_a_line(line_count, f):\n",
    "    print(line_count, f.readline())\n",
    "\n",
    "current_file = open(input_file)\n",
    "print('first let us print the whole file:\\n')\n",
    "print_all(current_file)\n",
    "print('now let us rewind, kind of like a tape')\n",
    "rewind(current_file)\n",
    "print('let us print three lines:')\n",
    "current_line = 1\n",
    "print_a_line(current_line, current_file)\n",
    "current_line = current_line + 1\n",
    "print_a_line(current_line, current_file)\n",
    "current_line += 1\n",
    "print_a_line(current_line, current_file)\n",
    "current_file.close()"
   ]
  },
  {
   "cell_type": "code",
   "execution_count": 8,
   "metadata": {},
   "outputs": [
    {
     "name": "stdout",
     "output_type": "stream",
     "text": [
      "let us do some math with just functions!\n",
      "adding30+5\n",
      "subtracting78-4\n",
      "multiply90*2\n",
      "dividing100/2\n",
      "age:35,height:74,weight:180,iq:50.0\n",
      "here is a puzzle.\n",
      "dividing50.0/2\n",
      "multiply180*25.0\n",
      "subtracting74-4500.0\n",
      "adding35+-4426.0\n",
      "that becomes: -4391.0 can you do it by hand?\n"
     ]
    }
   ],
   "source": [
    "def add(a, b):\n",
    "    print(f'adding{a}+{b}')\n",
    "    return a+b\n",
    "def subtract(a, b):\n",
    "    print(f'subtracting{a}-{b}')\n",
    "    return a-b\n",
    "def multiply(a, b):\n",
    "    print(f'multiply{a}*{b}')\n",
    "    return a*b\n",
    "def divide(a, b):\n",
    "    print(f'dividing{a}/{b}')\n",
    "    return a/b\n",
    "print('let us do some math with just functions!')\n",
    "age = add(30,5)\n",
    "height = subtract(78,4)\n",
    "weight = multiply(90,2)\n",
    "iq = divide(100,2)\n",
    "print(f\"age:{age},height:{height},weight:{weight},iq:{iq}\")\n",
    "print('here is a puzzle.')\n",
    "what = add(age, subtract(height,multiply(weight, divide(iq, 2))))\n",
    "print(\"that becomes:\",what,\"can you do it by hand?\")"
   ]
  },
  {
   "cell_type": "code",
   "execution_count": 9,
   "metadata": {},
   "outputs": [
    {
     "name": "stdout",
     "output_type": "stream",
     "text": [
      "too many cats!the world is doomed!\n",
      "the world is dry!\n",
      "people are greater than or equal to dogs:\n",
      "people are less than or equal to dogs.\n",
      "people are dogs.\n"
     ]
    }
   ],
   "source": [
    "people = 20\n",
    "cats = 30\n",
    "dogs = 15\n",
    "if people < cats :\n",
    "    print(\"too many cats!the world is doomed!\")\n",
    "if people > cats :\n",
    "    print(\"not many cats! the world is saved!\")\n",
    "if people < dogs :\n",
    "    print(\"the world is doored on!\")\n",
    "if people > dogs :\n",
    "    print(\"the world is dry!\")\n",
    "    \n",
    "dogs +=5\n",
    "if people >= dogs:\n",
    "    print(\"people are greater than or equal to dogs:\")\n",
    "if people <= dogs:\n",
    "    print(\"people are less than or equal to dogs.\")\n",
    "if people == dogs:\n",
    "    print(\"people are dogs.\")"
   ]
  },
  {
   "cell_type": "code",
   "execution_count": 11,
   "metadata": {},
   "outputs": [
    {
     "name": "stdout",
     "output_type": "stream",
     "text": [
      "we should take the cars.\n",
      "maybe we could take the trucks.\n",
      "alright, let's just take the trucks.\n"
     ]
    }
   ],
   "source": [
    "people = 30\n",
    "cars = 40\n",
    "trucks = 15\n",
    "if cars > people:\n",
    "    print(\"we should take the cars.\")\n",
    "elif cars < people:\n",
    "    print(\"we should not take the cars.\")\n",
    "else:\n",
    "    print(\"we can't decide.\")\n",
    "\n",
    "if trucks > cars:\n",
    "    print(\"that's too many trucks.\")\n",
    "elif trucks < cars:\n",
    "    print(\"maybe we could take the trucks.\")\n",
    "else:\n",
    "    print(\"we still can't decide.\")\n",
    "\n",
    "if people > trucks:\n",
    "    print(\"alright, let's just take the trucks.\")\n",
    "else:\n",
    "    print(\"fine, let's stay home then.\")"
   ]
  },
  {
   "cell_type": "code",
   "execution_count": 12,
   "metadata": {},
   "outputs": [
    {
     "name": "stdout",
     "output_type": "stream",
     "text": [
      "you enter a dark room with two doors.\n",
      "do you go through door #1 or door #2?\n"
     ]
    },
    {
     "name": "stdin",
     "output_type": "stream",
     "text": [
      ">  1\n"
     ]
    },
    {
     "name": "stdout",
     "output_type": "stream",
     "text": [
      "there is a giant bear here eating a cheese cake, what do you do?\n",
      "1. take the cake.\n",
      "2. scream at the bear.\n"
     ]
    },
    {
     "name": "stdin",
     "output_type": "stream",
     "text": [
      "> 2\n"
     ]
    },
    {
     "name": "stdout",
     "output_type": "stream",
     "text": [
      "the bear eats your legs off. good job!\n"
     ]
    }
   ],
   "source": [
    "print(\"\"\"you enter a dark room with two doors.\n",
    "do you go through door #1 or door #2?\"\"\")\n",
    "door = input(\"> \")\n",
    "\n",
    "if door == \"1\":\n",
    "    print(\"there is a giant bear here eating a cheese cake, what do you do?\")\n",
    "    print(\"1. take the cake.\")\n",
    "    print(\"2. scream at the bear.\")\n",
    "    \n",
    "    bear = input(\">\")\n",
    "    if bear ==\"1\":\n",
    "        print(\"the bear eats your face off. good job!\")\n",
    "    elif bear==\"2\":\n",
    "        print(\"the bear eats your legs off. good job!\")\n",
    "    else:\n",
    "        print(f\"well, doing{bear} is probably better. bear runs away.\")\n",
    "elif door ==\"2\":\n",
    "    print(\"you stare into the endless abyss at Cthulhu's retina.\")\n",
    "    print(\"1. blueberries.\")\n",
    "    print(\"2. yellow jacket clothespins.\")\n",
    "    print(\"3. understanding revolvers yelling melodies.\")\n",
    "    \n",
    "    insanity = input(\"> \")\n",
    "    \n",
    "    if insanity ==\"1\" or insanity ==\"2\":\n",
    "        print(\"your body survives powered by a mind of jello. good job!\")\n",
    "    else:\n",
    "        print(\"the insanity rots ypur eyes into a pool of muck. good job!\")\n",
    "\n",
    "else:\n",
    "    print(\"you stumble around and fall on a knife and die. good job!\")"
   ]
  },
  {
   "cell_type": "code",
   "execution_count": 13,
   "metadata": {},
   "outputs": [
    {
     "name": "stdout",
     "output_type": "stream",
     "text": [
      "1到100之和为：5050\n"
     ]
    }
   ],
   "source": [
    "n= 100\n",
    "\n",
    "sum = 0\n",
    "counter = 1\n",
    "while counter <= n:\n",
    "    sum = sum +counter\n",
    "    counter +=1\n",
    "print(\"1到%d之和为：%d\"%(n,sum))"
   ]
  },
  {
   "cell_type": "code",
   "execution_count": 15,
   "metadata": {},
   "outputs": [
    {
     "name": "stdin",
     "output_type": "stream",
     "text": [
      "请输入姓名： abc\n",
      "请输入成绩： 98\n"
     ]
    },
    {
     "name": "stdout",
     "output_type": "stream",
     "text": [
      "abc的成绩已保存。\n"
     ]
    },
    {
     "name": "stdin",
     "output_type": "stream",
     "text": [
      "是否继续输入（yes or no）？ yes\n",
      "请输入姓名： Patric Dean\n",
      "请输入成绩： 100\n"
     ]
    },
    {
     "name": "stdout",
     "output_type": "stream",
     "text": [
      "Patric Dean的成绩已保存。\n"
     ]
    },
    {
     "name": "stdin",
     "output_type": "stream",
     "text": [
      "是否继续输入（yes or no）？ no\n"
     ]
    }
   ],
   "source": [
    "def save_grade(name, grade):\n",
    "    grades = open ('samole,txt','a')\n",
    "    grades.write(f'姓名： {name}\\t成绩: {grade}\\n')\n",
    "    grades.close()\n",
    "while True:\n",
    "    name = input(\"请输入姓名：\")\n",
    "    grade = input('请输入成绩：')\n",
    "    save_grade(name, grade)\n",
    "    print(f'{name}的成绩已保存。')\n",
    "    go_on = input('是否继续输入（yes or no）？')\n",
    "    n = 0\n",
    "    if go_on == 'yes':\n",
    "        continue\n",
    "    elif go_on == 'no':\n",
    "        break\n",
    "    print('成绩输入结束。')"
   ]
  },
  {
   "cell_type": "code",
   "execution_count": 18,
   "metadata": {},
   "outputs": [
    {
     "name": "stdout",
     "output_type": "stream",
     "text": [
      "This is count 1\n",
      "This is count 2\n",
      "This is count 3\n",
      "This is count 4\n",
      "This is count 5\n",
      "A fruit of type: apples\n",
      "A fruit of type: oranges\n",
      "A fruit of type: pears\n",
      "A fruit of type: apricots\n",
      "I got 1\n",
      "I got pennies\n",
      "I got 2\n",
      "I got dimes\n",
      "I got 3\n",
      "I got quarters\n",
      "Adding 0 to the list.\n",
      "Adding 1 to the list.\n",
      "Adding 2 to the list.\n",
      "Adding 3 to the list.\n",
      "Adding 4 to the list.\n",
      "Adding 5 to the list.\n",
      "Element was: 0\n",
      "Element was: 1\n",
      "Element was: 2\n",
      "Element was: 3\n",
      "Element was: 4\n",
      "Element was: 5\n"
     ]
    }
   ],
   "source": [
    "the_count = [1, 2, 3, 4, 5]\n",
    "fruits = ['apples', 'oranges', 'pears', 'apricots']\n",
    "change = [1, 'pennies', 2, 'dimes', 3, 'quarters']\n",
    "for number in the_count:\n",
    "    print(f\"This is count {number}\")\n",
    "for fruit in fruits:\n",
    "    print(f\"A fruit of type: {fruit}\")\n",
    "for i in change:\n",
    "    print(f\"I got {i}\")\n",
    "elements = []\n",
    "for i in range(0, 6):\n",
    "    print(f\"Adding {i} to the list.\")\n",
    "    elements.append(i)\n",
    "for i in elements:\n",
    "    print(f\"Element was: {i}\")"
   ]
  },
  {
   "cell_type": "code",
   "execution_count": 21,
   "metadata": {},
   "outputs": [
    {
     "ename": "TypeError",
     "evalue": "unsupported operand type(s) for +=: 'int' and 'str'",
     "output_type": "error",
     "traceback": [
      "\u001b[1;31m---------------------------------------------------------------------------\u001b[0m",
      "\u001b[1;31mTypeError\u001b[0m                                 Traceback (most recent call last)",
      "\u001b[1;32m<ipython-input-21-9cbe3aec459f>\u001b[0m in \u001b[0;36m<module>\u001b[1;34m\u001b[0m\n\u001b[0;32m      3\u001b[0m \u001b[0msum\u001b[0m \u001b[1;33m=\u001b[0m \u001b[1;36m0\u001b[0m\u001b[1;33m\u001b[0m\u001b[1;33m\u001b[0m\u001b[0m\n\u001b[0;32m      4\u001b[0m \u001b[1;32mfor\u001b[0m \u001b[0mnumber\u001b[0m \u001b[1;32min\u001b[0m \u001b[0mnumbers\u001b[0m\u001b[1;33m:\u001b[0m\u001b[1;33m\u001b[0m\u001b[1;33m\u001b[0m\u001b[0m\n\u001b[1;32m----> 5\u001b[1;33m     \u001b[0msum\u001b[0m \u001b[1;33m+=\u001b[0m \u001b[0mnumber\u001b[0m\u001b[1;33m\u001b[0m\u001b[1;33m\u001b[0m\u001b[0m\n\u001b[0m\u001b[0;32m      6\u001b[0m \u001b[0mprint\u001b[0m\u001b[1;33m(\u001b[0m\u001b[0msum\u001b[0m\u001b[1;33m)\u001b[0m\u001b[1;33m\u001b[0m\u001b[1;33m\u001b[0m\u001b[0m\n\u001b[0;32m      7\u001b[0m \u001b[0mnumber_file\u001b[0m\u001b[1;33m.\u001b[0m\u001b[0mclose\u001b[0m\u001b[1;33m(\u001b[0m\u001b[1;33m)\u001b[0m\u001b[1;33m\u001b[0m\u001b[1;33m\u001b[0m\u001b[0m\n",
      "\u001b[1;31mTypeError\u001b[0m: unsupported operand type(s) for +=: 'int' and 'str'"
     ]
    }
   ],
   "source": [
    "number_file = open('numbers.txt')\n",
    "numbers = number_file.readlines()\n",
    "sum = 0\n",
    "for number in numbers:\n",
    "    sum += number\n",
    "print(sum)\n",
    "number_file.close()"
   ]
  },
  {
   "cell_type": "code",
   "execution_count": 22,
   "metadata": {},
   "outputs": [
    {
     "name": "stdout",
     "output_type": "stream",
     "text": [
      "1047\n"
     ]
    }
   ],
   "source": [
    "try:\n",
    "    number_file = open('numbers.txt')\n",
    "    numbers = number_file.readlines()\n",
    "    sum = 0\n",
    "    for number in numbers:\n",
    "        sum += int(number)\n",
    "except TypeError as te:\n",
    "    print(te.args)\n",
    "except:\n",
    "    print('未知错误')\n",
    "else:\n",
    "    print(sum)\n",
    "finally:\n",
    "    number_file.close()"
   ]
  },
  {
   "cell_type": "code",
   "execution_count": 24,
   "metadata": {},
   "outputs": [
    {
     "name": "stdout",
     "output_type": "stream",
     "text": [
      "a\n",
      "不是数字！\n"
     ]
    }
   ],
   "source": [
    "try:\n",
    "    number_file = open('numbers.txt')\n",
    "    numbers = number_file.readlines()\n",
    "    sum = 0\n",
    "    for number in numbers:\n",
    "        sum += int(number)\n",
    "except TypeError as te:\n",
    "    print(te.args)\n",
    "except ValueError:\n",
    "    print(f'{number}不是数字！')\n",
    "except:\n",
    "    print('未知错误')\n",
    "else:\n",
    "    print(sum)\n",
    "finally:\n",
    "    number_file.close()\n"
   ]
  },
  {
   "cell_type": "code",
   "execution_count": 25,
   "metadata": {},
   "outputs": [],
   "source": [
    "stu_names = ['Lily', 'Lucy', 'Han Meimei']\n",
    "with open('sample.txt', 'w') as txt:\n",
    "    for name in stu_names:\n",
    "        txt.write(f'{name} 签到！\\n')"
   ]
  },
  {
   "cell_type": "code",
   "execution_count": null,
   "metadata": {},
   "outputs": [],
   "source": []
  }
 ],
 "metadata": {
  "kernelspec": {
   "display_name": "Python 3",
   "language": "python",
   "name": "python3"
  },
  "language_info": {
   "codemirror_mode": {
    "name": "ipython",
    "version": 3
   },
   "file_extension": ".py",
   "mimetype": "text/x-python",
   "name": "python",
   "nbconvert_exporter": "python",
   "pygments_lexer": "ipython3",
   "version": "3.8.5"
  }
 },
 "nbformat": 4,
 "nbformat_minor": 4
}
