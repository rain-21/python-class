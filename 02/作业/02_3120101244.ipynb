{
 "cells": [
  {
   "cell_type": "code",
   "execution_count": 1,
   "metadata": {},
   "outputs": [
    {
     "name": "stdout",
     "output_type": "stream",
     "text": [
      "None\n"
     ]
    }
   ],
   "source": [
    "import re\n",
    "pat=re.compile(\"AA\")\n",
    "m=pat.search(\"CBA\")\n",
    "print(m)"
   ]
  },
  {
   "cell_type": "code",
   "execution_count": 2,
   "metadata": {},
   "outputs": [
    {
     "name": "stdout",
     "output_type": "stream",
     "text": [
      "<re.Match object; span=(3, 5), match='AA'>\n"
     ]
    }
   ],
   "source": [
    "pat=re.compile(\"AA\")\n",
    "m=pat.search(\"ACBAA\")\n",
    "print(m)"
   ]
  },
  {
   "cell_type": "code",
   "execution_count": 3,
   "metadata": {},
   "outputs": [
    {
     "name": "stdout",
     "output_type": "stream",
     "text": [
      "<re.Match object; span=(4, 6), match='AA'>\n"
     ]
    }
   ],
   "source": [
    "pat=re.compile(\"AA\")\n",
    "m=pat.search(\"ACBDAAAA\")\n",
    "print(m)"
   ]
  },
  {
   "cell_type": "code",
   "execution_count": 4,
   "metadata": {},
   "outputs": [
    {
     "name": "stdout",
     "output_type": "stream",
     "text": [
      "<re.Match object; span=(1, 4), match='asd'>\n"
     ]
    }
   ],
   "source": [
    "m=re.search(\"asd\",\"Aasd\")\n",
    "print(m)"
   ]
  },
  {
   "cell_type": "code",
   "execution_count": 5,
   "metadata": {},
   "outputs": [
    {
     "name": "stdout",
     "output_type": "stream",
     "text": [
      "['a', 'a', 'a']\n"
     ]
    }
   ],
   "source": [
    "pat=re.findall(\"a\",\"ashujdialia\")\n",
    "print(pat)"
   ]
  },
  {
   "cell_type": "code",
   "execution_count": 6,
   "metadata": {},
   "outputs": [
    {
     "ename": "NameError",
     "evalue": "name 'ASDADHAOsjadiaoAiosd' is not defined",
     "output_type": "error",
     "traceback": [
      "\u001b[1;31m---------------------------------------------------------------------------\u001b[0m",
      "\u001b[1;31mNameError\u001b[0m                                 Traceback (most recent call last)",
      "\u001b[1;32m<ipython-input-6-797d29bbf8db>\u001b[0m in \u001b[0;36m<module>\u001b[1;34m\u001b[0m\n\u001b[1;32m----> 1\u001b[1;33m \u001b[0mprint\u001b[0m\u001b[1;33m(\u001b[0m\u001b[0mre\u001b[0m\u001b[1;33m.\u001b[0m\u001b[0mfindall\u001b[0m\u001b[1;33m(\u001b[0m\u001b[1;34m\"[A-Z]\"\u001b[0m\u001b[1;33m,\u001b[0m\u001b[0mASDADHAOsjadiaoAiosd\u001b[0m\u001b[1;33m)\u001b[0m\u001b[1;33m)\u001b[0m\u001b[1;33m\u001b[0m\u001b[1;33m\u001b[0m\u001b[0m\n\u001b[0m",
      "\u001b[1;31mNameError\u001b[0m: name 'ASDADHAOsjadiaoAiosd' is not defined"
     ]
    }
   ],
   "source": [
    "print(re.findall(\"[A-Z]\",ASDADHAOsjadiaoAiosd))"
   ]
  },
  {
   "cell_type": "code",
   "execution_count": 10,
   "metadata": {},
   "outputs": [
    {
     "name": "stdout",
     "output_type": "stream",
     "text": [
      "['S', 'A', 'J', 'I', 'G', 'H', 'D', 'A', 'S', 'D', 'G']\n"
     ]
    }
   ],
   "source": [
    "print(re.findall(\"[A-Z]\",\"SAJIGHDdbhasjgdfhASDjhgdaG\"))"
   ]
  },
  {
   "cell_type": "code",
   "execution_count": 11,
   "metadata": {},
   "outputs": [
    {
     "name": "stdout",
     "output_type": "stream",
     "text": [
      "['SAD', 'ASD']\n"
     ]
    }
   ],
   "source": [
    "print(re.findall(\"[A-Z]+\",\"SADsaASD\"))"
   ]
  },
  {
   "cell_type": "code",
   "execution_count": 12,
   "metadata": {},
   "outputs": [
    {
     "name": "stdout",
     "output_type": "stream",
     "text": [
      "AsdghAiju\n"
     ]
    }
   ],
   "source": [
    "print(re.sub('a','A','asdghaiju'))"
   ]
  },
  {
   "cell_type": "code",
   "execution_count": 1,
   "metadata": {},
   "outputs": [],
   "source": [
    "import sys\n",
    "from bs4 import BeautifulSoup\n",
    "import re\n",
    "import urllib\n",
    "import requests"
   ]
  },
  {
   "cell_type": "code",
   "execution_count": null,
   "metadata": {},
   "outputs": [],
   "source": [
    "url=\"https://movie.douban.com/top250?start=\"\n",
    "def askurl(url):\n",
    "    headers={\"User-Agent\":\" Mozilla/5.0 (Windows NT 10.0; Win64; x64) AppleWebKit/537.36 (KHTML, like Gecko) Chrome/87.0.4280.67 Safari/537.36 Edg/87.0.664.47\"}\n",
    "    for i in range(10):\n",
    "        url+=i*25\n",
    "        datalist=urllib."
   ]
  },
  {
   "cell_type": "code",
   "execution_count": 10,
   "metadata": {},
   "outputs": [
    {
     "name": "stdout",
     "output_type": "stream",
     "text": [
      "<html>\n",
      "<head>\n",
      "\t<script>\n",
      "\t\tlocation.replace(location.href.replace(\"https://\",\"http://\"));\n",
      "\t</script>\n",
      "</head>\n",
      "<body>\n",
      "\t<noscript><meta http-equiv=\"refresh\" content=\"0;url=http://www.baidu.com/\"></noscript>\n",
      "</body>\n",
      "</html>\n"
     ]
    }
   ],
   "source": [
    "a=urllib.request.urlopen(\"https://www.baidu.com/?tn=18029102_2_dg\")\n",
    "print(a.read().decode(\"utf-8\"))"
   ]
  },
  {
   "cell_type": "code",
   "execution_count": 11,
   "metadata": {},
   "outputs": [
    {
     "name": "stdout",
     "output_type": "stream",
     "text": [
      "None\n"
     ]
    }
   ],
   "source": [
    "b=BeautifulSoup(a,\"html.parser\")\n",
    "print(b.head)"
   ]
  },
  {
   "cell_type": "code",
   "execution_count": 9,
   "metadata": {},
   "outputs": [
    {
     "name": "stdout",
     "output_type": "stream",
     "text": [
      "None\n"
     ]
    }
   ],
   "source": [
    "print(b.title)"
   ]
  },
  {
   "cell_type": "code",
   "execution_count": 11,
   "metadata": {},
   "outputs": [],
   "source": [
    "f=open(\"test.txt\",\"w\")"
   ]
  },
  {
   "cell_type": "code",
   "execution_count": 12,
   "metadata": {},
   "outputs": [
    {
     "data": {
      "text/plain": [
       "11"
      ]
     },
     "execution_count": 12,
     "metadata": {},
     "output_type": "execute_result"
    }
   ],
   "source": [
    "f.write(\"hello world\")"
   ]
  },
  {
   "cell_type": "code",
   "execution_count": 13,
   "metadata": {},
   "outputs": [],
   "source": [
    "f.close()"
   ]
  },
  {
   "cell_type": "code",
   "execution_count": 16,
   "metadata": {},
   "outputs": [
    {
     "name": "stdout",
     "output_type": "stream",
     "text": [
      "hello\n",
      " worl\n"
     ]
    }
   ],
   "source": [
    "f=open(\"test.txt\",\"r\")\n",
    "content=f.read(5)\n",
    "print(content)\n",
    "content=f.read(5)\n",
    "print(content)\n",
    "f.close()"
   ]
  },
  {
   "cell_type": "code",
   "execution_count": 19,
   "metadata": {},
   "outputs": [
    {
     "name": "stdout",
     "output_type": "stream",
     "text": [
      "1:hello world\n"
     ]
    }
   ],
   "source": [
    "f=open(\"test.txt\",\"r\")\n",
    "content=f.readlines()\n",
    "i=1\n",
    "for each in content:\n",
    "    print(\"%d:%s\"%(i,each))\n",
    "    i+=1\n",
    "f.close()"
   ]
  },
  {
   "cell_type": "code",
   "execution_count": 20,
   "metadata": {},
   "outputs": [],
   "source": [
    "import os"
   ]
  },
  {
   "cell_type": "code",
   "execution_count": 21,
   "metadata": {},
   "outputs": [
    {
     "data": {
      "text/plain": [
       "'D:\\\\python1'"
      ]
     },
     "execution_count": 21,
     "metadata": {},
     "output_type": "execute_result"
    }
   ],
   "source": [
    "os.getcwd()"
   ]
  },
  {
   "cell_type": "code",
   "execution_count": 23,
   "metadata": {},
   "outputs": [
    {
     "data": {
      "text/plain": [
       "['$RECYCLE.BIN',\n",
       " '123',\n",
       " 'Anaconda3-',\n",
       " 'BaiduNetdiskDownload',\n",
       " 'openfoam',\n",
       " 'python',\n",
       " 'python1',\n",
       " 'qq',\n",
       " 'QQMusicCache',\n",
       " 'QQPCMgr',\n",
       " 'qq个人文件',\n",
       " 'qq音乐',\n",
       " 'qycache',\n",
       " 'System Volume Information',\n",
       " 'ubuntu-14.04.5-desktop-amd64.iso',\n",
       " 'VC++',\n",
       " 'wexin',\n",
       " 'xiuniji',\n",
       " '爱奇艺',\n",
       " '百度云',\n",
       " '谷歌']"
      ]
     },
     "execution_count": 23,
     "metadata": {},
     "output_type": "execute_result"
    }
   ],
   "source": [
    "os.listdir('D:\\\\')"
   ]
  },
  {
   "cell_type": "code",
   "execution_count": 24,
   "metadata": {},
   "outputs": [],
   "source": [
    "os.mkdir('D:\\\\A')"
   ]
  },
  {
   "cell_type": "code",
   "execution_count": 26,
   "metadata": {},
   "outputs": [],
   "source": [
    "os.rmdir('D:\\\\A')"
   ]
  },
  {
   "cell_type": "code",
   "execution_count": 27,
   "metadata": {},
   "outputs": [
    {
     "data": {
      "text/plain": [
       "0"
      ]
     },
     "execution_count": 27,
     "metadata": {},
     "output_type": "execute_result"
    }
   ],
   "source": [
    "os.system('cmd')"
   ]
  },
  {
   "cell_type": "code",
   "execution_count": 28,
   "metadata": {},
   "outputs": [
    {
     "data": {
      "text/plain": [
       "0"
      ]
     },
     "execution_count": 28,
     "metadata": {},
     "output_type": "execute_result"
    }
   ],
   "source": [
    "os.system('calc')"
   ]
  },
  {
   "cell_type": "code",
   "execution_count": 29,
   "metadata": {},
   "outputs": [
    {
     "data": {
      "text/plain": [
       "['.ipynb_checkpoints',\n",
       " '01-3120101244-张春波.ipynb',\n",
       " 'test.txt',\n",
       " 'Untitled (2).ipynb',\n",
       " 'Untitled1.ipynb',\n",
       " 'zcb.py',\n",
       " '豆瓣Top250电影.txt']"
      ]
     },
     "execution_count": 29,
     "metadata": {},
     "output_type": "execute_result"
    }
   ],
   "source": [
    "os.listdir('.')"
   ]
  },
  {
   "cell_type": "code",
   "execution_count": 30,
   "metadata": {},
   "outputs": [
    {
     "data": {
      "text/plain": [
       "'nt'"
      ]
     },
     "execution_count": 30,
     "metadata": {},
     "output_type": "execute_result"
    }
   ],
   "source": [
    "os.name"
   ]
  },
  {
   "cell_type": "code",
   "execution_count": 31,
   "metadata": {},
   "outputs": [],
   "source": [
    "import pickle\n",
    "MyList=[1234,5678,\"zcb\",[1,2,3]]\n",
    "f=open(\"MyList.zcb\",'wb')\n",
    "pickle.dump(MyList,f)\n",
    "f.close()"
   ]
  },
  {
   "cell_type": "code",
   "execution_count": 32,
   "metadata": {},
   "outputs": [
    {
     "name": "stdout",
     "output_type": "stream",
     "text": [
      "[1234, 5678, 'zcb', [1, 2, 3]]\n"
     ]
    }
   ],
   "source": [
    "f=open('MyList.zcb','rb')\n",
    "a=pickle.load(f)\n",
    "print(a)\n",
    "f.close()"
   ]
  },
  {
   "cell_type": "code",
   "execution_count": 33,
   "metadata": {},
   "outputs": [
    {
     "ename": "ModuleNotFoundError",
     "evalue": "No module named 'easygui'",
     "output_type": "error",
     "traceback": [
      "\u001b[1;31m---------------------------------------------------------------------------\u001b[0m",
      "\u001b[1;31mModuleNotFoundError\u001b[0m                       Traceback (most recent call last)",
      "\u001b[1;32m<ipython-input-33-a0956d297cef>\u001b[0m in \u001b[0;36m<module>\u001b[1;34m\u001b[0m\n\u001b[1;32m----> 1\u001b[1;33m \u001b[1;32mimport\u001b[0m \u001b[0measygui\u001b[0m\u001b[1;33m\u001b[0m\u001b[1;33m\u001b[0m\u001b[0m\n\u001b[0m",
      "\u001b[1;31mModuleNotFoundError\u001b[0m: No module named 'easygui'"
     ]
    }
   ],
   "source": [
    "import easygui"
   ]
  },
  {
   "cell_type": "code",
   "execution_count": 1,
   "metadata": {},
   "outputs": [],
   "source": [
    " gl_list=[]\n",
    "def demo():\n",
    "    \"\"\"这是一个测试函数\"\"\"\n",
    "    print(\"hello python\")"
   ]
  },
  {
   "cell_type": "code",
   "execution_count": 2,
   "metadata": {},
   "outputs": [
    {
     "name": "stdout",
     "output_type": "stream",
     "text": [
      "hello python\n"
     ]
    }
   ],
   "source": [
    "demo()"
   ]
  },
  {
   "cell_type": "code",
   "execution_count": 3,
   "metadata": {},
   "outputs": [
    {
     "data": {
      "text/plain": [
       "['__annotations__',\n",
       " '__call__',\n",
       " '__class__',\n",
       " '__closure__',\n",
       " '__code__',\n",
       " '__defaults__',\n",
       " '__delattr__',\n",
       " '__dict__',\n",
       " '__dir__',\n",
       " '__doc__',\n",
       " '__eq__',\n",
       " '__format__',\n",
       " '__ge__',\n",
       " '__get__',\n",
       " '__getattribute__',\n",
       " '__globals__',\n",
       " '__gt__',\n",
       " '__hash__',\n",
       " '__init__',\n",
       " '__init_subclass__',\n",
       " '__kwdefaults__',\n",
       " '__le__',\n",
       " '__lt__',\n",
       " '__module__',\n",
       " '__name__',\n",
       " '__ne__',\n",
       " '__new__',\n",
       " '__qualname__',\n",
       " '__reduce__',\n",
       " '__reduce_ex__',\n",
       " '__repr__',\n",
       " '__setattr__',\n",
       " '__sizeof__',\n",
       " '__str__',\n",
       " '__subclasshook__']"
      ]
     },
     "execution_count": 3,
     "metadata": {},
     "output_type": "execute_result"
    }
   ],
   "source": [
    "dir(demo)"
   ]
  },
  {
   "cell_type": "code",
   "execution_count": 4,
   "metadata": {},
   "outputs": [
    {
     "data": {
      "text/plain": [
       "'这是一个测试函数'"
      ]
     },
     "execution_count": 4,
     "metadata": {},
     "output_type": "execute_result"
    }
   ],
   "source": [
    "demo.__doc__"
   ]
  },
  {
   "cell_type": "code",
   "execution_count": 5,
   "metadata": {},
   "outputs": [
    {
     "data": {
      "text/plain": [
       "<function function.__reduce_ex__(protocol, /)>"
      ]
     },
     "execution_count": 5,
     "metadata": {},
     "output_type": "execute_result"
    }
   ],
   "source": [
    "demo.__reduce_ex__"
   ]
  },
  {
   "cell_type": "code",
   "execution_count": 15,
   "metadata": {},
   "outputs": [
    {
     "name": "stdout",
     "output_type": "stream",
     "text": [
      "xiaomaoaiheshui\n",
      "汤姆 xiaomaoaiqiayu\n"
     ]
    }
   ],
   "source": [
    "class Cat:\n",
    "    def eat(self):\n",
    "        print(\"%s xiaomaoaiqiayu\"%self.name)\n",
    "    def drink(self):\n",
    "        print(\"xiaomaoaiheshui\")\n",
    "tom=Cat()\n",
    "tom.name=\"汤姆\"\n",
    "tom.drink()\n",
    "tom.eat()"
   ]
  },
  {
   "cell_type": "code",
   "execution_count": 13,
   "metadata": {},
   "outputs": [
    {
     "name": "stdout",
     "output_type": "stream",
     "text": [
      "<__main__.Cat object at 0x000001A4E687CBB0>\n",
      "1807753923504\n"
     ]
    }
   ],
   "source": [
    "print(tom)\n",
    "print(\"%d\"%id(tom))"
   ]
  },
  {
   "cell_type": "code",
   "execution_count": 17,
   "metadata": {},
   "outputs": [
    {
     "name": "stdout",
     "output_type": "stream",
     "text": [
      "初始化方法\n",
      "Tom\n"
     ]
    }
   ],
   "source": [
    "class Cat:\n",
    "    def __init__(self):\n",
    "        self.name=\"Tom\"\n",
    "        print(\"初始化方法\")\n",
    "tom=Cat()\n",
    "print(tom.name)"
   ]
  },
  {
   "cell_type": "code",
   "execution_count": 20,
   "metadata": {},
   "outputs": [
    {
     "name": "stdout",
     "output_type": "stream",
     "text": [
      "出错啦\n",
      "出错啦\n",
      "出错啦\n",
      "出错啦\n",
      "出错啦\n",
      "出错啦\n",
      "出错啦\n",
      "出错啦\n",
      "出错啦\n",
      "出错啦\n",
      "出错啦\n",
      "出错啦\n",
      "出错啦\n",
      "出错啦\n",
      "出错啦\n",
      "出错啦\n",
      "出错啦\n",
      "出错啦\n",
      "出错啦\n",
      "出错啦\n",
      "出错啦\n",
      "出错啦\n",
      "出错啦\n",
      "出错啦\n",
      "出错啦\n",
      "出错啦\n",
      "出错啦\n",
      "出错啦\n",
      "出错啦\n"
     ]
    }
   ],
   "source": [
    "import requests\n",
    "from lxml import etree\n",
    "import os\n",
    "url='http://www.win4000.com/zt/dongman.html'\n",
    "headers = {'User-Agent': 'Mozilla/5.0 (Macintosh; Intel Mac OS X 10_12_0) AppleWebKit/537.36 (KHTML, like Gecko) Chrome/72.0.3626.121 Safari/537.36'}\n",
    "response=requests.get(url=url,headers=headers).text\n",
    "tree=etree.HTML(response)\n",
    "leaf=tree.xpath('//div[@class=\"tab_tj\"]//ul[@class=\"clearfix\"]/li/a/@href')\n",
    "if not os.path.exists('./setu'):\n",
    "    os.mkdir('./setu')\n",
    "for a in leaf:\n",
    "    try:\n",
    "        b=1\n",
    "        while b<11:\n",
    "            c=a.sp;ot('.html')[0]\n",
    "            d=c+'_'+str(b)+'.html'\n",
    "            b+=1\n",
    "            e=requests.get(url=d,hearders=headers).text\n",
    "            f=etree.HTML(e)\n",
    "            g = f.xpath('//div[@class=\"main\"]//div[@class=\"pic-meinv\"]/a/img/@src')[0]\n",
    "            h = requests.get(url=g,headers=headers).content\n",
    "            i = 'setu/'+g.split('/')[-1]\n",
    "            with open(i,'wb') as fp:\n",
    "                fp.write(h)\n",
    "    except:\n",
    "        print('出错啦')"
   ]
  },
  {
   "cell_type": "code",
   "execution_count": null,
   "metadata": {},
   "outputs": [],
   "source": [
    "import requests\n",
    "\n",
    "from datetime import datetime, timedelta\n",
    "\n",
    "from lxml import etree\n",
    "\n",
    "import csv\n",
    "\n",
    "import os\n",
    "\n",
    "from time import sleep\n",
    "from random import randint\n",
    "\n",
    "\n",
    "def parseTime(unformatedTime):\n",
    "    if '分钟' in unformatedTime:\n",
    "        minute = unformatedTime[:unformatedTime.find('分钟')]\n",
    "        minute = timedelta(minutes=int(minute))\n",
    "        return (datetime.now() -\n",
    "                minute).strftime('%Y-%m-%d %H:%M')\n",
    "    elif '小时' in unformatedTime:\n",
    "        hour = unformatedTime[:unformatedTime.find('小时')]\n",
    "        hour = timedelta(hours=int(hour))\n",
    "        return (datetime.now() -\n",
    "                hour).strftime('%Y-%m-%d %H:%M')\n",
    "    else:\n",
    "        return unformatedTime\n",
    "\n",
    "\n",
    "def dealHtml(html):\n",
    "    results = html.xpath('//div[@class=\"result-op c-container xpath-log new-pmd\"]')\n",
    "\n",
    "    saveData = []\n",
    "\n",
    "    for result in results:\n",
    "        title = result.xpath('.//h3/a')[0]\n",
    "        title = title.xpath('string(.)').strip()\n",
    "\n",
    "        summary = result.xpath('.//span[@class=\"c-font-normal c-color-text\"]')[0]\n",
    "        summary = summary.xpath('string(.)').strip()\n",
    "        infos = result.xpath('.//div[@class=\"news-source\"]')[0]\n",
    "        source, dateTime = infos.xpath(\".//span[last()-1]/text()\")[0], \\\n",
    "                           infos.xpath(\".//span[last()]/text()\")[0]\n",
    "\n",
    "        dateTime = parseTime(dateTime)\n",
    "\n",
    "        print('标题', title)\n",
    "        print('来源', source)\n",
    "        print('时间', dateTime)\n",
    "        print('概要', summary)\n",
    "        print('\\n')\n",
    "\n",
    "        saveData.append({\n",
    "            'title': title,\n",
    "            'source': source,\n",
    "            'time': dateTime,\n",
    "            'summary': summary\n",
    "        })\n",
    "    with open(fileName, 'a+', encoding='utf-8-sig', newline='') as f:\n",
    "        writer = csv.writer(f)\n",
    "        for row in saveData:\n",
    "            writer.writerow([row['title'], row['source'], row['time'], row['summary']])\n",
    "\n",
    "\n",
    "headers = {\n",
    "    'User-Agent': 'Mozilla/5.0 (Windows NT 10.0; Win64; x64) AppleWebKit/537.36 (KHTML, like Gecko) Chrome/75.0.3770.142 Safari/537.36',\n",
    "    'Referer': 'https://www.baidu.com/s?rtt=1&bsst=1&cl=2&tn=news&word=%B0%D9%B6%C8%D0%C2%CE%C5&fr=zhidao'\n",
    "}\n",
    "\n",
    "url = 'https://www.baidu.com/s'\n",
    "\n",
    "params = {\n",
    "    'ie': 'utf-8',\n",
    "    'medium': 0,\n",
    "    # rtt=4 \n",
    "    'rtt': 1,\n",
    "    'bsst': 1,\n",
    "    'rsv_dl': 'news_t_sk',\n",
    "    'cl': 2,\n",
    "    'tn': 'news',\n",
    "    'rsv_bp': 1,\n",
    "    'oq': '',\n",
    "    'rsv_btype': 't',\n",
    "    'f': 8,\n",
    "}\n",
    "\n",
    "\n",
    "def doSpider(keyword, sortBy = 'focus'):\n",
    " \n",
    "    global fileName\n",
    "    fileName = '{}.csv'.format(keyword)\n",
    "\n",
    "    if not os.path.exists(fileName):\n",
    "        with open(fileName, 'w+', encoding='utf-8-sig', newline='') as f:\n",
    "            writer = csv.writer(f)\n",
    "            writer.writerow(['title', 'source', 'time', 'summary'])\n",
    "\n",
    "    params['wd'] = keyword\n",
    "    if sortBy == 'time':\n",
    "        params['rtt'] = 4\n",
    "\n",
    "    response = requests.get(url=url, params=params, headers=headers)\n",
    "\n",
    "    html = etree.HTML(response.text)\n",
    "\n",
    "    dealHtml(html)\n",
    "\n",
    "    total = html.xpath('//div[@id=\"header_top_bar\"]/span/text()')[0]\n",
    "\n",
    "    total = total.replace(',', '')\n",
    "\n",
    "    total = int(total[7:-1])\n",
    "\n",
    "    pageNum = total // 10\n",
    "\n",
    "    for page in range(1, pageNum):\n",
    "        print('第 {} 页\\n\\n'.format(page))\n",
    "        headers['Referer'] = response.url\n",
    "        params['pn'] = page * 10\n",
    "\n",
    "        response = requests.get(url=url, headers=headers, params=params)\n",
    "\n",
    "        html = etree.HTML(response.text)\n",
    "\n",
    "        dealHtml(html)\n",
    "\n",
    "        sleep(randint(2, 4))\n",
    "    ...\n",
    "if __name__ == \"__main__\":\n",
    "    doSpider(keyword = '马保国', sortBy='focus')"
   ]
  },
  {
   "cell_type": "code",
   "execution_count": 3,
   "metadata": {},
   "outputs": [
    {
     "name": "stdout",
     "output_type": "stream",
     "text": [
      "张春波\n",
      "张春波被删除\n",
      "张春波\n"
     ]
    }
   ],
   "source": [
    "class Cat:\n",
    "    def __init__(self,name):\n",
    "        self.name=name\n",
    "        print(\"%s\"%self.name)\n",
    "    def __del__(self):\n",
    "        print(\"%s被删除\"%self.name)\n",
    "    def __str__(self):\n",
    "        return \"张春波\"\n",
    "a=Cat(\"张春波\")\n",
    "print(a)"
   ]
  },
  {
   "cell_type": "code",
   "execution_count": 4,
   "metadata": {},
   "outputs": [
    {
     "name": "stdout",
     "output_type": "stream",
     "text": [
      "席梦思所占用的空间为4\n",
      "衣柜所占用的空间为2\n",
      "餐桌所占用的空间为1.5\n",
      "剩余空间为79\n",
      "要添加的家具为席梦思\n",
      "要添加的家具为衣柜\n",
      "要添加的家具为餐桌\n",
      "剩余空间为71.5\n"
     ]
    }
   ],
   "source": [
    "class house_item:\n",
    "    def __init__(self,name,area):\n",
    "        self.name=name\n",
    "        self.area=area\n",
    "    def __str__(self):\n",
    "        return \"%s所占用的空间为%s\"%(self.name,self.area)\n",
    "class house:\n",
    "    def __init__(self,name,area):\n",
    "        self.name=name\n",
    "        self.area=area\n",
    "        self.free_area=area\n",
    "        self.item_list=[]\n",
    "    def __str__(self):\n",
    "        return \"剩余空间为%s\"%(self.free_area)\n",
    "    def Add_item(self,item):\n",
    "        print(\"要添加的家具为%s\"%item.name)\n",
    "        self.free_area-=item.area\n",
    "        self.item_list.append(item.name)\n",
    "bed=house_item(\"席梦思\",4)\n",
    "chest=house_item(\"衣柜\",2)\n",
    "table=house_item(\"餐桌\",1.5)\n",
    "print(bed)\n",
    "print(chest)\n",
    "print(table)\n",
    "\n",
    "house_my=house(\"两室一厅\",79)\n",
    "print(house_my)\n",
    "\n",
    "\n",
    "house_my.Add_item(bed)\n",
    "# print(house_my)\n",
    "house_my.Add_item(chest)\n",
    "house_my.Add_item(table)\n",
    "print(house_my)\n",
    "        "
   ]
  },
  {
   "cell_type": "code",
   "execution_count": 5,
   "metadata": {},
   "outputs": [
    {
     "data": {
      "text/plain": [
       "['席梦思', '衣柜', '餐桌']"
      ]
     },
     "execution_count": 5,
     "metadata": {},
     "output_type": "execute_result"
    }
   ],
   "source": [
    "house_my.item_list"
   ]
  },
  {
   "cell_type": "code",
   "execution_count": 6,
   "metadata": {},
   "outputs": [
    {
     "data": {
      "text/plain": [
       "79"
      ]
     },
     "execution_count": 6,
     "metadata": {},
     "output_type": "execute_result"
    }
   ],
   "source": [
    "house_my.area"
   ]
  },
  {
   "cell_type": "code",
   "execution_count": 7,
   "metadata": {},
   "outputs": [
    {
     "data": {
      "text/plain": [
       "71.5"
      ]
     },
     "execution_count": 7,
     "metadata": {},
     "output_type": "execute_result"
    }
   ],
   "source": [
    "house_my.free_area"
   ]
  },
  {
   "cell_type": "code",
   "execution_count": 13,
   "metadata": {},
   "outputs": [
    {
     "ename": "JSONDecodeError",
     "evalue": "Extra data: line 1 column 5 (char 4)",
     "output_type": "error",
     "traceback": [
      "\u001b[1;31m---------------------------------------------------------------------------\u001b[0m",
      "\u001b[1;31mJSONDecodeError\u001b[0m                           Traceback (most recent call last)",
      "\u001b[1;32m<ipython-input-13-942ad82543a6>\u001b[0m in \u001b[0;36m<module>\u001b[1;34m\u001b[0m\n\u001b[0;32m      6\u001b[0m \u001b[1;31m# 通过 url 获取英雄的皮肤数量\u001b[0m\u001b[1;33m\u001b[0m\u001b[1;33m\u001b[0m\u001b[1;33m\u001b[0m\u001b[0m\n\u001b[0;32m      7\u001b[0m \u001b[0mskin_text\u001b[0m \u001b[1;33m=\u001b[0m \u001b[0mrequests\u001b[0m\u001b[1;33m.\u001b[0m\u001b[0mget\u001b[0m\u001b[1;33m(\u001b[0m\u001b[0mhero_skin_url\u001b[0m\u001b[1;33m)\u001b[0m\u001b[1;33m.\u001b[0m\u001b[0mtext\u001b[0m\u001b[1;33m\u001b[0m\u001b[1;33m\u001b[0m\u001b[0m\n\u001b[1;32m----> 8\u001b[1;33m \u001b[0mskin_json\u001b[0m \u001b[1;33m=\u001b[0m \u001b[0mjson\u001b[0m\u001b[1;33m.\u001b[0m\u001b[0mloads\u001b[0m\u001b[1;33m(\u001b[0m\u001b[0mskin_text\u001b[0m\u001b[1;33m)\u001b[0m\u001b[1;33m\u001b[0m\u001b[1;33m\u001b[0m\u001b[0m\n\u001b[0m\u001b[0;32m      9\u001b[0m \u001b[0mskin_list\u001b[0m \u001b[1;33m=\u001b[0m \u001b[0mskin_json\u001b[0m\u001b[1;33m[\u001b[0m\u001b[1;34m'skins'\u001b[0m\u001b[1;33m]\u001b[0m\u001b[1;33m\u001b[0m\u001b[1;33m\u001b[0m\u001b[0m\n\u001b[0;32m     10\u001b[0m \u001b[1;31m# 获取皮肤名\u001b[0m\u001b[1;33m\u001b[0m\u001b[1;33m\u001b[0m\u001b[1;33m\u001b[0m\u001b[0m\n",
      "\u001b[1;32mC:\\ProgramData\\Anaconda3\\lib\\json\\__init__.py\u001b[0m in \u001b[0;36mloads\u001b[1;34m(s, cls, object_hook, parse_float, parse_int, parse_constant, object_pairs_hook, **kw)\u001b[0m\n\u001b[0;32m    355\u001b[0m             \u001b[0mparse_int\u001b[0m \u001b[1;32mis\u001b[0m \u001b[1;32mNone\u001b[0m \u001b[1;32mand\u001b[0m \u001b[0mparse_float\u001b[0m \u001b[1;32mis\u001b[0m \u001b[1;32mNone\u001b[0m \u001b[1;32mand\u001b[0m\u001b[1;33m\u001b[0m\u001b[1;33m\u001b[0m\u001b[0m\n\u001b[0;32m    356\u001b[0m             parse_constant is None and object_pairs_hook is None and not kw):\n\u001b[1;32m--> 357\u001b[1;33m         \u001b[1;32mreturn\u001b[0m \u001b[0m_default_decoder\u001b[0m\u001b[1;33m.\u001b[0m\u001b[0mdecode\u001b[0m\u001b[1;33m(\u001b[0m\u001b[0ms\u001b[0m\u001b[1;33m)\u001b[0m\u001b[1;33m\u001b[0m\u001b[1;33m\u001b[0m\u001b[0m\n\u001b[0m\u001b[0;32m    358\u001b[0m     \u001b[1;32mif\u001b[0m \u001b[0mcls\u001b[0m \u001b[1;32mis\u001b[0m \u001b[1;32mNone\u001b[0m\u001b[1;33m:\u001b[0m\u001b[1;33m\u001b[0m\u001b[1;33m\u001b[0m\u001b[0m\n\u001b[0;32m    359\u001b[0m         \u001b[0mcls\u001b[0m \u001b[1;33m=\u001b[0m \u001b[0mJSONDecoder\u001b[0m\u001b[1;33m\u001b[0m\u001b[1;33m\u001b[0m\u001b[0m\n",
      "\u001b[1;32mC:\\ProgramData\\Anaconda3\\lib\\json\\decoder.py\u001b[0m in \u001b[0;36mdecode\u001b[1;34m(self, s, _w)\u001b[0m\n\u001b[0;32m    338\u001b[0m         \u001b[0mend\u001b[0m \u001b[1;33m=\u001b[0m \u001b[0m_w\u001b[0m\u001b[1;33m(\u001b[0m\u001b[0ms\u001b[0m\u001b[1;33m,\u001b[0m \u001b[0mend\u001b[0m\u001b[1;33m)\u001b[0m\u001b[1;33m.\u001b[0m\u001b[0mend\u001b[0m\u001b[1;33m(\u001b[0m\u001b[1;33m)\u001b[0m\u001b[1;33m\u001b[0m\u001b[1;33m\u001b[0m\u001b[0m\n\u001b[0;32m    339\u001b[0m         \u001b[1;32mif\u001b[0m \u001b[0mend\u001b[0m \u001b[1;33m!=\u001b[0m \u001b[0mlen\u001b[0m\u001b[1;33m(\u001b[0m\u001b[0ms\u001b[0m\u001b[1;33m)\u001b[0m\u001b[1;33m:\u001b[0m\u001b[1;33m\u001b[0m\u001b[1;33m\u001b[0m\u001b[0m\n\u001b[1;32m--> 340\u001b[1;33m             \u001b[1;32mraise\u001b[0m \u001b[0mJSONDecodeError\u001b[0m\u001b[1;33m(\u001b[0m\u001b[1;34m\"Extra data\"\u001b[0m\u001b[1;33m,\u001b[0m \u001b[0ms\u001b[0m\u001b[1;33m,\u001b[0m \u001b[0mend\u001b[0m\u001b[1;33m)\u001b[0m\u001b[1;33m\u001b[0m\u001b[1;33m\u001b[0m\u001b[0m\n\u001b[0m\u001b[0;32m    341\u001b[0m         \u001b[1;32mreturn\u001b[0m \u001b[0mobj\u001b[0m\u001b[1;33m\u001b[0m\u001b[1;33m\u001b[0m\u001b[0m\n\u001b[0;32m    342\u001b[0m \u001b[1;33m\u001b[0m\u001b[0m\n",
      "\u001b[1;31mJSONDecodeError\u001b[0m: Extra data: line 1 column 5 (char 4)"
     ]
    }
   ],
   "source": []
  },
  {
   "cell_type": "code",
   "execution_count": null,
   "metadata": {},
   "outputs": [],
   "source": []
  }
 ],
 "metadata": {
  "kernelspec": {
   "display_name": "Python 3",
   "language": "python",
   "name": "python3"
  },
  "language_info": {
   "codemirror_mode": {
    "name": "ipython",
    "version": 3
   },
   "file_extension": ".py",
   "mimetype": "text/x-python",
   "name": "python",
   "nbconvert_exporter": "python",
   "pygments_lexer": "ipython3",
   "version": "3.8.3"
  }
 },
 "nbformat": 4,
 "nbformat_minor": 4
}
