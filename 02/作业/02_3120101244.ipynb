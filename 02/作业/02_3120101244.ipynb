{
 "cells": [
  {
   "cell_type": "code",
   "execution_count": 1,
   "metadata": {},
   "outputs": [
    {
     "name": "stdout",
     "output_type": "stream",
     "text": [
      "None\n"
     ]
    }
   ],
   "source": [
    "import re\n",
    "pat=re.compile(\"AA\")\n",
    "m=pat.search(\"CBA\")\n",
    "print(m)"
   ]
  },
  {
   "cell_type": "code",
   "execution_count": 2,
   "metadata": {},
   "outputs": [
    {
     "name": "stdout",
     "output_type": "stream",
     "text": [
      "<re.Match object; span=(3, 5), match='AA'>\n"
     ]
    }
   ],
   "source": [
    "pat=re.compile(\"AA\")\n",
    "m=pat.search(\"ACBAA\")\n",
    "print(m)"
   ]
  },
  {
   "cell_type": "code",
   "execution_count": 3,
   "metadata": {},
   "outputs": [
    {
     "name": "stdout",
     "output_type": "stream",
     "text": [
      "<re.Match object; span=(4, 6), match='AA'>\n"
     ]
    }
   ],
   "source": [
    "pat=re.compile(\"AA\")\n",
    "m=pat.search(\"ACBDAAAA\")\n",
    "print(m)"
   ]
  },
  {
   "cell_type": "code",
   "execution_count": 4,
   "metadata": {},
   "outputs": [
    {
     "name": "stdout",
     "output_type": "stream",
     "text": [
      "<re.Match object; span=(1, 4), match='asd'>\n"
     ]
    }
   ],
   "source": [
    "m=re.search(\"asd\",\"Aasd\")\n",
    "print(m)"
   ]
  },
  {
   "cell_type": "code",
   "execution_count": 5,
   "metadata": {},
   "outputs": [
    {
     "name": "stdout",
     "output_type": "stream",
     "text": [
      "['a', 'a', 'a']\n"
     ]
    }
   ],
   "source": [
    "pat=re.findall(\"a\",\"ashujdialia\")\n",
    "print(pat)"
   ]
  },
  {
   "cell_type": "code",
   "execution_count": 6,
   "metadata": {},
   "outputs": [
    {
     "ename": "NameError",
     "evalue": "name 'ASDADHAOsjadiaoAiosd' is not defined",
     "output_type": "error",
     "traceback": [
      "\u001b[1;31m---------------------------------------------------------------------------\u001b[0m",
      "\u001b[1;31mNameError\u001b[0m                                 Traceback (most recent call last)",
      "\u001b[1;32m<ipython-input-6-797d29bbf8db>\u001b[0m in \u001b[0;36m<module>\u001b[1;34m\u001b[0m\n\u001b[1;32m----> 1\u001b[1;33m \u001b[0mprint\u001b[0m\u001b[1;33m(\u001b[0m\u001b[0mre\u001b[0m\u001b[1;33m.\u001b[0m\u001b[0mfindall\u001b[0m\u001b[1;33m(\u001b[0m\u001b[1;34m\"[A-Z]\"\u001b[0m\u001b[1;33m,\u001b[0m\u001b[0mASDADHAOsjadiaoAiosd\u001b[0m\u001b[1;33m)\u001b[0m\u001b[1;33m)\u001b[0m\u001b[1;33m\u001b[0m\u001b[1;33m\u001b[0m\u001b[0m\n\u001b[0m",
      "\u001b[1;31mNameError\u001b[0m: name 'ASDADHAOsjadiaoAiosd' is not defined"
     ]
    }
   ],
   "source": [
    "print(re.findall(\"[A-Z]\",ASDADHAOsjadiaoAiosd))"
   ]
  },
  {
   "cell_type": "code",
   "execution_count": 10,
   "metadata": {},
   "outputs": [
    {
     "name": "stdout",
     "output_type": "stream",
     "text": [
      "['S', 'A', 'J', 'I', 'G', 'H', 'D', 'A', 'S', 'D', 'G']\n"
     ]
    }
   ],
   "source": [
    "print(re.findall(\"[A-Z]\",\"SAJIGHDdbhasjgdfhASDjhgdaG\"))"
   ]
  },
  {
   "cell_type": "code",
   "execution_count": 11,
   "metadata": {},
   "outputs": [
    {
     "name": "stdout",
     "output_type": "stream",
     "text": [
      "['SAD', 'ASD']\n"
     ]
    }
   ],
   "source": [
    "print(re.findall(\"[A-Z]+\",\"SADsaASD\"))"
   ]
  },
  {
   "cell_type": "code",
   "execution_count": 12,
   "metadata": {},
   "outputs": [
    {
     "name": "stdout",
     "output_type": "stream",
     "text": [
      "AsdghAiju\n"
     ]
    }
   ],
   "source": [
    "print(re.sub('a','A','asdghaiju'))"
   ]
  },
  {
   "cell_type": "code",
   "execution_count": 1,
   "metadata": {},
   "outputs": [],
   "source": [
    "import sys\n",
    "from bs4 import BeautifulSoup\n",
    "import re\n",
    "import urllib\n",
    "import requests"
   ]
  },
  {
   "cell_type": "code",
   "execution_count": null,
   "metadata": {},
   "outputs": [],
   "source": [
    "url=\"https://movie.douban.com/top250?start=\"\n",
    "def askurl(url):\n",
    "    headers={\"User-Agent\":\" Mozilla/5.0 (Windows NT 10.0; Win64; x64) AppleWebKit/537.36 (KHTML, like Gecko) Chrome/87.0.4280.67 Safari/537.36 Edg/87.0.664.47\"}\n",
    "    for i in range(10):\n",
    "        url+=i*25\n",
    "        datalist=urllib."
   ]
  },
  {
   "cell_type": "code",
   "execution_count": 10,
   "metadata": {},
   "outputs": [
    {
     "name": "stdout",
     "output_type": "stream",
     "text": [
      "<html>\n",
      "<head>\n",
      "\t<script>\n",
      "\t\tlocation.replace(location.href.replace(\"https://\",\"http://\"));\n",
      "\t</script>\n",
      "</head>\n",
      "<body>\n",
      "\t<noscript><meta http-equiv=\"refresh\" content=\"0;url=http://www.baidu.com/\"></noscript>\n",
      "</body>\n",
      "</html>\n"
     ]
    }
   ],
   "source": [
    "a=urllib.request.urlopen(\"https://www.baidu.com/?tn=18029102_2_dg\")\n",
    "print(a.read().decode(\"utf-8\"))"
   ]
  },
  {
   "cell_type": "code",
   "execution_count": 11,
   "metadata": {},
   "outputs": [
    {
     "name": "stdout",
     "output_type": "stream",
     "text": [
      "None\n"
     ]
    }
   ],
   "source": [
    "b=BeautifulSoup(a,\"html.parser\")\n",
    "print(b.head)"
   ]
  },
  {
   "cell_type": "code",
   "execution_count": 9,
   "metadata": {},
   "outputs": [
    {
     "name": "stdout",
     "output_type": "stream",
     "text": [
      "None\n"
     ]
    }
   ],
   "source": [
    "print(b.title)"
   ]
  },
  {
   "cell_type": "code",
   "execution_count": 11,
   "metadata": {},
   "outputs": [],
   "source": [
    "f=open(\"test.txt\",\"w\")"
   ]
  },
  {
   "cell_type": "code",
   "execution_count": 12,
   "metadata": {},
   "outputs": [
    {
     "data": {
      "text/plain": [
       "11"
      ]
     },
     "execution_count": 12,
     "metadata": {},
     "output_type": "execute_result"
    }
   ],
   "source": [
    "f.write(\"hello world\")"
   ]
  },
  {
   "cell_type": "code",
   "execution_count": 13,
   "metadata": {},
   "outputs": [],
   "source": [
    "f.close()"
   ]
  },
  {
   "cell_type": "code",
   "execution_count": 16,
   "metadata": {},
   "outputs": [
    {
     "name": "stdout",
     "output_type": "stream",
     "text": [
      "hello\n",
      " worl\n"
     ]
    }
   ],
   "source": [
    "f=open(\"test.txt\",\"r\")\n",
    "content=f.read(5)\n",
    "print(content)\n",
    "content=f.read(5)\n",
    "print(content)\n",
    "f.close()"
   ]
  },
  {
   "cell_type": "code",
   "execution_count": 19,
   "metadata": {},
   "outputs": [
    {
     "name": "stdout",
     "output_type": "stream",
     "text": [
      "1:hello world\n"
     ]
    }
   ],
   "source": [
    "f=open(\"test.txt\",\"r\")\n",
    "content=f.readlines()\n",
    "i=1\n",
    "for each in content:\n",
    "    print(\"%d:%s\"%(i,each))\n",
    "    i+=1\n",
    "f.close()"
   ]
  },
  {
   "cell_type": "code",
   "execution_count": 20,
   "metadata": {},
   "outputs": [],
   "source": [
    "import os"
   ]
  },
  {
   "cell_type": "code",
   "execution_count": 21,
   "metadata": {},
   "outputs": [
    {
     "data": {
      "text/plain": [
       "'D:\\\\python1'"
      ]
     },
     "execution_count": 21,
     "metadata": {},
     "output_type": "execute_result"
    }
   ],
   "source": [
    "os.getcwd()"
   ]
  },
  {
   "cell_type": "code",
   "execution_count": 23,
   "metadata": {},
   "outputs": [
    {
     "data": {
      "text/plain": [
       "['$RECYCLE.BIN',\n",
       " '123',\n",
       " 'Anaconda3-',\n",
       " 'BaiduNetdiskDownload',\n",
       " 'openfoam',\n",
       " 'python',\n",
       " 'python1',\n",
       " 'qq',\n",
       " 'QQMusicCache',\n",
       " 'QQPCMgr',\n",
       " 'qq个人文件',\n",
       " 'qq音乐',\n",
       " 'qycache',\n",
       " 'System Volume Information',\n",
       " 'ubuntu-14.04.5-desktop-amd64.iso',\n",
       " 'VC++',\n",
       " 'wexin',\n",
       " 'xiuniji',\n",
       " '爱奇艺',\n",
       " '百度云',\n",
       " '谷歌']"
      ]
     },
     "execution_count": 23,
     "metadata": {},
     "output_type": "execute_result"
    }
   ],
   "source": [
    "os.listdir('D:\\\\')"
   ]
  },
  {
   "cell_type": "code",
   "execution_count": 24,
   "metadata": {},
   "outputs": [],
   "source": [
    "os.mkdir('D:\\\\A')"
   ]
  },
  {
   "cell_type": "code",
   "execution_count": 26,
   "metadata": {},
   "outputs": [],
   "source": [
    "os.rmdir('D:\\\\A')"
   ]
  },
  {
   "cell_type": "code",
   "execution_count": 27,
   "metadata": {},
   "outputs": [
    {
     "data": {
      "text/plain": [
       "0"
      ]
     },
     "execution_count": 27,
     "metadata": {},
     "output_type": "execute_result"
    }
   ],
   "source": [
    "os.system('cmd')"
   ]
  },
  {
   "cell_type": "code",
   "execution_count": 28,
   "metadata": {},
   "outputs": [
    {
     "data": {
      "text/plain": [
       "0"
      ]
     },
     "execution_count": 28,
     "metadata": {},
     "output_type": "execute_result"
    }
   ],
   "source": [
    "os.system('calc')"
   ]
  },
  {
   "cell_type": "code",
   "execution_count": 29,
   "metadata": {},
   "outputs": [
    {
     "data": {
      "text/plain": [
       "['.ipynb_checkpoints',\n",
       " '01-3120101244-张春波.ipynb',\n",
       " 'test.txt',\n",
       " 'Untitled (2).ipynb',\n",
       " 'Untitled1.ipynb',\n",
       " 'zcb.py',\n",
       " '豆瓣Top250电影.txt']"
      ]
     },
     "execution_count": 29,
     "metadata": {},
     "output_type": "execute_result"
    }
   ],
   "source": [
    "os.listdir('.')"
   ]
  },
  {
   "cell_type": "code",
   "execution_count": 30,
   "metadata": {},
   "outputs": [
    {
     "data": {
      "text/plain": [
       "'nt'"
      ]
     },
     "execution_count": 30,
     "metadata": {},
     "output_type": "execute_result"
    }
   ],
   "source": [
    "os.name"
   ]
  },
  {
   "cell_type": "code",
   "execution_count": 31,
   "metadata": {},
   "outputs": [],
   "source": [
    "import pickle\n",
    "MyList=[1234,5678,\"zcb\",[1,2,3]]\n",
    "f=open(\"MyList.zcb\",'wb')\n",
    "pickle.dump(MyList,f)\n",
    "f.close()"
   ]
  },
  {
   "cell_type": "code",
   "execution_count": 32,
   "metadata": {},
   "outputs": [
    {
     "name": "stdout",
     "output_type": "stream",
     "text": [
      "[1234, 5678, 'zcb', [1, 2, 3]]\n"
     ]
    }
   ],
   "source": [
    "f=open('MyList.zcb','rb')\n",
    "a=pickle.load(f)\n",
    "print(a)\n",
    "f.close()"
   ]
  },
  {
   "cell_type": "code",
   "execution_count": 33,
   "metadata": {},
   "outputs": [
    {
     "ename": "ModuleNotFoundError",
     "evalue": "No module named 'easygui'",
     "output_type": "error",
     "traceback": [
      "\u001b[1;31m---------------------------------------------------------------------------\u001b[0m",
      "\u001b[1;31mModuleNotFoundError\u001b[0m                       Traceback (most recent call last)",
      "\u001b[1;32m<ipython-input-33-a0956d297cef>\u001b[0m in \u001b[0;36m<module>\u001b[1;34m\u001b[0m\n\u001b[1;32m----> 1\u001b[1;33m \u001b[1;32mimport\u001b[0m \u001b[0measygui\u001b[0m\u001b[1;33m\u001b[0m\u001b[1;33m\u001b[0m\u001b[0m\n\u001b[0m",
      "\u001b[1;31mModuleNotFoundError\u001b[0m: No module named 'easygui'"
     ]
    }
   ],
   "source": [
    "import easygui"
   ]
  },
  {
   "cell_type": "code",
   "execution_count": 1,
   "metadata": {},
   "outputs": [],
   "source": [
    " gl_list=[]\n",
    "def demo():\n",
    "    \"\"\"这是一个测试函数\"\"\"\n",
    "    print(\"hello python\")"
   ]
  },
  {
   "cell_type": "code",
   "execution_count": 2,
   "metadata": {},
   "outputs": [
    {
     "name": "stdout",
     "output_type": "stream",
     "text": [
      "hello python\n"
     ]
    }
   ],
   "source": [
    "demo()"
   ]
  },
  {
   "cell_type": "code",
   "execution_count": 3,
   "metadata": {},
   "outputs": [
    {
     "data": {
      "text/plain": [
       "['__annotations__',\n",
       " '__call__',\n",
       " '__class__',\n",
       " '__closure__',\n",
       " '__code__',\n",
       " '__defaults__',\n",
       " '__delattr__',\n",
       " '__dict__',\n",
       " '__dir__',\n",
       " '__doc__',\n",
       " '__eq__',\n",
       " '__format__',\n",
       " '__ge__',\n",
       " '__get__',\n",
       " '__getattribute__',\n",
       " '__globals__',\n",
       " '__gt__',\n",
       " '__hash__',\n",
       " '__init__',\n",
       " '__init_subclass__',\n",
       " '__kwdefaults__',\n",
       " '__le__',\n",
       " '__lt__',\n",
       " '__module__',\n",
       " '__name__',\n",
       " '__ne__',\n",
       " '__new__',\n",
       " '__qualname__',\n",
       " '__reduce__',\n",
       " '__reduce_ex__',\n",
       " '__repr__',\n",
       " '__setattr__',\n",
       " '__sizeof__',\n",
       " '__str__',\n",
       " '__subclasshook__']"
      ]
     },
     "execution_count": 3,
     "metadata": {},
     "output_type": "execute_result"
    }
   ],
   "source": [
    "dir(demo)"
   ]
  },
  {
   "cell_type": "code",
   "execution_count": 4,
   "metadata": {},
   "outputs": [
    {
     "data": {
      "text/plain": [
       "'这是一个测试函数'"
      ]
     },
     "execution_count": 4,
     "metadata": {},
     "output_type": "execute_result"
    }
   ],
   "source": [
    "demo.__doc__"
   ]
  },
  {
   "cell_type": "code",
   "execution_count": 5,
   "metadata": {},
   "outputs": [
    {
     "data": {
      "text/plain": [
       "<function function.__reduce_ex__(protocol, /)>"
      ]
     },
     "execution_count": 5,
     "metadata": {},
     "output_type": "execute_result"
    }
   ],
   "source": [
    "demo.__reduce_ex__"
   ]
  },
  {
   "cell_type": "code",
   "execution_count": 15,
   "metadata": {},
   "outputs": [
    {
     "name": "stdout",
     "output_type": "stream",
     "text": [
      "xiaomaoaiheshui\n",
      "汤姆 xiaomaoaiqiayu\n"
     ]
    }
   ],
   "source": [
    "class Cat:\n",
    "    def eat(self):\n",
    "        print(\"%s xiaomaoaiqiayu\"%self.name)\n",
    "    def drink(self):\n",
    "        print(\"xiaomaoaiheshui\")\n",
    "tom=Cat()\n",
    "tom.name=\"汤姆\"\n",
    "tom.drink()\n",
    "tom.eat()"
   ]
  },
  {
   "cell_type": "code",
   "execution_count": 13,
   "metadata": {},
   "outputs": [
    {
     "name": "stdout",
     "output_type": "stream",
     "text": [
      "<__main__.Cat object at 0x000001A4E687CBB0>\n",
      "1807753923504\n"
     ]
    }
   ],
   "source": [
    "print(tom)\n",
    "print(\"%d\"%id(tom))"
   ]
  },
  {
   "cell_type": "code",
   "execution_count": 17,
   "metadata": {},
   "outputs": [
    {
     "name": "stdout",
     "output_type": "stream",
     "text": [
      "初始化方法\n",
      "Tom\n"
     ]
    }
   ],
   "source": [
    "class Cat:\n",
    "    def __init__(self):\n",
    "        self.name=\"Tom\"\n",
    "        print(\"初始化方法\")\n",
    "tom=Cat()\n",
    "print(tom.name)"
   ]
  },
  {
   "cell_type": "code",
   "execution_count": 20,
   "metadata": {},
   "outputs": [
    {
     "name": "stdout",
     "output_type": "stream",
     "text": [
      "出错啦\n",
      "出错啦\n",
      "出错啦\n",
      "出错啦\n",
      "出错啦\n",
      "出错啦\n",
      "出错啦\n",
      "出错啦\n",
      "出错啦\n",
      "出错啦\n",
      "出错啦\n",
      "出错啦\n",
      "出错啦\n",
      "出错啦\n",
      "出错啦\n",
      "出错啦\n",
      "出错啦\n",
      "出错啦\n",
      "出错啦\n",
      "出错啦\n",
      "出错啦\n",
      "出错啦\n",
      "出错啦\n",
      "出错啦\n",
      "出错啦\n",
      "出错啦\n",
      "出错啦\n",
      "出错啦\n",
      "出错啦\n"
     ]
    }
   ],
   "source": [
    "import requests\n",
    "from lxml import etree\n",
    "import os\n",
    "url='http://www.win4000.com/zt/dongman.html'\n",
    "headers = {'User-Agent': 'Mozilla/5.0 (Macintosh; Intel Mac OS X 10_12_0) AppleWebKit/537.36 (KHTML, like Gecko) Chrome/72.0.3626.121 Safari/537.36'}\n",
    "response=requests.get(url=url,headers=headers).text\n",
    "tree=etree.HTML(response)\n",
    "leaf=tree.xpath('//div[@class=\"tab_tj\"]//ul[@class=\"clearfix\"]/li/a/@href')\n",
    "if not os.path.exists('./setu'):\n",
    "    os.mkdir('./setu')\n",
    "for a in leaf:\n",
    "    try:\n",
    "        b=1\n",
    "        while b<11:\n",
    "            c=a.sp;ot('.html')[0]\n",
    "            d=c+'_'+str(b)+'.html'\n",
    "            b+=1\n",
    "            e=requests.get(url=d,hearders=headers).text\n",
    "            f=etree.HTML(e)\n",
    "            g = f.xpath('//div[@class=\"main\"]//div[@class=\"pic-meinv\"]/a/img/@src')[0]\n",
    "            h = requests.get(url=g,headers=headers).content\n",
    "            i = 'setu/'+g.split('/')[-1]\n",
    "            with open(i,'wb') as fp:\n",
    "                fp.write(h)\n",
    "    except:\n",
    "        print('出错啦')"
   ]
  },
  {
   "cell_type": "code",
   "execution_count": null,
   "metadata": {},
   "outputs": [],
   "source": [
    "import requests\n",
    "\n",
    "from datetime import datetime, timedelta\n",
    "\n",
    "from lxml import etree\n",
    "\n",
    "import csv\n",
    "\n",
    "import os\n",
    "\n",
    "from time import sleep\n",
    "from random import randint\n",
    "\n",
    "\n",
    "def parseTime(unformatedTime):\n",
    "    if '分钟' in unformatedTime:\n",
    "        minute = unformatedTime[:unformatedTime.find('分钟')]\n",
    "        minute = timedelta(minutes=int(minute))\n",
    "        return (datetime.now() -\n",
    "                minute).strftime('%Y-%m-%d %H:%M')\n",
    "    elif '小时' in unformatedTime:\n",
    "        hour = unformatedTime[:unformatedTime.find('小时')]\n",
    "        hour = timedelta(hours=int(hour))\n",
    "        return (datetime.now() -\n",
    "                hour).strftime('%Y-%m-%d %H:%M')\n",
    "    else:\n",
    "        return unformatedTime\n",
    "\n",
    "\n",
    "def dealHtml(html):\n",
    "    results = html.xpath('//div[@class=\"result-op c-container xpath-log new-pmd\"]')\n",
    "\n",
    "    saveData = []\n",
    "\n",
    "    for result in results:\n",
    "        title = result.xpath('.//h3/a')[0]\n",
    "        title = title.xpath('string(.)').strip()\n",
    "\n",
    "        summary = result.xpath('.//span[@class=\"c-font-normal c-color-text\"]')[0]\n",
    "        summary = summary.xpath('string(.)').strip()\n",
    "        infos = result.xpath('.//div[@class=\"news-source\"]')[0]\n",
    "        source, dateTime = infos.xpath(\".//span[last()-1]/text()\")[0], \\\n",
    "                           infos.xpath(\".//span[last()]/text()\")[0]\n",
    "\n",
    "        dateTime = parseTime(dateTime)\n",
    "\n",
    "        print('标题', title)\n",
    "        print('来源', source)\n",
    "        print('时间', dateTime)\n",
    "        print('概要', summary)\n",
    "        print('\\n')\n",
    "\n",
    "        saveData.append({\n",
    "            'title': title,\n",
    "            'source': source,\n",
    "            'time': dateTime,\n",
    "            'summary': summary\n",
    "        })\n",
    "    with open(fileName, 'a+', encoding='utf-8-sig', newline='') as f:\n",
    "        writer = csv.writer(f)\n",
    "        for row in saveData:\n",
    "            writer.writerow([row['title'], row['source'], row['time'], row['summary']])\n",
    "\n",
    "\n",
    "headers = {\n",
    "    'User-Agent': 'Mozilla/5.0 (Windows NT 10.0; Win64; x64) AppleWebKit/537.36 (KHTML, like Gecko) Chrome/75.0.3770.142 Safari/537.36',\n",
    "    'Referer': 'https://www.baidu.com/s?rtt=1&bsst=1&cl=2&tn=news&word=%B0%D9%B6%C8%D0%C2%CE%C5&fr=zhidao'\n",
    "}\n",
    "\n",
    "url = 'https://www.baidu.com/s'\n",
    "\n",
    "params = {\n",
    "    'ie': 'utf-8',\n",
    "    'medium': 0,\n",
    "    # rtt=4 \n",
    "    'rtt': 1,\n",
    "    'bsst': 1,\n",
    "    'rsv_dl': 'news_t_sk',\n",
    "    'cl': 2,\n",
    "    'tn': 'news',\n",
    "    'rsv_bp': 1,\n",
    "    'oq': '',\n",
    "    'rsv_btype': 't',\n",
    "    'f': 8,\n",
    "}\n",
    "\n",
    "\n",
    "def doSpider(keyword, sortBy = 'focus'):\n",
    " \n",
    "    global fileName\n",
    "    fileName = '{}.csv'.format(keyword)\n",
    "\n",
    "    if not os.path.exists(fileName):\n",
    "        with open(fileName, 'w+', encoding='utf-8-sig', newline='') as f:\n",
    "            writer = csv.writer(f)\n",
    "            writer.writerow(['title', 'source', 'time', 'summary'])\n",
    "\n",
    "    params['wd'] = keyword\n",
    "    if sortBy == 'time':\n",
    "        params['rtt'] = 4\n",
    "\n",
    "    response = requests.get(url=url, params=params, headers=headers)\n",
    "\n",
    "    html = etree.HTML(response.text)\n",
    "\n",
    "    dealHtml(html)\n",
    "\n",
    "    total = html.xpath('//div[@id=\"header_top_bar\"]/span/text()')[0]\n",
    "\n",
    "    total = total.replace(',', '')\n",
    "\n",
    "    total = int(total[7:-1])\n",
    "\n",
    "    pageNum = total // 10\n",
    "\n",
    "    for page in range(1, pageNum):\n",
    "        print('第 {} 页\\n\\n'.format(page))\n",
    "        headers['Referer'] = response.url\n",
    "        params['pn'] = page * 10\n",
    "\n",
    "        response = requests.get(url=url, headers=headers, params=params)\n",
    "\n",
    "        html = etree.HTML(response.text)\n",
    "\n",
    "        dealHtml(html)\n",
    "\n",
    "        sleep(randint(2, 4))\n",
    "    ...\n",
    "if __name__ == \"__main__\":\n",
    "    doSpider(keyword = '马保国', sortBy='focus')"
   ]
  },
  {
   "cell_type": "code",
   "execution_count": 3,
   "metadata": {},
   "outputs": [
    {
     "name": "stdout",
     "output_type": "stream",
     "text": [
      "张春波\n",
      "张春波被删除\n",
      "张春波\n"
     ]
    }
   ],
   "source": [
    "class Cat:\n",
    "    def __init__(self,name):\n",
    "        self.name=name\n",
    "        print(\"%s\"%self.name)\n",
    "    def __del__(self):\n",
    "        print(\"%s被删除\"%self.name)\n",
    "    def __str__(self):\n",
    "        return \"张春波\"\n",
    "a=Cat(\"张春波\")\n",
    "print(a)"
   ]
  },
  {
   "cell_type": "code",
   "execution_count": 4,
   "metadata": {},
   "outputs": [
    {
     "name": "stdout",
     "output_type": "stream",
     "text": [
      "席梦思所占用的空间为4\n",
      "衣柜所占用的空间为2\n",
      "餐桌所占用的空间为1.5\n",
      "剩余空间为79\n",
      "要添加的家具为席梦思\n",
      "要添加的家具为衣柜\n",
      "要添加的家具为餐桌\n",
      "剩余空间为71.5\n"
     ]
    }
   ],
   "source": [
    "class house_item:\n",
    "    def __init__(self,name,area):\n",
    "        self.name=name\n",
    "        self.area=area\n",
    "    def __str__(self):\n",
    "        return \"%s所占用的空间为%s\"%(self.name,self.area)\n",
    "class house:\n",
    "    def __init__(self,name,area):\n",
    "        self.name=name\n",
    "        self.area=area\n",
    "        self.free_area=area\n",
    "        self.item_list=[]\n",
    "    def __str__(self):\n",
    "        return \"剩余空间为%s\"%(self.free_area)\n",
    "    def Add_item(self,item):\n",
    "        print(\"要添加的家具为%s\"%item.name)\n",
    "        self.free_area-=item.area\n",
    "        self.item_list.append(item.name)\n",
    "bed=house_item(\"席梦思\",4)\n",
    "chest=house_item(\"衣柜\",2)\n",
    "table=house_item(\"餐桌\",1.5)\n",
    "print(bed)\n",
    "print(chest)\n",
    "print(table)\n",
    "\n",
    "house_my=house(\"两室一厅\",79)\n",
    "print(house_my)\n",
    "\n",
    "\n",
    "house_my.Add_item(bed)\n",
    "# print(house_my)\n",
    "house_my.Add_item(chest)\n",
    "house_my.Add_item(table)\n",
    "print(house_my)\n",
    "        "
   ]
  },
  {
   "cell_type": "code",
   "execution_count": 5,
   "metadata": {},
   "outputs": [
    {
     "data": {
      "text/plain": [
       "['席梦思', '衣柜', '餐桌']"
      ]
     },
     "execution_count": 5,
     "metadata": {},
     "output_type": "execute_result"
    }
   ],
   "source": [
    "house_my.item_list"
   ]
  },
  {
   "cell_type": "code",
   "execution_count": 6,
   "metadata": {},
   "outputs": [
    {
     "data": {
      "text/plain": [
       "79"
      ]
     },
     "execution_count": 6,
     "metadata": {},
     "output_type": "execute_result"
    }
   ],
   "source": [
    "house_my.area"
   ]
  },
  {
   "cell_type": "code",
   "execution_count": 7,
   "metadata": {},
   "outputs": [
    {
     "data": {
      "text/plain": [
       "71.5"
      ]
     },
     "execution_count": 7,
     "metadata": {},
     "output_type": "execute_result"
    }
   ],
   "source": [
    "house_my.free_area"
   ]
  },
  {
   "cell_type": "code",
   "execution_count": 13,
   "metadata": {},
   "outputs": [
    {
     "ename": "JSONDecodeError",
     "evalue": "Extra data: line 1 column 5 (char 4)",
     "output_type": "error",
     "traceback": [
      "\u001b[1;31m---------------------------------------------------------------------------\u001b[0m",
      "\u001b[1;31mJSONDecodeError\u001b[0m                           Traceback (most recent call last)",
      "\u001b[1;32m<ipython-input-13-942ad82543a6>\u001b[0m in \u001b[0;36m<module>\u001b[1;34m\u001b[0m\n\u001b[0;32m      6\u001b[0m \u001b[1;31m# 通过 url 获取英雄的皮肤数量\u001b[0m\u001b[1;33m\u001b[0m\u001b[1;33m\u001b[0m\u001b[1;33m\u001b[0m\u001b[0m\n\u001b[0;32m      7\u001b[0m \u001b[0mskin_text\u001b[0m \u001b[1;33m=\u001b[0m \u001b[0mrequests\u001b[0m\u001b[1;33m.\u001b[0m\u001b[0mget\u001b[0m\u001b[1;33m(\u001b[0m\u001b[0mhero_skin_url\u001b[0m\u001b[1;33m)\u001b[0m\u001b[1;33m.\u001b[0m\u001b[0mtext\u001b[0m\u001b[1;33m\u001b[0m\u001b[1;33m\u001b[0m\u001b[0m\n\u001b[1;32m----> 8\u001b[1;33m \u001b[0mskin_json\u001b[0m \u001b[1;33m=\u001b[0m \u001b[0mjson\u001b[0m\u001b[1;33m.\u001b[0m\u001b[0mloads\u001b[0m\u001b[1;33m(\u001b[0m\u001b[0mskin_text\u001b[0m\u001b[1;33m)\u001b[0m\u001b[1;33m\u001b[0m\u001b[1;33m\u001b[0m\u001b[0m\n\u001b[0m\u001b[0;32m      9\u001b[0m \u001b[0mskin_list\u001b[0m \u001b[1;33m=\u001b[0m \u001b[0mskin_json\u001b[0m\u001b[1;33m[\u001b[0m\u001b[1;34m'skins'\u001b[0m\u001b[1;33m]\u001b[0m\u001b[1;33m\u001b[0m\u001b[1;33m\u001b[0m\u001b[0m\n\u001b[0;32m     10\u001b[0m \u001b[1;31m# 获取皮肤名\u001b[0m\u001b[1;33m\u001b[0m\u001b[1;33m\u001b[0m\u001b[1;33m\u001b[0m\u001b[0m\n",
      "\u001b[1;32mC:\\ProgramData\\Anaconda3\\lib\\json\\__init__.py\u001b[0m in \u001b[0;36mloads\u001b[1;34m(s, cls, object_hook, parse_float, parse_int, parse_constant, object_pairs_hook, **kw)\u001b[0m\n\u001b[0;32m    355\u001b[0m             \u001b[0mparse_int\u001b[0m \u001b[1;32mis\u001b[0m \u001b[1;32mNone\u001b[0m \u001b[1;32mand\u001b[0m \u001b[0mparse_float\u001b[0m \u001b[1;32mis\u001b[0m \u001b[1;32mNone\u001b[0m \u001b[1;32mand\u001b[0m\u001b[1;33m\u001b[0m\u001b[1;33m\u001b[0m\u001b[0m\n\u001b[0;32m    356\u001b[0m             parse_constant is None and object_pairs_hook is None and not kw):\n\u001b[1;32m--> 357\u001b[1;33m         \u001b[1;32mreturn\u001b[0m \u001b[0m_default_decoder\u001b[0m\u001b[1;33m.\u001b[0m\u001b[0mdecode\u001b[0m\u001b[1;33m(\u001b[0m\u001b[0ms\u001b[0m\u001b[1;33m)\u001b[0m\u001b[1;33m\u001b[0m\u001b[1;33m\u001b[0m\u001b[0m\n\u001b[0m\u001b[0;32m    358\u001b[0m     \u001b[1;32mif\u001b[0m \u001b[0mcls\u001b[0m \u001b[1;32mis\u001b[0m \u001b[1;32mNone\u001b[0m\u001b[1;33m:\u001b[0m\u001b[1;33m\u001b[0m\u001b[1;33m\u001b[0m\u001b[0m\n\u001b[0;32m    359\u001b[0m         \u001b[0mcls\u001b[0m \u001b[1;33m=\u001b[0m \u001b[0mJSONDecoder\u001b[0m\u001b[1;33m\u001b[0m\u001b[1;33m\u001b[0m\u001b[0m\n",
      "\u001b[1;32mC:\\ProgramData\\Anaconda3\\lib\\json\\decoder.py\u001b[0m in \u001b[0;36mdecode\u001b[1;34m(self, s, _w)\u001b[0m\n\u001b[0;32m    338\u001b[0m         \u001b[0mend\u001b[0m \u001b[1;33m=\u001b[0m \u001b[0m_w\u001b[0m\u001b[1;33m(\u001b[0m\u001b[0ms\u001b[0m\u001b[1;33m,\u001b[0m \u001b[0mend\u001b[0m\u001b[1;33m)\u001b[0m\u001b[1;33m.\u001b[0m\u001b[0mend\u001b[0m\u001b[1;33m(\u001b[0m\u001b[1;33m)\u001b[0m\u001b[1;33m\u001b[0m\u001b[1;33m\u001b[0m\u001b[0m\n\u001b[0;32m    339\u001b[0m         \u001b[1;32mif\u001b[0m \u001b[0mend\u001b[0m \u001b[1;33m!=\u001b[0m \u001b[0mlen\u001b[0m\u001b[1;33m(\u001b[0m\u001b[0ms\u001b[0m\u001b[1;33m)\u001b[0m\u001b[1;33m:\u001b[0m\u001b[1;33m\u001b[0m\u001b[1;33m\u001b[0m\u001b[0m\n\u001b[1;32m--> 340\u001b[1;33m             \u001b[1;32mraise\u001b[0m \u001b[0mJSONDecodeError\u001b[0m\u001b[1;33m(\u001b[0m\u001b[1;34m\"Extra data\"\u001b[0m\u001b[1;33m,\u001b[0m \u001b[0ms\u001b[0m\u001b[1;33m,\u001b[0m \u001b[0mend\u001b[0m\u001b[1;33m)\u001b[0m\u001b[1;33m\u001b[0m\u001b[1;33m\u001b[0m\u001b[0m\n\u001b[0m\u001b[0;32m    341\u001b[0m         \u001b[1;32mreturn\u001b[0m \u001b[0mobj\u001b[0m\u001b[1;33m\u001b[0m\u001b[1;33m\u001b[0m\u001b[0m\n\u001b[0;32m    342\u001b[0m \u001b[1;33m\u001b[0m\u001b[0m\n",
      "\u001b[1;31mJSONDecodeError\u001b[0m: Extra data: line 1 column 5 (char 4)"
     ]
    }
   ],
   "source": []
  },
  {
   "cell_type": "code",
   "execution_count": 3,
   "metadata": {},
   "outputs": [],
   "source": [
    "from tkinter import *\n",
    "root = Tk()\n",
    "\n",
    "#建立上层框架\n",
    "f_upper = Frame(root,bg = \"#FF1493\")\n",
    "f_upper.pack()\n",
    "\n",
    "button1 = Button(f_upper,text = \"按钮1\").pack(side = LEFT,padx = 4,pady =4)\n",
    "button2 = Button(f_upper,text = \"按钮2\").pack(side = LEFT,padx = 4,pady =4)\n",
    "\n",
    "#建立下层框架\n",
    "f_lower = Frame(root,bg = \"#87CEEB\")\n",
    "f_lower.pack()\n",
    "\n",
    "label1 = Label(f_lower,text = \"标签1\").pack()\n",
    "label2 = Label(f_lower,text = \"标签2\").pack()\n",
    "root.mainloop()"
   ]
  },
  {
   "cell_type": "code",
   "execution_count": 7,
   "metadata": {},
   "outputs": [
    {
     "name": "stdout",
     "output_type": "stream",
     "text": [
      "url:https://sh.lianjia.com/ershoufang/\n",
      "len: 30\n",
      "link: https://sh.lianjia.com/ershoufang/107103366479.html\n",
      "title: 满四年唯一，楼层好，位置好，价格好，采光好，房子。\n",
      "total_price 625\n",
      "total unit: 万\n",
      "price: 82183\n",
      "unit: 元/平米\n",
      "community name: 田林十村\n",
      "area: 徐汇 田林 内环至中环\n",
      "bases len: 11\n",
      "room type: 3室1厅1厨1卫\n",
      "floor: 中楼层 (共6层)\n",
      "build_area: 76.05㎡\n",
      "room_struct: 平层\n",
      "within_area: 暂无数据\n",
      "building_type: 板楼\n",
      "room_dir: 南 北\n",
      "build_struct: 砖混结构\n",
      "decrator: 简装\n",
      "elvator: 一梯两户\n",
      "has_elvator: 无\n",
      "========================================================================================================================================================================================================================================================================================================================================================================================================================================================================================================================================================================================================================\n",
      "link: https://sh.lianjia.com/ershoufang/107103106325.html\n",
      "title: 全新婚房装修，近地铁，业主诚意出售，底价呈现\n",
      "total_price 219\n",
      "total unit: 万\n",
      "price: 55178\n",
      "unit: 元/平米\n",
      "community name: 工农三村\n",
      "area: 杨浦 中原 中环至外环\n",
      "bases len: 11\n",
      "room type: 1室1厅1厨1卫\n",
      "floor: 中楼层 (共6层)\n",
      "build_area: 39.69㎡\n",
      "room_struct: 平层\n",
      "within_area: 暂无数据\n",
      "building_type: 板楼\n",
      "room_dir: 南\n",
      "build_struct: 砖混结构\n",
      "decrator: 精装\n",
      "elvator: 一梯四户\n",
      "has_elvator: 无\n",
      "========================================================================================================================================================================================================================================================================================================================================================================================================================================================================================================================================================================================================================\n",
      "link: https://sh.lianjia.com/ershoufang/107103304864.html\n",
      "title: 店长精心推荐+户型正气+采光充足+位置好\n",
      "total_price 526\n",
      "total unit: 万\n",
      "price: 43154\n",
      "unit: 元/平米\n",
      "community name: 奥林匹克花园\n",
      "area: 松江 九亭 外环外\n",
      "bases len: 11\n",
      "room type: 3室2厅1厨2卫\n",
      "floor: 中楼层 (共12层)\n",
      "build_area: 121.89㎡\n",
      "room_struct: 错层\n",
      "within_area: 暂无数据\n",
      "building_type: 板楼\n",
      "room_dir: 南 北\n",
      "build_struct: 钢混结构\n",
      "decrator: 精装\n",
      "elvator: 一梯两户\n",
      "has_elvator: 有\n",
      "========================================================================================================================================================================================================================================================================================================================================================================================================================================================================================================================================================================================================================\n",
      "link: https://sh.lianjia.com/ershoufang/107103340213.html\n",
      "title: 好位置好楼层，小户型不看这套，小区房子白看！！\n",
      "total_price 368\n",
      "total unit: 万\n",
      "price: 44972\n",
      "unit: 元/平米\n",
      "community name: 莱顿小城\n",
      "area: 松江 松江大学城 外环外\n",
      "bases len: 11\n",
      "room type: 2室2厅1厨1卫\n",
      "floor: 高楼层 (共15层)\n",
      "build_area: 81.83㎡\n",
      "room_struct: 平层\n",
      "within_area: 暂无数据\n",
      "building_type: 板楼\n",
      "room_dir: 南 北\n",
      "build_struct: 钢混结构\n",
      "decrator: 精装\n",
      "elvator: 一梯三户\n",
      "has_elvator: 有\n",
      "========================================================================================================================================================================================================================================================================================================================================================================================================================================================================================================================================================================================================================\n",
      "link: https://sh.lianjia.com/ershoufang/107103335131.html\n",
      "title: 精装修，留家具家电，西渡站+全明户型，满五唯一\n",
      "total_price 196\n",
      "total unit: 万\n",
      "price: 24670\n",
      "unit: 元/平米\n",
      "community name: 水闸小区\n",
      "area: 奉贤 西渡 外环外\n",
      "bases len: 11\n",
      "room type: 2室2厅1厨1卫\n",
      "floor: 低楼层 (共6层)\n",
      "build_area: 79.45㎡\n",
      "room_struct: 平层\n",
      "within_area: 72㎡\n",
      "building_type: 板楼\n",
      "room_dir: 南\n",
      "build_struct: 砖混结构\n",
      "decrator: 精装\n",
      "elvator: 一梯一户\n",
      "has_elvator: 无\n",
      "========================================================================================================================================================================================================================================================================================================================================================================================================================================================================================================================================================================================================================\n",
      "link: https://sh.lianjia.com/ershoufang/107103334413.html\n",
      "title: 经典三房 中间楼层 精装修拎包入住 高性价.比\n",
      "total_price 368\n",
      "total unit: 万\n",
      "price: 41550\n",
      "unit: 元/平米\n",
      "community name: 象屿都城\n",
      "area: 松江 九亭 外环外\n",
      "bases len: 11\n",
      "room type: 3室2厅1厨1卫\n",
      "floor: 中楼层 (共14层)\n",
      "build_area: 88.57㎡\n",
      "room_struct: 平层\n",
      "within_area: 暂无数据\n",
      "building_type: 板楼\n",
      "room_dir: 南\n",
      "build_struct: 钢混结构\n",
      "decrator: 精装\n",
      "elvator: 一梯两户\n",
      "has_elvator: 有\n",
      "========================================================================================================================================================================================================================================================================================================================================================================================================================================================================================================================================================================================================================\n",
      "link: https://sh.lianjia.com/ershoufang/107102833464.html\n",
      "title: 满五唯一无个税，2南1北，中间楼层，视野开阔，采光好\n",
      "total_price 1565\n",
      "total unit: 万\n",
      "price: 119393\n",
      "unit: 元/平米\n",
      "community name: 仁恒河滨城(一期)\n",
      "area: 浦东 联洋 内环内\n",
      "bases len: 11\n",
      "room type: 3室2厅1厨2卫\n",
      "floor: 中楼层 (共26层)\n",
      "build_area: 131.08㎡\n",
      "room_struct: 平层\n",
      "within_area: 暂无数据\n",
      "building_type: 塔楼\n",
      "room_dir: 南\n",
      "build_struct: 钢混结构\n",
      "decrator: 精装\n",
      "elvator: 两梯四户\n",
      "has_elvator: 有\n",
      "========================================================================================================================================================================================================================================================================================================================================================================================================================================================================================================================================================================================================================\n",
      "link: https://sh.lianjia.com/ershoufang/107103361533.html\n",
      "title: 次新房，全南户型，出行便利，配套齐全，诚意出售\n",
      "total_price 500\n",
      "total unit: 万\n",
      "price: 103800\n",
      "unit: 元/平米\n",
      "community name: 大宁龙盛雅苑\n",
      "area: 静安 大宁 内环至中环\n",
      "bases len: 11\n",
      "room type: 1室1厅1厨1卫\n",
      "floor: 低楼层 (共16层)\n",
      "build_area: 48.17㎡\n",
      "room_struct: 平层\n",
      "within_area: 暂无数据\n",
      "building_type: 板楼\n",
      "room_dir: 南\n",
      "build_struct: 钢混结构\n",
      "decrator: 简装\n",
      "elvator: 一梯四户\n",
      "has_elvator: 有\n",
      "========================================================================================================================================================================================================================================================================================================================================================================================================================================================================================================================================================================================================================\n",
      "link: https://sh.lianjia.com/ershoufang/107103122026.html\n",
      "title: 地铁小3房，楼层位置佳，动迁无增值税，随时看房！\n",
      "total_price 375\n",
      "total unit: 万\n",
      "price: 49091\n",
      "unit: 元/平米\n",
      "community name: 东陆新村七街坊\n",
      "area: 浦东 金桥 中环至外环\n",
      "bases len: 11\n",
      "room type: 3室1厅1厨1卫\n",
      "floor: 中楼层 (共6层)\n",
      "build_area: 76.39㎡\n",
      "room_struct: 平层\n",
      "within_area: 暂无数据\n",
      "building_type: 板楼\n",
      "room_dir: 南\n",
      "build_struct: 砖混结构\n",
      "decrator: 毛坯\n",
      "elvator: 一梯两户\n",
      "has_elvator: 无\n",
      "========================================================================================================================================================================================================================================================================================================================================================================================================================================================================================================================================================================================================================\n",
      "link: https://sh.lianjia.com/ershoufang/107103348675.html\n",
      "title: 此房满五，南北户型 高楼层，采光充足，配套设施齐全\n",
      "total_price 295\n",
      "total unit: 万\n",
      "price: 32950\n",
      "unit: 元/平米\n",
      "community name: 清水颐园\n",
      "area: 嘉定 嘉定老城 外环外\n",
      "bases len: 11\n",
      "room type: 3室2厅1厨1卫\n",
      "floor: 中楼层 (共18层)\n",
      "build_area: 89.53㎡\n",
      "room_struct: 平层\n",
      "within_area: 暂无数据\n",
      "building_type: 板楼\n",
      "room_dir: 南 北\n",
      "build_struct: 钢混结构\n",
      "decrator: 简装\n",
      "elvator: 两梯三户\n",
      "has_elvator: 有\n",
      "========================================================================================================================================================================================================================================================================================================================================================================================================================================================================================================================================================================================================================\n",
      "link: https://sh.lianjia.com/ershoufang/107103367785.html\n",
      "title: 近地铁 一手动迁  古北陆翔苑  精装大三房 拎包入住\n",
      "total_price 450\n",
      "total unit: 万\n",
      "price: 44296\n",
      "unit: 元/平米\n",
      "community name: 菊泉新城(陆翔路358弄)\n",
      "area: 宝山 顾村 外环外\n",
      "bases len: 11\n",
      "room type: 3室2厅1厨2卫\n",
      "floor: 中楼层 (共14层)\n",
      "build_area: 101.59㎡\n",
      "room_struct: 平层\n",
      "within_area: 89㎡\n",
      "building_type: 板楼\n",
      "room_dir: 南\n",
      "build_struct: 钢混结构\n",
      "decrator: 精装\n",
      "elvator: 一梯两户\n",
      "has_elvator: 有\n",
      "========================================================================================================================================================================================================================================================================================================================================================================================================================================================================================================================================================================================================================\n",
      "link: https://sh.lianjia.com/ershoufang/107103330022.html\n",
      "title: 万科精装三房，中高楼层景观房~大虹桥品质小区！\n",
      "total_price 848\n",
      "total unit: 万\n",
      "price: 68190\n",
      "unit: 元/平米\n",
      "community name: 万科天空之城\n",
      "area: 青浦 徐泾 外环外\n",
      "bases len: 11\n",
      "room type: 3室2厅1厨2卫\n",
      "floor: 中楼层 (共17层)\n",
      "build_area: 124.36㎡\n",
      "room_struct: 平层\n",
      "within_area: 暂无数据\n",
      "building_type: 板楼\n",
      "room_dir: 南\n",
      "build_struct: 钢混结构\n",
      "decrator: 精装\n",
      "elvator: 两梯两户\n",
      "has_elvator: 有\n",
      "========================================================================================================================================================================================================================================================================================================================================================================================================================================================================================================================================================================================================================\n",
      "link: https://sh.lianjia.com/ershoufang/107103177217.html\n",
      "title: 百联商圈，川沙地铁站距离200米，总价低租金7.5万\n",
      "total_price 300\n",
      "total unit: 万\n",
      "price: 45732\n",
      "unit: 元/平米\n",
      "community name: 桃园新村(川沙)\n",
      "area: 浦东 川沙 外环外\n",
      "bases len: 11\n",
      "room type: 2室1厅1厨1卫\n",
      "floor: 低楼层 (共6层)\n",
      "build_area: 65.6㎡\n",
      "room_struct: 暂无数据\n",
      "within_area: 暂无数据\n",
      "building_type: 板楼\n",
      "room_dir: 南\n",
      "build_struct: 混合结构\n",
      "decrator: 简装\n",
      "elvator: 一梯两户\n",
      "has_elvator: 无\n",
      "========================================================================================================================================================================================================================================================================================================================================================================================================================================================================================================================================================================================================================\n",
      "link: https://sh.lianjia.com/ershoufang/107103285341.html\n",
      "title: 此房满五唯一无个税，2002年三期，南北全明户型。\n",
      "total_price 360\n",
      "total unit: 万\n",
      "price: 48479\n",
      "unit: 元/平米\n",
      "community name: 贵峰苑\n",
      "area: 闵行 颛桥 外环外\n",
      "bases len: 11\n",
      "room type: 2室1厅1厨1卫\n",
      "floor: 中楼层 (共6层)\n",
      "build_area: 74.26㎡\n",
      "room_struct: 平层\n",
      "within_area: 暂无数据\n",
      "building_type: 板楼\n",
      "room_dir: 南\n",
      "build_struct: 砖混结构\n",
      "decrator: 简装\n",
      "elvator: 一梯两户\n",
      "has_elvator: 无\n",
      "========================================================================================================================================================================================================================================================================================================================================================================================================================================================================================================================================================================================================================\n",
      "link: https://sh.lianjia.com/ershoufang/107103351338.html\n",
      "title: 电梯房中间楼层采光好，诚心出售，户型方正双卧带飘窗\n",
      "total_price 415\n",
      "total unit: 万\n",
      "price: 43818\n",
      "unit: 元/平米\n",
      "community name: 上大阳光乾和园\n",
      "area: 宝山 大场镇 中环至外环\n",
      "bases len: 11\n",
      "room type: 2室1厅1厨1卫\n",
      "floor: 中楼层 (共13层)\n",
      "build_area: 94.71㎡\n",
      "room_struct: 平层\n",
      "within_area: 暂无数据\n",
      "building_type: 板楼\n",
      "room_dir: 南\n",
      "build_struct: 钢混结构\n",
      "decrator: 精装\n",
      "elvator: 一梯两户\n",
      "has_elvator: 有\n",
      "========================================================================================================================================================================================================================================================================================================================================================================================================================================================================================================================================================================================================================\n",
      "link: https://sh.lianjia.com/ershoufang/107103325182.html\n",
      "title: 直达未来家-全新品牌家具家电-拎包入住\n",
      "total_price 330\n",
      "total unit: 万\n",
      "price: 55138\n",
      "unit: 元/平米\n",
      "community name: 古美八村\n",
      "area: 闵行 古美 中环至外环\n",
      "bases len: 11\n",
      "room type: 2室1厅1厨1卫\n",
      "floor: 高楼层 (共6层)\n",
      "build_area: 59.85㎡\n",
      "room_struct: 平层\n",
      "within_area: 暂无数据\n",
      "building_type: 板楼\n",
      "room_dir: 南 北\n",
      "build_struct: 砖混结构\n",
      "decrator: 精装\n",
      "elvator: 一梯四户\n",
      "has_elvator: 无\n",
      "========================================================================================================================================================================================================================================================================================================================================================================================================================================================================================================================================================================================================================\n",
      "link: https://sh.lianjia.com/ershoufang/107102530912.html\n",
      "title: 原始动迁三房+电梯中间楼层+全明户型+业主诚意出售\n",
      "total_price 485\n",
      "total unit: 万\n",
      "price: 48549\n",
      "unit: 元/平米\n",
      "community name: 浦江世博家园十五街坊\n",
      "area: 闵行 浦江 外环外\n",
      "bases len: 11\n",
      "room type: 3室2厅1厨1卫\n",
      "floor: 中楼层 (共11层)\n",
      "build_area: 99.9㎡\n",
      "room_struct: 平层\n",
      "within_area: 暂无数据\n",
      "building_type: 板楼\n",
      "room_dir: 南\n",
      "build_struct: 钢混结构\n",
      "decrator: 简装\n",
      "elvator: 一梯三户\n",
      "has_elvator: 有\n",
      "========================================================================================================================================================================================================================================================================================================================================================================================================================================================================================================================================================================================================================\n",
      "link: https://sh.lianjia.com/ershoufang/107103134554.html\n",
      "title: 户型正气楼层佳+地铁两房业主诚\n",
      "total_price 298\n",
      "total unit: 万\n",
      "price: 39006\n",
      "unit: 元/平米\n",
      "community name: 共富一村\n",
      "area: 宝山 共富 中环至外环\n",
      "bases len: 11\n",
      "room type: 2室1厅1厨1卫\n",
      "floor: 中楼层 (共6层)\n",
      "build_area: 76.4㎡\n",
      "room_struct: 平层\n",
      "within_area: 70㎡\n",
      "building_type: 板楼\n",
      "room_dir: 南\n",
      "build_struct: 砖混结构\n",
      "decrator: 简装\n",
      "elvator: 一梯两户\n",
      "has_elvator: 无\n",
      "========================================================================================================================================================================================================================================================================================================================================================================================================================================================================================================================================================================================================================\n",
      "link: https://sh.lianjia.com/ershoufang/107102029985.html\n",
      "title: 保利商品房，业主诚意卖，精装修不靠路。\n",
      "total_price 412\n",
      "total unit: 万\n",
      "price: 50472\n",
      "unit: 元/平米\n",
      "community name: 保利金色唐城\n",
      "area: 浦东 唐镇 外环外\n",
      "bases len: 11\n",
      "room type: 2室2厅1厨1卫\n",
      "floor: 中楼层 (共5层)\n",
      "build_area: 81.63㎡\n",
      "room_struct: 平层\n",
      "within_area: 暂无数据\n",
      "building_type: 板楼\n",
      "room_dir: 南\n",
      "build_struct: 钢混结构\n",
      "decrator: 精装\n",
      "elvator: 一梯两户\n",
      "has_elvator: 无\n",
      "========================================================================================================================================================================================================================================================================================================================================================================================================================================================================================================================================================================================================================\n",
      "link: https://sh.lianjia.com/ershoufang/107103349682.html\n",
      "title: 二期精装一房，带储藏室，好位置好楼层，超诚意出售\n",
      "total_price 279\n",
      "total unit: 万\n",
      "price: 46875\n",
      "unit: 元/平米\n",
      "community name: 保利西子湾\n",
      "area: 松江 松江大学城 外环外\n",
      "bases len: 11\n",
      "room type: 1室1厅1厨1卫\n",
      "floor: 中楼层 (共18层)\n",
      "build_area: 59.52㎡\n",
      "room_struct: 平层\n",
      "within_area: 暂无数据\n",
      "building_type: 板楼\n",
      "room_dir: 南\n",
      "build_struct: 钢混结构\n",
      "decrator: 精装\n",
      "elvator: 两梯四户\n",
      "has_elvator: 有\n",
      "========================================================================================================================================================================================================================================================================================================================================================================================================================================================================================================================================================================================================================\n",
      "link: https://sh.lianjia.com/ershoufang/107103283053.html\n",
      "title: 此房一手动迁满三年，位置好，视野及采光好，随时看房\n",
      "total_price 165\n",
      "total unit: 万\n",
      "price: 33777\n",
      "unit: 元/平米\n",
      "community name: 美罗家园宝欣苑二村\n",
      "area: 宝山 罗店 外环外\n",
      "bases len: 11\n",
      "room type: 1室1厅1厨1卫\n",
      "floor: 中楼层 (共18层)\n",
      "build_area: 48.85㎡\n",
      "room_struct: 平层\n",
      "within_area: 暂无数据\n",
      "building_type: 塔楼\n",
      "room_dir: 南\n",
      "build_struct: 钢混结构\n",
      "decrator: 简装\n",
      "elvator: 两梯六户\n",
      "has_elvator: 有\n",
      "========================================================================================================================================================================================================================================================================================================================================================================================================================================================================================================================================================================================================================\n",
      "link: https://sh.lianjia.com/ershoufang/107103310663.html\n",
      "title: 地铁9号线旁，南北通透2房，户型正，不靠边墙，税费少\n",
      "total_price 340\n",
      "total unit: 万\n",
      "price: 42789\n",
      "unit: 元/平米\n",
      "community name: 星颂家园\n",
      "area: 浦东 曹路 外环外\n",
      "bases len: 11\n",
      "room type: 2室2厅1厨1卫\n",
      "floor: 高楼层 (共18层)\n",
      "build_area: 79.46㎡\n",
      "room_struct: 平层\n",
      "within_area: 暂无数据\n",
      "building_type: 板楼\n",
      "room_dir: 南 北\n",
      "build_struct: 钢混结构\n",
      "decrator: 精装\n",
      "elvator: 两梯三户\n",
      "has_elvator: 有\n",
      "========================================================================================================================================================================================================================================================================================================================================================================================================================================================================================================================================================================================================================\n",
      "link: https://sh.lianjia.com/ershoufang/107100350669.html\n",
      "title: 3.4.7号线 镇坪路站 08年小区 人车分流 拎包入住\n",
      "total_price 760\n",
      "total unit: 万\n",
      "price: 91633\n",
      "unit: 元/平米\n",
      "community name: 泰欣嘉园\n",
      "area: 普陀 武宁 内环内\n",
      "bases len: 11\n",
      "room type: 2室2厅1厨1卫\n",
      "floor: 低楼层 (共29层)\n",
      "build_area: 82.94㎡\n",
      "room_struct: 平层\n",
      "within_area: 暂无数据\n",
      "building_type: 塔楼\n",
      "room_dir: 西南 西 西北\n",
      "build_struct: 钢混结构\n",
      "decrator: 精装\n",
      "elvator: 三梯六户\n",
      "has_elvator: 有\n",
      "========================================================================================================================================================================================================================================================================================================================================================================================================================================================================================================================================================================================================================\n",
      "link: https://sh.lianjia.com/ershoufang/107103139635.html\n",
      "title: 户型方正+位置安静+带花园+有车位+诚意出售\n",
      "total_price 1115\n",
      "total unit: 万\n",
      "price: 81358\n",
      "unit: 元/平米\n",
      "community name: 上海知音苑\n",
      "area: 普陀 长寿路 内环内\n",
      "bases len: 11\n",
      "room type: 3室2厅1厨2卫\n",
      "floor: 低楼层 (共18层)\n",
      "build_area: 137.05㎡\n",
      "room_struct: 平层\n",
      "within_area: 100㎡\n",
      "building_type: 板楼\n",
      "room_dir: 南\n",
      "build_struct: 钢混结构\n",
      "decrator: 简装\n",
      "elvator: 两梯两户\n",
      "has_elvator: 有\n",
      "========================================================================================================================================================================================================================================================================================================================================================================================================================================================================================================================================================================================================================\n",
      "link: https://sh.lianjia.com/ershoufang/107103365723.html\n",
      "title: 双地铁7/13，低楼层，满二年，精装修，拎包入住\n",
      "total_price 250\n",
      "total unit: 万\n",
      "price: 60592\n",
      "unit: 元/平米\n",
      "community name: 天池一村\n",
      "area: 浦东 北蔡 内环至中环\n",
      "bases len: 11\n",
      "room type: 1室1厅1厨1卫\n",
      "floor: 低楼层 (共6层)\n",
      "build_area: 41.26㎡\n",
      "room_struct: 平层\n",
      "within_area: 暂无数据\n",
      "building_type: 板楼\n",
      "room_dir: 南\n",
      "build_struct: 砖混结构\n",
      "decrator: 精装\n",
      "elvator: 一梯四户\n",
      "has_elvator: 无\n",
      "========================================================================================================================================================================================================================================================================================================================================================================================================================================================================================================================================================================================================================\n",
      "link: https://sh.lianjia.com/ershoufang/107102945435.html\n",
      "title: 中环一号一期 大两房，全南户型，精装自住，随时可看\n",
      "total_price 536\n",
      "total unit: 万\n",
      "price: 56985\n",
      "unit: 元/平米\n",
      "community name: 中环一号(一期)\n",
      "area: 宝山 大华 中环至外环\n",
      "bases len: 11\n",
      "room type: 2室1厅1厨1卫\n",
      "floor: 低楼层 (共14层)\n",
      "build_area: 94.06㎡\n",
      "room_struct: 平层\n",
      "within_area: 暂无数据\n",
      "building_type: 板楼\n",
      "room_dir: 南\n",
      "build_struct: 钢混结构\n",
      "decrator: 精装\n",
      "elvator: 一梯三户\n",
      "has_elvator: 有\n",
      "========================================================================================================================================================================================================================================================================================================================================================================================================================================================================================================================================================================================================================\n",
      "link: https://sh.lianjia.com/ershoufang/107103343032.html\n",
      "title: 小区中间位置，南北通透，自住装修保养好，配套齐全\n",
      "total_price 480\n",
      "total unit: 万\n",
      "price: 53340\n",
      "unit: 元/平米\n",
      "community name: 保利翡丽公馆\n",
      "area: 松江 泗泾 外环外\n",
      "bases len: 11\n",
      "room type: 2室2厅1厨1卫\n",
      "floor: 中楼层 (共16层)\n",
      "build_area: 89.99㎡\n",
      "room_struct: 平层\n",
      "within_area: 暂无数据\n",
      "building_type: 板楼\n",
      "room_dir: 南 北\n",
      "build_struct: 钢混结构\n",
      "decrator: 精装\n",
      "elvator: 两梯四户\n",
      "has_elvator: 有\n",
      "========================================================================================================================================================================================================================================================================================================================================================================================================================================================================================================================================================================================================================\n",
      "link: https://sh.lianjia.com/ershoufang/107103107208.html\n",
      "title: 市光四村  双南  全明户型 地铁口 房东诚意卖\n",
      "total_price 297\n",
      "total unit: 万\n",
      "price: 51500\n",
      "unit: 元/平米\n",
      "community name: 市光四村\n",
      "area: 杨浦 中原 中环至外环\n",
      "bases len: 11\n",
      "room type: 2室1厅1厨1卫\n",
      "floor: 高楼层 (共6层)\n",
      "build_area: 57.67㎡\n",
      "room_struct: 平层\n",
      "within_area: 暂无数据\n",
      "building_type: 板楼\n",
      "room_dir: 南\n",
      "build_struct: 砖混结构\n",
      "decrator: 简装\n",
      "elvator: 一梯三户\n",
      "has_elvator: 无\n",
      "========================================================================================================================================================================================================================================================================================================================================================================================================================================================================================================================================================================================================================\n",
      "link: https://sh.lianjia.com/ershoufang/107103178866.html\n",
      "title: 南北通透 中间楼层 小区安静舒适\n",
      "total_price 380\n",
      "total unit: 万\n",
      "price: 39530\n",
      "unit: 元/平米\n",
      "community name: 滨浦新苑三村\n",
      "area: 闵行 浦江 外环外\n",
      "bases len: 11\n",
      "room type: 2室2厅1厨1卫\n",
      "floor: 中楼层 (共6层)\n",
      "build_area: 96.13㎡\n",
      "room_struct: 平层\n",
      "within_area: 暂无数据\n",
      "building_type: 板楼\n",
      "room_dir: 南 北\n",
      "build_struct: 钢混结构\n",
      "decrator: 毛坯\n",
      "elvator: 一梯两户\n",
      "has_elvator: 无\n",
      "========================================================================================================================================================================================================================================================================================================================================================================================================================================================================================================================================================================================================================\n",
      "link: https://sh.lianjia.com/ershoufang/107103285141.html\n",
      "title: 奥园南北通2+1户型，楼层好，采光无遮挡，视野好\n",
      "total_price 378\n",
      "total unit: 万\n",
      "price: 41699\n",
      "unit: 元/平米\n",
      "community name: 奥林匹克花园\n",
      "area: 松江 九亭 外环外\n",
      "bases len: 11\n",
      "room type: 2室2厅1厨1卫\n",
      "floor: 低楼层 (共13层)\n",
      "build_area: 90.65㎡\n",
      "room_struct: 平层\n",
      "within_area: 暂无数据\n",
      "building_type: 板楼\n",
      "room_dir: 南 北\n",
      "build_struct: 钢混结构\n",
      "decrator: 精装\n",
      "elvator: 两梯三户\n",
      "has_elvator: 有\n",
      "========================================================================================================================================================================================================================================================================================================================================================================================================================================================================================================================================================================================================================\n"
     ]
    }
   ],
   "source": [
    "def down(url):\n",
    "    headers = {\n",
    "        'User-Agent': 'Mozilla/5.0 (compatible; WOW64; MSIE 10.0; Windows NT 6.2)',\n",
    "    }\n",
    "    response = requests.get(url,headers=headers)\n",
    "    html = response.content\n",
    "    return html\n",
    "\n",
    "if __name__ =='__main__':\n",
    "    for page in range(1,2):\n",
    "        if page == 1:\n",
    "            url = 'https://sh.lianjia.com/ershoufang/'\n",
    "        else:\n",
    "            url ='https://sh.lianjia.com/ershoufang/pg'+str(page)+'/'\n",
    "        print('url:'+url)\n",
    "        html = down(url)\n",
    "        html = etree.HTML(html)\n",
    "        #print(html.decode('utf-8'))\n",
    "        ls = html.xpath('//li[@class=\"clear LOGVIEWDATA LOGCLICKDATA\"]//div[@class=\"title\"]/a')\n",
    "        print('len:',len(ls))\n",
    "        for each in ls:\n",
    "            link = each.xpath('./@href')[0]\n",
    "            print('link:',link)\n",
    "            detail_html = down(link)\n",
    "            detail_html = etree.HTML(detail_html)\n",
    "            title = detail_html.xpath('//h1[@class=\"main\"]/text()')[0]\n",
    "            print('title:',title)\n",
    "            total_price = detail_html.xpath('//div[@class=\"price \"]/span[@class=\"total\"]/text()')[0]\n",
    "            print('total_price',total_price)\n",
    "            total_unit = detail_html.xpath('//div[@class=\"price \"]/span[@class=\"unit\"]//text()')[0]\n",
    "            print('total unit:',total_unit)\n",
    "            price = detail_html.xpath('//span[@class=\"unitPriceValue\"]/text()')[0]\n",
    "            print('price:',price)\n",
    "            unit = detail_html.xpath('//span[@class=\"unitPriceValue\"]/i/text()')[0]\n",
    "            print('unit:',unit)\n",
    "            community_name = detail_html.xpath('//div[@class=\"communityName\"]/a[@class=\"info \"]/text()')[0]\n",
    "            print('community name:',community_name)\n",
    "            area = detail_html.xpath('//div[@class=\"areaName\"]/span[@class=\"info\"]//text()')\n",
    "            area = ''.join(area)\n",
    "            print('area:',area)\n",
    "\n",
    "            bases = detail_html.xpath('//div[@class=\"base\"]/div[@class=\"content\"]//li')\n",
    "            print('bases len:',len(bases))\n",
    "            room_type = bases[0].xpath('./text()')[0]\n",
    "            print('room type:',room_type)\n",
    "            floor = bases[1].xpath('./text()')[0]\n",
    "            print('floor:', floor)\n",
    "            build_area = bases[2].xpath('./text()')[0]\n",
    "            print('build_area:', build_area)\n",
    "            room_struct = bases[3].xpath('./text()')[0]\n",
    "            print('room_struct:', room_struct)\n",
    "            within_area = bases[4].xpath('./text()')[0]\n",
    "            print('within_area:', within_area)\n",
    "            building_type = bases[5].xpath('./text()')[0]\n",
    "            print('building_type:', building_type)\n",
    "            room_dir = bases[6].xpath('./text()')[0]\n",
    "            print('room_dir:', room_dir)\n",
    "            build_struct = bases[7].xpath('./text()')[0]\n",
    "            print('build_struct:', build_struct)\n",
    "            decrator = bases[8].xpath('./text()')[0]\n",
    "            print('decrator:', decrator)\n",
    "            elvator = bases[9].xpath('./text()')[0]\n",
    "            print('elvator:', elvator)\n",
    "            has_elvator = bases[10].xpath('./text()')[0]\n",
    "            print('has_elvator:', has_elvator)\n",
    "            print('='*600)"
   ]
  },
  {
   "cell_type": "code",
   "execution_count": 8,
   "metadata": {},
   "outputs": [
    {
     "name": "stdout",
     "output_type": "stream",
     "text": [
      "网页请求成功!\n",
      "1 金晨 不喜欢就是不喜欢 2681478\n",
      "2 我国超一半人感染幽门螺杆菌 2681478\n",
      "3 朱星杰承认与王岚恋情 2681478\n",
      "4 胡一天乔欣亲出声 2681478\n",
      "5 哥老官 兽药 2681478\n",
      "6 兔子搓脸脸有多可爱 2681478\n",
      "7 哈尔滨男子晨跑眉毛挂霜变鳌拜 2681478\n",
      "8 国台办称绝不为台独分裂活动留空间 2681478\n",
      "9 苹果计划将iPhone产量提升30％ 2681478\n",
      "10 于正否认有儿子 2681478\n",
      "11 王小岚否认自己是视频中的女生 2681478\n",
      "12 向太晒向佐郭碧婷豪宅内景 2681478\n",
      "13 糖水燕窝曝光者隐私遭辛选泄露 2681478\n",
      "14 安徽发现一批次国产鸡腿外包装阳性 2681478\n",
      "15 明星大侦探演唱会阵容 2681478\n",
      "16 王岚称另有男友 2681478\n",
      "17 QQ或推出已读功能 2681478\n",
      "18 王一博好会哭 2681478\n",
      "19 有翡还原度 2681478\n",
      "20 金晨拒绝陈一鸣 2681478\n",
      "21 于朦胧练舞好像做颈椎复健操 2681478\n",
      "22 一半法国人不愿接种新冠疫苗 2681478\n",
      "23 老医生立遗嘱将财产留给救过自己的朋友 2681478\n",
      "24 朴彩英给金智秀送咖啡车应援 2681478\n",
      "25 明道工作室回应 2681478\n",
      "26 港府官员宣誓效忠香港特区 2681478\n",
      "27 鸿蒙系统 2681478\n",
      "28 31名球员被中国足协终身禁赛 2681478\n",
      "29 金莎耿斯汉继续约会 2681478\n",
      "30 恋爱中的男生又拽又可爱 2681478\n",
      "31 李汶翰工作室回应初面试嘴里含糖 2681478\n",
      "32 生育补贴能提高生育率吗 2681478\n",
      "33 华盛顿国家大教堂敲响300下丧钟 2681478\n",
      "34 当你在宿舍打开了一袋零食 2681478\n",
      "35 云帆小朱在一起了 2681478\n",
      "36 盛况 2681478\n",
      "37 比亚迪汉被曝冬季续航缩水三分之二 2681478\n",
      "38 晴雅集首映 2681478\n",
      "39 小风暴 2681478\n",
      "40 国产千元机遭海外疯抢 2681478\n",
      "41 福奇强烈建议拜登尽快打疫苗 2681478\n",
      "42 旧时光美人妆 2681478\n",
      "43 民航局调整国际客运航班熔断措施 2681478\n",
      "44 超市查卡拒绝非会员购物 2681478\n",
      "45 奶奶假装不会吃药哄孙女回家 2681478\n",
      "46 巴黎市政府因雇佣太多女性被罚款 2681478\n",
      "47 女子出轨快递员造谣者父亲发声 2681478\n",
      "48 女儿们的恋爱 2681478\n",
      "49 漠河95后女快递员极寒下工作 2681478\n",
      "50 有翡 2681478\n"
     ]
    }
   ],
   "source": [
    "import requests\n",
    "from lxml import etree\n",
    "\n",
    "url = 'https://s.weibo.com/top/summary?cate=realtimehot'\n",
    "\n",
    "headers = {\n",
    "    'User-Agent':'Mozilla/5.0 (compatible; WOW64; MSIE 10.0; Windows NT 6.2)'\n",
    "}\n",
    "\n",
    "def get(url):\n",
    "    response = requests.get(url, headers=headers)\n",
    "    if response.status_code ==200:\n",
    "        print(\"网页请求成功!\")\n",
    "        parse(url)\n",
    "    else:\n",
    "        print('网页请求失败')\n",
    "def parse(url):\n",
    "    response = requests.get(url, headers=headers)\n",
    "    selector = etree.HTML(response.text)\n",
    "    number = selector.xpath('//td[@class=\"td-01 ranktop\"]/text()')\n",
    "    topic = selector.xpath('//td[@class=\"td-02\"]/a/text()')\n",
    "    hot = selector.xpath('//td[@class=\"td-02\"]/span/text()')\n",
    "    for i in range(len(number)):\n",
    "        print(number[i], topic[i+1], hot[1])\n",
    "\n",
    "get(url)"
   ]
  },
  {
   "cell_type": "code",
   "execution_count": null,
   "metadata": {},
   "outputs": [],
   "source": []
  }
 ],
 "metadata": {
  "kernelspec": {
   "display_name": "Python 3",
   "language": "python",
   "name": "python3"
  },
  "language_info": {
   "codemirror_mode": {
    "name": "ipython",
    "version": 3
   },
   "file_extension": ".py",
   "mimetype": "text/x-python",
   "name": "python",
   "nbconvert_exporter": "python",
   "pygments_lexer": "ipython3",
   "version": "3.8.3"
  }
 },
 "nbformat": 4,
 "nbformat_minor": 4
}
