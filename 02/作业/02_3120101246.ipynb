{
 "cells": [
  {
   "cell_type": "code",
   "execution_count": 1,
   "metadata": {},
   "outputs": [
    {
     "name": "stdin",
     "output_type": "stream",
     "text": [
      "请填写用户名： 战千里\n",
      "战千里您好，请输入您的年龄 :  20\n"
     ]
    },
    {
     "name": "stdout",
     "output_type": "stream",
     "text": [
      "战千里您好，欢迎游玩本游戏，您的初始金币为：1500\n",
      "\n",
      "\n",
      "***********************游戏说明***********************\n",
      "*                                                     *\n",
      "*   电脑每次投掷三枚骰子，总点数>=10为大，否则为小    *\n",
      "*                                                     *\n",
      "******************************************************\n",
      "\n",
      "\n"
     ]
    },
    {
     "name": "stdin",
     "output_type": "stream",
     "text": [
      "是否开始游戏 yes or no :    no\n"
     ]
    },
    {
     "name": "stdout",
     "output_type": "stream",
     "text": [
      "欢迎下次游玩，再见！\n"
     ]
    }
   ],
   "source": [
    "import time\n",
    "import random\n",
    "# 让用户注册\n",
    "name = input('请填写用户名：')\n",
    "age = input(\"{}您好，请输入您的年龄 : \".format(name))\n",
    "user_info = {'name': name, 'age': int(age)}  # 用户信息\n",
    "user_properties = ['X 1-5']  # 用于存放用户道具 默认道具\n",
    "properties = ['X3 (250G)', 'X1-5 (300G)']  # 道具列表 显示用\n",
    "\n",
    "# 根据用户年龄 给与不同的初始金币\n",
    "if 10 < user_info['age'] < 18:\n",
    "    glod = 1000\n",
    "elif 18 <= user_info['age'] <= 30:\n",
    "    glod = 1500\n",
    "else:\n",
    "    glod = 500\n",
    "user_info['glod'] = glod\n",
    "\n",
    "# 输出相关提示信息\n",
    "print(\"{}您好，欢迎游玩本游戏，您的初始金币为：{}\".format(user_info['name'], user_info['glod']))\n",
    "print(\"\\n\")\n",
    "time.sleep(1)\n",
    "print('游戏说明'.center(50, '*'))\n",
    "print('*'.ljust(53), '*')\n",
    "print('*', end='')\n",
    "print(\"电脑每次投掷三枚骰子，总点数>=10为大，否则为小\".center(32), end='')\n",
    "print('*')\n",
    "print('*'.ljust(53), '*')\n",
    "print('*' * 54)\n",
    "print(\"\\n\")\n",
    "\n",
    "#             开始游戏\n",
    "result = input('是否开始游戏 yes or no :  ')\n",
    "go = True\n",
    "if (result.lower() == 'yes'):\n",
    "    while go:\n",
    "        dices = []\n",
    "        # 开始投掷\n",
    "        for i in range(0, 3):\n",
    "            dices.append(random.randint(1, 6))\n",
    "        total = sum(dices)  # 计算总和\n",
    "        user_input = input('请输入big OR small : ')  # 等待用户输入\n",
    "        u_input = user_input.strip().lower()\n",
    "        time.sleep(1)\n",
    "        # 判断用户输入\n",
    "        print('骰子点数为：{}'.format(dices), end=' ')\n",
    "        if (total >= 10 and u_input == 'big') or (total < 10 and u_input == 'small'):\n",
    "            print('您赢了!!!')\n",
    "            multi = 1  # 倍数\n",
    "            if len(user_properties) > 0:  # 如果用户有道具 选择是否使用道具\n",
    "                use_pro = input('是否使用道具： ')\n",
    "                if use_pro.lower() == 'yes':\n",
    "                    use_pro = int(input('请选择使用第几个道具{} ：'.format(user_properties)))\n",
    "                    use_pro -= 1\n",
    "                    # 判断道具类型\n",
    "                    if user_properties[use_pro] == 'X 3':\n",
    "                        multi = 3\n",
    "                        print('奖金翻3倍')\n",
    "                    elif user_properties[use_pro] == 'X 1-5':\n",
    "                        multi = random.randint(1, 5)\n",
    "                        print('奖金翻{}倍'.format(multi))\n",
    "                    user_properties.remove(user_properties[use_pro])  # 删除道具\n",
    "\n",
    "            user_info['glod'] += 100 * multi;  # 金额增加\n",
    "        else:\n",
    "            print('您输了!')\n",
    "            user_info['glod'] -= 100;  # 错误 用户金币减 100\n",
    "\n",
    "        # 判断用户金币 是否够下次玩 不够则退出程序\n",
    "        if (user_info['glod'] <= 0):\n",
    "            print('您的金币已经用完，感谢您的游玩')\n",
    "            break\n",
    "\n",
    "        if user_info['glod'] % 1000 == 0:  # 用户金币 是1000的倍数是 可购买道具\n",
    "            shop = input('您现在有金币:{}，是否购买道具 yes or no: '.format(user_info['glod']))\n",
    "            if shop.lower() == 'yes':\n",
    "                good_num = int(input('请选择要购买第几个道具 {}'.format(properties)))\n",
    "                if good_num == 1:\n",
    "                    user_properties.append('X 3')  # 给用户添加道具\n",
    "                    user_info['glod'] -= 250\n",
    "                    print('购买成功！消耗金币250')\n",
    "                elif good_num == 2:\n",
    "                    user_properties.append('X 1-5')  # 给用户添加道具\n",
    "                    user_info['glod'] -= 300  # 用户金币减 300\n",
    "                    print('购买成功！消耗金币300')\n",
    "                else:\n",
    "                    print('没有该道具，您失去了这次机会')\n",
    "        else:\n",
    "            #  一直提示 太烦\n",
    "            # conti = input('您现在有金币:{}，是否继续游玩,yes or no: '.format(user_info['glod']))\n",
    "            print('您现在有金币:{} '.format(user_info['glod']))\n",
    "else:\n",
    "    print('欢迎下次游玩，再见！')"
   ]
  },
  {
   "cell_type": "code",
   "execution_count": 2,
   "metadata": {},
   "outputs": [
    {
     "name": "stdin",
     "output_type": "stream",
     "text": [
      "(请友善输入整数,未写判断!)请输入层数: 3\n"
     ]
    },
    {
     "name": "stdout",
     "output_type": "stream",
     "text": [
      "将左塔完整地移到右塔就是胜利!\n",
      "左-1 中-2 右-3  退出请输入:quit\n",
      "例如输入:\"1-2\"就是将左塔的最上元素放到中塔\n",
      "3层的最佳步数是7\n",
      "当前移动了0步\n",
      "-----------------------------------\n",
      "   X      |      |   \n",
      "  XXX     |      |   \n",
      " XXXXX    |      |   \n",
      "-----------------------------------\n"
     ]
    },
    {
     "name": "stdin",
     "output_type": "stream",
     "text": [
      "请操作: 1-3\n"
     ]
    },
    {
     "name": "stdout",
     "output_type": "stream",
     "text": [
      "当前移动了1步\n",
      "-----------------------------------\n",
      "   |      |      |   \n",
      "  XXX     |      |   \n",
      " XXXXX    |      X   \n",
      "-----------------------------------\n"
     ]
    },
    {
     "name": "stdin",
     "output_type": "stream",
     "text": [
      "请操作: 1-2\n"
     ]
    },
    {
     "name": "stdout",
     "output_type": "stream",
     "text": [
      "当前移动了2步\n",
      "-----------------------------------\n",
      "   |      |      |   \n",
      "   |      |      |   \n",
      " XXXXX   XXX     X   \n",
      "-----------------------------------\n"
     ]
    },
    {
     "name": "stdin",
     "output_type": "stream",
     "text": [
      "请操作: 3-2\n"
     ]
    },
    {
     "name": "stdout",
     "output_type": "stream",
     "text": [
      "当前移动了3步\n",
      "-----------------------------------\n",
      "   |      |      |   \n",
      "   |      X      |   \n",
      " XXXXX   XXX     |   \n",
      "-----------------------------------\n"
     ]
    },
    {
     "name": "stdin",
     "output_type": "stream",
     "text": [
      "请操作: 1-3\n"
     ]
    },
    {
     "name": "stdout",
     "output_type": "stream",
     "text": [
      "当前移动了4步\n",
      "-----------------------------------\n",
      "   |      |      |   \n",
      "   |      X      |   \n",
      "   |     XXX   XXXXX \n",
      "-----------------------------------\n"
     ]
    },
    {
     "name": "stdin",
     "output_type": "stream",
     "text": [
      "请操作: 2-1\n"
     ]
    },
    {
     "name": "stdout",
     "output_type": "stream",
     "text": [
      "当前移动了5步\n",
      "-----------------------------------\n",
      "   |      |      |   \n",
      "   |      |      |   \n",
      "   X     XXX   XXXXX \n",
      "-----------------------------------\n"
     ]
    },
    {
     "name": "stdin",
     "output_type": "stream",
     "text": [
      "请操作: 2-3\n"
     ]
    },
    {
     "name": "stdout",
     "output_type": "stream",
     "text": [
      "当前移动了6步\n",
      "-----------------------------------\n",
      "   |      |      |   \n",
      "   |      |     XXX  \n",
      "   X      |    XXXXX \n",
      "-----------------------------------\n"
     ]
    },
    {
     "name": "stdin",
     "output_type": "stream",
     "text": [
      "请操作: 1-3\n"
     ]
    },
    {
     "name": "stdout",
     "output_type": "stream",
     "text": [
      "当前移动了7步\n",
      "-----------------------------------\n",
      "   |      |      X   \n",
      "   |      |     XXX  \n",
      "   |      |    XXXXX \n",
      "-----------------------------------\n",
      "恭喜你使用最少步数完成汉诺塔!\n"
     ]
    }
   ],
   "source": [
    "#左中右塔用一个列表存储\n",
    "left = list()\n",
    "center = list()\n",
    "right = list()\n",
    "\"\"\"\n",
    "初始化函数\n",
    "\"\"\"\n",
    "def init():\n",
    "    size = input(\"(请友善输入整数,未写判断!)请输入层数:\")\n",
    "    #初始化塔列表,如5层 左边塔放 1-3-5-7-9,中间和右边放5个-1\n",
    "    for i in range(1,int(size) + 1):\n",
    "        left.append(i*2-1)\n",
    "        center.append(-1)\n",
    "        right.append(-1)\n",
    "    return int(size)\n",
    "\"\"\"\n",
    "打印样式函数\n",
    "\"\"\"\n",
    "def printStyling(i,size,ta):\n",
    "    if ta[i] != -1:\n",
    "        # 打印前空格\n",
    "        for kong in range(int(size - (ta[i] - 1) / 2)):\n",
    "            print(\" \", end=\"\")\n",
    "        # 打印塔元素\n",
    "        for le in range(ta[i]):\n",
    "            print(\"X\", end=\"\")\n",
    "        # 打印后空格\n",
    "        for kong in range(int(size - (ta[i] - 1) / 2)):\n",
    "            print(\" \", end=\"\")\n",
    "    # 左塔这一层为空格\n",
    "    else:\n",
    "        # 打印前面空格\n",
    "        for kong in range(size):\n",
    "            print(\" \", end=\"\")\n",
    "        # 打印中间的棒棒\n",
    "        print(\"|\", end=\"\")\n",
    "        # 打印后面的空格\n",
    "        for kong in range(size):\n",
    "            print(\" \", end=\"\")\n",
    "\"\"\"\n",
    "控制台打印结果\n",
    "\"\"\"\n",
    "def show(size):\n",
    "    #修饰\n",
    "    print(\"-\"*35)\n",
    "    #循环层数等于size\n",
    "    for i in range(size):\n",
    "        # 打印左边塔\n",
    "        printStyling(i,size,left)\n",
    "        # 打印中间塔\n",
    "        printStyling(i,size,center)\n",
    "        # 打印右边塔\n",
    "        printStyling(i,size,right)\n",
    "        #每行打印一个换行\n",
    "        print()\n",
    "    #修饰\n",
    "    print(\"-\" * 35)\n",
    "\"\"\"\n",
    "判断可不可以移动\n",
    "takeOff减少,putOn增加,size层数,tSize和pSize剩余空间\n",
    "\"\"\"\n",
    "def judge(takeOff,putOn,size,tSize,pSize,count):\n",
    "    # 如果左塔的剩余空间等于size,就是空的，就没有元素可移动\n",
    "    if tSize == size:\n",
    "        print(\"操作无效!\")\n",
    "        return 0\n",
    "    # 如果中塔为空,可以移动\n",
    "    if pSize == size:\n",
    "        # 中间的最后一个元素赋上左塔的第一个元素的值\n",
    "        putOn[pSize - 1] = takeOff[tSize]\n",
    "        # 左塔的第一个元素赋值-1\n",
    "        takeOff[tSize] = -1\n",
    "        # 左塔的剩余空间+1\n",
    "        tSize += 1\n",
    "        # 中塔的剩余空间-1\n",
    "        pSize -= 1\n",
    "        #步数+1\n",
    "        count += 1\n",
    "        #移动成功,返回剩余空间和步数\n",
    "        return tSize,pSize,count\n",
    "    # 如果中塔最上方元素比左塔最上方元素大,即可以移动\n",
    "    elif putOn[pSize] > takeOff[tSize]:\n",
    "        # 中塔当前最上方元素的再上一个元素(-1)赋上左塔最上方元素的值\n",
    "        putOn[pSize - 1] = takeOff[tSize]\n",
    "        # 左塔最上方元素赋值-1\n",
    "        takeOff[tSize] = -1\n",
    "        # 左塔剩余空间+1\n",
    "        tSize += 1\n",
    "        # 中塔剩余空间-1\n",
    "        pSize -= 1\n",
    "        #步数+1\n",
    "        count += 1\n",
    "        # 移动成功,返回剩余空间和步数\n",
    "        return tSize,pSize,count\n",
    "    # 否则不可以移动\n",
    "    else:\n",
    "        print(\"操作无效!\")\n",
    "        return 0\n",
    "\"\"\"\n",
    "主要运行函数\n",
    "\"\"\"\n",
    "def main():\n",
    "    #初始化游戏\n",
    "    size = init()\n",
    "    # 存放最初的盘剩余空间 lSize左塔 cSize中塔 rSize右塔\n",
    "    lSize = 0\n",
    "    cSize = size\n",
    "    rSize = size\n",
    "    #存放操作步数\n",
    "    count = 0\n",
    "    #打印游戏介绍\n",
    "    print(\"将左塔完整地移到右塔就是胜利!\")\n",
    "    print(\"左-1 中-2 右-3  退出请输入:quit\")\n",
    "    print('例如输入:\"1-2\"就是将左塔的最上元素放到中塔')\n",
    "    print(\"%d层的最佳步数是%d\"%(size,pow(2,size)-1))\n",
    "    #游戏进行\n",
    "    while True:\n",
    "        print(\"当前移动了%d步\"%(count))\n",
    "        #显示当前塔的状态\n",
    "        show(size)\n",
    "        #判断右塔是否没有剩余空间,没有即胜利,并退出游戏\n",
    "        if rSize == 0:\n",
    "            if count == pow(2,size)-1:\n",
    "                print(\"恭喜你使用最少步数完成汉诺塔!\")\n",
    "            else:\n",
    "                print(\"恭喜你只移动了%d步完成汉诺塔小游戏!\"%(count))\n",
    "            break\n",
    "        #获取玩家操作\n",
    "        select = input(\"请操作:\")\n",
    "        #左塔移中塔\n",
    "        if select == \"1-2\":\n",
    "            result = judge(left,center,size,lSize,cSize,count)\n",
    "            if result == 0:\n",
    "                continue\n",
    "            else:\n",
    "                lSize,cSize,count = result\n",
    "        #左塔移右塔,下面同样\n",
    "        elif select == \"1-3\":\n",
    "            result = judge(left, right, size, lSize, rSize,count)\n",
    "            if result == 0:\n",
    "                continue\n",
    "            else:\n",
    "                lSize, rSize,count = result\n",
    "        elif select == \"2-1\":\n",
    "            result = judge(center, left, size, cSize, lSize,count)\n",
    "            if result == 0:\n",
    "                continue\n",
    "            else:\n",
    "                cSize, lSize,count = result\n",
    "        elif select == \"2-3\":\n",
    "            result = judge(center, right, size, cSize, rSize,count)\n",
    "            if result == 0:\n",
    "                continue\n",
    "            else:\n",
    "                cSize, rSize,count = result\n",
    "        elif select == \"3-1\":\n",
    "            result = judge(right, left, size, rSize, lSize,count)\n",
    "            if result == 0:\n",
    "                continue\n",
    "            else:\n",
    "                rSize, lSize,count = result\n",
    "        elif select == \"3-2\":\n",
    "            result = judge(right, center, size, rSize, cSize,count)\n",
    "            if result == 0:\n",
    "                continue\n",
    "            else:\n",
    "                rSize, cSize ,count= result\n",
    "        #输入quit退出游戏\n",
    "        elif select == \"quit\":\n",
    "            break\n",
    "        #如果输入的是其他不识别的文字,就拜拜\n",
    "        else:\n",
    "            print(\"操作有误!\")\n",
    "        continue\n",
    "main()"
   ]
  },
  {
   "cell_type": "code",
   "execution_count": null,
   "metadata": {},
   "outputs": [],
   "source": []
  }
 ],
 "metadata": {
  "kernelspec": {
   "display_name": "Python 3",
   "language": "python",
   "name": "python3"
  },
  "language_info": {
   "codemirror_mode": {
    "name": "ipython",
    "version": 3
   },
   "file_extension": ".py",
   "mimetype": "text/x-python",
   "name": "python",
   "nbconvert_exporter": "python",
   "pygments_lexer": "ipython3",
   "version": "3.8.3"
  }
 },
 "nbformat": 4,
 "nbformat_minor": 4
}
