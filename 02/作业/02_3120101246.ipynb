{
 "cells": [
  {
   "cell_type": "code",
   "execution_count": 1,
   "metadata": {},
   "outputs": [
    {
     "name": "stdin",
     "output_type": "stream",
     "text": [
      "请输入被加数： 126\n",
      "请输入加数： 258\n"
     ]
    },
    {
     "name": "stdout",
     "output_type": "stream",
     "text": [
      "Sum = 384\n"
     ]
    },
    {
     "name": "stdin",
     "output_type": "stream",
     "text": [
      "是否继续运算？(Y/N)\n",
      " y\n"
     ]
    },
    {
     "name": "stdout",
     "output_type": "stream",
     "text": [
      "\n"
     ]
    },
    {
     "name": "stdin",
     "output_type": "stream",
     "text": [
      "请输入被加数： childe\n"
     ]
    },
    {
     "name": "stdout",
     "output_type": "stream",
     "text": [
      "请输入数字！\n",
      "\n"
     ]
    },
    {
     "name": "stdin",
     "output_type": "stream",
     "text": [
      "请输入被加数： 20\n",
      "请输入加数： childe\n"
     ]
    },
    {
     "name": "stdout",
     "output_type": "stream",
     "text": [
      "请输入数字！\n",
      "\n"
     ]
    },
    {
     "name": "stdin",
     "output_type": "stream",
     "text": [
      "请输入被加数： 11\n",
      "请输入加数： 17\n"
     ]
    },
    {
     "name": "stdout",
     "output_type": "stream",
     "text": [
      "Sum = 28\n"
     ]
    },
    {
     "name": "stdin",
     "output_type": "stream",
     "text": [
      "是否继续运算？(Y/N)\n",
      " paladin\n"
     ]
    },
    {
     "name": "stdout",
     "output_type": "stream",
     "text": [
      "请输入Y或N！\n"
     ]
    },
    {
     "name": "stdin",
     "output_type": "stream",
     "text": [
      "是否继续运算？(Y/N)\n",
      " n\n"
     ]
    },
    {
     "name": "stdout",
     "output_type": "stream",
     "text": [
      "感谢使用！\n"
     ]
    }
   ],
   "source": [
    "active = True\n",
    "while active:\n",
    "    try:\n",
    "        first_number = int(input(\"请输入被加数：\"))\n",
    "        last_number = int(input(\"请输入加数：\"))\n",
    "    except ValueError:\n",
    "        print(\"请输入数字！\\n\")\n",
    "        continue\n",
    "    else:\n",
    "        print(f\"Sum = {first_number+last_number}\")\n",
    "    test = True\n",
    "    while test:\n",
    "        judge = input(\"是否继续运算？(Y/N)\\n\")\n",
    "        if judge.lower() == 'n':\n",
    "            active = False\n",
    "            print(\"感谢使用！\")\n",
    "            break\n",
    "        elif judge.lower() == 'y':\n",
    "            test = False\n",
    "            print('')\n",
    "        else:\n",
    "            print(\"请输入Y或N！\")"
   ]
  },
  {
   "cell_type": "code",
   "execution_count": 2,
   "metadata": {},
   "outputs": [
    {
     "name": "stdin",
     "output_type": "stream",
     "text": [
      "请输入你最喜欢的数字： 126\n"
     ]
    },
    {
     "name": "stdout",
     "output_type": "stream",
     "text": [
      "I know your favorite number! It's 126.\n"
     ]
    }
   ],
   "source": [
    "import json\n",
    "def read():\n",
    "    file_name = 'favorite number.json'\n",
    "    try:\n",
    "        with open(file_name) as f:\n",
    "            favorite_number = json.load(f)\n",
    "    except FileNotFoundError:\n",
    "        number = input(\"请输入你最喜欢的数字：\")\n",
    "        with open(file_name,'w') as f:\n",
    "            json.dump(number,f)\n",
    "    else:\n",
    "        print(f\"I know your favorite number! It's {favorite_number}.\")\n",
    "\n",
    "read()\n",
    "read()"
   ]
  },
  {
   "cell_type": "code",
   "execution_count": 2,
   "metadata": {},
   "outputs": [
    {
     "ename": "SystemExit",
     "evalue": "",
     "output_type": "error",
     "traceback": [
      "An exception has occurred, use %tb to see the full traceback.\n",
      "\u001b[1;31mSystemExit\u001b[0m\n"
     ]
    }
   ],
   "source": [
    "import pygame, sys, random, time\n",
    "\n",
    "pygame.init()\n",
    "screen = pygame.display.set_mode((660, 640))\n",
    "pygame.display.set_caption(\"宝石矿工\")\n",
    "gemImg = pygame.image.load(\"gem.png\")\n",
    "heroImg = pygame.image.load(\"hero.png\")\n",
    "gameoverbg = pygame.image.load(\"gameover.png\")\n",
    "bgImg = pygame.image.load(\"bg.png\")\n",
    "myFont = pygame.font.SysFont(\"kaiti\", 30)\n",
    "heroRect = pygame.Rect(270, 0, 80, 80)\n",
    "gemRectList = []\n",
    "number = 0\n",
    "start = False\n",
    "\n",
    "for i in range(5):\n",
    "    x = random.randint(0, 610)\n",
    "    y = random.randint(30, 590)\n",
    "    gemRect = pygame.Rect(x, y, 50, 50)\n",
    "    gemRectList.append(gemRect)\n",
    "\n",
    "while True:\n",
    "    for event in pygame.event.get():\n",
    "        if event.type == pygame.QUIT:\n",
    "            pygame.quit()\n",
    "            sys.exit()\n",
    "        elif event.type == pygame.KEYDOWN:\n",
    "            if event.key == pygame.K_y:\n",
    "                with open(\"record.txt\", \"r\") as file:\n",
    "                    number = int(file.read())\n",
    "                start = True\n",
    "            elif event.key == pygame.K_n:\n",
    "                start = True\n",
    "    screen.fill((0, 0, 0))\n",
    "    myWord = \"是否继续上次的游戏成绩？y/n\"\n",
    "    text = myFont.render(myWord, True, (255, 0, 0))\n",
    "    screen.blit(text, (130, 280))\n",
    "    if start == True:\n",
    "        break\n",
    "    pygame.display.update()\n",
    "\n",
    "t1 = time.time()\n",
    "while True:\n",
    "    for event in pygame.event.get():\n",
    "        if event.type == pygame.QUIT:\n",
    "            pygame.quit()\n",
    "            sys.exit()\n",
    "        elif event.type == pygame.KEYDOWN:\n",
    "            if event.key == pygame.K_UP and heroRect.y > 0:\n",
    "                heroRect.y = heroRect.y - 40\n",
    "            elif event.key == pygame.K_DOWN and heroRect.y < 560:\n",
    "                heroRect.y = heroRect.y + 40\n",
    "            elif event.key == pygame.K_LEFT and heroRect.x > 0:\n",
    "                heroRect.x = heroRect.x - 40\n",
    "            elif event.key == pygame.K_RIGHT and heroRect.x < 560:\n",
    "                heroRect.x = heroRect.x + 40\n",
    "    t2 = time.time()\n",
    "    t = t2 - t1\n",
    "    \n",
    "    screen.blit(bgImg, (0, 0))\n",
    "\n",
    "    for n in gemRectList:\n",
    "        if n.colliderect(heroRect):\n",
    "            number = number + 1\n",
    "            n.x = random.randint(0, 610)\n",
    "            n.y = random.randint(40, 590)\n",
    "        screen.blit(gemImg, n)\n",
    "\n",
    "    screen.blit(heroImg, heroRect)\n",
    "\n",
    "    myWord = \"挖到的宝石数:\" + str(number)\n",
    "    myText = myFont.render(myWord, True, (0, 0, 0))\n",
    "    screen.blit(myText, (420, 10))\n",
    "    myWord = \"剩余时间:\" + str(int(20 - t))\n",
    "    myText = myFont.render(myWord, True, (0, 0, 0))\n",
    "    screen.blit(myText, (10, 10))\n",
    "\n",
    "    if int(t) >= 20:\n",
    "        with open(\"record.txt\", \"w\") as file:\n",
    "            file.write(str(number))\n",
    "        screen.blit(gameoverbg, (0, 0))\n",
    "        myWord = \"时间到了,你的成绩为:\" + str(number)\n",
    "        myText = myFont.render(myWord, True, (0, 0, 0))\n",
    "        screen.blit(myText, (160, 80))\n",
    "    pygame.display.update()"
   ]
  },
  {
   "cell_type": "code",
   "execution_count": null,
   "metadata": {},
   "outputs": [],
   "source": [
    "import pygame, sys, time, random\n",
    "\n",
    "color_red = pygame.Color(255, 0, 0)\n",
    "color_white = pygame.Color(255, 255, 255)\n",
    "color_green = pygame.Color(0, 255, 0)\n",
    "pygame.init()\n",
    "screen = pygame.display.set_mode((600, 400))\n",
    "screen.fill(color_white)\n",
    "pygame.display.set_caption(\"贪吃蛇小游戏\")\n",
    "arr = [([0] * 41) for i in range(61)]\n",
    "x = 10\n",
    "y = 10\n",
    "foodx = random.randint(1, 60)\n",
    "foody = random.randint(1, 40)\n",
    "arr[foodx][foody] = -1\n",
    "snake_lon = 3\n",
    "way = 1\n",
    "\n",
    "while True:\n",
    "    screen.fill(color_white)\n",
    "    time.sleep(0.1)\n",
    "    for event in pygame.event.get():\n",
    "        if event.type == pygame.QUIT:\n",
    "            sys.exit()\n",
    "        elif event.type == pygame.KEYDOWN:\n",
    "            if (event.key == pygame.K_RIGHT) and (way != 2):\n",
    "                way = 1\n",
    "            if (event.key == pygame.K_LEFT) and (way != 1):\n",
    "                way = 2\n",
    "            if (event.key == pygame.K_UP) and (way != 4):\n",
    "                way = 3\n",
    "            if (event.key == pygame.K_DOWN) and (way != 3):\n",
    "                way = 4\n",
    "    if way == 1:\n",
    "        x += 1\n",
    "    if way == 2:\n",
    "        x -= 1\n",
    "    if way == 3:\n",
    "        y -= 1\n",
    "    if way == 4:\n",
    "        y += 1\n",
    "    if (x > 60) or (y > 40) or (x < 1) or (y < 1) or (arr[x][y] > 0):\n",
    "        sys.exit()\n",
    "    arr[x][y] = snake_lon\n",
    "    for a, b in enumerate(arr, 1):\n",
    "        for c, d in enumerate(b, 1):\n",
    "            if (d > 0):\n",
    "                arr[a - 1][c - 1] = arr[a - 1][c - 1] - 1\n",
    "                pygame.draw.rect(screen, color_green, ((a - 1) * 10, (c - 1) * 10, 10, 10))\n",
    "            if (d < 0):\n",
    "                pygame.draw.rect(screen, color_red, ((a - 1) * 10, (c - 1) * 10, 10, 10))\n",
    "    if (x == foodx) and (y == foody):\n",
    "        snake_lon += 1\n",
    "        while (arr[foodx][foody] != 0):\n",
    "            foodx = random.randint(1, 60)\n",
    "            foody = random.randint(1, 40)\n",
    "        arr[foodx][foody] = -1\n",
    "    pygame.display.update()"
   ]
  }
 ],
 "metadata": {
  "kernelspec": {
   "display_name": "Python 3",
   "language": "python",
   "name": "python3"
  },
  "language_info": {
   "codemirror_mode": {
    "name": "ipython",
    "version": 3
   },
   "file_extension": ".py",
   "mimetype": "text/x-python",
   "name": "python",
   "nbconvert_exporter": "python",
   "pygments_lexer": "ipython3",
   "version": "3.8.3"
  }
 },
 "nbformat": 4,
 "nbformat_minor": 4
}
