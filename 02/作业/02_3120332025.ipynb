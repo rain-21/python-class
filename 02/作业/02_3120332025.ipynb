{
 "cells": [
  {
   "cell_type": "code",
   "execution_count": 1,
   "metadata": {},
   "outputs": [
    {
     "data": {
      "text/plain": [
       "'C:\\\\Users\\\\Administrator\\\\anaconda3\\\\python.exe'"
      ]
     },
     "execution_count": 1,
     "metadata": {},
     "output_type": "execute_result"
    }
   ],
   "source": [
    "import sys\n",
    "sys.executable"
   ]
  },
  {
   "cell_type": "code",
   "execution_count": 2,
   "metadata": {},
   "outputs": [
    {
     "data": {
      "text/plain": [
       "['C:\\\\Users\\\\Administrator\\\\anaconda3\\\\lib\\\\site-packages\\\\ipykernel_launcher.py',\n",
       " '-f',\n",
       " 'C:\\\\Users\\\\Administrator\\\\AppData\\\\Roaming\\\\jupyter\\\\runtime\\\\kernel-5d381a6d-eab9-4545-9aac-d861693159ff.json']"
      ]
     },
     "execution_count": 2,
     "metadata": {},
     "output_type": "execute_result"
    }
   ],
   "source": [
    "sys.argv"
   ]
  },
  {
   "cell_type": "code",
   "execution_count": 3,
   "metadata": {},
   "outputs": [
    {
     "name": "stdout",
     "output_type": "stream",
     "text": [
      "arg1: Zed,arg2：Shaw\n",
      "arg1:Zed, arg2:Shaw\n",
      "arg1:First!\n",
      "I got nothing\n"
     ]
    }
   ],
   "source": [
    "def print_two(*args):\n",
    "    arg1,arg2=args\n",
    "    print(f\"arg1: {arg1},arg2：{arg2}\")\n",
    "    \n",
    "def print_two_again(arg1,arg2):\n",
    "    print (f\"arg1:{arg1}, arg2:{arg2}\")\n",
    "    \n",
    "def print_one(arg1):\n",
    "    print(f\"arg1:{arg1}\")\n",
    "    \n",
    "def print_none():\n",
    "    print(\"I got nothing\")\n",
    "    \n",
    "print_two(\"Zed\",\"Shaw\")\n",
    "print_two_again(\"Zed\",\"Shaw\")\n",
    "print_one(\"First!\")\n",
    "print_none() "
   ]
  },
  {
   "cell_type": "code",
   "execution_count": 4,
   "metadata": {},
   "outputs": [
    {
     "name": "stdout",
     "output_type": "stream",
     "text": [
      "We can just give the function numbers directly\n",
      "You have 20 chesse!\n",
      "You have 30 boxes of crackers!\n",
      "Man that's enough for a party\n",
      "Get a blanket.\n",
      "\n",
      "OR,we can use variables from our script:\n",
      "You have 10 chesse!\n",
      "You have 50 boxes of crackers!\n",
      "Man that's enough for a party\n",
      "Get a blanket.\n",
      "\n",
      "We can even do math inside too:\n",
      "You have 30 chesse!\n",
      "You have 11 boxes of crackers!\n",
      "Man that's enough for a party\n",
      "Get a blanket.\n",
      "\n",
      "And we can combine the two,variables and math\n",
      "You have 110 chesse!\n",
      "You have 1050 boxes of crackers!\n",
      "Man that's enough for a party\n",
      "Get a blanket.\n",
      "\n"
     ]
    }
   ],
   "source": [
    "def cheese_and_crackers(cheese_count, boxes_of_crackers):\n",
    "    print(f\"You have {cheese_count} chesse!\")\n",
    "    print(f\"You have {boxes_of_crackers} boxes of crackers!\")\n",
    "    print(\"Man that's enough for a party\")\n",
    "    print(\"Get a blanket.\\n\")\n",
    "    \n",
    "print (\"We can just give the function numbers directly\")\n",
    "cheese_and_crackers(20,30)\n",
    "\n",
    "print (\"OR,we can use variables from our script:\")\n",
    "amount_of_cheese=10\n",
    "amount_of_crackers=50\n",
    "cheese_and_crackers(amount_of_cheese, amount_of_crackers)\n",
    "\n",
    "print(\"We can even do math inside too:\")\n",
    "cheese_and_crackers(10+20,5+6)\n",
    "\n",
    "print(\"And we can combine the two,variables and math\")\n",
    "cheese_and_crackers (amount_of_cheese+100,amount_of_crackers+1000)"
   ]
  },
  {
   "cell_type": "code",
   "execution_count": 5,
   "metadata": {},
   "outputs": [
    {
     "name": "stdout",
     "output_type": "stream",
     "text": [
      "Here's your file sample.txt:\n",
      "lin1\n",
      "line2\n",
      "line3\n",
      "姓名：leo\t成绩：89\n",
      "姓名：spiro\t成绩：89\n",
      "姓名：leo\t成绩：89\n",
      "姓名：leo\t成绩：56\n",
      "\n"
     ]
    }
   ],
   "source": [
    "filename = 'sample.txt'\n",
    "txt = open(filename)\n",
    "\n",
    "print(f\"Here's your file {filename}:\")\n",
    "print(txt.read())\n",
    "txt.close()"
   ]
  },
  {
   "cell_type": "code",
   "execution_count": 6,
   "metadata": {},
   "outputs": [
    {
     "name": "stdout",
     "output_type": "stream",
     "text": [
      "Truncating the file. Goodbye!\n",
      "Now I'm going to ask you for three lines.\n",
      "line1:1\n",
      "line2:2\n",
      "line3:3\n",
      "I'm going to write these to the file\n",
      "And finally, we close it.\n"
     ]
    }
   ],
   "source": [
    "target=open(filename,'w')\n",
    "\n",
    "print(\"Truncating the file. Goodbye!\")\n",
    "#target,truncate()\n",
    "\n",
    "print (\"Now I'm going to ask you for three lines.\")\n",
    "\n",
    "line1=input (\"line1:\")\n",
    "line2=input (\"line2:\")\n",
    "line3=input (\"line3:\")\n",
    "\n",
    "print(\"I'm going to write these to the file\")\n",
    "\n",
    "target.write(line1)\n",
    "target.write(\"\\n\")\n",
    "target.write(line2)\n",
    "target.write(\"\\n\")\n",
    "target.write(line3)\n",
    "target.write(\"\\n\")\n",
    "\n",
    "print(\"And finally, we close it.\")\n",
    "target.close()"
   ]
  },
  {
   "cell_type": "code",
   "execution_count": 7,
   "metadata": {},
   "outputs": [
    {
     "name": "stdout",
     "output_type": "stream",
     "text": [
      "First let's print the whole file:\n",
      "\n",
      "1\n",
      "2\n",
      "3\n",
      "\n",
      "Now let's rewind, kind of like a tape.\n",
      "Let's print three lines:\n",
      "1 1\n",
      "\n",
      "2 2\n",
      "\n",
      "3 3\n",
      "\n"
     ]
    }
   ],
   "source": [
    "input_file = 'sample.txt'\n",
    "\n",
    "def print_all(f):\n",
    "    print(f.read())\n",
    "\n",
    "def rewind(f):\n",
    "    f.seek(0)\n",
    "\n",
    "def print_a_line(line_count, f):\n",
    "    print(line_count, f.readline())\n",
    "\n",
    "current_file = open(input_file)\n",
    "\n",
    "print(\"First let's print the whole file:\\n\")\n",
    "\n",
    "print_all(current_file)\n",
    "\n",
    "print(\"Now let's rewind, kind of like a tape.\")\n",
    "\n",
    "rewind(current_file)\n",
    "\n",
    "print(\"Let's print three lines:\")\n",
    "\n",
    "current_line = 1\n",
    "print_a_line(current_line, current_file)\n",
    "\n",
    "current_line = current_line + 1\n",
    "print_a_line(current_line, current_file)\n",
    "\n",
    "current_line += 1\n",
    "print_a_line(current_line, current_file)\n",
    "\n",
    "current_file.close()"
   ]
  },
  {
   "cell_type": "code",
   "execution_count": 8,
   "metadata": {},
   "outputs": [
    {
     "name": "stdout",
     "output_type": "stream",
     "text": [
      "Let's do some math with just functions!\n",
      "ADDING 30 + 5\n",
      "SUBTRACTING 78 - 4\n",
      "MULTIPLYING 90 * 2\n",
      "DIVIDING 100 / 2\n",
      "Age: 35, Height: 74, Weight: 180, IQ: 50.0\n",
      "Here is a puzzle.\n",
      "DIVIDING 50.0 / 2\n",
      "MULTIPLYING 180 * 25.0\n",
      "SUBTRACTING 74 - 4500.0\n",
      "ADDING 35 + -4426.0\n",
      "That becomes:  -4391.0 Can you do it by hand?\n"
     ]
    }
   ],
   "source": [
    "def add(a, b):\n",
    "    print(f\"ADDING {a} + {b}\")\n",
    "    return a + b\n",
    "\n",
    "def subtract(a, b):\n",
    "    print(f\"SUBTRACTING {a} - {b}\")\n",
    "    return a - b\n",
    "\n",
    "def multiply(a, b):\n",
    "    print(f\"MULTIPLYING {a} * {b}\")\n",
    "    return a * b\n",
    "\n",
    "def divide(a, b):\n",
    "    print(f\"DIVIDING {a} / {b}\")\n",
    "    return a / b\n",
    "\n",
    "print(\"Let's do some math with just functions!\")\n",
    "\n",
    "age = add(30, 5)\n",
    "height = subtract(78, 4)\n",
    "weight = multiply(90, 2)\n",
    "iq = divide(100, 2)\n",
    "\n",
    "print(f\"Age: {age}, Height: {height}, Weight: {weight}, IQ: {iq}\")\n",
    "\n",
    "# A puzzle for the extra credit, type it in anyway.\n",
    "print(\"Here is a puzzle.\")\n",
    "\n",
    "what = add(age, subtract(height, multiply(weight, divide(iq, 2))))\n",
    "\n",
    "print(\"That becomes: \", what, \"Can you do it by hand?\")"
   ]
  },
  {
   "cell_type": "code",
   "execution_count": 9,
   "metadata": {},
   "outputs": [
    {
     "name": "stdout",
     "output_type": "stream",
     "text": [
      "Too many cats! The world is doomed!\n",
      "The world is dry!\n",
      "People are greater than or equal to dogs.\n",
      "People are less than or equal to dogs.\n",
      "People are dogs.\n"
     ]
    }
   ],
   "source": [
    "people = 20 \n",
    "cats = 30 \n",
    "dogs = 15\n",
    "if people < cats:\n",
    "    print(\"Too many cats! The world is doomed!\")\n",
    "if people > cats:\n",
    "    print(\"Not many cats! The world is saved!\")\n",
    "if people < dogs:\n",
    "    print(\"The world is drooled on!\")\n",
    "if people > dogs:\n",
    "    print(\"The world is dry!\")\n",
    "dogs += 5\n",
    "if people >= dogs:\n",
    "    print(\"People are greater than or equal to dogs.\")\n",
    "if people <= dogs:\n",
    "    print(\"People are less than or equal to dogs.\")\n",
    "if people == dogs:\n",
    "    print(\"People are dogs.\")"
   ]
  },
  {
   "cell_type": "code",
   "execution_count": 10,
   "metadata": {},
   "outputs": [
    {
     "data": {
      "text/plain": [
       "False"
      ]
     },
     "execution_count": 10,
     "metadata": {},
     "output_type": "execute_result"
    }
   ],
   "source": [
    "3==3 and (not(\"testing\"==\"testing\" or \"Python\"==\"Fun\"))\n",
    "\"chunky\" == \"bacon\" and (not (3 == 4 or 3 ==3))\n",
    "1==1 and (not(\"testing\"==1 or 1==0))\n",
    "not (\"testing\" ==\"testing\" and \"Zed\" == \"Cool Guy\")\n",
    "not(1!=10 or 3==4)\n",
    "not (10 == 1 or 1000 == 1000)\n",
    "not(1==1 and 0!=1)\n",
    "not (True and False)\n",
    "\"test\" == 1\n",
    "\"test\" != \"testing\"\n",
    "1!=0 and 2==1\n",
    "\"test\" == \"testing\"\n",
    "True or 1==1\n",
    "False and 0!=0\n",
    "True and 1==1\n",
    "1==1 or 2!=1\n",
    "\"test\" == \"test\"\n",
    "1==1 and 2==1\n",
    "False and True"
   ]
  },
  {
   "cell_type": "code",
   "execution_count": 11,
   "metadata": {},
   "outputs": [
    {
     "name": "stdout",
     "output_type": "stream",
     "text": [
      "We should take the cars.\n",
      "Maybe we could take the trucks.\n",
      "Alright, let's just take the trucks.\n"
     ]
    }
   ],
   "source": [
    "people = 30\n",
    "cars = 40\n",
    "trucks = 15\n",
    "\n",
    "if cars > people:\n",
    "    print(\"We should take the cars.\")\n",
    "elif cars < people:\n",
    "    print(\"We should not take the cars.\")\n",
    "else:\n",
    "    print(\"We can't decide.\")\n",
    "\n",
    "if trucks > cars:\n",
    "    print(\"That's too many trucks.\")\n",
    "elif trucks < cars:\n",
    "    print(\"Maybe we could take the trucks.\")\n",
    "else:\n",
    "    print(\"We still can't decide.\")\n",
    "\n",
    "if people > trucks:\n",
    "    print(\"Alright, let's just take the trucks.\")\n",
    "else:\n",
    "    print(\"Fine, let's stay home then.\")"
   ]
  },
  {
   "cell_type": "code",
   "execution_count": 12,
   "metadata": {},
   "outputs": [
    {
     "name": "stdout",
     "output_type": "stream",
     "text": [
      "You enter a dark room with two doors.\n",
      "Do you go through door #1 or door #2?\n",
      "> door\n",
      "You stumble around and fall on a knife and die.  Good job!\n"
     ]
    }
   ],
   "source": [
    "print(\"\"\"You enter a dark room with two doors.\n",
    "Do you go through door #1 or door #2?\"\"\")\n",
    "\n",
    "door = input(\"> \")\n",
    "\n",
    "if door == \"1\":\n",
    "    print(\"There's a giant bear here eating a cheese cake.  What do you do?\")\n",
    "    print(\"1. Take the cake.\")\n",
    "    print(\"2. Scream at the bear.\")\n",
    "\n",
    "    bear = input(\"> \")\n",
    "\n",
    "    if bear == \"1\":\n",
    "        print(\"The bear eats your face off.  Good job!\")\n",
    "    elif bear == \"2\":\n",
    "        print(\"The bear eats your legs off.  Good job!\")\n",
    "    else:\n",
    "        print(f\"Well, doing {bear} is probably better.  Bear runs away.\")\n",
    "\n",
    "elif door == \"2\":\n",
    "    print(\"You stare into the endless abyss at Cthulhu's retina.\")\n",
    "    print(\"1. Blueberries.\")\n",
    "    print(\"2. Yellow jacket clothespins.\")\n",
    "    print(\"3. Understanding revolvers yelling melodies.\")\n",
    "\n",
    "    insanity = input(\"> \")\n",
    "\n",
    "    if insanity == \"1\" or insanity == \"2\":\n",
    "        print(\"Your body survives powered by a mind of jello.  Good job!\")\n",
    "    else:\n",
    "        print(\"The insanity rots your eyes into a pool of muck.  Good job!\")\n",
    "\n",
    "else:\n",
    "    print(\"You stumble around and fall on a knife and die.  Good job!\")"
   ]
  },
  {
   "cell_type": "code",
   "execution_count": 13,
   "metadata": {},
   "outputs": [
    {
     "name": "stdout",
     "output_type": "stream",
     "text": [
      "1到100 之和为：5050\n"
     ]
    }
   ],
   "source": [
    "n=100\n",
    "sum=0\n",
    "counter=1\n",
    "\n",
    "while counter<=n:\n",
    "    sum=sum+counter\n",
    "    counter+=1\n",
    "    \n",
    "print(\"1到%d 之和为：%d\"%(n,sum))"
   ]
  },
  {
   "cell_type": "code",
   "execution_count": 14,
   "metadata": {},
   "outputs": [],
   "source": [
    "def save_grade(name, grade):\n",
    "    grades = open('sample.txt', 'a')\n",
    "    grades.write(f'姓名：{name}\\t成绩：{grade}\\n')\n",
    "    grades.close()"
   ]
  },
  {
   "cell_type": "code",
   "execution_count": 15,
   "metadata": {},
   "outputs": [
    {
     "name": "stdout",
     "output_type": "stream",
     "text": [
      "请输入姓名：leo\n",
      "请输入成绩：56\n",
      "leo的成绩已保存。\n",
      "是否继续输入（yes or no）？yes\n",
      "请输入姓名：seo\n",
      "请输入成绩：99\n",
      "seo的成绩已保存。\n",
      "是否继续输入（yes or no）？no\n"
     ]
    }
   ],
   "source": [
    "while True:\n",
    "    name = input(\"请输入姓名：\")\n",
    "    grade = input('请输入成绩：')\n",
    "    save_grade(name, grade)\n",
    "    print(f'{name}的成绩已保存。')\n",
    "    go_on = input('是否继续输入（yes or no）？')\n",
    "    n = 0\n",
    "    if go_on == 'yes':\n",
    "        continue\n",
    "    elif go_on == 'no':\n",
    "        break\n",
    "    print('成绩输入结束。')"
   ]
  },
  {
   "cell_type": "code",
   "execution_count": 16,
   "metadata": {},
   "outputs": [
    {
     "name": "stdout",
     "output_type": "stream",
     "text": [
      "请输入姓名：xia\n",
      "请输入成绩：55;\n",
      "xia的成绩已保存。\n",
      "是否继续输入（yes or no）？ds\n",
      "2 指令无效，是否继续输入（yes or no）？\n",
      "3 指令无效，是否继续输入（yes or no）？df\n",
      "结束\n"
     ]
    }
   ],
   "source": [
    "while True:\n",
    "    name = input(\"请输入姓名：\")\n",
    "    grade = input('请输入成绩：')\n",
    "    save_grade(name, grade)\n",
    "    print(f'{name}的成绩已保存。')\n",
    "    go_on = input('是否继续输入（yes or no）？')\n",
    "    n = 0\n",
    "    while n < 2:\n",
    "        if go_on == 'yes':\n",
    "            break\n",
    "            n = 0\n",
    "        elif go_on == 'no':\n",
    "            break\n",
    "        else:\n",
    "            n+=1\n",
    "            go_on = input(f'{n + 1} 指令无效，是否继续输入（yes or no）？')\n",
    "    if go_on == 'no' or n == 2:\n",
    "        print('结束')\n",
    "        break"
   ]
  },
  {
   "cell_type": "code",
   "execution_count": 22,
   "metadata": {},
   "outputs": [
    {
     "name": "stdout",
     "output_type": "stream",
     "text": [
      "This is count 1\n",
      "This is count 2\n",
      "This is count 3\n",
      "This is count 4\n",
      "This is count 5\n",
      "A fruit of type:apples\n",
      "A fruit of type:oranges\n",
      "A fruit of type:pears\n",
      "A fruit of type:apricots\n",
      "I got 1\n",
      "I got pennies\n",
      "I got 2\n",
      "I got dimes\n",
      "I got 3\n",
      "I got quaters\n",
      "Adding 0\n",
      "Adding 1\n",
      "Adding 2\n",
      "Adding 3\n",
      "Adding 4\n",
      "Adding 5\n",
      "Element was: 0\n",
      "Element was: 1\n",
      "Element was: 2\n",
      "Element was: 3\n",
      "Element was: 4\n",
      "Element was: 5\n"
     ]
    }
   ],
   "source": [
    "the_count=[1,2,3,4,5]\n",
    "fruits=['apples','oranges','pears','apricots']\n",
    "change=[1,'pennies',2,'dimes',3,'quaters']\n",
    "\n",
    "#this first kind of for-loop goes through a list\n",
    "for number in the_count:\n",
    "    print(f\"This is count {number}\")\n",
    "\n",
    "#same as above\n",
    "for fruit in fruits:\n",
    "    print(f\"A fruit of type:{fruit}\")\n",
    "\n",
    "#also we can go through mixed lists too\n",
    "#notice we have to use {}since we don't know what's in it \n",
    "for i in change:\n",
    "    print (f\"I got {i}\")\n",
    "\n",
    "#we can also build lists, first start with an empty one\n",
    "elements=[]\n",
    "\n",
    "#then use the range function to do 0 to 5 counts\n",
    "\n",
    "for i in range (0,6):\n",
    "    print (f\"Adding {i}\")\n",
    "    #append is a function that lists understand\n",
    "    elements.append(i)\n",
    "    \n",
    "#now we can print them out too\n",
    "for i in elements:\n",
    "     print(f\"Element was: {i}\")"
   ]
  },
  {
   "cell_type": "code",
   "execution_count": 23,
   "metadata": {},
   "outputs": [],
   "source": [
    "### 错误和异常"
   ]
  },
  {
   "cell_type": "code",
   "execution_count": 25,
   "metadata": {
    "scrolled": true
   },
   "outputs": [],
   "source": [
    "stu_names = ['Lily', 'Lucy', 'Han Meimei']\n",
    "with open('sample.txt', 'w') as txt:\n",
    "    for name in stu_names:\n",
    "        txt.write(f'{name} 签到！\\n')"
   ]
  },
  {
   "cell_type": "code",
   "execution_count": null,
   "metadata": {},
   "outputs": [],
   "source": []
  }
 ],
 "metadata": {
  "kernelspec": {
   "display_name": "Python 3",
   "language": "python",
   "name": "python3"
  },
  "language_info": {
   "codemirror_mode": {
    "name": "ipython",
    "version": 3
   },
   "file_extension": ".py",
   "mimetype": "text/x-python",
   "name": "python",
   "nbconvert_exporter": "python",
   "pygments_lexer": "ipython3",
   "version": "3.8.3"
  }
 },
 "nbformat": 4,
 "nbformat_minor": 4
}
