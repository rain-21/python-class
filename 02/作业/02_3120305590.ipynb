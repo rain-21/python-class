{
 "cells": [
  {
   "cell_type": "code",
   "execution_count": 4,
   "metadata": {},
   "outputs": [
    {
     "data": {
      "text/plain": [
       "['D:\\\\software\\\\Anaconda3\\\\lib\\\\site-packages\\\\ipykernel_launcher.py',\n",
       " '-f',\n",
       " 'C:\\\\Users\\\\14480\\\\AppData\\\\Roaming\\\\jupyter\\\\runtime\\\\kernel-a27259c9-7903-450d-879d-e34b36f3bc43.json']"
      ]
     },
     "execution_count": 4,
     "metadata": {},
     "output_type": "execute_result"
    }
   ],
   "source": [
    "import sys\n",
    "sys.argv"
   ]
  },
  {
   "cell_type": "code",
   "execution_count": 5,
   "metadata": {},
   "outputs": [
    {
     "name": "stdout",
     "output_type": "stream",
     "text": [
      "arg1:xu,arg2:yifei\n"
     ]
    }
   ],
   "source": [
    "def print_two_1(*args):\n",
    "    FirstName,LastName=args\n",
    "    #f1,f2=one,two\n",
    "    print(f\"arg1:{FirstName},arg2:{LastName}\")\n",
    "    #print(f\"f1:{one},f2:{two}\")\n",
    "print_two_1(\"xu\",\"yifei\")"
   ]
  },
  {
   "cell_type": "code",
   "execution_count": 6,
   "metadata": {},
   "outputs": [
    {
     "name": "stdout",
     "output_type": "stream",
     "text": [
      "arg1:xu,arg2:yifei\n",
      "f1:1,f2:2,\n",
      "f1+f2:3\n"
     ]
    }
   ],
   "source": [
    "def print_two_2(arg1,arg2):\n",
    "    print(f\"arg1:{arg1},arg2:{arg2}\")\n",
    "print_two_2(\"xu\",\"yifei\")\n",
    "\n",
    "def print_two_3(arg1,arg2):\n",
    "    f1,f2=arg1,arg2#分别赋值\n",
    "    print(f\"f1:{f1},f2:{f2},\\nf1+f2:{f1+f2}\")\n",
    "print_two_3(1,2)"
   ]
  },
  {
   "cell_type": "code",
   "execution_count": 7,
   "metadata": {},
   "outputs": [
    {
     "name": "stdout",
     "output_type": "stream",
     "text": [
      "xu ！\n",
      "yifei ！\n",
      "kermoci ！\n",
      "\n"
     ]
    }
   ],
   "source": [
    "#文件操作\n",
    "txt=open(\"xyf1.txt\")\n",
    "print(txt.read())\n",
    "txt.close()"
   ]
  },
  {
   "cell_type": "code",
   "execution_count": 8,
   "metadata": {},
   "outputs": [
    {
     "name": "stdout",
     "output_type": "stream",
     "text": [
      "aaaaaaa\n",
      "bbbbbb\n"
     ]
    }
   ],
   "source": [
    "filename='xyf1.txt'\n",
    "target_file=open(filename,'a+')\n",
    "l1=input(\"\")\n",
    "l2=input(\"\")\n",
    "target_file.write(\"\\n\")\n",
    "target_file.write(l1)\n",
    "target_file.write(l2)\n",
    "target_file.close()"
   ]
  },
  {
   "cell_type": "code",
   "execution_count": 9,
   "metadata": {},
   "outputs": [
    {
     "name": "stdout",
     "output_type": "stream",
     "text": [
      "The whole file:\n",
      "\n",
      "xu ！\n",
      "yifei ！\n",
      "kermoci ！\n",
      "\n",
      "aaaaaaabbbbbb\n",
      "Print a lines:\n",
      "\n",
      "1 \n",
      "Print a lines:\n",
      "\n",
      "2 \n"
     ]
    }
   ],
   "source": [
    "file='xyf1.txt'\n",
    "def print_all(f):\n",
    "    print(\"The whole file:\\n\")\n",
    "    print(f.read())\n",
    "def print_line(linecount,f):\n",
    "    print(\"Print a lines:\\n\")\n",
    "    print(linecount,f.readline())\n",
    "\n",
    "now_file=open(file)#打开文件\n",
    "print_all(now_file)#读取文件全部内容\n",
    "now_line=1\n",
    "print_line(now_line,now_file)\n",
    "now_line+=1\n",
    "print_line(now_line,now_file)\n",
    "now_file.close()"
   ]
  },
  {
   "cell_type": "code",
   "execution_count": 10,
   "metadata": {},
   "outputs": [
    {
     "name": "stdout",
     "output_type": "stream",
     "text": [
      "10**2+10*5-10=140\n"
     ]
    }
   ],
   "source": [
    "def add(a,b):\n",
    "    return a+b\n",
    "def subtract(a,b):\n",
    "    return a-b\n",
    "def multiply(a,b):\n",
    "    return a*b\n",
    "#a**2+a*b-a\n",
    "def computer(a,b):\n",
    "    print(f\"{a}**2+{a}*{b}-{a}=\",end=\"\")#不换行\n",
    "   # print(add(a**2,subtract(multiply(a,b),a)))\n",
    "    return add(a**2,subtract(multiply(a,b),a))\n",
    "#10**2+10*5-a\n",
    "y=computer(10,5)\n",
    "print(y)"
   ]
  },
  {
   "cell_type": "code",
   "execution_count": 11,
   "metadata": {},
   "outputs": [
    {
     "name": "stdout",
     "output_type": "stream",
     "text": [
      "y is positive!\n",
      "1到100的和为5050\n",
      "1到100的和为5050\n"
     ]
    }
   ],
   "source": [
    "#条件控制\n",
    "#if-elif-else\n",
    "if y>0:\n",
    "    print(\"y is positive!\")\n",
    "elif y<0:\n",
    "    print(\"y is negative!\")\n",
    "else:\n",
    "    print(\"y is zero!\")\n",
    "    \n",
    "#while循环\n",
    "sum=0\n",
    "count=1\n",
    "while count<=100:\n",
    "    sum+=count\n",
    "    count+=1\n",
    "print(f\"1到100的和为{sum}\")\n",
    "\n",
    "#for循环\n",
    "sum=0\n",
    "for i in range(1,101):\n",
    "    sum=sum+i\n",
    "print(f\"1到100的和为{sum}\")   "
   ]
  },
  {
   "cell_type": "code",
   "execution_count": 33,
   "metadata": {},
   "outputs": [
    {
     "name": "stdout",
     "output_type": "stream",
     "text": [
      ">1\n",
      "There's a giant bear here eating a cheese cake.\n",
      "1. Take the cake.\n",
      "2. Scream at the bear.\n",
      "> 1\n",
      "The bear eats your face off.  Good job!\n"
     ]
    }
   ],
   "source": [
    "door=input(\">\")\n",
    "if door == \"1\":\n",
    "    print(\"There's a giant bear here eating a cheese cake.\")\n",
    "    print(\"1. Take the cake.\\n2. Scream at the bear.\")\n",
    "\n",
    "    bear = input(\"> \")\n",
    "\n",
    "    if bear == \"1\":\n",
    "        print(\"The bear eats your face off.  Good job!\")\n",
    "    elif bear == \"2\":\n",
    "        print(\"The bear eats your legs off.  Good job!\")\n",
    "    else:\n",
    "        print(f\"Well, doing {bear} is probably better.  Bear runs away.\")\n",
    "\n",
    "elif door == \"2\":\n",
    "    print(\"You stare into the endless abyss at Cthulhu's retina.\")\n",
    "    print(\"1. Blueberries.\\n2. Yellow jacket clothespins.\\n3. Understanding revolvers yelling melodies.\")\n",
    "\n",
    "    insanity = input(\"> \")\n",
    "    \n",
    "    if insanity == \"1\" or insanity == \"2\":\n",
    "        print(\"Your body survives powered by a mind of jello.  Good job!\")\n",
    "    else:\n",
    "        print(\"The insanity rots your eyes into a pool of muck.  Good job!\")\n",
    "\n",
    "else:\n",
    "    print(\"You stumble around and fall on a knife and die.  Good job!\")"
   ]
  },
  {
   "cell_type": "code",
   "execution_count": null,
   "metadata": {},
   "outputs": [
    {
     "name": "stdout",
     "output_type": "stream",
     "text": [
      "<class 'type'>1\n",
      "<class 'type'>1\n",
      "<class 'type'>3\n",
      "still\n",
      "<class 'type'>2\n",
      "still\n",
      "<class 'type'>1\n"
     ]
    }
   ],
   "source": [
    "#break continue\n",
    "while True:\n",
    "    b=input(type)\n",
    "    if b=='1':\n",
    "        continue\n",
    "    else:\n",
    "        pass\n",
    "    print('still')\n",
    "print('finsh')"
   ]
  },
  {
   "cell_type": "code",
   "execution_count": null,
   "metadata": {},
   "outputs": [],
   "source": []
  },
  {
   "cell_type": "code",
   "execution_count": 42,
   "metadata": {},
   "outputs": [
    {
     "name": "stdout",
     "output_type": "stream",
     "text": [
      "xu yi fei \n",
      "\n",
      "11\n",
      "[11, 22, 33, 44, 55]\n",
      "[11, 22, 33, 44, 55, 0, 1, 2, 3, 4, 5, 6]\n"
     ]
    }
   ],
   "source": [
    "the_name=[\"xu\",\"yi\",\"fei\"]\n",
    "for i in the_name:\n",
    "    print(f\"{i}\",end=\" \")\n",
    "print(\"\\n\")\n",
    "\n",
    "#List列表\n",
    "num=[11,22,33,44]\n",
    "print(num[0])\n",
    "num.append(55)\n",
    "print(num)\n",
    "for i in range(0,7):\n",
    "    num.append(i)\n",
    "print(num)\n"
   ]
  },
  {
   "cell_type": "code",
   "execution_count": 43,
   "metadata": {},
   "outputs": [
    {
     "name": "stdout",
     "output_type": "stream",
     "text": [
      "6525\n"
     ]
    }
   ],
   "source": [
    "l1=range(10)\n",
    "l2=range(10,20)\n",
    "result=0\n",
    "for i in l1:\n",
    "    for j in l2:\n",
    "        result+=i*j\n",
    "print(result)"
   ]
  },
  {
   "cell_type": "code",
   "execution_count": null,
   "metadata": {},
   "outputs": [],
   "source": []
  },
  {
   "cell_type": "code",
   "execution_count": 44,
   "metadata": {},
   "outputs": [
    {
     "name": "stdout",
     "output_type": "stream",
     "text": [
      "['1\\n', '2\\n', '3\\n', '4\\n', '5\\n', '6\\n']\n"
     ]
    },
    {
     "ename": "TypeError",
     "evalue": "unsupported operand type(s) for +=: 'int' and 'str'",
     "output_type": "error",
     "traceback": [
      "\u001b[1;31m---------------------------------------------------------------------------\u001b[0m",
      "\u001b[1;31mTypeError\u001b[0m                                 Traceback (most recent call last)",
      "\u001b[1;32m<ipython-input-44-f94f5cb63944>\u001b[0m in \u001b[0;36m<module>\u001b[1;34m\u001b[0m\n\u001b[0;32m      5\u001b[0m \u001b[0msum\u001b[0m \u001b[1;33m=\u001b[0m \u001b[1;36m0\u001b[0m\u001b[1;33m\u001b[0m\u001b[1;33m\u001b[0m\u001b[0m\n\u001b[0;32m      6\u001b[0m \u001b[1;32mfor\u001b[0m \u001b[0mnumber\u001b[0m \u001b[1;32min\u001b[0m \u001b[0mnumbers\u001b[0m\u001b[1;33m:\u001b[0m\u001b[1;33m\u001b[0m\u001b[1;33m\u001b[0m\u001b[0m\n\u001b[1;32m----> 7\u001b[1;33m     \u001b[0msum\u001b[0m \u001b[1;33m+=\u001b[0m \u001b[0mnumber\u001b[0m\u001b[1;33m\u001b[0m\u001b[1;33m\u001b[0m\u001b[0m\n\u001b[0m\u001b[0;32m      8\u001b[0m \u001b[0mprint\u001b[0m\u001b[1;33m(\u001b[0m\u001b[0msum\u001b[0m\u001b[1;33m)\u001b[0m\u001b[1;33m\u001b[0m\u001b[1;33m\u001b[0m\u001b[0m\n\u001b[0;32m      9\u001b[0m \u001b[1;33m\u001b[0m\u001b[0m\n",
      "\u001b[1;31mTypeError\u001b[0m: unsupported operand type(s) for +=: 'int' and 'str'"
     ]
    }
   ],
   "source": [
    "#错误异常\n",
    "number_file = open('numbers.txt',encoding='UTF-8')\n",
    "numbers = number_file.readlines()\n",
    "print(numbers)\n",
    "sum = 0\n",
    "for number in numbers:\n",
    "    sum += number\n",
    "print(sum)\n",
    "number_file.close()\n",
    "\n"
   ]
  },
  {
   "cell_type": "code",
   "execution_count": 46,
   "metadata": {},
   "outputs": [
    {
     "name": "stdout",
     "output_type": "stream",
     "text": [
      "21\n"
     ]
    }
   ],
   "source": [
    "try:\n",
    "    number_file = open('numbers.txt')\n",
    "    numbers = number_file.readlines()\n",
    "    sum = 0\n",
    "    for number in numbers:\n",
    "        sum += int(number)\n",
    "except TypeError as te:\n",
    "    print(te.args)\n",
    "except ValueError:\n",
    "    print(f'{number}不是数字！')\n",
    "except:\n",
    "    print('未知错误')\n",
    "else:\n",
    "    print(sum)\n",
    "finally:\n",
    "    number_file.close()"
   ]
  },
  {
   "cell_type": "code",
   "execution_count": 47,
   "metadata": {},
   "outputs": [
    {
     "name": "stdout",
     "output_type": "stream",
     "text": [
      "Input your age: \n",
      "invalid literal for int() with base 10: ' '\n",
      "Goodbye!\n"
     ]
    }
   ],
   "source": [
    "s=input(\"Input your age:\")\n",
    "if s ==\"\":\n",
    "    raise Exception(\"Input must no be empty.\")\n",
    "\n",
    "try:\n",
    "    i=int(s)\n",
    "except Exception as err:\n",
    "    print(err)\n",
    "finally: # Clean up action\n",
    "    print(\"Goodbye!\")"
   ]
  },
  {
   "cell_type": "code",
   "execution_count": 3,
   "metadata": {},
   "outputs": [
    {
     "name": "stdout",
     "output_type": "stream",
     "text": [
      "Please give a number:2\n",
      "See you next time\n"
     ]
    }
   ],
   "source": [
    "a_input=int(input('Please give a number:'))#return a string,转换为数字\n",
    "if a_input==1:\n",
    "    print('This is a good ')\n",
    "elif a_input==2:#used str(2)\n",
    "    print('See you next time')\n",
    "else:\n",
    "    print('Good luck')"
   ]
  },
  {
   "cell_type": "code",
   "execution_count": 50,
   "metadata": {},
   "outputs": [
    {
     "name": "stdout",
     "output_type": "stream",
     "text": [
      "xu ！\n",
      "yifei ！\n",
      "kermoci ！\n",
      "\n"
     ]
    }
   ],
   "source": [
    "stu_names = ['xu', 'yifei', 'kermoci']\n",
    "#with文件打开后自动关闭，无需f.close()，比较安全\n",
    "with open('xyf1.txt', 'w') as txt:\n",
    "    for name in stu_names:\n",
    "        txt.write(f'{name} ！\\n')\n",
    "file=open('xyf1.txt')\n",
    "print(file.read())"
   ]
  },
  {
   "cell_type": "code",
   "execution_count": 54,
   "metadata": {},
   "outputs": [
    {
     "name": "stdout",
     "output_type": "stream",
     "text": [
      "11\n"
     ]
    }
   ],
   "source": [
    "a=10\n",
    "def test():\n",
    "    global a\n",
    "    a=a+1\n",
    "    print(a)\n",
    "test()\n"
   ]
  },
  {
   "cell_type": "code",
   "execution_count": 56,
   "metadata": {},
   "outputs": [
    {
     "name": "stdout",
     "output_type": "stream",
     "text": [
      "201\n",
      "10\n"
     ]
    }
   ],
   "source": [
    "#参数，局部<全局\n",
    "num=10\n",
    "def test():\n",
    "    num=200\n",
    "    num+=1\n",
    "    print(num)\n",
    "test()\n",
    "print(num)"
   ]
  },
  {
   "cell_type": "code",
   "execution_count": 9,
   "metadata": {},
   "outputs": [
    {
     "name": "stdout",
     "output_type": "stream",
     "text": [
      "Good calculator\n",
      "3\n",
      "Good calculator\n",
      "55\n",
      "None\n",
      "-11\n",
      "None\n",
      "726\n",
      "None\n",
      "0.6666666666666666\n",
      "None\n"
     ]
    }
   ],
   "source": [
    "class Calculator:\n",
    "    def __init__(self,name,price):#初始化\n",
    "        self.name=name\n",
    "        self.price=price\n",
    "        self.add(1,2)\n",
    "    def add(self,x,y):\n",
    "        print(self.name)\n",
    "        result=x+y\n",
    "        print(result)\n",
    "    def minus(self,x,y):\n",
    "        result=x-y\n",
    "        print(result)\n",
    "    def times(self,x,y):\n",
    "        print(x*y)\n",
    "    def divide(self,x,y):\n",
    "        print(x/y)\n",
    "c=Calculator('Good calculator',18)\n",
    "x=22\n",
    "y=33\n",
    "print(c.add(x,y))\n",
    "print(c.minus(x,y))\n",
    "print(c.times(x,y))\n",
    "print(c.divide(x,y))"
   ]
  },
  {
   "cell_type": "code",
   "execution_count": null,
   "metadata": {},
   "outputs": [],
   "source": []
  }
 ],
 "metadata": {
  "kernelspec": {
   "display_name": "Python 3",
   "language": "python",
   "name": "python3"
  },
  "language_info": {
   "codemirror_mode": {
    "name": "ipython",
    "version": 3
   },
   "file_extension": ".py",
   "mimetype": "text/x-python",
   "name": "python",
   "nbconvert_exporter": "python",
   "pygments_lexer": "ipython3",
   "version": "3.7.3"
  }
 },
 "nbformat": 4,
 "nbformat_minor": 2
}
