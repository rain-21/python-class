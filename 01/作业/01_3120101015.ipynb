{
 "cells": [
  {
   "cell_type": "code",
   "execution_count": 1,
   "metadata": {},
   "outputs": [
    {
     "name": "stdout",
     "output_type": "stream",
     "text": [
      "1*1=1\t  \n",
      "2*1=2\t 2*2=4\t  \n",
      "3*1=3\t 3*2=6\t 3*3=9\t  \n",
      "4*1=4\t 4*2=8\t 4*3=12\t 4*4=16\t  \n",
      "5*1=5\t 5*2=10\t 5*3=15\t 5*4=20\t 5*5=25\t  \n",
      "6*1=6\t 6*2=12\t 6*3=18\t 6*4=24\t 6*5=30\t 6*6=36\t  \n",
      "7*1=7\t 7*2=14\t 7*3=21\t 7*4=28\t 7*5=35\t 7*6=42\t 7*7=49\t  \n",
      "8*1=8\t 8*2=16\t 8*3=24\t 8*4=32\t 8*5=40\t 8*6=48\t 8*7=56\t 8*8=64\t  \n",
      "9*1=9\t 9*2=18\t 9*3=27\t 9*4=36\t 9*5=45\t 9*6=54\t 9*7=63\t 9*8=72\t 9*9=81\t  \n"
     ]
    }
   ],
   "source": [
    "# Python基础知识小练习\n",
    "# 用python输出9*9乘法口诀表\n",
    "for i in range(1,10):\n",
    "    for j in range(1,i+1):\n",
    "        print(\"%d*%d=%d\\t\" %(i, j, i*j),end=' ')\n",
    "    print(' ')"
   ]
  },
  {
   "cell_type": "code",
   "execution_count": 2,
   "metadata": {},
   "outputs": [
    {
     "name": "stdout",
     "output_type": "stream",
     "text": [
      "postgraduate类构造方法被调用！\n",
      "student类构造方法被调用！\n",
      "person类构造方法被调用！\n",
      "该生的学号是00201010,姓名是小明,指导教师是XXX\n"
     ]
    }
   ],
   "source": [
    "# python中面向对象编程\n",
    "# 面向对象的继承\n",
    "class person:\n",
    "    def __init__(self,name):\n",
    "        print(\"person类构造方法被调用！\")\n",
    "        self.name=name\n",
    "class student(person):\n",
    "    def __init__(self,sno,name):\n",
    "        print(\"student类构造方法被调用！\")\n",
    "        super().__init__(name)\n",
    "        self.sno=sno\n",
    "class postgraduate(student):\n",
    "    def __init__(self,sno,name,tutor):\n",
    "        print(\"postgraduate类构造方法被调用！\")\n",
    "        super().__init__(sno,name)\n",
    "        self.tutor=tutor\n",
    "if __name__=='__main__':\n",
    "    pg=postgraduate(\"00201010\",\"小明\",\"XXX\")\n",
    "    print(\"该生的学号是%s,姓名是%s,指导教师是%s\"%(pg.sno,pg.name,pg.tutor))"
   ]
  },
  {
   "cell_type": "code",
   "execution_count": 4,
   "metadata": {},
   "outputs": [
    {
     "name": "stdout",
     "output_type": "stream",
     "text": [
      "please input a number(n>=2):4\n",
      "0.72\n"
     ]
    }
   ],
   "source": [
    "#python中循环的用法\n",
    "n = eval(input(\"please input a number(n>=2):\"))\n",
    "\n",
    "sum1 = 0\n",
    "sum2 = 0\n",
    "\n",
    "for i in range(5,2*n,4):\n",
    "    sum1+=1/i\n",
    "for j in range(3,2*n,4):\n",
    "    sum2-=1/j\n",
    "\n",
    "sum =1+ sum1+sum2\n",
    "print(\"%.2F\" %sum)\n"
   ]
  },
  {
   "cell_type": "code",
   "execution_count": 4,
   "metadata": {},
   "outputs": [
    {
     "name": "stdout",
     "output_type": "stream",
     "text": [
      "Q= [[ 0.6   0.64 -0.48]\n",
      " [ 0.    0.6   0.8 ]\n",
      " [ 0.8  -0.48  0.36]] \n",
      "\n",
      "R= [[ 5.   3.   7. ]\n",
      " [ 0.   5.   3.2]\n",
      " [-0.   0.   2.6]] \n",
      "\n",
      "A= [[ 3.  5.  5.]\n",
      " [-0.  3.  4.]\n",
      " [ 4.  0.  5.]] \n",
      "\n",
      "Q= [[ 0.6   0.64 -0.48]\n",
      " [ 0.    0.6   0.8 ]\n",
      " [ 0.8  -0.48  0.36]] \n",
      "\n",
      "R= [[ 5.   3.   7. ]\n",
      " [ 0.   5.   3.2]\n",
      " [-0.  -0.   2.6]] \n",
      "\n",
      "A= [[ 3.  5.  5.]\n",
      " [-0.  3.  4.]\n",
      " [ 4.  0.  5.]] \n",
      "\n"
     ]
    }
   ],
   "source": [
    "#用python实现基于Givens、Householder的QR分解\n",
    "import numpy as np\n",
    "\n",
    "def givens_rotation(A):          #创建函数\n",
    "    \"\"\"Givens变换\"\"\"\n",
    "    (m, n) = np.shape(A)\n",
    "    Q = np.identity(m)       #获得单位矩阵\n",
    "    R = np.copy(A)\n",
    "    (rows, cols) = np.tril_indices(m, -1, n)     \n",
    "    for (row, col) in zip(rows, cols):\n",
    "        if R[row, col] != 0:  # R[row, col]=0则c=1,s=0,R、Q不变\n",
    "            m_ = np.hypot(R[col, col], R[row, col])  # d\n",
    "            n = R[col, col]/m_\n",
    "            s = -R[row, col]/m_\n",
    "            G = np.identity(m)\n",
    "            G[[col, row], [col, row]] = n\n",
    "            G[row, col] = s\n",
    "            G[col, row] = -s\n",
    "            R = np.dot(G, R)  # R=G(n-1,n)*...*G(2n)*...*G(23,1n)*...*G(12)*A\n",
    "            Q = np.dot(Q, G.T)  # Q=G(n-1,n).T*...*G(2n).T*...*G(23,1n).T*...*G(12).T\n",
    "    return (Q, R)\n",
    "\n",
    "def householder_reflection(A):\n",
    "    \"\"\"Householder变换\"\"\"\n",
    "    (r, c) = np.shape(A)\n",
    "    Q = np.identity(r)\n",
    "    R = np.copy(A)\n",
    "    for cnt in range(r - 1):\n",
    "        x = R[cnt:, cnt]\n",
    "        e = np.zeros_like(x)\n",
    "        e[0] = np.linalg.norm(x)\n",
    "        u = x - e\n",
    "        v = u / np.linalg.norm(u)\n",
    "        Q_cnt = np.identity(r)\n",
    "        Q_cnt[cnt:, cnt:] -= 2.0 * np.outer(v, v)\n",
    "        R = np.dot(Q_cnt, R)  # R=H(n-1)*...*H(2)*H(1)*A\n",
    "        Q = np.dot(Q, Q_cnt)  # Q=H(n-1)*...*H(2)*H(1)  H为自逆矩阵\n",
    "    return (Q, R)\n",
    "\n",
    "np.set_printoptions(precision=3, suppress=True)\n",
    "A = np.array([[3,5,5],[0,3,4],[4,0,5]],dtype=float)\n",
    "\n",
    "(Q, R) = givens_rotation(A)\n",
    "print('Q=',Q,'\\n')\n",
    "print('R=',R,'\\n')\n",
    "print('A=',np.dot(Q,R),'\\n')\n",
    "\n",
    "(Q, R) = householder_reflection(A)\n",
    "print('Q=',Q,'\\n')\n",
    "print('R=',R,'\\n')\n",
    "print('A=',np.dot(Q,R),'\\n')\n"
   ]
  },
  {
   "cell_type": "code",
   "execution_count": 7,
   "metadata": {},
   "outputs": [
    {
     "name": "stdout",
     "output_type": "stream",
     "text": [
      "山有木兮木有枝，心悦君兮君不知。\n"
     ]
    }
   ],
   "source": [
    "#用python编写一个简单的爬虫\n",
    "\n",
    "import requests\n",
    "from bs4 import BeautifulSoup\n",
    "\n",
    "link = \"https://so.gushiwen.org/mingju/juv_2d8bb03f1e19.aspx\"\n",
    "headers = {'User-Agent':'Mozilla/5.0 (Windows NT 10.0; Win64; x64)'\n",
    "           'AppleWebKit/537.36 (KHTML, like Gecko) Chrome/86.0.4240.193 Safari/537.36'}\n",
    "\n",
    "r = requests.get(link, headers = headers)\n",
    "\n",
    "soup = BeautifulSoup(r.text,\"lxml\")\n",
    "content = soup.find(\"div\",class_=\"contson\", id=\"contson4a96c8287eb5\").span.text.strip()\n",
    "print(content)"
   ]
  },
  {
   "cell_type": "code",
   "execution_count": 8,
   "metadata": {},
   "outputs": [
    {
     "name": "stdout",
     "output_type": "stream",
     "text": [
      "1 页码响应状态： 200\n",
      "2 页码响应状态： 200\n",
      "3 页码响应状态： 200\n",
      "4 页码响应状态： 200\n",
      "5 页码响应状态： 200\n",
      "6 页码响应状态： 200\n",
      "7 页码响应状态： 200\n",
      "8 页码响应状态： 200\n",
      "9 页码响应状态： 200\n",
      "10 页码响应状态： 200\n",
      "['肖申克的救赎', '霸王别姬', '阿甘正传', '这个杀手不太冷', '泰坦尼克号', '美丽人生', '千与千寻', '辛德勒的名单', '盗梦空间', '忠犬八公的故事', '海上钢琴师', '星际穿越', '楚门的世界', '三傻大闹宝莱坞', '机器人总动员', '放牛班的春天', '大话西游之大圣娶亲', '熔炉', '疯狂动物城', '无间道', '教父', '龙猫', '当幸福来敲门', '怦然心动', '触不可及', '控方证人', '蝙蝠侠：黑暗骑士', '活着', '末代皇帝', '寻梦环游记', '乱世佳人', '何以为家', '指环王3：王者无敌', '摔跤吧！爸爸', '飞屋环游记', '少年派的奇幻漂流', '哈利·波特与魔法石', '十二怒汉', '素媛', '鬼子来了', '哈尔的移动城堡', '天空之城', '大话西游之月光宝盒', '我不是药神', '闻香识女人', '罗马假日', '天堂电影院', '辩护人', '搏击俱乐部', '猫鼠游戏', '大闹天宫', '教父2', '狮子王', '死亡诗社', '指环王2：双塔奇兵', '钢琴家', '黑客帝国', '指环王1：魔戒再现', '窃听风暴', '饮食男女', '美丽心灵', '两杆大烟枪', '让子弹飞', '绿皮书', '本杰明·巴顿奇事', '飞越疯人院', '看不见的客人', '海蒂和爷爷', '西西里的美丽传说', '拯救大兵瑞恩', '小鞋子', '穿条纹睡衣的男孩', '情书', '音乐之声', '海豚湾', '美国往事', '致命魔术', '低俗小说', '沉默的羔羊', '蝴蝶效应', '禁闭岛', '七宗罪', '心灵捕手', '布达佩斯大饭店', '春光乍泄', '被嫌弃的松子的一生', '摩登时代', '阿凡达', '哈利·波特与死亡圣器(下)', '喜剧之王', '剪刀手爱德华', '勇敢的心', '致命ID', '加勒比海盗', '杀人回忆', '天使爱美丽', '狩猎', '断背山', '请以你的名字呼唤我', '7号房的礼物', '红辣椒', '幽灵公主', '小森林 夏秋篇', '阳光灿烂的日子', '第六感', '重庆森林', '入殓师', '小森林 冬春篇', '消失的爱人', '唐伯虎点秋香', '爱在黎明破晓前', '一一', '蝙蝠侠：黑暗骑士崛起', '菊次郎的夏天', '超脱', '侧耳倾听', '倩女幽魂', '无人知晓', '超能陆战队', '玛丽和马克思', '甜蜜蜜', '萤火之森', '借东西的小人阿莉埃蒂', '告白', '驯龙高手', '功夫', '大鱼', '爱在日落黄昏时', '阳光姐妹淘', '幸福终点站', '人生果实', '射雕英雄传之东成西就', '完美的世界', '恐怖直播', '怪兽电力公司', '神偷奶爸', '天书奇谭', '哈利·波特与阿兹卡班的囚徒', '玩具总动员3', '傲慢与偏见', '血战钢锯岭', '教父3', '时空恋旅人', '釜山行', '哪吒闹海', '风之谷', '被解救的姜戈', '哈利·波特与密室', '电锯惊魂', '喜宴', '七武士', '上帝之城', '头号玩家', '我是山姆', '英雄本色', '谍影重重3', '一个叫欧维的男人决定去死', '岁月神偷', '纵横四海', '三块广告牌', '疯狂原始人', '达拉斯买家俱乐部', '心迷宫', '卢旺达饭店', '记忆碎片', '花样年华', '未麻的部屋', '你的名字。', '模仿游戏', '黑客帝国3：矩阵革命', '荒蛮故事', '萤火虫之墓', '新世界', '爆裂鼓手', '贫民窟的百万富翁', '东邪西毒', '忠犬八公物语', '真爱至上', '黑天鹅', '头脑特工队', '海街日记', '你看起来好像很好吃', '惊魂记', '无敌破坏王', '冰川时代', '雨人', '恋恋笔记本', '小偷家族', '绿里奇迹', '恐怖游轮', '奇迹男孩', '爱在午夜降临前', '疯狂的石头', '二十二', '魔女宅急便', '房间', '海边的曼彻斯特', '雨中曲', '虎口脱险', '人工智能', '罗生门', '哈利·波特与火焰杯', '终结者2：审判日', '可可西里', '初恋这件小事', '2001太空漫游', '城市之光', '色，戒', '魂断蓝桥', '九品芝麻官', '牯岭街少年杀人事件', '海洋', '燃情岁月', '遗愿清单', '新龙门客栈', '源代码', '青蛇', '大佛普拉斯', '无耻混蛋', '穿越时空的少女', '血钻', '疯狂的麦克斯4：狂暴之路', '波西米亚狂想曲', '阿飞正传', '谍影重重2', '完美陌生人', '步履不停', '香水', '地球上的星星', '寄生虫', '彗星来的那一夜', '战争之王', '谍影重重', '朗读者', '猜火车', '东京物语', '浪潮', '再次出发之纽约遇见你', '驴得水', '千钧一发', '小萝莉的猴神大叔', '聚焦', '追随', '黑客帝国2：重装上阵', '我爱你', '黑鹰坠落', '一次别离', '网络谜踪', '发条橙', '无间道2']\n"
     ]
    }
   ],
   "source": [
    "#爬取豆瓣评分TOP250电影名称\n",
    "import requests\n",
    "from bs4 import BeautifulSoup\n",
    "\n",
    "doc = open(\"豆瓣TOP250电影.txt\",\"w+\")    #创建一个文件，后期将输出结果写入文件\n",
    "\n",
    "def get_movies():\n",
    "    headers = {'User-Agent': 'Mozilla/5.0 (Windows NT 10.0; Win64; x64) AppleWebKit/537.36 (KHTML, like Gecko) Chrome/86.0.4240.193 Safari/537.36',\n",
    "               'Host': 'movie.douban.com'\n",
    "               }     #打开浏览器的检查功能（F12）,获取requests headers,伪装成浏览器访问\n",
    "    movie_list = []\n",
    "    for i in range (10):\n",
    "        link = 'https://movie.douban.com/top250?start=' +str(i*25)\n",
    "        r = requests.get(link,headers=headers,timeout = 20)\n",
    "        print(str(i+1),\"页码响应状态：\", r.status_code)\n",
    "        soup = BeautifulSoup(r.text, \"lxml\")\n",
    "        div_list = soup.find_all('div', class_='hd')\n",
    "        for each in div_list:\n",
    "            movie = each.a.span.text.strip()\n",
    "            movie_list.append(movie)\n",
    "    return movie_list\n",
    "\n",
    "if __name__ == '__main__':\n",
    "    movies = get_movies()\n",
    "    print(movies)\n",
    "    print(movies, file=doc)\n",
    "\n",
    "    doc.close()"
   ]
  },
  {
   "cell_type": "code",
   "execution_count": null,
   "metadata": {},
   "outputs": [],
   "source": []
  }
 ],
 "metadata": {
  "kernelspec": {
   "display_name": "Python 3",
   "language": "python",
   "name": "python3"
  },
  "language_info": {
   "codemirror_mode": {
    "name": "ipython",
    "version": 3
   },
   "file_extension": ".py",
   "mimetype": "text/x-python",
   "name": "python",
   "nbconvert_exporter": "python",
   "pygments_lexer": "ipython3",
   "version": "3.8.3"
  }
 },
 "nbformat": 4,
 "nbformat_minor": 4
}
