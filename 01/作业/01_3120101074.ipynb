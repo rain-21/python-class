{
 "cells": [
  {
   "cell_type": "markdown",
   "metadata": {},
   "source": [
    "### 1.数据类型"
   ]
  },
  {
   "cell_type": "code",
   "execution_count": 21,
   "metadata": {},
   "outputs": [
    {
     "name": "stdout",
     "output_type": "stream",
     "text": [
      "<class 'int'>\n",
      "<class 'float'>\n",
      "<class 'bool'>\n",
      "<class 'str'>\n",
      "<class 'list'>\n",
      "<class 'tuple'>\n",
      "<class 'set'>\n",
      "<class 'dict'>\n"
     ]
    }
   ],
   "source": [
    "# 检测数据类型的方法： type()\n",
    "a = 5\n",
    "print(type(a)) # <class 'int'> -- 整型\n",
    "b = 5.5\n",
    "print(type(b)) # <class 'float'> -- 浮点型\n",
    "c = True\n",
    "print(type(c)) # <class 'bool'> -- 布尔型\n",
    "d = '23456'\n",
    "print(type(d)) # <class 'str'> -- 字符串\n",
    "e = [10, 20, 30]\n",
    "print(type(e)) # <class 'list'> -- 列表\n",
    "f = (10, 20, 30)\n",
    "print(type(f)) # <class 'tuple'> -- 元组\n",
    "h = {10, 20, 30}\n",
    "print(type(h)) # <class 'set'> -- 集合\n",
    "k={'name':'wangl','number':3120101074}\n",
    "print(type(k))# <class 'dic'> -- 字典"
   ]
  },
  {
   "cell_type": "markdown",
   "metadata": {},
   "source": [
    "### 2.输出"
   ]
  },
  {
   "cell_type": "code",
   "execution_count": 47,
   "metadata": {},
   "outputs": [
    {
     "name": "stdout",
     "output_type": "stream",
     "text": [
      "我的名字是Tom\n",
      "我的学号是3120101074\n",
      "我的体重是75.50公⽄\n",
      "我的名字是Tom，今年年22岁了\n"
     ]
    }
   ],
   "source": [
    "age = 22\n",
    "name = 'Tom'\n",
    "weight = 75.5\n",
    "student_id = 3120101074\n",
    "print('我的名字是%s' % name)\n",
    "print('我的学号是%4d' % student_id)\n",
    "print('我的体重是%.2f公⽄' % weight)\n",
    "print('我的名字是%s，今年年%d岁了' % (name, age))"
   ]
  },
  {
   "cell_type": "markdown",
   "metadata": {},
   "source": [
    "### 3.输入"
   ]
  },
  {
   "cell_type": "code",
   "execution_count": 7,
   "metadata": {},
   "outputs": [
    {
     "name": "stdin",
     "output_type": "stream",
     "text": [
      "请输⼊入您的密码： 5\n"
     ]
    },
    {
     "name": "stdout",
     "output_type": "stream",
     "text": [
      "您输入的密码是5\n",
      "<class 'str'>\n"
     ]
    }
   ],
   "source": [
    "password = input('请输⼊入您的密码：')\n",
    "print(f'您输入的密码是{password}')\n",
    "print(type(password))"
   ]
  },
  {
   "cell_type": "markdown",
   "metadata": {},
   "source": [
    "### 4.数据类型的转换"
   ]
  },
  {
   "cell_type": "code",
   "execution_count": 9,
   "metadata": {},
   "outputs": [
    {
     "name": "stdout",
     "output_type": "stream",
     "text": [
      "1.0\n",
      "<class 'float'>\n",
      "<class 'str'>\n",
      "(10, 20, 30)\n",
      "<class 'tuple'>\n",
      "[100, 200, 300]\n",
      "<class 'list'>\n",
      "<class 'int'>\n",
      "<class 'list'>\n",
      "<class 'tuple'>\n"
     ]
    }
   ],
   "source": [
    "# 1. float() -- 转换成浮点型\n",
    "num1 = 1\n",
    "print(float(num1))\n",
    "print(type(float(num1)))\n",
    "# 2. str() -- 转换成字符串类型\n",
    "num2 = 10\n",
    "print(type(str(num2)))\n",
    "# 3. tuple() -- 将⼀个序列转换成元组\n",
    "list1 = [10, 20, 30]\n",
    "print(tuple(list1))\n",
    "print(type(tuple(list1)))\n",
    "# 4. list() -- 将⼀个序列转换成列表\n",
    "t1 = (100, 200, 300)\n",
    "print(list(t1))\n",
    "print(type(list(t1)))\n",
    "# 5. eval() -- 将字符串中的数据转换成Python表达式原本类型\n",
    "str1 = '10'\n",
    "str2 = '[1, 2, 3]'\n",
    "str3 = '(1000, 2000, 3000)'\n",
    "print(type(eval(str1)))\n",
    "print(type(eval(str2)))\n",
    "print(type(eval(str3)))"
   ]
  },
  {
   "cell_type": "markdown",
   "metadata": {},
   "source": [
    "### 5.if-else"
   ]
  },
  {
   "cell_type": "code",
   "execution_count": 11,
   "metadata": {},
   "outputs": [
    {
     "name": "stdout",
     "output_type": "stream",
     "text": [
      "顺利上车\n",
      "没有空座\n"
     ]
    }
   ],
   "source": [
    "money = 1\n",
    "seat = 0\n",
    "if money == 1:\n",
    "    print('顺利上车')\n",
    "    if seat == 1:\n",
    "        print('有空座，可以坐下')\n",
    "    else:\n",
    "        print('没有空座')\n",
    "else:\n",
    "    print('没有钱，无法上车')"
   ]
  },
  {
   "cell_type": "markdown",
   "metadata": {},
   "source": [
    "age = int(input('请输⼊您的年龄：'))\n",
    "if age >= 18:\n",
    "    print(f'您的年龄是{age},已经成年，可以上网')\n",
    "else:\n",
    "    print(f'您的年龄是{age},未成年，请回家写作业')\n",
    "    print('系统关闭')"
   ]
  },
  {
   "cell_type": "code",
   "execution_count": 14,
   "metadata": {},
   "outputs": [
    {
     "name": "stdin",
     "output_type": "stream",
     "text": [
      "请出拳：0-石头，1-剪刀，2-布： 2\n"
     ]
    },
    {
     "name": "stdout",
     "output_type": "stream",
     "text": [
      "电脑获胜\n",
      "电脑：1\n"
     ]
    }
   ],
   "source": [
    "#猜拳游戏\n",
    "# 导⼊入random模块\n",
    "import random\n",
    "# 计算电脑出拳的随机数字\n",
    "computer = random.randint(0, 2)\n",
    "player = int(input('请出拳：0-石头，1-剪刀，2-布：'))\n",
    "if ((player == 0) and (computer == 1)) or ((player == 1) and (computer == 2))or((player == 2) and (computer == 0)):\n",
    "    print('玩家获胜')\n",
    "    print('电脑：%d' %computer)\n",
    "elif player == computer:\n",
    "    print('平局')\n",
    "    print('电脑：%d' %computer)\n",
    "else:\n",
    "    print('电脑获胜')\n",
    "    print('电脑：%d' %computer)"
   ]
  },
  {
   "cell_type": "code",
   "execution_count": 16,
   "metadata": {},
   "outputs": [
    {
     "name": "stdout",
     "output_type": "stream",
     "text": [
      "3\n"
     ]
    }
   ],
   "source": [
    "# 三目运算符\n",
    "# 条件成⽴执行的表达式 if 条件 else 条件不成立执行的表达式\n",
    "a = 3\n",
    "b = 2\n",
    "c = a if a > b else b\n",
    "print(c)"
   ]
  },
  {
   "cell_type": "markdown",
   "metadata": {},
   "source": [
    "### 6.while语句"
   ]
  },
  {
   "cell_type": "code",
   "execution_count": 19,
   "metadata": {},
   "outputs": [
    {
     "name": "stdout",
     "output_type": "stream",
     "text": [
      "5050\n"
     ]
    }
   ],
   "source": [
    "# 计算1-100的和\n",
    "i = 1\n",
    "result = 0\n",
    "while i <= 100:\n",
    "    result+= i\n",
    "    i += 1\n",
    "# 输出5050\n",
    "print(result)"
   ]
  },
  {
   "cell_type": "code",
   "execution_count": 26,
   "metadata": {},
   "outputs": [
    {
     "name": "stdout",
     "output_type": "stream",
     "text": [
      "2550\n"
     ]
    }
   ],
   "source": [
    "# 计算1-100的偶数之和\n",
    "# 方法一\n",
    "i = 0\n",
    "result = 0\n",
    "while i <= 100:\n",
    "    result += i\n",
    "    i += 2\n",
    "# 输出2550\n",
    "print(result)"
   ]
  },
  {
   "cell_type": "code",
   "execution_count": 42,
   "metadata": {},
   "outputs": [
    {
     "name": "stdout",
     "output_type": "stream",
     "text": [
      "2550\n"
     ]
    }
   ],
   "source": [
    "# ⽅方二\n",
    "i = 1\n",
    "result = 0\n",
    "while i <= 100:\n",
    "    if i % 2 == 0:\n",
    "        result += i\n",
    "    i += 1\n",
    "# 输出2550\n",
    "print(result)"
   ]
  },
  {
   "cell_type": "code",
   "execution_count": 32,
   "metadata": {},
   "outputs": [
    {
     "name": "stdout",
     "output_type": "stream",
     "text": [
      "1*1=1\t\n",
      "1*2=2\t2*2=4\t\n",
      "1*3=3\t2*3=6\t3*3=9\t\n",
      "1*4=4\t2*4=8\t3*4=12\t4*4=16\t\n",
      "1*5=5\t2*5=10\t3*5=15\t4*5=20\t5*5=25\t\n",
      "1*6=6\t2*6=12\t3*6=18\t4*6=24\t5*6=30\t6*6=36\t\n",
      "1*7=7\t2*7=14\t3*7=21\t4*7=28\t5*7=35\t6*7=42\t7*7=49\t\n",
      "1*8=8\t2*8=16\t3*8=24\t4*8=32\t5*8=40\t6*8=48\t7*8=56\t8*8=64\t\n",
      "1*9=9\t2*9=18\t3*9=27\t4*9=36\t5*9=45\t6*9=54\t7*9=63\t8*9=72\t9*9=81\t\n"
     ]
    }
   ],
   "source": [
    "# 打印99乘法表\n",
    "j = 1\n",
    "while j <= 9:\n",
    "# 打印⼀⾏里面的表达式 a * b = a*b\n",
    "    i = 1\n",
    "    while i <= j:\n",
    "        print(f'{i}*{j}={j*i}', end='\\t')\n",
    "        i += 1\n",
    "    print()\n",
    "    j += 1"
   ]
  },
  {
   "cell_type": "code",
   "execution_count": 40,
   "metadata": {},
   "outputs": [
    {
     "name": "stdout",
     "output_type": "stream",
     "text": [
      "*\n",
      "**\n",
      "***\n",
      "****\n",
      "*****\n"
     ]
    }
   ],
   "source": [
    "# 重复打印5行星星\n",
    "# j表示行号\n",
    "j = 0\n",
    "while j <= 4:\n",
    "# ⼀一行星星的打印\n",
    "    i = 0\n",
    "# i表示每行里面星星的个数，这个数字要和行号相等所以i要和j联动\n",
    "    while i <= j:\n",
    "        print('*', end='')\n",
    "        i += 1\n",
    "    print()\n",
    "    j += 1"
   ]
  },
  {
   "cell_type": "markdown",
   "metadata": {},
   "source": [
    "### 7.break和continue"
   ]
  },
  {
   "cell_type": "code",
   "execution_count": 28,
   "metadata": {},
   "outputs": [
    {
     "name": "stdout",
     "output_type": "stream",
     "text": [
      "吃了第1个苹果\n",
      "吃了第2个苹果\n",
      "吃了第3个苹果\n",
      "吃饱了不吃了\n"
     ]
    }
   ],
   "source": [
    "# break终止此循环\n",
    "i = 1\n",
    "while i <= 5:\n",
    "    if i == 4:\n",
    "        print(f'吃饱了不吃了')\n",
    "        break\n",
    "    print(f'吃了第{i}个苹果')\n",
    "    i += 1"
   ]
  },
  {
   "cell_type": "code",
   "execution_count": 29,
   "metadata": {},
   "outputs": [
    {
     "name": "stdout",
     "output_type": "stream",
     "text": [
      "吃了第1个苹果\n",
      "吃了第2个苹果\n",
      "第3个不吃了\n",
      "吃了第4个苹果\n",
      "吃了第5个苹果\n"
     ]
    }
   ],
   "source": [
    "# continue退出当前一次循环继而执⾏下一次循环代码\n",
    "i = 1\n",
    "while i <= 5:\n",
    "    if i == 3:\n",
    "        print(f'第{i}个不吃了')\n",
    "# 在continue之前⼀定要修改计数器，否则会陷⼊入死循环\n",
    "        i += 1\n",
    "        continue\n",
    "    print(f'吃了第{i}个苹果')\n",
    "    i += 1"
   ]
  },
  {
   "cell_type": "markdown",
   "metadata": {},
   "source": [
    "### 8.for循环"
   ]
  },
  {
   "cell_type": "code",
   "execution_count": 35,
   "metadata": {},
   "outputs": [
    {
     "name": "stdout",
     "output_type": "stream",
     "text": [
      "p\n",
      "y\n",
      "t\n",
      "h\n",
      "o\n",
      "n\n"
     ]
    }
   ],
   "source": [
    "str1 = 'python'\n",
    "for i in str1:\n",
    "    print(i)"
   ]
  },
  {
   "cell_type": "code",
   "execution_count": 37,
   "metadata": {},
   "outputs": [
    {
     "name": "stdout",
     "output_type": "stream",
     "text": [
      "p\n",
      "y\n",
      "t\n",
      "遇到h不不打印\n"
     ]
    }
   ],
   "source": [
    "# break终止循环\n",
    "str1 = 'python'\n",
    "for i in str1:\n",
    "    if i == 'h':\n",
    "        print('遇到h不不打印')\n",
    "        break\n",
    "    print(i)\n",
    "else:\n",
    "    print('循环正常结束之后执行的代码')"
   ]
  },
  {
   "cell_type": "code",
   "execution_count": 39,
   "metadata": {},
   "outputs": [
    {
     "name": "stdout",
     "output_type": "stream",
     "text": [
      "p\n",
      "y\n",
      "t\n",
      "遇到h不不打印\n",
      "o\n",
      "n\n",
      "循环正常结束之后执⾏的代码\n"
     ]
    }
   ],
   "source": [
    "# continue终止循环\n",
    "str1 = 'python'\n",
    "for i in str1:\n",
    "    if i == 'h':\n",
    "        print('遇到h不不打印')\n",
    "        continue\n",
    "    print(i)\n",
    "else:\n",
    "    print('循环正常结束之后执⾏的代码')"
   ]
  },
  {
   "cell_type": "markdown",
   "metadata": {},
   "source": [
    "### 9.matplotlib图像绘制"
   ]
  },
  {
   "cell_type": "code",
   "execution_count": 53,
   "metadata": {},
   "outputs": [
    {
     "data": {
      "image/png": "[encoded data removed]",
      "text/plain": [
       "<Figure size 1000x500 with 1 Axes>"
      ]
     },
     "metadata": {
      "needs_background": "light"
     },
     "output_type": "display_data"
    }
   ],
   "source": [
    "import matplotlib.pyplot as plt\n",
    "import random\n",
    "# 1.生成数据\n",
    "x = range(60)\n",
    "y_beijing = [random.uniform(10,15) for i in x]\n",
    "y_shanghai = [random.uniform(20,25) for i in x]\n",
    "\n",
    "# 2.创建画布\n",
    "plt.figure(figsize=(10,5),dpi=100)\n",
    "#                           dpi像素\n",
    "# 3.绘制图像\n",
    "# plt.plot(x,y,color=\"r\",linestyle=\"--\"\n",
    "plt.plot(x,y_beijing,color=\"r\",label=\"北京\")\n",
    "plt.plot(x,y_shanghai,color=\"g\",label=\"上海\")\n",
    "\n",
    "# 3.1添加x,y轴刻度     *****************放在plot之后，先绘制图像，再定义坐标轴\n",
    "y_ticks = range(0,40)\n",
    "x_ticks_labels = ['11点{}分'.format(i) for i in x]\n",
    "plt.yticks(y_ticks[::5])\n",
    "plt.xticks(x[::5],x_ticks_labels[::5]) #刚开始必须传进去数字，再用字符串替换\n",
    "\n",
    "plt.rcParams['font.sans-serif']=['SimHei'] #用来正常显示中文标签\n",
    "# plt.rcParams['axes.unicode_minus']=False #用来正常显示负号  \n",
    "\n",
    "# 3.2添加网格\n",
    "plt.grid(True,linestyle=\"--\",alpha=0.5)\n",
    "\n",
    "# 3.3添加标签\n",
    "plt.xlabel(\"时间\")\n",
    "plt.ylabel(\"温度\")\n",
    "plt.title(\"温度随时间变化\",fontsize=20)  #fontsize=20 调节字体大小\n",
    "\n",
    "# 3.4显示图例\n",
    "# 需要提前在plot中声明label的值\n",
    "plt.legend(loc=\"best\")# plt.legend(loc=0)\n",
    "\n",
    "# 4.图像展示\n",
    "plt.show()"
   ]
  }
 ],
 "metadata": {
  "kernelspec": {
   "display_name": "Python 3",
   "language": "python",
   "name": "python3"
  },
  "language_info": {
   "codemirror_mode": {
    "name": "ipython",
    "version": 3
   },
   "file_extension": ".py",
   "mimetype": "text/x-python",
   "name": "python",
   "nbconvert_exporter": "python",
   "pygments_lexer": "ipython3",
   "version": "3.8.3"
  }
 },
 "nbformat": 4,
 "nbformat_minor": 4
}
