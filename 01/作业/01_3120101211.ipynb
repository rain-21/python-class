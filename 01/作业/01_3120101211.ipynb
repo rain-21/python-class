{
 "cells": [
  {
   "cell_type": "code",
   "execution_count": 1,
   "metadata": {},
   "outputs": [
    {
     "name": "stdout",
     "output_type": "stream",
     "text": [
      "hello world\n"
     ]
    }
   ],
   "source": [
    "print('hello world')"
   ]
  },
  {
   "cell_type": "code",
   "execution_count": 2,
   "metadata": {},
   "outputs": [
    {
     "data": {
      "text/plain": [
       "3"
      ]
     },
     "execution_count": 2,
     "metadata": {},
     "output_type": "execute_result"
    }
   ],
   "source": [
    "a=1\n",
    "b=2\n",
    "a+b"
   ]
  },
  {
   "cell_type": "code",
   "execution_count": 5,
   "metadata": {},
   "outputs": [
    {
     "name": "stdout",
     "output_type": "stream",
     "text": [
      "9\n"
     ]
    }
   ],
   "source": [
    "x=3\n",
    "print(x*3)"
   ]
  },
  {
   "cell_type": "code",
   "execution_count": 15,
   "metadata": {},
   "outputs": [
    {
     "name": "stdout",
     "output_type": "stream",
     "text": [
      "12 4.0\n"
     ]
    }
   ],
   "source": [
    "a=3\n",
    "b=4\n",
    "c=a*b\n",
    "d=c/a\n",
    "print(c,d)\n"
   ]
  },
  {
   "cell_type": "markdown",
   "metadata": {},
   "source": [
    "a=2\n",
    "b=3\n",
    "c=a>b\n",
    "print(c)"
   ]
  },
  {
   "cell_type": "markdown",
   "metadata": {},
   "source": [
    "## Type()"
   ]
  },
  {
   "cell_type": "code",
   "execution_count": 20,
   "metadata": {},
   "outputs": [
    {
     "name": "stdout",
     "output_type": "stream",
     "text": [
      "<class 'int'> <class 'float'> <class 'str'> <class 'bool'>\n"
     ]
    }
   ],
   "source": [
    "a=10\n",
    "b=10.0\n",
    "c=\"hello world\"\n",
    "d=True\n",
    "print(type(a),type(b),type(c),type(d))"
   ]
  },
  {
   "cell_type": "code",
   "execution_count": 24,
   "metadata": {},
   "outputs": [
    {
     "name": "stdout",
     "output_type": "stream",
     "text": [
      "<class 'tuple'>\n",
      "<class 'list'>\n",
      "<class 'dict'>\n"
     ]
    }
   ],
   "source": [
    "e=()  #元组\n",
    "f=[]  #列表\n",
    "g={}  #字典\n",
    "print(type(e))\n",
    "print(type(f))\n",
    "print(type(g))\n"
   ]
  },
  {
   "cell_type": "markdown",
   "metadata": {},
   "source": [
    "## 变量名区分大小写"
   ]
  },
  {
   "cell_type": "code",
   "execution_count": 25,
   "metadata": {},
   "outputs": [
    {
     "name": "stdout",
     "output_type": "stream",
     "text": [
      "1 2\n"
     ]
    }
   ],
   "source": [
    "d=1\n",
    "D=2\n",
    "print(d,D)"
   ]
  },
  {
   "cell_type": "markdown",
   "metadata": {},
   "source": [
    "## 算术运算符 可以直接print"
   ]
  },
  {
   "cell_type": "markdown",
   "metadata": {},
   "source": [
    "# + - * / %求余 **指数 //保留整数除法 "
   ]
  },
  {
   "cell_type": "code",
   "execution_count": 27,
   "metadata": {},
   "outputs": [
    {
     "name": "stdout",
     "output_type": "stream",
     "text": [
      "37\n",
      "4\n",
      "21\n",
      "2.3333333333333335\n",
      "2\n",
      "1\n",
      "343\n"
     ]
    }
   ],
   "source": [
    "a=7\n",
    "b=3\n",
    "c=10\n",
    "print(a+b*c)\n",
    "print(a-b)\n",
    "print(a*b)\n",
    "print(a/b)\n",
    "print(a//b)\n",
    "print(a%b)\n",
    "print(a**b)"
   ]
  },
  {
   "cell_type": "markdown",
   "metadata": {},
   "source": [
    "## 比较运算 可以print\n",
    "==等于 !=不等 > >= < <= output Ture(1)orFalse(0)"
   ]
  },
  {
   "cell_type": "code",
   "execution_count": 30,
   "metadata": {},
   "outputs": [
    {
     "name": "stdout",
     "output_type": "stream",
     "text": [
      "False\n",
      "True\n",
      "False\n",
      "True\n"
     ]
    }
   ],
   "source": [
    "a,b=10,5\n",
    "print(a==b)\n",
    "print(a>=b)\n",
    "print(a<=b)\n",
    "print(a!=b)"
   ]
  },
  {
   "cell_type": "markdown",
   "metadata": {},
   "source": [
    "## 逻辑运算 优先级 () -> not -> and -> or \n",
    "and or not  "
   ]
  },
  {
   "cell_type": "code",
   "execution_count": 35,
   "metadata": {},
   "outputs": [
    {
     "name": "stdout",
     "output_type": "stream",
     "text": [
      "False\n",
      "True\n",
      "False\n",
      "False\n",
      "True\n"
     ]
    }
   ],
   "source": [
    "a,b,c,d=23,19,10,5\n",
    "print(a+b>c and c<d)\n",
    "print(a+b>c or c<d)\n",
    "print(not a)\n",
    "print(not a>b)\n",
    "print(not a<b)"
   ]
  },
  {
   "cell_type": "markdown",
   "metadata": {},
   "source": [
    "## 赋值运算符 不能直接print \n",
    "= ， += ，-= ， *= ， /= ， 从左往右"
   ]
  },
  {
   "cell_type": "code",
   "execution_count": 42,
   "metadata": {},
   "outputs": [
    {
     "name": "stdout",
     "output_type": "stream",
     "text": [
      "16\n",
      "13 24389\n"
     ]
    }
   ],
   "source": [
    "a,b,c=10,29,3\n",
    "a+=c\n",
    "b**=c\n",
    "print(a+c)\n",
    "print(a,b)\n"
   ]
  },
  {
   "cell_type": "markdown",
   "metadata": {},
   "source": [
    "## 占位符 %（多个） %单个。等效 {} 加上.format（）\n",
    "%c 单个字符 %s字符串 %i %d有符号十进制 %u无符号十进制 %o八进制 %x十六进制 %e %E索引\n",
    "%f 浮点实数 "
   ]
  },
  {
   "cell_type": "code",
   "execution_count": 47,
   "metadata": {},
   "outputs": [
    {
     "name": "stdout",
     "output_type": "stream",
     "text": [
      "我的名字是周孟航，学号是3210101211,来自S0005\n",
      "我的名字是周孟航，学号是3210101211,来自S0005\n"
     ]
    }
   ],
   "source": [
    "name='周孟航'\n",
    "number=3210101211\n",
    "classpro='S0005'\n",
    "print('我的名字是%s，学号是%d,来自%s'%(name,number,classpro)) #占位符\n",
    "print('我的名字是{}，学号是{},来自{}'.format(name,number,classpro)) \n",
    "#format 不需要指定数据类型\n"
   ]
  },
  {
   "cell_type": "markdown",
   "metadata": {},
   "source": [
    "## 输入input 都是str类型 转换类型 name=int(input())转整形"
   ]
  },
  {
   "cell_type": "code",
   "execution_count": 50,
   "metadata": {},
   "outputs": [
    {
     "name": "stdin",
     "output_type": "stream",
     "text": [
      "请输入你的姓名 周孟航\n",
      "请输入你的学号 321010211\n",
      "请输入你的班级 S0005\n"
     ]
    },
    {
     "name": "stdout",
     "output_type": "stream",
     "text": [
      "姓名：周孟航\n",
      "学号：321010211\n",
      "班级：S0005\n"
     ]
    }
   ],
   "source": [
    "name=input(\"请输入你的姓名\")\n",
    "number=input(\"请输入你的学号\")\n",
    "classpro=input('请输入你的班级')\n",
    "print('姓名：{}'.format(name))\n",
    "print('学号：{}'.format(number))\n",
    "print('班级：{}'.format(classpro))\n"
   ]
  },
  {
   "cell_type": "markdown",
   "metadata": {},
   "source": [
    "## 循环语句\n",
    "选择流程                                             循环流程                                         \n",
    "  1.单分支                                           while 条件表达式:                                                                        \n",
    "     if 条件表达：                                      。。。。。。。                                           \n",
    "        。。。。。。。                               for x ##设的参数  in 可迭代的集合对象: ## x依次赋值集合内的每一个值                                                       \n",
    "  2.双分支                                           break ##退出当前的for或者while循环 continue 进行新的循环                                                               \n",
    "     if 条件表达：                                   range() ## 生成数列                                                                      \n",
    "        。。。。。。。                                                                                                          \n",
    "     else：                                                                                                          \n",
    "        。。。。。。。                                                                                                          \n",
    "  3.多分支                                                                                                          \n",
    "     if 条件表达：                                                                                                          \n",
    "        。。。。。。。                                                                                                          \n",
    "     elif 条件表达：                                                                                                          \n",
    "        。。。。。。。                                                                                                          \n",
    "     elif 条件表达：                                                                                                          \n",
    "        。。。。。。。                                                                                                          \n",
    "     。。。                                                                                                          \n",
    "     else：                                                                                                          \n",
    "条件表达式：比较运算（< > == !=）/逻辑运算符（not and or）/复合运算                                                                                                          "
   ]
  },
  {
   "cell_type": "code",
   "execution_count": 53,
   "metadata": {},
   "outputs": [
    {
     "name": "stdin",
     "output_type": "stream",
     "text": [
      "请输姓名 周孟航\n",
      "请输入学号 3120101211\n",
      "请输班级 S0005\n",
      "请输入分数 90\n"
     ]
    },
    {
     "name": "stdout",
     "output_type": "stream",
     "text": [
      "姓名：周孟航\n",
      "学号：3120101211\n",
      "班级：S0005\n",
      "等级：优秀\n"
     ]
    }
   ],
   "source": [
    "name=input(\"请输姓名\")\n",
    "number=input(\"请输入学号\")\n",
    "classpro=input('请输班级')\n",
    "score=int(input('请输入分数'))\n",
    "print('姓名：{}'.format(name))\n",
    "print('学号：{}'.format(number))\n",
    "print('班级：{}'.format(classpro))\n",
    "if score<60:\n",
    "    print('等级：不合格')\n",
    "elif (score>=60) and (score<75):\n",
    "    print('等级：合格')\n",
    "elif (score>=75) and (score<85):\n",
    "    print('等级：良好')\n",
    "else:\n",
    "    print('等级：优秀')\n",
    "    \n"
   ]
  },
  {
   "cell_type": "markdown",
   "metadata": {},
   "source": [
    "## 猜拳"
   ]
  },
  {
   "cell_type": "code",
   "execution_count": 65,
   "metadata": {},
   "outputs": [
    {
     "name": "stdin",
     "output_type": "stream",
     "text": [
      "请出拳：[石头：0，剪刀：1，布：2] 1\n"
     ]
    },
    {
     "name": "stdout",
     "output_type": "stream",
     "text": [
      "you lose\n"
     ]
    }
   ],
   "source": [
    "import random #产生随机数的模块\n",
    "person=int(input('请出拳：[石头：0，剪刀：1，布：2]'))\n",
    "computer=random.randint(0,2)\n",
    "#if person==0 and computer==1:\n",
    "#    print('you win')\n",
    "#elif person==1 and computer==2:\n",
    "#    print('you win')\n",
    "#elif person==2 and computer==0:\n",
    "#    print('you win')\n",
    "if person==0 and computer==1 or person==1 and computer==2 or person==2 and computer==0:\n",
    "    print('you win')\n",
    "elif person==computer:\n",
    "    print('equal')\n",
    "else:\n",
    "    print('you lose')"
   ]
  },
  {
   "cell_type": "markdown",
   "metadata": {},
   "source": [
    "## 猜数字"
   ]
  },
  {
   "cell_type": "code",
   "execution_count": 1,
   "metadata": {},
   "outputs": [
    {
     "name": "stdin",
     "output_type": "stream",
     "text": [
      "请输入数字 6\n"
     ]
    },
    {
     "name": "stdout",
     "output_type": "stream",
     "text": [
      "猜小了\n"
     ]
    },
    {
     "name": "stdin",
     "output_type": "stream",
     "text": [
      "请输入数字 5\n"
     ]
    },
    {
     "name": "stdout",
     "output_type": "stream",
     "text": [
      "猜小了\n"
     ]
    },
    {
     "name": "stdin",
     "output_type": "stream",
     "text": [
      "请输入数字 9\n"
     ]
    },
    {
     "name": "stdout",
     "output_type": "stream",
     "text": [
      "猜大了\n"
     ]
    },
    {
     "name": "stdin",
     "output_type": "stream",
     "text": [
      "请输入数字 8\n"
     ]
    },
    {
     "name": "stdout",
     "output_type": "stream",
     "text": [
      "猜对了\n"
     ]
    }
   ],
   "source": [
    "number=8\n",
    "guessnumber=-1\n",
    "while guessnumber!=number:\n",
    "    guessnumber=int(input('请输入数字'))\n",
    "    if guessnumber>number:\n",
    "        print('猜大了')\n",
    "        continue\n",
    "    elif guessnumber<number:\n",
    "        print('猜小了')\n",
    "        continue\n",
    "    else:\n",
    "        break\n",
    "print('猜对了')"
   ]
  },
  {
   "cell_type": "code",
   "execution_count": 11,
   "metadata": {},
   "outputs": [
    {
     "name": "stdout",
     "output_type": "stream",
     "text": [
      "1*1=1 \n",
      "2*1=2 2*2=4 \n",
      "3*1=3 3*2=6 3*3=9 \n",
      "4*1=4 4*2=8 4*3=12 4*4=16 \n",
      "5*1=5 5*2=10 5*3=15 5*4=20 5*5=25 \n",
      "6*1=6 6*2=12 6*3=18 6*4=24 6*5=30 6*6=36 \n",
      "7*1=7 7*2=14 7*3=21 7*4=28 7*5=35 7*6=42 7*7=49 \n",
      "8*1=8 8*2=16 8*3=24 8*4=32 8*5=40 8*6=48 8*7=56 8*8=64 \n",
      "9*1=9 9*2=18 9*3=27 9*4=36 9*5=45 9*6=54 9*7=63 9*8=72 9*9=81 \n"
     ]
    }
   ],
   "source": [
    "row=1\n",
    "while row<=9:\n",
    "    col=1\n",
    "    while col<=row:\n",
    "        print('%d*%d=%d'%(row,col,row*col),end=' ')\n",
    "        col+=1\n",
    "    print( )\n",
    "    row+=1\n",
    "    "
   ]
  },
  {
   "cell_type": "code",
   "execution_count": 16,
   "metadata": {},
   "outputs": [
    {
     "name": "stdout",
     "output_type": "stream",
     "text": [
      "1*9=9 2*9=18 3*9=27 4*9=36 5*9=45 6*9=54 7*9=63 8*9=72 9*9=81 \n",
      "1*8=8 2*8=16 3*8=24 4*8=32 5*8=40 6*8=48 7*8=56 8*8=64 \n",
      "1*7=7 2*7=14 3*7=21 4*7=28 5*7=35 6*7=42 7*7=49 \n",
      "1*6=6 2*6=12 3*6=18 4*6=24 5*6=30 6*6=36 \n",
      "1*5=5 2*5=10 3*5=15 4*5=20 5*5=25 \n",
      "1*4=4 2*4=8 3*4=12 4*4=16 \n",
      "1*3=3 2*3=6 3*3=9 \n",
      "1*2=2 2*2=4 \n",
      "1*1=1 \n"
     ]
    }
   ],
   "source": [
    "row=9\n",
    "while row>=1:\n",
    "    col=1\n",
    "    while col<=row:\n",
    "        print('%d*%d=%d'%(col,row,row*col),end=' ')\n",
    "        col+=1\n",
    "    print()\n",
    "    row-=1"
   ]
  },
  {
   "cell_type": "code",
   "execution_count": 21,
   "metadata": {},
   "outputs": [
    {
     "name": "stdout",
     "output_type": "stream",
     "text": [
      "    *\n",
      "   ***\n",
      "  *****\n",
      " *******\n",
      "*********\n"
     ]
    }
   ],
   "source": [
    "row=1\n",
    "while row<=5:\n",
    "    j=1\n",
    "    while j<=5-row:\n",
    "        print(' ',end='')\n",
    "        j+=1\n",
    "    k=1\n",
    "    while k<=2*row-1:\n",
    "        print('*',end='')\n",
    "        k+=1\n",
    "    row+=1\n",
    "    print()"
   ]
  },
  {
   "cell_type": "code",
   "execution_count": null,
   "metadata": {},
   "outputs": [],
   "source": []
  }
 ],
 "metadata": {
  "kernelspec": {
   "display_name": "Python 3",
   "language": "python",
   "name": "python3"
  },
  "language_info": {
   "codemirror_mode": {
    "name": "ipython",
    "version": 3
   },
   "file_extension": ".py",
   "mimetype": "text/x-python",
   "name": "python",
   "nbconvert_exporter": "python",
   "pygments_lexer": "ipython3",
   "version": "3.8.5"
  }
 },
 "nbformat": 4,
 "nbformat_minor": 4
}
