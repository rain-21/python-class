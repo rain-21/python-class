{
 "cells": [
  {
   "cell_type": "code",
   "execution_count": 1,
   "metadata": {},
   "outputs": [
    {
     "name": "stdout",
     "output_type": "stream",
     "text": [
      "hello world\n"
     ]
    }
   ],
   "source": [
    "print('hello world')"
   ]
  },
  {
   "cell_type": "code",
   "execution_count": 2,
   "metadata": {},
   "outputs": [
    {
     "data": {
      "text/plain": [
       "3"
      ]
     },
     "execution_count": 2,
     "metadata": {},
     "output_type": "execute_result"
    }
   ],
   "source": [
    "a=1\n",
    "b=2\n",
    "a+b"
   ]
  },
  {
   "cell_type": "code",
   "execution_count": 3,
   "metadata": {},
   "outputs": [
    {
     "name": "stdout",
     "output_type": "stream",
     "text": [
      "9\n"
     ]
    }
   ],
   "source": [
    "x=3\n",
    "print(x*3)"
   ]
  },
  {
   "cell_type": "code",
   "execution_count": 4,
   "metadata": {},
   "outputs": [
    {
     "name": "stdout",
     "output_type": "stream",
     "text": [
      "12 4.0\n"
     ]
    }
   ],
   "source": [
    "a=3\n",
    "b=4\n",
    "c=a*b\n",
    "d=c/a\n",
    "print(c,d)\n"
   ]
  },
  {
   "cell_type": "code",
   "execution_count": 5,
   "metadata": {},
   "outputs": [
    {
     "name": "stdout",
     "output_type": "stream",
     "text": [
      "[ 0  2  6 12 20 30 42 56 72]\n",
      "240\n",
      "[1 2 3 4 5 6 7 8 9]\n",
      "[1 2 3 4 5 6 7 8 9]\n",
      "[3 6]\n",
      "[[3]\n",
      " [6]]\n"
     ]
    }
   ],
   "source": [
    "import numpy as np\n",
    "a=np.arange(1,10)\n",
    "b=np.arange(0,9)\n",
    "print(np.multiply(a,b))\n",
    "print(np.dot(a,b))\n",
    "print(a)\n",
    "print(a.T)\n",
    "print(np.sum([[0,1,2],[2,1,3]],axis=1))\n",
    "print(np.sum([[0,1,2],[2,1,3]],axis=1,keepdims=True))\n"
   ]
  },
  {
   "cell_type": "markdown",
   "metadata": {},
   "source": [
    "a=2\n",
    "b=3\n",
    "c=a>b\n",
    "print(c)"
   ]
  },
  {
   "cell_type": "code",
   "execution_count": 6,
   "metadata": {},
   "outputs": [
    {
     "name": "stdout",
     "output_type": "stream",
     "text": [
      "[[1 2 3 4 5 6 7 8]] <class 'numpy.ndarray'>\n",
      "[2]\n"
     ]
    }
   ],
   "source": [
    "a=np.arange(1,9).reshape(1,8)\n",
    "b=np.arange(0,8).reshape(1,8)\n",
    "print(a,type(a))\n",
    "print(a[:,1])\n",
    "# print(a.T)\n",
    "# print(b)\n",
    "# print(b.T)\n",
    "# print(np.multiply(a,b.T))\n",
    "# # np.sum(np.multiply(a.T,b))\n",
    "# # print(np.multiply(a,b.T)-np.multiply(a.T,b))\n",
    "# print(np.dot(a,b.T))\n",
    "# print(np.sum(np.dot(a,b.T)))\n"
   ]
  },
  {
   "cell_type": "code",
   "execution_count": 7,
   "metadata": {},
   "outputs": [
    {
     "name": "stdout",
     "output_type": "stream",
     "text": [
      "[[1 2 3 4]\n",
      " [5 6 7 8]]\n",
      "[10 26]\n",
      "[[10]\n",
      " [26]]\n",
      "[10 26] <class 'numpy.ndarray'>\n",
      "[10 26]\n",
      "<class 'list'>\n"
     ]
    }
   ],
   "source": [
    "a=np.arange(1,9).reshape(2,4)\n",
    "b=np.arange(0,8).reshape(2,4)\n",
    "print(a)\n",
    "# print(np.multiply(a,b.T)-np.multiply(a.T,b))\n",
    "# print(np.multiply(a,b.T)-np.multiply(a.T,b)-a)\n",
    "# print(np.sum(np.multiply(a,b.T)-np.multiply(a.T,b)-a))\n",
    "print(np.sum(a,axis=1))\n",
    "print(np.sum(a,axis=1,keepdims=True))\n",
    "c=np.sum(a,axis=1)\n",
    "print(c,type(c))\n",
    "print(c.T)  \n",
    "d=[10,26]\n",
    "print(type(d))"
   ]
  },
  {
   "cell_type": "code",
   "execution_count": 8,
   "metadata": {},
   "outputs": [
    {
     "name": "stdout",
     "output_type": "stream",
     "text": [
      "[[1 2 3]\n",
      " [3 4 5]\n",
      " [5 6 7]] [[1 2 3]] [[1]\n",
      " [2]\n",
      " [3]] (3, 3) 3 <class 'numpy.ndarray'>\n",
      "[[1 3 5]\n",
      " [2 4 6]\n",
      " [3 5 7]]\n",
      "3 3\n",
      "[3 4 5] 5 [1 2 3] [2 4 6]\n",
      "[[5 6 7]\n",
      " [1 2 3]\n",
      " [5 6 7]]\n",
      "2\n"
     ]
    }
   ],
   "source": [
    "import numpy as np\n",
    "a=np.array([[1,2,3],[3,4,5],[5,6,7]])\n",
    "b=np.mat([1,2,3])\n",
    "print(a,b,b.T,a.shape,len(a),type(a))\n",
    "print(a.T)\n",
    "m,n=a.shape\n",
    "print(m,n)\n",
    "print(a[1],a[1][2],a[0],a[:,1])\n",
    "a[[0,1],:]=a[[2,0],:]\n",
    "print(a)\n",
    "print(np.linalg.matrix_rank(np.mat(a)))"
   ]
  },
  {
   "cell_type": "code",
   "execution_count": 9,
   "metadata": {},
   "outputs": [
    {
     "data": {
      "text/plain": [
       "False"
      ]
     },
     "execution_count": 9,
     "metadata": {},
     "output_type": "execute_result"
    }
   ],
   "source": [
    "a=('N'or'n')\n",
    "b='n'\n",
    "a==b"
   ]
  },
  {
   "cell_type": "code",
   "execution_count": 10,
   "metadata": {},
   "outputs": [
    {
     "name": "stdout",
     "output_type": "stream",
     "text": [
      "0\n",
      "1\n",
      "2\n",
      "3\n",
      "4\n",
      "5\n",
      "6\n",
      "7\n",
      "8\n"
     ]
    }
   ],
   "source": [
    "for i in range(0,9):\n",
    "    print(i)"
   ]
  },
  {
   "cell_type": "code",
   "execution_count": null,
   "metadata": {},
   "outputs": [],
   "source": []
  },
  {
   "cell_type": "code",
   "execution_count": null,
   "metadata": {},
   "outputs": [],
   "source": []
  },
  {
   "cell_type": "code",
   "execution_count": null,
   "metadata": {},
   "outputs": [],
   "source": []
  },
  {
   "cell_type": "markdown",
   "metadata": {},
   "source": [
    "## Type()"
   ]
  },
  {
   "cell_type": "code",
   "execution_count": 11,
   "metadata": {},
   "outputs": [
    {
     "name": "stdout",
     "output_type": "stream",
     "text": [
      "<class 'int'> <class 'float'> <class 'str'> <class 'bool'>\n"
     ]
    }
   ],
   "source": [
    "a=10\n",
    "b=10.0\n",
    "c=\"hello world\"\n",
    "d=True\n",
    "print(type(a),type(b),type(c),type(d))"
   ]
  },
  {
   "cell_type": "code",
   "execution_count": 12,
   "metadata": {},
   "outputs": [
    {
     "name": "stdout",
     "output_type": "stream",
     "text": [
      "<class 'tuple'>\n",
      "<class 'list'>\n",
      "<class 'dict'>\n"
     ]
    }
   ],
   "source": [
    "e=()  #元组\n",
    "f=[]  #列表\n",
    "g={}  #字典\n",
    "print(type(e))\n",
    "print(type(f))\n",
    "print(type(g))\n"
   ]
  },
  {
   "cell_type": "markdown",
   "metadata": {},
   "source": [
    "## 变量名区分大小写"
   ]
  },
  {
   "cell_type": "code",
   "execution_count": 13,
   "metadata": {},
   "outputs": [
    {
     "name": "stdout",
     "output_type": "stream",
     "text": [
      "1 2\n"
     ]
    }
   ],
   "source": [
    "d=1\n",
    "D=2\n",
    "print(d,D)"
   ]
  },
  {
   "cell_type": "markdown",
   "metadata": {},
   "source": [
    "## 算术运算符 可以直接print"
   ]
  },
  {
   "cell_type": "markdown",
   "metadata": {},
   "source": [
    "# + - * / %求余 **指数 //保留整数除法 "
   ]
  },
  {
   "cell_type": "code",
   "execution_count": 14,
   "metadata": {},
   "outputs": [
    {
     "name": "stdout",
     "output_type": "stream",
     "text": [
      "37\n",
      "4\n",
      "21\n",
      "2.3333333333333335\n",
      "2\n",
      "1\n",
      "343\n"
     ]
    }
   ],
   "source": [
    "a=7\n",
    "b=3\n",
    "c=10\n",
    "print(a+b*c)\n",
    "print(a-b)\n",
    "print(a*b)\n",
    "print(a/b)\n",
    "print(a//b)\n",
    "print(a%b)\n",
    "print(a**b)"
   ]
  },
  {
   "cell_type": "markdown",
   "metadata": {},
   "source": [
    "## 比较运算 可以print\n",
    "==等于 !=不等 > >= < <= output Ture(1)orFalse(0)"
   ]
  },
  {
   "cell_type": "code",
   "execution_count": 15,
   "metadata": {},
   "outputs": [
    {
     "name": "stdout",
     "output_type": "stream",
     "text": [
      "False\n",
      "True\n",
      "False\n",
      "True\n"
     ]
    }
   ],
   "source": [
    "a,b=10,5\n",
    "print(a==b)\n",
    "print(a>=b)\n",
    "print(a<=b)\n",
    "print(a!=b)"
   ]
  },
  {
   "cell_type": "markdown",
   "metadata": {},
   "source": [
    "## 逻辑运算 优先级 () -> not -> and -> or \n",
    "and or not  "
   ]
  },
  {
   "cell_type": "code",
   "execution_count": 16,
   "metadata": {},
   "outputs": [
    {
     "name": "stdout",
     "output_type": "stream",
     "text": [
      "False\n",
      "True\n",
      "False\n",
      "False\n",
      "True\n"
     ]
    }
   ],
   "source": [
    "a,b,c,d=23,19,10,5\n",
    "print(a+b>c and c<d)\n",
    "print(a+b>c or c<d)\n",
    "print(not a)\n",
    "print(not a>b)\n",
    "print(not a<b)"
   ]
  },
  {
   "cell_type": "markdown",
   "metadata": {},
   "source": [
    "## 赋值运算符 不能直接print \n",
    "= ， += ，-= ， *= ， /= ， 从左往右"
   ]
  },
  {
   "cell_type": "code",
   "execution_count": 17,
   "metadata": {},
   "outputs": [
    {
     "name": "stdout",
     "output_type": "stream",
     "text": [
      "16\n",
      "13 24389\n"
     ]
    }
   ],
   "source": [
    "a,b,c=10,29,3\n",
    "a+=c\n",
    "b**=c\n",
    "print(a+c)\n",
    "print(a,b)\n"
   ]
  },
  {
   "cell_type": "markdown",
   "metadata": {},
   "source": [
    "## 占位符 %（多个） %单个。等效 {参数索引，不填默认顺序} 加上.format（）\n",
    "%c 单个字符 %s字符串 %i %d有符号十进制 %u无符号十进制 %o八进制 %x十六进制 %e %E索引\n",
    "%f 浮点实数 "
   ]
  },
  {
   "cell_type": "code",
   "execution_count": 18,
   "metadata": {},
   "outputs": [
    {
     "name": "stdout",
     "output_type": "stream",
     "text": [
      "我的名字是周孟航，学号是3210101211,来自S0005\n",
      "我的名字是周孟航，学号是3210101211,来自S0005\n",
      "我的名字是周孟航，学号是3210101211，来自S0005\n"
     ]
    }
   ],
   "source": [
    "name='周孟航'\n",
    "number=3210101211\n",
    "classpro='S0005'\n",
    "print('我的名字是%s，学号是%d,来自%s'%(name,number,classpro)) #占位符\n",
    "print('我的名字是{}，学号是{},来自{}'.format(name,number,classpro)) \n",
    "print('我的名字是{1}，学号是{0}，来自{2}'.format(number,name,classpro))\n",
    "#format 不需要指定数据类型\n"
   ]
  },
  {
   "cell_type": "markdown",
   "metadata": {},
   "source": [
    "## 输入input 都是str类型 转换类型 name=int(input())转整形"
   ]
  },
  {
   "cell_type": "code",
   "execution_count": 19,
   "metadata": {},
   "outputs": [
    {
     "name": "stdin",
     "output_type": "stream",
     "text": [
      "请输入你的姓名 周孟航\n",
      "请输入你的学号 3120101211\n",
      "请输入你的班级 S0005\n"
     ]
    },
    {
     "name": "stdout",
     "output_type": "stream",
     "text": [
      "姓名：周孟航\n",
      "学号：3120101211\n",
      "班级：S0005\n"
     ]
    }
   ],
   "source": [
    "name=input(\"请输入你的姓名\")\n",
    "number=input(\"请输入你的学号\")\n",
    "classpro=input('请输入你的班级')\n",
    "print('姓名：{}'.format(name))\n",
    "print('学号：{}'.format(number))\n",
    "print('班级：{}'.format(classpro))\n"
   ]
  },
  {
   "cell_type": "markdown",
   "metadata": {},
   "source": [
    "## 循环语句\n",
    "选择流程                                             循环流程                                         \n",
    "  1.单分支                                           while 条件表达式:                                                                        \n",
    "     if 条件表达：                                      。。。。。。。                                           \n",
    "        。。。。。。。                               for x ##设的参数  in 可迭代的集合对象: ## x依次赋值集合内的每一个值                                                       \n",
    "  2.双分支                                           break ##退出当前的for或者while循环 continue 进行新的循环                                                               \n",
    "     if 条件表达：                                   range() ## 生成数列                                                                      \n",
    "        。。。。。。。                                                                                                          \n",
    "     else：                                                                                                          \n",
    "        。。。。。。。                                                                                                          \n",
    "  3.多分支                                                                                                          \n",
    "     if 条件表达：                                                                                                          \n",
    "        。。。。。。。                                                                                                          \n",
    "     elif 条件表达：                                                                                                          \n",
    "        。。。。。。。                                                                                                          \n",
    "     elif 条件表达：                                                                                                          \n",
    "        。。。。。。。                                                                                                          \n",
    "     。。。                                                                                                          \n",
    "     else：                                                                                                          \n",
    "条件表达式：比较运算（< > == !=）/逻辑运算符（not and or）/复合运算                                                                                                          "
   ]
  },
  {
   "cell_type": "code",
   "execution_count": 20,
   "metadata": {},
   "outputs": [
    {
     "name": "stdin",
     "output_type": "stream",
     "text": [
      "请输姓名 ZMH\n",
      "请输入学号 3120101211\n",
      "请输班级 5\n",
      "请输入分数 100\n"
     ]
    },
    {
     "name": "stdout",
     "output_type": "stream",
     "text": [
      "姓名：ZMH\n",
      "学号：3120101211\n",
      "班级：5\n",
      "等级：优秀\n"
     ]
    }
   ],
   "source": [
    "name=input(\"请输姓名\")\n",
    "number=input(\"请输入学号\")\n",
    "classpro=input('请输班级')\n",
    "score=int(input('请输入分数'))\n",
    "print('姓名：{}'.format(name))\n",
    "print('学号：{}'.format(number))\n",
    "print('班级：{}'.format(classpro))\n",
    "if score<60:\n",
    "    print('等级：不合格')\n",
    "elif (score>=60) and (score<75):\n",
    "    print('等级：合格')\n",
    "elif (score>=75) and (score<85):\n",
    "    print('等级：良好')\n",
    "else:\n",
    "    print('等级：优秀')\n",
    "    \n"
   ]
  },
  {
   "cell_type": "markdown",
   "metadata": {},
   "source": [
    "## 猜拳"
   ]
  },
  {
   "cell_type": "code",
   "execution_count": 21,
   "metadata": {},
   "outputs": [
    {
     "name": "stdin",
     "output_type": "stream",
     "text": [
      "请出拳：[石头：0，剪刀：1，布：2] 5\n"
     ]
    },
    {
     "name": "stdout",
     "output_type": "stream",
     "text": [
      "you lose\n"
     ]
    }
   ],
   "source": [
    "import random #产生随机数的模块\n",
    "person=int(input('请出拳：[石头：0，剪刀：1，布：2]'))\n",
    "computer=random.randint(0,2)\n",
    "#if person==0 and computer==1:\n",
    "#    print('you win')\n",
    "#elif person==1 and computer==2:\n",
    "#    print('you win')\n",
    "#elif person==2 and computer==0:\n",
    "#    print('you win')\n",
    "if person==0 and computer==1 or person==1 and computer==2 or person==2 and computer==0:\n",
    "    print('you win')\n",
    "elif person==computer:\n",
    "    print('equal')\n",
    "else:\n",
    "    print('you lose')"
   ]
  },
  {
   "cell_type": "markdown",
   "metadata": {},
   "source": [
    "## 猜数字"
   ]
  },
  {
   "cell_type": "code",
   "execution_count": 22,
   "metadata": {},
   "outputs": [
    {
     "name": "stdin",
     "output_type": "stream",
     "text": [
      "请输入数字 8\n"
     ]
    },
    {
     "name": "stdout",
     "output_type": "stream",
     "text": [
      "猜对了\n"
     ]
    }
   ],
   "source": [
    "number=8\n",
    "guessnumber=-1\n",
    "while guessnumber!=number:\n",
    "    guessnumber=int(input('请输入数字'))\n",
    "    if guessnumber>number:\n",
    "        print('猜大了')\n",
    "        continue\n",
    "    elif guessnumber<number:\n",
    "        print('猜小了')\n",
    "        continue\n",
    "    else:\n",
    "        break\n",
    "print('猜对了')"
   ]
  },
  {
   "cell_type": "code",
   "execution_count": 23,
   "metadata": {},
   "outputs": [
    {
     "name": "stdout",
     "output_type": "stream",
     "text": [
      "1*1=1 \n",
      "2*1=2 2*2=4 \n",
      "3*1=3 3*2=6 3*3=9 \n",
      "4*1=4 4*2=8 4*3=12 4*4=16 \n",
      "5*1=5 5*2=10 5*3=15 5*4=20 5*5=25 \n",
      "6*1=6 6*2=12 6*3=18 6*4=24 6*5=30 6*6=36 \n",
      "7*1=7 7*2=14 7*3=21 7*4=28 7*5=35 7*6=42 7*7=49 \n",
      "8*1=8 8*2=16 8*3=24 8*4=32 8*5=40 8*6=48 8*7=56 8*8=64 \n",
      "9*1=9 9*2=18 9*3=27 9*4=36 9*5=45 9*6=54 9*7=63 9*8=72 9*9=81 \n"
     ]
    }
   ],
   "source": [
    "row=1\n",
    "while row<=9:\n",
    "    col=1\n",
    "    while col<=row:\n",
    "        print('%d*%d=%d'%(row,col,row*col),end=' ')\n",
    "        col+=1\n",
    "    print( )\n",
    "    row+=1\n",
    "    "
   ]
  },
  {
   "cell_type": "code",
   "execution_count": 24,
   "metadata": {},
   "outputs": [
    {
     "name": "stdout",
     "output_type": "stream",
     "text": [
      "1*9=9 2*9=18 3*9=27 4*9=36 5*9=45 6*9=54 7*9=63 8*9=72 9*9=81 \n",
      "1*8=8 2*8=16 3*8=24 4*8=32 5*8=40 6*8=48 7*8=56 8*8=64 \n",
      "1*7=7 2*7=14 3*7=21 4*7=28 5*7=35 6*7=42 7*7=49 \n",
      "1*6=6 2*6=12 3*6=18 4*6=24 5*6=30 6*6=36 \n",
      "1*5=5 2*5=10 3*5=15 4*5=20 5*5=25 \n",
      "1*4=4 2*4=8 3*4=12 4*4=16 \n",
      "1*3=3 2*3=6 3*3=9 \n",
      "1*2=2 2*2=4 \n",
      "1*1=1 \n"
     ]
    }
   ],
   "source": [
    "row=9\n",
    "while row>=1:\n",
    "    col=1\n",
    "    while col<=row:\n",
    "        print('%d*%d=%d'%(col,row,row*col),end=' ')\n",
    "        col+=1\n",
    "    print()\n",
    "    row-=1"
   ]
  },
  {
   "cell_type": "code",
   "execution_count": 25,
   "metadata": {},
   "outputs": [
    {
     "name": "stdout",
     "output_type": "stream",
     "text": [
      "    *\n",
      "   ***\n",
      "  *****\n",
      " *******\n",
      "*********\n"
     ]
    }
   ],
   "source": [
    "row=1\n",
    "while row<=5:\n",
    "    j=1\n",
    "    while j<=5-row:\n",
    "        print(' ',end='')\n",
    "        j+=1\n",
    "    k=1\n",
    "    while k<=2*row-1:\n",
    "        print('*',end='')\n",
    "        k+=1\n",
    "    row+=1\n",
    "    print()"
   ]
  },
  {
   "cell_type": "markdown",
   "metadata": {},
   "source": [
    "## 猜年龄\n",
    "#### 退出循环 break 或者 使判断条件不成立\n",
    "#### 多层嵌套循环时\n",
    "#### 1while a:\n",
    "####     2while b:\n",
    "####          if :\n",
    "####             break 退出2while 继续进行 1while循环\n",
    "####          else:\n",
    "####             改变a的条件\n",
    "####             break       从而可以退出2while和1while "
   ]
  },
  {
   "cell_type": "code",
   "execution_count": 26,
   "metadata": {},
   "outputs": [
    {
     "name": "stdin",
     "output_type": "stream",
     "text": [
      "请输入目标年龄： 45\n",
      "请输入猜测年龄 56\n"
     ]
    },
    {
     "name": "stdout",
     "output_type": "stream",
     "text": [
      "不好意思，猜大了。\n"
     ]
    },
    {
     "name": "stdin",
     "output_type": "stream",
     "text": [
      "请输入猜测年龄 49\n"
     ]
    },
    {
     "name": "stdout",
     "output_type": "stream",
     "text": [
      "不好意思，猜大了。\n"
     ]
    },
    {
     "name": "stdin",
     "output_type": "stream",
     "text": [
      "请输入猜测年龄 45\n"
     ]
    },
    {
     "name": "stdout",
     "output_type": "stream",
     "text": [
      "真聪明！猜对了！\n"
     ]
    }
   ],
   "source": [
    "target_age=int(input('请输入目标年龄：'))\n",
    "i=0\n",
    "while i<=2:\n",
    "    guess_age=int(input('请输入猜测年龄'))\n",
    "    if guess_age==target_age:\n",
    "        print('真聪明！猜对了！')\n",
    "        break\n",
    "    else:\n",
    "        \n",
    "        if guess_age<target_age:\n",
    "            print('不好意思，猜小了。')\n",
    "            i+=1\n",
    "        else:\n",
    "            print('不好意思，猜大了。')\n",
    "            i+=1\n",
    "        while i==3:\n",
    "            choice=input('是否愿意继续游戏，请输入Y/y or N/n:')\n",
    "            if choice!='Y' and choice!='N' and choice!='y' and choice!='n':\n",
    "                print('输入错误请重新输入')\n",
    "                continue\n",
    "            else:\n",
    "                if choice=='Y' or choice=='y':\n",
    "                    i=0\n",
    "                    break\n",
    "                elif choice=='N' or choice=='n':\n",
    "                    print('游戏结束')\n",
    "                    i=3\n",
    "                    break\n",
    "        continue\n",
    "        \n",
    "\n"
   ]
  },
  {
   "cell_type": "markdown",
   "metadata": {},
   "source": [
    "## 字符串操作\n",
    "#### 0 为左边第一个  -1 为右边第一个 + 向右 - 向左 id(a) 可以查看a的内存地址\n",
    "#### 切片：截取字符串中的一部分内容 [起始下标:截至下标:步长][start:end:step]"
   ]
  },
  {
   "cell_type": "markdown",
   "metadata": {},
   "source": [
    "### str.capitalize():str首字母变大写； .endswith/startswith(x):是否x结束/开始； .find(x):检查x是否在字符串中在哪，返回下标值，没有返回-1，约等于.index(),区别在找不到报错;str.strip():去除str中的空格 str.lstrip()左删除空格 str.rstrip()右；.lower()变小写；,upper()变大写；"
   ]
  },
  {
   "cell_type": "code",
   "execution_count": 27,
   "metadata": {},
   "outputs": [
    {
     "name": "stdout",
     "output_type": "stream",
     "text": [
      "pytho n Pytho n \n",
      "pytho n\n",
      "2\n",
      "1761133465840\n",
      "pytho  n ohtyp pytho n  <class 'str'> True\n"
     ]
    }
   ],
   "source": [
    "test='pytho n '\n",
    "test[0]\n",
    "for i in test:\n",
    "    print(i,end='')\n",
    "a=test.capitalize()\n",
    "print(a)\n",
    "print(test.strip())\n",
    "print(test.find('t'))\n",
    "print(id(a))\n",
    "print(test[0:-3],test[::-1],test[::],type(test),test.startswith('p'))"
   ]
  },
  {
   "cell_type": "markdown",
   "metadata": {},
   "source": [
    "## list:支持增删改查，数据可以变化，内存地址不变，数据项可以是任何类型的数据，[]\n",
    "### .append(一次只能添加一个数据或者列表) count extend(不能添加数字) index(位置，'数据') insert .pop(移除指定位置元素)类似于del list[]; remove(删除指定元素) reverse sort ;del list[::]删除下标元素或者范围元素；"
   ]
  },
  {
   "cell_type": "code",
   "execution_count": 28,
   "metadata": {},
   "outputs": [
    {
     "name": "stdout",
     "output_type": "stream",
     "text": [
      "<class 'list'> 4 1\n",
      "1 [1, 23, 'hello'] [(1, 3, 2), 'hello', 23, 1] [1, 23, 'hello', (1, 3, 2), 1, 23, 'hello', (1, 3, 2), 1, 23, 'hello', (1, 3, 2)]\n",
      "[1, 23, 'hello', (1, 3, 2), 'zmh', 12, 'e', 'e', 'e', 'e', 'e', 'e']\n",
      "[0, 1, 2, 3, 4, 5, 6, 7, 8, 9] <class 'list'>\n",
      "[23, 'hello', (1, 3, 2), 'zmh', 12, 'e', 'e', 'e', 'e', 'e', 'e'] [1, 2, 5, 6, 7, 8, 9]\n",
      "4 7 6\n"
     ]
    }
   ],
   "source": [
    "li=[1,23,'hello',(1,3,2)]\n",
    "print(type(li),len(li),li[0])\n",
    "print(li.index(23),li[:3],li[::-1],3*li)\n",
    "li.append('zmh')\n",
    "li.append(12)\n",
    "li.extend('eeeeee')\n",
    "li.extend([ ])\n",
    "print(li)\n",
    "b=list(range(10))\n",
    "print(b,type(b))\n",
    "li.remove(1)\n",
    "del b[0]\n",
    "del b[2:4]\n",
    "print(li,b)\n",
    "print(b.index(7),len(b),b[3])\n"
   ]
  },
  {
   "cell_type": "markdown",
   "metadata": {},
   "source": [
    "## tuple元组（） 只有一个元素时 要加， 只能查找 不能修改！可以对元组中的list进行修改 tuple(A)强制转换A为tuple tuple.count(x)查找x出现的次数"
   ]
  },
  {
   "cell_type": "code",
   "execution_count": 29,
   "metadata": {},
   "outputs": [
    {
     "name": "stdout",
     "output_type": "stream",
     "text": [
      "(123, 23, [1, 2, 3])\n",
      "[2, 2, 3] (123, 23, [2, 2, 3]) <class 'tuple'>\n",
      "1\n",
      "<class 'tuple'> <class 'int'>\n",
      "(123,) 3 [132, 'hello', '01'] ([132, 'hello', '01'], 123, 'asdf')\n"
     ]
    }
   ],
   "source": [
    "tuple1=('asdf',123,[132,'hello','01'])\n",
    "list1=[1,2,3]\n",
    "tuple2=(123,23,list1)\n",
    "print(tuple2)\n",
    "list1[0]=2\n",
    "tuple2=(123,23,list1)\n",
    "print(list1,tuple2,type(tuple2))\n",
    "print(tuple2.count(123))\n",
    "tuple3=(1,)\n",
    "tuple4=(1)\n",
    "print(type(tuple3),type(4))\n",
    "# print(tuple1)\n",
    "print(tuple1[1:2],len(tuple1),tuple1[-1],tuple1[::-1])\n",
    "# print(tuple1[0::2],tuple1[::-2])\n",
    "# print(id(turple1))"
   ]
  },
  {
   "cell_type": "markdown",
   "metadata": {},
   "source": [
    "## 字典dictionary dict[键]=键值 无序 无下标{键值集合} 内置的高级数据类型 键是不可变的类型[元组、字符串] 值可以是任意类型 键是唯一的 相同后面会覆盖前面 dict[]通过键可以得到键的值.keys()获取键 .values()获取值 .items()获取键值对\n",
    "## for key,value in dict.items(): 逐条获取键值对  dict.update({'键':'键值}) 添加或更新键值对  sorted(dict.items(),key=lambda d:d[0/1])； del dict[键]=dict.pop(键)删除指定键 ；"
   ]
  },
  {
   "cell_type": "code",
   "execution_count": 30,
   "metadata": {},
   "outputs": [
    {
     "name": "stdout",
     "output_type": "stream",
     "text": [
      "zmh\n",
      "{'pro': 'machanical', 'year': 2020, 'name': 'zmh', 'age': 22, 'class': 5}\n",
      "pro\n",
      "year\n",
      "name\n",
      "age\n",
      "class\n",
      "pro\n",
      "year\n",
      "name\n",
      "age\n",
      "class\n",
      "[('age', 22), ('class', 5), ('name', 'zmh'), ('pro', 'machanical'), ('year', 2020)]\n"
     ]
    }
   ],
   "source": [
    "dict1={'pro':'machanical','year':2020}\n",
    "dict1['name']='zmh'\n",
    "dict1['age']=22\n",
    "dict1['class']=5\n",
    "# print(len(dict1),dict1)\n",
    "print(dict1['name'])\n",
    "# dict1['name']='wzw'\n",
    "# print(dict1['name'])\n",
    "print(dict1)\n",
    "for i in dict1:\n",
    "    print(i)\n",
    "for i in dict1.keys():\n",
    "    print(i)\n",
    "# print(dict1.keys(),dict1.values(),dict1.items())\n",
    "# for key,value in dict1.items():\n",
    "#     print('{}={}'.format(key,value))\n",
    "# print(dict1)\n",
    "# print(dict1.update({'pro':'mechanical'}))\n",
    "print(sorted(dict1.items(),key=lambda d:d[0]))\n",
    "\n"
   ]
  },
  {
   "cell_type": "code",
   "execution_count": 31,
   "metadata": {},
   "outputs": [
    {
     "data": {
      "text/plain": [
       "'D:\\\\acondana3\\\\envs\\\\pytorch10\\\\python.exe'"
      ]
     },
     "execution_count": 31,
     "metadata": {},
     "output_type": "execute_result"
    }
   ],
   "source": [
    "import sys\n",
    "sys.executable"
   ]
  },
  {
   "cell_type": "code",
   "execution_count": 32,
   "metadata": {},
   "outputs": [
    {
     "name": "stdout",
     "output_type": "stream",
     "text": [
      "['D:\\\\acondana3\\\\envs\\\\pytorch10\\\\lib\\\\site-packages\\\\ipykernel_launcher.py', '-f', 'C:\\\\Users\\\\saba\\\\AppData\\\\Roaming\\\\jupyter\\\\runtime\\\\kernel-23251e80-54f0-4e64-b4a9-714a28d9d230.json']\n",
      "D:\\acondana3\\envs\\pytorch10\\lib\\site-packages\\ipykernel_launcher.py\n",
      "-f\n",
      "C:\\Users\\saba\\AppData\\Roaming\\jupyter\\runtime\\kernel-23251e80-54f0-4e64-b4a9-714a28d9d230.json\n"
     ]
    }
   ],
   "source": [
    "print(sys.argv) ##命令参数\n",
    "for i in sys.argv:\n",
    "    print(i)"
   ]
  },
  {
   "cell_type": "markdown",
   "metadata": {},
   "source": [
    "## 可变关键字  \n",
    "(*args) 函数传入元组数据 (**kwargs) 传入字典数据 "
   ]
  },
  {
   "cell_type": "code",
   "execution_count": 33,
   "metadata": {},
   "outputs": [
    {
     "name": "stdout",
     "output_type": "stream",
     "text": [
      "1.0 12 45 (1.0, 12, 45) <class 'tuple'>\n",
      "58.0\n"
     ]
    }
   ],
   "source": [
    "def num_sum(*args): ## *args 表示传一段元组数据给函数,只能是元组\n",
    "    result=0\n",
    "    print(*args,args,type(args))\n",
    "    for item in args:\n",
    "        result+=item\n",
    "        pass\n",
    "    return result\n",
    "rs=num_sum(1.,12,45)\n",
    "print(rs)\n",
    "    "
   ]
  },
  {
   "cell_type": "code",
   "execution_count": 34,
   "metadata": {},
   "outputs": [
    {
     "name": "stdout",
     "output_type": "stream",
     "text": [
      "6 32.0 [12.0, 32.0, 4.0, 51.0, 56.0, 2.0]\n",
      "[12.0, 4.0, 56.0]\n",
      "20 11 (10, 11, 12, 13, 14, 15, 16, 17, 18, 19, 20, 21, 22, 23, 24, 25, 26, 27, 28, 29)\n",
      "[10, 12, 14, 16, 18, 20, 22, 24, 26, 28]\n",
      "<class 'range'>\n"
     ]
    }
   ],
   "source": [
    "def process_func(con):\n",
    "    new_list=[]\n",
    "    print(len(con),con[1],con)\n",
    "    \n",
    "    for i in range(len(con)):\n",
    "        if i%2==0:\n",
    "            new_list.append(con[i])\n",
    "            pass\n",
    "    return new_list\n",
    "rs=process_func([12.,32.,4.,51.,56.,2.])\n",
    "print(rs)\n",
    "rs1=process_func(tuple(range(10,30)))\n",
    "print(rs1)\n",
    "print(type(range(10,12)))"
   ]
  },
  {
   "cell_type": "code",
   "execution_count": 35,
   "metadata": {},
   "outputs": [
    {
     "name": "stdout",
     "output_type": "stream",
     "text": [
      "{'name': 'zmh', 'Class': 's0005', 'age': '22', 'pro': 'mechanical'} name Class age pro dict_keys(['name', 'Class', 'age', 'pro']) dict_values(['zmh', 's0005', '22', 'mechanical'])\n",
      "['zm', 's0', '22', 'me']\n"
     ]
    }
   ],
   "source": [
    "def dict_func(**kwargs): #用**kwargs 读取传入的字典参数 key=values的形式 kwargs=dict\n",
    "    list_new=[]\n",
    "    print(kwargs,*kwargs,kwargs.keys(),kwargs.values())\n",
    "    for i in kwargs.values():\n",
    "        if len(i)>2:\n",
    "            i=i[0:2]\n",
    "            list_new.append(i)\n",
    "        else:\n",
    "            list_new.append(i)\n",
    "    return list_new\n",
    "rs=dict_func(name='zmh',Class='s0005',age='22',pro='mechanical')\n",
    "print(rs)"
   ]
  },
  {
   "cell_type": "code",
   "execution_count": 36,
   "metadata": {},
   "outputs": [
    {
     "name": "stdout",
     "output_type": "stream",
     "text": [
      "{'name': 'zmh', 'Class': 's0005', 'age': '22', 'pro': 'mechanical'} dict_keys(['name', 'Class', 'age', 'pro']) dict_values(['zmh', 's0005', '22', 'mechanical'])\n",
      "['zm', 's0', '22', 'me']\n"
     ]
    }
   ],
   "source": [
    "def dic_func1(dict): ## 用dict 读取 （）内 dict1的数据 dict=dict1\n",
    "    list_new=[]\n",
    "    print(dict,dict.keys(),dict.values())\n",
    "    for i in dict.values():\n",
    "        if len(i)>2:\n",
    "            i=i[:2]\n",
    "            list_new.append(i)\n",
    "        else:\n",
    "            list_new.append(i)\n",
    "            pass\n",
    "        pass\n",
    "    return list_new\n",
    "m=lambda dict:dic_func1(dict)  ## 可以用lambda 参数，参数：参数的运算结果 来表示匿名函数\n",
    "dict1={'name': 'zmh', 'Class': 's0005', 'age': '22', 'pro': 'mechanical'}\n",
    "rs=m(dict1)\n",
    "print(rs)        "
   ]
  },
  {
   "cell_type": "markdown",
   "metadata": {},
   "source": [
    "## Guassian elimination"
   ]
  },
  {
   "cell_type": "code",
   "execution_count": 37,
   "metadata": {},
   "outputs": [
    {
     "name": "stdout",
     "output_type": "stream",
     "text": [
      "[[1. 0. 0.]\n",
      " [0. 1. 0.]\n",
      " [0. 0. 1.]] [[1. 2. 0.]\n",
      " [0. 1. 2.]\n",
      " [1. 2. 1.]]\n",
      "将矩阵进行LU分解，L=[[ 0.  0.  1.]\n",
      " [ 0.  1.  0.]\n",
      " [ 1.  0. -1.]],U=[[ 1.  2.  1.]\n",
      " [ 0.  1.  2.]\n",
      " [ 0.  0. -1.]]\n",
      "化为单位阵[[ 1.  0.  0. -1.]\n",
      " [ 0.  1.  0.  2.]\n",
      " [-0. -0.  1. -0.]],行变换矩阵为[[-3. -2.  4.]\n",
      " [ 2.  1. -2.]\n",
      " [-1. -0.  1.]]\n",
      "此方程的解X=[[-1.]\n",
      " [ 2.]\n",
      " [-0.]]\n",
      "计算次数为7\n"
     ]
    }
   ],
   "source": [
    "import numpy as np\n",
    "def swap(A,b,m,n,E,k,count): ##做列主元交换\n",
    "    max_k=0\n",
    "    for i in range(k,m):    ##找出列最大主元\n",
    "        if max_k<=abs(A[i][k]):\n",
    "            max_k=abs(A[i][k])\n",
    "            max_num=i\n",
    "    count+=1\n",
    "    A[[k,max_num],:]=A[[max_num,k],:]##交换\n",
    "    b[k],b[max_num]=b[max_num],b[k]\n",
    "    E[[k,max_num],:]=E[[max_num,k],:]\n",
    "    \n",
    "def gaussian(A,b,m,n,E,X):\n",
    "    count=0\n",
    "    c=np.c_[A,b]\n",
    "    if np.linalg.matrix_rank(A)==np.linalg.matrix_rank(c) and np.linalg.matrix_rank(A)==n:##判断有唯一解\n",
    "        for k in range(n): ##按列消元\n",
    "            swap(A,b,m,n,E,k,count)               \n",
    "            for i in range(k+1,m):##每列的消元过程\n",
    "                if A[i][k]!=0:    ## 如果元素为0，则不需要消元\n",
    "                    count+=1\n",
    "                    num_1=A[i][k]/A[k][k]\n",
    "                    A[i]-=num_1*A[k]\n",
    "                    b[i]-=num_1*b[k]\n",
    "                    E[i]-=num_1*E[k]\n",
    "                else:\n",
    "                    continue\n",
    "        print('将矩阵进行LU分解，L={},U={}'.format(E,A))   ##输出上三角矩阵 LU分解 L=E,U=A\n",
    "\n",
    "        for j in range(0,m):##主对角线变为1\n",
    "            count+=1\n",
    "            num_2=A[j][j]\n",
    "            A[j]/=num_2\n",
    "            b[j]/=num_2\n",
    "            E[j]/=num_2\n",
    "#         print(np.c_[A,b])\n",
    "#         print(E)\n",
    "        while k>=1:\n",
    "            for z in range(0,k):##输出单位阵 \n",
    "                count+=1\n",
    "                num_3=A[z][k]\n",
    "                A[z]-=num_3*A[k]\n",
    "                b[z]-=num_3*b[k]\n",
    "                E[z]-=num_3*E[k]\n",
    "            k-=1\n",
    "#         back(A,b,k)\n",
    "        print('化为单位阵{},行变换矩阵为{}'.format(np.c_[A,b],E))\n",
    "        print('此方程的解X={}'.format(b))\n",
    "        print('计算次数为%d'%(count))\n",
    "            \n",
    "    elif np.linalg.matrix_rank(A)==np.linalg.matrix_rank(c) and np.linalg.matrix_rank(A)<n:\n",
    "        print('此方程有无数个解')\n",
    "    else:\n",
    "        print('此方程无解')\n",
    "        \n",
    "A=np.array([[1,2,0,],[0,1,2],[1,2,1]])    #  A=np.array([[1.,2.,0.,],[0.,1.,2.],[1.,2.,1.]])##注意不同类型的数据不能进行运算 float和int A.astype(int/float) 可以改变array/matrix/mat的数据类型\n",
    "A=A.astype(np.float)  ## 把A的数据转换为浮点型\n",
    "b = np.mat([1.,2.,3.]).T\n",
    "m,n=A.shape\n",
    "E=np.eye(m)\n",
    "X=np.zeros(shape=(m,1))\n",
    "print(E,A)\n",
    "# E=np.eye(n)\n",
    "gaussian(A,b,m,n,E,X)"
   ]
  },
  {
   "cell_type": "code",
   "execution_count": 38,
   "metadata": {},
   "outputs": [
    {
     "name": "stdout",
     "output_type": "stream",
     "text": [
      "[['x']\n",
      " ['x']\n",
      " ['x']\n",
      " ['x']\n",
      " ['x']\n",
      " ['x']]\n"
     ]
    }
   ],
   "source": [
    "import numpy as np\n",
    "m=6\n",
    "a=np.zeros(shape=(m,1))\n",
    "a=a.astype(np.str)\n",
    "for i in range(m):\n",
    "    a[i]='x'\n",
    "print(a)\n"
   ]
  },
  {
   "cell_type": "code",
   "execution_count": 39,
   "metadata": {},
   "outputs": [
    {
     "name": "stdout",
     "output_type": "stream",
     "text": [
      "0\n",
      "1\n",
      "2\n",
      "3\n",
      "4\n"
     ]
    }
   ],
   "source": [
    "for i in range(5):\n",
    "    print(i)"
   ]
  },
  {
   "cell_type": "code",
   "execution_count": 40,
   "metadata": {},
   "outputs": [
    {
     "ename": "ModuleNotFoundError",
     "evalue": "No module named 'tensorflow'",
     "output_type": "error",
     "traceback": [
      "\u001b[1;31m---------------------------------------------------------------------------\u001b[0m",
      "\u001b[1;31mModuleNotFoundError\u001b[0m                       Traceback (most recent call last)",
      "\u001b[1;32m<ipython-input-40-8fb09196d1bd>\u001b[0m in \u001b[0;36m<module>\u001b[1;34m\u001b[0m\n\u001b[0;32m      2\u001b[0m \u001b[1;33m\u001b[0m\u001b[0m\n\u001b[0;32m      3\u001b[0m \u001b[1;33m\u001b[0m\u001b[0m\n\u001b[1;32m----> 4\u001b[1;33m \u001b[1;32mimport\u001b[0m \u001b[0mtensorflow\u001b[0m \u001b[1;32mas\u001b[0m \u001b[0mtf\u001b[0m\u001b[1;33m\u001b[0m\u001b[1;33m\u001b[0m\u001b[0m\n\u001b[0m\u001b[0;32m      5\u001b[0m \u001b[0mtf\u001b[0m\u001b[1;33m.\u001b[0m\u001b[0mcompat\u001b[0m\u001b[1;33m.\u001b[0m\u001b[0mv1\u001b[0m\u001b[1;33m.\u001b[0m\u001b[0mdisable_eager_execution\u001b[0m\u001b[1;33m(\u001b[0m\u001b[1;33m)\u001b[0m\u001b[1;33m\u001b[0m\u001b[1;33m\u001b[0m\u001b[0m\n\u001b[0;32m      6\u001b[0m \u001b[1;33m\u001b[0m\u001b[0m\n",
      "\u001b[1;31mModuleNotFoundError\u001b[0m: No module named 'tensorflow'"
     ]
    }
   ],
   "source": [
    "#coding=utf-8 ## 测试tensorflow2.0是否安装成功\n",
    "\n",
    "\n",
    "import tensorflow as tf\n",
    "tf.compat.v1.disable_eager_execution()\n",
    "\n",
    "import numpy as np\n",
    "\n",
    "hello=tf.constant('hello,tf')\n",
    "\n",
    "sess=tf.compat.v1.Session()\n",
    "\n",
    "print (sess.run(hello))"
   ]
  },
  {
   "cell_type": "markdown",
   "metadata": {},
   "source": [
    " ## 判断 匿名函数 m=lambda x,y,z:参数运算输出  定义+调用 m=(lambda x,y,z:输出)（a，b，c）abc为输入参数"
   ]
  },
  {
   "cell_type": "code",
   "execution_count": 41,
   "metadata": {},
   "outputs": [
    {
     "name": "stdout",
     "output_type": "stream",
     "text": [
      "可以参军了\n",
      "19\n",
      "19\n"
     ]
    }
   ],
   "source": [
    "age=19\n",
    "print('可以参军了' if age>=18 else '未成年不可以参军 ')\n",
    "functest=lambda x,y:x if x>=y else y ##取较大值\n",
    "print(functest(19,18))\n",
    "m=(lambda x,y:x if x>=y else y)(19,18)\n",
    "print(m)"
   ]
  },
  {
   "cell_type": "markdown",
   "metadata": {},
   "source": [
    "## 递归函数 调用自身函数 必须要有一个结束标志 求阶乘 迭代 树形结构的遍历\n",
    "## 容易内存栈溢出\n"
   ]
  },
  {
   "cell_type": "code",
   "execution_count": 42,
   "metadata": {},
   "outputs": [
    {
     "name": "stdout",
     "output_type": "stream",
     "text": [
      "362880\n"
     ]
    }
   ],
   "source": [
    "m=1\n",
    "for i in range(1,10):\n",
    "    m*=i\n",
    "print(m)"
   ]
  },
  {
   "cell_type": "markdown",
   "metadata": {},
   "source": [
    "## 阶乘"
   ]
  },
  {
   "cell_type": "code",
   "execution_count": 44,
   "metadata": {},
   "outputs": [
    {
     "name": "stdin",
     "output_type": "stream",
     "text": [
      " 5\n"
     ]
    },
    {
     "name": "stdout",
     "output_type": "stream",
     "text": [
      "120\n"
     ]
    }
   ],
   "source": [
    "def factorial(n):\n",
    "    if n==1:\n",
    "        return 1\n",
    "    else:\n",
    "        return n*factorial(n-1)\n",
    "    pass\n",
    "B=int(input())\n",
    "a=factorial(B)\n",
    "print(a)"
   ]
  },
  {
   "cell_type": "code",
   "execution_count": 45,
   "metadata": {},
   "outputs": [
    {
     "name": "stdout",
     "output_type": "stream",
     "text": [
      "attention-guided CNN.pdf\n",
      "batch renomalization CNN.pdf\n",
      "coarse-to-findCNN.pdf\n",
      "Deep Learning onImage Denoising An Overview.pdf\n",
      "deeplearning_papers.zip\n",
      "enhancedCNN.pdf\n",
      "LISRCNN.pdf\n",
      "Multi-object evolutionary design og deep convolutional neural networks for image classification.pdf\n",
      "surrogate-assisted evolutionary deep learning ysing an end-to-end random forest-based performance predict.pdf\n"
     ]
    }
   ],
   "source": [
    "## 树形结构遍历\n",
    "import os ##引入文件操作模块\n",
    "def findfile(file_path):\n",
    "    listrs=os.listdir(file_path)  ##得到file_path路径下的所有文件/夹 \n",
    "    for fileitem in listrs:\n",
    "        full_path=os.path.join(file_path,fileitem) # 遍历获取 file_path路径下的所有文件文件夹的完整路径\n",
    "        if os.path.isdir(full_path): ## 判断得到的full_path是不是dir文件夹\n",
    "            findfile(full_path)\n",
    "            pass\n",
    "        else:\n",
    "            print(fileitem)\n",
    "            pass\n",
    "        pass\n",
    "findfile('C:\\\\Users\\\\saba\\\\Desktop\\\\deeplearning_papers')"
   ]
  },
  {
   "cell_type": "markdown",
   "metadata": {},
   "source": [
    "## 错误处理 Exception 可以捕获所有异常类型 import builtins ;dir(builtins)所有错误类型 "
   ]
  },
  {
   "cell_type": "code",
   "execution_count": null,
   "metadata": {},
   "outputs": [],
   "source": [
    "try:\n",
    "        ## 可能出现的代码块\n",
    "except:\n",
    "    ##出错后执行的代码块\n",
    "else:\n",
    "    ## 没有出错的代码块\n",
    "finally:\n",
    "    ## 不管有无错误都执行的代码块"
   ]
  },
  {
   "cell_type": "code",
   "execution_count": null,
   "metadata": {},
   "outputs": [],
   "source": [
    "try:  ## catch different type error code\n",
    "    list1=[1,23,45,2]\n",
    "    print(list1[10])\n",
    "    print(b)##catch code that may go worng\n",
    "    print(1/0)\n",
    "    pass\n",
    "# except IndexError as msg:\n",
    "#     print(msg)\n",
    "#     pass\n",
    "# except NameError as msg:  ##possible error\n",
    "#     #process error code\n",
    "#     print(msg)\n",
    "#     pass\n",
    "except Exception as result:\n",
    "#     print(result)\n",
    "\n",
    "print(1+2)"
   ]
  },
  {
   "cell_type": "code",
   "execution_count": null,
   "metadata": {},
   "outputs": [],
   "source": [
    "import Exceptions\n",
    "print(dir(Exceptions))"
   ]
  },
  {
   "cell_type": "code",
   "execution_count": null,
   "metadata": {},
   "outputs": [],
   "source": [
    "a=(1,23,4)\n",
    "print(type(a))\n",
    "a=list(a)\n",
    "print(type(a))\n",
    "a=tuple(a)\n",
    "print(type(a))\n",
    "a=str(a)\n",
    "print(type(a))"
   ]
  },
  {
   "cell_type": "markdown",
   "metadata": {},
   "source": [
    "## I/O操作 文件操作 默认编码gbk 中文编码 mode-'w' 每次写入会覆盖原文件 'a'追加数据 'w''a'写入时 是str类型 'wb''ab'写入时是bytes 需要加.encode(\"utf-8\")"
   ]
  },
  {
   "cell_type": "code",
   "execution_count": null,
   "metadata": {},
   "outputs": [],
   "source": [
    "a=open('sample1.txt','a')  ##打开文件 mode w\n",
    "a.write('i write somthing\\n')\n",
    "a.write('i')\n",
    "a.close()"
   ]
  },
  {
   "cell_type": "markdown",
   "metadata": {},
   "source": [
    "## 读取 f.read(n)读n个字符 f.readlines(m)逐行读取读前m行 f.readline()读一行"
   ]
  },
  {
   "cell_type": "code",
   "execution_count": null,
   "metadata": {},
   "outputs": [],
   "source": [
    "f=open('sample1.txt','rb')\n",
    "#print(f.read()) ##光标移动到末尾\n",
    "# print(f.read(12)) ## 光标以后读12个字符\n",
    "# print(f.readlines(2))\n",
    "# print(f.readlines(1))\n",
    "data=f.read()\n",
    "print(data)\n",
    "print(data.decode('gbk'))  ##带b的时候都要编码或者解码读出 写str.encode('utf-8')编码为bytes写入 读用gbk将bytes解码读出\n",
    "f.close()"
   ]
  },
  {
   "cell_type": "markdown",
   "metadata": {},
   "source": [
    "## 用with自动关闭对象  with open('file','mode',encoding='utf-8')  as f: ##f为变量名"
   ]
  },
  {
   "cell_type": "code",
   "execution_count": null,
   "metadata": {},
   "outputs": [],
   "source": [
    "with open('sample1.txt','w',encoding='gb18030',errors='ignore') as f:\n",
    "    data=f.read()\n",
    "    print(data)"
   ]
  },
  {
   "cell_type": "markdown",
   "metadata": {},
   "source": [
    "## matplotlib"
   ]
  },
  {
   "cell_type": "code",
   "execution_count": null,
   "metadata": {},
   "outputs": [],
   "source": [
    "import matplotlib.pyplot as plt \n",
    "import numpy as np\n",
    "X=np.linspace(-np.pi,np.pi,256,endpoint=True) ##X为一个数组 np.linspace(start,stop,等间隔取点数，endpoint=Ture##取最后一个点默认Ture,retstep=Ture#输出步长)\n",
    "C,S=np.cos(X),np.sin(X)\n",
    "plt.plot(X,C)\n",
    "plt.plot(X,S)"
   ]
  },
  {
   "cell_type": "code",
   "execution_count": null,
   "metadata": {},
   "outputs": [],
   "source": []
  }
 ],
 "metadata": {
  "kernelspec": {
   "display_name": "Python 3",
   "language": "python",
   "name": "python3"
  },
  "language_info": {
   "codemirror_mode": {
    "name": "ipython",
    "version": 3
   },
   "file_extension": ".py",
   "mimetype": "text/x-python",
   "name": "python",
   "nbconvert_exporter": "python",
   "pygments_lexer": "ipython3",
   "version": "3.8.5"
  }
 },
 "nbformat": 4,
 "nbformat_minor": 4
}
