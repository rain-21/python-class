{
 "cells": [
  {
   "cell_type": "code",
   "execution_count": 1,
   "metadata": {},
   "outputs": [
    {
     "name": "stdout",
     "output_type": "stream",
     "text": [
      "hello world!\n"
     ]
    }
   ],
   "source": [
    "print ('hello world!')"
   ]
  },
  {
   "cell_type": "code",
   "execution_count": 2,
   "metadata": {},
   "outputs": [
    {
     "name": "stdout",
     "output_type": "stream",
     "text": [
      "i'd much rather you 'not'\n"
     ]
    }
   ],
   "source": [
    "print (\"i'd much rather you 'not'\")"
   ]
  },
  {
   "cell_type": "code",
   "execution_count": 3,
   "metadata": {},
   "outputs": [
    {
     "name": "stdout",
     "output_type": "stream",
     "text": [
      "i \"said\" do not touch this\n"
     ]
    }
   ],
   "source": [
    "print ('i \"said\" do not touch this')"
   ]
  },
  {
   "cell_type": "code",
   "execution_count": 4,
   "metadata": {},
   "outputs": [
    {
     "name": "stdout",
     "output_type": "stream",
     "text": [
      "this will get an error\n"
     ]
    }
   ],
   "source": [
    "print ('this will get an error')"
   ]
  },
  {
   "cell_type": "code",
   "execution_count": 5,
   "metadata": {},
   "outputs": [
    {
     "name": "stdout",
     "output_type": "stream",
     "text": [
      "i could have code like this.\n"
     ]
    }
   ],
   "source": [
    "# this is a commnet. this is what the programmer whats to tell you .\n",
    "print (\"i could have code like this.\") # and the comment after is ignored"
   ]
  },
  {
   "cell_type": "code",
   "execution_count": 6,
   "metadata": {},
   "outputs": [],
   "source": [
    "counter = 100\n",
    "miles   =1000.0\n",
    "name    =\"runoob\""
   ]
  },
  {
   "cell_type": "code",
   "execution_count": 7,
   "metadata": {},
   "outputs": [
    {
     "data": {
      "text/plain": [
       "100"
      ]
     },
     "execution_count": 7,
     "metadata": {},
     "output_type": "execute_result"
    }
   ],
   "source": [
    "counter"
   ]
  },
  {
   "cell_type": "code",
   "execution_count": 8,
   "metadata": {},
   "outputs": [
    {
     "data": {
      "text/plain": [
       "1000.0"
      ]
     },
     "execution_count": 8,
     "metadata": {},
     "output_type": "execute_result"
    }
   ],
   "source": [
    "miles"
   ]
  },
  {
   "cell_type": "code",
   "execution_count": 9,
   "metadata": {},
   "outputs": [
    {
     "data": {
      "text/plain": [
       "'runoob'"
      ]
     },
     "execution_count": 9,
     "metadata": {},
     "output_type": "execute_result"
    }
   ],
   "source": [
    "counter\n",
    "miles\n",
    "name"
   ]
  },
  {
   "cell_type": "code",
   "execution_count": 10,
   "metadata": {},
   "outputs": [],
   "source": [
    "a=b=c=1"
   ]
  },
  {
   "cell_type": "code",
   "execution_count": 11,
   "metadata": {},
   "outputs": [
    {
     "data": {
      "text/plain": [
       "1"
      ]
     },
     "execution_count": 11,
     "metadata": {},
     "output_type": "execute_result"
    }
   ],
   "source": [
    "a"
   ]
  },
  {
   "cell_type": "code",
   "execution_count": 12,
   "metadata": {},
   "outputs": [
    {
     "data": {
      "text/plain": [
       "1"
      ]
     },
     "execution_count": 12,
     "metadata": {},
     "output_type": "execute_result"
    }
   ],
   "source": [
    "b"
   ]
  },
  {
   "cell_type": "code",
   "execution_count": 13,
   "metadata": {},
   "outputs": [
    {
     "data": {
      "text/plain": [
       "1"
      ]
     },
     "execution_count": 13,
     "metadata": {},
     "output_type": "execute_result"
    }
   ],
   "source": [
    "c"
   ]
  },
  {
   "cell_type": "code",
   "execution_count": 14,
   "metadata": {},
   "outputs": [],
   "source": [
    "a, b, c = 1, 2, \"runoob\""
   ]
  },
  {
   "cell_type": "code",
   "execution_count": 16,
   "metadata": {},
   "outputs": [
    {
     "data": {
      "text/plain": [
       "['False',\n",
       " 'None',\n",
       " 'True',\n",
       " 'and',\n",
       " 'as',\n",
       " 'assert',\n",
       " 'async',\n",
       " 'await',\n",
       " 'break',\n",
       " 'class',\n",
       " 'continue',\n",
       " 'def',\n",
       " 'del',\n",
       " 'elif',\n",
       " 'else',\n",
       " 'except',\n",
       " 'finally',\n",
       " 'for',\n",
       " 'from',\n",
       " 'global',\n",
       " 'if',\n",
       " 'import',\n",
       " 'in',\n",
       " 'is',\n",
       " 'lambda',\n",
       " 'nonlocal',\n",
       " 'not',\n",
       " 'or',\n",
       " 'pass',\n",
       " 'raise',\n",
       " 'return',\n",
       " 'try',\n",
       " 'while',\n",
       " 'with',\n",
       " 'yield']"
      ]
     },
     "execution_count": 16,
     "metadata": {},
     "output_type": "execute_result"
    }
   ],
   "source": [
    "import keyword\n",
    "keyword. kwlist"
   ]
  },
  {
   "cell_type": "code",
   "execution_count": 17,
   "metadata": {},
   "outputs": [
    {
     "data": {
      "text/plain": [
       "'i will now count my cjickens:'"
      ]
     },
     "execution_count": 17,
     "metadata": {},
     "output_type": "execute_result"
    }
   ],
   "source": [
    "\"i will now count my cjickens:\""
   ]
  },
  {
   "cell_type": "code",
   "execution_count": 18,
   "metadata": {},
   "outputs": [
    {
     "name": "stdout",
     "output_type": "stream",
     "text": [
      "hens 30.0\n"
     ]
    }
   ],
   "source": [
    "print (\"hens\", 25 + 30 / 6)"
   ]
  },
  {
   "cell_type": "code",
   "execution_count": 19,
   "metadata": {},
   "outputs": [
    {
     "data": {
      "text/plain": [
       "6.75"
      ]
     },
     "execution_count": 19,
     "metadata": {},
     "output_type": "execute_result"
    }
   ],
   "source": [
    "3+2+1-5+4%2-1/4+6"
   ]
  },
  {
   "cell_type": "code",
   "execution_count": 24,
   "metadata": {},
   "outputs": [
    {
     "name": "stdout",
     "output_type": "stream",
     "text": [
      "is it grater True\n"
     ]
    }
   ],
   "source": [
    "print (\"is it grater\",5>2)"
   ]
  },
  {
   "cell_type": "code",
   "execution_count": 25,
   "metadata": {},
   "outputs": [
    {
     "data": {
      "text/plain": [
       "True"
      ]
     },
     "execution_count": 25,
     "metadata": {},
     "output_type": "execute_result"
    }
   ],
   "source": [
    "5>=2"
   ]
  },
  {
   "cell_type": "code",
   "execution_count": 26,
   "metadata": {},
   "outputs": [
    {
     "data": {
      "text/plain": [
       "False"
      ]
     },
     "execution_count": 26,
     "metadata": {},
     "output_type": "execute_result"
    }
   ],
   "source": [
    "5>5"
   ]
  },
  {
   "cell_type": "code",
   "execution_count": 27,
   "metadata": {},
   "outputs": [
    {
     "data": {
      "text/plain": [
       "True"
      ]
     },
     "execution_count": 27,
     "metadata": {},
     "output_type": "execute_result"
    }
   ],
   "source": [
    "5>=5"
   ]
  },
  {
   "cell_type": "code",
   "execution_count": 28,
   "metadata": {},
   "outputs": [
    {
     "data": {
      "text/plain": [
       "False"
      ]
     },
     "execution_count": 28,
     "metadata": {},
     "output_type": "execute_result"
    }
   ],
   "source": [
    "3+2<5-7"
   ]
  },
  {
   "cell_type": "code",
   "execution_count": 29,
   "metadata": {},
   "outputs": [],
   "source": [
    "a,b=10,20"
   ]
  },
  {
   "cell_type": "code",
   "execution_count": 30,
   "metadata": {},
   "outputs": [],
   "source": [
    "c=a+b"
   ]
  },
  {
   "cell_type": "code",
   "execution_count": 31,
   "metadata": {},
   "outputs": [
    {
     "data": {
      "text/plain": [
       "30"
      ]
     },
     "execution_count": 31,
     "metadata": {},
     "output_type": "execute_result"
    }
   ],
   "source": [
    "c"
   ]
  },
  {
   "cell_type": "code",
   "execution_count": 34,
   "metadata": {},
   "outputs": [
    {
     "name": "stdout",
     "output_type": "stream",
     "text": [
      "(a+b)*c/d 运算记过为:  90.0\n",
      "e=((a+b)*c)/d 运算记过为:  90.0\n",
      "e=(a+b)*(c/d) 运算记过为:  90.0\n",
      "e=a+(b*c)/d 运算记过为:  50.0\n"
     ]
    }
   ],
   "source": [
    "a=20\n",
    "b=10\n",
    "c=15\n",
    "d=5\n",
    "e=0\n",
    "\n",
    "e=(a+b)*c/d\n",
    "print (\"(a+b)*c/d 运算记过为: \",e)\n",
    "       \n",
    "e=((a+b)*c)/d\n",
    "print (\"e=((a+b)*c)/d 运算记过为: \",e)\n",
    "       \n",
    "e=(a+b)*(c/d)\n",
    "print (\"e=(a+b)*(c/d) 运算记过为: \",e)\n",
    "       \n",
    "e=a+(b*c)/d\n",
    "print (\"e=a+(b*c)/d 运算记过为: \",e)"
   ]
  },
  {
   "cell_type": "code",
   "execution_count": 38,
   "metadata": {},
   "outputs": [
    {
     "name": "stdout",
     "output_type": "stream",
     "text": [
      "let's talk about Zed A. Shaw.\n",
      "he's 74 inches tall.\n",
      "he's 180 inches heavy.\n",
      "actually that's not too heavy.\n",
      "his teeth are usually white depending on the coffee.\n",
      "if i add 35,74and180 i get 289.\n"
     ]
    }
   ],
   "source": [
    "my_name = 'Zed A. Shaw'\n",
    "my_age   = 35\n",
    "my_height=74\n",
    "my_weight=180\n",
    "my_eyes='blue'\n",
    "my_teeth='white'\n",
    "my_hair='brown'\n",
    "\n",
    "print(f\"let's talk about {my_name}.\")\n",
    "print(f\"he's {my_height} inches tall.\")\n",
    "print(f\"he's {my_weight} inches heavy.\")\n",
    "print(f\"actually that's not too heavy.\")\n",
    "print(f\"his teeth are usually {my_teeth} depending on the coffee.\")\n",
    "\n",
    "total=my_age+my_height+my_weight\n",
    "print(f\"if i add {my_age},{my_height}and{my_weight} i get {total}.\")"
   ]
  },
  {
   "cell_type": "code",
   "execution_count": 43,
   "metadata": {},
   "outputs": [
    {
     "name": "stdout",
     "output_type": "stream",
     "text": [
      "there are 10 types of people.\n",
      "those who know binary and those who don't.\n",
      "i said:there are 10 types of people.\n",
      "i also said:'those who know binary and those who don't.'\n",
      "isn't that joke so funny?!False\n",
      "this is the left side of...a string with a right side.\n"
     ]
    }
   ],
   "source": [
    "types_of_people = 10\n",
    "x=f\"there are {types_of_people} types of people.\"\n",
    "\n",
    "binary=\"binary\"\n",
    "do_not=\"don't\"\n",
    "y=f\"those who know {binary} and those who {do_not}.\"\n",
    "\n",
    "print(x)\n",
    "print(y)\n",
    "\n",
    "print(f\"i said:{x}\")\n",
    "print(f\"i also said:'{y}'\")\n",
    "\n",
    "hilarious=False\n",
    "joke_evaluation=\"isn't that joke so funny?!{}\"\n",
    "\n",
    "print(joke_evaluation.format(hilarious))\n",
    "\n",
    "w=\"this is the left side of...\"\n",
    "e=\"a string with a right side.\"\n",
    "\n",
    "print(w+e)"
   ]
  },
  {
   "cell_type": "code",
   "execution_count": 2,
   "metadata": {},
   "outputs": [
    {
     "name": "stdout",
     "output_type": "stream",
     "text": [
      "mary had a little lamb.\n",
      "its fleece was white as snow.\n",
      "and everywhere that mary went.\n",
      "..........\n",
      "CheeseBurger\n"
     ]
    }
   ],
   "source": [
    "print(\"mary had a little lamb.\")\n",
    "print(\"its fleece was white as {}.\".format('snow'))\n",
    "print(\"and everywhere that mary went.\")\n",
    "print(\".\"*10)\n",
    "\n",
    "end1=\"C\"\n",
    "end2=\"h\"\n",
    "end3=\"e\"\n",
    "end4=\"e\"\n",
    "end5=\"s\"\n",
    "end6=\"e\"\n",
    "end7=\"B\"\n",
    "end8=\"u\"\n",
    "end9=\"r\"\n",
    "end10=\"g\"\n",
    "end11=\"e\"\n",
    "end12=\"r\"\n",
    "\n",
    "print(end1+end2+end3+end4+end5+end6,end='')\n",
    "print(end7+end8+end9+end10+end11+end12)"
   ]
  },
  {
   "cell_type": "code",
   "execution_count": 4,
   "metadata": {},
   "outputs": [
    {
     "name": "stdout",
     "output_type": "stream",
     "text": [
      "1234\n",
      "onetwothreefour\n",
      "TrueFalseFalseTrue\n",
      "{}{}{}{}{}{}{}{}{}{}{}{}{}{}{}{}\n",
      "i had this thing.that you cuold type up right.but it didn't sing.so i said goodnight.\n"
     ]
    }
   ],
   "source": [
    "formatter=\"{}{}{}{}\"\n",
    "\n",
    "print(formatter.format(1,2,3,4))\n",
    "print(formatter.format(\"one\",\"two\",\"three\",\"four\"))\n",
    "print(formatter.format(True,False,False,True))\n",
    "print(formatter.format(formatter,formatter,formatter,formatter))\n",
    "print(formatter.format(\n",
    "     \"i had this thing.\",\n",
    "     \"that you cuold type up right.\",\n",
    "     \"but it didn't sing.\",\n",
    "     \"so i said goodnight.\"\n",
    "))"
   ]
  },
  {
   "cell_type": "code",
   "execution_count": 11,
   "metadata": {},
   "outputs": [
    {
     "name": "stdout",
     "output_type": "stream",
     "text": [
      "here are the days: mon tue wed thu fri sat sun\n",
      "here are the months: jan/nfeb/nmar/napr/nmay/njun/njul/naug\n",
      "\n",
      "there's something going on here.\n",
      "with the three double-quotes.\n",
      "we'll be able to type as much as we like.\n",
      "even 4 lines if we want,or5,or6.\n",
      "\n"
     ]
    }
   ],
   "source": [
    "days=\"mon tue wed thu fri sat sun\"\n",
    "months=\"jan/nfeb/nmar/napr/nmay/njun/njul/naug\"\n",
    "\n",
    "print(\"here are the days:\",days)\n",
    "print(\"here are the months:\",months)\n",
    "\n",
    "print(\"\"\"\n",
    "there's something going on here.\n",
    "with the three double-quotes.\n",
    "we'll be able to type as much as we like.\n",
    "even 4 lines if we want,or5,or6.\n",
    "\"\"\")"
   ]
  },
  {
   "cell_type": "code",
   "execution_count": 12,
   "metadata": {},
   "outputs": [
    {
     "name": "stdout",
     "output_type": "stream",
     "text": [
      "\ti'm tabbed in.\n",
      "i'm split\n",
      "on a line.\n",
      "i'm\\a\\cat.\n",
      "\n",
      "i'll do a list:\n",
      "\t*cat food\n",
      "\t*fishies\n",
      "\t*catnip\n",
      "\t*grass\n",
      "\n"
     ]
    }
   ],
   "source": [
    "tabby_cat=\"\\ti'm tabbed in.\"\n",
    "persian_cat=\"i'm split\\non a line.\"\n",
    "backslash_cat=\"i'm\\\\a\\\\cat.\"\n",
    "\n",
    "fat_cat=\"\"\"\n",
    "i'll do a list:\n",
    "\\t*cat food\n",
    "\\t*fishies\n",
    "\\t*catnip\\n\\t*grass\n",
    "\"\"\"\n",
    "\n",
    "print(tabby_cat)\n",
    "print(persian_cat)\n",
    "print(backslash_cat)\n",
    "print(fat_cat)"
   ]
  },
  {
   "cell_type": "code",
   "execution_count": 13,
   "metadata": {},
   "outputs": [
    {
     "name": "stdout",
     "output_type": "stream",
     "text": [
      "how old are you?"
     ]
    },
    {
     "name": "stdin",
     "output_type": "stream",
     "text": [
      " 22\n"
     ]
    },
    {
     "name": "stdout",
     "output_type": "stream",
     "text": [
      "how tall are you?"
     ]
    },
    {
     "name": "stdin",
     "output_type": "stream",
     "text": [
      " 160\n"
     ]
    },
    {
     "name": "stdout",
     "output_type": "stream",
     "text": [
      "hoe much do you weight?"
     ]
    },
    {
     "name": "stdin",
     "output_type": "stream",
     "text": [
      " 110\n"
     ]
    },
    {
     "name": "stdout",
     "output_type": "stream",
     "text": [
      "so,you're (age) old,160 tall andd 110heavy.\n"
     ]
    }
   ],
   "source": [
    "print(\"how old are you?\",end='')\n",
    "age=input()\n",
    "print(\"how tall are you?\",end='')\n",
    "height=input()\n",
    "print(\"hoe much do you weight?\",end='')\n",
    "weight=input()\n",
    "\n",
    "print(f\"so,you're (age) old,{height} tall andd {weight}heavy.\")"
   ]
  },
  {
   "cell_type": "code",
   "execution_count": 14,
   "metadata": {},
   "outputs": [
    {
     "name": "stdin",
     "output_type": "stream",
     "text": [
      "how old are you? 22\n",
      "how tall are you? 160\n",
      "how much do you weight? 110\n"
     ]
    },
    {
     "name": "stdout",
     "output_type": "stream",
     "text": [
      "so,you're 22old,160tall and 110heavy.\n"
     ]
    }
   ],
   "source": [
    "age=input(\"how old are you?\")\n",
    "height=input(\"how tall are you?\")\n",
    "weight=input(\"how much do you weight?\")\n",
    "\n",
    "print(f\"so,you're {age}old,{height}tall and {weight}heavy.\")"
   ]
  },
  {
   "cell_type": "code",
   "execution_count": 15,
   "metadata": {},
   "outputs": [
    {
     "name": "stdout",
     "output_type": "stream",
     "text": [
      "the script is called: D:\\Users\\Study\\anaconda3\\lib\\site-packages\\ipykernel_launcher.py\n",
      "your first variable is: -f\n",
      "your second variable is: C:\\Users\\Study\\AppData\\Roaming\\jupyter\\runtime\\kernel-7b6a76cf-dd2f-4c50-a8ae-7d27447bf6d1.json\n"
     ]
    }
   ],
   "source": [
    "from sys import argv\n",
    "script,first,second=argv\n",
    "\n",
    "print(\"the script is called:\",script)\n",
    "print(\"your first variable is:\",first)\n",
    "print(\"your second variable is:\",second)"
   ]
  },
  {
   "cell_type": "code",
   "execution_count": 16,
   "metadata": {},
   "outputs": [],
   "source": [
    "#scrapy crawl douban -o movie_comments.csv \n",
    "#运行例子成功，csv中是乱码，可能是有设置没有改。"
   ]
  },
  {
   "cell_type": "code",
   "execution_count": 3,
   "metadata": {},
   "outputs": [
    {
     "name": "stdout",
     "output_type": "stream",
     "text": [
      "<class 'dict'>\n",
      "dict1['Name']: Runoob\n",
      "dict1['Age']: 7\n"
     ]
    }
   ],
   "source": [
    "dict1={'Name':'Runoob','Age':7,'Class':'First'}\n",
    "print(type(dict1))\n",
    "print(\"dict1['Name']:\",dict1['Name'])\n",
    "print(\"dict1['Age']:\",dict1['Age'])"
   ]
  },
  {
   "cell_type": "code",
   "execution_count": 4,
   "metadata": {},
   "outputs": [
    {
     "data": {
      "text/plain": [
       "{'Name': 'Runoob', 'Age': 8, 'Class': 'First', 'School': '菜鸟教程'}"
      ]
     },
     "execution_count": 4,
     "metadata": {},
     "output_type": "execute_result"
    }
   ],
   "source": [
    "dict1={\n",
    "    'Name':'Runoob',\n",
    "    'Age':7,\n",
    "    'Class':'First'\n",
    "}\n",
    "\n",
    "dict1['Age']=8\n",
    "dict1['School']=\"菜鸟教程\"\n",
    "dict1"
   ]
  },
  {
   "cell_type": "code",
   "execution_count": 5,
   "metadata": {},
   "outputs": [
    {
     "name": "stdout",
     "output_type": "stream",
     "text": [
      "{'age': 7, 'class': 'first'}\n",
      "{}\n"
     ]
    }
   ],
   "source": [
    "dict1={'name':'runoob','age':7,'class':'first'}\n",
    "\n",
    "del dict1['name']\n",
    "print(dict1)\n",
    "dict1.clear()\n",
    "print(dict1)"
   ]
  },
  {
   "cell_type": "code",
   "execution_count": 6,
   "metadata": {},
   "outputs": [
    {
     "name": "stdout",
     "output_type": "stream",
     "text": [
      "dict_keys(['name', 'age', 'class'])\n",
      "dict_values(['runoob', 7, 'first'])\n",
      "dict_items([('name', 'runoob'), ('age', 7), ('class', 'first')])\n"
     ]
    }
   ],
   "source": [
    "dict1={'name':'runoob','age':7,'class':'first'}\n",
    "print(dict1.keys())\n",
    "print(dict1.values())\n",
    "print(dict1.items())"
   ]
  },
  {
   "cell_type": "code",
   "execution_count": 7,
   "metadata": {},
   "outputs": [
    {
     "name": "stdout",
     "output_type": "stream",
     "text": [
      "{'a': 0, 'b': 0, 'c': 0}\n"
     ]
    }
   ],
   "source": [
    "print(dict1.fromkeys('abc',0))"
   ]
  },
  {
   "cell_type": "code",
   "execution_count": 8,
   "metadata": {},
   "outputs": [
    {
     "name": "stdout",
     "output_type": "stream",
     "text": [
      "更新字典dict1: {'name': 'runoob', 'age': 10, 'sex': 'female'}\n"
     ]
    }
   ],
   "source": [
    "dict1={'name':'runoob','age':1}\n",
    "dict2={'sex':'female','age':10}\n",
    "\n",
    "dict1.update(dict2)\n",
    "print(\"更新字典dict1:\",dict1)"
   ]
  },
  {
   "cell_type": "code",
   "execution_count": 9,
   "metadata": {},
   "outputs": [
    {
     "name": "stdout",
     "output_type": "stream",
     "text": [
      "<class 'set'>\n",
      "{'orange', 'apple', 'pear', 'banana'}\n",
      "{' ', 'e', 'o', 'l', 'w', 'd', 'r', 'h'}\n"
     ]
    }
   ],
   "source": [
    "basket={'apple','orange','apple','pear','orange','banana'}\n",
    "print(type(basket))\n",
    "print(basket)\n",
    "letters=set('hello world')\n",
    "print(letters)"
   ]
  },
  {
   "cell_type": "code",
   "execution_count": 11,
   "metadata": {},
   "outputs": [
    {
     "name": "stdout",
     "output_type": "stream",
     "text": [
      "{'orange', 'apple', 'pear', 'melon', 'banana'}\n",
      "{'orange', 'pear', 'melon', 'banana'}\n"
     ]
    }
   ],
   "source": [
    "basket.add('melon')\n",
    "print(basket)\n",
    "basket.remove('apple')\n",
    "print(basket)"
   ]
  },
  {
   "cell_type": "code",
   "execution_count": 12,
   "metadata": {},
   "outputs": [
    {
     "name": "stdout",
     "output_type": "stream",
     "text": [
      "{'orange', 'e', 'apple', 'o', 'pear', 'banana', 'l', 'n', 'm'}\n",
      "{'orange', 'lemon', 'e', 'apple', 'o', 'pear', 'banana', 'l', 'melon', 'n', 'm'}\n"
     ]
    }
   ],
   "source": [
    "basket={'apple','orange','apple','pear','orange','banana'}\n",
    "basket.update('melon')\n",
    "print(basket)\n",
    "basket.update(['melon','lemon'])\n",
    "print(basket)"
   ]
  },
  {
   "cell_type": "code",
   "execution_count": 14,
   "metadata": {},
   "outputs": [
    {
     "name": "stdout",
     "output_type": "stream",
     "text": [
      "{'a', 'b', 'd', 'r', 'c'}\n",
      "{'a', 'z', 'l', 'm', 'c'}\n",
      "{'b', 'r', 'd'}\n",
      "{'a', 'z', 'b', 'l', 'd', 'r', 'm', 'c'}\n",
      "{'c', 'a'}\n",
      "{'b', 'l', 'z', 'd', 'r', 'm'}\n"
     ]
    }
   ],
   "source": [
    "a=set('abracadabra')\n",
    "b=set('alacazam')\n",
    "print(a)\n",
    "print(b)\n",
    "print(a-b)\n",
    "print(a|b)\n",
    "print(a&b)\n",
    "print(a^b)"
   ]
  },
  {
   "cell_type": "code",
   "execution_count": 16,
   "metadata": {},
   "outputs": [
    {
     "name": "stdout",
     "output_type": "stream",
     "text": [
      "<class 'tuple'>\n",
      "('goole', 'runoob', 1997, 2000)\n",
      "(1, 2, 3, 4, 5)\n",
      "('a', 'b', 'c', 'd')\n",
      "(1,)\n",
      "(1,)\n"
     ]
    }
   ],
   "source": [
    "tup1=('goole','runoob',1997,2000)\n",
    "print(type(tup1))\n",
    "tup2=(1,2,3,4,5)\n",
    "tup3=\"a\",\"b\",\"c\",\"d\"\n",
    "tup4=(1,)\n",
    "tup5=1,\n",
    "print(tup1)\n",
    "print(tup2)\n",
    "print(tup3)\n",
    "print(tup4)\n",
    "print(tup5)"
   ]
  },
  {
   "cell_type": "code",
   "execution_count": 17,
   "metadata": {},
   "outputs": [
    {
     "data": {
      "text/plain": [
       "'goole'"
      ]
     },
     "execution_count": 17,
     "metadata": {},
     "output_type": "execute_result"
    }
   ],
   "source": [
    "tup1[0]"
   ]
  },
  {
   "cell_type": "code",
   "execution_count": 21,
   "metadata": {},
   "outputs": [
    {
     "data": {
      "text/plain": [
       "(0, 1, 2, 3, 4)"
      ]
     },
     "execution_count": 21,
     "metadata": {},
     "output_type": "execute_result"
    }
   ],
   "source": [
    "tuple(range(5))"
   ]
  },
  {
   "cell_type": "code",
   "execution_count": null,
   "metadata": {},
   "outputs": [],
   "source": []
  }
 ],
 "metadata": {
  "kernelspec": {
   "display_name": "Python 3",
   "language": "python",
   "name": "python3"
  },
  "language_info": {
   "codemirror_mode": {
    "name": "ipython",
    "version": 3
   },
   "file_extension": ".py",
   "mimetype": "text/x-python",
   "name": "python",
   "nbconvert_exporter": "python",
   "pygments_lexer": "ipython3",
   "version": "3.8.3"
  }
 },
 "nbformat": 4,
 "nbformat_minor": 4
}
