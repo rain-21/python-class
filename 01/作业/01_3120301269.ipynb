{
 "cells": [
  {
   "cell_type": "code",
   "execution_count": 57,
   "metadata": {},
   "outputs": [
    {
     "name": "stdin",
     "output_type": "stream",
     "text": [
      "请输入正整数: 25475\n"
     ]
    },
    {
     "name": "stdout",
     "output_type": "stream",
     "text": [
      "---------------25475\n"
     ]
    }
   ],
   "source": [
    "#李武丹_机械_3120301269\n",
    "#练习来自计算机二级题库\n",
    "#格式化输出数字\n",
    "n = eval(input(\"请输入正整数:\"))\n",
    "print(\"{:->20}\".format(n))"
   ]
  },
  {
   "cell_type": "code",
   "execution_count": 20,
   "metadata": {},
   "outputs": [
    {
     "name": "stdout",
     "output_type": "stream",
     "text": [
      "OPPO\n"
     ]
    }
   ],
   "source": [
    "#随机输出手机型号\n",
    "import random\n",
    "brandlist = ['华为','苹果','诺基亚','OPPO','小米']\n",
    "random.seed(0)\n",
    "name=brandlist[random.randint(0,5)]\n",
    "print(name)"
   ]
  },
  {
   "cell_type": "code",
   "execution_count": 1,
   "metadata": {},
   "outputs": [
    {
     "name": "stdout",
     "output_type": "stream",
     "text": [
      "5.00\n"
     ]
    }
   ],
   "source": [
    "#计算两点距离\n",
    "ntxt = input(\"请输入4个数字(空格分隔):\")\n",
    "nls = ntxt.split(' ')\n",
    "x0 = eval(nls[0])\n",
    "y0 = eval(nls[1])\n",
    "x1 = eval(nls[2])\n",
    "y1 = eval(nls[3])\n",
    "r = pow(pow(x1-x0, 2) + pow(y1-y0, 2), 0.5) \n",
    "print(\"{:.2f}\".format(r))"
   ]
  },
  {
   "cell_type": "code",
   "execution_count": 3,
   "metadata": {},
   "outputs": [
    {
     "name": "stdin",
     "output_type": "stream",
     "text": [
      "请输入一个字符串: PYTHON\n"
     ]
    },
    {
     "name": "stdout",
     "output_type": "stream",
     "text": [
      "=======PYTHON=======\n"
     ]
    }
   ],
   "source": [
    "#格式化输出\n",
    "s = input(\"请输入一个字符串:\")\n",
    "print(\"{:=^20}\".format(s))"
   ]
  },
  {
   "cell_type": "code",
   "execution_count": 12,
   "metadata": {},
   "outputs": [
    {
     "name": "stdin",
     "output_type": "stream",
     "text": [
      " 3236458\n"
     ]
    },
    {
     "name": "stdout",
     "output_type": "stream",
     "text": [
      "================3,236,458\n"
     ]
    }
   ],
   "source": [
    "s = input()\n",
    "print(\"{:=>25,}\".format(eval(s)))"
   ]
  },
  {
   "cell_type": "code",
   "execution_count": 21,
   "metadata": {},
   "outputs": [
    {
     "name": "stdin",
     "output_type": "stream",
     "text": [
      " 17\n"
     ]
    },
    {
     "name": "stdout",
     "output_type": "stream",
     "text": [
      "\"\"\"\"\"\"\"\"\"\"\"\"\"\"\"\"\"\"\"\"\"\"\"\"\"\"0x11\n"
     ]
    }
   ],
   "source": [
    "s = input()\n",
    "print(\"{:\\\">30}\".format(hex(eval(s))))"
   ]
  },
  {
   "cell_type": "code",
   "execution_count": 24,
   "metadata": {},
   "outputs": [
    {
     "name": "stdin",
     "output_type": "stream",
     "text": [
      " [1,1,1]\n"
     ]
    },
    {
     "name": "stdout",
     "output_type": "stream",
     "text": [
      "18\n"
     ]
    }
   ],
   "source": [
    "a = [3,6,9]\n",
    "b =  eval(input()) #例如：[1,2,3]\n",
    "s = 0\n",
    "for i in range(len(a)):\n",
    "    s += a[i]*b[i]\n",
    "print(s)"
   ]
  },
  {
   "cell_type": "code",
   "execution_count": 31,
   "metadata": {},
   "outputs": [
    {
     "name": "stdin",
     "output_type": "stream",
     "text": [
      "请输入一个字符串 中国西部创新港\n"
     ]
    },
    {
     "name": "stdout",
     "output_type": "stream",
     "text": [
      "中文字符数为7，中文词语数为4。\n"
     ]
    }
   ],
   "source": [
    "import jieba\n",
    "s = input(\"请输入一个字符串\")\n",
    "n = len(s)\n",
    "m = len(jieba.lcut(s))\n",
    "print(\"中文字符数为{}，中文词语数为{}。\".format(n, m))"
   ]
  },
  {
   "cell_type": "code",
   "execution_count": 32,
   "metadata": {},
   "outputs": [
    {
     "name": "stdin",
     "output_type": "stream",
     "text": [
      "请输入一段中文文本: 请输入一段中文文本\n"
     ]
    },
    {
     "name": "stdout",
     "output_type": "stream",
     "text": [
      "1.8\n"
     ]
    }
   ],
   "source": [
    "import jieba\n",
    "txt = input(\"请输入一段中文文本:\")\n",
    "ls = jieba.lcut(txt)\n",
    "print(\"{:.1f}\".format(len(txt)/len(ls)))"
   ]
  },
  {
   "cell_type": "code",
   "execution_count": 33,
   "metadata": {},
   "outputs": [
    {
     "name": "stdout",
     "output_type": "stream",
     "text": [
      "0,1,1,2,3,5,8,13,21,34,55,89,144,233,377,610,987,"
     ]
    }
   ],
   "source": [
    "#斐波那契数列\n",
    "a, b = 0, 1\n",
    "while a<=1000:\n",
    "    print(a, end=',')\n",
    "    a, b = b,a+b"
   ]
  },
  {
   "cell_type": "code",
   "execution_count": 34,
   "metadata": {},
   "outputs": [
    {
     "name": "stdin",
     "output_type": "stream",
     "text": [
      " [1,2,3]\n"
     ]
    },
    {
     "name": "stdout",
     "output_type": "stream",
     "text": [
      "[4, 8, 12]\n"
     ]
    }
   ],
   "source": [
    "#向量相加\n",
    "a = [3,6,9]\n",
    "b =  eval(input()) #例如：[1,2,3]\n",
    "c = []\n",
    "for i in range(len(a)):\n",
    "    c.append(a[i]+b[i])\n",
    "print(c)"
   ]
  },
  {
   "cell_type": "code",
   "execution_count": 37,
   "metadata": {},
   "outputs": [
    {
     "name": "stdin",
     "output_type": "stream",
     "text": [
      " [1,2,3]\n"
     ]
    },
    {
     "name": "stdout",
     "output_type": "stream",
     "text": [
      "[1, 3, 2, 6, 3, 9]\n"
     ]
    }
   ],
   "source": [
    "#列表插入\n",
    "a = [3,6,9]\n",
    "b = eval(input()) #例如：[1,2,3]\n",
    "j=1\n",
    "for i in range(len(a)):\n",
    "    b.insert(j,a[i])\n",
    "    j+= 2\n",
    "print(b)"
   ]
  },
  {
   "cell_type": "code",
   "execution_count": 42,
   "metadata": {},
   "outputs": [
    {
     "name": "stdin",
     "output_type": "stream",
     "text": [
      " xgthtj\n"
     ]
    },
    {
     "name": "stdout",
     "output_type": "stream",
     "text": [
      "jthtgx6\n"
     ]
    }
   ],
   "source": [
    "#逆序输出\n",
    "s = input()\n",
    "print(s[::-1],end='')\n",
    "print(len(s))"
   ]
  },
  {
   "cell_type": "code",
   "execution_count": 47,
   "metadata": {},
   "outputs": [
    {
     "name": "stdin",
     "output_type": "stream",
     "text": [
      " 76578\n"
     ]
    },
    {
     "name": "stdout",
     "output_type": "stream",
     "text": [
      "七六五七八\n"
     ]
    }
   ],
   "source": [
    "#格式替换\n",
    "n = input()\n",
    "s = \"〇一二三四五六七八九\"\n",
    "for c in \"0123456789\":\n",
    "     n=n.replace(c,s[int(c):int(c)+1])\n",
    "print(n)"
   ]
  },
  {
   "cell_type": "code",
   "execution_count": 56,
   "metadata": {},
   "outputs": [
    {
     "name": "stdin",
     "output_type": "stream",
     "text": [
      "请输入数量： 2\n"
     ]
    },
    {
     "name": "stdout",
     "output_type": "stream",
     "text": [
      "总额为: 288\n"
     ]
    }
   ],
   "source": [
    "#分段打折\n",
    "n = eval(input(\"请输入数量：\"))\n",
    "if n>0 and n<=1:\n",
    "    cost = n*160\n",
    "elif n<=4:\n",
    "    cost = n*0.9*160\n",
    "elif n<=9:\n",
    "    cost = n*0.8*160\n",
    "else:\n",
    "    cost = n*0.7*160\n",
    "cost=int(cost)\n",
    "print(\"总额为:\",cost)"
   ]
  },
  {
   "cell_type": "code",
   "execution_count": 58,
   "metadata": {},
   "outputs": [],
   "source": [
    "import turtle\n",
    "turtle.right(-30)\n",
    "turtle.fd(200)\n",
    "turtle.right(60)\n",
    "turtle.fd(200)\n",
    "turtle.right(120)\n",
    "turtle.fd(200)\n",
    "turtle.right(60)\n",
    "turtle.fd(200)\n",
    "turtle.right(120)"
   ]
  },
  {
   "cell_type": "code",
   "execution_count": 1,
   "metadata": {},
   "outputs": [],
   "source": [
    "import turtle\n",
    "for i in range(4):\n",
    "    turtle.fd(100)\n",
    "    turtle.fd(-100)\n",
    "    turtle.seth((i+1)*90)"
   ]
  },
  {
   "cell_type": "code",
   "execution_count": 1,
   "metadata": {},
   "outputs": [],
   "source": [
    "import turtle\n",
    "turtle.pensize(2)\n",
    "for i in range(4):\n",
    "    turtle.fd(200)\n",
    "    turtle.left(90)\n",
    "turtle.left(135)\n",
    "turtle.circle(-100*pow(2,0.5))\n"
   ]
  },
  {
   "cell_type": "code",
   "execution_count": 3,
   "metadata": {},
   "outputs": [
    {
     "name": "stdin",
     "output_type": "stream",
     "text": [
      "请输入各个同学行业名称，行业名称之间用空格间隔（回车结束输入）： 计算机 计算机 金融 金融 金融 制造业\n"
     ]
    },
    {
     "name": "stdout",
     "output_type": "stream",
     "text": [
      "金融:3\n",
      "计算机:2\n",
      "制造业:1\n"
     ]
    }
   ],
   "source": [
    "#统计各行业人数\n",
    "names=input(\"请输入各个同学行业名称，行业名称之间用空格间隔（回车结束输入）：\")\n",
    "t = names.split()\n",
    "d = {}\n",
    "for c in range(len(t)):\n",
    "    d[t[c]] = d.get(t[c],0)+1\n",
    "ls = list(d.items())\n",
    "ls.sort(key=lambda x:x[1], reverse=True) # 按照数量排序\n",
    "for k in range(len(ls)):\n",
    "    zy,num=ls[k]\n",
    "    print(\"{}:{}\".format(zy,num))"
   ]
  },
  {
   "cell_type": "code",
   "execution_count": 6,
   "metadata": {},
   "outputs": [
    {
     "name": "stdin",
     "output_type": "stream",
     "text": [
      " 数学 55\n",
      " 英语 53\n",
      " 历史 39\n",
      " 政治 93\n",
      " \n"
     ]
    },
    {
     "name": "stdout",
     "output_type": "stream",
     "text": [
      "最高分课程是政治 93, 最低分课程是历史 39, 平均分是60.00\n"
     ]
    }
   ],
   "source": [
    "data = input()  # 课程名 考分\n",
    "d={}\n",
    "while data:\n",
    "    t = data.split()\n",
    "    d[t[0]]=t[1]\n",
    "    data = input()\n",
    "ls = list(d.items())\n",
    "ls.sort(key=lambda x:x[1],reverse=True)\n",
    "s1,g1=ls[0]\n",
    "s2,g2=ls[len(ls)-1]\n",
    "a=0\n",
    "for i in d.values():\n",
    "    a = a+int(i)\n",
    "a=a/len(ls)\n",
    "print(\"最高分课程是{} {}, 最低分课程是{} {}, 平均分是{:.2f}\".format(s1,g1,s2,g2,a))"
   ]
  },
  {
   "cell_type": "code",
   "execution_count": 7,
   "metadata": {},
   "outputs": [
    {
     "name": "stdout",
     "output_type": "stream",
     "text": [
      "2402595\n"
     ]
    }
   ],
   "source": [
    "#向量积\n",
    "ls = [111, 222, 333, 444, 555, 666, 777, 888, 999]\n",
    "lt = [999, 777, 555, 333, 111, 888, 666, 444, 222]\n",
    "s = 0\n",
    "for i in range(len(ls)):\n",
    "    s = s+ls[i]*lt[i]\n",
    "print(s)"
   ]
  },
  {
   "cell_type": "code",
   "execution_count": 10,
   "metadata": {},
   "outputs": [
    {
     "name": "stdin",
     "output_type": "stream",
     "text": [
      "请输入不带数字的文本: \n"
     ]
    },
    {
     "name": "stdout",
     "output_type": "stream",
     "text": [
      "0\n"
     ]
    }
   ],
   "source": [
    "#输入类型\n",
    "while True:\n",
    "    s = input(\"请输入不带数字的文本:\")\n",
    "    i=0\n",
    "    for p in s:\n",
    "        if \"0\"<=p<=\"9\":\n",
    "            i=i+1\n",
    "    if i==0:\n",
    "        break\n",
    "print(len(s))"
   ]
  },
  {
   "cell_type": "code",
   "execution_count": 15,
   "metadata": {},
   "outputs": [
    {
     "name": "stdout",
     "output_type": "stream",
     "text": [
      "1:A->C\n",
      "2:A->B\n",
      "1:C->B\n",
      "3:A->C\n",
      "1:B->A\n",
      "2:B->C\n",
      "1:A->C\n",
      "7\n"
     ]
    }
   ],
   "source": [
    "#hanoi步骤\n",
    "count = 0\n",
    "def hanoi(n,src,dst,mid):\n",
    "    global count\n",
    "    if n == 1 :\n",
    "        print(\"{}:{}->{}\".format(1,src,dst))\n",
    "        count += 1\n",
    "    else :\n",
    "        hanoi(n-1,src,mid,dst)\n",
    "        print(\"{}:{}->{}\".format(n,src,dst))\n",
    "        count += 1\n",
    "        hanoi(n-1,mid,dst,src)\n",
    "hanoi(3,\"A\",\"C\",\"B\")\n",
    "print(count)"
   ]
  },
  {
   "cell_type": "code",
   "execution_count": 23,
   "metadata": {},
   "outputs": [
    {
     "name": "stdout",
     "output_type": "stream",
     "text": [
      "54,275,90,788,418,273,111,859,923,896,"
     ]
    }
   ],
   "source": [
    "#生成随机数\n",
    "import random\n",
    "random.seed(123)\n",
    "for i in range(10):\n",
    "    print(random.randint(1,999), end=\",\")"
   ]
  },
  {
   "cell_type": "code",
   "execution_count": 26,
   "metadata": {},
   "outputs": [
    {
     "name": "stdin",
     "output_type": "stream",
     "text": [
      "输入a: 1\n",
      "输入b: -5\n",
      "输入c: 6\n"
     ]
    },
    {
     "name": "stdout",
     "output_type": "stream",
     "text": [
      "结果为(2+0j)和(3+0j)\n"
     ]
    }
   ],
   "source": [
    "#二次方程\n",
    "import cmath\n",
    "a = float(input('输入a:'))\n",
    "b = float(input('输入b:'))\n",
    "c = float(input('输入c:'))\n",
    "d = (b**2)-(4*a*c)\n",
    "sol1 = (-b-cmath.sqrt(d))/(2*a)\n",
    "sol2 = (-b+cmath.sqrt(d))/(2*a)\n",
    "print('结果为{0}和{1}'.format(sol1,sol2))"
   ]
  },
  {
   "cell_type": "code",
   "execution_count": 33,
   "metadata": {},
   "outputs": [
    {
     "name": "stdout",
     "output_type": "stream",
     "text": [
      "的:2557\n"
     ]
    }
   ],
   "source": [
    "#文件操作\n",
    "import sys\n",
    "txt = open(\"命运.txt\",\"r\").read()\n",
    "for ch in\"，。？：\":\n",
    "    txt = txt.replace(ch,\"\")\n",
    "d = {}\n",
    "for ch in txt:\n",
    "    d[ch] = d.get(ch,0)+1\n",
    "ls = list(d.items())\n",
    "ls.sort(key=lambda x:x[1],reverse=True)\n",
    "a,b=ls[0]\n",
    "print(\"{}:{}\".format(a,b))"
   ]
  },
  {
   "cell_type": "code",
   "execution_count": 35,
   "metadata": {},
   "outputs": [
    {
     "name": "stdout",
     "output_type": "stream",
     "text": [
      "，的\"一我了。是不有"
     ]
    }
   ],
   "source": [
    "txt=open(\"命运.txt\",\"r\").read()\n",
    "for ch in '\\n':\n",
    "    txt = txt.replace(ch,\"\")\n",
    "d = {}\n",
    "for ch in txt:\n",
    "    d[ch]=d.get(ch,0)+1\n",
    "ls = list(d.items())\n",
    "ls.sort(key=lambda x:x[1], reverse=True)\n",
    "for i in range(10):\n",
    "    print(str(ls[i])[2],end=\"\")"
   ]
  },
  {
   "cell_type": "code",
   "execution_count": 42,
   "metadata": {},
   "outputs": [],
   "source": [
    "txt = open(\"命运.txt\",\"r\").read()\n",
    "for ch in'\\n':\n",
    "    txt=txt.replace(ch,\"\")\n",
    "d = {}\n",
    "for ch in txt:\n",
    "    d[ch]=d.get(ch,0)+1\n",
    "ls = list(d.items())\n",
    "ls.sort(key=lambda x:x[1],reverse=True) # 此行可以按照词频由高到低排序\n",
    "string=\"\"\n",
    "for i in range(len(ls)):\n",
    "    s = str(ls[i]).strip(\"()\")\n",
    "    string = string+s[1]+':'+s[5:]+','\n",
    "f=open(\"命运-频次排序.txt\",\"w\")\n",
    "f.write(string)\n",
    "f.close()"
   ]
  },
  {
   "cell_type": "code",
   "execution_count": 45,
   "metadata": {},
   "outputs": [],
   "source": [
    "#绘制五角星\n",
    "from turtle import *\n",
    "color('red','red')\n",
    "begin_fill()\n",
    "for i in range(5):\n",
    "    fd(200)\n",
    "    rt(144)\n",
    "end_fill()\n",
    "done()"
   ]
  },
  {
   "cell_type": "code",
   "execution_count": null,
   "metadata": {},
   "outputs": [],
   "source": []
  }
 ],
 "metadata": {
  "kernelspec": {
   "display_name": "Python 3",
   "language": "python",
   "name": "python3"
  },
  "language_info": {
   "codemirror_mode": {
    "name": "ipython",
    "version": 3
   },
   "file_extension": ".py",
   "mimetype": "text/x-python",
   "name": "python",
   "nbconvert_exporter": "python",
   "pygments_lexer": "ipython3",
   "version": "3.8.3"
  }
 },
 "nbformat": 4,
 "nbformat_minor": 4
}
