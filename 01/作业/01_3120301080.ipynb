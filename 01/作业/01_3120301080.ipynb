{
 "cells": [
  {
   "cell_type": "code",
   "execution_count": 1,
   "metadata": {},
   "outputs": [
    {
     "name": "stdout",
     "output_type": "stream",
     "text": [
      "1 2 3\n",
      "1 2 4\n",
      "1 3 2\n",
      "1 3 4\n",
      "1 4 2\n",
      "1 4 3\n",
      "2 1 3\n",
      "2 1 4\n",
      "2 3 1\n",
      "2 3 4\n",
      "2 4 1\n",
      "2 4 3\n",
      "3 1 2\n",
      "3 1 4\n",
      "3 2 1\n",
      "3 2 4\n",
      "3 4 1\n",
      "3 4 2\n",
      "4 1 2\n",
      "4 1 3\n",
      "4 2 1\n",
      "4 2 3\n",
      "4 3 1\n",
      "4 3 2\n"
     ]
    }
   ],
   "source": [
    "#题目：有四个数字：1、2、3、4，能组成多少个互不相同且无重复数字的三位数？各是多少？\n",
    "for i in range(1,5):\n",
    "    for j in range(1,5):\n",
    "        for k in range(1,5):\n",
    "            if (i!=j) and (i!=k) and (j!=k):\n",
    "                print(i,j,k)"
   ]
  },
  {
   "cell_type": "code",
   "execution_count": 10,
   "metadata": {},
   "outputs": [
    {
     "name": "stdout",
     "output_type": "stream",
     "text": [
      "python\n",
      "西安\n",
      "韩\n",
      "特\n",
      "\n"
     ]
    }
   ],
   "source": [
    "print('python')\n",
    "print('西安')\n",
    "print('韩\\n特\\n')"
   ]
  },
  {
   "cell_type": "code",
   "execution_count": 18,
   "metadata": {},
   "outputs": [
    {
     "name": "stdout",
     "output_type": "stream",
     "text": [
      "I   l o v e P y h t o n\n"
     ]
    }
   ],
   "source": [
    "str1='I love'\n",
    "str2='Pyhton'\n",
    "str=str1+str2\n",
    "print(' '.join(str ))"
   ]
  },
  {
   "cell_type": "code",
   "execution_count": 25,
   "metadata": {},
   "outputs": [
    {
     "name": "stdout",
     "output_type": "stream",
     "text": [
      "c: 44\n",
      "c: -20\n",
      "c: 0.375\n",
      "c: 12\n",
      "c: 34182189187166852111368841966125056\n",
      "c: 0\n"
     ]
    }
   ],
   "source": [
    "a = 12\n",
    "b = 32\n",
    "c = 45\n",
    "c = a+b\n",
    "print('c:',c)\n",
    "c=a-b\n",
    "print('c:',c)\n",
    "c=a/b\n",
    "print('c:',c)\n",
    "c=a%b\n",
    "print('c:',c)\n",
    "c=a**b\n",
    "print('c:',c)\n",
    "c=a//b\n",
    "print('c:',c)\n"
   ]
  },
  {
   "cell_type": "code",
   "execution_count": 1,
   "metadata": {},
   "outputs": [
    {
     "name": "stdout",
     "output_type": "stream",
     "text": [
      "请输入比较的数字数目：3\n",
      "请分别输入需要比较的数字数目：2\n",
      "请分别输入需要比较的数字数目：6\n",
      "请分别输入需要比较的数字数目：80\n",
      "从小到大排序为：[2, 6, 80]\n"
     ]
    }
   ],
   "source": [
    "# 题目：输入三个整数x,y,z，请把这三个数由小到大输出。\n",
    "len= []\n",
    "k = int(input('请输入比较的数字数目：'))\n",
    "for i in range(k):\n",
    "    k = int(input('请分别输入需要比较的数字数目：'))\n",
    "    len.append(k)\n",
    "len.sort()\n",
    "print('从小到大排序为：'+str(len))"
   ]
  },
  {
   "cell_type": "code",
   "execution_count": 46,
   "metadata": {},
   "outputs": [
    {
     "name": "stdout",
     "output_type": "stream",
     "text": [
      "1*1=1 \n",
      "1*2=2 2*2=4 \n",
      "1*3=3 2*3=6 3*3=9 \n",
      "1*4=4 2*4=8 3*4=12 4*4=16 \n",
      "1*5=5 2*5=10 3*5=15 4*5=20 5*5=25 \n",
      "1*6=6 2*6=12 3*6=18 4*6=24 5*6=30 6*6=36 \n",
      "1*7=7 2*7=14 3*7=21 4*7=28 5*7=35 6*7=42 7*7=49 \n",
      "1*8=8 2*8=16 3*8=24 4*8=32 5*8=40 6*8=48 7*8=56 8*8=64 \n",
      "1*9=9 2*9=18 3*9=27 4*9=36 5*9=45 6*9=54 7*9=63 8*9=72 9*9=81 \n"
     ]
    }
   ],
   "source": [
    "#题目：输出 9*9 乘法口诀表。 程序分析：分行与列考虑，共9行9列\n",
    "for i in range(1,10):\n",
    "    for j in range(1,i+1):\n",
    "        print('%d*%d=%d' % (j,i,i*j),end=' ')\n",
    "    print()      "
   ]
  },
  {
   "cell_type": "code",
   "execution_count": 23,
   "metadata": {},
   "outputs": [
    {
     "name": "stdout",
     "output_type": "stream",
     "text": [
      "水仙花数为：153\n",
      "水仙花数为：370\n",
      "水仙花数为：371\n",
      "水仙花数为：407\n"
     ]
    }
   ],
   "source": [
    "#题目：打印出所有的\"水仙花数\"，所谓\"水仙花数\"是指一个三位数，其各位数字立方和等于该数本身\n",
    "for i in range(1,10):\n",
    "    for j in range(0,10):\n",
    "        for k in range(0,10):\n",
    "            a = 100*i + 10*j + k\n",
    "            b = pow(i,3) + pow(j,3) + pow(k,3)\n",
    "            if a == b :\n",
    "                print('水仙花数为：'+ str(a))\n",
    "            elif a > b or a < b:\n",
    "                pass\n",
    "            else:\n",
    "                pass\n",
    "                      "
   ]
  },
  {
   "cell_type": "code",
   "execution_count": 24,
   "metadata": {},
   "outputs": [
    {
     "name": "stdout",
     "output_type": "stream",
     "text": [
      "请输入同学的成绩：50\n",
      "50属于C\n"
     ]
    }
   ],
   "source": [
    "#题目：学习成绩分类：学习成绩>=90分的同学用A表示，60-89分之间的用B表示，60分以下的用C表示\n",
    "a = int(input('请输入同学的成绩：'))\n",
    "if a >= 90:\n",
    "    grade = 'A'\n",
    "elif a >=60:\n",
    "    grade = 'B'\n",
    "else:\n",
    "    grade='C'\n",
    "print('%d属于%s'%(a,grade))"
   ]
  },
  {
   "cell_type": "code",
   "execution_count": 26,
   "metadata": {},
   "outputs": [
    {
     "name": "stdout",
     "output_type": "stream",
     "text": [
      "15 -2 35 0.5 5 78125 0\n"
     ]
    }
   ],
   "source": [
    "# 题目：基本运算符\n",
    "a = 5\n",
    "b = 10\n",
    "c = 7\n",
    "d = a + b\n",
    "e = a - c\n",
    "f = a*c\n",
    "g = a/b\n",
    "h = a % c\n",
    "i = a**c\n",
    "m = a//b\n",
    "print(d, e, f, g, h, i, m) "
   ]
  },
  {
   "cell_type": "code",
   "execution_count": 59,
   "metadata": {},
   "outputs": [
    {
     "name": "stdout",
     "output_type": "stream",
     "text": [
      "-5102 121.545 4545.454 5102 122 121.55 4545.454 -5102 11.024744895007775 121 -0.053505008334543386 0.9985675811296502 -0.05358175985847122\n"
     ]
    }
   ],
   "source": [
    "#函数运算\n",
    "a = -5102\n",
    "b = 121.545\n",
    "c = 4545.454\n",
    "e = abs(a)\n",
    "f = round(b)\n",
    "g = round(b,2)\n",
    "h = max(a,b,c)\n",
    "i = min(a,b,c)\n",
    "from math import sqrt\n",
    "from math import trunc\n",
    "from math import sin\n",
    "from math import cos\n",
    "from math import tan\n",
    "j = sqrt(b)\n",
    "k = trunc(b)\n",
    "l=sin(a)\n",
    "m=cos(a)\n",
    "n=tan(a)\n",
    "print(a,b,c,e,f,g,h,i,j,k,l,m,n)"
   ]
  },
  {
   "cell_type": "code",
   "execution_count": 4,
   "metadata": {},
   "outputs": [
    {
     "name": "stdout",
     "output_type": "stream",
     "text": [
      "输入阶乘数：5\n",
      "120\n"
     ]
    }
   ],
   "source": [
    "#利用递归方法求n!\n",
    "n = int(input('输入阶乘数：'))\n",
    "ht = 1\n",
    "for i in range(n):\n",
    "    ht *= i+1\n",
    "print(ht)"
   ]
  },
  {
   "cell_type": "code",
   "execution_count": 3,
   "metadata": {},
   "outputs": [
    {
     "name": "stdout",
     "output_type": "stream",
     "text": [
      "请输入数字进行判断：5\n",
      "数字不满足要求，程序退出\n"
     ]
    }
   ],
   "source": [
    "#题目：求输入数字的平方，如果平方运算后小于 50 则退出\n",
    "while 1:\n",
    "    str = int(input('请输入数字进行判断：'))\n",
    "    if pow(str,2)<50:\n",
    "        print('数字不满足要求，程序退出')\n",
    "        break\n",
    "    else:\n",
    "        print(pow(str,2))"
   ]
  },
  {
   "cell_type": "code",
   "execution_count": 24,
   "metadata": {},
   "outputs": [
    {
     "name": "stdout",
     "output_type": "stream",
     "text": [
      "输入一个数:2\n",
      "3\n"
     ]
    }
   ],
   "source": [
    "#序列求和\n",
    "n = int(input('输入一个数:'))\n",
    "sum = 0\n",
    "for i in range(n+1):\n",
    "    sum+=i\n",
    "print(sum)"
   ]
  },
  {
   "cell_type": "code",
   "execution_count": 30,
   "metadata": {},
   "outputs": [
    {
     "name": "stdout",
     "output_type": "stream",
     "text": [
      "red\n",
      "['red', 'green', 'yellow']\n",
      "['red', 'green', 'yellow', 'black']\n",
      "['red']\n",
      "['red', 'green', 'yellow', 'black', '454']\n",
      "['green', 'yellow', 'black', '454']\n"
     ]
    }
   ],
   "source": [
    "#列表\n",
    "list=['red','green','yellow','black']\n",
    "print(list[0])\n",
    "print(list[:-1])\n",
    "print(list[0:])\n",
    "print(list[0:1])\n",
    "list.append('454')\n",
    "print(list)\n",
    "del list[0]\n",
    "print(list)"
   ]
  },
  {
   "cell_type": "code",
   "execution_count": 32,
   "metadata": {},
   "outputs": [
    {
     "name": "stdout",
     "output_type": "stream",
     "text": [
      "[['a', 'b', 'c'], [1, 2, 3]]\n",
      "b\n",
      "2\n"
     ]
    }
   ],
   "source": [
    "a = ['a','b','c']\n",
    "b = [1,2,3]\n",
    "x=[a,b]\n",
    "print(x)\n",
    "print(x[0][1])\n",
    "n = len(x)\n",
    "print(n)"
   ]
  },
  {
   "cell_type": "code",
   "execution_count": 53,
   "metadata": {},
   "outputs": [
    {
     "name": "stdout",
     "output_type": "stream",
     "text": [
      "[1, 5, 6, 7]\n"
     ]
    }
   ],
   "source": [
    "#题目：将一个列表的数据复制到另一个列表中\n",
    "a=[1,5,6,7]\n",
    "b=[]\n",
    "b=a.copy()\n",
    "print(a)"
   ]
  },
  {
   "cell_type": "code",
   "execution_count": 33,
   "metadata": {},
   "outputs": [
    {
     "name": "stdout",
     "output_type": "stream",
     "text": [
      "(12, 456, 45, 'sad', 'dsa')\n"
     ]
    }
   ],
   "source": [
    "#元组\n",
    "tup1=(12,456,45)\n",
    "tup2=('sad','dsa')\n",
    "tup3=tup1+tup2\n",
    "print(tup3)"
   ]
  },
  {
   "cell_type": "code",
   "execution_count": 37,
   "metadata": {},
   "outputs": [
    {
     "name": "stdout",
     "output_type": "stream",
     "text": [
      "hante\n",
      "{'Name': 'hante', 'age': 22, 'class': 10, 'school': 'xjtu'}\n"
     ]
    }
   ],
   "source": [
    "#字典\n",
    "dict={'Name':'hante','age':22,'class':10}\n",
    "print(dict['Name'])\n",
    "dict['school']='xjtu'\n",
    "print(dict)"
   ]
  },
  {
   "cell_type": "code",
   "execution_count": 38,
   "metadata": {},
   "outputs": [
    {
     "name": "stdout",
     "output_type": "stream",
     "text": [
      "{'yellow', 'black', 'red', 'green'}\n",
      "{'b', 'd', 'f', 'r', 's', 'a'}\n",
      "{'g', 'f', 'd', 's', 'a'}\n",
      "{'b', 'r'}\n",
      "{'g', 'b', 'd', 'f', 'r', 's', 'a'}\n",
      "{'d', 's', 'f', 'a'}\n",
      "{'b', 'g', 'r'}\n"
     ]
    }
   ],
   "source": [
    "#集合\n",
    "a = {'red','yellow','black','green','red'}\n",
    "print(a)\n",
    "'red'in a\n",
    "'orange'in a\n",
    "a = set('abrasdsaf')\n",
    "b = set('sadgfdgsd')\n",
    "print(a)\n",
    "print(b)\n",
    "print(a-b)\n",
    "print(a|b)\n",
    "print(a&b)\n",
    "print(a^b)\n"
   ]
  },
  {
   "cell_type": "code",
   "execution_count": 2,
   "metadata": {},
   "outputs": [
    {
     "name": "stdout",
     "output_type": "stream",
     "text": [
      "a,b,c\n"
     ]
    }
   ],
   "source": [
    "#题目：添加逗号分隔列表成字符串\n",
    "str=','\n",
    "seq =('a','b','c')\n",
    "s = str.join(seq)\n",
    "print(s)</div><i class=\"fa fa-lightbulb-o \"></i>"
   ]
  },
  {
   "cell_type": "code",
   "execution_count": 47,
   "metadata": {},
   "outputs": [
    {
     "name": "stdout",
     "output_type": "stream",
     "text": [
      "[5, 13, 15]\n",
      "[17, 86, 74]\n",
      "[20, 14, 51]\n"
     ]
    }
   ],
   "source": [
    "#题目：两个 3 行 3 列的矩阵，实现其对应位置的数据相加，并返回一个新矩阵\n",
    "x= [[1,5,6],\n",
    "   [5,8,9],\n",
    "   [8,9,45]]\n",
    "y=[[4,8,9],\n",
    "   [12,78,65],\n",
    "   [12,5,6]]\n",
    "result=[[0,0,0],\n",
    "       [0,0,0],\n",
    "       [0,0,0]]\n",
    "for i in range(3):\n",
    "    for j in range(3):\n",
    "        result[i][j]=x[i][j]+y[i][j]\n",
    "for r in result:\n",
    "        print(r)"
   ]
  },
  {
   "cell_type": "code",
   "execution_count": 43,
   "metadata": {},
   "outputs": [
    {
     "name": "stdout",
     "output_type": "stream",
     "text": [
      "请输入一个数字：5\n",
      "不能整除2与3\n"
     ]
    }
   ],
   "source": [
    "num = int(input('请输入一个数字：'))\n",
    "if num % 2 == 0:\n",
    "    if num % 3 == 0:\n",
    "        print('你输入的数字可以整除2和3')\n",
    "    else:\n",
    "        print('可以整除3不能整除2')\n",
    "else:\n",
    "    if num % 3 == 0:\n",
    "        print('可以整除3不能除2')\n",
    "    else:\n",
    "        print('不能整除2与3')"
   ]
  },
  {
   "cell_type": "code",
   "execution_count": 48,
   "metadata": {},
   "outputs": [
    {
     "name": "stdout",
     "output_type": "stream",
     "text": [
      "猜谜游戏！\n",
      "输入猜的数字5\n",
      "小了！\n",
      "输入猜的数字6\n",
      "小了！\n",
      "输入猜的数字7\n",
      "对了！\n"
     ]
    }
   ],
   "source": [
    "num = 7\n",
    "guess = 1\n",
    "print('猜谜游戏！')\n",
    "while guess != num:\n",
    "    guess = int(input('输入猜的数字'))\n",
    "\n",
    "    if guess == num:\n",
    "        print('对了！')\n",
    "    elif guess < num:\n",
    "        print('小了！')\n",
    "    elif guess > num:\n",
    "        print('大了！')"
   ]
  },
  {
   "cell_type": "code",
   "execution_count": 49,
   "metadata": {},
   "outputs": [
    {
     "name": "stdout",
     "output_type": "stream",
     "text": [
      "1 是奇数\n",
      "2 是偶数\n",
      "3 是奇数\n",
      "4 是偶数\n",
      "5 是奇数\n",
      "6 是偶数\n"
     ]
    }
   ],
   "source": [
    "a = 1\n",
    "while a < 7:\n",
    "    if(a % 2 == 0):\n",
    "        print(a, '是偶数')\n",
    "    else:\n",
    "        print(a, '是奇数')\n",
    "    a += 1"
   ]
  },
  {
   "cell_type": "code",
   "execution_count": 51,
   "metadata": {},
   "outputs": [
    {
     "name": "stdout",
     "output_type": "stream",
     "text": [
      "0 1\n",
      "1 56\n",
      "2 78\n",
      "3 987\n"
     ]
    }
   ],
   "source": [
    "a= [1,56,78,987]\n",
    "for i in range(len(a)):\n",
    "     print(i,a[i])"
   ]
  },
  {
   "cell_type": "code",
   "execution_count": 52,
   "metadata": {},
   "outputs": [
    {
     "name": "stdout",
     "output_type": "stream",
     "text": [
      "当前字母： R\n",
      "当前字母： u\n",
      "当前字母： n\n",
      "当前字母： b\n",
      "当前变量值： 9\n",
      "当前变量值： 8\n",
      "当前变量值： 7\n",
      "当前变量值： 6\n",
      "当前变量值： 4\n",
      "当前变量值： 3\n",
      "当前变量值： 2\n",
      "当前变量值： 1\n",
      "当前变量值： 0\n",
      "bye!\n"
     ]
    }
   ],
   "source": [
    "for letter in 'Runoob':\n",
    "    if letter == 'o':\n",
    "        continue\n",
    "    print('当前字母：', letter)\n",
    "\n",
    "var = 10\n",
    "while var > 0:\n",
    "    var -= 1\n",
    "    if var == 5:\n",
    "        continue\n",
    "    print('当前变量值：', var)\n",
    "print('bye!')"
   ]
  },
  {
   "cell_type": "code",
   "execution_count": null,
   "metadata": {},
   "outputs": [],
   "source": []
  }
 ],
 "metadata": {
  "kernelspec": {
   "display_name": "Python 3",
   "language": "python",
   "name": "python3"
  },
  "language_info": {
   "codemirror_mode": {
    "name": "ipython",
    "version": 3
   },
   "file_extension": ".py",
   "mimetype": "text/x-python",
   "name": "python",
   "nbconvert_exporter": "python",
   "pygments_lexer": "ipython3",
   "version": "3.8.3"
  },
  "toc": {
   "base_numbering": 1,
   "nav_menu": {},
   "number_sections": true,
   "sideBar": true,
   "skip_h1_title": false,
   "title_cell": "Table of Contents",
   "title_sidebar": "Contents",
   "toc_cell": false,
   "toc_position": {},
   "toc_section_display": true,
   "toc_window_display": false
  }
 },
 "nbformat": 4,
 "nbformat_minor": 4
}
