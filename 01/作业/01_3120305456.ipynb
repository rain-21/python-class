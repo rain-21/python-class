{
 "cells": [
  {
   "cell_type": "code",
   "execution_count": 1,
   "metadata": {},
   "outputs": [
    {
     "name": "stdout",
     "output_type": "stream",
     "text": [
      "Hello World!\n"
     ]
    }
   ],
   "source": [
    "print(\"Hello World!\")"
   ]
  },
  {
   "cell_type": "code",
   "execution_count": 2,
   "metadata": {},
   "outputs": [
    {
     "ename": "TypeError",
     "evalue": "unsupported operand type(s) for +: 'int' and 'str'",
     "output_type": "error",
     "traceback": [
      "\u001b[1;31m---------------------------------------------------------------------------\u001b[0m",
      "\u001b[1;31mTypeError\u001b[0m                                 Traceback (most recent call last)",
      "\u001b[1;32m<ipython-input-2-fff8a18df927>\u001b[0m in \u001b[0;36m<module>\u001b[1;34m\u001b[0m\n\u001b[1;32m----> 1\u001b[1;33m \u001b[0mprint\u001b[0m\u001b[1;33m(\u001b[0m\u001b[1;36m1\u001b[0m \u001b[1;33m+\u001b[0m \u001b[1;34m\"s\"\u001b[0m\u001b[1;33m)\u001b[0m\u001b[1;33m\u001b[0m\u001b[1;33m\u001b[0m\u001b[0m\n\u001b[0m",
      "\u001b[1;31mTypeError\u001b[0m: unsupported operand type(s) for +: 'int' and 'str'"
     ]
    }
   ],
   "source": [
    "print(1 + \"s\")"
   ]
  },
  {
   "cell_type": "code",
   "execution_count": 3,
   "metadata": {},
   "outputs": [
    {
     "name": "stdout",
     "output_type": "stream",
     "text": [
      "30\n"
     ]
    }
   ],
   "source": [
    "a = 10\n",
    "b = 20 \n",
    "c = a + b\n",
    "print(c)"
   ]
  },
  {
   "cell_type": "code",
   "execution_count": 4,
   "metadata": {},
   "outputs": [
    {
     "name": "stdout",
     "output_type": "stream",
     "text": [
      "a+b= 30\n"
     ]
    }
   ],
   "source": [
    "print(\"a+b=\", a+b)"
   ]
  },
  {
   "cell_type": "code",
   "execution_count": 1,
   "metadata": {},
   "outputs": [
    {
     "ename": "SyntaxError",
     "evalue": "invalid syntax (<ipython-input-1-3103b7718964>, line 3)",
     "output_type": "error",
     "traceback": [
      "\u001b[1;36m  File \u001b[1;32m\"<ipython-input-1-3103b7718964>\"\u001b[1;36m, line \u001b[1;32m3\u001b[0m\n\u001b[1;33m    else\u001b[0m\n\u001b[1;37m        ^\u001b[0m\n\u001b[1;31mSyntaxError\u001b[0m\u001b[1;31m:\u001b[0m invalid syntax\n"
     ]
    }
   ],
   "source": [
    "if true :\n",
    "    print(\"true\")\n",
    "else\n",
    "    print(\"false\")"
   ]
  },
  {
   "cell_type": "code",
   "execution_count": 2,
   "metadata": {},
   "outputs": [
    {
     "ename": "NameError",
     "evalue": "name 'true' is not defined",
     "output_type": "error",
     "traceback": [
      "\u001b[1;31m---------------------------------------------------------------------------\u001b[0m",
      "\u001b[1;31mNameError\u001b[0m                                 Traceback (most recent call last)",
      "\u001b[1;32m<ipython-input-2-e1caae369052>\u001b[0m in \u001b[0;36m<module>\u001b[1;34m\u001b[0m\n\u001b[1;32m----> 1\u001b[1;33m \u001b[1;32mif\u001b[0m \u001b[0mtrue\u001b[0m \u001b[1;33m:\u001b[0m\u001b[1;33m\u001b[0m\u001b[1;33m\u001b[0m\u001b[0m\n\u001b[0m\u001b[0;32m      2\u001b[0m     \u001b[0mprint\u001b[0m\u001b[1;33m(\u001b[0m\u001b[1;34m\"true\"\u001b[0m\u001b[1;33m)\u001b[0m\u001b[1;33m\u001b[0m\u001b[1;33m\u001b[0m\u001b[0m\n\u001b[0;32m      3\u001b[0m \u001b[1;32melse\u001b[0m\u001b[1;33m:\u001b[0m\u001b[1;33m\u001b[0m\u001b[1;33m\u001b[0m\u001b[0m\n\u001b[0;32m      4\u001b[0m     \u001b[0mprint\u001b[0m\u001b[1;33m(\u001b[0m\u001b[1;34m\"false\"\u001b[0m\u001b[1;33m)\u001b[0m\u001b[1;33m\u001b[0m\u001b[1;33m\u001b[0m\u001b[0m\n",
      "\u001b[1;31mNameError\u001b[0m: name 'true' is not defined"
     ]
    }
   ],
   "source": [
    "if true :\n",
    "    print(\"true\")\n",
    "else:\n",
    "    print(\"false\")"
   ]
  },
  {
   "cell_type": "code",
   "execution_count": 3,
   "metadata": {},
   "outputs": [
    {
     "ename": "SyntaxError",
     "evalue": "invalid syntax (<ipython-input-3-27bfeea7b5a2>, line 3)",
     "output_type": "error",
     "traceback": [
      "\u001b[1;36m  File \u001b[1;32m\"<ipython-input-3-27bfeea7b5a2>\"\u001b[1;36m, line \u001b[1;32m3\u001b[0m\n\u001b[1;33m    else\u001b[0m\n\u001b[1;37m        ^\u001b[0m\n\u001b[1;31mSyntaxError\u001b[0m\u001b[1;31m:\u001b[0m invalid syntax\n"
     ]
    }
   ],
   "source": [
    "if True :\n",
    "    print(\"True\")\n",
    "else\n",
    "    print(\"False\")"
   ]
  },
  {
   "cell_type": "code",
   "execution_count": 4,
   "metadata": {},
   "outputs": [
    {
     "name": "stdout",
     "output_type": "stream",
     "text": [
      "True\n"
     ]
    }
   ],
   "source": [
    "if True :\n",
    "    print(\"True\")\n",
    "else:\n",
    "    print(\"False\")"
   ]
  },
  {
   "cell_type": "code",
   "execution_count": 5,
   "metadata": {},
   "outputs": [
    {
     "ename": "SyntaxError",
     "evalue": "invalid syntax (<ipython-input-5-3b27c0a5c781>, line 12)",
     "output_type": "error",
     "traceback": [
      "\u001b[1;36m  File \u001b[1;32m\"<ipython-input-5-3b27c0a5c781>\"\u001b[1;36m, line \u001b[1;32m12\u001b[0m\n\u001b[1;33m    print(r str + \"\\nrunoob\")\u001b[0m\n\u001b[1;37m            ^\u001b[0m\n\u001b[1;31mSyntaxError\u001b[0m\u001b[1;31m:\u001b[0m invalid syntax\n"
     ]
    }
   ],
   "source": [
    "str=\"Runoob\"\n",
    "print(str)\n",
    "print(str[0:-1])\n",
    "print(str[0])\n",
    "print(str[2:5])\n",
    "print(str[2:])\n",
    "print(str[1:5:2])\n",
    "print(str*2)\n",
    "print(str + \"您好！\")\n",
    "print(\"========================\")\n",
    "print(str + \"\\nrunoob\" )\n",
    "print(r str + \"\\nrunoob\")"
   ]
  },
  {
   "cell_type": "code",
   "execution_count": 6,
   "metadata": {},
   "outputs": [
    {
     "name": "stdout",
     "output_type": "stream",
     "text": [
      "Runoob\n",
      "Runoo\n",
      "R\n",
      "noo\n",
      "noob\n",
      "uo\n",
      "RunoobRunoob\n",
      "Runoob您好！\n",
      "========================\n",
      "Runoob\n",
      "runoob\n",
      "Runoob\\nrunoob\n"
     ]
    }
   ],
   "source": [
    "str=\"Runoob\"\n",
    "print(str)\n",
    "print(str[0:-1])\n",
    "print(str[0])\n",
    "print(str[2:5])\n",
    "print(str[2:])\n",
    "print(str[1:5:2])\n",
    "print(str*2)\n",
    "print(str + \"您好！\")\n",
    "print(\"========================\")\n",
    "print(str + \"\\nrunoob\" )\n",
    "print(str + r\"\\nrunoob\")"
   ]
  },
  {
   "cell_type": "code",
   "execution_count": 7,
   "metadata": {},
   "outputs": [
    {
     "name": "stdin",
     "output_type": "stream",
     "text": [
      "请输入一个数： 456\n"
     ]
    },
    {
     "name": "stdout",
     "output_type": "stream",
     "text": [
      "456\n"
     ]
    }
   ],
   "source": [
    "a = input(\"请输入一个数：\")\n",
    "print(a)"
   ]
  },
  {
   "cell_type": "code",
   "execution_count": 9,
   "metadata": {},
   "outputs": [
    {
     "ename": "SyntaxError",
     "evalue": "expression cannot contain assignment, perhaps you meant \"==\"? (<ipython-input-9-240afcbfbe47>, line 5)",
     "output_type": "error",
     "traceback": [
      "\u001b[1;36m  File \u001b[1;32m\"<ipython-input-9-240afcbfbe47>\"\u001b[1;36m, line \u001b[1;32m5\u001b[0m\n\u001b[1;33m    print(\"s\" + end = \" \")\u001b[0m\n\u001b[1;37m          ^\u001b[0m\n\u001b[1;31mSyntaxError\u001b[0m\u001b[1;31m:\u001b[0m expression cannot contain assignment, perhaps you meant \"==\"?\n"
     ]
    }
   ],
   "source": [
    "print(\"s\")\n",
    "a = 10\n",
    "print(a)\n",
    "print(\"======================\")\n",
    "print(\"s\" + end = \" \")\n",
    "print(a + end = \" \")"
   ]
  },
  {
   "cell_type": "code",
   "execution_count": 10,
   "metadata": {},
   "outputs": [
    {
     "ename": "SyntaxError",
     "evalue": "expression cannot contain assignment, perhaps you meant \"==\"? (<ipython-input-10-240afcbfbe47>, line 5)",
     "output_type": "error",
     "traceback": [
      "\u001b[1;36m  File \u001b[1;32m\"<ipython-input-10-240afcbfbe47>\"\u001b[1;36m, line \u001b[1;32m5\u001b[0m\n\u001b[1;33m    print(\"s\" + end = \" \")\u001b[0m\n\u001b[1;37m          ^\u001b[0m\n\u001b[1;31mSyntaxError\u001b[0m\u001b[1;31m:\u001b[0m expression cannot contain assignment, perhaps you meant \"==\"?\n"
     ]
    }
   ],
   "source": [
    "print(\"s\")\n",
    "a = 10\n",
    "print(a)\n",
    "print(\"======================\")\n",
    "print(\"s\" + end = \" \")\n",
    "print(a + end = \" \")"
   ]
  },
  {
   "cell_type": "code",
   "execution_count": 11,
   "metadata": {},
   "outputs": [
    {
     "name": "stdout",
     "output_type": "stream",
     "text": [
      "s\n",
      "10\n",
      "======================\n",
      "s 10 "
     ]
    }
   ],
   "source": [
    "print(\"s\")\n",
    "a = 10\n",
    "print(a)\n",
    "print(\"======================\")\n",
    "print(\"s\" , end= \" \")\n",
    "print(a , end= \" \")"
   ]
  },
  {
   "cell_type": "code",
   "execution_count": 12,
   "metadata": {},
   "outputs": [
    {
     "name": "stdout",
     "output_type": "stream",
     "text": [
      "==========Python import mode===============\n",
      "D:\\ANACONDA\\lib\\site-packages\\ipykernel_launcher.py\n",
      "-f\n",
      "C:\\Users\\PublicStaticVoid\\AppData\\Roaming\\jupyter\\runtime\\kernel-77d74088-c420-4879-8a0b-25e93dd60a71.json\n",
      "\n",
      " Python的路径为: ['C:\\\\Users\\\\PublicStaticVoid', 'D:\\\\ANACONDA\\\\python38.zip', 'D:\\\\ANACONDA\\\\DLLs', 'D:\\\\ANACONDA\\\\lib', 'D:\\\\ANACONDA', '', 'D:\\\\ANACONDA\\\\lib\\\\site-packages', 'D:\\\\ANACONDA\\\\lib\\\\site-packages\\\\win32', 'D:\\\\ANACONDA\\\\lib\\\\site-packages\\\\win32\\\\lib', 'D:\\\\ANACONDA\\\\lib\\\\site-packages\\\\Pythonwin', 'D:\\\\ANACONDA\\\\lib\\\\site-packages\\\\IPython\\\\extensions', 'C:\\\\Users\\\\PublicStaticVoid\\\\.ipython']\n"
     ]
    }
   ],
   "source": [
    "import sys\n",
    "print(\"==========Python import mode===============\")\n",
    "for i in sys.argv:\n",
    "    print(i)\n",
    "print(\"\\n Python的路径为:\", sys.path)"
   ]
  },
  {
   "cell_type": "code",
   "execution_count": 13,
   "metadata": {},
   "outputs": [
    {
     "ename": "NameError",
     "evalue": "name 'typr' is not defined",
     "output_type": "error",
     "traceback": [
      "\u001b[1;31m---------------------------------------------------------------------------\u001b[0m",
      "\u001b[1;31mNameError\u001b[0m                                 Traceback (most recent call last)",
      "\u001b[1;32m<ipython-input-13-0cd580752783>\u001b[0m in \u001b[0;36m<module>\u001b[1;34m\u001b[0m\n\u001b[0;32m      1\u001b[0m \u001b[0ma\u001b[0m\u001b[1;33m,\u001b[0m\u001b[0mb\u001b[0m\u001b[1;33m,\u001b[0m\u001b[0mc\u001b[0m\u001b[1;33m,\u001b[0m\u001b[0md\u001b[0m \u001b[1;33m=\u001b[0m \u001b[1;36m220\u001b[0m\u001b[1;33m,\u001b[0m\u001b[1;36m5.5\u001b[0m\u001b[1;33m,\u001b[0m\u001b[1;32mTrue\u001b[0m\u001b[1;33m,\u001b[0m \u001b[1;36m4\u001b[0m\u001b[1;33m+\u001b[0m\u001b[1;36m3j\u001b[0m\u001b[1;33m\u001b[0m\u001b[1;33m\u001b[0m\u001b[0m\n\u001b[1;32m----> 2\u001b[1;33m \u001b[0mprint\u001b[0m\u001b[1;33m(\u001b[0m\u001b[0mtypr\u001b[0m\u001b[1;33m(\u001b[0m\u001b[0ma\u001b[0m\u001b[1;33m)\u001b[0m\u001b[1;33m,\u001b[0m \u001b[0mtype\u001b[0m\u001b[1;33m(\u001b[0m\u001b[0mb\u001b[0m\u001b[1;33m)\u001b[0m\u001b[1;33m,\u001b[0m \u001b[0mtype\u001b[0m\u001b[1;33m(\u001b[0m\u001b[0mc\u001b[0m\u001b[1;33m)\u001b[0m\u001b[1;33m,\u001b[0m \u001b[0mtype\u001b[0m\u001b[1;33m(\u001b[0m\u001b[0md\u001b[0m\u001b[1;33m)\u001b[0m\u001b[1;33m)\u001b[0m\u001b[1;33m\u001b[0m\u001b[1;33m\u001b[0m\u001b[0m\n\u001b[0m",
      "\u001b[1;31mNameError\u001b[0m: name 'typr' is not defined"
     ]
    }
   ],
   "source": [
    "a,b,c,d = 220,5.5,True, 4+3j\n",
    "print(typr(a), type(b), type(c), type(d))"
   ]
  },
  {
   "cell_type": "code",
   "execution_count": 14,
   "metadata": {},
   "outputs": [
    {
     "name": "stdout",
     "output_type": "stream",
     "text": [
      "<class 'int'> <class 'float'> <class 'bool'> <class 'complex'>\n"
     ]
    }
   ],
   "source": [
    "a,b,c,d = 220,5.5,True, 4+3j\n",
    "print(type(a), type(b), type(c), type(d))"
   ]
  },
  {
   "cell_type": "code",
   "execution_count": 15,
   "metadata": {},
   "outputs": [
    {
     "data": {
      "text/plain": [
       "True"
      ]
     },
     "execution_count": 15,
     "metadata": {},
     "output_type": "execute_result"
    }
   ],
   "source": [
    "a = 111\n",
    "isinstance(a, int)"
   ]
  },
  {
   "cell_type": "code",
   "execution_count": 17,
   "metadata": {},
   "outputs": [
    {
     "ename": "SyntaxError",
     "evalue": "unexpected EOF while parsing (<ipython-input-17-31a7291579bd>, line 8)",
     "output_type": "error",
     "traceback": [
      "\u001b[1;36m  File \u001b[1;32m\"<ipython-input-17-31a7291579bd>\"\u001b[1;36m, line \u001b[1;32m8\u001b[0m\n\u001b[1;33m    type(B() == A\u001b[0m\n\u001b[1;37m                 ^\u001b[0m\n\u001b[1;31mSyntaxError\u001b[0m\u001b[1;31m:\u001b[0m unexpected EOF while parsing\n"
     ]
    }
   ],
   "source": [
    "class A:\n",
    "    pass\n",
    "class B(A):\n",
    "    pass\n",
    "isinstance(A(), A)\n",
    "type(A()) == A\n",
    "isinstance(B(), A)\n",
    "type(B() == A"
   ]
  },
  {
   "cell_type": "code",
   "execution_count": 18,
   "metadata": {},
   "outputs": [
    {
     "data": {
      "text/plain": [
       "False"
      ]
     },
     "execution_count": 18,
     "metadata": {},
     "output_type": "execute_result"
    }
   ],
   "source": [
    "class A:\n",
    "    pass\n",
    "class B(A):\n",
    "    pass\n",
    "isinstance(A(), A)\n",
    "type(A()) == A\n",
    "isinstance(B(), A)\n",
    "type(B()) == A"
   ]
  },
  {
   "cell_type": "code",
   "execution_count": 19,
   "metadata": {},
   "outputs": [
    {
     "name": "stdout",
     "output_type": "stream",
     "text": [
      "True\n",
      "False\n"
     ]
    }
   ],
   "source": [
    "class A:\n",
    "    pass\n",
    "class B(A):\n",
    "    pass\n",
    "isinstance(A(), A)\n",
    "print(type(A()) == A)\n",
    "isinstance(B(), A)\n",
    "print(type(B()) == A)"
   ]
  },
  {
   "cell_type": "code",
   "execution_count": 20,
   "metadata": {},
   "outputs": [
    {
     "name": "stdout",
     "output_type": "stream",
     "text": [
      "True\n",
      "True\n",
      "True\n",
      "False\n"
     ]
    }
   ],
   "source": [
    "class A:\n",
    "    pass\n",
    "class B(A):\n",
    "    pass\n",
    "print(isinstance(A(), A))\n",
    "print(type(A()) == A)\n",
    "print(isinstance(B(), A))\n",
    "print(type(B()) == A)"
   ]
  },
  {
   "cell_type": "code",
   "execution_count": 21,
   "metadata": {},
   "outputs": [
    {
     "name": "stdout",
     "output_type": "stream",
     "text": [
      "{'s', 'w', 'r', 'j', 'b', 'g', 'f', 'k', 'h', 'd', 'n'}\n",
      "{'e', 's', 'w', 'r', 'b', 'k', 'h', 'v', 'j', 'g', 'f', 'd', 'n'}\n",
      "{'s', 'w', 'r', 'j', 'g', 'k', 'd', 'n'}\n",
      "{'b', 'h', 'f'}\n",
      "{'e', 'v', 'b', 'f', 'h'}\n"
     ]
    }
   ],
   "source": [
    "a = set(\"fnjkrsdfgbwsjkhfgbk\")\n",
    "b = set(\"vgsedrgwegnjk\")\n",
    "\n",
    "print(a)\n",
    "print(a | b)\n",
    "print(a & b)\n",
    "print(a - b)\n",
    "print(a ^ b)"
   ]
  },
  {
   "cell_type": "code",
   "execution_count": 22,
   "metadata": {},
   "outputs": [
    {
     "ename": "SyntaxError",
     "evalue": "invalid syntax (<ipython-input-22-4e217d04fa6c>, line 2)",
     "output_type": "error",
     "traceback": [
      "\u001b[1;36m  File \u001b[1;32m\"<ipython-input-22-4e217d04fa6c>\"\u001b[1;36m, line \u001b[1;32m2\u001b[0m\n\u001b[1;33m    if __name__ == \"__main__\"\u001b[0m\n\u001b[1;37m                             ^\u001b[0m\n\u001b[1;31mSyntaxError\u001b[0m\u001b[1;31m:\u001b[0m invalid syntax\n"
     ]
    }
   ],
   "source": [
    "import requests\n",
    "if __name__ == \"__main__\"\n",
    "    print(\"as\")"
   ]
  },
  {
   "cell_type": "code",
   "execution_count": 23,
   "metadata": {},
   "outputs": [
    {
     "name": "stdout",
     "output_type": "stream",
     "text": [
      "as\n"
     ]
    }
   ],
   "source": [
    "import requests\n",
    "if __name__ == \"__main__\" :\n",
    "    print(\"as\")"
   ]
  },
  {
   "cell_type": "code",
   "execution_count": 24,
   "metadata": {},
   "outputs": [
    {
     "ename": "SyntaxError",
     "evalue": "invalid syntax (<ipython-input-24-7f24af26649a>, line 2)",
     "output_type": "error",
     "traceback": [
      "\u001b[1;36m  File \u001b[1;32m\"<ipython-input-24-7f24af26649a>\"\u001b[1;36m, line \u001b[1;32m2\u001b[0m\n\u001b[1;33m    if __name__ == \"__main__\"\u001b[0m\n\u001b[1;37m                             ^\u001b[0m\n\u001b[1;31mSyntaxError\u001b[0m\u001b[1;31m:\u001b[0m invalid syntax\n"
     ]
    }
   ],
   "source": [
    "import requests\n",
    "if __name__ == \"__main__\"\n",
    "    url = \"https://www.37zw.net/3/3632/\"\n",
    "    headers = {\n",
    "        \"User-Agent\" : \"Mozilla/5.0 (Windows NT 10.0; Win64; x64; rv:82.0) Gecko/20100101 Firefox/82.0\"\n",
    "    }\n",
    "    page_text = requests.get(url=url, headers=headers).text\n",
    "    with open(\"./test.html\", \"w\", encoding=\"utf-8\") as f:\n",
    "        f.write(page_text)\n",
    "    print(\"保存成功！！！\")"
   ]
  },
  {
   "cell_type": "code",
   "execution_count": 25,
   "metadata": {},
   "outputs": [
    {
     "ename": "SyntaxError",
     "evalue": "invalid character in identifier (<ipython-input-25-f7b9daa8563e>, line 2)",
     "output_type": "error",
     "traceback": [
      "\u001b[1;36m  File \u001b[1;32m\"<ipython-input-25-f7b9daa8563e>\"\u001b[1;36m, line \u001b[1;32m2\u001b[0m\n\u001b[1;33m    if __name__ == \"__main__\"：\u001b[0m\n\u001b[1;37m                             ^\u001b[0m\n\u001b[1;31mSyntaxError\u001b[0m\u001b[1;31m:\u001b[0m invalid character in identifier\n"
     ]
    }
   ],
   "source": [
    "import requests\n",
    "if __name__ == \"__main__\"：\n",
    "    url = \"https://www.37zw.net/3/3632/\"\n",
    "    headers = {\n",
    "        \"User-Agent\" : \"Mozilla/5.0 (Windows NT 10.0; Win64; x64; rv:82.0) Gecko/20100101 Firefox/82.0\"\n",
    "    }\n",
    "    page_text = requests.get(url=url, headers=headers).text\n",
    "    with open(\"./test.html\", \"w\", encoding=\"utf-8\") as f:\n",
    "        f.write(page_text)\n",
    "    print(\"保存成功！！！\")"
   ]
  },
  {
   "cell_type": "code",
   "execution_count": 26,
   "metadata": {},
   "outputs": [
    {
     "name": "stdout",
     "output_type": "stream",
     "text": [
      "保存成功！！！\n"
     ]
    }
   ],
   "source": [
    "import requests\n",
    "if __name__ == \"__main__\":\n",
    "    url = \"https://www.37zw.net/3/3632/\"\n",
    "    headers = {\n",
    "        \"User-Agent\" : \"Mozilla/5.0 (Windows NT 10.0; Win64; x64; rv:82.0) Gecko/20100101 Firefox/82.0\"\n",
    "    }\n",
    "    page_text = requests.get(url=url, headers=headers).text\n",
    "    with open(\"./test.html\", \"w\", encoding=\"utf-8\") as f:\n",
    "        f.write(page_text)\n",
    "    print(\"保存成功！！！\")"
   ]
  },
  {
   "cell_type": "code",
   "execution_count": 28,
   "metadata": {},
   "outputs": [
    {
     "name": "stdout",
     "output_type": "stream",
     "text": [
      "保存成功！！！\n"
     ]
    }
   ],
   "source": [
    "import requests\n",
    "if __name__ == \"__main__\":\n",
    "    url = \"https://www.37zw.net/3/3632/\"\n",
    "    headers = {\n",
    "        \"User-Agent\" : \"Mozilla/5.0 (Windows NT 10.0; Win64; x64; rv:82.0) Gecko/20100101 Firefox/82.0\"\n",
    "    }\n",
    "    page_text = requests.get(url=url, headers=headers).text\n",
    "\n",
    "    with open(\"D:/test.html\", \"w\", encoding=\"utf-8\") as f:\n",
    "        f.write(page_text)\n",
    "    print(\"保存成功！！！\")"
   ]
  },
  {
   "cell_type": "code",
   "execution_count": 29,
   "metadata": {},
   "outputs": [
    {
     "name": "stdout",
     "output_type": "stream",
     "text": [
      "保存成功！！！\n"
     ]
    }
   ],
   "source": [
    "import requests\n",
    "if __name__ == \"__main__\":\n",
    "    url = \"https://www.37zw.net/3/3632/\"\n",
    "    headers = {\n",
    "        \"User-Agent\" : \"Mozilla/5.0 (Windows NT 10.0; Win64; x64; rv:82.0) Gecko/20100101 Firefox/82.0\"\n",
    "    }\n",
    "    page_text = requests.get(url=url, headers=headers).text\n",
    "    page_text = page_text.encode(\"iso-8859-1\").decode(\"gbk\")\n",
    "    with open(\"D:/test.html\", \"w\", encoding=\"utf-8\") as f:\n",
    "        f.write(page_text)\n",
    "    print(\"保存成功！！！\")"
   ]
  },
  {
   "cell_type": "code",
   "execution_count": 30,
   "metadata": {},
   "outputs": [
    {
     "name": "stdout",
     "output_type": "stream",
     "text": [
      "保存成功！！！\n"
     ]
    }
   ],
   "source": [
    "import requests\n",
    "if __name__ == \"__main__\":\n",
    "    url = \"https://www.37zw.net/3/3632/\"\n",
    "    headers = {\n",
    "        \"User-Agent\" : \"Mozilla/5.0 (Windows NT 10.0; Win64; x64; rv:82.0) Gecko/20100101 Firefox/82.0\"\n",
    "    }\n",
    "    page_text = requests.get(url=url, headers=headers).text\n",
    "    \n",
    "    with open(\"D:/test.html\", \"w\", encoding=\"utf-8\") as f:\n",
    "        page_text = page_text.encode(\"iso-8859-1\").decode(\"gbk\")\n",
    "        f.write(page_text)\n",
    "    print(\"保存成功！！！\")"
   ]
  },
  {
   "cell_type": "code",
   "execution_count": 36,
   "metadata": {},
   "outputs": [
    {
     "name": "stdout",
     "output_type": "stream",
     "text": [
      "保存成功！！！\n"
     ]
    }
   ],
   "source": [
    "import requests\n",
    "if __name__ == \"__main__\":\n",
    "    url = \"https://www.37zw.net/3/3632/\"\n",
    "    headers = {\n",
    "        \"User-Agent\" : \"Mozilla/5.0 (Windows NT 10.0; Win64; x64; rv:82.0) Gecko/20100101 Firefox/82.0\"\n",
    "    }\n",
    "    page_text = requests.get(url=url, headers=headers).text\n",
    "    \n",
    "    with open(\"D:/test.html\", \"w\", encoding=\"gbk\") as f:\n",
    "        page_text = page_text.encode(\"iso-8859-1\").decode(\"gbk\")\n",
    "        f.write(page_text)\n",
    "    print(\"保存成功！！！\")"
   ]
  },
  {
   "cell_type": "code",
   "execution_count": 32,
   "metadata": {},
   "outputs": [
    {
     "name": "stdout",
     "output_type": "stream",
     "text": [
      "保存成功！！！\n"
     ]
    }
   ],
   "source": [
    "import requests\n",
    "if __name__ == \"__main__\":\n",
    "    url = \"https://www.37zw.net/3/3632/\"\n",
    "    headers = {\n",
    "        \"User-Agent\" : \"Mozilla/5.0 (Windows NT 10.0; Win64; x64; rv:82.0) Gecko/20100101 Firefox/82.0\"\n",
    "    }\n",
    "    page_text = requests.get(url=url, headers=headers).text\n",
    "    page_text = page_text.encode(\"iso-8859-1\").decode(\"gbk\")\n",
    "    with open(\"./test.html\", \"w\", encoding=\"utf-8\") as f:\n",
    "        f.write(page_text)\n",
    "    print(\"保存成功！！！\")"
   ]
  },
  {
   "cell_type": "code",
   "execution_count": 35,
   "metadata": {},
   "outputs": [
    {
     "name": "stdout",
     "output_type": "stream",
     "text": [
      "保存成功！！！\n"
     ]
    }
   ],
   "source": [
    "import requests\n",
    "if __name__ == \"__main__\":\n",
    "    url = \"https://www.37zw.net/3/3632/\"\n",
    "    headers = {\n",
    "        \"User-Agent\" : \"Mozilla/5.0 (Windows NT 10.0; Win64; x64; rv:82.0) Gecko/20100101 Firefox/82.0\"\n",
    "    }\n",
    "    page_text = requests.get(url=url, headers=headers).text\n",
    "    \n",
    "    with open(\"./test.html\", \"w\", encoding=\"utf-8\") as f:\n",
    "        page_text = page_text.encode(\"iso-8859-1\").decode(\"gbk\")\n",
    "        f.write(page_text)\n",
    "    print(\"保存成功！！！\")"
   ]
  },
  {
   "cell_type": "code",
   "execution_count": 37,
   "metadata": {},
   "outputs": [
    {
     "name": "stdout",
     "output_type": "stream",
     "text": [
      "保存成功！！！\n"
     ]
    }
   ],
   "source": [
    "import requests\n",
    "if __name__ == \"__main__\":\n",
    "    url = \"https://www.37zw.net/3/3632/\"\n",
    "    headers = {\n",
    "        \"User-Agent\" : \"Mozilla/5.0 (Windows NT 10.0; Win64; x64; rv:82.0) Gecko/20100101 Firefox/82.0\"\n",
    "    }\n",
    "    page_text = requests.get(url=url, headers=headers).text\n",
    "    \n",
    "    with open(\"D:/test.html\", \"w\", encoding=\"utf-8\") as f:\n",
    "        page_text = page_text.encode(\"iso-8859-1\").decode(\"gbk\")\n",
    "        f.write(page_text)\n",
    "    print(\"保存成功！！！\")"
   ]
  },
  {
   "cell_type": "code",
   "execution_count": 43,
   "metadata": {},
   "outputs": [
    {
     "ename": "UnicodeDecodeError",
     "evalue": "'utf-8' codec can't decode byte 0xbe in position 102: invalid start byte",
     "output_type": "error",
     "traceback": [
      "\u001b[1;31m---------------------------------------------------------------------------\u001b[0m",
      "\u001b[1;31mUnicodeDecodeError\u001b[0m                        Traceback (most recent call last)",
      "\u001b[1;32m<ipython-input-43-031dce64b52c>\u001b[0m in \u001b[0;36m<module>\u001b[1;34m\u001b[0m\n\u001b[0;32m      6\u001b[0m     }\n\u001b[0;32m      7\u001b[0m     \u001b[0mpage_text\u001b[0m \u001b[1;33m=\u001b[0m \u001b[0mrequests\u001b[0m\u001b[1;33m.\u001b[0m\u001b[0mget\u001b[0m\u001b[1;33m(\u001b[0m\u001b[0murl\u001b[0m\u001b[1;33m=\u001b[0m\u001b[0murl\u001b[0m\u001b[1;33m,\u001b[0m \u001b[0mheaders\u001b[0m\u001b[1;33m=\u001b[0m\u001b[0mheaders\u001b[0m\u001b[1;33m)\u001b[0m\u001b[1;33m.\u001b[0m\u001b[0mtext\u001b[0m\u001b[1;33m\u001b[0m\u001b[1;33m\u001b[0m\u001b[0m\n\u001b[1;32m----> 8\u001b[1;33m     \u001b[0mpage_text\u001b[0m \u001b[1;33m=\u001b[0m \u001b[0mpage_text\u001b[0m\u001b[1;33m.\u001b[0m\u001b[0mencode\u001b[0m\u001b[1;33m(\u001b[0m\u001b[1;34m\"iso-8859-1\"\u001b[0m\u001b[1;33m)\u001b[0m\u001b[1;33m.\u001b[0m\u001b[0mdecode\u001b[0m\u001b[1;33m(\u001b[0m\u001b[1;34m\"utf-8\"\u001b[0m\u001b[1;33m)\u001b[0m\u001b[1;33m\u001b[0m\u001b[1;33m\u001b[0m\u001b[0m\n\u001b[0m\u001b[0;32m      9\u001b[0m \u001b[1;33m\u001b[0m\u001b[0m\n\u001b[0;32m     10\u001b[0m     \u001b[1;32mwith\u001b[0m \u001b[0mopen\u001b[0m\u001b[1;33m(\u001b[0m\u001b[1;34m\"D:/test2.html\"\u001b[0m\u001b[1;33m,\u001b[0m \u001b[1;34m\"w\"\u001b[0m\u001b[1;33m,\u001b[0m \u001b[0mencoding\u001b[0m\u001b[1;33m=\u001b[0m\u001b[1;34m\"utf-8\"\u001b[0m\u001b[1;33m)\u001b[0m \u001b[1;32mas\u001b[0m \u001b[0mf\u001b[0m\u001b[1;33m:\u001b[0m\u001b[1;33m\u001b[0m\u001b[1;33m\u001b[0m\u001b[0m\n",
      "\u001b[1;31mUnicodeDecodeError\u001b[0m: 'utf-8' codec can't decode byte 0xbe in position 102: invalid start byte"
     ]
    }
   ],
   "source": [
    "import requests\n",
    "if __name__ == \"__main__\":\n",
    "    url = \"https://www.37zw.net/3/3632/\"\n",
    "    headers = {\n",
    "        \"User-Agent\" : \"Mozilla/5.0 (Windows NT 10.0; Win64; x64; rv:82.0) Gecko/20100101 Firefox/82.0\"\n",
    "    }\n",
    "    page_text = requests.get(url=url, headers=headers).text\n",
    "    page_text = page_text.encode(\"iso-8859-1\").decode(\"utf-8\")\n",
    "    \n",
    "    with open(\"D:/test2.html\", \"w\", encoding=\"utf-8\") as f:\n",
    "        \n",
    "        f.write(page_text)\n",
    "    print(\"保存成功！！！\")"
   ]
  },
  {
   "cell_type": "code",
   "execution_count": 44,
   "metadata": {},
   "outputs": [
    {
     "ename": "TypeError",
     "evalue": "write() argument must be str, not bytes",
     "output_type": "error",
     "traceback": [
      "\u001b[1;31m---------------------------------------------------------------------------\u001b[0m",
      "\u001b[1;31mTypeError\u001b[0m                                 Traceback (most recent call last)",
      "\u001b[1;32m<ipython-input-44-37518f1ddb7a>\u001b[0m in \u001b[0;36m<module>\u001b[1;34m\u001b[0m\n\u001b[0;32m     10\u001b[0m     \u001b[1;32mwith\u001b[0m \u001b[0mopen\u001b[0m\u001b[1;33m(\u001b[0m\u001b[1;34m\"D:/test3.html\"\u001b[0m\u001b[1;33m,\u001b[0m \u001b[1;34m\"w\"\u001b[0m\u001b[1;33m,\u001b[0m \u001b[0mencoding\u001b[0m\u001b[1;33m=\u001b[0m\u001b[1;34m\"utf-8\"\u001b[0m\u001b[1;33m)\u001b[0m \u001b[1;32mas\u001b[0m \u001b[0mf\u001b[0m\u001b[1;33m:\u001b[0m\u001b[1;33m\u001b[0m\u001b[1;33m\u001b[0m\u001b[0m\n\u001b[0;32m     11\u001b[0m \u001b[1;33m\u001b[0m\u001b[0m\n\u001b[1;32m---> 12\u001b[1;33m         \u001b[0mf\u001b[0m\u001b[1;33m.\u001b[0m\u001b[0mwrite\u001b[0m\u001b[1;33m(\u001b[0m\u001b[0mpage_text\u001b[0m\u001b[1;33m)\u001b[0m\u001b[1;33m\u001b[0m\u001b[1;33m\u001b[0m\u001b[0m\n\u001b[0m\u001b[0;32m     13\u001b[0m     \u001b[0mprint\u001b[0m\u001b[1;33m(\u001b[0m\u001b[1;34m\"保存成功！！！\"\u001b[0m\u001b[1;33m)\u001b[0m\u001b[1;33m\u001b[0m\u001b[1;33m\u001b[0m\u001b[0m\n",
      "\u001b[1;31mTypeError\u001b[0m: write() argument must be str, not bytes"
     ]
    }
   ],
   "source": [
    "import requests\n",
    "if __name__ == \"__main__\":\n",
    "    url = \"https://www.37zw.net/3/3632/\"\n",
    "    headers = {\n",
    "        \"User-Agent\" : \"Mozilla/5.0 (Windows NT 10.0; Win64; x64; rv:82.0) Gecko/20100101 Firefox/82.0\"\n",
    "    }\n",
    "    page_text = requests.get(url=url, headers=headers).text\n",
    "    #page_text = page_text.encode(\"iso-8859-1\").decode(\"utf-8\")\n",
    "    page_text = page_text.encode(\"utf-8\")\n",
    "    with open(\"D:/test3.html\", \"w\", encoding=\"utf-8\") as f:\n",
    "        \n",
    "        f.write(page_text)\n",
    "    print(\"保存成功！！！\")"
   ]
  },
  {
   "cell_type": "code",
   "execution_count": 45,
   "metadata": {},
   "outputs": [
    {
     "ename": "TypeError",
     "evalue": "request() got an unexpected keyword argument 'encoding'",
     "output_type": "error",
     "traceback": [
      "\u001b[1;31m---------------------------------------------------------------------------\u001b[0m",
      "\u001b[1;31mTypeError\u001b[0m                                 Traceback (most recent call last)",
      "\u001b[1;32m<ipython-input-45-413318541cdb>\u001b[0m in \u001b[0;36m<module>\u001b[1;34m\u001b[0m\n\u001b[0;32m      5\u001b[0m         \u001b[1;34m\"User-Agent\"\u001b[0m \u001b[1;33m:\u001b[0m \u001b[1;34m\"Mozilla/5.0 (Windows NT 10.0; Win64; x64; rv:82.0) Gecko/20100101 Firefox/82.0\"\u001b[0m\u001b[1;33m\u001b[0m\u001b[1;33m\u001b[0m\u001b[0m\n\u001b[0;32m      6\u001b[0m     }\n\u001b[1;32m----> 7\u001b[1;33m     \u001b[0mpage_text\u001b[0m \u001b[1;33m=\u001b[0m \u001b[0mrequests\u001b[0m\u001b[1;33m.\u001b[0m\u001b[0mget\u001b[0m\u001b[1;33m(\u001b[0m\u001b[0murl\u001b[0m\u001b[1;33m=\u001b[0m\u001b[0murl\u001b[0m\u001b[1;33m,\u001b[0m \u001b[0mheaders\u001b[0m\u001b[1;33m=\u001b[0m\u001b[0mheaders\u001b[0m\u001b[1;33m,\u001b[0m \u001b[0mencoding\u001b[0m\u001b[1;33m=\u001b[0m\u001b[1;34m\"utf-8\"\u001b[0m\u001b[1;33m)\u001b[0m\u001b[1;33m.\u001b[0m\u001b[0mtext\u001b[0m\u001b[1;33m\u001b[0m\u001b[1;33m\u001b[0m\u001b[0m\n\u001b[0m\u001b[0;32m      8\u001b[0m     \u001b[1;31m#page_text = page_text.encode(\"iso-8859-1\").decode(\"utf-8\")\u001b[0m\u001b[1;33m\u001b[0m\u001b[1;33m\u001b[0m\u001b[1;33m\u001b[0m\u001b[0m\n\u001b[0;32m      9\u001b[0m     \u001b[1;31m#page_text = page_text.encode(\"utf-8\")\u001b[0m\u001b[1;33m\u001b[0m\u001b[1;33m\u001b[0m\u001b[1;33m\u001b[0m\u001b[0m\n",
      "\u001b[1;32mD:\\ANACONDA\\lib\\site-packages\\requests\\api.py\u001b[0m in \u001b[0;36mget\u001b[1;34m(url, params, **kwargs)\u001b[0m\n\u001b[0;32m     74\u001b[0m \u001b[1;33m\u001b[0m\u001b[0m\n\u001b[0;32m     75\u001b[0m     \u001b[0mkwargs\u001b[0m\u001b[1;33m.\u001b[0m\u001b[0msetdefault\u001b[0m\u001b[1;33m(\u001b[0m\u001b[1;34m'allow_redirects'\u001b[0m\u001b[1;33m,\u001b[0m \u001b[1;32mTrue\u001b[0m\u001b[1;33m)\u001b[0m\u001b[1;33m\u001b[0m\u001b[1;33m\u001b[0m\u001b[0m\n\u001b[1;32m---> 76\u001b[1;33m     \u001b[1;32mreturn\u001b[0m \u001b[0mrequest\u001b[0m\u001b[1;33m(\u001b[0m\u001b[1;34m'get'\u001b[0m\u001b[1;33m,\u001b[0m \u001b[0murl\u001b[0m\u001b[1;33m,\u001b[0m \u001b[0mparams\u001b[0m\u001b[1;33m=\u001b[0m\u001b[0mparams\u001b[0m\u001b[1;33m,\u001b[0m \u001b[1;33m**\u001b[0m\u001b[0mkwargs\u001b[0m\u001b[1;33m)\u001b[0m\u001b[1;33m\u001b[0m\u001b[1;33m\u001b[0m\u001b[0m\n\u001b[0m\u001b[0;32m     77\u001b[0m \u001b[1;33m\u001b[0m\u001b[0m\n\u001b[0;32m     78\u001b[0m \u001b[1;33m\u001b[0m\u001b[0m\n",
      "\u001b[1;32mD:\\ANACONDA\\lib\\site-packages\\requests\\api.py\u001b[0m in \u001b[0;36mrequest\u001b[1;34m(method, url, **kwargs)\u001b[0m\n\u001b[0;32m     59\u001b[0m     \u001b[1;31m# cases, and look like a memory leak in others.\u001b[0m\u001b[1;33m\u001b[0m\u001b[1;33m\u001b[0m\u001b[1;33m\u001b[0m\u001b[0m\n\u001b[0;32m     60\u001b[0m     \u001b[1;32mwith\u001b[0m \u001b[0msessions\u001b[0m\u001b[1;33m.\u001b[0m\u001b[0mSession\u001b[0m\u001b[1;33m(\u001b[0m\u001b[1;33m)\u001b[0m \u001b[1;32mas\u001b[0m \u001b[0msession\u001b[0m\u001b[1;33m:\u001b[0m\u001b[1;33m\u001b[0m\u001b[1;33m\u001b[0m\u001b[0m\n\u001b[1;32m---> 61\u001b[1;33m         \u001b[1;32mreturn\u001b[0m \u001b[0msession\u001b[0m\u001b[1;33m.\u001b[0m\u001b[0mrequest\u001b[0m\u001b[1;33m(\u001b[0m\u001b[0mmethod\u001b[0m\u001b[1;33m=\u001b[0m\u001b[0mmethod\u001b[0m\u001b[1;33m,\u001b[0m \u001b[0murl\u001b[0m\u001b[1;33m=\u001b[0m\u001b[0murl\u001b[0m\u001b[1;33m,\u001b[0m \u001b[1;33m**\u001b[0m\u001b[0mkwargs\u001b[0m\u001b[1;33m)\u001b[0m\u001b[1;33m\u001b[0m\u001b[1;33m\u001b[0m\u001b[0m\n\u001b[0m\u001b[0;32m     62\u001b[0m \u001b[1;33m\u001b[0m\u001b[0m\n\u001b[0;32m     63\u001b[0m \u001b[1;33m\u001b[0m\u001b[0m\n",
      "\u001b[1;31mTypeError\u001b[0m: request() got an unexpected keyword argument 'encoding'"
     ]
    }
   ],
   "source": [
    "import requests\n",
    "if __name__ == \"__main__\":\n",
    "    url = \"https://www.37zw.net/3/3632/\"\n",
    "    headers = {\n",
    "        \"User-Agent\" : \"Mozilla/5.0 (Windows NT 10.0; Win64; x64; rv:82.0) Gecko/20100101 Firefox/82.0\"\n",
    "    }\n",
    "    page_text = requests.get(url=url, headers=headers, encoding=\"utf-8\").text\n",
    "    #page_text = page_text.encode(\"iso-8859-1\").decode(\"utf-8\")\n",
    "    #page_text = page_text.encode(\"utf-8\")\n",
    "    with open(\"D:/test4.html\", \"w\", encoding=\"utf-8\") as f:\n",
    "        \n",
    "        f.write(page_text)\n",
    "    print(\"保存成功！！！\")"
   ]
  },
  {
   "cell_type": "code",
   "execution_count": 46,
   "metadata": {},
   "outputs": [
    {
     "name": "stdout",
     "output_type": "stream",
     "text": [
      "保存成功！！！\n"
     ]
    }
   ],
   "source": [
    "import requests\n",
    "if __name__ == \"__main__\":\n",
    "    url = \"https://www.37zw.net/3/3632/\"\n",
    "    headers = {\n",
    "        \"User-Agent\" : \"Mozilla/5.0 (Windows NT 10.0; Win64; x64; rv:82.0) Gecko/20100101 Firefox/82.0\"\n",
    "    }\n",
    "    response = requests.get(url=url, headers=headers)\n",
    "    response.encoding = \"utf-8\"\n",
    "    page_text = response.text\n",
    "    #page_text = page_text.encode(\"iso-8859-1\").decode(\"utf-8\")\n",
    "    #page_text = page_text.encode(\"utf-8\")\n",
    "    with open(\"D:/test5.html\", \"w\", encoding=\"utf-8\") as f:\n",
    "        \n",
    "        f.write(page_text)\n",
    "    print(\"保存成功！！！\")"
   ]
  },
  {
   "cell_type": "code",
   "execution_count": 49,
   "metadata": {},
   "outputs": [
    {
     "name": "stdout",
     "output_type": "stream",
     "text": [
      "保存成功！！！\n"
     ]
    }
   ],
   "source": [
    "import requests\n",
    "if __name__ == \"__main__\":\n",
    "    url = \"https://www.37zw.net/3/3632/\"\n",
    "    headers = {\n",
    "        \"User-Agent\" : \"Mozilla/5.0 (Windows NT 10.0; Win64; x64; rv:82.0) Gecko/20100101 Firefox/82.0\"\n",
    "    }\n",
    "    page_text = requests.get(url=url, headers=headers).text\n",
    "    page_text = page_text.encode(\"iso-8859-1\").decode(\"gbk\")\n",
    "    #page_text = page_text.encode(\"utf-8\")\n",
    "    with open(\"D:/test7.html\", \"w\") as f:\n",
    "        \n",
    "        f.write(page_text)\n",
    "    print(\"保存成功！！！\")"
   ]
  },
  {
   "cell_type": "code",
   "execution_count": 64,
   "metadata": {},
   "outputs": [
    {
     "name": "stdout",
     "output_type": "stream",
     "text": [
      "保存成功！！！\n"
     ]
    }
   ],
   "source": [
    "import requests\n",
    "from lxml import etree\n",
    "if __name__ == \"__main__\":\n",
    "    url = \"https://www.37zw.net/3/3632/\"\n",
    "    headers = {\n",
    "        \"User-Agent\" : \"Mozilla/5.0 (Windows NT 10.0; Win64; x64; rv:82.0) Gecko/20100101 Firefox/82.0\"\n",
    "    }\n",
    "    page_text = requests.get(url=url, headers=headers).text\n",
    "#     page_text = page_text.encode(\"iso-8859-1\").decode(\"gbk\")\n",
    "    #page_text = page_text.encode(\"utf-8\")\n",
    "    with open(\"D:/test.txt\", \"w\", encoding=\"utf-8\") as f:\n",
    "        f.write(page_text)\n",
    "    print(\"保存成功！！！\")"
   ]
  },
  {
   "cell_type": "code",
   "execution_count": 112,
   "metadata": {},
   "outputs": [
    {
     "name": "stdout",
     "output_type": "stream",
     "text": [
      "九龙至尊\n",
      "作牋牋者：盘古\n",
      "['\\xa0\\xa0\\xa0\\xa0?³Â¾Å£¬Ò»Ã×Æß°Ë£¬ÏñÃ²ÌÃÌÃ£¬ÉÏÉí´©×Å»ÒÉ«¼Ð¿Ë£¬ÏÂÉíÉîÀ¶É«Å£×Ð¿ã£¬¿´ÆðÀ´Ò²ËãÊÇÊ±ÉÐäìÈ÷¡£Íø', '\\xa0\\xa0\\xa0\\xa0ÇàÌì°×ÈÕ£¬×ßÔÚÂÌÊ÷³ÉÒñµÄ´óÑ§Ð£Ô°ÖÐ£¬³Â¾Å¹âÏÊµÄÍâ±íÏÂ£¬ÊµÄË²Ø×ÅÒ»¿Å¿à±ÆµÄÐÄ£¡', '\\xa0\\xa0\\xa0\\xa0³öÉíÅ©´å£¬¼Ò¾³Æ¶¿à£¬¼Ò×åÅÅÐÐÀÏ¾Å£¬Òª²»ÊÇÖîÌÃ¸çÌÃ½ãÃÇµÄ×ÊÖú£¬Ëû¸ù±¾¾ÍÉÏ²»ÆðÕâÃûÅÆµÄ´óÑ§¡£', '\\xa0\\xa0\\xa0\\xa0ÔÚÕâ¸ö½ðÇ®×ÝºáµÄÊ±´ú£¬³Â¾ÅµÄÑ§Ï°¼´Ê¹ÔÙºÃ£¬µ«Ëû×ÜÊÇÃâ²»ÁË×Ô±°£¬Ëû×îÊÜ²»ÁËÄÇÐ©ÈËÄÃ×ÅÐÂ¿îµÄÊÖ»ú¡¢µçÄÔ¡¢Ïñ»ú¡\\xad¡\\xadµÈÒ»ÏµÁÐ²úÆ·£¬ÔÚËûµÄÃæÇ°ìÅÒ«£¡', '\\xa0\\xa0\\xa0\\xa0ÎªÁË±¨´ð¼Ò×åµÄºñ°®£¬ËûÊÇºñ×ÅÁ³Æ¤ÈÌÊÜ×Å¸÷·½µÄ³°·í£¬Å¬Á¦Ñ§Ï°£¬ÕùÈ¡»ñµÃÒ»¸ö¸Ä±ä×Ô¼ºÃüÔË£¬¸Ä±ä×Ô¼º¼Ò×åÃüÔËµÄ»ú»á£¡', '\\xa0\\xa0\\xa0\\xa0È«ÉíÉÏÏÂ£¬³ýÁË±ØÐèµÄÉú»î·Ñ£¬³Â¾Å¾ÍÕâÒ»ÉíÒÂ·þ»¹Ëã¹âÏÊ£¬²»¹ýÕâÒ²ÊÇµØÌ¯Ã°ÅÆ»õ¶øÒÑ£¬ÓëÕýÅÆÒ»±È£¬Á¢¸Í¼ûÓ°£¬ËûÓÐºÃ¼¸´Î¶¼±»ÐßµÃÌ§²»ÆðÍ·À´¡£', '\\xa0\\xa0\\xa0\\xa0Ç¿³Å×Å»¹Ëã×ÔÐÅµ\\xad¶¨µÄÐ¦ÈÝ£¬³Â¾Å¿ì²½µÄ×ßÈëÁËËÞÉá£¬Á³ÉñË²¼äÞÇÀ\\xadÁËÏÂÀ´£¬ºÜÊÇÎÞÄÎ¡£', '\\xa0\\xa0\\xa0\\xa0²»¹ý£¬µ±³Â¾Å´Ó»³ÖÐÌÍ³öÒ»ÕÅÕÕÆ¬µÄÊ±ºò£¬ËûÁ¢¼´¾ÍÕ¹ÑÕÐ¦ÁËÆðÀ´£¡', '\\xa0\\xa0\\xa0\\xa0¸Õ¸Õ³öÈ¥£¬³Â¾Å»¨ÁËÒ»¿éÇ®·¹Ç®£¬´òÓ¡ÁËÒ»ÕÅ²ÊÉ«ÕÕÆ¬£¬Ö»ÓÐÎå´ç£¬ÖÊÁ¿Ò²²»ÊÇÌ«ºÃ£¬µ«ËûÄÃÔÚÊÖÖÐ£¬ÊÓÈôÕä±¦¡£', '\\xa0\\xa0\\xa0\\xa0²»ÓÃËµ£¬ÕÕÆ¬ÉÏµÄÈË£¬ÄËÊÇÒ»Î»Å®×Ó£¬ËýÃ÷íøð©³Ý£¬°×°×¾»¾»£¬ÓÌÈç²»Ê³ÈË¼äÑÌ»ðµÄÏÉ×Ó°ã£¬Ë\\xad¼ûÁË¶¼ÒªÎªÖ®ÇãÐÄ£¡', '\\xa0\\xa0\\xa0\\xa0Ä½á°£¬°à»¨¡¢Ð£»¨£¬¼Ò¾³ÓÅÔ½£¬Æ·ÐÐ¼æÓÅ£¬Ç¡ÇÉ¾ÍÊÇ³Â¾ÅµÄÍ¬×À£¬ÕâÊÇËûÑ§Ï°ºÃµÄÎ¨Ò»ÓÅÊÆ£¬¿ÉÊÇ°ÑËû×ÔºÀÁËºÃ¶àÌì¡£', '\\xa0\\xa0\\xa0\\xa0ÒÑ¾\\xad³ÉÄêÁË£¬¶ÔÅ®ÈË£¬³Â¾ÅÆñÄÜÃ»ÓÐ×Ô¼ºµÄÏë·¨£¿ÕâÎ»Ä½á°ºÕÈ»¾ÍÊÇ³Â¾ÅÐÄÄ½ÖÐµÄÅ®Éñ£¬ËûÊÇ°®Ä½ÒÔ¾Ã£¬Ö»ÊÇÏÞÓÚ×ÔÉíÌõ¼þ£¬ËûÒ»Ö±¶¼²»¸Ò±í°×¶øÒÑ£¡', '\\xa0\\xa0\\xa0\\xa0½ñÌì£¬³Â¾ÅÖÕÓÚÈÌ²»×¡Ë¼Äî£¬´Ó²»¶àµÄ·¹Ç®ÖÐ¼·³öÒ»¿éÇ®£¬ÉÏÍøÏÂÔØ£¬´òÓ¡ÁËÒ»ÕÅÄ½á°µÄÕÕÆ¬£¬¿´×ÅËýÕâÌìÏÉËÆµÄÈÝÑÕ£¬ËûÔ½·¢µÄÏ²»¶ÁË¡£', '\\xa0\\xa0\\xa0\\xa0ÁáççµÄÉíÓ°£¬·áÍ¦µÄÉí×Ë£¬ÄÇÑ©°×µÄË®.ÄÛ¼¡·ô£¬¸üÊÇÈÝÒ×¹´ÆðÄÐÈËµÄÐ°Óû£¡', '\\xa0\\xa0\\xa0\\xa0¿´×Å¿´×Å£¬ºÉ¶ûÃÉÇ¿ÁÒµÄ·ÖÃØ£¬³Â¾ÅÁ¢¼´¾ÍÉúÆðÁË·´Ó¦¡£', '\\xa0\\xa0\\xa0\\xa0¡°Ä½á°£¬¶Ô²»Æð£¬ÎÒÊµÔÚÊÜ²»ÁËÁË¡\\xad¡\\xad£¡¡±³Â¾ÅÓÐÐ©×ÔÔðµÄµÀ×ÅÇ¸£¬»ðËÙµÄ¾Í×ßÈëÁËÏ´ÊÖ¼ä£¬½«ÃÅ·´ËøÁË¡£', '\\xa0\\xa0\\xa0\\xa0ÉñÊ¥µÄ½«Å®ÉñµÄÕÕÆ¬·ÅÔÚ¶ÔÃæÇ½ÉÏ£¬¿´×ÅËýÕâ³ö³¾¾øÊÀµÄÈÝÑÕ£¬³Â¾Å¸üÊÇÈÌ²»×¡ÍÊÏÂÁË×Ô¼ºµÄ¿ã×Ó¡£', '\\xa0\\xa0\\xa0\\xa0¶Ô×ÅÅ®Éñß£Ò»¹Ü£¬»ÃÏë×Ô¼ºµÃµ½ÁËÅ®Éñ£¬ÕâÊÇ³Â¾ÅÓÃÀ´°²Î¿×Ô¼º£¬ÅÅ½â×Ô¼ºÖî¶àÑ¹Á¦µÄÎ¨Ò»Í¾¾¶¡£', '\\xa0\\xa0\\xa0\\xa0Ã»ÓÐÆ½°åµçÄÔ£¬¸ß¼¶ÊÖ»úÒ»ÀàµÄ¹¤¾ß£¬¿ÉÒÔËæÊ±ËæµØ²é¿´Å®Éñ£¬ÒÔ¼°Öî¶àÅ®ÈËµÄÉíÌå£¬ÓÃÀ´°²Î¿×Ô¼º£¬³Â¾ÅÓÐÁËÕâÕÅÕÕÆ¬£¬Ëû¶¼¾õµÃºÜÊÇÉÝ³ÞÁË£¡', '\\xa0\\xa0\\xa0\\xa0¿à±ÆµÄ´óÑ§Éú»îÖÐÎ¨Ò»µÄ¸£Àû£¬³Ô±¥ºÈ×ãÁË£¬¶Ô×ÅÅ®Éñß£Ò»ÅÚ£¬ÌìÈË½»Ì©£¬°²ÒÝÎÞÇî¡£', '\\xa0\\xa0\\xa0\\xa0³Â¾ÅËäÈ»²»ÊÇµÚÒ»´ÎÕâÃ´×öÁË£¬µ«ËûÕâÊÇµÚÒ»´ÎÃæ¶ÔÒ»¸öÕæÈËÊµÏñ£¬Ëû½ñÌì¸ñÍâµÄ¼¤¶¯£¬²»¹ýµÍÍ·Ò»¿´£¬ÓÖÄÑÃâÓÐÐ©÷öÈ»ÆðÀ´¡£', '\\xa0\\xa0\\xa0\\xa0¼ÇµÃÄÇÒ»ÈÕ£¬³Â¾Å²»Ð¡ÐÄ¿´ÁËÒ»ÑÛËÞÓÑÃÇ¹Û¿´µÄÈËÌå´óÕ½³¡Ãæ£¬ÄÇÀïÃæµÄÅ·ÃÀÈËÊ¿£¬Ò»¸ö¸ö¶¼ÓÐ×ÅÒ»¸ËÏÅÈËµÄ³¤Ç¹£¬×ÔÄÇÒÔºó£¬³Â¾ÅÖ»¾õµÃ×Ô¼ºÕâ¼Ò»ï£¬ÊµÔÚÊÇÉÏ²»µÃÌ¨Ãæ£¬ÓÚÊÇ¸ü¼ÓµÄ×Ô±°ÁË£¡', '\\xa0\\xa0\\xa0\\xa0¿à±ÆµÄÉú»î£¬×ÜÊÇ²»¶ÏµÄ´ò»÷³Â¾Å£¬²»¹ýËû²¢Ã»ÓÐ¾Í´ËÒ»õê²»Õñ£¬ÒòÎªËûÖªµÀ£¬ÏÖÔÚÕâ¸öÉç»á£¬ÄÇÄñ³¤µÃ´óÒ²Ã»ÓÃ£¬×îÖØÒªµÄ£¬µÃÄãÓÐÇ®²ÅÐÐ¡£', '\\xa0\\xa0\\xa0\\xa0Å¬Á¦Ñ§Ï°£¬ÒÔ±ã½«À´Õõ´óÇ®£¬¸Ä±äÒ»ÇÐ£¬ÕâÊÇ³Â¾ÅÔ½ÊÜ´ò»÷È´Ô½·¢¼á¶¨µÄÄÚÐÄ£¡', '\\xa0\\xa0\\xa0\\xa0Ë×»°ËµµÃºÃ£¬±¥ºº×Ó²»ÖªµÀ¶öºº×Ó¼¢£¬ÓÐÇ®ÄÐ×Óºº£¬Ã»Ç®ºº×ÓÄÑ£¬³Â¾ÅÍû×ÅÕÕÆ¬µÄÄ¿¹â£¬Ô½·¢µÄÖ´×Å¡£', '\\xa0\\xa0\\xa0\\xa0Èç¹û½«À´ÓÐ»ú»á£¬Ò»¶¨ÒªÏòÄ½á°±í°××Ô¼ºµÄÐÄÒâ¡£', '\\xa0\\xa0\\xa0\\xa0µ±ÏÂ£¬»¹ÊÇß£¹ÜÒª½ô¡\\xad¡\\xad£¬Ë¦ÁËË¦Í·£¬¿´×ÅÅ®ÉñÄÇ³ö³¾µÄÉí¶Î£¬³Â¾ÅÍü¼ÇÁËÒ»ÇÐ¿à±Æ£¬×¨ÐÄÖÂÖ¾µÄ¿ªÊ¼ÁË×Ô¼ºµÄß£¹ÜÉúÑÄ¡£', '\\xa0\\xa0\\xa0\\xa0ÄÔº£ÖÐ»ÃÏë×Å£¬×Ô¼ºÒÔºó±ÏÒµÁË£¬ÓÐÁËÊôÓÚ×Ô¼ºµÄ¹¤×÷£¬Ò²µÃµ½ÁËÄ½á°µÄÇàíù£¬ÓëËýË«Ë«µÄÈë×¡ÁË¶´·¿£¡', '\\xa0\\xa0\\xa0\\xa0½¿ÐßÎÞÏÞ£¬ÃÀÈË³ö³¾µÄÐÂÄï£¬ÖÕ¾¿Îª×Ô¼ºËùÓÐ£¬³Â¾ÅÆÈ²»¼±´ýµÄÑ¹ÁË¹ýÈ¥£¬ËÆºõÒ»Ë²¼ä¸Ð¾õµ½ÁËÅ®ÉñµÄÈá.ÄÛ¡£', '\\xa0\\xa0\\xa0\\xa0¡°°¡¡\\xad¡\\xad£¡¡±´ó½ÐÒ»Éù£¬³Â¾ÅÃ»ÈÌ×¡£¬µ±³¡Ò»ÊÍÈçÈª£¬½øÈëÁËÒ»ÖÖÌìÈË½»Ì©£¬ÎÞÇîÃÀºÃµÄ¾³½çÖÐ£¬»ØÎ¶¾Ã¾Ã£¬ÉíÐÄ¾ãË¬£¬Ò»ÇÐÑ¹Á¦Ä¥ÄÑ½Ô¶¼ÏûÊ§µÃÎÞÓ°ÎÞ×Ù£¡', '\\xa0\\xa0\\xa0\\xa0Æ®Æ®ºöºöµÄ£¬Èç×¹ÔÆ¶Ë£¬³Â¾Å·¢¾õÕâÒ»´ÎµÄÃÀºÃÊ±¹â£¬ÌØ±ðµÄ³¤£¬ÐÄÏëÕâÒ²ÐíÊÇÓÃÕÕÆ¬µÄÔµ¹Ê£¬ËûÒ²¾ÍÃ»ÓÐ¶àÏë¡£', '\\xa0\\xa0\\xa0\\xa0¿ÉÊÇ¾ÍÔÚ³Â¾Å³Á½þÔÚÃÀºÃÖÐ£¬²»Ë¼×Ô°ÎÖ®Ê±£¬ÎÀÉú¼äµÄÃÅ¶¼Òª±»ÇÃ»µÁË£¡', '\\xa0\\xa0\\xa0\\xa0¡®ÅéÅé¡\\xad¡\\xad¡¯Ç¿ÁÒµÄÉùÒô£¬È´ÊÇ²¢Ã»ÓÐ¾ª¶¯³Â¾Å£¬ÕâÒ»µã¼«¶ÈµÄ²»Õý³£¡£', '\\xa0\\xa0\\xa0\\xa0¡°³Â¾Å£¬³Â¾Å£¬ÊÇÄãÔÚÀïÃæÂð£¬¿ì¿ªÃÅ£¬ÀÏ×Ó³Ô»µ¶Ç×ÓÁË£¬ÒªÀ\\xadÊº¡\\xad¡\\xad£¡¡±Ò»¸öÇ¿×³µÄÈËÓ°£¬¼Ð×ÅÆ¨Æ¨£¬ºÜÊÇ×Å¼±µÄ¡£', '\\xa0\\xa0\\xa0\\xa0¡°ÂèµÄ£¬¸ãÊ²Ã´¶«Î÷£¬ÄãÕâÇîËá¶«Î÷Ò²¸Ò°ÔÕ¼ÀÏ×ÓµÄ²ÞËù£¿¡±Ç¿×³µÄÇàÄê×Å¼±ÉÏ»ð£¬±¾¾Í¿´²»Æð³Â¾ÅµÄËû£¬µ±³¡Ò»½ÅÏòÃÅËøõßÈ¥¡£', '\\xa0\\xa0\\xa0\\xa0¡®ºä¡\\xad¡\\xad¡¯Ò»Éù£¬Ä¾ÃÅÓ¦Éù¶ø¿ª£¬ÇàÄêÆÈ²»¼±´ýµÄ×ßÈëÁËÆäÖÐ£¬²»¹ý¿´µ½ÀïÃæµÄ³¡¾°Ê±£¬ËûÈ´ÊÇµ±¼´ÉµÁËÑÛ¡£', '\\xa0\\xa0\\xa0\\xa0³Â¾Å£¬Èíµ¹ÔÚµØÉÏ£¬Ò»¶¯²»¶¯£¬ºÁÎÞÉùÏ¢£¬Á³É«É·°×£¬³¬¼¶ÏÅÈË£¡', '\\xa0\\xa0\\xa0\\xa0ÔÙ¹ÛËÄÖÜ£¬½à°×µÄÇ½±ÚÉÏÐÇÐÇµãµãµÄ³ä³â×ÅÒ»ÖÖÐÈÐÈµÄÎ¶µÀºÍÒºÌå£¬ÌØ±ðÊÇ¶ÔÃæ£¬ÄÇÕÅÃÀÀöµÄÕÕÆ¬ÉÏ£¬¸üÊÇ±»ÎÛÎïÈ¾ÁËÒ»´óÆ¬¡£', '\\xa0\\xa0\\xa0\\xa0¡°ÎÒ¿¿£¬ß£¹ÒÁËÂð£¿£¡¡±ÇàÄê¶Ô´ËÎ¶µÀ²¢²»Ä°Éú£¬Ñá¶ñÍ¬Ê±£¬ËÆÏëµ½ÁËÊ²Ã´Ò»°ã£¬µ±³¡ÏÅµÃÊºÒ²±ï»ØÈ¥ÁË¡£', '\\xa0\\xa0\\xa0\\xa0×³×Å´óµ¨µÄ£¬ÇàÄêÀ´µ½ÁË³Â¾ÅµÄ±ÇÏ¢¼äÒ»ÊÔ£¬¶ÙÊ±´óº§£¬»ÅÂÒÒ»°ãµÄÌÓÁË³öÈ¥¡°°¡¡\\xad¡\\xad¾ÈÈË°¡£¬¾ÈÃü°¡£¬³Â¾Åß£¹Üß£¹ÒÁË¡\\xad¡\\xad£¡¡±', '\\xa0\\xa0\\xa0\\xa0ÕâÒ»½Ð£¬È«Ð£Ê¦Éú£¬¿ÉÎ½ÊÇºäÈ»¼äÕ¨¿ªÁË¹ø¡£', '\\xa0\\xa0\\xa0\\xa0ËäÈ»´óÑ§Éúß£¹Ü²»ËãÊ²Ã´Ï¡º±ÊÂ£¬µ«ÒòÎªß£¹Ü¶ø¹ÒÁËµÄ£¬»¹ÕæÊÇÍ·Ò»´ÎÓöµ½£¡', '\\xa0\\xa0\\xa0\\xa0ÊÂºó£¬Ñ§Ð£ÎªÁË·ÀÖ¹ÓÐËðÃûÓþ£¬½ûÖ¹Ò»ÇÐÈËÔÙÌ¸ÂÛ´ËÊÂ£¬¶ø³Â¾ÅµÄ¼ÒÈË£¬ÒòÎª³Â¾ÅµÄÒâÍâ£¬Ò²»ñµÃÁËÒ»±Ê²»Ð¡µÄÅâ³¥£¬ÕâÒ²ËãËû¶Ô¼ÒÈËµÄ×îºóÒ»µã³¥»¹ÁË¡£¹òÇó·ÖÏí', '\\xa0\\xa0\\xa0\\xa0×îÉÙ´íÎó Çëµ½Íø', '\\xa0\\xa0\\xa0\\xa0[ÈýÆßÖÐÎÄ www.37zw.com]°Ù¶ÈËÑË÷¡°37zw.com¡±']\n"
     ]
    },
    {
     "ename": "TypeError",
     "evalue": "can only concatenate list (not \"str\") to list",
     "output_type": "error",
     "traceback": [
      "\u001b[1;31m---------------------------------------------------------------------------\u001b[0m",
      "\u001b[1;31mTypeError\u001b[0m                                 Traceback (most recent call last)",
      "\u001b[1;32m<ipython-input-112-e55b436a39e8>\u001b[0m in \u001b[0;36m<module>\u001b[1;34m\u001b[0m\n\u001b[0;32m     31\u001b[0m         \u001b[0mprint\u001b[0m\u001b[1;33m(\u001b[0m\u001b[0mchapter_content\u001b[0m\u001b[1;33m)\u001b[0m\u001b[1;33m\u001b[0m\u001b[1;33m\u001b[0m\u001b[0m\n\u001b[0;32m     32\u001b[0m         \u001b[0mf\u001b[0m\u001b[1;33m.\u001b[0m\u001b[0mwrite\u001b[0m\u001b[1;33m(\u001b[0m\u001b[0mchapter_title\u001b[0m \u001b[1;33m+\u001b[0m \u001b[1;34m\"\\n\"\u001b[0m\u001b[1;33m)\u001b[0m\u001b[1;33m\u001b[0m\u001b[1;33m\u001b[0m\u001b[0m\n\u001b[1;32m---> 33\u001b[1;33m         \u001b[0mf\u001b[0m\u001b[1;33m.\u001b[0m\u001b[0mwrite\u001b[0m\u001b[1;33m(\u001b[0m\u001b[0mchapter_content\u001b[0m \u001b[1;33m+\u001b[0m \u001b[1;34m\"\\n\"\u001b[0m\u001b[1;33m)\u001b[0m\u001b[1;33m\u001b[0m\u001b[1;33m\u001b[0m\u001b[0m\n\u001b[0m\u001b[0;32m     34\u001b[0m         \u001b[0mprint\u001b[0m\u001b[1;33m(\u001b[0m\u001b[0mchapter_title\u001b[0m \u001b[1;33m+\u001b[0m \u001b[1;34m\"下载完成！！！\"\u001b[0m\u001b[1;33m)\u001b[0m\u001b[1;33m\u001b[0m\u001b[1;33m\u001b[0m\u001b[0m\n\u001b[0;32m     35\u001b[0m     \u001b[0mprint\u001b[0m\u001b[1;33m(\u001b[0m\u001b[0mtitle\u001b[0m \u001b[1;33m+\u001b[0m \u001b[1;34m\"保存成功！！！\"\u001b[0m\u001b[1;33m)\u001b[0m\u001b[1;33m\u001b[0m\u001b[1;33m\u001b[0m\u001b[0m\n",
      "\u001b[1;31mTypeError\u001b[0m: can only concatenate list (not \"str\") to list"
     ]
    }
   ],
   "source": [
    "import requests\n",
    "from lxml import etree\n",
    "if __name__ == \"__main__\":\n",
    "    url = \"https://www.37zw.net/3/3632/\"\n",
    "    headers = {\n",
    "        \"User-Agent\" : \"Mozilla/5.0 (Windows NT 10.0; Win64; x64; rv:82.0) Gecko/20100101 Firefox/82.0\"\n",
    "    }\n",
    "    page_text = requests.get(url=url, headers=headers).text\n",
    "#     page_text = page_text.encode(\"iso-8859-1\").decode(\"gbk\")\n",
    "    HTML_etree = etree.HTML(page_text)\n",
    "    title = HTML_etree.xpath('//div[@id=\"info\"]/h1/text()')[0]\n",
    "    author = HTML_etree.xpath('//div[@id=\"info\"]/p[1]/text()')[0]\n",
    "    title = title.encode('iso-8859-1').decode('gbk')\n",
    "    author = author.encode('iso-8859-1').decode('gbk')\n",
    "    print(title)\n",
    "    print(author)\n",
    "    f = open(\"D:/\"+ title +\".txt\", \"w\")\n",
    "    f.write(title)\n",
    "    f.write(author)\n",
    "    dd_list = HTML_etree.xpath('//div[@id=\"list\"]//dd')\n",
    "    for dd in dd_list:\n",
    "        chapter_title = dd.xpath('./a/text()')[0]\n",
    "        chapter_title = chapter_title.encode('iso-8859-1').decode('gbk')\n",
    "        chapter_src = url + dd.xpath('./a/@href')[0]\n",
    "        chapter_HTML = requests.get(url=chapter_src, headers=headers).text\n",
    "#         chapter_HTML = chapter_HTML.encode('iso-8859-1').decode('gbk')\n",
    "#         print(chapter_HTML)\n",
    "        chapter_etree = etree.HTML(chapter_HTML)\n",
    "        chapter_content = chapter_etree.xpath('//div[@id=\"content\"]//text()')\n",
    "#         chapter_content = chapter_content.encode('iso-8859-1').decode('gbk')\n",
    "        print(chapter_content)\n",
    "        f.write(chapter_title + \"\\n\")\n",
    "        f.write(chapter_content + \"\\n\")\n",
    "        print(chapter_title + \"下载完成！！！\")\n",
    "    print(title + \"保存成功！！！\")"
   ]
  },
  {
   "cell_type": "code",
   "execution_count": 1,
   "metadata": {},
   "outputs": [
    {
     "name": "stdout",
     "output_type": "stream",
     "text": [
      "a + b helloPython\n"
     ]
    }
   ],
   "source": [
    "a = \"hello\"\n",
    "b = \"Python\"\n",
    "print(\"a + b\", a+b)"
   ]
  },
  {
   "cell_type": "code",
   "execution_count": 2,
   "metadata": {},
   "outputs": [
    {
     "name": "stdout",
     "output_type": "stream",
     "text": [
      "ell\n"
     ]
    }
   ],
   "source": [
    "print(a[1:-1])\n"
   ]
  },
  {
   "cell_type": "code",
   "execution_count": 3,
   "metadata": {},
   "outputs": [
    {
     "name": "stdout",
     "output_type": "stream",
     "text": [
      "hell\n"
     ]
    }
   ],
   "source": [
    "print(a[0:-1])"
   ]
  },
  {
   "cell_type": "code",
   "execution_count": 4,
   "metadata": {},
   "outputs": [
    {
     "ename": "SyntaxError",
     "evalue": "invalid character in identifier (<ipython-input-4-15e4128d34e9>, line 1)",
     "output_type": "error",
     "traceback": [
      "\u001b[1;36m  File \u001b[1;32m\"<ipython-input-4-15e4128d34e9>\"\u001b[1;36m, line \u001b[1;32m1\u001b[0m\n\u001b[1;33m    print(\"我叫%s,今年%d岁了\",(\"小明\"， 10))\u001b[0m\n\u001b[1;37m                             ^\u001b[0m\n\u001b[1;31mSyntaxError\u001b[0m\u001b[1;31m:\u001b[0m invalid character in identifier\n"
     ]
    }
   ],
   "source": [
    "print(\"我叫%s,今年%d岁了\",(\"小明\"， 10))"
   ]
  },
  {
   "cell_type": "code",
   "execution_count": 5,
   "metadata": {},
   "outputs": [
    {
     "name": "stdout",
     "output_type": "stream",
     "text": [
      "我叫小明,今年10岁了\n"
     ]
    }
   ],
   "source": [
    "print(\"我叫%s,今年%d岁了\" % (\"小明\", 10))"
   ]
  },
  {
   "cell_type": "code",
   "execution_count": 6,
   "metadata": {},
   "outputs": [
    {
     "name": "stdout",
     "output_type": "stream",
     "text": [
      "\n",
      "gdsjkghbnerakjtghlek FEJIJWALHGNE R\n",
      "福IErlkjfglerhn】分klwrj'mfeklorgjtnlkerafgolpe a'j wetopwja美国控制\n",
      " iwaowe jo 佛和我IE围殴人围殴和沃尔沃荣和文和容我和日温柔\n",
      "\n"
     ]
    }
   ],
   "source": [
    "str = \"\"\"\n",
    "gdsjkghbnerakjtghlek FEJIJWALHGNE R\n",
    "福IErlkjfglerhn】分klwrj'mfeklorgjtnlkerafgolpe a'j wetopwja美国控制\n",
    " iwaowe jo 佛和我IE围殴人围殴和沃尔沃荣和文和容我和日温柔\n",
    "\"\"\"\n",
    "print(str)"
   ]
  },
  {
   "cell_type": "code",
   "execution_count": 7,
   "metadata": {},
   "outputs": [
    {
     "ename": "NameError",
     "evalue": "name 'roob' is not defined",
     "output_type": "error",
     "traceback": [
      "\u001b[1;31m---------------------------------------------------------------------------\u001b[0m",
      "\u001b[1;31mNameError\u001b[0m                                 Traceback (most recent call last)",
      "\u001b[1;32m<ipython-input-7-218059fc7b62>\u001b[0m in \u001b[0;36m<module>\u001b[1;34m\u001b[0m\n\u001b[1;32m----> 1\u001b[1;33m \u001b[0mname\u001b[0m \u001b[1;33m=\u001b[0m \u001b[0mroob\u001b[0m\u001b[1;33m\u001b[0m\u001b[1;33m\u001b[0m\u001b[0m\n\u001b[0m\u001b[0;32m      2\u001b[0m \u001b[0mprint\u001b[0m\u001b[1;33m(\u001b[0m\u001b[1;34mf\"Hello {name}\"\u001b[0m\u001b[1;33m)\u001b[0m\u001b[1;33m\u001b[0m\u001b[1;33m\u001b[0m\u001b[0m\n",
      "\u001b[1;31mNameError\u001b[0m: name 'roob' is not defined"
     ]
    }
   ],
   "source": [
    "name = roob\n",
    "print(f\"Hello {name}\")"
   ]
  },
  {
   "cell_type": "code",
   "execution_count": 8,
   "metadata": {},
   "outputs": [
    {
     "name": "stdout",
     "output_type": "stream",
     "text": [
      "Hello roob\n"
     ]
    }
   ],
   "source": [
    "name = \"roob\"\n",
    "print(f\"Hello {name}\")"
   ]
  },
  {
   "cell_type": "code",
   "execution_count": 9,
   "metadata": {},
   "outputs": [
    {
     "name": "stdout",
     "output_type": "stream",
     "text": [
      "sfsfdsaffnjfg\n"
     ]
    }
   ],
   "source": [
    "li = [\"sfs\", \"fdsaf\", \"fnjfg\"]\n",
    "str = \"\".join(li)\n",
    "print(str)"
   ]
  },
  {
   "cell_type": "code",
   "execution_count": 10,
   "metadata": {},
   "outputs": [
    {
     "name": "stdout",
     "output_type": "stream",
     "text": [
      "<class 'list'>\n",
      "sfsfdsaffnjfg\n",
      "<class 'str'>\n"
     ]
    }
   ],
   "source": [
    "li = [\"sfs\", \"fdsaf\", \"fnjfg\"]\n",
    "print(type(li))\n",
    "li = \"\".join(li)\n",
    "print(li)\n",
    "print(type(li))"
   ]
  },
  {
   "cell_type": "code",
   "execution_count": null,
   "metadata": {},
   "outputs": [],
   "source": []
  }
 ],
 "metadata": {
  "kernelspec": {
   "display_name": "Python 3",
   "language": "python",
   "name": "python3"
  },
  "language_info": {
   "codemirror_mode": {
    "name": "ipython",
    "version": 3
   },
   "file_extension": ".py",
   "mimetype": "text/x-python",
   "name": "python",
   "nbconvert_exporter": "python",
   "pygments_lexer": "ipython3",
   "version": "3.8.3"
  }
 },
 "nbformat": 4,
 "nbformat_minor": 4
}
