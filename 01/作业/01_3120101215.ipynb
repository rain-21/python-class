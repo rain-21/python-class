{
 "cells": [
  {
   "cell_type": "code",
   "execution_count": 2,
   "metadata": {},
   "outputs": [
    {
     "name": "stdout",
     "output_type": "stream",
     "text": [
      "hello world!\n"
     ]
    }
   ],
   "source": [
    "print('hello world!')\n",
    "#第一个注释\n",
    "'''\n",
    "第二个注释\n",
    "第三个注释\n",
    "'''"
   ]
  },
  {
   "cell_type": "code",
   "execution_count": 3,
   "metadata": {},
   "outputs": [
    {
     "name": "stdout",
     "output_type": "stream",
     "text": [
      "true\n"
     ]
    }
   ],
   "source": [
    "if True:\n",
    "    print('true')\n",
    "else:\n",
    "    print('false')              #10"
   ]
  },
  {
   "cell_type": "code",
   "execution_count": 8,
   "metadata": {},
   "outputs": [
    {
     "name": "stdout",
     "output_type": "stream",
     "text": [
      "a= 10\n"
     ]
    }
   ],
   "source": [
    "a = 1+2+\\\n",
    "3+\\\n",
    "4\n",
    "print('a=',a)"
   ]
  },
  {
   "cell_type": "code",
   "execution_count": 8,
   "metadata": {},
   "outputs": [
    {
     "data": {
      "text/plain": [
       "['abc', 'bcd', '123', 'efg']"
      ]
     },
     "execution_count": 8,
     "metadata": {},
     "output_type": "execute_result"
    }
   ],
   "source": [
    "total = ['abc','bcd','123',\n",
    "        'efg']\n",
    "total"
   ]
  },
  {
   "cell_type": "code",
   "execution_count": 2,
   "metadata": {},
   "outputs": [
    {
     "name": "stdout",
     "output_type": "stream",
     "text": [
      "0123456789\n",
      "012345678\n",
      "0\n",
      "234\n",
      "23456789\n",
      "13\n",
      "01234567890123456789\n",
      "0123456789abc\n",
      "hello\n",
      "python\n",
      "hello\\npython\n"
     ]
    }
   ],
   "source": [
    "str = '0123456789'\n",
    "print(str)\n",
    "print(str[0:-1])\n",
    "print(str[0])                 #20\n",
    "print(str[2:5])\n",
    "print(str[2:])\n",
    "print(str[1:5:2])\n",
    "print(str*2)\n",
    "print(str+'abc')\n",
    "print('hello\\npython')\n",
    "print(r'hello\\npython')"
   ]
  },
  {
   "cell_type": "code",
   "execution_count": 3,
   "metadata": {},
   "outputs": [
    {
     "name": "stdout",
     "output_type": "stream",
     "text": [
      "a\n",
      "b\n",
      "ab"
     ]
    }
   ],
   "source": [
    "x = 'a'\n",
    "y = 'b'\n",
    "print(x)                       #30\n",
    "print(y)\n",
    "print(x,end = '')\n",
    "print(y,end = '')"
   ]
  },
  {
   "cell_type": "code",
   "execution_count": 4,
   "metadata": {},
   "outputs": [
    {
     "name": "stdout",
     "output_type": "stream",
     "text": [
      "F:\\anaconda\\lib\\site-packages\\ipykernel_launcher.py\n",
      "-f\n",
      "C:\\Users\\23922\\AppData\\Roaming\\jupyter\\runtime\\kernel-1bdbad6c-ef61-4714-8538-2f6c3e989334.json\n",
      "\n",
      "python路径为 ['F:\\\\jupyter', 'F:\\\\anaconda\\\\python38.zip', 'F:\\\\anaconda\\\\DLLs', 'F:\\\\anaconda\\\\lib', 'F:\\\\anaconda', '', 'F:\\\\anaconda\\\\lib\\\\site-packages', 'F:\\\\anaconda\\\\lib\\\\site-packages\\\\win32', 'F:\\\\anaconda\\\\lib\\\\site-packages\\\\win32\\\\lib', 'F:\\\\anaconda\\\\lib\\\\site-packages\\\\Pythonwin', 'F:\\\\anaconda\\\\lib\\\\site-packages\\\\IPython\\\\extensions', 'C:\\\\Users\\\\23922\\\\.ipython']\n"
     ]
    }
   ],
   "source": [
    "import sys\n",
    "for i in sys.argv:\n",
    "    print(i)\n",
    "print('\\npython路径为',sys.path)"
   ]
  },
  {
   "cell_type": "code",
   "execution_count": 5,
   "metadata": {},
   "outputs": [
    {
     "name": "stdout",
     "output_type": "stream",
     "text": [
      "path: ['F:\\\\jupyter', 'F:\\\\anaconda\\\\python38.zip', 'F:\\\\anaconda\\\\DLLs', 'F:\\\\anaconda\\\\lib', 'F:\\\\anaconda', '', 'F:\\\\anaconda\\\\lib\\\\site-packages', 'F:\\\\anaconda\\\\lib\\\\site-packages\\\\win32', 'F:\\\\anaconda\\\\lib\\\\site-packages\\\\win32\\\\lib', 'F:\\\\anaconda\\\\lib\\\\site-packages\\\\Pythonwin', 'F:\\\\anaconda\\\\lib\\\\site-packages\\\\IPython\\\\extensions', 'C:\\\\Users\\\\23922\\\\.ipython']\n"
     ]
    }
   ],
   "source": [
    "from sys import argv,path\n",
    "print('path:',path)"
   ]
  },
  {
   "cell_type": "code",
   "execution_count": 9,
   "metadata": {},
   "outputs": [
    {
     "name": "stdout",
     "output_type": "stream",
     "text": [
      "1 1 1\n"
     ]
    }
   ],
   "source": [
    "a = b = c = 1             #40\n",
    "print(a,b,c)"
   ]
  },
  {
   "cell_type": "code",
   "execution_count": 11,
   "metadata": {},
   "outputs": [
    {
     "name": "stdout",
     "output_type": "stream",
     "text": [
      "6 6 6\n",
      "6 6 6\n",
      "10 6 6\n",
      "1 2 123\n"
     ]
    }
   ],
   "source": [
    "x = [1,2,3,4,5,6,7,8,9]\n",
    "a = b = c = x[5]\n",
    "print(a,b,c)\n",
    "x[5] = 10\n",
    "print(a,b,c)\n",
    "a = 10\n",
    "print(a,b,c)\n",
    "a,b,c = 1,2,'123'\n",
    "print(a,b,c)               #50"
   ]
  },
  {
   "cell_type": "code",
   "execution_count": 12,
   "metadata": {},
   "outputs": [
    {
     "data": {
      "text/plain": [
       "True"
      ]
     },
     "execution_count": 12,
     "metadata": {},
     "output_type": "execute_result"
    }
   ],
   "source": [
    "a = 111\n",
    "isinstance(a,int)"
   ]
  },
  {
   "cell_type": "code",
   "execution_count": 14,
   "metadata": {},
   "outputs": [
    {
     "name": "stdout",
     "output_type": "stream",
     "text": [
      "True\n",
      "True\n",
      "False\n"
     ]
    }
   ],
   "source": [
    "class A:\n",
    "    pass\n",
    "class B(A):\n",
    "    pass\n",
    "print(isinstance(A(),A))\n",
    "print(isinstance(B(),A))\n",
    "print(type(B()) == A)"
   ]
  },
  {
   "cell_type": "code",
   "execution_count": 15,
   "metadata": {},
   "outputs": [
    {
     "name": "stdout",
     "output_type": "stream",
     "text": [
      "['abcd', 123, 1.23, 'python', 3.14]\n",
      "abcd\n",
      "[123, 1.23]\n",
      "[1.23, 'python', 3.14]\n",
      "[123, 'runoob', 123, 'runoob']\n",
      "['abcd', 123, 1.23, 'python', 3.14, 123, 'runoob']\n"
     ]
    }
   ],
   "source": [
    "list = ['abcd',123,1.23,'python',3.14]          #60\n",
    "tinylist = [123,'runoob']\n",
    "print(list)\n",
    "print(list[0])\n",
    "print(list[1:3])\n",
    "print(list[2:])\n",
    "print(tinylist*2)\n",
    "print(list + tinylist)"
   ]
  },
  {
   "cell_type": "code",
   "execution_count": 16,
   "metadata": {},
   "outputs": [
    {
     "name": "stdout",
     "output_type": "stream",
     "text": [
      "python like I\n"
     ]
    }
   ],
   "source": [
    "def reverseWords(input):\n",
    "    inputWords = input.split(' ')\n",
    "    inputWords = inputWords[-1::-1]            #70\n",
    "    output = ' '.join(inputWords)\n",
    "    return output\n",
    "if __name__ == '__main__':\n",
    "    input = 'I like python'\n",
    "    rw = reverseWords(input)\n",
    "    print(rw)"
   ]
  },
  {
   "cell_type": "code",
   "execution_count": 17,
   "metadata": {},
   "outputs": [
    {
     "name": "stdout",
     "output_type": "stream",
     "text": [
      "('abcd', 123, 1.23, 'python', 3.14)\n",
      "abcd\n",
      "(123, 1.23)\n",
      "(1.23, 'python', 3.14)\n",
      "(123, 'runoob', 123, 'runoob')\n",
      "('abcd', 123, 1.23, 'python', 3.14, 123, 'runoob')\n"
     ]
    }
   ],
   "source": [
    "tuple = ('abcd',123,1.23,'python',3.14)\n",
    "tinytuple = (123,'runoob')\n",
    "print(tuple)\n",
    "print(tuple[0])                              #80\n",
    "print(tuple[1:3])\n",
    "print(tuple[2:])\n",
    "print(tinytuple*2)\n",
    "print(tuple + tinytuple)"
   ]
  },
  {
   "cell_type": "code",
   "execution_count": 18,
   "metadata": {},
   "outputs": [
    {
     "name": "stdout",
     "output_type": "stream",
     "text": [
      "{'Facebook', 'Google', 'Python', 'Baidu', 'Runoob', 'Taobao'}\n",
      "Runoob在集合中\n"
     ]
    }
   ],
   "source": [
    "sites = {'Google','Taobao','Runoob','Facebook','Python','Baidu'}\n",
    "print(sites)\n",
    "if 'Runoob' in sites:\n",
    "    print('Runoob在集合中')\n",
    "else:\n",
    "    print('Runoob不在集合中')                #90"
   ]
  },
  {
   "cell_type": "code",
   "execution_count": 19,
   "metadata": {},
   "outputs": [
    {
     "name": "stdout",
     "output_type": "stream",
     "text": [
      "{'f', 'y', 'b', 'e', 'a', 'g', 'c', 'd', 'x', 'z'}\n",
      "{'x', 'z', 'y'}\n",
      "{'b', 'e', 't', 'g', 'r', 'f', 's', 'y', 'a', 'c', 'd', 'x', 'z'}\n",
      "{'f', 'b', 'e', 'a', 'g', 'c', 'd'}\n",
      "{'s', 'y', 't', 'r', 'x', 'z'}\n"
     ]
    }
   ],
   "source": [
    "a = set('abcdefgxyz')\n",
    "b = set('cdefgababcrst')\n",
    "print(a)\n",
    "print(a - b)\n",
    "print(a | b)\n",
    "print(a & b)\n",
    "print(a ^ b)"
   ]
  },
  {
   "cell_type": "code",
   "execution_count": 24,
   "metadata": {},
   "outputs": [
    {
     "name": "stdout",
     "output_type": "stream",
     "text": [
      "1 - 菜鸟工程\n",
      "2 - 菜鸟工具\n",
      "{'name': 'runoob', 'code': 1, 'site': 'www.runoob.com'}\n",
      "dict_keys(['name', 'code', 'site'])\n",
      "dict_values(['runoob', 1, 'www.runoob.com'])\n"
     ]
    }
   ],
   "source": [
    "dict = {}\n",
    "dict['one'] = '1 - 菜鸟工程'                 #100\n",
    "dict[2] = '2 - 菜鸟工具'\n",
    "tinydict = {'name':'runoob','code':1,'site':'www.runoob.com'}\n",
    "print(dict['one'])\n",
    "print(dict[2])\n",
    "print(tinydict)\n",
    "print(tinydict.keys())\n",
    "print(tinydict.values())\n",
    "del dict"
   ]
  },
  {
   "cell_type": "code",
   "execution_count": 26,
   "metadata": {},
   "outputs": [
    {
     "name": "stdout",
     "output_type": "stream",
     "text": [
      "{'runoob': 1, 'google': 2, 'taobao': 3}\n",
      "{2: 4, 4: 16, 6: 36}\n",
      "{'runoob': 1, 'google': 2, 'taobao': 3}\n"
     ]
    }
   ],
   "source": [
    "a = dict([('runoob',1),('google',2),('taobao',3)])\n",
    "b = {x:x**2 for x in (2,4,6)}                   #110\n",
    "c = dict(runoob = 1,google = 2,taobao = 3)\n",
    "print(a)\n",
    "print(b)\n",
    "print(c)"
   ]
  },
  {
   "cell_type": "code",
   "execution_count": 27,
   "metadata": {},
   "outputs": [
    {
     "name": "stdout",
     "output_type": "stream",
     "text": [
      "1 - c 的值为： 31\n",
      "2 - c 的值为： 11\n",
      "3 - c 的值为： 210\n",
      "4 - c 的值为： 2.1\n",
      "5 - c 的值为： 2\n",
      "6 - c 的值为： 1\n",
      "7 - c 的值为： 8\n"
     ]
    }
   ],
   "source": [
    "a = 21\n",
    "b = 10\n",
    "c = 0\n",
    "c = a + b\n",
    "print('1 - c 的值为：',c)\n",
    "c = a - b                                     #120\n",
    "print('2 - c 的值为：',c)\n",
    "c = a * b\n",
    "print('3 - c 的值为：',c)\n",
    "c = a / b\n",
    "print('4 - c 的值为：',c)\n",
    "c = a // b\n",
    "print('5 - c 的值为：',c)\n",
    "c = a % b\n",
    "print('6 - c 的值为：',c)\n",
    "a = 2                                         #130\n",
    "b = 3\n",
    "c = a ** b\n",
    "print('7 - c 的值为：',c)"
   ]
  },
  {
   "cell_type": "code",
   "execution_count": 28,
   "metadata": {},
   "outputs": [
    {
     "name": "stdout",
     "output_type": "stream",
     "text": [
      "1 - a 不等于 b\n",
      "2 - a 不等于 b\n",
      "3 - a 大于 b\n",
      "4 - a 小于 b\n",
      "5 - a 大于 b\n",
      "6 - a 大于等于 b\n"
     ]
    }
   ],
   "source": [
    "a = 21\n",
    "b = 10\n",
    "c = 0\n",
    "if (a == b):\n",
    "    print('1 - a 等于 b')\n",
    "else:\n",
    "    print('1 - a 不等于 b')                #140\n",
    "if (a != b):\n",
    "    print('2 - a 不等于 b')\n",
    "else:\n",
    "    print('2 - a 等于 b')\n",
    "if (a < b):\n",
    "    print('3 - a 小于 b')\n",
    "else:\n",
    "    print('3 - a 大于 b')\n",
    "if (a > b):\n",
    "    print('4 - a 小于 b')                #150\n",
    "else:\n",
    "    print('4 - a 大于 b')\n",
    "if (a <= b):\n",
    "    print('5 - a 小于等于 b')\n",
    "else:\n",
    "    print('5 - a 大于 b')\n",
    "if (a >= b):\n",
    "    print('6 - a 大于等于 b')\n",
    "else:\n",
    "    print('6 - a 小于 b')               #160"
   ]
  },
  {
   "cell_type": "code",
   "execution_count": 29,
   "metadata": {},
   "outputs": [
    {
     "name": "stdout",
     "output_type": "stream",
     "text": [
      "1 - c 的值为： 31\n",
      "2 - c 的值为： 52\n",
      "3 - c 的值为： 31\n",
      "4 - c 的值为： 651\n",
      "5 - c 的值为： 31.0\n",
      "6 - c 的值为： 2\n",
      "7 - c 的值为： 2097152\n",
      "8 - c 的值为： 99864\n"
     ]
    }
   ],
   "source": [
    "a = 21\n",
    "b = 10\n",
    "c = 0\n",
    "c = a + b\n",
    "print('1 - c 的值为：',c)\n",
    "c += a\n",
    "print('2 - c 的值为：',c)\n",
    "c -= a\n",
    "print('3 - c 的值为：',c)\n",
    "c *= a                              #170\n",
    "print('4 - c 的值为：',c)\n",
    "c /= a\n",
    "print('5 - c 的值为：',c)\n",
    "c = 2\n",
    "c %= a\n",
    "print('6 - c 的值为：',c)\n",
    "c **= a\n",
    "print('7 - c 的值为：',c)\n",
    "c //= a\n",
    "print('8 - c 的值为：',c)           #180"
   ]
  },
  {
   "cell_type": "code",
   "execution_count": 30,
   "metadata": {},
   "outputs": [
    {
     "name": "stdout",
     "output_type": "stream",
     "text": [
      "1 - c 的值为： 12\n",
      "2 - c 的值为： 61\n",
      "3 - c 的值为： 49\n",
      "4 - c 的值为： -61\n",
      "5 - c 的值为： 240\n",
      "6 - c 的值为： 15\n"
     ]
    }
   ],
   "source": [
    "a = 60\n",
    "#60 = 0011 1100\n",
    "b = 13\n",
    "#13 = 0000 1101\n",
    "c = 0\n",
    "c = a & b\n",
    "#12 = 0000 1100\n",
    "print('1 - c 的值为：',c)\n",
    "c = a | b\n",
    "#61 = 0011 1101                   #190\n",
    "print('2 - c 的值为：',c)\n",
    "c = a ^ b\n",
    "#49 = 0011 0001\n",
    "print('3 - c 的值为：',c)\n",
    "c = ~a\n",
    "#-61 = 1100 0001\n",
    "print('4 - c 的值为：',c)\n",
    "c = a << 2\n",
    "#240 = 1111 0000\n",
    "print('5 - c 的值为：',c)        #200\n",
    "c = a >> 2\n",
    "#15 = 0000 1111\n",
    "print('6 - c 的值为：',c)"
   ]
  },
  {
   "cell_type": "code",
   "execution_count": null,
   "metadata": {},
   "outputs": [],
   "source": []
  }
 ],
 "metadata": {
  "kernelspec": {
   "display_name": "Python 3",
   "language": "python",
   "name": "python3"
  },
  "language_info": {
   "codemirror_mode": {
    "name": "ipython",
    "version": 3
   },
   "file_extension": ".py",
   "mimetype": "text/x-python",
   "name": "python",
   "nbconvert_exporter": "python",
   "pygments_lexer": "ipython3",
   "version": "3.8.5"
  }
 },
 "nbformat": 4,
 "nbformat_minor": 4
}
