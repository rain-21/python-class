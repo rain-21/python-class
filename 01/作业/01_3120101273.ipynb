{
 "cells": [
  {
   "cell_type": "code",
   "execution_count": 2,
   "metadata": {},
   "outputs": [
    {
     "name": "stdout",
     "output_type": "stream",
     "text": [
      "true\n"
     ]
    }
   ],
   "source": [
    "if True:\n",
    "    print(\"true\")  # 缩进表达\n",
    "else:\n",
    "    print(\"flase\")"
   ]
  },
  {
   "cell_type": "code",
   "execution_count": 3,
   "metadata": {},
   "outputs": [
    {
     "name": "stdout",
     "output_type": "stream",
     "text": [
      "hello,world!\n",
      "这是变量 3\n",
      "年龄是18岁\n",
      "我的名字是hu，我的国籍是中国\n",
      "www.baidu.com\n",
      "请输入密码1\n",
      "输入的密码是： 1\n",
      "<class 'str'>\n",
      "101\n"
     ]
    }
   ],
   "source": [
    "print(\"hello,world!\")\n",
    "a = 3\n",
    "print(\"这是变量\",a)\n",
    "age =18\n",
    "print(\"年龄是%d岁\"%age)  #格式化输出\n",
    "print(\"我的名字是%s，我的国籍是%s\"%(\"hu\",\"中国\"))\n",
    "print(\"www\",\"baidu\",\"com\",sep=\".\")\n",
    "password = input(\"请输入密码\")\n",
    "print(\"输入的密码是：\",password)\n",
    "print(type(password))\n",
    "a=int(\"1\")\n",
    "b = a + 100\n",
    "print(b)"
   ]
  },
  {
   "cell_type": "code",
   "execution_count": 4,
   "metadata": {},
   "outputs": [
    {
     "name": "stdout",
     "output_type": "stream",
     "text": [
      "请输入：剪刀（0），石头（1），布（2）1\n",
      "你的输入为：1\n",
      "随机生成的数字为：0\n",
      "Oh,victory!\n"
     ]
    }
   ],
   "source": [
    "import random\n",
    "a = int(input(\"请输入：剪刀（0），石头（1），布（2）\"))\n",
    "b = random.randint(0, 2)\n",
    "\n",
    "if a!=0 and a!=1 and a!=2:  #注意此处的逻辑，三个都不是的时候为真，不能用or ，应该用and\n",
    "    print(\"您的输入有误！\")\n",
    "else:\n",
    "    print(\"你的输入为：%s\" % a)\n",
    "    print(\"随机生成的数字为：%s\" % b)\n",
    "    if a == b:\n",
    "        print(\"draw!(平局)\")\n",
    "    elif a==0 and b==2 or a==1 and b==0 or a==2 and b==1:\n",
    "        print(\"Oh,victory!\")\n",
    "    elif a==0 and b==2 or a==1 and b==2 or a==2 and b==0:\n",
    "        print(\"Opps,defeat!\")"
   ]
  },
  {
   "cell_type": "code",
   "execution_count": 5,
   "metadata": {},
   "outputs": [
    {
     "name": "stdout",
     "output_type": "stream",
     "text": [
      "0\n",
      "1\n",
      "2\n",
      "3\n",
      "4\n",
      "2\n",
      "5\n",
      "8\n",
      "a\n",
      "b\n",
      "c\n",
      "aa\n",
      "bb\n",
      "cc\n",
      "dd\n"
     ]
    }
   ],
   "source": [
    "for i in range(5):\n",
    "    print(i)\n",
    "    \n",
    "for i in range(2,10,3):\n",
    "    print(i)\n",
    "\n",
    "a = [\"a\",\"b\",\"c\"]\n",
    "for i in a:\n",
    "    print(i)\n",
    "    \n",
    "a = [\"aa\",\"bb\",\"cc\",\"dd\"]\n",
    "for i in range(len(a)):\n",
    "    print(a[i])"
   ]
  },
  {
   "cell_type": "code",
   "execution_count": 6,
   "metadata": {},
   "outputs": [
    {
     "name": "stdout",
     "output_type": "stream",
     "text": [
      "aa\n",
      "bb\n",
      "cc\n",
      "dd\n"
     ]
    }
   ],
   "source": [
    "a = [\"aa\",\"bb\",\"cc\",\"dd\"]\n",
    "for i in range(len(a)):\n",
    "    print(a[i])"
   ]
  },
  {
   "cell_type": "code",
   "execution_count": 7,
   "metadata": {},
   "outputs": [
    {
     "name": "stdout",
     "output_type": "stream",
     "text": [
      "5050\n"
     ]
    }
   ],
   "source": [
    "i=0\n",
    "sum=0\n",
    "while i<=100 :\n",
    "    sum += i\n",
    "    i=i+1\n",
    "print(sum)"
   ]
  },
  {
   "cell_type": "code",
   "execution_count": 8,
   "metadata": {},
   "outputs": [
    {
     "name": "stdout",
     "output_type": "stream",
     "text": [
      "5050\n",
      "0 小于5\n",
      "1 小于5\n",
      "2 小于5\n",
      "3 小于5\n",
      "4 小于5\n",
      "5 大于等于5\n",
      "1\n",
      "2\n",
      "3\n",
      "4\n",
      "5\n",
      "6\n",
      "7\n",
      "8\n",
      "9\n",
      "10\n",
      "1\n",
      "3\n",
      "5\n",
      "7\n",
      "9\n",
      "r\n",
      "pass\n",
      "o\n",
      "pass\n",
      "o\n",
      "m\n",
      "1*1=1 \n",
      "2*1=2 2*2=4 \n",
      "3*1=3 3*2=6 3*3=9 \n",
      "4*1=4 4*2=8 4*3=12 4*4=16 \n",
      "5*1=5 5*2=10 5*3=15 5*4=20 5*5=25 \n",
      "6*1=6 6*2=12 6*3=18 6*4=24 6*5=30 6*6=36 \n",
      "7*1=7 7*2=14 7*3=21 7*4=28 7*5=35 7*6=42 7*7=49 \n",
      "8*1=8 8*2=16 8*3=24 8*4=32 8*5=40 8*6=48 8*7=56 8*8=64 \n",
      "9*1=9 9*2=18 9*3=27 9*4=36 9*5=45 9*6=54 9*7=63 9*8=72 9*9=81 \n",
      "1*1=1 \n",
      "2*1=2 2*2=4 \n",
      "3*1=3 3*2=6 3*3=9 \n",
      "4*1=4 4*2=8 4*3=12 4*4=16 \n",
      "5*1=5 5*2=10 5*3=15 5*4=20 5*5=25 \n",
      "6*1=6 6*2=12 6*3=18 6*4=24 6*5=30 6*6=36 \n",
      "7*1=7 7*2=14 7*3=21 7*4=28 7*5=35 7*6=42 7*7=49 \n",
      "8*1=8 8*2=16 8*3=24 8*4=32 8*5=40 8*6=48 8*7=56 8*8=64 \n",
      "9*1=9 9*2=18 9*3=27 9*4=36 9*5=45 9*6=54 9*7=63 9*8=72 9*9=81 \n"
     ]
    }
   ],
   "source": [
    "i=0\n",
    "sum=0\n",
    "while i<=100 :\n",
    "    sum += i\n",
    "    i=i+1\n",
    "print(sum)\n",
    "\n",
    "count = 0\n",
    "while count<5:\n",
    "    print(count,\"小于5\")\n",
    "    count+=1\n",
    "else:\n",
    "    print(count,\"大于等于5\")\n",
    "\n",
    "\n",
    "n=1\n",
    "while n<=100:\n",
    "    if n>10:\n",
    "        break   #break 可以跳出for 和while 的循环体\n",
    "    print(n)\n",
    "    n+=1\n",
    "\n",
    "n=0\n",
    "while n<10:\n",
    "    n+=1\n",
    "    if n%2 == 0:\n",
    "        continue\n",
    "    print(n)\n",
    "\n",
    "for letter in \"room\":\n",
    "    if letter =='o':\n",
    "        pass\n",
    "        print('pass')\n",
    "    print(letter)\n",
    "\n",
    "\n",
    "# 九九乘法表\n",
    "# 第一种 for循环嵌套实现\n",
    "for i in range(1, 10):\n",
    "    for num in range(1, i + 1):\n",
    "        a = i * num\n",
    "        print(\"%d*%d=%d\" % (i, num, a), end=\" \")\n",
    "    print(\"\")\n",
    "# 第二种 while判断条件\n",
    "for x in range(1, 10):\n",
    "    y = 1\n",
    "    while y <= x:\n",
    "        print(\"%s*%s=%s\" % (x, y, x * y), end=\" \")\n",
    "        y += 1\n",
    "    print(\"\") "
   ]
  },
  {
   "cell_type": "code",
   "execution_count": 9,
   "metadata": {},
   "outputs": [
    {
     "name": "stdout",
     "output_type": "stream",
     "text": [
      "chengdu\n",
      "che\n",
      "ngdu\n",
      "chengdu，你好\n",
      "chengduchengduchengdu\n",
      "hello\\nworld\n"
     ]
    }
   ],
   "source": [
    "'''word = '字符串'\n",
    "sen = \"这是一个句子\"\n",
    "paragraph = \"\"\"\n",
    "    zheshiyige \n",
    "    shide \n",
    "\"\"\"\n",
    "print(word)\n",
    "print(sen)\n",
    "print(paragraph)\n",
    "'''\n",
    "\n",
    "'''\n",
    "my_str = \"t'm a \"\n",
    "a = 'i\\'m a man'  #转义字符\n",
    "b = \"you \\\"haha\\\"\"\n",
    "b_1 = 'you \"hahha\"'\n",
    "print(my_str)\n",
    "print(a)\n",
    "print(b)\n",
    "print(b_1)\n",
    "'''\n",
    "\n",
    "str = \"chengdu\"\n",
    "print(str[0:9])  #[起始位置 ：结束位置：步进值]\n",
    "print(str[:3])  #第三个之前的\n",
    "print(str[3:])  #从第三个开始输出完\n",
    "print(str+\"，你好\")\n",
    "print(str*3)\n",
    "print(r\"hello\\nworld\") #加r 不转义\n"
   ]
  },
  {
   "cell_type": "code",
   "execution_count": 18,
   "metadata": {},
   "outputs": [
    {
     "name": "stdout",
     "output_type": "stream",
     "text": [
      "xiaozhang\n",
      "xiaoli\n",
      "1\n",
      "[]\n",
      "请输入增加的内容：1\n",
      "['xiaozhang', 'xiaoli', 1, [], '1']\n"
     ]
    }
   ],
   "source": [
    "namelist = []  #定义空列表\n",
    "namelist1 = [\"xiaozhang\",\"xiaoli\",1,namelist]  #可以是不同类型\n",
    "\n",
    "for i in namelist1:\n",
    "   print(i)\n",
    "# 增加\n",
    "nameapp = input(\"请输入增加的内容：\")\n",
    "namelist1.append(nameapp)\n",
    "print(namelist1)"
   ]
  },
  {
   "cell_type": "code",
   "execution_count": 13,
   "metadata": {},
   "outputs": [
    {
     "name": "stdout",
     "output_type": "stream",
     "text": [
      "[1, 2, [4, 4]]\n",
      "[1, 2, [4, 4], 4, 4]\n",
      "[1, 3, 2, [4, 4], 4, 4]\n"
     ]
    }
   ],
   "source": [
    "a = [1,2]\n",
    "b = [4,4]\n",
    "a.append(b)  #整体追加\n",
    "print(a)\n",
    "a.extend(b)  #逐一追加\n",
    "print(a)\n",
    "a.insert(1,3) #第一个表示下标 第二个表示元素，在下标前面追加元素\n",
    "print(a)"
   ]
  },
  {
   "cell_type": "code",
   "execution_count": 14,
   "metadata": {},
   "outputs": [
    {
     "name": "stdout",
     "output_type": "stream",
     "text": [
      "['得到的', 'ww', 'ee', 'ee']\n",
      "['得到的', 'ww', 'ee']\n",
      "['得到的', 'ww']\n",
      "['得到的', '11', 'ww', 'ee', 'ee']\n",
      "请输入要查找的电影名称:1\n",
      "not found!\n",
      "3\n",
      "2\n"
     ]
    }
   ],
   "source": [
    "#删除\n",
    "movename = [\"得到的\",\"dd\",\"ww\",\"ee\",\"ee\"]\n",
    "del movename[1]  #删除指定下标处的元素\n",
    "print(movename)\n",
    "\n",
    "movename.pop()   #弹出末尾的一个元素\n",
    "print(movename)\n",
    "\n",
    "movename.remove(\"ee\")  #删除指定内容,但只删除找到的第一个\n",
    "print(movename)\n",
    "\n",
    "\n",
    "# 改\n",
    "movename = [\"得到的\",\"dd\",\"ww\",\"ee\",\"ee\"]\n",
    "movename[1] = \"11\" #指定下标修改内容\n",
    "print(movename)\n",
    "\n",
    "# 查，in  not in\n",
    "movename = [\"得到的\",\"dd\",\"ww\",\"ee\",\"ee\"]\n",
    "findname = input(\"请输入要查找的电影名称:\")\n",
    "if findname in movename:\n",
    "    print(\"find it!\")\n",
    "else:\n",
    "    print(\"not found!\")\n",
    "\n",
    "print(movename.index(\"ee\",1,5))  #查找指定范围（左闭右开）是否存在该元素，找不到会报错\n",
    "print(movename.count(\"ee\"))  #  有几个指定元素"
   ]
  },
  {
   "cell_type": "code",
   "execution_count": 15,
   "metadata": {},
   "outputs": [
    {
     "name": "stdout",
     "output_type": "stream",
     "text": [
      "[4, 3, 2, 1]\n",
      "[1, 2, 3, 4]\n",
      "[4, 3, 2, 1]\n",
      "beida\n"
     ]
    }
   ],
   "source": [
    "#排序\n",
    "a = [1,2,3,4]\n",
    "a.reverse()   #反转\n",
    "print(a)\n",
    "a.sort()  #升序排序\n",
    "print(a)\n",
    "a.sort(reverse=True)  #降序排序\n",
    "print(a)\n",
    "\n",
    "# 嵌套  类似数组\n",
    "sc = [[\"beida\",\"qinghua\"],[1,2,3],[\"a\",5,6,7]]\n",
    "print(sc[0][0])"
   ]
  },
  {
   "cell_type": "code",
   "execution_count": 16,
   "metadata": {},
   "outputs": [
    {
     "name": "stdout",
     "output_type": "stream",
     "text": [
      "办公室1的人数为2\n",
      "c\tg\t\n",
      "\n",
      "--------------------\n",
      "办公室2的人数为1\n",
      "h\t\n",
      "\n",
      "--------------------\n",
      "办公室3的人数为5\n",
      "a\tb\td\tf\ti\t\n",
      "\n",
      "--------------------\n"
     ]
    }
   ],
   "source": [
    "# 分配问题\n",
    "import  random\n",
    "offices = [[],[],[]]\n",
    "t_name = [\"a\",\"b\",\"c\",\"d\",\"f\",\"g\",\"h\",\"i\"]\n",
    "for name in t_name:\n",
    "    index = random.randint(0,2)\n",
    "    offices[index].append(name)\n",
    "i = 1\n",
    "for office in offices:\n",
    "    print(\"办公室%d的人数为%d\"%(i,len(office)))\n",
    "    for name in office:\n",
    "        print(\"%s\"%name,end=\"\\t\")\n",
    "    i+=1\n",
    "    print(\"\\n\")\n",
    "    print(\"-\"*20)"
   ]
  },
  {
   "cell_type": "code",
   "execution_count": 17,
   "metadata": {},
   "outputs": [
    {
     "name": "stdout",
     "output_type": "stream",
     "text": [
      "-----商品列表-----\n",
      "0  ipone  6888  \n",
      "\n",
      "1  macpro  16888  \n",
      "\n",
      "2  coffee  31  \n",
      "\n",
      "3  book  60  \n",
      "\n",
      "4  nike  699  \n",
      "\n",
      "请输入要购买的商品编号（输入q结算）：0\n",
      "请输入要购买的商品编号（输入q结算）：q\n",
      "-----您购买的商品-----\n",
      "0  ipone  6888  \n",
      "\n"
     ]
    }
   ],
   "source": [
    "# 购物\n",
    "products = [[\"ipone\",6888],[\"macpro\",16888],[\"coffee\",31],[\"book\",60],[\"nike\",699]]\n",
    "print(\"-\"*5 + \"商品列表\" + \"-\"*5)\n",
    "i = 0\n",
    "for product in products:\n",
    "    print(i,end=\"  \")\n",
    "    i+=1\n",
    "    for item in product:\n",
    "        print(item,end=\"  \")\n",
    "\n",
    "    print(\"\\n\")\n",
    "cart = []\n",
    "\n",
    "while True:\n",
    "    num = input(\"请输入要购买的商品编号（输入q结算）：\")\n",
    "    if num == \"q\":\n",
    "        break\n",
    "    else:\n",
    "        cart.append(products[int(num)])\n",
    "print(\"-\"*5 + \"您购买的商品\" + \"-\"*5)\n",
    "i = 0\n",
    "for bought in cart:\n",
    "    print(i,end=\"  \")\n",
    "    i+=1\n",
    "    for item in bought:\n",
    "        print(item,end=\"  \")\n",
    "    print(\"\\n\")"
   ]
  },
  {
   "cell_type": "code",
   "execution_count": null,
   "metadata": {},
   "outputs": [],
   "source": []
  }
 ],
 "metadata": {
  "kernelspec": {
   "display_name": "Python 3",
   "language": "python",
   "name": "python3"
  },
  "language_info": {
   "codemirror_mode": {
    "name": "ipython",
    "version": 3
   },
   "file_extension": ".py",
   "mimetype": "text/x-python",
   "name": "python",
   "nbconvert_exporter": "python",
   "pygments_lexer": "ipython3",
   "version": "3.7.1"
  }
 },
 "nbformat": 4,
 "nbformat_minor": 4
}
