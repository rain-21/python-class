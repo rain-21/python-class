{
 "cells": [
  {
   "cell_type": "code",
   "execution_count": 8,
   "metadata": {},
   "outputs": [
    {
     "name": "stdin",
     "output_type": "stream",
     "text": [
      "enter a word: beautiful\n"
     ]
    }
   ],
   "source": [
    "#百度翻译\n",
    "#-*- encoding:'utf-8' -*-\n",
    "import requests\n",
    "import json\n",
    "if __name__==\"__main__\":\n",
    "    post_url='https://fanyi.baidu.com/sug'\n",
    "    headers={\n",
    "        'User-Agent':'Mozilla/5.0 (Windows NT 10.0; Win64; x64) AppleWebKit/537.36 (KHTML, like Gecko) Chrome/86.0.4240.193 Safari/537.36 Edg/86.0.622.68'\n",
    "    }\n",
    "    word=input('enter a word:')\n",
    "    data={\n",
    "        'kw':word\n",
    "    }\n",
    "    req=requests.post(url=post_url,data=data,headers=headers)\n",
    "    dic=req.json()\n",
    "    file=word+'.json'\n",
    "    fp=open(file,'w',encoding='utf-8')\n",
    "    json.dump(dic,fp=fp,ensure_ascii= False)\n"
   ]
  },
  {
   "cell_type": "code",
   "execution_count": 27,
   "metadata": {},
   "outputs": [],
   "source": [
    "#豆瓣电影分类排行榜\n",
    "#-*- encoding:'utf-8' -*-\n",
    "import requests\n",
    "import json\n",
    "if __name__=='__main__':\n",
    "    get_url='https://movie.douban.com/j/chart/top_list?'\n",
    "    headers={\n",
    "        'User-Agent':'Mozilla/5.0 (Windows NT 10.0; Win64; x64) AppleWebKit/537.36 (KHTML, like Gecko) Chrome/86.0.4240.193 Safari/537.36 Edg/86.0.622.68'\n",
    "    }\n",
    "    param={\n",
    "    'type':'24',\n",
    "    'interval_id':'100:90',\n",
    "    'action':'' ,\n",
    "    'start':'0' ,\n",
    "    'limit':'20' ,\n",
    "    }\n",
    "    req=requests.get(url=get_url,params=param,headers=headers)\n",
    "    list=req.json()\n",
    "    fp=open('douban.json','w',encoding='utf-8')\n",
    "    json.dump(list,fp=fp,ensure_ascii=False)\n",
    "        \n",
    "    "
   ]
  },
  {
   "cell_type": "code",
   "execution_count": 45,
   "metadata": {},
   "outputs": [],
   "source": [
    "#化妆品公司信息\n",
    "#-*- encoding:'utf-8' -*-import requests\n",
    "import json\n",
    "from bs4 import BeautifulSoup\n",
    "if __name__=='__main__':\n",
    "    post_url='http://scxk.nmpa.gov.cn:81/xk/itownet/portalAction.do?method=getXkzsList'\n",
    "    data={\n",
    "        'on':'true',\n",
    "        'page':'1',\n",
    "        'pageSize':'15' ,\n",
    "        'productName':'' ,\n",
    "        'conditionType':'1',\n",
    "        'applyname':'',\n",
    "        'applysn':'',\n",
    "    }\n",
    "    headers={\n",
    "        'User-Agent':'Mozilla/5.0 (Windows NT 10.0; Win64; x64) AppleWebKit/537.36 (KHTML, like Gecko) Chrome/86.0.4240.193 Safari/537.36 Edg/86.0.622.68'\n",
    "    }\n",
    "    ID=[]\n",
    "    req=requests.post(url=post_url,headers=headers,data=data)\n",
    "    ID_json=req.json()\n",
    "    for each in ID_json['list']:\n",
    "        ID.append(each['ID'])\n",
    "    URL='http://scxk.nmpa.gov.cn:81/xk/itownet/portalAction.do?method=getXkzsById'\n",
    "    fp=open('化妆品公司信息.json','w',encoding='utf-8')\n",
    "    for each in ID:\n",
    "        data={\n",
    "            'id':each\n",
    "        }\n",
    "        rsp=requests.post(url=URL,headers=headers,data=data)\n",
    "        message=rsp.json()\n",
    "        json.dump(message,fp=fp,ensure_ascii=False)\n"
   ]
  },
  {
   "cell_type": "code",
   "execution_count": 58,
   "metadata": {},
   "outputs": [
    {
     "name": "stdout",
     "output_type": "stream",
     "text": [
      "《斗破苍穹》开始下载：\n",
      "《斗破苍穹》下载完成\n"
     ]
    }
   ],
   "source": [
    "#斗破苍穹下载\n",
    "#-*- encoding:'utf-8' -*-\n",
    "from bs4 import BeautifulSoup\n",
    "import requests\n",
    "class download(object):\n",
    "    def __init__(self):\n",
    "        self.server = 'http://www.biqukan.com/'\n",
    "        self.target = 'https://www.biqukan.com/3_3037/'\n",
    "        self.names = []\n",
    "        self.urls=[]\n",
    "        self.nums = 0            \n",
    "    def get_url(self):\n",
    "        req = requests.get(url = self.target)\n",
    "        html = req.text\n",
    "        div_bf = BeautifulSoup(html)\n",
    "        div = div_bf.find_all('div', class_ = 'listmain')\n",
    "        a_bf = BeautifulSoup(str(div[0]))\n",
    "        a = a_bf.find_all('a')\n",
    "        self.nums = len(a[12:])                                \n",
    "        for each in a[12:]:\n",
    "            self.names.append(each.string)\n",
    "            self.urls.append(self.server + each.get('href'))\n",
    "    def get_texts(self, target):\n",
    "        req = requests.get(url = target)\n",
    "        html = req.text\n",
    "        bf = BeautifulSoup(html)\n",
    "        texts = bf.find_all('div', class_ = 'showtxt')\n",
    "        texts = texts[0].text.replace('\\xa0'*8,'\\n\\n')\n",
    "        return texts\n",
    "    def writer(self, name, path, text):\n",
    "        write_flag = True\n",
    "        with open(path, 'a', encoding='utf-8') as f:\n",
    "            f.write(name + '\\n')\n",
    "            f.writelines(text)\n",
    "            f.write('\\n\\n')\n",
    "if __name__ == \"__main__\":\n",
    "    dl = download()\n",
    "    dl.get_url()\n",
    "    print('《斗破苍穹》开始下载：')\n",
    "    for i in range(dl.nums):\n",
    "        dl.writer(dl.names[i], 'D:\\斗破苍穹.txt\\斗破苍穹.txt', dl.get_texts(dl.urls[i]))\n",
    "    print('《斗破苍穹》下载完成')"
   ]
  },
  {
   "cell_type": "code",
   "execution_count": 132,
   "metadata": {},
   "outputs": [],
   "source": [
    "#糗图百科热图下载\n",
    "#-*- encoding:'utf-8' -*-\n",
    "import requests\n",
    "from bs4 import BeautifulSoup\n",
    "import os\n",
    "if __name__=='__main__':\n",
    "    if not os.path.exists('D:\\糗图'):\n",
    "        os.mkdir('D:\\糗图')\n",
    "    headers={\n",
    "        'User-Agent':'Mozilla/5.0 (Windows NT 10.0; Win64; x64) AppleWebKit/537.36 (KHTML, like Gecko) Chrome/86.0.4240.193 Safari/537.36 Edg/86.0.622.68'\n",
    "    }\n",
    "    srcs=[]\n",
    "    url='https://www.qiushibaike.com/imgrank/page/%d/'\n",
    "    for pagenum in range(1,14):\n",
    "        new_url=format(url%pagenum)   \n",
    "        req=requests.get(url=new_url,headers=headers)\n",
    "        html=req.text\n",
    "        page_data=BeautifulSoup(html)\n",
    "        div=page_data.find_all('div',class_='thumb')\n",
    "        scr_bf=BeautifulSoup(str(div))\n",
    "        img=scr_bf.find_all('img')\n",
    "        for each in img:\n",
    "            srcs.append(each.get('src'))\n",
    "    nums=len(srcs)\n",
    "    for i in range(nums):\n",
    "            img_url='https:'+srcs[i]\n",
    "            img_path='D:\\糗图\\糗图'+srcs[i].split('/')[-1]\n",
    "            req=requests.get(url=img_url,headers=headers).content\n",
    "            with open(img_path,'wb') as fp:\n",
    "                fp.write(req)\n",
    "                "
   ]
  },
  {
   "cell_type": "code",
   "execution_count": 160,
   "metadata": {},
   "outputs": [],
   "source": [
    "#网易云音乐下载\n",
    "#-*- encoding:'utf-8' -*-\n",
    "from bs4 import BeautifulSoup\n",
    "import requests\n",
    "import os\n",
    "if __name__=='__main__':\n",
    "    if not os.path.exists('D:\\网易云音乐热歌榜'):\n",
    "        os.mkdir('D:\\网易云音乐热歌榜')\n",
    "    url='http://music.163.com/song/media/outer/url?id=%s'\n",
    "    headers={\n",
    "        'User-Agent':'Mozilla/5.0 (Windows NT 10.0; Win64; x64) AppleWebKit/537.36 (KHTML, like Gecko) Chrome/86.0.4240.193 Safari/537.36 Edg/86.0.622.68'\n",
    "    }\n",
    "    music_url=[]\n",
    "    musicName=[]\n",
    "    res=requests.get(url='https://music.163.com/discover/toplist?id=3778678',headers=headers)\n",
    "    html=res.text\n",
    "    div=BeautifulSoup(html)\n",
    "    div_data=div.find_all('div',class_='g-wrap12')\n",
    "    ID_bf=BeautifulSoup(str(div_data))\n",
    "    ID_data=ID_bf.find_all('a')\n",
    "    for each in ID_data:\n",
    "        musicName.append(each.string)\n",
    "        new_url=format(url%each.get('href').split('=')[1])\n",
    "        res=requests.get(url=new_url,headers=headers).content\n",
    "        path='D:\\网易云音乐热歌榜\\'+each.string+'.mp3'\n",
    "        with open(path,'wb') as fp:\n",
    "            fp.write(res)"
   ]
  },
  {
   "cell_type": "code",
   "execution_count": 3,
   "metadata": {},
   "outputs": [
    {
     "name": "stdout",
     "output_type": "stream",
     "text": [
      "[17, 15, 4]\n",
      "[10, 12, 9]\n",
      "[11, 13, 18]\n"
     ]
    }
   ],
   "source": [
    "#用for循环实现两个矩阵相加\n",
    "#!/usr/bin/python\n",
    "#-*- encoding:'utf-8' -*-\n",
    " \n",
    "X = [[12,7,3],\n",
    "    [4 ,5,6],\n",
    "    [7 ,8,9]]\n",
    " \n",
    "Y = [[5,8,1],\n",
    "    [6,7,3],\n",
    "    [4,5,9]]\n",
    " \n",
    "result = [[0,0,0],\n",
    "         [0,0,0],\n",
    "         [0,0,0]]\n",
    " \n",
    "# 迭代输出行\n",
    "for i in range(len(X)):\n",
    "   # 迭代输出列\n",
    "   for j in range(len(X[0])):\n",
    "         result[i][j] = X[i][j] + Y[i][j]\n",
    "for r in result:\n",
    "     print(r)"
   ]
  },
  {
   "cell_type": "code",
   "execution_count": 27,
   "metadata": {},
   "outputs": [
    {
     "name": "stdin",
     "output_type": "stream",
     "text": [
      "输入一个数字:\n",
      " 5\n",
      "输入一个数字:\n",
      " 8\n",
      "输入一个数字:\n",
      " 9\n",
      "输入一个数字:\n",
      " 4\n",
      "输入一个数字:\n",
      " 6\n",
      "输入一个数字:\n",
      " 7\n"
     ]
    },
    {
     "name": "stdout",
     "output_type": "stream",
     "text": [
      "计算结果：\n",
      "9\n",
      "7\n",
      "8\n",
      "5\n",
      "6\n",
      "4\n"
     ]
    }
   ],
   "source": [
    "#输入数组，最大的与第一个元素交换，最小的与最后一个元素交换，输出数组\n",
    "#!/usr/bin/python\n",
    "#-*- encoding:'utf-8' -*-\n",
    " \n",
    "def inp(numbers):\n",
    "    for i in range(6):\n",
    "        numbers.append(int(input('输入一个数字:\\n')))\n",
    "        p = 0\n",
    "def arr_max(array):\n",
    "    max = 0                          \n",
    "    for i in range(1,len(array)):\n",
    "        p = i\n",
    "        if array[p] > array[max] : \n",
    "            max = p\n",
    "            k = max\n",
    "            array[0],array[k] = array[k],array[0]\n",
    "def arr_min(array):\n",
    "    min = 0\n",
    "    for i in range(1,len(array)):\n",
    "        p = i\n",
    "        if array[p] < array[min] : \n",
    "            min = p\n",
    "            l = min\n",
    "            array[5],array[l] = array[l],array[5]\n",
    "def outp(numbers):\n",
    "    for i  in range(len(numbers)):\n",
    "        print(numbers[i])\n",
    "if __name__ == '__main__':\n",
    "    array = []\n",
    "    inp(array)        # 输入 6 个数字并放入数组\n",
    "    arr_max(array)    # 获取最大元素并与第一个元素交换\n",
    "    arr_min(array)    # 获取最小元素并与最后一个元素交换\n",
    "    print('计算结果：')\n",
    "    outp(array)"
   ]
  },
  {
   "cell_type": "code",
   "execution_count": 31,
   "metadata": {},
   "outputs": [
    {
     "name": "stdin",
     "output_type": "stream",
     "text": [
      "input a number:\n",
      " 4\n"
     ]
    },
    {
     "name": "stdout",
     "output_type": "stream",
     "text": [
      "0.75\n"
     ]
    }
   ],
   "source": [
    "#输入n为偶数时，调用函数求1/2+1/4+...+1/n,当输入n为奇数时，调用函数1/1+1/3+...+1/n\n",
    "#!/usr/bin/python\n",
    "#-*- encoding:'utf-8' -*-\n",
    " \n",
    "def peven(n):\n",
    "    i = 0\n",
    "    s = 0.0\n",
    "    for i in range(2,n + 1,2):\n",
    "        s += 1.0 / i   # Python里，整数除整数，只能得出整数，所以需要使用 浮点数 1.0\n",
    "    return s\n",
    " \n",
    "def podd(n):\n",
    "    s = 0.0\n",
    "    for i in range(1, n + 1,2):\n",
    "        s += 1.0 / i    # Python里，整数除整数，只能得出整数，所以需要使用 浮点数 1.0\n",
    "    return s\n",
    " \n",
    "def dcall(fp,n):\n",
    "    s = fp(n)\n",
    "    return s\n",
    " \n",
    "if __name__ == '__main__':\n",
    "    n = int(input('input a number:\\n'))\n",
    "    if n % 2 == 0:\n",
    "        sum = dcall(peven,n)\n",
    "    else:\n",
    "        sum = dcall(podd,n)\n",
    "    print(sum)"
   ]
  },
  {
   "cell_type": "code",
   "execution_count": null,
   "metadata": {},
   "outputs": [
    {
     "name": "stdin",
     "output_type": "stream",
     "text": [
      "do you want to play it.('y' or 'n') y\n",
      "input a character:\n",
      " 40\n"
     ]
    },
    {
     "name": "stdout",
     "output_type": "stream",
     "text": [
      "please input number you guess:\n",
      "\n"
     ]
    },
    {
     "name": "stdin",
     "output_type": "stream",
     "text": [
      "input your guess:\n",
      " 20\n"
     ]
    },
    {
     "name": "stdout",
     "output_type": "stream",
     "text": [
      "please input a little bigger\n"
     ]
    },
    {
     "name": "stdin",
     "output_type": "stream",
     "text": [
      "input your guess:\n",
      " 30\n"
     ]
    },
    {
     "name": "stdout",
     "output_type": "stream",
     "text": [
      "please input a little bigger\n"
     ]
    },
    {
     "name": "stdin",
     "output_type": "stream",
     "text": [
      "input your guess:\n",
      " 35\n"
     ]
    },
    {
     "name": "stdout",
     "output_type": "stream",
     "text": [
      "please input a little bigger\n"
     ]
    },
    {
     "name": "stdin",
     "output_type": "stream",
     "text": [
      "input your guess:\n",
      " 38\n"
     ]
    },
    {
     "name": "stdout",
     "output_type": "stream",
     "text": [
      "please input a little bigger\n"
     ]
    },
    {
     "name": "stdin",
     "output_type": "stream",
     "text": [
      "input your guess:\n",
      " 39\n"
     ]
    },
    {
     "name": "stdout",
     "output_type": "stream",
     "text": [
      "please input a little bigger\n"
     ]
    },
    {
     "name": "stdin",
     "output_type": "stream",
     "text": [
      "input your guess:\n",
      " 40\n"
     ]
    },
    {
     "name": "stdout",
     "output_type": "stream",
     "text": [
      "please input a little bigger\n"
     ]
    },
    {
     "name": "stdin",
     "output_type": "stream",
     "text": [
      "input your guess:\n",
      " 46\n"
     ]
    },
    {
     "name": "stdout",
     "output_type": "stream",
     "text": [
      "please input a little bigger\n"
     ]
    },
    {
     "name": "stdin",
     "output_type": "stream",
     "text": [
      "input your guess:\n",
      " 80\n"
     ]
    },
    {
     "name": "stdout",
     "output_type": "stream",
     "text": [
      "please input a little smaller\n"
     ]
    },
    {
     "name": "stdin",
     "output_type": "stream",
     "text": [
      "input your guess:\n",
      " 77\n"
     ]
    },
    {
     "name": "stdout",
     "output_type": "stream",
     "text": [
      "please input a little smaller\n"
     ]
    },
    {
     "name": "stdin",
     "output_type": "stream",
     "text": [
      "input your guess:\n",
      " 60\n"
     ]
    },
    {
     "name": "stdout",
     "output_type": "stream",
     "text": [
      "please input a little smaller\n"
     ]
    },
    {
     "name": "stdin",
     "output_type": "stream",
     "text": [
      "input your guess:\n",
      " 50\n"
     ]
    },
    {
     "name": "stdout",
     "output_type": "stream",
     "text": [
      "please input a little bigger\n"
     ]
    },
    {
     "name": "stdin",
     "output_type": "stream",
     "text": [
      "input your guess:\n",
      " 55\n"
     ]
    },
    {
     "name": "stdout",
     "output_type": "stream",
     "text": [
      "please input a little smaller\n"
     ]
    },
    {
     "name": "stdin",
     "output_type": "stream",
     "text": [
      "input your guess:\n",
      " 53\n"
     ]
    },
    {
     "name": "stdout",
     "output_type": "stream",
     "text": [
      "please input a little smaller\n"
     ]
    },
    {
     "name": "stdin",
     "output_type": "stream",
     "text": [
      "input your guess:\n",
      " 52\n"
     ]
    },
    {
     "name": "stdout",
     "output_type": "stream",
     "text": [
      "please input a little smaller\n"
     ]
    },
    {
     "name": "stdin",
     "output_type": "stream",
     "text": [
      "input your guess:\n",
      " 51\n"
     ]
    },
    {
     "name": "stdout",
     "output_type": "stream",
     "text": [
      "1.9256606923076915\n",
      "you are very clever!\n",
      "Congradulations\n",
      "The number you guess is 51\n"
     ]
    }
   ],
   "source": [
    "## 时间函数举例4,一个猜数游戏，判断一个人反应快慢。\n",
    "#!/usr/bin/python\n",
    "#-*- encoding:'utf-8' -*-\n",
    " \n",
    "if __name__ == '__main__':\n",
    "    import time\n",
    "    import random\n",
    "    \n",
    "    play_it = input('do you want to play it.(\\'y\\' or \\'n\\')')\n",
    "    while play_it == 'y':\n",
    "        c = input('input a character:\\n')\n",
    "        i = random.randint(0,2**32) % 100\n",
    "        print('please input number you guess:\\n')\n",
    "        start = time.perf_counter()\n",
    "        a = time.time()\n",
    "        guess = int(input('input your guess:\\n'))\n",
    "        while guess != i:\n",
    "            if guess > i:\n",
    "                print('please input a little smaller')\n",
    "                guess = int(input('input your guess:\\n'))\n",
    "            else:\n",
    "                print ('please input a little bigger')\n",
    "                guess = int(input('input your guess:\\n'))\n",
    "        end = time.perf_counter()\n",
    "        b = time.time()\n",
    "        var = (end - start) / 18.2\n",
    "        print (var)\n",
    "        # print 'It took you %6.3 seconds' % time.difftime(b,a))\n",
    "        if var < 15:\n",
    "            print('you are very clever!')\n",
    "        elif var < 25:\n",
    "            print ('you are normal!')\n",
    "        else:\n",
    "            print ('you are stupid!')\n",
    "        print ('Congradulations')\n",
    "        print ('The number you guess is %d' % i)\n",
    "        play_it = input('do you want to play it.')"
   ]
  },
  {
   "cell_type": "code",
   "execution_count": null,
   "metadata": {},
   "outputs": [],
   "source": []
  }
 ],
 "metadata": {
  "kernelspec": {
   "display_name": "Python 3",
   "language": "python",
   "name": "python3"
  },
  "language_info": {
   "codemirror_mode": {
    "name": "ipython",
    "version": 3
   },
   "file_extension": ".py",
   "mimetype": "text/x-python",
   "name": "python",
   "nbconvert_exporter": "python",
   "pygments_lexer": "ipython3",
   "version": "3.8.3"
  }
 },
 "nbformat": 4,
 "nbformat_minor": 4
}
