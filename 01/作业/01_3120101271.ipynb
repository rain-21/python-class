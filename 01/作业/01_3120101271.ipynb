{
 "cells": [
  {
   "cell_type": "code",
   "execution_count": 1,
   "metadata": {},
   "outputs": [
    {
     "data": {
      "text/plain": [
       "10"
      ]
     },
     "execution_count": 1,
     "metadata": {},
     "output_type": "execute_result"
    }
   ],
   "source": [
    "a=10\n",
    "a"
   ]
  },
  {
   "cell_type": "code",
   "execution_count": 2,
   "metadata": {},
   "outputs": [
    {
     "data": {
      "text/plain": [
       "1"
      ]
     },
     "execution_count": 2,
     "metadata": {},
     "output_type": "execute_result"
    }
   ],
   "source": [
    "a=b=1\n",
    "a\n",
    "b"
   ]
  },
  {
   "cell_type": "code",
   "execution_count": 1,
   "metadata": {},
   "outputs": [
    {
     "name": "stdout",
     "output_type": "stream",
     "text": [
      "hello world\n"
     ]
    }
   ],
   "source": [
    "print('hello world')"
   ]
  },
  {
   "cell_type": "code",
   "execution_count": 2,
   "metadata": {},
   "outputs": [
    {
     "name": "stdout",
     "output_type": "stream",
     "text": [
      "l'd much rather you 'not'.\n"
     ]
    }
   ],
   "source": [
    "print(\"l'd much rather you 'not'.\")"
   ]
  },
  {
   "cell_type": "code",
   "execution_count": 3,
   "metadata": {},
   "outputs": [
    {
     "name": "stdout",
     "output_type": "stream",
     "text": [
      "I \"said\" do not touch this.\n"
     ]
    }
   ],
   "source": [
    "print('I \"said\" do not touch this.')"
   ]
  },
  {
   "cell_type": "code",
   "execution_count": 4,
   "metadata": {},
   "outputs": [
    {
     "ename": "SyntaxError",
     "evalue": "unexpected EOF while parsing (<ipython-input-4-a524e261d199>, line 1)",
     "output_type": "error",
     "traceback": [
      "\u001b[1;36m  File \u001b[1;32m\"<ipython-input-4-a524e261d199>\"\u001b[1;36m, line \u001b[1;32m1\u001b[0m\n\u001b[1;33m    print('This will get an error'\u001b[0m\n\u001b[1;37m                                  ^\u001b[0m\n\u001b[1;31mSyntaxError\u001b[0m\u001b[1;31m:\u001b[0m unexpected EOF while parsing\n"
     ]
    }
   ],
   "source": [
    "print('This will get an error'"
   ]
  },
  {
   "cell_type": "code",
   "execution_count": 5,
   "metadata": {},
   "outputs": [
    {
     "name": "stdout",
     "output_type": "stream",
     "text": [
      "I could have code like this.\n"
     ]
    }
   ],
   "source": [
    "# This is a commnet. This is what the programmer whats to tell you.\n",
    "print(\"I could have code like this.\") # and the comment after is ignored."
   ]
  },
  {
   "cell_type": "code",
   "execution_count": 6,
   "metadata": {},
   "outputs": [],
   "source": [
    "counter = 100\n",
    "miles=1000.0\n",
    "name = \"runoob\""
   ]
  },
  {
   "cell_type": "code",
   "execution_count": 7,
   "metadata": {},
   "outputs": [
    {
     "data": {
      "text/plain": [
       "100"
      ]
     },
     "execution_count": 7,
     "metadata": {},
     "output_type": "execute_result"
    }
   ],
   "source": [
    "counter"
   ]
  },
  {
   "cell_type": "code",
   "execution_count": 8,
   "metadata": {},
   "outputs": [
    {
     "data": {
      "text/plain": [
       "1000.0"
      ]
     },
     "execution_count": 8,
     "metadata": {},
     "output_type": "execute_result"
    }
   ],
   "source": [
    "miles"
   ]
  },
  {
   "cell_type": "code",
   "execution_count": 9,
   "metadata": {},
   "outputs": [
    {
     "data": {
      "text/plain": [
       "'runoob'"
      ]
     },
     "execution_count": 9,
     "metadata": {},
     "output_type": "execute_result"
    }
   ],
   "source": [
    "counter\n",
    "miles\n",
    "name"
   ]
  },
  {
   "cell_type": "code",
   "execution_count": 16,
   "metadata": {},
   "outputs": [
    {
     "data": {
      "text/plain": [
       "5"
      ]
     },
     "execution_count": 16,
     "metadata": {},
     "output_type": "execute_result"
    }
   ],
   "source": [
    "a = b = c =1\n",
    "b=5\n",
    "a\n",
    "b"
   ]
  },
  {
   "cell_type": "code",
   "execution_count": 11,
   "metadata": {},
   "outputs": [
    {
     "data": {
      "text/plain": [
       "1"
      ]
     },
     "execution_count": 11,
     "metadata": {},
     "output_type": "execute_result"
    }
   ],
   "source": [
    "a"
   ]
  },
  {
   "cell_type": "code",
   "execution_count": 12,
   "metadata": {},
   "outputs": [
    {
     "data": {
      "text/plain": [
       "1"
      ]
     },
     "execution_count": 12,
     "metadata": {},
     "output_type": "execute_result"
    }
   ],
   "source": [
    "b"
   ]
  },
  {
   "cell_type": "code",
   "execution_count": 13,
   "metadata": {},
   "outputs": [
    {
     "ename": "NameError",
     "evalue": "name 'v' is not defined",
     "output_type": "error",
     "traceback": [
      "\u001b[1;31m---------------------------------------------------------------------------\u001b[0m",
      "\u001b[1;31mNameError\u001b[0m                                 Traceback (most recent call last)",
      "\u001b[1;32m<ipython-input-13-d0aa4386ac53>\u001b[0m in \u001b[0;36m<module>\u001b[1;34m\u001b[0m\n\u001b[1;32m----> 1\u001b[1;33m \u001b[0mv\u001b[0m\u001b[1;33m\u001b[0m\u001b[1;33m\u001b[0m\u001b[0m\n\u001b[0m",
      "\u001b[1;31mNameError\u001b[0m: name 'v' is not defined"
     ]
    }
   ],
   "source": [
    "v"
   ]
  },
  {
   "cell_type": "code",
   "execution_count": 14,
   "metadata": {},
   "outputs": [
    {
     "data": {
      "text/plain": [
       "1"
      ]
     },
     "execution_count": 14,
     "metadata": {},
     "output_type": "execute_result"
    }
   ],
   "source": [
    "c"
   ]
  },
  {
   "cell_type": "code",
   "execution_count": 17,
   "metadata": {},
   "outputs": [
    {
     "name": "stdout",
     "output_type": "stream",
     "text": [
      "1\n",
      "5\n"
     ]
    }
   ],
   "source": [
    "print(a)\n",
    "print(b)"
   ]
  },
  {
   "cell_type": "code",
   "execution_count": 18,
   "metadata": {},
   "outputs": [],
   "source": [
    "a, a, c = 1, 2, \"runoob\""
   ]
  },
  {
   "cell_type": "code",
   "execution_count": 19,
   "metadata": {},
   "outputs": [
    {
     "data": {
      "text/plain": [
       "'runoob'"
      ]
     },
     "execution_count": 19,
     "metadata": {},
     "output_type": "execute_result"
    }
   ],
   "source": [
    "c"
   ]
  },
  {
   "cell_type": "code",
   "execution_count": 20,
   "metadata": {},
   "outputs": [
    {
     "data": {
      "text/plain": [
       "['False',\n",
       " 'None',\n",
       " 'True',\n",
       " 'and',\n",
       " 'as',\n",
       " 'assert',\n",
       " 'async',\n",
       " 'await',\n",
       " 'break',\n",
       " 'class',\n",
       " 'continue',\n",
       " 'def',\n",
       " 'del',\n",
       " 'elif',\n",
       " 'else',\n",
       " 'except',\n",
       " 'finally',\n",
       " 'for',\n",
       " 'from',\n",
       " 'global',\n",
       " 'if',\n",
       " 'import',\n",
       " 'in',\n",
       " 'is',\n",
       " 'lambda',\n",
       " 'nonlocal',\n",
       " 'not',\n",
       " 'or',\n",
       " 'pass',\n",
       " 'raise',\n",
       " 'return',\n",
       " 'try',\n",
       " 'while',\n",
       " 'with',\n",
       " 'yield']"
      ]
     },
     "execution_count": 20,
     "metadata": {},
     "output_type": "execute_result"
    }
   ],
   "source": [
    "import keyword\n",
    "keyword.kwlist"
   ]
  },
  {
   "cell_type": "code",
   "execution_count": 21,
   "metadata": {},
   "outputs": [
    {
     "data": {
      "text/plain": [
       "'I will now count my chickens:'"
      ]
     },
     "execution_count": 21,
     "metadata": {},
     "output_type": "execute_result"
    }
   ],
   "source": [
    "\"I will now count my chickens:\""
   ]
  },
  {
   "cell_type": "code",
   "execution_count": 22,
   "metadata": {},
   "outputs": [
    {
     "name": "stdout",
     "output_type": "stream",
     "text": [
      "hens 30.0\n"
     ]
    }
   ],
   "source": [
    "print(\"hens\",25+30/6)"
   ]
  },
  {
   "cell_type": "code",
   "execution_count": 23,
   "metadata": {},
   "outputs": [
    {
     "data": {
      "text/plain": [
       "3.6"
      ]
     },
     "execution_count": 23,
     "metadata": {},
     "output_type": "execute_result"
    }
   ],
   "source": [
    "1+2+3-4+5%2-2/5+1"
   ]
  },
  {
   "cell_type": "code",
   "execution_count": 24,
   "metadata": {},
   "outputs": [
    {
     "name": "stdout",
     "output_type": "stream",
     "text": [
      "Is it greater? True\n"
     ]
    }
   ],
   "source": [
    "print('Is it greater?',2>1)"
   ]
  },
  {
   "cell_type": "code",
   "execution_count": 25,
   "metadata": {},
   "outputs": [
    {
     "ename": "NameError",
     "evalue": "name 'f' is not defined",
     "output_type": "error",
     "traceback": [
      "\u001b[1;31m---------------------------------------------------------------------------\u001b[0m",
      "\u001b[1;31mNameError\u001b[0m                                 Traceback (most recent call last)",
      "\u001b[1;32m<ipython-input-25-5c1f7ab6fb38>\u001b[0m in \u001b[0;36m<module>\u001b[1;34m\u001b[0m\n\u001b[0;32m      1\u001b[0m \u001b[0ma\u001b[0m\u001b[1;33m=\u001b[0m\u001b[1;34m'Is it greater?'\u001b[0m\u001b[1;33m\u001b[0m\u001b[1;33m\u001b[0m\u001b[0m\n\u001b[1;32m----> 2\u001b[1;33m \u001b[0mprint\u001b[0m\u001b[1;33m(\u001b[0m\u001b[0mf\u001b[0m\u001b[1;33m(\u001b[0m\u001b[0ma\u001b[0m\u001b[1;33m,\u001b[0m\u001b[1;36m2\u001b[0m \u001b[1;33m>\u001b[0m \u001b[1;36m1\u001b[0m\u001b[1;33m)\u001b[0m\u001b[1;33m)\u001b[0m\u001b[1;33m\u001b[0m\u001b[1;33m\u001b[0m\u001b[0m\n\u001b[0m",
      "\u001b[1;31mNameError\u001b[0m: name 'f' is not defined"
     ]
    }
   ],
   "source": [
    "a='Is it greater?'\n",
    "print(f(a,2 > 1))"
   ]
  },
  {
   "cell_type": "code",
   "execution_count": 26,
   "metadata": {},
   "outputs": [
    {
     "name": "stdout",
     "output_type": "stream",
     "text": [
      "a,2 > 1\n"
     ]
    }
   ],
   "source": [
    "a='Is it greater?'\n",
    "print(f\"a,2 > 1\")"
   ]
  },
  {
   "cell_type": "code",
   "execution_count": 27,
   "metadata": {},
   "outputs": [
    {
     "name": "stdout",
     "output_type": "stream",
     "text": [
      "Is it greater?,2 > 1\n"
     ]
    }
   ],
   "source": [
    "a='Is it greater?'\n",
    "print(f\"{a},2 > 1\")"
   ]
  },
  {
   "cell_type": "code",
   "execution_count": 28,
   "metadata": {},
   "outputs": [
    {
     "name": "stdout",
     "output_type": "stream",
     "text": [
      "Is it greater? True\n"
     ]
    }
   ],
   "source": [
    "a='Is it greater?'\n",
    "print(f\"{a}\",2 > 1)"
   ]
  },
  {
   "cell_type": "code",
   "execution_count": 29,
   "metadata": {},
   "outputs": [
    {
     "data": {
      "text/plain": [
       "True"
      ]
     },
     "execution_count": 29,
     "metadata": {},
     "output_type": "execute_result"
    }
   ],
   "source": [
    "2>=1"
   ]
  },
  {
   "cell_type": "code",
   "execution_count": 30,
   "metadata": {},
   "outputs": [
    {
     "data": {
      "text/plain": [
       "False"
      ]
     },
     "execution_count": 30,
     "metadata": {},
     "output_type": "execute_result"
    }
   ],
   "source": [
    "1+2>1+3"
   ]
  },
  {
   "cell_type": "code",
   "execution_count": 31,
   "metadata": {},
   "outputs": [
    {
     "data": {
      "text/plain": [
       "5"
      ]
     },
     "execution_count": 31,
     "metadata": {},
     "output_type": "execute_result"
    }
   ],
   "source": [
    "1+(2>1)+3"
   ]
  },
  {
   "cell_type": "code",
   "execution_count": 32,
   "metadata": {},
   "outputs": [
    {
     "name": "stdout",
     "output_type": "stream",
     "text": [
      "10\n"
     ]
    },
    {
     "data": {
      "text/plain": [
       "20"
      ]
     },
     "execution_count": 32,
     "metadata": {},
     "output_type": "execute_result"
    }
   ],
   "source": [
    "a,b=10,20\n",
    "print(a)\n",
    "b"
   ]
  },
  {
   "cell_type": "code",
   "execution_count": 33,
   "metadata": {},
   "outputs": [
    {
     "ename": "TypeError",
     "evalue": "'c' is an invalid keyword argument for print()",
     "output_type": "error",
     "traceback": [
      "\u001b[1;31m---------------------------------------------------------------------------\u001b[0m",
      "\u001b[1;31mTypeError\u001b[0m                                 Traceback (most recent call last)",
      "\u001b[1;32m<ipython-input-33-a3eafe3f2039>\u001b[0m in \u001b[0;36m<module>\u001b[1;34m\u001b[0m\n\u001b[1;32m----> 1\u001b[1;33m \u001b[0mprint\u001b[0m\u001b[1;33m(\u001b[0m\u001b[0mc\u001b[0m\u001b[1;33m=\u001b[0m\u001b[0ma\u001b[0m\u001b[1;33m+\u001b[0m\u001b[0mb\u001b[0m\u001b[1;33m)\u001b[0m\u001b[1;33m\u001b[0m\u001b[1;33m\u001b[0m\u001b[0m\n\u001b[0m",
      "\u001b[1;31mTypeError\u001b[0m: 'c' is an invalid keyword argument for print()"
     ]
    }
   ],
   "source": [
    "print(c=a+b)"
   ]
  },
  {
   "cell_type": "code",
   "execution_count": 34,
   "metadata": {},
   "outputs": [
    {
     "name": "stdout",
     "output_type": "stream",
     "text": [
      "This is: 30\n"
     ]
    }
   ],
   "source": [
    "c=a+b\n",
    "print('This is:',c)"
   ]
  },
  {
   "cell_type": "code",
   "execution_count": 35,
   "metadata": {},
   "outputs": [
    {
     "name": "stdout",
     "output_type": "stream",
     "text": [
      "(a+b)*c/d的结果为： 90.0\n",
      "((a+b)*c)/d的结果为： 90.0\n"
     ]
    }
   ],
   "source": [
    "a=20\n",
    "b=10\n",
    "c=15\n",
    "d=5\n",
    "e=0\n",
    "e=(a+b)*c/d\n",
    "print('(a+b)*c/d的结果为：',e)\n",
    "e=((a+b)*c)/d\n",
    "print('((a+b)*c)/d的结果为：',e)"
   ]
  },
  {
   "cell_type": "code",
   "execution_count": 36,
   "metadata": {},
   "outputs": [
    {
     "name": "stdout",
     "output_type": "stream",
     "text": [
      "(a+b)*(c/d)的结果为： 90.0\n",
      "a+(b*c)/d的结果为： 50.0\n"
     ]
    }
   ],
   "source": [
    "e=(a+b)*(c/d)\n",
    "print('(a+b)*(c/d)的结果为：',e)\n",
    "e=a+(b*c)/d\n",
    "print('a+(b*c)/d的结果为：',e)"
   ]
  },
  {
   "cell_type": "code",
   "execution_count": 41,
   "metadata": {},
   "outputs": [
    {
     "name": "stdout",
     "output_type": "stream",
     "text": [
      "Let's talk about Tang Q\n",
      "He is 22 now\n",
      "He is 168 mm tall\n",
      "and his weight is 53 kg\n",
      "If I add 22, 168, and 53 I get 2216853.\n"
     ]
    }
   ],
   "source": [
    "my_name='Tang Q'\n",
    "my_age='22'\n",
    "my_height='168'\n",
    "my_weight='53'\n",
    "my_hair='black'\n",
    "print(f\"Let's talk about {my_name}\")\n",
    "print(f\"He is {my_age} now\")\n",
    "print(f\"He is {my_height} mm tall\")\n",
    "print(f\"and his weight is {my_weight} kg\")\n",
    "# this line is tricky, try to get it exactly right\n",
    "total=my_age+my_height+my_weight\n",
    "print(f\"If I add {my_age}, {my_height}, and {my_weight} I get {total}.\")"
   ]
  },
  {
   "cell_type": "code",
   "execution_count": 42,
   "metadata": {},
   "outputs": [
    {
     "name": "stdout",
     "output_type": "stream",
     "text": [
      "Let's talk about Tang Q\n",
      "He is 22 now\n",
      "He is 168 mm tall\n",
      "and his weight is 53 kg\n",
      "If I add 22, 168, and 53 I get 243.\n"
     ]
    }
   ],
   "source": [
    "my_name='Tang Q'\n",
    "my_age=22\n",
    "my_height=168\n",
    "my_weight=53\n",
    "my_hair='black'\n",
    "print(f\"Let's talk about {my_name}\")\n",
    "print(f\"He is {my_age} now\")\n",
    "print(f\"He is {my_height} mm tall\")\n",
    "print(f\"and his weight is {my_weight} kg\")\n",
    "# this line is tricky, try to get it exactly right\n",
    "total=my_age+my_height+my_weight\n",
    "print(f\"If I add {my_age}, {my_height}, and {my_weight} I get {total}.\")"
   ]
  },
  {
   "cell_type": "code",
   "execution_count": 2,
   "metadata": {},
   "outputs": [],
   "source": [
    "types_of_people=10\n",
    "x=f\"There are {types_of_people} type of people.\"\n",
    "binary=\"binary\"\n",
    "do_not=\"don't\"\n",
    "y=f\"Those who know {binary} are those who {do_not}.\""
   ]
  },
  {
   "cell_type": "code",
   "execution_count": 3,
   "metadata": {},
   "outputs": [
    {
     "name": "stdout",
     "output_type": "stream",
     "text": [
      "There are 10 type of people.\n",
      "Those who know binary are those who don't.\n"
     ]
    }
   ],
   "source": [
    "print(x)\n",
    "print(y)"
   ]
  },
  {
   "cell_type": "code",
   "execution_count": 5,
   "metadata": {},
   "outputs": [
    {
     "name": "stdout",
     "output_type": "stream",
     "text": [
      "I said There are 10 type of people.\n",
      "I also said 'Those who know binary are those who don't.'\n"
     ]
    }
   ],
   "source": [
    "print(f\"I said {x}\")\n",
    "print(f\"I also said '{y}'\")"
   ]
  },
  {
   "cell_type": "code",
   "execution_count": 8,
   "metadata": {},
   "outputs": [
    {
     "name": "stdout",
     "output_type": "stream",
     "text": [
      "Isn't that joke so funny?False\n"
     ]
    }
   ],
   "source": [
    "hilarious=False\n",
    "joke_evaluation=\"Isn't that joke so funny? {}\"\n",
    "print(joke_evaluation.format(hilarious))"
   ]
  },
  {
   "cell_type": "code",
   "execution_count": 10,
   "metadata": {},
   "outputs": [
    {
     "name": "stdout",
     "output_type": "stream",
     "text": [
      "His name is Tang_Q, and his age is 22.\n"
     ]
    }
   ],
   "source": [
    "name='Tang_Q'\n",
    "age=22\n",
    "TQ='His name is {}, and his age is {}.'\n",
    "print(TQ.format((name),(age)))"
   ]
  },
  {
   "cell_type": "code",
   "execution_count": 11,
   "metadata": {},
   "outputs": [
    {
     "name": "stdout",
     "output_type": "stream",
     "text": [
      "TQ.((name),(age))\n"
     ]
    }
   ],
   "source": [
    "print(f'TQ.((name),(age))')"
   ]
  },
  {
   "cell_type": "code",
   "execution_count": 17,
   "metadata": {},
   "outputs": [
    {
     "ename": "SyntaxError",
     "evalue": "invalid syntax (<ipython-input-17-748e35d44b9b>, line 1)",
     "output_type": "error",
     "traceback": [
      "\u001b[1;36m  File \u001b[1;32m\"<ipython-input-17-748e35d44b9b>\"\u001b[1;36m, line \u001b[1;32m1\u001b[0m\n\u001b[1;33m    print(TQ.((name),(age)))\u001b[0m\n\u001b[1;37m             ^\u001b[0m\n\u001b[1;31mSyntaxError\u001b[0m\u001b[1;31m:\u001b[0m invalid syntax\n"
     ]
    }
   ],
   "source": [
    "print(TQ.((name),(age)))"
   ]
  },
  {
   "cell_type": "raw",
   "metadata": {},
   "source": []
  },
  {
   "cell_type": "code",
   "execution_count": 18,
   "metadata": {},
   "outputs": [
    {
     "name": "stdout",
     "output_type": "stream",
     "text": [
      "His name is Tang_Q, and his age is 22.\n"
     ]
    }
   ],
   "source": [
    "print(TQ.format((name),(age)))"
   ]
  },
  {
   "cell_type": "code",
   "execution_count": 19,
   "metadata": {},
   "outputs": [
    {
     "name": "stdout",
     "output_type": "stream",
     "text": [
      "This is the left side of...a string with a right side.\n"
     ]
    }
   ],
   "source": [
    "w=\"This is the left side of...\"\n",
    "e=\"a string with a right side.\"\n",
    "print(w+e)"
   ]
  },
  {
   "cell_type": "code",
   "execution_count": 20,
   "metadata": {},
   "outputs": [
    {
     "name": "stdout",
     "output_type": "stream",
     "text": [
      "Mary had a little lamb.\n",
      "Its fleece was white as snow.\n"
     ]
    }
   ],
   "source": [
    "print(\"Mary had a little lamb.\")\n",
    "print(\"Its fleece was white as {}.\".format('snow'))"
   ]
  },
  {
   "cell_type": "code",
   "execution_count": 21,
   "metadata": {},
   "outputs": [
    {
     "name": "stdout",
     "output_type": "stream",
     "text": [
      "Help on built-in function format in module builtins:\n",
      "\n",
      "format(value, format_spec='', /)\n",
      "    Return value.__format__(format_spec)\n",
      "    \n",
      "    format_spec defaults to the empty string.\n",
      "    See the Format Specification Mini-Language section of help('FORMATTING') for\n",
      "    details.\n",
      "\n"
     ]
    }
   ],
   "source": [
    "help(format)"
   ]
  },
  {
   "cell_type": "code",
   "execution_count": 24,
   "metadata": {},
   "outputs": [
    {
     "name": "stdout",
     "output_type": "stream",
     "text": [
      "And everywhere that Mary went.\n",
      "..........\n"
     ]
    }
   ],
   "source": [
    "print(\"And everywhere that Mary went.\")\n",
    "print(\".\"*10)"
   ]
  },
  {
   "cell_type": "code",
   "execution_count": 27,
   "metadata": {},
   "outputs": [
    {
     "name": "stdout",
     "output_type": "stream",
     "text": [
      "1 2 3 4\n",
      "I had this thing. That you could type up right. But it didn't sing. So I said goodnight.\n"
     ]
    }
   ],
   "source": [
    "formatter=\"{} {} {} {}\"\n",
    "\n",
    "print(formatter.format(1,2,3,4))\n",
    "print(formatter.format(\n",
    "    \"I had this thing.\",\n",
    "    \"That you could type up right.\",\n",
    "    \"But it didn't sing.\",\n",
    "    \"So I said goodnight.\"\n",
    "))"
   ]
  },
  {
   "cell_type": "code",
   "execution_count": 28,
   "metadata": {},
   "outputs": [
    {
     "name": "stdout",
     "output_type": "stream",
     "text": [
      "His name is Tang_Q, and his age is 22.\n"
     ]
    }
   ],
   "source": [
    "name='Tang_Q'\n",
    "age=22\n",
    "TQ='His name is {}, and his age is {}.'\n",
    "print(TQ.format(name,age))"
   ]
  },
  {
   "cell_type": "code",
   "execution_count": 2,
   "metadata": {},
   "outputs": [
    {
     "name": "stdout",
     "output_type": "stream",
     "text": [
      "a\n",
      "b\n",
      "c\n"
     ]
    }
   ],
   "source": [
    "print(\"a\\nb\\nc\")"
   ]
  },
  {
   "cell_type": "code",
   "execution_count": 3,
   "metadata": {},
   "outputs": [
    {
     "name": "stdout",
     "output_type": "stream",
     "text": [
      "\n",
      "a\n",
      "b\n",
      "c\n",
      "\n"
     ]
    }
   ],
   "source": [
    "print(\"\"\"\n",
    "a\n",
    "b\n",
    "c\n",
    "\"\"\")"
   ]
  },
  {
   "cell_type": "code",
   "execution_count": 4,
   "metadata": {},
   "outputs": [
    {
     "name": "stdout",
     "output_type": "stream",
     "text": [
      "a\n",
      "b\n",
      "c\n"
     ]
    }
   ],
   "source": [
    "print(\"\"\"a\n",
    "b\n",
    "c\"\"\")"
   ]
  },
  {
   "cell_type": "code",
   "execution_count": 13,
   "metadata": {},
   "outputs": [
    {
     "name": "stdout",
     "output_type": "stream",
     "text": [
      "How old are you???"
     ]
    },
    {
     "name": "stdin",
     "output_type": "stream",
     "text": [
      " 1\n"
     ]
    },
    {
     "name": "stdout",
     "output_type": "stream",
     "text": [
      "So you are 1 old.\n"
     ]
    }
   ],
   "source": [
    "print(\"How old are you?\",end='??')\n",
    "age=input()\n",
    "print(f\"So you are {age} old.\")"
   ]
  },
  {
   "cell_type": "code",
   "execution_count": 9,
   "metadata": {},
   "outputs": [
    {
     "name": "stdin",
     "output_type": "stream",
     "text": [
      "How old are you? 22\n"
     ]
    },
    {
     "name": "stdout",
     "output_type": "stream",
     "text": [
      "I know you are 22 old.\n"
     ]
    }
   ],
   "source": [
    "age=input(\"How old are you?\")\n",
    "print(f\"I know you are {age} old.\")"
   ]
  },
  {
   "cell_type": "code",
   "execution_count": 19,
   "metadata": {},
   "outputs": [
    {
     "name": "stdout",
     "output_type": "stream",
     "text": [
      "A list:\n",
      "      \ta\n",
      "      \tb\n",
      "      \tc\n"
     ]
    }
   ],
   "source": [
    "list=\"\"\"A list:\n",
    "      \\ta\n",
    "      \\tb\n",
    "      \\tc\"\"\"\n",
    "print(list)"
   ]
  },
  {
   "cell_type": "code",
   "execution_count": 20,
   "metadata": {},
   "outputs": [
    {
     "name": "stdout",
     "output_type": "stream",
     "text": [
      "\n",
      "A list:\n",
      "      \ta\n",
      "      \tb\n",
      "      \tc\n"
     ]
    }
   ],
   "source": [
    "print(\"\"\"\n",
    "A list:\n",
    "      \\ta\n",
    "      \\tb\n",
    "      \\tc\"\"\")"
   ]
  },
  {
   "cell_type": "code",
   "execution_count": 21,
   "metadata": {},
   "outputs": [
    {
     "name": "stdout",
     "output_type": "stream",
     "text": [
      "The script is called: C:\\ProgramData\\Anaconda3\\lib\\site-packages\\ipykernel_launcher.py\n",
      "Your first variable is: -f\n",
      "Your second variable is: C:\\Users\\XJTU-6\\AppData\\Roaming\\jupyter\\runtime\\kernel-bb13132f-f20c-44ef-b977-7d8e47dc576d.json\n"
     ]
    }
   ],
   "source": [
    "from sys import argv\n",
    "script,first,second,=argv\n",
    "print(\"The script is called:\",script)\n",
    "print(\"Your first variable is:\",first)\n",
    "print(\"Your second variable is:\",second)"
   ]
  },
  {
   "cell_type": "code",
   "execution_count": 1,
   "metadata": {},
   "outputs": [
    {
     "name": "stdout",
     "output_type": "stream",
     "text": [
      "True\n"
     ]
    }
   ],
   "source": [
    "if True:\n",
    "    print('True')\n",
    "else:\n",
    "    print('False')"
   ]
  },
  {
   "cell_type": "code",
   "execution_count": 10,
   "metadata": {},
   "outputs": [
    {
     "name": "stdout",
     "output_type": "stream",
     "text": [
      "[1, 2, 3]\n",
      "[[1], [2], [3]]\n"
     ]
    }
   ],
   "source": [
    "item_one = [1]\n",
    "item_two = [2]\n",
    "item_three = [3]\n",
    "totel = item_one + \\\n",
    "item_two + \\\n",
    "item_three\n",
    "print(totel)\n",
    "\n",
    "totel_1 = [item_one, item_two, \n",
    "           item_three]\n",
    "print(totel_1)"
   ]
  },
  {
   "cell_type": "code",
   "execution_count": 9,
   "metadata": {},
   "outputs": [
    {
     "name": "stdout",
     "output_type": "stream",
     "text": [
      "[]\n",
      "[0, 1, 2, 3, 4]\n"
     ]
    }
   ],
   "source": [
    "l = []\n",
    "print(l)\n",
    "for i in range(5):\n",
    "    l.append(i)\n",
    "print(l)"
   ]
  },
  {
   "cell_type": "code",
   "execution_count": 12,
   "metadata": {},
   "outputs": [
    {
     "name": "stdout",
     "output_type": "stream",
     "text": [
      " 1   1    1\n",
      " 2   4    8\n",
      " 3   9   27\n",
      " 4  16   64\n",
      " 5  25  125\n",
      " 6  36  216\n",
      " 7  49  343\n",
      " 8  64  512\n",
      " 9  81  729\n",
      "10 100 1000\n",
      "------------------This is a line------------------\n",
      " 1   1    1\n",
      " 2   4    8\n",
      " 3   9   27\n",
      " 4  16   64\n",
      " 5  25  125\n",
      " 6  36  216\n",
      " 7  49  343\n",
      " 8  64  512\n",
      " 9  81  729\n",
      "10 100 1000\n"
     ]
    }
   ],
   "source": [
    "for x in range(1, 11):\n",
    "    print(repr(x).rjust(2), repr(x*x).rjust(3), end=' ')\n",
    "    print(repr(x*x*x).rjust(4))\n",
    "\n",
    "print('This is a line'.center(50, '-'))\n",
    "\n",
    "for x in range(1, 11):\n",
    "    print('{0:2d} {1:3d} {2:4d}'.format(x, x*x, x*x*x))"
   ]
  },
  {
   "cell_type": "code",
   "execution_count": 15,
   "metadata": {},
   "outputs": [
    {
     "name": "stdout",
     "output_type": "stream",
     "text": [
      "Google     ==>          1\n",
      "Runoob     ==>          2\n",
      "Taobao     ==>          3\n"
     ]
    }
   ],
   "source": [
    "table = {'Google': 1, 'Runoob': 2, 'Taobao': 3}\n",
    "for name, number in table.items():\n",
    "    print('{0:10} ==> {1:10d}'.format(name, number))"
   ]
  },
  {
   "cell_type": "code",
   "execution_count": 17,
   "metadata": {},
   "outputs": [
    {
     "name": "stdout",
     "output_type": "stream",
     "text": [
      "| ********************************************RUNOOB |\n",
      "| **********************RUNOOB********************** |\n",
      "| RUNOOB******************************************** |\n"
     ]
    }
   ],
   "source": [
    "print(\"|\",format(\"RUNOOB\",\"*>50\"),\"|\")    #左对齐\n",
    "print(\"|\",format(\"RUNOOB\",\"*^50\"),\"|\")    #居中对齐\n",
    "print(\"|\",format(\"RUNOOB\",\"*<50\"),\"|\")    #右对齐"
   ]
  },
  {
   "cell_type": "code",
   "execution_count": 19,
   "metadata": {},
   "outputs": [
    {
     "name": "stdout",
     "output_type": "stream",
     "text": [
      "按下回车开始计时，按下 Ctrl + C 停止计时。\n"
     ]
    },
    {
     "name": "stdin",
     "output_type": "stream",
     "text": [
      " \n"
     ]
    },
    {
     "name": "stdout",
     "output_type": "stream",
     "text": [
      "开始\n",
      "结束:  16.0 秒\n",
      "总共的时间为: 17.01 secs\n"
     ]
    }
   ],
   "source": [
    "# 秒表\n",
    "import time\n",
    "  \n",
    "print('按下回车开始计时，按下 Ctrl + C 停止计时。')\n",
    "while True:\n",
    "    \n",
    "    input(\"\")\n",
    "    starttime = time.time()\n",
    "    print('开始')\n",
    "    try:\n",
    "        while True:\n",
    "            print('计时: ', round(time.time() - starttime, 0), '秒', end=\"\\r\")\n",
    "            time.sleep(1)\n",
    "    except KeyboardInterrupt:\n",
    "        print('结束')\n",
    "        endtime = time.time()\n",
    "        print('总共的时间为:', round(endtime - starttime, 2),'secs')\n",
    "        break"
   ]
  },
  {
   "cell_type": "code",
   "execution_count": 21,
   "metadata": {},
   "outputs": [
    {
     "name": "stdout",
     "output_type": "stream",
     "text": [
      "1, 1, 2, 3, 5, 8, 13, 21, 34, 55, 89, 144, 233, 377, 610, 987, "
     ]
    }
   ],
   "source": [
    "i, j = 0, 1\n",
    "while j < 1000:\n",
    "    print(j, end=', ')\n",
    "    i, j = j, i+j"
   ]
  },
  {
   "cell_type": "code",
   "execution_count": 23,
   "metadata": {},
   "outputs": [
    {
     "name": "stdin",
     "output_type": "stream",
     "text": [
      "请输入一个整数(输入Q退出程序)： 9\n"
     ]
    },
    {
     "name": "stdout",
     "output_type": "stream",
     "text": [
      "十进制 --> 十六进制 ：9 -> 0x9\n",
      "十进制 -->   八进制 ：9 -> 0o11\n",
      "十进制 -->   二进制 ：9 -> 0b1001\n"
     ]
    },
    {
     "name": "stdin",
     "output_type": "stream",
     "text": [
      "请输入一个整数(输入Q退出程序)： 16\n"
     ]
    },
    {
     "name": "stdout",
     "output_type": "stream",
     "text": [
      "十进制 --> 十六进制 ：16 -> 0x10\n",
      "十进制 -->   八进制 ：16 -> 0o20\n",
      "十进制 -->   二进制 ：16 -> 0b10000\n"
     ]
    },
    {
     "name": "stdin",
     "output_type": "stream",
     "text": [
      "请输入一个整数(输入Q退出程序)： q\n"
     ]
    }
   ],
   "source": [
    "#十进制转化\n",
    "\n",
    "while True:\n",
    "    number = input('请输入一个整数(输入Q退出程序)：') \n",
    "    if number in ['q','Q']:\n",
    "        break            #输入的是q或Q,结束退出\n",
    "    elif not number.isdigit():\n",
    "        print('输入有误！请输入整数(或输入Q退出程序)！')\n",
    "        continue         #输入的数字不是十进制,结束循环,重新开始\n",
    "    else :\n",
    "            number = int(number)\n",
    "            print('十进制 --> 十六进制 ：%d -> 0x%x' %(number,number))\n",
    "            print('十进制 -->   八进制 ：%d -> 0o%o' %(number,number))\n",
    "            print('十进制 -->   二进制 ：%d ->'%number,bin(number))"
   ]
  },
  {
   "cell_type": "code",
   "execution_count": null,
   "metadata": {},
   "outputs": [],
   "source": []
  }
 ],
 "metadata": {
  "kernelspec": {
   "display_name": "Python 3",
   "language": "python",
   "name": "python3"
  },
  "language_info": {
   "codemirror_mode": {
    "name": "ipython",
    "version": 3
   },
   "file_extension": ".py",
   "mimetype": "text/x-python",
   "name": "python",
   "nbconvert_exporter": "python",
   "pygments_lexer": "ipython3",
   "version": "3.8.3"
  }
 },
 "nbformat": 4,
 "nbformat_minor": 4
}
