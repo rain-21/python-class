{
 "cells": [
  {
   "cell_type": "code",
   "execution_count": 2,
   "metadata": {},
   "outputs": [
    {
     "name": "stdout",
     "output_type": "stream",
     "text": [
      "I'd like to stay in the warm room.\n"
     ]
    }
   ],
   "source": [
    "print(\"I'd like to stay in the warm room.\")"
   ]
  },
  {
   "cell_type": "code",
   "execution_count": 3,
   "metadata": {},
   "outputs": [
    {
     "name": "stdout",
     "output_type": "stream",
     "text": [
      "He sings:\"Kinder der Nacht tauchen die Stadt in dunkles Rot.\"\n"
     ]
    }
   ],
   "source": [
    "print('He sings:\"Kinder der Nacht tauchen die Stadt in dunkles Rot.\"')"
   ]
  },
  {
   "cell_type": "code",
   "execution_count": 4,
   "metadata": {},
   "outputs": [
    {
     "name": "stdout",
     "output_type": "stream",
     "text": [
      "Sai che io senza di te\n"
     ]
    }
   ],
   "source": [
    "print('Sai che io senza di te')"
   ]
  },
  {
   "cell_type": "code",
   "execution_count": 5,
   "metadata": {},
   "outputs": [
    {
     "name": "stdout",
     "output_type": "stream",
     "text": [
      "Non so stare neache un po'\n"
     ]
    }
   ],
   "source": [
    "print(\"Non so stare neache un po'\")"
   ]
  },
  {
   "cell_type": "code",
   "execution_count": 6,
   "metadata": {},
   "outputs": [
    {
     "name": "stdout",
     "output_type": "stream",
     "text": [
      "Neanche un po'\n"
     ]
    }
   ],
   "source": [
    "print(\"Neanche un po'\")"
   ]
  },
  {
   "cell_type": "code",
   "execution_count": 7,
   "metadata": {},
   "outputs": [
    {
     "name": "stdout",
     "output_type": "stream",
     "text": [
      "\n",
      "Ecco i fiori sbocciano in coro\n",
      "Ed anche il vento ora in faccia io sento\n",
      "\n"
     ]
    }
   ],
   "source": [
    "print(\"\"\"\n",
    "Ecco i fiori sbocciano in coro\n",
    "Ed anche il vento ora in faccia io sento\n",
    "\"\"\")"
   ]
  },
  {
   "cell_type": "code",
   "execution_count": 8,
   "metadata": {},
   "outputs": [
    {
     "name": "stdout",
     "output_type": "stream",
     "text": [
      "\n",
      "Baby, take my hand\n",
      "I want you to be my best friend\n",
      "Cause you're my Iron Man\n",
      "And I love three thousand\n",
      "\n"
     ]
    }
   ],
   "source": [
    "print(\"\"\"\n",
    "Baby, take my hand\n",
    "I want you to be my best friend\n",
    "Cause you're my Iron Man\n",
    "And I love three thousand\n",
    "\"\"\")"
   ]
  },
  {
   "cell_type": "code",
   "execution_count": 39,
   "metadata": {},
   "outputs": [
    {
     "name": "stdout",
     "output_type": "stream",
     "text": [
      "I love it when you call me senorita \n",
      "I wish I could pretend I didn't need ya\n"
     ]
    }
   ],
   "source": [
    "print(\"I love it when you call me senorita \\nI wish I could pretend I didn't need ya\")"
   ]
  },
  {
   "cell_type": "code",
   "execution_count": null,
   "metadata": {},
   "outputs": [],
   "source": [
    "变量和命名"
   ]
  },
  {
   "cell_type": "code",
   "execution_count": 41,
   "metadata": {},
   "outputs": [],
   "source": [
    "counter = 917     #整型变量\n",
    "miles = 917.0     #浮点型变量\n",
    "name = \"birthday\" #字符串"
   ]
  },
  {
   "cell_type": "code",
   "execution_count": 42,
   "metadata": {},
   "outputs": [
    {
     "data": {
      "text/plain": [
       "917"
      ]
     },
     "execution_count": 42,
     "metadata": {},
     "output_type": "execute_result"
    }
   ],
   "source": [
    "counter"
   ]
  },
  {
   "cell_type": "code",
   "execution_count": 44,
   "metadata": {},
   "outputs": [
    {
     "data": {
      "text/plain": [
       "917.0"
      ]
     },
     "execution_count": 44,
     "metadata": {},
     "output_type": "execute_result"
    }
   ],
   "source": [
    "miles"
   ]
  },
  {
   "cell_type": "code",
   "execution_count": 45,
   "metadata": {},
   "outputs": [
    {
     "data": {
      "text/plain": [
       "'birthday'"
      ]
     },
     "execution_count": 45,
     "metadata": {},
     "output_type": "execute_result"
    }
   ],
   "source": [
    "name"
   ]
  },
  {
   "cell_type": "code",
   "execution_count": 43,
   "metadata": {},
   "outputs": [
    {
     "name": "stdout",
     "output_type": "stream",
     "text": [
      "整型变量： 917\n"
     ]
    }
   ],
   "source": [
    "print(\"整型变量：\", counter)"
   ]
  },
  {
   "cell_type": "code",
   "execution_count": 46,
   "metadata": {},
   "outputs": [
    {
     "name": "stdout",
     "output_type": "stream",
     "text": [
      "浮点型变量： 917.0\n"
     ]
    }
   ],
   "source": [
    "print('浮点型变量：',miles)"
   ]
  },
  {
   "cell_type": "code",
   "execution_count": 47,
   "metadata": {},
   "outputs": [
    {
     "name": "stdout",
     "output_type": "stream",
     "text": [
      "字符串： birthday\n"
     ]
    }
   ],
   "source": [
    "print('字符串：',name)"
   ]
  },
  {
   "cell_type": "code",
   "execution_count": null,
   "metadata": {},
   "outputs": [],
   "source": [
    "a,b,c = 1,2,7"
   ]
  },
  {
   "cell_type": "code",
   "execution_count": 14,
   "metadata": {},
   "outputs": [
    {
     "data": {
      "text/plain": [
       "1"
      ]
     },
     "execution_count": 14,
     "metadata": {},
     "output_type": "execute_result"
    }
   ],
   "source": [
    "a"
   ]
  },
  {
   "cell_type": "code",
   "execution_count": 15,
   "metadata": {},
   "outputs": [
    {
     "data": {
      "text/plain": [
       "2"
      ]
     },
     "execution_count": 15,
     "metadata": {},
     "output_type": "execute_result"
    }
   ],
   "source": [
    "b"
   ]
  },
  {
   "cell_type": "code",
   "execution_count": 16,
   "metadata": {},
   "outputs": [
    {
     "data": {
      "text/plain": [
       "7"
      ]
     },
     "execution_count": 16,
     "metadata": {},
     "output_type": "execute_result"
    }
   ],
   "source": [
    "c"
   ]
  },
  {
   "cell_type": "code",
   "execution_count": 17,
   "metadata": {},
   "outputs": [],
   "source": [
    "import keyword"
   ]
  },
  {
   "cell_type": "code",
   "execution_count": 18,
   "metadata": {},
   "outputs": [
    {
     "data": {
      "text/plain": [
       "['False',\n",
       " 'None',\n",
       " 'True',\n",
       " 'and',\n",
       " 'as',\n",
       " 'assert',\n",
       " 'async',\n",
       " 'await',\n",
       " 'break',\n",
       " 'class',\n",
       " 'continue',\n",
       " 'def',\n",
       " 'del',\n",
       " 'elif',\n",
       " 'else',\n",
       " 'except',\n",
       " 'finally',\n",
       " 'for',\n",
       " 'from',\n",
       " 'global',\n",
       " 'if',\n",
       " 'import',\n",
       " 'in',\n",
       " 'is',\n",
       " 'lambda',\n",
       " 'nonlocal',\n",
       " 'not',\n",
       " 'or',\n",
       " 'pass',\n",
       " 'raise',\n",
       " 'return',\n",
       " 'try',\n",
       " 'while',\n",
       " 'with',\n",
       " 'yield']"
      ]
     },
     "execution_count": 18,
     "metadata": {},
     "output_type": "execute_result"
    }
   ],
   "source": [
    "keyword.kwlist"
   ]
  },
  {
   "cell_type": "code",
   "execution_count": null,
   "metadata": {},
   "outputs": [],
   "source": [
    "数字和数学计算"
   ]
  },
  {
   "cell_type": "code",
   "execution_count": 19,
   "metadata": {},
   "outputs": [
    {
     "data": {
      "text/plain": [
       "False"
      ]
     },
     "execution_count": 19,
     "metadata": {},
     "output_type": "execute_result"
    }
   ],
   "source": [
    "b > c"
   ]
  },
  {
   "cell_type": "code",
   "execution_count": 20,
   "metadata": {},
   "outputs": [
    {
     "data": {
      "text/plain": [
       "True"
      ]
     },
     "execution_count": 20,
     "metadata": {},
     "output_type": "execute_result"
    }
   ],
   "source": [
    "a <= b"
   ]
  },
  {
   "cell_type": "code",
   "execution_count": 21,
   "metadata": {},
   "outputs": [
    {
     "data": {
      "text/plain": [
       "True"
      ]
     },
     "execution_count": 21,
     "metadata": {},
     "output_type": "execute_result"
    }
   ],
   "source": [
    "a <= c"
   ]
  },
  {
   "cell_type": "code",
   "execution_count": 22,
   "metadata": {},
   "outputs": [],
   "source": [
    "d,e = 4,5"
   ]
  },
  {
   "cell_type": "code",
   "execution_count": 23,
   "metadata": {},
   "outputs": [
    {
     "data": {
      "text/plain": [
       "15"
      ]
     },
     "execution_count": 23,
     "metadata": {},
     "output_type": "execute_result"
    }
   ],
   "source": [
    "a+b*c-e+e**a-d%b"
   ]
  },
  {
   "cell_type": "code",
   "execution_count": 24,
   "metadata": {},
   "outputs": [],
   "source": [
    "d=a"
   ]
  },
  {
   "cell_type": "code",
   "execution_count": 25,
   "metadata": {},
   "outputs": [
    {
     "data": {
      "text/plain": [
       "1"
      ]
     },
     "execution_count": 25,
     "metadata": {},
     "output_type": "execute_result"
    }
   ],
   "source": [
    "d"
   ]
  },
  {
   "cell_type": "code",
   "execution_count": 26,
   "metadata": {},
   "outputs": [],
   "source": [
    "e=1/b"
   ]
  },
  {
   "cell_type": "code",
   "execution_count": 27,
   "metadata": {},
   "outputs": [
    {
     "data": {
      "text/plain": [
       "0.5"
      ]
     },
     "execution_count": 27,
     "metadata": {},
     "output_type": "execute_result"
    }
   ],
   "source": [
    "e"
   ]
  },
  {
   "cell_type": "code",
   "execution_count": 28,
   "metadata": {},
   "outputs": [],
   "source": [
    "x=a*b+e/d-e**2"
   ]
  },
  {
   "cell_type": "code",
   "execution_count": 29,
   "metadata": {},
   "outputs": [
    {
     "name": "stdout",
     "output_type": "stream",
     "text": [
      "x的值为： 2.25\n"
     ]
    }
   ],
   "source": [
    "print(\"x的值为：\",x)"
   ]
  },
  {
   "cell_type": "code",
   "execution_count": 32,
   "metadata": {},
   "outputs": [],
   "source": [
    "month=counter//100"
   ]
  },
  {
   "cell_type": "code",
   "execution_count": 33,
   "metadata": {},
   "outputs": [
    {
     "data": {
      "text/plain": [
       "9"
      ]
     },
     "execution_count": 33,
     "metadata": {},
     "output_type": "execute_result"
    }
   ],
   "source": [
    "month"
   ]
  },
  {
   "cell_type": "code",
   "execution_count": 34,
   "metadata": {},
   "outputs": [],
   "source": [
    "date=counter%100"
   ]
  },
  {
   "cell_type": "code",
   "execution_count": 35,
   "metadata": {},
   "outputs": [
    {
     "data": {
      "text/plain": [
       "17"
      ]
     },
     "execution_count": 35,
     "metadata": {},
     "output_type": "execute_result"
    }
   ],
   "source": [
    "date"
   ]
  },
  {
   "cell_type": "code",
   "execution_count": 37,
   "metadata": {},
   "outputs": [
    {
     "name": "stdout",
     "output_type": "stream",
     "text": [
      "My birthday is on  9 . 17 .\n"
     ]
    }
   ],
   "source": [
    "print('My birthday is on ', month, '.', date, '.')"
   ]
  },
  {
   "cell_type": "code",
   "execution_count": 38,
   "metadata": {},
   "outputs": [],
   "source": [
    "m, n=4,20"
   ]
  },
  {
   "cell_type": "code",
   "execution_count": 40,
   "metadata": {},
   "outputs": [],
   "source": [
    "r, s=96, 7"
   ]
  },
  {
   "cell_type": "code",
   "execution_count": 41,
   "metadata": {},
   "outputs": [
    {
     "data": {
      "text/plain": [
       "4"
      ]
     },
     "execution_count": 41,
     "metadata": {},
     "output_type": "execute_result"
    }
   ],
   "source": [
    "m"
   ]
  },
  {
   "cell_type": "code",
   "execution_count": 42,
   "metadata": {},
   "outputs": [
    {
     "data": {
      "text/plain": [
       "20"
      ]
     },
     "execution_count": 42,
     "metadata": {},
     "output_type": "execute_result"
    }
   ],
   "source": [
    "n"
   ]
  },
  {
   "cell_type": "code",
   "execution_count": 43,
   "metadata": {},
   "outputs": [
    {
     "data": {
      "text/plain": [
       "96"
      ]
     },
     "execution_count": 43,
     "metadata": {},
     "output_type": "execute_result"
    }
   ],
   "source": [
    "r"
   ]
  },
  {
   "cell_type": "code",
   "execution_count": 44,
   "metadata": {},
   "outputs": [
    {
     "data": {
      "text/plain": [
       "7"
      ]
     },
     "execution_count": 44,
     "metadata": {},
     "output_type": "execute_result"
    }
   ],
   "source": [
    "s"
   ]
  },
  {
   "cell_type": "code",
   "execution_count": 45,
   "metadata": {},
   "outputs": [],
   "source": [
    "geese=m*10+20/4"
   ]
  },
  {
   "cell_type": "code",
   "execution_count": 46,
   "metadata": {},
   "outputs": [
    {
     "data": {
      "text/plain": [
       "45.0"
      ]
     },
     "execution_count": 46,
     "metadata": {},
     "output_type": "execute_result"
    }
   ],
   "source": [
    "geese"
   ]
  },
  {
   "cell_type": "code",
   "execution_count": 47,
   "metadata": {},
   "outputs": [],
   "source": [
    "sheep=r/6-s"
   ]
  },
  {
   "cell_type": "code",
   "execution_count": 48,
   "metadata": {},
   "outputs": [
    {
     "data": {
      "text/plain": [
       "9.0"
      ]
     },
     "execution_count": 48,
     "metadata": {},
     "output_type": "execute_result"
    }
   ],
   "source": [
    "sheep"
   ]
  },
  {
   "cell_type": "code",
   "execution_count": 49,
   "metadata": {},
   "outputs": [
    {
     "name": "stdout",
     "output_type": "stream",
     "text": [
      "Is the following statement true or false?\n"
     ]
    }
   ],
   "source": [
    "print(\"Is the following statement true or false?\")"
   ]
  },
  {
   "cell_type": "code",
   "execution_count": 58,
   "metadata": {},
   "outputs": [
    {
     "name": "stdout",
     "output_type": "stream",
     "text": [
      "There are more sheep than geese. False\n"
     ]
    }
   ],
   "source": [
    "print('There are more sheep than geese.' , sheep>geese)"
   ]
  },
  {
   "cell_type": "code",
   "execution_count": 1,
   "metadata": {},
   "outputs": [
    {
     "name": "stdout",
     "output_type": "stream",
     "text": [
      "I want to knit a scarf in three colors.\n"
     ]
    }
   ],
   "source": [
    "print('I want to knit a scarf in three colors.')"
   ]
  },
  {
   "cell_type": "code",
   "execution_count": 2,
   "metadata": {},
   "outputs": [
    {
     "name": "stdout",
     "output_type": "stream",
     "text": [
      "They are oatmeal, pink and purple.\n"
     ]
    }
   ],
   "source": [
    "print(\"They are oatmeal, pink and purple.\")"
   ]
  },
  {
   "cell_type": "code",
   "execution_count": 3,
   "metadata": {},
   "outputs": [
    {
     "name": "stdout",
     "output_type": "stream",
     "text": [
      "I'll buy five balls of wool in total.\n"
     ]
    }
   ],
   "source": [
    "print(\"I'll buy five balls of wool in total.\")"
   ]
  },
  {
   "cell_type": "code",
   "execution_count": 5,
   "metadata": {},
   "outputs": [
    {
     "name": "stdout",
     "output_type": "stream",
     "text": [
      "Given that the scarf takes three times as much the oatmeal wool as the pink and purple ones, \n",
      "how many wool balls do I need?\n"
     ]
    }
   ],
   "source": [
    "print(\"Given that the scarf takes three times as much the oatmeal wool as the pink and purple ones, \\nhow many wool balls do I need?\")"
   ]
  },
  {
   "cell_type": "code",
   "execution_count": 6,
   "metadata": {},
   "outputs": [
    {
     "name": "stdout",
     "output_type": "stream",
     "text": [
      "Assuming that the scarf takes l ball(s) of pink or purple wool, then we have\n",
      "3l+l+l=5\n"
     ]
    }
   ],
   "source": [
    "print(\"Assuming that the scarf takes l ball(s) of pink or purple wool, then we have\\n3l+l+l=5\")"
   ]
  },
  {
   "cell_type": "code",
   "execution_count": 7,
   "metadata": {},
   "outputs": [],
   "source": [
    "l=5/5"
   ]
  },
  {
   "cell_type": "code",
   "execution_count": 9,
   "metadata": {},
   "outputs": [
    {
     "name": "stdout",
     "output_type": "stream",
     "text": [
      "I need to buy 3.0 balls of oatmeal wool, 1.0 ball of pink wool and 1.0 ball of purple wool.\n"
     ]
    }
   ],
   "source": [
    "print(f\"I need to buy {3*l} balls of oatmeal wool, {l} ball of pink wool and {l} ball of purple wool.\")"
   ]
  },
  {
   "cell_type": "code",
   "execution_count": 10,
   "metadata": {},
   "outputs": [],
   "source": [
    "my_name=\"Ariana\""
   ]
  },
  {
   "cell_type": "code",
   "execution_count": 11,
   "metadata": {},
   "outputs": [],
   "source": [
    "my_age=25"
   ]
  },
  {
   "cell_type": "code",
   "execution_count": 12,
   "metadata": {},
   "outputs": [],
   "source": [
    "my_height=1.6 #meters"
   ]
  },
  {
   "cell_type": "code",
   "execution_count": 13,
   "metadata": {},
   "outputs": [],
   "source": [
    "my_weight=50 #kg"
   ]
  },
  {
   "cell_type": "code",
   "execution_count": 28,
   "metadata": {},
   "outputs": [],
   "source": [
    "BMI=my_weight/my_height**2"
   ]
  },
  {
   "cell_type": "code",
   "execution_count": 29,
   "metadata": {},
   "outputs": [
    {
     "data": {
      "text/plain": [
       "19.531249999999996"
      ]
     },
     "execution_count": 29,
     "metadata": {},
     "output_type": "execute_result"
    }
   ],
   "source": [
    "BMI"
   ]
  },
  {
   "cell_type": "code",
   "execution_count": 14,
   "metadata": {},
   "outputs": [],
   "source": [
    "my_eyes=\"brown\""
   ]
  },
  {
   "cell_type": "code",
   "execution_count": 15,
   "metadata": {},
   "outputs": [],
   "source": [
    "my_hair=\"brown\""
   ]
  },
  {
   "cell_type": "code",
   "execution_count": 16,
   "metadata": {},
   "outputs": [],
   "source": [
    "husband_name=\"Shawn\""
   ]
  },
  {
   "cell_type": "code",
   "execution_count": 17,
   "metadata": {},
   "outputs": [],
   "source": [
    "husband_age=28"
   ]
  },
  {
   "cell_type": "code",
   "execution_count": 18,
   "metadata": {},
   "outputs": [],
   "source": [
    "husband_height=1.8 #meters"
   ]
  },
  {
   "cell_type": "code",
   "execution_count": 19,
   "metadata": {},
   "outputs": [],
   "source": [
    "husband_weight=75 #kg"
   ]
  },
  {
   "cell_type": "code",
   "execution_count": 20,
   "metadata": {},
   "outputs": [],
   "source": [
    "daughter_name=\"Caroline\""
   ]
  },
  {
   "cell_type": "code",
   "execution_count": 21,
   "metadata": {},
   "outputs": [],
   "source": [
    "daughter_age=2"
   ]
  },
  {
   "cell_type": "code",
   "execution_count": 26,
   "metadata": {},
   "outputs": [],
   "source": [
    "expected_height=(husband_height*0.923+my_height)/2"
   ]
  },
  {
   "cell_type": "code",
   "execution_count": 27,
   "metadata": {},
   "outputs": [
    {
     "data": {
      "text/plain": [
       "1.6307"
      ]
     },
     "execution_count": 27,
     "metadata": {},
     "output_type": "execute_result"
    }
   ],
   "source": [
    "expected_height"
   ]
  },
  {
   "cell_type": "code",
   "execution_count": 30,
   "metadata": {},
   "outputs": [
    {
     "name": "stdout",
     "output_type": "stream",
     "text": [
      "\n",
      "My name is Ariana.\n",
      "I'm 25 years old.\n",
      "I have brown eyes and brown hair.\n",
      "\n"
     ]
    }
   ],
   "source": [
    "print(f\"\"\"\n",
    "My name is {my_name}.\n",
    "I'm {my_age} years old.\n",
    "I have {my_eyes} eyes and {my_hair} hair.\n",
    "\"\"\")"
   ]
  },
  {
   "cell_type": "code",
   "execution_count": 32,
   "metadata": {},
   "outputs": [
    {
     "name": "stdout",
     "output_type": "stream",
     "text": [
      "\n",
      "This is my husband Shawn.\n",
      "He's 3 years older than me and much taller than me, right?\n",
      " True\n"
     ]
    }
   ],
   "source": [
    "print(f\"\"\"\n",
    "This is my husband {husband_name}.\n",
    "He's {husband_age-my_age} years older than me and much taller than me, right?\n",
    "\"\"\",husband_height>my_height) "
   ]
  },
  {
   "cell_type": "code",
   "execution_count": 34,
   "metadata": {},
   "outputs": [
    {
     "name": "stdout",
     "output_type": "stream",
     "text": [
      "Although I'm only 1.6m tall, I'm still in good shape according to BMI, aren't I?\n"
     ]
    }
   ],
   "source": [
    "print(f\"Although I'm only {my_height}m tall, I'm still in good shape according to BMI, aren't I?\")"
   ]
  },
  {
   "cell_type": "code",
   "execution_count": 35,
   "metadata": {},
   "outputs": [
    {
     "data": {
      "text/plain": [
       "True"
      ]
     },
     "execution_count": 35,
     "metadata": {},
     "output_type": "execute_result"
    }
   ],
   "source": [
    "18<=BMI<25"
   ]
  },
  {
   "cell_type": "code",
   "execution_count": 37,
   "metadata": {},
   "outputs": [
    {
     "name": "stdout",
     "output_type": "stream",
     "text": [
      "This is our daughter Caroline. She's alreday 2 years old.\n"
     ]
    }
   ],
   "source": [
    "print(f\"This is our daughter {daughter_name}. She's alreday {daughter_age} years old.\")"
   ]
  },
  {
   "cell_type": "code",
   "execution_count": 49,
   "metadata": {},
   "outputs": [
    {
     "name": "stdout",
     "output_type": "stream",
     "text": [
      "Her expected height ought to be 1.6307m.\n"
     ]
    }
   ],
   "source": [
    "print(f\"Her expected height ought to be {expected_height}m.\")"
   ]
  },
  {
   "cell_type": "code",
   "execution_count": 50,
   "metadata": {},
   "outputs": [],
   "source": [
    "total_age=my_age+husband_age+daughter_age"
   ]
  },
  {
   "cell_type": "code",
   "execution_count": 51,
   "metadata": {},
   "outputs": [
    {
     "data": {
      "text/plain": [
       "55"
      ]
     },
     "execution_count": 51,
     "metadata": {},
     "output_type": "execute_result"
    }
   ],
   "source": [
    "total_age"
   ]
  },
  {
   "cell_type": "code",
   "execution_count": 55,
   "metadata": {},
   "outputs": [
    {
     "name": "stdout",
     "output_type": "stream",
     "text": [
      "OUR TOTAL age is over 80. False\n"
     ]
    }
   ],
   "source": [
    "print(\"OUR TOTAL age is over 80.\",total_age>80)"
   ]
  },
  {
   "cell_type": "code",
   "execution_count": 56,
   "metadata": {},
   "outputs": [],
   "source": [
    "m_name = 'Zed A. Shaw'"
   ]
  },
  {
   "cell_type": "code",
   "execution_count": 57,
   "metadata": {},
   "outputs": [],
   "source": [
    "m_age = 35"
   ]
  },
  {
   "cell_type": "code",
   "execution_count": 58,
   "metadata": {},
   "outputs": [],
   "source": [
    "m_height = 74 # inches"
   ]
  },
  {
   "cell_type": "code",
   "execution_count": 59,
   "metadata": {},
   "outputs": [],
   "source": [
    "m_weight = 180 # lbs"
   ]
  },
  {
   "cell_type": "code",
   "execution_count": 60,
   "metadata": {},
   "outputs": [],
   "source": [
    "m_eyes = 'Blue'"
   ]
  },
  {
   "cell_type": "code",
   "execution_count": 61,
   "metadata": {},
   "outputs": [],
   "source": [
    "m_teeth = 'White'"
   ]
  },
  {
   "cell_type": "code",
   "execution_count": 62,
   "metadata": {},
   "outputs": [],
   "source": [
    "m_hair = 'Brown'"
   ]
  },
  {
   "cell_type": "code",
   "execution_count": 63,
   "metadata": {},
   "outputs": [
    {
     "name": "stdout",
     "output_type": "stream",
     "text": [
      "Let's talk about Zed A. Shaw.\n",
      "He's 74 inches tall.\n",
      "He's 180 pounds heavy.\n",
      "Actually that's not too heavy.\n",
      "He's got Blue eyes and Brown hair.\n",
      "His teeth are usually White depending on the coffee.\n"
     ]
    }
   ],
   "source": [
    "print(f\"Let's talk about {m_name}.\")\n",
    "print(f\"He's {m_height} inches tall.\")\n",
    "print(f\"He's {m_weight} pounds heavy.\")\n",
    "print(\"Actually that's not too heavy.\")\n",
    "print(f\"He's got {m_eyes} eyes and {m_hair} hair.\")\n",
    "print(f\"His teeth are usually {m_teeth} depending on the coffee.\")"
   ]
  },
  {
   "cell_type": "code",
   "execution_count": 64,
   "metadata": {},
   "outputs": [
    {
     "name": "stdout",
     "output_type": "stream",
     "text": [
      "There are 10 types of people.\n",
      "Those who know binary and those who don't.\n",
      "I said: There are 10 types of people.\n",
      "I also said: 'Those who know binary and those who don't.'\n",
      "Isn't that joke so funny?! False\n",
      "This is the left side of...a string with a right side.\n"
     ]
    }
   ],
   "source": [
    "types_of_people = 10\n",
    "x = f\"There are {types_of_people} types of people.\"\n",
    "\n",
    "binary = \"binary\"\n",
    "do_not = \"don't\"\n",
    "y = f\"Those who know {binary} and those who {do_not}.\"\n",
    "\n",
    "print(x)\n",
    "print(y)\n",
    "\n",
    "print(f\"I said: {x}\")\n",
    "print(f\"I also said: '{y}'\")\n",
    "\n",
    "hilarious = False\n",
    "joke_evaluation = \"Isn't that joke so funny?! {}\"\n",
    "\n",
    "print(joke_evaluation.format(hilarious))\n",
    "\n",
    "w = \"This is the left side of...\"\n",
    "e = \"a string with a right side.\"\n",
    "\n",
    "print(w + e)"
   ]
  },
  {
   "cell_type": "code",
   "execution_count": 66,
   "metadata": {},
   "outputs": [
    {
     "name": "stdout",
     "output_type": "stream",
     "text": [
      "He said:'There are 2 types of musicals.'\n",
      "One is those I like and the other is those I don't.\n"
     ]
    }
   ],
   "source": [
    "types_of_musicals=2\n",
    "x=f'There are {types_of_musicals} types of musicals.'\n",
    "like='like'\n",
    "dont=\"don't\"\n",
    "y=f'One is those I {like} and the other is those I {dont}.'\n",
    "print(f\"He said:'{x}'\")\n",
    "print(y)"
   ]
  },
  {
   "cell_type": "code",
   "execution_count": 68,
   "metadata": {},
   "outputs": [
    {
     "name": "stdout",
     "output_type": "stream",
     "text": [
      "\n",
      "She says:\"I've watched more than 5 musicals.\"\n",
      "Among them, I love Phantom of the Opera best while watch Hamilton the most.\n",
      "\n"
     ]
    }
   ],
   "source": [
    "n_musicals=5\n",
    "m=f\"I've watched more than {n_musicals} musicals.\"\n",
    "s='Phantom of the Opera'\n",
    "t='Hamilton'\n",
    "k=f\"Among them, I love {s} best while watch {t} the most.\"\n",
    "print(f\"\"\"\n",
    "She says:\"{m}\"\n",
    "{k}\n",
    "\"\"\")"
   ]
  },
  {
   "cell_type": "code",
   "execution_count": 69,
   "metadata": {},
   "outputs": [
    {
     "name": "stdout",
     "output_type": "stream",
     "text": [
      "I've watched more than 5 musicals.Among them, I love Phantom of the Opera best while watch Hamilton the most.\n"
     ]
    }
   ],
   "source": [
    "print(m+k)"
   ]
  },
  {
   "cell_type": "code",
   "execution_count": 70,
   "metadata": {},
   "outputs": [
    {
     "name": "stdout",
     "output_type": "stream",
     "text": [
      "Isn't this shirt of good quality?! True\n"
     ]
    }
   ],
   "source": [
    "good = True\n",
    "quality_evaluation = \"Isn't this shirt of good quality?! {}\"\n",
    "\n",
    "print(quality_evaluation.format(good))"
   ]
  },
  {
   "cell_type": "code",
   "execution_count": 71,
   "metadata": {},
   "outputs": [
    {
     "name": "stdout",
     "output_type": "stream",
     "text": [
      "Mary had a little lamb.\n",
      "Its fleece was white as snow.\n",
      "And everywhere that Mary went.\n",
      "..........\n",
      "Cheese Burger\n"
     ]
    }
   ],
   "source": [
    "print(\"Mary had a little lamb.\")\n",
    "print(\"Its fleece was white as {}.\".format('snow'))\n",
    "print(\"And everywhere that Mary went.\")\n",
    "print(\".\" * 10)  # what'd that do?\n",
    "\n",
    "end1 = \"C\"\n",
    "end2 = \"h\"\n",
    "end3 = \"e\"\n",
    "end4 = \"e\"\n",
    "end5 = \"s\"\n",
    "end6 = \"e\"\n",
    "end7 = \"B\"\n",
    "end8 = \"u\"\n",
    "end9 = \"r\"\n",
    "end10 = \"g\"\n",
    "end11 = \"e\"\n",
    "end12 = \"r\"\n",
    "\n",
    "# watch that \"end\" parameter at the end. (end=' ')\n",
    "# try removing it to see what happens\n",
    "print(end1 + end2 + end3 + end4 + end5 + end6, end=' ')\n",
    "print(end7 + end8 + end9 + end10 + end11 + end12)"
   ]
  },
  {
   "cell_type": "code",
   "execution_count": 75,
   "metadata": {},
   "outputs": [
    {
     "name": "stdout",
     "output_type": "stream",
     "text": [
      "So let me hold you for a little longer now\n",
      "and take a piece of my heart\n",
      "and make it all your own.So when we are apart\n",
      "You'll never be alone\n",
      "————————————————————\n",
      "Coffee\n",
      "Latte\n",
      "Coffee Latte\n"
     ]
    }
   ],
   "source": [
    "time='never'\n",
    "print('So let me hold you for a little longer now')\n",
    "print('and take a piece of my heart')\n",
    "d='and make it all your own.'\n",
    "e='So when we are apart'\n",
    "print(d+e)\n",
    "print(\"You'll {} be alone\".format(time))\n",
    "print('——'*10)\n",
    "\n",
    "a1='C'\n",
    "a2='o'\n",
    "a3='f'\n",
    "a4='e'\n",
    "a5='L'\n",
    "a6='a'\n",
    "a7='t'\n",
    "print(a1+a2+a3+a3+a4+a4)\n",
    "print(a5+a6+a7+a7+a4)\n",
    "\n",
    "print(a1+a2+a3+a3+a4+a4, end=' ')\n",
    "print(a5+a6+a7+a7+a4)"
   ]
  },
  {
   "cell_type": "code",
   "execution_count": 77,
   "metadata": {},
   "outputs": [
    {
     "name": "stdout",
     "output_type": "stream",
     "text": [
      "1-2-3-4\n",
      "A-B-C-D\n",
      "True-False-False-True\n",
      "{}-{}-{}-{}-{}-{}-{}-{}-{}-{}-{}-{}-{}-{}-{}-{}\n",
      "I had this thing.-That you could type up right.-But it didn't sing.-So I said goodnight.\n"
     ]
    }
   ],
   "source": [
    "formatter=\"{}-{}-{}-{}\"\n",
    "print(formatter.format(1, 2, 3, 4))\n",
    "print(formatter.format(\"A\", \"B\", \"C\", \"D\"))\n",
    "print(formatter.format(True, False, False, True))\n",
    "print(formatter.format(formatter, formatter, formatter, formatter))\n",
    "print(formatter.format(\n",
    "    \"I had this thing.\",\n",
    "    \"That you could type up right.\",\n",
    "    \"But it didn't sing.\",\n",
    "    \"So I said goodnight.\"\n",
    "))"
   ]
  },
  {
   "cell_type": "code",
   "execution_count": 78,
   "metadata": {},
   "outputs": [
    {
     "name": "stdout",
     "output_type": "stream",
     "text": [
      "Here are the days:  Mon Tue Wed Thu Fri Sat Sun\n",
      "Here are the months:  Jan\n",
      "Feb\n",
      "Mar\n",
      "Apr\n",
      "May\n",
      "Jun\n",
      "Jul\n",
      "Aug\n",
      "Here are the weathers:  sunny, rainy, windy, cloudy, foggy, snowy\n"
     ]
    }
   ],
   "source": [
    "days = \"Mon Tue Wed Thu Fri Sat Sun\"\n",
    "months = \"Jan\\nFeb\\nMar\\nApr\\nMay\\nJun\\nJul\\nAug\"\n",
    "weathers=\"sunny, rainy, windy, cloudy, foggy, snowy\"\n",
    "\n",
    "print(\"Here are the days: \", days)\n",
    "print(\"Here are the months: \", months)\n",
    "print(\"Here are the weathers: \", weathers)"
   ]
  },
  {
   "cell_type": "code",
   "execution_count": 80,
   "metadata": {},
   "outputs": [
    {
     "name": "stdout",
     "output_type": "stream",
     "text": [
      "\tI'm tabbed in.\n",
      "I'm split\n",
      "on a line.\n",
      "I'm \\ a \\ cat.\n",
      "\n",
      "I'll do:\n",
      "\t* homework\n",
      "\t* paperwriting\n",
      "\t* haircutting\n",
      "\n"
     ]
    }
   ],
   "source": [
    "tab = \"\\tI'm tabbed in.\"\n",
    "split_line = \"I'm split\\non a line.\"\n",
    "backslash = \"I'm \\\\ a \\\\ cat.\"\n",
    "\n",
    "todolist = \"\"\"\n",
    "I'll do:\n",
    "\\t* homework\n",
    "\\t* paperwriting\\n\\t* haircutting\n",
    "\"\"\"\n",
    "\n",
    "print(tab)\n",
    "print(split_line)\n",
    "print(backslash)\n",
    "print(todolist)"
   ]
  },
  {
   "cell_type": "code",
   "execution_count": 81,
   "metadata": {},
   "outputs": [
    {
     "name": "stdout",
     "output_type": "stream",
     "text": [
      "How old are you?-"
     ]
    },
    {
     "name": "stdin",
     "output_type": "stream",
     "text": [
      " 23\n"
     ]
    },
    {
     "name": "stdout",
     "output_type": "stream",
     "text": [
      "How tall are you?-"
     ]
    },
    {
     "name": "stdin",
     "output_type": "stream",
     "text": [
      " 160\n"
     ]
    },
    {
     "name": "stdout",
     "output_type": "stream",
     "text": [
      "How much do you weigh?-"
     ]
    },
    {
     "name": "stdin",
     "output_type": "stream",
     "text": [
      " 50\n"
     ]
    }
   ],
   "source": [
    "print(\"How old are you?\", end='-')\n",
    "age = input()\n",
    "print(\"How tall are you?\", end='-')\n",
    "height = input()\n",
    "print(\"How much do you weigh?\", end='-')\n",
    "weight = input()"
   ]
  },
  {
   "cell_type": "code",
   "execution_count": 82,
   "metadata": {},
   "outputs": [
    {
     "name": "stdout",
     "output_type": "stream",
     "text": [
      "So, you're 23 years old, 160cm tall and 50kg heavy.\n"
     ]
    }
   ],
   "source": [
    "print(f\"So, you're {age} years old, {height}cm tall and {weight}kg heavy.\")"
   ]
  },
  {
   "cell_type": "code",
   "execution_count": 83,
   "metadata": {},
   "outputs": [
    {
     "name": "stdin",
     "output_type": "stream",
     "text": [
      "How old are you?  22\n",
      "How tall are you?  160\n",
      "How much do you weigh?  50\n"
     ]
    }
   ],
   "source": [
    "age = input(\"How old are you? \")\n",
    "height = input(\"How tall are you? \")\n",
    "weight = input(\"How much do you weigh? \")"
   ]
  },
  {
   "cell_type": "code",
   "execution_count": 84,
   "metadata": {},
   "outputs": [
    {
     "name": "stdout",
     "output_type": "stream",
     "text": [
      "So, you're 22 years old, 160cm tall and 50kg heavy.\n"
     ]
    }
   ],
   "source": [
    "print(f\"So, you're {age} years old, {height}cm tall and {weight}kg heavy.\")"
   ]
  },
  {
   "cell_type": "code",
   "execution_count": null,
   "metadata": {},
   "outputs": [],
   "source": []
  }
 ],
 "metadata": {
  "kernelspec": {
   "display_name": "Python 3",
   "language": "python",
   "name": "python3"
  },
  "language_info": {
   "codemirror_mode": {
    "name": "ipython",
    "version": 3
   },
   "file_extension": ".py",
   "mimetype": "text/x-python",
   "name": "python",
   "nbconvert_exporter": "python",
   "pygments_lexer": "ipython3",
   "version": "3.8.3"
  }
 },
 "nbformat": 4,
 "nbformat_minor": 4
}
