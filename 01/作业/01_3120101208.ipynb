{
 "cells": [
  {
   "cell_type": "code",
   "execution_count": 1,
   "metadata": {},
   "outputs": [
    {
     "name": "stdout",
     "output_type": "stream",
     "text": [
      "101\n"
     ]
    }
   ],
   "source": [
    "print(\"101\")"
   ]
  },
  {
   "cell_type": "code",
   "execution_count": 3,
   "metadata": {},
   "outputs": [
    {
     "data": {
      "text/plain": [
       "1000"
      ]
     },
     "execution_count": 3,
     "metadata": {},
     "output_type": "execute_result"
    }
   ],
   "source": [
    "miles=1000\n",
    "miles"
   ]
  },
  {
   "cell_type": "code",
   "execution_count": 10,
   "metadata": {},
   "outputs": [
    {
     "data": {
      "text/plain": [
       "(1, 1, 1)"
      ]
     },
     "execution_count": 10,
     "metadata": {},
     "output_type": "execute_result"
    }
   ],
   "source": [
    "a=1\n",
    "b=1\n",
    "c=1\n",
    "a,b,c"
   ]
  },
  {
   "cell_type": "code",
   "execution_count": 8,
   "metadata": {},
   "outputs": [],
   "source": [
    "c=a-b"
   ]
  },
  {
   "cell_type": "code",
   "execution_count": 9,
   "metadata": {},
   "outputs": [
    {
     "data": {
      "text/plain": [
       "0"
      ]
     },
     "execution_count": 9,
     "metadata": {},
     "output_type": "execute_result"
    }
   ],
   "source": [
    "c"
   ]
  },
  {
   "cell_type": "code",
   "execution_count": 11,
   "metadata": {},
   "outputs": [
    {
     "name": "stdout",
     "output_type": "stream",
     "text": [
      "1\n"
     ]
    }
   ],
   "source": [
    "print(a)"
   ]
  },
  {
   "cell_type": "code",
   "execution_count": 12,
   "metadata": {},
   "outputs": [
    {
     "data": {
      "text/plain": [
       "'my chickens'"
      ]
     },
     "execution_count": 12,
     "metadata": {},
     "output_type": "execute_result"
    }
   ],
   "source": [
    "\"my chickens\""
   ]
  },
  {
   "cell_type": "code",
   "execution_count": 14,
   "metadata": {},
   "outputs": [
    {
     "name": "stdout",
     "output_type": "stream",
     "text": [
      "hens 30.0\n"
     ]
    }
   ],
   "source": [
    "print(\"hens\",25+30 / 6)"
   ]
  },
  {
   "cell_type": "code",
   "execution_count": 16,
   "metadata": {},
   "outputs": [
    {
     "data": {
      "text/plain": [
       "9.833333333333334"
      ]
     },
     "execution_count": 16,
     "metadata": {},
     "output_type": "execute_result"
    }
   ],
   "source": [
    "3 + 2 + 1 + 4 - 1 / 6"
   ]
  },
  {
   "cell_type": "code",
   "execution_count": 18,
   "metadata": {},
   "outputs": [
    {
     "name": "stdout",
     "output_type": "stream",
     "text": [
      "Is it grater True\n"
     ]
    }
   ],
   "source": [
    "print(\"Is it grater\" , 5 > 2)"
   ]
  },
  {
   "cell_type": "code",
   "execution_count": 19,
   "metadata": {},
   "outputs": [
    {
     "data": {
      "text/plain": [
       "True"
      ]
     },
     "execution_count": 19,
     "metadata": {},
     "output_type": "execute_result"
    }
   ],
   "source": [
    "5>=2"
   ]
  },
  {
   "cell_type": "code",
   "execution_count": 21,
   "metadata": {},
   "outputs": [
    {
     "data": {
      "text/plain": [
       "(False, True)"
      ]
     },
     "execution_count": 21,
     "metadata": {},
     "output_type": "execute_result"
    }
   ],
   "source": [
    "5>5 , 5>=5"
   ]
  },
  {
   "cell_type": "code",
   "execution_count": 22,
   "metadata": {},
   "outputs": [
    {
     "data": {
      "text/plain": [
       "False"
      ]
     },
     "execution_count": 22,
     "metadata": {},
     "output_type": "execute_result"
    }
   ],
   "source": [
    "3 + 2 < 5 - 7"
   ]
  },
  {
   "cell_type": "markdown",
   "metadata": {},
   "source": [
    "3 + (2 < 5) - 7"
   ]
  },
  {
   "cell_type": "code",
   "execution_count": 24,
   "metadata": {},
   "outputs": [
    {
     "data": {
      "text/plain": [
       "-4"
      ]
     },
     "execution_count": 24,
     "metadata": {},
     "output_type": "execute_result"
    }
   ],
   "source": [
    "3 + (2 > 5) - 7"
   ]
  },
  {
   "cell_type": "code",
   "execution_count": 26,
   "metadata": {},
   "outputs": [
    {
     "data": {
      "text/plain": [
       "1"
      ]
     },
     "execution_count": 26,
     "metadata": {},
     "output_type": "execute_result"
    }
   ],
   "source": [
    "c**2"
   ]
  },
  {
   "cell_type": "code",
   "execution_count": 27,
   "metadata": {},
   "outputs": [
    {
     "name": "stdout",
     "output_type": "stream",
     "text": [
      "(a+b)*c/d caculate result is: 90.0\n"
     ]
    }
   ],
   "source": [
    "a=20\n",
    "b=10\n",
    "c=15\n",
    "d=5\n",
    "e=0\n",
    "\n",
    "e=(a+b)*c/d #(30*15)/5\n",
    "print(\"(a+b)*c/d caculate result is:\",e)"
   ]
  },
  {
   "cell_type": "code",
   "execution_count": 28,
   "metadata": {},
   "outputs": [
    {
     "name": "stdout",
     "output_type": "stream",
     "text": [
      "let's talk about zane\n"
     ]
    }
   ],
   "source": [
    "my_name =\"zane\"\n",
    "print(f\"let's talk about {my_name}\")"
   ]
  },
  {
   "cell_type": "code",
   "execution_count": 30,
   "metadata": {},
   "outputs": [
    {
     "name": "stdout",
     "output_type": "stream",
     "text": [
      "let's talk about {my_name}\n"
     ]
    }
   ],
   "source": [
    "my_name =\"zane\"\n",
    "print(\"let's talk about {my_name}\")#不使用f"
   ]
  },
  {
   "cell_type": "code",
   "execution_count": 32,
   "metadata": {},
   "outputs": [
    {
     "name": "stdout",
     "output_type": "stream",
     "text": [
      "isn’t that joke so funny?!False\n"
     ]
    }
   ],
   "source": [
    "hilarious = False\n",
    "joke_evaluation = \"isn’t that joke so funny?!{}\"\n",
    "print(joke_evaluation.format(hilarious))"
   ]
  },
  {
   "cell_type": "code",
   "execution_count": 33,
   "metadata": {},
   "outputs": [
    {
     "name": "stdout",
     "output_type": "stream",
     "text": [
      "This is the lest side of ...a string with a right sdie.\n"
     ]
    }
   ],
   "source": [
    "w=\"This is the lest side of ...\"\n",
    "e=\"a string with a right sdie.\"\n",
    "print(w+e)"
   ]
  },
  {
   "cell_type": "code",
   "execution_count": 38,
   "metadata": {},
   "outputs": [
    {
     "name": "stdout",
     "output_type": "stream",
     "text": [
      "1 2 3 4\n",
      "{} {} {} {} {} {} {} {} {} {} {} {} {} {} {} {}\n"
     ]
    }
   ],
   "source": [
    "formatter = \"{} {} {} {}\"\n",
    "print(formatter.format(1,2,3,4))\n",
    "print(formatter.format(formatter,formatter,formatter,formatter))"
   ]
  },
  {
   "cell_type": "code",
   "execution_count": 6,
   "metadata": {},
   "outputs": [
    {
     "name": "stdout",
     "output_type": "stream",
     "text": [
      "here are the days Monday Tuesday Wednesday Thursday Friday Saturday Sunday\n",
      "here are the months Jan\n",
      "Feb\n",
      "Mar\n",
      "Apr\n",
      "May\n",
      "Jun\n",
      "Jul\n",
      "Aug\n",
      "Sep\n",
      "Oct\n",
      "Nov\n",
      "Dec\n",
      "\n",
      "There's something going on here.With the three double-quotes.\n",
      "We'll be able to type as much as we like.\n",
      "Even 4 lines if we want, or 5, or 6.\n",
      "4.\n",
      "5.\n",
      "6.\n",
      "\n"
     ]
    }
   ],
   "source": [
    "days=\"Monday Tuesday Wednesday Thursday Friday Saturday Sunday\"\n",
    "months=\"Jan\\nFeb\\nMar\\nApr\\nMay\\nJun\\nJul\\nAug\\nSep\\nOct\\nNov\\nDec\"\n",
    "print(\"here are the days\",days)\n",
    "print(\"here are the months\",months)\n",
    "\n",
    "print(\"\"\"\n",
    "There's something going on here.With the three double-quotes.\n",
    "We'll be able to type as much as we like.\n",
    "Even 4 lines if we want, or 5, or 6.\n",
    "4.\n",
    "5.\n",
    "6.\n",
    "\"\"\")"
   ]
  },
  {
   "cell_type": "code",
   "execution_count": 21,
   "metadata": {},
   "outputs": [],
   "source": [
    "boy=\"\\t\\tfly,boy\"\n",
    "girl=\"fly\\nnot fly\"\n",
    "older=\"come\\\\and\\\\go\"\n",
    "alist=\"\"\"I have a list\n",
    "\\t*boy\n",
    "\\t*girl\n",
    "\\t*older and older\\nolder           \\t*older\"\"\""
   ]
  },
  {
   "cell_type": "code",
   "execution_count": 22,
   "metadata": {},
   "outputs": [
    {
     "name": "stdout",
     "output_type": "stream",
     "text": [
      "\t\tfly,boy\n",
      "fly\n",
      "not fly\n",
      "come\\and\\go\n",
      "I have a list\n",
      "\t*boy\n",
      "\t*girl\n",
      "\t*older and older\n",
      "older           \t*older\n"
     ]
    }
   ],
   "source": [
    "print(boy)\n",
    "print(girl)\n",
    "print(older)\n",
    "print(alist)"
   ]
  },
  {
   "cell_type": "code",
   "execution_count": 31,
   "metadata": {},
   "outputs": [
    {
     "name": "stdout",
     "output_type": "stream",
     "text": [
      "how old are you? "
     ]
    },
    {
     "name": "stdin",
     "output_type": "stream",
     "text": [
      " 10\n"
     ]
    },
    {
     "name": "stdout",
     "output_type": "stream",
     "text": [
      "how tall are you? "
     ]
    },
    {
     "name": "stdin",
     "output_type": "stream",
     "text": [
      " 200\n"
     ]
    },
    {
     "name": "stdout",
     "output_type": "stream",
     "text": [
      "So, you're 10 years old, 200m tall.\n"
     ]
    }
   ],
   "source": [
    "print(\"how old are you? \",end='')\n",
    "age=input()\n",
    "print(\"how tall are you? \",end='')\n",
    "height=input()\n",
    "print(f\"So, you're {age} years old, {height}m tall.\")"
   ]
  },
  {
   "cell_type": "code",
   "execution_count": 32,
   "metadata": {},
   "outputs": [
    {
     "name": "stdin",
     "output_type": "stream",
     "text": [
      "how old are you?  10\n",
      "how tall are you?  200\n"
     ]
    },
    {
     "name": "stdout",
     "output_type": "stream",
     "text": [
      "So, you're 10 years old, 200m tall.\n"
     ]
    }
   ],
   "source": [
    "age=input(\"how old are you? \")\n",
    "\n",
    "height=input(\"how tall are you? \")\n",
    "\n",
    "print(f\"So, you're {age} years old, {height}m tall.\")"
   ]
  },
  {
   "cell_type": "code",
   "execution_count": 33,
   "metadata": {},
   "outputs": [
    {
     "name": "stdout",
     "output_type": "stream",
     "text": [
      "the scrpt name:  C:\\Users\\lll51\\anaconda3\\lib\\site-packages\\ipykernel_launcher.py\n",
      "the first variable name:  -f\n",
      "the second variable name:  C:\\Users\\lll51\\AppData\\Roaming\\jupyter\\runtime\\kernel-4b637922-5097-46a4-8eae-9d8016ea2466.json\n"
     ]
    }
   ],
   "source": [
    "from sys import argv\n",
    "script,first,second=argv\n",
    "print(\"the scrpt name: \",script)\n",
    "print(\"the first variable name: \",first) \n",
    "print(\"the second variable name: \",second) "
   ]
  },
  {
   "cell_type": "code",
   "execution_count": 44,
   "metadata": {},
   "outputs": [
    {
     "data": {
      "text/html": [
       "<div>\n",
       "<style scoped>\n",
       "    .dataframe tbody tr th:only-of-type {\n",
       "        vertical-align: middle;\n",
       "    }\n",
       "\n",
       "    .dataframe tbody tr th {\n",
       "        vertical-align: top;\n",
       "    }\n",
       "\n",
       "    .dataframe thead th {\n",
       "        text-align: right;\n",
       "    }\n",
       "</style>\n",
       "<table border=\"1\" class=\"dataframe\">\n",
       "  <thead>\n",
       "    <tr style=\"text-align: right;\">\n",
       "      <th></th>\n",
       "      <th>votes</th>\n",
       "      <th>name</th>\n",
       "      <th>seen</th>\n",
       "      <th>star</th>\n",
       "      <th>date</th>\n",
       "      <th>text</th>\n",
       "    </tr>\n",
       "  </thead>\n",
       "  <tbody>\n",
       "    <tr>\n",
       "      <th>0</th>\n",
       "      <td>260</td>\n",
       "      <td>____anybody</td>\n",
       "      <td>看过</td>\n",
       "      <td>推荐</td>\n",
       "      <td>2019-09-11 04:49:11</td>\n",
       "      <td>没错，在影片的前中后，我的菊花分别为剧情紧了三次。</td>\n",
       "    </tr>\n",
       "    <tr>\n",
       "      <th>1</th>\n",
       "      <td>116</td>\n",
       "      <td>瓦力</td>\n",
       "      <td>看过</td>\n",
       "      <td>推荐</td>\n",
       "      <td>2019-12-08 15:27:16</td>\n",
       "      <td>“霍金夫妇”的天空大冒险...本片可与《搏击太空》、《登月第一人》组成“人类升空进击三部曲”...</td>\n",
       "    </tr>\n",
       "    <tr>\n",
       "      <th>2</th>\n",
       "      <td>214</td>\n",
       "      <td>Maggie_in_LA</td>\n",
       "      <td>看过</td>\n",
       "      <td>还行</td>\n",
       "      <td>2019-10-08 15:41:00</td>\n",
       "      <td>这个片子虽然有的情节惊心动魄，画面也很美，但全程其实挺可笑的。看多了那种NASA在太空中的历...</td>\n",
       "    </tr>\n",
       "    <tr>\n",
       "      <th>3</th>\n",
       "      <td>185</td>\n",
       "      <td>花袭人</td>\n",
       "      <td>看过</td>\n",
       "      <td>还行</td>\n",
       "      <td>2019-12-12 18:58:00</td>\n",
       "      <td>在电影院看观感蛮好的，高空景致壮美，热气球独有的危险和挑战也挺抓人的，影片的长度跟热气球在空...</td>\n",
       "    </tr>\n",
       "    <tr>\n",
       "      <th>4</th>\n",
       "      <td>111</td>\n",
       "      <td>HarperDie</td>\n",
       "      <td>看过</td>\n",
       "      <td>推荐</td>\n",
       "      <td>2019-09-20 13:39:13</td>\n",
       "      <td>我相信埃迪·雷德梅恩在接下这个本子的时候，就笃定了要与导演汤姆·哈伯一起成就第一主角菲丽希缇...</td>\n",
       "    </tr>\n",
       "    <tr>\n",
       "      <th>...</th>\n",
       "      <td>...</td>\n",
       "      <td>...</td>\n",
       "      <td>...</td>\n",
       "      <td>...</td>\n",
       "      <td>...</td>\n",
       "      <td>...</td>\n",
       "    </tr>\n",
       "    <tr>\n",
       "      <th>195</th>\n",
       "      <td>0</td>\n",
       "      <td>寡狗</td>\n",
       "      <td>看过</td>\n",
       "      <td>推荐</td>\n",
       "      <td>2020-11-16 01:19:59</td>\n",
       "      <td>正因为有人能不顾生命安全也要去超越那些被人认为不可能的事，才是人类最伟大的特质，男主一度被老...</td>\n",
       "    </tr>\n",
       "    <tr>\n",
       "      <th>196</th>\n",
       "      <td>1</td>\n",
       "      <td>sickboy</td>\n",
       "      <td>看过</td>\n",
       "      <td>推荐</td>\n",
       "      <td>2019-12-17 10:08:35</td>\n",
       "      <td>電影院</td>\n",
       "    </tr>\n",
       "    <tr>\n",
       "      <th>197</th>\n",
       "      <td>0</td>\n",
       "      <td>球场终结者行云</td>\n",
       "      <td>看过</td>\n",
       "      <td>推荐</td>\n",
       "      <td>2020-11-13 19:13:10</td>\n",
       "      <td>3.5星。周五下午在一个银幕脏兮兮环境像80年代录像厅般的效区影院看的（20元票价还要啥自行...</td>\n",
       "    </tr>\n",
       "    <tr>\n",
       "      <th>198</th>\n",
       "      <td>0</td>\n",
       "      <td>基瑞尔</td>\n",
       "      <td>看过</td>\n",
       "      <td>推荐</td>\n",
       "      <td>2019-12-20 12:32:12</td>\n",
       "      <td>大概是Amazon命中无“爆”运，其实是故事振奋人心也足够在视觉上达到出色的电影，但却再次沦...</td>\n",
       "    </tr>\n",
       "    <tr>\n",
       "      <th>199</th>\n",
       "      <td>1</td>\n",
       "      <td>一个裤头的诞生</td>\n",
       "      <td>看过</td>\n",
       "      <td>还行</td>\n",
       "      <td>2020-01-01 22:52:59</td>\n",
       "      <td>埃迪和菲丽希缇两位几乎成了传记片专业户，表演还是发挥稳定的，片尾曲 Home To You ...</td>\n",
       "    </tr>\n",
       "  </tbody>\n",
       "</table>\n",
       "<p>200 rows × 6 columns</p>\n",
       "</div>"
      ],
      "text/plain": [
       "     votes          name seen star                 date  \\\n",
       "0      260   ____anybody   看过   推荐  2019-09-11 04:49:11   \n",
       "1      116            瓦力   看过   推荐  2019-12-08 15:27:16   \n",
       "2      214  Maggie_in_LA   看过   还行  2019-10-08 15:41:00   \n",
       "3      185           花袭人   看过   还行  2019-12-12 18:58:00   \n",
       "4      111     HarperDie   看过   推荐  2019-09-20 13:39:13   \n",
       "..     ...           ...  ...  ...                  ...   \n",
       "195      0            寡狗   看过   推荐  2020-11-16 01:19:59   \n",
       "196      1       sickboy   看过   推荐  2019-12-17 10:08:35   \n",
       "197      0       球场终结者行云   看过   推荐  2020-11-13 19:13:10   \n",
       "198      0           基瑞尔   看过   推荐  2019-12-20 12:32:12   \n",
       "199      1       一个裤头的诞生   看过   还行  2020-01-01 22:52:59   \n",
       "\n",
       "                                                  text  \n",
       "0                            没错，在影片的前中后，我的菊花分别为剧情紧了三次。  \n",
       "1    “霍金夫妇”的天空大冒险...本片可与《搏击太空》、《登月第一人》组成“人类升空进击三部曲”...  \n",
       "2    这个片子虽然有的情节惊心动魄，画面也很美，但全程其实挺可笑的。看多了那种NASA在太空中的历...  \n",
       "3    在电影院看观感蛮好的，高空景致壮美，热气球独有的危险和挑战也挺抓人的，影片的长度跟热气球在空...  \n",
       "4    我相信埃迪·雷德梅恩在接下这个本子的时候，就笃定了要与导演汤姆·哈伯一起成就第一主角菲丽希缇...  \n",
       "..                                                 ...  \n",
       "195  正因为有人能不顾生命安全也要去超越那些被人认为不可能的事，才是人类最伟大的特质，男主一度被老...  \n",
       "196                                                電影院  \n",
       "197  3.5星。周五下午在一个银幕脏兮兮环境像80年代录像厅般的效区影院看的（20元票价还要啥自行...  \n",
       "198  大概是Amazon命中无“爆”运，其实是故事振奋人心也足够在视觉上达到出色的电影，但却再次沦...  \n",
       "199  埃迪和菲丽希缇两位几乎成了传记片专业户，表演还是发挥稳定的，片尾曲 Home To You ...  \n",
       "\n",
       "[200 rows x 6 columns]"
      ]
     },
     "execution_count": 44,
     "metadata": {},
     "output_type": "execute_result"
    }
   ],
   "source": [
    "import pandas as pd\n",
    "\n",
    "csv = pd.read_csv('C:/Users/lll51/Documents/Python Class/python-class-main/01/douban/movie_comments.csv')\n",
    "\n",
    "csv"
   ]
  },
  {
   "cell_type": "code",
   "execution_count": 46,
   "metadata": {},
   "outputs": [
    {
     "data": {
      "text/html": [
       "<div>\n",
       "<style scoped>\n",
       "    .dataframe tbody tr th:only-of-type {\n",
       "        vertical-align: middle;\n",
       "    }\n",
       "\n",
       "    .dataframe tbody tr th {\n",
       "        vertical-align: top;\n",
       "    }\n",
       "\n",
       "    .dataframe thead th {\n",
       "        text-align: right;\n",
       "    }\n",
       "</style>\n",
       "<table border=\"1\" class=\"dataframe\">\n",
       "  <thead>\n",
       "    <tr style=\"text-align: right;\">\n",
       "      <th></th>\n",
       "      <th>votes</th>\n",
       "      <th>name</th>\n",
       "      <th>seen</th>\n",
       "      <th>star</th>\n",
       "      <th>date</th>\n",
       "      <th>text</th>\n",
       "    </tr>\n",
       "  </thead>\n",
       "  <tbody>\n",
       "    <tr>\n",
       "      <th>0</th>\n",
       "      <td>260</td>\n",
       "      <td>____anybody</td>\n",
       "      <td>看过</td>\n",
       "      <td>推荐</td>\n",
       "      <td>2019-09-11 04:49:11</td>\n",
       "      <td>没错，在影片的前中后，我的菊花分别为剧情紧了三次。</td>\n",
       "    </tr>\n",
       "    <tr>\n",
       "      <th>1</th>\n",
       "      <td>116</td>\n",
       "      <td>瓦力</td>\n",
       "      <td>看过</td>\n",
       "      <td>推荐</td>\n",
       "      <td>2019-12-08 15:27:16</td>\n",
       "      <td>“霍金夫妇”的天空大冒险...本片可与《搏击太空》、《登月第一人》组成“人类升空进击三部曲”...</td>\n",
       "    </tr>\n",
       "    <tr>\n",
       "      <th>2</th>\n",
       "      <td>214</td>\n",
       "      <td>Maggie_in_LA</td>\n",
       "      <td>看过</td>\n",
       "      <td>还行</td>\n",
       "      <td>2019-10-08 15:41:00</td>\n",
       "      <td>这个片子虽然有的情节惊心动魄，画面也很美，但全程其实挺可笑的。看多了那种NASA在太空中的历...</td>\n",
       "    </tr>\n",
       "    <tr>\n",
       "      <th>3</th>\n",
       "      <td>185</td>\n",
       "      <td>花袭人</td>\n",
       "      <td>看过</td>\n",
       "      <td>还行</td>\n",
       "      <td>2019-12-12 18:58:00</td>\n",
       "      <td>在电影院看观感蛮好的，高空景致壮美，热气球独有的危险和挑战也挺抓人的，影片的长度跟热气球在空...</td>\n",
       "    </tr>\n",
       "    <tr>\n",
       "      <th>4</th>\n",
       "      <td>111</td>\n",
       "      <td>HarperDie</td>\n",
       "      <td>看过</td>\n",
       "      <td>推荐</td>\n",
       "      <td>2019-09-20 13:39:13</td>\n",
       "      <td>我相信埃迪·雷德梅恩在接下这个本子的时候，就笃定了要与导演汤姆·哈伯一起成就第一主角菲丽希缇...</td>\n",
       "    </tr>\n",
       "    <tr>\n",
       "      <th>...</th>\n",
       "      <td>...</td>\n",
       "      <td>...</td>\n",
       "      <td>...</td>\n",
       "      <td>...</td>\n",
       "      <td>...</td>\n",
       "      <td>...</td>\n",
       "    </tr>\n",
       "    <tr>\n",
       "      <th>195</th>\n",
       "      <td>0</td>\n",
       "      <td>寡狗</td>\n",
       "      <td>看过</td>\n",
       "      <td>推荐</td>\n",
       "      <td>2020-11-16 01:19:59</td>\n",
       "      <td>正因为有人能不顾生命安全也要去超越那些被人认为不可能的事，才是人类最伟大的特质，男主一度被老...</td>\n",
       "    </tr>\n",
       "    <tr>\n",
       "      <th>196</th>\n",
       "      <td>1</td>\n",
       "      <td>sickboy</td>\n",
       "      <td>看过</td>\n",
       "      <td>推荐</td>\n",
       "      <td>2019-12-17 10:08:35</td>\n",
       "      <td>電影院</td>\n",
       "    </tr>\n",
       "    <tr>\n",
       "      <th>197</th>\n",
       "      <td>0</td>\n",
       "      <td>球场终结者行云</td>\n",
       "      <td>看过</td>\n",
       "      <td>推荐</td>\n",
       "      <td>2020-11-13 19:13:10</td>\n",
       "      <td>3.5星。周五下午在一个银幕脏兮兮环境像80年代录像厅般的效区影院看的（20元票价还要啥自行...</td>\n",
       "    </tr>\n",
       "    <tr>\n",
       "      <th>198</th>\n",
       "      <td>0</td>\n",
       "      <td>基瑞尔</td>\n",
       "      <td>看过</td>\n",
       "      <td>推荐</td>\n",
       "      <td>2019-12-20 12:32:12</td>\n",
       "      <td>大概是Amazon命中无“爆”运，其实是故事振奋人心也足够在视觉上达到出色的电影，但却再次沦...</td>\n",
       "    </tr>\n",
       "    <tr>\n",
       "      <th>199</th>\n",
       "      <td>1</td>\n",
       "      <td>一个裤头的诞生</td>\n",
       "      <td>看过</td>\n",
       "      <td>还行</td>\n",
       "      <td>2020-01-01 22:52:59</td>\n",
       "      <td>埃迪和菲丽希缇两位几乎成了传记片专业户，表演还是发挥稳定的，片尾曲 Home To You ...</td>\n",
       "    </tr>\n",
       "  </tbody>\n",
       "</table>\n",
       "<p>200 rows × 6 columns</p>\n",
       "</div>"
      ],
      "text/plain": [
       "     votes          name seen star                 date  \\\n",
       "0      260   ____anybody   看过   推荐  2019-09-11 04:49:11   \n",
       "1      116            瓦力   看过   推荐  2019-12-08 15:27:16   \n",
       "2      214  Maggie_in_LA   看过   还行  2019-10-08 15:41:00   \n",
       "3      185           花袭人   看过   还行  2019-12-12 18:58:00   \n",
       "4      111     HarperDie   看过   推荐  2019-09-20 13:39:13   \n",
       "..     ...           ...  ...  ...                  ...   \n",
       "195      0            寡狗   看过   推荐  2020-11-16 01:19:59   \n",
       "196      1       sickboy   看过   推荐  2019-12-17 10:08:35   \n",
       "197      0       球场终结者行云   看过   推荐  2020-11-13 19:13:10   \n",
       "198      0           基瑞尔   看过   推荐  2019-12-20 12:32:12   \n",
       "199      1       一个裤头的诞生   看过   还行  2020-01-01 22:52:59   \n",
       "\n",
       "                                                  text  \n",
       "0                            没错，在影片的前中后，我的菊花分别为剧情紧了三次。  \n",
       "1    “霍金夫妇”的天空大冒险...本片可与《搏击太空》、《登月第一人》组成“人类升空进击三部曲”...  \n",
       "2    这个片子虽然有的情节惊心动魄，画面也很美，但全程其实挺可笑的。看多了那种NASA在太空中的历...  \n",
       "3    在电影院看观感蛮好的，高空景致壮美，热气球独有的危险和挑战也挺抓人的，影片的长度跟热气球在空...  \n",
       "4    我相信埃迪·雷德梅恩在接下这个本子的时候，就笃定了要与导演汤姆·哈伯一起成就第一主角菲丽希缇...  \n",
       "..                                                 ...  \n",
       "195  正因为有人能不顾生命安全也要去超越那些被人认为不可能的事，才是人类最伟大的特质，男主一度被老...  \n",
       "196                                                電影院  \n",
       "197  3.5星。周五下午在一个银幕脏兮兮环境像80年代录像厅般的效区影院看的（20元票价还要啥自行...  \n",
       "198  大概是Amazon命中无“爆”运，其实是故事振奋人心也足够在视觉上达到出色的电影，但却再次沦...  \n",
       "199  埃迪和菲丽希缇两位几乎成了传记片专业户，表演还是发挥稳定的，片尾曲 Home To You ...  \n",
       "\n",
       "[200 rows x 6 columns]"
      ]
     },
     "execution_count": 46,
     "metadata": {},
     "output_type": "execute_result"
    }
   ],
   "source": [
    "import pandas as pd\n",
    "\n",
    "csv = pd.read_csv('../python-class-main/01/douban/movie_comments.csv')\n",
    "\n",
    "csv"
   ]
  },
  {
   "cell_type": "code",
   "execution_count": 53,
   "metadata": {},
   "outputs": [],
   "source": [
    "##学会使用别人写的爬虫\n",
    "\n",
    "# 下载好文件之后修改config.json代码中的user_id_list和since_date；\n",
    "# 打开bash/powershell，进入目录，执行代码。\n",
    "\n",
    "# % cd documents/“Python Class”/python-class-main/01/weibo\n",
    "# % python3 weibo.py\n",
    "# cd 带空格的文件夹，打“”引号。"
   ]
  },
  {
   "cell_type": "code",
   "execution_count": null,
   "metadata": {},
   "outputs": [],
   "source": [
    "#scrapy crawl douban -o movie_comments.csv \n",
    "#运行例子成功，csv中是乱码，可能是有设置没有改。"
   ]
  }
 ],
 "metadata": {
  "kernelspec": {
   "display_name": "Python 3",
   "language": "python",
   "name": "python3"
  },
  "language_info": {
   "codemirror_mode": {
    "name": "ipython",
    "version": 3
   },
   "file_extension": ".py",
   "mimetype": "text/x-python",
   "name": "python",
   "nbconvert_exporter": "python",
   "pygments_lexer": "ipython3",
   "version": "3.8.5"
  }
 },
 "nbformat": 4,
 "nbformat_minor": 4
}
