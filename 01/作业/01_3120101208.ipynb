{
 "cells": [
  {
   "cell_type": "code",
   "execution_count": 1,
   "metadata": {},
   "outputs": [
    {
     "name": "stdout",
     "output_type": "stream",
     "text": [
      "1011\n"
     ]
    }
   ],
   "source": [
    "print(\"1011\")"
   ]
  },
  {
   "cell_type": "code",
   "execution_count": 2,
   "metadata": {},
   "outputs": [
    {
     "data": {
      "text/plain": [
       "1001"
      ]
     },
     "execution_count": 2,
     "metadata": {},
     "output_type": "execute_result"
    }
   ],
   "source": [
    "miles=1001\n",
    "miles"
   ]
  },
  {
   "cell_type": "code",
   "execution_count": 92,
   "metadata": {},
   "outputs": [
    {
     "data": {
      "text/plain": [
       "1"
      ]
     },
     "execution_count": 92,
     "metadata": {},
     "output_type": "execute_result"
    }
   ],
   "source": [
    "x = 1\n",
    "x"
   ]
  },
  {
   "cell_type": "code",
   "execution_count": 93,
   "metadata": {},
   "outputs": [
    {
     "data": {
      "text/plain": [
       "10"
      ]
     },
     "execution_count": 93,
     "metadata": {},
     "output_type": "execute_result"
    }
   ],
   "source": [
    "x = 1\n",
    "y = 9\n",
    "x+y"
   ]
  },
  {
   "cell_type": "code",
   "execution_count": 95,
   "metadata": {},
   "outputs": [
    {
     "data": {
      "text/plain": [
       "8.0"
      ]
     },
     "execution_count": 95,
     "metadata": {},
     "output_type": "execute_result"
    }
   ],
   "source": [
    "x = 8\n",
    "y = 1\n",
    "x/y"
   ]
  },
  {
   "cell_type": "code",
   "execution_count": 96,
   "metadata": {},
   "outputs": [
    {
     "data": {
      "text/plain": [
       "18"
      ]
     },
     "execution_count": 96,
     "metadata": {},
     "output_type": "execute_result"
    }
   ],
   "source": [
    "x = 9\n",
    "y = 2\n",
    "x*y"
   ]
  },
  {
   "cell_type": "code",
   "execution_count": 97,
   "metadata": {},
   "outputs": [
    {
     "data": {
      "text/plain": [
       "121"
      ]
     },
     "execution_count": 97,
     "metadata": {},
     "output_type": "execute_result"
    }
   ],
   "source": [
    "y = 11\n",
    "y = y*y\n",
    "y"
   ]
  },
  {
   "cell_type": "code",
   "execution_count": 99,
   "metadata": {},
   "outputs": [
    {
     "data": {
      "text/plain": [
       "1"
      ]
     },
     "execution_count": 99,
     "metadata": {},
     "output_type": "execute_result"
    }
   ],
   "source": [
    "z = 1\n",
    "z = z*z\n",
    "z"
   ]
  },
  {
   "cell_type": "code",
   "execution_count": 101,
   "metadata": {},
   "outputs": [
    {
     "data": {
      "text/plain": [
       "144"
      ]
     },
     "execution_count": 101,
     "metadata": {},
     "output_type": "execute_result"
    }
   ],
   "source": [
    "y = 9 \n",
    "q =2\n",
    "y = y*q*q*q*q\n",
    "y"
   ]
  },
  {
   "cell_type": "code",
   "execution_count": 102,
   "metadata": {},
   "outputs": [
    {
     "data": {
      "text/plain": [
       "1"
      ]
     },
     "execution_count": 102,
     "metadata": {},
     "output_type": "execute_result"
    }
   ],
   "source": [
    "z\n",
    "(77 + z)\n",
    "z"
   ]
  },
  {
   "cell_type": "code",
   "execution_count": 103,
   "metadata": {},
   "outputs": [
    {
     "name": "stdout",
     "output_type": "stream",
     "text": [
      "153\n"
     ]
    }
   ],
   "source": [
    "print(x + y)"
   ]
  },
  {
   "cell_type": "code",
   "execution_count": 105,
   "metadata": {},
   "outputs": [
    {
     "name": "stdout",
     "output_type": "stream",
     "text": [
      "145\n"
     ]
    }
   ],
   "source": [
    "print(1 + z * y)"
   ]
  },
  {
   "cell_type": "code",
   "execution_count": 3,
   "metadata": {},
   "outputs": [
    {
     "data": {
      "text/plain": [
       "(2, 1, 1)"
      ]
     },
     "execution_count": 3,
     "metadata": {},
     "output_type": "execute_result"
    }
   ],
   "source": [
    "a=2\n",
    "b=1\n",
    "c=1\n",
    "a,b,c"
   ]
  },
  {
   "cell_type": "code",
   "execution_count": 5,
   "metadata": {},
   "outputs": [
    {
     "data": {
      "text/plain": [
       "1"
      ]
     },
     "execution_count": 5,
     "metadata": {},
     "output_type": "execute_result"
    }
   ],
   "source": [
    "c=a-b\n",
    "c"
   ]
  },
  {
   "cell_type": "code",
   "execution_count": 7,
   "metadata": {},
   "outputs": [
    {
     "data": {
      "text/plain": [
       "1"
      ]
     },
     "execution_count": 7,
     "metadata": {},
     "output_type": "execute_result"
    }
   ],
   "source": [
    "c = c\n",
    "c"
   ]
  },
  {
   "cell_type": "code",
   "execution_count": 11,
   "metadata": {},
   "outputs": [
    {
     "name": "stdout",
     "output_type": "stream",
     "text": [
      "1\n"
     ]
    }
   ],
   "source": [
    "print(a)"
   ]
  },
  {
   "cell_type": "code",
   "execution_count": 114,
   "metadata": {
    "jupyter": {
     "source_hidden": true
    }
   },
   "outputs": [
    {
     "data": {
      "text/plain": [
       "'my chickens and apples'"
      ]
     },
     "execution_count": 114,
     "metadata": {},
     "output_type": "execute_result"
    }
   ],
   "source": [
    "\"my chickens and apples\""
   ]
  },
  {
   "cell_type": "code",
   "execution_count": 150,
   "metadata": {},
   "outputs": [
    {
     "data": {
      "text/plain": [
       "'my chickens and fishes'"
      ]
     },
     "execution_count": 150,
     "metadata": {},
     "output_type": "execute_result"
    }
   ],
   "source": [
    "\"my chickens and fishes\""
   ]
  },
  {
   "cell_type": "code",
   "execution_count": 151,
   "metadata": {},
   "outputs": [
    {
     "data": {
      "text/plain": [
       "'different'"
      ]
     },
     "execution_count": 151,
     "metadata": {},
     "output_type": "execute_result"
    }
   ],
   "source": [
    "\"different\""
   ]
  },
  {
   "cell_type": "code",
   "execution_count": 152,
   "metadata": {},
   "outputs": [
    {
     "data": {
      "text/plain": [
       "'time again'"
      ]
     },
     "execution_count": 152,
     "metadata": {},
     "output_type": "execute_result"
    }
   ],
   "source": [
    "\"time\"\n",
    "\"time again\""
   ]
  },
  {
   "cell_type": "code",
   "execution_count": 153,
   "metadata": {},
   "outputs": [
    {
     "data": {
      "text/plain": [
       "'fly to the moon'"
      ]
     },
     "execution_count": 153,
     "metadata": {},
     "output_type": "execute_result"
    }
   ],
   "source": [
    "\"fly to the moon\""
   ]
  },
  {
   "cell_type": "code",
   "execution_count": 154,
   "metadata": {},
   "outputs": [
    {
     "data": {
      "text/plain": [
       "'is that ok?'"
      ]
     },
     "execution_count": 154,
     "metadata": {},
     "output_type": "execute_result"
    }
   ],
   "source": [
    "\"is that ok?\""
   ]
  },
  {
   "cell_type": "code",
   "execution_count": 155,
   "metadata": {},
   "outputs": [
    {
     "data": {
      "text/plain": [
       "'go and go'"
      ]
     },
     "execution_count": 155,
     "metadata": {},
     "output_type": "execute_result"
    }
   ],
   "source": [
    "\"go and go\""
   ]
  },
  {
   "cell_type": "code",
   "execution_count": 156,
   "metadata": {},
   "outputs": [
    {
     "data": {
      "text/plain": [
       "'fast'"
      ]
     },
     "execution_count": 156,
     "metadata": {},
     "output_type": "execute_result"
    }
   ],
   "source": [
    "\"fast\""
   ]
  },
  {
   "cell_type": "code",
   "execution_count": 158,
   "metadata": {},
   "outputs": [
    {
     "data": {
      "text/plain": [
       "'ok, fine, yes.'"
      ]
     },
     "execution_count": 158,
     "metadata": {},
     "output_type": "execute_result"
    }
   ],
   "source": [
    "\"ok, fine, yes.\""
   ]
  },
  {
   "cell_type": "code",
   "execution_count": 159,
   "metadata": {},
   "outputs": [
    {
     "data": {
      "text/plain": [
       "'come on !'"
      ]
     },
     "execution_count": 159,
     "metadata": {},
     "output_type": "execute_result"
    }
   ],
   "source": [
    "\"come on !\""
   ]
  },
  {
   "cell_type": "code",
   "execution_count": 115,
   "metadata": {},
   "outputs": [
    {
     "name": "stdout",
     "output_type": "stream",
     "text": [
      "20\n"
     ]
    },
    {
     "data": {
      "text/plain": [
       "'my chickens and apples'"
      ]
     },
     "execution_count": 115,
     "metadata": {},
     "output_type": "execute_result"
    }
   ],
   "source": [
    "\"my chickens and apples\"\n",
    "print(a)\n",
    "\"my chickens and apples\"\n",
    "a = \"my chickens and apples\"\n",
    "a"
   ]
  },
  {
   "cell_type": "code",
   "execution_count": 118,
   "metadata": {},
   "outputs": [
    {
     "name": "stdout",
     "output_type": "stream",
     "text": [
      "my chickens\n"
     ]
    },
    {
     "data": {
      "text/plain": [
       "'my chickens and all'"
      ]
     },
     "execution_count": 118,
     "metadata": {},
     "output_type": "execute_result"
    }
   ],
   "source": [
    "v = \"my chickens\"\n",
    "print(v)\n",
    "\"my chickens\"\n",
    "v = \"my chickens and all\"\n",
    "v"
   ]
  },
  {
   "cell_type": "code",
   "execution_count": 122,
   "metadata": {},
   "outputs": [
    {
     "name": "stdout",
     "output_type": "stream",
     "text": [
      "coming soon maybe next year!\n"
     ]
    }
   ],
   "source": [
    "a = \"coming soon \"\n",
    "b = \"maybe \"\n",
    "c = \"next year!\"\n",
    "print(a + b + c)"
   ]
  },
  {
   "cell_type": "code",
   "execution_count": 123,
   "metadata": {},
   "outputs": [
    {
     "name": "stdout",
     "output_type": "stream",
     "text": [
      "coming soon maybe next year!next year!\n"
     ]
    }
   ],
   "source": [
    "a = \"coming soon \"\n",
    "b = \"maybe \"\n",
    "c = \"next year!\"\n",
    "print(a + b + c + c)"
   ]
  },
  {
   "cell_type": "code",
   "execution_count": 124,
   "metadata": {},
   "outputs": [
    {
     "name": "stdout",
     "output_type": "stream",
     "text": [
      "next year!maybe coming soon \n"
     ]
    }
   ],
   "source": [
    "a = \"coming soon \"\n",
    "b = \"maybe \"\n",
    "c = \"next year!\"\n",
    "print(c + b + a)"
   ]
  },
  {
   "cell_type": "code",
   "execution_count": 131,
   "metadata": {},
   "outputs": [
    {
     "name": "stdout",
     "output_type": "stream",
     "text": [
      "coming soon next year!maybe  11\n"
     ]
    }
   ],
   "source": [
    "a = \"coming soon \"\n",
    "b = \"maybe \"\n",
    "c = \"next year!\"\n",
    "print(a+ c + b ,\"11\")"
   ]
  },
  {
   "cell_type": "code",
   "execution_count": 132,
   "metadata": {},
   "outputs": [
    {
     "name": "stdout",
     "output_type": "stream",
     "text": [
      "coming soon next year!maybe  fly ok\n"
     ]
    }
   ],
   "source": [
    "a = \"coming soon \"\n",
    "b = \"maybe \"\n",
    "c = \"next year!\"\n",
    "print(a+ c + b ,\"fly\", \"ok\")"
   ]
  },
  {
   "cell_type": "code",
   "execution_count": 137,
   "metadata": {},
   "outputs": [
    {
     "name": "stdout",
     "output_type": "stream",
     "text": [
      "coming soon next year!maybe  11 f{a}\n"
     ]
    }
   ],
   "source": [
    "a = \"coming soon \"\n",
    "b = \"maybe \"\n",
    "c = \"next year!\"\n",
    "print(a+ c + b ,\"11\", \"f{a}\")"
   ]
  },
  {
   "cell_type": "code",
   "execution_count": 139,
   "metadata": {},
   "outputs": [
    {
     "name": "stdout",
     "output_type": "stream",
     "text": [
      "coming soon next year!maybe yes maybe so good 6\n"
     ]
    }
   ],
   "source": [
    "a = \"coming soon \"\n",
    "b = \"maybe \"\n",
    "c = \"next year!\"\n",
    "d = \"yes\"\n",
    "print(a+ c + b +d ,\"maybe so good\", 3+3)"
   ]
  },
  {
   "cell_type": "code",
   "execution_count": 9,
   "metadata": {},
   "outputs": [
    {
     "name": "stdout",
     "output_type": "stream",
     "text": [
      "apples 30.0\n"
     ]
    }
   ],
   "source": [
    "print(\"apples\", 25+30 / 6)"
   ]
  },
  {
   "cell_type": "code",
   "execution_count": 10,
   "metadata": {},
   "outputs": [
    {
     "data": {
      "text/plain": [
       "11.833333333333334"
      ]
     },
     "execution_count": 10,
     "metadata": {},
     "output_type": "execute_result"
    }
   ],
   "source": [
    "5 + 2 + 1 + 4 - 1 / 6"
   ]
  },
  {
   "cell_type": "code",
   "execution_count": 11,
   "metadata": {},
   "outputs": [
    {
     "name": "stdout",
     "output_type": "stream",
     "text": [
      "Is it grater ?? True\n"
     ]
    }
   ],
   "source": [
    "print(\"Is it grater ??\" , 5 > 2)"
   ]
  },
  {
   "cell_type": "code",
   "execution_count": 13,
   "metadata": {},
   "outputs": [
    {
     "data": {
      "text/plain": [
       "True"
      ]
     },
     "execution_count": 13,
     "metadata": {},
     "output_type": "execute_result"
    }
   ],
   "source": [
    "5 >= 4.2"
   ]
  },
  {
   "cell_type": "code",
   "execution_count": 65,
   "metadata": {},
   "outputs": [
    {
     "data": {
      "text/plain": [
       "(False, True)"
      ]
     },
     "execution_count": 65,
     "metadata": {},
     "output_type": "execute_result"
    }
   ],
   "source": [
    "51 > 51 , 51 >= 51"
   ]
  },
  {
   "cell_type": "code",
   "execution_count": 63,
   "metadata": {},
   "outputs": [
    {
     "data": {
      "text/plain": [
       "True"
      ]
     },
     "execution_count": 63,
     "metadata": {},
     "output_type": "execute_result"
    }
   ],
   "source": [
    "51 > 51 , 51 >= 51\n",
    "32 == 32"
   ]
  },
  {
   "cell_type": "code",
   "execution_count": 67,
   "metadata": {},
   "outputs": [
    {
     "data": {
      "text/plain": [
       "False"
      ]
     },
     "execution_count": 67,
     "metadata": {},
     "output_type": "execute_result"
    }
   ],
   "source": [
    "3 + 2 < 5 - 7 - 1\n",
    "4 + 1 < 5 - 7 - 1"
   ]
  },
  {
   "cell_type": "code",
   "execution_count": 86,
   "metadata": {},
   "outputs": [
    {
     "data": {
      "text/plain": [
       "True"
      ]
     },
     "execution_count": 86,
     "metadata": {},
     "output_type": "execute_result"
    }
   ],
   "source": [
    "3 + 2 < 5 - 7 - 1\n",
    "4 + 1 < 5 - 7 - 1\n",
    "4 + 1 < 5 - 7 + 10\n",
    "4 + 1 < 5 - 7 + 12\n",
    "4 + 1 < 5 - 7 \n",
    "4 + 1 < 5 - 6\n",
    "4 + 1 < 5\n",
    "4 + 1 < 5 + 9"
   ]
  },
  {
   "cell_type": "markdown",
   "metadata": {},
   "source": [
    "3 + (2 < 5) - 7 - 1"
   ]
  },
  {
   "cell_type": "code",
   "execution_count": 16,
   "metadata": {},
   "outputs": [
    {
     "data": {
      "text/plain": [
       "-5"
      ]
     },
     "execution_count": 16,
     "metadata": {},
     "output_type": "execute_result"
    }
   ],
   "source": [
    "3 + (2 > 5) - 7 -1"
   ]
  },
  {
   "cell_type": "code",
   "execution_count": 18,
   "metadata": {},
   "outputs": [
    {
     "data": {
      "text/plain": [
       "1"
      ]
     },
     "execution_count": 18,
     "metadata": {},
     "output_type": "execute_result"
    }
   ],
   "source": [
    "c**3"
   ]
  },
  {
   "cell_type": "code",
   "execution_count": 68,
   "metadata": {},
   "outputs": [
    {
     "name": "stdout",
     "output_type": "stream",
     "text": [
      "(a+c)*b/d caculate result is:  70.0\n"
     ]
    }
   ],
   "source": [
    "a = 20\n",
    "b = 10\n",
    "c = 15\n",
    "d = 5\n",
    "e = 0\n",
    "\n",
    "e=(a+c)*b/d #(30*15)/5\n",
    "print(\"(a+c)*b/d caculate result is: \", e)"
   ]
  },
  {
   "cell_type": "code",
   "execution_count": 69,
   "metadata": {},
   "outputs": [
    {
     "name": "stdout",
     "output_type": "stream",
     "text": [
      "(a+d)*b/d caculate result is:  50.0\n"
     ]
    }
   ],
   "source": [
    "a = 20\n",
    "b = 10\n",
    "c = 15\n",
    "d = 5\n",
    "e = 0\n",
    "\n",
    "e=(a+d)*b/d #(30*15)/5\n",
    "print(\"(a+d)*b/d caculate result is: \", e)"
   ]
  },
  {
   "cell_type": "code",
   "execution_count": 70,
   "metadata": {},
   "outputs": [
    {
     "name": "stdout",
     "output_type": "stream",
     "text": [
      "(a+a)*b/d caculate result is:  80.0\n"
     ]
    }
   ],
   "source": [
    "a = 20\n",
    "b = 10\n",
    "c = 15\n",
    "d = 5\n",
    "e = 0\n",
    "\n",
    "e=(a+a)*b/d #(30*15)/5\n",
    "print(\"(a+a)*b/d caculate result is: \", e)"
   ]
  },
  {
   "cell_type": "code",
   "execution_count": 71,
   "metadata": {},
   "outputs": [
    {
     "name": "stdout",
     "output_type": "stream",
     "text": [
      "(a+a)*d/d caculate result is:  40.0\n"
     ]
    }
   ],
   "source": [
    "a = 20\n",
    "b = 10\n",
    "c = 15\n",
    "d = 5\n",
    "e = 0\n",
    "\n",
    "e=(a+a)*d/d #(30*15)/5\n",
    "print(\"(a+a)*d/d caculate result is: \", e)"
   ]
  },
  {
   "cell_type": "code",
   "execution_count": 76,
   "metadata": {},
   "outputs": [
    {
     "name": "stdout",
     "output_type": "stream",
     "text": [
      "let us talk about my name zaneboy\n"
     ]
    }
   ],
   "source": [
    "my_name =\"zaneboy\"\n",
    "print(f\"let us talk about my name {my_name}\")"
   ]
  },
  {
   "cell_type": "code",
   "execution_count": 77,
   "metadata": {},
   "outputs": [
    {
     "name": "stdout",
     "output_type": "stream",
     "text": [
      "let us talk about my name zaneboy\n"
     ]
    }
   ],
   "source": [
    "your_name =\"zane\"\n",
    "print(f\"let us talk about my name {my_name}\")"
   ]
  },
  {
   "cell_type": "code",
   "execution_count": 78,
   "metadata": {},
   "outputs": [
    {
     "name": "stdout",
     "output_type": "stream",
     "text": [
      "let us talk about my name zane\n"
     ]
    }
   ],
   "source": [
    "your_name =\"zane\"\n",
    "print(f\"let us talk about my name {your_name}\")"
   ]
  },
  {
   "cell_type": "code",
   "execution_count": 25,
   "metadata": {},
   "outputs": [
    {
     "name": "stdout",
     "output_type": "stream",
     "text": [
      "let us talk about my name {my_name}\n"
     ]
    }
   ],
   "source": [
    "my_name =\"zane\"\n",
    "print(\"let us talk about my name {my_name}\")#不使用f"
   ]
  },
  {
   "cell_type": "code",
   "execution_count": 27,
   "metadata": {},
   "outputs": [
    {
     "name": "stdout",
     "output_type": "stream",
     "text": [
      "isn’t that story so funny?! False\n"
     ]
    }
   ],
   "source": [
    "hilarious = False\n",
    "story_evaluation = \"isn’t that story so funny?! {}\"\n",
    "print(story_evaluation.format(hilarious))"
   ]
  },
  {
   "cell_type": "code",
   "execution_count": 28,
   "metadata": {},
   "outputs": [
    {
     "name": "stdout",
     "output_type": "stream",
     "text": [
      "This is the lest side of ...a string with a right sdie.interesting.or other things?\n"
     ]
    }
   ],
   "source": [
    "w = \"This is the lest side of ...\"\n",
    "e = \"a string with a right sdie.\"\n",
    "c = \"interesting.\"\n",
    "d = \"or other things?\"\n",
    "print(w+e+c+d)"
   ]
  },
  {
   "cell_type": "code",
   "execution_count": 40,
   "metadata": {
    "jupyter": {
     "source_hidden": true
    }
   },
   "outputs": [
    {
     "name": "stdout",
     "output_type": "stream",
     "text": [
      "1 2 3 5\n",
      "xx yy zz oo\n",
      "{} {} {} {} {} {} {} {} {} {} {} {} {} {} {} {}\n",
      "formatter1 formatter1,formatter1,formatter1.. This is a test.\n"
     ]
    }
   ],
   "source": [
    "formatter1 = \"{} {} {} {}\"\n",
    "\n",
    "print(formatter1.format(1,2,3,5))\n",
    "print(formatter1.format(\"xx\", \"yy\", \"zz\", \"oo\"))\n",
    "print(formatter1.format(formatter1,formatter1,formatter1,formatter1))\n",
    "print(formatter1.format(\n",
    "    \"formatter1\", \n",
    "    \"formatter1,formatter1,formatter1..\",\n",
    "    \"This is\",\n",
    "    \"a test.\"\n",
    "))"
   ]
  },
  {
   "cell_type": "code",
   "execution_count": 89,
   "metadata": {},
   "outputs": [
    {
     "name": "stdout",
     "output_type": "stream",
     "text": [
      "1 2 3 4 5\n",
      "xx yy zz xx oo\n",
      "{} {} {} {} {} {} {} {} {} {} {} {} {} {} {} {} {} {} {} {} {} {} {} {} {}\n",
      "formatter1 formatter1,formatter1,formatter1.. This is a test. !!\n"
     ]
    }
   ],
   "source": [
    "formatter1 = \"{} {} {} {} {}\"\n",
    "\n",
    "print(formatter1.format(1,2,3,4,5))\n",
    "print(formatter1.format(\"xx\", \"yy\", \"zz\", \"xx\", \"oo\"))\n",
    "print(formatter1.format(formatter1,formatter1,formatter1,formatter1,formatter1))\n",
    "print(formatter1.format(\n",
    "    \"formatter1\", \n",
    "    \"formatter1,formatter1,formatter1..\",\n",
    "    \"This is\",\n",
    "    \"a test.\",\n",
    "    \"!!\"\n",
    "))"
   ]
  },
  {
   "cell_type": "code",
   "execution_count": 91,
   "metadata": {},
   "outputs": [
    {
     "name": "stdout",
     "output_type": "stream",
     "text": [
      "1 2 3 4 5 6\n",
      "xx yy zz xx oo vv\n",
      "{} {} {} {} {} {} {} {} {} {} {} {} {} {} {} {} {} {} {} {} {} {} {} {} {} {} {} {} {} {} {} {} {} {} {} {}\n",
      "formatter1 formatter1,formatter1,formatter1.. This is a test. !! ??\n"
     ]
    }
   ],
   "source": [
    "formatter1 = \"{} {} {} {} {} {}\"\n",
    "\n",
    "print(formatter1.format(1,2,3,4,5,6))\n",
    "print(formatter1.format(\"xx\", \"yy\", \"zz\", \"xx\", \"oo\", \"vv\"))\n",
    "print(formatter1.format(formatter1,formatter1,formatter1,formatter1,formatter1,formatter1))\n",
    "print(formatter1.format(\n",
    "    \"formatter1\", \n",
    "    \"formatter1,formatter1,formatter1..\",\n",
    "    \"This is\",\n",
    "    \"a test.\",\n",
    "    \"!!\",\n",
    "    \"??\"\n",
    "))"
   ]
  },
  {
   "cell_type": "code",
   "execution_count": 42,
   "metadata": {},
   "outputs": [
    {
     "name": "stdout",
     "output_type": "stream",
     "text": [
      "So, hhere are the days Monday Tuesday Wednesday Thursday Friday Saturday Sunday\n",
      "So, hhere are the months Jan\n",
      "Feb\n",
      "Mar\n",
      "Apr\n",
      "May\n",
      "Jun\n",
      "Jul\n",
      "Aug\n",
      "Sep\n",
      "Oct\n",
      "Nov\n",
      "Dec\n",
      "\n",
      "There's something going on here.ummm...\n",
      "With the three double-quotes.\n",
      "We'll be able to type as much as we like.ummm...\n",
      "Even 4 lines if we want, or 5, or 6.\n",
      "4.\n",
      "5.\n",
      "6.\n",
      "\n"
     ]
    }
   ],
   "source": [
    "days=\"Monday Tuesday Wednesday Thursday Friday Saturday Sunday\"\n",
    "\n",
    "months=\"Jan\\nFeb\\nMar\\nApr\\nMay\\nJun\\nJul\\nAug\\nSep\\nOct\\nNov\\nDec\"\n",
    "print(\"So, hhere are the days\",days)\n",
    "print(\"So, hhere are the months\",months)\n",
    "\n",
    "print(\"\"\"\n",
    "There's something going on here.ummm...\n",
    "With the three double-quotes.\n",
    "We'll be able to type as much as we like.ummm...\n",
    "Even 4 lines if we want, or 5, or 6.\n",
    "4.\n",
    "5.\n",
    "6.\n",
    "\"\"\")"
   ]
  },
  {
   "cell_type": "code",
   "execution_count": 48,
   "metadata": {},
   "outputs": [
    {
     "name": "stdout",
     "output_type": "stream",
     "text": [
      "\t\tfly,boy\n",
      "fly\n",
      "not fly\n",
      "come\\and\\go\n",
      "I have a list:\n",
      "\t*boy\n",
      "\t*girl\n",
      "\t*older and older\n",
      "older           \t*older\n"
     ]
    }
   ],
   "source": [
    "boy=\"\\t\\tfly,boy\"\n",
    "girl=\"fly\\nnot fly\"\n",
    "older=\"come\\\\and\\\\go\"\n",
    "alist=\"\"\"I have a list:\n",
    "\\t*boy\n",
    "\\t*girl\n",
    "\\t*older and older\\nolder           \\t*older\"\"\"\n",
    "print(boy)\n",
    "print(girl)\n",
    "print(older)\n",
    "print(alist)"
   ]
  },
  {
   "cell_type": "code",
   "execution_count": 51,
   "metadata": {},
   "outputs": [
    {
     "name": "stdout",
     "output_type": "stream",
     "text": [
      "\t\tfly,boy\n",
      "fly\n",
      "not fly\n",
      "come\\and\\go\n",
      "I have a list:\n",
      "\t*boy\n",
      "\t*girl\n",
      "\t*older\n",
      "\t*and older\n",
      "\n"
     ]
    }
   ],
   "source": [
    "boy1=\"\\t\\tfly,boy\"\n",
    "girl1=\"fly\\nnot fly\"\n",
    "older1=\"come\\\\and\\\\go\"\n",
    "alist1=\"\"\"I have a list:\n",
    "\\t*boy\n",
    "\\t*girl\n",
    "\\t*older\\n\\t*and older\n",
    "\"\"\"\n",
    "print(boy1)\n",
    "print(girl1)\n",
    "print(older1)\n",
    "print(alist1)"
   ]
  },
  {
   "cell_type": "code",
   "execution_count": 52,
   "metadata": {},
   "outputs": [
    {
     "name": "stdout",
     "output_type": "stream",
     "text": [
      "question: how old are you? "
     ]
    },
    {
     "name": "stdin",
     "output_type": "stream",
     "text": [
      " 1\n"
     ]
    },
    {
     "name": "stdout",
     "output_type": "stream",
     "text": [
      "question: how tall are you? "
     ]
    },
    {
     "name": "stdin",
     "output_type": "stream",
     "text": [
      " 11\n"
     ]
    },
    {
     "name": "stdout",
     "output_type": "stream",
     "text": [
      "So, you're 1 years old, 11m tall.\n"
     ]
    }
   ],
   "source": [
    "print(\"question: how old are you? \",end='')\n",
    "age=input()\n",
    "print(\"question: how tall are you? \",end='')\n",
    "height=input()\n",
    "print(f\"So, you're {age} years old, {height}m tall.\")"
   ]
  },
  {
   "cell_type": "code",
   "execution_count": 140,
   "metadata": {},
   "outputs": [
    {
     "name": "stdout",
     "output_type": "stream",
     "text": [
      "question: how are you? "
     ]
    },
    {
     "name": "stdin",
     "output_type": "stream",
     "text": [
      " fine\n"
     ]
    },
    {
     "name": "stdout",
     "output_type": "stream",
     "text": [
      "question: are you ok? "
     ]
    },
    {
     "name": "stdin",
     "output_type": "stream",
     "text": [
      " ok\n"
     ]
    },
    {
     "name": "stdout",
     "output_type": "stream",
     "text": [
      "So, you're fine, ok.\n"
     ]
    }
   ],
   "source": [
    "print(\"question: how old are you? \",end='')\n",
    "age=input()\n",
    "print(\"question: how tall are you? \",end='')\n",
    "height=input()\n",
    "print(f\"So, you're {age} years old, {height}m tall.\")"
   ]
  },
  {
   "cell_type": "code",
   "execution_count": 141,
   "metadata": {},
   "outputs": [
    {
     "name": "stdout",
     "output_type": "stream",
     "text": [
      "the list:\n",
      "question: how old are you? "
     ]
    },
    {
     "name": "stdin",
     "output_type": "stream",
     "text": [
      " 11\n"
     ]
    },
    {
     "name": "stdout",
     "output_type": "stream",
     "text": [
      "question: how tall are you? "
     ]
    },
    {
     "name": "stdin",
     "output_type": "stream",
     "text": [
      " 22\n"
     ]
    },
    {
     "name": "stdout",
     "output_type": "stream",
     "text": [
      "So, you're 11 years old, 22m tall.\n"
     ]
    }
   ],
   "source": [
    "print(\"the list:\")\n",
    "print(\"question: how old are you? \",end='')\n",
    "age=input()\n",
    "print(\"question: how tall are you? \",end='')\n",
    "height=input()\n",
    "print(f\"So, you're {age} years old, {height}m tall.\")"
   ]
  },
  {
   "cell_type": "code",
   "execution_count": 168,
   "metadata": {
    "collapsed": true,
    "jupyter": {
     "outputs_hidden": true
    }
   },
   "outputs": [
    {
     "name": "stdout",
     "output_type": "stream",
     "text": [
      "the list:\n",
      "question: 1 or 2? "
     ]
    },
    {
     "name": "stdin",
     "output_type": "stream",
     "text": [
      " 1\n"
     ]
    },
    {
     "name": "stdout",
     "output_type": "stream",
     "text": [
      "question: 2 or 3? "
     ]
    },
    {
     "name": "stdin",
     "output_type": "stream",
     "text": [
      " 2\n"
     ]
    },
    {
     "name": "stdout",
     "output_type": "stream",
     "text": [
      "So, your anwser is 1 and 2\n"
     ]
    }
   ],
   "source": [
    "print(\"the list:\")\n",
    "print(\"question: 1 or 2? \",end='')\n",
    "num1=input()\n",
    "print(\"question: 2 or 3? \",end='')\n",
    "num2=input()\n",
    "print(f\"So, your anwser is {num1} and {num2}\")"
   ]
  },
  {
   "cell_type": "code",
   "execution_count": 169,
   "metadata": {},
   "outputs": [
    {
     "name": "stdout",
     "output_type": "stream",
     "text": [
      "the list:\n",
      "question: 2 or 20? "
     ]
    },
    {
     "name": "stdin",
     "output_type": "stream",
     "text": [
      " 20\n"
     ]
    },
    {
     "name": "stdout",
     "output_type": "stream",
     "text": [
      "question: 20 or 33? "
     ]
    },
    {
     "name": "stdin",
     "output_type": "stream",
     "text": [
      " 33\n"
     ]
    },
    {
     "name": "stdout",
     "output_type": "stream",
     "text": [
      "So, your anwser is 20 and 33\n"
     ]
    }
   ],
   "source": [
    "print(\"the list:\")\n",
    "print(\"question: 2 or 20? \",end='')\n",
    "num11=input()\n",
    "print(\"question: 20 or 33? \",end='')\n",
    "num22=input()\n",
    "print(f\"So, your anwser is {num11} and {num22}\")"
   ]
  },
  {
   "cell_type": "code",
   "execution_count": 142,
   "metadata": {},
   "outputs": [
    {
     "name": "stdout",
     "output_type": "stream",
     "text": [
      "False\n"
     ]
    }
   ],
   "source": [
    "print(x == 1)"
   ]
  },
  {
   "cell_type": "code",
   "execution_count": 143,
   "metadata": {},
   "outputs": [
    {
     "name": "stdout",
     "output_type": "stream",
     "text": [
      "False\n"
     ]
    }
   ],
   "source": [
    "print(1+1==9)"
   ]
  },
  {
   "cell_type": "code",
   "execution_count": 144,
   "metadata": {},
   "outputs": [
    {
     "name": "stdout",
     "output_type": "stream",
     "text": [
      "False\n"
     ]
    }
   ],
   "source": [
    "print(3+2+1<2)"
   ]
  },
  {
   "cell_type": "code",
   "execution_count": 145,
   "metadata": {},
   "outputs": [
    {
     "name": "stdout",
     "output_type": "stream",
     "text": [
      "22\n"
     ]
    }
   ],
   "source": [
    "print(height)"
   ]
  },
  {
   "cell_type": "code",
   "execution_count": 147,
   "metadata": {},
   "outputs": [
    {
     "name": "stdout",
     "output_type": "stream",
     "text": [
      "11\n"
     ]
    }
   ],
   "source": [
    "print(age)"
   ]
  },
  {
   "cell_type": "code",
   "execution_count": 149,
   "metadata": {},
   "outputs": [
    {
     "name": "stdout",
     "output_type": "stream",
     "text": [
      "False\n"
     ]
    }
   ],
   "source": [
    "print(1 + 1 != 2)"
   ]
  },
  {
   "cell_type": "code",
   "execution_count": 53,
   "metadata": {},
   "outputs": [
    {
     "name": "stdin",
     "output_type": "stream",
     "text": [
      "question: how old are you?  10\n",
      "question: how tall are you?  200\n"
     ]
    },
    {
     "name": "stdout",
     "output_type": "stream",
     "text": [
      "So, you're 10 years old, 200m tall.\n"
     ]
    }
   ],
   "source": [
    "age=input(\"question: how old are you? \")\n",
    "\n",
    "height=input(\"question: how tall are you? \")\n",
    "\n",
    "print(f\"So, you're {age} years old, {height}m tall.\")"
   ]
  },
  {
   "cell_type": "code",
   "execution_count": 33,
   "metadata": {},
   "outputs": [
    {
     "name": "stdout",
     "output_type": "stream",
     "text": [
      "the scrpt name:  C:\\Users\\lll51\\anaconda3\\lib\\site-packages\\ipykernel_launcher.py\n",
      "the first variable name:  -f\n",
      "the second variable name:  C:\\Users\\lll51\\AppData\\Roaming\\jupyter\\runtime\\kernel-4b637922-5097-46a4-8eae-9d8016ea2466.json\n"
     ]
    }
   ],
   "source": [
    "from sys import argv\n",
    "script,first,second=argv\n",
    "print(\"the scrpt name: \",script)\n",
    "print(\"the first variable name: \",first) \n",
    "print(\"the second variable name: \",second) "
   ]
  },
  {
   "cell_type": "code",
   "execution_count": 81,
   "metadata": {},
   "outputs": [
    {
     "data": {
      "text/html": [
       "<div>\n",
       "<style scoped>\n",
       "    .dataframe tbody tr th:only-of-type {\n",
       "        vertical-align: middle;\n",
       "    }\n",
       "\n",
       "    .dataframe tbody tr th {\n",
       "        vertical-align: top;\n",
       "    }\n",
       "\n",
       "    .dataframe thead th {\n",
       "        text-align: right;\n",
       "    }\n",
       "</style>\n",
       "<table border=\"1\" class=\"dataframe\">\n",
       "  <thead>\n",
       "    <tr style=\"text-align: right;\">\n",
       "      <th></th>\n",
       "      <th>用户id</th>\n",
       "      <th>昵称</th>\n",
       "      <th>性别</th>\n",
       "      <th>生日</th>\n",
       "      <th>所在地</th>\n",
       "      <th>学习经历</th>\n",
       "      <th>公司</th>\n",
       "      <th>注册时间</th>\n",
       "      <th>阳光信用</th>\n",
       "      <th>微博数</th>\n",
       "      <th>...</th>\n",
       "      <th>关注数</th>\n",
       "      <th>简介</th>\n",
       "      <th>主页</th>\n",
       "      <th>头像</th>\n",
       "      <th>高清头像</th>\n",
       "      <th>微博等级</th>\n",
       "      <th>会员等级</th>\n",
       "      <th>是否认证</th>\n",
       "      <th>认证类型</th>\n",
       "      <th>认证信息</th>\n",
       "    </tr>\n",
       "  </thead>\n",
       "  <tbody>\n",
       "    <tr>\n",
       "      <th>0</th>\n",
       "      <td>5476386628</td>\n",
       "      <td>侠客岛</td>\n",
       "      <td>m</td>\n",
       "      <td>NaN</td>\n",
       "      <td>北京</td>\n",
       "      <td>NaN</td>\n",
       "      <td>NaN</td>\n",
       "      <td>NaN</td>\n",
       "      <td>NaN</td>\n",
       "      <td>7562</td>\n",
       "      <td>...</td>\n",
       "      <td>207</td>\n",
       "      <td>但凭侠者仁心，拆解时政迷局。</td>\n",
       "      <td>https://m.weibo.cn/u/5476386628?uid=5476386628...</td>\n",
       "      <td>https://tvax3.sinaimg.cn/crop.0.0.564.564.180/...</td>\n",
       "      <td>https://wx3.sinaimg.cn/orj480/005YCmkAly8gdi6o...</td>\n",
       "      <td>37</td>\n",
       "      <td>5</td>\n",
       "      <td>True</td>\n",
       "      <td>3</td>\n",
       "      <td>人民日报海外版旗下账号</td>\n",
       "    </tr>\n",
       "    <tr>\n",
       "      <th>1</th>\n",
       "      <td>2584320772</td>\n",
       "      <td>林泰前</td>\n",
       "      <td>m</td>\n",
       "      <td>NaN</td>\n",
       "      <td>海外 新加坡</td>\n",
       "      <td>NaN</td>\n",
       "      <td>NaN</td>\n",
       "      <td>NaN</td>\n",
       "      <td>NaN</td>\n",
       "      <td>36002</td>\n",
       "      <td>...</td>\n",
       "      <td>50</td>\n",
       "      <td> 热爱老苹果电脑、电玩、动漫、编程、智能手表和 AR/VR。 Virtual GS 工作...</td>\n",
       "      <td>https://m.weibo.cn/u/2584320772?uid=2584320772...</td>\n",
       "      <td>https://tvax1.sinaimg.cn/crop.0.0.180.180.180/...</td>\n",
       "      <td>https://wx1.sinaimg.cn/orj480/9a099b04ly1gdhwy...</td>\n",
       "      <td>48</td>\n",
       "      <td>0</td>\n",
       "      <td>False</td>\n",
       "      <td>-1</td>\n",
       "      <td>NaN</td>\n",
       "    </tr>\n",
       "    <tr>\n",
       "      <th>2</th>\n",
       "      <td>2584320772</td>\n",
       "      <td>林泰前</td>\n",
       "      <td>m</td>\n",
       "      <td>NaN</td>\n",
       "      <td>海外 新加坡</td>\n",
       "      <td>NaN</td>\n",
       "      <td>NaN</td>\n",
       "      <td>NaN</td>\n",
       "      <td>NaN</td>\n",
       "      <td>36002</td>\n",
       "      <td>...</td>\n",
       "      <td>50</td>\n",
       "      <td> 热爱老苹果电脑、电玩、动漫、编程、智能手表和 AR/VR。 Virtual GS 工作...</td>\n",
       "      <td>https://m.weibo.cn/u/2584320772?uid=2584320772...</td>\n",
       "      <td>https://tvax1.sinaimg.cn/crop.0.0.180.180.180/...</td>\n",
       "      <td>https://wx1.sinaimg.cn/orj480/9a099b04ly1gdhwy...</td>\n",
       "      <td>48</td>\n",
       "      <td>0</td>\n",
       "      <td>False</td>\n",
       "      <td>-1</td>\n",
       "      <td>NaN</td>\n",
       "    </tr>\n",
       "  </tbody>\n",
       "</table>\n",
       "<p>3 rows × 21 columns</p>\n",
       "</div>"
      ],
      "text/plain": [
       "         用户id   昵称 性别  生日     所在地  学习经历  公司  注册时间  阳光信用    微博数  ...  关注数  \\\n",
       "0  5476386628  侠客岛  m NaN      北京   NaN NaN   NaN   NaN   7562  ...  207   \n",
       "1  2584320772  林泰前  m NaN  海外 新加坡   NaN NaN   NaN   NaN  36002  ...   50   \n",
       "2  2584320772  林泰前  m NaN  海外 新加坡   NaN NaN   NaN   NaN  36002  ...   50   \n",
       "\n",
       "                                                  简介  \\\n",
       "0                                     但凭侠者仁心，拆解时政迷局。   \n",
       "1   热爱老苹果电脑、电玩、动漫、编程、智能手表和 AR/VR。 Virtual GS 工作...   \n",
       "2   热爱老苹果电脑、电玩、动漫、编程、智能手表和 AR/VR。 Virtual GS 工作...   \n",
       "\n",
       "                                                  主页  \\\n",
       "0  https://m.weibo.cn/u/5476386628?uid=5476386628...   \n",
       "1  https://m.weibo.cn/u/2584320772?uid=2584320772...   \n",
       "2  https://m.weibo.cn/u/2584320772?uid=2584320772...   \n",
       "\n",
       "                                                  头像  \\\n",
       "0  https://tvax3.sinaimg.cn/crop.0.0.564.564.180/...   \n",
       "1  https://tvax1.sinaimg.cn/crop.0.0.180.180.180/...   \n",
       "2  https://tvax1.sinaimg.cn/crop.0.0.180.180.180/...   \n",
       "\n",
       "                                                高清头像 微博等级  会员等级   是否认证  认证类型  \\\n",
       "0  https://wx3.sinaimg.cn/orj480/005YCmkAly8gdi6o...   37     5   True     3   \n",
       "1  https://wx1.sinaimg.cn/orj480/9a099b04ly1gdhwy...   48     0  False    -1   \n",
       "2  https://wx1.sinaimg.cn/orj480/9a099b04ly1gdhwy...   48     0  False    -1   \n",
       "\n",
       "          认证信息  \n",
       "0  人民日报海外版旗下账号  \n",
       "1          NaN  \n",
       "2          NaN  \n",
       "\n",
       "[3 rows x 21 columns]"
      ]
     },
     "execution_count": 81,
     "metadata": {},
     "output_type": "execute_result"
    }
   ],
   "source": [
    "import pandas as pd\n",
    "\n",
    "csv1 = pd.read_csv('C:\\\\Users\\\\lll51\\\\Documents\\\\Python-Class\\\\01\\\\weibo\\\\weibo\\\\users.csv')\n",
    "\n",
    "csv1"
   ]
  },
  {
   "cell_type": "code",
   "execution_count": 82,
   "metadata": {},
   "outputs": [
    {
     "data": {
      "text/html": [
       "<div>\n",
       "<style scoped>\n",
       "    .dataframe tbody tr th:only-of-type {\n",
       "        vertical-align: middle;\n",
       "    }\n",
       "\n",
       "    .dataframe tbody tr th {\n",
       "        vertical-align: top;\n",
       "    }\n",
       "\n",
       "    .dataframe thead th {\n",
       "        text-align: right;\n",
       "    }\n",
       "</style>\n",
       "<table border=\"1\" class=\"dataframe\">\n",
       "  <thead>\n",
       "    <tr style=\"text-align: right;\">\n",
       "      <th></th>\n",
       "      <th>author</th>\n",
       "      <th>text</th>\n",
       "    </tr>\n",
       "  </thead>\n",
       "  <tbody>\n",
       "    <tr>\n",
       "      <th>0</th>\n",
       "      <td>Jane Austen</td>\n",
       "      <td>“The person, be it gentleman or lady, who has ...</td>\n",
       "    </tr>\n",
       "    <tr>\n",
       "      <th>1</th>\n",
       "      <td>Steve Martin</td>\n",
       "      <td>“A day without sunshine is like, you know, nig...</td>\n",
       "    </tr>\n",
       "    <tr>\n",
       "      <th>2</th>\n",
       "      <td>Garrison Keillor</td>\n",
       "      <td>“Anyone who thinks sitting in church can make ...</td>\n",
       "    </tr>\n",
       "    <tr>\n",
       "      <th>3</th>\n",
       "      <td>Jim Henson</td>\n",
       "      <td>“Beauty is in the eye of the beholder and it m...</td>\n",
       "    </tr>\n",
       "    <tr>\n",
       "      <th>4</th>\n",
       "      <td>Charles M. Schulz</td>\n",
       "      <td>“All you need is love. But a little chocolate ...</td>\n",
       "    </tr>\n",
       "    <tr>\n",
       "      <th>5</th>\n",
       "      <td>Suzanne Collins</td>\n",
       "      <td>“Remember, we're madly in love, so it's all ri...</td>\n",
       "    </tr>\n",
       "    <tr>\n",
       "      <th>6</th>\n",
       "      <td>Charles Bukowski</td>\n",
       "      <td>“Some people never go crazy. What truly horrib...</td>\n",
       "    </tr>\n",
       "    <tr>\n",
       "      <th>7</th>\n",
       "      <td>Terry Pratchett</td>\n",
       "      <td>“The trouble with having an open mind, of cour...</td>\n",
       "    </tr>\n",
       "    <tr>\n",
       "      <th>8</th>\n",
       "      <td>Dr. Seuss</td>\n",
       "      <td>“Think left and think right and think low and ...</td>\n",
       "    </tr>\n",
       "    <tr>\n",
       "      <th>9</th>\n",
       "      <td>George Carlin</td>\n",
       "      <td>“The reason I talk to myself is because I’m th...</td>\n",
       "    </tr>\n",
       "    <tr>\n",
       "      <th>10</th>\n",
       "      <td>W.C. Fields</td>\n",
       "      <td>“I am free of all prejudice. I hate everyone e...</td>\n",
       "    </tr>\n",
       "    <tr>\n",
       "      <th>11</th>\n",
       "      <td>Jane Austen</td>\n",
       "      <td>“A lady's imagination is very rapid; it jumps ...</td>\n",
       "    </tr>\n",
       "  </tbody>\n",
       "</table>\n",
       "</div>"
      ],
      "text/plain": [
       "               author                                               text\n",
       "0         Jane Austen  “The person, be it gentleman or lady, who has ...\n",
       "1        Steve Martin  “A day without sunshine is like, you know, nig...\n",
       "2    Garrison Keillor  “Anyone who thinks sitting in church can make ...\n",
       "3          Jim Henson  “Beauty is in the eye of the beholder and it m...\n",
       "4   Charles M. Schulz  “All you need is love. But a little chocolate ...\n",
       "5     Suzanne Collins  “Remember, we're madly in love, so it's all ri...\n",
       "6    Charles Bukowski  “Some people never go crazy. What truly horrib...\n",
       "7     Terry Pratchett  “The trouble with having an open mind, of cour...\n",
       "8           Dr. Seuss  “Think left and think right and think low and ...\n",
       "9       George Carlin  “The reason I talk to myself is because I’m th...\n",
       "10        W.C. Fields  “I am free of all prejudice. I hate everyone e...\n",
       "11        Jane Austen  “A lady's imagination is very rapid; it jumps ..."
      ]
     },
     "execution_count": 82,
     "metadata": {},
     "output_type": "execute_result"
    }
   ],
   "source": [
    "import pandas as pd\n",
    "\n",
    "csv2 = pd.read_csv('C:\\\\Users\\\\lll51\\\\Documents\\\\Python-Class\\\\01\\\\douban\\\\movie_comments.csv')\n",
    "\n",
    "csv2"
   ]
  },
  {
   "cell_type": "code",
   "execution_count": 160,
   "metadata": {},
   "outputs": [
    {
     "data": {
      "text/html": [
       "<div>\n",
       "<style scoped>\n",
       "    .dataframe tbody tr th:only-of-type {\n",
       "        vertical-align: middle;\n",
       "    }\n",
       "\n",
       "    .dataframe tbody tr th {\n",
       "        vertical-align: top;\n",
       "    }\n",
       "\n",
       "    .dataframe thead th {\n",
       "        text-align: right;\n",
       "    }\n",
       "</style>\n",
       "<table border=\"1\" class=\"dataframe\">\n",
       "  <thead>\n",
       "    <tr style=\"text-align: right;\">\n",
       "      <th></th>\n",
       "      <th>id</th>\n",
       "      <th>bid</th>\n",
       "      <th>正文</th>\n",
       "      <th>头条文章url</th>\n",
       "      <th>原始图片url</th>\n",
       "      <th>视频url</th>\n",
       "      <th>位置</th>\n",
       "      <th>日期</th>\n",
       "      <th>工具</th>\n",
       "      <th>点赞数</th>\n",
       "      <th>评论数</th>\n",
       "      <th>转发数</th>\n",
       "      <th>话题</th>\n",
       "      <th>@用户</th>\n",
       "    </tr>\n",
       "  </thead>\n",
       "  <tbody>\n",
       "    <tr>\n",
       "      <th>0</th>\n",
       "      <td>4575890014996178</td>\n",
       "      <td>JvQffkXJw</td>\n",
       "      <td>【#成都大学原党委书记溺亡调查结果公布#：未发现校长存在违纪违法行为】11月27日，成都市联...</td>\n",
       "      <td>NaN</td>\n",
       "      <td>https://wx2.sinaimg.cn/large/005YCmkAly1gl3qou...</td>\n",
       "      <td>NaN</td>\n",
       "      <td>NaN</td>\n",
       "      <td>2020-11-27</td>\n",
       "      <td>微博 weibo.com</td>\n",
       "      <td>167</td>\n",
       "      <td>103</td>\n",
       "      <td>29</td>\n",
       "      <td>成都大学原党委书记溺亡调查结果公布</td>\n",
       "      <td>NaN</td>\n",
       "    </tr>\n",
       "    <tr>\n",
       "      <th>1</th>\n",
       "      <td>4575885988468372</td>\n",
       "      <td>JvQ8Kzx0E</td>\n",
       "      <td>【四川省体育局：#川渝将共同申办2032年夏季奥运会#】11月27日，记者在四川省政府官网公...</td>\n",
       "      <td>NaN</td>\n",
       "      <td>https://wx1.sinaimg.cn/large/005YCmkAly1gl3qay...</td>\n",
       "      <td>NaN</td>\n",
       "      <td>NaN</td>\n",
       "      <td>2020-11-27</td>\n",
       "      <td>微博 weibo.com</td>\n",
       "      <td>733</td>\n",
       "      <td>153</td>\n",
       "      <td>57</td>\n",
       "      <td>川渝将共同申办2032年夏季奥运会</td>\n",
       "      <td>NaN</td>\n",
       "    </tr>\n",
       "    <tr>\n",
       "      <th>2</th>\n",
       "      <td>4575873098852591</td>\n",
       "      <td>JvPNXB8XJ</td>\n",
       "      <td>#武汉理工学生签联名信抵制王攀#【武汉理工学生发起联署活动：抵制陶崇园导师王攀恢复招研资格】...</td>\n",
       "      <td>NaN</td>\n",
       "      <td>https://wx1.sinaimg.cn/large/005YCmkAly1gl3oue...</td>\n",
       "      <td>NaN</td>\n",
       "      <td>NaN</td>\n",
       "      <td>2020-11-27</td>\n",
       "      <td>微博 weibo.com</td>\n",
       "      <td>1087</td>\n",
       "      <td>184</td>\n",
       "      <td>99</td>\n",
       "      <td>武汉理工学生签联名信抵制王攀,微博当事人</td>\n",
       "      <td>武汉理工大学,陶崇园姐姐</td>\n",
       "    </tr>\n",
       "    <tr>\n",
       "      <th>3</th>\n",
       "      <td>4575842108448536</td>\n",
       "      <td>JvOZYzrQI</td>\n",
       "      <td>#岛叔微评#【宿管阿姨感恩节分糖果遭威胁举报，怎么看？】#如何看待宿管感恩节送糖果遭威胁举报...</td>\n",
       "      <td>NaN</td>\n",
       "      <td>https://wx3.sinaimg.cn/large/005YCmkAly1gl3l8k...</td>\n",
       "      <td>NaN</td>\n",
       "      <td>NaN</td>\n",
       "      <td>2020-11-27</td>\n",
       "      <td>微博 weibo.com</td>\n",
       "      <td>9829</td>\n",
       "      <td>1299</td>\n",
       "      <td>730</td>\n",
       "      <td>岛叔微评,如何看待宿管感恩节送糖果遭威胁举报,洞见计划</td>\n",
       "      <td>NaN</td>\n",
       "    </tr>\n",
       "    <tr>\n",
       "      <th>4</th>\n",
       "      <td>4575835024264348</td>\n",
       "      <td>JvOOyhTlO</td>\n",
       "      <td>#基辛格被撤职#【美媒：特朗普政府又开展清洗 基辛格等多人突然被撤职】美媒26日消息称，美国...</td>\n",
       "      <td>NaN</td>\n",
       "      <td>https://wx1.sinaimg.cn/large/005YCmkAly1gl3k80...</td>\n",
       "      <td>NaN</td>\n",
       "      <td>NaN</td>\n",
       "      <td>2020-11-27</td>\n",
       "      <td>微博 weibo.com</td>\n",
       "      <td>657</td>\n",
       "      <td>147</td>\n",
       "      <td>31</td>\n",
       "      <td>基辛格被撤职</td>\n",
       "      <td>NaN</td>\n",
       "    </tr>\n",
       "    <tr>\n",
       "      <th>...</th>\n",
       "      <td>...</td>\n",
       "      <td>...</td>\n",
       "      <td>...</td>\n",
       "      <td>...</td>\n",
       "      <td>...</td>\n",
       "      <td>...</td>\n",
       "      <td>...</td>\n",
       "      <td>...</td>\n",
       "      <td>...</td>\n",
       "      <td>...</td>\n",
       "      <td>...</td>\n",
       "      <td>...</td>\n",
       "      <td>...</td>\n",
       "      <td>...</td>\n",
       "    </tr>\n",
       "    <tr>\n",
       "      <th>93</th>\n",
       "      <td>4573337450189233</td>\n",
       "      <td>JuLQd0Ne9</td>\n",
       "      <td>【#不孕被虐致死女子曾当街遭丈夫殴打# 死亡前一段时间曾打电话回家疑似求救】山东“女子因不孕...</td>\n",
       "      <td>NaN</td>\n",
       "      <td>NaN</td>\n",
       "      <td>http://f.video.weibocdn.com/0049KzMugx07I7QXot...</td>\n",
       "      <td>NaN</td>\n",
       "      <td>2020-11-20</td>\n",
       "      <td>微博 weibo.com</td>\n",
       "      <td>820</td>\n",
       "      <td>194</td>\n",
       "      <td>68</td>\n",
       "      <td>不孕被虐致死女子曾当街遭丈夫殴打</td>\n",
       "      <td>潇湘晨报</td>\n",
       "    </tr>\n",
       "    <tr>\n",
       "      <th>94</th>\n",
       "      <td>4573321038138309</td>\n",
       "      <td>JuLpJy993</td>\n",
       "      <td>【转发提醒家人！#千万要系安全带#】最近，广澳高速一小货车碰撞路面桥梁伸缩缝后，失控撞向一轿...</td>\n",
       "      <td>NaN</td>\n",
       "      <td>https://wx2.sinaimg.cn/large/005YCmkAly1gkvi4w...</td>\n",
       "      <td>NaN</td>\n",
       "      <td>NaN</td>\n",
       "      <td>2020-11-20</td>\n",
       "      <td>微博 weibo.com</td>\n",
       "      <td>771</td>\n",
       "      <td>163</td>\n",
       "      <td>145</td>\n",
       "      <td>千万要系安全带</td>\n",
       "      <td>中山交警</td>\n",
       "    </tr>\n",
       "    <tr>\n",
       "      <th>95</th>\n",
       "      <td>4573308035537815</td>\n",
       "      <td>JuL4LneDB</td>\n",
       "      <td>#岛叔微评#【#山东一女子因不孕遭婆家虐待致死#，亲属有权干预女性生育吗？】昨天，山东德州女...</td>\n",
       "      <td>NaN</td>\n",
       "      <td>https://wx2.sinaimg.cn/large/005YCmkAly1gkvi4j...</td>\n",
       "      <td>NaN</td>\n",
       "      <td>NaN</td>\n",
       "      <td>2020-11-20</td>\n",
       "      <td>微博 weibo.com</td>\n",
       "      <td>1465</td>\n",
       "      <td>288</td>\n",
       "      <td>63</td>\n",
       "      <td>岛叔微评,山东一女子因不孕遭婆家虐待致死</td>\n",
       "      <td>NaN</td>\n",
       "    </tr>\n",
       "    <tr>\n",
       "      <th>96</th>\n",
       "      <td>4573297926212804</td>\n",
       "      <td>JuKOsq4ew</td>\n",
       "      <td>【日澳拟签“准军事同盟”协定，历史教训忘了吗？】与几十年前美日签署防务协定时相比，今天的世界...</td>\n",
       "      <td>NaN</td>\n",
       "      <td>NaN</td>\n",
       "      <td>NaN</td>\n",
       "      <td>NaN</td>\n",
       "      <td>2020-11-20</td>\n",
       "      <td>微博 weibo.com</td>\n",
       "      <td>230</td>\n",
       "      <td>86</td>\n",
       "      <td>21</td>\n",
       "      <td>NaN</td>\n",
       "      <td>NaN</td>\n",
       "    </tr>\n",
       "    <tr>\n",
       "      <th>97</th>\n",
       "      <td>4573273948166408</td>\n",
       "      <td>JuKbMygsg</td>\n",
       "      <td>【蓬佩奥：美国已对中国卑躬屈膝40年，我们将沦为“中国的殖民地”】当地时间11月16日，为了...</td>\n",
       "      <td>NaN</td>\n",
       "      <td>https://wx2.sinaimg.cn/large/005YCmkAly1gkvec0...</td>\n",
       "      <td>NaN</td>\n",
       "      <td>NaN</td>\n",
       "      <td>2020-11-20</td>\n",
       "      <td>微博 weibo.com</td>\n",
       "      <td>1977</td>\n",
       "      <td>381</td>\n",
       "      <td>162</td>\n",
       "      <td>NaN</td>\n",
       "      <td>NaN</td>\n",
       "    </tr>\n",
       "  </tbody>\n",
       "</table>\n",
       "<p>98 rows × 14 columns</p>\n",
       "</div>"
      ],
      "text/plain": [
       "                  id        bid  \\\n",
       "0   4575890014996178  JvQffkXJw   \n",
       "1   4575885988468372  JvQ8Kzx0E   \n",
       "2   4575873098852591  JvPNXB8XJ   \n",
       "3   4575842108448536  JvOZYzrQI   \n",
       "4   4575835024264348  JvOOyhTlO   \n",
       "..               ...        ...   \n",
       "93  4573337450189233  JuLQd0Ne9   \n",
       "94  4573321038138309  JuLpJy993   \n",
       "95  4573308035537815  JuL4LneDB   \n",
       "96  4573297926212804  JuKOsq4ew   \n",
       "97  4573273948166408  JuKbMygsg   \n",
       "\n",
       "                                                   正文  头条文章url  \\\n",
       "0   【#成都大学原党委书记溺亡调查结果公布#：未发现校长存在违纪违法行为】11月27日，成都市联...      NaN   \n",
       "1   【四川省体育局：#川渝将共同申办2032年夏季奥运会#】11月27日，记者在四川省政府官网公...      NaN   \n",
       "2   #武汉理工学生签联名信抵制王攀#【武汉理工学生发起联署活动：抵制陶崇园导师王攀恢复招研资格】...      NaN   \n",
       "3   #岛叔微评#【宿管阿姨感恩节分糖果遭威胁举报，怎么看？】#如何看待宿管感恩节送糖果遭威胁举报...      NaN   \n",
       "4   #基辛格被撤职#【美媒：特朗普政府又开展清洗 基辛格等多人突然被撤职】美媒26日消息称，美国...      NaN   \n",
       "..                                                ...      ...   \n",
       "93  【#不孕被虐致死女子曾当街遭丈夫殴打# 死亡前一段时间曾打电话回家疑似求救】山东“女子因不孕...      NaN   \n",
       "94  【转发提醒家人！#千万要系安全带#】最近，广澳高速一小货车碰撞路面桥梁伸缩缝后，失控撞向一轿...      NaN   \n",
       "95  #岛叔微评#【#山东一女子因不孕遭婆家虐待致死#，亲属有权干预女性生育吗？】昨天，山东德州女...      NaN   \n",
       "96  【日澳拟签“准军事同盟”协定，历史教训忘了吗？】与几十年前美日签署防务协定时相比，今天的世界...      NaN   \n",
       "97  【蓬佩奥：美国已对中国卑躬屈膝40年，我们将沦为“中国的殖民地”】当地时间11月16日，为了...      NaN   \n",
       "\n",
       "                                              原始图片url  \\\n",
       "0   https://wx2.sinaimg.cn/large/005YCmkAly1gl3qou...   \n",
       "1   https://wx1.sinaimg.cn/large/005YCmkAly1gl3qay...   \n",
       "2   https://wx1.sinaimg.cn/large/005YCmkAly1gl3oue...   \n",
       "3   https://wx3.sinaimg.cn/large/005YCmkAly1gl3l8k...   \n",
       "4   https://wx1.sinaimg.cn/large/005YCmkAly1gl3k80...   \n",
       "..                                                ...   \n",
       "93                                                NaN   \n",
       "94  https://wx2.sinaimg.cn/large/005YCmkAly1gkvi4w...   \n",
       "95  https://wx2.sinaimg.cn/large/005YCmkAly1gkvi4j...   \n",
       "96                                                NaN   \n",
       "97  https://wx2.sinaimg.cn/large/005YCmkAly1gkvec0...   \n",
       "\n",
       "                                                视频url  位置          日期  \\\n",
       "0                                                 NaN NaN  2020-11-27   \n",
       "1                                                 NaN NaN  2020-11-27   \n",
       "2                                                 NaN NaN  2020-11-27   \n",
       "3                                                 NaN NaN  2020-11-27   \n",
       "4                                                 NaN NaN  2020-11-27   \n",
       "..                                                ...  ..         ...   \n",
       "93  http://f.video.weibocdn.com/0049KzMugx07I7QXot... NaN  2020-11-20   \n",
       "94                                                NaN NaN  2020-11-20   \n",
       "95                                                NaN NaN  2020-11-20   \n",
       "96                                                NaN NaN  2020-11-20   \n",
       "97                                                NaN NaN  2020-11-20   \n",
       "\n",
       "              工具   点赞数   评论数  转发数                           话题           @用户  \n",
       "0   微博 weibo.com   167   103   29            成都大学原党委书记溺亡调查结果公布           NaN  \n",
       "1   微博 weibo.com   733   153   57            川渝将共同申办2032年夏季奥运会           NaN  \n",
       "2   微博 weibo.com  1087   184   99         武汉理工学生签联名信抵制王攀,微博当事人  武汉理工大学,陶崇园姐姐  \n",
       "3   微博 weibo.com  9829  1299  730  岛叔微评,如何看待宿管感恩节送糖果遭威胁举报,洞见计划           NaN  \n",
       "4   微博 weibo.com   657   147   31                       基辛格被撤职           NaN  \n",
       "..           ...   ...   ...  ...                          ...           ...  \n",
       "93  微博 weibo.com   820   194   68             不孕被虐致死女子曾当街遭丈夫殴打          潇湘晨报  \n",
       "94  微博 weibo.com   771   163  145                      千万要系安全带          中山交警  \n",
       "95  微博 weibo.com  1465   288   63         岛叔微评,山东一女子因不孕遭婆家虐待致死           NaN  \n",
       "96  微博 weibo.com   230    86   21                          NaN           NaN  \n",
       "97  微博 weibo.com  1977   381  162                          NaN           NaN  \n",
       "\n",
       "[98 rows x 14 columns]"
      ]
     },
     "execution_count": 160,
     "metadata": {},
     "output_type": "execute_result"
    }
   ],
   "source": [
    "import pandas as pd\n",
    "\n",
    "csv1 = pd.read_csv('C:\\\\Users\\\\lll51\\\\Documents\\\\Python-Class\\\\01\\\\weibo\\\\weibo\\\\侠客岛\\\\5476386628.csv')\n",
    "\n",
    "csv1"
   ]
  },
  {
   "cell_type": "code",
   "execution_count": 166,
   "metadata": {},
   "outputs": [
    {
     "data": {
      "text/html": [
       "<div>\n",
       "<style scoped>\n",
       "    .dataframe tbody tr th:only-of-type {\n",
       "        vertical-align: middle;\n",
       "    }\n",
       "\n",
       "    .dataframe tbody tr th {\n",
       "        vertical-align: top;\n",
       "    }\n",
       "\n",
       "    .dataframe thead th {\n",
       "        text-align: right;\n",
       "    }\n",
       "</style>\n",
       "<table border=\"1\" class=\"dataframe\">\n",
       "  <thead>\n",
       "    <tr style=\"text-align: right;\">\n",
       "      <th></th>\n",
       "      <th>id</th>\n",
       "      <th>bid</th>\n",
       "      <th>正文</th>\n",
       "      <th>头条文章url</th>\n",
       "      <th>原始图片url</th>\n",
       "      <th>视频url</th>\n",
       "      <th>位置</th>\n",
       "      <th>日期</th>\n",
       "      <th>工具</th>\n",
       "      <th>点赞数</th>\n",
       "      <th>评论数</th>\n",
       "      <th>转发数</th>\n",
       "      <th>话题</th>\n",
       "      <th>@用户</th>\n",
       "    </tr>\n",
       "  </thead>\n",
       "  <tbody>\n",
       "    <tr>\n",
       "      <th>0</th>\n",
       "      <td>4575868003287236</td>\n",
       "      <td>JvPFKdN9W</td>\n",
       "      <td>马上入手了《Vader Immortal》星球大战三部曲！</td>\n",
       "      <td>NaN</td>\n",
       "      <td>https://wx3.sinaimg.cn/large/9a099b04gy1gl3oac...</td>\n",
       "      <td>NaN</td>\n",
       "      <td>NaN</td>\n",
       "      <td>2020-11-27</td>\n",
       "      <td>新版微博 weibo.com</td>\n",
       "      <td>3</td>\n",
       "      <td>0</td>\n",
       "      <td>0</td>\n",
       "      <td>NaN</td>\n",
       "      <td>NaN</td>\n",
       "    </tr>\n",
       "    <tr>\n",
       "      <th>1</th>\n",
       "      <td>4575860457734434</td>\n",
       "      <td>JvPtzws4W</td>\n",
       "      <td>Oculus Quest 黑五热卖开始！网页链接</td>\n",
       "      <td>NaN</td>\n",
       "      <td>https://wx2.sinaimg.cn/large/9a099b04gy1gl3nf9...</td>\n",
       "      <td>NaN</td>\n",
       "      <td>NaN</td>\n",
       "      <td>2020-11-27</td>\n",
       "      <td>新版微博 weibo.com</td>\n",
       "      <td>1</td>\n",
       "      <td>0</td>\n",
       "      <td>0</td>\n",
       "      <td>NaN</td>\n",
       "      <td>NaN</td>\n",
       "    </tr>\n",
       "    <tr>\n",
       "      <th>2</th>\n",
       "      <td>4575824365749398</td>\n",
       "      <td>JvOxmo7Ge</td>\n",
       "      <td> 部分开发者选择把 iPhone/iPad 软件撤离 Mac App Store（因为商业...</td>\n",
       "      <td>NaN</td>\n",
       "      <td>https://wx3.sinaimg.cn/large/9a099b04gy1gl3j8r...</td>\n",
       "      <td>NaN</td>\n",
       "      <td>NaN</td>\n",
       "      <td>2020-11-27</td>\n",
       "      <td>新版微博 weibo.com</td>\n",
       "      <td>2</td>\n",
       "      <td>2</td>\n",
       "      <td>0</td>\n",
       "      <td>NaN</td>\n",
       "      <td>NaN</td>\n",
       "    </tr>\n",
       "    <tr>\n",
       "      <th>3</th>\n",
       "      <td>4575819643487606</td>\n",
       "      <td>JvOpKeDhI</td>\n",
       "      <td> 今天原是收到新 MacBook Air 的最早日期（27日到下个月初）。但不知怎的，我已...</td>\n",
       "      <td>NaN</td>\n",
       "      <td>https://wx1.sinaimg.cn/large/9a099b04gy1gl3ipa...</td>\n",
       "      <td>NaN</td>\n",
       "      <td>NaN</td>\n",
       "      <td>2020-11-27</td>\n",
       "      <td>新版微博 weibo.com</td>\n",
       "      <td>11</td>\n",
       "      <td>16</td>\n",
       "      <td>11</td>\n",
       "      <td>NaN</td>\n",
       "      <td>NaN</td>\n",
       "    </tr>\n",
       "    <tr>\n",
       "      <th>4</th>\n",
       "      <td>4575812571111390</td>\n",
       "      <td>JvOel4F7E</td>\n",
       "      <td> 今年最影响生活方式的改变 - 是选择不再签约任何电信商的手机配套（可以以低价入手 iPh...</td>\n",
       "      <td>NaN</td>\n",
       "      <td>NaN</td>\n",
       "      <td>NaN</td>\n",
       "      <td>NaN</td>\n",
       "      <td>2020-11-27</td>\n",
       "      <td>新版微博 weibo.com</td>\n",
       "      <td>11</td>\n",
       "      <td>3</td>\n",
       "      <td>0</td>\n",
       "      <td>NaN</td>\n",
       "      <td>NaN</td>\n",
       "    </tr>\n",
       "    <tr>\n",
       "      <th>...</th>\n",
       "      <td>...</td>\n",
       "      <td>...</td>\n",
       "      <td>...</td>\n",
       "      <td>...</td>\n",
       "      <td>...</td>\n",
       "      <td>...</td>\n",
       "      <td>...</td>\n",
       "      <td>...</td>\n",
       "      <td>...</td>\n",
       "      <td>...</td>\n",
       "      <td>...</td>\n",
       "      <td>...</td>\n",
       "      <td>...</td>\n",
       "      <td>...</td>\n",
       "    </tr>\n",
       "    <tr>\n",
       "      <th>132</th>\n",
       "      <td>4573334739884308</td>\n",
       "      <td>JuLLPFtmk</td>\n",
       "      <td> 看到我们的小组件也出现了，但怀疑能顺利在 Mac 上运行。</td>\n",
       "      <td>NaN</td>\n",
       "      <td>https://wx4.sinaimg.cn/large/9a099b04gy1gkvlcn...</td>\n",
       "      <td>NaN</td>\n",
       "      <td>NaN</td>\n",
       "      <td>2020-11-20</td>\n",
       "      <td>iPhone客户端</td>\n",
       "      <td>6</td>\n",
       "      <td>16</td>\n",
       "      <td>1</td>\n",
       "      <td>NaN</td>\n",
       "      <td>NaN</td>\n",
       "    </tr>\n",
       "    <tr>\n",
       "      <th>133</th>\n",
       "      <td>4573334149268823</td>\n",
       "      <td>JuLKSCTf9</td>\n",
       "      <td> 要特地寻找 iPhone/iPad 软件才能找到（浏览不行），看来苹果当它们为兼容的原生...</td>\n",
       "      <td>NaN</td>\n",
       "      <td>https://wx3.sinaimg.cn/large/9a099b04gy1gkvla7...</td>\n",
       "      <td>NaN</td>\n",
       "      <td>NaN</td>\n",
       "      <td>2020-11-20</td>\n",
       "      <td>iPhone客户端</td>\n",
       "      <td>1</td>\n",
       "      <td>6</td>\n",
       "      <td>2</td>\n",
       "      <td>NaN</td>\n",
       "      <td>NaN</td>\n",
       "    </tr>\n",
       "    <tr>\n",
       "      <th>134</th>\n",
       "      <td>4573329899398156</td>\n",
       "      <td>JuLE1DqTa</td>\n",
       "      <td> 在苹果店试了下 M1 MacBook Air，流畅到不像 Mac。几乎每个动作都是立即的...</td>\n",
       "      <td>NaN</td>\n",
       "      <td>https://wx3.sinaimg.cn/large/9a099b04gy1gkvksn...</td>\n",
       "      <td>NaN</td>\n",
       "      <td>NaN</td>\n",
       "      <td>2020-11-20</td>\n",
       "      <td>iPhone客户端</td>\n",
       "      <td>11</td>\n",
       "      <td>25</td>\n",
       "      <td>0</td>\n",
       "      <td>NaN</td>\n",
       "      <td>NaN</td>\n",
       "    </tr>\n",
       "    <tr>\n",
       "      <th>135</th>\n",
       "      <td>4573271197227127</td>\n",
       "      <td>JuK7luk6z</td>\n",
       "      <td> 这里可以下载 M1 尝鲜版 Visual Studio Code：网页链接</td>\n",
       "      <td>NaN</td>\n",
       "      <td>https://wx2.sinaimg.cn/large/9a099b04gy1gkve1r...</td>\n",
       "      <td>NaN</td>\n",
       "      <td>NaN</td>\n",
       "      <td>2020-11-20</td>\n",
       "      <td>微博 weibo.com</td>\n",
       "      <td>6</td>\n",
       "      <td>4</td>\n",
       "      <td>3</td>\n",
       "      <td>NaN</td>\n",
       "      <td>NaN</td>\n",
       "    </tr>\n",
       "    <tr>\n",
       "      <th>136</th>\n",
       "      <td>4573267521965437</td>\n",
       "      <td>JuK1q8fiB</td>\n",
       "      <td> 多年来我用笔电的方式都一样：放在桌上当桌面电脑来用（一方面为其他设备充电，另一方面连接电...</td>\n",
       "      <td>NaN</td>\n",
       "      <td>NaN</td>\n",
       "      <td>NaN</td>\n",
       "      <td>NaN</td>\n",
       "      <td>2020-11-20</td>\n",
       "      <td>微博 weibo.com</td>\n",
       "      <td>9</td>\n",
       "      <td>15</td>\n",
       "      <td>3</td>\n",
       "      <td>NaN</td>\n",
       "      <td>NaN</td>\n",
       "    </tr>\n",
       "  </tbody>\n",
       "</table>\n",
       "<p>137 rows × 14 columns</p>\n",
       "</div>"
      ],
      "text/plain": [
       "                   id        bid  \\\n",
       "0    4575868003287236  JvPFKdN9W   \n",
       "1    4575860457734434  JvPtzws4W   \n",
       "2    4575824365749398  JvOxmo7Ge   \n",
       "3    4575819643487606  JvOpKeDhI   \n",
       "4    4575812571111390  JvOel4F7E   \n",
       "..                ...        ...   \n",
       "132  4573334739884308  JuLLPFtmk   \n",
       "133  4573334149268823  JuLKSCTf9   \n",
       "134  4573329899398156  JuLE1DqTa   \n",
       "135  4573271197227127  JuK7luk6z   \n",
       "136  4573267521965437  JuK1q8fiB   \n",
       "\n",
       "                                                    正文  头条文章url  \\\n",
       "0                       马上入手了《Vader Immortal》星球大战三部曲！       NaN   \n",
       "1                            Oculus Quest 黑五热卖开始！网页链接       NaN   \n",
       "2     部分开发者选择把 iPhone/iPad 软件撤离 Mac App Store（因为商业...      NaN   \n",
       "3     今天原是收到新 MacBook Air 的最早日期（27日到下个月初）。但不知怎的，我已...      NaN   \n",
       "4     今年最影响生活方式的改变 - 是选择不再签约任何电信商的手机配套（可以以低价入手 iPh...      NaN   \n",
       "..                                                 ...      ...   \n",
       "132                    看到我们的小组件也出现了，但怀疑能顺利在 Mac 上运行。       NaN   \n",
       "133   要特地寻找 iPhone/iPad 软件才能找到（浏览不行），看来苹果当它们为兼容的原生...      NaN   \n",
       "134   在苹果店试了下 M1 MacBook Air，流畅到不像 Mac。几乎每个动作都是立即的...      NaN   \n",
       "135            这里可以下载 M1 尝鲜版 Visual Studio Code：网页链接       NaN   \n",
       "136   多年来我用笔电的方式都一样：放在桌上当桌面电脑来用（一方面为其他设备充电，另一方面连接电...      NaN   \n",
       "\n",
       "                                               原始图片url 视频url  位置          日期  \\\n",
       "0    https://wx3.sinaimg.cn/large/9a099b04gy1gl3oac...   NaN NaN  2020-11-27   \n",
       "1    https://wx2.sinaimg.cn/large/9a099b04gy1gl3nf9...   NaN NaN  2020-11-27   \n",
       "2    https://wx3.sinaimg.cn/large/9a099b04gy1gl3j8r...   NaN NaN  2020-11-27   \n",
       "3    https://wx1.sinaimg.cn/large/9a099b04gy1gl3ipa...   NaN NaN  2020-11-27   \n",
       "4                                                  NaN   NaN NaN  2020-11-27   \n",
       "..                                                 ...   ...  ..         ...   \n",
       "132  https://wx4.sinaimg.cn/large/9a099b04gy1gkvlcn...   NaN NaN  2020-11-20   \n",
       "133  https://wx3.sinaimg.cn/large/9a099b04gy1gkvla7...   NaN NaN  2020-11-20   \n",
       "134  https://wx3.sinaimg.cn/large/9a099b04gy1gkvksn...   NaN NaN  2020-11-20   \n",
       "135  https://wx2.sinaimg.cn/large/9a099b04gy1gkve1r...   NaN NaN  2020-11-20   \n",
       "136                                                NaN   NaN NaN  2020-11-20   \n",
       "\n",
       "                 工具  点赞数  评论数  转发数  话题  @用户  \n",
       "0    新版微博 weibo.com    3    0    0 NaN  NaN  \n",
       "1    新版微博 weibo.com    1    0    0 NaN  NaN  \n",
       "2    新版微博 weibo.com    2    2    0 NaN  NaN  \n",
       "3    新版微博 weibo.com   11   16   11 NaN  NaN  \n",
       "4    新版微博 weibo.com   11    3    0 NaN  NaN  \n",
       "..              ...  ...  ...  ...  ..  ...  \n",
       "132       iPhone客户端    6   16    1 NaN  NaN  \n",
       "133       iPhone客户端    1    6    2 NaN  NaN  \n",
       "134       iPhone客户端   11   25    0 NaN  NaN  \n",
       "135    微博 weibo.com    6    4    3 NaN  NaN  \n",
       "136    微博 weibo.com    9   15    3 NaN  NaN  \n",
       "\n",
       "[137 rows x 14 columns]"
      ]
     },
     "execution_count": 166,
     "metadata": {},
     "output_type": "execute_result"
    }
   ],
   "source": [
    "import pandas as pd\n",
    "\n",
    "csv2 = pd.read_csv('C:\\\\Users\\\\lll51\\\\Documents\\\\Python-Class\\\\01\\\\weibo\\\\weibo\\\\林泰前\\\\2584320772.csv')\n",
    "\n",
    "csv2"
   ]
  },
  {
   "cell_type": "code",
   "execution_count": 53,
   "metadata": {},
   "outputs": [],
   "source": [
    "##学会使用别人写的爬虫\n",
    "\n",
    "# 下载好文件之后修改config.json代码中的user_id_list和since_date；\n",
    "# 打开bash/powershell，进入目录，执行代码。\n",
    "\n",
    "# % cd documents/“Python Class”/python-class-main/01/weibo\n",
    "# % python3 weibo.py\n",
    "# cd 带空格的文件夹，打“”引号。"
   ]
  },
  {
   "cell_type": "code",
   "execution_count": null,
   "metadata": {},
   "outputs": [],
   "source": [
    "#scrapy crawl douban -o movie_comments.csv \n",
    "#运行例子成功，csv中是乱码，可能是有设置没有改。"
   ]
  }
 ],
 "metadata": {
  "kernelspec": {
   "display_name": "Python 3",
   "language": "python",
   "name": "python3"
  },
  "language_info": {
   "codemirror_mode": {
    "name": "ipython",
    "version": 3
   },
   "file_extension": ".py",
   "mimetype": "text/x-python",
   "name": "python",
   "nbconvert_exporter": "python",
   "pygments_lexer": "ipython3",
   "version": "3.8.5"
  }
 },
 "nbformat": 4,
 "nbformat_minor": 4
}
