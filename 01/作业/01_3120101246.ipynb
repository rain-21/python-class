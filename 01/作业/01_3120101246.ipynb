{
 "cells": [
  {
   "cell_type": "code",
   "execution_count": 1,
   "metadata": {},
   "outputs": [
    {
     "name": "stdout",
     "output_type": "stream",
     "text": [
      "Name: Haagen-Dazs\n",
      "Location: New York\n",
      "Served customers: 0\n",
      "冰激凌有以下几种风味:\n",
      "奶油\n",
      "抹茶\n",
      "草莓\n",
      "巧克力\n",
      "香草\n",
      "The restaurant has served 78 guests.\n",
      "You can't roll back one customer!\n"
     ]
    }
   ],
   "source": [
    "class Restaurant:\n",
    "    def __init__(self,name,location):\n",
    "        self.name=name\n",
    "        self.location=location\n",
    "        self.served_customers=0\n",
    "\n",
    "    def get_description(self):\n",
    "        print(f\"Name: {self.name.title()}\")\n",
    "        print(f\"Location: {self.location.title()}\")\n",
    "        print(f\"Served customers: {self.served_customers}\")\n",
    "\n",
    "    def set_served_customers(self,customers):\n",
    "        if customers >= self.served_customers:\n",
    "            self.served_customers=customers\n",
    "            print(f\"The restaurant has served {self.served_customers} guests.\")\n",
    "        else:\n",
    "            print(\"You can't roll back one customer!\")\n",
    "\n",
    "    def add_served_customers(self,customers):\n",
    "        if customers >= 0:\n",
    "            self.served_customers += customers\n",
    "            print(f\"The restaurant has served {self.served_customers} guests.\")\n",
    "        else:\n",
    "            print(\"You can't roll back one customer!\")\n",
    "\n",
    "class IceCreamStand(Restaurant):\n",
    "    def __init__(self,name,location):\n",
    "        super().__init__(name,location)\n",
    "        self.flavors=[\"奶油\",\"抹茶\",\"草莓\",\"巧克力\",\"香草\"]\n",
    "\n",
    "    def get_IceCream_flavors(self):\n",
    "        print(\"冰激凌有以下几种风味:\")\n",
    "        for flavor in self.flavors:\n",
    "            print(flavor)\n",
    "\n",
    "haagen_dazs=IceCreamStand('HAAGEN-DAZS','new york')\n",
    "haagen_dazs.get_description()\n",
    "haagen_dazs.get_IceCream_flavors()\n",
    "haagen_dazs.set_served_customers(78)\n",
    "haagen_dazs.add_served_customers(-80)"
   ]
  },
  {
   "cell_type": "code",
   "execution_count": 2,
   "metadata": {},
   "outputs": [
    {
     "name": "stdout",
     "output_type": "stream",
     "text": [
      "Name: Zhan Qianli\n",
      "Age: 20\n",
      "Gender: Male\n",
      "Hello, Zhan Qianli\n",
      "Login Attempts = 1\n",
      "Login Attempts = 2\n",
      "Login Attempts = 0\n",
      "The user has the following permissions:\n",
      "Can Add Post\n",
      "Can Delete Post\n",
      "Can Ban User\n"
     ]
    }
   ],
   "source": [
    "class User:\n",
    "    def __init__(self,first_name,last_name,age,gender):\n",
    "        self.first_name = first_name.title()\n",
    "        self.last_name = last_name.title()\n",
    "        self.age = age\n",
    "        self.gender = gender.title()\n",
    "        self.login_attempts = 0\n",
    "\n",
    "    def describe_user(self):\n",
    "        print(f\"Name: {self.first_name} {self.last_name}\")\n",
    "        print(f\"Age: {self.age}\")\n",
    "        print(f\"Gender: {self.gender}\")\n",
    "    def greet_user(self):\n",
    "        print(f\"Hello, {self.first_name} {self.last_name}\")\n",
    "    def increment_login_attempts(self):\n",
    "        self.login_attempts += 1\n",
    "        print(f\"Login Attempts = {self.login_attempts}\")\n",
    "    def reset_login_attempts(self):\n",
    "        self.login_attempts = 0\n",
    "        print(f\"Login Attempts = {self.login_attempts}\")\n",
    "\n",
    "class Privileges():\n",
    "    def __init__(self):\n",
    "        self.privileges = ['Can add post','Can delete post','Can ban user']\n",
    "\n",
    "    def show_privileges(self):\n",
    "        print(\"The user has the following permissions:\")\n",
    "        for privilege in self.privileges:\n",
    "            print(privilege.title())\n",
    "\n",
    "class Admin(User):\n",
    "    def __init__(self,first_name,last_name,age,gender):\n",
    "        super().__init__(first_name,last_name,age,gender)\n",
    "        self.privileges = Privileges()\n",
    "\n",
    "\n",
    "admin_1 = Admin('zhan','qianli','20','male')\n",
    "admin_1.describe_user()\n",
    "admin_1.greet_user()\n",
    "admin_1.increment_login_attempts()\n",
    "admin_1.increment_login_attempts()\n",
    "admin_1.reset_login_attempts()\n",
    "admin_1.privileges.show_privileges()"
   ]
  },
  {
   "cell_type": "code",
   "execution_count": 3,
   "metadata": {},
   "outputs": [
    {
     "name": "stdout",
     "output_type": "stream",
     "text": [
      "Information: 2019 Tesla Model S\n",
      "This car has 0 miles on it.\n",
      "This car has 100 miles on it.\n",
      "You can't roll back an odometer!\n",
      "This car can go about 260 miles on a full charge.\n",
      "This car can go about 315 miles on a full charge.\n"
     ]
    }
   ],
   "source": [
    "class Car:\n",
    "    def __init__(self,make,model,year):\n",
    "        self.make = make\n",
    "        self.model = model\n",
    "        self.year = year\n",
    "        self.odometer = 0\n",
    "    def get_information(self):\n",
    "        long_name=f\"Information: {self.year} {self.make.title()} {self.model.title()}\"\n",
    "        print(long_name)\n",
    "        print(f\"This car has {self.odometer} miles on it.\")\n",
    "    def update_odometer(self,mileage):\n",
    "        if mileage >= self.odometer:\n",
    "            self.odometer = mileage\n",
    "            print(f\"This car has {self.odometer} miles on it.\")\n",
    "        else:\n",
    "            print(\"You can't roll back an odometer!\")\n",
    "    def increment_odometer(self,miles):\n",
    "        if miles >=0:\n",
    "            self.odometer += miles\n",
    "            print(f\"This car has {self.odometer} miles on it.\")\n",
    "        else:\n",
    "            print(\"You can't roll back an odometer!\")\n",
    "\n",
    "class Battery:\n",
    "    def __init__(self,battery_size=75):\n",
    "        self.battery_size = battery_size\n",
    "    def get_range(self):\n",
    "        if self.battery_size == 75:\n",
    "            range = 260\n",
    "        elif self.battery_size == 100:\n",
    "            range = 315\n",
    "        print(f\"This car can go about {range} miles on a full charge.\")\n",
    "    def upgrade_battery(self):\n",
    "        if self.battery_size != 100:\n",
    "            self.battery_size = 100\n",
    "\n",
    "class ElectricCar(Car):\n",
    "    def __init__(self,make,model,year):\n",
    "        super().__init__(make,model,year)\n",
    "        self.battery = Battery()\n",
    "\n",
    "my_car = ElectricCar('tesla','model s',2019)\n",
    "my_car.get_information()\n",
    "my_car.update_odometer(100)\n",
    "my_car.increment_odometer(-200)\n",
    "my_car.battery.get_range()\n",
    "my_car.battery.upgrade_battery()\n",
    "my_car.battery.get_range()"
   ]
  },
  {
   "cell_type": "code",
   "execution_count": 4,
   "metadata": {},
   "outputs": [
    {
     "name": "stdout",
     "output_type": "stream",
     "text": [
      "4\n",
      "14\n",
      "16\n",
      "9\n",
      "11\n",
      "1\n",
      "1\n",
      "16\n",
      "16\n",
      "4\n"
     ]
    }
   ],
   "source": [
    "from random import randint\n",
    "class Die:\n",
    "    def __init__(self,sides=6):\n",
    "        self.sides = sides\n",
    "    def roll_die(self):\n",
    "        number = randint(1,self.sides)\n",
    "        return number\n",
    "\n",
    "die_1 = Die(20)\n",
    "i = 1\n",
    "while i <= 10:\n",
    "    print(die_1.roll_die())\n",
    "    i += 1"
   ]
  },
  {
   "cell_type": "code",
   "execution_count": 5,
   "metadata": {},
   "outputs": [
    {
     "name": "stdout",
     "output_type": "stream",
     "text": [
      "Winning symbols are as follows:\n",
      "246\n",
      "15\n",
      "c\n",
      "55\n"
     ]
    }
   ],
   "source": [
    "from random import choice\n",
    "symbols = [15, 8, 36, 166, 246, 17, 11, 55, 6, 126, 'c', 'p', 'b', 't', 'k']\n",
    "i = 1\n",
    "winning_symbols = []\n",
    "while i <= 4:\n",
    "    key = choice(symbols)\n",
    "    winning_symbols.append(key)\n",
    "    symbols.remove(key)\n",
    "    i += 1\n",
    "print(\"Winning symbols are as follows:\")\n",
    "for winning_symbol in winning_symbols:\n",
    "    print(winning_symbol)"
   ]
  },
  {
   "cell_type": "code",
   "execution_count": 6,
   "metadata": {},
   "outputs": [
    {
     "name": "stdout",
     "output_type": "stream",
     "text": [
      "10\n"
     ]
    }
   ],
   "source": [
    "from random import choice\n",
    "symbols = [15, 8, 36, 166, 246, 17, 11, 55, 6, 126, 'c', 'p', 'y', 't', 'k']\n",
    "my_ticket = [126,17,11,'y']\n",
    "number_of_times = 0\n",
    "active = True\n",
    "while active:\n",
    "    i = 1\n",
    "    j = 0\n",
    "    winning_symbols = []\n",
    "    middle = symbols[:]\n",
    "    while i <= 4:\n",
    "        key = choice(middle)\n",
    "        winning_symbols.append(key)\n",
    "        middle.remove(key)\n",
    "        i += 1\n",
    "    for winning_symbol in winning_symbols:\n",
    "        if winning_symbol in my_ticket:\n",
    "            j += 1\n",
    "    if j == 4:\n",
    "        active = False\n",
    "    number_of_times += 1\n",
    "\n",
    "print(number_of_times)"
   ]
  },
  {
   "cell_type": "code",
   "execution_count": 1,
   "metadata": {},
   "outputs": [
    {
     "name": "stdout",
     "output_type": "stream",
     "text": [
      "Making a pizza with the following toppings:\n",
      "- mushrooms\n",
      "- green peppers\n",
      "- extra cheese\n"
     ]
    }
   ],
   "source": [
    "def make_pizza(*toppings):\n",
    "    print(\"Making a pizza with the following toppings:\")\n",
    "    for topping in toppings:\n",
    "        print(f\"- {topping}\")\n",
    "\n",
    "make_pizza('mushrooms','green peppers','extra cheese')"
   ]
  },
  {
   "cell_type": "code",
   "execution_count": 2,
   "metadata": {},
   "outputs": [
    {
     "name": "stdout",
     "output_type": "stream",
     "text": [
      "First_Name: Zhan\n",
      "Hobby: Delicacy\n",
      "Last_Name: Qianli\n",
      "Location: Qingyun\n"
     ]
    }
   ],
   "source": [
    "def build_profile(first,last,**user_info):\n",
    "    user_info['first_name']=first\n",
    "    user_info['last_name']=last\n",
    "    return user_info\n",
    "\n",
    "information=build_profile('zhan','qianli',location='qingyun',hobby='delicacy')\n",
    "for k,v in sorted(information.items()):\n",
    "    print(f\"{k.title()}: {v.title()}\")"
   ]
  },
  {
   "cell_type": "code",
   "execution_count": 3,
   "metadata": {},
   "outputs": [
    {
     "name": "stdout",
     "output_type": "stream",
     "text": [
      "Standing on the Shoulders of Giants\n",
      "Nothing is impossible\n",
      "Better late than never\n",
      "['Standing on the Shoulders of Giants', 'Nothing is impossible', 'Better late than never']\n"
     ]
    }
   ],
   "source": [
    "def send_messages(new_messages,copy_messages):\n",
    "    for message in new_messages:\n",
    "        copy_messages.append(message)\n",
    "        print(message)\n",
    "messages=['Standing on the Shoulders of Giants','Nothing is impossible','Better late than never']\n",
    "copy_messages=[]\n",
    "send_messages(messages,copy_messages)\n",
    "print(copy_messages)"
   ]
  },
  {
   "cell_type": "code",
   "execution_count": null,
   "metadata": {},
   "outputs": [],
   "source": []
  }
 ],
 "metadata": {
  "kernelspec": {
   "display_name": "Python 3",
   "language": "python",
   "name": "python3"
  },
  "language_info": {
   "codemirror_mode": {
    "name": "ipython",
    "version": 3
   },
   "file_extension": ".py",
   "mimetype": "text/x-python",
   "name": "python",
   "nbconvert_exporter": "python",
   "pygments_lexer": "ipython3",
   "version": "3.8.3"
  }
 },
 "nbformat": 4,
 "nbformat_minor": 4
}
