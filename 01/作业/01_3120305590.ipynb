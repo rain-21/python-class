{
 "cells": [
  {
   "cell_type": "code",
   "execution_count": 29,
   "metadata": {},
   "outputs": [
    {
     "name": "stdout",
     "output_type": "stream",
     "text": [
      "Hello World!\n",
      "I 'said' do touch this.\n",
      "I \"said\" do touch this.\n",
      "I'd like this.\n",
      "\n",
      "Hello World!\n",
      "\t Everyone,\n",
      "\t My name is Kermoci.\n",
      "\n",
      "I'd \\ like \\ this.\n"
     ]
    }
   ],
   "source": [
    "#打印输出\n",
    "print(\"Hello World!\")\n",
    "print(\"I 'said' do touch this.\")\n",
    "print('I \"said\" do touch this.')\n",
    "print(\"I'd like this.\")\n",
    "print(\"\"\"\n",
    "Hello World!\n",
    "\\t Everyone,\n",
    "\\t My name is Kermoci.\n",
    "\"\"\")\n",
    "print(\"I'd \\\\ like \\\\ this.\")"
   ]
  },
  {
   "cell_type": "code",
   "execution_count": 13,
   "metadata": {},
   "outputs": [
    {
     "name": "stdout",
     "output_type": "stream",
     "text": [
      "My English name is Kermoci.\n",
      "I hava Blue eyes and Yello hair.\n",
      "If I add {my_age}, and {my_weight} I get {total}.\n",
      "If I add 22, and 90 I get 112.\n"
     ]
    }
   ],
   "source": [
    "my_name = 'Kermoci'\n",
    "my_age = 22 \n",
    "my_weight = 90 \n",
    "my_eyes = 'Blue'\n",
    "my_teeth = 'White'\n",
    "my_hair = 'Yello'\n",
    "print(f\"My English name is {my_name}.\")\n",
    "print(f\"I hava {my_eyes} eyes and {my_hair} hair.\")\n",
    "total = my_age + my_weight\n",
    "print(\"If I add {my_age}, and {my_weight} I get {total}.\")\n",
    "print(f\"If I add {my_age}, and {my_weight} I get {total}.\")"
   ]
  },
  {
   "cell_type": "code",
   "execution_count": 16,
   "metadata": {},
   "outputs": [
    {
     "name": "stdout",
     "output_type": "stream",
     "text": [
      "This is a string with a right side.\n",
      "I said: There are 5 types of fruit.\n",
      "I also said: 'There are 10 types of people and 6 types of cooked food.'\n",
      "So there are 21 things.\n"
     ]
    }
   ],
   "source": [
    "a = \"This is \"\n",
    "b = \"a string with a right side.\"\n",
    "print(a + b)#字符串连接\n",
    "num1=5\n",
    "num2=10\n",
    "num3=6\n",
    "x=f\"There are {num1} types of fruit.\"\n",
    "y=f\"There are {num2} types of people and {num3} types of cooked food.\"\n",
    "\n",
    "print(f\"I said: {x}\")\n",
    "print(f\"I also said: '{y}'\")\n",
    "print(f\"So there are {num1+num2+num3} things.\")"
   ]
  },
  {
   "cell_type": "code",
   "execution_count": 21,
   "metadata": {},
   "outputs": [
    {
     "name": "stdout",
     "output_type": "stream",
     "text": [
      "Isn't that joke so funny? \n",
      "False\n",
      "Isn't that joke so funny? False\n",
      "Isn't that joke so funny? \n",
      "False\n"
     ]
    }
   ],
   "source": [
    "hilarious = False\n",
    "joke = \"Isn't that joke so funny? \\n{}\"\n",
    "print(joke.format(hilarious))\n",
    "print(\"Isn't that joke so funny? {}\".format(hilarious))\n",
    "print(\"Isn't that joke so funny? \\n{}\".format(hilarious))"
   ]
  },
  {
   "cell_type": "code",
   "execution_count": 25,
   "metadata": {},
   "outputs": [
    {
     "name": "stdout",
     "output_type": "stream",
     "text": [
      "Kermoci is good!\n"
     ]
    }
   ],
   "source": [
    "end1 = \"K\"\n",
    "end2 = \"e\"\n",
    "end3 = \"r\"\n",
    "end4 = \"m\"\n",
    "end5 = \"o\"\n",
    "end6 = \"c\"\n",
    "end7 = \"i\"\n",
    "end8=\"is\"\n",
    "end9=\"good\"\n",
    "\n",
    "print(end1 + end2 + end3 + end4 + end5 + end6+ end7, end=' ')\n",
    "print(end8 + \" \"+end9 + \"!\")"
   ]
  },
  {
   "cell_type": "code",
   "execution_count": 73,
   "metadata": {},
   "outputs": [
    {
     "name": "stdout",
     "output_type": "stream",
     "text": [
      "Where are you going?\n"
     ]
    },
    {
     "name": "stdin",
     "output_type": "stream",
     "text": [
      " u\n",
      "How old are you?  u\n",
      "Where are you going? u\n"
     ]
    },
    {
     "name": "stdout",
     "output_type": "stream",
     "text": [
      "So, you're u old, and you're going to u.\n"
     ]
    }
   ],
   "source": [
    "#输入\n",
    "print(\"Where are you going?\")\n",
    "age=input()\n",
    "age = input(\"How old are you? \")\n",
    "where=input(\"Where are you going?\")\n",
    "print(f\"So, you're {age} old, and you're going to {where}.\")"
   ]
  },
  {
   "cell_type": "code",
   "execution_count": 31,
   "metadata": {},
   "outputs": [],
   "source": [
    "#变量，数学计算\n",
    "a = b = c = 0"
   ]
  },
  {
   "cell_type": "code",
   "execution_count": 39,
   "metadata": {},
   "outputs": [
    {
     "data": {
      "text/plain": [
       "(0, 0, 0)"
      ]
     },
     "execution_count": 39,
     "metadata": {},
     "output_type": "execute_result"
    }
   ],
   "source": [
    "a,b,c"
   ]
  },
  {
   "cell_type": "code",
   "execution_count": 37,
   "metadata": {},
   "outputs": [
    {
     "name": "stdout",
     "output_type": "stream",
     "text": [
      "['False', 'None', 'True', 'and', 'as', 'assert', 'async', 'await', 'break', 'class', 'continue', 'def', 'del', 'elif', 'else', 'except', 'finally', 'for', 'from', 'global', 'if', 'import', 'in', 'is', 'lambda', 'nonlocal', 'not', 'or', 'pass', 'raise', 'return', 'try', 'while', 'with', 'yield']\n"
     ]
    }
   ],
   "source": [
    "import keyword\n",
    "print(keyword.kwlist)"
   ]
  },
  {
   "cell_type": "code",
   "execution_count": 53,
   "metadata": {},
   "outputs": [
    {
     "name": "stdout",
     "output_type": "stream",
     "text": [
      "3514.0\n",
      "45\n",
      "3.0\n"
     ]
    }
   ],
   "source": [
    "a=b=c=15\n",
    "d=3\n",
    "e=a*b*c-a/d+(a-d)**2\n",
    "print(e)\n",
    "print(a+b+c)\n",
    "\n",
    "e=10.5\n",
    "print(e//d)"
   ]
  },
  {
   "cell_type": "code",
   "execution_count": 67,
   "metadata": {},
   "outputs": [
    {
     "name": "stdout",
     "output_type": "stream",
     "text": [
      "复数：(2+3j)\n",
      "复数实部：2.0\n",
      "复数虚部：3.0\n",
      "共轭复数：(2-3j) \n"
     ]
    }
   ],
   "source": [
    "#复数\n",
    "aComplex=2+3j\n",
    "print(f\"复数：{aComplex}\\n复数实部：{aComplex.real}\\n复数虚部：{aComplex.imag }\\n共轭复数：{aComplex.conjugate()} \")"
   ]
  },
  {
   "cell_type": "code",
   "execution_count": 70,
   "metadata": {},
   "outputs": [
    {
     "name": "stdout",
     "output_type": "stream",
     "text": [
      "3.141592653589793 2.718281828459045\n",
      "100.0\n",
      "120\n",
      "20.085536923187668\n"
     ]
    }
   ],
   "source": [
    "import math\n",
    "print(math.pi,math.e)\n",
    "print(math.fabs(-100.0))\n",
    "print(math.factorial(5))\n",
    "print(math.exp(d))"
   ]
  },
  {
   "cell_type": "code",
   "execution_count": 17,
   "metadata": {},
   "outputs": [
    {
     "name": "stdout",
     "output_type": "stream",
     "text": [
      "over\n"
     ]
    }
   ],
   "source": [
    "#文件操作\n",
    "import csv\n",
    "stu=['name','num']\n",
    "stu1=['徐意菲',2]\n",
    "stu2 = ['bob',23]\n",
    "file=open(\"xyf0.csv\",\"w\",newline='')\n",
    "csv_write = csv.writer(file,dialect='excel')#设定写入模式\n",
    "csv_write.writerow(stu)\n",
    "csv_write.writerow(stu1)\n",
    "csv_write.writerow(stu2)\n",
    "print(\"over\")\n"
   ]
  },
  {
   "cell_type": "code",
   "execution_count": 18,
   "metadata": {},
   "outputs": [
    {
     "data": {
      "text/html": [
       "<div>\n",
       "<style scoped>\n",
       "    .dataframe tbody tr th:only-of-type {\n",
       "        vertical-align: middle;\n",
       "    }\n",
       "\n",
       "    .dataframe tbody tr th {\n",
       "        vertical-align: top;\n",
       "    }\n",
       "\n",
       "    .dataframe thead th {\n",
       "        text-align: right;\n",
       "    }\n",
       "</style>\n",
       "<table border=\"1\" class=\"dataframe\">\n",
       "  <thead>\n",
       "    <tr style=\"text-align: right;\">\n",
       "      <th></th>\n",
       "      <th>name</th>\n",
       "      <th>num</th>\n",
       "    </tr>\n",
       "  </thead>\n",
       "  <tbody>\n",
       "    <tr>\n",
       "      <th>0</th>\n",
       "      <td>徐意菲</td>\n",
       "      <td>2</td>\n",
       "    </tr>\n",
       "    <tr>\n",
       "      <th>1</th>\n",
       "      <td>bob</td>\n",
       "      <td>23</td>\n",
       "    </tr>\n",
       "  </tbody>\n",
       "</table>\n",
       "</div>"
      ],
      "text/plain": [
       "  name  num\n",
       "0  徐意菲    2\n",
       "1  bob   23"
      ]
     },
     "execution_count": 18,
     "metadata": {},
     "output_type": "execute_result"
    }
   ],
   "source": [
    "import pandas as pd\n",
    "csv = pd.read_csv('xyf0.csv',encoding='gb18030')\n",
    "csv"
   ]
  },
  {
   "cell_type": "code",
   "execution_count": null,
   "metadata": {},
   "outputs": [],
   "source": []
  }
 ],
 "metadata": {
  "kernelspec": {
   "display_name": "Python 3",
   "language": "python",
   "name": "python3"
  },
  "language_info": {
   "codemirror_mode": {
    "name": "ipython",
    "version": 3
   },
   "file_extension": ".py",
   "mimetype": "text/x-python",
   "name": "python",
   "nbconvert_exporter": "python",
   "pygments_lexer": "ipython3",
   "version": "3.7.3"
  }
 },
 "nbformat": 4,
 "nbformat_minor": 4
}
