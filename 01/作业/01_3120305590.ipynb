{
 "cells": [
  {
   "cell_type": "code",
   "execution_count": 95,
   "metadata": {},
   "outputs": [
    {
     "name": "stdout",
     "output_type": "stream",
     "text": [
      "1,0.5\n",
      "hello\n",
      "Hello World!\n",
      "I 'said' do touch this.\n",
      "I \"said\" do touch this.\n",
      "I \"said\" do touch this.\n",
      "\n",
      "I \"said\" do touch this.end=\"-\"\n",
      "I'd like this.\n",
      "\n",
      "Hello World!\n",
      "\t Everyone,\n",
      "\t My name is Kermoci.\n",
      "\n",
      "I'd \\ like \\ this.\n"
     ]
    }
   ],
   "source": [
    "#打印输出\n",
    "print(1,end=\",\")\n",
    "print(1/2)\n",
    "print(\"hello\")\n",
    "print(\"Hello World!\")\n",
    "print(\"I 'said' do touch this.\")\n",
    "print('I \"said\" do touch this.')\n",
    "print('I \"said\" do touch this.\\n')\n",
    "print('I \"said\" do touch this.end=\"-\"')\n",
    "print(\"I'd like this.\")\n",
    "print(\"\"\"\n",
    "Hello World!\n",
    "\\t Everyone,\n",
    "\\t My name is Kermoci.\n",
    "\"\"\")\n",
    "print(\"I'd \\\\ like \\\\ this.\")"
   ]
  },
  {
   "cell_type": "code",
   "execution_count": 11,
   "metadata": {},
   "outputs": [
    {
     "name": "stdout",
     "output_type": "stream",
     "text": [
      "Here are the days:  Mon,Tue,Wed,Thu,Fri,Sat,Sun\n",
      "Here are the months:  Jan\n",
      "Feb\n",
      "Mar\n",
      "Apr\n",
      "May\n",
      "Jun\n",
      "Jul\n",
      "Aug\n",
      "Here are the days and months:  Mon,Tue,Wed,Thu,Fri,Sat,Sun Jan\n",
      "Feb\n",
      "Mar\n",
      "Apr\n",
      "May\n",
      "Jun\n",
      "Jul\n",
      "Aug\n",
      "\n",
      "There's something going on here.\n",
      "With the three double-quotes.\n",
      "We'll be able to type as much as we like.\n",
      "Even 4 lines if we want, or 5, or 6.\n",
      "\n"
     ]
    }
   ],
   "source": [
    "days = \"Mon,Tue,Wed,Thu,Fri,Sat,Sun\"\n",
    "months = \"Jan\\nFeb\\nMar\\nApr\\nMay\\nJun\\nJul\\nAug\"\n",
    "\n",
    "print(\"Here are the days: \", days)\n",
    "print(\"Here are the months: \", months)\n",
    "print(\"Here are the days and months: \",days,months)\n",
    "\n",
    "print(\"\"\"\n",
    "There's something going on here.\n",
    "With the three double-quotes.\n",
    "We'll be able to type as much as we like.\n",
    "Even 4 lines if we want, or 5, or 6.\n",
    "\"\"\")"
   ]
  },
  {
   "cell_type": "code",
   "execution_count": 4,
   "metadata": {},
   "outputs": [
    {
     "name": "stdout",
     "output_type": "stream",
     "text": [
      "My English name is Kermoci.\n",
      "I hava Blue eyes and Yello hair.\n",
      "If I add {my_age}, and {my_weight} I get {total}.\n",
      "If I add 22, and 90 I get 112.\n"
     ]
    }
   ],
   "source": [
    "my_name = 'Kermoci'\n",
    "my_age = 22 \n",
    "my_weight = 90 \n",
    "my_eyes = 'Blue'\n",
    "my_teeth = 'White'\n",
    "my_hair = 'Yello'\n",
    "print(f\"My English name is {my_name}.\")\n",
    "print(f\"I hava {my_eyes} eyes and {my_hair} hair.\")\n",
    "total = my_age + my_weight\n",
    "print(\"If I add {my_age}, and {my_weight} I get {total}.\")\n",
    "print(f\"If I add {my_age}, and {my_weight} I get {total}.\")"
   ]
  },
  {
   "cell_type": "code",
   "execution_count": 5,
   "metadata": {},
   "outputs": [
    {
     "name": "stdout",
     "output_type": "stream",
     "text": [
      "This is a string with a right side.\n",
      "I said: There are 5 types of fruit.\n",
      "I also said: 'There are 10 types of people and 6 types of cooked food.'\n",
      "So there are 21 things.\n"
     ]
    }
   ],
   "source": [
    "a = \"This is \"\n",
    "b = \"a string with a right side.\"\n",
    "print(a + b)#字符串连接\n",
    "num1=5\n",
    "num2=10\n",
    "num3=6\n",
    "x=f\"There are {num1} types of fruit.\"\n",
    "y=f\"There are {num2} types of people and {num3} types of cooked food.\"\n",
    "\n",
    "print(f\"I said: {x}\")\n",
    "print(f\"I also said: '{y}'\")\n",
    "print(f\"So there are {num1+num2+num3} things.\")"
   ]
  },
  {
   "cell_type": "code",
   "execution_count": 6,
   "metadata": {},
   "outputs": [
    {
     "name": "stdout",
     "output_type": "stream",
     "text": [
      "Isn't that joke so funny? \n",
      "False\n",
      "Isn't that joke so funny? False\n",
      "Isn't that joke so funny? \n",
      "False\n"
     ]
    }
   ],
   "source": [
    "hilarious = False\n",
    "joke = \"Isn't that joke so funny? \\n{}\"\n",
    "print(joke.format(hilarious))\n",
    "print(\"Isn't that joke so funny? {}\".format(hilarious))\n",
    "print(\"Isn't that joke so funny? \\n{}\".format(hilarious))"
   ]
  },
  {
   "cell_type": "code",
   "execution_count": 7,
   "metadata": {},
   "outputs": [
    {
     "name": "stdout",
     "output_type": "stream",
     "text": [
      "Kermoci is good!\n"
     ]
    }
   ],
   "source": [
    "end1 = \"K\"\n",
    "end2 = \"e\"\n",
    "end3 = \"r\"\n",
    "end4 = \"m\"\n",
    "end5 = \"o\"\n",
    "end6 = \"c\"\n",
    "end7 = \"i\"\n",
    "end8=\"is\"\n",
    "end9=\"good\"\n",
    "\n",
    "print(end1 + end2 + end3 + end4 + end5 + end6+ end7, end=' ')\n",
    "print(end8 + \" \"+end9 + \"!\")"
   ]
  },
  {
   "cell_type": "code",
   "execution_count": 8,
   "metadata": {},
   "outputs": [
    {
     "name": "stdout",
     "output_type": "stream",
     "text": [
      "Where are you going?\n",
      "school\n",
      "How old are you? 13\n",
      "Where are you going?home\n",
      "So, you're 13 old, and you're going to home.\n"
     ]
    }
   ],
   "source": [
    "#输入\n",
    "print(\"Where are you going?\")\n",
    "age=input()\n",
    "age = input(\"How old are you? \")\n",
    "where=input(\"Where are you going?\")\n",
    "print(f\"So, you're {age} old, and you're going to {where}.\")"
   ]
  },
  {
   "cell_type": "code",
   "execution_count": 13,
   "metadata": {},
   "outputs": [
    {
     "name": "stdout",
     "output_type": "stream",
     "text": [
      "Please give a number:1\n",
      "Please give a number:2\n"
     ]
    }
   ],
   "source": [
    "a=input('Please give a number:')\n",
    "a_input=int(a)\n",
    "a_input=int(input('Please give a number:'))#return a string,转换为数字"
   ]
  },
  {
   "cell_type": "code",
   "execution_count": 7,
   "metadata": {},
   "outputs": [
    {
     "name": "stdout",
     "output_type": "stream",
     "text": [
      "请输入你的姓名:  徐意菲\n",
      "请输入你的年龄：  20\n",
      "你已经成年!\n"
     ]
    }
   ],
   "source": [
    "inp = input(\"请输入你的姓名:  \")\n",
    "if inp == \"\":    \n",
    "    inp = input(\"姓名不能为空，请重新输入:  \")\n",
    "age = input(\"请输入你的年龄：  \")\n",
    "age = int(age)   # 将字符串转化为整数\n",
    "if age > 18:\n",
    "    print(\"你已经成年!\")\n",
    "else:\n",
    "    print(\"还未成年？\")"
   ]
  },
  {
   "cell_type": "code",
   "execution_count": 8,
   "metadata": {},
   "outputs": [
    {
     "name": "stdout",
     "output_type": "stream",
     "text": [
      "请输入你的姓名:       *徐意菲*\n",
      "*徐意菲*\n"
     ]
    }
   ],
   "source": [
    "inp = input(\"请输入你的姓名:  \")\n",
    "inp = inp.strip()  \n",
    "print(inp)"
   ]
  },
  {
   "cell_type": "code",
   "execution_count": 72,
   "metadata": {},
   "outputs": [
    {
     "name": "stdout",
     "output_type": "stream",
     "text": [
      "a + b= 33\n",
      "a - b= 13\n",
      "a * b= 230\n",
      "a / b= 2.3\n",
      "a % b= 3\n",
      "56.0\n"
     ]
    }
   ],
   "source": [
    "a = 23\n",
    "b = 10\n",
    "c = 0\n",
    "print('a + b=', a + b)  # a + b= 33\n",
    "print('a - b=', a - b)  # a - b= 13\n",
    "print('a * b=', a * b)  # a * b= 230\n",
    "print('a / b=', a / b)  # a / b= 2.3\n",
    "print('a % b=', a % b,end=\"\\n\")  # a % b= 3\n",
    "c = a + b / b * a + b  \n",
    "print(c)  # 56.0"
   ]
  },
  {
   "cell_type": "code",
   "execution_count": 73,
   "metadata": {},
   "outputs": [
    {
     "name": "stdout",
     "output_type": "stream",
     "text": [
      "a ** b = 8\n",
      "a // b = 2\n"
     ]
    }
   ],
   "source": [
    "# 修改变量 a 、b 、c\n",
    "a = 2\n",
    "b = 3\n",
    "c = a ** b\n",
    "print(\"a ** b =\", c)  # a ** b = 8\n",
    "\n",
    "a = 10\n",
    "b = 5\n",
    "c = a // b\n",
    "print(\"a // b =\", c)  # a // b = 2"
   ]
  },
  {
   "cell_type": "code",
   "execution_count": 38,
   "metadata": {},
   "outputs": [
    {
     "name": "stdout",
     "output_type": "stream",
     "text": [
      "0 2\n",
      "0 0 0\n",
      "0 1\n"
     ]
    }
   ],
   "source": [
    "#变量，数学计算\n",
    "a=0\n",
    "b=2\n",
    "print(a,b)\n",
    "a = b = c = 0\n",
    "a,b,c\n",
    "print(a,b,c)\n",
    "a,b=0,1\n",
    "print(a,b)"
   ]
  },
  {
   "cell_type": "code",
   "execution_count": 83,
   "metadata": {},
   "outputs": [
    {
     "name": "stdout",
     "output_type": "stream",
     "text": [
      "3514.0\n",
      "3529.0\n",
      "45\n",
      "3.0\n"
     ]
    }
   ],
   "source": [
    "a=b=c=15\n",
    "d=3\n",
    "e=a*b*c-a/d+(a-d)**2\n",
    "print(e)\n",
    "print(e+a)\n",
    "print(a+b+c)\n",
    "\n",
    "e=10.5\n",
    "print(e//d)"
   ]
  },
  {
   "cell_type": "code",
   "execution_count": 77,
   "metadata": {},
   "outputs": [
    {
     "name": "stdout",
     "output_type": "stream",
     "text": [
      "a == b为 False\n",
      "a != b为 True\n",
      "a > b为 True\n",
      "a < b为 False\n",
      "a >= b为 True\n",
      "a <= b为 False\n",
      "----------------\n",
      "a == b and b>c 为 False\n",
      "a > b or c>=b 为 True\n",
      "a < b and c>=b 为 True\n",
      "a <= b and not a<b为 True\n",
      "a > b 为 True\n",
      "not a > b 为 False\n",
      "a <= b and not a<b为 False\n"
     ]
    }
   ],
   "source": [
    "a = 23\n",
    "b = 10\n",
    "c = 0\n",
    "#比较运算符\n",
    "print('a == b为', a == b)  # False\n",
    "print('a != b为', a != b)  # True\n",
    "print('a > b为', a > b)  # True\n",
    "print('a < b为', a < b)  # False\n",
    "print('a >= b为', a >= b)  # True\n",
    "print('a <= b为', a <= b)  # False\n",
    "print(\"----------------\")\n",
    "#逻辑运算符\n",
    "a = 23\n",
    "b = 10\n",
    "c = 30\n",
    "print('a == b and b>c 为', a == b and b > c)  # False\n",
    "print('a > b or c>=b 为', a > b or c >= b)  # True\n",
    "print('a < b and c>=b 为', a < b or c >= b)  # True\n",
    "print('a <= b and not a<b为', a >= b and a > b)  # True\n",
    "print('a > b 为', a > b)  # True\n",
    "print('not a > b 为', not a > b)  # False\n",
    "print('a <= b and not a<b为', a >= b and not a > b)  # False"
   ]
  },
  {
   "cell_type": "code",
   "execution_count": 81,
   "metadata": {},
   "outputs": [
    {
     "name": "stdout",
     "output_type": "stream",
     "text": [
      "[1, 2] [1, 2]\n",
      "True\n",
      "True\n",
      "False\n"
     ]
    }
   ],
   "source": [
    "a = b = [1, 2]\n",
    "c = [1, 2]\n",
    "print(a,c)\n",
    "#is 比较的是id，== 比较的是type 和 value\n",
    "print(a == c)  # True\n",
    "print(a is b)  # True\n",
    "print(a is c)  # False"
   ]
  },
  {
   "cell_type": "code",
   "execution_count": 82,
   "metadata": {},
   "outputs": [
    {
     "name": "stdout",
     "output_type": "stream",
     "text": [
      "True\n",
      "False\n",
      "True\n",
      "True\n",
      "True\n"
     ]
    }
   ],
   "source": [
    "x = 100\n",
    "y = 100\n",
    "print(x is y)  # True\n",
    "i = 257\n",
    "j = 257\n",
    "print(i is j)  \n",
    "s = 'abc'\n",
    "r = 'abc'\n",
    "print(s is r)  # True\n",
    "\n",
    "# 可用于判定变量的类型\n",
    "print(type(x) is int)  # True\n",
    "print(type(s) is str)  # True"
   ]
  },
  {
   "cell_type": "code",
   "execution_count": 64,
   "metadata": {},
   "outputs": [
    {
     "name": "stdout",
     "output_type": "stream",
     "text": [
      "复数：(2+3j)\n",
      "复数实部：2.0\n",
      "复数虚部：3.0\n",
      "共轭复数：(2-3j) \n",
      "******\n",
      "    复数：(2-3j)\n",
      "\n",
      "    复数实部：2.0\n",
      "\n",
      "    复数虚部：-3.0\n",
      "\n",
      "    共轭复数：(2+3j) \n"
     ]
    }
   ],
   "source": [
    "#复数\n",
    "aComplex=2+3j\n",
    "print(f\"复数：{aComplex}\\n复数实部：{aComplex.real}\\n复数虚部：{aComplex.imag }\\n共轭复数：{aComplex.conjugate()} \")\n",
    "print(\"******\")\n",
    "bComplex=2-3j\n",
    "print(f\"\"\"    复数：{bComplex}\\n\n",
    "    复数实部：{bComplex.real}\\n\n",
    "    复数虚部：{bComplex.imag }\\n\n",
    "    共轭复数：{bComplex.conjugate()} \"\"\")"
   ]
  },
  {
   "cell_type": "code",
   "execution_count": 57,
   "metadata": {},
   "outputs": [
    {
     "name": "stdout",
     "output_type": "stream",
     "text": [
      "['False', 'None', 'True', 'and', 'as', 'assert', 'async', 'await', 'break', 'class', 'continue', 'def', 'del', 'elif', 'else', 'except', 'finally', 'for', 'from', 'global', 'if', 'import', 'in', 'is', 'lambda', 'nonlocal', 'not', 'or', 'pass', 'raise', 'return', 'try', 'while', 'with', 'yield']\n"
     ]
    }
   ],
   "source": [
    "import keyword\n",
    "print(keyword.kwlist)"
   ]
  },
  {
   "cell_type": "code",
   "execution_count": 16,
   "metadata": {},
   "outputs": [
    {
     "name": "stdout",
     "output_type": "stream",
     "text": [
      "3.141592653589793 2.718281828459045\n",
      "常量 PI 的值近似为 3.142。\n",
      "100.0\n",
      "120\n",
      "20.085536923187668\n",
      "6\n"
     ]
    }
   ],
   "source": [
    "import math\n",
    "print(math.pi,math.e)\n",
    "print('常量 PI 的值近似为 {0:.3f}。'.format(math.pi))\n",
    "print(math.fabs(-100.0))\n",
    "print(math.factorial(5))\n",
    "print(math.exp(d))\n",
    "print(math.factorial(d))"
   ]
  },
  {
   "cell_type": "code",
   "execution_count": 35,
   "metadata": {},
   "outputs": [
    {
     "name": "stdout",
     "output_type": "stream",
     "text": [
      "3,5,-8,-4\n",
      "2.0\n",
      "-2.0\n",
      "2.0\n",
      "2,20\n",
      "0.47712125471966244\n"
     ]
    }
   ],
   "source": [
    "#取大于等于x的最小的整数值，如果x是一个整数，则返回x\n",
    "print(math.ceil(d),end=\",\")\n",
    "print(math.ceil(4.99),end=\",\")\n",
    "print(math.ceil(-8.99),end=\",\")\n",
    "print(math.ceil(-4.01))\n",
    "#把y的正负号加到x前面，可以使用0\n",
    "print(math.copysign(2,3))\n",
    "print(math.copysign(2,-3))\n",
    "print(math.copysign(-2,3))\n",
    "#返回x和y的最大公约数\n",
    "print(math.gcd(8,6),end=\",\")\n",
    "print(math.gcd(40,20))\n",
    "#返回x的以10为底的对数\n",
    "print(math.log10(d))"
   ]
  },
  {
   "cell_type": "code",
   "execution_count": 86,
   "metadata": {},
   "outputs": [
    {
     "name": "stdout",
     "output_type": "stream",
     "text": [
      "time.struct_time(tm_year=2020, tm_mon=12, tm_mday=16, tm_hour=18, tm_min=59, tm_sec=7, tm_wday=2, tm_yday=351, tm_isdst=0)\n",
      "1608116347.0972157\n",
      "time.struct_time(tm_year=2020, tm_mon=12, tm_mday=16, tm_hour=18, tm_min=59, tm_sec=7, tm_wday=2, tm_yday=351, tm_isdst=0)\n"
     ]
    }
   ],
   "source": [
    "import time as t #输出当前时间\n",
    "print(t.localtime())\n",
    "from time import time,localtime#可以直接输出\n",
    "from time import *\n",
    "print(time())\n",
    "print(localtime())"
   ]
  },
  {
   "cell_type": "code",
   "execution_count": 3,
   "metadata": {},
   "outputs": [
    {
     "name": "stdout",
     "output_type": "stream",
     "text": [
      "[(1, 4), (2, 5), (3, 6)]\n",
      "0.5 8\n",
      "1.0 10\n",
      "1.5 12\n"
     ]
    },
    {
     "data": {
      "text/plain": [
       "5"
      ]
     },
     "execution_count": 3,
     "metadata": {},
     "output_type": "execute_result"
    }
   ],
   "source": [
    "#zip\n",
    "a=[1,2,3]\n",
    "b=[4,5,6]\n",
    "print(list(zip(a,b)))\n",
    "for i,j in zip(a,b):\n",
    "    print(i/2,j*2)\n",
    "#lambda方程\n",
    "fun2=lambda x,y:x+y\n",
    "fun2(2,3)"
   ]
  },
  {
   "cell_type": "code",
   "execution_count": 66,
   "metadata": {},
   "outputs": [
    {
     "name": "stdout",
     "output_type": "stream",
     "text": [
      "1,3,5,7,9,11,13,15,17,19,21,23,25,27,29,31,33,35,37,39,41,43,45,47,49,51,53,55,57,59,61,63,65,67,69,71,73,75,77,79,81,83,85,87,89,91,93,95,97,99,"
     ]
    }
   ],
   "source": [
    "# 输出1-100之间所有奇数\n",
    "num = 0\n",
    "while num<100:\n",
    "    num = num + 1\n",
    "    if num%2 ==0:\n",
    "        continue\n",
    "    print(num,end=\",\")"
   ]
  },
  {
   "cell_type": "code",
   "execution_count": 69,
   "metadata": {},
   "outputs": [
    {
     "name": "stdout",
     "output_type": "stream",
     "text": [
      "1\n",
      "2\n",
      "3\n",
      "4\n",
      "5\n",
      "6\n",
      "7\n",
      "8\n",
      "9\n",
      "10\n",
      "___________________\n",
      "当前数字是 1\n",
      "现在数字变成了： 2\n",
      "当前数字是 2\n",
      "现在数字变成了： 3\n",
      "当前数字是 3\n",
      "现在数字变成了： 4\n",
      "当前数字是 4\n",
      "现在数字变成了： 5\n",
      "当前数字是 5\n"
     ]
    }
   ],
   "source": [
    "# 循环输出1-10所有整数\n",
    "num = 1\n",
    "while num <11:\n",
    "    print(num)\n",
    "    num = num +1\n",
    "    \n",
    "print(\"___________________\")\n",
    "num = 1\n",
    "while num <11:\n",
    "    print(\"当前数字是\",num)\n",
    "    if num == 5 :\n",
    "        break\n",
    "    num = num +1\n",
    "    print(\"现在数字变成了：\",num)"
   ]
  },
  {
   "cell_type": "code",
   "execution_count": 46,
   "metadata": {},
   "outputs": [
    {
     "name": "stdout",
     "output_type": "stream",
     "text": [
      "over\n"
     ]
    }
   ],
   "source": [
    "#文件操作\n",
    "import csv\n",
    "stu=['name','num']\n",
    "stu1=['徐意菲',2]\n",
    "stu2 = ['bob',23]\n",
    "stu3 = ['li',22]\n",
    "stu4 = ['kermoci',23]\n",
    "file=open(\"xyf0.csv\",\"w\",newline='')\n",
    "csv_write = csv.writer(file,dialect='excel')#设定写入模式\n",
    "csv_write.writerow(stu)\n",
    "csv_write.writerow(stu1)\n",
    "csv_write.writerow(stu2)\n",
    "csv_write.writerow(stu3)\n",
    "csv_write.writerow(stu4)\n",
    "print(\"over\")\n",
    "file.close()\n"
   ]
  },
  {
   "cell_type": "code",
   "execution_count": 47,
   "metadata": {},
   "outputs": [
    {
     "data": {
      "text/html": [
       "<div>\n",
       "<style scoped>\n",
       "    .dataframe tbody tr th:only-of-type {\n",
       "        vertical-align: middle;\n",
       "    }\n",
       "\n",
       "    .dataframe tbody tr th {\n",
       "        vertical-align: top;\n",
       "    }\n",
       "\n",
       "    .dataframe thead th {\n",
       "        text-align: right;\n",
       "    }\n",
       "</style>\n",
       "<table border=\"1\" class=\"dataframe\">\n",
       "  <thead>\n",
       "    <tr style=\"text-align: right;\">\n",
       "      <th></th>\n",
       "      <th>name</th>\n",
       "      <th>num</th>\n",
       "    </tr>\n",
       "  </thead>\n",
       "  <tbody>\n",
       "    <tr>\n",
       "      <th>0</th>\n",
       "      <td>徐意菲</td>\n",
       "      <td>2</td>\n",
       "    </tr>\n",
       "    <tr>\n",
       "      <th>1</th>\n",
       "      <td>bob</td>\n",
       "      <td>23</td>\n",
       "    </tr>\n",
       "    <tr>\n",
       "      <th>2</th>\n",
       "      <td>li</td>\n",
       "      <td>22</td>\n",
       "    </tr>\n",
       "    <tr>\n",
       "      <th>3</th>\n",
       "      <td>kermoci</td>\n",
       "      <td>23</td>\n",
       "    </tr>\n",
       "  </tbody>\n",
       "</table>\n",
       "</div>"
      ],
      "text/plain": [
       "      name  num\n",
       "0      徐意菲    2\n",
       "1      bob   23\n",
       "2       li   22\n",
       "3  kermoci   23"
      ]
     },
     "execution_count": 47,
     "metadata": {},
     "output_type": "execute_result"
    }
   ],
   "source": [
    "import pandas as pd\n",
    "csv = pd.read_csv('xyf0.csv',encoding='gb18030')\n",
    "csv"
   ]
  },
  {
   "cell_type": "code",
   "execution_count": null,
   "metadata": {},
   "outputs": [],
   "source": []
  },
  {
   "cell_type": "code",
   "execution_count": 11,
   "metadata": {},
   "outputs": [
    {
     "name": "stdout",
     "output_type": "stream",
     "text": [
      "xu ！\n",
      "yifei ！\n",
      "kermoci ！\n",
      "\n",
      "aaaaaaabbbbbb\n",
      "***********\n"
     ]
    }
   ],
   "source": [
    "f=open('xyf1.txt','r',encoding='gb18030')\n",
    "print(f.read())#从头到尾全部打印\n",
    "print(\"***********\")\n",
    "f.close()"
   ]
  },
  {
   "cell_type": "code",
   "execution_count": 14,
   "metadata": {},
   "outputs": [
    {
     "name": "stdout",
     "output_type": "stream",
     "text": [
      "['xu ！\\n', 'yifei ！\\n', 'kermoci ！\\n', '\\n', 'aaaaaaabbbbbb']\n"
     ]
    }
   ],
   "source": [
    "f=open('xyf1.txt','r',encoding='gb18030')\n",
    "print(f.readlines())#按行读，输出成列表\n",
    "f.close()"
   ]
  },
  {
   "cell_type": "code",
   "execution_count": 28,
   "metadata": {},
   "outputs": [
    {
     "data": {
      "text/plain": [
       "<_io.TextIOWrapper name='xyf1.txt' mode='a+' encoding='cp936'>"
      ]
     },
     "execution_count": 28,
     "metadata": {},
     "output_type": "execute_result"
    }
   ],
   "source": [
    "f=open(\"xyf1.txt\", \"a+\")\n",
    "for i in range(2):\n",
    "     f.write(\"Appended line %d\\r\\n\" % (i+1))\n",
    "f.close\n",
    "f"
   ]
  },
  {
   "cell_type": "code",
   "execution_count": 32,
   "metadata": {},
   "outputs": [
    {
     "name": "stdout",
     "output_type": "stream",
     "text": [
      "xu ！\n",
      "yifei ！\n",
      "kermoci ！\n",
      "\n",
      "aaaaaaabbbbbbAppended line 1\n",
      "\n",
      "Appended line 2\n",
      "\n",
      "Appended line 1\n",
      "\n",
      "Appended line 2\n",
      "\n",
      "Appended line 1\n",
      "\n",
      "Appended line 2\n",
      "\n",
      "Appended line 1\n",
      "\n",
      "Appended line 2\n",
      "\n",
      "\n"
     ]
    },
    {
     "data": {
      "text/plain": [
       "<function TextIOWrapper.close()>"
      ]
     },
     "execution_count": 32,
     "metadata": {},
     "output_type": "execute_result"
    }
   ],
   "source": [
    "f=open(\"xyf1.txt\",'r')\n",
    "print(f.read())\n",
    "f.close"
   ]
  },
  {
   "cell_type": "code",
   "execution_count": 36,
   "metadata": {},
   "outputs": [],
   "source": [
    "all_text=\"\"\"\n",
    "        one\n",
    "        two\n",
    "        three\n",
    "        four\n",
    "        five\n",
    "    \"\"\"\n",
    "file_object = open('python_x.txt', 'w')\n",
    "file_object.write(all_text)\n",
    "file_object.close( )"
   ]
  },
  {
   "cell_type": "code",
   "execution_count": 37,
   "metadata": {},
   "outputs": [
    {
     "name": "stdout",
     "output_type": "stream",
     "text": [
      "第0行：\n",
      "\n",
      "第1行：        one\n",
      "\n",
      "第2行：        two\n",
      "\n",
      "第3行：        three\n",
      "\n",
      "第4行：        four\n",
      "\n",
      "第5行：        five\n",
      "\n",
      "第6行：    \n"
     ]
    }
   ],
   "source": [
    "file=open('python_x.txt','r')\n",
    "for i,line in enumerate(file):\n",
    "    print('第'+str(i)+'行：'+line)\n",
    "file.close()"
   ]
  },
  {
   "cell_type": "code",
   "execution_count": 42,
   "metadata": {},
   "outputs": [
    {
     "name": "stdout",
     "output_type": "stream",
     "text": [
      "\n",
      "        one\n",
      "        two\n",
      "        three\n",
      "        four\n",
      "        five\n",
      "    \n"
     ]
    }
   ],
   "source": [
    "#读所有\n",
    "file_one = open('python_x.txt')\n",
    "try:\n",
    "    all_the_text = file_one.read( )\n",
    "    print(all_the_text)\n",
    "finally:\n",
    "     file_one.close( )"
   ]
  },
  {
   "cell_type": "code",
   "execution_count": 54,
   "metadata": {},
   "outputs": [
    {
     "name": "stdout",
     "output_type": "stream",
     "text": [
      "\n",
      "        one\n",
      "        two\n",
      "        three\n",
      "        four\n",
      "        five\n",
      "    \n",
      "hhhh\n"
     ]
    }
   ],
   "source": [
    "with open(r'python_x.txt','a+') as file:\n",
    "    file.write('\\nhhhh')\n",
    "    file.seek(0)    \n",
    "    content = file.read()\n",
    "    print (content)"
   ]
  },
  {
   "cell_type": "code",
   "execution_count": null,
   "metadata": {},
   "outputs": [],
   "source": []
  }
 ],
 "metadata": {
  "kernelspec": {
   "display_name": "Python 3",
   "language": "python",
   "name": "python3"
  },
  "language_info": {
   "codemirror_mode": {
    "name": "ipython",
    "version": 3
   },
   "file_extension": ".py",
   "mimetype": "text/x-python",
   "name": "python",
   "nbconvert_exporter": "python",
   "pygments_lexer": "ipython3",
   "version": "3.7.3"
  }
 },
 "nbformat": 4,
 "nbformat_minor": 4
}
