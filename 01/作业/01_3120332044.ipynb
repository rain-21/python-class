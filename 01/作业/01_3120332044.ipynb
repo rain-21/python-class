{
 "cells": [
  {
   "cell_type": "code",
   "execution_count": 1,
   "metadata": {},
   "outputs": [
    {
     "name": "stdout",
     "output_type": "stream",
     "text": [
      "Hello World!\n"
     ]
    }
   ],
   "source": [
    "#1122_practice_about_BasicPythonSyntax_Variables_Operators\n",
    "#打印\n",
    "print('Hello World!')"
   ]
  },
  {
   "cell_type": "code",
   "execution_count": 2,
   "metadata": {},
   "outputs": [
    {
     "name": "stdout",
     "output_type": "stream",
     "text": [
      "I'd much rather you 'not'.\n"
     ]
    }
   ],
   "source": [
    "print(\"I'd much rather you 'not'.\")"
   ]
  },
  {
   "cell_type": "code",
   "execution_count": 3,
   "metadata": {},
   "outputs": [
    {
     "name": "stdout",
     "output_type": "stream",
     "text": [
      "I \"said\" do not touch this.\n"
     ]
    }
   ],
   "source": [
    "print('I \"said\" do not touch this.')"
   ]
  },
  {
   "cell_type": "code",
   "execution_count": 4,
   "metadata": {},
   "outputs": [
    {
     "ename": "SyntaxError",
     "evalue": "unexpected EOF while parsing (<ipython-input-4-0891fa4fa5e0>, line 1)",
     "output_type": "error",
     "traceback": [
      "\u001b[1;36m  File \u001b[1;32m\"<ipython-input-4-0891fa4fa5e0>\"\u001b[1;36m, line \u001b[1;32m1\u001b[0m\n\u001b[1;33m    print('This will get an error'   #没有右括号\u001b[0m\n\u001b[1;37m                                           ^\u001b[0m\n\u001b[1;31mSyntaxError\u001b[0m\u001b[1;31m:\u001b[0m unexpected EOF while parsing\n"
     ]
    }
   ],
   "source": [
    "print('This will get an error'   #没有右括号"
   ]
  },
  {
   "cell_type": "code",
   "execution_count": 5,
   "metadata": {},
   "outputs": [
    {
     "name": "stdout",
     "output_type": "stream",
     "text": [
      "I could have code like this.\n"
     ]
    }
   ],
   "source": [
    "# This is a comment. This is what the programmer wants to tell you.\n",
    "print('I could have code like this.')  # and the comment after is ignored "
   ]
  },
  {
   "cell_type": "code",
   "execution_count": 6,
   "metadata": {},
   "outputs": [],
   "source": [
    "#变量和命名"
   ]
  },
  {
   "cell_type": "code",
   "execution_count": 7,
   "metadata": {},
   "outputs": [],
   "source": [
    "counter=100 #整型变量\n",
    "miles=1000.0 #浮点型变量\n",
    "name=\"runoob\" #字符串"
   ]
  },
  {
   "cell_type": "code",
   "execution_count": 8,
   "metadata": {},
   "outputs": [
    {
     "data": {
      "text/plain": [
       "100"
      ]
     },
     "execution_count": 8,
     "metadata": {},
     "output_type": "execute_result"
    }
   ],
   "source": [
    "counter #jupyterlab里可以省略print命令"
   ]
  },
  {
   "cell_type": "code",
   "execution_count": 9,
   "metadata": {},
   "outputs": [
    {
     "ename": "SyntaxError",
     "evalue": "Missing parentheses in call to 'print'. Did you mean print(miles)? (<ipython-input-9-53e1ce2ae7f3>, line 1)",
     "output_type": "error",
     "traceback": [
      "\u001b[1;36m  File \u001b[1;32m\"<ipython-input-9-53e1ce2ae7f3>\"\u001b[1;36m, line \u001b[1;32m1\u001b[0m\n\u001b[1;33m    print miles\u001b[0m\n\u001b[1;37m          ^\u001b[0m\n\u001b[1;31mSyntaxError\u001b[0m\u001b[1;31m:\u001b[0m Missing parentheses in call to 'print'. Did you mean print(miles)?\n"
     ]
    }
   ],
   "source": [
    "print miles"
   ]
  },
  {
   "cell_type": "code",
   "execution_count": 10,
   "metadata": {},
   "outputs": [
    {
     "name": "stdout",
     "output_type": "stream",
     "text": [
      "1000.0\n"
     ]
    }
   ],
   "source": [
    "print (miles)"
   ]
  },
  {
   "cell_type": "code",
   "execution_count": 11,
   "metadata": {},
   "outputs": [],
   "source": [
    "#python中print打印变量也要加小括号"
   ]
  },
  {
   "cell_type": "code",
   "execution_count": 12,
   "metadata": {},
   "outputs": [
    {
     "data": {
      "text/plain": [
       "'runoob'"
      ]
     },
     "execution_count": 12,
     "metadata": {},
     "output_type": "execute_result"
    }
   ],
   "source": [
    "counter\n",
    "miles\n",
    "name"
   ]
  },
  {
   "cell_type": "code",
   "execution_count": 13,
   "metadata": {},
   "outputs": [],
   "source": [
    "#不太明白为什么只打印了字符串？？？？？？？？？？？"
   ]
  },
  {
   "cell_type": "code",
   "execution_count": 14,
   "metadata": {},
   "outputs": [
    {
     "name": "stdout",
     "output_type": "stream",
     "text": [
      "100 1000.0 runoob\n"
     ]
    }
   ],
   "source": [
    "print (counter,miles,name)"
   ]
  },
  {
   "cell_type": "code",
   "execution_count": 15,
   "metadata": {},
   "outputs": [
    {
     "name": "stdout",
     "output_type": "stream",
     "text": [
      "100 , 1000.0 , runoob\n"
     ]
    }
   ],
   "source": [
    "print (counter,\",\",miles,\",\",name)"
   ]
  },
  {
   "cell_type": "code",
   "execution_count": 16,
   "metadata": {},
   "outputs": [],
   "source": [
    "#print打印多个变量，中间用逗号隔开，变量和字符串之间也用逗号间隔"
   ]
  },
  {
   "cell_type": "code",
   "execution_count": 17,
   "metadata": {},
   "outputs": [],
   "source": [
    "a=b=c=1"
   ]
  },
  {
   "cell_type": "code",
   "execution_count": 18,
   "metadata": {},
   "outputs": [
    {
     "data": {
      "text/plain": [
       "1"
      ]
     },
     "execution_count": 18,
     "metadata": {},
     "output_type": "execute_result"
    }
   ],
   "source": [
    "a"
   ]
  },
  {
   "cell_type": "code",
   "execution_count": 19,
   "metadata": {},
   "outputs": [
    {
     "data": {
      "text/plain": [
       "1"
      ]
     },
     "execution_count": 19,
     "metadata": {},
     "output_type": "execute_result"
    }
   ],
   "source": [
    "b"
   ]
  },
  {
   "cell_type": "code",
   "execution_count": 20,
   "metadata": {},
   "outputs": [
    {
     "data": {
      "text/plain": [
       "1"
      ]
     },
     "execution_count": 20,
     "metadata": {},
     "output_type": "execute_result"
    }
   ],
   "source": [
    "c"
   ]
  },
  {
   "cell_type": "code",
   "execution_count": 21,
   "metadata": {},
   "outputs": [],
   "source": [
    "a,b,c=1,2,\"runoob\"    #注意，给多个变量一起赋值的写法"
   ]
  },
  {
   "cell_type": "code",
   "execution_count": 22,
   "metadata": {},
   "outputs": [
    {
     "name": "stdout",
     "output_type": "stream",
     "text": [
      "1 2 runoob\n"
     ]
    }
   ],
   "source": [
    "print (a,b,c)"
   ]
  },
  {
   "cell_type": "code",
   "execution_count": 23,
   "metadata": {},
   "outputs": [
    {
     "data": {
      "text/plain": [
       "['False',\n",
       " 'None',\n",
       " 'True',\n",
       " 'and',\n",
       " 'as',\n",
       " 'assert',\n",
       " 'async',\n",
       " 'await',\n",
       " 'break',\n",
       " 'class',\n",
       " 'continue',\n",
       " 'def',\n",
       " 'del',\n",
       " 'elif',\n",
       " 'else',\n",
       " 'except',\n",
       " 'finally',\n",
       " 'for',\n",
       " 'from',\n",
       " 'global',\n",
       " 'if',\n",
       " 'import',\n",
       " 'in',\n",
       " 'is',\n",
       " 'lambda',\n",
       " 'nonlocal',\n",
       " 'not',\n",
       " 'or',\n",
       " 'pass',\n",
       " 'raise',\n",
       " 'return',\n",
       " 'try',\n",
       " 'while',\n",
       " 'with',\n",
       " 'yield']"
      ]
     },
     "execution_count": 23,
     "metadata": {},
     "output_type": "execute_result"
    }
   ],
   "source": [
    "import keyword   #import关键字用于导入模块\n",
    "keyword.kwlist   #列出所有关键字 作用：避免因命名冲突而引发异常错误 变量不要用这些名字了"
   ]
  },
  {
   "cell_type": "code",
   "execution_count": 24,
   "metadata": {},
   "outputs": [],
   "source": [
    "#逻辑运算"
   ]
  },
  {
   "cell_type": "code",
   "execution_count": 25,
   "metadata": {},
   "outputs": [
    {
     "data": {
      "text/plain": [
       "'I will now count my chickens:'"
      ]
     },
     "execution_count": 25,
     "metadata": {},
     "output_type": "execute_result"
    }
   ],
   "source": [
    "\"I will now count my chickens:\""
   ]
  },
  {
   "cell_type": "code",
   "execution_count": 26,
   "metadata": {},
   "outputs": [],
   "source": [
    "#这里打印出来的字符串为什么还有单引号？？？？？？？？？？？？"
   ]
  },
  {
   "cell_type": "code",
   "execution_count": 27,
   "metadata": {},
   "outputs": [
    {
     "name": "stdout",
     "output_type": "stream",
     "text": [
      "Hens 30.0\n"
     ]
    }
   ],
   "source": [
    "print(\"Hens\",25+30/6)"
   ]
  },
  {
   "cell_type": "code",
   "execution_count": 28,
   "metadata": {},
   "outputs": [
    {
     "data": {
      "text/plain": [
       "6.75"
      ]
     },
     "execution_count": 28,
     "metadata": {},
     "output_type": "execute_result"
    }
   ],
   "source": [
    "3+2+1-5+4%2-1/4+6   #求余和除法优先级相同"
   ]
  },
  {
   "cell_type": "code",
   "execution_count": 29,
   "metadata": {},
   "outputs": [
    {
     "name": "stdout",
     "output_type": "stream",
     "text": [
      "Is it grater? True\n"
     ]
    }
   ],
   "source": [
    "print(\"Is it grater?\",5>2)"
   ]
  },
  {
   "cell_type": "code",
   "execution_count": 30,
   "metadata": {},
   "outputs": [
    {
     "data": {
      "text/plain": [
       "True"
      ]
     },
     "execution_count": 30,
     "metadata": {},
     "output_type": "execute_result"
    }
   ],
   "source": [
    "5>=2"
   ]
  },
  {
   "cell_type": "code",
   "execution_count": 31,
   "metadata": {},
   "outputs": [
    {
     "data": {
      "text/plain": [
       "False"
      ]
     },
     "execution_count": 31,
     "metadata": {},
     "output_type": "execute_result"
    }
   ],
   "source": [
    "3>3"
   ]
  },
  {
   "cell_type": "code",
   "execution_count": 32,
   "metadata": {},
   "outputs": [
    {
     "data": {
      "text/plain": [
       "True"
      ]
     },
     "execution_count": 32,
     "metadata": {},
     "output_type": "execute_result"
    }
   ],
   "source": [
    "0.3>-0.1"
   ]
  },
  {
   "cell_type": "code",
   "execution_count": 33,
   "metadata": {},
   "outputs": [
    {
     "data": {
      "text/plain": [
       "True"
      ]
     },
     "execution_count": 33,
     "metadata": {},
     "output_type": "execute_result"
    }
   ],
   "source": [
    "3>=3"
   ]
  },
  {
   "cell_type": "code",
   "execution_count": 34,
   "metadata": {},
   "outputs": [
    {
     "data": {
      "text/plain": [
       "False"
      ]
     },
     "execution_count": 34,
     "metadata": {},
     "output_type": "execute_result"
    }
   ],
   "source": [
    "3+2<5-7"
   ]
  },
  {
   "cell_type": "code",
   "execution_count": 1,
   "metadata": {},
   "outputs": [
    {
     "data": {
      "text/plain": [
       "True"
      ]
     },
     "execution_count": 1,
     "metadata": {},
     "output_type": "execute_result"
    }
   ],
   "source": [
    "3+2>5-7"
   ]
  },
  {
   "cell_type": "code",
   "execution_count": 36,
   "metadata": {},
   "outputs": [],
   "source": [
    "#加减的优先级大于比较运算符"
   ]
  },
  {
   "cell_type": "code",
   "execution_count": 37,
   "metadata": {},
   "outputs": [],
   "source": [
    "a,b=10,20"
   ]
  },
  {
   "cell_type": "code",
   "execution_count": 38,
   "metadata": {},
   "outputs": [],
   "source": [
    "c=a+b"
   ]
  },
  {
   "cell_type": "code",
   "execution_count": 39,
   "metadata": {},
   "outputs": [
    {
     "data": {
      "text/plain": [
       "30"
      ]
     },
     "execution_count": 39,
     "metadata": {},
     "output_type": "execute_result"
    }
   ],
   "source": [
    "c"
   ]
  },
  {
   "cell_type": "code",
   "execution_count": 41,
   "metadata": {},
   "outputs": [
    {
     "name": "stdout",
     "output_type": "stream",
     "text": [
      "(a+b)*c/d的运算结果为： 90.0\n",
      "(a+b)*(c/d)的运算结果为： 90.0\n",
      "a+(b*c)/d的运算结果为： 50.0\n"
     ]
    }
   ],
   "source": [
    "a=20\n",
    "b=10\n",
    "c=15\n",
    "d=5\n",
    "e=0\n",
    "\n",
    "e=(a+b)*c/d  #90\n",
    "print (\"(a+b)*c/d的运算结果为：\",e)\n",
    "\n",
    "e=(a+b)*(c/d) #90\n",
    "print(\"(a+b)*(c/d)的运算结果为：\",e)\n",
    "\n",
    "e=a+(b*c)/d   #50\n",
    "print(\"a+(b*c)/d的运算结果为：\",e)"
   ]
  },
  {
   "cell_type": "code",
   "execution_count": 42,
   "metadata": {},
   "outputs": [
    {
     "name": "stdout",
     "output_type": "stream",
     "text": [
      "(a+b)*c/d的运算结果为： 90\n"
     ]
    }
   ],
   "source": [
    "a=20\n",
    "b=10\n",
    "c=15\n",
    "d=5\n",
    "e=0\n",
    "\n",
    "e=(a+b)*c/d  #90\n",
    "print (\"(a+b)*c/d的运算结果为：\",int(e))\n"
   ]
  },
  {
   "cell_type": "code",
   "execution_count": 43,
   "metadata": {},
   "outputs": [],
   "source": [
    "#加int输出整数型结果"
   ]
  },
  {
   "cell_type": "code",
   "execution_count": 44,
   "metadata": {},
   "outputs": [],
   "source": [
    "#更多的变量与打印"
   ]
  },
  {
   "cell_type": "code",
   "execution_count": 52,
   "metadata": {},
   "outputs": [
    {
     "name": "stdout",
     "output_type": "stream",
     "text": [
      "Let's talk about Zed A. Shaw.\n",
      "He's 200 centimeters tall.\n",
      "He's 200 kilometers heavy.\n",
      "Actually that's not too heavy.\n",
      "He's got Brown eyes and Green hair.\n",
      "His teeth are usually Yellow depending on the milk.\n",
      "If I add 100,200,and 200, I got 500.\n",
      "我的妈妈 400 斤。\n",
      "我老妈400斤。\n",
      "我老妈200+200斤。\n"
     ]
    }
   ],
   "source": [
    "my_name='Zed A. Shaw'\n",
    "my_age=100  \n",
    "my_height=200 #cm\n",
    "my_weight=200 #kg\n",
    "my_eyes='Brown'\n",
    "my_teeth='Yellow'\n",
    "my_hair='Green'\n",
    "\n",
    "print(f\"Let's talk about {my_name}.\")\n",
    "print(f\"He's {my_height} centimeters tall.\")\n",
    "print(f\"He's {my_weight} kilometers heavy.\")\n",
    "print(\"Actually that's not too heavy.\")\n",
    "print(f\"He's got {my_eyes} eyes and {my_hair} hair.\")\n",
    "print(f\"His teeth are usually {my_teeth} depending on the milk.\")\n",
    "\n",
    "\n",
    "'''\n",
    "python的print字符串前面加f表示格式化字符串，\n",
    "加f后可以在字符串里面使用用花括号括起来的变量和表达式，\n",
    "如果字符串里面没有表达式，那么前面加不加f输出应该都一样. \n",
    "Python3.6新增了一种f-字符串格式化格式化的字符串文字前缀为’f’和接受的格式字符串相似str\n",
    "'''\n",
    "#多行注释用三引号，快捷键是选中注释内容 按 Ctrl+/\n",
    "#前面一起打印字符串和变量的时候我没用print(f)\n",
    "\n",
    "total=my_age+my_weight+my_height\n",
    "print(f\"If I add {my_age},{my_weight},and {my_height}, I got {total}.\")\n",
    "\n",
    "#试验一下\n",
    "print(\"我的妈妈\",my_weight+my_height,\"斤。\")\n",
    "print(f\"我老妈{my_weight+my_height}斤。\")\n",
    "print(f\"我老妈{my_weight}+{my_height}斤。\")  # print(f\"我老妈\"{my_weight}+{my_height}\"斤。\") 前后两对引号是语法错误运行不了"
   ]
  },
  {
   "cell_type": "code",
   "execution_count": 53,
   "metadata": {},
   "outputs": [],
   "source": [
    "#字符串和文本"
   ]
  },
  {
   "cell_type": "code",
   "execution_count": 54,
   "metadata": {},
   "outputs": [
    {
     "name": "stdout",
     "output_type": "stream",
     "text": [
      "There are 10 types of people.\n",
      "Those who know binary and those who don't.\n",
      "I said:There are 10 types of people.\n",
      "I also said:'Those who know binary and those who don't.'\n",
      "Isn't that joke so funny?!False\n",
      "This is the left side of...a string with a right side.\n"
     ]
    }
   ],
   "source": [
    "types_of_people=10\n",
    "x=f\"There are {types_of_people} types of people.\"      #变量也可用f和花括号\n",
    "\n",
    "binary=\"binary\"\n",
    "do_not=\"don't\"\n",
    "y=f\"Those who know {binary} and those who {do_not}.\"\n",
    "\n",
    "print(x)\n",
    "print(y)\n",
    "\n",
    "print(f\"I said:{x}\")\n",
    "print(f\"I also said:'{y}'\")\n",
    "\n",
    "hilarious=False\n",
    "joke_evaluation=\"Isn't that joke so funny?!{}\"   #注意一下 这个花括号没变量\n",
    "\n",
    "print(joke_evaluation.format(hilarious))   # js var mycars=new Array(\"Saab\",\"Volvo\",\"BMW\")  mycars[0]=saab\n",
    "                                           #{} {}\".format(\"hello\", \"world\")   不设置指定位置，按默认顺序   'hello world'\n",
    "                                           # \"{1} {0} {1}\".format(\"hello\", \"world\")   output  'world hello world'\n",
    "w=\"This is the left side of...\"\n",
    "e=\"a string with a right side.\"\n",
    "\n",
    "print(w+e)"
   ]
  },
  {
   "cell_type": "code",
   "execution_count": 55,
   "metadata": {},
   "outputs": [],
   "source": [
    "#更多打印"
   ]
  },
  {
   "cell_type": "code",
   "execution_count": 58,
   "metadata": {},
   "outputs": [
    {
     "name": "stdout",
     "output_type": "stream",
     "text": [
      "Mary had a little lamb.\n",
      "Its fleece was white as snow.\n",
      "And everywhere that Mary went.\n",
      "..........\n",
      "Cheese Burger\n"
     ]
    }
   ],
   "source": [
    "print(\"Mary had a little lamb.\")\n",
    "print(\"Its fleece was white as {}.\".format('snow'))\n",
    "print(\"And everywhere that Mary went.\")\n",
    "print(\".\"*10)  #注意一下这个   打印十个字符串\n",
    "\n",
    "end1=\"C\"\n",
    "end2=\"h\"\n",
    "end3=\"e\"\n",
    "end4=\"e\"\n",
    "end5=\"s\"\n",
    "end6=\"e\"\n",
    "end7=\"B\"\n",
    "end8=\"u\"\n",
    "end9=\"r\"\n",
    "end10=\"g\"\n",
    "end11=\"e\"\n",
    "end12=\"r\"\n",
    "\n",
    "print(end1+end2+end3+end4+end5+end6,end=' ')   #加号连接变量无空格，空格复制给end变量 两个单词在一行而不是两行\n",
    "#print(end1+end2+end3+end4+end5+end6) \n",
    "print(end7+end8+end9+end10+end11+end12)"
   ]
  },
  {
   "cell_type": "code",
   "execution_count": 59,
   "metadata": {},
   "outputs": [],
   "source": [
    "#打印，打印"
   ]
  },
  {
   "cell_type": "code",
   "execution_count": 3,
   "metadata": {},
   "outputs": [
    {
     "name": "stdout",
     "output_type": "stream",
     "text": [
      "1234\n",
      "onetwothreefour\n",
      "TrueFalseFalseTrue\n",
      "{}{}{}{}{}{}{}{}{}{}{}{}{}{}{}{}\n",
      "I had this thing.That you could type up right.But it didn't sing.So I said goodnight.\n"
     ]
    }
   ],
   "source": [
    "formatter=\"{}{}{}{}\"    #format格式化函数  e.g.  {}{}.format(\"haha\",\"miaomiao\")\n",
    "\n",
    "print(formatter.format(1, 2, 3, 4))     #按照默认顺序，输出的是1 2 3 4\n",
    "print(formatter.format(\"one\", \"two\", \"three\", \"four\"))  #one two three\n",
    "print(formatter.format(True, False, False, True))  # t f f t\n",
    "print(formatter.format(formatter,formatter,formatter,formatter)) #16个花括号\n",
    "print(formatter.format(\n",
    "    \"I had this thing.\",\n",
    "    \"That you could type up right.\",\n",
    "    \"But it didn't sing.\",\n",
    "    \"So I said goodnight.\"\n",
    "))                 #为什么我的打印结果之间没有空格？？？？？？？？？？？？？？？？？？？？？"
   ]
  },
  {
   "cell_type": "code",
   "execution_count": 4,
   "metadata": {},
   "outputs": [],
   "source": [
    "#打印，打印，打印"
   ]
  },
  {
   "cell_type": "code",
   "execution_count": 7,
   "metadata": {},
   "outputs": [
    {
     "name": "stdout",
     "output_type": "stream",
     "text": [
      "Here are the days: Mon Tue Wed Thu Fri Sat Sun\n",
      "Here are the months: Jan\n",
      "Feb\n",
      "Mar\n",
      "Apr\n",
      "May\n",
      "Jun\n",
      "Jul\n",
      "Aug\n",
      "                                    \n",
      "There's something going on here.\n",
      "With the three double-quotes.\n",
      "We'll be able to type as much as we like.\n",
      "Even 4 lines if we want, or 5, or 6.\n",
      "\n"
     ]
    }
   ],
   "source": [
    "days=\"Mon Tue Wed Thu Fri Sat Sun\"\n",
    "months=\"Jan\\nFeb\\nMar\\nApr\\nMay\\nJun\\nJul\\nAug\"   # \\n换行\n",
    "\n",
    "print(\"Here are the days:\",days)\n",
    "print(\"Here are the months:\",months)\n",
    "\n",
    "   #打印多行对字符串用三引号\n",
    "print(\"\"\"                                    \n",
    "There's something going on here.\n",
    "With the three double-quotes.\n",
    "We'll be able to type as much as we like.\n",
    "Even 4 lines if we want, or 5, or 6.\n",
    "\"\"\")"
   ]
  },
  {
   "cell_type": "code",
   "execution_count": 8,
   "metadata": {},
   "outputs": [
    {
     "name": "stdout",
     "output_type": "stream",
     "text": [
      "\tI'm tabbed in.\n",
      "I'm split\n",
      "on a line.\n",
      "I'm \\a\\ cat.\n",
      "\n",
      "I'll do a list:\n",
      "\t*Cat food\n",
      "\t*Fishes\n",
      "\t*Catnip\n",
      "\t*Grass\n",
      "\n"
     ]
    }
   ],
   "source": [
    "tabby_cat=\"\\tI'm tabbed in.\"  #\\t空四格缩进\n",
    "persian_cat=\"I'm split\\non a line.\"\n",
    "backslash_cat=\"I'm \\\\a\\\\ cat.\"\n",
    "\n",
    "fat_cat=\"\"\"\n",
    "I'll do a list:\n",
    "\\t*Cat food\n",
    "\\t*Fishes\n",
    "\\t*Catnip\\n\\t*Grass\n",
    "\"\"\"\n",
    "\n",
    "print(tabby_cat)\n",
    "print(persian_cat)\n",
    "print(backslash_cat)\n",
    "print(fat_cat)"
   ]
  },
  {
   "cell_type": "code",
   "execution_count": 2,
   "metadata": {},
   "outputs": [],
   "source": [
    "#接收输入input()"
   ]
  },
  {
   "cell_type": "code",
   "execution_count": 3,
   "metadata": {},
   "outputs": [
    {
     "name": "stdout",
     "output_type": "stream",
     "text": [
      "How old are you? "
     ]
    },
    {
     "name": "stdin",
     "output_type": "stream",
     "text": [
      " 10 years\n"
     ]
    },
    {
     "name": "stdout",
     "output_type": "stream",
     "text": [
      "How tall are you? "
     ]
    },
    {
     "name": "stdin",
     "output_type": "stream",
     "text": [
      " 1 m\n"
     ]
    },
    {
     "name": "stdout",
     "output_type": "stream",
     "text": [
      "How much do you weigh? "
     ]
    },
    {
     "name": "stdin",
     "output_type": "stream",
     "text": [
      " 50 kg\n"
     ]
    },
    {
     "name": "stdout",
     "output_type": "stream",
     "text": [
      "So, you're 10 years old, 1 m tall and 50 kg heavy.\n"
     ]
    }
   ],
   "source": [
    "print(\"How old are you?\", end=' ')   #print默认是打印一行，结尾加换行。end=' '意思是末尾不换行，加空格。print函数不会在字符串末尾添加一个换行符，而是添加一个空字符串。\n",
    "age=input()\n",
    "print(\"How tall are you?\", end=' ')\n",
    "height=input()\n",
    "print(\"How much do you weigh?\", end=' ')\n",
    "weight=input()\n",
    "\n",
    "print(f\"So, you're {age} old, {height} tall and {weight} heavy.\")"
   ]
  },
  {
   "cell_type": "code",
   "execution_count": 4,
   "metadata": {},
   "outputs": [
    {
     "name": "stdin",
     "output_type": "stream",
     "text": [
      "How old are you? 10 years\n",
      "How tall are you? 1 m\n",
      "How much do you weigh? 50 kg\n"
     ]
    },
    {
     "name": "stdout",
     "output_type": "stream",
     "text": [
      "So, you're 10 years old, 1 m tall and 50 kg heavy.\n"
     ]
    }
   ],
   "source": [
    "age=input(\"How old are you?\")\n",
    "height=input(\"How tall are you?\")\n",
    "weight=input(\"How much do you weigh?\")\n",
    "\n",
    "print(f\"So, you're {age} old, {height} tall and {weight} heavy.\")"
   ]
  },
  {
   "cell_type": "code",
   "execution_count": 5,
   "metadata": {},
   "outputs": [],
   "source": [
    "#参数、解包和变量"
   ]
  },
  {
   "cell_type": "code",
   "execution_count": 6,
   "metadata": {},
   "outputs": [
    {
     "name": "stdout",
     "output_type": "stream",
     "text": [
      "The script is called: D:\\Program Files (x86)\\Anaconda\\lib\\site-packages\\ipykernel_launcher.py\n",
      "Your first variable is: -f\n",
      "Your second variable is: C:\\Users\\DELL\\AppData\\Roaming\\jupyter\\runtime\\kernel-8313c375-89df-4c07-909b-76f83ac844fc.json\n"
     ]
    }
   ],
   "source": [
    "from sys import argv          #sys为python的内置模块，提供函数和变量。argv 参数变量，是一个参数列表\n",
    "script, first, second=argv    #from sys import argv可以通过a,b,c,d……=argv来进行批量参数赋值，将argv中的参数依次赋值给左边的变量\n",
    "                              #即script=argv[0] 第一个参数是脚本名称  first=argv[1]\n",
    "print(\"The script is called:\", script)\n",
    "print(\"Your first variable is:\", first)\n",
    "print(\"Your second variable is:\", second)"
   ]
  },
  {
   "cell_type": "code",
   "execution_count": 8,
   "metadata": {},
   "outputs": [
    {
     "data": {
      "text/html": [
       "<div>\n",
       "<style scoped>\n",
       "    .dataframe tbody tr th:only-of-type {\n",
       "        vertical-align: middle;\n",
       "    }\n",
       "\n",
       "    .dataframe tbody tr th {\n",
       "        vertical-align: top;\n",
       "    }\n",
       "\n",
       "    .dataframe thead th {\n",
       "        text-align: right;\n",
       "    }\n",
       "</style>\n",
       "<table border=\"1\" class=\"dataframe\">\n",
       "  <thead>\n",
       "    <tr style=\"text-align: right;\">\n",
       "      <th></th>\n",
       "      <th>votes</th>\n",
       "      <th>name</th>\n",
       "      <th>seen</th>\n",
       "      <th>star</th>\n",
       "      <th>date</th>\n",
       "      <th>text</th>\n",
       "    </tr>\n",
       "  </thead>\n",
       "  <tbody>\n",
       "    <tr>\n",
       "      <th>0</th>\n",
       "      <td>404</td>\n",
       "      <td>誒嘿嘿教父</td>\n",
       "      <td>看过</td>\n",
       "      <td>力荐</td>\n",
       "      <td>2019-09-19 14:28:34</td>\n",
       "      <td>人类挑战风暴需要多大的勇气，人类挑战偏见需要多大的勇气，人类挑战自己的最愧疚与悔恨的事需要多...</td>\n",
       "    </tr>\n",
       "    <tr>\n",
       "      <th>1</th>\n",
       "      <td>245</td>\n",
       "      <td>Maggie_in_LA</td>\n",
       "      <td>看过</td>\n",
       "      <td>还行</td>\n",
       "      <td>2019-10-08 15:41:00</td>\n",
       "      <td>这个片子虽然有的情节惊心动魄，画面也很美，但全程其实挺可笑的。看多了那种NASA在太空中的历...</td>\n",
       "    </tr>\n",
       "    <tr>\n",
       "      <th>2</th>\n",
       "      <td>222</td>\n",
       "      <td>花袭人</td>\n",
       "      <td>看过</td>\n",
       "      <td>还行</td>\n",
       "      <td>2019-12-12 18:58:00</td>\n",
       "      <td>在电影院看观感蛮好的，高空景致壮美，热气球独有的危险和挑战也挺抓人的，影片的长度跟热气球在空...</td>\n",
       "    </tr>\n",
       "    <tr>\n",
       "      <th>3</th>\n",
       "      <td>298</td>\n",
       "      <td>____anybody</td>\n",
       "      <td>看过</td>\n",
       "      <td>推荐</td>\n",
       "      <td>2019-09-11 04:49:11</td>\n",
       "      <td>没错，在影片的前中后，我的菊花分别为剧情紧了三次。</td>\n",
       "    </tr>\n",
       "    <tr>\n",
       "      <th>4</th>\n",
       "      <td>130</td>\n",
       "      <td>瓦力</td>\n",
       "      <td>看过</td>\n",
       "      <td>推荐</td>\n",
       "      <td>2019-12-08 15:27:16</td>\n",
       "      <td>“霍金夫妇”的天空大冒险...本片可与《搏击太空》、《登月第一人》组成“人类升空进击三部曲”...</td>\n",
       "    </tr>\n",
       "    <tr>\n",
       "      <th>...</th>\n",
       "      <td>...</td>\n",
       "      <td>...</td>\n",
       "      <td>...</td>\n",
       "      <td>...</td>\n",
       "      <td>...</td>\n",
       "      <td>...</td>\n",
       "    </tr>\n",
       "    <tr>\n",
       "      <th>195</th>\n",
       "      <td>2</td>\n",
       "      <td>无事公</td>\n",
       "      <td>看过</td>\n",
       "      <td>还行</td>\n",
       "      <td>2019-12-29 13:10:10</td>\n",
       "      <td>我果然还是喜欢冒险片，在这冬天看，脚都出汗了。</td>\n",
       "    </tr>\n",
       "    <tr>\n",
       "      <th>196</th>\n",
       "      <td>4</td>\n",
       "      <td>Laven</td>\n",
       "      <td>看过</td>\n",
       "      <td>推荐</td>\n",
       "      <td>2020-03-14 16:10:04</td>\n",
       "      <td>云中历险记。穿越暴风雨和云雾，触及云层上的蝴蝶，冰雪和星辰。好美啊，大屏幕看肯定爽爆。菲总，...</td>\n",
       "    </tr>\n",
       "    <tr>\n",
       "      <th>197</th>\n",
       "      <td>0</td>\n",
       "      <td>Keith Lee</td>\n",
       "      <td>看过</td>\n",
       "      <td>推荐</td>\n",
       "      <td>2020-11-15 20:26:50</td>\n",
       "      <td>小雀斑与琼妹《万物理论》后再合作，虽然全程特效，但IMAX看特别美轮美奂，和《云中行走》有异...</td>\n",
       "    </tr>\n",
       "    <tr>\n",
       "      <th>198</th>\n",
       "      <td>1</td>\n",
       "      <td>罗洋</td>\n",
       "      <td>看过</td>\n",
       "      <td>还行</td>\n",
       "      <td>2019-12-21 18:50:01</td>\n",
       "      <td>打发时间吧，服装和镜头相当不错</td>\n",
       "    </tr>\n",
       "    <tr>\n",
       "      <th>199</th>\n",
       "      <td>0</td>\n",
       "      <td>明月何时照哥谭</td>\n",
       "      <td>看过</td>\n",
       "      <td>推荐</td>\n",
       "      <td>2020-03-23 17:46:01</td>\n",
       "      <td>明明很好看呀，除了两线叙事显得有点儿断断续续，但热气球上的片段还是令人捏一把汗，菲丽希缇琼斯...</td>\n",
       "    </tr>\n",
       "  </tbody>\n",
       "</table>\n",
       "<p>200 rows × 6 columns</p>\n",
       "</div>"
      ],
      "text/plain": [
       "     votes          name seen star                 date  \\\n",
       "0      404         誒嘿嘿教父   看过   力荐  2019-09-19 14:28:34   \n",
       "1      245  Maggie_in_LA   看过   还行  2019-10-08 15:41:00   \n",
       "2      222           花袭人   看过   还行  2019-12-12 18:58:00   \n",
       "3      298   ____anybody   看过   推荐  2019-09-11 04:49:11   \n",
       "4      130            瓦力   看过   推荐  2019-12-08 15:27:16   \n",
       "..     ...           ...  ...  ...                  ...   \n",
       "195      2           无事公   看过   还行  2019-12-29 13:10:10   \n",
       "196      4         Laven   看过   推荐  2020-03-14 16:10:04   \n",
       "197      0     Keith Lee   看过   推荐  2020-11-15 20:26:50   \n",
       "198      1            罗洋   看过   还行  2019-12-21 18:50:01   \n",
       "199      0       明月何时照哥谭   看过   推荐  2020-03-23 17:46:01   \n",
       "\n",
       "                                                  text  \n",
       "0    人类挑战风暴需要多大的勇气，人类挑战偏见需要多大的勇气，人类挑战自己的最愧疚与悔恨的事需要多...  \n",
       "1    这个片子虽然有的情节惊心动魄，画面也很美，但全程其实挺可笑的。看多了那种NASA在太空中的历...  \n",
       "2    在电影院看观感蛮好的，高空景致壮美，热气球独有的危险和挑战也挺抓人的，影片的长度跟热气球在空...  \n",
       "3                            没错，在影片的前中后，我的菊花分别为剧情紧了三次。  \n",
       "4    “霍金夫妇”的天空大冒险...本片可与《搏击太空》、《登月第一人》组成“人类升空进击三部曲”...  \n",
       "..                                                 ...  \n",
       "195                            我果然还是喜欢冒险片，在这冬天看，脚都出汗了。  \n",
       "196  云中历险记。穿越暴风雨和云雾，触及云层上的蝴蝶，冰雪和星辰。好美啊，大屏幕看肯定爽爆。菲总，...  \n",
       "197  小雀斑与琼妹《万物理论》后再合作，虽然全程特效，但IMAX看特别美轮美奂，和《云中行走》有异...  \n",
       "198                                    打发时间吧，服装和镜头相当不错  \n",
       "199  明明很好看呀，除了两线叙事显得有点儿断断续续，但热气球上的片段还是令人捏一把汗，菲丽希缇琼斯...  \n",
       "\n",
       "[200 rows x 6 columns]"
      ]
     },
     "execution_count": 8,
     "metadata": {},
     "output_type": "execute_result"
    }
   ],
   "source": [
    "import pandas as pd     #引入pandas模块\n",
    "csv=pd.read_csv('D:/python_projects/01/douban/movie_comments.csv')  #调用模块中的读取文件函数   read_csv从文件，url，文件型对象中加载带分隔符的数据。默认分隔符为逗号\n",
    "csv  #这里是简写吗？？？？？？？？print(csv)打印的没有分隔符"
   ]
  },
  {
   "cell_type": "code",
   "execution_count": 12,
   "metadata": {},
   "outputs": [
    {
     "name": "stdout",
     "output_type": "stream",
     "text": [
      "     votes          name seen star                 date  \\\n",
      "0      404         誒嘿嘿教父   看过   力荐  2019-09-19 14:28:34   \n",
      "1      245  Maggie_in_LA   看过   还行  2019-10-08 15:41:00   \n",
      "2      222           花袭人   看过   还行  2019-12-12 18:58:00   \n",
      "3      298   ____anybody   看过   推荐  2019-09-11 04:49:11   \n",
      "4      130            瓦力   看过   推荐  2019-12-08 15:27:16   \n",
      "..     ...           ...  ...  ...                  ...   \n",
      "195      2           无事公   看过   还行  2019-12-29 13:10:10   \n",
      "196      4         Laven   看过   推荐  2020-03-14 16:10:04   \n",
      "197      0     Keith Lee   看过   推荐  2020-11-15 20:26:50   \n",
      "198      1            罗洋   看过   还行  2019-12-21 18:50:01   \n",
      "199      0       明月何时照哥谭   看过   推荐  2020-03-23 17:46:01   \n",
      "\n",
      "                                                  text  \n",
      "0    人类挑战风暴需要多大的勇气，人类挑战偏见需要多大的勇气，人类挑战自己的最愧疚与悔恨的事需要多...  \n",
      "1    这个片子虽然有的情节惊心动魄，画面也很美，但全程其实挺可笑的。看多了那种NASA在太空中的历...  \n",
      "2    在电影院看观感蛮好的，高空景致壮美，热气球独有的危险和挑战也挺抓人的，影片的长度跟热气球在空...  \n",
      "3                            没错，在影片的前中后，我的菊花分别为剧情紧了三次。  \n",
      "4    “霍金夫妇”的天空大冒险...本片可与《搏击太空》、《登月第一人》组成“人类升空进击三部曲”...  \n",
      "..                                                 ...  \n",
      "195                            我果然还是喜欢冒险片，在这冬天看，脚都出汗了。  \n",
      "196  云中历险记。穿越暴风雨和云雾，触及云层上的蝴蝶，冰雪和星辰。好美啊，大屏幕看肯定爽爆。菲总，...  \n",
      "197  小雀斑与琼妹《万物理论》后再合作，虽然全程特效，但IMAX看特别美轮美奂，和《云中行走》有异...  \n",
      "198                                    打发时间吧，服装和镜头相当不错  \n",
      "199  明明很好看呀，除了两线叙事显得有点儿断断续续，但热气球上的片段还是令人捏一把汗，菲丽希缇琼斯...  \n",
      "\n",
      "[200 rows x 6 columns]\n"
     ]
    }
   ],
   "source": [
    "#测试一下是不是简写\n",
    "import pandas as pd     #引入pandas模块\n",
    "csv=pd.read_csv('D:/python_projects/01/douban/movie_comments.csv')  #调用模块中的读取文件函数   read_csv从文件，url，文件型对象中加载带分隔符的数据。默认分隔符为逗号\n",
    "print (csv)"
   ]
  },
  {
   "cell_type": "code",
   "execution_count": 13,
   "metadata": {},
   "outputs": [],
   "source": [
    "#做作业的过程中遇到的问题\n",
    "# python3 weibo.py 报错   改成python weibo.py 运行成功，得到csv文件\n",
    "# pip install scrapy 安装失败，报错   改成conda install scrapy 安装成功\n",
    "# scrapy crawl 爬下来的movie_comments.csv文件中文乱码，不是utf-8？"
   ]
  },
  {
   "cell_type": "code",
   "execution_count": null,
   "metadata": {},
   "outputs": [],
   "source": []
  }
 ],
 "metadata": {
  "kernelspec": {
   "display_name": "Python 3",
   "language": "python",
   "name": "python3"
  },
  "language_info": {
   "codemirror_mode": {
    "name": "ipython",
    "version": 3
   },
   "file_extension": ".py",
   "mimetype": "text/x-python",
   "name": "python",
   "nbconvert_exporter": "python",
   "pygments_lexer": "ipython3",
   "version": "3.8.3"
  }
 },
 "nbformat": 4,
 "nbformat_minor": 4
}
