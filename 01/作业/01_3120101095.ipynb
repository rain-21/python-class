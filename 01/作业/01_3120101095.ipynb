{
 "cells": [
  {
   "cell_type": "code",
   "execution_count": 24,
   "metadata": {},
   "outputs": [
    {
     "name": "stdout",
     "output_type": "stream",
     "text": [
      "I love python.\n"
     ]
    }
   ],
   "source": [
    "print(\"I love python.\")#输出字符串"
   ]
  },
  {
   "cell_type": "code",
   "execution_count": 25,
   "metadata": {},
   "outputs": [
    {
     "name": "stdout",
     "output_type": "stream",
     "text": [
      "Hello World!\n"
     ]
    }
   ],
   "source": [
    "print(\"Hello World!\")#输出字符串"
   ]
  },
  {
   "cell_type": "code",
   "execution_count": 26,
   "metadata": {},
   "outputs": [
    {
     "name": "stdout",
     "output_type": "stream",
     "text": [
      "Hello\n",
      "World\n",
      "\n",
      "Goodbye\n"
     ]
    }
   ],
   "source": [
    "print(\"Hello\\nWorld\\n\\nGoodbye\")#使用转义字符"
   ]
  },
  {
   "cell_type": "code",
   "execution_count": 27,
   "metadata": {},
   "outputs": [
    {
     "name": "stdin",
     "output_type": "stream",
     "text": [
      "请输入带温度表示符号的温度值（例如：32C、100F）: 32c\n"
     ]
    },
    {
     "name": "stdout",
     "output_type": "stream",
     "text": [
      "转换后的温度为：89.60F\n"
     ]
    }
   ],
   "source": [
    "#摄氏温度与华氏温度的转换\n",
    "val=input(\"请输入带温度表示符号的温度值（例如：32C、100F）:\")\n",
    "if val[-1] in ['C','c']:\n",
    "    f=1.8*float(val[0:-1])+32\n",
    "    print(\"转换后的温度为：%.2fF\"%f)\n",
    "elif val[-1] in ['F','f']:\n",
    "    c=(float(val[0:-1])-32)/1.8\n",
    "    print(\"转换后的温度为：%.2fC\"%c)\n",
    "else:\n",
    "    print(\"输入有误\")"
   ]
  },
  {
   "cell_type": "code",
   "execution_count": 28,
   "metadata": {},
   "outputs": [
    {
     "name": "stdin",
     "output_type": "stream",
     "text": [
      "请输入你对象和你的名字： 小甜甜和小义义\n",
      "请输入一个旅游景点： 西安钟楼\n"
     ]
    },
    {
     "name": "stdout",
     "output_type": "stream",
     "text": [
      "今天已是西安初雪，世界这么大，科研这么累，小甜甜和小义义想去西安钟楼看看。\n"
     ]
    }
   ],
   "source": [
    "#字符串拼接\n",
    "str1=input(\"请输入你对象和你的名字：\")\n",
    "str2=input(\"请输入一个旅游景点：\")\n",
    "print(\"今天已是西安初雪，世界这么大，科研这么累，{}想去{}看看。\".format(str1,str2))"
   ]
  },
  {
   "cell_type": "code",
   "execution_count": 6,
   "metadata": {},
   "outputs": [
    {
     "name": "stdin",
     "output_type": "stream",
     "text": [
      "请输入你最喜欢的正整数N： 10\n"
     ]
    },
    {
     "name": "stdout",
     "output_type": "stream",
     "text": [
      "1到N的求和结果是： 55\n"
     ]
    }
   ],
   "source": [
    "#整数序列求和\n",
    "n=input(\"请输入你最喜欢的正整数N：\")\n",
    "sum=0\n",
    "for i in range(int(n)):\n",
    "    sum+=i+1\n",
    "print(\"1到N的求和结果是：\",sum)"
   ]
  },
  {
   "cell_type": "code",
   "execution_count": 7,
   "metadata": {},
   "outputs": [
    {
     "name": "stdin",
     "output_type": "stream",
     "text": [
      "请输入底数： 5\n",
      "请输入指数： 5\n"
     ]
    },
    {
     "name": "stdout",
     "output_type": "stream",
     "text": [
      "运算结果是： 3125.0\n"
     ]
    }
   ],
   "source": [
    "#计算x的y次幂\n",
    "x=input(\"请输入底数：\")\n",
    "y=input(\"请输入指数：\")\n",
    "a=float(x)\n",
    "b=float(y)\n",
    "print(\"运算结果是：\",pow(a,b))"
   ]
  },
  {
   "cell_type": "code",
   "execution_count": 8,
   "metadata": {},
   "outputs": [
    {
     "name": "stdin",
     "output_type": "stream",
     "text": [
      "请输入你最喜欢的正整数N： 5\n"
     ]
    },
    {
     "name": "stdout",
     "output_type": "stream",
     "text": [
      "N的阶乘是： 120\n"
     ]
    }
   ],
   "source": [
    "#正整数阶乘的计算\n",
    "n=input(\"请输入你最喜欢的正整数N：\")\n",
    "tmp=1\n",
    "for i in range(int(n)):\n",
    "    tmp*=i+1\n",
    "print(\"N的阶乘是：\",tmp)"
   ]
  },
  {
   "cell_type": "code",
   "execution_count": 9,
   "metadata": {},
   "outputs": [
    {
     "name": "stdin",
     "output_type": "stream",
     "text": [
      "请输入你最喜欢的正整数N: 15\n"
     ]
    },
    {
     "name": "stdout",
     "output_type": "stream",
     "text": [
      "运算结果是：1401602636313\n"
     ]
    }
   ],
   "source": [
    "#计算从1到N的阶乘之和\n",
    "sum=0\n",
    "tmp=1\n",
    "n=input(\"请输入你最喜欢的正整数N:\")\n",
    "for i in range(int(n)):\n",
    "    tmp*=i+1\n",
    "    sum+=tmp\n",
    "print(\"运算结果是：{}\".format(sum))"
   ]
  },
  {
   "cell_type": "code",
   "execution_count": 10,
   "metadata": {},
   "outputs": [
    {
     "name": "stdout",
     "output_type": "stream",
     "text": [
      "1*1= 1  \n",
      "1*2= 2  2*2= 4  \n",
      "1*3= 3  2*3= 6  3*3= 9  \n",
      "1*4= 4  2*4= 8  3*4=12  4*4=16  \n",
      "1*5= 5  2*5=10  3*5=15  4*5=20  5*5=25  \n",
      "1*6= 6  2*6=12  3*6=18  4*6=24  5*6=30  6*6=36  \n",
      "1*7= 7  2*7=14  3*7=21  4*7=28  5*7=35  6*7=42  7*7=49  \n",
      "1*8= 8  2*8=16  3*8=24  4*8=32  5*8=40  6*8=48  7*8=56  8*8=64  \n",
      "1*9= 9  2*9=18  3*9=27  4*9=36  5*9=45  6*9=54  7*9=63  8*9=72  9*9=81  \n"
     ]
    }
   ],
   "source": [
    "#九九乘法表输出\n",
    "for i in range(1,10):\n",
    "    for j in range(1,i+1):\n",
    "        print(\"{}*{}={:2}  \".format(j,i,i*j),end='')\n",
    "    print('')"
   ]
  },
  {
   "cell_type": "code",
   "execution_count": 11,
   "metadata": {},
   "outputs": [],
   "source": [
    "#太阳花绘制\n",
    "from turtle import *\n",
    "color('red','yellow')\n",
    "begin_fill()\n",
    "while True:\n",
    "    forward(250)\n",
    "    left(170)\n",
    "    if abs(pos())<1:\n",
    "        break\n",
    "end_fill()\n",
    "done()"
   ]
  },
  {
   "cell_type": "code",
   "execution_count": 13,
   "metadata": {},
   "outputs": [
    {
     "name": "stdin",
     "output_type": "stream",
     "text": [
      "请输入月份数（1——12）： 5\n"
     ]
    },
    {
     "name": "stdout",
     "output_type": "stream",
     "text": [
      "月份简写是May.\n"
     ]
    }
   ],
   "source": [
    "#月份简写输出\n",
    "months=\"JanFebMarAprMayJunJulAugSepOctNovDec\"\n",
    "n=input(\"请输入月份数（1——12）：\")\n",
    "pos=(int(n)-1)*3\n",
    "monthsAbc=months[pos:pos+3]\n",
    "print(\"月份简写是\"+monthsAbc+\".\")"
   ]
  },
  {
   "cell_type": "code",
   "execution_count": 21,
   "metadata": {},
   "outputs": [
    {
     "name": "stdout",
     "output_type": "stream",
     "text": [
      "I love python\n",
      "I love pytho\n",
      "I\n",
      "I l\n",
      " love python\n",
      "I love pythonI love pythonI love pythonI love pythonI love pythonI love pythonI love pythonI love pythonI love pythonI love python\n",
      "I love python really\n"
     ]
    }
   ],
   "source": [
    "str=\"I love python\"\n",
    "print(str)          #输出字符串\n",
    "print(str[0:-1])    #输出第一个到倒数第二个所有字符\n",
    "print(str[0])       #输出第一个字符\n",
    "print(str[0:3])     #输出第一个到第三个的字符\n",
    "print(str[1:])      #输出从第二个开始后面所有的字符\n",
    "print(str*10)       #连续输出字符串十次\n",
    "print(str+\" really\")#连接两个字符串"
   ]
  },
  {
   "cell_type": "code",
   "execution_count": 23,
   "metadata": {},
   "outputs": [
    {
     "name": "stdout",
     "output_type": "stream",
     "text": [
      "I\n",
      "you\n",
      "Iyou"
     ]
    }
   ],
   "source": [
    "x=\"I\"\n",
    "y=\"you\"\n",
    "#换行输出\n",
    "print(x)\n",
    "print(y)\n",
    "#不换行输出\n",
    "print(x,end=\"\")\n",
    "print(y,end=\"\")"
   ]
  },
  {
   "cell_type": "code",
   "execution_count": 29,
   "metadata": {},
   "outputs": [
    {
     "name": "stdout",
     "output_type": "stream",
     "text": [
      "50\n",
      "500.5\n",
      "xiaotiantian\n"
     ]
    }
   ],
   "source": [
    "mount = 50             #整型变量\n",
    "quality = 500.50       #浮点型变量\n",
    "name = \"xiaotiantian\"  #字符串\n",
    "print(mount)\n",
    "print(quality)\n",
    "print(name)"
   ]
  },
  {
   "cell_type": "code",
   "execution_count": 30,
   "metadata": {},
   "outputs": [
    {
     "name": "stdout",
     "output_type": "stream",
     "text": [
      "3\n"
     ]
    }
   ],
   "source": [
    "a=b=c=d=1 #多个变量赋相同值\n",
    "e=a*b+c+d\n",
    "print(e)"
   ]
  },
  {
   "cell_type": "code",
   "execution_count": 33,
   "metadata": {},
   "outputs": [
    {
     "name": "stdout",
     "output_type": "stream",
     "text": [
      "<class 'int'> <class 'float'> <class 'str'> <class 'complex'>\n"
     ]
    }
   ],
   "source": [
    "#type()函数\n",
    "a=100\n",
    "b=100.0\n",
    "c=\"xiaotiantian\"\n",
    "d=100+100j\n",
    "print(type(a),type(b),type(c),type(d))"
   ]
  },
  {
   "cell_type": "code",
   "execution_count": 37,
   "metadata": {},
   "outputs": [
    {
     "data": {
      "text/plain": [
       "True"
      ]
     },
     "execution_count": 37,
     "metadata": {},
     "output_type": "execute_result"
    }
   ],
   "source": [
    "#isinstance()函数\n",
    "a=100\n",
    "isinstance(a,int)"
   ]
  },
  {
   "cell_type": "code",
   "execution_count": 38,
   "metadata": {},
   "outputs": [
    {
     "data": {
      "text/plain": [
       "False"
      ]
     },
     "execution_count": 38,
     "metadata": {},
     "output_type": "execute_result"
    }
   ],
   "source": [
    "#isinstance()函数\n",
    "b=100.0\n",
    "isinstance(b,int)"
   ]
  },
  {
   "cell_type": "code",
   "execution_count": 40,
   "metadata": {},
   "outputs": [
    {
     "name": "stdout",
     "output_type": "stream",
     "text": [
      "3 -1 30 0.5 0 3 729\n"
     ]
    }
   ],
   "source": [
    "#算术运算\n",
    "a=1+2\n",
    "b=3-4\n",
    "c=5*6\n",
    "d=7/14\n",
    "e=7//14\n",
    "f=8%5\n",
    "g=9**3\n",
    "print(a,b,c,d,e,f,g)"
   ]
  },
  {
   "cell_type": "code",
   "execution_count": 59,
   "metadata": {},
   "outputs": [
    {
     "name": "stdout",
     "output_type": "stream",
     "text": [
      "100.123 -100 -100.12 1314.521 -100.123 22.82830260882311 521 0.39674208489268614 0.9179301270113127 0.4322138180434693\n"
     ]
    }
   ],
   "source": [
    "#函数运算\n",
    "a=-100.123\n",
    "b=521.1314\n",
    "c=1314.521\n",
    "e=abs(a)       #取绝对值\n",
    "f=round(a)     #四舍五入取整\n",
    "g=round(a,2)   #保留n位小数\n",
    "h=max(a,b,c)   #取最大值\n",
    "i=min(a,b,c)   #取最小值\n",
    "from math import sqrt\n",
    "j=sqrt(b)      #算术平方根\n",
    "from math import trunc\n",
    "k=trunc(b)     #把浮点数截断为整数\n",
    "from math import sin\n",
    "l=sin(a)       #正弦\n",
    "from math import cos\n",
    "m=cos(a)       #余弦\n",
    "from math import tan\n",
    "n=tan(a)       #正切\n",
    "print(e,f,g,h,i,j,k,l,m,n)"
   ]
  },
  {
   "cell_type": "code",
   "execution_count": 2,
   "metadata": {},
   "outputs": [
    {
     "name": "stdout",
     "output_type": "stream",
     "text": [
      "1 2 3\n",
      "1 2 4\n",
      "1 2 5\n",
      "1 2 6\n",
      "1 2 7\n",
      "1 2 8\n",
      "1 2 9\n",
      "1 3 2\n",
      "1 3 4\n",
      "1 3 5\n",
      "1 3 6\n",
      "1 3 7\n",
      "1 3 8\n",
      "1 3 9\n",
      "1 4 2\n",
      "1 4 3\n",
      "1 4 5\n",
      "1 4 6\n",
      "1 4 7\n",
      "1 4 8\n",
      "1 4 9\n",
      "1 5 2\n",
      "1 5 3\n",
      "1 5 4\n",
      "1 5 6\n",
      "1 5 7\n",
      "1 5 8\n",
      "1 5 9\n",
      "1 6 2\n",
      "1 6 3\n",
      "1 6 4\n",
      "1 6 5\n",
      "1 6 7\n",
      "1 6 8\n",
      "1 6 9\n",
      "1 7 2\n",
      "1 7 3\n",
      "1 7 4\n",
      "1 7 5\n",
      "1 7 6\n",
      "1 7 8\n",
      "1 7 9\n",
      "1 8 2\n",
      "1 8 3\n",
      "1 8 4\n",
      "1 8 5\n",
      "1 8 6\n",
      "1 8 7\n",
      "1 8 9\n",
      "1 9 2\n",
      "1 9 3\n",
      "1 9 4\n",
      "1 9 5\n",
      "1 9 6\n",
      "1 9 7\n",
      "1 9 8\n",
      "2 1 3\n",
      "2 1 4\n",
      "2 1 5\n",
      "2 1 6\n",
      "2 1 7\n",
      "2 1 8\n",
      "2 1 9\n",
      "2 3 1\n",
      "2 3 4\n",
      "2 3 5\n",
      "2 3 6\n",
      "2 3 7\n",
      "2 3 8\n",
      "2 3 9\n",
      "2 4 1\n",
      "2 4 3\n",
      "2 4 5\n",
      "2 4 6\n",
      "2 4 7\n",
      "2 4 8\n",
      "2 4 9\n",
      "2 5 1\n",
      "2 5 3\n",
      "2 5 4\n",
      "2 5 6\n",
      "2 5 7\n",
      "2 5 8\n",
      "2 5 9\n",
      "2 6 1\n",
      "2 6 3\n",
      "2 6 4\n",
      "2 6 5\n",
      "2 6 7\n",
      "2 6 8\n",
      "2 6 9\n",
      "2 7 1\n",
      "2 7 3\n",
      "2 7 4\n",
      "2 7 5\n",
      "2 7 6\n",
      "2 7 8\n",
      "2 7 9\n",
      "2 8 1\n",
      "2 8 3\n",
      "2 8 4\n",
      "2 8 5\n",
      "2 8 6\n",
      "2 8 7\n",
      "2 8 9\n",
      "2 9 1\n",
      "2 9 3\n",
      "2 9 4\n",
      "2 9 5\n",
      "2 9 6\n",
      "2 9 7\n",
      "2 9 8\n",
      "3 1 2\n",
      "3 1 4\n",
      "3 1 5\n",
      "3 1 6\n",
      "3 1 7\n",
      "3 1 8\n",
      "3 1 9\n",
      "3 2 1\n",
      "3 2 4\n",
      "3 2 5\n",
      "3 2 6\n",
      "3 2 7\n",
      "3 2 8\n",
      "3 2 9\n",
      "3 4 1\n",
      "3 4 2\n",
      "3 4 5\n",
      "3 4 6\n",
      "3 4 7\n",
      "3 4 8\n",
      "3 4 9\n",
      "3 5 1\n",
      "3 5 2\n",
      "3 5 4\n",
      "3 5 6\n",
      "3 5 7\n",
      "3 5 8\n",
      "3 5 9\n",
      "3 6 1\n",
      "3 6 2\n",
      "3 6 4\n",
      "3 6 5\n",
      "3 6 7\n",
      "3 6 8\n",
      "3 6 9\n",
      "3 7 1\n",
      "3 7 2\n",
      "3 7 4\n",
      "3 7 5\n",
      "3 7 6\n",
      "3 7 8\n",
      "3 7 9\n",
      "3 8 1\n",
      "3 8 2\n",
      "3 8 4\n",
      "3 8 5\n",
      "3 8 6\n",
      "3 8 7\n",
      "3 8 9\n",
      "3 9 1\n",
      "3 9 2\n",
      "3 9 4\n",
      "3 9 5\n",
      "3 9 6\n",
      "3 9 7\n",
      "3 9 8\n",
      "4 1 2\n",
      "4 1 3\n",
      "4 1 5\n",
      "4 1 6\n",
      "4 1 7\n",
      "4 1 8\n",
      "4 1 9\n",
      "4 2 1\n",
      "4 2 3\n",
      "4 2 5\n",
      "4 2 6\n",
      "4 2 7\n",
      "4 2 8\n",
      "4 2 9\n",
      "4 3 1\n",
      "4 3 2\n",
      "4 3 5\n",
      "4 3 6\n",
      "4 3 7\n",
      "4 3 8\n",
      "4 3 9\n",
      "4 5 1\n",
      "4 5 2\n",
      "4 5 3\n",
      "4 5 6\n",
      "4 5 7\n",
      "4 5 8\n",
      "4 5 9\n",
      "4 6 1\n",
      "4 6 2\n",
      "4 6 3\n",
      "4 6 5\n",
      "4 6 7\n",
      "4 6 8\n",
      "4 6 9\n",
      "4 7 1\n",
      "4 7 2\n",
      "4 7 3\n",
      "4 7 5\n",
      "4 7 6\n",
      "4 7 8\n",
      "4 7 9\n",
      "4 8 1\n",
      "4 8 2\n",
      "4 8 3\n",
      "4 8 5\n",
      "4 8 6\n",
      "4 8 7\n",
      "4 8 9\n",
      "4 9 1\n",
      "4 9 2\n",
      "4 9 3\n",
      "4 9 5\n",
      "4 9 6\n",
      "4 9 7\n",
      "4 9 8\n",
      "5 1 2\n",
      "5 1 3\n",
      "5 1 4\n",
      "5 1 6\n",
      "5 1 7\n",
      "5 1 8\n",
      "5 1 9\n",
      "5 2 1\n",
      "5 2 3\n",
      "5 2 4\n",
      "5 2 6\n",
      "5 2 7\n",
      "5 2 8\n",
      "5 2 9\n",
      "5 3 1\n",
      "5 3 2\n",
      "5 3 4\n",
      "5 3 6\n",
      "5 3 7\n",
      "5 3 8\n",
      "5 3 9\n",
      "5 4 1\n",
      "5 4 2\n",
      "5 4 3\n",
      "5 4 6\n",
      "5 4 7\n",
      "5 4 8\n",
      "5 4 9\n",
      "5 6 1\n",
      "5 6 2\n",
      "5 6 3\n",
      "5 6 4\n",
      "5 6 7\n",
      "5 6 8\n",
      "5 6 9\n",
      "5 7 1\n",
      "5 7 2\n",
      "5 7 3\n",
      "5 7 4\n",
      "5 7 6\n",
      "5 7 8\n",
      "5 7 9\n",
      "5 8 1\n",
      "5 8 2\n",
      "5 8 3\n",
      "5 8 4\n",
      "5 8 6\n",
      "5 8 7\n",
      "5 8 9\n",
      "5 9 1\n",
      "5 9 2\n",
      "5 9 3\n",
      "5 9 4\n",
      "5 9 6\n",
      "5 9 7\n",
      "5 9 8\n",
      "6 1 2\n",
      "6 1 3\n",
      "6 1 4\n",
      "6 1 5\n",
      "6 1 7\n",
      "6 1 8\n",
      "6 1 9\n",
      "6 2 1\n",
      "6 2 3\n",
      "6 2 4\n",
      "6 2 5\n",
      "6 2 7\n",
      "6 2 8\n",
      "6 2 9\n",
      "6 3 1\n",
      "6 3 2\n",
      "6 3 4\n",
      "6 3 5\n",
      "6 3 7\n",
      "6 3 8\n",
      "6 3 9\n",
      "6 4 1\n",
      "6 4 2\n",
      "6 4 3\n",
      "6 4 5\n",
      "6 4 7\n",
      "6 4 8\n",
      "6 4 9\n",
      "6 5 1\n",
      "6 5 2\n",
      "6 5 3\n",
      "6 5 4\n",
      "6 5 7\n",
      "6 5 8\n",
      "6 5 9\n",
      "6 7 1\n",
      "6 7 2\n",
      "6 7 3\n",
      "6 7 4\n",
      "6 7 5\n",
      "6 7 8\n",
      "6 7 9\n",
      "6 8 1\n",
      "6 8 2\n",
      "6 8 3\n",
      "6 8 4\n",
      "6 8 5\n",
      "6 8 7\n",
      "6 8 9\n",
      "6 9 1\n",
      "6 9 2\n",
      "6 9 3\n",
      "6 9 4\n",
      "6 9 5\n",
      "6 9 7\n",
      "6 9 8\n",
      "7 1 2\n",
      "7 1 3\n",
      "7 1 4\n",
      "7 1 5\n",
      "7 1 6\n",
      "7 1 8\n",
      "7 1 9\n",
      "7 2 1\n",
      "7 2 3\n",
      "7 2 4\n",
      "7 2 5\n",
      "7 2 6\n",
      "7 2 8\n",
      "7 2 9\n",
      "7 3 1\n",
      "7 3 2\n",
      "7 3 4\n",
      "7 3 5\n",
      "7 3 6\n",
      "7 3 8\n",
      "7 3 9\n",
      "7 4 1\n",
      "7 4 2\n",
      "7 4 3\n",
      "7 4 5\n",
      "7 4 6\n",
      "7 4 8\n",
      "7 4 9\n",
      "7 5 1\n",
      "7 5 2\n",
      "7 5 3\n",
      "7 5 4\n",
      "7 5 6\n",
      "7 5 8\n",
      "7 5 9\n",
      "7 6 1\n",
      "7 6 2\n",
      "7 6 3\n",
      "7 6 4\n",
      "7 6 5\n",
      "7 6 8\n",
      "7 6 9\n",
      "7 8 1\n",
      "7 8 2\n",
      "7 8 3\n",
      "7 8 4\n",
      "7 8 5\n",
      "7 8 6\n",
      "7 8 9\n",
      "7 9 1\n",
      "7 9 2\n",
      "7 9 3\n",
      "7 9 4\n",
      "7 9 5\n",
      "7 9 6\n",
      "7 9 8\n",
      "8 1 2\n",
      "8 1 3\n",
      "8 1 4\n",
      "8 1 5\n",
      "8 1 6\n",
      "8 1 7\n",
      "8 1 9\n",
      "8 2 1\n",
      "8 2 3\n",
      "8 2 4\n",
      "8 2 5\n",
      "8 2 6\n",
      "8 2 7\n",
      "8 2 9\n",
      "8 3 1\n",
      "8 3 2\n",
      "8 3 4\n",
      "8 3 5\n",
      "8 3 6\n",
      "8 3 7\n",
      "8 3 9\n",
      "8 4 1\n",
      "8 4 2\n",
      "8 4 3\n",
      "8 4 5\n",
      "8 4 6\n",
      "8 4 7\n",
      "8 4 9\n",
      "8 5 1\n",
      "8 5 2\n",
      "8 5 3\n",
      "8 5 4\n",
      "8 5 6\n",
      "8 5 7\n",
      "8 5 9\n",
      "8 6 1\n",
      "8 6 2\n",
      "8 6 3\n",
      "8 6 4\n",
      "8 6 5\n",
      "8 6 7\n",
      "8 6 9\n",
      "8 7 1\n",
      "8 7 2\n",
      "8 7 3\n",
      "8 7 4\n",
      "8 7 5\n",
      "8 7 6\n",
      "8 7 9\n",
      "8 9 1\n",
      "8 9 2\n",
      "8 9 3\n",
      "8 9 4\n",
      "8 9 5\n",
      "8 9 6\n",
      "8 9 7\n",
      "9 1 2\n",
      "9 1 3\n",
      "9 1 4\n",
      "9 1 5\n",
      "9 1 6\n",
      "9 1 7\n",
      "9 1 8\n",
      "9 2 1\n",
      "9 2 3\n",
      "9 2 4\n",
      "9 2 5\n",
      "9 2 6\n",
      "9 2 7\n",
      "9 2 8\n",
      "9 3 1\n",
      "9 3 2\n",
      "9 3 4\n",
      "9 3 5\n",
      "9 3 6\n",
      "9 3 7\n",
      "9 3 8\n",
      "9 4 1\n",
      "9 4 2\n",
      "9 4 3\n",
      "9 4 5\n",
      "9 4 6\n",
      "9 4 7\n",
      "9 4 8\n",
      "9 5 1\n",
      "9 5 2\n",
      "9 5 3\n",
      "9 5 4\n",
      "9 5 6\n",
      "9 5 7\n",
      "9 5 8\n",
      "9 6 1\n",
      "9 6 2\n",
      "9 6 3\n",
      "9 6 4\n",
      "9 6 5\n",
      "9 6 7\n",
      "9 6 8\n",
      "9 7 1\n",
      "9 7 2\n",
      "9 7 3\n",
      "9 7 4\n",
      "9 7 5\n",
      "9 7 6\n",
      "9 7 8\n",
      "9 8 1\n",
      "9 8 2\n",
      "9 8 3\n",
      "9 8 4\n",
      "9 8 5\n",
      "9 8 6\n",
      "9 8 7\n"
     ]
    }
   ],
   "source": [
    "#1,2,3,4,5,6,7,8,9,能组成什么样的无重复数字的三位数\n",
    "for i in range(1,10):\n",
    "    for j in range(1,10):\n",
    "        for k in range(1,10):\n",
    "            if(i!=j)and(i!=k)and(j!=k):\n",
    "                print(i,j,k)"
   ]
  },
  {
   "cell_type": "code",
   "execution_count": 3,
   "metadata": {},
   "outputs": [
    {
     "name": "stdout",
     "output_type": "stream",
     "text": [
      "522628 520000 271604594 1000.6026871401151 1000 970\n"
     ]
    }
   ],
   "source": [
    "#算术运算符\n",
    "a=521314\n",
    "b=1314\n",
    "c=521\n",
    "d=a+b\n",
    "e=a-b\n",
    "f=a*c\n",
    "g=a/c\n",
    "h=a//c\n",
    "i=a%b\n",
    "print(d,e,f,g,h,i)"
   ]
  },
  {
   "cell_type": "code",
   "execution_count": 9,
   "metadata": {},
   "outputs": [
    {
     "name": "stdout",
     "output_type": "stream",
     "text": [
      "a不等于b\n",
      "a不等于b\n",
      "a不大于b\n",
      "a小于b\n",
      "a不大于等于b\n",
      "a小于等于b\n"
     ]
    }
   ],
   "source": [
    "#比较运算符\n",
    "a=521\n",
    "b=1314\n",
    "if(a==b):\n",
    "    print(\"a等于b\")\n",
    "else:\n",
    "    print(\"a不等于b\")\n",
    "if(a!=b):\n",
    "    print(\"a不等于b\")\n",
    "else:\n",
    "    print(\"a等于b\")\n",
    "if(a>b):\n",
    "    print(\"a大于b\")\n",
    "else:\n",
    "    print(\"a不大于b\")\n",
    "if(a<b):\n",
    "    print(\"a小于b\")\n",
    "else:\n",
    "    print(\"a不小于b\")\n",
    "if(a>=b):\n",
    "    print(\"a大于等于b\")\n",
    "else:\n",
    "    print(\"a不大于等于b\")\n",
    "if(a<=b):\n",
    "    print(\"a小于等于b\")\n",
    "else:\n",
    "    print(\"a不小于等于b\")"
   ]
  },
  {
   "cell_type": "code",
   "execution_count": 18,
   "metadata": {},
   "outputs": [
    {
     "name": "stdout",
     "output_type": "stream",
     "text": [
      "1835 100521 98686 52100000 2.5543760803545047e-13 489 76\n"
     ]
    }
   ],
   "source": [
    "#赋值运算符\n",
    "a=521\n",
    "b=1314\n",
    "c=a+b\n",
    "d=e=f=j=h=i=100000\n",
    "d+=a\n",
    "e-=b\n",
    "f*=a\n",
    "g/=b\n",
    "h%=a\n",
    "i//=b\n",
    "print(c,d,e,f,g,h,i)"
   ]
  },
  {
   "cell_type": "code",
   "execution_count": 20,
   "metadata": {},
   "outputs": [
    {
     "name": "stdout",
     "output_type": "stream",
     "text": [
      "牛肉 羊肉\n",
      "牛肉 猪肉\n",
      "牛肉 鱼肉\n",
      "牛肉 鸡肉\n",
      "羊肉 牛肉\n",
      "羊肉 猪肉\n",
      "羊肉 鱼肉\n",
      "羊肉 鸡肉\n",
      "猪肉 牛肉\n",
      "猪肉 羊肉\n",
      "猪肉 鱼肉\n",
      "猪肉 鸡肉\n",
      "鱼肉 牛肉\n",
      "鱼肉 羊肉\n",
      "鱼肉 猪肉\n",
      "鱼肉 鸡肉\n",
      "鸡肉 牛肉\n",
      "鸡肉 羊肉\n",
      "鸡肉 猪肉\n",
      "鸡肉 鱼肉\n"
     ]
    }
   ],
   "source": [
    "#健康食谱输出（每天吃两种不同肉类）\n",
    "diet=['牛肉','羊肉','猪肉','鱼肉','鸡肉']\n",
    "for x in range(0,5):\n",
    "    for y in range(0,5):\n",
    "        if(x!=y):\n",
    "            print(\"{} {}\".format(diet[x],diet[y]))"
   ]
  },
  {
   "cell_type": "code",
   "execution_count": 29,
   "metadata": {},
   "outputs": [
    {
     "name": "stdout",
     "output_type": "stream",
     "text": [
      "-99.0\n",
      "21.0\n",
      "261.0\n",
      "1581.0\n"
     ]
    }
   ],
   "source": [
    "#一个整数，加上100是一个完全平方数，再加上168又是一个完全平方数\n",
    "for i in range(1,85):\n",
    "    if 168%i==0:\n",
    "        j=168/i;\n",
    "        if (i>j) and ((i+j)%2==0) and ((i-j)%2==0):\n",
    "            m=(i+j)/2\n",
    "            n=(i-j)/2\n",
    "            x=n*n-100\n",
    "            print(x)"
   ]
  },
  {
   "cell_type": "code",
   "execution_count": 33,
   "metadata": {},
   "outputs": [
    {
     "name": "stdin",
     "output_type": "stream",
     "text": [
      "请输入年份： 2020\n",
      "请输入月份： 11\n",
      "请输入日期： 22\n"
     ]
    },
    {
     "name": "stdout",
     "output_type": "stream",
     "text": [
      "327\n"
     ]
    }
   ],
   "source": [
    "#给出日期，判断是该年第几天\n",
    "a=input(\"请输入年份：\")\n",
    "b=input(\"请输入月份：\")\n",
    "c=input(\"请输入日期：\")\n",
    "year=int(a)\n",
    "month=int(b)\n",
    "day=int(c)\n",
    "months=(0,31,59,90,120,151,181,212,243,273,304,334)\n",
    "if (month>0) and (month<=12):\n",
    "    sum=months[month-1]\n",
    "else:\n",
    "    print(\"输入错误\")\n",
    "sum+=day\n",
    "leap=0\n",
    "if (year%400==0) or ((year%4==0)and(year%100!=0)):\n",
    "    leap=1                                            #判断是否是闰年\n",
    "if (leap==1) and (month>2):\n",
    "    sum+=1                                            #闰年且月份大于2，则天数加1\n",
    "print(sum)"
   ]
  },
  {
   "cell_type": "code",
   "execution_count": 35,
   "metadata": {},
   "outputs": [
    {
     "name": "stdin",
     "output_type": "stream",
     "text": [
      "请输入第一个数： 2\n",
      "请输入第二个数： 5\n"
     ]
    },
    {
     "name": "stdout",
     "output_type": "stream",
     "text": [
      "5 2\n"
     ]
    }
   ],
   "source": [
    "#将两个数由大到小输出\n",
    "a=input(\"请输入第一个数：\")\n",
    "b=input(\"请输入第二个数：\")\n",
    "x=int(a)\n",
    "y=int(b)\n",
    "if (x>=y):\n",
    "    print(x,y)\n",
    "else:\n",
    "    print(y,x)"
   ]
  },
  {
   "cell_type": "code",
   "execution_count": 39,
   "metadata": {},
   "outputs": [
    {
     "name": "stdout",
     "output_type": "stream",
     "text": [
      "153\n",
      "370\n",
      "371\n",
      "407\n"
     ]
    }
   ],
   "source": [
    "#输出水仙花数\n",
    "for n in range(100,1000):\n",
    "    a=n%10\n",
    "    b=n//10%10\n",
    "    c=n//100\n",
    "    if (n==a*a*a+b*b*b+c*c*c):\n",
    "        print(n)"
   ]
  },
  {
   "cell_type": "code",
   "execution_count": null,
   "metadata": {},
   "outputs": [],
   "source": []
  }
 ],
 "metadata": {
  "kernelspec": {
   "display_name": "Python 3",
   "language": "python",
   "name": "python3"
  },
  "language_info": {
   "codemirror_mode": {
    "name": "ipython",
    "version": 3
   },
   "file_extension": ".py",
   "mimetype": "text/x-python",
   "name": "python",
   "nbconvert_exporter": "python",
   "pygments_lexer": "ipython3",
   "version": "3.8.5"
  }
 },
 "nbformat": 4,
 "nbformat_minor": 4
}
