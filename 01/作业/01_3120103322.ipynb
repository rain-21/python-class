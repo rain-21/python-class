{
 "cells": [
  {
   "cell_type": "code",
   "execution_count": 5,
   "metadata": {},
   "outputs": [
    {
     "name": "stdout",
     "output_type": "stream",
     "text": [
      "['a', 'b', 'c']\n"
     ]
    }
   ],
   "source": [
    "list=[\"a\",\"b\",\"c\"]\n",
    "print (list)"
   ]
  },
  {
   "cell_type": "code",
   "execution_count": 6,
   "metadata": {},
   "outputs": [
    {
     "name": "stdout",
     "output_type": "stream",
     "text": [
      "hello\n",
      "runoob\n"
     ]
    }
   ],
   "source": [
    "print(\"hello\");print(\"runoob\");"
   ]
  },
  {
   "cell_type": "code",
   "execution_count": 9,
   "metadata": {},
   "outputs": [
    {
     "data": {
      "text/plain": [
       "['Mondy', 'Tuesday', 'Wednesday', 'Thursday', 'Friday']"
      ]
     },
     "execution_count": 9,
     "metadata": {},
     "output_type": "execute_result"
    }
   ],
   "source": [
    "days=['Mondy','Tuesday','Wednesday',\n",
    "      'Thursday','Friday']\n",
    "days"
   ]
  },
  {
   "cell_type": "code",
   "execution_count": 12,
   "metadata": {},
   "outputs": [],
   "source": [
    "word = 'word'\n",
    "sentence=\"这是一个句子。\"\n",
    "paragraph=\"\"\"这是一个段落。\n",
    "包含了多个语句\"\"\""
   ]
  },
  {
   "cell_type": "code",
   "execution_count": 13,
   "metadata": {},
   "outputs": [
    {
     "name": "stdout",
     "output_type": "stream",
     "text": [
      "Hello,python!\n"
     ]
    }
   ],
   "source": [
    "#第一个注释\n",
    "print(\"Hello,python!\")   #第二个1注释"
   ]
  },
  {
   "cell_type": "code",
   "execution_count": 15,
   "metadata": {},
   "outputs": [
    {
     "name": "stdout",
     "output_type": "stream",
     "text": [
      "runoob\n"
     ]
    }
   ],
   "source": [
    "import sys; x = 'runoob'; sys.stdout.write(x + '\\n')     #同一行显示多条语句"
   ]
  },
  {
   "cell_type": "code",
   "execution_count": 19,
   "metadata": {},
   "outputs": [
    {
     "name": "stdout",
     "output_type": "stream",
     "text": [
      "a\n",
      "b\n"
     ]
    }
   ],
   "source": [
    "x=\"a\"\n",
    "y=\"b\"\n",
    "#换行输出\n",
    "print (x)\n",
    "print (y)\n"
   ]
  },
  {
   "cell_type": "code",
   "execution_count": 20,
   "metadata": {},
   "outputs": [
    {
     "name": "stdout",
     "output_type": "stream",
     "text": [
      "a\n",
      "b\n",
      "a b\n"
     ]
    }
   ],
   "source": [
    "x=\"a\"\n",
    "y=\"b\"\n",
    "#不换行输出\n",
    "print (x),\n",
    "print (y),\n",
    "\n",
    "#不换行输出\n",
    "print (x,y)"
   ]
  },
  {
   "cell_type": "code",
   "execution_count": 21,
   "metadata": {},
   "outputs": [],
   "source": [
    "counter = 100   #赋值整型变量\n",
    "miles =1000.0   #浮点型\n",
    "name =\"john\"    #字符串"
   ]
  },
  {
   "cell_type": "code",
   "execution_count": 28,
   "metadata": {},
   "outputs": [
    {
     "data": {
      "text/plain": [
       "(1, 1, 1)"
      ]
     },
     "execution_count": 28,
     "metadata": {},
     "output_type": "execute_result"
    }
   ],
   "source": [
    "a=b=c=1\n",
    "a,b,c"
   ]
  },
  {
   "cell_type": "code",
   "execution_count": 29,
   "metadata": {},
   "outputs": [
    {
     "data": {
      "text/plain": [
       "(1, 2, 'john')"
      ]
     },
     "execution_count": 29,
     "metadata": {},
     "output_type": "execute_result"
    }
   ],
   "source": [
    "a,b,c=1,2,\"john\"\n",
    "a,b,c"
   ]
  },
  {
   "cell_type": "code",
   "execution_count": 34,
   "metadata": {},
   "outputs": [
    {
     "name": "stdout",
     "output_type": "stream",
     "text": [
      "Hello World!\n"
     ]
    }
   ],
   "source": [
    "str='Hello World!'\n",
    "\n",
    "print (str) \n"
   ]
  },
  {
   "cell_type": "code",
   "execution_count": 36,
   "metadata": {},
   "outputs": [
    {
     "name": "stdout",
     "output_type": "stream",
     "text": [
      "H\n"
     ]
    }
   ],
   "source": [
    "str='Hello World!'\n",
    "print (str[0])  #输出完整字符串\n",
    "\n"
   ]
  },
  {
   "cell_type": "code",
   "execution_count": 39,
   "metadata": {},
   "outputs": [
    {
     "name": "stdout",
     "output_type": "stream",
     "text": [
      "llo\n"
     ]
    }
   ],
   "source": [
    "str='Hello World!'\n",
    "\n",
    "print (str[2:5])        #输出字符串中第三个至第六个之间的字符串\n"
   ]
  },
  {
   "cell_type": "code",
   "execution_count": 47,
   "metadata": {},
   "outputs": [
    {
     "name": "stdout",
     "output_type": "stream",
     "text": [
      "el\n"
     ]
    }
   ],
   "source": [
    "str='Hello World!'\n",
    "\n",
    "print (str[1:5:2])        #输出从第二个开始到第五个且每隔两个的字符\n"
   ]
  },
  {
   "cell_type": "code",
   "execution_count": 55,
   "metadata": {},
   "outputs": [
    {
     "name": "stdout",
     "output_type": "stream",
     "text": [
      "Hello World!Hello World!\n"
     ]
    }
   ],
   "source": [
    "str='Hello World!'\n",
    "\n",
    "print(str*2)           #输出字符串两次\n"
   ]
  },
  {
   "cell_type": "code",
   "execution_count": 56,
   "metadata": {},
   "outputs": [
    {
     "name": "stdout",
     "output_type": "stream",
     "text": [
      "Hello World!TEST\n"
     ]
    }
   ],
   "source": [
    "str='Hello World!'\n",
    "\n",
    "print(str + \"TEST\")    #输出连接的字符串"
   ]
  },
  {
   "cell_type": "code",
   "execution_count": 58,
   "metadata": {},
   "outputs": [
    {
     "name": "stdout",
     "output_type": "stream",
     "text": [
      "llo World!\n"
     ]
    }
   ],
   "source": [
    "str='Hello World!'\n",
    "\n",
    "print(str[2:])    #输出从第三个开始后的所有字符"
   ]
  },
  {
   "cell_type": "code",
   "execution_count": 59,
   "metadata": {},
   "outputs": [
    {
     "name": "stdout",
     "output_type": "stream",
     "text": [
      "=============python import mode==================\n",
      "命令行参数为:\n",
      "D:\\anaconda\\lib\\site-packages\\ipykernel_launcher.py\n",
      "-f\n",
      "C:\\Users\\15225\\AppData\\Roaming\\jupyter\\runtime\\kernel-8aff9b55-b7a1-4c97-b3d0-fd408d07e4c8.json\n",
      "\n",
      " python 路径为 ['C:\\\\Users\\\\15225\\\\Desktop\\\\Untitled Folder', 'D:\\\\anaconda\\\\python38.zip', 'D:\\\\anaconda\\\\DLLs', 'D:\\\\anaconda\\\\lib', 'D:\\\\anaconda', '', 'D:\\\\anaconda\\\\lib\\\\site-packages', 'D:\\\\anaconda\\\\lib\\\\site-packages\\\\win32', 'D:\\\\anaconda\\\\lib\\\\site-packages\\\\win32\\\\lib', 'D:\\\\anaconda\\\\lib\\\\site-packages\\\\Pythonwin', 'D:\\\\anaconda\\\\lib\\\\site-packages\\\\IPython\\\\extensions', 'C:\\\\Users\\\\15225\\\\.ipython']\n"
     ]
    }
   ],
   "source": [
    "#导入sys模块\n",
    "import sys\n",
    "print('=============python import mode==================')\n",
    "print('命令行参数为:')\n",
    "for i in sys.argv:\n",
    "    print(i)\n",
    "print('\\n python 路径为',sys.path)"
   ]
  },
  {
   "cell_type": "code",
   "execution_count": 60,
   "metadata": {},
   "outputs": [
    {
     "name": "stdout",
     "output_type": "stream",
     "text": [
      "================== python from import===============\n",
      "path: ['C:\\\\Users\\\\15225\\\\Desktop\\\\Untitled Folder', 'D:\\\\anaconda\\\\python38.zip', 'D:\\\\anaconda\\\\DLLs', 'D:\\\\anaconda\\\\lib', 'D:\\\\anaconda', '', 'D:\\\\anaconda\\\\lib\\\\site-packages', 'D:\\\\anaconda\\\\lib\\\\site-packages\\\\win32', 'D:\\\\anaconda\\\\lib\\\\site-packages\\\\win32\\\\lib', 'D:\\\\anaconda\\\\lib\\\\site-packages\\\\Pythonwin', 'D:\\\\anaconda\\\\lib\\\\site-packages\\\\IPython\\\\extensions', 'C:\\\\Users\\\\15225\\\\.ipython']\n"
     ]
    }
   ],
   "source": [
    "#导入sys模块的argv,path成员\n",
    "from sys import argv,path     #导入特定的成员\n",
    "\n",
    "print('================== python from import===============')\n",
    "print('path:',path)    #因为已经导入path成员，所以此处引用时不需加sys.path"
   ]
  },
  {
   "cell_type": "code",
   "execution_count": 62,
   "metadata": {},
   "outputs": [
    {
     "name": "stdout",
     "output_type": "stream",
     "text": [
      "<class 'int'> <class 'float'> <class 'bool'> <class 'complex'>\n"
     ]
    }
   ],
   "source": [
    "a,b,c,d=20,5.5,True,4+3j     #python3支持int,float,bool,complex(复数)\n",
    "print(type(a),type(b),type(c),type(d))"
   ]
  },
  {
   "cell_type": "code",
   "execution_count": 64,
   "metadata": {},
   "outputs": [
    {
     "data": {
      "text/plain": [
       "True"
      ]
     },
     "execution_count": 64,
     "metadata": {},
     "output_type": "execute_result"
    }
   ],
   "source": [
    "a=111    #此外还可以用isinstance来判断\n",
    "isinstance(a,int)"
   ]
  },
  {
   "cell_type": "code",
   "execution_count": 65,
   "metadata": {},
   "outputs": [
    {
     "data": {
      "text/plain": [
       "True"
      ]
     },
     "execution_count": 65,
     "metadata": {},
     "output_type": "execute_result"
    }
   ],
   "source": [
    "#isinstance和type的区别在于：\n",
    "#type（）不会认为子类是一种父类类型。\n",
    "#isinstance（）会认为子类是一种父类类型。\n",
    "class A:\n",
    "    pass\n",
    "class B:\n",
    "    pass\n",
    "\n",
    "isinstance(A(),A)"
   ]
  },
  {
   "cell_type": "code",
   "execution_count": 67,
   "metadata": {},
   "outputs": [
    {
     "data": {
      "text/plain": [
       "True"
      ]
     },
     "execution_count": 67,
     "metadata": {},
     "output_type": "execute_result"
    }
   ],
   "source": [
    "class A:\n",
    "    pass\n",
    "class B:\n",
    "    pass\n",
    "\n",
    "type(A())==A"
   ]
  },
  {
   "cell_type": "code",
   "execution_count": 70,
   "metadata": {},
   "outputs": [
    {
     "data": {
      "text/plain": [
       "False"
      ]
     },
     "execution_count": 70,
     "metadata": {},
     "output_type": "execute_result"
    }
   ],
   "source": [
    "class A:\n",
    "    pass\n",
    "class B:\n",
    "    pass\n",
    "\n",
    "isinstance(B(),A)"
   ]
  },
  {
   "cell_type": "code",
   "execution_count": 74,
   "metadata": {},
   "outputs": [
    {
     "data": {
      "text/plain": [
       "False"
      ]
     },
     "execution_count": 74,
     "metadata": {},
     "output_type": "execute_result"
    }
   ],
   "source": [
    "type(B())==A"
   ]
  },
  {
   "cell_type": "code",
   "execution_count": 75,
   "metadata": {},
   "outputs": [
    {
     "data": {
      "text/plain": [
       "9"
      ]
     },
     "execution_count": 75,
     "metadata": {},
     "output_type": "execute_result"
    }
   ],
   "source": [
    "5+4  #加法"
   ]
  },
  {
   "cell_type": "code",
   "execution_count": 76,
   "metadata": {},
   "outputs": [
    {
     "data": {
      "text/plain": [
       "2.3"
      ]
     },
     "execution_count": 76,
     "metadata": {},
     "output_type": "execute_result"
    }
   ],
   "source": [
    "4.3-2  #减法"
   ]
  },
  {
   "cell_type": "code",
   "execution_count": 77,
   "metadata": {},
   "outputs": [
    {
     "data": {
      "text/plain": [
       "21"
      ]
     },
     "execution_count": 77,
     "metadata": {},
     "output_type": "execute_result"
    }
   ],
   "source": [
    "3*7   #乘法"
   ]
  },
  {
   "cell_type": "code",
   "execution_count": 78,
   "metadata": {},
   "outputs": [
    {
     "data": {
      "text/plain": [
       "0.5"
      ]
     },
     "execution_count": 78,
     "metadata": {},
     "output_type": "execute_result"
    }
   ],
   "source": [
    "2/4   #除法"
   ]
  },
  {
   "cell_type": "code",
   "execution_count": 79,
   "metadata": {},
   "outputs": [
    {
     "data": {
      "text/plain": [
       "0"
      ]
     },
     "execution_count": 79,
     "metadata": {},
     "output_type": "execute_result"
    }
   ],
   "source": [
    "2//4    #除法，得到一个整数   '/'返回一个浮点数，'//'返回一个整数"
   ]
  },
  {
   "cell_type": "code",
   "execution_count": 80,
   "metadata": {},
   "outputs": [
    {
     "data": {
      "text/plain": [
       "2"
      ]
     },
     "execution_count": 80,
     "metadata": {},
     "output_type": "execute_result"
    }
   ],
   "source": [
    "17%3    #取余"
   ]
  },
  {
   "cell_type": "code",
   "execution_count": 81,
   "metadata": {},
   "outputs": [
    {
     "data": {
      "text/plain": [
       "32"
      ]
     },
     "execution_count": 81,
     "metadata": {},
     "output_type": "execute_result"
    }
   ],
   "source": [
    "2**5     #乘方"
   ]
  },
  {
   "cell_type": "code",
   "execution_count": 86,
   "metadata": {},
   "outputs": [
    {
     "name": "stdout",
     "output_type": "stream",
     "text": [
      "Ru\n",
      "oob\n",
      "================\n",
      "Ru\\noob\n"
     ]
    }
   ],
   "source": [
    "#python使用反斜杠\\转义特殊字符，如果你不想让反斜杠发生转义，可以在字符串前面添加一个r，表示原始字符串：\n",
    "\n",
    "print('Ru\\noob')     # 有转义的时候，\\n表示换行\n",
    "print('================')    \n",
    "print(r'Ru\\noob')\n",
    "\n",
    "#另外，反斜杠\\可以作为续行符，表示下一行是上一行的延续。也可以用\"\"\"...\"\"\"或者'''...'''跨越多行。"
   ]
  },
  {
   "cell_type": "code",
   "execution_count": 88,
   "metadata": {},
   "outputs": [
    {
     "name": "stdout",
     "output_type": "stream",
     "text": [
      "p n\n",
      "n p\n"
     ]
    }
   ],
   "source": [
    "#python没有单独的字符类型，一个字符就是一个长度为1的字符串\n",
    "\n",
    "word= 'python'\n",
    "print(word[0],word[5])\n",
    "\n",
    "print(word[-1],word[-6])\n",
    "\n",
    "#与C字符串不同的是，Python字符串不能被改变。向一个索引位置赋值，比如word[0]='m'会导致错误\n",
    "#python中的字符串有两种索引方式，从左往右以0开始，从右往左以-1开始"
   ]
  },
  {
   "cell_type": "code",
   "execution_count": 95,
   "metadata": {},
   "outputs": [
    {
     "name": "stdout",
     "output_type": "stream",
     "text": [
      "['abcd', 786, 2.23, 'runoob', 70.2]\n"
     ]
    }
   ],
   "source": [
    "#list列表\n",
    "\n",
    "list=['abcd',786,2.23,'runoob',70.2]\n",
    "tinylist=[123,'runoob']\n",
    "print(list)\n"
   ]
  },
  {
   "cell_type": "code",
   "execution_count": 97,
   "metadata": {},
   "outputs": [
    {
     "name": "stdout",
     "output_type": "stream",
     "text": [
      "abcd\n"
     ]
    }
   ],
   "source": [
    "#list列表\n",
    "\n",
    "list=['abcd',786,2.23,'runoob',70.2]\n",
    "tinylist=[123,'runoob']\n",
    "print(list[0])\n"
   ]
  },
  {
   "cell_type": "code",
   "execution_count": 98,
   "metadata": {},
   "outputs": [
    {
     "name": "stdout",
     "output_type": "stream",
     "text": [
      "[786, 2.23]\n"
     ]
    }
   ],
   "source": [
    "#list列表\n",
    "\n",
    "list=['abcd',786,2.23,'runoob',70.2]\n",
    "tinylist=[123,'runoob']\n",
    "print(list[1:3])"
   ]
  },
  {
   "cell_type": "code",
   "execution_count": 99,
   "metadata": {},
   "outputs": [
    {
     "name": "stdout",
     "output_type": "stream",
     "text": [
      "[2.23, 'runoob', 70.2]\n"
     ]
    }
   ],
   "source": [
    "#list列表\n",
    "\n",
    "list=['abcd',786,2.23,'runoob',70.2]\n",
    "tinylist=[123,'runoob']\n",
    "print(list[2:])"
   ]
  },
  {
   "cell_type": "code",
   "execution_count": 100,
   "metadata": {},
   "outputs": [
    {
     "name": "stdout",
     "output_type": "stream",
     "text": [
      "[123, 'runoob', 123, 'runoob']\n"
     ]
    }
   ],
   "source": [
    "#list列表\n",
    "\n",
    "list=['abcd',786,2.23,'runoob',70.2]\n",
    "tinylist=[123,'runoob']\n",
    "print(tinylist*2)"
   ]
  },
  {
   "cell_type": "code",
   "execution_count": 101,
   "metadata": {},
   "outputs": [
    {
     "name": "stdout",
     "output_type": "stream",
     "text": [
      "['abcd', 786, 2.23, 'runoob', 70.2, 123, 'runoob']\n"
     ]
    }
   ],
   "source": [
    "#list列表\n",
    "\n",
    "list=['abcd',786,2.23,'runoob',70.2]\n",
    "tinylist=[123,'runoob']\n",
    "print(list+tinylist)"
   ]
  },
  {
   "cell_type": "code",
   "execution_count": 102,
   "metadata": {},
   "outputs": [
    {
     "data": {
      "text/plain": [
       "[9, 2, 13, 14, 15, 6]"
      ]
     },
     "execution_count": 102,
     "metadata": {},
     "output_type": "execute_result"
    }
   ],
   "source": [
    "#与python字符串不一样的是，列表中的元素可以改变的\n",
    "\n",
    "a=[1,2,3,4,5,6]\n",
    "a[0]=9\n",
    "a[2:5]=[13,14,15]\n",
    "a"
   ]
  },
  {
   "cell_type": "code",
   "execution_count": 103,
   "metadata": {},
   "outputs": [
    {
     "data": {
      "text/plain": [
       "[9, 2, 6]"
      ]
     },
     "execution_count": 103,
     "metadata": {},
     "output_type": "execute_result"
    }
   ],
   "source": [
    "#与python字符串不一样的是，列表中的元素可以改变的\n",
    "\n",
    "a=[1,2,3,4,5,6]\n",
    "a[0]=9\n",
    "a[2:5]=[]\n",
    "a"
   ]
  },
  {
   "cell_type": "code",
   "execution_count": 115,
   "metadata": {},
   "outputs": [
    {
     "name": "stdout",
     "output_type": "stream",
     "text": [
      "{'Runoob', 'Google', 'Baidu', 'Facebook', 'Zhihu', 'Taobao'}\n"
     ]
    }
   ],
   "source": [
    "#set集合\n",
    "sites = {'Google','Taobao','Runoob','Facebook','Zhihu','Baidu'}\n",
    "print (sites);\n"
   ]
  },
  {
   "cell_type": "code",
   "execution_count": 121,
   "metadata": {},
   "outputs": [
    {
     "name": "stdout",
     "output_type": "stream",
     "text": [
      "{'a', 'c', 'r', 'd', 'b'}\n",
      "{'d', 'b', 'r'}\n",
      "{'a', 'c', 'r', 'l', 'd', 'm', 'b', 'z'}\n",
      "{'a', 'c'}\n",
      "{'d', 'r', 'm', 'b', 'l', 'z'}\n"
     ]
    }
   ],
   "source": [
    "#set可以进行集合运算\n",
    "\n",
    "a=set('abracadabra');\n",
    "b=set('alacazam');\n",
    "print(a);\n",
    "print(a-b);\n",
    "print(a|b);\n",
    "print(a&b);\n",
    "print(a^b)"
   ]
  },
  {
   "cell_type": "code",
   "execution_count": 126,
   "metadata": {},
   "outputs": [
    {
     "data": {
      "text/plain": [
       "'I\\n...want\\n...you'"
      ]
     },
     "execution_count": 126,
     "metadata": {},
     "output_type": "execute_result"
    }
   ],
   "source": [
    "#三个引号赋值给字符串变量时，表示一种字符串的特殊写法。\n",
    "str=\"\"\"I\n",
    "...want\n",
    "...you\"\"\"\n",
    "str"
   ]
  },
  {
   "cell_type": "code",
   "execution_count": 129,
   "metadata": {},
   "outputs": [
    {
     "name": "stdout",
     "output_type": "stream",
     "text": [
      "1-c的值为： 31\n"
     ]
    }
   ],
   "source": [
    "a=21\n",
    "b=10\n",
    "c=0\n",
    "c=a+b\n",
    "print (\"1 - c的值为：\",c)"
   ]
  },
  {
   "cell_type": "code",
   "execution_count": 130,
   "metadata": {},
   "outputs": [
    {
     "name": "stdout",
     "output_type": "stream",
     "text": [
      "2-c的值为： 11\n"
     ]
    }
   ],
   "source": [
    "a=21\n",
    "b=10\n",
    "c=0\n",
    "c=a-b\n",
    "print (\"2 - c的值为：\",c)\n"
   ]
  },
  {
   "cell_type": "code",
   "execution_count": 131,
   "metadata": {},
   "outputs": [
    {
     "name": "stdout",
     "output_type": "stream",
     "text": [
      "3-c的值为： 210\n"
     ]
    }
   ],
   "source": [
    "a=21\n",
    "b=10\n",
    "c=0\n",
    "c=a*b\n",
    "print (\"3 - c的值为：\",c)\n"
   ]
  },
  {
   "cell_type": "code",
   "execution_count": 132,
   "metadata": {},
   "outputs": [
    {
     "name": "stdout",
     "output_type": "stream",
     "text": [
      "4-c的值为： 2.1\n"
     ]
    }
   ],
   "source": [
    "a=21\n",
    "b=10\n",
    "c=0\n",
    "c=a/b\n",
    "print (\"4 - c的值为：\",c)\n"
   ]
  },
  {
   "cell_type": "code",
   "execution_count": 133,
   "metadata": {},
   "outputs": [
    {
     "name": "stdout",
     "output_type": "stream",
     "text": [
      "5-c的值为： 1\n"
     ]
    }
   ],
   "source": [
    "a=21\n",
    "b=10\n",
    "c=0\n",
    "c=a%b\n",
    "print (\"5 - c的值为：\",c)\n"
   ]
  },
  {
   "cell_type": "code",
   "execution_count": 134,
   "metadata": {},
   "outputs": [
    {
     "name": "stdout",
     "output_type": "stream",
     "text": [
      "6-c的值为： 2\n"
     ]
    }
   ],
   "source": [
    "a=21\n",
    "b=10\n",
    "c=0\n",
    "#修改变量a、b、c\n",
    "a=2\n",
    "b=3\n",
    "c=a**b\n",
    "c=a%b\n",
    "print (\"6 - c的值为：\",c)"
   ]
  },
  {
   "cell_type": "code",
   "execution_count": 135,
   "metadata": {},
   "outputs": [
    {
     "name": "stdout",
     "output_type": "stream",
     "text": [
      "7 - c的值为： 2\n"
     ]
    }
   ],
   "source": [
    "a=21\n",
    "b=10\n",
    "c=0\n",
    "#修改变量a、b、c\n",
    "a=10\n",
    "b=5\n",
    "c=a//b\n",
    "print (\"7 - c的值为：\",c)"
   ]
  },
  {
   "cell_type": "code",
   "execution_count": 137,
   "metadata": {},
   "outputs": [
    {
     "name": "stdout",
     "output_type": "stream",
     "text": [
      "1-c的值为: 12\n"
     ]
    },
    {
     "data": {
      "text/plain": [
       "12"
      ]
     },
     "execution_count": 137,
     "metadata": {},
     "output_type": "execute_result"
    }
   ],
   "source": [
    "#python位运算符\n",
    "a=60\n",
    "b=13\n",
    "c=0\n",
    "\n",
    "c=a&b\n",
    "print(\"1-c的值为:\",c)"
   ]
  },
  {
   "cell_type": "code",
   "execution_count": 138,
   "metadata": {},
   "outputs": [
    {
     "name": "stdout",
     "output_type": "stream",
     "text": [
      "2-c的值为: 61\n"
     ]
    }
   ],
   "source": [
    "#python位运算符\n",
    "a=60\n",
    "b=13\n",
    "c=0\n",
    "\n",
    "c=a|b\n",
    "print(\"2-c的值为:\",c)"
   ]
  },
  {
   "cell_type": "code",
   "execution_count": 139,
   "metadata": {},
   "outputs": [
    {
     "name": "stdout",
     "output_type": "stream",
     "text": [
      "3-c的值为: 49\n"
     ]
    }
   ],
   "source": [
    "#python位运算符\n",
    "a=60\n",
    "b=13\n",
    "c=0\n",
    "\n",
    "c=a^b\n",
    "print(\"3-c的值为:\",c)"
   ]
  },
  {
   "cell_type": "code",
   "execution_count": 140,
   "metadata": {},
   "outputs": [
    {
     "name": "stdout",
     "output_type": "stream",
     "text": [
      "4-c的值为: -61\n"
     ]
    }
   ],
   "source": [
    "#python位运算符\n",
    "a=60\n",
    "b=13\n",
    "c=0\n",
    "\n",
    "c=~a\n",
    "print(\"4-c的值为:\",c)"
   ]
  },
  {
   "cell_type": "code",
   "execution_count": 141,
   "metadata": {},
   "outputs": [
    {
     "name": "stdout",
     "output_type": "stream",
     "text": [
      "5-c的值为: 240\n"
     ]
    }
   ],
   "source": [
    "#python位运算符\n",
    "a=60\n",
    "b=13\n",
    "c=0\n",
    "\n",
    "c=a<<2\n",
    "print(\"5-c的值为:\",c)"
   ]
  },
  {
   "cell_type": "code",
   "execution_count": 142,
   "metadata": {},
   "outputs": [
    {
     "name": "stdout",
     "output_type": "stream",
     "text": [
      "6-c的值为: 15\n"
     ]
    }
   ],
   "source": [
    "#python位运算符\n",
    "a=60\n",
    "b=13\n",
    "c=0\n",
    "\n",
    "c=a>>2\n",
    "print(\"6-c的值为:\",c)"
   ]
  },
  {
   "cell_type": "code",
   "execution_count": 144,
   "metadata": {},
   "outputs": [
    {
     "data": {
      "text/plain": [
       "True"
      ]
     },
     "execution_count": 144,
     "metadata": {},
     "output_type": "execute_result"
    }
   ],
   "source": [
    "#python身份运算符\n",
    "a=[1,2,3]\n",
    "b=a\n",
    "b is a\n"
   ]
  },
  {
   "cell_type": "code",
   "execution_count": 145,
   "metadata": {},
   "outputs": [
    {
     "data": {
      "text/plain": [
       "True"
      ]
     },
     "execution_count": 145,
     "metadata": {},
     "output_type": "execute_result"
    }
   ],
   "source": [
    "#python身份运算符\n",
    "a=[1,2,3]\n",
    "b=a\n",
    "b==a"
   ]
  },
  {
   "cell_type": "code",
   "execution_count": 146,
   "metadata": {},
   "outputs": [
    {
     "data": {
      "text/plain": [
       "False"
      ]
     },
     "execution_count": 146,
     "metadata": {},
     "output_type": "execute_result"
    }
   ],
   "source": [
    "#python身份运算符\n",
    "a=[1,2,3]\n",
    "b=a[:]\n",
    "b is a"
   ]
  },
  {
   "cell_type": "code",
   "execution_count": 147,
   "metadata": {},
   "outputs": [
    {
     "data": {
      "text/plain": [
       "True"
      ]
     },
     "execution_count": 147,
     "metadata": {},
     "output_type": "execute_result"
    }
   ],
   "source": [
    "#python身份运算符\n",
    "a=[1,2,3]\n",
    "b=a[:]\n",
    "b == a"
   ]
  },
  {
   "cell_type": "code",
   "execution_count": 148,
   "metadata": {},
   "outputs": [
    {
     "name": "stdout",
     "output_type": "stream",
     "text": [
      "(a+b)*c/d运算结果为： 90.0\n"
     ]
    }
   ],
   "source": [
    "#python运算符优先级\n",
    "a=20\n",
    "b=10\n",
    "c=15\n",
    "d=5\n",
    "e=0\n",
    "\n",
    "e=(a+b)*c/d\n",
    "print(\"(a+b)*c/d运算结果为：\",e)"
   ]
  },
  {
   "cell_type": "code",
   "execution_count": 149,
   "metadata": {},
   "outputs": [
    {
     "name": "stdout",
     "output_type": "stream",
     "text": [
      "(a+b)*c/d运算结果为： 90.0\n"
     ]
    }
   ],
   "source": [
    "#python运算符优先级\n",
    "a=20\n",
    "b=10\n",
    "c=15\n",
    "d=5\n",
    "e=0\n",
    "\n",
    "e=((a+b)*c)/d\n",
    "print(\"(a+b)*c/d运算结果为：\",e)"
   ]
  },
  {
   "cell_type": "code",
   "execution_count": 150,
   "metadata": {},
   "outputs": [
    {
     "name": "stdout",
     "output_type": "stream",
     "text": [
      "(a+b)*c/d运算结果为： 90.0\n"
     ]
    }
   ],
   "source": [
    "#python运算符优先级\n",
    "a=20\n",
    "b=10\n",
    "c=15\n",
    "d=5\n",
    "e=0\n",
    "\n",
    "e=(a+b)*(c/d)\n",
    "print(\"(a+b)*c/d运算结果为：\",e)"
   ]
  },
  {
   "cell_type": "code",
   "execution_count": 151,
   "metadata": {},
   "outputs": [
    {
     "name": "stdout",
     "output_type": "stream",
     "text": [
      "(a+b)*c/d运算结果为： 50.0\n"
     ]
    }
   ],
   "source": [
    "#python运算符优先级\n",
    "a=20\n",
    "b=10\n",
    "c=15\n",
    "d=5\n",
    "e=0\n",
    "\n",
    "e=a+(b*c)/d\n",
    "print(\"(a+b)*c/d运算结果为：\",e)"
   ]
  },
  {
   "cell_type": "code",
   "execution_count": 159,
   "metadata": {},
   "outputs": [
    {
     "name": "stdout",
     "output_type": "stream",
     "text": [
      "yes\n"
     ]
    }
   ],
   "source": [
    "#and拥有更高优先级：\n",
    "x= True\n",
    "y=False\n",
    "z=False;\n",
    "\n",
    "if x or y and z:\n",
    "   print(\"yes\")\n",
    "else:\n",
    "   print(\"no\")"
   ]
  },
  {
   "cell_type": "code",
   "execution_count": 160,
   "metadata": {},
   "outputs": [
    {
     "data": {
      "text/plain": [
       "4"
      ]
     },
     "execution_count": 160,
     "metadata": {},
     "output_type": "execute_result"
    }
   ],
   "source": [
    "#python数字运算\n",
    "2+2"
   ]
  },
  {
   "cell_type": "code",
   "execution_count": 161,
   "metadata": {},
   "outputs": [
    {
     "data": {
      "text/plain": [
       "20"
      ]
     },
     "execution_count": 161,
     "metadata": {},
     "output_type": "execute_result"
    }
   ],
   "source": [
    "#python数字运算\n",
    "50-5*6"
   ]
  },
  {
   "cell_type": "code",
   "execution_count": 162,
   "metadata": {},
   "outputs": [
    {
     "data": {
      "text/plain": [
       "5.0"
      ]
     },
     "execution_count": 162,
     "metadata": {},
     "output_type": "execute_result"
    }
   ],
   "source": [
    "#python数字运算\n",
    "(50-5*6)/4"
   ]
  },
  {
   "cell_type": "code",
   "execution_count": 163,
   "metadata": {},
   "outputs": [
    {
     "data": {
      "text/plain": [
       "1.6"
      ]
     },
     "execution_count": 163,
     "metadata": {},
     "output_type": "execute_result"
    }
   ],
   "source": [
    "#python数字运算\n",
    "8/5     #总是返回一个浮点数"
   ]
  },
  {
   "cell_type": "code",
   "execution_count": 164,
   "metadata": {},
   "outputs": [
    {
     "data": {
      "text/plain": [
       "5.666666666666667"
      ]
     },
     "execution_count": 164,
     "metadata": {},
     "output_type": "execute_result"
    }
   ],
   "source": [
    "#python数字运算\n",
    "17/3   #整数除法返回浮点型"
   ]
  },
  {
   "cell_type": "code",
   "execution_count": 165,
   "metadata": {},
   "outputs": [
    {
     "data": {
      "text/plain": [
       "5"
      ]
     },
     "execution_count": 165,
     "metadata": {},
     "output_type": "execute_result"
    }
   ],
   "source": [
    "#python数字运算\n",
    "17//3   #整数除法返回向下取整后的结果"
   ]
  },
  {
   "cell_type": "code",
   "execution_count": 166,
   "metadata": {},
   "outputs": [
    {
     "data": {
      "text/plain": [
       "2"
      ]
     },
     "execution_count": 166,
     "metadata": {},
     "output_type": "execute_result"
    }
   ],
   "source": [
    "#python数字运算\n",
    "17%3   #%操作符返回除法的余数"
   ]
  },
  {
   "cell_type": "code",
   "execution_count": 167,
   "metadata": {},
   "outputs": [
    {
     "data": {
      "text/plain": [
       "17"
      ]
     },
     "execution_count": 167,
     "metadata": {},
     "output_type": "execute_result"
    }
   ],
   "source": [
    "#python数字运算\n",
    "5*3+2"
   ]
  },
  {
   "cell_type": "code",
   "execution_count": 168,
   "metadata": {},
   "outputs": [
    {
     "data": {
      "text/plain": [
       "3"
      ]
     },
     "execution_count": 168,
     "metadata": {},
     "output_type": "execute_result"
    }
   ],
   "source": [
    "#python数字运算\n",
    "#'//'得到的并不一定是整数类型的书，它与分母分子的数据类型有关系\n",
    "7//2"
   ]
  },
  {
   "cell_type": "code",
   "execution_count": 169,
   "metadata": {},
   "outputs": [
    {
     "data": {
      "text/plain": [
       "3.0"
      ]
     },
     "execution_count": 169,
     "metadata": {},
     "output_type": "execute_result"
    }
   ],
   "source": [
    "#python数字运算\n",
    "#'//'得到的并不一定是整数类型的书，它与分母分子的数据类型有关系\n",
    "7.0//2"
   ]
  },
  {
   "cell_type": "code",
   "execution_count": 170,
   "metadata": {},
   "outputs": [
    {
     "data": {
      "text/plain": [
       "3.0"
      ]
     },
     "execution_count": 170,
     "metadata": {},
     "output_type": "execute_result"
    }
   ],
   "source": [
    "#python数字运算\n",
    "#'//'得到的并不一定是整数类型的书，它与分母分子的数据类型有关系\n",
    "7//2.0"
   ]
  },
  {
   "cell_type": "code",
   "execution_count": 171,
   "metadata": {},
   "outputs": [
    {
     "data": {
      "text/plain": [
       "900"
      ]
     },
     "execution_count": 171,
     "metadata": {},
     "output_type": "execute_result"
    }
   ],
   "source": [
    "#等号=用于给变量赋值，赋值之后，除了下一个提示符，解释器不会显示任何结果\n",
    "width=20\n",
    "height=5*9\n",
    "width*height"
   ]
  },
  {
   "cell_type": "code",
   "execution_count": 174,
   "metadata": {},
   "outputs": [
    {
     "data": {
      "text/plain": [
       "25"
      ]
     },
     "execution_count": 174,
     "metadata": {},
     "output_type": "execute_result"
    }
   ],
   "source": [
    "#python可以用**进行幂运算\n",
    "5**2    #5的平方\n"
   ]
  },
  {
   "cell_type": "code",
   "execution_count": 175,
   "metadata": {},
   "outputs": [
    {
     "data": {
      "text/plain": [
       "128"
      ]
     },
     "execution_count": 175,
     "metadata": {},
     "output_type": "execute_result"
    }
   ],
   "source": [
    "#python可以用**进行幂运算\n",
    "2**7   #2的7次方\n"
   ]
  },
  {
   "cell_type": "code",
   "execution_count": 176,
   "metadata": {},
   "outputs": [
    {
     "data": {
      "text/plain": [
       "7.5"
      ]
     },
     "execution_count": 176,
     "metadata": {},
     "output_type": "execute_result"
    }
   ],
   "source": [
    "#不同类型的数混合运算时会将整数转换为浮点数\n",
    "\n",
    "3*3.75/1.5"
   ]
  },
  {
   "cell_type": "code",
   "execution_count": 178,
   "metadata": {},
   "outputs": [
    {
     "data": {
      "text/plain": [
       "12.5625"
      ]
     },
     "execution_count": 178,
     "metadata": {},
     "output_type": "execute_result"
    }
   ],
   "source": [
    "#在交互模式中，最后被输出的表达式结果被赋值给变量_。例如：\n",
    "tax=12.5/100\n",
    "price=100.50\n",
    "price*tax"
   ]
  },
  {
   "cell_type": "code",
   "execution_count": 179,
   "metadata": {},
   "outputs": [
    {
     "data": {
      "text/plain": [
       "113.0625"
      ]
     },
     "execution_count": 179,
     "metadata": {},
     "output_type": "execute_result"
    }
   ],
   "source": [
    "#在交互模式中，最后被输出的表达式结果被赋值给变量_。例如：\n",
    "tax=12.5/100\n",
    "price=100.50\n",
    "price+_"
   ]
  },
  {
   "cell_type": "code",
   "execution_count": 180,
   "metadata": {},
   "outputs": [
    {
     "data": {
      "text/plain": [
       "113.06"
      ]
     },
     "execution_count": 180,
     "metadata": {},
     "output_type": "execute_result"
    }
   ],
   "source": [
    "#在交互模式中，最后被输出的表达式结果被赋值给变量_。例如：\n",
    "tax=12.5/100\n",
    "price=100.50\n",
    "round(_,2)"
   ]
  },
  {
   "cell_type": "code",
   "execution_count": 182,
   "metadata": {},
   "outputs": [
    {
     "name": "stdout",
     "output_type": "stream",
     "text": [
      "已更新字符串： hello Runoob!\n"
     ]
    }
   ],
   "source": [
    "#字符串更新\n",
    "#截取字符串的一部分与其他字段拼接\n",
    "var1='hello world!'\n",
    "print(\"已更新字符串：\",var1[:6]+'Runoob!')"
   ]
  },
  {
   "cell_type": "code",
   "execution_count": 184,
   "metadata": {},
   "outputs": [
    {
     "name": "stdout",
     "output_type": "stream",
     "text": [
      "a+b 输出结果： hellopython\n"
     ]
    }
   ],
   "source": [
    "#python字符串运算符\n",
    "a=\"hello\"\n",
    "b=\"python\"\n",
    "\n",
    "print(\"a+b 输出结果：\",a+b)\n"
   ]
  },
  {
   "cell_type": "code",
   "execution_count": 185,
   "metadata": {},
   "outputs": [
    {
     "name": "stdout",
     "output_type": "stream",
     "text": [
      "a*2 输出结果： hellohello\n"
     ]
    }
   ],
   "source": [
    "#python字符串运算符\n",
    "a=\"hello\"\n",
    "b=\"python\"\n",
    "\n",
    "print(\"a*2 输出结果：\",a*2)"
   ]
  },
  {
   "cell_type": "code",
   "execution_count": 186,
   "metadata": {},
   "outputs": [
    {
     "name": "stdout",
     "output_type": "stream",
     "text": [
      "a[1] 输出结果： e\n"
     ]
    }
   ],
   "source": [
    "#python字符串运算符\n",
    "a=\"hello\"\n",
    "b=\"python\"\n",
    "\n",
    "print(\"a[1] 输出结果：\",a[1])"
   ]
  },
  {
   "cell_type": "code",
   "execution_count": 187,
   "metadata": {},
   "outputs": [
    {
     "name": "stdout",
     "output_type": "stream",
     "text": [
      "a[1:4] 输出结果： ell\n"
     ]
    }
   ],
   "source": [
    "#python字符串运算符\n",
    "a=\"hello\"\n",
    "b=\"python\"\n",
    "\n",
    "print(\"a[1:4] 输出结果：\",a[1:4])"
   ]
  },
  {
   "cell_type": "code",
   "execution_count": 221,
   "metadata": {},
   "outputs": [
    {
     "name": "stdout",
     "output_type": "stream",
     "text": [
      "('google', 'runoob', 1997, 2000)\n"
     ]
    }
   ],
   "source": [
    "#删除元组\n",
    "tup=('google','runoob',1997,2000)\n",
    "\n",
    "print(tup);\n"
   ]
  },
  {
   "cell_type": "code",
   "execution_count": 222,
   "metadata": {},
   "outputs": [
    {
     "name": "stdout",
     "output_type": "stream",
     "text": [
      "(12, 34.56, 'abc', 'xyz')\n"
     ]
    }
   ],
   "source": [
    "#修改元组\n",
    "tup1=(12,34.56)\n",
    "tup2=('abc','xyz')\n",
    "tup3=tup1+tup2\n",
    "print(tup3)"
   ]
  },
  {
   "cell_type": "code",
   "execution_count": 224,
   "metadata": {},
   "outputs": [
    {
     "name": "stdout",
     "output_type": "stream",
     "text": [
      "hello,world\n"
     ]
    }
   ],
   "source": [
    "print(\"hello,world\")"
   ]
  },
  {
   "cell_type": "code",
   "execution_count": 225,
   "metadata": {},
   "outputs": [
    {
     "name": "stdout",
     "output_type": "stream",
     "text": [
      "True\n"
     ]
    }
   ],
   "source": [
    "if True:\n",
    "    print(\"True\")\n",
    "else:\n",
    "    print(\"False\")"
   ]
  },
  {
   "cell_type": "code",
   "execution_count": 227,
   "metadata": {},
   "outputs": [
    {
     "name": "stdout",
     "output_type": "stream",
     "text": [
      "dict['Name']: Runoob\n",
      "dict['Age']: 7\n"
     ]
    }
   ],
   "source": [
    "dict={'Name':'Runoob','Age':7,'Class':'First'}\n",
    "print(\"dict['Name']:\",dict['Name'])\n",
    "print(\"dict['Age']:\",dict['Age'])"
   ]
  },
  {
   "cell_type": "code",
   "execution_count": 228,
   "metadata": {},
   "outputs": [
    {
     "name": "stdout",
     "output_type": "stream",
     "text": [
      "2\n"
     ]
    }
   ],
   "source": [
    "x=1\n",
    "print(f'{x+1}')"
   ]
  },
  {
   "cell_type": "code",
   "execution_count": 229,
   "metadata": {},
   "outputs": [
    {
     "name": "stdout",
     "output_type": "stream",
     "text": [
      "dict['Name']: Runoob\n",
      "dict['Age']: 7\n"
     ]
    }
   ],
   "source": [
    "dict={'Name':'Runoob','Age':7,'Class':'First'}\n",
    "print(\"dict['Name']:\",dict['Name'])\n",
    "print(\"dict['Age']:\",dict['Age'])"
   ]
  },
  {
   "cell_type": "code",
   "execution_count": 230,
   "metadata": {},
   "outputs": [
    {
     "name": "stdout",
     "output_type": "stream",
     "text": [
      "你好，世界\n"
     ]
    }
   ],
   "source": [
    "print(\"你好，世界\")"
   ]
  },
  {
   "cell_type": "code",
   "execution_count": 234,
   "metadata": {},
   "outputs": [
    {
     "name": "stdout",
     "output_type": "stream",
     "text": [
      "1\n"
     ]
    }
   ],
   "source": [
    "tup=(1,2,3,4,5,6)\n",
    "print(tup[0]);\n",
    "#print(tup[1:5]);\n",
    "#tuo[0]=11   #修改元组元素的操作时非法的"
   ]
  },
  {
   "cell_type": "code",
   "execution_count": 236,
   "metadata": {},
   "outputs": [
    {
     "name": "stdout",
     "output_type": "stream",
     "text": [
      "Runoob在集合中\n"
     ]
    }
   ],
   "source": [
    "#set集合    成员测试\n",
    "sites={'Google','Taobao','Runoob','Facebook','Zhihu','Baidu'}\n",
    "\n",
    "if 'Runoob' in sites:\n",
    "    print('Runoob在集合中');\n",
    "else:\n",
    "    print('Runoob不在集合中')\n",
    "\n"
   ]
  }
 ],
 "metadata": {
  "kernelspec": {
   "display_name": "Python 3",
   "language": "python",
   "name": "python3"
  },
  "language_info": {
   "codemirror_mode": {
    "name": "ipython",
    "version": 3
   },
   "file_extension": ".py",
   "mimetype": "text/x-python",
   "name": "python",
   "nbconvert_exporter": "python",
   "pygments_lexer": "ipython3",
   "version": "3.8.5"
  }
 },
 "nbformat": 4,
 "nbformat_minor": 4
}
