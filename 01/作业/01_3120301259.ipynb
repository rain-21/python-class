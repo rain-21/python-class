{
 "cells": [
  {
   "cell_type": "code",
   "execution_count": 1,
   "metadata": {},
   "outputs": [],
   "source": [
    "from turtle import*\n",
    "color('red','red')\n",
    "begin_fill()\n",
    "for i in range(5):\n",
    "    fd(200)\n",
    "    rt(144)\n",
    "end_fill()\n",
    "done()"
   ]
  },
  {
   "cell_type": "code",
   "execution_count": 3,
   "metadata": {},
   "outputs": [],
   "source": [
    "import turtle\n",
    "turtle.pensize(2)\n",
    "turtle.circle(10)\n",
    "turtle.circle(40)\n",
    "turtle.circle(80)\n",
    "turtle.circle(80)\n",
    "turtle.circle(160)"
   ]
  },
  {
   "cell_type": "code",
   "execution_count": 13,
   "metadata": {},
   "outputs": [
    {
     "name": "stdin",
     "output_type": "stream",
     "text": [
      "请输入带有符号的温度值： 85F\n"
     ]
    },
    {
     "name": "stdout",
     "output_type": "stream",
     "text": [
      "转换后的温度是29.44C\n"
     ]
    }
   ],
   "source": [
    "TempStr=input(\"请输入带有符号的温度值：\")\n",
    "if TempStr[-1] in ['F','f']:\n",
    "    c=(eval(TempStr[0:-1])-32)/1.8\n",
    "    print(\"转换后的温度是{:.2f}C\".format(c))\n",
    "elif TempStr[-1] in ['C','c']:\n",
    "    F=1.8*eval(TempStr[0:-1])+32\n",
    "    print(\"转换后的温度是{:.2f}F\".format(F))\n",
    "else:\n",
    "    print(\"输入格式有误\")"
   ]
  },
  {
   "cell_type": "code",
   "execution_count": 5,
   "metadata": {},
   "outputs": [
    {
     "name": "stdin",
     "output_type": "stream",
     "text": [
      " 85F\n"
     ]
    },
    {
     "name": "stdout",
     "output_type": "stream",
     "text": [
      "29.44C\n"
     ]
    }
   ],
   "source": [
    "Temp=input()\n",
    "if Temp[-1] in ['F','f']:\n",
    "   C=(eval(Temp[0:-1])-32)/1.8 \n",
    "   print(\"{:.2f}C\".format(C))\n",
    "elif Temp[-1] in ['C','c']:\n",
    "   F=1.8*eval(Temp[0:-1])+32 \n",
    "   print(\"{:.2f}F\".format(F))\n",
    "else:\n",
    "   print(\"输入格式不正确\")"
   ]
  },
  {
   "cell_type": "code",
   "execution_count": 10,
   "metadata": {},
   "outputs": [
    {
     "name": "stdin",
     "output_type": "stream",
     "text": [
      " 356\n"
     ]
    },
    {
     "name": "stdout",
     "output_type": "stream",
     "text": [
      "三五六"
     ]
    }
   ],
   "source": [
    "temp=\"零一二三四五六七八九\"\n",
    "s=input()\n",
    "for i in s:\n",
    "    print(temp[eval(i)],end=\"\")"
   ]
  },
  {
   "cell_type": "code",
   "execution_count": 8,
   "metadata": {},
   "outputs": [
    {
     "name": "stdin",
     "output_type": "stream",
     "text": [
      " c24\n"
     ]
    },
    {
     "name": "stdout",
     "output_type": "stream",
     "text": [
      "输入格式错误\n"
     ]
    }
   ],
   "source": [
    "t=input()\n",
    "if t[0]=='C':\n",
    "   F=1.8*eval(t[1:-1]+t[-1])+32\n",
    "   print(\"F{:.2f}\".format(F))\n",
    "elif t[0]=='F':\n",
    "   C=(eval(t[1:-1]+t[-1])-32)/1.8 \n",
    "   print(\"C{:.2f}\".format(C))\n",
    "else:\n",
    "   print(\"输入格式错误\")"
   ]
  },
  {
   "cell_type": "code",
   "execution_count": 10,
   "metadata": {},
   "outputs": [
    {
     "name": "stdin",
     "output_type": "stream",
     "text": [
      " RMB123\n"
     ]
    },
    {
     "name": "stdout",
     "output_type": "stream",
     "text": [
      "USD18.14\n"
     ]
    }
   ],
   "source": [
    "Money=input()\n",
    "if Money[0:3]==\"RMB\":\n",
    "   D=eval(Money[3:-1]+Money[-1])/6.78\n",
    "   print(\"USD{:.2f}\".format(D))\n",
    "elif Money[0:3]==\"USD\":\n",
    "   R=6.78*eval(Money[3:-1]+Money[-1])\n",
    "   print(\"RMB{:.2f}\".format(R))"
   ]
  },
  {
   "cell_type": "code",
   "execution_count": 5,
   "metadata": {},
   "outputs": [
    {
     "name": "stdin",
     "output_type": "stream",
     "text": [
      "integer:\n",
      " 3\n",
      "integer:\n",
      " 1\n",
      "integer:\n",
      " 5\n"
     ]
    },
    {
     "name": "stdout",
     "output_type": "stream",
     "text": [
      "[1, 3, 5]\n"
     ]
    }
   ],
   "source": [
    "l=[]\n",
    "for i in range(3):\n",
    "    x=int(input(\"integer:\\n\"))\n",
    "    l.append(x)\n",
    "l.sort()\n",
    "print(l)"
   ]
  },
  {
   "cell_type": "code",
   "execution_count": 33,
   "metadata": {},
   "outputs": [
    {
     "name": "stdout",
     "output_type": "stream",
     "text": [
      "[1, 2, 3]\n"
     ]
    }
   ],
   "source": [
    "x=[1,2,3]\n",
    "x.sort()\n",
    "print(x)"
   ]
  },
  {
   "cell_type": "code",
   "execution_count": 34,
   "metadata": {},
   "outputs": [
    {
     "name": "stdin",
     "output_type": "stream",
     "text": [
      " 3\n",
      " 2\n",
      " 1\n"
     ]
    },
    {
     "name": "stdout",
     "output_type": "stream",
     "text": [
      "['3', '2', '1']\n"
     ]
    }
   ],
   "source": [
    "x=[0,0,0]\n",
    "for i in range(3):\n",
    "    x[i]=input()\n",
    "print(x)"
   ]
  },
  {
   "cell_type": "code",
   "execution_count": 36,
   "metadata": {},
   "outputs": [
    {
     "name": "stdin",
     "output_type": "stream",
     "text": [
      " 3\n",
      " 2\n",
      " 5\n"
     ]
    },
    {
     "name": "stdout",
     "output_type": "stream",
     "text": [
      "[2, 3, 5]\n"
     ]
    }
   ],
   "source": [
    "x=[0,0,0]\n",
    "l=[0,0,0]\n",
    "for i in range(3):\n",
    "    x[i]=input()\n",
    "    l[i]=eval(x[i])\n",
    "l.sort()\n",
    "print(l)"
   ]
  },
  {
   "cell_type": "code",
   "execution_count": 37,
   "metadata": {},
   "outputs": [
    {
     "name": "stdin",
     "output_type": "stream",
     "text": [
      "integer:\n",
      " 3\n",
      "integer:\n",
      " 5\n",
      "integer:\n",
      " 1\n"
     ]
    },
    {
     "name": "stdout",
     "output_type": "stream",
     "text": [
      "[1, 3, 5]\n"
     ]
    }
   ],
   "source": [
    "l=[0,0,0]\n",
    "for i in range(3):\n",
    "    x=int(input(\"integer:\\n\"))\n",
    "    l[i]=x\n",
    "l.sort()\n",
    "print(l)"
   ]
  },
  {
   "cell_type": "code",
   "execution_count": 46,
   "metadata": {},
   "outputs": [
    {
     "name": "stdin",
     "output_type": "stream",
     "text": [
      "排序整数数目n= 5\n",
      "x0= 5\n",
      "x1= 6\n",
      "x2= 4\n",
      "x3= 2\n",
      "x4= 3\n"
     ]
    },
    {
     "name": "stdout",
     "output_type": "stream",
     "text": [
      "[2, 3, 4, 5, 6]\n"
     ]
    }
   ],
   "source": [
    "#可变长度从小到大列表排序\n",
    "n=int(input(\"排序整数数目n=\"))\n",
    "l0=[0]\n",
    "l=n*l0\n",
    "for i in range(n):\n",
    "    x=int(input(\"x{}=\".format(i)))\n",
    "    l[i]=x\n",
    "l.sort()\n",
    "print(l)"
   ]
  },
  {
   "cell_type": "code",
   "execution_count": 48,
   "metadata": {},
   "outputs": [
    {
     "name": "stdin",
     "output_type": "stream",
     "text": [
      "排序整数数目n= 5\n",
      "x0= 5\n",
      "x1= 6\n",
      "x2= 4\n",
      "x3= 2\n",
      "x4= 3\n"
     ]
    },
    {
     "name": "stdout",
     "output_type": "stream",
     "text": [
      "[6, 5, 4, 3, 2]\n"
     ]
    }
   ],
   "source": [
    "#可变长度从大到小列表排序\n",
    "n=int(input(\"排序整数数目n=\"))\n",
    "l0=[0]\n",
    "l=n*l0\n",
    "for i in range(n):\n",
    "    x=int(input(\"x{}=\".format(i)))\n",
    "    l[i]=x\n",
    "l.sort()\n",
    "#方法一\n",
    "l.reverse()\n",
    "print(l)"
   ]
  },
  {
   "cell_type": "code",
   "execution_count": 75,
   "metadata": {},
   "outputs": [
    {
     "name": "stdin",
     "output_type": "stream",
     "text": [
      "排序整数数目n= 5\n",
      "x0= 6\n",
      "x1= 7\n",
      "x2= 5\n",
      "x3= 2\n",
      "x4= 1\n"
     ]
    },
    {
     "name": "stdout",
     "output_type": "stream",
     "text": [
      "7 6 5 2 1 \n",
      "[7, 6, 5, 2, 1]\n"
     ]
    }
   ],
   "source": [
    "#可变长度从大到小列表排序\n",
    "n=int(input(\"排序整数数目n=\"))\n",
    "l0=[0]\n",
    "l=n*l0\n",
    "for i in range(n):\n",
    "    x=int(input(\"x{}=\".format(i)))\n",
    "    l[i]=x\n",
    "l.sort()\n",
    "#方法二\n",
    "for i in range(n-1,-1,-1):\n",
    "    print(l[i],end=\" \")\n",
    "#方法三\n",
    "print(f\"\\n{l[::-1]}\")"
   ]
  },
  {
   "cell_type": "code",
   "execution_count": 71,
   "metadata": {},
   "outputs": [
    {
     "name": "stdout",
     "output_type": "stream",
     "text": [
      "SDFXA SFDSD \n",
      "\n",
      "sdfxa sfdsd \n",
      "\n",
      "Sdfxa sfdsd \n",
      "\n",
      "Sdfxa Sfdsd \n",
      "\n"
     ]
    }
   ],
   "source": [
    "str=\"SDFXa sfdSD \"\n",
    "print(f\"{str.upper()}\\n\")\n",
    "print(f\"{str.lower()}\\n\")\n",
    "print(f\"{str.capitalize()}\\n\")     \n",
    "print(f\"{str.title()}\\n\")     "
   ]
  },
  {
   "cell_type": "code",
   "execution_count": 9,
   "metadata": {},
   "outputs": [
    {
     "name": "stdin",
     "output_type": "stream",
     "text": [
      " 1123dhyfgj\n"
     ]
    },
    {
     "name": "stdout",
     "output_type": "stream",
     "text": [
      "False\n",
      "True\n",
      "False\n"
     ]
    }
   ],
   "source": [
    "x=input()\n",
    "print(x.isalpha())\n",
    "print(x.isalnum())\n",
    "print(x[1].isalpha())"
   ]
  },
  {
   "cell_type": "code",
   "execution_count": 12,
   "metadata": {},
   "outputs": [],
   "source": [
    "#画蟒蛇\n",
    "import turtle\n",
    "turtle.setup(650,350,200,200)\n",
    "turtle.penup()\n",
    "turtle.fd(-250)\n",
    "turtle.pendown()\n",
    "turtle.pensize(25)\n",
    "turtle.pencolor('purple')\n",
    "turtle.seth(-40)\n",
    "for i in range(4):\n",
    "    turtle.circle(40,80)\n",
    "    turtle.circle(-40,80)\n",
    "turtle.circle(40,80/2)\n",
    "turtle.fd(40)\n",
    "turtle.circle(16,180)\n",
    "turtle.fd(40*2/3)\n",
    "turtle.done()"
   ]
  },
  {
   "cell_type": "code",
   "execution_count": 10,
   "metadata": {},
   "outputs": [],
   "source": [
    "import turtle\n",
    "turtle.setup(650,650)\n",
    "turtle.pensize(25)\n",
    "turtle.left(250)\n",
    "turtle.fd(250)\n",
    "turtle.right(250)\n",
    "turtle.fd(250)\n",
    "turtle.left(110)\n",
    "turtle.fd(-250)\n",
    "turtle.done()"
   ]
  },
  {
   "cell_type": "code",
   "execution_count": 9,
   "metadata": {},
   "outputs": [],
   "source": [
    "#绘制Z形曲线\n",
    "import turtle \n",
    "turtle.setup(600,600,100,100)\n",
    "turtle.penup()\n",
    "turtle.fd(-200)\n",
    "turtle.seth(90)\n",
    "turtle.fd(200)\n",
    "turtle.pendown()\n",
    "turtle.seth(0)\n",
    "turtle.fd(400)\n",
    "turtle.seth(-135)\n",
    "turtle.fd(500)\n",
    "turtle.seth(0)\n",
    "turtle.fd(400)\n",
    "turtle.done()"
   ]
  },
  {
   "cell_type": "code",
   "execution_count": null,
   "metadata": {},
   "outputs": [],
   "source": []
  }
 ],
 "metadata": {
  "kernelspec": {
   "display_name": "Python 3",
   "language": "python",
   "name": "python3"
  },
  "language_info": {
   "codemirror_mode": {
    "name": "ipython",
    "version": 3
   },
   "file_extension": ".py",
   "mimetype": "text/x-python",
   "name": "python",
   "nbconvert_exporter": "python",
   "pygments_lexer": "ipython3",
   "version": "3.8.3"
  }
 },
 "nbformat": 4,
 "nbformat_minor": 4
}
