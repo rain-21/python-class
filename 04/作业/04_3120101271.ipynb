{
 "cells": [
  {
   "cell_type": "code",
   "execution_count": 4,
   "metadata": {},
   "outputs": [
    {
     "name": "stdin",
     "output_type": "stream",
     "text": [
      "输入三角形的第一条边 7\n",
      "输入三角形的第二条边 8\n",
      "输入三角形的第三条边 11\n"
     ]
    },
    {
     "name": "stdout",
     "output_type": "stream",
     "text": [
      "三角形的面积为 27.93\n"
     ]
    }
   ],
   "source": [
    "a = float(input('输入三角形的第一条边'))\n",
    "b = float(input('输入三角形的第二条边'))\n",
    "c = float(input('输入三角形的第三条边'))\n",
    "\n",
    "s = (a + b + c) / 2    # 计算半周长\n",
    "\n",
    "area = (s*(s-a)*(s-b)*(s-c)) ** 0.5\n",
    "print('三角形的面积为 %0.2f' %area)"
   ]
  },
  {
   "cell_type": "code",
   "execution_count": 3,
   "metadata": {},
   "outputs": [
    {
     "name": "stdout",
     "output_type": "stream",
     "text": [
      "圆的面积为 113.112000\n"
     ]
    }
   ],
   "source": [
    "def findarea(r):\n",
    "    PI = 3.142\n",
    "    return PI * (r*r)\n",
    "\n",
    "print('圆的面积为 %.6f' %findarea(6))"
   ]
  },
  {
   "cell_type": "code",
   "execution_count": 5,
   "metadata": {},
   "outputs": [
    {
     "name": "stdout",
     "output_type": "stream",
     "text": [
      "3\n"
     ]
    }
   ],
   "source": [
    "# 生成 0 ~ 9 之间的随机数\n",
    "import random\n",
    "print(random.randint(0,9))"
   ]
  },
  {
   "cell_type": "code",
   "execution_count": 6,
   "metadata": {},
   "outputs": [
    {
     "name": "stdin",
     "output_type": "stream",
     "text": [
      "输入摄氏温度： 5.5\n"
     ]
    },
    {
     "name": "stdout",
     "output_type": "stream",
     "text": [
      "5.5 摄氏温度转为华氏温度为 41.9\n"
     ]
    }
   ],
   "source": [
    "# 摄氏温度转华氏温度\n",
    "celsius = float(input('输入摄氏温度：'))\n",
    "fahrenheit = (celsius * 1.8) + 32\n",
    "print('%.1f 摄氏温度转为华氏温度为 %.1f' %(celsius, fahrenheit))"
   ]
  },
  {
   "cell_type": "code",
   "execution_count": 22,
   "metadata": {},
   "outputs": [
    {
     "name": "stdin",
     "output_type": "stream",
     "text": [
      "请输入带符号的温度（如15C、50F）: 50f\n"
     ]
    },
    {
     "name": "stdout",
     "output_type": "stream",
     "text": [
      "华氏温度 50F 转换为摄氏温度为 10.0C\n"
     ]
    }
   ],
   "source": [
    "# 摄氏温度华氏温度相互转换\n",
    "a = input('请输入带符号的温度（如15C、50F）:')\n",
    "if a[-1] in ['F', 'f']:\n",
    "    C = (eval(a[0:-1]) - 32)/1.8\n",
    "    print(f'华氏温度 {a[0:-1]}F 转换为摄氏温度为 %.1fC' %C)\n",
    "elif a[-1] in ['C', 'c']:\n",
    "    F = 1.8*eval(a[0:-1]) + 32\n",
    "    print(f'摄氏温度 {a[0:-1]}C 转换为华氏温度为 {F}F')\n",
    "else:\n",
    "    print('输入格式错误，请重试')"
   ]
  },
  {
   "cell_type": "code",
   "execution_count": 23,
   "metadata": {},
   "outputs": [
    {
     "name": "stdin",
     "output_type": "stream",
     "text": [
      "输入一个数： 1\n"
     ]
    },
    {
     "name": "stdout",
     "output_type": "stream",
     "text": [
      "正数\n"
     ]
    }
   ],
   "source": [
    "num = float(input('输入一个数：'))\n",
    "if num > 0:\n",
    "    print('正数')\n",
    "elif num == 0:\n",
    "    print('零')\n",
    "else:\n",
    "    print('负数')"
   ]
  },
  {
   "cell_type": "code",
   "execution_count": 24,
   "metadata": {},
   "outputs": [
    {
     "name": "stdin",
     "output_type": "stream",
     "text": [
      "输入一个数： ？\n"
     ]
    },
    {
     "name": "stdout",
     "output_type": "stream",
     "text": [
      "输入无效，请输入一个数字\n"
     ]
    },
    {
     "name": "stdin",
     "output_type": "stream",
     "text": [
      "输入一个数： 0\n"
     ]
    },
    {
     "name": "stdout",
     "output_type": "stream",
     "text": [
      "零\n"
     ]
    }
   ],
   "source": [
    "while True:\n",
    "    try:\n",
    "        num = float(input('输入一个数：'))\n",
    "        if num > 0:\n",
    "            print('正数')\n",
    "        elif num == 0:\n",
    "            print('零')\n",
    "        else:\n",
    "            print('负数')\n",
    "        break\n",
    "    except ValueError:\n",
    "        print('输入无效，请输入一个数字')"
   ]
  },
  {
   "cell_type": "code",
   "execution_count": 26,
   "metadata": {},
   "outputs": [
    {
     "name": "stdin",
     "output_type": "stream",
     "text": [
      "请输入一个整数： 5\n"
     ]
    },
    {
     "name": "stdout",
     "output_type": "stream",
     "text": [
      "5 是一个奇数\n"
     ]
    }
   ],
   "source": [
    "# 判断奇偶\n",
    "num = int(input('请输入一个整数：'))\n",
    "if (num % 2) == 0:\n",
    "    print(f'{num} 是一个偶数')\n",
    "else:\n",
    "    print(f'{num} 是一个奇数')"
   ]
  },
  {
   "cell_type": "code",
   "execution_count": 27,
   "metadata": {},
   "outputs": [
    {
     "name": "stdin",
     "output_type": "stream",
     "text": [
      "请输入一个整数： 1.0\n"
     ]
    },
    {
     "name": "stdout",
     "output_type": "stream",
     "text": [
      "输入无效，请输入一个整数\n"
     ]
    },
    {
     "name": "stdin",
     "output_type": "stream",
     "text": [
      "请输入一个整数： ?\n"
     ]
    },
    {
     "name": "stdout",
     "output_type": "stream",
     "text": [
      "输入无效，请输入一个整数\n"
     ]
    },
    {
     "name": "stdin",
     "output_type": "stream",
     "text": [
      "请输入一个整数： -1\n"
     ]
    },
    {
     "name": "stdout",
     "output_type": "stream",
     "text": [
      "-1 是一个奇数\n"
     ]
    }
   ],
   "source": [
    "while True:\n",
    "    try:\n",
    "        num = int(input('请输入一个整数：'))\n",
    "    except ValueError:\n",
    "        print('输入无效，请输入一个整数')\n",
    "        continue\n",
    "    if (num % 2) == 0:\n",
    "        print(f'{num} 是一个偶数')\n",
    "    else:\n",
    "        print(f'{num} 是一个奇数')\n",
    "    break"
   ]
  },
  {
   "cell_type": "code",
   "execution_count": 34,
   "metadata": {},
   "outputs": [
    {
     "name": "stdin",
     "output_type": "stream",
     "text": [
      "请输入年份： ?\n"
     ]
    },
    {
     "name": "stdout",
     "output_type": "stream",
     "text": [
      "--------------------------------------------输入无效，请输入一个年份--------------------------------------------\n"
     ]
    },
    {
     "name": "stdin",
     "output_type": "stream",
     "text": [
      "请输入年份： 1998.06\n"
     ]
    },
    {
     "name": "stdout",
     "output_type": "stream",
     "text": [
      "--------------------------------------------输入无效，请输入一个年份--------------------------------------------\n"
     ]
    },
    {
     "name": "stdin",
     "output_type": "stream",
     "text": [
      "请输入年份： 1998\n"
     ]
    },
    {
     "name": "stdout",
     "output_type": "stream",
     "text": [
      "1998 不是闰年\n"
     ]
    }
   ],
   "source": [
    "# 判断闰年\n",
    "while True:\n",
    "    try:\n",
    "        year = int(input('请输入年份：'))\n",
    "    except ValueError:\n",
    "        print('输入无效，请输入一个年份'.center(100, '-'))\n",
    "        continue\n",
    "    if (year % 4) == 0:\n",
    "        if (year % 100) == 0:\n",
    "            if (year % 400) == 0:\n",
    "                print(f'{year} 是闰年')    # 整百年能被400整除的是闰年\n",
    "            else:\n",
    "                print(f'{year} 不是闰年')\n",
    "        else:\n",
    "            print(f'{year} 是闰年')    # 非整百年能被4整除的是闰年\n",
    "    else:\n",
    "        print(f'{year} 不是闰年')\n",
    "    break"
   ]
  },
  {
   "cell_type": "code",
   "execution_count": 2,
   "metadata": {},
   "outputs": [
    {
     "name": "stdin",
     "output_type": "stream",
     "text": [
      "请输入一个数字:  10\n"
     ]
    },
    {
     "name": "stdout",
     "output_type": "stream",
     "text": [
      "10 的阶乘为 3628800\n"
     ]
    }
   ],
   "source": [
    "# 阶乘\n",
    "num = int(input(\"请输入一个数字: \"))\n",
    "factorial = 1\n",
    "# 查看数字是负数，0 或 正数\n",
    "if num < 0:\n",
    "   print(\"抱歉，负数没有阶乘\")\n",
    "elif num == 0:\n",
    "   print(\"0 的阶乘为 1\")\n",
    "else:\n",
    "   for i in range(1,num + 1):\n",
    "       factorial = factorial*i\n",
    "   print(\"%d 的阶乘为 %d\" %(num,factorial))"
   ]
  },
  {
   "cell_type": "code",
   "execution_count": 3,
   "metadata": {},
   "outputs": [
    {
     "name": "stdin",
     "output_type": "stream",
     "text": [
      "请输入一个数字： 0\n"
     ]
    },
    {
     "name": "stdout",
     "output_type": "stream",
     "text": [
      "0 的阶乘为 1\n"
     ]
    }
   ],
   "source": [
    "import math\n",
    "num = int(input(\"请输入一个数字：\"))\n",
    "if num < 0:\n",
    "    print(\"负数是没有阶乘的！\")\n",
    "else:\n",
    "    print(\"{0} 的阶乘为 {1}\".format(num, math.factorial(num)))"
   ]
  },
  {
   "cell_type": "code",
   "execution_count": 4,
   "metadata": {},
   "outputs": [
    {
     "name": "stdout",
     "output_type": "stream",
     "text": [
      "1x1=1\t\n",
      "1x2=2\t2x2=4\t\n",
      "1x3=3\t2x3=6\t3x3=9\t\n",
      "1x4=4\t2x4=8\t3x4=12\t4x4=16\t\n",
      "1x5=5\t2x5=10\t3x5=15\t4x5=20\t5x5=25\t\n",
      "1x6=6\t2x6=12\t3x6=18\t4x6=24\t5x6=30\t6x6=36\t\n",
      "1x7=7\t2x7=14\t3x7=21\t4x7=28\t5x7=35\t6x7=42\t7x7=49\t\n",
      "1x8=8\t2x8=16\t3x8=24\t4x8=32\t5x8=40\t6x8=48\t7x8=56\t8x8=64\t\n",
      "1x9=9\t2x9=18\t3x9=27\t4x9=36\t5x9=45\t6x9=54\t7x9=63\t8x9=72\t9x9=81\t\n"
     ]
    }
   ],
   "source": [
    "# 九九乘法表\n",
    "for i in range(1, 10):\n",
    "    for j in range(1, i+1):\n",
    "        print('{}x{}={}\\t'.format(j, i, i*j), end='')\n",
    "    print()"
   ]
  },
  {
   "cell_type": "code",
   "execution_count": 5,
   "metadata": {},
   "outputs": [
    {
     "name": "stdin",
     "output_type": "stream",
     "text": [
      "输入年份:  1998\n",
      "输入月份:  06\n"
     ]
    },
    {
     "name": "stdout",
     "output_type": "stream",
     "text": [
      "     June 1998\n",
      "Mo Tu We Th Fr Sa Su\n",
      " 1  2  3  4  5  6  7\n",
      " 8  9 10 11 12 13 14\n",
      "15 16 17 18 19 20 21\n",
      "22 23 24 25 26 27 28\n",
      "29 30\n",
      "\n"
     ]
    }
   ],
   "source": [
    "# 生成日历\n",
    "import calendar\n",
    " \n",
    "# 输入指定年月\n",
    "yy = int(input(\"输入年份: \"))\n",
    "mm = int(input(\"输入月份: \"))\n",
    " \n",
    "# 显示日历\n",
    "print(calendar.month(yy,mm))"
   ]
  },
  {
   "cell_type": "code",
   "execution_count": 9,
   "metadata": {},
   "outputs": [
    {
     "name": "stdout",
     "output_type": "stream",
     "text": [
      "选择运算：\n",
      "1、相加\n",
      "2、相减\n",
      "3、相乘\n",
      "4、相除\n"
     ]
    },
    {
     "name": "stdin",
     "output_type": "stream",
     "text": [
      "输入你的选择(1/2/3/4): 4\n",
      "输入第一个数字:  45.1\n",
      "输入第二个数字:  2\n"
     ]
    },
    {
     "name": "stdout",
     "output_type": "stream",
     "text": [
      "45.1 / 2.0 = 22.55\n"
     ]
    }
   ],
   "source": [
    "# 定义函数\n",
    "def add(x, y):\n",
    "   \"\"\"相加\"\"\"\n",
    "   return x + y\n",
    " \n",
    "def subtract(x, y):\n",
    "   \"\"\"相减\"\"\"\n",
    "   return x - y\n",
    " \n",
    "def multiply(x, y):\n",
    "   \"\"\"相乘\"\"\"\n",
    "   return x * y\n",
    " \n",
    "def divide(x, y):\n",
    "   \"\"\"相除\"\"\"\n",
    "   return x / y\n",
    " \n",
    "# 用户输入\n",
    "print(\"选择运算：\")\n",
    "print(\"1、相加\")\n",
    "print(\"2、相减\")\n",
    "print(\"3、相乘\")\n",
    "print(\"4、相除\")\n",
    " \n",
    "choice = input(\"输入你的选择(1/2/3/4):\")\n",
    " \n",
    "num1 = float(input(\"输入第一个数字: \"))\n",
    "num2 = float(input(\"输入第二个数字: \"))\n",
    " \n",
    "if choice == '1':\n",
    "   print(num1,\"+\",num2,\"=\", add(num1,num2))\n",
    " \n",
    "elif choice == '2':\n",
    "   print(num1,\"-\",num2,\"=\", subtract(num1,num2))\n",
    " \n",
    "elif choice == '3':\n",
    "   print(num1,\"*\",num2,\"=\", multiply(num1,num2))\n",
    " \n",
    "elif choice == '4':\n",
    "   print(num1,\"/\",num2,\"=\", divide(num1,num2))\n",
    "else:\n",
    "   print(\"非法输入\")"
   ]
  },
  {
   "cell_type": "code",
   "execution_count": 12,
   "metadata": {},
   "outputs": [
    {
     "name": "stdin",
     "output_type": "stream",
     "text": [
      "请输入一个字符:  /\n",
      "请输入一个ASCII码:  42\n"
     ]
    },
    {
     "name": "stdout",
     "output_type": "stream",
     "text": [
      "/ 的ASCII 码为 47\n",
      "42  对应的字符为 *\n"
     ]
    }
   ],
   "source": [
    "# ASCII码与字符相互转换\n",
    "c = input(\"请输入一个字符: \")\n",
    " \n",
    "# 用户输入ASCII码，并将输入的数字转为整型\n",
    "a = int(input(\"请输入一个ASCII码: \"))\n",
    "\n",
    " \n",
    "print( c + \" 的ASCII 码为\", ord(c))\n",
    "print( a , \" 对应的字符为\", chr(a))"
   ]
  },
  {
   "cell_type": "code",
   "execution_count": 14,
   "metadata": {},
   "outputs": [
    {
     "name": "stdout",
     "output_type": "stream",
     "text": [
      "9号下船了\n",
      "18号下船了\n",
      "27号下船了\n",
      "6号下船了\n",
      "16号下船了\n",
      "26号下船了\n",
      "7号下船了\n",
      "19号下船了\n",
      "30号下船了\n",
      "12号下船了\n",
      "24号下船了\n",
      "8号下船了\n",
      "22号下船了\n",
      "5号下船了\n",
      "23号下船了\n"
     ]
    }
   ],
   "source": [
    "'''\n",
    "30 个人在一条船上，超载，需要 15 人下船。\n",
    "于是人们排成一队，排队的位置即为他们的编号。\n",
    "报数，从 1 开始，数到 9 的人下船。\n",
    "如此循环，直到船上仅剩 15 人为止，问都有哪些编号的人下船了呢？\n",
    "'''\n",
    "\n",
    "people={}\n",
    "for x in range(1,31):\n",
    "    people[x]=1\n",
    "# print(people)\n",
    "check=0\n",
    "i=1\n",
    "j=0\n",
    "while i<=31:\n",
    "    if i == 31:\n",
    "        i=1\n",
    "    elif j == 15:\n",
    "        break\n",
    "    else:\n",
    "        if people[i] == 0:\n",
    "            i+=1\n",
    "            continue\n",
    "        else:\n",
    "            check+=1\n",
    "            if check == 9:\n",
    "                people[i]=0\n",
    "                check = 0\n",
    "                print(f\"{i}号下船了\")\n",
    "                j+=1\n",
    "            else:\n",
    "                i+=1\n",
    "                continue"
   ]
  },
  {
   "cell_type": "code",
   "execution_count": 17,
   "metadata": {},
   "outputs": [
    {
     "name": "stdout",
     "output_type": "stream",
     "text": [
      "总共有3121条鱼\n"
     ]
    }
   ],
   "source": [
    "'''\n",
    "A、B、C、D、E 五人在某天夜里合伙去捕鱼，到第二天凌晨时都疲惫不堪，于是各自找地方睡觉。\n",
    "日上三杆，A 第一个醒来，他将鱼分为五份，把多余的一条鱼扔掉，拿走自己的一份。\n",
    "B 第二个醒来，也将鱼分为五份，把多余的一条鱼扔掉拿走自己的一份。 。\n",
    "C、D、E依次醒来，也按同样的方法拿鱼。\n",
    "问他们至少捕了多少条鱼?\n",
    "'''\n",
    "\n",
    "def main():\n",
    "    fish = 1\n",
    "    while True:\n",
    "        total, enough = fish, True\n",
    "        for _ in range(5):\n",
    "            if (total - 1) % 5 == 0:\n",
    "                total = (total - 1)  //  5 * 4\n",
    "            else:\n",
    "                enough = False\n",
    "                break\n",
    "        if enough:\n",
    "            print(f'总共有{fish}条鱼')\n",
    "            break\n",
    "        fish += 1\n",
    "\n",
    "\n",
    "if __name__ == '__main__':\n",
    "    main()"
   ]
  },
  {
   "cell_type": "code",
   "execution_count": null,
   "metadata": {},
   "outputs": [],
   "source": []
  },
  {
   "cell_type": "code",
   "execution_count": null,
   "metadata": {},
   "outputs": [],
   "source": []
  }
 ],
 "metadata": {
  "kernelspec": {
   "display_name": "Python 3",
   "language": "python",
   "name": "python3"
  },
  "language_info": {
   "codemirror_mode": {
    "name": "ipython",
    "version": 3
   },
   "file_extension": ".py",
   "mimetype": "text/x-python",
   "name": "python",
   "nbconvert_exporter": "python",
   "pygments_lexer": "ipython3",
   "version": "3.8.3"
  }
 },
 "nbformat": 4,
 "nbformat_minor": 4
}
