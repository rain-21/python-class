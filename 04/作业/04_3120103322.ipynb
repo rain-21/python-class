{
 "cells": [
  {
   "cell_type": "code",
   "execution_count": 1,
   "metadata": {},
   "outputs": [
    {
     "name": "stdout",
     "output_type": "stream",
     "text": [
      "1 2 3\n",
      "1 2 4\n",
      "1 3 2\n",
      "1 3 4\n",
      "1 4 2\n",
      "1 4 3\n",
      "2 1 3\n",
      "2 1 4\n",
      "2 3 1\n",
      "2 3 4\n",
      "2 4 1\n",
      "2 4 3\n",
      "3 1 2\n",
      "3 1 4\n",
      "3 2 1\n",
      "3 2 4\n",
      "3 4 1\n",
      "3 4 2\n",
      "4 1 2\n",
      "4 1 3\n",
      "4 2 1\n",
      "4 2 3\n",
      "4 3 1\n",
      "4 3 2\n"
     ]
    }
   ],
   "source": [
    "for i in range(1,5):\n",
    "    for j in range(1,5):\n",
    "        for k in range(1,5):\n",
    "            if( i != k ) and (i != j) and (j != k):\n",
    "                print (i,j,k)\n",
    "            "
   ]
  },
  {
   "cell_type": "code",
   "execution_count": 5,
   "metadata": {},
   "outputs": [
    {
     "name": "stdin",
     "output_type": "stream",
     "text": [
      "净利润: 100\n"
     ]
    },
    {
     "name": "stdout",
     "output_type": "stream",
     "text": [
      "10.0\n",
      "10.0\n"
     ]
    }
   ],
   "source": [
    "#!/usr/bin/python3\n",
    " \n",
    "i = int(input('净利润:'))\n",
    "arr = [1000000,600000,400000,200000,100000,0]\n",
    "rat = [0.01,0.015,0.03,0.05,0.075,0.1]\n",
    "r = 0\n",
    "for idx in range(0,6):\n",
    "    if i>arr[idx]:\n",
    "        r+=(i-arr[idx])*rat[idx]\n",
    "        print ((i-arr[idx])*rat[idx])\n",
    "        i=arr[idx]\n",
    "print (r)"
   ]
  },
  {
   "cell_type": "code",
   "execution_count": 6,
   "metadata": {},
   "outputs": [
    {
     "name": "stdout",
     "output_type": "stream",
     "text": [
      "-99.0\n",
      "21.0\n",
      "261.0\n",
      "1581.0\n"
     ]
    }
   ],
   "source": [
    "#!/usr/bin/python\n",
    "# -*- coding: UTF-8 -*-\n",
    " \n",
    "for i in range(1,85):\n",
    "    if 168 % i == 0:\n",
    "        j = 168 / i;\n",
    "        if  i > j and (i + j) % 2 == 0 and (i - j) % 2 == 0 :\n",
    "            m = (i + j) / 2\n",
    "            n = (i - j) / 2\n",
    "            x = n * n - 100\n",
    "            print(x)"
   ]
  },
  {
   "cell_type": "code",
   "execution_count": 7,
   "metadata": {},
   "outputs": [
    {
     "name": "stdin",
     "output_type": "stream",
     "text": [
      "year:\n",
      " 2012\n",
      "month:\n",
      " 5\n",
      "day:\n",
      " 12\n"
     ]
    },
    {
     "name": "stdout",
     "output_type": "stream",
     "text": [
      "it is the 133th day.\n"
     ]
    }
   ],
   "source": [
    "#!/usr/bin/python3\n",
    " \n",
    "year = int(input('year:\\n'))\n",
    "month = int(input('month:\\n'))\n",
    "day = int(input('day:\\n'))\n",
    " \n",
    "months = (0,31,59,90,120,151,181,212,243,273,304,334)\n",
    "if 0 < month <= 12:\n",
    "    sum = months[month - 1]\n",
    "else:\n",
    "    print ('data error')\n",
    "sum += day\n",
    "leap = 0\n",
    "if (year % 400 == 0) or ((year % 4 == 0) and (year % 100 != 0)):\n",
    "    leap = 1\n",
    "if (leap == 1) and (month > 2):\n",
    "    sum += 1\n",
    "print ('it is the %dth day.' % sum)"
   ]
  },
  {
   "cell_type": "code",
   "execution_count": 9,
   "metadata": {},
   "outputs": [
    {
     "name": "stdin",
     "output_type": "stream",
     "text": [
      "integer:\n",
      " 8\n",
      "integer:\n",
      " 2\n",
      "integer:\n",
      " 1\n"
     ]
    },
    {
     "name": "stdout",
     "output_type": "stream",
     "text": [
      "[1, 2, 8]\n"
     ]
    }
   ],
   "source": [
    "#!/usr/bin/python3\n",
    " \n",
    "l = []\n",
    "for i in range(3):\n",
    "    x = int(input('integer:\\n'))\n",
    "    l.append(x)\n",
    "l.sort()\n",
    "print (l)"
   ]
  },
  {
   "cell_type": "code",
   "execution_count": 10,
   "metadata": {},
   "outputs": [
    {
     "name": "stdout",
     "output_type": "stream",
     "text": [
      "55\n"
     ]
    }
   ],
   "source": [
    "#!/usr/bin/python\n",
    "# -*- coding: UTF-8 -*-\n",
    " \n",
    "def fib(n):\n",
    "    a,b = 1,1\n",
    "    for i in range(n-1):\n",
    "        a,b = b,a+b\n",
    "    return a\n",
    " \n",
    "# 输出了第10个斐波那契数列\n",
    "print (fib(10))"
   ]
  },
  {
   "cell_type": "code",
   "execution_count": 11,
   "metadata": {},
   "outputs": [
    {
     "name": "stdout",
     "output_type": "stream",
     "text": [
      "55\n"
     ]
    }
   ],
   "source": [
    "#!/usr/bin/python\n",
    "# -*- coding: UTF-8 -*-\n",
    " \n",
    "# 使用递归\n",
    "def fib(n):\n",
    "    if n==1 or n==2:\n",
    "        return 1\n",
    "    return fib(n-1)+fib(n-2)\n",
    " \n",
    "# 输出了第10个斐波那契数列\n",
    "print (fib(10))"
   ]
  },
  {
   "cell_type": "code",
   "execution_count": 12,
   "metadata": {},
   "outputs": [
    {
     "name": "stdout",
     "output_type": "stream",
     "text": [
      "[1, 1, 2, 3, 5, 8, 13, 21, 34, 55]\n"
     ]
    }
   ],
   "source": [
    "#!/usr/bin/python\n",
    "# -*- coding: UTF-8 -*-\n",
    " \n",
    "def fib(n):\n",
    "    if n == 1:\n",
    "        return [1]\n",
    "    if n == 2:\n",
    "        return [1, 1]\n",
    "    fibs = [1, 1]\n",
    "    for i in range(2, n):\n",
    "        fibs.append(fibs[-1] + fibs[-2])\n",
    "    return fibs\n",
    " \n",
    "# 输出前 10 个斐波那契数列\n",
    "print (fib(10))"
   ]
  },
  {
   "cell_type": "code",
   "execution_count": 13,
   "metadata": {},
   "outputs": [
    {
     "name": "stdout",
     "output_type": "stream",
     "text": [
      "[1, 2, 3]\n"
     ]
    }
   ],
   "source": [
    "#!/usr/bin/python\n",
    "# -*- coding: UTF-8 -*-\n",
    " \n",
    "a = [1, 2, 3]\n",
    "b = a[:]\n",
    "print (b)"
   ]
  },
  {
   "cell_type": "code",
   "execution_count": 15,
   "metadata": {},
   "outputs": [
    {
     "name": "stdout",
     "output_type": "stream",
     "text": [
      "\n",
      "1*1=1 \n",
      "2*1=2 2*2=4 \n",
      "3*1=3 3*2=6 3*3=9 \n",
      "4*1=4 4*2=8 4*3=12 4*4=16 \n",
      "5*1=5 5*2=10 5*3=15 5*4=20 5*5=25 \n",
      "6*1=6 6*2=12 6*3=18 6*4=24 6*5=30 6*6=36 \n",
      "7*1=7 7*2=14 7*3=21 7*4=28 7*5=35 7*6=42 7*7=49 \n",
      "8*1=8 8*2=16 8*3=24 8*4=32 8*5=40 8*6=48 8*7=56 8*8=64 \n",
      "9*1=9 9*2=18 9*3=27 9*4=36 9*5=45 9*6=54 9*7=63 9*8=72 9*9=81 "
     ]
    }
   ],
   "source": [
    "#!/usr/bin/python3\n",
    " \n",
    "for i in range(1, 10):\n",
    "    print() \n",
    "    for j in range(1, i+1):\n",
    "        print (\"%d*%d=%d\" % (i, j, i*j), end=\" \" )"
   ]
  },
  {
   "cell_type": "code",
   "execution_count": 16,
   "metadata": {},
   "outputs": [
    {
     "name": "stdout",
     "output_type": "stream",
     "text": [
      "1 a\n",
      "2 b\n"
     ]
    }
   ],
   "source": [
    "#!/usr/bin/python\n",
    "# -*- coding: UTF-8 -*-\n",
    " \n",
    "import time\n",
    " \n",
    "myD = {1: 'a', 2: 'b'}\n",
    "for key, value in dict.items(myD):\n",
    "    print (key, value)\n",
    "    time.sleep(1) # 暂停 1 秒"
   ]
  },
  {
   "cell_type": "code",
   "execution_count": 17,
   "metadata": {},
   "outputs": [
    {
     "name": "stdout",
     "output_type": "stream",
     "text": [
      "2020-12-16 16:25:12\n",
      "2020-12-16 16:25:13\n"
     ]
    }
   ],
   "source": [
    "#!/usr/bin/python\n",
    "# -*- coding: UTF-8 -*-\n",
    "import time\n",
    " \n",
    "print (time.strftime('%Y-%m-%d %H:%M:%S',time.localtime(time.time())))\n",
    " \n",
    "# 暂停一秒\n",
    "time.sleep(1)\n",
    " \n",
    "print (time.strftime('%Y-%m-%d %H:%M:%S',time.localtime(time.time())))"
   ]
  },
  {
   "cell_type": "code",
   "execution_count": 18,
   "metadata": {},
   "outputs": [
    {
     "name": "stdout",
     "output_type": "stream",
     "text": [
      "2020.12.16 16-42-29\n"
     ]
    }
   ],
   "source": [
    "import time,datetime\n",
    "\n",
    "time.sleep(1)\n",
    "TIME = datetime.datetime.now()\n",
    "print(TIME.strftime(\"%Y.%m.%d %H-%M-%S\"))"
   ]
  },
  {
   "cell_type": "code",
   "execution_count": 21,
   "metadata": {},
   "outputs": [
    {
     "name": "stdout",
     "output_type": "stream",
     "text": [
      "           1            1            2            3            5            8 \n",
      "          13           21           34           55           89          144 \n",
      "         233          377          610          987         1597         2584 \n",
      "        4181         6765        10946        17711        28657        46368 \n",
      "       75025       121393       196418       317811       514229       832040 \n",
      "     1346269      2178309      3524578      5702887      9227465     14930352 \n",
      "    24157817     39088169     63245986    102334155    165580141    267914296 \n"
     ]
    }
   ],
   "source": [
    "#!/usr/bin/python3\n",
    " \n",
    "f1 = 1\n",
    "f2 = 1\n",
    "for i in range(1,22):\n",
    "    print ('%12ld %12ld' % (f1,f2), end=\" \")\n",
    "    if (i % 3) == 0:\n",
    "        print ('')\n",
    "    f1 = f1 + f2\n",
    "    f2 = f1 + f2"
   ]
  },
  {
   "cell_type": "code",
   "execution_count": 22,
   "metadata": {},
   "outputs": [
    {
     "name": "stdout",
     "output_type": "stream",
     "text": [
      "101 \n",
      "103 \n",
      "107 \n",
      "109 \n",
      "113 \n",
      "127 \n",
      "131 \n",
      "137 \n",
      "139 \n",
      "149 \n",
      "\n",
      "151 \n",
      "157 \n",
      "163 \n",
      "167 \n",
      "173 \n",
      "179 \n",
      "181 \n",
      "191 \n",
      "193 \n",
      "197 \n",
      "\n",
      "199 \n",
      "The total is 21\n"
     ]
    }
   ],
   "source": [
    "#!/usr/bin/python\n",
    "# -*- coding: UTF-8 -*-\n",
    " \n",
    "h = 0\n",
    "leap = 1\n",
    "from math import sqrt\n",
    "from sys import stdout\n",
    "for m in range(101,201):\n",
    "    k = int(sqrt(m + 1))\n",
    "    for i in range(2,k + 1):\n",
    "        if m % i == 0:\n",
    "            leap = 0\n",
    "            break\n",
    "    if leap == 1:\n",
    "        print ('%-4d' % m)\n",
    "        h += 1\n",
    "        if h % 10 == 0:\n",
    "            print ('')\n",
    "    leap = 1\n",
    "print ('The total is %d' % h)"
   ]
  },
  {
   "cell_type": "code",
   "execution_count": 24,
   "metadata": {},
   "outputs": [
    {
     "name": "stdout",
     "output_type": "stream",
     "text": [
      "153\n",
      "370\n",
      "371\n",
      "407\n"
     ]
    }
   ],
   "source": [
    "for n in range(100,1000):\n",
    "    i = n // 100\n",
    "    j = n // 10 % 10\n",
    "    k = n % 10\n",
    "    if n == i*i*i + j*j*j + k*k*k: \n",
    "        print(n)"
   ]
  },
  {
   "cell_type": "code",
   "execution_count": 26,
   "metadata": {},
   "outputs": [
    {
     "name": "stdout",
     "output_type": "stream",
     "text": [
      "90 =  2 * 3 * 3 * 5\n",
      "100 =  2 * 2 * 5 * 5\n"
     ]
    }
   ],
   "source": [
    "#!/usr/bin/python3\n",
    " \n",
    "def reduceNum(n):\n",
    "    print ('{} = '.format(n), end=\" \")\n",
    "    if not isinstance(n, int) or n <= 0 :\n",
    "        print ('请输入一个正确的数字 !')\n",
    "        exit(0)\n",
    "    elif n in [1] :\n",
    "        print ('{}'.format(n))\n",
    "    while n not in [1] : # 循环保证递归\n",
    "        for index in range(2, n + 1) :\n",
    "            if n % index == 0:\n",
    "                n //= index # n 等于 n//index\n",
    "                if n == 1: \n",
    "                    print (index )\n",
    "                else : # index 一定是素数\n",
    "                    print ('{} *'.format(index), end=\" \")\n",
    "                break\n",
    "reduceNum(90)\n",
    "reduceNum(100)"
   ]
  },
  {
   "cell_type": "code",
   "execution_count": 28,
   "metadata": {},
   "outputs": [
    {
     "name": "stdin",
     "output_type": "stream",
     "text": [
      "输入分数:\n",
      " 50\n"
     ]
    },
    {
     "name": "stdout",
     "output_type": "stream",
     "text": [
      "50 属于 C\n"
     ]
    }
   ],
   "source": [
    "#!/usr/bin/python3\n",
    " \n",
    "score = int(input('输入分数:\\n'))\n",
    "if score >= 90:\n",
    "    grade = 'A'\n",
    "elif score >= 60:\n",
    "    grade = 'B'\n",
    "else:\n",
    "    grade = 'C'\n",
    " \n",
    "print ('%d 属于 %s' % (score,grade))"
   ]
  },
  {
   "cell_type": "code",
   "execution_count": 29,
   "metadata": {},
   "outputs": [
    {
     "name": "stdout",
     "output_type": "stream",
     "text": [
      "16/12/2020\n",
      "05/01/1941\n",
      "06/01/1941\n",
      "05/01/1942\n"
     ]
    }
   ],
   "source": [
    "#!/usr/bin/python\n",
    "# -*- coding: UTF-8 -*-\n",
    " \n",
    "import datetime\n",
    " \n",
    "if __name__ == '__main__':\n",
    " \n",
    "    # 输出今日日期，格式为 dd/mm/yyyy。更多选项可以查看 strftime() 方法\n",
    "    print(datetime.date.today().strftime('%d/%m/%Y'))\n",
    " \n",
    "    # 创建日期对象\n",
    "    miyazakiBirthDate = datetime.date(1941, 1, 5)\n",
    " \n",
    "    print(miyazakiBirthDate.strftime('%d/%m/%Y'))\n",
    " \n",
    "    # 日期算术运算\n",
    "    miyazakiBirthNextDay = miyazakiBirthDate + datetime.timedelta(days=1)\n",
    " \n",
    "    print(miyazakiBirthNextDay.strftime('%d/%m/%Y'))\n",
    " \n",
    "    # 日期替换\n",
    "    miyazakiFirstBirthday = miyazakiBirthDate.replace(year=miyazakiBirthDate.year + 1)\n",
    " \n",
    "    print(miyazakiFirstBirthday.strftime('%d/%m/%Y'))"
   ]
  },
  {
   "cell_type": "code",
   "execution_count": 31,
   "metadata": {},
   "outputs": [
    {
     "name": "stdin",
     "output_type": "stream",
     "text": [
      "请输入一个字符串:\n",
      " a,v,e,q,d\n"
     ]
    },
    {
     "name": "stdout",
     "output_type": "stream",
     "text": [
      "char = 5,space = 0,digit = 0,others = 4\n"
     ]
    }
   ],
   "source": [
    "#!/usr/bin/python3\n",
    " \n",
    "import string\n",
    "s = input('请输入一个字符串:\\n')\n",
    "letters = 0\n",
    "space = 0\n",
    "digit = 0\n",
    "others = 0\n",
    "for c in s:\n",
    "    if c.isalpha():\n",
    "        letters += 1\n",
    "    elif c.isspace():\n",
    "        space += 1\n",
    "    elif c.isdigit():\n",
    "        digit += 1\n",
    "    else:\n",
    "        others += 1\n",
    "print ('char = %d,space = %d,digit = %d,others = %d' % (letters,space,digit,others))"
   ]
  },
  {
   "cell_type": "code",
   "execution_count": 33,
   "metadata": {},
   "outputs": [
    {
     "name": "stdin",
     "output_type": "stream",
     "text": [
      "n =  8\n",
      "a =  6\n"
     ]
    },
    {
     "name": "stdout",
     "output_type": "stream",
     "text": [
      "6\n",
      "66\n",
      "666\n",
      "6666\n",
      "66666\n",
      "666666\n",
      "6666666\n",
      "66666666\n",
      "计算和为： 74074068\n"
     ]
    }
   ],
   "source": [
    "#!/usr/bin/python\n",
    "from functools import reduce\n",
    " \n",
    "Tn = 0\n",
    "Sn = []\n",
    "n = int(input('n = '))\n",
    "a = int(input('a = '))\n",
    "for count in range(n):\n",
    "    Tn = Tn + a\n",
    "    a = a * 10\n",
    "    Sn.append(Tn)\n",
    "    print (Tn)\n",
    " \n",
    "Sn = reduce(lambda x,y : x + y,Sn)\n",
    "print (\"计算和为：\",Sn)"
   ]
  },
  {
   "cell_type": "code",
   "execution_count": 34,
   "metadata": {},
   "outputs": [
    {
     "name": "stdout",
     "output_type": "stream",
     "text": [
      "6\n",
      "1 2 3\n",
      "28\n",
      "1 2 4 7 14\n",
      "496\n",
      "1 2 4 8 16 31 62 124 248\n"
     ]
    }
   ],
   "source": [
    "#!/usr/bin/python\n",
    "# -*- coding: UTF-8 -*-\n",
    " \n",
    "from sys import stdout\n",
    "for j in range(2,1001):\n",
    "    k = []\n",
    "    n = -1\n",
    "    s = j\n",
    "    for i in range(1,j):\n",
    "            if j % i == 0:\n",
    "                n += 1\n",
    "                s -= i\n",
    "                k.append(i)\n",
    "    \n",
    "    if s == 0:\n",
    "        print (j)\n",
    "        for i in range(n):\n",
    "            stdout.write(str(k[i]))\n",
    "            stdout.write(' ')\n",
    "        print (k[n])"
   ]
  },
  {
   "cell_type": "code",
   "execution_count": 37,
   "metadata": {},
   "outputs": [
    {
     "name": "stdout",
     "output_type": "stream",
     "text": [
      "1534\n"
     ]
    }
   ],
   "source": [
    "x2 = 1\n",
    "for day in range(9,0,-1):\n",
    "    x1 = (x2 + 1) * 2\n",
    "    x2 = x1\n",
    "print (x1)"
   ]
  },
  {
   "cell_type": "code",
   "execution_count": 38,
   "metadata": {},
   "outputs": [
    {
     "name": "stdout",
     "output_type": "stream",
     "text": [
      "order is a -- z\t b -- x\tc--y\n"
     ]
    }
   ],
   "source": [
    "for i in range(ord('x'),ord('z') + 1):\n",
    "    for j in range(ord('x'),ord('z') + 1):\n",
    "        if i != j:\n",
    "            for k in range(ord('x'),ord('z') + 1):\n",
    "                if (i != k) and (j != k):\n",
    "                    if (i != ord('x')) and (k != ord('x')) and (k != ord('z')):\n",
    "                        print ('order is a -- %s\\t b -- %s\\tc--%s' % (chr(i),chr(j),chr(k)))"
   ]
  },
  {
   "cell_type": "code",
   "execution_count": 39,
   "metadata": {},
   "outputs": [
    {
     "name": "stdout",
     "output_type": "stream",
     "text": [
      "   *\n",
      "  ***\n",
      " *****\n",
      "*******\n",
      " *****\n",
      "  ***\n",
      "   *\n"
     ]
    }
   ],
   "source": [
    "from sys import stdout\n",
    "for i in range(4):\n",
    "    for j in range(2 - i + 1):\n",
    "        stdout.write(' ')\n",
    "    for k in range(2 * i + 1):\n",
    "        stdout.write('*')\n",
    "    print('')\n",
    " \n",
    "for i in range(3):\n",
    "    for j in range(i + 1):\n",
    "        stdout.write(' ')\n",
    "    for k in range(4 - 2 * i + 1):\n",
    "        stdout.write('*')\n",
    "    print('')"
   ]
  },
  {
   "cell_type": "code",
   "execution_count": 41,
   "metadata": {},
   "outputs": [
    {
     "name": "stdout",
     "output_type": "stream",
     "text": [
      "34.278294788817234\n"
     ]
    }
   ],
   "source": [
    "a = 2.0\n",
    "b = 1.0\n",
    "s = 0\n",
    "for n in range(1,22):\n",
    "    s += a / b\n",
    "    t = a\n",
    "    a = a + b\n",
    "    b = t\n",
    "print (s)"
   ]
  },
  {
   "cell_type": "code",
   "execution_count": 42,
   "metadata": {},
   "outputs": [
    {
     "name": "stdout",
     "output_type": "stream",
     "text": [
      "34.51218279301273\n",
      "32.36067977864511\n"
     ]
    }
   ],
   "source": [
    "a = 4.0\n",
    "b = 1.0\n",
    "s = 0.0\n",
    "for n in range(1,21):\n",
    "    s += a / b\n",
    "    b,a = a , a + b\n",
    "print (s)\n",
    " \n",
    "s = 0.0\n",
    "for n in range(1,21):\n",
    "    s += a / b\n",
    "    b,a = a , a + b\n",
    "print (s)"
   ]
  },
  {
   "cell_type": "code",
   "execution_count": 46,
   "metadata": {},
   "outputs": [
    {
     "name": "stdout",
     "output_type": "stream",
     "text": [
      "36.47414577220123\n"
     ]
    }
   ],
   "source": [
    "from functools import reduce\n",
    " \n",
    "a = 6.0\n",
    "b = 1.0\n",
    "l = []\n",
    "l.append(a / b)\n",
    "for n in range(1,20):\n",
    "    b,a = a,a + b\n",
    "    l.append(a / b)\n",
    "print (reduce(lambda x,y: x + y,l))"
   ]
  },
  {
   "cell_type": "code",
   "execution_count": 47,
   "metadata": {},
   "outputs": [
    {
     "name": "stdout",
     "output_type": "stream",
     "text": [
      "1! + 2! + 3! + ... + 25! = 647478071469567844940313\n"
     ]
    }
   ],
   "source": [
    "n = 0\n",
    "s = 0\n",
    "t = 1\n",
    "for n in range(1,25):\n",
    "    t *= n\n",
    "    s += t\n",
    "print ('1! + 2! + 3! + ... + 25! = %d' % s)"
   ]
  },
  {
   "cell_type": "code",
   "execution_count": 51,
   "metadata": {},
   "outputs": [
    {
     "name": "stdout",
     "output_type": "stream",
     "text": [
      "40320\n"
     ]
    }
   ],
   "source": [
    "def fact(j):\n",
    "    sum = 0\n",
    "    if j == 0:\n",
    "        sum = 1\n",
    "    else:\n",
    "        sum = j * fact(j - 1)\n",
    "    return sum\n",
    " \n",
    "print (fact(8))"
   ]
  },
  {
   "cell_type": "code",
   "execution_count": 52,
   "metadata": {},
   "outputs": [
    {
     "name": "stdout",
     "output_type": "stream",
     "text": [
      "120\n"
     ]
    }
   ],
   "source": [
    "def Factorial(n):\n",
    "    if n == 1:\n",
    "        fn=1\n",
    "    else:\n",
    "        fn = n*Factorial(n-1)\n",
    "    return fn\n",
    "print(Factorial(5))"
   ]
  },
  {
   "cell_type": "code",
   "execution_count": 54,
   "metadata": {},
   "outputs": [
    {
     "name": "stdin",
     "output_type": "stream",
     "text": [
      "Input a string: w,t,s,1,h,6\n"
     ]
    },
    {
     "name": "stdout",
     "output_type": "stream",
     "text": [
      "6\n",
      ",\n",
      "h\n",
      ",\n",
      "1\n",
      ",\n",
      "s\n",
      ",\n",
      "t\n",
      ",\n",
      "w\n"
     ]
    }
   ],
   "source": [
    "def output(s,l):\n",
    "    if l==0:\n",
    "       return\n",
    "    print (s[l-1])\n",
    "    output(s,l-1)\n",
    " \n",
    "s = input('Input a string:')\n",
    "l = len(s)\n",
    "output(s,l)"
   ]
  },
  {
   "cell_type": "code",
   "execution_count": 56,
   "metadata": {},
   "outputs": [
    {
     "name": "stdout",
     "output_type": "stream",
     "text": [
      "28\n"
     ]
    }
   ],
   "source": [
    "def age(n):\n",
    "    if n == 1: c = 10\n",
    "    else: c = age(n - 1) + 2\n",
    "    return c\n",
    "print (age(10))"
   ]
  },
  {
   "cell_type": "code",
   "execution_count": 57,
   "metadata": {},
   "outputs": [
    {
     "name": "stdin",
     "output_type": "stream",
     "text": [
      "请输入一个数:\n",
      " 14586\n"
     ]
    },
    {
     "name": "stdout",
     "output_type": "stream",
     "text": [
      "5 位数： 6 8 5 4 1\n"
     ]
    }
   ],
   "source": [
    "x = int(input(\"请输入一个数:\\n\"))\n",
    "a = x // 10000\n",
    "b = x % 10000 // 1000\n",
    "c = x % 1000 // 100\n",
    "d = x % 100 // 10\n",
    "e = x % 10\n",
    " \n",
    "if a != 0:\n",
    "    print (\"5 位数：\",e,d,c,b,a)\n",
    "elif b != 0:\n",
    "    print (\"4 位数：\",e,d,c,b)\n",
    "elif c != 0:\n",
    "    print (\"3 位数：\",e,d,c)\n",
    "elif d != 0:\n",
    "    print (\"2 位数：\",e,d)\n",
    "else:\n",
    "    print (\"1 位数：\",e)"
   ]
  },
  {
   "cell_type": "code",
   "execution_count": 59,
   "metadata": {},
   "outputs": [
    {
     "name": "stdin",
     "output_type": "stream",
     "text": [
      "请输入一个数字:\n",
      " 42524\n"
     ]
    },
    {
     "name": "stdout",
     "output_type": "stream",
     "text": [
      "42524 是一个回文数!\n"
     ]
    }
   ],
   "source": [
    "a = int(input(\"请输入一个数字:\\n\"))\n",
    "x = str(a)\n",
    "flag = True\n",
    " \n",
    "for i in range(len(x)//2):\n",
    "    if x[i] != x[-i - 1]:\n",
    "        flag = False\n",
    "        break\n",
    "if flag:\n",
    "    print (\"%d 是一个回文数!\" % a)\n",
    "else:\n",
    "    print (\"%d 不是一个回文数!\" % a)"
   ]
  },
  {
   "cell_type": "code",
   "execution_count": 61,
   "metadata": {},
   "outputs": [
    {
     "name": "stdin",
     "output_type": "stream",
     "text": [
      "please input: F\n"
     ]
    },
    {
     "name": "stdout",
     "output_type": "stream",
     "text": [
      "Friday\n"
     ]
    }
   ],
   "source": [
    "letter = input(\"please input:\")\n",
    "#while letter  != 'Y':\n",
    "if letter == 'S':\n",
    "    print ('please input second letter:')\n",
    "    letter = input(\"please input:\")\n",
    "    if letter == 'a':\n",
    "        print ('Saturday')\n",
    "    elif letter  == 'u':\n",
    "        print ('Sunday')\n",
    "    else:\n",
    "        print ('data error')\n",
    "    \n",
    "elif letter == 'F':\n",
    "    print ('Friday')\n",
    "    \n",
    "elif letter == 'M':\n",
    "    print ('Monday')\n",
    "    \n",
    "elif letter == 'T':\n",
    "    print ('please input second letter')\n",
    "    letter = input(\"please input:\")\n",
    " \n",
    "    if letter  == 'u':\n",
    "        print ('Tuesday')\n",
    "    elif letter  == 'h':\n",
    "        print ('Thursday')\n",
    "    else:\n",
    "        print ('data error')\n",
    "        \n",
    "elif letter == 'W':\n",
    "    print ('Wednesday')\n",
    "else:\n",
    "    print ('data error')"
   ]
  },
  {
   "cell_type": "code",
   "execution_count": 63,
   "metadata": {},
   "outputs": [
    {
     "name": "stdout",
     "output_type": "stream",
     "text": [
      "five\n",
      "four\n",
      "three\n",
      "two\n",
      "one\n"
     ]
    }
   ],
   "source": [
    "a = ['one', 'two', 'three','four','five']\n",
    "for i in a[::-1]:\n",
    "    print (i)"
   ]
  },
  {
   "cell_type": "code",
   "execution_count": 64,
   "metadata": {},
   "outputs": [
    {
     "name": "stdout",
     "output_type": "stream",
     "text": [
      "1,2,6,4,5\n"
     ]
    }
   ],
   "source": [
    "L = [1,2,6,4,5]\n",
    "s1 = ','.join(str(n) for n in L)\n",
    "print (s1)"
   ]
  },
  {
   "cell_type": "code",
   "execution_count": 66,
   "metadata": {},
   "outputs": [
    {
     "name": "stdout",
     "output_type": "stream",
     "text": [
      "RUNOOB555\n",
      "RUNOOB555\n",
      "RUNOOB555\n"
     ]
    }
   ],
   "source": [
    "def hello_runoob():\n",
    "    print ('RUNOOB555')\n",
    " \n",
    "def hello_runoobs():\n",
    "    for i in range(3):\n",
    "        hello_runoob()\n",
    "if __name__ == '__main__':\n",
    "    hello_runoobs()"
   ]
  },
  {
   "cell_type": "code",
   "execution_count": 67,
   "metadata": {},
   "outputs": [
    {
     "name": "stdout",
     "output_type": "stream",
     "text": [
      "\u001b[93m警告的颜色字体?\u001b[0m\n"
     ]
    }
   ],
   "source": [
    "class bcolors:\n",
    "    HEADER = '\\033[95m'\n",
    "    OKBLUE = '\\033[94m'\n",
    "    OKGREEN = '\\033[92m'\n",
    "    WARNING = '\\033[93m'\n",
    "    FAIL = '\\033[91m'\n",
    "    ENDC = '\\033[0m'\n",
    "    BOLD = '\\033[1m'\n",
    "    UNDERLINE = '\\033[4m'\n",
    "print (bcolors.WARNING + \"警告的颜色字体?\" + bcolors.ENDC)"
   ]
  },
  {
   "cell_type": "code",
   "execution_count": 68,
   "metadata": {},
   "outputs": [
    {
     "name": "stdin",
     "output_type": "stream",
     "text": [
      "输入区间最小值:  4\n",
      "输入区间最大值:  85\n"
     ]
    },
    {
     "name": "stdout",
     "output_type": "stream",
     "text": [
      "5\n",
      "7\n",
      "11\n",
      "13\n",
      "17\n",
      "19\n",
      "23\n",
      "29\n",
      "31\n",
      "37\n",
      "41\n",
      "43\n",
      "47\n",
      "53\n",
      "59\n",
      "61\n",
      "67\n",
      "71\n",
      "73\n",
      "79\n",
      "83\n"
     ]
    }
   ],
   "source": [
    "# 输出指定范围内的素数\n",
    " \n",
    "# 用户输入数据\n",
    "lower = int(input(\"输入区间最小值: \"))\n",
    "upper = int(input(\"输入区间最大值: \"))\n",
    " \n",
    "for num in range(lower,upper + 1):\n",
    "    # 素数大于 1\n",
    "    if num > 1:\n",
    "        for i in range(2,num):\n",
    "            if (num % i) == 0:\n",
    "                break\n",
    "        else:\n",
    "            print(num)"
   ]
  },
  {
   "cell_type": "code",
   "execution_count": 69,
   "metadata": {},
   "outputs": [
    {
     "name": "stdout",
     "output_type": "stream",
     "text": [
      "请输入10个数字:\n",
      "\n"
     ]
    },
    {
     "name": "stdin",
     "output_type": "stream",
     "text": [
      "输入一个数字:\n",
      " 8\n",
      "输入一个数字:\n",
      " 7\n",
      "输入一个数字:\n",
      " 6\n",
      "输入一个数字:\n",
      " 7\n",
      "输入一个数字:\n",
      " 12\n",
      "输入一个数字:\n",
      " 53\n",
      "输入一个数字:\n",
      " 45\n",
      "输入一个数字:\n",
      " 13\n",
      "输入一个数字:\n",
      " 26\n",
      "输入一个数字:\n",
      " 24\n"
     ]
    },
    {
     "name": "stdout",
     "output_type": "stream",
     "text": [
      "8\n",
      "7\n",
      "6\n",
      "7\n",
      "12\n",
      "53\n",
      "45\n",
      "13\n",
      "26\n",
      "24\n",
      "排列之后：\n",
      "6\n",
      "7\n",
      "7\n",
      "8\n",
      "12\n",
      "13\n",
      "24\n",
      "26\n",
      "45\n",
      "53\n"
     ]
    }
   ],
   "source": [
    "if __name__ == \"__main__\":\n",
    "    N = 10\n",
    "    # input data\n",
    "    print ('请输入10个数字:\\n')\n",
    "    l = []\n",
    "    for i in range(N):\n",
    "        l.append(int(input('输入一个数字:\\n')))\n",
    "    print\n",
    "    for i in range(N):\n",
    "        print (l[i])\n",
    "    print\n",
    " \n",
    "    # 排列10个数字\n",
    "    for i in range(N - 1):\n",
    "        min = i\n",
    "        for j in range(i + 1,N):\n",
    "            if l[min] > l[j]:min = j\n",
    "        l[i],l[min] = l[min],l[i]\n",
    "    print ('排列之后：')\n",
    "    for i in range(N):\n",
    "        print (l[i])"
   ]
  },
  {
   "cell_type": "code",
   "execution_count": 70,
   "metadata": {},
   "outputs": [
    {
     "name": "stdin",
     "output_type": "stream",
     "text": [
      "input num:\n",
      " 5\n",
      "input num:\n",
      " 9\n",
      "input num:\n",
      " 4\n",
      "input num:\n",
      " 5\n",
      "input num:\n",
      " 78\n",
      "input num:\n",
      " 565\n",
      "input num:\n",
      " 566\n",
      "input num:\n",
      " 85\n",
      "input num:\n",
      " 552\n"
     ]
    },
    {
     "name": "stdout",
     "output_type": "stream",
     "text": [
      "635.0\n"
     ]
    }
   ],
   "source": [
    "if __name__ == '__main__':\n",
    "    a = []\n",
    "    sum = 0.0\n",
    "    for i in range(3):\n",
    "        a.append([])\n",
    "        for j in range(3):\n",
    "            a[i].append(float(input(\"input num:\\n\")))\n",
    "    for i in range(3):\n",
    "        sum += a[i][i]\n",
    "    print (sum)"
   ]
  },
  {
   "cell_type": "code",
   "execution_count": 71,
   "metadata": {},
   "outputs": [
    {
     "name": "stdout",
     "output_type": "stream",
     "text": [
      "原始列表:\n",
      "1\n",
      "4\n",
      "6\n",
      "9\n",
      "13\n",
      "16\n",
      "19\n",
      "28\n",
      "40\n",
      "100\n",
      "0\n"
     ]
    },
    {
     "name": "stdin",
     "output_type": "stream",
     "text": [
      "\n",
      "插入一个数字:\n",
      " 45\n"
     ]
    },
    {
     "name": "stdout",
     "output_type": "stream",
     "text": [
      "排序后列表:\n",
      "1\n",
      "4\n",
      "6\n",
      "9\n",
      "13\n",
      "16\n",
      "19\n",
      "28\n",
      "40\n",
      "45\n",
      "100\n"
     ]
    }
   ],
   "source": [
    "if __name__ == '__main__':\n",
    "    # 方法一 ： 0 作为加入数字的占位符\n",
    "    a = [1,4,6,9,13,16,19,28,40,100,0]\n",
    "    print ('原始列表:')\n",
    "    for i in range(len(a)):\n",
    "        print (a[i])\n",
    "    number = int(input(\"\\n插入一个数字:\\n\"))\n",
    "    end = a[9]\n",
    "    if number > end:\n",
    "        a[10] = number\n",
    "    else:\n",
    "        for i in range(10):\n",
    "            if a[i] > number:\n",
    "                temp1 = a[i]\n",
    "                a[i] = number\n",
    "                for j in range(i + 1,11):\n",
    "                    temp2 = a[j]\n",
    "                    a[j] = temp1\n",
    "                    temp1 = temp2\n",
    "                break\n",
    "    print ('排序后列表:')\n",
    "    for i in range(11):\n",
    "        print (a[i])"
   ]
  },
  {
   "cell_type": "code",
   "execution_count": 72,
   "metadata": {},
   "outputs": [
    {
     "name": "stdout",
     "output_type": "stream",
     "text": [
      "[9, 6, 5, 4, 1]\n",
      "[1, 4, 5, 6, 9]\n"
     ]
    }
   ],
   "source": [
    "if __name__ == '__main__':\n",
    "    a = [9,6,5,4,1]\n",
    "    N = len(a) \n",
    "    print (a) \n",
    "    for i in range(len(a) // 2):\n",
    "        a[i],a[N - i - 1] = a[N - i - 1],a[i]\n",
    "    print (a)"
   ]
  },
  {
   "cell_type": "code",
   "execution_count": 73,
   "metadata": {},
   "outputs": [
    {
     "name": "stdout",
     "output_type": "stream",
     "text": [
      "var = 0\n",
      "var = 0\n",
      "var = 0\n",
      "5\n",
      "6\n",
      "7\n",
      "8\n"
     ]
    }
   ],
   "source": [
    "def varfunc():\n",
    "    var = 0\n",
    "    print ('var = %d' % var)\n",
    "    var += 1\n",
    "if __name__ == '__main__':\n",
    "    for i in range(3):\n",
    "        varfunc()\n",
    "\n",
    "# 类的属性\n",
    "# 作为类的一个属性吧\n",
    "class Static:\n",
    "    StaticVar = 5\n",
    "    def varfunc(self):\n",
    "        self.StaticVar += 1\n",
    "        print (self.StaticVar)\n",
    "\n",
    "print (Static.StaticVar)\n",
    "a = Static()\n",
    "for i in range(3):\n",
    "    a.varfunc()"
   ]
  },
  {
   "cell_type": "code",
   "execution_count": 74,
   "metadata": {},
   "outputs": [
    {
     "name": "stdout",
     "output_type": "stream",
     "text": [
      "The num = 2\n",
      "internal block num = 1\n",
      "The num = 3\n",
      "internal block num = 1\n",
      "The num = 4\n",
      "internal block num = 1\n"
     ]
    }
   ],
   "source": [
    "num = 2\n",
    "def autofunc():\n",
    "    num = 1\n",
    "    print ('internal block num = %d' % num)\n",
    "    num += 1\n",
    "for i in range(3):\n",
    "    print ('The num = %d' % num)\n",
    "    num += 1\n",
    "    autofunc()"
   ]
  },
  {
   "cell_type": "code",
   "execution_count": 75,
   "metadata": {},
   "outputs": [
    {
     "name": "stdout",
     "output_type": "stream",
     "text": [
      "The num = 3\n",
      "nNum = 2\n",
      "The num = 4\n",
      "nNum = 3\n",
      "The num = 5\n",
      "nNum = 4\n"
     ]
    }
   ],
   "source": [
    "class Num:\n",
    "    nNum = 1\n",
    "    def inc(self):\n",
    "        self.nNum += 1\n",
    "        print ('nNum = %d' % self.nNum)\n",
    "\n",
    "if __name__ == '__main__':\n",
    "    nNum = 2\n",
    "    inst = Num()\n",
    "    for i in range(3):\n",
    "        nNum += 1\n",
    "        print ('The num = %d' % nNum)\n",
    "        inst.inc()"
   ]
  },
  {
   "cell_type": "code",
   "execution_count": 76,
   "metadata": {},
   "outputs": [
    {
     "name": "stdout",
     "output_type": "stream",
     "text": [
      "[17, 15, 4]\n",
      "[10, 12, 9]\n",
      "[11, 13, 18]\n"
     ]
    }
   ],
   "source": [
    "X = [[12,7,3],\n",
    "    [4 ,5,6],\n",
    "    [7 ,8,9]]\n",
    " \n",
    "Y = [[5,8,1],\n",
    "    [6,7,3],\n",
    "    [4,5,9]]\n",
    " \n",
    "result = [[0,0,0],\n",
    "         [0,0,0],\n",
    "         [0,0,0]]\n",
    " \n",
    "# 迭代输出行\n",
    "for i in range(len(X)):\n",
    "   # 迭代输出列\n",
    "   for j in range(len(X[0])):\n",
    "       result[i][j] = X[i][j] + Y[i][j]\n",
    " \n",
    "for r in result:\n",
    "   print(r)"
   ]
  },
  {
   "cell_type": "code",
   "execution_count": 77,
   "metadata": {},
   "outputs": [
    {
     "name": "stdout",
     "output_type": "stream",
     "text": [
      "The sum is 5050\n"
     ]
    }
   ],
   "source": [
    "tmp = 0\n",
    "for i in range(1,101):\n",
    "    tmp += i\n",
    "print ('The sum is %d' % tmp)"
   ]
  },
  {
   "cell_type": "markdown",
   "metadata": {},
   "source": [
    "## TRUE = 1\n",
    "FALSE = 0\n",
    "def SQ(x):\n",
    "    return x * x\n",
    "print ('如果输入的数字小于 50，程序将停止运行。')\n",
    "again = 1\n",
    "while again:\n",
    "    num = int(input('请输入一个数字：'))\n",
    "    print ('运算结果为: %d' % (SQ(num)))\n",
    "    if SQ(num) >= 50:\n",
    "        again = TRUE\n",
    "    else:\n",
    "        again = FALSE"
   ]
  },
  {
   "cell_type": "code",
   "execution_count": 79,
   "metadata": {},
   "outputs": [
    {
     "name": "stdout",
     "output_type": "stream",
     "text": [
      "x = 10,y = 20\n",
      "x = 20,y = 10\n"
     ]
    }
   ],
   "source": [
    "def exchange(a,b):\n",
    "    a,b = b,a\n",
    "    return (a,b)\n",
    " \n",
    "if __name__ == '__main__':\n",
    "    x = 10\n",
    "    y = 20\n",
    "    print ('x = %d,y = %d' % (x,y))\n",
    "    x,y = exchange(x,y)\n",
    "    print ('x = %d,y = %d' % (x,y))"
   ]
  },
  {
   "cell_type": "code",
   "execution_count": 80,
   "metadata": {},
   "outputs": [
    {
     "name": "stdout",
     "output_type": "stream",
     "text": [
      "10 小于 20\n"
     ]
    }
   ],
   "source": [
    "if __name__ == '__main__':\n",
    "    i = 10\n",
    "    j = 20\n",
    "    if i > j:\n",
    "        print ('%d 大于 %d' % (i,j))\n",
    "    elif i == j:\n",
    "        print ('%d 等于 %d' % (i,j))\n",
    "    elif i < j:\n",
    "        print ('%d 小于 %d' % (i,j))\n",
    "    else:\n",
    "        print ('未知')"
   ]
  },
  {
   "cell_type": "code",
   "execution_count": 81,
   "metadata": {},
   "outputs": [
    {
     "name": "stdout",
     "output_type": "stream",
     "text": [
      "The largar one is 20\n",
      "The lower one is 10\n"
     ]
    }
   ],
   "source": [
    "MAXIMUM = lambda x,y :  (x > y) * x + (x < y) * y\n",
    "MINIMUM = lambda x,y :  (x > y) * y + (x < y) * x\n",
    " \n",
    "if __name__ == '__main__':\n",
    "    a = 10\n",
    "    b = 20\n",
    "    print ('The largar one is %d' % MAXIMUM(a,b))\n",
    "    print ('The lower one is %d' % MINIMUM(a,b))"
   ]
  },
  {
   "cell_type": "code",
   "execution_count": 82,
   "metadata": {},
   "outputs": [
    {
     "name": "stdout",
     "output_type": "stream",
     "text": [
      "14.268642635762323\n"
     ]
    }
   ],
   "source": [
    "import random\n",
    " \n",
    "#生成 10 到 20 之间的随机数\n",
    "print (random.uniform(10, 20))"
   ]
  },
  {
   "cell_type": "code",
   "execution_count": 83,
   "metadata": {},
   "outputs": [
    {
     "name": "stdout",
     "output_type": "stream",
     "text": [
      "a & b = 3\n",
      "a & b = 3\n"
     ]
    }
   ],
   "source": [
    "if __name__ == '__main__':\n",
    "    a = 0x77\n",
    "    b = a & 3\n",
    "    print ('a & b = %d' % b)\n",
    "    b &= 7\n",
    "    print ('a & b = %d' % b)"
   ]
  },
  {
   "cell_type": "code",
   "execution_count": 84,
   "metadata": {},
   "outputs": [
    {
     "name": "stdout",
     "output_type": "stream",
     "text": [
      "a | b is 63\n",
      "a | b is 63\n"
     ]
    }
   ],
   "source": [
    "if __name__ == '__main__':\n",
    "    a = 0o77\n",
    "    b = a | 3\n",
    "    print ('a | b is %d' % b)\n",
    "    b |= 7\n",
    "    print ('a | b is %d' % b)"
   ]
  },
  {
   "cell_type": "code",
   "execution_count": 85,
   "metadata": {},
   "outputs": [
    {
     "name": "stdout",
     "output_type": "stream",
     "text": [
      "The a ^ 3 = 60\n",
      "The a ^ b = 59\n"
     ]
    }
   ],
   "source": [
    "if __name__ == '__main__':\n",
    "    a = 0o77\n",
    "    b = a ^ 3\n",
    "    print ('The a ^ 3 = %d' % b)\n",
    "    b ^= 7\n",
    "    print ('The a ^ b = %d' % b)"
   ]
  },
  {
   "cell_type": "code",
   "execution_count": 86,
   "metadata": {},
   "outputs": [
    {
     "name": "stdin",
     "output_type": "stream",
     "text": [
      "input a number:\n",
      " 6\n"
     ]
    },
    {
     "name": "stdout",
     "output_type": "stream",
     "text": [
      "6\t0\n"
     ]
    }
   ],
   "source": [
    "if __name__ == '__main__':\n",
    "    a = int(input('input a number:\\n'))\n",
    "    b = a >> 4\n",
    "    c = ~(~0 << 4)\n",
    "    d = b & c\n",
    "    print ('%o\\t%o' %(a,d))"
   ]
  },
  {
   "cell_type": "code",
   "execution_count": 87,
   "metadata": {},
   "outputs": [
    {
     "name": "stdout",
     "output_type": "stream",
     "text": [
      "变量 a 取反结果为： -8\n",
      "变量 c 取反结果为： 6\n"
     ]
    }
   ],
   "source": [
    "a = 7\n",
    "b = ~a\n",
    "\n",
    "c = -7\n",
    "d = ~c\n",
    "\n",
    "print ('变量 a 取反结果为： %d' % b)\n",
    "print ('变量 c 取反结果为： %d' % d)"
   ]
  },
  {
   "cell_type": "code",
   "execution_count": 94,
   "metadata": {},
   "outputs": [
    {
     "name": "stdout",
     "output_type": "stream",
     "text": [
      "5\n"
     ]
    }
   ],
   "source": [
    "sString = 'abcde'\n",
    "length = sString.__len__()\n",
    "print(length)"
   ]
  },
  {
   "cell_type": "code",
   "execution_count": 95,
   "metadata": {},
   "outputs": [
    {
     "name": "stdout",
     "output_type": "stream",
     "text": [
      "1 1 1 1 2 1 1 3 3 1 1 4 6 4 1 1 5 10 10 5 1 1 6 15 20 15 6 1 1 7 21 35 35 21 7 1 1 8 28 56 70 56 28 8 1 1 9 36 84 126 126 84 36 9 1 "
     ]
    }
   ],
   "source": [
    "if __name__ == '__main__':\n",
    "    a = []\n",
    "    for i in range(10):\n",
    "        a.append([])\n",
    "        for j in range(10):\n",
    "            a[i].append(0)\n",
    "    for i in range(10):\n",
    "        a[i][0] = 1\n",
    "        a[i][i] = 1\n",
    "    for i in range(2,10):\n",
    "        for j in range(1,i):\n",
    "            a[i][j] = a[i - 1][j-1] + a[i - 1][j]\n",
    "    from sys import stdout\n",
    "    for i in range(10):\n",
    "        for j in range(i + 1):\n",
    "            stdout.write(str(a[i][j]))\n",
    "            stdout.write(' ')\n",
    "        print"
   ]
  },
  {
   "cell_type": "code",
   "execution_count": 126,
   "metadata": {},
   "outputs": [
    {
     "name": "stdin",
     "output_type": "stream",
     "text": [
      "n1 = :\n",
      " 1\n",
      "n2 = :\n",
      " 5\n",
      "n3 = :\n",
      " 6\n"
     ]
    },
    {
     "name": "stdout",
     "output_type": "stream",
     "text": [
      "1 5 6\n"
     ]
    }
   ],
   "source": [
    "if __name__ == '__main__':\n",
    "    n1 = int(input('n1 = :\\n'))\n",
    "    n2 = int(input('n2 = :\\n'))\n",
    "    n3 = int(input('n3 = :\\n'))\n",
    " \n",
    "    def swap(p1,p2):\n",
    "        return p2,p1\n",
    " \n",
    "    if n1 > n2 : n1,n2 = swap(n1,n2)\n",
    "    if n1 > n3 : n1,n3 = swap(n1,n3)\n",
    "    if n2 > n3 : n2,n3 = swap(n2,n3)\n",
    " \n",
    "    print( n1,n2,n3)"
   ]
  },
  {
   "cell_type": "code",
   "execution_count": 123,
   "metadata": {},
   "outputs": [
    {
     "name": "stdin",
     "output_type": "stream",
     "text": [
      "输入一个数字:\n",
      " 1\n",
      "输入一个数字:\n",
      " 2\n",
      "输入一个数字:\n",
      " 5\n",
      "输入一个数字:\n",
      " 6\n",
      "输入一个数字:\n",
      " 8\n",
      "输入一个数字:\n",
      " 6\n"
     ]
    },
    {
     "name": "stdout",
     "output_type": "stream",
     "text": [
      "计算结果：\n",
      "8\n",
      "2\n",
      "5\n",
      "6\n",
      "6\n",
      "1\n"
     ]
    }
   ],
   "source": [
    "def inp(numbers):\n",
    "    for i in range(6):\n",
    "        numbers.append(int(input('输入一个数字:\\n')))\n",
    "p = 0\n",
    " \n",
    "def arr_max(array):\n",
    "    max = 0\n",
    "    for i in range(1,len(array) - 1):\n",
    "        p = i\n",
    "        if array[p] > array[max] : max = p\n",
    "    k = max\n",
    "    array[0],array[k] = array[k],array[0]\n",
    "def arr_min(array):\n",
    "    min = 0\n",
    "    for i in range(1,len(array) - 1):\n",
    "        p = i\n",
    "        if array[p] < array[min] : min = p\n",
    "    l = min\n",
    "    array[5],array[l] = array[l],array[5]\n",
    " \n",
    "def outp(numbers):\n",
    "    for i  in range(len(numbers)):\n",
    "        print (numbers[i])\n",
    " \n",
    "if __name__ == '__main__':\n",
    "    array=[]\n",
    "    inp(array)        # 输入 6 个数字并放入数组\n",
    "    arr_max(array)    # 获取最大元素并与第一个元素交换\n",
    "    arr_min(array)    # 获取最小元素并与最后一个元素交换\n",
    "    print ('计算结果：')\n",
    "    outp(array)"
   ]
  },
  {
   "cell_type": "markdown",
   "metadata": {},
   "source": [
    " if __name__ == '__main__':\n",
    "    n = int(input('整数 n 为:\\n'))\n",
    "    m = int(input('向后移 m 个位置为:\\n'))\n",
    " \n",
    "    def move(array,n,m):\n",
    "        array_end = array[n - 1]\n",
    "        for i in range(n - 1,-1,- 1):\n",
    "            array[i] = array[i - 1]\n",
    "        array[0] = array_end\n",
    "        m -= 1\n",
    "        if m > 0:move(array,n,m)\n",
    "        \n",
    "    number = []\n",
    "    for i in range(n):\n",
    "        number.append(int(input('输入一个数字:\\n')))\n",
    "    print (\"原始列表:\",number)\n",
    " \n",
    "    move(number,n,m)\n",
    " \n",
    "    print (\"移动之后:\",number)"
   ]
  },
  {
   "cell_type": "code",
   "execution_count": 120,
   "metadata": {},
   "outputs": [
    {
     "name": "stdin",
     "output_type": "stream",
     "text": [
      "整数 n 为:\n",
      " 8\n",
      "向后移 m 个位置为:\n",
      " 6\n",
      "输入一个数字:\n",
      " 5\n",
      "输入一个数字:\n",
      " 4\n",
      "输入一个数字:\n",
      " 2\n",
      "输入一个数字:\n",
      " 3\n",
      "输入一个数字:\n",
      " 4\n",
      "输入一个数字:\n",
      " 5\n",
      "输入一个数字:\n",
      " 6\n",
      "输入一个数字:\n",
      " 1\n"
     ]
    },
    {
     "name": "stdout",
     "output_type": "stream",
     "text": [
      "原始列表: [5, 4, 2, 3, 4, 5, 6, 1]\n",
      "移动之后: [2, 3, 4, 5, 6, 1, 5, 4]\n"
     ]
    }
   ],
   "source": [
    "if __name__ == '__main__':\n",
    "    n = int(input('整数 n 为:\\n'))\n",
    "    m = int(input('向后移 m 个位置为:\\n'))\n",
    " \n",
    "    def move(array,n,m):\n",
    "        array_end = array[n - 1]\n",
    "        for i in range(n - 1,-1,- 1):\n",
    "            array[i] = array[i - 1]\n",
    "        array[0] = array_end\n",
    "        m -= 1\n",
    "        if m > 0:move(array,n,m)\n",
    "        \n",
    "    number = []\n",
    "    for i in range(n):\n",
    "        number.append(int(input('输入一个数字:\\n')))\n",
    "    print (\"原始列表:\",number)\n",
    " \n",
    "    move(number,n,m)\n",
    " \n",
    "    print (\"移动之后:\",number)"
   ]
  },
  {
   "cell_type": "code",
   "execution_count": 122,
   "metadata": {},
   "outputs": [
    {
     "name": "stdin",
     "output_type": "stream",
     "text": [
      "please input a string:\n",
      " dgv\n"
     ]
    },
    {
     "name": "stdout",
     "output_type": "stream",
     "text": [
      "the string has 3 characters.\n"
     ]
    }
   ],
   "source": [
    "if __name__ == '__main__':\n",
    "    s = input('please input a string:\\n')\n",
    "    print ('the string has %d characters.' % len(s))"
   ]
  },
  {
   "cell_type": "code",
   "execution_count": 129,
   "metadata": {},
   "outputs": [
    {
     "name": "stdin",
     "output_type": "stream",
     "text": [
      "input student num:\n",
      " 4\n",
      "input student name:\n",
      " 8\n",
      "score:\n",
      " 60\n",
      "score:\n",
      " 80\n",
      "score:\n",
      " 42\n",
      "input student num:\n",
      " 3\n",
      "input student name:\n",
      " aa\n",
      "score:\n",
      " 80\n",
      "score:\n",
      " 70\n",
      "score:\n",
      " 60\n",
      "input student num:\n",
      " 5\n",
      "input student name:\n",
      " ss\n",
      "score:\n",
      " 40\n",
      "score:\n",
      " 50\n",
      "score:\n",
      " 60\n"
     ]
    },
    {
     "name": "stdout",
     "output_type": "stream",
     "text": [
      "[['4', '8', [60, 80, 42]], ['3', 'aa', [80, 70, 60]], ['5', 'ss', [40, 50, 60]], ['', '', []], ['', '', []]]\n",
      "4     8         \n",
      "60      \n",
      "80      \n",
      "42      \n",
      "3     aa        \n",
      "80      \n",
      "70      \n",
      "60      \n",
      "5     ss        \n",
      "40      \n",
      "50      \n",
      "60      \n"
     ]
    }
   ],
   "source": [
    "N = 3\n",
    "#stu\n",
    "# num : string\n",
    "# name : string\n",
    "# score[4]: list\n",
    "student = []\n",
    "for i in range(5):\n",
    "    student.append(['','',[]])\n",
    " \n",
    "def input_stu(stu):\n",
    "    for i in range(N):\n",
    "        stu[i][0] = input('input student num:\\n')\n",
    "        stu[i][1] = input('input student name:\\n')\n",
    "        for j in range(3):\n",
    "            stu[i][2].append(int(input('score:\\n')))\n",
    " \n",
    "def output_stu(stu):\n",
    "    for i in range(N):\n",
    "        print( '%-6s%-10s' % ( stu[i][0],stu[i][1] ))\n",
    "        for j in range(3):\n",
    "            print('%-8d' % stu[i][2][j]) \n",
    " \n",
    "if __name__ == '__main__':\n",
    "    input_stu(student)\n",
    "    print (student)\n",
    "    output_stu(student)"
   ]
  },
  {
   "cell_type": "code",
   "execution_count": 130,
   "metadata": {},
   "outputs": [
    {
     "name": "stdin",
     "output_type": "stream",
     "text": [
      "please input a number:\n",
      " 52\n",
      "please input a number:\n",
      " 12\n",
      "please input a number:\n",
      " 63\n",
      "please input a number:\n",
      " 19\n",
      "please input a number:\n",
      " 56\n"
     ]
    },
    {
     "name": "stdout",
     "output_type": "stream",
     "text": [
      "[52, 12, 63, 19, 56]\n"
     ]
    }
   ],
   "source": [
    "if __name__ == '__main__':\n",
    "    ptr = []\n",
    "    for i in range(5):\n",
    "        num = int(input('please input a number:\\n'))\n",
    "        ptr.append(num)\n",
    "    print (ptr)"
   ]
  },
  {
   "cell_type": "code",
   "execution_count": 131,
   "metadata": {},
   "outputs": [
    {
     "name": "stdout",
     "output_type": "stream",
     "text": [
      "[1, 2, 3]\n",
      "[1, 2, 3, 3, 4, 5]\n",
      "[1, 2, 3, 3, 4, 5]\n"
     ]
    }
   ],
   "source": [
    "if __name__ == '__main__':\n",
    "    a = [1,3,2]\n",
    "    b = [3,4,5]\n",
    "    a.sort()     # 对列表 a 进行排序\n",
    "    print (a)\n",
    " \n",
    "    # 连接列表 a 与 b\n",
    "    print (a+b)\n",
    "    \n",
    "    # 连接列表 a 与 b\n",
    "    a.extend(b)\n",
    "    print (a)"
   ]
  },
  {
   "cell_type": "code",
   "execution_count": 132,
   "metadata": {},
   "outputs": [
    {
     "name": "stdout",
     "output_type": "stream",
     "text": [
      "67\n"
     ]
    }
   ],
   "source": [
    "if __name__ == '__main__':\n",
    "    for i in range(5):\n",
    "        n = 0\n",
    "        if i != 1: n += 1\n",
    "        if i == 3: n += 1\n",
    "        if i == 4: n += 1\n",
    "        if i != 4: n += 1\n",
    "        if n == 3: print (64 + i)"
   ]
  },
  {
   "cell_type": "code",
   "execution_count": 133,
   "metadata": {},
   "outputs": [
    {
     "name": "stdin",
     "output_type": "stream",
     "text": [
      "input a number:\n",
      " 52\n"
     ]
    },
    {
     "name": "stdout",
     "output_type": "stream",
     "text": [
      "1.9272098581075225\n"
     ]
    }
   ],
   "source": [
    "def peven(n):\n",
    "    i = 0\n",
    "    s = 0.0\n",
    "    for i in range(2,n + 1,2):\n",
    "        s += 1.0 / i   # Python里，整数除整数，只能得出整数，所以需要使用 浮点数 1.0\n",
    "    return s\n",
    " \n",
    "def podd(n):\n",
    "    s = 0.0\n",
    "    for i in range(1, n + 1,2):\n",
    "        s += 1.0 / i    # Python里，整数除整数，只能得出整数，所以需要使用 浮点数 1.0\n",
    "    return s\n",
    " \n",
    "def dcall(fp,n):\n",
    "    s = fp(n)\n",
    "    return s\n",
    " \n",
    "if __name__ == '__main__':\n",
    "    n = int(input('input a number:\\n'))\n",
    "    if n % 2 == 0:\n",
    "        sum = dcall(peven,n)\n",
    "    else:\n",
    "        sum = dcall(podd,n)\n",
    "    print (sum)"
   ]
  },
  {
   "cell_type": "code",
   "execution_count": 135,
   "metadata": {},
   "outputs": [
    {
     "name": "stdout",
     "output_type": "stream",
     "text": [
      "man\n",
      "woman\n",
      "girl\n",
      "boy\n",
      "sister\n"
     ]
    }
   ],
   "source": [
    "if __name__ == '__main__':\n",
    "    s = [\"man\",\"woman\",\"girl\",\"boy\",\"sister\"]\n",
    "    for i in range(len(s)):\n",
    "        print (s[i])"
   ]
  },
  {
   "cell_type": "code",
   "execution_count": 136,
   "metadata": {},
   "outputs": [
    {
     "name": "stdout",
     "output_type": "stream",
     "text": [
      "wang,50\n"
     ]
    }
   ],
   "source": [
    "if __name__ == '__main__':\n",
    "    person = {\"li\":18,\"wang\":50,\"zhang\":20,\"sun\":22}\n",
    "    m = 'li'\n",
    "    for key in person.keys():\n",
    "        if person[m] < person[key]:\n",
    "            m = key\n",
    " \n",
    "    print ('%s,%d' % (m,person[m]))"
   ]
  },
  {
   "cell_type": "code",
   "execution_count": 137,
   "metadata": {},
   "outputs": [
    {
     "name": "stdin",
     "output_type": "stream",
     "text": [
      "input string:\n",
      " dfbwgg\n",
      "input string:\n",
      " sdcgvfr\n",
      "input string:\n",
      " wdwqsxe\n"
     ]
    },
    {
     "name": "stdout",
     "output_type": "stream",
     "text": [
      "dfbwgg sdcgvfr wdwqsxe\n",
      "after being sorted.\n",
      "dfbwgg sdcgvfr wdwqsxe\n"
     ]
    }
   ],
   "source": [
    "if __name__ == '__main__':\n",
    "    str1 = input('input string:\\n')\n",
    "    str2 = input('input string:\\n')\n",
    "    str3 = input('input string:\\n')\n",
    "    print (str1,str2,str3)\n",
    "    \n",
    "    if str1 > str2 : str1,str2 = str2,str1\n",
    "    if str1 > str3 : str1,str3 = str3,str1\n",
    "    if str2 > str3 : str2,str3 = str3,str2\n",
    " \n",
    "    print ('after being sorted.')\n",
    "    print (str1,str2,str3)"
   ]
  },
  {
   "cell_type": "code",
   "execution_count": 138,
   "metadata": {},
   "outputs": [
    {
     "name": "stdout",
     "output_type": "stream",
     "text": [
      "3121.0\n"
     ]
    }
   ],
   "source": [
    "if __name__ == '__main__':\n",
    "    i = 0\n",
    "    j = 1\n",
    "    x = 0\n",
    "    while (i < 5) :\n",
    "        x = 4 * j\n",
    "        for i in range(0,5) :\n",
    "            if(x%4 != 0) :\n",
    "                break\n",
    "            else :\n",
    "                i += 1\n",
    "            x = (x/4) * 5 +1\n",
    "        j += 1\n",
    "    print (x)\n"
   ]
  },
  {
   "cell_type": "code",
   "execution_count": 139,
   "metadata": {},
   "outputs": [
    {
     "name": "stdout",
     "output_type": "stream",
     "text": [
      "9708  = 800 *  12  + 9 *  12\n"
     ]
    }
   ],
   "source": [
    "a = 809\n",
    "for i in range(10,100):\n",
    "    b = i * a\n",
    "    if b >= 1000 and b <= 10000 and 8 * i < 100 and 9 * i >= 100:\n",
    "        print (b,' = 800 * ', i, ' + 9 * ', i)"
   ]
  },
  {
   "cell_type": "code",
   "execution_count": 140,
   "metadata": {},
   "outputs": [
    {
     "name": "stdin",
     "output_type": "stream",
     "text": [
      "input a octal number:\n",
      " 4256\n"
     ]
    },
    {
     "name": "stdout",
     "output_type": "stream",
     "text": [
      "2222\n"
     ]
    }
   ],
   "source": [
    "if __name__ == '__main__':\n",
    "    n = 0\n",
    "    p = input('input a octal number:\\n')\n",
    "    for i in range(len(p)):\n",
    "        n = n * 8 + ord(p[i]) - ord('0')\n",
    "    print (n)"
   ]
  },
  {
   "cell_type": "code",
   "execution_count": 141,
   "metadata": {},
   "outputs": [
    {
     "name": "stdout",
     "output_type": "stream",
     "text": [
      "4\n",
      "32\n",
      "256\n",
      "2048\n",
      "16384\n",
      "131072\n",
      "1048576\n",
      "sum = 8388608\n"
     ]
    }
   ],
   "source": [
    "if __name__ == '__main__':\n",
    "    sum = 4\n",
    "    s = 4\n",
    "    for j in range(2,9):\n",
    "        print (sum)\n",
    "        if j <= 2:\n",
    "            s *= 7\n",
    "        else:\n",
    "            s *= 8\n",
    "        sum += s\n",
    "    print ('sum = %d' % sum)"
   ]
  },
  {
   "cell_type": "code",
   "execution_count": 1,
   "metadata": {},
   "outputs": [
    {
     "name": "stdout",
     "output_type": "stream",
     "text": [
      "Brazil,Russia,India,China\n"
     ]
    }
   ],
   "source": [
    "delimiter = ','\n",
    "mylist = ['Brazil', 'Russia', 'India', 'China']\n",
    "print (delimiter.join(mylist))"
   ]
  },
  {
   "cell_type": "code",
   "execution_count": 3,
   "metadata": {},
   "outputs": [
    {
     "name": "stdout",
     "output_type": "stream",
     "text": [
      "acegikmbdfhjlnpq\n"
     ]
    }
   ],
   "source": [
    "if __name__ == '__main__':\n",
    "    a = \"acegikm\"\n",
    "    b = \"bdfhjlnpq\"\n",
    " \n",
    "    # 连接字符串\n",
    "    c = a + b\n",
    "    print (c)"
   ]
  },
  {
   "cell_type": "code",
   "execution_count": 4,
   "metadata": {},
   "outputs": [
    {
     "name": "stdin",
     "output_type": "stream",
     "text": [
      "输入一个数字:\n",
      " 13\n"
     ]
    },
    {
     "name": "stdout",
     "output_type": "stream",
     "text": [
      "6 个 9 可以被 13 整除 : 999999\n",
      "999999 / 13 = 76923\n"
     ]
    }
   ],
   "source": [
    "if __name__ == '__main__':\n",
    "    zi = int(input('输入一个数字:\\n'))\n",
    "    n1 = 1\n",
    "    c9 = 1\n",
    "    m9 = 9\n",
    "    sum = 9\n",
    "    while n1 != 0:\n",
    "        if sum % zi == 0:\n",
    "            n1 = 0\n",
    "        else:\n",
    "            m9 *= 10\n",
    "            sum += m9\n",
    "            c9 += 1\n",
    "    print ('%d 个 9 可以被 %d 整除 : %d' % (c9,zi,sum))\n",
    "    r = sum / zi\n",
    "    print ('%d / %d = %d' % (sum,zi,r))"
   ]
  },
  {
   "cell_type": "code",
   "execution_count": 5,
   "metadata": {},
   "outputs": [
    {
     "name": "stdout",
     "output_type": "stream",
     "text": [
      "20 c\n"
     ]
    }
   ],
   "source": [
    "if __name__ == '__main__':\n",
    "    class student:\n",
    "        x = 0\n",
    "        c = 0\n",
    "    def f(stu):\n",
    "        stu.x = 20\n",
    "        stu.c = 'c'\n",
    "    a= student()\n",
    "    a.x = 3\n",
    "    a.c = 'a'\n",
    "    f(a)\n",
    "    print (a.x,a.c)"
   ]
  },
  {
   "cell_type": "code",
   "execution_count": 6,
   "metadata": {},
   "outputs": [
    {
     "name": "stdin",
     "output_type": "stream",
     "text": [
      "input a number:\n",
      " 9\n"
     ]
    },
    {
     "name": "stdout",
     "output_type": "stream",
     "text": [
      "*********\n"
     ]
    },
    {
     "name": "stdin",
     "output_type": "stream",
     "text": [
      "input a number:\n",
      " 5\n"
     ]
    },
    {
     "name": "stdout",
     "output_type": "stream",
     "text": [
      "*****\n"
     ]
    },
    {
     "name": "stdin",
     "output_type": "stream",
     "text": [
      "input a number:\n",
      " 6\n"
     ]
    },
    {
     "name": "stdout",
     "output_type": "stream",
     "text": [
      "******\n"
     ]
    },
    {
     "name": "stdin",
     "output_type": "stream",
     "text": [
      "input a number:\n",
      " 4\n"
     ]
    },
    {
     "name": "stdout",
     "output_type": "stream",
     "text": [
      "****\n"
     ]
    },
    {
     "name": "stdin",
     "output_type": "stream",
     "text": [
      "input a number:\n",
      " 25\n"
     ]
    },
    {
     "name": "stdout",
     "output_type": "stream",
     "text": [
      "*************************\n"
     ]
    },
    {
     "name": "stdin",
     "output_type": "stream",
     "text": [
      "input a number:\n",
      " 5\n"
     ]
    },
    {
     "name": "stdout",
     "output_type": "stream",
     "text": [
      "*****\n"
     ]
    },
    {
     "name": "stdin",
     "output_type": "stream",
     "text": [
      "input a number:\n",
      " 4\n"
     ]
    },
    {
     "name": "stdout",
     "output_type": "stream",
     "text": [
      "****\n"
     ]
    }
   ],
   "source": [
    "if __name__ == '__main__':\n",
    "    n = 1\n",
    "    while n <= 7:\n",
    "        a = int(input('input a number:\\n'))\n",
    "        while a < 1 or a > 50:\n",
    "            a = int(input('input a number:\\n'))\n",
    "        print (a * '*')\n",
    "        n += 1"
   ]
  },
  {
   "cell_type": "code",
   "execution_count": 7,
   "metadata": {},
   "outputs": [
    {
     "name": "stdin",
     "output_type": "stream",
     "text": [
      "输入四个数字:\n",
      " 4856\n"
     ]
    },
    {
     "name": "stdout",
     "output_type": "stream",
     "text": [
      "10.59999999999999963.56000000000000059.856"
     ]
    }
   ],
   "source": [
    "from sys import stdout\n",
    "if __name__ == '__main__':\n",
    "    a = int(input('输入四个数字:\\n'))\n",
    "    aa = []\n",
    "    aa.append(a % 10)\n",
    "    aa.append(a % 100 / 10)\n",
    "    aa.append(a % 1000 / 100)\n",
    "    aa.append(a / 1000)\n",
    " \n",
    "    for i in range(4):\n",
    "        aa[i] += 5\n",
    "        aa[i] %= 10\n",
    "    for i in range(2):\n",
    "        aa[i],aa[3 - i] = aa[3 - i],aa[i]\n",
    "    for i in range(3,-1,-1):\n",
    "        stdout.write(str(aa[i]))"
   ]
  },
  {
   "cell_type": "code",
   "execution_count": 8,
   "metadata": {},
   "outputs": [
    {
     "name": "stdout",
     "output_type": "stream",
     "text": [
      "3\n",
      "['中国移动', [1, 2, 4, 5]]\n",
      "4\n",
      "i'm new here!\n",
      "中国移动\n",
      "3\n",
      "[10086, [1, 2, 4, 5], \"i'm new here!\"]\n",
      "[[1, 2, 3], [4, 5, 6], [7, 8, 9]]\n",
      "[4, 5, 6]\n",
      "[2, 5, 8]\n",
      "[2, 8]\n"
     ]
    }
   ],
   "source": [
    "#list  \n",
    "#新建列表  \n",
    "testList=[10086,'中国移动',[1,2,4,5]]  \n",
    "  \n",
    "#访问列表长度  \n",
    "print (len(testList))  \n",
    "#到列表结尾  \n",
    "print (testList[1:])  \n",
    "#向列表添加元素  \n",
    "testList.append('i\\'m new here!')  \n",
    "  \n",
    "print (len(testList))  \n",
    "print (testList[-1])  \n",
    "#弹出列表的最后一个元素  \n",
    "print (testList.pop(1))  \n",
    "print (len(testList))  \n",
    "print (testList)  \n",
    "#list comprehension  \n",
    "#后面有介绍，暂时掠过  \n",
    "matrix = [[1, 2, 3],  \n",
    "[4, 5, 6],  \n",
    "[7, 8, 9]]  \n",
    "print (matrix)  \n",
    "print (matrix[1])  \n",
    "col2 = [row[1] for row in matrix]#get a  column from a matrix  \n",
    "print (col2)  \n",
    "col2even = [row[1] for row in matrix if  row[1] % 2 == 0]#filter odd item  \n",
    "print (col2even)"
   ]
  },
  {
   "cell_type": "code",
   "execution_count": 9,
   "metadata": {},
   "outputs": [
    {
     "name": "stdout",
     "output_type": "stream",
     "text": [
      "Wed Dec 16 19:32:46 2020\n",
      "Wed Dec 16 19:32:46 2020\n",
      "Wed Dec 16 11:32:46 2020\n"
     ]
    }
   ],
   "source": [
    "if __name__ == '__main__':\n",
    "    import time\n",
    "    print (time.ctime(time.time()))\n",
    "    print (time.asctime(time.localtime(time.time())))\n",
    "    print (time.asctime(time.gmtime(time.time())))"
   ]
  },
  {
   "cell_type": "code",
   "execution_count": 11,
   "metadata": {},
   "outputs": [
    {
     "name": "stdout",
     "output_type": "stream",
     "text": [
      "0\n",
      "1\n",
      "2\n",
      "3\n",
      "4\n",
      "5\n",
      "6\n",
      "7\n",
      "8\n",
      "9\n",
      "10\n",
      "11\n",
      "12\n",
      "13\n",
      "14\n",
      "15\n",
      "16\n",
      "17\n",
      "18\n",
      "19\n",
      "20\n",
      "21\n",
      "22\n",
      "23\n",
      "24\n",
      "25\n",
      "26\n",
      "27\n",
      "28\n",
      "29\n",
      "0.0009996891021728516\n"
     ]
    }
   ],
   "source": [
    "if __name__ == '__main__':\n",
    "    import time\n",
    "    start = time.time()\n",
    "    for i in range(30):\n",
    "        print (i)\n",
    "    end = time.time()\n",
    " \n",
    "    print (end - start)"
   ]
  },
  {
   "cell_type": "code",
   "execution_count": 17,
   "metadata": {},
   "outputs": [
    {
     "name": "stdin",
     "output_type": "stream",
     "text": [
      "do you want to play it.('y' or 'n') y\n",
      "input a character:\n",
      " 5\n"
     ]
    },
    {
     "name": "stdout",
     "output_type": "stream",
     "text": [
      "please input number you guess:\n",
      "\n"
     ]
    },
    {
     "name": "stdin",
     "output_type": "stream",
     "text": [
      "input your guess:\n",
      " 60\n"
     ]
    },
    {
     "name": "stdout",
     "output_type": "stream",
     "text": [
      "0.2833871648351635\n",
      "you are very clever!\n",
      "Congradulations\n",
      "The number you guess is 60\n"
     ]
    },
    {
     "name": "stdin",
     "output_type": "stream",
     "text": [
      "do you want to play it. y\n",
      "input a character:\n",
      " 5\n"
     ]
    },
    {
     "name": "stdout",
     "output_type": "stream",
     "text": [
      "please input number you guess:\n",
      "\n"
     ]
    },
    {
     "name": "stdin",
     "output_type": "stream",
     "text": [
      "input your guess:\n",
      " 4\n"
     ]
    },
    {
     "name": "stdout",
     "output_type": "stream",
     "text": [
      "please input a little smaller\n"
     ]
    },
    {
     "name": "stdin",
     "output_type": "stream",
     "text": [
      "input your guess:\n",
      " 5\n"
     ]
    },
    {
     "name": "stdout",
     "output_type": "stream",
     "text": [
      "please input a little smaller\n"
     ]
    },
    {
     "name": "stdin",
     "output_type": "stream",
     "text": [
      "input your guess:\n",
      " 7\n"
     ]
    },
    {
     "name": "stdout",
     "output_type": "stream",
     "text": [
      "please input a little smaller\n"
     ]
    },
    {
     "name": "stdin",
     "output_type": "stream",
     "text": [
      "input your guess:\n",
      " 5\n"
     ]
    },
    {
     "name": "stdout",
     "output_type": "stream",
     "text": [
      "please input a little smaller\n"
     ]
    },
    {
     "name": "stdin",
     "output_type": "stream",
     "text": [
      "input your guess:\n",
      " 6\n"
     ]
    },
    {
     "name": "stdout",
     "output_type": "stream",
     "text": [
      "please input a little smaller\n"
     ]
    },
    {
     "name": "stdin",
     "output_type": "stream",
     "text": [
      "input your guess:\n",
      " 5\n"
     ]
    },
    {
     "name": "stdout",
     "output_type": "stream",
     "text": [
      "please input a little smaller\n"
     ]
    },
    {
     "name": "stdin",
     "output_type": "stream",
     "text": [
      "input your guess:\n",
      " 4\n"
     ]
    },
    {
     "name": "stdout",
     "output_type": "stream",
     "text": [
      "please input a little smaller\n"
     ]
    },
    {
     "name": "stdin",
     "output_type": "stream",
     "text": [
      "input your guess:\n",
      " 1\n"
     ]
    },
    {
     "name": "stdout",
     "output_type": "stream",
     "text": [
      "please input a little bigger\n"
     ]
    },
    {
     "name": "stdin",
     "output_type": "stream",
     "text": [
      "input your guess:\n",
      " 2\n"
     ]
    },
    {
     "name": "stdout",
     "output_type": "stream",
     "text": [
      "1.291792181318682\n",
      "you are very clever!\n",
      "Congradulations\n",
      "The number you guess is 2\n"
     ]
    },
    {
     "name": "stdin",
     "output_type": "stream",
     "text": [
      "do you want to play it. n\n"
     ]
    }
   ],
   "source": [
    "if __name__ == '__main__':\n",
    "    import time\n",
    "    import random\n",
    "    \n",
    "    play_it = input('do you want to play it.(\\'y\\' or \\'n\\')')\n",
    "    while play_it == 'y':\n",
    "        c = input('input a character:\\n')\n",
    "        i = random.randint(0,2**32) % 100\n",
    "        print ('please input number you guess:\\n')\n",
    "        start = time.perf_counter()\n",
    "        a = time.time()\n",
    "        guess = int(input('input your guess:\\n'))\n",
    "        while guess != i:\n",
    "            if guess > i:\n",
    "                print ('please input a little smaller')\n",
    "                guess = int(input('input your guess:\\n'))\n",
    "            else:\n",
    "                print ('please input a little bigger')\n",
    "                guess = int(input('input your guess:\\n'))\n",
    "        end = time.perf_counter()\n",
    "        b = time.time()\n",
    "        var = (end - start) / 18.2\n",
    "        print (var)\n",
    "        # print 'It took you %6.3 seconds' % time.difftime(b,a))\n",
    "        if var < 15:\n",
    "            print ('you are very clever!')\n",
    "        elif var < 25:\n",
    "            print ('you are normal!')\n",
    "        else:\n",
    "            print ('you are stupid!')\n",
    "        print ('Congradulations')\n",
    "        print ('The number you guess is %d' % i)\n",
    "        play_it = input('do you want to play it.')"
   ]
  },
  {
   "cell_type": "code",
   "execution_count": 19,
   "metadata": {},
   "outputs": [
    {
     "name": "stdout",
     "output_type": "stream",
     "text": [
      "0\n",
      "1\n",
      "2\n",
      "3\n",
      "4\n",
      "5\n",
      "6\n",
      "7\n",
      "8\n",
      "9\n",
      "10\n",
      "11\n",
      "12\n",
      "13\n",
      "14\n",
      "15\n",
      "16\n",
      "17\n",
      "18\n",
      "19\n",
      "20\n",
      "21\n",
      "22\n",
      "23\n",
      "24\n",
      "25\n",
      "26\n",
      "27\n",
      "28\n",
      "29\n",
      "30\n",
      "31\n",
      "32\n",
      "33\n",
      "34\n",
      "35\n",
      "36\n",
      "37\n",
      "38\n",
      "39\n",
      "40\n",
      "41\n",
      "42\n",
      "43\n",
      "44\n",
      "45\n",
      "46\n",
      "47\n",
      "48\n",
      "49\n",
      "50\n",
      "51\n",
      "52\n",
      "53\n",
      "54\n",
      "55\n",
      "56\n",
      "57\n",
      "58\n",
      "59\n",
      "60\n",
      "61\n",
      "62\n",
      "63\n",
      "64\n",
      "65\n",
      "66\n",
      "67\n",
      "68\n",
      "69\n",
      "70\n",
      "71\n",
      "72\n",
      "73\n",
      "74\n",
      "75\n",
      "76\n",
      "77\n",
      "78\n",
      "79\n",
      "80\n",
      "81\n",
      "82\n",
      "83\n",
      "84\n",
      "85\n",
      "86\n",
      "87\n",
      "88\n",
      "89\n",
      "90\n",
      "91\n",
      "92\n",
      "93\n",
      "94\n",
      "95\n",
      "96\n",
      "97\n",
      "98\n",
      "99\n",
      "different is  0.001\n"
     ]
    }
   ],
   "source": [
    "if __name__ == '__main__':\n",
    "    import time\n",
    "    start = time.perf_counter()\n",
    "    for i in range(100):\n",
    "        print (i)\n",
    "    end = time.perf_counter()\n",
    "    print ('different is %6.3f' % (end - start))"
   ]
  },
  {
   "cell_type": "code",
   "execution_count": 20,
   "metadata": {},
   "outputs": [
    {
     "name": "stdout",
     "output_type": "stream",
     "text": [
      "2015-08-28 00:00:00\n"
     ]
    }
   ],
   "source": [
    "from dateutil import parser\n",
    "dt = parser.parse(\"Aug 28 2015 12:00AM\")\n",
    "print (dt)"
   ]
  },
  {
   "cell_type": "code",
   "execution_count": 21,
   "metadata": {},
   "outputs": [
    {
     "name": "stdin",
     "output_type": "stream",
     "text": [
      "请输入一个字符串:\n",
      " fgbwfg\n",
      "请输入一个子字符串:\n",
      " wfg\n"
     ]
    },
    {
     "name": "stdout",
     "output_type": "stream",
     "text": [
      "1\n"
     ]
    }
   ],
   "source": [
    "if __name__ == '__main__':\n",
    "    str1 = input('请输入一个字符串:\\n')\n",
    "    str2 = input('请输入一个子字符串:\\n')\n",
    "    ncount = str1.count(str2)\n",
    "    print (ncount)"
   ]
  },
  {
   "cell_type": "code",
   "execution_count": null,
   "metadata": {},
   "outputs": [
    {
     "name": "stdin",
     "output_type": "stream",
     "text": [
      "输入文件名:\n",
      " fgh\n",
      "输入字符串:\n",
      " wfegdxsgr\n"
     ]
    },
    {
     "name": "stdout",
     "output_type": "stream",
     "text": [
      "wfegdxsgr"
     ]
    },
    {
     "name": "stdin",
     "output_type": "stream",
     "text": [
      " wfefgh\n"
     ]
    },
    {
     "name": "stdout",
     "output_type": "stream",
     "text": [
      "wfefgh"
     ]
    },
    {
     "name": "stdin",
     "output_type": "stream",
     "text": [
      " eeees\n"
     ]
    },
    {
     "name": "stdout",
     "output_type": "stream",
     "text": [
      "eeees"
     ]
    },
    {
     "name": "stdin",
     "output_type": "stream",
     "text": [
      " wegrgtr\n"
     ]
    },
    {
     "name": "stdout",
     "output_type": "stream",
     "text": [
      "wegrgtr"
     ]
    },
    {
     "name": "stdin",
     "output_type": "stream",
     "text": [
      " dergtres\n"
     ]
    },
    {
     "name": "stdout",
     "output_type": "stream",
     "text": [
      "dergtres"
     ]
    },
    {
     "name": "stdin",
     "output_type": "stream",
     "text": [
      " ergfsg#\n"
     ]
    },
    {
     "name": "stdout",
     "output_type": "stream",
     "text": [
      "ergfsg#"
     ]
    },
    {
     "name": "stdin",
     "output_type": "stream",
     "text": [
      " t5jjkk #\n"
     ]
    },
    {
     "name": "stdout",
     "output_type": "stream",
     "text": [
      "t5jjkk #"
     ]
    },
    {
     "name": "stdin",
     "output_type": "stream",
     "text": [
      " wdf########\n"
     ]
    },
    {
     "name": "stdout",
     "output_type": "stream",
     "text": [
      "wdf########"
     ]
    },
    {
     "name": "stdin",
     "output_type": "stream",
     "text": [
      " #######\n"
     ]
    },
    {
     "name": "stdout",
     "output_type": "stream",
     "text": [
      "#######"
     ]
    }
   ],
   "source": [
    "if __name__ == '__main__':\n",
    "    from sys import stdout\n",
    "    filename = input('输入文件名:\\n')\n",
    "    fp = open(filename,\"w\")\n",
    "    ch = input('输入字符串:\\n')\n",
    "    while ch != '#':\n",
    "        fp.write(ch)\n",
    "        stdout.write(ch)\n",
    "        ch = input('')\n",
    "    fp.close()"
   ]
  },
  {
   "cell_type": "code",
   "execution_count": 1,
   "metadata": {},
   "outputs": [
    {
     "name": "stdin",
     "output_type": "stream",
     "text": [
      "please input a string:\n",
      " shthj\n"
     ]
    },
    {
     "name": "stdout",
     "output_type": "stream",
     "text": [
      "SHTHJ\n"
     ]
    }
   ],
   "source": [
    "if __name__ == '__main__':\n",
    "    fp = open('test.txt','w')\n",
    "    string = input('please input a string:\\n')\n",
    "    string = string.upper()\n",
    "    fp.write(string)\n",
    "    fp = open('test.txt','r')\n",
    "    print (fp.read())\n",
    "    fp.close()"
   ]
  },
  {
   "cell_type": "code",
   "execution_count": 2,
   "metadata": {},
   "outputs": [
    {
     "name": "stdin",
     "output_type": "stream",
     "text": [
      "输入文件名:\n",
      " sfrgr.txt\n",
      "输入字符串:\n",
      " egrghsgsw\n",
      "输入字符串:\n",
      " wdewfr\n",
      "输入字符串:\n",
      " frgxs\n",
      "输入字符串:\n",
      " weddsd#\n"
     ]
    }
   ],
   "source": [
    "filename = input('输入文件名:\\n')\n",
    "fp = open(filename , \"w+\")\n",
    "ch = ''\n",
    "while '#' not in ch:\n",
    "    fp.write(ch)\n",
    "    ch = input('输入字符串:\\n')\n",
    "fp.close()"
   ]
  },
  {
   "cell_type": "code",
   "execution_count": 3,
   "metadata": {},
   "outputs": [
    {
     "ename": "FileNotFoundError",
     "evalue": "[Errno 2] No such file or directory: 'test1.txt'",
     "output_type": "error",
     "traceback": [
      "\u001b[1;31m---------------------------------------------------------------------------\u001b[0m",
      "\u001b[1;31mFileNotFoundError\u001b[0m                         Traceback (most recent call last)",
      "\u001b[1;32m<ipython-input-3-adb53ca98b0f>\u001b[0m in \u001b[0;36m<module>\u001b[1;34m\u001b[0m\n\u001b[0;32m      1\u001b[0m \u001b[1;32mif\u001b[0m \u001b[0m__name__\u001b[0m \u001b[1;33m==\u001b[0m \u001b[1;34m'__main__'\u001b[0m\u001b[1;33m:\u001b[0m\u001b[1;33m\u001b[0m\u001b[1;33m\u001b[0m\u001b[0m\n\u001b[0;32m      2\u001b[0m     \u001b[1;32mimport\u001b[0m \u001b[0mstring\u001b[0m\u001b[1;33m\u001b[0m\u001b[1;33m\u001b[0m\u001b[0m\n\u001b[1;32m----> 3\u001b[1;33m     \u001b[0mfp\u001b[0m \u001b[1;33m=\u001b[0m \u001b[0mopen\u001b[0m\u001b[1;33m(\u001b[0m\u001b[1;34m'test1.txt'\u001b[0m\u001b[1;33m)\u001b[0m\u001b[1;33m\u001b[0m\u001b[1;33m\u001b[0m\u001b[0m\n\u001b[0m\u001b[0;32m      4\u001b[0m     \u001b[0ma\u001b[0m \u001b[1;33m=\u001b[0m \u001b[0mfp\u001b[0m\u001b[1;33m.\u001b[0m\u001b[0mread\u001b[0m\u001b[1;33m(\u001b[0m\u001b[1;33m)\u001b[0m\u001b[1;33m\u001b[0m\u001b[1;33m\u001b[0m\u001b[0m\n\u001b[0;32m      5\u001b[0m     \u001b[0mfp\u001b[0m\u001b[1;33m.\u001b[0m\u001b[0mclose\u001b[0m\u001b[1;33m(\u001b[0m\u001b[1;33m)\u001b[0m\u001b[1;33m\u001b[0m\u001b[1;33m\u001b[0m\u001b[0m\n",
      "\u001b[1;31mFileNotFoundError\u001b[0m: [Errno 2] No such file or directory: 'test1.txt'"
     ]
    }
   ],
   "source": [
    "if __name__ == '__main__':\n",
    "    import string\n",
    "    fp = open('test1.txt')\n",
    "    a = fp.read()\n",
    "    fp.close()\n",
    " \n",
    "    fp = open('test2.txt')\n",
    "    b = fp.read()\n",
    "    fp.close()\n",
    " \n",
    "    fp = open('test3.txt','w')\n",
    "    l = list(a + b)\n",
    "    l.sort()\n",
    "    s = ''\n",
    "    s = s.join(l)\n",
    "    fp.write(s)\n",
    "    fp.close()"
   ]
  },
  {
   "cell_type": "code",
   "execution_count": 4,
   "metadata": {},
   "outputs": [
    {
     "name": "stdout",
     "output_type": "stream",
     "text": [
      "[2, 3, 5, 7, 11, 13, 17, 19, 23, 29, 31, 37, 41, 43, 47, 53, 59, 61, 67, 71, 73, 79, 83, 89, 97]\n"
     ]
    }
   ],
   "source": [
    "num=[];\n",
    "i=2\n",
    "for i in range(2,100):\n",
    "   j=2\n",
    "   for j in range(2,i):\n",
    "      if(i%j==0):\n",
    "         break\n",
    "   else:\n",
    "      num.append(i)\n",
    "print(num)"
   ]
  },
  {
   "cell_type": "code",
   "execution_count": 6,
   "metadata": {},
   "outputs": [
    {
     "name": "stdout",
     "output_type": "stream",
     "text": [
      "<filter object at 0x0000022AB4F40070>\n"
     ]
    }
   ],
   "source": [
    "import math\n",
    "def func_get_prime(n):\n",
    "  return filter(lambda x: not [x%i for i in range(2, int(math.sqrt(x))+1) if x%i ==0], range(2,n+1))\n",
    " \n",
    "print (func_get_prime(100))"
   ]
  },
  {
   "cell_type": "code",
   "execution_count": 9,
   "metadata": {},
   "outputs": [
    {
     "ename": "SyntaxError",
     "evalue": "invalid character in identifier (<ipython-input-9-f78aa8a1f9c3>, line 1)",
     "output_type": "error",
     "traceback": [
      "\u001b[1;36m  File \u001b[1;32m\"<ipython-input-9-f78aa8a1f9c3>\"\u001b[1;36m, line \u001b[1;32m1\u001b[0m\n\u001b[1;33m    def sushu(x):\u001b[0m\n\u001b[1;37m            ^\u001b[0m\n\u001b[1;31mSyntaxError\u001b[0m\u001b[1;31m:\u001b[0m invalid character in identifier\n"
     ]
    }
   ],
   "source": [
    "def sushu(x):\n",
    "    i=0\n",
    "    for i in range(2,x):\n",
    "        if x % i ==0:\n",
    "            return False\n",
    "            break\n",
    "        if i+1==x:\n",
    "            return True\n",
    "        return False\n",
    "    n=int(input(\"请输入n:\"))\n",
    "    for j in range(2,n):\n",
    "        if sushu(j)==True:\n",
    "            print(j,\"是素数\")\n",
    "    "
   ]
  },
  {
   "cell_type": "code",
   "execution_count": 10,
   "metadata": {},
   "outputs": [
    {
     "name": "stdout",
     "output_type": "stream",
     "text": [
      "----------\n"
     ]
    }
   ],
   "source": [
    "import time\n",
    " \n",
    "person_l=['小a','小b','小c','小d']\n",
    " \n",
    "def ask_way(person_l):\n",
    "    print('-'*10)\n",
    "    if len(person_l) == 0:\n",
    "        return '什么都没有。。。。 啊'\n",
    "    per=person_l.pop(0)\n",
    "    if per == '小a':\n",
    "        return '%s 说:机器人地址在哪里？' %per\n",
    "        print('hi， 你好[%s],怎么去。。。。' % per)\n",
    "        print('%s说: I don''t know,来看看...%s...' % (per, person_l))\n",
    " \n",
    "time.sleep(5)\n",
    " \n",
    "res=ask_way(person_l)\n"
   ]
  },
  {
   "cell_type": "code",
   "execution_count": 13,
   "metadata": {},
   "outputs": [
    {
     "name": "stdin",
     "output_type": "stream",
     "text": [
      "请输入物品编号： 10\n"
     ]
    }
   ],
   "source": [
    "\n",
    "product_list=[('HW P:',3500),\n",
    "              ('IPHONE:',500),\n",
    "              ('WATCH:',200),\n",
    "              ('book1',10)\n",
    "              ]\n",
    "lili_Money=5000\n",
    "shopping=input('请输入物品编号：')\n",
    "if shopping.isdigit:\n",
    "    shopping=int(shopping)\n",
    "if shopping==1:\n",
    "    print('购物成功，您的余额：',lili_Money-product_list[0][1])"
   ]
  },
  {
   "cell_type": "code",
   "execution_count": 19,
   "metadata": {},
   "outputs": [
    {
     "name": "stdout",
     "output_type": "stream",
     "text": [
      "[('HW P:', 3500), ('IPHONE:', 500), ('WATCH:', 200), ('book1', 10)]\n"
     ]
    },
    {
     "name": "stdin",
     "output_type": "stream",
     "text": [
      "请输入物品编号： 3\n"
     ]
    },
    {
     "name": "stdout",
     "output_type": "stream",
     "text": [
      "购物成功，您的余额： 4800\n",
      "购物成功，您的余额： 4600\n"
     ]
    },
    {
     "name": "stdin",
     "output_type": "stream",
     "text": [
      "请输入物品编号： 1\n"
     ]
    },
    {
     "name": "stdout",
     "output_type": "stream",
     "text": [
      "购物成功，您的余额： 1100\n",
      "抱歉，您的余额不足，请充值......\n"
     ]
    },
    {
     "name": "stdin",
     "output_type": "stream",
     "text": [
      "请输入物品编号： 4\n"
     ]
    },
    {
     "name": "stdout",
     "output_type": "stream",
     "text": [
      "购物成功，您的余额： 1090\n",
      "购物成功，您的余额： 1080\n"
     ]
    },
    {
     "name": "stdin",
     "output_type": "stream",
     "text": [
      "请输入物品编号： q\n"
     ]
    }
   ],
   "source": [
    "product_list=[('HW P:',3500),\n",
    "              ('IPHONE:',500),\n",
    "              ('WATCH:',200),\n",
    "              ('book1',10),\n",
    "              ]\n",
    "lili_Money=5000\n",
    "print(product_list)\n",
    "while True:    \n",
    "    shopping=input('请输入物品编号：')    \n",
    "    if shopping.isdigit():\n",
    "        shopping=int(shopping)\n",
    "        if lili_Money > product_list[shopping-1][1]:\n",
    "            lili_Money=lili_Money-product_list[shopping-1][1]\n",
    "            print('购物成功，您的余额：',lili_Money)\n",
    "        else:\n",
    "            print('抱歉，您的余额不足，请充值......') \n",
    "        #17\n",
    "    if shopping==1:\n",
    "        if lili_Money > product_list[0][1]:\n",
    "            lili_Money=lili_Money-product_list[0][1]\n",
    "            print('购物成功，您的余额：',lili_Money)\n",
    "        \n",
    "        else:\n",
    "            print('抱歉，您的余额不足，请充值......')                    \n",
    "    if shopping==2:\n",
    "        if lili_Money > product_list[1][1]:\n",
    "            lili_Money=lili_Money-product_list[1][1]\n",
    "            print('购物成功，您的余额：',lili_Money) \n",
    "            \n",
    "        else:\n",
    "            print('抱歉，您的余额不足，请充值......')\n",
    "    if shopping==3:\n",
    "        if lili_Money > product_list[2][1]:\n",
    "            lili_Money=lili_Money-product_list[2][1]\n",
    "            print('购物成功，您的余额：',lili_Money) \n",
    "            \n",
    "        else:\n",
    "            print('抱歉，您的余额不足，请充值......')\n",
    "    if shopping==4:\n",
    "        if lili_Money > product_list[3][1]:\n",
    "            lili_Money=lili_Money-product_list[3][1]\n",
    "            print('购物成功，您的余额：',lili_Money) \n",
    "            \n",
    "        else:\n",
    "            print('抱歉，您的余额不足，请充值......')\n",
    "    if shopping=='q':\n",
    "        break"
   ]
  },
  {
   "cell_type": "code",
   "execution_count": 20,
   "metadata": {},
   "outputs": [
    {
     "name": "stdin",
     "output_type": "stream",
     "text": [
      "请输入学员姓名： aa\n",
      "请输入学员年龄： 12\n",
      "请输入学员得分： 50\n",
      "请输入学员姓名： bb\n",
      "请输入学员年龄： 15\n",
      "请输入学员得分： 56\n"
     ]
    },
    {
     "name": "stdout",
     "output_type": "stream",
     "text": [
      "学员统计信息为： [['aa', '12', '50'], ['bb', '15', '56']]\n"
     ]
    }
   ],
   "source": [
    "def num(self):\n",
    "    list0=[]\n",
    "    for i in range(2):\n",
    "        name=input('请输入学员姓名：')\n",
    "        age=input('请输入学员年龄：')\n",
    "        score=input('请输入学员得分：')\n",
    "        lis=[name,age,score]\n",
    "        list0.append(lis)\n",
    "    print('学员统计信息为：',list0)\n",
    "            \n",
    "#student.num(2)\n",
    "num(2)"
   ]
  },
  {
   "cell_type": "code",
   "execution_count": 22,
   "metadata": {},
   "outputs": [
    {
     "name": "stdout",
     "output_type": "stream",
     "text": [
      "你在一个黑暗的房间里\n",
      "There is a door to your right and left.Which one do you take?\n"
     ]
    },
    {
     "name": "stdin",
     "output_type": "stream",
     "text": [
      ">  left\n"
     ]
    },
    {
     "name": "stdout",
     "output_type": "stream",
     "text": [
      "这里有一只熊.\n",
      "熊有一束蜂蜜.\n",
      "胖熊在另一扇门前\n",
      "你打算怎么躲避熊?\n"
     ]
    },
    {
     "name": "stdin",
     "output_type": "stream",
     "text": [
      ">偷走蜂蜜 \\ 嘲讽大熊\\ 打开门? 嘲讽大熊\n"
     ]
    },
    {
     "name": "stdout",
     "output_type": "stream",
     "text": [
      "The bear has moved from the door. You can go through it now.\n"
     ]
    },
    {
     "name": "stdin",
     "output_type": "stream",
     "text": [
      ">偷走蜂蜜 \\ 嘲讽大熊\\ 打开门? 打开门\n"
     ]
    },
    {
     "name": "stdout",
     "output_type": "stream",
     "text": [
      "This room is full of gold. How much do you take?\n"
     ]
    },
    {
     "name": "stdin",
     "output_type": "stream",
     "text": [
      ">  20\n"
     ]
    },
    {
     "name": "stdout",
     "output_type": "stream",
     "text": [
      "真棒，你不是贪婪的人！\n"
     ]
    },
    {
     "ename": "SystemExit",
     "evalue": "0",
     "output_type": "error",
     "traceback": [
      "An exception has occurred, use %tb to see the full traceback.\n",
      "\u001b[1;31mSystemExit\u001b[0m\u001b[1;31m:\u001b[0m 0\n"
     ]
    }
   ],
   "source": [
    "from sys import exit\n",
    " \n",
    "def gold_room():\n",
    "    print (\"This room is full of gold. How much do you take?\")\n",
    "    next = input(\"> \")\n",
    "    if \"0\" in next or \"1\" in next:\n",
    "        how_much = int(next)\n",
    "    else:\n",
    "        dead(\"请输入数字：\")\n",
    "    if how_much < 50:\n",
    "        print( \"真棒，你不是贪婪的人！\")\n",
    "        exit(0)\n",
    "    else:\n",
    "        dead(\"你真是贪婪无度!\")\n",
    "        \n",
    "def bear_room():\n",
    "    print( \"这里有一只熊.\")\n",
    "    print (\"熊有一束蜂蜜.\")\n",
    "    print (\"胖熊在另一扇门前\")\n",
    "    print (\"你打算怎么躲避熊?\")\n",
    "    bear_moved = False\n",
    "    while True:\n",
    "        next = input(\">偷走蜂蜜 \\ 嘲讽大熊\\ 打开门?\")\n",
    "        if next == \"偷走蜂蜜\":\n",
    "            dead(\"The bear looks at you then slaps your face off.\")\n",
    "        elif next == \"嘲讽大熊\" and not bear_moved:\n",
    "            print( \"The bear has moved from the door. You can go through it now.\")\n",
    "            bear_moved = True\n",
    "        elif next == \"嘲讽大熊\" and bear_moved:\n",
    "            dead(\"The bear gets pissed off and chews your leg off.\")\n",
    "        elif next == \"打开门\" and bear_moved:\n",
    "            gold_room()\n",
    "        else:\n",
    "            print (\"I got no idea what that means.\")\n",
    "            \n",
    "def cthulhu_room():\n",
    "    print( \"在这里你可以看到邪恶的怪兽.\")\n",
    "    print (\"它们，都会令你害怕.\")\n",
    "    print( \"你是逃命还是等着还是其他？\")\n",
    "    next = input(\"> \")\n",
    " \n",
    "    if \"逃命\" in next:\n",
    "        start()\n",
    "    elif \"等待\" in next:\n",
    "        dead(\"Well that was tasty!\")\n",
    "    else:\n",
    "        cthulhu_room()\n",
    "        \n",
    "def dead(why):\n",
    "    print (why)\n",
    "    exit(0)\n",
    "def start():\n",
    "    print (\"你在一个黑暗的房间里\")\n",
    "    print( \"There is a door to your right and left.Which one do you take?\")\n",
    " \n",
    "    next = input(\"> \")\n",
    "    if next == \"left\":\n",
    "        bear_room()\n",
    "    elif next == \"right\":\n",
    "        cthulhu_room()\n",
    "    else:\n",
    "        dead(\"You stumble around the room until you starve.\")\n",
    "start()"
   ]
  },
  {
   "cell_type": "code",
   "execution_count": 24,
   "metadata": {},
   "outputs": [
    {
     "name": "stdout",
     "output_type": "stream",
     "text": [
      "-----欢迎来到子曰教育-公益图书馆------\n"
     ]
    },
    {
     "name": "stdin",
     "output_type": "stream",
     "text": [
      "请输入用户名： admin\n",
      "请输入密码： 123\n"
     ]
    },
    {
     "name": "stdout",
     "output_type": "stream",
     "text": [
      "--欢迎进入图书管理系统---\n",
      "|---1.查询书籍---|\n",
      "|---2.增加书籍---|\n",
      "|---3.删除书籍---|\n",
      "|---4.退出系统---|\n"
     ]
    },
    {
     "name": "stdin",
     "output_type": "stream",
     "text": [
      "请输入 操作序号： 1\n"
     ]
    },
    {
     "name": "stdout",
     "output_type": "stream",
     "text": [
      "{'文学': ['故乡', '明天', '彷徨', '呐喊', '童年的故事'], '历史': ['明朝', '秦朝', '三国', '唐朝'], '艺术': ['摄影', '绘画'], '儿童': ['大灰狼', '小白兔']}\n"
     ]
    },
    {
     "name": "stdin",
     "output_type": "stream",
     "text": [
      "请输入 操作序号： 文学\n"
     ]
    },
    {
     "name": "stdout",
     "output_type": "stream",
     "text": [
      "--欢迎进入图书管理系统---\n",
      "|---1.查询书籍---|\n",
      "|---2.增加书籍---|\n",
      "|---3.删除书籍---|\n",
      "|---4.退出系统---|\n"
     ]
    },
    {
     "name": "stdin",
     "output_type": "stream",
     "text": [
      "请输入 操作序号： 1\n"
     ]
    },
    {
     "name": "stdout",
     "output_type": "stream",
     "text": [
      "{'文学': ['故乡', '明天', '彷徨', '呐喊', '童年的故事'], '历史': ['明朝', '秦朝', '三国', '唐朝'], '艺术': ['摄影', '绘画'], '儿童': ['大灰狼', '小白兔']}\n"
     ]
    },
    {
     "name": "stdin",
     "output_type": "stream",
     "text": [
      "请输入 操作序号： 2\n"
     ]
    },
    {
     "name": "stdout",
     "output_type": "stream",
     "text": [
      "--欢迎进入图书管理系统---\n",
      "|---1.查询书籍---|\n",
      "|---2.增加书籍---|\n",
      "|---3.删除书籍---|\n",
      "|---4.退出系统---|\n"
     ]
    },
    {
     "name": "stdin",
     "output_type": "stream",
     "text": [
      "请输入 操作序号： 3\n"
     ]
    },
    {
     "name": "stdout",
     "output_type": "stream",
     "text": [
      "--欢迎进入图书管理系统---\n",
      "|---1.查询书籍---|\n",
      "|---2.增加书籍---|\n",
      "|---3.删除书籍---|\n",
      "|---4.退出系统---|\n"
     ]
    },
    {
     "name": "stdin",
     "output_type": "stream",
     "text": [
      "请输入 操作序号： 4\n"
     ]
    }
   ],
   "source": [
    "print('-----欢迎来到子曰教育-公益图书馆------')\n",
    "A=['故乡','明天','彷徨','呐喊','童年的故事']\n",
    "B=['明朝','秦朝','三国','唐朝']\n",
    "C=['摄影','绘画']\n",
    "D=['大灰狼','小白兔']\n",
    "book_info={'文学':A,'历史':B,'艺术':C,'儿童':D}\n",
    " \n",
    "admin=input('请输入用户名：')\n",
    "pwd=int(input('请输入密码：'))\n",
    "while admin=='admin' and pwd==123:\n",
    "    print('''--欢迎进入图书管理系统---\n",
    "|---1.查询书籍---|\n",
    "|---2.增加书籍---|\n",
    "|---3.删除书籍---|\n",
    "|---4.退出系统---|''')\n",
    "    num=str(input('请输入 操作序号：'))\n",
    "    if num!='1' and num!='2' and num!='3' and num!='4':\n",
    "        print('输入错误！请重新输入.....\\n')\n",
    "        continue\n",
    "    if num=='2':\n",
    "        add_item=input('你输入要增加的书籍类型：\\文学\\历史\\艺术\\儿童：')\n",
    "        add_name=input('你输入要增加的书籍名称：')\n",
    "        if add_item=='文学':\n",
    "            A.append(add_name)\n",
    "        elif add_item=='历史':\n",
    "            B.append(add_name)\n",
    "        elif add_item=='艺术':\n",
    "            C.append(add_name)\n",
    "        elif add_item=='儿童':\n",
    "            D.append(add_name)\n",
    "        continue\n",
    "#    if num=='3':    \n",
    "            \n",
    "    if num=='1':\n",
    "        print(book_info)\n",
    "        num=str(input('请输入 操作序号：'))        \n",
    "    if num=='4':\n",
    "        break"
   ]
  },
  {
   "cell_type": "code",
   "execution_count": 25,
   "metadata": {},
   "outputs": [
    {
     "name": "stdout",
     "output_type": "stream",
     "text": [
      "40320\n"
     ]
    }
   ],
   "source": [
    "def f(n):\n",
    "    if n==1:\n",
    "        return 1\n",
    " \n",
    "    return n*f(n-1)  #8*f(7)    7*f(6)  6*f(5).....  3*2    2*1\n",
    "print(f(8))"
   ]
  },
  {
   "cell_type": "code",
   "execution_count": 27,
   "metadata": {},
   "outputs": [
    {
     "name": "stdout",
     "output_type": "stream",
     "text": [
      "1 2\n",
      "1 3\n",
      "1 4\n",
      "1 5\n",
      "2 3\n",
      "2 4\n",
      "2 5\n",
      "3 4\n",
      "3 5\n",
      "4 5\n"
     ]
    }
   ],
   "source": [
    "# 这里面的数字两个组合 多少种不同样的，数字不重复的\n",
    "li = [1,2,3,4,5]\n",
    "l =len(li)\n",
    "for i in range(0,l-1):\n",
    "    for v in range(i+1,l):\n",
    "        print(li[i],li[v])"
   ]
  },
  {
   "cell_type": "code",
   "execution_count": 28,
   "metadata": {},
   "outputs": [
    {
     "name": "stdout",
     "output_type": "stream",
     "text": [
      "{'k1': [56], 'k2': [11, 22, 33, 44, 55, 79, 87, 90, 93]}\n"
     ]
    }
   ],
   "source": [
    "l = [10,25,38,44,56,66,79,87,90,93]\n",
    "result ={'k1': [77, 88, 99, 90], 'k2': [11, 22, 33, 44, 55]}\n",
    " \n",
    "for item in l:\n",
    "    if item < 66:\n",
    "        # result.update({\"k1\": item}) \n",
    "      \n",
    "        if \"k1\" in result:\n",
    "            result['k1'] = [item]   \n",
    "        else:\n",
    "            result['k1'].append(item)\n",
    "    elif item > 66:\n",
    "        if \"k2\" not in result:\n",
    "            result['k2'] = [item, ]    \n",
    "        else:\n",
    "            result['k2'].append(item)\n",
    "print(result)"
   ]
  },
  {
   "cell_type": "code",
   "execution_count": 29,
   "metadata": {},
   "outputs": [
    {
     "name": "stdin",
     "output_type": "stream",
     "text": [
      "guess age: 21\n"
     ]
    },
    {
     "name": "stdout",
     "output_type": "stream",
     "text": [
      "think bigger!\n"
     ]
    },
    {
     "name": "stdin",
     "output_type": "stream",
     "text": [
      "guess age: 26\n"
     ]
    },
    {
     "name": "stdout",
     "output_type": "stream",
     "text": [
      "think bigger!\n"
     ]
    },
    {
     "name": "stdin",
     "output_type": "stream",
     "text": [
      "guess age: 20\n"
     ]
    },
    {
     "name": "stdout",
     "output_type": "stream",
     "text": [
      "think bigger!\n"
     ]
    },
    {
     "name": "stdin",
     "output_type": "stream",
     "text": [
      "do you want to keep guessing..? no\n",
      "guess age: 20\n"
     ]
    },
    {
     "name": "stdout",
     "output_type": "stream",
     "text": [
      "think bigger!\n"
     ]
    },
    {
     "name": "stdin",
     "output_type": "stream",
     "text": [
      "guess age: 18\n"
     ]
    },
    {
     "name": "stdout",
     "output_type": "stream",
     "text": [
      "think bigger!\n"
     ]
    },
    {
     "name": "stdin",
     "output_type": "stream",
     "text": [
      "guess age: 12\n"
     ]
    },
    {
     "name": "stdout",
     "output_type": "stream",
     "text": [
      "think bigger!\n"
     ]
    },
    {
     "name": "stdin",
     "output_type": "stream",
     "text": [
      "do you want to keep guessing..? N\n",
      "guess age: 11\n"
     ]
    },
    {
     "name": "stdout",
     "output_type": "stream",
     "text": [
      "think bigger!\n"
     ]
    },
    {
     "name": "stdin",
     "output_type": "stream",
     "text": [
      "guess age: 9\n"
     ]
    },
    {
     "name": "stdout",
     "output_type": "stream",
     "text": [
      "think bigger!\n"
     ]
    },
    {
     "name": "stdin",
     "output_type": "stream",
     "text": [
      "guess age: 2\n"
     ]
    },
    {
     "name": "stdout",
     "output_type": "stream",
     "text": [
      "think bigger!\n"
     ]
    },
    {
     "name": "stdin",
     "output_type": "stream",
     "text": [
      "do you want to keep guessing..? \n",
      "guess age: l\n"
     ]
    },
    {
     "ename": "ValueError",
     "evalue": "invalid literal for int() with base 10: 'l'",
     "output_type": "error",
     "traceback": [
      "\u001b[1;31m---------------------------------------------------------------------------\u001b[0m",
      "\u001b[1;31mValueError\u001b[0m                                Traceback (most recent call last)",
      "\u001b[1;32m<ipython-input-29-dd72f47a1133>\u001b[0m in \u001b[0;36m<module>\u001b[1;34m\u001b[0m\n\u001b[0;32m      5\u001b[0m \u001b[0mcount\u001b[0m \u001b[1;33m=\u001b[0m \u001b[1;36m0\u001b[0m\u001b[1;33m\u001b[0m\u001b[1;33m\u001b[0m\u001b[0m\n\u001b[0;32m      6\u001b[0m \u001b[1;32mwhile\u001b[0m \u001b[0mcount\u001b[0m \u001b[1;33m<\u001b[0m\u001b[1;36m3\u001b[0m\u001b[1;33m:\u001b[0m\u001b[1;33m\u001b[0m\u001b[1;33m\u001b[0m\u001b[0m\n\u001b[1;32m----> 7\u001b[1;33m     \u001b[0mguess_age\u001b[0m \u001b[1;33m=\u001b[0m \u001b[0mint\u001b[0m\u001b[1;33m(\u001b[0m\u001b[0minput\u001b[0m\u001b[1;33m(\u001b[0m\u001b[1;34m\"guess age:\"\u001b[0m\u001b[1;33m)\u001b[0m \u001b[1;33m)\u001b[0m\u001b[1;33m\u001b[0m\u001b[1;33m\u001b[0m\u001b[0m\n\u001b[0m\u001b[0;32m      8\u001b[0m     \u001b[1;32mif\u001b[0m \u001b[0mguess_age\u001b[0m \u001b[1;33m==\u001b[0m \u001b[0mage_of_oldboy\u001b[0m \u001b[1;33m:\u001b[0m\u001b[1;33m\u001b[0m\u001b[1;33m\u001b[0m\u001b[0m\n\u001b[0;32m      9\u001b[0m         \u001b[0mprint\u001b[0m\u001b[1;33m(\u001b[0m\u001b[1;34m\"yes, you got it. \"\u001b[0m\u001b[1;33m)\u001b[0m\u001b[1;33m\u001b[0m\u001b[1;33m\u001b[0m\u001b[0m\n",
      "\u001b[1;31mValueError\u001b[0m: invalid literal for int() with base 10: 'l'"
     ]
    }
   ],
   "source": [
    "import random\n",
    "age_of_oldboy=random.randint(20,50) \n",
    "#print(age_of_oldboy)\n",
    " \n",
    "count = 0\n",
    "while count <3:\n",
    "    guess_age = int(input(\"guess age:\") )\n",
    "    if guess_age == age_of_oldboy :\n",
    "        print(\"yes, you got it. \")\n",
    "        break\n",
    "    elif guess_age > age_of_oldboy:\n",
    "        print(\"think smaller...\")\n",
    "    else:\n",
    "        print(\"think bigger!\")\n",
    "    count +=1\n",
    "    if count == 3:\n",
    "        countine_confirm = input(\"do you want to keep guessing..?\")\n",
    "        if countine_confirm != 'n':\n",
    "            count =0"
   ]
  },
  {
   "cell_type": "code",
   "execution_count": 1,
   "metadata": {},
   "outputs": [
    {
     "name": "stdin",
     "output_type": "stream",
     "text": [
      "群输入任意一个数字做上限： 5\n",
      "群输入任意一个数字做下限： 1\n"
     ]
    },
    {
     "ename": "NameError",
     "evalue": "name 'random' is not defined",
     "output_type": "error",
     "traceback": [
      "\u001b[1;31m---------------------------------------------------------------------------\u001b[0m",
      "\u001b[1;31mNameError\u001b[0m                                 Traceback (most recent call last)",
      "\u001b[1;32m<ipython-input-1-8c062a13aa15>\u001b[0m in \u001b[0;36m<module>\u001b[1;34m\u001b[0m\n\u001b[0;32m      1\u001b[0m \u001b[0mnum1\u001b[0m\u001b[1;33m=\u001b[0m\u001b[0mint\u001b[0m\u001b[1;33m(\u001b[0m\u001b[0minput\u001b[0m\u001b[1;33m(\u001b[0m\u001b[1;34m'群输入任意一个数字做上限：'\u001b[0m\u001b[1;33m)\u001b[0m\u001b[1;33m)\u001b[0m\u001b[1;33m\u001b[0m\u001b[1;33m\u001b[0m\u001b[0m\n\u001b[0;32m      2\u001b[0m \u001b[0mnum2\u001b[0m\u001b[1;33m=\u001b[0m\u001b[0mint\u001b[0m\u001b[1;33m(\u001b[0m\u001b[0minput\u001b[0m\u001b[1;33m(\u001b[0m\u001b[1;34m'群输入任意一个数字做下限：'\u001b[0m\u001b[1;33m)\u001b[0m\u001b[1;33m)\u001b[0m\u001b[1;33m\u001b[0m\u001b[1;33m\u001b[0m\u001b[0m\n\u001b[1;32m----> 3\u001b[1;33m \u001b[0mran_num\u001b[0m\u001b[1;33m=\u001b[0m\u001b[0mrandom\u001b[0m\u001b[1;33m.\u001b[0m\u001b[0mrandint\u001b[0m\u001b[1;33m(\u001b[0m\u001b[0mnum1\u001b[0m\u001b[1;33m,\u001b[0m\u001b[0mnum2\u001b[0m\u001b[1;33m)\u001b[0m\u001b[1;33m\u001b[0m\u001b[1;33m\u001b[0m\u001b[0m\n\u001b[0m\u001b[0;32m      4\u001b[0m \u001b[0ms\u001b[0m\u001b[1;33m=\u001b[0m\u001b[1;36m3\u001b[0m\u001b[1;33m\u001b[0m\u001b[1;33m\u001b[0m\u001b[0m\n\u001b[0;32m      5\u001b[0m \u001b[1;33m\u001b[0m\u001b[0m\n",
      "\u001b[1;31mNameError\u001b[0m: name 'random' is not defined"
     ]
    }
   ],
   "source": [
    "num1=int(input('群输入任意一个数字做上限：'))\n",
    "num2=int(input('群输入任意一个数字做下限：'))\n",
    "ran_num=random.randint(num1,num2)\n",
    "s=3\n",
    " \n",
    "for i in  range(3):\n",
    "    while s>0:    \n",
    "        in_num=int(input('群输入一个数字：'))\n",
    "        if  in_num> ran_num:\n",
    "            s=s-1\n",
    "            print('你猜的数字大了','还有%d次机会'%s)\n",
    "            \n",
    "        elif in_num<ran_num:\n",
    "            s=s-1\n",
    "            print('你猜的小了点','还有%d次机会'%s)\n",
    "           \n",
    "        else:\n",
    "            print('恭喜你猜对啦！')\n",
    "            break\n",
    "    break"
   ]
  },
  {
   "cell_type": "code",
   "execution_count": 4,
   "metadata": {},
   "outputs": [
    {
     "name": "stdout",
     "output_type": "stream",
     "text": [
      "3\n",
      "13 *\n",
      "23 *\n",
      "& 33 *\n",
      "43 *\n",
      "53 *\n",
      "63\n",
      "73 *\n",
      "83 *\n",
      "93\n"
     ]
    }
   ],
   "source": [
    "\n",
    "list0=[]\n",
    "a='33'\n",
    "for i in range(3,100,10):\n",
    "    list0.append(i)\n",
    "    if i%3 ==0:\n",
    "        j = str(i)\n",
    "        if a in j:\n",
    "            print('&', j,'*')\n",
    "        else:\n",
    "            print(i)\n",
    "    else:\n",
    "        print(i, '*')\n"
   ]
  },
  {
   "cell_type": "code",
   "execution_count": 5,
   "metadata": {},
   "outputs": [
    {
     "name": "stdout",
     "output_type": "stream",
     "text": [
      "{'391', '193', '693', '913', '139', '369', '931', '963', '936', '169', '631', '319', '691', '136', '916', '361', '619', '396', '961', '316', '639', '613', '196'}\n",
      "共计23个不同的数字\n"
     ]
    }
   ],
   "source": [
    "\n",
    "import random\n",
    "list0=[1,3,6,9]\n",
    "set0=set()                               #定义集合，存储元素，保证不会有重复内容\n",
    "for i in range(100):                      #概率问题，哈哈 设置200\n",
    "    list01=random.sample(list0,3)\n",
    "    list01=[ str(a) for a in list01 ]    #将列表内的数值型元素转为字符串元素\n",
    "    list_sub=\"\".join(list01)             #将列表内的每个元素组合成一个字符串\n",
    "    set0.add(list_sub)\n",
    "print(set0)\n",
    "print('共计%d个不同的数字'%len(set0))"
   ]
  },
  {
   "cell_type": "code",
   "execution_count": 7,
   "metadata": {},
   "outputs": [
    {
     "name": "stdin",
     "output_type": "stream",
     "text": [
      "输入一个最多5位的数字: 14526\n"
     ]
    },
    {
     "name": "stdout",
     "output_type": "stream",
     "text": [
      "输入的数字长度是： 5\n",
      "62541"
     ]
    }
   ],
   "source": [
    "\n",
    "num = list(input('输入一个最多5位的数字:'))\n",
    "print('输入的数字长度是：',len(num))\n",
    "num.reverse()                                   # reverse() 函数用于反向列表中元素。\n",
    "for i in range(len(num)):\n",
    "    print(num[i], end='')     "
   ]
  },
  {
   "cell_type": "code",
   "execution_count": 8,
   "metadata": {},
   "outputs": [
    {
     "name": "stdout",
     "output_type": "stream",
     "text": [
      "1\n",
      "2\n",
      "6\n",
      "24\n",
      "120\n",
      "720\n",
      "5040\n",
      "40320\n"
     ]
    }
   ],
   "source": [
    "n=1                                          #乘数\n",
    "sum=1                                       #总和\n",
    "for i in range(1,9):                         #第几个数字\n",
    "    while n<=i:\n",
    "        sum=sum*n                           #累×  \n",
    "        n=n+1\n",
    "        print(sum)"
   ]
  },
  {
   "cell_type": "code",
   "execution_count": 9,
   "metadata": {},
   "outputs": [
    {
     "name": "stdin",
     "output_type": "stream",
     "text": [
      "请输入阶乘数字： 10\n"
     ]
    },
    {
     "name": "stdout",
     "output_type": "stream",
     "text": [
      "4037913\n"
     ]
    }
   ],
   "source": [
    "\n",
    "X=int(input('请输入阶乘数字：'))        \n",
    "n=1                                          #乘数\n",
    "s=1  \n",
    "sum=0                                     #总和\n",
    "for i in range(1,X+1):                         #第几个数字\n",
    "    while n<=i:\n",
    "        s=s*n                           #累×  \n",
    "        n=n+1        \n",
    "        sum=sum+s\n",
    "print(sum) "
   ]
  },
  {
   "cell_type": "code",
   "execution_count": 10,
   "metadata": {},
   "outputs": [
    {
     "name": "stdin",
     "output_type": "stream",
     "text": [
      "你输入一个数字： 12\n",
      "你输入数字，要做几次相加运算 3\n"
     ]
    },
    {
     "name": "stdout",
     "output_type": "stream",
     "text": [
      "3 次相加后得到： 122436\n"
     ]
    }
   ],
   "source": [
    "a=input('你输入一个数字：')\n",
    "n=int(input('你输入数字，要做几次相加运算'))\n",
    "sum=0\n",
    "for i in range(1,n+1):\n",
    "    b=a*i\n",
    "    b_int=int(b)\n",
    "    sum=sum+b_int\n",
    "    \n",
    "print(n,'次相加后得到：',sum)"
   ]
  },
  {
   "cell_type": "code",
   "execution_count": 12,
   "metadata": {},
   "outputs": [
    {
     "name": "stdin",
     "output_type": "stream",
     "text": [
      "请输入 ： adw521 wfe\n"
     ]
    },
    {
     "name": "stdout",
     "output_type": "stream",
     "text": [
      "数字有 3 个\n",
      "字母有 6 个\n",
      "空格有 1 个\n",
      "其他字符有 0 个\n"
     ]
    }
   ],
   "source": [
    "str1=input('请输入 ：')\n",
    "list1=[]\n",
    "num=0\n",
    "letter=0\n",
    "space=0\n",
    "other=0\n",
    "for i in str1:                         \n",
    "    if i.isalpha():                      #函数字母\n",
    "        num=num+1\n",
    "    elif i.isspace():                        #判断空格\n",
    "        space=space+1 \n",
    "    elif i.isdigit():                    #判断数字\n",
    "        letter=letter+1\n",
    "    else:\n",
    "        other=other+1\n",
    "print('数字有',letter,'个')\n",
    "print('字母有',num,'个')\n",
    "print('空格有',space,'个')\n",
    "print('其他字符有',other,'个')    "
   ]
  },
  {
   "cell_type": "code",
   "execution_count": 13,
   "metadata": {},
   "outputs": [
    {
     "name": "stdin",
     "output_type": "stream",
     "text": [
      "请输入你的得分： 80\n"
     ]
    },
    {
     "name": "stdout",
     "output_type": "stream",
     "text": [
      "评分B\n"
     ]
    }
   ],
   "source": [
    "score=float(input('请输入你的得分：'))   \n",
    "if score>=90:\n",
    "    print('评分A')\n",
    "elif   90>score>60:\n",
    "    print('评分B')\n",
    "else:\n",
    "    print('评分C')"
   ]
  },
  {
   "cell_type": "code",
   "execution_count": 14,
   "metadata": {},
   "outputs": [
    {
     "name": "stdout",
     "output_type": "stream",
     "text": [
      "{4, 6, 8, 9, 10, 12, 14, 15, 16, 18, 20, 21, 22, 24, 25, 26, 27, 28, 30, 32, 33, 34, 35, 36, 38, 39, 40, 42, 44, 45, 46, 48, 49, 50, 51, 52, 54, 55, 56, 57, 58, 60, 62, 63, 64, 65, 66, 68, 69, 70, 72, 74, 75, 76, 77, 78, 80, 81, 82, 84, 85, 86, 87, 88, 90, 91, 92, 93, 94, 95, 96, 98, 99, 100}\n"
     ]
    }
   ],
   "source": [
    "set1=set()\n",
    "for i in range(2,101):\n",
    "    n=2\n",
    "    while n<i:\n",
    "        if i%n==0:\n",
    "            set1.add(i)\n",
    "            n=n+1\n",
    "        else:\n",
    "            n=n+1\n",
    "print(set1)  "
   ]
  },
  {
   "cell_type": "code",
   "execution_count": 15,
   "metadata": {},
   "outputs": [
    {
     "name": "stdout",
     "output_type": "stream",
     "text": [
      "6 8\n"
     ]
    },
    {
     "name": "stdin",
     "output_type": "stream",
     "text": [
      "请输入答案： 6\n"
     ]
    }
   ],
   "source": [
    "#暂停时间，延时输出\n",
    " \n",
    "import time\n",
    "import random\n",
    "timenow=time.asctime( time.localtime(time.time()) )\n",
    "while True:   \n",
    "    a=random.choice(range(10))\n",
    "    b=random.choice(range(10))\n",
    "    print(a,b) \n",
    "    \n",
    "    x=int(input('请输入答案：'))\n",
    "    if x==a+b:\n",
    "        print('回答正确',timenow)\n",
    "        time.sleep(1)         \n",
    "    else:\n",
    "        break"
   ]
  },
  {
   "cell_type": "code",
   "execution_count": null,
   "metadata": {},
   "outputs": [],
   "source": []
  }
 ],
 "metadata": {
  "kernelspec": {
   "display_name": "Python 3",
   "language": "python",
   "name": "python3"
  },
  "language_info": {
   "codemirror_mode": {
    "name": "ipython",
    "version": 3
   },
   "file_extension": ".py",
   "mimetype": "text/x-python",
   "name": "python",
   "nbconvert_exporter": "python",
   "pygments_lexer": "ipython3",
   "version": "3.8.5"
  }
 },
 "nbformat": 4,
 "nbformat_minor": 4
}
