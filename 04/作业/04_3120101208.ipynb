{
 "cells": [
  {
   "cell_type": "markdown",
   "metadata": {},
   "source": [
    "## You-Get\n",
    "You-Get is a tiny command-line utility to download media contents (videos, audios, images) from the Web, in case there is no other handy way to do it.  \n",
    "https://github.com/soimort/you-get\n",
    "```\n",
    "$ pip install you-get\n",
    "```"
   ]
  },
  {
   "cell_type": "code",
   "execution_count": 1,
   "metadata": {},
   "outputs": [
    {
     "name": "stdout",
     "output_type": "stream",
     "text": [
      "Microsoft Windows [版本 10.0.19041.685]\n",
      "(c) 2020 Microsoft Corporation. 保留所有权利。\n",
      "\n",
      "C:\\Users\\lll51\\Documents\\Python-Class\\04\\hwork>you-get https://www.bilibili.com/video/BV1PK4y177Wx\n",
      "site:                Bilibili\n",
      "title:               FPX 锛�?锛塏uguri绮惧僵闆嗛敠 (P1. FPX 锛�?锛塏uguri绮惧僵闆嗛敠)\n",
      "stream:\n",
      "    - format:        \u001b[7mflv\u001b[0m\n",
      "      container:     flv\n",
      "      quality:       楂樻竻 1080P\n",
      "      size:          167.5 MiB (175640459 bytes)\n",
      "    # download-with: \u001b[4myou-get --format=flv [URL]\u001b[0m\n",
      "\n",
      "Downloading FPX 锛�-锛塏uguri绮惧僵闆嗛敠 (P1. FPX 锛�-锛塏uguri绮惧僵闆嗛敠).flv ...\n",
      " 100% (167.5/167.5MB) 鈹溾枅鈻堚枅鈻堚枅鈻堚枅鈻堚枅鈻堚枅鈻堚枅鈻堚枅鈻堚枅鈻堚枅鈻堚枅鈻堚枅鈻堚枅鈻堚枅鈻堚枅鈻堚枅鈻堚枅鈻堚枅鈻堚枅鈻堚枅鈻堚敜[1/1]   14 MB/sssssssssssssssssssss\n",
      "\n",
      "Downloading FPX 锛�-锛塏uguri绮惧僵闆嗛敠 (P1. FPX 锛�-锛塏uguri绮惧僵闆嗛敠).cmt.xml ...\n",
      "\n",
      "\n",
      "C:\\Users\\lll51\\Documents\\Python-Class\\04\\hwork>"
     ]
    },
    {
     "name": "stderr",
     "output_type": "stream",
     "text": [
      "\u001b[33myou-get: This is a multipart video. (use --playlist to download all parts.)\u001b[0m\n"
     ]
    }
   ],
   "source": [
    "%%cmd\n",
    "you-get https://www.bilibili.com/video/BV1PK4y177Wx"
   ]
  },
  {
   "cell_type": "markdown",
   "metadata": {},
   "source": [
    "## Altair\n",
    "Altair is a declarative statistical visualization library for Python, based on Vega and Vega-Lite.\n",
    "\n",
    "Altair can be installed, along with the example datastes in vega_datasets, using:  \n",
    "https://altair-viz.github.io/getting_started/overview.html\n",
    "\n",
    "```\n",
    "$ pip install altair vega_datasets\n",
    "```\n",
    "If you are using the conda package manager, the equivalent is:\n",
    "\n",
    "```\n",
    "$ conda install -c conda-forge altair vega_datasets\n",
    "```"
   ]
  },
  {
   "cell_type": "code",
   "execution_count": 11,
   "metadata": {},
   "outputs": [
    {
     "data": {
      "text/html": [
       "\n",
       "<div id=\"altair-viz-54aca593af014f00aa1010d866d96cb4\"></div>\n",
       "<script type=\"text/javascript\">\n",
       "  (function(spec, embedOpt){\n",
       "    let outputDiv = document.currentScript.previousElementSibling;\n",
       "    if (outputDiv.id !== \"altair-viz-54aca593af014f00aa1010d866d96cb4\") {\n",
       "      outputDiv = document.getElementById(\"altair-viz-54aca593af014f00aa1010d866d96cb4\");\n",
       "    }\n",
       "    const paths = {\n",
       "      \"vega\": \"https://cdn.jsdelivr.net/npm//vega@5?noext\",\n",
       "      \"vega-lib\": \"https://cdn.jsdelivr.net/npm//vega-lib?noext\",\n",
       "      \"vega-lite\": \"https://cdn.jsdelivr.net/npm//vega-lite@4.8.1?noext\",\n",
       "      \"vega-embed\": \"https://cdn.jsdelivr.net/npm//vega-embed@6?noext\",\n",
       "    };\n",
       "\n",
       "    function loadScript(lib) {\n",
       "      return new Promise(function(resolve, reject) {\n",
       "        var s = document.createElement('script');\n",
       "        s.src = paths[lib];\n",
       "        s.async = true;\n",
       "        s.onload = () => resolve(paths[lib]);\n",
       "        s.onerror = () => reject(`Error loading script: ${paths[lib]}`);\n",
       "        document.getElementsByTagName(\"head\")[0].appendChild(s);\n",
       "      });\n",
       "    }\n",
       "\n",
       "    function showError(err) {\n",
       "      outputDiv.innerHTML = `<div class=\"error\" style=\"color:red;\">${err}</div>`;\n",
       "      throw err;\n",
       "    }\n",
       "\n",
       "    function displayChart(vegaEmbed) {\n",
       "      vegaEmbed(outputDiv, spec, embedOpt)\n",
       "        .catch(err => showError(`Javascript Error: ${err.message}<br>This usually means there's a typo in your chart specification. See the javascript console for the full traceback.`));\n",
       "    }\n",
       "\n",
       "    if(typeof define === \"function\" && define.amd) {\n",
       "      requirejs.config({paths});\n",
       "      require([\"vega-embed\"], displayChart, err => showError(`Error loading script: ${err.message}`));\n",
       "    } else if (typeof vegaEmbed === \"function\") {\n",
       "      displayChart(vegaEmbed);\n",
       "    } else {\n",
       "      loadScript(\"vega\")\n",
       "        .then(() => loadScript(\"vega-lite\"))\n",
       "        .then(() => loadScript(\"vega-embed\"))\n",
       "        .catch(showError)\n",
       "        .then(() => displayChart(vegaEmbed));\n",
       "    }\n",
       "  })({\"config\": {\"view\": {\"continuousWidth\": 400, \"continuousHeight\": 300}}, \"concat\": [{\"mark\": {\"type\": \"geoshape\", \"fill\": \"#666666\", \"stroke\": \"white\"}, \"height\": 180, \"projection\": {\"type\": \"equirectangular\"}, \"title\": \"equirectangular\", \"width\": 300}, {\"mark\": {\"type\": \"geoshape\", \"fill\": \"#666666\", \"stroke\": \"white\"}, \"height\": 180, \"projection\": {\"type\": \"mercator\"}, \"title\": \"mercator\", \"width\": 300}, {\"mark\": {\"type\": \"geoshape\", \"fill\": \"#666666\", \"stroke\": \"white\"}, \"height\": 180, \"projection\": {\"type\": \"orthographic\"}, \"title\": \"orthographic\", \"width\": 300}, {\"mark\": {\"type\": \"geoshape\", \"fill\": \"#666666\", \"stroke\": \"white\"}, \"height\": 180, \"projection\": {\"type\": \"gnomonic\"}, \"title\": \"gnomonic\", \"width\": 300}], \"columns\": 2, \"data\": {\"url\": \"https://cdn.jsdelivr.net/npm/vega-datasets@v1.29.0/data/world-110m.json\", \"format\": {\"feature\": \"countries\", \"type\": \"topojson\"}}, \"$schema\": \"https://vega.github.io/schema/vega-lite/v4.8.1.json\"}, {\"mode\": \"vega-lite\"});\n",
       "</script>"
      ],
      "text/plain": [
       "alt.ConcatChart(...)"
      ]
     },
     "execution_count": 11,
     "metadata": {},
     "output_type": "execute_result"
    }
   ],
   "source": [
    "import altair as alt\n",
    "from vega_datasets import data\n",
    "\n",
    "source = alt.topo_feature(data.world_110m.url, 'countries')\n",
    "\n",
    "base = alt.Chart(source).mark_geoshape(\n",
    "    fill='#666666',\n",
    "    stroke='white'\n",
    ").properties(\n",
    "    width=300,\n",
    "    height=180\n",
    ")\n",
    "\n",
    "projections = ['equirectangular', 'mercator', 'orthographic', 'gnomonic']\n",
    "charts = [base.project(proj).properties(title=proj)\n",
    "          for proj in projections]\n",
    "\n",
    "alt.concat(*charts, columns=2)\n"
   ]
  },
  {
   "cell_type": "code",
   "execution_count": 3,
   "metadata": {},
   "outputs": [
    {
     "data": {
      "text/html": [
       "\n",
       "<div id=\"altair-viz-5d2a536bec564d7d999084922ac26371\"></div>\n",
       "<script type=\"text/javascript\">\n",
       "  (function(spec, embedOpt){\n",
       "    let outputDiv = document.currentScript.previousElementSibling;\n",
       "    if (outputDiv.id !== \"altair-viz-5d2a536bec564d7d999084922ac26371\") {\n",
       "      outputDiv = document.getElementById(\"altair-viz-5d2a536bec564d7d999084922ac26371\");\n",
       "    }\n",
       "    const paths = {\n",
       "      \"vega\": \"https://cdn.jsdelivr.net/npm//vega@5?noext\",\n",
       "      \"vega-lib\": \"https://cdn.jsdelivr.net/npm//vega-lib?noext\",\n",
       "      \"vega-lite\": \"https://cdn.jsdelivr.net/npm//vega-lite@4.8.1?noext\",\n",
       "      \"vega-embed\": \"https://cdn.jsdelivr.net/npm//vega-embed@6?noext\",\n",
       "    };\n",
       "\n",
       "    function loadScript(lib) {\n",
       "      return new Promise(function(resolve, reject) {\n",
       "        var s = document.createElement('script');\n",
       "        s.src = paths[lib];\n",
       "        s.async = true;\n",
       "        s.onload = () => resolve(paths[lib]);\n",
       "        s.onerror = () => reject(`Error loading script: ${paths[lib]}`);\n",
       "        document.getElementsByTagName(\"head\")[0].appendChild(s);\n",
       "      });\n",
       "    }\n",
       "\n",
       "    function showError(err) {\n",
       "      outputDiv.innerHTML = `<div class=\"error\" style=\"color:red;\">${err}</div>`;\n",
       "      throw err;\n",
       "    }\n",
       "\n",
       "    function displayChart(vegaEmbed) {\n",
       "      vegaEmbed(outputDiv, spec, embedOpt)\n",
       "        .catch(err => showError(`Javascript Error: ${err.message}<br>This usually means there's a typo in your chart specification. See the javascript console for the full traceback.`));\n",
       "    }\n",
       "\n",
       "    if(typeof define === \"function\" && define.amd) {\n",
       "      requirejs.config({paths});\n",
       "      require([\"vega-embed\"], displayChart, err => showError(`Error loading script: ${err.message}`));\n",
       "    } else if (typeof vegaEmbed === \"function\") {\n",
       "      displayChart(vegaEmbed);\n",
       "    } else {\n",
       "      loadScript(\"vega\")\n",
       "        .then(() => loadScript(\"vega-lite\"))\n",
       "        .then(() => loadScript(\"vega-embed\"))\n",
       "        .catch(showError)\n",
       "        .then(() => displayChart(vegaEmbed));\n",
       "    }\n",
       "  })({\"config\": {\"view\": {\"continuousWidth\": 400, \"continuousHeight\": 300}}, \"data\": {\"name\": \"data-f02450ab61490a1363517a0190416235\"}, \"mark\": {\"type\": \"circle\", \"size\": 60}, \"encoding\": {\"color\": {\"type\": \"nominal\", \"field\": \"Origin\"}, \"tooltip\": [{\"type\": \"nominal\", \"field\": \"Name\"}, {\"type\": \"nominal\", \"field\": \"Origin\"}, {\"type\": \"quantitative\", \"field\": \"Horsepower\"}, {\"type\": \"quantitative\", \"field\": \"Miles_per_Gallon\"}], \"x\": {\"type\": \"quantitative\", \"field\": \"Horsepower\"}, \"y\": {\"type\": \"quantitative\", \"field\": \"Miles_per_Gallon\"}}, \"selection\": {\"selector001\": {\"type\": \"interval\", \"bind\": \"scales\", \"encodings\": [\"x\", \"y\"]}}, \"$schema\": \"https://vega.github.io/schema/vega-lite/v4.8.1.json\", \"datasets\": {\"data-f02450ab61490a1363517a0190416235\": [{\"Name\": \"chevrolet chevelle malibu\", \"Miles_per_Gallon\": 18.0, \"Cylinders\": 8, \"Displacement\": 307.0, \"Horsepower\": 130.0, \"Weight_in_lbs\": 3504, \"Acceleration\": 12.0, \"Year\": \"1970-01-01T00:00:00\", \"Origin\": \"USA\"}, {\"Name\": \"buick skylark 320\", \"Miles_per_Gallon\": 15.0, \"Cylinders\": 8, \"Displacement\": 350.0, \"Horsepower\": 165.0, \"Weight_in_lbs\": 3693, \"Acceleration\": 11.5, \"Year\": \"1970-01-01T00:00:00\", \"Origin\": \"USA\"}, {\"Name\": \"plymouth satellite\", \"Miles_per_Gallon\": 18.0, \"Cylinders\": 8, \"Displacement\": 318.0, \"Horsepower\": 150.0, \"Weight_in_lbs\": 3436, \"Acceleration\": 11.0, \"Year\": \"1970-01-01T00:00:00\", \"Origin\": \"USA\"}, {\"Name\": \"amc rebel sst\", \"Miles_per_Gallon\": 16.0, \"Cylinders\": 8, \"Displacement\": 304.0, \"Horsepower\": 150.0, \"Weight_in_lbs\": 3433, \"Acceleration\": 12.0, \"Year\": \"1970-01-01T00:00:00\", \"Origin\": \"USA\"}, {\"Name\": \"ford torino\", \"Miles_per_Gallon\": 17.0, \"Cylinders\": 8, \"Displacement\": 302.0, \"Horsepower\": 140.0, \"Weight_in_lbs\": 3449, \"Acceleration\": 10.5, \"Year\": \"1970-01-01T00:00:00\", \"Origin\": \"USA\"}, {\"Name\": \"ford galaxie 500\", \"Miles_per_Gallon\": 15.0, \"Cylinders\": 8, \"Displacement\": 429.0, \"Horsepower\": 198.0, \"Weight_in_lbs\": 4341, \"Acceleration\": 10.0, \"Year\": \"1970-01-01T00:00:00\", \"Origin\": \"USA\"}, {\"Name\": \"chevrolet impala\", \"Miles_per_Gallon\": 14.0, \"Cylinders\": 8, \"Displacement\": 454.0, \"Horsepower\": 220.0, \"Weight_in_lbs\": 4354, \"Acceleration\": 9.0, \"Year\": \"1970-01-01T00:00:00\", \"Origin\": \"USA\"}, {\"Name\": \"plymouth fury iii\", \"Miles_per_Gallon\": 14.0, \"Cylinders\": 8, \"Displacement\": 440.0, \"Horsepower\": 215.0, \"Weight_in_lbs\": 4312, \"Acceleration\": 8.5, \"Year\": \"1970-01-01T00:00:00\", \"Origin\": \"USA\"}, {\"Name\": \"pontiac catalina\", \"Miles_per_Gallon\": 14.0, \"Cylinders\": 8, \"Displacement\": 455.0, \"Horsepower\": 225.0, \"Weight_in_lbs\": 4425, \"Acceleration\": 10.0, \"Year\": \"1970-01-01T00:00:00\", \"Origin\": \"USA\"}, {\"Name\": \"amc ambassador dpl\", \"Miles_per_Gallon\": 15.0, \"Cylinders\": 8, \"Displacement\": 390.0, \"Horsepower\": 190.0, \"Weight_in_lbs\": 3850, \"Acceleration\": 8.5, \"Year\": \"1970-01-01T00:00:00\", \"Origin\": \"USA\"}, {\"Name\": \"citroen ds-21 pallas\", \"Miles_per_Gallon\": null, \"Cylinders\": 4, \"Displacement\": 133.0, \"Horsepower\": 115.0, \"Weight_in_lbs\": 3090, \"Acceleration\": 17.5, \"Year\": \"1970-01-01T00:00:00\", \"Origin\": \"Europe\"}, {\"Name\": \"chevrolet chevelle concours (sw)\", \"Miles_per_Gallon\": null, \"Cylinders\": 8, \"Displacement\": 350.0, \"Horsepower\": 165.0, \"Weight_in_lbs\": 4142, \"Acceleration\": 11.5, \"Year\": \"1970-01-01T00:00:00\", \"Origin\": \"USA\"}, {\"Name\": \"ford torino (sw)\", \"Miles_per_Gallon\": null, \"Cylinders\": 8, \"Displacement\": 351.0, \"Horsepower\": 153.0, \"Weight_in_lbs\": 4034, \"Acceleration\": 11.0, \"Year\": \"1970-01-01T00:00:00\", \"Origin\": \"USA\"}, {\"Name\": \"plymouth satellite (sw)\", \"Miles_per_Gallon\": null, \"Cylinders\": 8, \"Displacement\": 383.0, \"Horsepower\": 175.0, \"Weight_in_lbs\": 4166, \"Acceleration\": 10.5, \"Year\": \"1970-01-01T00:00:00\", \"Origin\": \"USA\"}, {\"Name\": \"amc rebel sst (sw)\", \"Miles_per_Gallon\": null, \"Cylinders\": 8, \"Displacement\": 360.0, \"Horsepower\": 175.0, \"Weight_in_lbs\": 3850, \"Acceleration\": 11.0, \"Year\": \"1970-01-01T00:00:00\", \"Origin\": \"USA\"}, {\"Name\": \"dodge challenger se\", \"Miles_per_Gallon\": 15.0, \"Cylinders\": 8, \"Displacement\": 383.0, \"Horsepower\": 170.0, \"Weight_in_lbs\": 3563, \"Acceleration\": 10.0, \"Year\": \"1970-01-01T00:00:00\", \"Origin\": \"USA\"}, {\"Name\": \"plymouth 'cuda 340\", \"Miles_per_Gallon\": 14.0, \"Cylinders\": 8, \"Displacement\": 340.0, \"Horsepower\": 160.0, \"Weight_in_lbs\": 3609, \"Acceleration\": 8.0, \"Year\": \"1970-01-01T00:00:00\", \"Origin\": \"USA\"}, {\"Name\": \"ford mustang boss 302\", \"Miles_per_Gallon\": null, \"Cylinders\": 8, \"Displacement\": 302.0, \"Horsepower\": 140.0, \"Weight_in_lbs\": 3353, \"Acceleration\": 8.0, \"Year\": \"1970-01-01T00:00:00\", \"Origin\": \"USA\"}, {\"Name\": \"chevrolet monte carlo\", \"Miles_per_Gallon\": 15.0, \"Cylinders\": 8, \"Displacement\": 400.0, \"Horsepower\": 150.0, \"Weight_in_lbs\": 3761, \"Acceleration\": 9.5, \"Year\": \"1970-01-01T00:00:00\", \"Origin\": \"USA\"}, {\"Name\": \"buick estate wagon (sw)\", \"Miles_per_Gallon\": 14.0, \"Cylinders\": 8, \"Displacement\": 455.0, \"Horsepower\": 225.0, \"Weight_in_lbs\": 3086, \"Acceleration\": 10.0, \"Year\": \"1970-01-01T00:00:00\", \"Origin\": \"USA\"}, {\"Name\": \"toyota corona mark ii\", \"Miles_per_Gallon\": 24.0, \"Cylinders\": 4, \"Displacement\": 113.0, \"Horsepower\": 95.0, \"Weight_in_lbs\": 2372, \"Acceleration\": 15.0, \"Year\": \"1970-01-01T00:00:00\", \"Origin\": \"Japan\"}, {\"Name\": \"plymouth duster\", \"Miles_per_Gallon\": 22.0, \"Cylinders\": 6, \"Displacement\": 198.0, \"Horsepower\": 95.0, \"Weight_in_lbs\": 2833, \"Acceleration\": 15.5, \"Year\": \"1970-01-01T00:00:00\", \"Origin\": \"USA\"}, {\"Name\": \"amc hornet\", \"Miles_per_Gallon\": 18.0, \"Cylinders\": 6, \"Displacement\": 199.0, \"Horsepower\": 97.0, \"Weight_in_lbs\": 2774, \"Acceleration\": 15.5, \"Year\": \"1970-01-01T00:00:00\", \"Origin\": \"USA\"}, {\"Name\": \"ford maverick\", \"Miles_per_Gallon\": 21.0, \"Cylinders\": 6, \"Displacement\": 200.0, \"Horsepower\": 85.0, \"Weight_in_lbs\": 2587, \"Acceleration\": 16.0, \"Year\": \"1970-01-01T00:00:00\", \"Origin\": \"USA\"}, {\"Name\": \"datsun pl510\", \"Miles_per_Gallon\": 27.0, \"Cylinders\": 4, \"Displacement\": 97.0, \"Horsepower\": 88.0, \"Weight_in_lbs\": 2130, \"Acceleration\": 14.5, \"Year\": \"1970-01-01T00:00:00\", \"Origin\": \"Japan\"}, {\"Name\": \"volkswagen 1131 deluxe sedan\", \"Miles_per_Gallon\": 26.0, \"Cylinders\": 4, \"Displacement\": 97.0, \"Horsepower\": 46.0, \"Weight_in_lbs\": 1835, \"Acceleration\": 20.5, \"Year\": \"1970-01-01T00:00:00\", \"Origin\": \"Europe\"}, {\"Name\": \"peugeot 504\", \"Miles_per_Gallon\": 25.0, \"Cylinders\": 4, \"Displacement\": 110.0, \"Horsepower\": 87.0, \"Weight_in_lbs\": 2672, \"Acceleration\": 17.5, \"Year\": \"1970-01-01T00:00:00\", \"Origin\": \"Europe\"}, {\"Name\": \"audi 100 ls\", \"Miles_per_Gallon\": 24.0, \"Cylinders\": 4, \"Displacement\": 107.0, \"Horsepower\": 90.0, \"Weight_in_lbs\": 2430, \"Acceleration\": 14.5, \"Year\": \"1970-01-01T00:00:00\", \"Origin\": \"Europe\"}, {\"Name\": \"saab 99e\", \"Miles_per_Gallon\": 25.0, \"Cylinders\": 4, \"Displacement\": 104.0, \"Horsepower\": 95.0, \"Weight_in_lbs\": 2375, \"Acceleration\": 17.5, \"Year\": \"1970-01-01T00:00:00\", \"Origin\": \"Europe\"}, {\"Name\": \"bmw 2002\", \"Miles_per_Gallon\": 26.0, \"Cylinders\": 4, \"Displacement\": 121.0, \"Horsepower\": 113.0, \"Weight_in_lbs\": 2234, \"Acceleration\": 12.5, \"Year\": \"1970-01-01T00:00:00\", \"Origin\": \"Europe\"}, {\"Name\": \"amc gremlin\", \"Miles_per_Gallon\": 21.0, \"Cylinders\": 6, \"Displacement\": 199.0, \"Horsepower\": 90.0, \"Weight_in_lbs\": 2648, \"Acceleration\": 15.0, \"Year\": \"1970-01-01T00:00:00\", \"Origin\": \"USA\"}, {\"Name\": \"ford f250\", \"Miles_per_Gallon\": 10.0, \"Cylinders\": 8, \"Displacement\": 360.0, \"Horsepower\": 215.0, \"Weight_in_lbs\": 4615, \"Acceleration\": 14.0, \"Year\": \"1970-01-01T00:00:00\", \"Origin\": \"USA\"}, {\"Name\": \"chevy c20\", \"Miles_per_Gallon\": 10.0, \"Cylinders\": 8, \"Displacement\": 307.0, \"Horsepower\": 200.0, \"Weight_in_lbs\": 4376, \"Acceleration\": 15.0, \"Year\": \"1970-01-01T00:00:00\", \"Origin\": \"USA\"}, {\"Name\": \"dodge d200\", \"Miles_per_Gallon\": 11.0, \"Cylinders\": 8, \"Displacement\": 318.0, \"Horsepower\": 210.0, \"Weight_in_lbs\": 4382, \"Acceleration\": 13.5, \"Year\": \"1970-01-01T00:00:00\", \"Origin\": \"USA\"}, {\"Name\": \"hi 1200d\", \"Miles_per_Gallon\": 9.0, \"Cylinders\": 8, \"Displacement\": 304.0, \"Horsepower\": 193.0, \"Weight_in_lbs\": 4732, \"Acceleration\": 18.5, \"Year\": \"1970-01-01T00:00:00\", \"Origin\": \"USA\"}, {\"Name\": \"datsun pl510\", \"Miles_per_Gallon\": 27.0, \"Cylinders\": 4, \"Displacement\": 97.0, \"Horsepower\": 88.0, \"Weight_in_lbs\": 2130, \"Acceleration\": 14.5, \"Year\": \"1971-01-01T00:00:00\", \"Origin\": \"Japan\"}, {\"Name\": \"chevrolet vega 2300\", \"Miles_per_Gallon\": 28.0, \"Cylinders\": 4, \"Displacement\": 140.0, \"Horsepower\": 90.0, \"Weight_in_lbs\": 2264, \"Acceleration\": 15.5, \"Year\": \"1971-01-01T00:00:00\", \"Origin\": \"USA\"}, {\"Name\": \"toyota corona\", \"Miles_per_Gallon\": 25.0, \"Cylinders\": 4, \"Displacement\": 113.0, \"Horsepower\": 95.0, \"Weight_in_lbs\": 2228, \"Acceleration\": 14.0, \"Year\": \"1971-01-01T00:00:00\", \"Origin\": \"Japan\"}, {\"Name\": \"ford pinto\", \"Miles_per_Gallon\": 25.0, \"Cylinders\": 4, \"Displacement\": 98.0, \"Horsepower\": null, \"Weight_in_lbs\": 2046, \"Acceleration\": 19.0, \"Year\": \"1971-01-01T00:00:00\", \"Origin\": \"USA\"}, {\"Name\": \"volkswagen super beetle 117\", \"Miles_per_Gallon\": null, \"Cylinders\": 4, \"Displacement\": 97.0, \"Horsepower\": 48.0, \"Weight_in_lbs\": 1978, \"Acceleration\": 20.0, \"Year\": \"1971-01-01T00:00:00\", \"Origin\": \"Europe\"}, {\"Name\": \"amc gremlin\", \"Miles_per_Gallon\": 19.0, \"Cylinders\": 6, \"Displacement\": 232.0, \"Horsepower\": 100.0, \"Weight_in_lbs\": 2634, \"Acceleration\": 13.0, \"Year\": \"1971-01-01T00:00:00\", \"Origin\": \"USA\"}, {\"Name\": \"plymouth satellite custom\", \"Miles_per_Gallon\": 16.0, \"Cylinders\": 6, \"Displacement\": 225.0, \"Horsepower\": 105.0, \"Weight_in_lbs\": 3439, \"Acceleration\": 15.5, \"Year\": \"1971-01-01T00:00:00\", \"Origin\": \"USA\"}, {\"Name\": \"chevrolet chevelle malibu\", \"Miles_per_Gallon\": 17.0, \"Cylinders\": 6, \"Displacement\": 250.0, \"Horsepower\": 100.0, \"Weight_in_lbs\": 3329, \"Acceleration\": 15.5, \"Year\": \"1971-01-01T00:00:00\", \"Origin\": \"USA\"}, {\"Name\": \"ford torino 500\", \"Miles_per_Gallon\": 19.0, \"Cylinders\": 6, \"Displacement\": 250.0, \"Horsepower\": 88.0, \"Weight_in_lbs\": 3302, \"Acceleration\": 15.5, \"Year\": \"1971-01-01T00:00:00\", \"Origin\": \"USA\"}, {\"Name\": \"amc matador\", \"Miles_per_Gallon\": 18.0, \"Cylinders\": 6, \"Displacement\": 232.0, \"Horsepower\": 100.0, \"Weight_in_lbs\": 3288, \"Acceleration\": 15.5, \"Year\": \"1971-01-01T00:00:00\", \"Origin\": \"USA\"}, {\"Name\": \"chevrolet impala\", \"Miles_per_Gallon\": 14.0, \"Cylinders\": 8, \"Displacement\": 350.0, \"Horsepower\": 165.0, \"Weight_in_lbs\": 4209, \"Acceleration\": 12.0, \"Year\": \"1971-01-01T00:00:00\", \"Origin\": \"USA\"}, {\"Name\": \"pontiac catalina brougham\", \"Miles_per_Gallon\": 14.0, \"Cylinders\": 8, \"Displacement\": 400.0, \"Horsepower\": 175.0, \"Weight_in_lbs\": 4464, \"Acceleration\": 11.5, \"Year\": \"1971-01-01T00:00:00\", \"Origin\": \"USA\"}, {\"Name\": \"ford galaxie 500\", \"Miles_per_Gallon\": 14.0, \"Cylinders\": 8, \"Displacement\": 351.0, \"Horsepower\": 153.0, \"Weight_in_lbs\": 4154, \"Acceleration\": 13.5, \"Year\": \"1971-01-01T00:00:00\", \"Origin\": \"USA\"}, {\"Name\": \"plymouth fury iii\", \"Miles_per_Gallon\": 14.0, \"Cylinders\": 8, \"Displacement\": 318.0, \"Horsepower\": 150.0, \"Weight_in_lbs\": 4096, \"Acceleration\": 13.0, \"Year\": \"1971-01-01T00:00:00\", \"Origin\": \"USA\"}, {\"Name\": \"dodge monaco (sw)\", \"Miles_per_Gallon\": 12.0, \"Cylinders\": 8, \"Displacement\": 383.0, \"Horsepower\": 180.0, \"Weight_in_lbs\": 4955, \"Acceleration\": 11.5, \"Year\": \"1971-01-01T00:00:00\", \"Origin\": \"USA\"}, {\"Name\": \"ford country squire (sw)\", \"Miles_per_Gallon\": 13.0, \"Cylinders\": 8, \"Displacement\": 400.0, \"Horsepower\": 170.0, \"Weight_in_lbs\": 4746, \"Acceleration\": 12.0, \"Year\": \"1971-01-01T00:00:00\", \"Origin\": \"USA\"}, {\"Name\": \"pontiac safari (sw)\", \"Miles_per_Gallon\": 13.0, \"Cylinders\": 8, \"Displacement\": 400.0, \"Horsepower\": 175.0, \"Weight_in_lbs\": 5140, \"Acceleration\": 12.0, \"Year\": \"1971-01-01T00:00:00\", \"Origin\": \"USA\"}, {\"Name\": \"amc hornet sportabout (sw)\", \"Miles_per_Gallon\": 18.0, \"Cylinders\": 6, \"Displacement\": 258.0, \"Horsepower\": 110.0, \"Weight_in_lbs\": 2962, \"Acceleration\": 13.5, \"Year\": \"1971-01-01T00:00:00\", \"Origin\": \"USA\"}, {\"Name\": \"chevrolet vega (sw)\", \"Miles_per_Gallon\": 22.0, \"Cylinders\": 4, \"Displacement\": 140.0, \"Horsepower\": 72.0, \"Weight_in_lbs\": 2408, \"Acceleration\": 19.0, \"Year\": \"1971-01-01T00:00:00\", \"Origin\": \"USA\"}, {\"Name\": \"pontiac firebird\", \"Miles_per_Gallon\": 19.0, \"Cylinders\": 6, \"Displacement\": 250.0, \"Horsepower\": 100.0, \"Weight_in_lbs\": 3282, \"Acceleration\": 15.0, \"Year\": \"1971-01-01T00:00:00\", \"Origin\": \"USA\"}, {\"Name\": \"ford mustang\", \"Miles_per_Gallon\": 18.0, \"Cylinders\": 6, \"Displacement\": 250.0, \"Horsepower\": 88.0, \"Weight_in_lbs\": 3139, \"Acceleration\": 14.5, \"Year\": \"1971-01-01T00:00:00\", \"Origin\": \"USA\"}, {\"Name\": \"mercury capri 2000\", \"Miles_per_Gallon\": 23.0, \"Cylinders\": 4, \"Displacement\": 122.0, \"Horsepower\": 86.0, \"Weight_in_lbs\": 2220, \"Acceleration\": 14.0, \"Year\": \"1971-01-01T00:00:00\", \"Origin\": \"USA\"}, {\"Name\": \"opel 1900\", \"Miles_per_Gallon\": 28.0, \"Cylinders\": 4, \"Displacement\": 116.0, \"Horsepower\": 90.0, \"Weight_in_lbs\": 2123, \"Acceleration\": 14.0, \"Year\": \"1971-01-01T00:00:00\", \"Origin\": \"Europe\"}, {\"Name\": \"peugeot 304\", \"Miles_per_Gallon\": 30.0, \"Cylinders\": 4, \"Displacement\": 79.0, \"Horsepower\": 70.0, \"Weight_in_lbs\": 2074, \"Acceleration\": 19.5, \"Year\": \"1971-01-01T00:00:00\", \"Origin\": \"Europe\"}, {\"Name\": \"fiat 124b\", \"Miles_per_Gallon\": 30.0, \"Cylinders\": 4, \"Displacement\": 88.0, \"Horsepower\": 76.0, \"Weight_in_lbs\": 2065, \"Acceleration\": 14.5, \"Year\": \"1971-01-01T00:00:00\", \"Origin\": \"Europe\"}, {\"Name\": \"toyota corolla 1200\", \"Miles_per_Gallon\": 31.0, \"Cylinders\": 4, \"Displacement\": 71.0, \"Horsepower\": 65.0, \"Weight_in_lbs\": 1773, \"Acceleration\": 19.0, \"Year\": \"1971-01-01T00:00:00\", \"Origin\": \"Japan\"}, {\"Name\": \"datsun 1200\", \"Miles_per_Gallon\": 35.0, \"Cylinders\": 4, \"Displacement\": 72.0, \"Horsepower\": 69.0, \"Weight_in_lbs\": 1613, \"Acceleration\": 18.0, \"Year\": \"1971-01-01T00:00:00\", \"Origin\": \"Japan\"}, {\"Name\": \"volkswagen model 111\", \"Miles_per_Gallon\": 27.0, \"Cylinders\": 4, \"Displacement\": 97.0, \"Horsepower\": 60.0, \"Weight_in_lbs\": 1834, \"Acceleration\": 19.0, \"Year\": \"1971-01-01T00:00:00\", \"Origin\": \"Europe\"}, {\"Name\": \"plymouth cricket\", \"Miles_per_Gallon\": 26.0, \"Cylinders\": 4, \"Displacement\": 91.0, \"Horsepower\": 70.0, \"Weight_in_lbs\": 1955, \"Acceleration\": 20.5, \"Year\": \"1971-01-01T00:00:00\", \"Origin\": \"USA\"}, {\"Name\": \"toyota corona hardtop\", \"Miles_per_Gallon\": 24.0, \"Cylinders\": 4, \"Displacement\": 113.0, \"Horsepower\": 95.0, \"Weight_in_lbs\": 2278, \"Acceleration\": 15.5, \"Year\": \"1972-01-01T00:00:00\", \"Origin\": \"Japan\"}, {\"Name\": \"dodge colt hardtop\", \"Miles_per_Gallon\": 25.0, \"Cylinders\": 4, \"Displacement\": 97.5, \"Horsepower\": 80.0, \"Weight_in_lbs\": 2126, \"Acceleration\": 17.0, \"Year\": \"1972-01-01T00:00:00\", \"Origin\": \"USA\"}, {\"Name\": \"volkswagen type 3\", \"Miles_per_Gallon\": 23.0, \"Cylinders\": 4, \"Displacement\": 97.0, \"Horsepower\": 54.0, \"Weight_in_lbs\": 2254, \"Acceleration\": 23.5, \"Year\": \"1972-01-01T00:00:00\", \"Origin\": \"Europe\"}, {\"Name\": \"chevrolet vega\", \"Miles_per_Gallon\": 20.0, \"Cylinders\": 4, \"Displacement\": 140.0, \"Horsepower\": 90.0, \"Weight_in_lbs\": 2408, \"Acceleration\": 19.5, \"Year\": \"1972-01-01T00:00:00\", \"Origin\": \"USA\"}, {\"Name\": \"ford pinto runabout\", \"Miles_per_Gallon\": 21.0, \"Cylinders\": 4, \"Displacement\": 122.0, \"Horsepower\": 86.0, \"Weight_in_lbs\": 2226, \"Acceleration\": 16.5, \"Year\": \"1972-01-01T00:00:00\", \"Origin\": \"USA\"}, {\"Name\": \"chevrolet impala\", \"Miles_per_Gallon\": 13.0, \"Cylinders\": 8, \"Displacement\": 350.0, \"Horsepower\": 165.0, \"Weight_in_lbs\": 4274, \"Acceleration\": 12.0, \"Year\": \"1972-01-01T00:00:00\", \"Origin\": \"USA\"}, {\"Name\": \"pontiac catalina\", \"Miles_per_Gallon\": 14.0, \"Cylinders\": 8, \"Displacement\": 400.0, \"Horsepower\": 175.0, \"Weight_in_lbs\": 4385, \"Acceleration\": 12.0, \"Year\": \"1972-01-01T00:00:00\", \"Origin\": \"USA\"}, {\"Name\": \"plymouth fury iii\", \"Miles_per_Gallon\": 15.0, \"Cylinders\": 8, \"Displacement\": 318.0, \"Horsepower\": 150.0, \"Weight_in_lbs\": 4135, \"Acceleration\": 13.5, \"Year\": \"1972-01-01T00:00:00\", \"Origin\": \"USA\"}, {\"Name\": \"ford galaxie 500\", \"Miles_per_Gallon\": 14.0, \"Cylinders\": 8, \"Displacement\": 351.0, \"Horsepower\": 153.0, \"Weight_in_lbs\": 4129, \"Acceleration\": 13.0, \"Year\": \"1972-01-01T00:00:00\", \"Origin\": \"USA\"}, {\"Name\": \"amc ambassador sst\", \"Miles_per_Gallon\": 17.0, \"Cylinders\": 8, \"Displacement\": 304.0, \"Horsepower\": 150.0, \"Weight_in_lbs\": 3672, \"Acceleration\": 11.5, \"Year\": \"1972-01-01T00:00:00\", \"Origin\": \"USA\"}, {\"Name\": \"mercury marquis\", \"Miles_per_Gallon\": 11.0, \"Cylinders\": 8, \"Displacement\": 429.0, \"Horsepower\": 208.0, \"Weight_in_lbs\": 4633, \"Acceleration\": 11.0, \"Year\": \"1972-01-01T00:00:00\", \"Origin\": \"USA\"}, {\"Name\": \"buick lesabre custom\", \"Miles_per_Gallon\": 13.0, \"Cylinders\": 8, \"Displacement\": 350.0, \"Horsepower\": 155.0, \"Weight_in_lbs\": 4502, \"Acceleration\": 13.5, \"Year\": \"1972-01-01T00:00:00\", \"Origin\": \"USA\"}, {\"Name\": \"oldsmobile delta 88 royale\", \"Miles_per_Gallon\": 12.0, \"Cylinders\": 8, \"Displacement\": 350.0, \"Horsepower\": 160.0, \"Weight_in_lbs\": 4456, \"Acceleration\": 13.5, \"Year\": \"1972-01-01T00:00:00\", \"Origin\": \"USA\"}, {\"Name\": \"chrysler newport royal\", \"Miles_per_Gallon\": 13.0, \"Cylinders\": 8, \"Displacement\": 400.0, \"Horsepower\": 190.0, \"Weight_in_lbs\": 4422, \"Acceleration\": 12.5, \"Year\": \"1972-01-01T00:00:00\", \"Origin\": \"USA\"}, {\"Name\": \"mazda rx2 coupe\", \"Miles_per_Gallon\": 19.0, \"Cylinders\": 3, \"Displacement\": 70.0, \"Horsepower\": 97.0, \"Weight_in_lbs\": 2330, \"Acceleration\": 13.5, \"Year\": \"1972-01-01T00:00:00\", \"Origin\": \"Japan\"}, {\"Name\": \"amc matador (sw)\", \"Miles_per_Gallon\": 15.0, \"Cylinders\": 8, \"Displacement\": 304.0, \"Horsepower\": 150.0, \"Weight_in_lbs\": 3892, \"Acceleration\": 12.5, \"Year\": \"1972-01-01T00:00:00\", \"Origin\": \"USA\"}, {\"Name\": \"chevrolet chevelle concours (sw)\", \"Miles_per_Gallon\": 13.0, \"Cylinders\": 8, \"Displacement\": 307.0, \"Horsepower\": 130.0, \"Weight_in_lbs\": 4098, \"Acceleration\": 14.0, \"Year\": \"1972-01-01T00:00:00\", \"Origin\": \"USA\"}, {\"Name\": \"ford gran torino (sw)\", \"Miles_per_Gallon\": 13.0, \"Cylinders\": 8, \"Displacement\": 302.0, \"Horsepower\": 140.0, \"Weight_in_lbs\": 4294, \"Acceleration\": 16.0, \"Year\": \"1972-01-01T00:00:00\", \"Origin\": \"USA\"}, {\"Name\": \"plymouth satellite custom (sw)\", \"Miles_per_Gallon\": 14.0, \"Cylinders\": 8, \"Displacement\": 318.0, \"Horsepower\": 150.0, \"Weight_in_lbs\": 4077, \"Acceleration\": 14.0, \"Year\": \"1972-01-01T00:00:00\", \"Origin\": \"USA\"}, {\"Name\": \"volvo 145e (sw)\", \"Miles_per_Gallon\": 18.0, \"Cylinders\": 4, \"Displacement\": 121.0, \"Horsepower\": 112.0, \"Weight_in_lbs\": 2933, \"Acceleration\": 14.5, \"Year\": \"1972-01-01T00:00:00\", \"Origin\": \"Europe\"}, {\"Name\": \"volkswagen 411 (sw)\", \"Miles_per_Gallon\": 22.0, \"Cylinders\": 4, \"Displacement\": 121.0, \"Horsepower\": 76.0, \"Weight_in_lbs\": 2511, \"Acceleration\": 18.0, \"Year\": \"1972-01-01T00:00:00\", \"Origin\": \"Europe\"}, {\"Name\": \"peugeot 504 (sw)\", \"Miles_per_Gallon\": 21.0, \"Cylinders\": 4, \"Displacement\": 120.0, \"Horsepower\": 87.0, \"Weight_in_lbs\": 2979, \"Acceleration\": 19.5, \"Year\": \"1972-01-01T00:00:00\", \"Origin\": \"Europe\"}, {\"Name\": \"renault 12 (sw)\", \"Miles_per_Gallon\": 26.0, \"Cylinders\": 4, \"Displacement\": 96.0, \"Horsepower\": 69.0, \"Weight_in_lbs\": 2189, \"Acceleration\": 18.0, \"Year\": \"1972-01-01T00:00:00\", \"Origin\": \"Europe\"}, {\"Name\": \"ford pinto (sw)\", \"Miles_per_Gallon\": 22.0, \"Cylinders\": 4, \"Displacement\": 122.0, \"Horsepower\": 86.0, \"Weight_in_lbs\": 2395, \"Acceleration\": 16.0, \"Year\": \"1972-01-01T00:00:00\", \"Origin\": \"USA\"}, {\"Name\": \"datsun 510 (sw)\", \"Miles_per_Gallon\": 28.0, \"Cylinders\": 4, \"Displacement\": 97.0, \"Horsepower\": 92.0, \"Weight_in_lbs\": 2288, \"Acceleration\": 17.0, \"Year\": \"1972-01-01T00:00:00\", \"Origin\": \"Japan\"}, {\"Name\": \"toyouta corona mark ii (sw)\", \"Miles_per_Gallon\": 23.0, \"Cylinders\": 4, \"Displacement\": 120.0, \"Horsepower\": 97.0, \"Weight_in_lbs\": 2506, \"Acceleration\": 14.5, \"Year\": \"1972-01-01T00:00:00\", \"Origin\": \"Japan\"}, {\"Name\": \"dodge colt (sw)\", \"Miles_per_Gallon\": 28.0, \"Cylinders\": 4, \"Displacement\": 98.0, \"Horsepower\": 80.0, \"Weight_in_lbs\": 2164, \"Acceleration\": 15.0, \"Year\": \"1972-01-01T00:00:00\", \"Origin\": \"USA\"}, {\"Name\": \"toyota corolla 1600 (sw)\", \"Miles_per_Gallon\": 27.0, \"Cylinders\": 4, \"Displacement\": 97.0, \"Horsepower\": 88.0, \"Weight_in_lbs\": 2100, \"Acceleration\": 16.5, \"Year\": \"1972-01-01T00:00:00\", \"Origin\": \"Japan\"}, {\"Name\": \"buick century 350\", \"Miles_per_Gallon\": 13.0, \"Cylinders\": 8, \"Displacement\": 350.0, \"Horsepower\": 175.0, \"Weight_in_lbs\": 4100, \"Acceleration\": 13.0, \"Year\": \"1973-01-01T00:00:00\", \"Origin\": \"USA\"}, {\"Name\": \"amc matador\", \"Miles_per_Gallon\": 14.0, \"Cylinders\": 8, \"Displacement\": 304.0, \"Horsepower\": 150.0, \"Weight_in_lbs\": 3672, \"Acceleration\": 11.5, \"Year\": \"1973-01-01T00:00:00\", \"Origin\": \"USA\"}, {\"Name\": \"chevrolet malibu\", \"Miles_per_Gallon\": 13.0, \"Cylinders\": 8, \"Displacement\": 350.0, \"Horsepower\": 145.0, \"Weight_in_lbs\": 3988, \"Acceleration\": 13.0, \"Year\": \"1973-01-01T00:00:00\", \"Origin\": \"USA\"}, {\"Name\": \"ford gran torino\", \"Miles_per_Gallon\": 14.0, \"Cylinders\": 8, \"Displacement\": 302.0, \"Horsepower\": 137.0, \"Weight_in_lbs\": 4042, \"Acceleration\": 14.5, \"Year\": \"1973-01-01T00:00:00\", \"Origin\": \"USA\"}, {\"Name\": \"dodge coronet custom\", \"Miles_per_Gallon\": 15.0, \"Cylinders\": 8, \"Displacement\": 318.0, \"Horsepower\": 150.0, \"Weight_in_lbs\": 3777, \"Acceleration\": 12.5, \"Year\": \"1973-01-01T00:00:00\", \"Origin\": \"USA\"}, {\"Name\": \"mercury marquis brougham\", \"Miles_per_Gallon\": 12.0, \"Cylinders\": 8, \"Displacement\": 429.0, \"Horsepower\": 198.0, \"Weight_in_lbs\": 4952, \"Acceleration\": 11.5, \"Year\": \"1973-01-01T00:00:00\", \"Origin\": \"USA\"}, {\"Name\": \"chevrolet caprice classic\", \"Miles_per_Gallon\": 13.0, \"Cylinders\": 8, \"Displacement\": 400.0, \"Horsepower\": 150.0, \"Weight_in_lbs\": 4464, \"Acceleration\": 12.0, \"Year\": \"1973-01-01T00:00:00\", \"Origin\": \"USA\"}, {\"Name\": \"ford ltd\", \"Miles_per_Gallon\": 13.0, \"Cylinders\": 8, \"Displacement\": 351.0, \"Horsepower\": 158.0, \"Weight_in_lbs\": 4363, \"Acceleration\": 13.0, \"Year\": \"1973-01-01T00:00:00\", \"Origin\": \"USA\"}, {\"Name\": \"plymouth fury gran sedan\", \"Miles_per_Gallon\": 14.0, \"Cylinders\": 8, \"Displacement\": 318.0, \"Horsepower\": 150.0, \"Weight_in_lbs\": 4237, \"Acceleration\": 14.5, \"Year\": \"1973-01-01T00:00:00\", \"Origin\": \"USA\"}, {\"Name\": \"chrysler new yorker brougham\", \"Miles_per_Gallon\": 13.0, \"Cylinders\": 8, \"Displacement\": 440.0, \"Horsepower\": 215.0, \"Weight_in_lbs\": 4735, \"Acceleration\": 11.0, \"Year\": \"1973-01-01T00:00:00\", \"Origin\": \"USA\"}, {\"Name\": \"buick electra 225 custom\", \"Miles_per_Gallon\": 12.0, \"Cylinders\": 8, \"Displacement\": 455.0, \"Horsepower\": 225.0, \"Weight_in_lbs\": 4951, \"Acceleration\": 11.0, \"Year\": \"1973-01-01T00:00:00\", \"Origin\": \"USA\"}, {\"Name\": \"amc ambassador brougham\", \"Miles_per_Gallon\": 13.0, \"Cylinders\": 8, \"Displacement\": 360.0, \"Horsepower\": 175.0, \"Weight_in_lbs\": 3821, \"Acceleration\": 11.0, \"Year\": \"1973-01-01T00:00:00\", \"Origin\": \"USA\"}, {\"Name\": \"plymouth valiant\", \"Miles_per_Gallon\": 18.0, \"Cylinders\": 6, \"Displacement\": 225.0, \"Horsepower\": 105.0, \"Weight_in_lbs\": 3121, \"Acceleration\": 16.5, \"Year\": \"1973-01-01T00:00:00\", \"Origin\": \"USA\"}, {\"Name\": \"chevrolet nova custom\", \"Miles_per_Gallon\": 16.0, \"Cylinders\": 6, \"Displacement\": 250.0, \"Horsepower\": 100.0, \"Weight_in_lbs\": 3278, \"Acceleration\": 18.0, \"Year\": \"1973-01-01T00:00:00\", \"Origin\": \"USA\"}, {\"Name\": \"amc hornet\", \"Miles_per_Gallon\": 18.0, \"Cylinders\": 6, \"Displacement\": 232.0, \"Horsepower\": 100.0, \"Weight_in_lbs\": 2945, \"Acceleration\": 16.0, \"Year\": \"1973-01-01T00:00:00\", \"Origin\": \"USA\"}, {\"Name\": \"ford maverick\", \"Miles_per_Gallon\": 18.0, \"Cylinders\": 6, \"Displacement\": 250.0, \"Horsepower\": 88.0, \"Weight_in_lbs\": 3021, \"Acceleration\": 16.5, \"Year\": \"1973-01-01T00:00:00\", \"Origin\": \"USA\"}, {\"Name\": \"plymouth duster\", \"Miles_per_Gallon\": 23.0, \"Cylinders\": 6, \"Displacement\": 198.0, \"Horsepower\": 95.0, \"Weight_in_lbs\": 2904, \"Acceleration\": 16.0, \"Year\": \"1973-01-01T00:00:00\", \"Origin\": \"USA\"}, {\"Name\": \"volkswagen super beetle\", \"Miles_per_Gallon\": 26.0, \"Cylinders\": 4, \"Displacement\": 97.0, \"Horsepower\": 46.0, \"Weight_in_lbs\": 1950, \"Acceleration\": 21.0, \"Year\": \"1973-01-01T00:00:00\", \"Origin\": \"Europe\"}, {\"Name\": \"chevrolet impala\", \"Miles_per_Gallon\": 11.0, \"Cylinders\": 8, \"Displacement\": 400.0, \"Horsepower\": 150.0, \"Weight_in_lbs\": 4997, \"Acceleration\": 14.0, \"Year\": \"1973-01-01T00:00:00\", \"Origin\": \"USA\"}, {\"Name\": \"ford country\", \"Miles_per_Gallon\": 12.0, \"Cylinders\": 8, \"Displacement\": 400.0, \"Horsepower\": 167.0, \"Weight_in_lbs\": 4906, \"Acceleration\": 12.5, \"Year\": \"1973-01-01T00:00:00\", \"Origin\": \"USA\"}, {\"Name\": \"plymouth custom suburb\", \"Miles_per_Gallon\": 13.0, \"Cylinders\": 8, \"Displacement\": 360.0, \"Horsepower\": 170.0, \"Weight_in_lbs\": 4654, \"Acceleration\": 13.0, \"Year\": \"1973-01-01T00:00:00\", \"Origin\": \"USA\"}, {\"Name\": \"oldsmobile vista cruiser\", \"Miles_per_Gallon\": 12.0, \"Cylinders\": 8, \"Displacement\": 350.0, \"Horsepower\": 180.0, \"Weight_in_lbs\": 4499, \"Acceleration\": 12.5, \"Year\": \"1973-01-01T00:00:00\", \"Origin\": \"USA\"}, {\"Name\": \"amc gremlin\", \"Miles_per_Gallon\": 18.0, \"Cylinders\": 6, \"Displacement\": 232.0, \"Horsepower\": 100.0, \"Weight_in_lbs\": 2789, \"Acceleration\": 15.0, \"Year\": \"1973-01-01T00:00:00\", \"Origin\": \"USA\"}, {\"Name\": \"toyota carina\", \"Miles_per_Gallon\": 20.0, \"Cylinders\": 4, \"Displacement\": 97.0, \"Horsepower\": 88.0, \"Weight_in_lbs\": 2279, \"Acceleration\": 19.0, \"Year\": \"1973-01-01T00:00:00\", \"Origin\": \"Japan\"}, {\"Name\": \"chevrolet vega\", \"Miles_per_Gallon\": 21.0, \"Cylinders\": 4, \"Displacement\": 140.0, \"Horsepower\": 72.0, \"Weight_in_lbs\": 2401, \"Acceleration\": 19.5, \"Year\": \"1973-01-01T00:00:00\", \"Origin\": \"USA\"}, {\"Name\": \"datsun 610\", \"Miles_per_Gallon\": 22.0, \"Cylinders\": 4, \"Displacement\": 108.0, \"Horsepower\": 94.0, \"Weight_in_lbs\": 2379, \"Acceleration\": 16.5, \"Year\": \"1973-01-01T00:00:00\", \"Origin\": \"Japan\"}, {\"Name\": \"maxda rx3\", \"Miles_per_Gallon\": 18.0, \"Cylinders\": 3, \"Displacement\": 70.0, \"Horsepower\": 90.0, \"Weight_in_lbs\": 2124, \"Acceleration\": 13.5, \"Year\": \"1973-01-01T00:00:00\", \"Origin\": \"Japan\"}, {\"Name\": \"ford pinto\", \"Miles_per_Gallon\": 19.0, \"Cylinders\": 4, \"Displacement\": 122.0, \"Horsepower\": 85.0, \"Weight_in_lbs\": 2310, \"Acceleration\": 18.5, \"Year\": \"1973-01-01T00:00:00\", \"Origin\": \"USA\"}, {\"Name\": \"mercury capri v6\", \"Miles_per_Gallon\": 21.0, \"Cylinders\": 6, \"Displacement\": 155.0, \"Horsepower\": 107.0, \"Weight_in_lbs\": 2472, \"Acceleration\": 14.0, \"Year\": \"1973-01-01T00:00:00\", \"Origin\": \"USA\"}, {\"Name\": \"fiat 124 sport coupe\", \"Miles_per_Gallon\": 26.0, \"Cylinders\": 4, \"Displacement\": 98.0, \"Horsepower\": 90.0, \"Weight_in_lbs\": 2265, \"Acceleration\": 15.5, \"Year\": \"1973-01-01T00:00:00\", \"Origin\": \"Europe\"}, {\"Name\": \"chevrolet monte carlo s\", \"Miles_per_Gallon\": 15.0, \"Cylinders\": 8, \"Displacement\": 350.0, \"Horsepower\": 145.0, \"Weight_in_lbs\": 4082, \"Acceleration\": 13.0, \"Year\": \"1973-01-01T00:00:00\", \"Origin\": \"USA\"}, {\"Name\": \"pontiac grand prix\", \"Miles_per_Gallon\": 16.0, \"Cylinders\": 8, \"Displacement\": 400.0, \"Horsepower\": 230.0, \"Weight_in_lbs\": 4278, \"Acceleration\": 9.5, \"Year\": \"1973-01-01T00:00:00\", \"Origin\": \"USA\"}, {\"Name\": \"fiat 128\", \"Miles_per_Gallon\": 29.0, \"Cylinders\": 4, \"Displacement\": 68.0, \"Horsepower\": 49.0, \"Weight_in_lbs\": 1867, \"Acceleration\": 19.5, \"Year\": \"1973-01-01T00:00:00\", \"Origin\": \"Europe\"}, {\"Name\": \"opel manta\", \"Miles_per_Gallon\": 24.0, \"Cylinders\": 4, \"Displacement\": 116.0, \"Horsepower\": 75.0, \"Weight_in_lbs\": 2158, \"Acceleration\": 15.5, \"Year\": \"1973-01-01T00:00:00\", \"Origin\": \"Europe\"}, {\"Name\": \"audi 100ls\", \"Miles_per_Gallon\": 20.0, \"Cylinders\": 4, \"Displacement\": 114.0, \"Horsepower\": 91.0, \"Weight_in_lbs\": 2582, \"Acceleration\": 14.0, \"Year\": \"1973-01-01T00:00:00\", \"Origin\": \"Europe\"}, {\"Name\": \"volvo 144ea\", \"Miles_per_Gallon\": 19.0, \"Cylinders\": 4, \"Displacement\": 121.0, \"Horsepower\": 112.0, \"Weight_in_lbs\": 2868, \"Acceleration\": 15.5, \"Year\": \"1973-01-01T00:00:00\", \"Origin\": \"Europe\"}, {\"Name\": \"dodge dart custom\", \"Miles_per_Gallon\": 15.0, \"Cylinders\": 8, \"Displacement\": 318.0, \"Horsepower\": 150.0, \"Weight_in_lbs\": 3399, \"Acceleration\": 11.0, \"Year\": \"1973-01-01T00:00:00\", \"Origin\": \"USA\"}, {\"Name\": \"saab 99le\", \"Miles_per_Gallon\": 24.0, \"Cylinders\": 4, \"Displacement\": 121.0, \"Horsepower\": 110.0, \"Weight_in_lbs\": 2660, \"Acceleration\": 14.0, \"Year\": \"1973-01-01T00:00:00\", \"Origin\": \"Europe\"}, {\"Name\": \"toyota mark ii\", \"Miles_per_Gallon\": 20.0, \"Cylinders\": 6, \"Displacement\": 156.0, \"Horsepower\": 122.0, \"Weight_in_lbs\": 2807, \"Acceleration\": 13.5, \"Year\": \"1973-01-01T00:00:00\", \"Origin\": \"Japan\"}, {\"Name\": \"oldsmobile omega\", \"Miles_per_Gallon\": 11.0, \"Cylinders\": 8, \"Displacement\": 350.0, \"Horsepower\": 180.0, \"Weight_in_lbs\": 3664, \"Acceleration\": 11.0, \"Year\": \"1973-01-01T00:00:00\", \"Origin\": \"USA\"}, {\"Name\": \"plymouth duster\", \"Miles_per_Gallon\": 20.0, \"Cylinders\": 6, \"Displacement\": 198.0, \"Horsepower\": 95.0, \"Weight_in_lbs\": 3102, \"Acceleration\": 16.5, \"Year\": \"1974-01-01T00:00:00\", \"Origin\": \"USA\"}, {\"Name\": \"ford maverick\", \"Miles_per_Gallon\": 21.0, \"Cylinders\": 6, \"Displacement\": 200.0, \"Horsepower\": null, \"Weight_in_lbs\": 2875, \"Acceleration\": 17.0, \"Year\": \"1974-01-01T00:00:00\", \"Origin\": \"USA\"}, {\"Name\": \"amc hornet\", \"Miles_per_Gallon\": 19.0, \"Cylinders\": 6, \"Displacement\": 232.0, \"Horsepower\": 100.0, \"Weight_in_lbs\": 2901, \"Acceleration\": 16.0, \"Year\": \"1974-01-01T00:00:00\", \"Origin\": \"USA\"}, {\"Name\": \"chevrolet nova\", \"Miles_per_Gallon\": 15.0, \"Cylinders\": 6, \"Displacement\": 250.0, \"Horsepower\": 100.0, \"Weight_in_lbs\": 3336, \"Acceleration\": 17.0, \"Year\": \"1974-01-01T00:00:00\", \"Origin\": \"USA\"}, {\"Name\": \"datsun b210\", \"Miles_per_Gallon\": 31.0, \"Cylinders\": 4, \"Displacement\": 79.0, \"Horsepower\": 67.0, \"Weight_in_lbs\": 1950, \"Acceleration\": 19.0, \"Year\": \"1974-01-01T00:00:00\", \"Origin\": \"Japan\"}, {\"Name\": \"ford pinto\", \"Miles_per_Gallon\": 26.0, \"Cylinders\": 4, \"Displacement\": 122.0, \"Horsepower\": 80.0, \"Weight_in_lbs\": 2451, \"Acceleration\": 16.5, \"Year\": \"1974-01-01T00:00:00\", \"Origin\": \"USA\"}, {\"Name\": \"toyota corolla 1200\", \"Miles_per_Gallon\": 32.0, \"Cylinders\": 4, \"Displacement\": 71.0, \"Horsepower\": 65.0, \"Weight_in_lbs\": 1836, \"Acceleration\": 21.0, \"Year\": \"1974-01-01T00:00:00\", \"Origin\": \"Japan\"}, {\"Name\": \"chevrolet vega\", \"Miles_per_Gallon\": 25.0, \"Cylinders\": 4, \"Displacement\": 140.0, \"Horsepower\": 75.0, \"Weight_in_lbs\": 2542, \"Acceleration\": 17.0, \"Year\": \"1974-01-01T00:00:00\", \"Origin\": \"USA\"}, {\"Name\": \"chevrolet chevelle malibu classic\", \"Miles_per_Gallon\": 16.0, \"Cylinders\": 6, \"Displacement\": 250.0, \"Horsepower\": 100.0, \"Weight_in_lbs\": 3781, \"Acceleration\": 17.0, \"Year\": \"1974-01-01T00:00:00\", \"Origin\": \"USA\"}, {\"Name\": \"amc matador\", \"Miles_per_Gallon\": 16.0, \"Cylinders\": 6, \"Displacement\": 258.0, \"Horsepower\": 110.0, \"Weight_in_lbs\": 3632, \"Acceleration\": 18.0, \"Year\": \"1974-01-01T00:00:00\", \"Origin\": \"USA\"}, {\"Name\": \"plymouth satellite sebring\", \"Miles_per_Gallon\": 18.0, \"Cylinders\": 6, \"Displacement\": 225.0, \"Horsepower\": 105.0, \"Weight_in_lbs\": 3613, \"Acceleration\": 16.5, \"Year\": \"1974-01-01T00:00:00\", \"Origin\": \"USA\"}, {\"Name\": \"ford gran torino\", \"Miles_per_Gallon\": 16.0, \"Cylinders\": 8, \"Displacement\": 302.0, \"Horsepower\": 140.0, \"Weight_in_lbs\": 4141, \"Acceleration\": 14.0, \"Year\": \"1974-01-01T00:00:00\", \"Origin\": \"USA\"}, {\"Name\": \"buick century luxus (sw)\", \"Miles_per_Gallon\": 13.0, \"Cylinders\": 8, \"Displacement\": 350.0, \"Horsepower\": 150.0, \"Weight_in_lbs\": 4699, \"Acceleration\": 14.5, \"Year\": \"1974-01-01T00:00:00\", \"Origin\": \"USA\"}, {\"Name\": \"dodge coronet custom (sw)\", \"Miles_per_Gallon\": 14.0, \"Cylinders\": 8, \"Displacement\": 318.0, \"Horsepower\": 150.0, \"Weight_in_lbs\": 4457, \"Acceleration\": 13.5, \"Year\": \"1974-01-01T00:00:00\", \"Origin\": \"USA\"}, {\"Name\": \"ford gran torino (sw)\", \"Miles_per_Gallon\": 14.0, \"Cylinders\": 8, \"Displacement\": 302.0, \"Horsepower\": 140.0, \"Weight_in_lbs\": 4638, \"Acceleration\": 16.0, \"Year\": \"1974-01-01T00:00:00\", \"Origin\": \"USA\"}, {\"Name\": \"amc matador (sw)\", \"Miles_per_Gallon\": 14.0, \"Cylinders\": 8, \"Displacement\": 304.0, \"Horsepower\": 150.0, \"Weight_in_lbs\": 4257, \"Acceleration\": 15.5, \"Year\": \"1974-01-01T00:00:00\", \"Origin\": \"USA\"}, {\"Name\": \"audi fox\", \"Miles_per_Gallon\": 29.0, \"Cylinders\": 4, \"Displacement\": 98.0, \"Horsepower\": 83.0, \"Weight_in_lbs\": 2219, \"Acceleration\": 16.5, \"Year\": \"1974-01-01T00:00:00\", \"Origin\": \"Europe\"}, {\"Name\": \"volkswagen dasher\", \"Miles_per_Gallon\": 26.0, \"Cylinders\": 4, \"Displacement\": 79.0, \"Horsepower\": 67.0, \"Weight_in_lbs\": 1963, \"Acceleration\": 15.5, \"Year\": \"1974-01-01T00:00:00\", \"Origin\": \"Europe\"}, {\"Name\": \"opel manta\", \"Miles_per_Gallon\": 26.0, \"Cylinders\": 4, \"Displacement\": 97.0, \"Horsepower\": 78.0, \"Weight_in_lbs\": 2300, \"Acceleration\": 14.5, \"Year\": \"1974-01-01T00:00:00\", \"Origin\": \"Europe\"}, {\"Name\": \"toyota corona\", \"Miles_per_Gallon\": 31.0, \"Cylinders\": 4, \"Displacement\": 76.0, \"Horsepower\": 52.0, \"Weight_in_lbs\": 1649, \"Acceleration\": 16.5, \"Year\": \"1974-01-01T00:00:00\", \"Origin\": \"Japan\"}, {\"Name\": \"datsun 710\", \"Miles_per_Gallon\": 32.0, \"Cylinders\": 4, \"Displacement\": 83.0, \"Horsepower\": 61.0, \"Weight_in_lbs\": 2003, \"Acceleration\": 19.0, \"Year\": \"1974-01-01T00:00:00\", \"Origin\": \"Japan\"}, {\"Name\": \"dodge colt\", \"Miles_per_Gallon\": 28.0, \"Cylinders\": 4, \"Displacement\": 90.0, \"Horsepower\": 75.0, \"Weight_in_lbs\": 2125, \"Acceleration\": 14.5, \"Year\": \"1974-01-01T00:00:00\", \"Origin\": \"USA\"}, {\"Name\": \"fiat 128\", \"Miles_per_Gallon\": 24.0, \"Cylinders\": 4, \"Displacement\": 90.0, \"Horsepower\": 75.0, \"Weight_in_lbs\": 2108, \"Acceleration\": 15.5, \"Year\": \"1974-01-01T00:00:00\", \"Origin\": \"Europe\"}, {\"Name\": \"fiat 124 tc\", \"Miles_per_Gallon\": 26.0, \"Cylinders\": 4, \"Displacement\": 116.0, \"Horsepower\": 75.0, \"Weight_in_lbs\": 2246, \"Acceleration\": 14.0, \"Year\": \"1974-01-01T00:00:00\", \"Origin\": \"Europe\"}, {\"Name\": \"honda civic\", \"Miles_per_Gallon\": 24.0, \"Cylinders\": 4, \"Displacement\": 120.0, \"Horsepower\": 97.0, \"Weight_in_lbs\": 2489, \"Acceleration\": 15.0, \"Year\": \"1974-01-01T00:00:00\", \"Origin\": \"Japan\"}, {\"Name\": \"subaru\", \"Miles_per_Gallon\": 26.0, \"Cylinders\": 4, \"Displacement\": 108.0, \"Horsepower\": 93.0, \"Weight_in_lbs\": 2391, \"Acceleration\": 15.5, \"Year\": \"1974-01-01T00:00:00\", \"Origin\": \"Japan\"}, {\"Name\": \"fiat x1.9\", \"Miles_per_Gallon\": 31.0, \"Cylinders\": 4, \"Displacement\": 79.0, \"Horsepower\": 67.0, \"Weight_in_lbs\": 2000, \"Acceleration\": 16.0, \"Year\": \"1974-01-01T00:00:00\", \"Origin\": \"Europe\"}, {\"Name\": \"plymouth valiant custom\", \"Miles_per_Gallon\": 19.0, \"Cylinders\": 6, \"Displacement\": 225.0, \"Horsepower\": 95.0, \"Weight_in_lbs\": 3264, \"Acceleration\": 16.0, \"Year\": \"1975-01-01T00:00:00\", \"Origin\": \"USA\"}, {\"Name\": \"chevrolet nova\", \"Miles_per_Gallon\": 18.0, \"Cylinders\": 6, \"Displacement\": 250.0, \"Horsepower\": 105.0, \"Weight_in_lbs\": 3459, \"Acceleration\": 16.0, \"Year\": \"1975-01-01T00:00:00\", \"Origin\": \"USA\"}, {\"Name\": \"mercury monarch\", \"Miles_per_Gallon\": 15.0, \"Cylinders\": 6, \"Displacement\": 250.0, \"Horsepower\": 72.0, \"Weight_in_lbs\": 3432, \"Acceleration\": 21.0, \"Year\": \"1975-01-01T00:00:00\", \"Origin\": \"USA\"}, {\"Name\": \"ford maverick\", \"Miles_per_Gallon\": 15.0, \"Cylinders\": 6, \"Displacement\": 250.0, \"Horsepower\": 72.0, \"Weight_in_lbs\": 3158, \"Acceleration\": 19.5, \"Year\": \"1975-01-01T00:00:00\", \"Origin\": \"USA\"}, {\"Name\": \"pontiac catalina\", \"Miles_per_Gallon\": 16.0, \"Cylinders\": 8, \"Displacement\": 400.0, \"Horsepower\": 170.0, \"Weight_in_lbs\": 4668, \"Acceleration\": 11.5, \"Year\": \"1975-01-01T00:00:00\", \"Origin\": \"USA\"}, {\"Name\": \"chevrolet bel air\", \"Miles_per_Gallon\": 15.0, \"Cylinders\": 8, \"Displacement\": 350.0, \"Horsepower\": 145.0, \"Weight_in_lbs\": 4440, \"Acceleration\": 14.0, \"Year\": \"1975-01-01T00:00:00\", \"Origin\": \"USA\"}, {\"Name\": \"plymouth grand fury\", \"Miles_per_Gallon\": 16.0, \"Cylinders\": 8, \"Displacement\": 318.0, \"Horsepower\": 150.0, \"Weight_in_lbs\": 4498, \"Acceleration\": 14.5, \"Year\": \"1975-01-01T00:00:00\", \"Origin\": \"USA\"}, {\"Name\": \"ford ltd\", \"Miles_per_Gallon\": 14.0, \"Cylinders\": 8, \"Displacement\": 351.0, \"Horsepower\": 148.0, \"Weight_in_lbs\": 4657, \"Acceleration\": 13.5, \"Year\": \"1975-01-01T00:00:00\", \"Origin\": \"USA\"}, {\"Name\": \"buick century\", \"Miles_per_Gallon\": 17.0, \"Cylinders\": 6, \"Displacement\": 231.0, \"Horsepower\": 110.0, \"Weight_in_lbs\": 3907, \"Acceleration\": 21.0, \"Year\": \"1975-01-01T00:00:00\", \"Origin\": \"USA\"}, {\"Name\": \"chevroelt chevelle malibu\", \"Miles_per_Gallon\": 16.0, \"Cylinders\": 6, \"Displacement\": 250.0, \"Horsepower\": 105.0, \"Weight_in_lbs\": 3897, \"Acceleration\": 18.5, \"Year\": \"1975-01-01T00:00:00\", \"Origin\": \"USA\"}, {\"Name\": \"amc matador\", \"Miles_per_Gallon\": 15.0, \"Cylinders\": 6, \"Displacement\": 258.0, \"Horsepower\": 110.0, \"Weight_in_lbs\": 3730, \"Acceleration\": 19.0, \"Year\": \"1975-01-01T00:00:00\", \"Origin\": \"USA\"}, {\"Name\": \"plymouth fury\", \"Miles_per_Gallon\": 18.0, \"Cylinders\": 6, \"Displacement\": 225.0, \"Horsepower\": 95.0, \"Weight_in_lbs\": 3785, \"Acceleration\": 19.0, \"Year\": \"1975-01-01T00:00:00\", \"Origin\": \"USA\"}, {\"Name\": \"buick skyhawk\", \"Miles_per_Gallon\": 21.0, \"Cylinders\": 6, \"Displacement\": 231.0, \"Horsepower\": 110.0, \"Weight_in_lbs\": 3039, \"Acceleration\": 15.0, \"Year\": \"1975-01-01T00:00:00\", \"Origin\": \"USA\"}, {\"Name\": \"chevrolet monza 2+2\", \"Miles_per_Gallon\": 20.0, \"Cylinders\": 8, \"Displacement\": 262.0, \"Horsepower\": 110.0, \"Weight_in_lbs\": 3221, \"Acceleration\": 13.5, \"Year\": \"1975-01-01T00:00:00\", \"Origin\": \"USA\"}, {\"Name\": \"ford mustang ii\", \"Miles_per_Gallon\": 13.0, \"Cylinders\": 8, \"Displacement\": 302.0, \"Horsepower\": 129.0, \"Weight_in_lbs\": 3169, \"Acceleration\": 12.0, \"Year\": \"1975-01-01T00:00:00\", \"Origin\": \"USA\"}, {\"Name\": \"toyota corolla\", \"Miles_per_Gallon\": 29.0, \"Cylinders\": 4, \"Displacement\": 97.0, \"Horsepower\": 75.0, \"Weight_in_lbs\": 2171, \"Acceleration\": 16.0, \"Year\": \"1975-01-01T00:00:00\", \"Origin\": \"Japan\"}, {\"Name\": \"ford pinto\", \"Miles_per_Gallon\": 23.0, \"Cylinders\": 4, \"Displacement\": 140.0, \"Horsepower\": 83.0, \"Weight_in_lbs\": 2639, \"Acceleration\": 17.0, \"Year\": \"1975-01-01T00:00:00\", \"Origin\": \"USA\"}, {\"Name\": \"amc gremlin\", \"Miles_per_Gallon\": 20.0, \"Cylinders\": 6, \"Displacement\": 232.0, \"Horsepower\": 100.0, \"Weight_in_lbs\": 2914, \"Acceleration\": 16.0, \"Year\": \"1975-01-01T00:00:00\", \"Origin\": \"USA\"}, {\"Name\": \"pontiac astro\", \"Miles_per_Gallon\": 23.0, \"Cylinders\": 4, \"Displacement\": 140.0, \"Horsepower\": 78.0, \"Weight_in_lbs\": 2592, \"Acceleration\": 18.5, \"Year\": \"1975-01-01T00:00:00\", \"Origin\": \"USA\"}, {\"Name\": \"toyota corona\", \"Miles_per_Gallon\": 24.0, \"Cylinders\": 4, \"Displacement\": 134.0, \"Horsepower\": 96.0, \"Weight_in_lbs\": 2702, \"Acceleration\": 13.5, \"Year\": \"1975-01-01T00:00:00\", \"Origin\": \"Japan\"}, {\"Name\": \"volkswagen dasher\", \"Miles_per_Gallon\": 25.0, \"Cylinders\": 4, \"Displacement\": 90.0, \"Horsepower\": 71.0, \"Weight_in_lbs\": 2223, \"Acceleration\": 16.5, \"Year\": \"1975-01-01T00:00:00\", \"Origin\": \"Europe\"}, {\"Name\": \"datsun 710\", \"Miles_per_Gallon\": 24.0, \"Cylinders\": 4, \"Displacement\": 119.0, \"Horsepower\": 97.0, \"Weight_in_lbs\": 2545, \"Acceleration\": 17.0, \"Year\": \"1975-01-01T00:00:00\", \"Origin\": \"Japan\"}, {\"Name\": \"ford pinto\", \"Miles_per_Gallon\": 18.0, \"Cylinders\": 6, \"Displacement\": 171.0, \"Horsepower\": 97.0, \"Weight_in_lbs\": 2984, \"Acceleration\": 14.5, \"Year\": \"1975-01-01T00:00:00\", \"Origin\": \"USA\"}, {\"Name\": \"volkswagen rabbit\", \"Miles_per_Gallon\": 29.0, \"Cylinders\": 4, \"Displacement\": 90.0, \"Horsepower\": 70.0, \"Weight_in_lbs\": 1937, \"Acceleration\": 14.0, \"Year\": \"1975-01-01T00:00:00\", \"Origin\": \"Europe\"}, {\"Name\": \"amc pacer\", \"Miles_per_Gallon\": 19.0, \"Cylinders\": 6, \"Displacement\": 232.0, \"Horsepower\": 90.0, \"Weight_in_lbs\": 3211, \"Acceleration\": 17.0, \"Year\": \"1975-01-01T00:00:00\", \"Origin\": \"USA\"}, {\"Name\": \"audi 100ls\", \"Miles_per_Gallon\": 23.0, \"Cylinders\": 4, \"Displacement\": 115.0, \"Horsepower\": 95.0, \"Weight_in_lbs\": 2694, \"Acceleration\": 15.0, \"Year\": \"1975-01-01T00:00:00\", \"Origin\": \"Europe\"}, {\"Name\": \"peugeot 504\", \"Miles_per_Gallon\": 23.0, \"Cylinders\": 4, \"Displacement\": 120.0, \"Horsepower\": 88.0, \"Weight_in_lbs\": 2957, \"Acceleration\": 17.0, \"Year\": \"1975-01-01T00:00:00\", \"Origin\": \"Europe\"}, {\"Name\": \"volvo 244dl\", \"Miles_per_Gallon\": 22.0, \"Cylinders\": 4, \"Displacement\": 121.0, \"Horsepower\": 98.0, \"Weight_in_lbs\": 2945, \"Acceleration\": 14.5, \"Year\": \"1975-01-01T00:00:00\", \"Origin\": \"Europe\"}, {\"Name\": \"saab 99le\", \"Miles_per_Gallon\": 25.0, \"Cylinders\": 4, \"Displacement\": 121.0, \"Horsepower\": 115.0, \"Weight_in_lbs\": 2671, \"Acceleration\": 13.5, \"Year\": \"1975-01-01T00:00:00\", \"Origin\": \"Europe\"}, {\"Name\": \"honda civic cvcc\", \"Miles_per_Gallon\": 33.0, \"Cylinders\": 4, \"Displacement\": 91.0, \"Horsepower\": 53.0, \"Weight_in_lbs\": 1795, \"Acceleration\": 17.5, \"Year\": \"1975-01-01T00:00:00\", \"Origin\": \"Japan\"}, {\"Name\": \"fiat 131\", \"Miles_per_Gallon\": 28.0, \"Cylinders\": 4, \"Displacement\": 107.0, \"Horsepower\": 86.0, \"Weight_in_lbs\": 2464, \"Acceleration\": 15.5, \"Year\": \"1976-01-01T00:00:00\", \"Origin\": \"Europe\"}, {\"Name\": \"opel 1900\", \"Miles_per_Gallon\": 25.0, \"Cylinders\": 4, \"Displacement\": 116.0, \"Horsepower\": 81.0, \"Weight_in_lbs\": 2220, \"Acceleration\": 16.9, \"Year\": \"1976-01-01T00:00:00\", \"Origin\": \"Europe\"}, {\"Name\": \"capri ii\", \"Miles_per_Gallon\": 25.0, \"Cylinders\": 4, \"Displacement\": 140.0, \"Horsepower\": 92.0, \"Weight_in_lbs\": 2572, \"Acceleration\": 14.9, \"Year\": \"1976-01-01T00:00:00\", \"Origin\": \"USA\"}, {\"Name\": \"dodge colt\", \"Miles_per_Gallon\": 26.0, \"Cylinders\": 4, \"Displacement\": 98.0, \"Horsepower\": 79.0, \"Weight_in_lbs\": 2255, \"Acceleration\": 17.7, \"Year\": \"1976-01-01T00:00:00\", \"Origin\": \"USA\"}, {\"Name\": \"renault 12tl\", \"Miles_per_Gallon\": 27.0, \"Cylinders\": 4, \"Displacement\": 101.0, \"Horsepower\": 83.0, \"Weight_in_lbs\": 2202, \"Acceleration\": 15.3, \"Year\": \"1976-01-01T00:00:00\", \"Origin\": \"Europe\"}, {\"Name\": \"chevrolet chevelle malibu classic\", \"Miles_per_Gallon\": 17.5, \"Cylinders\": 8, \"Displacement\": 305.0, \"Horsepower\": 140.0, \"Weight_in_lbs\": 4215, \"Acceleration\": 13.0, \"Year\": \"1976-01-01T00:00:00\", \"Origin\": \"USA\"}, {\"Name\": \"dodge coronet brougham\", \"Miles_per_Gallon\": 16.0, \"Cylinders\": 8, \"Displacement\": 318.0, \"Horsepower\": 150.0, \"Weight_in_lbs\": 4190, \"Acceleration\": 13.0, \"Year\": \"1976-01-01T00:00:00\", \"Origin\": \"USA\"}, {\"Name\": \"amc matador\", \"Miles_per_Gallon\": 15.5, \"Cylinders\": 8, \"Displacement\": 304.0, \"Horsepower\": 120.0, \"Weight_in_lbs\": 3962, \"Acceleration\": 13.9, \"Year\": \"1976-01-01T00:00:00\", \"Origin\": \"USA\"}, {\"Name\": \"ford gran torino\", \"Miles_per_Gallon\": 14.5, \"Cylinders\": 8, \"Displacement\": 351.0, \"Horsepower\": 152.0, \"Weight_in_lbs\": 4215, \"Acceleration\": 12.8, \"Year\": \"1976-01-01T00:00:00\", \"Origin\": \"USA\"}, {\"Name\": \"plymouth valiant\", \"Miles_per_Gallon\": 22.0, \"Cylinders\": 6, \"Displacement\": 225.0, \"Horsepower\": 100.0, \"Weight_in_lbs\": 3233, \"Acceleration\": 15.4, \"Year\": \"1976-01-01T00:00:00\", \"Origin\": \"USA\"}, {\"Name\": \"chevrolet nova\", \"Miles_per_Gallon\": 22.0, \"Cylinders\": 6, \"Displacement\": 250.0, \"Horsepower\": 105.0, \"Weight_in_lbs\": 3353, \"Acceleration\": 14.5, \"Year\": \"1976-01-01T00:00:00\", \"Origin\": \"USA\"}, {\"Name\": \"ford maverick\", \"Miles_per_Gallon\": 24.0, \"Cylinders\": 6, \"Displacement\": 200.0, \"Horsepower\": 81.0, \"Weight_in_lbs\": 3012, \"Acceleration\": 17.6, \"Year\": \"1976-01-01T00:00:00\", \"Origin\": \"USA\"}, {\"Name\": \"amc hornet\", \"Miles_per_Gallon\": 22.5, \"Cylinders\": 6, \"Displacement\": 232.0, \"Horsepower\": 90.0, \"Weight_in_lbs\": 3085, \"Acceleration\": 17.6, \"Year\": \"1976-01-01T00:00:00\", \"Origin\": \"USA\"}, {\"Name\": \"chevrolet chevette\", \"Miles_per_Gallon\": 29.0, \"Cylinders\": 4, \"Displacement\": 85.0, \"Horsepower\": 52.0, \"Weight_in_lbs\": 2035, \"Acceleration\": 22.2, \"Year\": \"1976-01-01T00:00:00\", \"Origin\": \"USA\"}, {\"Name\": \"chevrolet woody\", \"Miles_per_Gallon\": 24.5, \"Cylinders\": 4, \"Displacement\": 98.0, \"Horsepower\": 60.0, \"Weight_in_lbs\": 2164, \"Acceleration\": 22.1, \"Year\": \"1976-01-01T00:00:00\", \"Origin\": \"USA\"}, {\"Name\": \"vw rabbit\", \"Miles_per_Gallon\": 29.0, \"Cylinders\": 4, \"Displacement\": 90.0, \"Horsepower\": 70.0, \"Weight_in_lbs\": 1937, \"Acceleration\": 14.2, \"Year\": \"1976-01-01T00:00:00\", \"Origin\": \"Europe\"}, {\"Name\": \"honda civic\", \"Miles_per_Gallon\": 33.0, \"Cylinders\": 4, \"Displacement\": 91.0, \"Horsepower\": 53.0, \"Weight_in_lbs\": 1795, \"Acceleration\": 17.4, \"Year\": \"1976-01-01T00:00:00\", \"Origin\": \"Japan\"}, {\"Name\": \"dodge aspen se\", \"Miles_per_Gallon\": 20.0, \"Cylinders\": 6, \"Displacement\": 225.0, \"Horsepower\": 100.0, \"Weight_in_lbs\": 3651, \"Acceleration\": 17.7, \"Year\": \"1976-01-01T00:00:00\", \"Origin\": \"USA\"}, {\"Name\": \"ford granada ghia\", \"Miles_per_Gallon\": 18.0, \"Cylinders\": 6, \"Displacement\": 250.0, \"Horsepower\": 78.0, \"Weight_in_lbs\": 3574, \"Acceleration\": 21.0, \"Year\": \"1976-01-01T00:00:00\", \"Origin\": \"USA\"}, {\"Name\": \"pontiac ventura sj\", \"Miles_per_Gallon\": 18.5, \"Cylinders\": 6, \"Displacement\": 250.0, \"Horsepower\": 110.0, \"Weight_in_lbs\": 3645, \"Acceleration\": 16.2, \"Year\": \"1976-01-01T00:00:00\", \"Origin\": \"USA\"}, {\"Name\": \"amc pacer d/l\", \"Miles_per_Gallon\": 17.5, \"Cylinders\": 6, \"Displacement\": 258.0, \"Horsepower\": 95.0, \"Weight_in_lbs\": 3193, \"Acceleration\": 17.8, \"Year\": \"1976-01-01T00:00:00\", \"Origin\": \"USA\"}, {\"Name\": \"volkswagen rabbit\", \"Miles_per_Gallon\": 29.5, \"Cylinders\": 4, \"Displacement\": 97.0, \"Horsepower\": 71.0, \"Weight_in_lbs\": 1825, \"Acceleration\": 12.2, \"Year\": \"1976-01-01T00:00:00\", \"Origin\": \"Europe\"}, {\"Name\": \"datsun b-210\", \"Miles_per_Gallon\": 32.0, \"Cylinders\": 4, \"Displacement\": 85.0, \"Horsepower\": 70.0, \"Weight_in_lbs\": 1990, \"Acceleration\": 17.0, \"Year\": \"1976-01-01T00:00:00\", \"Origin\": \"Japan\"}, {\"Name\": \"toyota corolla\", \"Miles_per_Gallon\": 28.0, \"Cylinders\": 4, \"Displacement\": 97.0, \"Horsepower\": 75.0, \"Weight_in_lbs\": 2155, \"Acceleration\": 16.4, \"Year\": \"1976-01-01T00:00:00\", \"Origin\": \"Japan\"}, {\"Name\": \"ford pinto\", \"Miles_per_Gallon\": 26.5, \"Cylinders\": 4, \"Displacement\": 140.0, \"Horsepower\": 72.0, \"Weight_in_lbs\": 2565, \"Acceleration\": 13.6, \"Year\": \"1976-01-01T00:00:00\", \"Origin\": \"USA\"}, {\"Name\": \"volvo 245\", \"Miles_per_Gallon\": 20.0, \"Cylinders\": 4, \"Displacement\": 130.0, \"Horsepower\": 102.0, \"Weight_in_lbs\": 3150, \"Acceleration\": 15.7, \"Year\": \"1976-01-01T00:00:00\", \"Origin\": \"Europe\"}, {\"Name\": \"plymouth volare premier v8\", \"Miles_per_Gallon\": 13.0, \"Cylinders\": 8, \"Displacement\": 318.0, \"Horsepower\": 150.0, \"Weight_in_lbs\": 3940, \"Acceleration\": 13.2, \"Year\": \"1976-01-01T00:00:00\", \"Origin\": \"USA\"}, {\"Name\": \"peugeot 504\", \"Miles_per_Gallon\": 19.0, \"Cylinders\": 4, \"Displacement\": 120.0, \"Horsepower\": 88.0, \"Weight_in_lbs\": 3270, \"Acceleration\": 21.9, \"Year\": \"1976-01-01T00:00:00\", \"Origin\": \"Europe\"}, {\"Name\": \"toyota mark ii\", \"Miles_per_Gallon\": 19.0, \"Cylinders\": 6, \"Displacement\": 156.0, \"Horsepower\": 108.0, \"Weight_in_lbs\": 2930, \"Acceleration\": 15.5, \"Year\": \"1976-01-01T00:00:00\", \"Origin\": \"Japan\"}, {\"Name\": \"mercedes-benz 280s\", \"Miles_per_Gallon\": 16.5, \"Cylinders\": 6, \"Displacement\": 168.0, \"Horsepower\": 120.0, \"Weight_in_lbs\": 3820, \"Acceleration\": 16.7, \"Year\": \"1976-01-01T00:00:00\", \"Origin\": \"Europe\"}, {\"Name\": \"cadillac seville\", \"Miles_per_Gallon\": 16.5, \"Cylinders\": 8, \"Displacement\": 350.0, \"Horsepower\": 180.0, \"Weight_in_lbs\": 4380, \"Acceleration\": 12.1, \"Year\": \"1976-01-01T00:00:00\", \"Origin\": \"USA\"}, {\"Name\": \"chevy c10\", \"Miles_per_Gallon\": 13.0, \"Cylinders\": 8, \"Displacement\": 350.0, \"Horsepower\": 145.0, \"Weight_in_lbs\": 4055, \"Acceleration\": 12.0, \"Year\": \"1976-01-01T00:00:00\", \"Origin\": \"USA\"}, {\"Name\": \"ford f108\", \"Miles_per_Gallon\": 13.0, \"Cylinders\": 8, \"Displacement\": 302.0, \"Horsepower\": 130.0, \"Weight_in_lbs\": 3870, \"Acceleration\": 15.0, \"Year\": \"1976-01-01T00:00:00\", \"Origin\": \"USA\"}, {\"Name\": \"dodge d100\", \"Miles_per_Gallon\": 13.0, \"Cylinders\": 8, \"Displacement\": 318.0, \"Horsepower\": 150.0, \"Weight_in_lbs\": 3755, \"Acceleration\": 14.0, \"Year\": \"1976-01-01T00:00:00\", \"Origin\": \"USA\"}, {\"Name\": \"honda Accelerationord cvcc\", \"Miles_per_Gallon\": 31.5, \"Cylinders\": 4, \"Displacement\": 98.0, \"Horsepower\": 68.0, \"Weight_in_lbs\": 2045, \"Acceleration\": 18.5, \"Year\": \"1977-01-01T00:00:00\", \"Origin\": \"Japan\"}, {\"Name\": \"buick opel isuzu deluxe\", \"Miles_per_Gallon\": 30.0, \"Cylinders\": 4, \"Displacement\": 111.0, \"Horsepower\": 80.0, \"Weight_in_lbs\": 2155, \"Acceleration\": 14.8, \"Year\": \"1977-01-01T00:00:00\", \"Origin\": \"USA\"}, {\"Name\": \"renault 5 gtl\", \"Miles_per_Gallon\": 36.0, \"Cylinders\": 4, \"Displacement\": 79.0, \"Horsepower\": 58.0, \"Weight_in_lbs\": 1825, \"Acceleration\": 18.6, \"Year\": \"1977-01-01T00:00:00\", \"Origin\": \"Europe\"}, {\"Name\": \"plymouth arrow gs\", \"Miles_per_Gallon\": 25.5, \"Cylinders\": 4, \"Displacement\": 122.0, \"Horsepower\": 96.0, \"Weight_in_lbs\": 2300, \"Acceleration\": 15.5, \"Year\": \"1977-01-01T00:00:00\", \"Origin\": \"USA\"}, {\"Name\": \"datsun f-10 hatchback\", \"Miles_per_Gallon\": 33.5, \"Cylinders\": 4, \"Displacement\": 85.0, \"Horsepower\": 70.0, \"Weight_in_lbs\": 1945, \"Acceleration\": 16.8, \"Year\": \"1977-01-01T00:00:00\", \"Origin\": \"Japan\"}, {\"Name\": \"chevrolet caprice classic\", \"Miles_per_Gallon\": 17.5, \"Cylinders\": 8, \"Displacement\": 305.0, \"Horsepower\": 145.0, \"Weight_in_lbs\": 3880, \"Acceleration\": 12.5, \"Year\": \"1977-01-01T00:00:00\", \"Origin\": \"USA\"}, {\"Name\": \"oldsmobile cutlass supreme\", \"Miles_per_Gallon\": 17.0, \"Cylinders\": 8, \"Displacement\": 260.0, \"Horsepower\": 110.0, \"Weight_in_lbs\": 4060, \"Acceleration\": 19.0, \"Year\": \"1977-01-01T00:00:00\", \"Origin\": \"USA\"}, {\"Name\": \"dodge monaco brougham\", \"Miles_per_Gallon\": 15.5, \"Cylinders\": 8, \"Displacement\": 318.0, \"Horsepower\": 145.0, \"Weight_in_lbs\": 4140, \"Acceleration\": 13.7, \"Year\": \"1977-01-01T00:00:00\", \"Origin\": \"USA\"}, {\"Name\": \"mercury cougar brougham\", \"Miles_per_Gallon\": 15.0, \"Cylinders\": 8, \"Displacement\": 302.0, \"Horsepower\": 130.0, \"Weight_in_lbs\": 4295, \"Acceleration\": 14.9, \"Year\": \"1977-01-01T00:00:00\", \"Origin\": \"USA\"}, {\"Name\": \"chevrolet concours\", \"Miles_per_Gallon\": 17.5, \"Cylinders\": 6, \"Displacement\": 250.0, \"Horsepower\": 110.0, \"Weight_in_lbs\": 3520, \"Acceleration\": 16.4, \"Year\": \"1977-01-01T00:00:00\", \"Origin\": \"USA\"}, {\"Name\": \"buick skylark\", \"Miles_per_Gallon\": 20.5, \"Cylinders\": 6, \"Displacement\": 231.0, \"Horsepower\": 105.0, \"Weight_in_lbs\": 3425, \"Acceleration\": 16.9, \"Year\": \"1977-01-01T00:00:00\", \"Origin\": \"USA\"}, {\"Name\": \"plymouth volare custom\", \"Miles_per_Gallon\": 19.0, \"Cylinders\": 6, \"Displacement\": 225.0, \"Horsepower\": 100.0, \"Weight_in_lbs\": 3630, \"Acceleration\": 17.7, \"Year\": \"1977-01-01T00:00:00\", \"Origin\": \"USA\"}, {\"Name\": \"ford granada\", \"Miles_per_Gallon\": 18.5, \"Cylinders\": 6, \"Displacement\": 250.0, \"Horsepower\": 98.0, \"Weight_in_lbs\": 3525, \"Acceleration\": 19.0, \"Year\": \"1977-01-01T00:00:00\", \"Origin\": \"USA\"}, {\"Name\": \"pontiac grand prix lj\", \"Miles_per_Gallon\": 16.0, \"Cylinders\": 8, \"Displacement\": 400.0, \"Horsepower\": 180.0, \"Weight_in_lbs\": 4220, \"Acceleration\": 11.1, \"Year\": \"1977-01-01T00:00:00\", \"Origin\": \"USA\"}, {\"Name\": \"chevrolet monte carlo landau\", \"Miles_per_Gallon\": 15.5, \"Cylinders\": 8, \"Displacement\": 350.0, \"Horsepower\": 170.0, \"Weight_in_lbs\": 4165, \"Acceleration\": 11.4, \"Year\": \"1977-01-01T00:00:00\", \"Origin\": \"USA\"}, {\"Name\": \"chrysler cordoba\", \"Miles_per_Gallon\": 15.5, \"Cylinders\": 8, \"Displacement\": 400.0, \"Horsepower\": 190.0, \"Weight_in_lbs\": 4325, \"Acceleration\": 12.2, \"Year\": \"1977-01-01T00:00:00\", \"Origin\": \"USA\"}, {\"Name\": \"ford thunderbird\", \"Miles_per_Gallon\": 16.0, \"Cylinders\": 8, \"Displacement\": 351.0, \"Horsepower\": 149.0, \"Weight_in_lbs\": 4335, \"Acceleration\": 14.5, \"Year\": \"1977-01-01T00:00:00\", \"Origin\": \"USA\"}, {\"Name\": \"volkswagen rabbit custom\", \"Miles_per_Gallon\": 29.0, \"Cylinders\": 4, \"Displacement\": 97.0, \"Horsepower\": 78.0, \"Weight_in_lbs\": 1940, \"Acceleration\": 14.5, \"Year\": \"1977-01-01T00:00:00\", \"Origin\": \"Europe\"}, {\"Name\": \"pontiac sunbird coupe\", \"Miles_per_Gallon\": 24.5, \"Cylinders\": 4, \"Displacement\": 151.0, \"Horsepower\": 88.0, \"Weight_in_lbs\": 2740, \"Acceleration\": 16.0, \"Year\": \"1977-01-01T00:00:00\", \"Origin\": \"USA\"}, {\"Name\": \"toyota corolla liftback\", \"Miles_per_Gallon\": 26.0, \"Cylinders\": 4, \"Displacement\": 97.0, \"Horsepower\": 75.0, \"Weight_in_lbs\": 2265, \"Acceleration\": 18.2, \"Year\": \"1977-01-01T00:00:00\", \"Origin\": \"Japan\"}, {\"Name\": \"ford mustang ii 2+2\", \"Miles_per_Gallon\": 25.5, \"Cylinders\": 4, \"Displacement\": 140.0, \"Horsepower\": 89.0, \"Weight_in_lbs\": 2755, \"Acceleration\": 15.8, \"Year\": \"1977-01-01T00:00:00\", \"Origin\": \"USA\"}, {\"Name\": \"chevrolet chevette\", \"Miles_per_Gallon\": 30.5, \"Cylinders\": 4, \"Displacement\": 98.0, \"Horsepower\": 63.0, \"Weight_in_lbs\": 2051, \"Acceleration\": 17.0, \"Year\": \"1977-01-01T00:00:00\", \"Origin\": \"USA\"}, {\"Name\": \"dodge colt m/m\", \"Miles_per_Gallon\": 33.5, \"Cylinders\": 4, \"Displacement\": 98.0, \"Horsepower\": 83.0, \"Weight_in_lbs\": 2075, \"Acceleration\": 15.9, \"Year\": \"1977-01-01T00:00:00\", \"Origin\": \"USA\"}, {\"Name\": \"subaru dl\", \"Miles_per_Gallon\": 30.0, \"Cylinders\": 4, \"Displacement\": 97.0, \"Horsepower\": 67.0, \"Weight_in_lbs\": 1985, \"Acceleration\": 16.4, \"Year\": \"1977-01-01T00:00:00\", \"Origin\": \"Japan\"}, {\"Name\": \"volkswagen dasher\", \"Miles_per_Gallon\": 30.5, \"Cylinders\": 4, \"Displacement\": 97.0, \"Horsepower\": 78.0, \"Weight_in_lbs\": 2190, \"Acceleration\": 14.1, \"Year\": \"1977-01-01T00:00:00\", \"Origin\": \"Europe\"}, {\"Name\": \"datsun 810\", \"Miles_per_Gallon\": 22.0, \"Cylinders\": 6, \"Displacement\": 146.0, \"Horsepower\": 97.0, \"Weight_in_lbs\": 2815, \"Acceleration\": 14.5, \"Year\": \"1977-01-01T00:00:00\", \"Origin\": \"Japan\"}, {\"Name\": \"bmw 320i\", \"Miles_per_Gallon\": 21.5, \"Cylinders\": 4, \"Displacement\": 121.0, \"Horsepower\": 110.0, \"Weight_in_lbs\": 2600, \"Acceleration\": 12.8, \"Year\": \"1977-01-01T00:00:00\", \"Origin\": \"Europe\"}, {\"Name\": \"mazda rx-4\", \"Miles_per_Gallon\": 21.5, \"Cylinders\": 3, \"Displacement\": 80.0, \"Horsepower\": 110.0, \"Weight_in_lbs\": 2720, \"Acceleration\": 13.5, \"Year\": \"1977-01-01T00:00:00\", \"Origin\": \"Japan\"}, {\"Name\": \"volkswagen rabbit custom diesel\", \"Miles_per_Gallon\": 43.1, \"Cylinders\": 4, \"Displacement\": 90.0, \"Horsepower\": 48.0, \"Weight_in_lbs\": 1985, \"Acceleration\": 21.5, \"Year\": \"1978-01-01T00:00:00\", \"Origin\": \"Europe\"}, {\"Name\": \"ford fiesta\", \"Miles_per_Gallon\": 36.1, \"Cylinders\": 4, \"Displacement\": 98.0, \"Horsepower\": 66.0, \"Weight_in_lbs\": 1800, \"Acceleration\": 14.4, \"Year\": \"1978-01-01T00:00:00\", \"Origin\": \"USA\"}, {\"Name\": \"mazda glc deluxe\", \"Miles_per_Gallon\": 32.8, \"Cylinders\": 4, \"Displacement\": 78.0, \"Horsepower\": 52.0, \"Weight_in_lbs\": 1985, \"Acceleration\": 19.4, \"Year\": \"1978-01-01T00:00:00\", \"Origin\": \"Japan\"}, {\"Name\": \"datsun b210 gx\", \"Miles_per_Gallon\": 39.4, \"Cylinders\": 4, \"Displacement\": 85.0, \"Horsepower\": 70.0, \"Weight_in_lbs\": 2070, \"Acceleration\": 18.6, \"Year\": \"1978-01-01T00:00:00\", \"Origin\": \"Japan\"}, {\"Name\": \"honda civic cvcc\", \"Miles_per_Gallon\": 36.1, \"Cylinders\": 4, \"Displacement\": 91.0, \"Horsepower\": 60.0, \"Weight_in_lbs\": 1800, \"Acceleration\": 16.4, \"Year\": \"1978-01-01T00:00:00\", \"Origin\": \"Japan\"}, {\"Name\": \"oldsmobile cutlass salon brougham\", \"Miles_per_Gallon\": 19.9, \"Cylinders\": 8, \"Displacement\": 260.0, \"Horsepower\": 110.0, \"Weight_in_lbs\": 3365, \"Acceleration\": 15.5, \"Year\": \"1978-01-01T00:00:00\", \"Origin\": \"USA\"}, {\"Name\": \"dodge diplomat\", \"Miles_per_Gallon\": 19.4, \"Cylinders\": 8, \"Displacement\": 318.0, \"Horsepower\": 140.0, \"Weight_in_lbs\": 3735, \"Acceleration\": 13.2, \"Year\": \"1978-01-01T00:00:00\", \"Origin\": \"USA\"}, {\"Name\": \"mercury monarch ghia\", \"Miles_per_Gallon\": 20.2, \"Cylinders\": 8, \"Displacement\": 302.0, \"Horsepower\": 139.0, \"Weight_in_lbs\": 3570, \"Acceleration\": 12.8, \"Year\": \"1978-01-01T00:00:00\", \"Origin\": \"USA\"}, {\"Name\": \"pontiac phoenix lj\", \"Miles_per_Gallon\": 19.2, \"Cylinders\": 6, \"Displacement\": 231.0, \"Horsepower\": 105.0, \"Weight_in_lbs\": 3535, \"Acceleration\": 19.2, \"Year\": \"1978-01-01T00:00:00\", \"Origin\": \"USA\"}, {\"Name\": \"chevrolet malibu\", \"Miles_per_Gallon\": 20.5, \"Cylinders\": 6, \"Displacement\": 200.0, \"Horsepower\": 95.0, \"Weight_in_lbs\": 3155, \"Acceleration\": 18.2, \"Year\": \"1978-01-01T00:00:00\", \"Origin\": \"USA\"}, {\"Name\": \"ford fairmont (auto)\", \"Miles_per_Gallon\": 20.2, \"Cylinders\": 6, \"Displacement\": 200.0, \"Horsepower\": 85.0, \"Weight_in_lbs\": 2965, \"Acceleration\": 15.8, \"Year\": \"1978-01-01T00:00:00\", \"Origin\": \"USA\"}, {\"Name\": \"ford fairmont (man)\", \"Miles_per_Gallon\": 25.1, \"Cylinders\": 4, \"Displacement\": 140.0, \"Horsepower\": 88.0, \"Weight_in_lbs\": 2720, \"Acceleration\": 15.4, \"Year\": \"1978-01-01T00:00:00\", \"Origin\": \"USA\"}, {\"Name\": \"plymouth volare\", \"Miles_per_Gallon\": 20.5, \"Cylinders\": 6, \"Displacement\": 225.0, \"Horsepower\": 100.0, \"Weight_in_lbs\": 3430, \"Acceleration\": 17.2, \"Year\": \"1978-01-01T00:00:00\", \"Origin\": \"USA\"}, {\"Name\": \"amc concord\", \"Miles_per_Gallon\": 19.4, \"Cylinders\": 6, \"Displacement\": 232.0, \"Horsepower\": 90.0, \"Weight_in_lbs\": 3210, \"Acceleration\": 17.2, \"Year\": \"1978-01-01T00:00:00\", \"Origin\": \"USA\"}, {\"Name\": \"buick century special\", \"Miles_per_Gallon\": 20.6, \"Cylinders\": 6, \"Displacement\": 231.0, \"Horsepower\": 105.0, \"Weight_in_lbs\": 3380, \"Acceleration\": 15.8, \"Year\": \"1978-01-01T00:00:00\", \"Origin\": \"USA\"}, {\"Name\": \"mercury zephyr\", \"Miles_per_Gallon\": 20.8, \"Cylinders\": 6, \"Displacement\": 200.0, \"Horsepower\": 85.0, \"Weight_in_lbs\": 3070, \"Acceleration\": 16.7, \"Year\": \"1978-01-01T00:00:00\", \"Origin\": \"USA\"}, {\"Name\": \"dodge aspen\", \"Miles_per_Gallon\": 18.6, \"Cylinders\": 6, \"Displacement\": 225.0, \"Horsepower\": 110.0, \"Weight_in_lbs\": 3620, \"Acceleration\": 18.7, \"Year\": \"1978-01-01T00:00:00\", \"Origin\": \"USA\"}, {\"Name\": \"amc concord d/l\", \"Miles_per_Gallon\": 18.1, \"Cylinders\": 6, \"Displacement\": 258.0, \"Horsepower\": 120.0, \"Weight_in_lbs\": 3410, \"Acceleration\": 15.1, \"Year\": \"1978-01-01T00:00:00\", \"Origin\": \"USA\"}, {\"Name\": \"chevrolet monte carlo landau\", \"Miles_per_Gallon\": 19.2, \"Cylinders\": 8, \"Displacement\": 305.0, \"Horsepower\": 145.0, \"Weight_in_lbs\": 3425, \"Acceleration\": 13.2, \"Year\": \"1978-01-01T00:00:00\", \"Origin\": \"USA\"}, {\"Name\": \"buick regal sport coupe (turbo)\", \"Miles_per_Gallon\": 17.7, \"Cylinders\": 6, \"Displacement\": 231.0, \"Horsepower\": 165.0, \"Weight_in_lbs\": 3445, \"Acceleration\": 13.4, \"Year\": \"1978-01-01T00:00:00\", \"Origin\": \"USA\"}, {\"Name\": \"ford futura\", \"Miles_per_Gallon\": 18.1, \"Cylinders\": 8, \"Displacement\": 302.0, \"Horsepower\": 139.0, \"Weight_in_lbs\": 3205, \"Acceleration\": 11.2, \"Year\": \"1978-01-01T00:00:00\", \"Origin\": \"USA\"}, {\"Name\": \"dodge magnum xe\", \"Miles_per_Gallon\": 17.5, \"Cylinders\": 8, \"Displacement\": 318.0, \"Horsepower\": 140.0, \"Weight_in_lbs\": 4080, \"Acceleration\": 13.7, \"Year\": \"1978-01-01T00:00:00\", \"Origin\": \"USA\"}, {\"Name\": \"chevrolet chevette\", \"Miles_per_Gallon\": 30.0, \"Cylinders\": 4, \"Displacement\": 98.0, \"Horsepower\": 68.0, \"Weight_in_lbs\": 2155, \"Acceleration\": 16.5, \"Year\": \"1978-01-01T00:00:00\", \"Origin\": \"USA\"}, {\"Name\": \"toyota corona\", \"Miles_per_Gallon\": 27.5, \"Cylinders\": 4, \"Displacement\": 134.0, \"Horsepower\": 95.0, \"Weight_in_lbs\": 2560, \"Acceleration\": 14.2, \"Year\": \"1978-01-01T00:00:00\", \"Origin\": \"Japan\"}, {\"Name\": \"datsun 510\", \"Miles_per_Gallon\": 27.2, \"Cylinders\": 4, \"Displacement\": 119.0, \"Horsepower\": 97.0, \"Weight_in_lbs\": 2300, \"Acceleration\": 14.7, \"Year\": \"1978-01-01T00:00:00\", \"Origin\": \"Japan\"}, {\"Name\": \"dodge omni\", \"Miles_per_Gallon\": 30.9, \"Cylinders\": 4, \"Displacement\": 105.0, \"Horsepower\": 75.0, \"Weight_in_lbs\": 2230, \"Acceleration\": 14.5, \"Year\": \"1978-01-01T00:00:00\", \"Origin\": \"USA\"}, {\"Name\": \"toyota celica gt liftback\", \"Miles_per_Gallon\": 21.1, \"Cylinders\": 4, \"Displacement\": 134.0, \"Horsepower\": 95.0, \"Weight_in_lbs\": 2515, \"Acceleration\": 14.8, \"Year\": \"1978-01-01T00:00:00\", \"Origin\": \"Japan\"}, {\"Name\": \"plymouth sapporo\", \"Miles_per_Gallon\": 23.2, \"Cylinders\": 4, \"Displacement\": 156.0, \"Horsepower\": 105.0, \"Weight_in_lbs\": 2745, \"Acceleration\": 16.7, \"Year\": \"1978-01-01T00:00:00\", \"Origin\": \"USA\"}, {\"Name\": \"oldsmobile starfire sx\", \"Miles_per_Gallon\": 23.8, \"Cylinders\": 4, \"Displacement\": 151.0, \"Horsepower\": 85.0, \"Weight_in_lbs\": 2855, \"Acceleration\": 17.6, \"Year\": \"1978-01-01T00:00:00\", \"Origin\": \"USA\"}, {\"Name\": \"datsun 200-sx\", \"Miles_per_Gallon\": 23.9, \"Cylinders\": 4, \"Displacement\": 119.0, \"Horsepower\": 97.0, \"Weight_in_lbs\": 2405, \"Acceleration\": 14.9, \"Year\": \"1978-01-01T00:00:00\", \"Origin\": \"Japan\"}, {\"Name\": \"audi 5000\", \"Miles_per_Gallon\": 20.3, \"Cylinders\": 5, \"Displacement\": 131.0, \"Horsepower\": 103.0, \"Weight_in_lbs\": 2830, \"Acceleration\": 15.9, \"Year\": \"1978-01-01T00:00:00\", \"Origin\": \"Europe\"}, {\"Name\": \"volvo 264gl\", \"Miles_per_Gallon\": 17.0, \"Cylinders\": 6, \"Displacement\": 163.0, \"Horsepower\": 125.0, \"Weight_in_lbs\": 3140, \"Acceleration\": 13.6, \"Year\": \"1978-01-01T00:00:00\", \"Origin\": \"Europe\"}, {\"Name\": \"saab 99gle\", \"Miles_per_Gallon\": 21.6, \"Cylinders\": 4, \"Displacement\": 121.0, \"Horsepower\": 115.0, \"Weight_in_lbs\": 2795, \"Acceleration\": 15.7, \"Year\": \"1978-01-01T00:00:00\", \"Origin\": \"Europe\"}, {\"Name\": \"peugeot 604sl\", \"Miles_per_Gallon\": 16.2, \"Cylinders\": 6, \"Displacement\": 163.0, \"Horsepower\": 133.0, \"Weight_in_lbs\": 3410, \"Acceleration\": 15.8, \"Year\": \"1978-01-01T00:00:00\", \"Origin\": \"Europe\"}, {\"Name\": \"volkswagen scirocco\", \"Miles_per_Gallon\": 31.5, \"Cylinders\": 4, \"Displacement\": 89.0, \"Horsepower\": 71.0, \"Weight_in_lbs\": 1990, \"Acceleration\": 14.9, \"Year\": \"1978-01-01T00:00:00\", \"Origin\": \"Europe\"}, {\"Name\": \"honda Accelerationord lx\", \"Miles_per_Gallon\": 29.5, \"Cylinders\": 4, \"Displacement\": 98.0, \"Horsepower\": 68.0, \"Weight_in_lbs\": 2135, \"Acceleration\": 16.6, \"Year\": \"1978-01-01T00:00:00\", \"Origin\": \"Japan\"}, {\"Name\": \"pontiac lemans v6\", \"Miles_per_Gallon\": 21.5, \"Cylinders\": 6, \"Displacement\": 231.0, \"Horsepower\": 115.0, \"Weight_in_lbs\": 3245, \"Acceleration\": 15.4, \"Year\": \"1979-01-01T00:00:00\", \"Origin\": \"USA\"}, {\"Name\": \"mercury zephyr 6\", \"Miles_per_Gallon\": 19.8, \"Cylinders\": 6, \"Displacement\": 200.0, \"Horsepower\": 85.0, \"Weight_in_lbs\": 2990, \"Acceleration\": 18.2, \"Year\": \"1979-01-01T00:00:00\", \"Origin\": \"USA\"}, {\"Name\": \"ford fairmont 4\", \"Miles_per_Gallon\": 22.3, \"Cylinders\": 4, \"Displacement\": 140.0, \"Horsepower\": 88.0, \"Weight_in_lbs\": 2890, \"Acceleration\": 17.3, \"Year\": \"1979-01-01T00:00:00\", \"Origin\": \"USA\"}, {\"Name\": \"amc concord dl 6\", \"Miles_per_Gallon\": 20.2, \"Cylinders\": 6, \"Displacement\": 232.0, \"Horsepower\": 90.0, \"Weight_in_lbs\": 3265, \"Acceleration\": 18.2, \"Year\": \"1979-01-01T00:00:00\", \"Origin\": \"USA\"}, {\"Name\": \"dodge aspen 6\", \"Miles_per_Gallon\": 20.6, \"Cylinders\": 6, \"Displacement\": 225.0, \"Horsepower\": 110.0, \"Weight_in_lbs\": 3360, \"Acceleration\": 16.6, \"Year\": \"1979-01-01T00:00:00\", \"Origin\": \"USA\"}, {\"Name\": \"chevrolet caprice classic\", \"Miles_per_Gallon\": 17.0, \"Cylinders\": 8, \"Displacement\": 305.0, \"Horsepower\": 130.0, \"Weight_in_lbs\": 3840, \"Acceleration\": 15.4, \"Year\": \"1979-01-01T00:00:00\", \"Origin\": \"USA\"}, {\"Name\": \"ford ltd landau\", \"Miles_per_Gallon\": 17.6, \"Cylinders\": 8, \"Displacement\": 302.0, \"Horsepower\": 129.0, \"Weight_in_lbs\": 3725, \"Acceleration\": 13.4, \"Year\": \"1979-01-01T00:00:00\", \"Origin\": \"USA\"}, {\"Name\": \"mercury grand marquis\", \"Miles_per_Gallon\": 16.5, \"Cylinders\": 8, \"Displacement\": 351.0, \"Horsepower\": 138.0, \"Weight_in_lbs\": 3955, \"Acceleration\": 13.2, \"Year\": \"1979-01-01T00:00:00\", \"Origin\": \"USA\"}, {\"Name\": \"dodge st. regis\", \"Miles_per_Gallon\": 18.2, \"Cylinders\": 8, \"Displacement\": 318.0, \"Horsepower\": 135.0, \"Weight_in_lbs\": 3830, \"Acceleration\": 15.2, \"Year\": \"1979-01-01T00:00:00\", \"Origin\": \"USA\"}, {\"Name\": \"buick estate wagon (sw)\", \"Miles_per_Gallon\": 16.9, \"Cylinders\": 8, \"Displacement\": 350.0, \"Horsepower\": 155.0, \"Weight_in_lbs\": 4360, \"Acceleration\": 14.9, \"Year\": \"1979-01-01T00:00:00\", \"Origin\": \"USA\"}, {\"Name\": \"ford country squire (sw)\", \"Miles_per_Gallon\": 15.5, \"Cylinders\": 8, \"Displacement\": 351.0, \"Horsepower\": 142.0, \"Weight_in_lbs\": 4054, \"Acceleration\": 14.3, \"Year\": \"1979-01-01T00:00:00\", \"Origin\": \"USA\"}, {\"Name\": \"chevrolet malibu classic (sw)\", \"Miles_per_Gallon\": 19.2, \"Cylinders\": 8, \"Displacement\": 267.0, \"Horsepower\": 125.0, \"Weight_in_lbs\": 3605, \"Acceleration\": 15.0, \"Year\": \"1979-01-01T00:00:00\", \"Origin\": \"USA\"}, {\"Name\": \"chrysler lebaron town @ country (sw)\", \"Miles_per_Gallon\": 18.5, \"Cylinders\": 8, \"Displacement\": 360.0, \"Horsepower\": 150.0, \"Weight_in_lbs\": 3940, \"Acceleration\": 13.0, \"Year\": \"1979-01-01T00:00:00\", \"Origin\": \"USA\"}, {\"Name\": \"vw rabbit custom\", \"Miles_per_Gallon\": 31.9, \"Cylinders\": 4, \"Displacement\": 89.0, \"Horsepower\": 71.0, \"Weight_in_lbs\": 1925, \"Acceleration\": 14.0, \"Year\": \"1979-01-01T00:00:00\", \"Origin\": \"Europe\"}, {\"Name\": \"maxda glc deluxe\", \"Miles_per_Gallon\": 34.1, \"Cylinders\": 4, \"Displacement\": 86.0, \"Horsepower\": 65.0, \"Weight_in_lbs\": 1975, \"Acceleration\": 15.2, \"Year\": \"1979-01-01T00:00:00\", \"Origin\": \"Japan\"}, {\"Name\": \"dodge colt hatchback custom\", \"Miles_per_Gallon\": 35.7, \"Cylinders\": 4, \"Displacement\": 98.0, \"Horsepower\": 80.0, \"Weight_in_lbs\": 1915, \"Acceleration\": 14.4, \"Year\": \"1979-01-01T00:00:00\", \"Origin\": \"USA\"}, {\"Name\": \"amc spirit dl\", \"Miles_per_Gallon\": 27.4, \"Cylinders\": 4, \"Displacement\": 121.0, \"Horsepower\": 80.0, \"Weight_in_lbs\": 2670, \"Acceleration\": 15.0, \"Year\": \"1979-01-01T00:00:00\", \"Origin\": \"USA\"}, {\"Name\": \"mercedes benz 300d\", \"Miles_per_Gallon\": 25.4, \"Cylinders\": 5, \"Displacement\": 183.0, \"Horsepower\": 77.0, \"Weight_in_lbs\": 3530, \"Acceleration\": 20.1, \"Year\": \"1979-01-01T00:00:00\", \"Origin\": \"Europe\"}, {\"Name\": \"cadillac eldorado\", \"Miles_per_Gallon\": 23.0, \"Cylinders\": 8, \"Displacement\": 350.0, \"Horsepower\": 125.0, \"Weight_in_lbs\": 3900, \"Acceleration\": 17.4, \"Year\": \"1979-01-01T00:00:00\", \"Origin\": \"USA\"}, {\"Name\": \"peugeot 504\", \"Miles_per_Gallon\": 27.2, \"Cylinders\": 4, \"Displacement\": 141.0, \"Horsepower\": 71.0, \"Weight_in_lbs\": 3190, \"Acceleration\": 24.8, \"Year\": \"1979-01-01T00:00:00\", \"Origin\": \"Europe\"}, {\"Name\": \"oldsmobile cutlass salon brougham\", \"Miles_per_Gallon\": 23.9, \"Cylinders\": 8, \"Displacement\": 260.0, \"Horsepower\": 90.0, \"Weight_in_lbs\": 3420, \"Acceleration\": 22.2, \"Year\": \"1979-01-01T00:00:00\", \"Origin\": \"USA\"}, {\"Name\": \"plymouth horizon\", \"Miles_per_Gallon\": 34.2, \"Cylinders\": 4, \"Displacement\": 105.0, \"Horsepower\": 70.0, \"Weight_in_lbs\": 2200, \"Acceleration\": 13.2, \"Year\": \"1979-01-01T00:00:00\", \"Origin\": \"USA\"}, {\"Name\": \"plymouth horizon tc3\", \"Miles_per_Gallon\": 34.5, \"Cylinders\": 4, \"Displacement\": 105.0, \"Horsepower\": 70.0, \"Weight_in_lbs\": 2150, \"Acceleration\": 14.9, \"Year\": \"1979-01-01T00:00:00\", \"Origin\": \"USA\"}, {\"Name\": \"datsun 210\", \"Miles_per_Gallon\": 31.8, \"Cylinders\": 4, \"Displacement\": 85.0, \"Horsepower\": 65.0, \"Weight_in_lbs\": 2020, \"Acceleration\": 19.2, \"Year\": \"1979-01-01T00:00:00\", \"Origin\": \"Japan\"}, {\"Name\": \"fiat strada custom\", \"Miles_per_Gallon\": 37.3, \"Cylinders\": 4, \"Displacement\": 91.0, \"Horsepower\": 69.0, \"Weight_in_lbs\": 2130, \"Acceleration\": 14.7, \"Year\": \"1979-01-01T00:00:00\", \"Origin\": \"Europe\"}, {\"Name\": \"buick skylark limited\", \"Miles_per_Gallon\": 28.4, \"Cylinders\": 4, \"Displacement\": 151.0, \"Horsepower\": 90.0, \"Weight_in_lbs\": 2670, \"Acceleration\": 16.0, \"Year\": \"1979-01-01T00:00:00\", \"Origin\": \"USA\"}, {\"Name\": \"chevrolet citation\", \"Miles_per_Gallon\": 28.8, \"Cylinders\": 6, \"Displacement\": 173.0, \"Horsepower\": 115.0, \"Weight_in_lbs\": 2595, \"Acceleration\": 11.3, \"Year\": \"1979-01-01T00:00:00\", \"Origin\": \"USA\"}, {\"Name\": \"oldsmobile omega brougham\", \"Miles_per_Gallon\": 26.8, \"Cylinders\": 6, \"Displacement\": 173.0, \"Horsepower\": 115.0, \"Weight_in_lbs\": 2700, \"Acceleration\": 12.9, \"Year\": \"1979-01-01T00:00:00\", \"Origin\": \"USA\"}, {\"Name\": \"pontiac phoenix\", \"Miles_per_Gallon\": 33.5, \"Cylinders\": 4, \"Displacement\": 151.0, \"Horsepower\": 90.0, \"Weight_in_lbs\": 2556, \"Acceleration\": 13.2, \"Year\": \"1979-01-01T00:00:00\", \"Origin\": \"USA\"}, {\"Name\": \"vw rabbit\", \"Miles_per_Gallon\": 41.5, \"Cylinders\": 4, \"Displacement\": 98.0, \"Horsepower\": 76.0, \"Weight_in_lbs\": 2144, \"Acceleration\": 14.7, \"Year\": \"1980-01-01T00:00:00\", \"Origin\": \"Europe\"}, {\"Name\": \"toyota corolla tercel\", \"Miles_per_Gallon\": 38.1, \"Cylinders\": 4, \"Displacement\": 89.0, \"Horsepower\": 60.0, \"Weight_in_lbs\": 1968, \"Acceleration\": 18.8, \"Year\": \"1980-01-01T00:00:00\", \"Origin\": \"Japan\"}, {\"Name\": \"chevrolet chevette\", \"Miles_per_Gallon\": 32.1, \"Cylinders\": 4, \"Displacement\": 98.0, \"Horsepower\": 70.0, \"Weight_in_lbs\": 2120, \"Acceleration\": 15.5, \"Year\": \"1980-01-01T00:00:00\", \"Origin\": \"USA\"}, {\"Name\": \"datsun 310\", \"Miles_per_Gallon\": 37.2, \"Cylinders\": 4, \"Displacement\": 86.0, \"Horsepower\": 65.0, \"Weight_in_lbs\": 2019, \"Acceleration\": 16.4, \"Year\": \"1980-01-01T00:00:00\", \"Origin\": \"Japan\"}, {\"Name\": \"chevrolet citation\", \"Miles_per_Gallon\": 28.0, \"Cylinders\": 4, \"Displacement\": 151.0, \"Horsepower\": 90.0, \"Weight_in_lbs\": 2678, \"Acceleration\": 16.5, \"Year\": \"1980-01-01T00:00:00\", \"Origin\": \"USA\"}, {\"Name\": \"ford fairmont\", \"Miles_per_Gallon\": 26.4, \"Cylinders\": 4, \"Displacement\": 140.0, \"Horsepower\": 88.0, \"Weight_in_lbs\": 2870, \"Acceleration\": 18.1, \"Year\": \"1980-01-01T00:00:00\", \"Origin\": \"USA\"}, {\"Name\": \"amc concord\", \"Miles_per_Gallon\": 24.3, \"Cylinders\": 4, \"Displacement\": 151.0, \"Horsepower\": 90.0, \"Weight_in_lbs\": 3003, \"Acceleration\": 20.1, \"Year\": \"1980-01-01T00:00:00\", \"Origin\": \"USA\"}, {\"Name\": \"dodge aspen\", \"Miles_per_Gallon\": 19.1, \"Cylinders\": 6, \"Displacement\": 225.0, \"Horsepower\": 90.0, \"Weight_in_lbs\": 3381, \"Acceleration\": 18.7, \"Year\": \"1980-01-01T00:00:00\", \"Origin\": \"USA\"}, {\"Name\": \"audi 4000\", \"Miles_per_Gallon\": 34.3, \"Cylinders\": 4, \"Displacement\": 97.0, \"Horsepower\": 78.0, \"Weight_in_lbs\": 2188, \"Acceleration\": 15.8, \"Year\": \"1980-01-01T00:00:00\", \"Origin\": \"Europe\"}, {\"Name\": \"toyota corona liftback\", \"Miles_per_Gallon\": 29.8, \"Cylinders\": 4, \"Displacement\": 134.0, \"Horsepower\": 90.0, \"Weight_in_lbs\": 2711, \"Acceleration\": 15.5, \"Year\": \"1980-01-01T00:00:00\", \"Origin\": \"Japan\"}, {\"Name\": \"mazda 626\", \"Miles_per_Gallon\": 31.3, \"Cylinders\": 4, \"Displacement\": 120.0, \"Horsepower\": 75.0, \"Weight_in_lbs\": 2542, \"Acceleration\": 17.5, \"Year\": \"1980-01-01T00:00:00\", \"Origin\": \"Japan\"}, {\"Name\": \"datsun 510 hatchback\", \"Miles_per_Gallon\": 37.0, \"Cylinders\": 4, \"Displacement\": 119.0, \"Horsepower\": 92.0, \"Weight_in_lbs\": 2434, \"Acceleration\": 15.0, \"Year\": \"1980-01-01T00:00:00\", \"Origin\": \"Japan\"}, {\"Name\": \"toyota corolla\", \"Miles_per_Gallon\": 32.2, \"Cylinders\": 4, \"Displacement\": 108.0, \"Horsepower\": 75.0, \"Weight_in_lbs\": 2265, \"Acceleration\": 15.2, \"Year\": \"1980-01-01T00:00:00\", \"Origin\": \"Japan\"}, {\"Name\": \"mazda glc\", \"Miles_per_Gallon\": 46.6, \"Cylinders\": 4, \"Displacement\": 86.0, \"Horsepower\": 65.0, \"Weight_in_lbs\": 2110, \"Acceleration\": 17.9, \"Year\": \"1980-01-01T00:00:00\", \"Origin\": \"Japan\"}, {\"Name\": \"dodge colt\", \"Miles_per_Gallon\": 27.9, \"Cylinders\": 4, \"Displacement\": 156.0, \"Horsepower\": 105.0, \"Weight_in_lbs\": 2800, \"Acceleration\": 14.4, \"Year\": \"1980-01-01T00:00:00\", \"Origin\": \"USA\"}, {\"Name\": \"datsun 210\", \"Miles_per_Gallon\": 40.8, \"Cylinders\": 4, \"Displacement\": 85.0, \"Horsepower\": 65.0, \"Weight_in_lbs\": 2110, \"Acceleration\": 19.2, \"Year\": \"1980-01-01T00:00:00\", \"Origin\": \"Japan\"}, {\"Name\": \"vw rabbit c (diesel)\", \"Miles_per_Gallon\": 44.3, \"Cylinders\": 4, \"Displacement\": 90.0, \"Horsepower\": 48.0, \"Weight_in_lbs\": 2085, \"Acceleration\": 21.7, \"Year\": \"1980-01-01T00:00:00\", \"Origin\": \"Europe\"}, {\"Name\": \"vw dasher (diesel)\", \"Miles_per_Gallon\": 43.4, \"Cylinders\": 4, \"Displacement\": 90.0, \"Horsepower\": 48.0, \"Weight_in_lbs\": 2335, \"Acceleration\": 23.7, \"Year\": \"1980-01-01T00:00:00\", \"Origin\": \"Europe\"}, {\"Name\": \"audi 5000s (diesel)\", \"Miles_per_Gallon\": 36.4, \"Cylinders\": 5, \"Displacement\": 121.0, \"Horsepower\": 67.0, \"Weight_in_lbs\": 2950, \"Acceleration\": 19.9, \"Year\": \"1980-01-01T00:00:00\", \"Origin\": \"Europe\"}, {\"Name\": \"mercedes-benz 240d\", \"Miles_per_Gallon\": 30.0, \"Cylinders\": 4, \"Displacement\": 146.0, \"Horsepower\": 67.0, \"Weight_in_lbs\": 3250, \"Acceleration\": 21.8, \"Year\": \"1980-01-01T00:00:00\", \"Origin\": \"Europe\"}, {\"Name\": \"honda civic 1500 gl\", \"Miles_per_Gallon\": 44.6, \"Cylinders\": 4, \"Displacement\": 91.0, \"Horsepower\": 67.0, \"Weight_in_lbs\": 1850, \"Acceleration\": 13.8, \"Year\": \"1980-01-01T00:00:00\", \"Origin\": \"Japan\"}, {\"Name\": \"renault lecar deluxe\", \"Miles_per_Gallon\": 40.9, \"Cylinders\": 4, \"Displacement\": 85.0, \"Horsepower\": null, \"Weight_in_lbs\": 1835, \"Acceleration\": 17.3, \"Year\": \"1980-01-01T00:00:00\", \"Origin\": \"Europe\"}, {\"Name\": \"subaru dl\", \"Miles_per_Gallon\": 33.8, \"Cylinders\": 4, \"Displacement\": 97.0, \"Horsepower\": 67.0, \"Weight_in_lbs\": 2145, \"Acceleration\": 18.0, \"Year\": \"1980-01-01T00:00:00\", \"Origin\": \"Japan\"}, {\"Name\": \"vokswagen rabbit\", \"Miles_per_Gallon\": 29.8, \"Cylinders\": 4, \"Displacement\": 89.0, \"Horsepower\": 62.0, \"Weight_in_lbs\": 1845, \"Acceleration\": 15.3, \"Year\": \"1980-01-01T00:00:00\", \"Origin\": \"Europe\"}, {\"Name\": \"datsun 280-zx\", \"Miles_per_Gallon\": 32.7, \"Cylinders\": 6, \"Displacement\": 168.0, \"Horsepower\": 132.0, \"Weight_in_lbs\": 2910, \"Acceleration\": 11.4, \"Year\": \"1980-01-01T00:00:00\", \"Origin\": \"Japan\"}, {\"Name\": \"mazda rx-7 gs\", \"Miles_per_Gallon\": 23.7, \"Cylinders\": 3, \"Displacement\": 70.0, \"Horsepower\": 100.0, \"Weight_in_lbs\": 2420, \"Acceleration\": 12.5, \"Year\": \"1980-01-01T00:00:00\", \"Origin\": \"Japan\"}, {\"Name\": \"triumph tr7 coupe\", \"Miles_per_Gallon\": 35.0, \"Cylinders\": 4, \"Displacement\": 122.0, \"Horsepower\": 88.0, \"Weight_in_lbs\": 2500, \"Acceleration\": 15.1, \"Year\": \"1980-01-01T00:00:00\", \"Origin\": \"Europe\"}, {\"Name\": \"ford mustang cobra\", \"Miles_per_Gallon\": 23.6, \"Cylinders\": 4, \"Displacement\": 140.0, \"Horsepower\": null, \"Weight_in_lbs\": 2905, \"Acceleration\": 14.3, \"Year\": \"1980-01-01T00:00:00\", \"Origin\": \"USA\"}, {\"Name\": \"honda Accelerationord\", \"Miles_per_Gallon\": 32.4, \"Cylinders\": 4, \"Displacement\": 107.0, \"Horsepower\": 72.0, \"Weight_in_lbs\": 2290, \"Acceleration\": 17.0, \"Year\": \"1980-01-01T00:00:00\", \"Origin\": \"Japan\"}, {\"Name\": \"plymouth reliant\", \"Miles_per_Gallon\": 27.2, \"Cylinders\": 4, \"Displacement\": 135.0, \"Horsepower\": 84.0, \"Weight_in_lbs\": 2490, \"Acceleration\": 15.7, \"Year\": \"1982-01-01T00:00:00\", \"Origin\": \"USA\"}, {\"Name\": \"buick skylark\", \"Miles_per_Gallon\": 26.6, \"Cylinders\": 4, \"Displacement\": 151.0, \"Horsepower\": 84.0, \"Weight_in_lbs\": 2635, \"Acceleration\": 16.4, \"Year\": \"1982-01-01T00:00:00\", \"Origin\": \"USA\"}, {\"Name\": \"dodge aries wagon (sw)\", \"Miles_per_Gallon\": 25.8, \"Cylinders\": 4, \"Displacement\": 156.0, \"Horsepower\": 92.0, \"Weight_in_lbs\": 2620, \"Acceleration\": 14.4, \"Year\": \"1982-01-01T00:00:00\", \"Origin\": \"USA\"}, {\"Name\": \"chevrolet citation\", \"Miles_per_Gallon\": 23.5, \"Cylinders\": 6, \"Displacement\": 173.0, \"Horsepower\": 110.0, \"Weight_in_lbs\": 2725, \"Acceleration\": 12.6, \"Year\": \"1982-01-01T00:00:00\", \"Origin\": \"USA\"}, {\"Name\": \"plymouth reliant\", \"Miles_per_Gallon\": 30.0, \"Cylinders\": 4, \"Displacement\": 135.0, \"Horsepower\": 84.0, \"Weight_in_lbs\": 2385, \"Acceleration\": 12.9, \"Year\": \"1982-01-01T00:00:00\", \"Origin\": \"USA\"}, {\"Name\": \"toyota starlet\", \"Miles_per_Gallon\": 39.1, \"Cylinders\": 4, \"Displacement\": 79.0, \"Horsepower\": 58.0, \"Weight_in_lbs\": 1755, \"Acceleration\": 16.9, \"Year\": \"1982-01-01T00:00:00\", \"Origin\": \"Japan\"}, {\"Name\": \"plymouth champ\", \"Miles_per_Gallon\": 39.0, \"Cylinders\": 4, \"Displacement\": 86.0, \"Horsepower\": 64.0, \"Weight_in_lbs\": 1875, \"Acceleration\": 16.4, \"Year\": \"1982-01-01T00:00:00\", \"Origin\": \"USA\"}, {\"Name\": \"honda civic 1300\", \"Miles_per_Gallon\": 35.1, \"Cylinders\": 4, \"Displacement\": 81.0, \"Horsepower\": 60.0, \"Weight_in_lbs\": 1760, \"Acceleration\": 16.1, \"Year\": \"1982-01-01T00:00:00\", \"Origin\": \"Japan\"}, {\"Name\": \"subaru\", \"Miles_per_Gallon\": 32.3, \"Cylinders\": 4, \"Displacement\": 97.0, \"Horsepower\": 67.0, \"Weight_in_lbs\": 2065, \"Acceleration\": 17.8, \"Year\": \"1982-01-01T00:00:00\", \"Origin\": \"Japan\"}, {\"Name\": \"datsun 210\", \"Miles_per_Gallon\": 37.0, \"Cylinders\": 4, \"Displacement\": 85.0, \"Horsepower\": 65.0, \"Weight_in_lbs\": 1975, \"Acceleration\": 19.4, \"Year\": \"1982-01-01T00:00:00\", \"Origin\": \"Japan\"}, {\"Name\": \"toyota tercel\", \"Miles_per_Gallon\": 37.7, \"Cylinders\": 4, \"Displacement\": 89.0, \"Horsepower\": 62.0, \"Weight_in_lbs\": 2050, \"Acceleration\": 17.3, \"Year\": \"1982-01-01T00:00:00\", \"Origin\": \"Japan\"}, {\"Name\": \"mazda glc 4\", \"Miles_per_Gallon\": 34.1, \"Cylinders\": 4, \"Displacement\": 91.0, \"Horsepower\": 68.0, \"Weight_in_lbs\": 1985, \"Acceleration\": 16.0, \"Year\": \"1982-01-01T00:00:00\", \"Origin\": \"Japan\"}, {\"Name\": \"plymouth horizon 4\", \"Miles_per_Gallon\": 34.7, \"Cylinders\": 4, \"Displacement\": 105.0, \"Horsepower\": 63.0, \"Weight_in_lbs\": 2215, \"Acceleration\": 14.9, \"Year\": \"1982-01-01T00:00:00\", \"Origin\": \"USA\"}, {\"Name\": \"ford escort 4w\", \"Miles_per_Gallon\": 34.4, \"Cylinders\": 4, \"Displacement\": 98.0, \"Horsepower\": 65.0, \"Weight_in_lbs\": 2045, \"Acceleration\": 16.2, \"Year\": \"1982-01-01T00:00:00\", \"Origin\": \"USA\"}, {\"Name\": \"ford escort 2h\", \"Miles_per_Gallon\": 29.9, \"Cylinders\": 4, \"Displacement\": 98.0, \"Horsepower\": 65.0, \"Weight_in_lbs\": 2380, \"Acceleration\": 20.7, \"Year\": \"1982-01-01T00:00:00\", \"Origin\": \"USA\"}, {\"Name\": \"volkswagen jetta\", \"Miles_per_Gallon\": 33.0, \"Cylinders\": 4, \"Displacement\": 105.0, \"Horsepower\": 74.0, \"Weight_in_lbs\": 2190, \"Acceleration\": 14.2, \"Year\": \"1982-01-01T00:00:00\", \"Origin\": \"Europe\"}, {\"Name\": \"renault 18i\", \"Miles_per_Gallon\": 34.5, \"Cylinders\": 4, \"Displacement\": 100.0, \"Horsepower\": null, \"Weight_in_lbs\": 2320, \"Acceleration\": 15.8, \"Year\": \"1982-01-01T00:00:00\", \"Origin\": \"Europe\"}, {\"Name\": \"honda prelude\", \"Miles_per_Gallon\": 33.7, \"Cylinders\": 4, \"Displacement\": 107.0, \"Horsepower\": 75.0, \"Weight_in_lbs\": 2210, \"Acceleration\": 14.4, \"Year\": \"1982-01-01T00:00:00\", \"Origin\": \"Japan\"}, {\"Name\": \"toyota corolla\", \"Miles_per_Gallon\": 32.4, \"Cylinders\": 4, \"Displacement\": 108.0, \"Horsepower\": 75.0, \"Weight_in_lbs\": 2350, \"Acceleration\": 16.8, \"Year\": \"1982-01-01T00:00:00\", \"Origin\": \"Japan\"}, {\"Name\": \"datsun 200sx\", \"Miles_per_Gallon\": 32.9, \"Cylinders\": 4, \"Displacement\": 119.0, \"Horsepower\": 100.0, \"Weight_in_lbs\": 2615, \"Acceleration\": 14.8, \"Year\": \"1982-01-01T00:00:00\", \"Origin\": \"Japan\"}, {\"Name\": \"mazda 626\", \"Miles_per_Gallon\": 31.6, \"Cylinders\": 4, \"Displacement\": 120.0, \"Horsepower\": 74.0, \"Weight_in_lbs\": 2635, \"Acceleration\": 18.3, \"Year\": \"1982-01-01T00:00:00\", \"Origin\": \"Japan\"}, {\"Name\": \"peugeot 505s turbo diesel\", \"Miles_per_Gallon\": 28.1, \"Cylinders\": 4, \"Displacement\": 141.0, \"Horsepower\": 80.0, \"Weight_in_lbs\": 3230, \"Acceleration\": 20.4, \"Year\": \"1982-01-01T00:00:00\", \"Origin\": \"Europe\"}, {\"Name\": \"saab 900s\", \"Miles_per_Gallon\": null, \"Cylinders\": 4, \"Displacement\": 121.0, \"Horsepower\": 110.0, \"Weight_in_lbs\": 2800, \"Acceleration\": 15.4, \"Year\": \"1982-01-01T00:00:00\", \"Origin\": \"Europe\"}, {\"Name\": \"volvo diesel\", \"Miles_per_Gallon\": 30.7, \"Cylinders\": 6, \"Displacement\": 145.0, \"Horsepower\": 76.0, \"Weight_in_lbs\": 3160, \"Acceleration\": 19.6, \"Year\": \"1982-01-01T00:00:00\", \"Origin\": \"Europe\"}, {\"Name\": \"toyota cressida\", \"Miles_per_Gallon\": 25.4, \"Cylinders\": 6, \"Displacement\": 168.0, \"Horsepower\": 116.0, \"Weight_in_lbs\": 2900, \"Acceleration\": 12.6, \"Year\": \"1982-01-01T00:00:00\", \"Origin\": \"Japan\"}, {\"Name\": \"datsun 810 maxima\", \"Miles_per_Gallon\": 24.2, \"Cylinders\": 6, \"Displacement\": 146.0, \"Horsepower\": 120.0, \"Weight_in_lbs\": 2930, \"Acceleration\": 13.8, \"Year\": \"1982-01-01T00:00:00\", \"Origin\": \"Japan\"}, {\"Name\": \"buick century\", \"Miles_per_Gallon\": 22.4, \"Cylinders\": 6, \"Displacement\": 231.0, \"Horsepower\": 110.0, \"Weight_in_lbs\": 3415, \"Acceleration\": 15.8, \"Year\": \"1982-01-01T00:00:00\", \"Origin\": \"USA\"}, {\"Name\": \"oldsmobile cutlass ls\", \"Miles_per_Gallon\": 26.6, \"Cylinders\": 8, \"Displacement\": 350.0, \"Horsepower\": 105.0, \"Weight_in_lbs\": 3725, \"Acceleration\": 19.0, \"Year\": \"1982-01-01T00:00:00\", \"Origin\": \"USA\"}, {\"Name\": \"ford granada gl\", \"Miles_per_Gallon\": 20.2, \"Cylinders\": 6, \"Displacement\": 200.0, \"Horsepower\": 88.0, \"Weight_in_lbs\": 3060, \"Acceleration\": 17.1, \"Year\": \"1982-01-01T00:00:00\", \"Origin\": \"USA\"}, {\"Name\": \"chrysler lebaron salon\", \"Miles_per_Gallon\": 17.6, \"Cylinders\": 6, \"Displacement\": 225.0, \"Horsepower\": 85.0, \"Weight_in_lbs\": 3465, \"Acceleration\": 16.6, \"Year\": \"1982-01-01T00:00:00\", \"Origin\": \"USA\"}, {\"Name\": \"chevrolet cavalier\", \"Miles_per_Gallon\": 28.0, \"Cylinders\": 4, \"Displacement\": 112.0, \"Horsepower\": 88.0, \"Weight_in_lbs\": 2605, \"Acceleration\": 19.6, \"Year\": \"1982-01-01T00:00:00\", \"Origin\": \"USA\"}, {\"Name\": \"chevrolet cavalier wagon\", \"Miles_per_Gallon\": 27.0, \"Cylinders\": 4, \"Displacement\": 112.0, \"Horsepower\": 88.0, \"Weight_in_lbs\": 2640, \"Acceleration\": 18.6, \"Year\": \"1982-01-01T00:00:00\", \"Origin\": \"USA\"}, {\"Name\": \"chevrolet cavalier 2-door\", \"Miles_per_Gallon\": 34.0, \"Cylinders\": 4, \"Displacement\": 112.0, \"Horsepower\": 88.0, \"Weight_in_lbs\": 2395, \"Acceleration\": 18.0, \"Year\": \"1982-01-01T00:00:00\", \"Origin\": \"USA\"}, {\"Name\": \"pontiac j2000 se hatchback\", \"Miles_per_Gallon\": 31.0, \"Cylinders\": 4, \"Displacement\": 112.0, \"Horsepower\": 85.0, \"Weight_in_lbs\": 2575, \"Acceleration\": 16.2, \"Year\": \"1982-01-01T00:00:00\", \"Origin\": \"USA\"}, {\"Name\": \"dodge aries se\", \"Miles_per_Gallon\": 29.0, \"Cylinders\": 4, \"Displacement\": 135.0, \"Horsepower\": 84.0, \"Weight_in_lbs\": 2525, \"Acceleration\": 16.0, \"Year\": \"1982-01-01T00:00:00\", \"Origin\": \"USA\"}, {\"Name\": \"pontiac phoenix\", \"Miles_per_Gallon\": 27.0, \"Cylinders\": 4, \"Displacement\": 151.0, \"Horsepower\": 90.0, \"Weight_in_lbs\": 2735, \"Acceleration\": 18.0, \"Year\": \"1982-01-01T00:00:00\", \"Origin\": \"USA\"}, {\"Name\": \"ford fairmont futura\", \"Miles_per_Gallon\": 24.0, \"Cylinders\": 4, \"Displacement\": 140.0, \"Horsepower\": 92.0, \"Weight_in_lbs\": 2865, \"Acceleration\": 16.4, \"Year\": \"1982-01-01T00:00:00\", \"Origin\": \"USA\"}, {\"Name\": \"amc concord dl\", \"Miles_per_Gallon\": 23.0, \"Cylinders\": 4, \"Displacement\": 151.0, \"Horsepower\": null, \"Weight_in_lbs\": 3035, \"Acceleration\": 20.5, \"Year\": \"1982-01-01T00:00:00\", \"Origin\": \"USA\"}, {\"Name\": \"volkswagen rabbit l\", \"Miles_per_Gallon\": 36.0, \"Cylinders\": 4, \"Displacement\": 105.0, \"Horsepower\": 74.0, \"Weight_in_lbs\": 1980, \"Acceleration\": 15.3, \"Year\": \"1982-01-01T00:00:00\", \"Origin\": \"Europe\"}, {\"Name\": \"mazda glc custom l\", \"Miles_per_Gallon\": 37.0, \"Cylinders\": 4, \"Displacement\": 91.0, \"Horsepower\": 68.0, \"Weight_in_lbs\": 2025, \"Acceleration\": 18.2, \"Year\": \"1982-01-01T00:00:00\", \"Origin\": \"Japan\"}, {\"Name\": \"mazda glc custom\", \"Miles_per_Gallon\": 31.0, \"Cylinders\": 4, \"Displacement\": 91.0, \"Horsepower\": 68.0, \"Weight_in_lbs\": 1970, \"Acceleration\": 17.6, \"Year\": \"1982-01-01T00:00:00\", \"Origin\": \"Japan\"}, {\"Name\": \"plymouth horizon miser\", \"Miles_per_Gallon\": 38.0, \"Cylinders\": 4, \"Displacement\": 105.0, \"Horsepower\": 63.0, \"Weight_in_lbs\": 2125, \"Acceleration\": 14.7, \"Year\": \"1982-01-01T00:00:00\", \"Origin\": \"USA\"}, {\"Name\": \"mercury lynx l\", \"Miles_per_Gallon\": 36.0, \"Cylinders\": 4, \"Displacement\": 98.0, \"Horsepower\": 70.0, \"Weight_in_lbs\": 2125, \"Acceleration\": 17.3, \"Year\": \"1982-01-01T00:00:00\", \"Origin\": \"USA\"}, {\"Name\": \"nissan stanza xe\", \"Miles_per_Gallon\": 36.0, \"Cylinders\": 4, \"Displacement\": 120.0, \"Horsepower\": 88.0, \"Weight_in_lbs\": 2160, \"Acceleration\": 14.5, \"Year\": \"1982-01-01T00:00:00\", \"Origin\": \"Japan\"}, {\"Name\": \"honda Accelerationord\", \"Miles_per_Gallon\": 36.0, \"Cylinders\": 4, \"Displacement\": 107.0, \"Horsepower\": 75.0, \"Weight_in_lbs\": 2205, \"Acceleration\": 14.5, \"Year\": \"1982-01-01T00:00:00\", \"Origin\": \"Japan\"}, {\"Name\": \"toyota corolla\", \"Miles_per_Gallon\": 34.0, \"Cylinders\": 4, \"Displacement\": 108.0, \"Horsepower\": 70.0, \"Weight_in_lbs\": 2245, \"Acceleration\": 16.9, \"Year\": \"1982-01-01T00:00:00\", \"Origin\": \"Japan\"}, {\"Name\": \"honda civic\", \"Miles_per_Gallon\": 38.0, \"Cylinders\": 4, \"Displacement\": 91.0, \"Horsepower\": 67.0, \"Weight_in_lbs\": 1965, \"Acceleration\": 15.0, \"Year\": \"1982-01-01T00:00:00\", \"Origin\": \"Japan\"}, {\"Name\": \"honda civic (auto)\", \"Miles_per_Gallon\": 32.0, \"Cylinders\": 4, \"Displacement\": 91.0, \"Horsepower\": 67.0, \"Weight_in_lbs\": 1965, \"Acceleration\": 15.7, \"Year\": \"1982-01-01T00:00:00\", \"Origin\": \"Japan\"}, {\"Name\": \"datsun 310 gx\", \"Miles_per_Gallon\": 38.0, \"Cylinders\": 4, \"Displacement\": 91.0, \"Horsepower\": 67.0, \"Weight_in_lbs\": 1995, \"Acceleration\": 16.2, \"Year\": \"1982-01-01T00:00:00\", \"Origin\": \"Japan\"}, {\"Name\": \"buick century limited\", \"Miles_per_Gallon\": 25.0, \"Cylinders\": 6, \"Displacement\": 181.0, \"Horsepower\": 110.0, \"Weight_in_lbs\": 2945, \"Acceleration\": 16.4, \"Year\": \"1982-01-01T00:00:00\", \"Origin\": \"USA\"}, {\"Name\": \"oldsmobile cutlass ciera (diesel)\", \"Miles_per_Gallon\": 38.0, \"Cylinders\": 6, \"Displacement\": 262.0, \"Horsepower\": 85.0, \"Weight_in_lbs\": 3015, \"Acceleration\": 17.0, \"Year\": \"1982-01-01T00:00:00\", \"Origin\": \"USA\"}, {\"Name\": \"chrysler lebaron medallion\", \"Miles_per_Gallon\": 26.0, \"Cylinders\": 4, \"Displacement\": 156.0, \"Horsepower\": 92.0, \"Weight_in_lbs\": 2585, \"Acceleration\": 14.5, \"Year\": \"1982-01-01T00:00:00\", \"Origin\": \"USA\"}, {\"Name\": \"ford granada l\", \"Miles_per_Gallon\": 22.0, \"Cylinders\": 6, \"Displacement\": 232.0, \"Horsepower\": 112.0, \"Weight_in_lbs\": 2835, \"Acceleration\": 14.7, \"Year\": \"1982-01-01T00:00:00\", \"Origin\": \"USA\"}, {\"Name\": \"toyota celica gt\", \"Miles_per_Gallon\": 32.0, \"Cylinders\": 4, \"Displacement\": 144.0, \"Horsepower\": 96.0, \"Weight_in_lbs\": 2665, \"Acceleration\": 13.9, \"Year\": \"1982-01-01T00:00:00\", \"Origin\": \"Japan\"}, {\"Name\": \"dodge charger 2.2\", \"Miles_per_Gallon\": 36.0, \"Cylinders\": 4, \"Displacement\": 135.0, \"Horsepower\": 84.0, \"Weight_in_lbs\": 2370, \"Acceleration\": 13.0, \"Year\": \"1982-01-01T00:00:00\", \"Origin\": \"USA\"}, {\"Name\": \"chevrolet camaro\", \"Miles_per_Gallon\": 27.0, \"Cylinders\": 4, \"Displacement\": 151.0, \"Horsepower\": 90.0, \"Weight_in_lbs\": 2950, \"Acceleration\": 17.3, \"Year\": \"1982-01-01T00:00:00\", \"Origin\": \"USA\"}, {\"Name\": \"ford mustang gl\", \"Miles_per_Gallon\": 27.0, \"Cylinders\": 4, \"Displacement\": 140.0, \"Horsepower\": 86.0, \"Weight_in_lbs\": 2790, \"Acceleration\": 15.6, \"Year\": \"1982-01-01T00:00:00\", \"Origin\": \"USA\"}, {\"Name\": \"vw pickup\", \"Miles_per_Gallon\": 44.0, \"Cylinders\": 4, \"Displacement\": 97.0, \"Horsepower\": 52.0, \"Weight_in_lbs\": 2130, \"Acceleration\": 24.6, \"Year\": \"1982-01-01T00:00:00\", \"Origin\": \"Europe\"}, {\"Name\": \"dodge rampage\", \"Miles_per_Gallon\": 32.0, \"Cylinders\": 4, \"Displacement\": 135.0, \"Horsepower\": 84.0, \"Weight_in_lbs\": 2295, \"Acceleration\": 11.6, \"Year\": \"1982-01-01T00:00:00\", \"Origin\": \"USA\"}, {\"Name\": \"ford ranger\", \"Miles_per_Gallon\": 28.0, \"Cylinders\": 4, \"Displacement\": 120.0, \"Horsepower\": 79.0, \"Weight_in_lbs\": 2625, \"Acceleration\": 18.6, \"Year\": \"1982-01-01T00:00:00\", \"Origin\": \"USA\"}, {\"Name\": \"chevy s-10\", \"Miles_per_Gallon\": 31.0, \"Cylinders\": 4, \"Displacement\": 119.0, \"Horsepower\": 82.0, \"Weight_in_lbs\": 2720, \"Acceleration\": 19.4, \"Year\": \"1982-01-01T00:00:00\", \"Origin\": \"USA\"}]}}, {\"mode\": \"vega-lite\"});\n",
       "</script>"
      ],
      "text/plain": [
       "alt.Chart(...)"
      ]
     },
     "execution_count": 3,
     "metadata": {},
     "output_type": "execute_result"
    }
   ],
   "source": [
    "import altair as alt\n",
    "from vega_datasets import data\n",
    "\n",
    "source = data.cars()\n",
    "\n",
    "alt.Chart(source).mark_circle(size=60).encode(\n",
    "    x='Horsepower',\n",
    "    y='Miles_per_Gallon',\n",
    "    color='Origin',\n",
    "    tooltip=['Name', 'Origin', 'Horsepower', 'Miles_per_Gallon']\n",
    ").interactive()"
   ]
  },
  {
   "cell_type": "markdown",
   "metadata": {},
   "source": [
    "## pyecharts\n",
    "Apache ECharts (incubating) 是一个由百度开源的数据可视化，凭借着良好的交互性，精巧的图表设计，得到了众多开发者的认可。而 Python 是一门富有表达力的语言，很适合用于数据处理。当数据分析遇上数据可视化时，pyecharts 诞生了。  \n",
    "https://github.com/pyecharts/pyecharts\n",
    "```\n",
    "pip install pyecharts\n",
    "```"
   ]
  },
  {
   "cell_type": "code",
   "execution_count": 12,
   "metadata": {},
   "outputs": [
    {
     "data": {
      "text/html": [
       "<!DOCTYPE html>\n",
       "<html>\n",
       "<head>\n",
       "    <meta charset=\"UTF-8\">\n",
       "</head>\n",
       "<body>\n",
       "        <div id=\"ba4a28dab68346d886c2b5822c3bea93\" class=\"chart-container\" style=\"width:900px; height:500px;\"></div>\n",
       "    <script>\n",
       "        var chart_ba4a28dab68346d886c2b5822c3bea93 = echarts.init(\n",
       "            document.getElementById('ba4a28dab68346d886c2b5822c3bea93'), 'light', {renderer: 'canvas'});\n",
       "        var option_ba4a28dab68346d886c2b5822c3bea93 = {\n",
       "    \"animation\": true,\n",
       "    \"animationThreshold\": 2000,\n",
       "    \"animationDuration\": 1000,\n",
       "    \"animationEasing\": \"cubicOut\",\n",
       "    \"animationDelay\": 0,\n",
       "    \"animationDurationUpdate\": 300,\n",
       "    \"animationEasingUpdate\": \"cubicOut\",\n",
       "    \"animationDelayUpdate\": 0,\n",
       "    \"series\": [\n",
       "        {\n",
       "            \"type\": \"bar\",\n",
       "            \"name\": \"\\u5546\\u5bb6A\",\n",
       "            \"legendHoverLink\": true,\n",
       "            \"data\": [\n",
       "                5,\n",
       "                20,\n",
       "                36,\n",
       "                10,\n",
       "                75,\n",
       "                90\n",
       "            ],\n",
       "            \"showBackground\": false,\n",
       "            \"barMinHeight\": 0,\n",
       "            \"barCategoryGap\": \"20%\",\n",
       "            \"barGap\": \"30%\",\n",
       "            \"large\": false,\n",
       "            \"largeThreshold\": 400,\n",
       "            \"seriesLayoutBy\": \"column\",\n",
       "            \"datasetIndex\": 0,\n",
       "            \"clip\": true,\n",
       "            \"zlevel\": 0,\n",
       "            \"z\": 2,\n",
       "            \"label\": {\n",
       "                \"show\": true,\n",
       "                \"position\": \"top\",\n",
       "                \"margin\": 8\n",
       "            }\n",
       "        },\n",
       "        {\n",
       "            \"type\": \"bar\",\n",
       "            \"name\": \"\\u5546\\u5bb6B\",\n",
       "            \"legendHoverLink\": true,\n",
       "            \"data\": [\n",
       "                15,\n",
       "                6,\n",
       "                45,\n",
       "                20,\n",
       "                35,\n",
       "                66\n",
       "            ],\n",
       "            \"showBackground\": false,\n",
       "            \"barMinHeight\": 0,\n",
       "            \"barCategoryGap\": \"20%\",\n",
       "            \"barGap\": \"30%\",\n",
       "            \"large\": false,\n",
       "            \"largeThreshold\": 400,\n",
       "            \"seriesLayoutBy\": \"column\",\n",
       "            \"datasetIndex\": 0,\n",
       "            \"clip\": true,\n",
       "            \"zlevel\": 0,\n",
       "            \"z\": 2,\n",
       "            \"label\": {\n",
       "                \"show\": true,\n",
       "                \"position\": \"top\",\n",
       "                \"margin\": 8\n",
       "            }\n",
       "        }\n",
       "    ],\n",
       "    \"legend\": [\n",
       "        {\n",
       "            \"data\": [\n",
       "                \"\\u5546\\u5bb6A\",\n",
       "                \"\\u5546\\u5bb6B\"\n",
       "            ],\n",
       "            \"selected\": {\n",
       "                \"\\u5546\\u5bb6A\": true,\n",
       "                \"\\u5546\\u5bb6B\": true\n",
       "            },\n",
       "            \"show\": true,\n",
       "            \"padding\": 5,\n",
       "            \"itemGap\": 10,\n",
       "            \"itemWidth\": 25,\n",
       "            \"itemHeight\": 14\n",
       "        }\n",
       "    ],\n",
       "    \"tooltip\": {\n",
       "        \"show\": true,\n",
       "        \"trigger\": \"item\",\n",
       "        \"triggerOn\": \"mousemove|click\",\n",
       "        \"axisPointer\": {\n",
       "            \"type\": \"line\"\n",
       "        },\n",
       "        \"showContent\": true,\n",
       "        \"alwaysShowContent\": false,\n",
       "        \"showDelay\": 0,\n",
       "        \"hideDelay\": 100,\n",
       "        \"textStyle\": {\n",
       "            \"fontSize\": 14\n",
       "        },\n",
       "        \"borderWidth\": 0,\n",
       "        \"padding\": 5\n",
       "    },\n",
       "    \"xAxis\": [\n",
       "        {\n",
       "            \"show\": true,\n",
       "            \"scale\": false,\n",
       "            \"nameLocation\": \"end\",\n",
       "            \"nameGap\": 15,\n",
       "            \"gridIndex\": 0,\n",
       "            \"inverse\": false,\n",
       "            \"offset\": 0,\n",
       "            \"splitNumber\": 5,\n",
       "            \"minInterval\": 0,\n",
       "            \"splitLine\": {\n",
       "                \"show\": false,\n",
       "                \"lineStyle\": {\n",
       "                    \"show\": true,\n",
       "                    \"width\": 1,\n",
       "                    \"opacity\": 1,\n",
       "                    \"curveness\": 0,\n",
       "                    \"type\": \"solid\"\n",
       "                }\n",
       "            },\n",
       "            \"data\": [\n",
       "                \"\\u886c\\u886b\",\n",
       "                \"\\u7f8a\\u6bdb\\u886b\",\n",
       "                \"\\u96ea\\u7eba\\u886b\",\n",
       "                \"\\u88e4\\u5b50\",\n",
       "                \"\\u9ad8\\u8ddf\\u978b\",\n",
       "                \"\\u889c\\u5b50\"\n",
       "            ]\n",
       "        }\n",
       "    ],\n",
       "    \"yAxis\": [\n",
       "        {\n",
       "            \"show\": true,\n",
       "            \"scale\": false,\n",
       "            \"nameLocation\": \"end\",\n",
       "            \"nameGap\": 15,\n",
       "            \"gridIndex\": 0,\n",
       "            \"inverse\": false,\n",
       "            \"offset\": 0,\n",
       "            \"splitNumber\": 5,\n",
       "            \"minInterval\": 0,\n",
       "            \"splitLine\": {\n",
       "                \"show\": false,\n",
       "                \"lineStyle\": {\n",
       "                    \"show\": true,\n",
       "                    \"width\": 1,\n",
       "                    \"opacity\": 1,\n",
       "                    \"curveness\": 0,\n",
       "                    \"type\": \"solid\"\n",
       "                }\n",
       "            }\n",
       "        }\n",
       "    ],\n",
       "    \"title\": [\n",
       "        {\n",
       "            \"text\": \"\\u4e3b\\u6807\\u9898\",\n",
       "            \"subtext\": \"\\u526f\\u6807\\u9898\",\n",
       "            \"padding\": 5,\n",
       "            \"itemGap\": 10\n",
       "        }\n",
       "    ]\n",
       "};\n",
       "        chart_ba4a28dab68346d886c2b5822c3bea93.setOption(option_ba4a28dab68346d886c2b5822c3bea93);\n",
       "    </script>\n",
       "</body>\n",
       "</html>\n"
      ],
      "text/plain": [
       "<pyecharts.render.display.HTML at 0x20d0faf6040>"
      ]
     },
     "execution_count": 12,
     "metadata": {},
     "output_type": "execute_result"
    }
   ],
   "source": [
    "from pyecharts.globals import CurrentConfig, NotebookType\n",
    "CurrentConfig.NOTEBOOK_TYPE = NotebookType.JUPYTER_LAB\n",
    "\n",
    "from pyecharts.charts import Bar\n",
    "from pyecharts import options as opts\n",
    "# 内置主题类型可查看 pyecharts.globals.ThemeType\n",
    "from pyecharts.globals import ThemeType\n",
    "\n",
    "bar = (\n",
    "    Bar(init_opts=opts.InitOpts(theme=ThemeType.LIGHT))\n",
    "    .add_xaxis([\"衬衫\", \"羊毛衫\", \"雪纺衫\", \"裤子\", \"高跟鞋\", \"袜子\"])\n",
    "    .add_yaxis(\"商家A\", [5, 20, 36, 10, 75, 90])\n",
    "    .add_yaxis(\"商家B\", [15, 6, 45, 20, 35, 66])\n",
    "    .set_global_opts(title_opts=opts.TitleOpts(title=\"主标题\", subtitle=\"副标题\"))\n",
    ")\n",
    "bar.load_javascript()\n",
    "bar.render_notebook()"
   ]
  },
  {
   "cell_type": "markdown",
   "metadata": {},
   "source": [
    "## Face Recognition\n",
    "face_recognition是一个强大、简单、易上手的人脸识别开源项目，并且配备了完整的开发文档和应用案例，特别是兼容树莓派系统。  \n",
    "https://github.com/ageitgey/face_recognition"
   ]
  },
  {
   "cell_type": "code",
   "execution_count": 17,
   "metadata": {},
   "outputs": [
    {
     "data": {
      "image/png": "[encoded data removed]",
      "text/plain": [
       "<Figure size 576x576 with 1 Axes>"
      ]
     },
     "metadata": {
      "needs_background": "light"
     },
     "output_type": "display_data"
    }
   ],
   "source": [
    "import face_recognition\n",
    "import matplotlib.pyplot as plt\n",
    "import matplotlib.patches as patches\n",
    "from PIL import Image\n",
    "import numpy as np\n",
    "\n",
    "image = face_recognition.load_image_file(\"akb48.jpeg\")\n",
    "face_locations = face_recognition.face_locations(image)\n",
    "\n",
    "im=np.array(Image.open('akb48.jpeg'), dtype=np.uint8)\n",
    "\n",
    "fig, ax = plt.subplots(1, figsize=(8, 8))\n",
    "ax.imshow(im)\n",
    "\n",
    "for face_loc in face_locations:\n",
    "    rect = patches.Rectangle((face_loc[1], face_loc[0]), face_loc[3] - face_loc[1], face_loc[2] - face_loc[0], linewidth=2,edgecolor='r',facecolor='none')\n",
    "    ax.add_patch(rect)\n",
    "plt.show()"
   ]
  },
  {
   "cell_type": "markdown",
   "metadata": {},
   "source": [
    "## jieba\n",
    "“结巴”中文分词：做最好的 Python 中文分词组件\n",
    "https://github.com/fxsjy/jieba\n",
    "```\n",
    "$ pip install jieba\n",
    "```"
   ]
  },
  {
   "cell_type": "code",
   "execution_count": 14,
   "metadata": {},
   "outputs": [
    {
     "name": "stderr",
     "output_type": "stream",
     "text": [
      "Building prefix dict from the default dictionary ...\n",
      "Loading model from cache C:\\Users\\lll51\\AppData\\Local\\Temp\\jieba.cache\n",
      "Loading model cost 0.478 seconds.\n",
      "Prefix dict has been built successfully.\n"
     ]
    },
    {
     "data": {
      "text/html": [
       "<div>\n",
       "<style scoped>\n",
       "    .dataframe tbody tr th:only-of-type {\n",
       "        vertical-align: middle;\n",
       "    }\n",
       "\n",
       "    .dataframe tbody tr th {\n",
       "        vertical-align: top;\n",
       "    }\n",
       "\n",
       "    .dataframe thead th {\n",
       "        text-align: right;\n",
       "    }\n",
       "</style>\n",
       "<table border=\"1\" class=\"dataframe\">\n",
       "  <thead>\n",
       "    <tr style=\"text-align: right;\">\n",
       "      <th></th>\n",
       "      <th>正文</th>\n",
       "      <th>jieba分词</th>\n",
       "    </tr>\n",
       "  </thead>\n",
       "  <tbody>\n",
       "    <tr>\n",
       "      <th>0</th>\n",
       "      <td>#进击的巨人最终季#能在被全面封禁的状态下再度冲上热搜的也只有我大巨人了吧作为一个第一季出来就开始追的老粉真的泪目三连，巨人必将名垂青史</td>\n",
       "      <td>#;进击;的;巨人;最终;季;#;能;在;被;全面;封禁;的;状态;下;再度;冲上;热;搜;的;也;只有;我大;巨人;了;吧;作为;一个;第一季;出来;就;开始;追;的;老粉;真的;泪目;三;...</td>\n",
       "    </tr>\n",
       "    <tr>\n",
       "      <th>1</th>\n",
       "      <td>#进击的巨人最终季# 多少年前的青春啊终于迎来最终季 #第一季第二季第三季第四季# 都不舍得看完全部。。。看完了真的青春也就结束了。。。回不来的就再也回不来了，熟肉平仑🈶️</td>\n",
       "      <td>#;进击;的;巨人;最终;季;#; ;多少;年前;的;青春;啊;终于;迎来;最终;季; ;#;第一季;第二季;第三季;第四季;#; ;都;不;舍得;看;完全;部;。;。;。;看;完;了;真的;...</td>\n",
       "    </tr>\n",
       "    <tr>\n",
       "      <th>2</th>\n",
       "      <td>以你的心诠释我的爱今日开机，进击的巨人第四季12集有了！！！ 幸福来得太突然了吧嘎嘎嘎 #进击的巨人##进击的巨人最终季# 。想看先 ！！！ ，来看评！！！</td>\n",
       "      <td>以;你;的;心;诠释;我;的;爱;今日;开机;，;进击;的;巨人;第四季;12;集有;了;！;！;！; ;幸福;来得;太;突然;了;吧;嘎嘎;嘎; ;#;进击;的;巨人;##;进击;的;巨人;...</td>\n",
       "    </tr>\n",
       "    <tr>\n",
       "      <th>3</th>\n",
       "      <td>看完巨人最终季熟肉觉得真的超出预期了，也逐渐适应了新制作的画风，一直都维持水平，巨人第四季全集就可以封神了#进击的巨人# 看平仑区 #进击的巨人最终季# #进击的巨人 第四季#</td>\n",
       "      <td>看;完;巨人;最终;季;熟肉;觉得;真的;超出;预期;了;，;也;逐渐;适应;了;新;制作;的;画风;，;一直;都;维持;水平;，;巨人;第四季;全集;就;可以;封神;了;#;进击;的;巨人;...</td>\n",
       "    </tr>\n",
       "    <tr>\n",
       "      <th>4</th>\n",
       "      <td>#进击的巨人最终季# 感觉可以从第一季开始重新追一遍了…</td>\n",
       "      <td>#;进击;的;巨人;最终;季;#; ;感觉;可以;从;第一季;开始;重新;追;一遍;了;…;</td>\n",
       "    </tr>\n",
       "    <tr>\n",
       "      <th>5</th>\n",
       "      <td>吗的 好后悔追了巨人漫画 对剧情不怎么期待 唯一期待就是画风和画面夸张效果#进击的巨人最终季#</td>\n",
       "      <td>吗;的; ;好;后悔;追;了;巨人;漫画; ;对;剧情;不怎么;期待; ;唯一;期待;就是;画风;和;画面;夸张;效果;#;进击;的;巨人;最终;季;#;</td>\n",
       "    </tr>\n",
       "    <tr>\n",
       "      <th>6</th>\n",
       "      <td>#进击的巨人最终季# 霸权番+神番的一部作品转眼大结局只希望兵长平安</td>\n",
       "      <td>#;进击;的;巨人;最终;季;#; ;霸权;番;+;神番;的;一部;作品;转眼;大结局;只;希望;兵长;平安;</td>\n",
       "    </tr>\n",
       "    <tr>\n",
       "      <th>7</th>\n",
       "      <td>#进击的巨人最终季#  第一集可真致郁啊 咒术最新两集也么好到哪里去</td>\n",
       "      <td>#;进击;的;巨人;最终;季;#; ; ;第一集;可真;致郁;啊; ;咒术;最新;两集;也;么;好;到;哪里;去;</td>\n",
       "    </tr>\n",
       "    <tr>\n",
       "      <th>8</th>\n",
       "      <td>#进击的巨人最终季#青春终于要结束了🔚感慨，感激，感动</td>\n",
       "      <td>#;进击;的;巨人;最终;季;#;青春;终于;要;结束;了;🔚;感慨;，;感激;，;感动;</td>\n",
       "    </tr>\n",
       "    <tr>\n",
       "      <th>9</th>\n",
       "      <td>#进击的巨人最终季#终于来了，得连着一起再看一遍，很怀念高三在教室看的时光。</td>\n",
       "      <td>#;进击;的;巨人;最终;季;#;终于;来;了;，;得;连;着;一起;再;看一遍;，;很;怀念;高三;在;教室;看;的;时光;。;</td>\n",
       "    </tr>\n",
       "    <tr>\n",
       "      <th>10</th>\n",
       "      <td>#进击的巨人最终季# 天呐，跟着海贼王拖了这么久，最新一集的进击的巨人简直是封神之作</td>\n",
       "      <td>#;进击;的;巨人;最终;季;#; ;天呐;，;跟着;海贼王;拖;了;这么久;，;最;新一集;的;进击;的;巨人;简直;是;封神;之作;</td>\n",
       "    </tr>\n",
       "    <tr>\n",
       "      <th>11</th>\n",
       "      <td>#进击的巨人最终季#第四季终于来了，这两天把第一部，第二部，第三部重新看了一遍，热血沸腾，一起来看看最终偏，熟肉已经在下面热好了</td>\n",
       "      <td>#;进击;的;巨人;最终;季;#;第四季;终于;来;了;，;这;两天;把;第一部;，;第二部;，;第三部;重新;看;了;一遍;，;热血沸腾;，;一;起来;看看;最终;偏;，;熟肉;已经;在;下...</td>\n",
       "    </tr>\n",
       "    <tr>\n",
       "      <th>12</th>\n",
       "      <td>#进击的巨人最终季#第一季很好看，战争就是这样无情吧。等待着被从飞机投掷而下的“敢死队”，被无智商巨人生物兵器恐吓着的敌军，一边利用着巨人之力、一边鄙视着巨人之族的马莱，想要改善自己同胞待遇的...</td>\n",
       "      <td>#;进击;的;巨人;最终;季;#;第一季;很;好看;，;战争;就是;这样;无情;吧;。;等待;着;被;从;飞机;投掷;而;下;的;“;敢死队;”;，;被;无;智商;巨人;生物;兵器;恐吓;着;...</td>\n",
       "    </tr>\n",
       "    <tr>\n",
       "      <th>13</th>\n",
       "      <td>#进击的巨人最终季#好激动啊我的利威尔要回来了啊啊啊啊啊，哭惹</td>\n",
       "      <td>#;进击;的;巨人;最终;季;#;好;激动;啊;我;的;利;威尔;要;回来;了;啊啊啊;啊;啊;，;哭;惹;</td>\n",
       "    </tr>\n",
       "    <tr>\n",
       "      <th>14</th>\n",
       "      <td>#进击的巨人最终季# 怎么说呢，马趴是用心了的，同期还负责咒术，加上又是巨人这么大的ip，对于漫画党而言要求真的不高， 按照作者的说法大概 136话巨人完结，只希望谏山老贼少发点刀，千万千万千...</td>\n",
       "      <td>#;进击;的;巨人;最终;季;#; ;怎么;说;呢;，;马;趴;是;用心;了;的;，;同期;还;负责;咒术;，;加上;又;是;巨人;这么;大;的;ip;，;对于;漫画;党;而言;要求;真的;不...</td>\n",
       "    </tr>\n",
       "    <tr>\n",
       "      <th>15</th>\n",
       "      <td>#进击的巨人最终季# 有生之年系列。高中开始看到现在</td>\n",
       "      <td>#;进击;的;巨人;最终;季;#; ;有生之年;系列;。;高中;开始;看到;现在;</td>\n",
       "    </tr>\n",
       "    <tr>\n",
       "      <th>16</th>\n",
       "      <td>#进击的巨人最终季#啊啊啊啊啊啊啊啊啊啊😭😭😭😭😭看完第一集太震撼了，整个人鸡皮疙瘩都起来了进巨，yyds</td>\n",
       "      <td>#;进击;的;巨人;最终;季;#;啊啊啊;啊啊啊;啊啊啊;啊;😭;😭;😭;😭;😭;看;完;第一集;太;震撼;了;，;整个;人;鸡皮疙瘩;都;起来;了;进巨;，;yyds;</td>\n",
       "    </tr>\n",
       "    <tr>\n",
       "      <th>17</th>\n",
       "      <td>#鬼灭之刃 无限列车篇##进击的巨人##进击的巨人最终季# 两个一起出来了，终于看完啦，好开心，看剧找她@爱追剧的小粥粥 ，没要💰</td>\n",
       "      <td>#;鬼灭;之刃; ;无限;列车;篇;##;进击;的;巨人;##;进击;的;巨人;最终;季;#; ;两个;一起;出来;了;，;终于;看;完;啦;，;好开心;，;看剧;找;她;@;爱;追剧;的;小...</td>\n",
       "    </tr>\n",
       "    <tr>\n",
       "      <th>18</th>\n",
       "      <td>#进击的巨人最终季#虽然第三季还没看完 但是还是好期待第四季！</td>\n",
       "      <td>#;进击;的;巨人;最终;季;#;虽然;第三季;还;没;看;完; ;但是;还是;好;期待;第四季;！;</td>\n",
       "    </tr>\n",
       "    <tr>\n",
       "      <th>19</th>\n",
       "      <td>#进击的巨人最终季# 多少年前的青春啊我们终于迎来了最终季，我要一次性看完 #第一季第二季第三季第四季# 一起去看吧熟肉平仑🈶️</td>\n",
       "      <td>#;进击;的;巨人;最终;季;#; ;多少;年前;的;青春;啊;我们;终于;迎来;了;最终;季;，;我要;一次性;看;完; ;#;第一季;第二季;第三季;第四季;#; ;一起;去;看吧;熟肉;...</td>\n",
       "    </tr>\n",
       "    <tr>\n",
       "      <th>20</th>\n",
       "      <td>巨人走在了不良人和无限列车的前面#进击的巨人最终季#</td>\n",
       "      <td>巨人;走;在;了;不良;人;和;无限;列车;的;前面;#;进击;的;巨人;最终;季;#;</td>\n",
       "    </tr>\n",
       "    <tr>\n",
       "      <th>21</th>\n",
       "      <td>#进击的巨人最终季#第一集就让我明白了，原来人肉冲击还可以这样玩 马莱</td>\n",
       "      <td>#;进击;的;巨人;最终;季;#;第一集;就让;我;明白;了;，;原来;人;肉;冲击;还;可以;这样;玩; ;马莱;</td>\n",
       "    </tr>\n",
       "    <tr>\n",
       "      <th>22</th>\n",
       "      <td>#进击的巨人最终季#第一集就这么强的嘛视角对换真的太妙了，真真无正义皆立场</td>\n",
       "      <td>#;进击;的;巨人;最终;季;#;第一集;就;这么;强;的;嘛;视角;对换;真的;太妙了;，;真真;无;正义;皆;立场;</td>\n",
       "    </tr>\n",
       "    <tr>\n",
       "      <th>23</th>\n",
       "      <td>#进击的巨人最终季#周末抽时间把一二三全部重新看了一遍 要不然就感觉没那么激情了</td>\n",
       "      <td>#;进击;的;巨人;最终;季;#;周末;抽时间;把;一二三;全部;重新;看;了;一遍; ;要不然;就;感觉;没;那么;激情;了;</td>\n",
       "    </tr>\n",
       "    <tr>\n",
       "      <th>24</th>\n",
       "      <td>#进击的巨人最终季# 呜呜我最爱的兵长！一二季我都快忘了，又该重温了</td>\n",
       "      <td>#;进击;的;巨人;最终;季;#; ;呜呜;我;最;爱;的;兵长;！;一;二季;我;都;快;忘;了;，;又;该;重温;了;</td>\n",
       "    </tr>\n",
       "    <tr>\n",
       "      <th>25</th>\n",
       "      <td>#进击的巨人最终季#看起来看起来!呜呜呜，居然到了最终季</td>\n",
       "      <td>#;进击;的;巨人;最终;季;#;看起来;看起来;!;呜呜;呜;，;居然;到;了;最终;季;</td>\n",
       "    </tr>\n",
       "    <tr>\n",
       "      <th>26</th>\n",
       "      <td>#进击的巨人最终季#呜呜，终于等到了进击的巨人第四季，七年了，攻守互换，墙内的人终于来到墙外，看见了世界，是时候给一切画上句号了，又重温了第一季第二季第三季，真的是我最爱的动漫了</td>\n",
       "      <td>#;进击;的;巨人;最终;季;#;呜呜;，;终于;等到;了;进击;的;巨人;第四季;，;七年;了;，;攻守;互换;，;墙内;的;人;终于;来到;墙外;，;看见;了;世界;，;是;时候;给;一切...</td>\n",
       "    </tr>\n",
       "    <tr>\n",
       "      <th>27</th>\n",
       "      <td>#进击的巨人最终季# 终于开播了，第一集就被激烈的战争场面给震撼到，不愧是当今最顶级制作水准的动漫。单是配乐就可比肩入围奥斯卡的电影水平。只有惊叹！值得珍惜、细品这最终季的每一集</td>\n",
       "      <td>#;进击;的;巨人;最终;季;#; ;终于;开播;了;，;第一集;就;被;激烈;的;战争场面;给;震撼;到;，;不愧;是;当今;最;顶级;制作;水准;的;动漫;。;单是;配乐;就;可;比肩;入...</td>\n",
       "    </tr>\n",
       "    <tr>\n",
       "      <th>28</th>\n",
       "      <td>大一至现在希望利威尔结局是好的♥️#进击的巨人最终季#</td>\n",
       "      <td>大一至;现在;希望;利;威尔;结局;是;好;的;♥;️;#;进击;的;巨人;最终;季;#;</td>\n",
       "    </tr>\n",
       "    <tr>\n",
       "      <th>29</th>\n",
       "      <td>#进击的巨人最终季#我靠，我爽了我爽了，第一集就有被爽到</td>\n",
       "      <td>#;进击;的;巨人;最终;季;#;我;靠;，;我爽;了;我;爽;了;，;第一集;就;有;被;爽到;</td>\n",
       "    </tr>\n",
       "    <tr>\n",
       "      <th>30</th>\n",
       "      <td>#进击的巨人最终季#致两千年后的你，我永远无法忘记这一幕伏笔揭开时那种震撼我妈的懵逼和膝盖软了的感觉</td>\n",
       "      <td>#;进击;的;巨人;最终;季;#;致;两千年;后;的;你;，;我;永远;无法;忘记;这;一幕;伏笔;揭开;时;那种;震撼;我妈;的;懵;逼;和;膝盖;软;了;的;感觉;</td>\n",
       "    </tr>\n",
       "    <tr>\n",
       "      <th>31</th>\n",
       "      <td>#进击的巨人最终季#好狠，顶风作案，这是多少人的青春啊！最后一季完完整整放完，墙别封太死plz</td>\n",
       "      <td>#;进击;的;巨人;最终;季;#;好狠;，;顶风;作案;，;这是;多少;人;的;青春;啊;！;最后;一季;完完整整;放;完;，;墙别;封太死;plz;</td>\n",
       "    </tr>\n",
       "    <tr>\n",
       "      <th>32</th>\n",
       "      <td>#进击的巨人最终季# 又上热搜了！可我还不知道哪里可以看呢！啊啊啊啊啊啊啊啊啊</td>\n",
       "      <td>#;进击;的;巨人;最终;季;#; ;又;上;热;搜;了;！;可;我;还;不;知道;哪里;可以;看;呢;！;啊啊啊;啊啊啊;啊啊啊;</td>\n",
       "    </tr>\n",
       "    <tr>\n",
       "      <th>33</th>\n",
       "      <td>#进击的巨人最终季#哇啊啊啊  终于等到进击的巨人第四季了  爷青回！！！</td>\n",
       "      <td>#;进击;的;巨人;最终;季;#;哇;啊啊啊; ; ;终于;等到;进击;的;巨人;第四季;了; ; ;爷青回;！;！;！; ;</td>\n",
       "    </tr>\n",
       "    <tr>\n",
       "      <th>34</th>\n",
       "      <td>#进击的巨人最终季#媲美钢炼的神仙番，它lei了</td>\n",
       "      <td>#;进击;的;巨人;最终;季;#;媲美;钢炼;的;神仙;番;，;它;lei;了;</td>\n",
       "    </tr>\n",
       "    <tr>\n",
       "      <th>35</th>\n",
       "      <td>#进击的巨人最终季#嗷嗷嗷，明天看起来～兵长我来啦～艾导我来啦～开心🥳</td>\n",
       "      <td>#;进击;的;巨人;最终;季;#;嗷嗷;嗷;，;明天;看起来;～;兵长;我;来;啦;～;艾导;我;来;啦;～;开心;🥳;</td>\n",
       "    </tr>\n",
       "    <tr>\n",
       "      <th>36</th>\n",
       "      <td>#进击的巨人最终季#我不管我不管等我考完研我要从第一季重新看一百遍 当初高一那个丑丑的兵长手办还有特意从日本带回来的链子还锁我杂物柜呢我 想看！此时此刻！</td>\n",
       "      <td>#;进击;的;巨人;最终;季;#;我;不管;我;不管;等;我;考;完研;我;要;从;第一季;重新;看;一百遍; ;当初;高一;那个;丑丑;的;兵长;手办;还有;特意;从;日本;带;回来;的;链...</td>\n",
       "    </tr>\n",
       "    <tr>\n",
       "      <th>37</th>\n",
       "      <td>#进击的巨人最终季#爷青结 一上来直接大场面 绝了绝了</td>\n",
       "      <td>#;进击;的;巨人;最终;季;#;爷青结; ;一;上来;直接;大;场面; ;绝;了;绝;了;</td>\n",
       "    </tr>\n",
       "    <tr>\n",
       "      <th>38</th>\n",
       "      <td>进击的巨人最终季！爷的青春即将含泪完结？！#进击的巨人最终季#</td>\n",
       "      <td>进击;的;巨人;最终;季;！;爷;的;青春;即将;含泪;完结;？;！;#;进击;的;巨人;最终;季;#;</td>\n",
       "    </tr>\n",
       "    <tr>\n",
       "      <th>39</th>\n",
       "      <td>#进击的巨人最终季# 看完最终季第一集谁不大喊一声jjdjryyds！</td>\n",
       "      <td>#;进击;的;巨人;最终;季;#; ;看;完;最终;季;第一集;谁;不;大喊;一声;jjdjryyds;！;</td>\n",
       "    </tr>\n",
       "    <tr>\n",
       "      <th>40</th>\n",
       "      <td>看不到巨人最终季 爷很难过 更难过的是 连个图都发不出来#进击的巨人##进击的巨人最终季#</td>\n",
       "      <td>看不到;巨人;最终;季; ;爷;很;难过; ;更;难过;的;是; ;连个;图;都;发;不;出来;#;进击;的;巨人;##;进击;的;巨人;最终;季;#;</td>\n",
       "    </tr>\n",
       "    <tr>\n",
       "      <th>41</th>\n",
       "      <td>进击的巨人超话#进击的巨人最终季# 看完有点懵可能还需要理一下剧情😂这是四年后了？</td>\n",
       "      <td>进击;的;巨人;超话;#;进击;的;巨人;最终;季;#; ;看;完;有点;懵;可能;还;需要;理;一下;剧情;😂;这是;四年;后;了;？;</td>\n",
       "    </tr>\n",
       "    <tr>\n",
       "      <th>42</th>\n",
       "      <td>#进击的巨人最终季#虽然看得一脸懵逼 但是好燃本来好担心换了制作公司会不好看来着</td>\n",
       "      <td>#;进击;的;巨人;最终;季;#;虽然;看;得;一脸;懵;逼; ;但是;好燃;本来;好;担心;换;了;制作;公司;会;不好;看来;着;</td>\n",
       "    </tr>\n",
       "    <tr>\n",
       "      <th>43</th>\n",
       "      <td>#进击的巨人最终季# 看得我一脸懵逼感觉自己是不是少看了一季原来是讲海那边的故事，据说一路看下去还要继续懵逼好几集，是上一季结尾猿之巨人还有莱纳逃走以后四年后的故事了</td>\n",
       "      <td>#;进击;的;巨人;最终;季;#; ;看得;我;一脸;懵;逼;感觉;自己;是不是;少看;了;一季;原来;是;讲海;那边;的;故事;，;据说;一路;看;下去;还要;继续;懵;逼;好几;集;，;是...</td>\n",
       "    </tr>\n",
       "    <tr>\n",
       "      <th>44</th>\n",
       "      <td>#进击的巨人最终季#认真的看完第一话，emmmm，贾碧这个碧池，她该死！第一集都是铺垫有点慢。也别想献出心脏了，无悔的选择也成笑话了，致2000年后的你毁灭人类！一起假嗨～💣</td>\n",
       "      <td>#;进击;的;巨人;最终;季;#;认真;的;看;完;第一;话;，;emmmm;，;贾碧;这个;碧池;，;她;该死;！;第一集;都;是;铺垫;有点;慢;。;也;别;想;献出;心脏;了;，;无悔;...</td>\n",
       "    </tr>\n",
       "    <tr>\n",
       "      <th>45</th>\n",
       "      <td>#进击的巨人最终季#我晕了 我为什么看不懂 啥啊  我只记得当时买的漫画 看到了发现墙是巨人做的那里🆘啥啊这都啥展开</td>\n",
       "      <td>#;进击;的;巨人;最终;季;#;我;晕;了; ;我;为什么;看不懂; ;啥;啊; ; ;我;只;记得;当时;买;的;漫画; ;看到;了;发现;墙;是;巨人;做;的;那里;🆘;啥;啊;这;都;...</td>\n",
       "    </tr>\n",
       "    <tr>\n",
       "      <th>46</th>\n",
       "      <td>#进击的巨人最终季#啊啊啊啊啊啊啊啊第一集就好震撼啊！虽然好多生面孔，但是好震撼啊，新出场的这只颚巨好帅，期待十九伦啊啊啊啊啊啊啊啊啊啊啊啊！</td>\n",
       "      <td>#;进击;的;巨人;最终;季;#;啊啊啊;啊啊啊;啊;啊;第一集;就;好;震撼;啊;！;虽然;好多;生面孔;，;但是;好;震撼;啊;，;新;出场;的;这;只;颚;巨好帅;，;期待;十九;伦;啊...</td>\n",
       "    </tr>\n",
       "    <tr>\n",
       "      <th>47</th>\n",
       "      <td>#进击的巨人最终季# 特别喜欢op今天上班循环了好久（网易云bgm版）阴不阴间我不知道，我只知道很上脑</td>\n",
       "      <td>#;进击;的;巨人;最终;季;#; ;特别;喜欢;op;今天;上班;循环;了;好久;（;网易;云;bgm;版;）;阴;不;阴间;我;不;知道;，;我;只;知道;很;上脑;</td>\n",
       "    </tr>\n",
       "    <tr>\n",
       "      <th>48</th>\n",
       "      <td>#进击的巨人##进击的巨人最终季# 《进击的巨人第四季》‼️ 在艾伦他们居住的帕拉迪岛之外，还存在一个其他人类居住的世界。1-3季百度☁️我都看完了哦～抓紧时间一起来看吧！</td>\n",
       "      <td>#;进击;的;巨人;##;进击;的;巨人;最终;季;#; ;《;进击;的;巨人;第四季;》;‼;️; ;在;艾伦;他们;居住;的;帕拉迪;岛;之外;，;还;存在;一个;其他;人类;居住;的;世...</td>\n",
       "    </tr>\n",
       "    <tr>\n",
       "      <th>49</th>\n",
       "      <td>#进击的巨人最终季# 还是以前的味道！第一集直接炸场！</td>\n",
       "      <td>#;进击;的;巨人;最终;季;#; ;还是;以前;的;味道;！;第一集;直接;炸场;！;</td>\n",
       "    </tr>\n",
       "    <tr>\n",
       "      <th>50</th>\n",
       "      <td>我只想大喊一声巨人牛B！等了这么久，巨人最终话终于更新，虽然第一集开头全是新角色。“贾碧”听着比较熟悉（不看漫画），一去查，竟然是杀莎夏的人？气死老子了！对于贾碧的争议还是蛮大的，特别是听说漫...</td>\n",
       "      <td>我;只;想;大喊;一声;巨人;牛;B;！;等;了;这么久;，;巨人;最终;话;终于;更新;，;虽然;第一集;开头;全是;新;角色;。;“;贾碧;”;听;着;比较;熟悉;（;不看;漫画;）;，;...</td>\n",
       "    </tr>\n",
       "    <tr>\n",
       "      <th>51</th>\n",
       "      <td>#进击的巨人最终季#好家伙第一集看得我以为自己看落一季还好还好，后面看懂了最终季了，我的铁三角一定要稳稳的！</td>\n",
       "      <td>#;进击;的;巨人;最终;季;#;好家伙;第一集;看得;我;以为;自己;看落;一季;还好;还好;，;后面;看;懂;了;最终;季;了;，;我;的;铁三角;一定;要;稳稳;的;！;</td>\n",
       "    </tr>\n",
       "  </tbody>\n",
       "</table>\n",
       "</div>"
      ],
      "text/plain": [
       "                                                                                                     正文  \\\n",
       "0                                 #进击的巨人最终季#能在被全面封禁的状态下再度冲上热搜的也只有我大巨人了吧作为一个第一季出来就开始追的老粉真的泪目三连，巨人必将名垂青史    \n",
       "1               #进击的巨人最终季# 多少年前的青春啊终于迎来最终季 #第一季第二季第三季第四季# 都不舍得看完全部。。。看完了真的青春也就结束了。。。回不来的就再也回不来了，熟肉平仑🈶️    \n",
       "2                       以你的心诠释我的爱今日开机，进击的巨人第四季12集有了！！！ 幸福来得太突然了吧嘎嘎嘎 #进击的巨人##进击的巨人最终季# 。想看先 ！！！ ，来看评！！！    \n",
       "3             看完巨人最终季熟肉觉得真的超出预期了，也逐渐适应了新制作的画风，一直都维持水平，巨人第四季全集就可以封神了#进击的巨人# 看平仑区 #进击的巨人最终季# #进击的巨人 第四季#    \n",
       "4                                                                         #进击的巨人最终季# 感觉可以从第一季开始重新追一遍了…    \n",
       "5                                                      吗的 好后悔追了巨人漫画 对剧情不怎么期待 唯一期待就是画风和画面夸张效果#进击的巨人最终季#    \n",
       "6                                                                   #进击的巨人最终季# 霸权番+神番的一部作品转眼大结局只希望兵长平安    \n",
       "7                                                                   #进击的巨人最终季#  第一集可真致郁啊 咒术最新两集也么好到哪里去    \n",
       "8                                                                          #进击的巨人最终季#青春终于要结束了🔚感慨，感激，感动    \n",
       "9                                                               #进击的巨人最终季#终于来了，得连着一起再看一遍，很怀念高三在教室看的时光。    \n",
       "10                                                          #进击的巨人最终季# 天呐，跟着海贼王拖了这么久，最新一集的进击的巨人简直是封神之作    \n",
       "11                                    #进击的巨人最终季#第四季终于来了，这两天把第一部，第二部，第三部重新看了一遍，热血沸腾，一起来看看最终偏，熟肉已经在下面热好了    \n",
       "12  #进击的巨人最终季#第一季很好看，战争就是这样无情吧。等待着被从飞机投掷而下的“敢死队”，被无智商巨人生物兵器恐吓着的敌军，一边利用着巨人之力、一边鄙视着巨人之族的马莱，想要改善自己同胞待遇的...   \n",
       "13                                                                     #进击的巨人最终季#好激动啊我的利威尔要回来了啊啊啊啊啊，哭惹    \n",
       "14  #进击的巨人最终季# 怎么说呢，马趴是用心了的，同期还负责咒术，加上又是巨人这么大的ip，对于漫画党而言要求真的不高， 按照作者的说法大概 136话巨人完结，只希望谏山老贼少发点刀，千万千万千...   \n",
       "15                                                                          #进击的巨人最终季# 有生之年系列。高中开始看到现在    \n",
       "16                                               #进击的巨人最终季#啊啊啊啊啊啊啊啊啊啊😭😭😭😭😭看完第一集太震撼了，整个人鸡皮疙瘩都起来了进巨，yyds    \n",
       "17                                   #鬼灭之刃 无限列车篇##进击的巨人##进击的巨人最终季# 两个一起出来了，终于看完啦，好开心，看剧找她@爱追剧的小粥粥 ，没要💰    \n",
       "18                                                                     #进击的巨人最终季#虽然第三季还没看完 但是还是好期待第四季！    \n",
       "19                                    #进击的巨人最终季# 多少年前的青春啊我们终于迎来了最终季，我要一次性看完 #第一季第二季第三季第四季# 一起去看吧熟肉平仑🈶️    \n",
       "20                                                                          巨人走在了不良人和无限列车的前面#进击的巨人最终季#    \n",
       "21                                                                 #进击的巨人最终季#第一集就让我明白了，原来人肉冲击还可以这样玩 马莱    \n",
       "22                                                               #进击的巨人最终季#第一集就这么强的嘛视角对换真的太妙了，真真无正义皆立场    \n",
       "23                                                            #进击的巨人最终季#周末抽时间把一二三全部重新看了一遍 要不然就感觉没那么激情了    \n",
       "24                                                                  #进击的巨人最终季# 呜呜我最爱的兵长！一二季我都快忘了，又该重温了    \n",
       "25                                                                        #进击的巨人最终季#看起来看起来!呜呜呜，居然到了最终季    \n",
       "26           #进击的巨人最终季#呜呜，终于等到了进击的巨人第四季，七年了，攻守互换，墙内的人终于来到墙外，看见了世界，是时候给一切画上句号了，又重温了第一季第二季第三季，真的是我最爱的动漫了    \n",
       "27           #进击的巨人最终季# 终于开播了，第一集就被激烈的战争场面给震撼到，不愧是当今最顶级制作水准的动漫。单是配乐就可比肩入围奥斯卡的电影水平。只有惊叹！值得珍惜、细品这最终季的每一集    \n",
       "28                                                                         大一至现在希望利威尔结局是好的♥️#进击的巨人最终季#    \n",
       "29                                                                        #进击的巨人最终季#我靠，我爽了我爽了，第一集就有被爽到    \n",
       "30                                                  #进击的巨人最终季#致两千年后的你，我永远无法忘记这一幕伏笔揭开时那种震撼我妈的懵逼和膝盖软了的感觉    \n",
       "31                                                     #进击的巨人最终季#好狠，顶风作案，这是多少人的青春啊！最后一季完完整整放完，墙别封太死plz    \n",
       "32                                                             #进击的巨人最终季# 又上热搜了！可我还不知道哪里可以看呢！啊啊啊啊啊啊啊啊啊    \n",
       "33                                                              #进击的巨人最终季#哇啊啊啊  终于等到进击的巨人第四季了  爷青回！！！     \n",
       "34                                                                            #进击的巨人最终季#媲美钢炼的神仙番，它lei了    \n",
       "35                                                                 #进击的巨人最终季#嗷嗷嗷，明天看起来～兵长我来啦～艾导我来啦～开心🥳    \n",
       "36                       #进击的巨人最终季#我不管我不管等我考完研我要从第一季重新看一百遍 当初高一那个丑丑的兵长手办还有特意从日本带回来的链子还锁我杂物柜呢我 想看！此时此刻！    \n",
       "37                                                                         #进击的巨人最终季#爷青结 一上来直接大场面 绝了绝了    \n",
       "38                                                                     进击的巨人最终季！爷的青春即将含泪完结？！#进击的巨人最终季#    \n",
       "39                                                                 #进击的巨人最终季# 看完最终季第一集谁不大喊一声jjdjryyds！    \n",
       "40                                                       看不到巨人最终季 爷很难过 更难过的是 连个图都发不出来#进击的巨人##进击的巨人最终季#    \n",
       "41                                                           进击的巨人超话#进击的巨人最终季# 看完有点懵可能还需要理一下剧情😂这是四年后了？    \n",
       "42                                                            #进击的巨人最终季#虽然看得一脸懵逼 但是好燃本来好担心换了制作公司会不好看来着    \n",
       "43                 #进击的巨人最终季# 看得我一脸懵逼感觉自己是不是少看了一季原来是讲海那边的故事，据说一路看下去还要继续懵逼好几集，是上一季结尾猿之巨人还有莱纳逃走以后四年后的故事了    \n",
       "44             #进击的巨人最终季#认真的看完第一话，emmmm，贾碧这个碧池，她该死！第一集都是铺垫有点慢。也别想献出心脏了，无悔的选择也成笑话了，致2000年后的你毁灭人类！一起假嗨～💣    \n",
       "45                                          #进击的巨人最终季#我晕了 我为什么看不懂 啥啊  我只记得当时买的漫画 看到了发现墙是巨人做的那里🆘啥啊这都啥展开    \n",
       "46                             #进击的巨人最终季#啊啊啊啊啊啊啊啊第一集就好震撼啊！虽然好多生面孔，但是好震撼啊，新出场的这只颚巨好帅，期待十九伦啊啊啊啊啊啊啊啊啊啊啊啊！    \n",
       "47                                                 #进击的巨人最终季# 特别喜欢op今天上班循环了好久（网易云bgm版）阴不阴间我不知道，我只知道很上脑    \n",
       "48              #进击的巨人##进击的巨人最终季# 《进击的巨人第四季》‼️ 在艾伦他们居住的帕拉迪岛之外，还存在一个其他人类居住的世界。1-3季百度☁️我都看完了哦～抓紧时间一起来看吧！    \n",
       "49                                                                         #进击的巨人最终季# 还是以前的味道！第一集直接炸场！    \n",
       "50  我只想大喊一声巨人牛B！等了这么久，巨人最终话终于更新，虽然第一集开头全是新角色。“贾碧”听着比较熟悉（不看漫画），一去查，竟然是杀莎夏的人？气死老子了！对于贾碧的争议还是蛮大的，特别是听说漫...   \n",
       "51                                              #进击的巨人最终季#好家伙第一集看得我以为自己看落一季还好还好，后面看懂了最终季了，我的铁三角一定要稳稳的！    \n",
       "\n",
       "                                                                                                jieba分词  \n",
       "0   #;进击;的;巨人;最终;季;#;能;在;被;全面;封禁;的;状态;下;再度;冲上;热;搜;的;也;只有;我大;巨人;了;吧;作为;一个;第一季;出来;就;开始;追;的;老粉;真的;泪目;三;...  \n",
       "1   #;进击;的;巨人;最终;季;#; ;多少;年前;的;青春;啊;终于;迎来;最终;季; ;#;第一季;第二季;第三季;第四季;#; ;都;不;舍得;看;完全;部;。;。;。;看;完;了;真的;...  \n",
       "2   以;你;的;心;诠释;我;的;爱;今日;开机;，;进击;的;巨人;第四季;12;集有;了;！;！;！; ;幸福;来得;太;突然;了;吧;嘎嘎;嘎; ;#;进击;的;巨人;##;进击;的;巨人;...  \n",
       "3   看;完;巨人;最终;季;熟肉;觉得;真的;超出;预期;了;，;也;逐渐;适应;了;新;制作;的;画风;，;一直;都;维持;水平;，;巨人;第四季;全集;就;可以;封神;了;#;进击;的;巨人;...  \n",
       "4                                                       #;进击;的;巨人;最终;季;#; ;感觉;可以;从;第一季;开始;重新;追;一遍;了;…;   \n",
       "5                        吗;的; ;好;后悔;追;了;巨人;漫画; ;对;剧情;不怎么;期待; ;唯一;期待;就是;画风;和;画面;夸张;效果;#;进击;的;巨人;最终;季;#;   \n",
       "6                                              #;进击;的;巨人;最终;季;#; ;霸权;番;+;神番;的;一部;作品;转眼;大结局;只;希望;兵长;平安;   \n",
       "7                                            #;进击;的;巨人;最终;季;#; ; ;第一集;可真;致郁;啊; ;咒术;最新;两集;也;么;好;到;哪里;去;   \n",
       "8                                                        #;进击;的;巨人;最终;季;#;青春;终于;要;结束;了;🔚;感慨;，;感激;，;感动;   \n",
       "9                                    #;进击;的;巨人;最终;季;#;终于;来;了;，;得;连;着;一起;再;看一遍;，;很;怀念;高三;在;教室;看;的;时光;。;   \n",
       "10                                #;进击;的;巨人;最终;季;#; ;天呐;，;跟着;海贼王;拖;了;这么久;，;最;新一集;的;进击;的;巨人;简直;是;封神;之作;   \n",
       "11  #;进击;的;巨人;最终;季;#;第四季;终于;来;了;，;这;两天;把;第一部;，;第二部;，;第三部;重新;看;了;一遍;，;热血沸腾;，;一;起来;看看;最终;偏;，;熟肉;已经;在;下...  \n",
       "12  #;进击;的;巨人;最终;季;#;第一季;很;好看;，;战争;就是;这样;无情;吧;。;等待;着;被;从;飞机;投掷;而;下;的;“;敢死队;”;，;被;无;智商;巨人;生物;兵器;恐吓;着;...  \n",
       "13                                              #;进击;的;巨人;最终;季;#;好;激动;啊;我;的;利;威尔;要;回来;了;啊啊啊;啊;啊;，;哭;惹;   \n",
       "14  #;进击;的;巨人;最终;季;#; ;怎么;说;呢;，;马;趴;是;用心;了;的;，;同期;还;负责;咒术;，;加上;又;是;巨人;这么;大;的;ip;，;对于;漫画;党;而言;要求;真的;不...  \n",
       "15                                                           #;进击;的;巨人;最终;季;#; ;有生之年;系列;。;高中;开始;看到;现在;   \n",
       "16               #;进击;的;巨人;最终;季;#;啊啊啊;啊啊啊;啊啊啊;啊;😭;😭;😭;😭;😭;看;完;第一集;太;震撼;了;，;整个;人;鸡皮疙瘩;都;起来;了;进巨;，;yyds;   \n",
       "17  #;鬼灭;之刃; ;无限;列车;篇;##;进击;的;巨人;##;进击;的;巨人;最终;季;#; ;两个;一起;出来;了;，;终于;看;完;啦;，;好开心;，;看剧;找;她;@;爱;追剧;的;小...  \n",
       "18                                                 #;进击;的;巨人;最终;季;#;虽然;第三季;还;没;看;完; ;但是;还是;好;期待;第四季;！;   \n",
       "19  #;进击;的;巨人;最终;季;#; ;多少;年前;的;青春;啊;我们;终于;迎来;了;最终;季;，;我要;一次性;看;完; ;#;第一季;第二季;第三季;第四季;#; ;一起;去;看吧;熟肉;...  \n",
       "20                                                        巨人;走;在;了;不良;人;和;无限;列车;的;前面;#;进击;的;巨人;最终;季;#;   \n",
       "21                                          #;进击;的;巨人;最终;季;#;第一集;就让;我;明白;了;，;原来;人;肉;冲击;还;可以;这样;玩; ;马莱;   \n",
       "22                                        #;进击;的;巨人;最终;季;#;第一集;就;这么;强;的;嘛;视角;对换;真的;太妙了;，;真真;无;正义;皆;立场;   \n",
       "23                                    #;进击;的;巨人;最终;季;#;周末;抽时间;把;一二三;全部;重新;看;了;一遍; ;要不然;就;感觉;没;那么;激情;了;   \n",
       "24                                       #;进击;的;巨人;最终;季;#; ;呜呜;我;最;爱;的;兵长;！;一;二季;我;都;快;忘;了;，;又;该;重温;了;   \n",
       "25                                                      #;进击;的;巨人;最终;季;#;看起来;看起来;!;呜呜;呜;，;居然;到;了;最终;季;   \n",
       "26  #;进击;的;巨人;最终;季;#;呜呜;，;终于;等到;了;进击;的;巨人;第四季;，;七年;了;，;攻守;互换;，;墙内;的;人;终于;来到;墙外;，;看见;了;世界;，;是;时候;给;一切...  \n",
       "27  #;进击;的;巨人;最终;季;#; ;终于;开播;了;，;第一集;就;被;激烈;的;战争场面;给;震撼;到;，;不愧;是;当今;最;顶级;制作;水准;的;动漫;。;单是;配乐;就;可;比肩;入...  \n",
       "28                                                       大一至;现在;希望;利;威尔;结局;是;好;的;♥;️;#;进击;的;巨人;最终;季;#;   \n",
       "29                                                   #;进击;的;巨人;最终;季;#;我;靠;，;我爽;了;我;爽;了;，;第一集;就;有;被;爽到;   \n",
       "30                #;进击;的;巨人;最终;季;#;致;两千年;后;的;你;，;我;永远;无法;忘记;这;一幕;伏笔;揭开;时;那种;震撼;我妈;的;懵;逼;和;膝盖;软;了;的;感觉;   \n",
       "31                         #;进击;的;巨人;最终;季;#;好狠;，;顶风;作案;，;这是;多少;人;的;青春;啊;！;最后;一季;完完整整;放;完;，;墙别;封太死;plz;   \n",
       "32                                  #;进击;的;巨人;最终;季;#; ;又;上;热;搜;了;！;可;我;还;不;知道;哪里;可以;看;呢;！;啊啊啊;啊啊啊;啊啊啊;   \n",
       "33                                     #;进击;的;巨人;最终;季;#;哇;啊啊啊; ; ;终于;等到;进击;的;巨人;第四季;了; ; ;爷青回;！;！;！; ;   \n",
       "34                                                            #;进击;的;巨人;最终;季;#;媲美;钢炼;的;神仙;番;，;它;lei;了;   \n",
       "35                                        #;进击;的;巨人;最终;季;#;嗷嗷;嗷;，;明天;看起来;～;兵长;我;来;啦;～;艾导;我;来;啦;～;开心;🥳;   \n",
       "36  #;进击;的;巨人;最终;季;#;我;不管;我;不管;等;我;考;完研;我;要;从;第一季;重新;看;一百遍; ;当初;高一;那个;丑丑;的;兵长;手办;还有;特意;从;日本;带;回来;的;链...  \n",
       "37                                                      #;进击;的;巨人;最终;季;#;爷青结; ;一;上来;直接;大;场面; ;绝;了;绝;了;   \n",
       "38                                                进击;的;巨人;最终;季;！;爷;的;青春;即将;含泪;完结;？;！;#;进击;的;巨人;最终;季;#;   \n",
       "39                                              #;进击;的;巨人;最终;季;#; ;看;完;最终;季;第一集;谁;不;大喊;一声;jjdjryyds;！;   \n",
       "40                        看不到;巨人;最终;季; ;爷;很;难过; ;更;难过;的;是; ;连个;图;都;发;不;出来;#;进击;的;巨人;##;进击;的;巨人;最终;季;#;   \n",
       "41                               进击;的;巨人;超话;#;进击;的;巨人;最终;季;#; ;看;完;有点;懵;可能;还;需要;理;一下;剧情;😂;这是;四年;后;了;？;   \n",
       "42                                 #;进击;的;巨人;最终;季;#;虽然;看;得;一脸;懵;逼; ;但是;好燃;本来;好;担心;换;了;制作;公司;会;不好;看来;着;   \n",
       "43  #;进击;的;巨人;最终;季;#; ;看得;我;一脸;懵;逼;感觉;自己;是不是;少看;了;一季;原来;是;讲海;那边;的;故事;，;据说;一路;看;下去;还要;继续;懵;逼;好几;集;，;是...  \n",
       "44  #;进击;的;巨人;最终;季;#;认真;的;看;完;第一;话;，;emmmm;，;贾碧;这个;碧池;，;她;该死;！;第一集;都;是;铺垫;有点;慢;。;也;别;想;献出;心脏;了;，;无悔;...  \n",
       "45  #;进击;的;巨人;最终;季;#;我;晕;了; ;我;为什么;看不懂; ;啥;啊; ; ;我;只;记得;当时;买;的;漫画; ;看到;了;发现;墙;是;巨人;做;的;那里;🆘;啥;啊;这;都;...  \n",
       "46  #;进击;的;巨人;最终;季;#;啊啊啊;啊啊啊;啊;啊;第一集;就;好;震撼;啊;！;虽然;好多;生面孔;，;但是;好;震撼;啊;，;新;出场;的;这;只;颚;巨好帅;，;期待;十九;伦;啊...  \n",
       "47               #;进击;的;巨人;最终;季;#; ;特别;喜欢;op;今天;上班;循环;了;好久;（;网易;云;bgm;版;）;阴;不;阴间;我;不;知道;，;我;只;知道;很;上脑;   \n",
       "48  #;进击;的;巨人;##;进击;的;巨人;最终;季;#; ;《;进击;的;巨人;第四季;》;‼;️; ;在;艾伦;他们;居住;的;帕拉迪;岛;之外;，;还;存在;一个;其他;人类;居住;的;世...  \n",
       "49                                                        #;进击;的;巨人;最终;季;#; ;还是;以前;的;味道;！;第一集;直接;炸场;！;   \n",
       "50  我;只;想;大喊;一声;巨人;牛;B;！;等;了;这么久;，;巨人;最终;话;终于;更新;，;虽然;第一集;开头;全是;新;角色;。;“;贾碧;”;听;着;比较;熟悉;（;不看;漫画;）;，;...  \n",
       "51            #;进击;的;巨人;最终;季;#;好家伙;第一集;看得;我;以为;自己;看落;一季;还好;还好;，;后面;看;懂;了;最终;季;了;，;我;的;铁三角;一定;要;稳稳;的;！;   "
      ]
     },
     "execution_count": 14,
     "metadata": {},
     "output_type": "execute_result"
    }
   ],
   "source": [
    "import pandas as pd\n",
    "import jieba\n",
    "\n",
    "# 显示所有列\n",
    "pd.set_option('display.max_columns', None)\n",
    "# 显示所有行\n",
    "pd.set_option('display.max_rows', None)\n",
    "# 设置value的显示长度为100，默认为50\n",
    "pd.set_option('max_colwidth', 100)\n",
    "    \n",
    "tweets = pd.read_csv('weibo_hashtag/weibo/#进击的巨人最终季#/#进击的巨人最终季#.csv', usecols=['正文'])\n",
    "tweets['jieba分词'] = tweets.apply(lambda x: ';'.join(jieba.cut(x['正文'])), axis=1)\n",
    "tweets"
   ]
  },
  {
   "cell_type": "markdown",
   "metadata": {},
   "source": [
    "## SnowNLP: Simplified Chinese Text Processing\n",
    "SnowNLP是一个python写的类库，可以方便的处理中文文本内容，是受到了TextBlob的启发而写的，由于现在大部分的自然语言处理库基本都是针对英文的，于是写了一个方便处理中文的类库，并且和TextBlob不同的是，这里没有用NLTK，所有的算法都是自己实现的，并且自带了一些训练好的字典。注意本程序都是处理的unicode编码，所以使用时请自行decode成unicode。   \n",
    "https://github.com/isnowfy/snownlp\n",
    "```\n",
    "pip install snownlp\n",
    "```"
   ]
  },
  {
   "cell_type": "code",
   "execution_count": 16,
   "metadata": {},
   "outputs": [
    {
     "data": {
      "text/html": [
       "<div>\n",
       "<style scoped>\n",
       "    .dataframe tbody tr th:only-of-type {\n",
       "        vertical-align: middle;\n",
       "    }\n",
       "\n",
       "    .dataframe tbody tr th {\n",
       "        vertical-align: top;\n",
       "    }\n",
       "\n",
       "    .dataframe thead th {\n",
       "        text-align: right;\n",
       "    }\n",
       "</style>\n",
       "<table border=\"1\" class=\"dataframe\">\n",
       "  <thead>\n",
       "    <tr style=\"text-align: right;\">\n",
       "      <th></th>\n",
       "      <th>正文</th>\n",
       "      <th>snownlp分词</th>\n",
       "      <th>情感分数</th>\n",
       "    </tr>\n",
       "  </thead>\n",
       "  <tbody>\n",
       "    <tr>\n",
       "      <th>0</th>\n",
       "      <td>#进击的巨人最终季#能在被全面封禁的状态下再度冲上热搜的也只有我大巨人了吧作为一个第一季出来就开始追的老粉真的泪目三连，巨人必将名垂青史</td>\n",
       "      <td>#;进击;的;巨人;最终;季;#;能;在;被;全面;封禁;的;状态;下;再度;冲;上;热搜;的;也;只有;我;大;巨人;了;吧;作为;一个;第一;季;出来;就;开始;追;的;老粉;真;的泪;目...</td>\n",
       "      <td>0.967405</td>\n",
       "    </tr>\n",
       "    <tr>\n",
       "      <th>1</th>\n",
       "      <td>#进击的巨人最终季# 多少年前的青春啊终于迎来最终季 #第一季第二季第三季第四季# 都不舍得看完全部。。。看完了真的青春也就结束了。。。回不来的就再也回不来了，熟肉平仑🈶️</td>\n",
       "      <td>#;进击;的;巨人;最终;季;#;多少;年;前;的;青春;啊;终于;迎来;最终;季;#;第一;季;第二;季;第三;季;第四;季;#;都;不;舍得;看;完;全部;。。。;看;完;了;真;的;青春...</td>\n",
       "      <td>0.999997</td>\n",
       "    </tr>\n",
       "    <tr>\n",
       "      <th>2</th>\n",
       "      <td>以你的心诠释我的爱今日开机，进击的巨人第四季12集有了！！！ 幸福来得太突然了吧嘎嘎嘎 #进击的巨人##进击的巨人最终季# 。想看先 ！！！ ，来看评！！！</td>\n",
       "      <td>以;你;的;心;诠释;我;的;爱;今日;开机;，;进击;的;巨人;第四;季;12;集;有;了;！！！;幸福;来;得;太;突然;了;吧;嘎嘎;嘎;#;进击;的;巨人;##;进击;的;巨人;最终;...</td>\n",
       "      <td>0.997238</td>\n",
       "    </tr>\n",
       "    <tr>\n",
       "      <th>3</th>\n",
       "      <td>看完巨人最终季熟肉觉得真的超出预期了，也逐渐适应了新制作的画风，一直都维持水平，巨人第四季全集就可以封神了#进击的巨人# 看平仑区 #进击的巨人最终季# #进击的巨人 第四季#</td>\n",
       "      <td>看;完;巨人;最终;季;熟肉;觉得;真;的;超出;预期;了;，;也;逐渐;适应;了;新;制作;的;画风;，;一直;都;维持;水平;，;巨人;第四;季;全集;就;可以;封神;了;#;进击;的;巨...</td>\n",
       "      <td>0.996766</td>\n",
       "    </tr>\n",
       "    <tr>\n",
       "      <th>4</th>\n",
       "      <td>#进击的巨人最终季# 感觉可以从第一季开始重新追一遍了…</td>\n",
       "      <td>#;进击;的;巨人;最终;季;#;感觉;可以;从;第一;季;开始;重新;追;一;遍;了;…</td>\n",
       "      <td>0.980220</td>\n",
       "    </tr>\n",
       "    <tr>\n",
       "      <th>5</th>\n",
       "      <td>吗的 好后悔追了巨人漫画 对剧情不怎么期待 唯一期待就是画风和画面夸张效果#进击的巨人最终季#</td>\n",
       "      <td>吗;的;好;后悔;追;了;巨人;漫画;对;剧情;不怎么;期待;唯一;期待;就;是;画风;和;画面;夸张;效果;#;进击;的;巨人;最终;季;#</td>\n",
       "      <td>0.905004</td>\n",
       "    </tr>\n",
       "    <tr>\n",
       "      <th>6</th>\n",
       "      <td>#进击的巨人最终季# 霸权番+神番的一部作品转眼大结局只希望兵长平安</td>\n",
       "      <td>#;进击;的;巨人;最终;季;#;霸权番;+;神番;的;一;部;作品;转眼大;结局;只;希望;兵长;平安</td>\n",
       "      <td>0.978170</td>\n",
       "    </tr>\n",
       "    <tr>\n",
       "      <th>7</th>\n",
       "      <td>#进击的巨人最终季#  第一集可真致郁啊 咒术最新两集也么好到哪里去</td>\n",
       "      <td>#;进击;的;巨人;最终;季;#;第一;集;可;真致;郁;啊;咒术;最新;两集;也么;好;到;哪里;去</td>\n",
       "      <td>0.418069</td>\n",
       "    </tr>\n",
       "    <tr>\n",
       "      <th>8</th>\n",
       "      <td>#进击的巨人最终季#青春终于要结束了🔚感慨，感激，感动</td>\n",
       "      <td>#;进击;的;巨人;最终;季;#;青春;终于;要;结束;了;🔚;感慨;，;感激;，;感动</td>\n",
       "      <td>0.999979</td>\n",
       "    </tr>\n",
       "    <tr>\n",
       "      <th>9</th>\n",
       "      <td>#进击的巨人最终季#终于来了，得连着一起再看一遍，很怀念高三在教室看的时光。</td>\n",
       "      <td>#;进击;的;巨人;最终;季;#;终于;来;了;，;得;连;着;一起;再;看;一;遍;，;很;怀念;高三;在;教室;看;的;时光;。</td>\n",
       "      <td>0.999876</td>\n",
       "    </tr>\n",
       "    <tr>\n",
       "      <th>10</th>\n",
       "      <td>#进击的巨人最终季# 天呐，跟着海贼王拖了这么久，最新一集的进击的巨人简直是封神之作</td>\n",
       "      <td>#;进击;的;巨人;最终;季;#;天;呐;，;跟着;海贼;王;拖;了;这么;久;，;最新;一;集;的;进击;的;巨人;简直;是;封神;之;作</td>\n",
       "      <td>0.892305</td>\n",
       "    </tr>\n",
       "    <tr>\n",
       "      <th>11</th>\n",
       "      <td>#进击的巨人最终季#第四季终于来了，这两天把第一部，第二部，第三部重新看了一遍，热血沸腾，一起来看看最终偏，熟肉已经在下面热好了</td>\n",
       "      <td>#;进击;的;巨人;最终;季;#;第四;季;终于;来;了;，;这;两;天;把;第一;部;，;第二;部;，;第三;部;重新;看;了;一;遍;，;热血;沸腾;，;一起;来;看看;最终;偏;，;熟肉...</td>\n",
       "      <td>0.983028</td>\n",
       "    </tr>\n",
       "    <tr>\n",
       "      <th>12</th>\n",
       "      <td>#进击的巨人最终季#第一季很好看，战争就是这样无情吧。等待着被从飞机投掷而下的“敢死队”，被无智商巨人生物兵器恐吓着的敌军，一边利用着巨人之力、一边鄙视着巨人之族的马莱，想要改善自己同胞待遇的...</td>\n",
       "      <td>#;进击;的;巨人;最终;季;#;第一;季;很;好看;，;战争;就;是;这样;无情;吧;。;等待;着;被;从;飞机;投掷;而下;的;“;敢死队;”，;被;无;智商;巨人;生物;兵器;恐吓;着;...</td>\n",
       "      <td>0.999983</td>\n",
       "    </tr>\n",
       "    <tr>\n",
       "      <th>13</th>\n",
       "      <td>#进击的巨人最终季#好激动啊我的利威尔要回来了啊啊啊啊啊，哭惹</td>\n",
       "      <td>#;进击;的;巨人;最终;季;#;好;激动;啊;我;的;利;威尔要;回来;了;啊;啊啊;啊啊;，;哭;惹</td>\n",
       "      <td>0.996302</td>\n",
       "    </tr>\n",
       "    <tr>\n",
       "      <th>14</th>\n",
       "      <td>#进击的巨人最终季# 怎么说呢，马趴是用心了的，同期还负责咒术，加上又是巨人这么大的ip，对于漫画党而言要求真的不高， 按照作者的说法大概 136话巨人完结，只希望谏山老贼少发点刀，千万千万千...</td>\n",
       "      <td>#;进击;的;巨人;最终;季;#;怎么;说;呢;，;马;趴;是;用心;了;的;，;同期;还;负责;咒术;，;加上;又;是;巨人;这么;大;的;ip，;对于;漫画;党;而言;要求;真的;不;高;...</td>\n",
       "      <td>0.000222</td>\n",
       "    </tr>\n",
       "    <tr>\n",
       "      <th>15</th>\n",
       "      <td>#进击的巨人最终季# 有生之年系列。高中开始看到现在</td>\n",
       "      <td>#;进击;的;巨人;最终;季;#;有生之年;系列;。;高中;开始;看到;现在</td>\n",
       "      <td>0.974484</td>\n",
       "    </tr>\n",
       "    <tr>\n",
       "      <th>16</th>\n",
       "      <td>#进击的巨人最终季#啊啊啊啊啊啊啊啊啊啊😭😭😭😭😭看完第一集太震撼了，整个人鸡皮疙瘩都起来了进巨，yyds</td>\n",
       "      <td>#;进击;的;巨人;最终;季;#;啊啊;啊啊;啊啊;啊啊;啊啊;😭😭😭😭😭;看;完;第一;集;太;震撼;了;，;整个;人;鸡;皮;疙瘩;都;起来;了;进;巨;，yyds</td>\n",
       "      <td>0.973431</td>\n",
       "    </tr>\n",
       "    <tr>\n",
       "      <th>17</th>\n",
       "      <td>#鬼灭之刃 无限列车篇##进击的巨人##进击的巨人最终季# 两个一起出来了，终于看完啦，好开心，看剧找她@爱追剧的小粥粥 ，没要💰</td>\n",
       "      <td>#;鬼灭;之刃;无限;列车;篇;##;进击;的;巨人;##;进击;的;巨人;最终;季;#;两;个;一起;出来;了;，;终于;看;完;啦;，;好;开心;，;看剧;找;她;@;爱;追剧;的;小;粥...</td>\n",
       "      <td>0.998633</td>\n",
       "    </tr>\n",
       "    <tr>\n",
       "      <th>18</th>\n",
       "      <td>#进击的巨人最终季#虽然第三季还没看完 但是还是好期待第四季！</td>\n",
       "      <td>#;进击;的;巨人;最终;季;#;虽然;第三;季;还;没;看;完;但是;还是;好;期待;第四;季;！</td>\n",
       "      <td>0.994668</td>\n",
       "    </tr>\n",
       "    <tr>\n",
       "      <th>19</th>\n",
       "      <td>#进击的巨人最终季# 多少年前的青春啊我们终于迎来了最终季，我要一次性看完 #第一季第二季第三季第四季# 一起去看吧熟肉平仑🈶️</td>\n",
       "      <td>#;进击;的;巨人;最终;季;#;多少;年;前;的;青春;啊;我们;终于;迎来;了;最终;季;，;我;要;一次性;看;完;#;第一;季;第二;季;第三;季;第四;季;#;一起;去;看;吧;熟肉...</td>\n",
       "      <td>0.999965</td>\n",
       "    </tr>\n",
       "    <tr>\n",
       "      <th>20</th>\n",
       "      <td>巨人走在了不良人和无限列车的前面#进击的巨人最终季#</td>\n",
       "      <td>巨人;走;在;了;不良;人;和;无限;列车;的;前面;#;进击;的;巨人;最终;季;#</td>\n",
       "      <td>0.989870</td>\n",
       "    </tr>\n",
       "    <tr>\n",
       "      <th>21</th>\n",
       "      <td>#进击的巨人最终季#第一集就让我明白了，原来人肉冲击还可以这样玩 马莱</td>\n",
       "      <td>#;进击;的;巨人;最终;季;#;第一;集;就;让;我;明白;了;，;原来;人肉;冲击;还;可以;这样;玩;马莱</td>\n",
       "      <td>0.972539</td>\n",
       "    </tr>\n",
       "    <tr>\n",
       "      <th>22</th>\n",
       "      <td>#进击的巨人最终季#第一集就这么强的嘛视角对换真的太妙了，真真无正义皆立场</td>\n",
       "      <td>#;进击;的;巨人;最终;季;#;第一;集;就;这么;强;的;嘛;视角;对换;真;的;太妙;了;，;真真;无;正义;皆;立场</td>\n",
       "      <td>0.997573</td>\n",
       "    </tr>\n",
       "    <tr>\n",
       "      <th>23</th>\n",
       "      <td>#进击的巨人最终季#周末抽时间把一二三全部重新看了一遍 要不然就感觉没那么激情了</td>\n",
       "      <td>#;进击;的;巨人;最终;季;#;周末;抽;时间;把;一二三;全部;重新;看;了;一;遍;要不然;就;感觉;没;那么;激情;了</td>\n",
       "      <td>0.914612</td>\n",
       "    </tr>\n",
       "    <tr>\n",
       "      <th>24</th>\n",
       "      <td>#进击的巨人最终季# 呜呜我最爱的兵长！一二季我都快忘了，又该重温了</td>\n",
       "      <td>#;进击;的;巨人;最终;季;#;呜;呜;我;最爱;的;兵长;！;一二;季;我;都快;忘;了;，;又该;重温;了</td>\n",
       "      <td>0.999505</td>\n",
       "    </tr>\n",
       "    <tr>\n",
       "      <th>25</th>\n",
       "      <td>#进击的巨人最终季#看起来看起来!呜呜呜，居然到了最终季</td>\n",
       "      <td>#;进击;的;巨人;最终;季;#;看;起来;看;起来;!;呜;呜;呜;，;居然;到;了;最终;季</td>\n",
       "      <td>0.916800</td>\n",
       "    </tr>\n",
       "    <tr>\n",
       "      <th>26</th>\n",
       "      <td>#进击的巨人最终季#呜呜，终于等到了进击的巨人第四季，七年了，攻守互换，墙内的人终于来到墙外，看见了世界，是时候给一切画上句号了，又重温了第一季第二季第三季，真的是我最爱的动漫了</td>\n",
       "      <td>#;进击;的;巨人;最终;季;#;呜;呜;，;终于;等到;了;进击;的;巨人;第四;季;，;七;年;了;，;攻守;互换;，;墙;内;的;人;终于;来到;墙;外;，;看见;了;世界;，;是;时候...</td>\n",
       "      <td>1.000000</td>\n",
       "    </tr>\n",
       "    <tr>\n",
       "      <th>27</th>\n",
       "      <td>#进击的巨人最终季# 终于开播了，第一集就被激烈的战争场面给震撼到，不愧是当今最顶级制作水准的动漫。单是配乐就可比肩入围奥斯卡的电影水平。只有惊叹！值得珍惜、细品这最终季的每一集</td>\n",
       "      <td>#;进击;的;巨人;最终;季;#;终于;开播;了;，;第一;集;就;被;激烈;的;战争;场面;给;震撼;到;，;不愧;是;当今;最;顶级;制作;水准;的;动;漫;。;单;是;配乐;就;可比;肩...</td>\n",
       "      <td>1.000000</td>\n",
       "    </tr>\n",
       "    <tr>\n",
       "      <th>28</th>\n",
       "      <td>大一至现在希望利威尔结局是好的♥️#进击的巨人最终季#</td>\n",
       "      <td>大一;至现;在;希望;利;威尔;结局;是;好;的;♥️#;进击;的;巨人;最终;季;#</td>\n",
       "      <td>0.999944</td>\n",
       "    </tr>\n",
       "    <tr>\n",
       "      <th>29</th>\n",
       "      <td>#进击的巨人最终季#我靠，我爽了我爽了，第一集就有被爽到</td>\n",
       "      <td>#;进击;的;巨人;最终;季;#;我;靠;，;我爽;了;我爽;了;，;第一;集;就;有;被爽;到</td>\n",
       "      <td>0.745981</td>\n",
       "    </tr>\n",
       "    <tr>\n",
       "      <th>30</th>\n",
       "      <td>#进击的巨人最终季#致两千年后的你，我永远无法忘记这一幕伏笔揭开时那种震撼我妈的懵逼和膝盖软了的感觉</td>\n",
       "      <td>#;进击;的;巨人;最终;季;#;致;两千;年;后;的;你;，;我;永远;无法;忘记;这;一;幕伏;笔;揭开;时;那种;震撼;我;妈;的;懵;逼和;膝盖;软;了;的;感觉</td>\n",
       "      <td>0.999072</td>\n",
       "    </tr>\n",
       "    <tr>\n",
       "      <th>31</th>\n",
       "      <td>#进击的巨人最终季#好狠，顶风作案，这是多少人的青春啊！最后一季完完整整放完，墙别封太死plz</td>\n",
       "      <td>#;进击;的;巨人;最终;季;#;好;狠;，;顶风;作案;，;这;是;多少;人;的;青春;啊;！;最后;一;季;完;完整整;放;完;，;墙;别;封;太;死;plz</td>\n",
       "      <td>0.886548</td>\n",
       "    </tr>\n",
       "    <tr>\n",
       "      <th>32</th>\n",
       "      <td>#进击的巨人最终季# 又上热搜了！可我还不知道哪里可以看呢！啊啊啊啊啊啊啊啊啊</td>\n",
       "      <td>#;进击;的;巨人;最终;季;#;又;上;热;搜;了;！;可;我;还;不;知道;哪里;可以;看;呢;！;啊;啊啊;啊啊;啊啊;啊啊</td>\n",
       "      <td>0.953147</td>\n",
       "    </tr>\n",
       "    <tr>\n",
       "      <th>33</th>\n",
       "      <td>#进击的巨人最终季#哇啊啊啊  终于等到进击的巨人第四季了  爷青回！！！</td>\n",
       "      <td>#;进击;的;巨人;最终;季;#;哇;啊;啊啊;终于;等到;进击;的;巨人;第四;季;了;爷青;回;！！！</td>\n",
       "      <td>0.861914</td>\n",
       "    </tr>\n",
       "    <tr>\n",
       "      <th>34</th>\n",
       "      <td>#进击的巨人最终季#媲美钢炼的神仙番，它lei了</td>\n",
       "      <td>#;进击;的;巨人;最终;季;#;媲美;钢;炼;的;神仙;番;，;它;lei;了</td>\n",
       "      <td>0.993305</td>\n",
       "    </tr>\n",
       "    <tr>\n",
       "      <th>35</th>\n",
       "      <td>#进击的巨人最终季#嗷嗷嗷，明天看起来～兵长我来啦～艾导我来啦～开心🥳</td>\n",
       "      <td>#;进击;的;巨人;最终;季;#;嗷;嗷;嗷;，;明天;看;起来;～;兵长;我;来;啦;～;艾导;我;来;啦;～;开心;🥳</td>\n",
       "      <td>0.669366</td>\n",
       "    </tr>\n",
       "    <tr>\n",
       "      <th>36</th>\n",
       "      <td>#进击的巨人最终季#我不管我不管等我考完研我要从第一季重新看一百遍 当初高一那个丑丑的兵长手办还有特意从日本带回来的链子还锁我杂物柜呢我 想看！此时此刻！</td>\n",
       "      <td>#;进击;的;巨人;最终;季;#;我;不管;我;不管;等;我;考;完;研;我;要;从;第一;季;重新;看;一百遍;当初;高;一;那个;丑;丑;的;兵长;手;办;还有;特意;从;日本;带;回来;...</td>\n",
       "      <td>0.997648</td>\n",
       "    </tr>\n",
       "    <tr>\n",
       "      <th>37</th>\n",
       "      <td>#进击的巨人最终季#爷青结 一上来直接大场面 绝了绝了</td>\n",
       "      <td>#;进击;的;巨人;最终;季;#;爷;青;结;一;上来;直接;大;场面;绝;了绝;了</td>\n",
       "      <td>0.948057</td>\n",
       "    </tr>\n",
       "    <tr>\n",
       "      <th>38</th>\n",
       "      <td>进击的巨人最终季！爷的青春即将含泪完结？！#进击的巨人最终季#</td>\n",
       "      <td>进击;的;巨人;最终;季;！;爷;的;青春;即将;含泪;完;结;？！#;进击;的;巨人;最终;季;#</td>\n",
       "      <td>0.999993</td>\n",
       "    </tr>\n",
       "    <tr>\n",
       "      <th>39</th>\n",
       "      <td>#进击的巨人最终季# 看完最终季第一集谁不大喊一声jjdjryyds！</td>\n",
       "      <td>#;进击;的;巨人;最终;季;#;看;完;最终;季;第一;集;谁;不;大;喊;一;声;jjdjryyds！</td>\n",
       "      <td>0.962189</td>\n",
       "    </tr>\n",
       "    <tr>\n",
       "      <th>40</th>\n",
       "      <td>看不到巨人最终季 爷很难过 更难过的是 连个图都发不出来#进击的巨人##进击的巨人最终季#</td>\n",
       "      <td>看不到;巨人;最终;季;爷;很;难过;更;难;过;的;是;连个;图;都;发;不;出来;#;进击;的;巨人;##;进击;的;巨人;最终;季;#</td>\n",
       "      <td>0.984579</td>\n",
       "    </tr>\n",
       "    <tr>\n",
       "      <th>41</th>\n",
       "      <td>进击的巨人超话#进击的巨人最终季# 看完有点懵可能还需要理一下剧情😂这是四年后了？</td>\n",
       "      <td>进击;的;巨人;超话;#;进击;的;巨人;最终;季;#;看;完;有;点;懵;可能;还;需要;理;一下;剧情;😂;这;是;四;年;后;了;？</td>\n",
       "      <td>0.872686</td>\n",
       "    </tr>\n",
       "    <tr>\n",
       "      <th>42</th>\n",
       "      <td>#进击的巨人最终季#虽然看得一脸懵逼 但是好燃本来好担心换了制作公司会不好看来着</td>\n",
       "      <td>#;进击;的;巨人;最终;季;#;虽然;看;得;一;脸;懵;逼;但是;好;燃;本来;好;担心;换;了;制作;公司;会;不好;看来;着</td>\n",
       "      <td>0.799728</td>\n",
       "    </tr>\n",
       "    <tr>\n",
       "      <th>43</th>\n",
       "      <td>#进击的巨人最终季# 看得我一脸懵逼感觉自己是不是少看了一季原来是讲海那边的故事，据说一路看下去还要继续懵逼好几集，是上一季结尾猿之巨人还有莱纳逃走以后四年后的故事了</td>\n",
       "      <td>#;进击;的;巨人;最终;季;#;看;得;我;一;脸;懵;逼;感觉;自己;是;不;是;少;看;了;一;季;原来;是;讲;海;那边;的;故事;，;据说;一路;看;下去;还要;继续;懵;逼;好几;...</td>\n",
       "      <td>0.999999</td>\n",
       "    </tr>\n",
       "    <tr>\n",
       "      <th>44</th>\n",
       "      <td>#进击的巨人最终季#认真的看完第一话，emmmm，贾碧这个碧池，她该死！第一集都是铺垫有点慢。也别想献出心脏了，无悔的选择也成笑话了，致2000年后的你毁灭人类！一起假嗨～💣</td>\n",
       "      <td>#;进击;的;巨人;最终;季;#;认真;的;看;完;第一;话;，emmmm，;贾;碧;这个;碧池;，;她;该;死;！;第一;集;都;是;铺垫;有点;慢;。;也别;想;献;出;心脏;了;，;无悔...</td>\n",
       "      <td>0.998434</td>\n",
       "    </tr>\n",
       "    <tr>\n",
       "      <th>45</th>\n",
       "      <td>#进击的巨人最终季#我晕了 我为什么看不懂 啥啊  我只记得当时买的漫画 看到了发现墙是巨人做的那里🆘啥啊这都啥展开</td>\n",
       "      <td>#;进击;的;巨人;最终;季;#;我;晕;了;我;为什么;看;不;懂;啥;啊;我;只;记得;当时;买;的;漫画;看到;了;发现;墙;是;巨人;做;的;那里;🆘;啥;啊;这;都;啥;展开</td>\n",
       "      <td>0.817023</td>\n",
       "    </tr>\n",
       "    <tr>\n",
       "      <th>46</th>\n",
       "      <td>#进击的巨人最终季#啊啊啊啊啊啊啊啊第一集就好震撼啊！虽然好多生面孔，但是好震撼啊，新出场的这只颚巨好帅，期待十九伦啊啊啊啊啊啊啊啊啊啊啊啊！</td>\n",
       "      <td>#;进击;的;巨人;最终;季;#;啊啊;啊啊;啊啊;啊啊;第一;集;就;好;震撼;啊;！;虽然;好多;生;面孔;，;但是;好;震撼;啊;，;新;出场;的;这;只;颚;巨;好帅;，;期待;十九;...</td>\n",
       "      <td>0.999999</td>\n",
       "    </tr>\n",
       "    <tr>\n",
       "      <th>47</th>\n",
       "      <td>#进击的巨人最终季# 特别喜欢op今天上班循环了好久（网易云bgm版）阴不阴间我不知道，我只知道很上脑</td>\n",
       "      <td>#;进击;的;巨人;最终;季;#;特别;喜欢;op;今天;上班;循环;了;好久;（;网易;云;bgm;版;）;阴;不;阴间;我;不;知道;，;我;只;知道;很;上脑</td>\n",
       "      <td>0.113074</td>\n",
       "    </tr>\n",
       "    <tr>\n",
       "      <th>48</th>\n",
       "      <td>#进击的巨人##进击的巨人最终季# 《进击的巨人第四季》‼️ 在艾伦他们居住的帕拉迪岛之外，还存在一个其他人类居住的世界。1-3季百度☁️我都看完了哦～抓紧时间一起来看吧！</td>\n",
       "      <td>#;进击;的;巨人;##;进击;的;巨人;最终;季;#;《;进击;的;巨人;第四;季;》‼️;在;艾伦;他们;居住;的;帕拉迪岛;之外;，;还;存在;一个;其他;人类;居住;的;世界;。1-3...</td>\n",
       "      <td>0.999987</td>\n",
       "    </tr>\n",
       "    <tr>\n",
       "      <th>49</th>\n",
       "      <td>#进击的巨人最终季# 还是以前的味道！第一集直接炸场！</td>\n",
       "      <td>#;进击;的;巨人;最终;季;#;还是;以前;的;味道;！;第一;集;直接;炸场;！</td>\n",
       "      <td>0.710837</td>\n",
       "    </tr>\n",
       "    <tr>\n",
       "      <th>50</th>\n",
       "      <td>我只想大喊一声巨人牛B！等了这么久，巨人最终话终于更新，虽然第一集开头全是新角色。“贾碧”听着比较熟悉（不看漫画），一去查，竟然是杀莎夏的人？气死老子了！对于贾碧的争议还是蛮大的，特别是听说漫...</td>\n",
       "      <td>我;只;想;大喊;一;声;巨人;牛;B！;等;了;这么;久;，;巨人;最终;话;终于;更新;，;虽然;第一;集;开头;全;是;新;角色;。“;贾;碧;”;听;着;比较;熟悉;（;不;看;漫画;...</td>\n",
       "      <td>1.000000</td>\n",
       "    </tr>\n",
       "    <tr>\n",
       "      <th>51</th>\n",
       "      <td>#进击的巨人最终季#好家伙第一集看得我以为自己看落一季还好还好，后面看懂了最终季了，我的铁三角一定要稳稳的！</td>\n",
       "      <td>#;进击;的;巨人;最终;季;#;好;家伙;第一;集;看;得;我;以为;自己;看;落一;季;还;好;还;好;，;后面;看;懂;了;最终;季;了;，;我;的;铁三角;一定;要;稳稳;的;！</td>\n",
       "      <td>0.999764</td>\n",
       "    </tr>\n",
       "  </tbody>\n",
       "</table>\n",
       "</div>"
      ],
      "text/plain": [
       "                                                                                                     正文  \\\n",
       "0                                 #进击的巨人最终季#能在被全面封禁的状态下再度冲上热搜的也只有我大巨人了吧作为一个第一季出来就开始追的老粉真的泪目三连，巨人必将名垂青史    \n",
       "1               #进击的巨人最终季# 多少年前的青春啊终于迎来最终季 #第一季第二季第三季第四季# 都不舍得看完全部。。。看完了真的青春也就结束了。。。回不来的就再也回不来了，熟肉平仑🈶️    \n",
       "2                       以你的心诠释我的爱今日开机，进击的巨人第四季12集有了！！！ 幸福来得太突然了吧嘎嘎嘎 #进击的巨人##进击的巨人最终季# 。想看先 ！！！ ，来看评！！！    \n",
       "3             看完巨人最终季熟肉觉得真的超出预期了，也逐渐适应了新制作的画风，一直都维持水平，巨人第四季全集就可以封神了#进击的巨人# 看平仑区 #进击的巨人最终季# #进击的巨人 第四季#    \n",
       "4                                                                         #进击的巨人最终季# 感觉可以从第一季开始重新追一遍了…    \n",
       "5                                                      吗的 好后悔追了巨人漫画 对剧情不怎么期待 唯一期待就是画风和画面夸张效果#进击的巨人最终季#    \n",
       "6                                                                   #进击的巨人最终季# 霸权番+神番的一部作品转眼大结局只希望兵长平安    \n",
       "7                                                                   #进击的巨人最终季#  第一集可真致郁啊 咒术最新两集也么好到哪里去    \n",
       "8                                                                          #进击的巨人最终季#青春终于要结束了🔚感慨，感激，感动    \n",
       "9                                                               #进击的巨人最终季#终于来了，得连着一起再看一遍，很怀念高三在教室看的时光。    \n",
       "10                                                          #进击的巨人最终季# 天呐，跟着海贼王拖了这么久，最新一集的进击的巨人简直是封神之作    \n",
       "11                                    #进击的巨人最终季#第四季终于来了，这两天把第一部，第二部，第三部重新看了一遍，热血沸腾，一起来看看最终偏，熟肉已经在下面热好了    \n",
       "12  #进击的巨人最终季#第一季很好看，战争就是这样无情吧。等待着被从飞机投掷而下的“敢死队”，被无智商巨人生物兵器恐吓着的敌军，一边利用着巨人之力、一边鄙视着巨人之族的马莱，想要改善自己同胞待遇的...   \n",
       "13                                                                     #进击的巨人最终季#好激动啊我的利威尔要回来了啊啊啊啊啊，哭惹    \n",
       "14  #进击的巨人最终季# 怎么说呢，马趴是用心了的，同期还负责咒术，加上又是巨人这么大的ip，对于漫画党而言要求真的不高， 按照作者的说法大概 136话巨人完结，只希望谏山老贼少发点刀，千万千万千...   \n",
       "15                                                                          #进击的巨人最终季# 有生之年系列。高中开始看到现在    \n",
       "16                                               #进击的巨人最终季#啊啊啊啊啊啊啊啊啊啊😭😭😭😭😭看完第一集太震撼了，整个人鸡皮疙瘩都起来了进巨，yyds    \n",
       "17                                   #鬼灭之刃 无限列车篇##进击的巨人##进击的巨人最终季# 两个一起出来了，终于看完啦，好开心，看剧找她@爱追剧的小粥粥 ，没要💰    \n",
       "18                                                                     #进击的巨人最终季#虽然第三季还没看完 但是还是好期待第四季！    \n",
       "19                                    #进击的巨人最终季# 多少年前的青春啊我们终于迎来了最终季，我要一次性看完 #第一季第二季第三季第四季# 一起去看吧熟肉平仑🈶️    \n",
       "20                                                                          巨人走在了不良人和无限列车的前面#进击的巨人最终季#    \n",
       "21                                                                 #进击的巨人最终季#第一集就让我明白了，原来人肉冲击还可以这样玩 马莱    \n",
       "22                                                               #进击的巨人最终季#第一集就这么强的嘛视角对换真的太妙了，真真无正义皆立场    \n",
       "23                                                            #进击的巨人最终季#周末抽时间把一二三全部重新看了一遍 要不然就感觉没那么激情了    \n",
       "24                                                                  #进击的巨人最终季# 呜呜我最爱的兵长！一二季我都快忘了，又该重温了    \n",
       "25                                                                        #进击的巨人最终季#看起来看起来!呜呜呜，居然到了最终季    \n",
       "26           #进击的巨人最终季#呜呜，终于等到了进击的巨人第四季，七年了，攻守互换，墙内的人终于来到墙外，看见了世界，是时候给一切画上句号了，又重温了第一季第二季第三季，真的是我最爱的动漫了    \n",
       "27           #进击的巨人最终季# 终于开播了，第一集就被激烈的战争场面给震撼到，不愧是当今最顶级制作水准的动漫。单是配乐就可比肩入围奥斯卡的电影水平。只有惊叹！值得珍惜、细品这最终季的每一集    \n",
       "28                                                                         大一至现在希望利威尔结局是好的♥️#进击的巨人最终季#    \n",
       "29                                                                        #进击的巨人最终季#我靠，我爽了我爽了，第一集就有被爽到    \n",
       "30                                                  #进击的巨人最终季#致两千年后的你，我永远无法忘记这一幕伏笔揭开时那种震撼我妈的懵逼和膝盖软了的感觉    \n",
       "31                                                     #进击的巨人最终季#好狠，顶风作案，这是多少人的青春啊！最后一季完完整整放完，墙别封太死plz    \n",
       "32                                                             #进击的巨人最终季# 又上热搜了！可我还不知道哪里可以看呢！啊啊啊啊啊啊啊啊啊    \n",
       "33                                                              #进击的巨人最终季#哇啊啊啊  终于等到进击的巨人第四季了  爷青回！！！     \n",
       "34                                                                            #进击的巨人最终季#媲美钢炼的神仙番，它lei了    \n",
       "35                                                                 #进击的巨人最终季#嗷嗷嗷，明天看起来～兵长我来啦～艾导我来啦～开心🥳    \n",
       "36                       #进击的巨人最终季#我不管我不管等我考完研我要从第一季重新看一百遍 当初高一那个丑丑的兵长手办还有特意从日本带回来的链子还锁我杂物柜呢我 想看！此时此刻！    \n",
       "37                                                                         #进击的巨人最终季#爷青结 一上来直接大场面 绝了绝了    \n",
       "38                                                                     进击的巨人最终季！爷的青春即将含泪完结？！#进击的巨人最终季#    \n",
       "39                                                                 #进击的巨人最终季# 看完最终季第一集谁不大喊一声jjdjryyds！    \n",
       "40                                                       看不到巨人最终季 爷很难过 更难过的是 连个图都发不出来#进击的巨人##进击的巨人最终季#    \n",
       "41                                                           进击的巨人超话#进击的巨人最终季# 看完有点懵可能还需要理一下剧情😂这是四年后了？    \n",
       "42                                                            #进击的巨人最终季#虽然看得一脸懵逼 但是好燃本来好担心换了制作公司会不好看来着    \n",
       "43                 #进击的巨人最终季# 看得我一脸懵逼感觉自己是不是少看了一季原来是讲海那边的故事，据说一路看下去还要继续懵逼好几集，是上一季结尾猿之巨人还有莱纳逃走以后四年后的故事了    \n",
       "44             #进击的巨人最终季#认真的看完第一话，emmmm，贾碧这个碧池，她该死！第一集都是铺垫有点慢。也别想献出心脏了，无悔的选择也成笑话了，致2000年后的你毁灭人类！一起假嗨～💣    \n",
       "45                                          #进击的巨人最终季#我晕了 我为什么看不懂 啥啊  我只记得当时买的漫画 看到了发现墙是巨人做的那里🆘啥啊这都啥展开    \n",
       "46                             #进击的巨人最终季#啊啊啊啊啊啊啊啊第一集就好震撼啊！虽然好多生面孔，但是好震撼啊，新出场的这只颚巨好帅，期待十九伦啊啊啊啊啊啊啊啊啊啊啊啊！    \n",
       "47                                                 #进击的巨人最终季# 特别喜欢op今天上班循环了好久（网易云bgm版）阴不阴间我不知道，我只知道很上脑    \n",
       "48              #进击的巨人##进击的巨人最终季# 《进击的巨人第四季》‼️ 在艾伦他们居住的帕拉迪岛之外，还存在一个其他人类居住的世界。1-3季百度☁️我都看完了哦～抓紧时间一起来看吧！    \n",
       "49                                                                         #进击的巨人最终季# 还是以前的味道！第一集直接炸场！    \n",
       "50  我只想大喊一声巨人牛B！等了这么久，巨人最终话终于更新，虽然第一集开头全是新角色。“贾碧”听着比较熟悉（不看漫画），一去查，竟然是杀莎夏的人？气死老子了！对于贾碧的争议还是蛮大的，特别是听说漫...   \n",
       "51                                              #进击的巨人最终季#好家伙第一集看得我以为自己看落一季还好还好，后面看懂了最终季了，我的铁三角一定要稳稳的！    \n",
       "\n",
       "                                                                                              snownlp分词  \\\n",
       "0   #;进击;的;巨人;最终;季;#;能;在;被;全面;封禁;的;状态;下;再度;冲;上;热搜;的;也;只有;我;大;巨人;了;吧;作为;一个;第一;季;出来;就;开始;追;的;老粉;真;的泪;目...   \n",
       "1   #;进击;的;巨人;最终;季;#;多少;年;前;的;青春;啊;终于;迎来;最终;季;#;第一;季;第二;季;第三;季;第四;季;#;都;不;舍得;看;完;全部;。。。;看;完;了;真;的;青春...   \n",
       "2   以;你;的;心;诠释;我;的;爱;今日;开机;，;进击;的;巨人;第四;季;12;集;有;了;！！！;幸福;来;得;太;突然;了;吧;嘎嘎;嘎;#;进击;的;巨人;##;进击;的;巨人;最终;...   \n",
       "3   看;完;巨人;最终;季;熟肉;觉得;真;的;超出;预期;了;，;也;逐渐;适应;了;新;制作;的;画风;，;一直;都;维持;水平;，;巨人;第四;季;全集;就;可以;封神;了;#;进击;的;巨...   \n",
       "4                                                         #;进击;的;巨人;最终;季;#;感觉;可以;从;第一;季;开始;重新;追;一;遍;了;…   \n",
       "5                               吗;的;好;后悔;追;了;巨人;漫画;对;剧情;不怎么;期待;唯一;期待;就;是;画风;和;画面;夸张;效果;#;进击;的;巨人;最终;季;#   \n",
       "6                                                  #;进击;的;巨人;最终;季;#;霸权番;+;神番;的;一;部;作品;转眼大;结局;只;希望;兵长;平安   \n",
       "7                                                   #;进击;的;巨人;最终;季;#;第一;集;可;真致;郁;啊;咒术;最新;两集;也么;好;到;哪里;去   \n",
       "8                                                          #;进击;的;巨人;最终;季;#;青春;终于;要;结束;了;🔚;感慨;，;感激;，;感动   \n",
       "9                                    #;进击;的;巨人;最终;季;#;终于;来;了;，;得;连;着;一起;再;看;一;遍;，;很;怀念;高三;在;教室;看;的;时光;。   \n",
       "10                               #;进击;的;巨人;最终;季;#;天;呐;，;跟着;海贼;王;拖;了;这么;久;，;最新;一;集;的;进击;的;巨人;简直;是;封神;之;作   \n",
       "11  #;进击;的;巨人;最终;季;#;第四;季;终于;来;了;，;这;两;天;把;第一;部;，;第二;部;，;第三;部;重新;看;了;一;遍;，;热血;沸腾;，;一起;来;看看;最终;偏;，;熟肉...   \n",
       "12  #;进击;的;巨人;最终;季;#;第一;季;很;好看;，;战争;就;是;这样;无情;吧;。;等待;着;被;从;飞机;投掷;而下;的;“;敢死队;”，;被;无;智商;巨人;生物;兵器;恐吓;着;...   \n",
       "13                                                 #;进击;的;巨人;最终;季;#;好;激动;啊;我;的;利;威尔要;回来;了;啊;啊啊;啊啊;，;哭;惹   \n",
       "14  #;进击;的;巨人;最终;季;#;怎么;说;呢;，;马;趴;是;用心;了;的;，;同期;还;负责;咒术;，;加上;又;是;巨人;这么;大;的;ip，;对于;漫画;党;而言;要求;真的;不;高;...   \n",
       "15                                                               #;进击;的;巨人;最终;季;#;有生之年;系列;。;高中;开始;看到;现在   \n",
       "16                 #;进击;的;巨人;最终;季;#;啊啊;啊啊;啊啊;啊啊;啊啊;😭😭😭😭😭;看;完;第一;集;太;震撼;了;，;整个;人;鸡;皮;疙瘩;都;起来;了;进;巨;，yyds   \n",
       "17  #;鬼灭;之刃;无限;列车;篇;##;进击;的;巨人;##;进击;的;巨人;最终;季;#;两;个;一起;出来;了;，;终于;看;完;啦;，;好;开心;，;看剧;找;她;@;爱;追剧;的;小;粥...   \n",
       "18                                                   #;进击;的;巨人;最终;季;#;虽然;第三;季;还;没;看;完;但是;还是;好;期待;第四;季;！   \n",
       "19  #;进击;的;巨人;最终;季;#;多少;年;前;的;青春;啊;我们;终于;迎来;了;最终;季;，;我;要;一次性;看;完;#;第一;季;第二;季;第三;季;第四;季;#;一起;去;看;吧;熟肉...   \n",
       "20                                                          巨人;走;在;了;不良;人;和;无限;列车;的;前面;#;进击;的;巨人;最终;季;#   \n",
       "21                                             #;进击;的;巨人;最终;季;#;第一;集;就;让;我;明白;了;，;原来;人肉;冲击;还;可以;这样;玩;马莱   \n",
       "22                                       #;进击;的;巨人;最终;季;#;第一;集;就;这么;强;的;嘛;视角;对换;真;的;太妙;了;，;真真;无;正义;皆;立场   \n",
       "23                                      #;进击;的;巨人;最终;季;#;周末;抽;时间;把;一二三;全部;重新;看;了;一;遍;要不然;就;感觉;没;那么;激情;了   \n",
       "24                                             #;进击;的;巨人;最终;季;#;呜;呜;我;最爱;的;兵长;！;一二;季;我;都快;忘;了;，;又该;重温;了   \n",
       "25                                                     #;进击;的;巨人;最终;季;#;看;起来;看;起来;!;呜;呜;呜;，;居然;到;了;最终;季   \n",
       "26  #;进击;的;巨人;最终;季;#;呜;呜;，;终于;等到;了;进击;的;巨人;第四;季;，;七;年;了;，;攻守;互换;，;墙;内;的;人;终于;来到;墙;外;，;看见;了;世界;，;是;时候...   \n",
       "27  #;进击;的;巨人;最终;季;#;终于;开播;了;，;第一;集;就;被;激烈;的;战争;场面;给;震撼;到;，;不愧;是;当今;最;顶级;制作;水准;的;动;漫;。;单;是;配乐;就;可比;肩...   \n",
       "28                                                          大一;至现;在;希望;利;威尔;结局;是;好;的;♥️#;进击;的;巨人;最终;季;#   \n",
       "29                                                     #;进击;的;巨人;最终;季;#;我;靠;，;我爽;了;我爽;了;，;第一;集;就;有;被爽;到   \n",
       "30                #;进击;的;巨人;最终;季;#;致;两千;年;后;的;你;，;我;永远;无法;忘记;这;一;幕伏;笔;揭开;时;那种;震撼;我;妈;的;懵;逼和;膝盖;软;了;的;感觉   \n",
       "31                    #;进击;的;巨人;最终;季;#;好;狠;，;顶风;作案;，;这;是;多少;人;的;青春;啊;！;最后;一;季;完;完整整;放;完;，;墙;别;封;太;死;plz   \n",
       "32                                    #;进击;的;巨人;最终;季;#;又;上;热;搜;了;！;可;我;还;不;知道;哪里;可以;看;呢;！;啊;啊啊;啊啊;啊啊;啊啊   \n",
       "33                                                #;进击;的;巨人;最终;季;#;哇;啊;啊啊;终于;等到;进击;的;巨人;第四;季;了;爷青;回;！！！   \n",
       "34                                                             #;进击;的;巨人;最终;季;#;媲美;钢;炼;的;神仙;番;，;它;lei;了   \n",
       "35                                        #;进击;的;巨人;最终;季;#;嗷;嗷;嗷;，;明天;看;起来;～;兵长;我;来;啦;～;艾导;我;来;啦;～;开心;🥳   \n",
       "36  #;进击;的;巨人;最终;季;#;我;不管;我;不管;等;我;考;完;研;我;要;从;第一;季;重新;看;一百遍;当初;高;一;那个;丑;丑;的;兵长;手;办;还有;特意;从;日本;带;回来;...   \n",
       "37                                                           #;进击;的;巨人;最终;季;#;爷;青;结;一;上来;直接;大;场面;绝;了绝;了   \n",
       "38                                                   进击;的;巨人;最终;季;！;爷;的;青春;即将;含泪;完;结;？！#;进击;的;巨人;最终;季;#   \n",
       "39                                                #;进击;的;巨人;最终;季;#;看;完;最终;季;第一;集;谁;不;大;喊;一;声;jjdjryyds！   \n",
       "40                               看不到;巨人;最终;季;爷;很;难过;更;难;过;的;是;连个;图;都;发;不;出来;#;进击;的;巨人;##;进击;的;巨人;最终;季;#   \n",
       "41                                进击;的;巨人;超话;#;进击;的;巨人;最终;季;#;看;完;有;点;懵;可能;还;需要;理;一下;剧情;😂;这;是;四;年;后;了;？   \n",
       "42                                   #;进击;的;巨人;最终;季;#;虽然;看;得;一;脸;懵;逼;但是;好;燃;本来;好;担心;换;了;制作;公司;会;不好;看来;着   \n",
       "43  #;进击;的;巨人;最终;季;#;看;得;我;一;脸;懵;逼;感觉;自己;是;不;是;少;看;了;一;季;原来;是;讲;海;那边;的;故事;，;据说;一路;看;下去;还要;继续;懵;逼;好几;...   \n",
       "44  #;进击;的;巨人;最终;季;#;认真;的;看;完;第一;话;，emmmm，;贾;碧;这个;碧池;，;她;该;死;！;第一;集;都;是;铺垫;有点;慢;。;也别;想;献;出;心脏;了;，;无悔...   \n",
       "45         #;进击;的;巨人;最终;季;#;我;晕;了;我;为什么;看;不;懂;啥;啊;我;只;记得;当时;买;的;漫画;看到;了;发现;墙;是;巨人;做;的;那里;🆘;啥;啊;这;都;啥;展开   \n",
       "46  #;进击;的;巨人;最终;季;#;啊啊;啊啊;啊啊;啊啊;第一;集;就;好;震撼;啊;！;虽然;好多;生;面孔;，;但是;好;震撼;啊;，;新;出场;的;这;只;颚;巨;好帅;，;期待;十九;...   \n",
       "47                   #;进击;的;巨人;最终;季;#;特别;喜欢;op;今天;上班;循环;了;好久;（;网易;云;bgm;版;）;阴;不;阴间;我;不;知道;，;我;只;知道;很;上脑   \n",
       "48  #;进击;的;巨人;##;进击;的;巨人;最终;季;#;《;进击;的;巨人;第四;季;》‼️;在;艾伦;他们;居住;的;帕拉迪岛;之外;，;还;存在;一个;其他;人类;居住;的;世界;。1-3...   \n",
       "49                                                           #;进击;的;巨人;最终;季;#;还是;以前;的;味道;！;第一;集;直接;炸场;！   \n",
       "50  我;只;想;大喊;一;声;巨人;牛;B！;等;了;这么;久;，;巨人;最终;话;终于;更新;，;虽然;第一;集;开头;全;是;新;角色;。“;贾;碧;”;听;着;比较;熟悉;（;不;看;漫画;...   \n",
       "51        #;进击;的;巨人;最终;季;#;好;家伙;第一;集;看;得;我;以为;自己;看;落一;季;还;好;还;好;，;后面;看;懂;了;最终;季;了;，;我;的;铁三角;一定;要;稳稳;的;！   \n",
       "\n",
       "        情感分数  \n",
       "0   0.967405  \n",
       "1   0.999997  \n",
       "2   0.997238  \n",
       "3   0.996766  \n",
       "4   0.980220  \n",
       "5   0.905004  \n",
       "6   0.978170  \n",
       "7   0.418069  \n",
       "8   0.999979  \n",
       "9   0.999876  \n",
       "10  0.892305  \n",
       "11  0.983028  \n",
       "12  0.999983  \n",
       "13  0.996302  \n",
       "14  0.000222  \n",
       "15  0.974484  \n",
       "16  0.973431  \n",
       "17  0.998633  \n",
       "18  0.994668  \n",
       "19  0.999965  \n",
       "20  0.989870  \n",
       "21  0.972539  \n",
       "22  0.997573  \n",
       "23  0.914612  \n",
       "24  0.999505  \n",
       "25  0.916800  \n",
       "26  1.000000  \n",
       "27  1.000000  \n",
       "28  0.999944  \n",
       "29  0.745981  \n",
       "30  0.999072  \n",
       "31  0.886548  \n",
       "32  0.953147  \n",
       "33  0.861914  \n",
       "34  0.993305  \n",
       "35  0.669366  \n",
       "36  0.997648  \n",
       "37  0.948057  \n",
       "38  0.999993  \n",
       "39  0.962189  \n",
       "40  0.984579  \n",
       "41  0.872686  \n",
       "42  0.799728  \n",
       "43  0.999999  \n",
       "44  0.998434  \n",
       "45  0.817023  \n",
       "46  0.999999  \n",
       "47  0.113074  \n",
       "48  0.999987  \n",
       "49  0.710837  \n",
       "50  1.000000  \n",
       "51  0.999764  "
      ]
     },
     "execution_count": 16,
     "metadata": {},
     "output_type": "execute_result"
    }
   ],
   "source": [
    "import pandas as pd\n",
    "from snownlp import SnowNLP\n",
    "\n",
    "# 显示所有列\n",
    "pd.set_option('display.max_columns', None)\n",
    "# 显示所有行\n",
    "pd.set_option('display.max_rows', None)\n",
    "# 设置value的显示长度为100，默认为50\n",
    "pd.set_option('max_colwidth', 100)\n",
    "    \n",
    "tweets = pd.read_csv('weibo_hashtag/weibo/#进击的巨人最终季#/#进击的巨人最终季#.csv', usecols=['正文'])\n",
    "tweets['snownlp分词'] = tweets.apply(lambda x: ';'.join(SnowNLP(x['正文']).words), axis=1)\n",
    "tweets['情感分数'] = tweets.apply(lambda x: SnowNLP(x['正文']).sentiments, axis=1)\n",
    "tweets"
   ]
  },
  {
   "cell_type": "markdown",
   "metadata": {},
   "source": [
    "## word_cloud\n",
    "A little word cloud generator in Python.  \n",
    "https://github.com/amueller/word_cloud\n",
    "```\n",
    "$ pip install wordcloud\n",
    "```\n",
    "\n",
    "or\n",
    "\n",
    "```\n",
    "$ conda install -c conda-forge wordcloud\n",
    "```"
   ]
  },
  {
   "cell_type": "markdown",
   "metadata": {},
   "source": [
    "## What is NumPy?\n",
    "\n",
    "NumPy is the fundamental package for scientific computing in Python. It is a Python library that provides a multidimensional array object, various derived objects (such as masked arrays and matrices), and an assortment of routines for fast operations on arrays, including mathematical, logical, shape manipulation, sorting, selecting, I/O, discrete Fourier transforms, basic linear algebra, basic statistical operations, random simulation and much more.\n",
    "\n",
    "自学https://numpy.org/devdocs/user/absolute_beginners.html"
   ]
  },
  {
   "cell_type": "code",
   "execution_count": 2,
   "metadata": {},
   "outputs": [
    {
     "data": {
      "text/plain": [
       "array([[False, False, False],\n",
       "       [False,  True, False],\n",
       "       [False, False, False]])"
      ]
     },
     "execution_count": 2,
     "metadata": {},
     "output_type": "execute_result"
    }
   ],
   "source": [
    "import numpy as np\n",
    "matrix = np.array([\n",
    "                    [5, 10, 15], \n",
    "                    [20, 25, 30],\n",
    "                    [35, 40, 45]\n",
    "                 ])\n",
    "matrix == 25"
   ]
  },
  {
   "cell_type": "code",
   "execution_count": 24,
   "metadata": {},
   "outputs": [
    {
     "name": "stdout",
     "output_type": "stream",
     "text": [
      "[[1 2 3]\n",
      " [2 3 4]]\n"
     ]
    }
   ],
   "source": [
    "array = np.array([[1,2,3],[2,3,4]])  #列表转化为矩阵\n",
    "print(array)"
   ]
  },
  {
   "cell_type": "code",
   "execution_count": 25,
   "metadata": {},
   "outputs": [
    {
     "data": {
      "text/plain": [
       "'\\narray([[1, 2, 3],\\n       [2, 3, 4]])\\n'"
      ]
     },
     "execution_count": 25,
     "metadata": {},
     "output_type": "execute_result"
    }
   ],
   "source": [
    "\"\"\"\n",
    "array([[1, 2, 3],\n",
    "       [2, 3, 4]])\n",
    "\"\"\""
   ]
  },
  {
   "cell_type": "code",
   "execution_count": 26,
   "metadata": {},
   "outputs": [
    {
     "name": "stdout",
     "output_type": "stream",
     "text": [
      "int32\n",
      "int32\n",
      "float64\n",
      "float32\n"
     ]
    }
   ],
   "source": [
    "a = np.array([2,23,4],dtype=np.int)\n",
    "print(a.dtype)\n",
    "# int 64\n",
    "a = np.array([2,23,4],dtype=np.int32)\n",
    "print(a.dtype)\n",
    "# int32\n",
    "a = np.array([2,23,4],dtype=np.float)\n",
    "print(a.dtype)\n",
    "# float64\n",
    "a = np.array([2,23,4],dtype=np.float32)\n",
    "print(a.dtype)\n",
    "# float32"
   ]
  },
  {
   "cell_type": "code",
   "execution_count": 27,
   "metadata": {},
   "outputs": [
    {
     "name": "stdout",
     "output_type": "stream",
     "text": [
      "[[ 2 23  4]\n",
      " [ 2 32  4]]\n"
     ]
    },
    {
     "data": {
      "text/plain": [
       "'\\n[[ 2 23  4]\\n [ 2 32  4]]\\n'"
      ]
     },
     "execution_count": 27,
     "metadata": {},
     "output_type": "execute_result"
    }
   ],
   "source": [
    "a = np.array([[2,23,4],[2,32,4]])  # 2d 矩阵 2行3列\n",
    "print(a)\n",
    "\n",
    "\"\"\"\n",
    "[[ 2 23  4]\n",
    " [ 2 32  4]]\n",
    "\"\"\""
   ]
  },
  {
   "cell_type": "code",
   "execution_count": 30,
   "metadata": {},
   "outputs": [
    {
     "name": "stdout",
     "output_type": "stream",
     "text": [
      "[[0. 0. 0. 0.]\n",
      " [0. 0. 0. 0.]\n",
      " [0. 0. 0. 0.]]\n"
     ]
    },
    {
     "data": {
      "text/plain": [
       "'\\narray([[ 0.,  0.,  0.,  0.],\\n       [ 0.,  0.,  0.,  0.],\\n       [ 0.,  0.,  0.,  0.]])\\n'"
      ]
     },
     "execution_count": 30,
     "metadata": {},
     "output_type": "execute_result"
    }
   ],
   "source": [
    "a = np.zeros((3,4)) # 数据全为0，3行4列\n",
    "print(a)\n",
    "\"\"\"\n",
    "array([[ 0.,  0.,  0.,  0.],\n",
    "       [ 0.,  0.,  0.,  0.],\n",
    "       [ 0.,  0.,  0.,  0.]])\n",
    "\"\"\""
   ]
  },
  {
   "cell_type": "code",
   "execution_count": 31,
   "metadata": {},
   "outputs": [
    {
     "name": "stdout",
     "output_type": "stream",
     "text": [
      "[[1 1 1 1]\n",
      " [1 1 1 1]\n",
      " [1 1 1 1]]\n"
     ]
    },
    {
     "data": {
      "text/plain": [
       "'\\narray([[1, 1, 1, 1],\\n       [1, 1, 1, 1],\\n       [1, 1, 1, 1]])\\n'"
      ]
     },
     "execution_count": 31,
     "metadata": {},
     "output_type": "execute_result"
    }
   ],
   "source": [
    "a = np.ones((3,4),dtype = np.int)   # 数据为1，3行4列\n",
    "print(a)\n",
    "\n",
    "\"\"\"\n",
    "array([[1, 1, 1, 1],\n",
    "       [1, 1, 1, 1],\n",
    "       [1, 1, 1, 1]])\n",
    "\"\"\""
   ]
  },
  {
   "cell_type": "code",
   "execution_count": 3,
   "metadata": {},
   "outputs": [
    {
     "name": "stdout",
     "output_type": "stream",
     "text": [
      "[[1.35212159e-311 3.16202013e-322 0.00000000e+000 0.00000000e+000]\n",
      " [7.56587583e-307 1.19947764e-071 1.39501845e-047 2.49283993e+180]\n",
      " [3.89415240e-033 6.40417843e+170 5.64488487e-038 6.23273742e+174]]\n"
     ]
    },
    {
     "data": {
      "text/plain": [
       "'\\narray([[  0.00000000e+000,   4.94065646e-324,   9.88131292e-324,\\n          1.48219694e-323],\\n       [  1.97626258e-323,   2.47032823e-323,   2.96439388e-323,\\n          3.45845952e-323],\\n       [  3.95252517e-323,   4.44659081e-323,   4.94065646e-323,\\n          5.43472210e-323]])\\n'"
      ]
     },
     "execution_count": 3,
     "metadata": {},
     "output_type": "execute_result"
    }
   ],
   "source": [
    "a = np.empty((3,4)) # 数据为empty，3行4列\n",
    "print(a)\n",
    "\"\"\"\n",
    "array([[  0.00000000e+000,   4.94065646e-324,   9.88131292e-324,\n",
    "          1.48219694e-323],\n",
    "       [  1.97626258e-323,   2.47032823e-323,   2.96439388e-323,\n",
    "          3.45845952e-323],\n",
    "       [  3.95252517e-323,   4.44659081e-323,   4.94065646e-323,\n",
    "          5.43472210e-323]])\n",
    "\"\"\""
   ]
  },
  {
   "cell_type": "code",
   "execution_count": 4,
   "metadata": {},
   "outputs": [
    {
     "name": "stdout",
     "output_type": "stream",
     "text": [
      "[[ 0  1  2  3]\n",
      " [ 4  5  6  7]\n",
      " [ 8  9 10 11]]\n"
     ]
    },
    {
     "data": {
      "text/plain": [
       "'\\narray([[ 0,  1,  2,  3],\\n       [ 4,  5,  6,  7],\\n       [ 8,  9, 10, 11]])\\n'"
      ]
     },
     "execution_count": 4,
     "metadata": {},
     "output_type": "execute_result"
    }
   ],
   "source": [
    "a = np.arange(12).reshape((3,4))    # 3行4列，0到11\n",
    "print(a)\n",
    "\"\"\"\n",
    "array([[ 0,  1,  2,  3],\n",
    "       [ 4,  5,  6,  7],\n",
    "       [ 8,  9, 10, 11]])\n",
    "\"\"\""
   ]
  },
  {
   "cell_type": "code",
   "execution_count": 5,
   "metadata": {},
   "outputs": [
    {
     "name": "stdout",
     "output_type": "stream",
     "text": [
      "[ 1.          1.47368421  1.94736842  2.42105263  2.89473684  3.36842105\n",
      "  3.84210526  4.31578947  4.78947368  5.26315789  5.73684211  6.21052632\n",
      "  6.68421053  7.15789474  7.63157895  8.10526316  8.57894737  9.05263158\n",
      "  9.52631579 10.        ]\n"
     ]
    }
   ],
   "source": [
    "a = np.linspace(1,10,20)    # 开始端1，结束端10，且分割成20个数据，生成线段\n",
    "print(a)"
   ]
  },
  {
   "cell_type": "code",
   "execution_count": 6,
   "metadata": {},
   "outputs": [
    {
     "data": {
      "text/plain": [
       "array([[ 1.        ,  1.47368421,  1.94736842,  2.42105263],\n",
       "       [ 2.89473684,  3.36842105,  3.84210526,  4.31578947],\n",
       "       [ 4.78947368,  5.26315789,  5.73684211,  6.21052632],\n",
       "       [ 6.68421053,  7.15789474,  7.63157895,  8.10526316],\n",
       "       [ 8.57894737,  9.05263158,  9.52631579, 10.        ]])"
      ]
     },
     "execution_count": 6,
     "metadata": {},
     "output_type": "execute_result"
    }
   ],
   "source": [
    "a = np.linspace(1,10,20).reshape((5,4)) # 更改shape\n",
    "a"
   ]
  },
  {
   "cell_type": "code",
   "execution_count": 8,
   "metadata": {},
   "outputs": [
    {
     "name": "stdout",
     "output_type": "stream",
     "text": [
      "[10 20 30 40]\n",
      "[0 1 2 3]\n"
     ]
    }
   ],
   "source": [
    "import numpy as np\n",
    "a=np.array([10,20,30,40])   # array([10, 20, 30, 40])\n",
    "b=np.arange(4)              # array([0, 1, 2, 3])\n",
    "print(a)\n",
    "print(b)"
   ]
  },
  {
   "cell_type": "code",
   "execution_count": 9,
   "metadata": {},
   "outputs": [
    {
     "name": "stdout",
     "output_type": "stream",
     "text": [
      "[10 19 28 37]\n"
     ]
    }
   ],
   "source": [
    "c=a-b  # array([10, 19, 28, 37])\n",
    "print(c)"
   ]
  },
  {
   "cell_type": "code",
   "execution_count": 10,
   "metadata": {},
   "outputs": [
    {
     "name": "stdout",
     "output_type": "stream",
     "text": [
      "[10 21 32 43]\n",
      "[  0  20  60 120]\n"
     ]
    }
   ],
   "source": [
    "c=a+b   # array([10, 21, 32, 43])\n",
    "print(c)\n",
    "c=a*b   # array([  0,  20,  60, 120])\n",
    "print(c)"
   ]
  },
  {
   "cell_type": "code",
   "execution_count": 11,
   "metadata": {},
   "outputs": [
    {
     "name": "stdout",
     "output_type": "stream",
     "text": [
      "[0 1 4 9]\n"
     ]
    }
   ],
   "source": [
    "c=b**2  # array([0, 1, 4, 9])\n",
    "print(c)"
   ]
  },
  {
   "cell_type": "code",
   "execution_count": 13,
   "metadata": {},
   "outputs": [
    {
     "name": "stdout",
     "output_type": "stream",
     "text": [
      "[ True  True  True False]\n"
     ]
    }
   ],
   "source": [
    "print(b<3)  "
   ]
  },
  {
   "cell_type": "code",
   "execution_count": 14,
   "metadata": {},
   "outputs": [
    {
     "name": "stdout",
     "output_type": "stream",
     "text": [
      "[[1 1]\n",
      " [0 1]]\n",
      "[[0 1]\n",
      " [2 3]]\n"
     ]
    }
   ],
   "source": [
    "a=np.array([[1,1],[0,1]])\n",
    "b=np.arange(4).reshape((2,2))\n",
    "\n",
    "print(a)\n",
    "# array([[1, 1],\n",
    "#       [0, 1]])\n",
    "\n",
    "print(b)\n",
    "# array([[0, 1],\n",
    "#       [2, 3]])"
   ]
  },
  {
   "cell_type": "code",
   "execution_count": 15,
   "metadata": {},
   "outputs": [
    {
     "data": {
      "text/plain": [
       "array([[2, 4],\n",
       "       [2, 3]])"
      ]
     },
     "execution_count": 15,
     "metadata": {},
     "output_type": "execute_result"
    }
   ],
   "source": [
    "c_dot = np.dot(a,b)\n",
    "c_dot"
   ]
  },
  {
   "cell_type": "code",
   "execution_count": 16,
   "metadata": {},
   "outputs": [
    {
     "name": "stdout",
     "output_type": "stream",
     "text": [
      "[[0.92902573 0.15616742 0.93721051 0.84358867]\n",
      " [0.24958605 0.4058643  0.44168299 0.7314542 ]]\n"
     ]
    }
   ],
   "source": [
    "import numpy as np\n",
    "a=np.random.random((2,4))\n",
    "print(a)"
   ]
  },
  {
   "cell_type": "code",
   "execution_count": 17,
   "metadata": {},
   "outputs": [
    {
     "name": "stdout",
     "output_type": "stream",
     "text": [
      "[[0.92902573 0.15616742 0.93721051 0.84358867]\n",
      " [0.24958605 0.4058643  0.44168299 0.7314542 ]]\n",
      "[[0.92902573 0.15616742 0.93721051 0.84358867]\n",
      " [0.24958605 0.4058643  0.44168299 0.7314542 ]]\n",
      "[[0.92902573 0.15616742 0.93721051 0.84358867]\n",
      " [0.24958605 0.4058643  0.44168299 0.7314542 ]]\n"
     ]
    }
   ],
   "source": [
    "np.sum(a)   \n",
    "print(a)\n",
    "np.min(a) \n",
    "print(a)\n",
    "np.max(a)\n",
    "print(a)"
   ]
  },
  {
   "cell_type": "code",
   "execution_count": 19,
   "metadata": {},
   "outputs": [
    {
     "name": "stdout",
     "output_type": "stream",
     "text": [
      "a = [[0.92902573 0.15616742 0.93721051 0.84358867]\n",
      " [0.24958605 0.4058643  0.44168299 0.7314542 ]]\n",
      "sum = [2.86599233 1.82858754]\n",
      "min = [0.24958605 0.15616742 0.44168299 0.7314542 ]\n",
      "max = [0.93721051 0.7314542 ]\n"
     ]
    }
   ],
   "source": [
    "print(\"a =\",a)\n",
    "# a = [[ 0.23651224  0.41900661  0.84869417  0.46456022]\n",
    "# [ 0.60771087  0.9043845   0.36603285  0.55746074]]\n",
    "\n",
    "print(\"sum =\", np.sum(a,axis=1))\n",
    "# sum = [ 1.96877324  2.43558896]\n",
    "\n",
    "print(\"min =\", np.min(a,axis=0))\n",
    "# min = [ 0.23651224  0.41900661  0.36603285  0.46456022]\n",
    "\n",
    "print(\"max =\", np.max(a,axis=1))\n",
    "# max = [ 0.84869417  0.9043845 ]"
   ]
  },
  {
   "cell_type": "code",
   "execution_count": 32,
   "metadata": {},
   "outputs": [
    {
     "name": "stdout",
     "output_type": "stream",
     "text": [
      "0\n",
      "11\n"
     ]
    }
   ],
   "source": [
    "import numpy as np\n",
    "A = np.arange(2,14).reshape((3,4)) \n",
    "         \n",
    "print(np.argmin(A))    # 0\n",
    "print(np.argmax(A))    # 11"
   ]
  },
  {
   "cell_type": "code",
   "execution_count": 21,
   "metadata": {},
   "outputs": [
    {
     "name": "stdout",
     "output_type": "stream",
     "text": [
      "7.5\n",
      "7.5\n"
     ]
    }
   ],
   "source": [
    "print(np.mean(A))\n",
    "print(np.average(A))"
   ]
  },
  {
   "cell_type": "code",
   "execution_count": 22,
   "metadata": {},
   "outputs": [
    {
     "name": "stdout",
     "output_type": "stream",
     "text": [
      "7.5\n"
     ]
    }
   ],
   "source": [
    "print(A.mean())"
   ]
  },
  {
   "cell_type": "code",
   "execution_count": 24,
   "metadata": {},
   "outputs": [
    {
     "name": "stdout",
     "output_type": "stream",
     "text": [
      "7.5\n"
     ]
    }
   ],
   "source": [
    "print(np.median(A)) "
   ]
  },
  {
   "cell_type": "code",
   "execution_count": 25,
   "metadata": {},
   "outputs": [
    {
     "name": "stdout",
     "output_type": "stream",
     "text": [
      "[ 2  5  9 14 20 27 35 44 54 65 77 90]\n"
     ]
    }
   ],
   "source": [
    "print(np.cumsum(A)) "
   ]
  },
  {
   "cell_type": "code",
   "execution_count": 27,
   "metadata": {},
   "outputs": [
    {
     "name": "stdout",
     "output_type": "stream",
     "text": [
      "[[1 1 1]\n",
      " [1 1 1]\n",
      " [1 1 1]]\n"
     ]
    }
   ],
   "source": [
    "print(np.diff(A))    "
   ]
  },
  {
   "cell_type": "code",
   "execution_count": 28,
   "metadata": {},
   "outputs": [
    {
     "name": "stdout",
     "output_type": "stream",
     "text": [
      "(array([0, 0, 0, 0, 1, 1, 1, 1, 2, 2, 2, 2], dtype=int64), array([0, 1, 2, 3, 0, 1, 2, 3, 0, 1, 2, 3], dtype=int64))\n"
     ]
    }
   ],
   "source": [
    "print(np.nonzero(A))    "
   ]
  },
  {
   "cell_type": "code",
   "execution_count": 33,
   "metadata": {},
   "outputs": [
    {
     "name": "stdout",
     "output_type": "stream",
     "text": [
      "[[11 12 13 14]\n",
      " [ 7  8  9 10]\n",
      " [ 3  4  5  6]]\n"
     ]
    }
   ],
   "source": [
    "import numpy as np\n",
    "A = np.arange(14,2, -1).reshape((3,4)) \n",
    "\n",
    "print(np.sort(A))    \n"
   ]
  },
  {
   "cell_type": "code",
   "execution_count": 34,
   "metadata": {},
   "outputs": [
    {
     "name": "stdout",
     "output_type": "stream",
     "text": [
      "[[14 10  6]\n",
      " [13  9  5]\n",
      " [12  8  4]\n",
      " [11  7  3]]\n",
      "[[14 10  6]\n",
      " [13  9  5]\n",
      " [12  8  4]\n",
      " [11  7  3]]\n"
     ]
    }
   ],
   "source": [
    "print(np.transpose(A))    \n",
    "print(A.T)"
   ]
  },
  {
   "cell_type": "code",
   "execution_count": 35,
   "metadata": {},
   "outputs": [
    {
     "name": "stdout",
     "output_type": "stream",
     "text": [
      "[[14 13 12 11]\n",
      " [10  9  8  7]\n",
      " [ 6  5  4  3]]\n",
      "[[9 9 9 9]\n",
      " [9 9 8 7]\n",
      " [6 5 5 5]]\n"
     ]
    }
   ],
   "source": [
    "print(A)\n",
    "print(np.clip(A,5,9))    "
   ]
  },
  {
   "cell_type": "code",
   "execution_count": 36,
   "metadata": {},
   "outputs": [
    {
     "name": "stdout",
     "output_type": "stream",
     "text": [
      "6\n"
     ]
    }
   ],
   "source": [
    "import numpy as np\n",
    "A = np.arange(3,15)\n",
    "\n",
    "# array([3, 4, 5, 6, 7, 8, 9, 10, 11, 12, 13, 14])\n",
    "         \n",
    "print(A[3])"
   ]
  },
  {
   "cell_type": "code",
   "execution_count": 37,
   "metadata": {},
   "outputs": [
    {
     "name": "stdout",
     "output_type": "stream",
     "text": [
      "[11 12 13 14]\n"
     ]
    }
   ],
   "source": [
    "A = np.arange(3,15).reshape((3,4))\n",
    "\"\"\"\n",
    "array([[ 3,  4,  5,  6]\n",
    "       [ 7,  8,  9, 10]\n",
    "       [11, 12, 13, 14]])\n",
    "\"\"\"\n",
    "         \n",
    "print(A[2])         \n",
    "# [11 12 13 14]"
   ]
  },
  {
   "cell_type": "code",
   "execution_count": 38,
   "metadata": {},
   "outputs": [
    {
     "name": "stdout",
     "output_type": "stream",
     "text": [
      "8\n"
     ]
    }
   ],
   "source": [
    "print(A[1][1]) "
   ]
  },
  {
   "cell_type": "code",
   "execution_count": 39,
   "metadata": {},
   "outputs": [
    {
     "name": "stdout",
     "output_type": "stream",
     "text": [
      "8\n"
     ]
    }
   ],
   "source": [
    "print(A[1, 1])  "
   ]
  },
  {
   "cell_type": "code",
   "execution_count": 40,
   "metadata": {},
   "outputs": [
    {
     "name": "stdout",
     "output_type": "stream",
     "text": [
      "[8 9]\n"
     ]
    }
   ],
   "source": [
    "print(A[1, 1:3])   "
   ]
  },
  {
   "cell_type": "code",
   "execution_count": 42,
   "metadata": {},
   "outputs": [
    {
     "name": "stdout",
     "output_type": "stream",
     "text": [
      "[3 4 5 6]\n",
      "[ 7  8  9 10]\n",
      "[11 12 13 14]\n"
     ]
    }
   ],
   "source": [
    "for row in A:\n",
    "    print(row)\n",
    "# \"\"\"    \n",
    "# [ 3,  4,  5, 6]\n",
    "# [ 7,  8,  9, 10]\n",
    "# [11, 12, 13, 14]\n",
    "# \"\"\""
   ]
  },
  {
   "cell_type": "code",
   "execution_count": 43,
   "metadata": {},
   "outputs": [
    {
     "name": "stdout",
     "output_type": "stream",
     "text": [
      "[ 3  7 11]\n",
      "[ 4  8 12]\n",
      "[ 5  9 13]\n",
      "[ 6 10 14]\n"
     ]
    }
   ],
   "source": [
    "for column in A.T:\n",
    "    print(column)"
   ]
  },
  {
   "cell_type": "code",
   "execution_count": 46,
   "metadata": {},
   "outputs": [
    {
     "name": "stdout",
     "output_type": "stream",
     "text": [
      "[ 3  4  5  6  7  8  9 10 11 12 13 14]\n",
      "3\n",
      "4\n",
      "5\n",
      "6\n",
      "7\n",
      "8\n",
      "9\n",
      "10\n",
      "11\n",
      "12\n",
      "13\n",
      "14\n"
     ]
    }
   ],
   "source": [
    "import numpy as np\n",
    "A = np.arange(3,15).reshape((3,4))\n",
    "         \n",
    "print(A.flatten())   \n",
    "# array([3, 4, 5, 6, 7, 8, 9, 10, 11, 12, 13, 14])\n",
    "\n",
    "for item in A.flat:\n",
    "    print(item)\n",
    "    \n",
    "# 3\n",
    "# 4\n",
    "# ……\n",
    "# 14"
   ]
  },
  {
   "cell_type": "code",
   "execution_count": 47,
   "metadata": {},
   "outputs": [
    {
     "name": "stdout",
     "output_type": "stream",
     "text": [
      "[[1 1 1]\n",
      " [2 2 2]]\n"
     ]
    }
   ],
   "source": [
    "import numpy as np\n",
    "A = np.array([1,1,1])\n",
    "B = np.array([2,2,2])\n",
    "         \n",
    "print(np.vstack((A,B)))    # vertical stack"
   ]
  },
  {
   "cell_type": "code",
   "execution_count": 50,
   "metadata": {},
   "outputs": [
    {
     "name": "stdout",
     "output_type": "stream",
     "text": [
      "3 2\n"
     ]
    }
   ],
   "source": [
    "C = np.vstack((A,B))      \n",
    "print(A.shape[0],C.shape[0])   \n",
    "\n",
    "# (3,2) (2,3)"
   ]
  },
  {
   "cell_type": "code",
   "execution_count": 52,
   "metadata": {},
   "outputs": [
    {
     "name": "stdout",
     "output_type": "stream",
     "text": [
      "[1 1 1 2 2 2]\n",
      "3 6\n"
     ]
    }
   ],
   "source": [
    "D = np.hstack((A,B))       # horizontal stack\n",
    "\n",
    "print(D)\n",
    "# [1,1,1,2,2,2]\n",
    "\n",
    "print(A.shape[0],D.shape[0])    \n",
    "# (3,) (6,)"
   ]
  },
  {
   "cell_type": "code",
   "execution_count": 53,
   "metadata": {},
   "outputs": [
    {
     "name": "stdout",
     "output_type": "stream",
     "text": [
      "[[1 1 1]]\n",
      "(1, 3)\n",
      "[[1]\n",
      " [1]\n",
      " [1]]\n",
      "(3, 1)\n"
     ]
    }
   ],
   "source": [
    "print(A[np.newaxis,:])\n",
    "# [[1 1 1]]\n",
    "\n",
    "print(A[np.newaxis,:].shape)\n",
    "# (1,3)\n",
    "\n",
    "print(A[:,np.newaxis])\n",
    "# \"\"\"\n",
    "# [[1]\n",
    "# [1]\n",
    "# [1]]\n",
    "# \"\"\"\n",
    "\n",
    "print(A[:,np.newaxis].shape)\n",
    "# (3,1)"
   ]
  },
  {
   "cell_type": "code",
   "execution_count": 54,
   "metadata": {},
   "outputs": [
    {
     "name": "stdout",
     "output_type": "stream",
     "text": [
      "[[1 2]\n",
      " [1 2]\n",
      " [1 2]]\n",
      "(3, 1) (3, 2)\n"
     ]
    }
   ],
   "source": [
    "import numpy as np\n",
    "A = np.array([1,1,1])[:,np.newaxis]\n",
    "B = np.array([2,2,2])[:,np.newaxis]\n",
    "         \n",
    "C = np.vstack((A,B))   # vertical stack\n",
    "D = np.hstack((A,B))   # horizontal stack\n",
    "\n",
    "print(D)\n",
    "# \"\"\"\n",
    "# [[1 2]\n",
    "# [1 2]\n",
    "# [1 2]]\n",
    "# \"\"\"\n",
    "\n",
    "print(A.shape,D.shape)\n",
    "# (3,1) (3,2)"
   ]
  },
  {
   "cell_type": "code",
   "execution_count": 56,
   "metadata": {},
   "outputs": [
    {
     "name": "stdout",
     "output_type": "stream",
     "text": [
      "[[1]\n",
      " [1]\n",
      " [1]\n",
      " [2]\n",
      " [2]\n",
      " [2]\n",
      " [2]\n",
      " [2]\n",
      " [2]\n",
      " [1]\n",
      " [1]\n",
      " [1]]\n",
      "[[1 2 2 1]\n",
      " [1 2 2 1]\n",
      " [1 2 2 1]]\n"
     ]
    }
   ],
   "source": [
    "C = np.concatenate((A,B,B,A),axis=0)\n",
    "\n",
    "print(C)\n",
    "# \"\"\"\n",
    "# array([[1],\n",
    "#        [1],\n",
    "#        [1],\n",
    "#        [2],\n",
    "#        [2],\n",
    "#        [2],\n",
    "#        [2],\n",
    "#        [2],\n",
    "#        [2],\n",
    "#        [1],\n",
    "#        [1],\n",
    "#        [1]])\n",
    "# \"\"\"\n",
    "\n",
    "D = np.concatenate((A,B,B,A),axis=1)\n",
    "\n",
    "print(D)\n",
    "# \"\"\"\n",
    "# array([[1, 2, 2, 1],\n",
    "#        [1, 2, 2, 1],\n",
    "#        [1, 2, 2, 1]])\n",
    "# \"\"\""
   ]
  },
  {
   "cell_type": "code",
   "execution_count": 57,
   "metadata": {},
   "outputs": [],
   "source": [
    "import numpy as np\n"
   ]
  },
  {
   "cell_type": "code",
   "execution_count": 58,
   "metadata": {},
   "outputs": [
    {
     "name": "stdout",
     "output_type": "stream",
     "text": [
      "[[ 0  1  2  3]\n",
      " [ 4  5  6  7]\n",
      " [ 8  9 10 11]]\n"
     ]
    }
   ],
   "source": [
    "A = np.arange(12).reshape((3, 4))\n",
    "print(A)\n",
    "# \"\"\"\n",
    "# array([[ 0,  1,  2,  3],\n",
    "#     [ 4,  5,  6,  7],\n",
    "#     [ 8,  9, 10, 11]])\n",
    "# \"\"\""
   ]
  },
  {
   "cell_type": "code",
   "execution_count": 59,
   "metadata": {},
   "outputs": [
    {
     "name": "stdout",
     "output_type": "stream",
     "text": [
      "[array([[0, 1],\n",
      "       [4, 5],\n",
      "       [8, 9]]), array([[ 2,  3],\n",
      "       [ 6,  7],\n",
      "       [10, 11]])]\n"
     ]
    }
   ],
   "source": [
    "print(np.split(A, 2, axis=1))\n",
    "# \"\"\"\n",
    "# [array([[0, 1],\n",
    "#         [4, 5],\n",
    "#         [8, 9]]), array([[ 2,  3],\n",
    "#         [ 6,  7],\n",
    "#         [10, 11]])]\n",
    "# \"\"\""
   ]
  },
  {
   "cell_type": "code",
   "execution_count": 60,
   "metadata": {},
   "outputs": [
    {
     "name": "stdout",
     "output_type": "stream",
     "text": [
      "[array([[0, 1, 2, 3]]), array([[4, 5, 6, 7]]), array([[ 8,  9, 10, 11]])]\n"
     ]
    }
   ],
   "source": [
    "print(np.split(A, 3, axis=0))\n",
    "\n",
    "# [array([[0, 1, 2, 3]]), array([[4, 5, 6, 7]]), array([[ 8,  9, 10, 11]])]"
   ]
  },
  {
   "cell_type": "code",
   "execution_count": 61,
   "metadata": {},
   "outputs": [
    {
     "ename": "ValueError",
     "evalue": "array split does not result in an equal division",
     "output_type": "error",
     "traceback": [
      "\u001b[1;31m---------------------------------------------------------------------------\u001b[0m",
      "\u001b[1;31mTypeError\u001b[0m                                 Traceback (most recent call last)",
      "\u001b[1;32m~\\anaconda3\\lib\\site-packages\\numpy\\lib\\shape_base.py\u001b[0m in \u001b[0;36msplit\u001b[1;34m(ary, indices_or_sections, axis)\u001b[0m\n\u001b[0;32m    866\u001b[0m     \u001b[1;32mtry\u001b[0m\u001b[1;33m:\u001b[0m\u001b[1;33m\u001b[0m\u001b[1;33m\u001b[0m\u001b[0m\n\u001b[1;32m--> 867\u001b[1;33m         \u001b[0mlen\u001b[0m\u001b[1;33m(\u001b[0m\u001b[0mindices_or_sections\u001b[0m\u001b[1;33m)\u001b[0m\u001b[1;33m\u001b[0m\u001b[1;33m\u001b[0m\u001b[0m\n\u001b[0m\u001b[0;32m    868\u001b[0m     \u001b[1;32mexcept\u001b[0m \u001b[0mTypeError\u001b[0m\u001b[1;33m:\u001b[0m\u001b[1;33m\u001b[0m\u001b[1;33m\u001b[0m\u001b[0m\n",
      "\u001b[1;31mTypeError\u001b[0m: object of type 'int' has no len()",
      "\nDuring handling of the above exception, another exception occurred:\n",
      "\u001b[1;31mValueError\u001b[0m                                Traceback (most recent call last)",
      "\u001b[1;32m<ipython-input-61-78e9224733aa>\u001b[0m in \u001b[0;36m<module>\u001b[1;34m\u001b[0m\n\u001b[1;32m----> 1\u001b[1;33m \u001b[0mprint\u001b[0m\u001b[1;33m(\u001b[0m\u001b[0mnp\u001b[0m\u001b[1;33m.\u001b[0m\u001b[0msplit\u001b[0m\u001b[1;33m(\u001b[0m\u001b[0mA\u001b[0m\u001b[1;33m,\u001b[0m \u001b[1;36m3\u001b[0m\u001b[1;33m,\u001b[0m \u001b[0maxis\u001b[0m\u001b[1;33m=\u001b[0m\u001b[1;36m1\u001b[0m\u001b[1;33m)\u001b[0m\u001b[1;33m)\u001b[0m\u001b[1;33m\u001b[0m\u001b[1;33m\u001b[0m\u001b[0m\n\u001b[0m\u001b[0;32m      2\u001b[0m \u001b[1;33m\u001b[0m\u001b[0m\n\u001b[0;32m      3\u001b[0m \u001b[1;31m# ValueError: array split does not result in an equal division\u001b[0m\u001b[1;33m\u001b[0m\u001b[1;33m\u001b[0m\u001b[1;33m\u001b[0m\u001b[0m\n",
      "\u001b[1;32m<__array_function__ internals>\u001b[0m in \u001b[0;36msplit\u001b[1;34m(*args, **kwargs)\u001b[0m\n",
      "\u001b[1;32m~\\anaconda3\\lib\\site-packages\\numpy\\lib\\shape_base.py\u001b[0m in \u001b[0;36msplit\u001b[1;34m(ary, indices_or_sections, axis)\u001b[0m\n\u001b[0;32m    870\u001b[0m         \u001b[0mN\u001b[0m \u001b[1;33m=\u001b[0m \u001b[0mary\u001b[0m\u001b[1;33m.\u001b[0m\u001b[0mshape\u001b[0m\u001b[1;33m[\u001b[0m\u001b[0maxis\u001b[0m\u001b[1;33m]\u001b[0m\u001b[1;33m\u001b[0m\u001b[1;33m\u001b[0m\u001b[0m\n\u001b[0;32m    871\u001b[0m         \u001b[1;32mif\u001b[0m \u001b[0mN\u001b[0m \u001b[1;33m%\u001b[0m \u001b[0msections\u001b[0m\u001b[1;33m:\u001b[0m\u001b[1;33m\u001b[0m\u001b[1;33m\u001b[0m\u001b[0m\n\u001b[1;32m--> 872\u001b[1;33m             raise ValueError(\n\u001b[0m\u001b[0;32m    873\u001b[0m                 'array split does not result in an equal division')\n\u001b[0;32m    874\u001b[0m     \u001b[1;32mreturn\u001b[0m \u001b[0marray_split\u001b[0m\u001b[1;33m(\u001b[0m\u001b[0mary\u001b[0m\u001b[1;33m,\u001b[0m \u001b[0mindices_or_sections\u001b[0m\u001b[1;33m,\u001b[0m \u001b[0maxis\u001b[0m\u001b[1;33m)\u001b[0m\u001b[1;33m\u001b[0m\u001b[1;33m\u001b[0m\u001b[0m\n",
      "\u001b[1;31mValueError\u001b[0m: array split does not result in an equal division"
     ]
    }
   ],
   "source": [
    "print(np.split(A, 3, axis=1))\n",
    "\n",
    "# ValueError: array split does not result in an equal division"
   ]
  },
  {
   "cell_type": "code",
   "execution_count": 62,
   "metadata": {},
   "outputs": [
    {
     "name": "stdout",
     "output_type": "stream",
     "text": [
      "[array([[0, 1],\n",
      "       [4, 5],\n",
      "       [8, 9]]), array([[ 2],\n",
      "       [ 6],\n",
      "       [10]]), array([[ 3],\n",
      "       [ 7],\n",
      "       [11]])]\n"
     ]
    }
   ],
   "source": [
    "print(np.array_split(A, 3, axis=1))\n",
    "# \"\"\"\n",
    "# [array([[0, 1],\n",
    "#         [4, 5],\n",
    "#         [8, 9]]), array([[ 2],\n",
    "#         [ 6],\n",
    "#         [10]]), array([[ 3],\n",
    "#         [ 7],\n",
    "#         [11]])]\n",
    "# \"\"\""
   ]
  },
  {
   "cell_type": "code",
   "execution_count": 64,
   "metadata": {},
   "outputs": [
    {
     "name": "stdout",
     "output_type": "stream",
     "text": [
      "[array([[0, 1, 2, 3]]), array([[4, 5, 6, 7]]), array([[ 8,  9, 10, 11]])]\n",
      "[array([[0, 1],\n",
      "       [4, 5],\n",
      "       [8, 9]]), array([[ 2,  3],\n",
      "       [ 6,  7],\n",
      "       [10, 11]])]\n"
     ]
    },
    {
     "data": {
      "text/plain": [
       "'\\n[array([[0, 1],\\n       [4, 5],\\n       [8, 9]]), array([[ 2,  3],\\n        [ 6,  7],\\n        [10, 11]])]\\n'"
      ]
     },
     "execution_count": 64,
     "metadata": {},
     "output_type": "execute_result"
    }
   ],
   "source": [
    "print(np.vsplit(A, 3)) #等于 print(np.split(A, 3, axis=0))\n",
    "\n",
    "# [array([[0, 1, 2, 3]]), array([[4, 5, 6, 7]]), array([[ 8,  9, 10, 11]])]\n",
    "\n",
    "\n",
    "print(np.hsplit(A, 2)) #等于 print(np.split(A, 2, axis=1))\n",
    "\"\"\"\n",
    "[array([[0, 1],\n",
    "       [4, 5],\n",
    "       [8, 9]]), array([[ 2,  3],\n",
    "        [ 6,  7],\n",
    "        [10, 11]])]\n",
    "\"\"\""
   ]
  },
  {
   "cell_type": "code",
   "execution_count": 66,
   "metadata": {},
   "outputs": [
    {
     "name": "stdout",
     "output_type": "stream",
     "text": [
      "[0 1 2 3] [0 1 2 3] [0 1 2 3]\n"
     ]
    }
   ],
   "source": [
    "import numpy as np\n",
    "\n",
    "a = np.arange(4)\n",
    "# array([0, 1, 2, 3])\n",
    "\n",
    "b = a\n",
    "c = a\n",
    "d = b\n",
    "print(b, c, d)"
   ]
  },
  {
   "cell_type": "code",
   "execution_count": 67,
   "metadata": {},
   "outputs": [
    {
     "name": "stdout",
     "output_type": "stream",
     "text": [
      "[11  1  2  3]\n"
     ]
    }
   ],
   "source": [
    "a[0] = 11\n",
    "print(a)\n",
    "# array([11,  1,  2,  3])"
   ]
  },
  {
   "cell_type": "code",
   "execution_count": 68,
   "metadata": {},
   "outputs": [
    {
     "data": {
      "text/plain": [
       "True"
      ]
     },
     "execution_count": 68,
     "metadata": {},
     "output_type": "execute_result"
    }
   ],
   "source": [
    "b is a  # True\n",
    "c is a  # True\n",
    "d is a  # True"
   ]
  },
  {
   "cell_type": "code",
   "execution_count": 69,
   "metadata": {},
   "outputs": [
    {
     "name": "stdout",
     "output_type": "stream",
     "text": [
      "[11 22 33  3]\n",
      "[11 22 33  3]\n",
      "[11 22 33  3]\n"
     ]
    }
   ],
   "source": [
    "d[1:3] = [22, 33]   # array([11, 22, 33,  3])\n",
    "print(a)            # array([11, 22, 33,  3])\n",
    "print(b)            # array([11, 22, 33,  3])\n",
    "print(c)            # array([11, 22, 33,  3])"
   ]
  },
  {
   "cell_type": "code",
   "execution_count": 70,
   "metadata": {},
   "outputs": [
    {
     "name": "stdout",
     "output_type": "stream",
     "text": [
      "[11 22 33  3]\n",
      "[11 22 33 44]\n",
      "[11 22 33  3]\n"
     ]
    }
   ],
   "source": [
    "b = a.copy()    # deep copy\n",
    "print(b)        # array([11, 22, 33,  3])\n",
    "a[3] = 44\n",
    "print(a)        # array([11, 22, 33, 44])\n",
    "print(b)        # array([11, 22, 33,  3])"
   ]
  },
  {
   "cell_type": "markdown",
   "metadata": {},
   "source": [
    "## gurobi"
   ]
  },
  {
   "cell_type": "markdown",
   "metadata": {},
   "source": [
    "运筹优化计算库"
   ]
  },
  {
   "cell_type": "code",
   "execution_count": 71,
   "metadata": {},
   "outputs": [
    {
     "name": "stdout",
     "output_type": "stream",
     "text": [
      "Using license file C:\\Users\\lll51\\gurobi.lic\n",
      "Academic license - for non-commercial use only - expires 2021-02-02\n",
      "Gurobi Optimizer version 9.1.0 build v9.1.0rc0 (win64)\n",
      "Thread count: 4 physical cores, 8 logical processors, using up to 8 threads\n",
      "Optimize a model with 2 rows, 2 columns and 4 nonzeros\n",
      "Model fingerprint: 0x6186b378\n",
      "Coefficient statistics:\n",
      "  Matrix range     [1e+00, 3e+00]\n",
      "  Objective range  [5e+00, 6e+00]\n",
      "  Bounds range     [0e+00, 0e+00]\n",
      "  RHS range        [5e+00, 1e+01]\n",
      "Presolve removed 2 rows and 2 columns\n",
      "Presolve time: 0.02s\n",
      "Presolve: All rows and columns removed\n",
      "Iteration    Objective       Primal Inf.    Dual Inf.      Time\n",
      "       0   -3.3142857e+01   0.000000e+00   0.000000e+00      0s\n",
      "\n",
      "Solved in 0 iterations and 0.02 seconds\n",
      "Optimal objective -3.314285714e+01\n",
      "x1 2.42857\n",
      "x2 3.71429\n",
      "Obj: -33.1429\n",
      "Gurobi Optimizer version 9.1.0 build v9.1.0rc0 (win64)\n",
      "Thread count: 4 physical cores, 8 logical processors, using up to 8 threads\n",
      "Optimize a model with 2 rows, 2 columns and 4 nonzeros\n",
      "Model fingerprint: 0x61896db8\n",
      "Variable types: 0 continuous, 2 integer (0 binary)\n",
      "Coefficient statistics:\n",
      "  Matrix range     [1e+00, 3e+00]\n",
      "  Objective range  [5e+00, 6e+00]\n",
      "  Bounds range     [0e+00, 0e+00]\n",
      "  RHS range        [5e+00, 1e+01]\n",
      "Found heuristic solution: objective -28.0000000\n",
      "Presolve time: 0.01s\n",
      "Presolved: 2 rows, 2 columns, 4 nonzeros\n",
      "Variable types: 0 continuous, 2 integer (0 binary)\n",
      "\n",
      "Explored 0 nodes (0 simplex iterations) in 0.02 seconds\n",
      "Thread count was 8 (of 8 available processors)\n",
      "\n",
      "Solution count 1: -28 \n",
      "No other solutions better than -28\n",
      "\n",
      "Optimal solution found (tolerance 1.00e-04)\n",
      "Best objective -2.800000000000e+01, best bound -2.800000000000e+01, gap 0.0000%\n",
      "x1 3\n",
      "x2 2\n",
      "Obj: -28\n"
     ]
    }
   ],
   "source": [
    "\n",
    "from gurobipy import *\n",
    "\n",
    "# Create a new model\n",
    "m = Model(\"qp\")\n",
    "\n",
    "# Create variables\n",
    "x1 = m.addVar(name=\"x1\")\n",
    "x2 = m.addVar(name=\"x2\")\n",
    "\n",
    "\n",
    "# Set objective: x^2 + x*y + y^2 + y*z + z^2 + 2 x\n",
    "obj = -6 * x1 -5 * x2\n",
    "m.setObjective(obj)\n",
    "\n",
    "# Add constraint: x + 2 y + 3 z <= 4\n",
    "m.addConstr(3 * x1 + x2 <= 11, \"c0\")\n",
    "\n",
    "# Add constraint: x + y >= 1\n",
    "m.addConstr(-1 * x1 + 2 * x2 <= 5, \"c1\")\n",
    "\n",
    "m.optimize()\n",
    "\n",
    "for v in m.getVars():\n",
    "    print('%s %g' % (v.varName, v.x))\n",
    "\n",
    "print('Obj: %g' % obj.getValue())\n",
    "\n",
    "x1.vType = GRB.INTEGER\n",
    "x2.vType = GRB.INTEGER\n",
    "\n",
    "m.optimize()\n",
    "\n",
    "for v in m.getVars():\n",
    "    print('%s %g' % (v.varName, v.x))\n",
    "\n",
    "print('Obj: %g' % obj.getValue())"
   ]
  },
  {
   "cell_type": "code",
   "execution_count": 72,
   "metadata": {},
   "outputs": [
    {
     "name": "stdout",
     "output_type": "stream",
     "text": [
      "Gurobi Optimizer version 9.1.0 build v9.1.0rc0 (win64)\n",
      "Thread count: 4 physical cores, 8 logical processors, using up to 8 threads\n",
      "Optimize a model with 2 rows, 3 columns and 5 nonzeros\n",
      "Model fingerprint: 0xf43f5bdf\n",
      "Variable types: 0 continuous, 3 integer (3 binary)\n",
      "Coefficient statistics:\n",
      "  Matrix range     [1e+00, 3e+00]\n",
      "  Objective range  [1e+00, 2e+00]\n",
      "  Bounds range     [1e+00, 1e+00]\n",
      "  RHS range        [1e+00, 4e+00]\n",
      "Found heuristic solution: objective 2.0000000\n",
      "Presolve removed 2 rows and 3 columns\n",
      "Presolve time: 0.00s\n",
      "Presolve: All rows and columns removed\n",
      "\n",
      "Explored 0 nodes (0 simplex iterations) in 0.01 seconds\n",
      "Thread count was 1 (of 8 available processors)\n",
      "\n",
      "Solution count 2: 3 \n",
      "\n",
      "Optimal solution found (tolerance 1.00e-04)\n",
      "Best objective 3.000000000000e+00, best bound 3.000000000000e+00, gap 0.0000%\n",
      "x 1.0\n",
      "y 0.0\n",
      "z 1.0\n",
      "Obj: 3.0\n"
     ]
    }
   ],
   "source": [
    "from gurobipy import *\n",
    "\n",
    "try:\n",
    "\n",
    "    # Create a new model\n",
    "    m = Model(\"mip1\")\n",
    "\n",
    "    # Create variables\n",
    "    x = m.addVar(vtype=GRB.BINARY, name=\"x\")\n",
    "    y = m.addVar(vtype=GRB.BINARY, name=\"y\")\n",
    "    z = m.addVar(vtype=GRB.BINARY, name=\"z\")\n",
    "\n",
    "    # Set objective\n",
    "    m.setObjective(x + y + 2 * z, GRB.MAXIMIZE)\n",
    "\n",
    "    # Add constraint: x + 2 y + 3 z <= 4\n",
    "    m.addConstr(x + 2 * y + 3 * z <= 4, \"c0\")\n",
    "\n",
    "    # Add constraint: x + y >= 1\n",
    "    m.addConstr(x + y >= 1, \"c1\")\n",
    "\n",
    "    m.optimize()\n",
    "\n",
    "    for v in m.getVars():\n",
    "        print(v.varName, v.x)\n",
    "\n",
    "    print('Obj:', m.objVal)\n",
    "\n",
    "except GurobiError:\n",
    "    print('Error reported')"
   ]
  },
  {
   "cell_type": "code",
   "execution_count": 74,
   "metadata": {},
   "outputs": [
    {
     "name": "stdout",
     "output_type": "stream",
     "text": [
      "x 0.0\n",
      "y 3.4\n",
      "z -23.600000000093132\n",
      "Obj: -23.600000000093132\n"
     ]
    }
   ],
   "source": [
    "from gurobipy import *\n",
    "\n",
    "try:\n",
    "\n",
    "    # Create a new model\n",
    "    m = Model(\"mip1\")\n",
    "    m.setParam('OutputFlag', False)  # turns off solver chatter\n",
    "\n",
    "    # Create variables\n",
    "    x = m.addVar(vtype=GRB.CONTINUOUS, lb=0.0, name=\"x\")\n",
    "    y = m.addVar(vtype=GRB.CONTINUOUS, lb=0.0, name=\"y\")\n",
    "    z = m.addVar(vtype=GRB.CONTINUOUS, lb=-1111111, name=\"z\")\n",
    "\n",
    "    # Set objective\n",
    "    m.setObjective(z, GRB.MAXIMIZE)\n",
    "\n",
    "    # Add constraint: x + 2 y + 3 z <= 4\n",
    "    m.addConstr(z <= -10 - 22 * x - 4 * y, \"c0\")\n",
    "\n",
    "    # Add constraint: x + y >= 1\n",
    "    m.addConstr(z <= -27 - 29 * x + 1 * y, \"c1\")\n",
    "\n",
    "\n",
    "    m.optimize()\n",
    "\n",
    "    for v in m.getVars():\n",
    "        print(v.varName, v.x)\n",
    "\n",
    "    print('Obj:', m.objVal)\n",
    "\n",
    "except GurobiError:\n",
    "    print('Error reported')"
   ]
  },
  {
   "cell_type": "code",
   "execution_count": 75,
   "metadata": {},
   "outputs": [
    {
     "name": "stdout",
     "output_type": "stream",
     "text": [
      "Gurobi Optimizer version 9.1.0 build v9.1.0rc0 (win64)\n",
      "Thread count: 4 physical cores, 8 logical processors, using up to 8 threads\n",
      "Optimize a model with 3 rows, 3 columns and 3 nonzeros\n",
      "Model fingerprint: 0x5da99316\n",
      "Coefficient statistics:\n",
      "  Matrix range     [2e+00, 3e+00]\n",
      "  Objective range  [1e+01, 3e+01]\n",
      "  Bounds range     [0e+00, 0e+00]\n",
      "  RHS range        [1e+00, 1e+00]\n",
      "Presolve removed 3 rows and 3 columns\n",
      "Presolve time: 0.00s\n",
      "Presolve: All rows and columns removed\n",
      "Iteration    Objective       Primal Inf.    Dual Inf.      Time\n",
      "       0    2.2333333e+01   0.000000e+00   0.000000e+00      0s\n",
      "\n",
      "Solved in 0 iterations and 0.01 seconds\n",
      "Optimal objective  2.233333333e+01\n",
      "x 0.3333333333333333\n",
      "y 0.5\n",
      "z 0.5\n",
      "Obj: 22.333333333333332\n"
     ]
    }
   ],
   "source": [
    "from gurobipy import *\n",
    "\n",
    "try:\n",
    "\n",
    "    # Create a new model\n",
    "    m = Model(\"mip1\")\n",
    "\n",
    "    # Create variables\n",
    "    x = m.addVar(vtype=GRB.CONTINUOUS, name=\"x\")\n",
    "    y = m.addVar(vtype=GRB.CONTINUOUS, name=\"y\")\n",
    "    z = m.addVar(vtype=GRB.CONTINUOUS, name=\"z\")\n",
    "\n",
    "    # Set objective\n",
    "    m.setObjective(25*x+10*y+18*z, GRB.MAXIMIZE)\n",
    "\n",
    "    # Add constraint: x + 2 y + 3 z <= 4\n",
    "    m.addConstr(3*x <= 1, \"c0\")\n",
    "\n",
    "    # Add constraint: x + y >= 1\n",
    "    m.addConstr(2*y <= 1, \"c1\")\n",
    "\n",
    "    # Add constraint: x + y >= 1\n",
    "    m.addConstr(2*z <= 1, \"c2\")\n",
    "\n",
    "    m.optimize()\n",
    "\n",
    "    for v in m.getVars():\n",
    "        print(v.varName, v.x)\n",
    "\n",
    "    print('Obj:', m.objVal)\n",
    "\n",
    "except GurobiError:\n",
    "    print('Error reported')"
   ]
  },
  {
   "cell_type": "code",
   "execution_count": 76,
   "metadata": {},
   "outputs": [
    {
     "name": "stdout",
     "output_type": "stream",
     "text": [
      "iteration 1 obj = 48.0 u = [2.0, 2.0, 2.0, 2.0, 2.0] penalties = [0.0, 0.0, 0.0, 0.0, 1.0]\n",
      "iteration 2 obj = 47.0 u = [2.0, 2.0, 2.0, 2.0, 1.0] penalties = [0.0, 0.0, 0.0, 0.0, 1.0]\n",
      "iteration 3 obj = 46.5 u = [2.0, 2.0, 2.0, 2.0, 0.5] penalties = [0.0, 0.0, 0.0, 0.0, 1.0]\n",
      "iteration 4 obj = 46.166666666666664 u = [2.0, 2.0, 2.0, 2.0, 0.16666666666666669] penalties = [0.0, 0.0, 0.0, 0.0, 1.0]\n",
      "iteration 5 obj = 46.0 u = [2.0, 2.0, 2.0, 2.0, 0.0] penalties = [0.0, 0.0, 0.0, 0.0, 1.0]\n",
      "primal feasible & optimal\n",
      "objective = 46.0\n",
      "x = [\n",
      "    [0, 1, 0]\n",
      "    [0, 1, 0]\n",
      "    [1, 0, 0]\n",
      "    [0, 0, 1]\n",
      "    [0, 0, 0]\n",
      "]\n"
     ]
    }
   ],
   "source": [
    "from gurobipy import GRB, Model\n",
    "\n",
    "model = Model('GAP per Wolsey with Lagrangian Relaxation')\n",
    "model.modelSense = GRB.MAXIMIZE\n",
    "model.setParam('OutputFlag', False)  # turns off solver chatter\n",
    "\n",
    "b = [15, 15, 15]\n",
    "c = [\n",
    "    [6, 10, 1],\n",
    "    [12, 12, 5],\n",
    "    [15, 4, 3],\n",
    "    [10, 3, 9],\n",
    "    [8, 9, 5]\n",
    "]\n",
    "a = [\n",
    "    [5, 7, 2],\n",
    "    [14, 8, 7],\n",
    "    [10, 6, 12],\n",
    "    [8, 4, 15],\n",
    "    [6, 12, 5]\n",
    "]\n",
    "\n",
    "# x[i][j] = 1 if i is assigned to j\n",
    "x = []\n",
    "for i in range(len(c)):\n",
    "    x_i = []\n",
    "    for j in c[i]:\n",
    "        x_i.append(model.addVar(vtype=GRB.BINARY))\n",
    "    x.append(x_i)\n",
    "\n",
    "# As stated, the GAP has these following constraints. We dualize these into\n",
    "# penalties instead, using variables so we can easily extract their values.\n",
    "penalties = [model.addVar() for _ in x]\n",
    "model.update()\n",
    "\n",
    "# Dualized constraints: sum j: x_ij <= 1 for all i\n",
    "for p, x_i in zip(penalties, x):\n",
    "    model.addConstr(p == 1 - sum(x_i))\n",
    "\n",
    "# sum i: a_ij * x_ij <= b[j] for all j\n",
    "for j in range(len(b)):\n",
    "    model.addConstr(sum(a[i][j] * x[i][j] for i in range(len(x))) <= b[j])\n",
    "\n",
    "# u[i] = Lagrangian Multiplier for the set packing contraint i\n",
    "u = [2.0] * len(x)\n",
    "\n",
    "# Re-optimize until either we have run a certain number of iterations\n",
    "# or complementary slackness conditions apply.\n",
    "for k in range(1, 101):\n",
    "    # max sum i,j: c_ij * x_ij\n",
    "    model.setObjective(\n",
    "        sum(\n",
    "            # Original objective function\n",
    "            sum(c_ij * x_ij for c_ij, x_ij in zip(c_i, x_i))\n",
    "            for c_i, x_i in zip(c, x)\n",
    "        ) + sum(\n",
    "            # Penalties for dualized constraints\n",
    "            u_j * p_j for u_j, p_j in zip(u, penalties)\n",
    "        )\n",
    "    )\n",
    "    model.optimize()\n",
    "\n",
    "    print('iteration', k, 'obj =', model.objVal,\n",
    "          'u =', u, 'penalties =', [p.x for p in penalties])\n",
    "\n",
    "    # Test for complementary slackness\n",
    "    stop = True\n",
    "    eps = 10e-6\n",
    "    for u_i, p_i in zip(u, penalties):\n",
    "        if abs(u_i) > eps and abs(p_i.x) > eps:\n",
    "            stop = False\n",
    "            break\n",
    "\n",
    "    if stop:\n",
    "        print('primal feasible & optimal')\n",
    "        break\n",
    "\n",
    "    else:\n",
    "        s = 1.0 / k\n",
    "        for i in range(len(x)):\n",
    "            u[i] = max(u[i] - s * penalties[i].x, 0.0)\n",
    "\n",
    "# Pull objective and variable values out of model\n",
    "print('objective =', model.objVal)\n",
    "print('x = [')\n",
    "for x_i in x:\n",
    "    print('   ', [1 if x_ij.x >= 0.5 else 0 for x_ij in x_i])\n",
    "print(']')"
   ]
  },
  {
   "cell_type": "code",
   "execution_count": null,
   "metadata": {},
   "outputs": [],
   "source": []
  }
 ],
 "metadata": {
  "kernelspec": {
   "display_name": "Python 3",
   "language": "python",
   "name": "python3"
  },
  "language_info": {
   "codemirror_mode": {
    "name": "ipython",
    "version": 3
   },
   "file_extension": ".py",
   "mimetype": "text/x-python",
   "name": "python",
   "nbconvert_exporter": "python",
   "pygments_lexer": "ipython3",
   "version": "3.8.5"
  }
 },
 "nbformat": 4,
 "nbformat_minor": 4
}
