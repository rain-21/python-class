{
 "cells": [
  {
   "cell_type": "code",
   "execution_count": 1,
   "metadata": {},
   "outputs": [
    {
     "name": "stdout",
     "output_type": "stream",
     "text": [
      "5 的阶乘是：120\n"
     ]
    }
   ],
   "source": [
    "#简单阶乘\n",
    "n=5\n",
    "#n=int(input(\"请输入您想要计算的阶乘：\"))\n",
    "k=1\n",
    "#range必须要有，才会跑for循环。或者列表形式\n",
    "for i in range(1,n):\n",
    "    k=(i+1)*k\n",
    "print(\"%d 的阶乘是：%d\"%(n,k)) #这一句是字符串输出方式\n",
    "    "
   ]
  },
  {
   "cell_type": "code",
   "execution_count": 2,
   "metadata": {},
   "outputs": [
    {
     "name": "stdout",
     "output_type": "stream",
     "text": [
      "5 的阶乘是： 120\n"
     ]
    }
   ],
   "source": [
    "#递归版本阶乘\n",
    "def fac(n):\n",
    "    if n ==1:\n",
    "        return 1\n",
    "    else:\n",
    "        return n* fac(n-1)\n",
    "n=5\n",
    "#n=int(input(\"请输入一个正整数：\"))\n",
    "k=fac(n)\n",
    "print(\"%d 的阶乘是： %d\"%(n,k))\n",
    "#递归函数的两个特征：1.调用函数自身2.设置了自身正确的返回值"
   ]
  },
  {
   "cell_type": "code",
   "execution_count": 3,
   "metadata": {},
   "outputs": [
    {
     "name": "stdout",
     "output_type": "stream",
     "text": [
      "1\n",
      "1\n",
      "2\n",
      "3\n",
      "5\n"
     ]
    }
   ],
   "source": [
    "#采用递归的形式输出n阶段斐波那契数列\n",
    "def phibo(n):\n",
    "    if n==1:\n",
    "        return 1\n",
    "    elif n==2:\n",
    "        return 1\n",
    "    else:\n",
    "        return phibo(n-1)+phibo(n-2)\n",
    "n=5\n",
    "#n=int(input(\"请输入第几期:\"))\n",
    "for i in range(1,n+1):\n",
    "    k=phibo(i)\n",
    "    print(k)"
   ]
  },
  {
   "cell_type": "code",
   "execution_count": 4,
   "metadata": {},
   "outputs": [
    {
     "name": "stdout",
     "output_type": "stream",
     "text": [
      "1\n",
      "1\n",
      "2\n",
      "3\n",
      "5\n"
     ]
    }
   ],
   "source": [
    "#采用迭代的形式输出n阶段斐波那契数列\n",
    "n=5\n",
    "#n=int(input(\"你想要知道的期数\"))\n",
    "for i in range(1,n+1):\n",
    "    if i==1:\n",
    "        f1=1\n",
    "        print(f1)\n",
    "    elif i==2:\n",
    "        f2=1\n",
    "        print(f2)\n",
    "    else:\n",
    "        f3=f1+f2\n",
    "        f1=f2\n",
    "        f2=f3#最关键一步变量交换实现迭代\n",
    "        print(f3)#迭代的运算速度是递归运算速度的1000多倍"
   ]
  },
  {
   "cell_type": "code",
   "execution_count": 5,
   "metadata": {},
   "outputs": [
    {
     "name": "stdout",
     "output_type": "stream",
     "text": [
      "5 层汉诺塔最少需要 31 步才能完成\n",
      "假定每步仅需要一秒\n",
      "最少需要0分钟\n",
      "最少需要0年\n"
     ]
    }
   ],
   "source": [
    "#迭代汉诺塔\n",
    "def hano(n):\n",
    "    if n==1:\n",
    "        return 1\n",
    "    else:\n",
    "        return 2*hano(n-1)+1\n",
    "n=5\n",
    "#n=int(input(\"请输入汉诺塔层数：\"))\n",
    "k=hano(n)\n",
    "print(\"%d 层汉诺塔最少需要 %d 步才能完成\"%(n,k))\n",
    "print(\"假定每步仅需要一秒\")\n",
    "m=k/60\n",
    "print(\"最少需要%d分钟\"%(m))\n",
    "y=k/60/60/24/365\n",
    "print(\"最少需要%d年\"%(y))"
   ]
  },
  {
   "cell_type": "code",
   "execution_count": 6,
   "metadata": {},
   "outputs": [
    {
     "name": "stdout",
     "output_type": "stream",
     "text": [
      "5 层汉诺塔最少需要 31 步才能完成\n",
      "假定每步仅需要一秒\n",
      "最少需要0分钟\n",
      "最少需要0年\n"
     ]
    }
   ],
   "source": [
    "#递归汉诺塔\n",
    "n=5\n",
    "#n=int(input(\"请输入汉诺塔层数：\"))\n",
    "for i in range(1,n+1):\n",
    "    if i==1:\n",
    "        k=1\n",
    "    else:\n",
    "        k=2*k+1\n",
    "print(\"%d 层汉诺塔最少需要 %d 步才能完成\"%(n,k))\n",
    "print(\"假定每步仅需要一秒\")\n",
    "m=k/60\n",
    "print(\"最少需要%d分钟\"%(m))\n",
    "y=k/60/60/24/365\n",
    "print(\"最少需要%d年\"%(y))"
   ]
  },
  {
   "cell_type": "code",
   "execution_count": 7,
   "metadata": {},
   "outputs": [
    {
     "name": "stdout",
     "output_type": "stream",
     "text": [
      "x --> z\n",
      "x --> y\n",
      "z --> y\n",
      "x --> z\n",
      "y --> x\n",
      "y --> z\n",
      "x --> z\n",
      "x --> y\n",
      "z --> y\n",
      "z --> x\n",
      "y --> x\n",
      "z --> y\n",
      "x --> z\n",
      "x --> y\n",
      "z --> y\n",
      "x --> z\n",
      "y --> x\n",
      "y --> z\n",
      "x --> z\n",
      "y --> x\n",
      "z --> y\n",
      "z --> x\n",
      "y --> x\n",
      "y --> z\n",
      "x --> z\n",
      "x --> y\n",
      "z --> y\n",
      "x --> z\n",
      "y --> x\n",
      "y --> z\n",
      "x --> z\n"
     ]
    }
   ],
   "source": [
    "#假定有X，Y和Z三个柱子，请使用python写出实现步骤\n",
    "#经典递归函数\n",
    "def hanoi(n,x,y,z):\n",
    "    if n==1:\n",
    "        print(x,\"-->\",z)\n",
    "    else:\n",
    "        hanoi(n-1,x,z,y)\n",
    "        #将前n-1个原片从x挪动到上\n",
    "        print(x,\"-->\",z)#将最底下的最后一个盘子从x移动到z上\n",
    "        hanoi(n-1,y,x,z)#将y上的n-1的盘子移动到z上\n",
    "n=5\n",
    "#n=int(input(\"请输入汉诺塔的层数：\"))\n",
    "hanoi(n,\"x\",\"y\",\"z\")"
   ]
  },
  {
   "cell_type": "code",
   "execution_count": 8,
   "metadata": {},
   "outputs": [
    {
     "name": "stdout",
     "output_type": "stream",
     "text": [
      "The slogan of Apple is Stay hungry,Stay foolish\n"
     ]
    }
   ],
   "source": [
    "#字典\n",
    "brand=[\"李宁\",\"Nike\",\"Addidas\",\"Apple\"]\n",
    "slogan=[\"一切皆有可能\",\"Just do it\",\"Nothing is impossible\",\"Stay hungry,Stay foolish\"]\n",
    "print('The slogan of Apple is',slogan[brand.index('Apple')])"
   ]
  },
  {
   "cell_type": "code",
   "execution_count": 9,
   "metadata": {},
   "outputs": [
    {
     "name": "stdout",
     "output_type": "stream",
     "text": [
      "The slogan of Apple is Stay hungry,Stay foolish\n"
     ]
    }
   ],
   "source": [
    "dict1={\"李宁\":\"一切皆有可能\",\"Nike\":\"Just do it\",\"Addidas\":\"Nothing is impossible\",\"Apple\":\"Stay hungry,Stay foolish\"}\n",
    "print('The slogan of Apple is',dict1[\"Apple\"])"
   ]
  },
  {
   "cell_type": "code",
   "execution_count": 10,
   "metadata": {},
   "outputs": [
    {
     "data": {
      "text/plain": [
       "'two'"
      ]
     },
     "execution_count": 10,
     "metadata": {},
     "output_type": "execute_result"
    }
   ],
   "source": [
    "dict2={1:'one',2:'two',3:'three'}\n",
    "dict2[2]"
   ]
  },
  {
   "cell_type": "code",
   "execution_count": 11,
   "metadata": {},
   "outputs": [],
   "source": [
    "dict3={}"
   ]
  },
  {
   "cell_type": "code",
   "execution_count": 12,
   "metadata": {},
   "outputs": [
    {
     "name": "stdout",
     "output_type": "stream",
     "text": [
      "Help on class dict in module builtins:\n",
      "\n",
      "class dict(object)\n",
      " |  dict() -> new empty dictionary\n",
      " |  dict(mapping) -> new dictionary initialized from a mapping object's\n",
      " |      (key, value) pairs\n",
      " |  dict(iterable) -> new dictionary initialized as if via:\n",
      " |      d = {}\n",
      " |      for k, v in iterable:\n",
      " |          d[k] = v\n",
      " |  dict(**kwargs) -> new dictionary initialized with the name=value pairs\n",
      " |      in the keyword argument list.  For example:  dict(one=1, two=2)\n",
      " |  \n",
      " |  Built-in subclasses:\n",
      " |      StgDict\n",
      " |  \n",
      " |  Methods defined here:\n",
      " |  \n",
      " |  __contains__(self, key, /)\n",
      " |      True if the dictionary has the specified key, else False.\n",
      " |  \n",
      " |  __delitem__(self, key, /)\n",
      " |      Delete self[key].\n",
      " |  \n",
      " |  __eq__(self, value, /)\n",
      " |      Return self==value.\n",
      " |  \n",
      " |  __ge__(self, value, /)\n",
      " |      Return self>=value.\n",
      " |  \n",
      " |  __getattribute__(self, name, /)\n",
      " |      Return getattr(self, name).\n",
      " |  \n",
      " |  __getitem__(...)\n",
      " |      x.__getitem__(y) <==> x[y]\n",
      " |  \n",
      " |  __gt__(self, value, /)\n",
      " |      Return self>value.\n",
      " |  \n",
      " |  __init__(self, /, *args, **kwargs)\n",
      " |      Initialize self.  See help(type(self)) for accurate signature.\n",
      " |  \n",
      " |  __iter__(self, /)\n",
      " |      Implement iter(self).\n",
      " |  \n",
      " |  __le__(self, value, /)\n",
      " |      Return self<=value.\n",
      " |  \n",
      " |  __len__(self, /)\n",
      " |      Return len(self).\n",
      " |  \n",
      " |  __lt__(self, value, /)\n",
      " |      Return self<value.\n",
      " |  \n",
      " |  __ne__(self, value, /)\n",
      " |      Return self!=value.\n",
      " |  \n",
      " |  __repr__(self, /)\n",
      " |      Return repr(self).\n",
      " |  \n",
      " |  __reversed__(self, /)\n",
      " |      Return a reverse iterator over the dict keys.\n",
      " |  \n",
      " |  __setitem__(self, key, value, /)\n",
      " |      Set self[key] to value.\n",
      " |  \n",
      " |  __sizeof__(...)\n",
      " |      D.__sizeof__() -> size of D in memory, in bytes\n",
      " |  \n",
      " |  clear(...)\n",
      " |      D.clear() -> None.  Remove all items from D.\n",
      " |  \n",
      " |  copy(...)\n",
      " |      D.copy() -> a shallow copy of D\n",
      " |  \n",
      " |  get(self, key, default=None, /)\n",
      " |      Return the value for key if key is in the dictionary, else default.\n",
      " |  \n",
      " |  items(...)\n",
      " |      D.items() -> a set-like object providing a view on D's items\n",
      " |  \n",
      " |  keys(...)\n",
      " |      D.keys() -> a set-like object providing a view on D's keys\n",
      " |  \n",
      " |  pop(...)\n",
      " |      D.pop(k[,d]) -> v, remove specified key and return the corresponding value.\n",
      " |      If key is not found, d is returned if given, otherwise KeyError is raised\n",
      " |  \n",
      " |  popitem(self, /)\n",
      " |      Remove and return a (key, value) pair as a 2-tuple.\n",
      " |      \n",
      " |      Pairs are returned in LIFO (last-in, first-out) order.\n",
      " |      Raises KeyError if the dict is empty.\n",
      " |  \n",
      " |  setdefault(self, key, default=None, /)\n",
      " |      Insert key with a value of default if key is not in the dictionary.\n",
      " |      \n",
      " |      Return the value for key if key is in the dictionary, else default.\n",
      " |  \n",
      " |  update(...)\n",
      " |      D.update([E, ]**F) -> None.  Update D from dict/iterable E and F.\n",
      " |      If E is present and has a .keys() method, then does:  for k in E: D[k] = E[k]\n",
      " |      If E is present and lacks a .keys() method, then does:  for k, v in E: D[k] = v\n",
      " |      In either case, this is followed by: for k in F:  D[k] = F[k]\n",
      " |  \n",
      " |  values(...)\n",
      " |      D.values() -> an object providing a view on D's values\n",
      " |  \n",
      " |  ----------------------------------------------------------------------\n",
      " |  Class methods defined here:\n",
      " |  \n",
      " |  fromkeys(iterable, value=None, /) from builtins.type\n",
      " |      Create a new dictionary with keys from iterable and values set to value.\n",
      " |  \n",
      " |  ----------------------------------------------------------------------\n",
      " |  Static methods defined here:\n",
      " |  \n",
      " |  __new__(*args, **kwargs) from builtins.type\n",
      " |      Create and return a new object.  See help(type) for accurate signature.\n",
      " |  \n",
      " |  ----------------------------------------------------------------------\n",
      " |  Data and other attributes defined here:\n",
      " |  \n",
      " |  __hash__ = None\n",
      "\n"
     ]
    }
   ],
   "source": [
    "help(dict)"
   ]
  },
  {
   "cell_type": "code",
   "execution_count": 13,
   "metadata": {},
   "outputs": [
    {
     "data": {
      "text/plain": [
       "{'F': 70, 'I': 105, 'S': 115, 'H': 104}"
      ]
     },
     "execution_count": 13,
     "metadata": {},
     "output_type": "execute_result"
    }
   ],
   "source": [
    "#使用generator构造字典。\n",
    "dict3=dict((('F',70),('I',105),('S',115),('H',104)))\n",
    "dict3"
   ]
  },
  {
   "cell_type": "code",
   "execution_count": 14,
   "metadata": {},
   "outputs": [
    {
     "data": {
      "text/plain": [
       "{'louis': 'i want to communicate with foreigners',\n",
       " 'top': 'please come to gank me'}"
      ]
     },
     "execution_count": 14,
     "metadata": {},
     "output_type": "execute_result"
    }
   ],
   "source": [
    "dict4=dict(louis='i want to communicate with foreigners',top='please come to gank me')\n",
    "dict4"
   ]
  },
  {
   "cell_type": "code",
   "execution_count": 15,
   "metadata": {},
   "outputs": [
    {
     "data": {
      "text/plain": [
       "{'louis': 'next semester', 'top': 'please come to gank me'}"
      ]
     },
     "execution_count": 15,
     "metadata": {},
     "output_type": "execute_result"
    }
   ],
   "source": [
    "dict4['louis']='next semester'\n",
    "dict4"
   ]
  },
  {
   "cell_type": "code",
   "execution_count": 16,
   "metadata": {},
   "outputs": [
    {
     "data": {
      "text/plain": [
       "{'louis': 'next semester', 'top': 'please come to gank me', '爱迪生': '天才就是我'}"
      ]
     },
     "execution_count": 16,
     "metadata": {},
     "output_type": "execute_result"
    }
   ],
   "source": [
    "#可以通过键值给字典新增项目。\n",
    "dict4['爱迪生']='天才就是我'\n",
    "dict4"
   ]
  },
  {
   "cell_type": "code",
   "execution_count": 17,
   "metadata": {},
   "outputs": [
    {
     "data": {
      "text/plain": [
       "{1: None, 2: None, 3: None}"
      ]
     },
     "execution_count": 17,
     "metadata": {},
     "output_type": "execute_result"
    }
   ],
   "source": [
    "#fromkeys函数用法\n",
    "dict1={}\n",
    "dict1.fromkeys((1,2,3))"
   ]
  },
  {
   "cell_type": "code",
   "execution_count": 18,
   "metadata": {},
   "outputs": [
    {
     "data": {
      "text/plain": [
       "{1: 'number', 2: 'number', 3: 'number'}"
      ]
     },
     "execution_count": 18,
     "metadata": {},
     "output_type": "execute_result"
    }
   ],
   "source": [
    "dict1.fromkeys((1,2,3),'number')#从键值返回值，创造一个新的字典"
   ]
  },
  {
   "cell_type": "code",
   "execution_count": 19,
   "metadata": {},
   "outputs": [
    {
     "data": {
      "text/plain": [
       "{0: '赞',\n",
       " 1: '赞',\n",
       " 2: '赞',\n",
       " 3: '赞',\n",
       " 4: '赞',\n",
       " 5: '赞',\n",
       " 6: '赞',\n",
       " 7: '赞',\n",
       " 8: '赞',\n",
       " 9: '赞',\n",
       " 10: '赞',\n",
       " 11: '赞',\n",
       " 12: '赞',\n",
       " 13: '赞',\n",
       " 14: '赞',\n",
       " 15: '赞',\n",
       " 16: '赞',\n",
       " 17: '赞',\n",
       " 18: '赞',\n",
       " 19: '赞',\n",
       " 20: '赞',\n",
       " 21: '赞',\n",
       " 22: '赞',\n",
       " 23: '赞',\n",
       " 24: '赞',\n",
       " 25: '赞',\n",
       " 26: '赞',\n",
       " 27: '赞',\n",
       " 28: '赞',\n",
       " 29: '赞',\n",
       " 30: '赞',\n",
       " 31: '赞'}"
      ]
     },
     "execution_count": 19,
     "metadata": {},
     "output_type": "execute_result"
    }
   ],
   "source": [
    "dict1=dict1.fromkeys(range(32),'赞')\n",
    "dict1"
   ]
  },
  {
   "cell_type": "code",
   "execution_count": 20,
   "metadata": {},
   "outputs": [
    {
     "name": "stdout",
     "output_type": "stream",
     "text": [
      "0\n",
      "1\n",
      "2\n",
      "3\n",
      "4\n",
      "5\n",
      "6\n",
      "7\n",
      "8\n",
      "9\n",
      "10\n",
      "11\n",
      "12\n",
      "13\n",
      "14\n",
      "15\n",
      "16\n",
      "17\n",
      "18\n",
      "19\n",
      "20\n",
      "21\n",
      "22\n",
      "23\n",
      "24\n",
      "25\n",
      "26\n",
      "27\n",
      "28\n",
      "29\n",
      "30\n",
      "31\n"
     ]
    }
   ],
   "source": [
    "for eachkey in dict1.keys():\n",
    "    print(eachkey)"
   ]
  },
  {
   "cell_type": "code",
   "execution_count": 21,
   "metadata": {},
   "outputs": [
    {
     "name": "stdout",
     "output_type": "stream",
     "text": [
      "赞\n",
      "赞\n",
      "赞\n",
      "赞\n",
      "赞\n",
      "赞\n",
      "赞\n",
      "赞\n",
      "赞\n",
      "赞\n",
      "赞\n",
      "赞\n",
      "赞\n",
      "赞\n",
      "赞\n",
      "赞\n",
      "赞\n",
      "赞\n",
      "赞\n",
      "赞\n",
      "赞\n",
      "赞\n",
      "赞\n",
      "赞\n",
      "赞\n",
      "赞\n",
      "赞\n",
      "赞\n",
      "赞\n",
      "赞\n",
      "赞\n",
      "赞\n"
     ]
    }
   ],
   "source": [
    "for eachvalue in dict1.values():\n",
    "    print(eachvalue)"
   ]
  },
  {
   "cell_type": "code",
   "execution_count": 22,
   "metadata": {},
   "outputs": [
    {
     "name": "stdout",
     "output_type": "stream",
     "text": [
      "(0, '赞')\n",
      "(1, '赞')\n",
      "(2, '赞')\n",
      "(3, '赞')\n",
      "(4, '赞')\n",
      "(5, '赞')\n",
      "(6, '赞')\n",
      "(7, '赞')\n",
      "(8, '赞')\n",
      "(9, '赞')\n",
      "(10, '赞')\n",
      "(11, '赞')\n",
      "(12, '赞')\n",
      "(13, '赞')\n",
      "(14, '赞')\n",
      "(15, '赞')\n",
      "(16, '赞')\n",
      "(17, '赞')\n",
      "(18, '赞')\n",
      "(19, '赞')\n",
      "(20, '赞')\n",
      "(21, '赞')\n",
      "(22, '赞')\n",
      "(23, '赞')\n",
      "(24, '赞')\n",
      "(25, '赞')\n",
      "(26, '赞')\n",
      "(27, '赞')\n",
      "(28, '赞')\n",
      "(29, '赞')\n",
      "(30, '赞')\n",
      "(31, '赞')\n"
     ]
    }
   ],
   "source": [
    "for eachkey in dict1.items():\n",
    "    print(eachkey)"
   ]
  },
  {
   "cell_type": "code",
   "execution_count": 23,
   "metadata": {},
   "outputs": [],
   "source": [
    "dict1.get(32)"
   ]
  },
  {
   "cell_type": "code",
   "execution_count": 24,
   "metadata": {},
   "outputs": [
    {
     "name": "stdout",
     "output_type": "stream",
     "text": [
      "None\n"
     ]
    }
   ],
   "source": [
    "print(dict1.get(32))"
   ]
  },
  {
   "cell_type": "code",
   "execution_count": 25,
   "metadata": {},
   "outputs": [
    {
     "data": {
      "text/plain": [
       "'赞'"
      ]
     },
     "execution_count": 25,
     "metadata": {},
     "output_type": "execute_result"
    }
   ],
   "source": [
    "dict1.get(31)"
   ]
  },
  {
   "cell_type": "code",
   "execution_count": 26,
   "metadata": {},
   "outputs": [
    {
     "data": {
      "text/plain": [
       "True"
      ]
     },
     "execution_count": 26,
     "metadata": {},
     "output_type": "execute_result"
    }
   ],
   "source": [
    "31 in dict1"
   ]
  },
  {
   "cell_type": "code",
   "execution_count": 27,
   "metadata": {},
   "outputs": [
    {
     "data": {
      "text/plain": [
       "{}"
      ]
     },
     "execution_count": 27,
     "metadata": {},
     "output_type": "execute_result"
    }
   ],
   "source": [
    "dict1.clear()\n",
    "dict1\n",
    "#正确的删除字典的方法"
   ]
  },
  {
   "cell_type": "code",
   "execution_count": 28,
   "metadata": {},
   "outputs": [
    {
     "data": {
      "text/plain": [
       "{1, 2, 5, 8}"
      ]
     },
     "execution_count": 28,
     "metadata": {},
     "output_type": "execute_result"
    }
   ],
   "source": [
    "#浅拷贝与深拷贝\n",
    "#浅拷贝之copy函数\n",
    "a={1,2,5,8,1}\n",
    "b=a.copy()\n",
    "c=a\n",
    "a"
   ]
  },
  {
   "cell_type": "code",
   "execution_count": 29,
   "metadata": {},
   "outputs": [
    {
     "data": {
      "text/plain": [
       "{1, 2, 5, 8}"
      ]
     },
     "execution_count": 29,
     "metadata": {},
     "output_type": "execute_result"
    }
   ],
   "source": [
    "b"
   ]
  },
  {
   "cell_type": "code",
   "execution_count": 30,
   "metadata": {},
   "outputs": [
    {
     "data": {
      "text/plain": [
       "{1, 2, 5, 8}"
      ]
     },
     "execution_count": 30,
     "metadata": {},
     "output_type": "execute_result"
    }
   ],
   "source": [
    "c"
   ]
  },
  {
   "cell_type": "code",
   "execution_count": 31,
   "metadata": {},
   "outputs": [
    {
     "name": "stdout",
     "output_type": "stream",
     "text": [
      "2386003869760\n",
      "2386003871104\n",
      "2386003869760\n"
     ]
    }
   ],
   "source": [
    "#采用copy函数是正确的复制，但是重新赋值是个同一个东西新增了一个标签而已。\n",
    "print(id(a))\n",
    "print(id(b))\n",
    "print(id(c))"
   ]
  },
  {
   "cell_type": "code",
   "execution_count": 32,
   "metadata": {},
   "outputs": [
    {
     "data": {
      "text/plain": [
       "8"
      ]
     },
     "execution_count": 32,
     "metadata": {},
     "output_type": "execute_result"
    }
   ],
   "source": [
    "#使用pop函数将字典或者集合中一个元素弹出出来（真的弹出）\n",
    "a.pop()"
   ]
  },
  {
   "cell_type": "code",
   "execution_count": 33,
   "metadata": {},
   "outputs": [
    {
     "data": {
      "text/plain": [
       "{1, 2, 5}"
      ]
     },
     "execution_count": 33,
     "metadata": {},
     "output_type": "execute_result"
    }
   ],
   "source": [
    "a"
   ]
  },
  {
   "cell_type": "code",
   "execution_count": 34,
   "metadata": {},
   "outputs": [
    {
     "data": {
      "text/plain": [
       "{'v': 'as', 6: '小白'}"
      ]
     },
     "execution_count": 34,
     "metadata": {},
     "output_type": "execute_result"
    }
   ],
   "source": [
    "#采用setdefault函数给字典增加元素\n",
    "a={'v':'as'}\n",
    "a.setdefault(6,'小白')\n",
    "a"
   ]
  },
  {
   "cell_type": "code",
   "execution_count": 35,
   "metadata": {},
   "outputs": [
    {
     "data": {
      "text/plain": [
       "{'v': 'as', 6: '小白', '小白': '狗'}"
      ]
     },
     "execution_count": 35,
     "metadata": {},
     "output_type": "execute_result"
    }
   ],
   "source": [
    "b={'小白':'狗'}\n",
    "a.update(b)\n",
    "a"
   ]
  },
  {
   "cell_type": "code",
   "execution_count": 36,
   "metadata": {},
   "outputs": [
    {
     "data": {
      "text/plain": [
       "dict"
      ]
     },
     "execution_count": 36,
     "metadata": {},
     "output_type": "execute_result"
    }
   ],
   "source": [
    "#集合\n",
    "num={}\n",
    "type(num)"
   ]
  },
  {
   "cell_type": "code",
   "execution_count": 37,
   "metadata": {},
   "outputs": [
    {
     "data": {
      "text/plain": [
       "set"
      ]
     },
     "execution_count": 37,
     "metadata": {},
     "output_type": "execute_result"
    }
   ],
   "source": [
    "num={1,2,5,8,1}\n",
    "type(num)"
   ]
  },
  {
   "cell_type": "code",
   "execution_count": 38,
   "metadata": {},
   "outputs": [
    {
     "data": {
      "text/plain": [
       "{1, 2, 5, 8}"
      ]
     },
     "execution_count": 38,
     "metadata": {},
     "output_type": "execute_result"
    }
   ],
   "source": [
    "#集合中不存在重复的元素\n",
    "num"
   ]
  },
  {
   "cell_type": "code",
   "execution_count": 39,
   "metadata": {},
   "outputs": [
    {
     "data": {
      "text/plain": [
       "{1, 2, 3, 4, 6}"
      ]
     },
     "execution_count": 39,
     "metadata": {},
     "output_type": "execute_result"
    }
   ],
   "source": [
    "#集合是不支持按序号索引的，因为集合中没有元素没有序号\n",
    "#使用set函数建立集合\n",
    "set1=set([1,2,3,4,6,4])\n",
    "set1"
   ]
  },
  {
   "cell_type": "code",
   "execution_count": 40,
   "metadata": {},
   "outputs": [
    {
     "data": {
      "text/plain": [
       "[0, 1, 2, 3, 4, 5, 5, 3, 1]"
      ]
     },
     "execution_count": 40,
     "metadata": {},
     "output_type": "execute_result"
    }
   ],
   "source": [
    "#去除到列表中重复的元素\n",
    "list1=[0,1,2,3,4,5,5,3,1]\n",
    "list1"
   ]
  },
  {
   "cell_type": "code",
   "execution_count": 41,
   "metadata": {},
   "outputs": [
    {
     "data": {
      "text/plain": [
       "[0, 1, 2, 3, 4, 5]"
      ]
     },
     "execution_count": 41,
     "metadata": {},
     "output_type": "execute_result"
    }
   ],
   "source": [
    "#使用set函数即集合的方法巧妙的去除列表中多余元素\n",
    "list1=list(set(list1))\n",
    "list1"
   ]
  },
  {
   "cell_type": "code",
   "execution_count": 42,
   "metadata": {},
   "outputs": [
    {
     "data": {
      "text/plain": [
       "[0, 1, 2, 3, 4, 5, 5, 3, 1, 4]"
      ]
     },
     "execution_count": 42,
     "metadata": {},
     "output_type": "execute_result"
    }
   ],
   "source": [
    "#否则就要采用for循环来处理这些\n",
    "list2=[0,1,2,3,4,5,5,3,1,4]\n",
    "list2"
   ]
  },
  {
   "cell_type": "code",
   "execution_count": 43,
   "metadata": {},
   "outputs": [
    {
     "data": {
      "text/plain": [
       "[0, 1, 2, 3, 4, 5]"
      ]
     },
     "execution_count": 43,
     "metadata": {},
     "output_type": "execute_result"
    }
   ],
   "source": [
    "list3=[]\n",
    "for each in list2:\n",
    "    if each not in list3:\n",
    "        list3.append(each)\n",
    "list3"
   ]
  },
  {
   "cell_type": "code",
   "execution_count": 44,
   "metadata": {},
   "outputs": [
    {
     "data": {
      "text/plain": [
       "False"
      ]
     },
     "execution_count": 44,
     "metadata": {},
     "output_type": "execute_result"
    }
   ],
   "source": [
    "0 in num"
   ]
  },
  {
   "cell_type": "code",
   "execution_count": 45,
   "metadata": {},
   "outputs": [
    {
     "data": {
      "text/plain": [
       "True"
      ]
     },
     "execution_count": 45,
     "metadata": {},
     "output_type": "execute_result"
    }
   ],
   "source": [
    "1 in num"
   ]
  },
  {
   "cell_type": "code",
   "execution_count": 46,
   "metadata": {},
   "outputs": [
    {
     "data": {
      "text/plain": [
       "{1, 2, 3, 4, 5, 6}"
      ]
     },
     "execution_count": 46,
     "metadata": {},
     "output_type": "execute_result"
    }
   ],
   "source": [
    "num2={1,2,3,4,5,6}\n",
    "num2"
   ]
  },
  {
   "cell_type": "code",
   "execution_count": 47,
   "metadata": {},
   "outputs": [
    {
     "data": {
      "text/plain": [
       "{1, 2, 3, 4, 5, 6, 99}"
      ]
     },
     "execution_count": 47,
     "metadata": {},
     "output_type": "execute_result"
    }
   ],
   "source": [
    "#给集合中加入元素\n",
    "num2.add(99)\n",
    "num2"
   ]
  },
  {
   "cell_type": "code",
   "execution_count": 48,
   "metadata": {},
   "outputs": [
    {
     "data": {
      "text/plain": [
       "{1, 2, 3, 4, 5, 99}"
      ]
     },
     "execution_count": 48,
     "metadata": {},
     "output_type": "execute_result"
    }
   ],
   "source": [
    "#使用remove函数去除集合中的元素\n",
    "num2.remove(6)\n",
    "num2"
   ]
  },
  {
   "cell_type": "code",
   "execution_count": 49,
   "metadata": {},
   "outputs": [
    {
     "data": {
      "text/plain": [
       "frozenset({1, 2, 3, 4, 5})"
      ]
     },
     "execution_count": 49,
     "metadata": {},
     "output_type": "execute_result"
    }
   ],
   "source": [
    "#使用frozen冻结集合,冻结后无法通过函数增减元素。\n",
    "num3=frozenset([1,2,3,4,5])\n",
    "num3"
   ]
  },
  {
   "cell_type": "code",
   "execution_count": 50,
   "metadata": {},
   "outputs": [
    {
     "name": "stdout",
     "output_type": "stream",
     "text": [
      "Help on built-in function open in module io:\n",
      "\n",
      "open(file, mode='r', buffering=-1, encoding=None, errors=None, newline=None, closefd=True, opener=None)\n",
      "    Open file and return a stream.  Raise OSError upon failure.\n",
      "    \n",
      "    file is either a text or byte string giving the name (and the path\n",
      "    if the file isn't in the current working directory) of the file to\n",
      "    be opened or an integer file descriptor of the file to be\n",
      "    wrapped. (If a file descriptor is given, it is closed when the\n",
      "    returned I/O object is closed, unless closefd is set to False.)\n",
      "    \n",
      "    mode is an optional string that specifies the mode in which the file\n",
      "    is opened. It defaults to 'r' which means open for reading in text\n",
      "    mode.  Other common values are 'w' for writing (truncating the file if\n",
      "    it already exists), 'x' for creating and writing to a new file, and\n",
      "    'a' for appending (which on some Unix systems, means that all writes\n",
      "    append to the end of the file regardless of the current seek position).\n",
      "    In text mode, if encoding is not specified the encoding used is platform\n",
      "    dependent: locale.getpreferredencoding(False) is called to get the\n",
      "    current locale encoding. (For reading and writing raw bytes use binary\n",
      "    mode and leave encoding unspecified.) The available modes are:\n",
      "    \n",
      "    ========= ===============================================================\n",
      "    Character Meaning\n",
      "    --------- ---------------------------------------------------------------\n",
      "    'r'       open for reading (default)\n",
      "    'w'       open for writing, truncating the file first\n",
      "    'x'       create a new file and open it for writing\n",
      "    'a'       open for writing, appending to the end of the file if it exists\n",
      "    'b'       binary mode\n",
      "    't'       text mode (default)\n",
      "    '+'       open a disk file for updating (reading and writing)\n",
      "    'U'       universal newline mode (deprecated)\n",
      "    ========= ===============================================================\n",
      "    \n",
      "    The default mode is 'rt' (open for reading text). For binary random\n",
      "    access, the mode 'w+b' opens and truncates the file to 0 bytes, while\n",
      "    'r+b' opens the file without truncation. The 'x' mode implies 'w' and\n",
      "    raises an `FileExistsError` if the file already exists.\n",
      "    \n",
      "    Python distinguishes between files opened in binary and text modes,\n",
      "    even when the underlying operating system doesn't. Files opened in\n",
      "    binary mode (appending 'b' to the mode argument) return contents as\n",
      "    bytes objects without any decoding. In text mode (the default, or when\n",
      "    't' is appended to the mode argument), the contents of the file are\n",
      "    returned as strings, the bytes having been first decoded using a\n",
      "    platform-dependent encoding or using the specified encoding if given.\n",
      "    \n",
      "    'U' mode is deprecated and will raise an exception in future versions\n",
      "    of Python.  It has no effect in Python 3.  Use newline to control\n",
      "    universal newlines mode.\n",
      "    \n",
      "    buffering is an optional integer used to set the buffering policy.\n",
      "    Pass 0 to switch buffering off (only allowed in binary mode), 1 to select\n",
      "    line buffering (only usable in text mode), and an integer > 1 to indicate\n",
      "    the size of a fixed-size chunk buffer.  When no buffering argument is\n",
      "    given, the default buffering policy works as follows:\n",
      "    \n",
      "    * Binary files are buffered in fixed-size chunks; the size of the buffer\n",
      "      is chosen using a heuristic trying to determine the underlying device's\n",
      "      \"block size\" and falling back on `io.DEFAULT_BUFFER_SIZE`.\n",
      "      On many systems, the buffer will typically be 4096 or 8192 bytes long.\n",
      "    \n",
      "    * \"Interactive\" text files (files for which isatty() returns True)\n",
      "      use line buffering.  Other text files use the policy described above\n",
      "      for binary files.\n",
      "    \n",
      "    encoding is the name of the encoding used to decode or encode the\n",
      "    file. This should only be used in text mode. The default encoding is\n",
      "    platform dependent, but any encoding supported by Python can be\n",
      "    passed.  See the codecs module for the list of supported encodings.\n",
      "    \n",
      "    errors is an optional string that specifies how encoding errors are to\n",
      "    be handled---this argument should not be used in binary mode. Pass\n",
      "    'strict' to raise a ValueError exception if there is an encoding error\n",
      "    (the default of None has the same effect), or pass 'ignore' to ignore\n",
      "    errors. (Note that ignoring encoding errors can lead to data loss.)\n",
      "    See the documentation for codecs.register or run 'help(codecs.Codec)'\n",
      "    for a list of the permitted encoding error strings.\n",
      "    \n",
      "    newline controls how universal newlines works (it only applies to text\n",
      "    mode). It can be None, '', '\\n', '\\r', and '\\r\\n'.  It works as\n",
      "    follows:\n",
      "    \n",
      "    * On input, if newline is None, universal newlines mode is\n",
      "      enabled. Lines in the input can end in '\\n', '\\r', or '\\r\\n', and\n",
      "      these are translated into '\\n' before being returned to the\n",
      "      caller. If it is '', universal newline mode is enabled, but line\n",
      "      endings are returned to the caller untranslated. If it has any of\n",
      "      the other legal values, input lines are only terminated by the given\n",
      "      string, and the line ending is returned to the caller untranslated.\n",
      "    \n",
      "    * On output, if newline is None, any '\\n' characters written are\n",
      "      translated to the system default line separator, os.linesep. If\n",
      "      newline is '' or '\\n', no translation takes place. If newline is any\n",
      "      of the other legal values, any '\\n' characters written are translated\n",
      "      to the given string.\n",
      "    \n",
      "    If closefd is False, the underlying file descriptor will be kept open\n",
      "    when the file is closed. This does not work when a file name is given\n",
      "    and must be True in that case.\n",
      "    \n",
      "    A custom opener can be used by passing a callable as *opener*. The\n",
      "    underlying file descriptor for the file object is then obtained by\n",
      "    calling *opener* with (*file*, *flags*). *opener* must return an open\n",
      "    file descriptor (passing os.open as *opener* results in functionality\n",
      "    similar to passing None).\n",
      "    \n",
      "    open() returns a file object whose type depends on the mode, and\n",
      "    through which the standard file operations such as reading and writing\n",
      "    are performed. When open() is used to open a file in a text mode ('w',\n",
      "    'r', 'wt', 'rt', etc.), it returns a TextIOWrapper. When used to open\n",
      "    a file in a binary mode, the returned class varies: in read binary\n",
      "    mode, it returns a BufferedReader; in write binary and append binary\n",
      "    modes, it returns a BufferedWriter, and in read/write mode, it returns\n",
      "    a BufferedRandom.\n",
      "    \n",
      "    It is also possible to use a string or bytearray as a file for both\n",
      "    reading and writing. For strings StringIO can be used like a file\n",
      "    opened in a text mode, and for bytes a BytesIO can be used like a file\n",
      "    opened in a binary mode.\n",
      "\n"
     ]
    }
   ],
   "source": [
    "#使用python处理文件\n",
    "help(open)\n",
    "#open(file(文件名), mode='r'（文件的打开模式）, buffering=-1, encoding=None, errors=None, newline=None, closefd=True, opener=None（其余都有默认方式）)"
   ]
  },
  {
   "cell_type": "code",
   "execution_count": 51,
   "metadata": {},
   "outputs": [
    {
     "data": {
      "text/plain": [
       "<_io.TextIOWrapper name='ppt.txt' mode='w' encoding='cp936'>"
      ]
     },
     "execution_count": 51,
     "metadata": {},
     "output_type": "execute_result"
    }
   ],
   "source": [
    "#使用open函数在工作目录创建新的文件\n",
    "open('ppt.exe','w')\n",
    "open('ppt.txt','w')\n",
    "#open('ppt2.txt','x')"
   ]
  },
  {
   "cell_type": "code",
   "execution_count": 52,
   "metadata": {},
   "outputs": [],
   "source": [
    "#mode参数r=以只读的方式打开\n",
    "#w=（从新重头开始写）以写入的方式打开文件，如果目录中没有这个将会创建一个新的文件，如果文件已经存在则会覆盖已存在的文件\n",
    "#x=正经创建新文件的方式，如果文件已经存在，使用此模式打开文件会出现一个异常\n",
    "#a=以以写入的方式打开文件，但是实在末尾追加\n",
    "#b=以二进制的模式打开文件\n",
    "#t=以文本模式打开文件\n",
    "#+=可读可写\n",
    "#U=通用换行符支持"
   ]
  },
  {
   "cell_type": "code",
   "execution_count": 53,
   "metadata": {},
   "outputs": [
    {
     "ename": "FileExistsError",
     "evalue": "[Errno 17] File exists: 'record.txt'",
     "output_type": "error",
     "traceback": [
      "\u001b[1;31m---------------------------------------------------------------------------\u001b[0m",
      "\u001b[1;31mFileExistsError\u001b[0m                           Traceback (most recent call last)",
      "\u001b[1;32m<ipython-input-53-a0f54337cb86>\u001b[0m in \u001b[0;36m<module>\u001b[1;34m\u001b[0m\n\u001b[1;32m----> 1\u001b[1;33m \u001b[0mopen\u001b[0m\u001b[1;33m(\u001b[0m\u001b[1;34m'record.txt'\u001b[0m\u001b[1;33m,\u001b[0m\u001b[1;34m'x'\u001b[0m\u001b[1;33m)\u001b[0m\u001b[1;33m\u001b[0m\u001b[1;33m\u001b[0m\u001b[0m\n\u001b[0m",
      "\u001b[1;31mFileExistsError\u001b[0m: [Errno 17] File exists: 'record.txt'"
     ]
    }
   ],
   "source": [
    "#open('record.txt','x')"
   ]
  },
  {
   "cell_type": "code",
   "execution_count": 52,
   "metadata": {},
   "outputs": [],
   "source": [
    "f=open('record.txt','a')"
   ]
  },
  {
   "cell_type": "code",
   "execution_count": 54,
   "metadata": {},
   "outputs": [],
   "source": [
    "#文件打开模式和文件对象方法(前面的f是上一行我给文件命名的标签)\n",
    "#f.close()文件关闭操作\n",
    "#f.read(size=-1)\n",
    "#f.write(str)将字符串写入文件\n",
    "#f.tell当前指针的位置\n",
    "#f.seek(offset,from)设置指针位置，offset默认0,1,2三个取值\n",
    "#f.writelines(seq)向文件写入字符串seq"
   ]
  },
  {
   "cell_type": "code",
   "execution_count": 55,
   "metadata": {},
   "outputs": [
    {
     "ename": "NameError",
     "evalue": "name 'f' is not defined",
     "output_type": "error",
     "traceback": [
      "\u001b[1;31m---------------------------------------------------------------------------\u001b[0m",
      "\u001b[1;31mNameError\u001b[0m                                 Traceback (most recent call last)",
      "\u001b[1;32m<ipython-input-55-0d4be1fc52b5>\u001b[0m in \u001b[0;36m<module>\u001b[1;34m\u001b[0m\n\u001b[0;32m      1\u001b[0m \u001b[1;31m#以输入的方式无法读取文件\u001b[0m\u001b[1;33m\u001b[0m\u001b[1;33m\u001b[0m\u001b[1;33m\u001b[0m\u001b[0m\n\u001b[1;32m----> 2\u001b[1;33m \u001b[0mf\u001b[0m\u001b[1;33m.\u001b[0m\u001b[0mread\u001b[0m\u001b[1;33m(\u001b[0m\u001b[1;33m)\u001b[0m\u001b[1;33m\u001b[0m\u001b[1;33m\u001b[0m\u001b[0m\n\u001b[0m",
      "\u001b[1;31mNameError\u001b[0m: name 'f' is not defined"
     ]
    }
   ],
   "source": [
    "#以输入的方式无法读取文件\n",
    "#f.read()"
   ]
  },
  {
   "cell_type": "code",
   "execution_count": 53,
   "metadata": {},
   "outputs": [
    {
     "data": {
      "text/plain": [
       "9"
      ]
     },
     "execution_count": 53,
     "metadata": {},
     "output_type": "execute_result"
    }
   ],
   "source": [
    "f.write('不是吧，香蕉棒棒锤')"
   ]
  },
  {
   "cell_type": "code",
   "execution_count": 54,
   "metadata": {},
   "outputs": [
    {
     "data": {
      "text/plain": [
       "b'\\xf4\\xb4\\xb8'"
      ]
     },
     "execution_count": 54,
     "metadata": {},
     "output_type": "execute_result"
    }
   ],
   "source": [
    "f=open('record.txt','rb')\n",
    "f.read()\n",
    "f.tell()\n",
    "f.seek(15,0)\n",
    "f.readline()"
   ]
  },
  {
   "cell_type": "code",
   "execution_count": 55,
   "metadata": {},
   "outputs": [],
   "source": [
    "a=list(f)"
   ]
  },
  {
   "cell_type": "code",
   "execution_count": 56,
   "metadata": {},
   "outputs": [
    {
     "data": {
      "text/plain": [
       "0"
      ]
     },
     "execution_count": 56,
     "metadata": {},
     "output_type": "execute_result"
    }
   ],
   "source": [
    "f.seek(0,0)"
   ]
  },
  {
   "cell_type": "code",
   "execution_count": 57,
   "metadata": {},
   "outputs": [
    {
     "data": {
      "text/plain": [
       "''"
      ]
     },
     "execution_count": 57,
     "metadata": {},
     "output_type": "execute_result"
    }
   ],
   "source": [
    "f=open('record.txt','rt')\n",
    "f.read()\n",
    "f.tell()\n",
    "f.readline()"
   ]
  },
  {
   "cell_type": "code",
   "execution_count": 58,
   "metadata": {},
   "outputs": [],
   "source": [
    "f.close()"
   ]
  },
  {
   "cell_type": "code",
   "execution_count": 59,
   "metadata": {},
   "outputs": [
    {
     "data": {
      "text/plain": [
       "'不是吧，香'"
      ]
     },
     "execution_count": 59,
     "metadata": {},
     "output_type": "execute_result"
    }
   ],
   "source": [
    "#以只读方式打开文件不可被写入，故无法使用write函数\n",
    "f=open('record.txt')\n",
    "f.read(5)"
   ]
  },
  {
   "cell_type": "code",
   "execution_count": 60,
   "metadata": {},
   "outputs": [
    {
     "data": {
      "text/plain": [
       "['蕉棒棒锤']"
      ]
     },
     "execution_count": 60,
     "metadata": {},
     "output_type": "execute_result"
    }
   ],
   "source": [
    "list(f)"
   ]
  },
  {
   "cell_type": "code",
   "execution_count": 61,
   "metadata": {},
   "outputs": [
    {
     "data": {
      "text/plain": [
       "<function TextIOWrapper.close()>"
      ]
     },
     "execution_count": 61,
     "metadata": {},
     "output_type": "execute_result"
    }
   ],
   "source": [
    "f=open(\"ppt.txt\",'w')\n",
    "f.write(\"真的开始写了\")\n",
    "f.close"
   ]
  },
  {
   "cell_type": "code",
   "execution_count": 62,
   "metadata": {},
   "outputs": [],
   "source": [
    "#如果是写入状态，则不可读\n",
    "#设置文件一组对话\n",
    "i=open('test.txt','w')\n",
    "i.write(\"苹果说:‘你喜欢吃我吗？’\\n我说:‘我喜欢吃柚子’\\n苹果说:‘那你别买。’\\n我说:‘好的呢’\\n=======================\\n荸荠说:‘你喜欢吃我吗？’\\n我说:‘我喜欢吃柚子’\\n荸荠说:‘那你别买。’\\n荸荠说:‘好的呢’\")\n",
    "i=open('test.txt','rt')\n",
    "i.read()\n",
    "i.close()"
   ]
  },
  {
   "cell_type": "code",
   "execution_count": 63,
   "metadata": {},
   "outputs": [],
   "source": [
    "f=open('test.txt')\n",
    "shuiguo=[]\n",
    "wo=[]\n",
    "count=1\n",
    "for each_line in f:\n",
    "    if each_line[:6] != '======':\n",
    "        (role,line_spoken)=each_line.split(':',1)\n",
    "        if role =='我说':\n",
    "            wo.append(line_spoken)\n",
    "        else:\n",
    "            shuiguo.append(line_spoken)\n",
    "        #我们这里进行字符串的分割\n",
    "    else:\n",
    "        file_name_shuiguo='shuiguo_'+str(count)+'.txt'\n",
    "        file_name_wo='wo_'+str(count)+'.txt'\n",
    "        shuiguo_file=open(file_name_shuiguo,'w')\n",
    "        wo_file=open(file_name_wo,'w')\n",
    "        shuiguo_file.writelines(shuiguo)\n",
    "        wo_file.writelines(wo)\n",
    "        shuiguo_file.close()\n",
    "        wo_file.close()\n",
    "        shuiguo=[]\n",
    "        wo=[]\n",
    "        count+=1\n",
    "        #我们需要对"
   ]
  },
  {
   "cell_type": "code",
   "execution_count": 64,
   "metadata": {},
   "outputs": [
    {
     "data": {
      "text/plain": [
       "832"
      ]
     },
     "execution_count": 64,
     "metadata": {},
     "output_type": "execute_result"
    }
   ],
   "source": [
    "#模块\n",
    "#random就是模块\n",
    "import random\n",
    "secret=random.randint(1,9996)\n",
    "secret"
   ]
  },
  {
   "cell_type": "code",
   "execution_count": 65,
   "metadata": {},
   "outputs": [
    {
     "data": {
      "text/plain": [
       "0"
      ]
     },
     "execution_count": 65,
     "metadata": {},
     "output_type": "execute_result"
    }
   ],
   "source": [
    "#模块是一个可用代码块的打包\n",
    "#OS模块（操作系统模块）可以采用这个模块对于文件进行操作\n",
    "import os\n",
    "os.getcwd()#os模块之getcwd获取工作目录\n",
    "os.chdir(\"D:/\")#改变工作目录\n",
    "os.getcwd()\n",
    "os.listdir()#列出目录中的所有文件\n",
    "#os.mkdir('D:/xiangjiaobangbangchui')#（创建文件夹）\n",
    "os.listdir()\n",
    "os.chdir(\"D:/xiangjiaobangbangchui\")\n",
    "os.getcwd()\n",
    "os.chdir('C:\\\\Users\\\\lenovo\\\\PythonEnvironment\\\\作业\\\\练习')\n",
    "#os.remove('C:\\\\Users\\\\lenovo\\\\PythonEnvironment\\\\作业\\\\练习\\\\ppt.txt')#删除文件\n",
    "#os.mkdir('C:\\\\Users\\\\lenovo\\\\PythonEnvironment\\\\作业\\\\练习\\\\香蕉')\n",
    "#os.rmdir('C:\\\\Users\\\\lenovo\\\\PythonEnvironment\\\\作业\\\\练习\\\\香蕉')#删除文件夹\n",
    "os.system('calc')"
   ]
  },
  {
   "cell_type": "code",
   "execution_count": 66,
   "metadata": {},
   "outputs": [
    {
     "data": {
      "text/plain": [
       "0"
      ]
     },
     "execution_count": 66,
     "metadata": {},
     "output_type": "execute_result"
    }
   ],
   "source": [
    "os.system('cmd')"
   ]
  },
  {
   "cell_type": "code",
   "execution_count": 67,
   "metadata": {},
   "outputs": [
    {
     "data": {
      "text/plain": [
       "'test.txt'"
      ]
     },
     "execution_count": 67,
     "metadata": {},
     "output_type": "execute_result"
    }
   ],
   "source": [
    "#采用这个函数去除路径其余字符仅保留文件基本名称\n",
    "os.path.basename('C:\\\\Users\\\\lenovo\\\\PythonEnvironment\\\\作业\\\\练习\\\\test.txt')"
   ]
  },
  {
   "cell_type": "code",
   "execution_count": 68,
   "metadata": {},
   "outputs": [
    {
     "data": {
      "text/plain": [
       "'C:\\\\Users\\\\lenovo\\\\PythonEnvironment\\\\作业\\\\练习'"
      ]
     },
     "execution_count": 68,
     "metadata": {},
     "output_type": "execute_result"
    }
   ],
   "source": [
    "#保留路径名而去除文件名\n",
    "os.path.dirname('C:\\\\Users\\\\lenovo\\\\PythonEnvironment\\\\作业\\\\练习\\\\test.txt')"
   ]
  },
  {
   "cell_type": "code",
   "execution_count": 69,
   "metadata": {},
   "outputs": [],
   "source": [
    "#将python的对象打包为二进制模块\n",
    "import pickle"
   ]
  },
  {
   "cell_type": "code",
   "execution_count": 70,
   "metadata": {},
   "outputs": [],
   "source": [
    "my_list=[123,3.14,'pingguo']"
   ]
  },
  {
   "cell_type": "code",
   "execution_count": 71,
   "metadata": {},
   "outputs": [],
   "source": [
    "pickle_file = open('my_list.pkl','wb')"
   ]
  },
  {
   "cell_type": "code",
   "execution_count": 72,
   "metadata": {},
   "outputs": [],
   "source": [
    "#将文件倒入picklefile中\n",
    "pickle.dump(my_list,pickle_file)"
   ]
  },
  {
   "cell_type": "code",
   "execution_count": 73,
   "metadata": {},
   "outputs": [],
   "source": [
    "pickle_file .close()"
   ]
  },
  {
   "cell_type": "code",
   "execution_count": 74,
   "metadata": {},
   "outputs": [],
   "source": [
    "pickle_file = open('my_list.pkl','rb')"
   ]
  },
  {
   "cell_type": "code",
   "execution_count": 75,
   "metadata": {},
   "outputs": [
    {
     "data": {
      "text/plain": [
       "[123, 3.14, 'pingguo']"
      ]
     },
     "execution_count": 75,
     "metadata": {},
     "output_type": "execute_result"
    }
   ],
   "source": [
    "#载入pickle技术的二进制包\n",
    "my_list2=pickle.load(pickle_file)\n",
    "my_list2"
   ]
  },
  {
   "cell_type": "code",
   "execution_count": null,
   "metadata": {},
   "outputs": [],
   "source": []
  }
 ],
 "metadata": {
  "kernelspec": {
   "display_name": "Python 3",
   "language": "python",
   "name": "python3"
  },
  "language_info": {
   "codemirror_mode": {
    "name": "ipython",
    "version": 3
   },
   "file_extension": ".py",
   "mimetype": "text/x-python",
   "name": "python",
   "nbconvert_exporter": "python",
   "pygments_lexer": "ipython3",
   "version": "3.8.3"
  }
 },
 "nbformat": 4,
 "nbformat_minor": 4
}
