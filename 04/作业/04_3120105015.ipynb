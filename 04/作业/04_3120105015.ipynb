{
 "cells": [
  {
   "cell_type": "code",
   "execution_count": 2,
   "metadata": {},
   "outputs": [
    {
     "name": "stdin",
     "output_type": "stream",
     "text": [
      "输入第一个数字： 2\n",
      "输入第二个数字： 3\n"
     ]
    },
    {
     "name": "stdout",
     "output_type": "stream",
     "text": [
      "数字 2 和 3 相加结果为： 5.0\n"
     ]
    }
   ],
   "source": [
    "num1 = input('输入第一个数字：')\n",
    "num2 = input('输入第二个数字：')\n",
    "sum = float(num1) + float(num2)\n",
    "print('数字 {0} 和 {1} 相加结果为： {2}'.format(num1, num2, sum))"
   ]
  },
  {
   "cell_type": "code",
   "execution_count": 3,
   "metadata": {},
   "outputs": [
    {
     "name": "stdin",
     "output_type": "stream",
     "text": [
      "输入第一个数字： 5\n",
      "输入第二个数字： 6\n"
     ]
    },
    {
     "name": "stdout",
     "output_type": "stream",
     "text": [
      "两数之和为 11.0\n"
     ]
    }
   ],
   "source": [
    "print('两数之和为 %.1f' %(float(input('输入第一个数字：'))+float(input('输入第二个数字：'))))"
   ]
  },
  {
   "cell_type": "code",
   "execution_count": 7,
   "metadata": {},
   "outputs": [
    {
     "name": "stdin",
     "output_type": "stream",
     "text": [
      "请输入一个数字：  9\n"
     ]
    },
    {
     "name": "stdout",
     "output_type": "stream",
     "text": [
      "81.0\n",
      " 9.000 的平方根为 3.000\n"
     ]
    }
   ],
   "source": [
    "num = float(input('请输入一个数字： '))\n",
    "num_sqrt = num ** 0.5\n",
    "num1 = num**2\n",
    "print(num1)\n",
    "print(' %0.3f 的平方根为 %0.3f'%(num ,num_sqrt))"
   ]
  },
  {
   "cell_type": "code",
   "execution_count": 15,
   "metadata": {},
   "outputs": [],
   "source": [
    "def sqrt():\n",
    "  import cmath\n",
    "  num = input('输入第一个数字：')\n",
    "  if num.__contains__('-') and  num.__contains__('.'):  \n",
    "    num_sqrt = cmath.sqrt(float(num))\n",
    "    print('{0} 的平方根为 {1:0.3f}+{2:0.3f}j'.format(float(num), num_sqrt.real, num_sqrt.imag))\n",
    "  elif num.__contains__('-'):  \n",
    "    num_sqrt = cmath.sqrt(int(num))\n",
    "    print('{0} 的平方根为 {1:0.3f}+{2:0.3f}j'.format(int(num), num_sqrt.real, num_sqrt.imag))\n",
    "  elif num.__contains__('.'):         \n",
    "    num_sqrt = float(num) ** 0.5        \n",
    "    print(' %0.3f 的平方根为 %0.3f' % (float(num), num_sqrt))\n",
    "  else:        \n",
    "    num_sqrt = int(num) ** 0.5        \n",
    "    print(' %0.3f 的平方根为 %0.3f' % (int(num), num_sqrt))"
   ]
  },
  {
   "cell_type": "code",
   "execution_count": 17,
   "metadata": {},
   "outputs": [
    {
     "name": "stdin",
     "output_type": "stream",
     "text": [
      "输入第一个数字： 9\n"
     ]
    },
    {
     "name": "stdout",
     "output_type": "stream",
     "text": [
      " 9.000 的平方根为 3.000\n"
     ]
    }
   ],
   "source": [
    "sqrt()"
   ]
  },
  {
   "cell_type": "code",
   "execution_count": 19,
   "metadata": {},
   "outputs": [
    {
     "name": "stdin",
     "output_type": "stream",
     "text": [
      "请输入一个数字:  -9\n"
     ]
    },
    {
     "name": "stdout",
     "output_type": "stream",
     "text": [
      "-9 的平方根为 0.000+3.000j\n"
     ]
    }
   ],
   "source": [
    "import cmath\n",
    "num = int(input(\"请输入一个数字: \"))\n",
    "num_sqrt = cmath.sqrt(num)\n",
    "print('{0} 的平方根为 {1:0.3f}+{2:0.3f}j'.format(num ,num_sqrt.real,num_sqrt.imag))"
   ]
  },
  {
   "cell_type": "code",
   "execution_count": 22,
   "metadata": {},
   "outputs": [
    {
     "name": "stdin",
     "output_type": "stream",
     "text": [
      "输入 a:  1\n",
      "输入 b:  -2\n",
      "输入 c:  1\n"
     ]
    },
    {
     "name": "stdout",
     "output_type": "stream",
     "text": [
      "结果为 (1+0j) 和 (1+0j)\n"
     ]
    }
   ],
   "source": [
    "import cmath\n",
    "\n",
    "a = float(input('输入 a: '))\n",
    "b = float(input('输入 b: '))\n",
    "c = float(input('输入 c: '))\n",
    " \n",
    "d = (b**2) - (4*a*c)\n",
    "\n",
    "sol1 = (-b-cmath.sqrt(d))/(2*a)\n",
    "sol2 = (-b+cmath.sqrt(d))/(2*a)\n",
    " \n",
    "print('结果为 {0} 和 {1}'.format(sol1,sol2))"
   ]
  },
  {
   "cell_type": "code",
   "execution_count": 23,
   "metadata": {},
   "outputs": [
    {
     "name": "stdin",
     "output_type": "stream",
     "text": [
      "输入三角形第一边长:  3\n",
      "输入三角形第二边长:  4\n",
      "输入三角形第三边长:  5\n"
     ]
    },
    {
     "name": "stdout",
     "output_type": "stream",
     "text": [
      "三角形面积为 6.00\n"
     ]
    }
   ],
   "source": [
    "a = float(input('输入三角形第一边长: '))\n",
    "b = float(input('输入三角形第二边长: '))\n",
    "c = float(input('输入三角形第三边长: '))\n",
    "s = (a + b + c) / 2\n",
    "area = (s*(s-a)*(s-b)*(s-c)) ** 0.5\n",
    "print('三角形面积为 %0.2f' %area)"
   ]
  },
  {
   "cell_type": "code",
   "execution_count": 25,
   "metadata": {},
   "outputs": [
    {
     "name": "stdin",
     "output_type": "stream",
     "text": [
      "输入三角形第一边长： 1\n",
      "输入三角形第二边长： 2\n",
      "输入三角形第三边长： 3\n"
     ]
    },
    {
     "name": "stdout",
     "output_type": "stream",
     "text": [
      "输入的边构不成三角形，请重新输入！\n"
     ]
    },
    {
     "name": "stdin",
     "output_type": "stream",
     "text": [
      "输入三角形第一边长： 1\n",
      "输入三角形第二边长： 3\n",
      "输入三角形第三边长： 2\n"
     ]
    },
    {
     "name": "stdout",
     "output_type": "stream",
     "text": [
      "输入的边构不成三角形，请重新输入！\n"
     ]
    },
    {
     "name": "stdin",
     "output_type": "stream",
     "text": [
      "输入三角形第一边长： 3\n",
      "输入三角形第二边长： 4\n",
      "输入三角形第三边长： 5\n"
     ]
    },
    {
     "name": "stdout",
     "output_type": "stream",
     "text": [
      "三角形面积为：6.00\n"
     ]
    }
   ],
   "source": [
    "a = float (input ('输入三角形第一边长：'))\n",
    "b = float (input ('输入三角形第二边长：'))\n",
    "c = float (input ('输入三角形第三边长：'))\n",
    "while a+b<=c or a+c<=b or b+c<=a:\n",
    "    print ('输入的边构不成三角形，请重新输入！')\n",
    "    a = float (input ('输入三角形第一边长：'))\n",
    "    b = float (input ('输入三角形第二边长：'))\n",
    "    c = float (input ('输入三角形第三边长：'))\n",
    "s = (a+b+c) /2\n",
    "area = (s*(s-a)*(s-b)*(s-c))**0.5\n",
    "print ('三角形面积为：%0.2f'%area)"
   ]
  },
  {
   "cell_type": "code",
   "execution_count": 34,
   "metadata": {},
   "outputs": [
    {
     "name": "stdin",
     "output_type": "stream",
     "text": [
      " 2\n"
     ]
    },
    {
     "name": "stdout",
     "output_type": "stream",
     "text": [
      "圆的面积为 12.568\n"
     ]
    }
   ],
   "source": [
    "def findArea(r):\n",
    "    PI = 3.142\n",
    "    return PI * (r*r)\n",
    "print(\"圆的面积为 %.3f\" % findArea(float(input())))"
   ]
  },
  {
   "cell_type": "code",
   "execution_count": 37,
   "metadata": {},
   "outputs": [
    {
     "name": "stdout",
     "output_type": "stream",
     "text": [
      "0\n"
     ]
    }
   ],
   "source": [
    "import random\n",
    " \n",
    "print(random.randint(0,9))"
   ]
  },
  {
   "cell_type": "code",
   "execution_count": 6,
   "metadata": {},
   "outputs": [
    {
     "name": "stdout",
     "output_type": "stream",
     "text": [
      "猜数字\n"
     ]
    },
    {
     "name": "stdin",
     "output_type": "stream",
     "text": [
      "开始：1\n",
      "结束：0\n",
      "-> 1\n"
     ]
    },
    {
     "name": "stdout",
     "output_type": "stream",
     "text": [
      "｛LV0.新手}｛LV1.简单｝｛LV2.一般｝｛LV3.困难｝｛LV4.噩梦｝｛LV5.地狱｝\n"
     ]
    },
    {
     "name": "stdin",
     "output_type": "stream",
     "text": [
      "Level: \n"
     ]
    },
    {
     "name": "stdout",
     "output_type": "stream",
     "text": [
      "隐藏难度｛LV6.调戏｝\n",
      "猜猜{1-1000}之间的数:\n",
      "一定是："
     ]
    },
    {
     "name": "stdin",
     "output_type": "stream",
     "text": [
      " 55\n"
     ]
    },
    {
     "name": "stdout",
     "output_type": "stream",
     "text": [
      "太小\n",
      "还有[98]次机会:\n",
      "一定是："
     ]
    },
    {
     "name": "stdin",
     "output_type": "stream",
     "text": [
      " 500\n"
     ]
    },
    {
     "name": "stdout",
     "output_type": "stream",
     "text": [
      "太大\n",
      "还有[97]次机会:\n",
      "一定是："
     ]
    },
    {
     "name": "stdin",
     "output_type": "stream",
     "text": [
      " \n"
     ]
    },
    {
     "name": "stdout",
     "output_type": "stream",
     "text": [
      "要崩溃了!!!\n",
      "一定是："
     ]
    },
    {
     "name": "stdin",
     "output_type": "stream",
     "text": [
      " 300\n"
     ]
    },
    {
     "name": "stdout",
     "output_type": "stream",
     "text": [
      "太小\n",
      "还有[96]次机会:\n",
      "一定是："
     ]
    },
    {
     "name": "stdin",
     "output_type": "stream",
     "text": [
      " 400\n"
     ]
    },
    {
     "name": "stdout",
     "output_type": "stream",
     "text": [
      "太大\n",
      "还有[95]次机会:\n",
      "一定是："
     ]
    },
    {
     "name": "stdin",
     "output_type": "stream",
     "text": [
      " 350\n"
     ]
    },
    {
     "name": "stdout",
     "output_type": "stream",
     "text": [
      "太大\n",
      "还有[94]次机会:\n",
      "一定是："
     ]
    },
    {
     "name": "stdin",
     "output_type": "stream",
     "text": [
      " 320\n"
     ]
    },
    {
     "name": "stdout",
     "output_type": "stream",
     "text": [
      "太大\n",
      "还有[93]次机会:\n",
      "一定是："
     ]
    },
    {
     "name": "stdin",
     "output_type": "stream",
     "text": [
      " 310\n"
     ]
    },
    {
     "name": "stdout",
     "output_type": "stream",
     "text": [
      "太小\n",
      "还有[92]次机会:\n",
      "一定是："
     ]
    },
    {
     "name": "stdin",
     "output_type": "stream",
     "text": [
      " 315\n"
     ]
    },
    {
     "name": "stdout",
     "output_type": "stream",
     "text": [
      "太大\n",
      "还有[91]次机会:\n",
      "一定是："
     ]
    },
    {
     "name": "stdin",
     "output_type": "stream",
     "text": [
      " 312\n"
     ]
    },
    {
     "name": "stdout",
     "output_type": "stream",
     "text": [
      "太小\n",
      "还有[90]次机会:\n",
      "一定是："
     ]
    },
    {
     "name": "stdin",
     "output_type": "stream",
     "text": [
      " 313\n"
     ]
    },
    {
     "name": "stdout",
     "output_type": "stream",
     "text": [
      "好\n",
      "游戏结束!\n"
     ]
    }
   ],
   "source": [
    "import random\n",
    "import re\n",
    "from sys import exit\n",
    "\n",
    "def main():\n",
    "    time = 5\n",
    "    count = 1\n",
    "    num = 0\n",
    "    dict = {'0': 5, '1': 10, '2': 20, '3': 50, '4': 100}\n",
    "\n",
    "    print('猜数字')\n",
    "    go = int(input('开始：1\\n结束：0\\n->'))\n",
    "\n",
    "    while go != 1 and go != 0:\n",
    "        print('Input 1 or 0.')\n",
    "        go = int(input('开始：1\\n结束：0\\n->')) \n",
    "    if go == 1:\n",
    "        pass\n",
    "    elif go == 0:\n",
    "        print('游戏结束!')\n",
    "        exit()\n",
    "    \n",
    "\n",
    "    print('｛LV0.新手}｛LV1.简单｝｛LV2.一般｝｛LV3.困难｝｛LV4.噩梦｝｛LV5.地狱｝')\n",
    "    r = input('Level:')\n",
    "    r = re.sub('\\D', '', r) \n",
    "\n",
    "    if r.strip() == '': \n",
    "        print('隐藏难度｛LV6.调戏｝')\n",
    "        n = 1000\n",
    "        time = 99\n",
    "    else:\n",
    "        n = dict.get(r, 500)\n",
    "\n",
    "    secret = random.randint(1, n + 1)\n",
    "    print('猜猜{1-%s}之间的数:' % n)\n",
    "\n",
    "    while True:\n",
    "        print('一定是：' , end = '')\n",
    "        num = input()\n",
    "\n",
    "        if num.isdigit():\n",
    "            num = int(num)\n",
    "            if num < 1:\n",
    "                print('现在就放弃太可惜了')\n",
    "            elif num > n:\n",
    "                print('超出范围')\n",
    "            elif num > secret:\n",
    "                print('太大')\n",
    "            elif num < secret:\n",
    "                print('太小')\n",
    "            else:\n",
    "                if count == 1:\n",
    "                    print('棒')\n",
    "                elif count == 2:\n",
    "                    print('赞')\n",
    "                else:\n",
    "                    print('好')\n",
    "                break\n",
    "\n",
    "            time -= 1\n",
    "            count += 1\n",
    "\n",
    "            if time == 0:\n",
    "                print('正确答案：%s' % secret)\n",
    "                break\n",
    "            else:\n",
    "                print('还有[%s]次机会:' % time)\n",
    "        else:\n",
    "            print('要崩溃了!!!')\n",
    "    print('游戏结束!')\n",
    "\n",
    "if __name__ == '__main__':\n",
    "    main()"
   ]
  },
  {
   "cell_type": "code",
   "execution_count": 10,
   "metadata": {},
   "outputs": [
    {
     "name": "stdin",
     "output_type": "stream",
     "text": [
      "输入摄氏温度:  68\n"
     ]
    },
    {
     "name": "stdout",
     "output_type": "stream",
     "text": [
      "68.0 摄氏温度转为华氏温度为 154.4 \n"
     ]
    }
   ],
   "source": [
    "celsius = float(input('输入摄氏温度: '))\n",
    "fahrenheit = (celsius * 1.8) + 32\n",
    "print('%0.1f 摄氏温度转为华氏温度为 %0.1f ' %(celsius,fahrenheit))"
   ]
  },
  {
   "cell_type": "code",
   "execution_count": 21,
   "metadata": {},
   "outputs": [
    {
     "name": "stdin",
     "output_type": "stream",
     "text": [
      "摄氏度转换为华氏温度请按1\n",
      "华氏温度转化为摄氏度请按2\n",
      " 6\n",
      "你选择不正确，请重新输入。\n",
      "摄氏度转换为华氏温度请按1\n",
      "华氏温度转换为摄氏度请按2\n",
      " 2\n",
      "输入华氏度: 66\n"
     ]
    },
    {
     "name": "stdout",
     "output_type": "stream",
     "text": [
      "66.0华氏度转为摄氏度为18.9\n"
     ]
    }
   ],
   "source": [
    "a = int(input('摄氏度转换为华氏温度请按1\\n华氏温度转化为摄氏度请按2\\n'))\n",
    "while a != 1 and a != 2:\n",
    "    a = int(input('你选择不正确，请重新输入。\\n摄氏度转换为华氏温度请按1\\n华氏温度转换为摄氏度请按2\\n'))\n",
    "if a == 1:\n",
    "    celsius = float(input('输入摄氏度:'))\n",
    "    fahrenheit = (celsius*1.8)+32 \n",
    "    print('%.1f摄氏度转为华氏温度为%.1f' %(celsius,fahrenheit))\n",
    "else:\n",
    "    fahrenheit = float(input('输入华氏度:'))\n",
    "    celsius = (fahrenheit - 32)/1.8 \n",
    "    print('%.1f华氏度转为摄氏度为%.1f' %(fahrenheit,celsius))"
   ]
  },
  {
   "cell_type": "code",
   "execution_count": 24,
   "metadata": {},
   "outputs": [
    {
     "name": "stdin",
     "output_type": "stream",
     "text": [
      "请输入带有符号的温度值:  76c\n"
     ]
    },
    {
     "name": "stdout",
     "output_type": "stream",
     "text": [
      "转换后的温度是168.8F\n"
     ]
    }
   ],
   "source": [
    "a = input(\"请输入带有符号的温度值: \")\n",
    "if a[-1] in ['F','f']:\n",
    "    C = (eval(a[0:-1]) - 32)/1.8\n",
    "    print(\"转换后的温度是{:.1f}C\".format(C))\n",
    "elif a[-1] in ['C','c']:\n",
    "    F = 1.8*eval(a[0:-1]) + 32\n",
    "    print(\"转换后的温度是{:.1f}F\".format(F))\n",
    "else:\n",
    "    print(\"输入格式错误\")"
   ]
  },
  {
   "cell_type": "code",
   "execution_count": 25,
   "metadata": {},
   "outputs": [
    {
     "name": "stdin",
     "output_type": "stream",
     "text": [
      "输入 x 值:  8\n",
      "输入 y 值:  y\n"
     ]
    },
    {
     "name": "stdout",
     "output_type": "stream",
     "text": [
      "交换后 x 的值为: y\n",
      "交换后 y 的值为: 8\n"
     ]
    }
   ],
   "source": [
    "x = input('输入 x 值: ')\n",
    "y = input('输入 y 值: ')\n",
    "temp = x\n",
    "x = y\n",
    "y = temp\n",
    " \n",
    "print('交换后 x 的值为: {}'.format(x))\n",
    "print('交换后 y 的值为: {}'.format(y))"
   ]
  },
  {
   "cell_type": "code",
   "execution_count": 26,
   "metadata": {},
   "outputs": [
    {
     "name": "stdin",
     "output_type": "stream",
     "text": [
      "输入 x 值:  u\n",
      "输入 y 值:  他\n"
     ]
    },
    {
     "name": "stdout",
     "output_type": "stream",
     "text": [
      "交换后 x 的值为: 他\n",
      "交换后 y 的值为: u\n"
     ]
    }
   ],
   "source": [
    "x = input('输入 x 值: ')\n",
    "y = input('输入 y 值: ')\n",
    "\n",
    "x,y = y,x\n",
    " \n",
    "print('交换后 x 的值为: {}'.format(x))\n",
    "print('交换后 y 的值为: {}'.format(y))"
   ]
  },
  {
   "cell_type": "code",
   "execution_count": 31,
   "metadata": {},
   "outputs": [
    {
     "name": "stdin",
     "output_type": "stream",
     "text": [
      "输入 X 值： 6\n",
      "输入 Y 值： 8\n"
     ]
    },
    {
     "name": "stdout",
     "output_type": "stream",
     "text": [
      "交换后的 X 值为： 8\n",
      "交换后的 Y 值为： 6\n"
     ]
    }
   ],
   "source": [
    "x = int(input('输入 X 值：'))\n",
    "y = int(input('输入 Y 值：'))\n",
    "x = x ^ y\n",
    "y = x ^ y\n",
    "x = x ^ y\n",
    "print('交换后的 X 值为：',x)\n",
    "print('交换后的 Y 值为：',y)"
   ]
  },
  {
   "cell_type": "code",
   "execution_count": 33,
   "metadata": {},
   "outputs": [
    {
     "name": "stdin",
     "output_type": "stream",
     "text": [
      "输入一个数字:  0\n"
     ]
    },
    {
     "name": "stdout",
     "output_type": "stream",
     "text": [
      "零\n"
     ]
    }
   ],
   "source": [
    "num = float(input(\"输入一个数字: \"))\n",
    "if num > 0:\n",
    "   print(\"正数\")\n",
    "elif num == 0:\n",
    "   print(\"零\")\n",
    "else:\n",
    "   print(\"负数\")"
   ]
  },
  {
   "cell_type": "code",
   "execution_count": 34,
   "metadata": {},
   "outputs": [
    {
     "name": "stdin",
     "output_type": "stream",
     "text": [
      "请输入一个数字： uu\n"
     ]
    },
    {
     "name": "stdout",
     "output_type": "stream",
     "text": [
      "输入无效，需要输入一个数字\n"
     ]
    },
    {
     "name": "stdin",
     "output_type": "stream",
     "text": [
      "请输入一个数字： ii\n"
     ]
    },
    {
     "name": "stdout",
     "output_type": "stream",
     "text": [
      "输入无效，需要输入一个数字\n"
     ]
    },
    {
     "name": "stdin",
     "output_type": "stream",
     "text": [
      "请输入一个数字： 0\n"
     ]
    },
    {
     "name": "stdout",
     "output_type": "stream",
     "text": [
      "输入的数字是零\n"
     ]
    }
   ],
   "source": [
    "while True:\n",
    "    try:\n",
    "        num=float(input('请输入一个数字：'))\n",
    "        if num==0:\n",
    "            print('输入的数字是零')\n",
    "        elif num>0:\n",
    "            print('输入的数字是正数')\n",
    "        else:\n",
    "            print('输入的数字是负数')\n",
    "        break\n",
    "    except ValueError:\n",
    "        print('输入无效，需要输入一个数字')"
   ]
  },
  {
   "cell_type": "code",
   "execution_count": 42,
   "metadata": {},
   "outputs": [
    {
     "name": "stdin",
     "output_type": "stream",
     "text": [
      " 4.5\n"
     ]
    },
    {
     "name": "stdout",
     "output_type": "stream",
     "text": [
      "True\n"
     ]
    }
   ],
   "source": [
    "def is_number(s):\n",
    "    try:\n",
    "        float(s)\n",
    "        return True\n",
    "    except ValueError:\n",
    "        pass\n",
    " \n",
    "    try:\n",
    "        import unicodedata\n",
    "        unicodedata.numeric(s)\n",
    "        return True\n",
    "    except (TypeError, ValueError):\n",
    "        pass\n",
    " \n",
    "    return False\n",
    " \n",
    "print(is_number(input()))\n",
    "#print(is_number('foo'))\n",
    "#print(is_number('1'))\n",
    "#print(is_number('1.3'))\n",
    "#print(is_number('-1.37'))\n",
    "#print(is_number('1e3')) \n",
    "#print(is_number('٥'))  # True\n",
    "#print(is_number('๒'))  # True\n",
    "#print(is_number('四')) # True\n",
    "#print(is_number('©'))  # False"
   ]
  },
  {
   "cell_type": "code",
   "execution_count": 43,
   "metadata": {},
   "outputs": [
    {
     "name": "stdin",
     "output_type": "stream",
     "text": [
      "输入一个数字:  4546\n"
     ]
    },
    {
     "name": "stdout",
     "output_type": "stream",
     "text": [
      "4546 是偶数\n"
     ]
    }
   ],
   "source": [
    "num = int(input(\"输入一个数字: \"))\n",
    "if (num % 2) == 0:\n",
    "   print(\"{0} 是偶数\".format(num))\n",
    "else:\n",
    "   print(\"{0} 是奇数\".format(num))"
   ]
  },
  {
   "cell_type": "code",
   "execution_count": 46,
   "metadata": {},
   "outputs": [
    {
     "name": "stdin",
     "output_type": "stream",
     "text": [
      "输入一个年份:  200\n"
     ]
    },
    {
     "name": "stdout",
     "output_type": "stream",
     "text": [
      "200 不是闰年\n"
     ]
    }
   ],
   "source": [
    "year = int(input(\"输入一个年份: \"))\n",
    "if (year % 4) == 0:\n",
    "   if (year % 100) == 0:\n",
    "       if (year % 400) == 0:\n",
    "           print(\"{0} 是闰年\".format(year))\n",
    "       else:\n",
    "           print(\"{0} 不是闰年\".format(year))\n",
    "   else:\n",
    "       print(\"{0} 是闰年\".format(year))\n",
    "else:        \n",
    "   print(\"{0} 不是闰年\".format(year))"
   ]
  },
  {
   "cell_type": "code",
   "execution_count": 51,
   "metadata": {},
   "outputs": [
    {
     "name": "stdin",
     "output_type": "stream",
     "text": [
      "请输入一个年份： 678\n"
     ]
    },
    {
     "name": "stdout",
     "output_type": "stream",
     "text": [
      "678不是闰年\n"
     ]
    }
   ],
   "source": [
    "year = int(input(\"请输入一个年份：\"))\n",
    "if (year % 4) == 0 and (year % 100) != 0 or (year % 400) == 0:\n",
    "    print(\"{0}是闰年\".format(year))\n",
    "else:\n",
    "    print(\"{0}不是闰年\".format(year))"
   ]
  },
  {
   "cell_type": "code",
   "execution_count": 55,
   "metadata": {},
   "outputs": [
    {
     "name": "stdout",
     "output_type": "stream",
     "text": [
      "2\n",
      "b\n",
      "2\n",
      "2\n",
      "80, 100, 1000 最大值为:  1000\n",
      "-20, 100, 400最大值为:  400\n",
      "-80, -20, -10最大值为:  -10\n",
      "0, 100, -400最大值为: 100\n"
     ]
    }
   ],
   "source": [
    "print(max(1, 2))\n",
    "print(max('a', 'b'))\n",
    "\n",
    "print(max([1,2]))\n",
    "print(max((1,2)))\n",
    "\n",
    "print(\"80, 100, 1000 最大值为: \", max(80, 100, 1000))\n",
    "print(\"-20, 100, 400最大值为: \", max(-20, 100, 400))\n",
    "print(\"-80, -20, -10最大值为: \", max(-80, -20, -10))\n",
    "print(\"0, 100, -400最大值为:\", max(0, 100, -400))"
   ]
  },
  {
   "cell_type": "code",
   "execution_count": null,
   "metadata": {},
   "outputs": [],
   "source": []
  }
 ],
 "metadata": {
  "kernelspec": {
   "display_name": "Python 3",
   "language": "python",
   "name": "python3"
  },
  "language_info": {
   "codemirror_mode": {
    "name": "ipython",
    "version": 3
   },
   "file_extension": ".py",
   "mimetype": "text/x-python",
   "name": "python",
   "nbconvert_exporter": "python",
   "pygments_lexer": "ipython3",
   "version": "3.8.3"
  }
 },
 "nbformat": 4,
 "nbformat_minor": 4
}
