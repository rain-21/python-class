{
 "cells": [
  {
   "cell_type": "code",
   "execution_count": 2,
   "metadata": {},
   "outputs": [
    {
     "name": "stdout",
     "output_type": "stream",
     "text": [
      "<class 'str'>\n",
      "<class 'str'>\n",
      "var1[1:5] ello\n"
     ]
    }
   ],
   "source": [
    "var1='Hello World!'\n",
    "var2='Runoob'\n",
    "print(type(var1))\n",
    "print(type(var2))\n",
    "print(\"var1[1:5]\",var1[1:5])"
   ]
  },
  {
   "cell_type": "code",
   "execution_count": 4,
   "metadata": {},
   "outputs": [
    {
     "name": "stdout",
     "output_type": "stream",
     "text": [
      "HelloHelloHelloHelloHello\n"
     ]
    },
    {
     "data": {
      "text/plain": [
       "True"
      ]
     },
     "execution_count": 4,
     "metadata": {},
     "output_type": "execute_result"
    }
   ],
   "source": [
    "print(\"Hello\"*5)\n",
    "'H'in 'Hello'"
   ]
  },
  {
   "cell_type": "code",
   "execution_count": 5,
   "metadata": {},
   "outputs": [
    {
     "name": "stdout",
     "output_type": "stream",
     "text": [
      "I amlucky\n",
      "I'm OK\n"
     ]
    }
   ],
   "source": [
    "name='lucky'\n",
    "print(f'I am{name}')\n",
    "print('I\\'m OK')"
   ]
  },
  {
   "cell_type": "code",
   "execution_count": 6,
   "metadata": {},
   "outputs": [
    {
     "name": "stdout",
     "output_type": "stream",
     "text": [
      "Hello world\n",
      "HELLO WORLD\n",
      "Hello World\n"
     ]
    }
   ],
   "source": [
    "sentence='hello world'\n",
    "print(sentence.capitalize())\n",
    "print(sentence.upper())\n",
    "print(sentence.title())"
   ]
  },
  {
   "cell_type": "code",
   "execution_count": 8,
   "metadata": {},
   "outputs": [
    {
     "name": "stdout",
     "output_type": "stream",
     "text": [
      "var1.count('o'): 3\n",
      "var1.count('run',0,10): 1\n"
     ]
    }
   ],
   "source": [
    "var1=\"www.runpoob.com\"\n",
    "sub='o'\n",
    "print(\"var1.count('o'):\",var1.count(sub))\n",
    "sub='run'\n",
    "print(\"var1.count('run',0,10):\",var1.count(sub,0,10))"
   ]
  },
  {
   "cell_type": "code",
   "execution_count": 9,
   "metadata": {},
   "outputs": [
    {
     "name": "stdout",
     "output_type": "stream",
     "text": [
      "True\n",
      "True\n",
      "False\n",
      "False\n",
      "False\n",
      "True\n"
     ]
    }
   ],
   "source": [
    "str1=\"runoob\"\n",
    "str2=\"runoob菜鸟教程\"\n",
    "str3=\"Runoob example....wow!!!\"\n",
    "str4=\"runoob2016\"\n",
    "str5=\"2016\"\n",
    "str6=\"二零一六\"\n",
    "print(str1.isalpha())\n",
    "print(str2.isalpha())\n",
    "print(str3.isalpha())\n",
    "print(str4.isalpha())\n",
    "print(str5.isalpha())\n",
    "print(str6.isalpha())"
   ]
  },
  {
   "cell_type": "code",
   "execution_count": 13,
   "metadata": {},
   "outputs": [
    {
     "name": "stdout",
     "output_type": "stream",
     "text": [
      "True\n",
      "False\n",
      "False\n"
     ]
    }
   ],
   "source": [
    "var1=\"this is string example....wow!!!\"\n",
    "print(var1.startswith('this'))\n",
    "print(var1.startswith('string,8'))\n",
    "print(var1.startswith('this,2,4'))"
   ]
  },
  {
   "cell_type": "code",
   "execution_count": 20,
   "metadata": {},
   "outputs": [
    {
     "name": "stdout",
     "output_type": "stream",
     "text": [
      "True\n",
      "False\n",
      "False\n",
      "True\n"
     ]
    }
   ],
   "source": [
    "var1=\"Runoob example....wow!!!\"\n",
    "suffix='!!'\n",
    "print(var1.endswith(suffix))\n",
    "print(var1.endswith(suffix,len(var1)-1))\n",
    "suffix='Run'\n",
    "print(var1.endswith(suffix))\n",
    "print(var1.endswith(suffix,0,3))"
   ]
  },
  {
   "cell_type": "code",
   "execution_count": 21,
   "metadata": {},
   "outputs": [
    {
     "name": "stdout",
     "output_type": "stream",
     "text": [
      "7\n",
      "7\n",
      "-1\n"
     ]
    }
   ],
   "source": [
    "str1=\"Runoob example....wow!!!\"\n",
    "str2=\"exam\";\n",
    "print(str1.find(str2)) \n",
    "print(str1.find(str2,5))\n",
    "print(str1.find(str2,10))"
   ]
  },
  {
   "cell_type": "code",
   "execution_count": 25,
   "metadata": {},
   "outputs": [
    {
     "name": "stdout",
     "output_type": "stream",
     "text": [
      "['Google', 'Runoob', 'Taobao', 'Facebook']\n",
      "['Google', 'Runoob#Taobao#Facebook']\n"
     ]
    }
   ],
   "source": [
    "txt=\"Google#Runoob#Taobao#Facebook\"\n",
    "print(txt.split('#'))\n",
    "x=txt.split('#',1)\n",
    "print(x)"
   ]
  },
  {
   "cell_type": "code",
   "execution_count": 27,
   "metadata": {},
   "outputs": [
    {
     "name": "stdout",
     "output_type": "stream",
     "text": [
      "菜鸟教程旧址： www.w3cschool.cc\n",
      "菜鸟教程新地址： www.runoob.com\n"
     ]
    }
   ],
   "source": [
    "str1=\"www.w3cschool.cc\"\n",
    "print(\"菜鸟教程旧址：\",str1)\n",
    "print(\"菜鸟教程新地址：\",str1.replace(\"w3cschool.cc\",\"runoob.com\"))"
   ]
  },
  {
   "cell_type": "code",
   "execution_count": 32,
   "metadata": {},
   "outputs": [
    {
     "name": "stdout",
     "output_type": "stream",
     "text": [
      "5\n"
     ]
    }
   ],
   "source": [
    "def max(a,b):\n",
    "    if a>b:\n",
    "        return a\n",
    "    else:\n",
    "        return b\n",
    "a=4\n",
    "b=5\n",
    "print(max(a,b))"
   ]
  },
  {
   "cell_type": "code",
   "execution_count": 36,
   "metadata": {},
   "outputs": [
    {
     "name": "stdout",
     "output_type": "stream",
     "text": [
      "2 1 0\n",
      "[66.25, 333, -1, 333, 1, 1234.5, 333]\n"
     ]
    },
    {
     "data": {
      "text/plain": [
       "1"
      ]
     },
     "execution_count": 36,
     "metadata": {},
     "output_type": "execute_result"
    }
   ],
   "source": [
    "a=[66.25,333,333,1,1234.5]\n",
    "print(a.count(333),a.count(66.25),a.count('x'))\n",
    "a.insert(2,-1)\n",
    "a.append(333)\n",
    "print(a)\n",
    "a.index(333)"
   ]
  },
  {
   "cell_type": "code",
   "execution_count": 37,
   "metadata": {},
   "outputs": [
    {
     "name": "stdout",
     "output_type": "stream",
     "text": [
      "[3, 4, 5, 6, 7]\n"
     ]
    }
   ],
   "source": [
    "stack=[3,4,5]\n",
    "stack.append(6)\n",
    "stack.append(7)\n",
    "print(stack)"
   ]
  },
  {
   "cell_type": "code",
   "execution_count": 38,
   "metadata": {},
   "outputs": [
    {
     "data": {
      "text/plain": [
       "[6, 12, 15]"
      ]
     },
     "execution_count": 38,
     "metadata": {},
     "output_type": "execute_result"
    }
   ],
   "source": [
    "vec=[2,4,5]\n",
    "[3*x for x in vec]"
   ]
  },
  {
   "cell_type": "code",
   "execution_count": 39,
   "metadata": {},
   "outputs": [
    {
     "data": {
      "text/plain": [
       "['banana', 'loganberry', 'passion fruit']"
      ]
     },
     "execution_count": 39,
     "metadata": {},
     "output_type": "execute_result"
    }
   ],
   "source": [
    "freshfruit=['banana','loganberry','passion fruit']\n",
    "[weapon.strip() for weapon in freshfruit]"
   ]
  },
  {
   "cell_type": "code",
   "execution_count": 40,
   "metadata": {},
   "outputs": [
    {
     "data": {
      "text/plain": [
       "[8, 6, -18, 16, 12, -36, 24, 18, -54]"
      ]
     },
     "execution_count": 40,
     "metadata": {},
     "output_type": "execute_result"
    }
   ],
   "source": [
    "vec1=[2,4,6]\n",
    "vec2=[4,3,-9]\n",
    "[x*y for x in vec1 for y in vec2]"
   ]
  },
  {
   "cell_type": "code",
   "execution_count": 41,
   "metadata": {},
   "outputs": [
    {
     "data": {
      "text/plain": [
       "[[1, 5, 9], [2, 6, 10], [3, 7, 11], [4, 8, 12]]"
      ]
     },
     "execution_count": 41,
     "metadata": {},
     "output_type": "execute_result"
    }
   ],
   "source": [
    "matrix=[\n",
    "    [1,2,3,4],\n",
    "    [5,6,7,8],\n",
    "    [9,10,11,12],\n",
    "]\n",
    "[[row[i] for row in matrix]for i in range(4)]"
   ]
  },
  {
   "cell_type": "code",
   "execution_count": 43,
   "metadata": {},
   "outputs": [
    {
     "data": {
      "text/plain": [
       "[1, 66.25, 333, 333, 1234.5]"
      ]
     },
     "execution_count": 43,
     "metadata": {},
     "output_type": "execute_result"
    }
   ],
   "source": [
    "a = [-1, 1, 66.25, 333, 333, 1234.5]\n",
    "del a[0]\n",
    "a"
   ]
  },
  {
   "cell_type": "code",
   "execution_count": 44,
   "metadata": {},
   "outputs": [
    {
     "name": "stdout",
     "output_type": "stream",
     "text": [
      "{'apple', 'pear', 'orange', 'banana'}\n"
     ]
    },
    {
     "data": {
      "text/plain": [
       "False"
      ]
     },
     "execution_count": 44,
     "metadata": {},
     "output_type": "execute_result"
    }
   ],
   "source": [
    "basket ={'apple','orange','apple','pear','orange','banana'}\n",
    "print(basket)\n",
    "'orange'in basket\n",
    "'crabgrass'in basket"
   ]
  },
  {
   "cell_type": "code",
   "execution_count": 47,
   "metadata": {},
   "outputs": [
    {
     "name": "stdout",
     "output_type": "stream",
     "text": [
      "{'c', 'a', 'r', 'b', 'd'}\n",
      "{'b', 'r', 'd'}\n",
      "{'c', 'a', 'r', 'm', 'b', 'l', 'd', 'z'}\n"
     ]
    }
   ],
   "source": [
    "a=set('abracadabra')\n",
    "b=set('alacazam')\n",
    "print(a)\n",
    "print(a-b)\n",
    "print(a|b)"
   ]
  },
  {
   "cell_type": "code",
   "execution_count": 51,
   "metadata": {},
   "outputs": [
    {
     "name": "stdout",
     "output_type": "stream",
     "text": [
      "{'jack': 4098, 'sape': 4139, 'guido': 4127}\n",
      "4098\n"
     ]
    }
   ],
   "source": [
    "tel = {'jack': 4098, 'sape': 4139}\n",
    "tel['guido'] = 4127\n",
    "print(tel)\n",
    "print(tel['jack'])"
   ]
  },
  {
   "cell_type": "code",
   "execution_count": 52,
   "metadata": {},
   "outputs": [
    {
     "data": {
      "text/plain": [
       "'Eric'"
      ]
     },
     "execution_count": 52,
     "metadata": {},
     "output_type": "execute_result"
    }
   ],
   "source": [
    "from collections import deque\n",
    "queue = deque([\"Eric\", \"John\", \"Michael\"])\n",
    "queue.append(\"Terry\")           \n",
    "queue.append(\"Graham\")          \n",
    "queue.popleft()   "
   ]
  },
  {
   "cell_type": "code",
   "execution_count": 53,
   "metadata": {},
   "outputs": [
    {
     "name": "stdout",
     "output_type": "stream",
     "text": [
      "请输入：xjtu\n",
      "你输入的内容是:  xjtu\n"
     ]
    }
   ],
   "source": [
    "str = input(\"请输入：\");\n",
    "print (\"你输入的内容是: \", str)"
   ]
  },
  {
   "cell_type": "code",
   "execution_count": 54,
   "metadata": {},
   "outputs": [
    {
     "name": "stdout",
     "output_type": "stream",
     "text": [
      "输入 a: 1\n",
      "输入 b: 5\n",
      "输入 c: 6\n",
      "结果为 (-3+0j) 和 (-2+0j)\n"
     ]
    }
   ],
   "source": [
    "import cmath \n",
    "a = float(input('输入 a: '))\n",
    "b = float(input('输入 b: '))\n",
    "c = float(input('输入 c: '))\n",
    "d = (b**2) - (4*a*c)\n",
    "sol1 = (-b-cmath.sqrt(d))/(2*a)\n",
    "sol2 = (-b+cmath.sqrt(d))/(2*a)\n",
    "print('结果为 {0} 和 {1}'.format(sol1,sol2))"
   ]
  },
  {
   "cell_type": "code",
   "execution_count": 56,
   "metadata": {},
   "outputs": [
    {
     "name": "stdout",
     "output_type": "stream",
     "text": [
      "5\n"
     ]
    }
   ],
   "source": [
    "import random\n",
    "print(random.randint(0,9))"
   ]
  },
  {
   "cell_type": "code",
   "execution_count": 57,
   "metadata": {},
   "outputs": [
    {
     "name": "stdout",
     "output_type": "stream",
     "text": [
      "输入一个年份: 2000\n",
      "2000 是闰年\n"
     ]
    }
   ],
   "source": [
    "year = int(input(\"输入一个年份: \"))\n",
    "if (year % 4) == 0:\n",
    "   if (year % 100) == 0:\n",
    "       if (year % 400) == 0:\n",
    "           print(\"{0} 是闰年\".format(year))   \n",
    "       else:\n",
    "           print(\"{0} 不是闰年\".format(year))\n",
    "   else:\n",
    "       print(\"{0} 是闰年\".format(year))       \n",
    "else:\n",
    "   print(\"{0} 不是闰年\".format(year))"
   ]
  },
  {
   "cell_type": "code",
   "execution_count": 60,
   "metadata": {},
   "outputs": [
    {
     "name": "stdout",
     "output_type": "stream",
     "text": [
      "请输入一个数字: 1\n",
      "1 不是质数\n"
     ]
    }
   ],
   "source": [
    "num = int(input(\"请输入一个数字: \"))\n",
    "if num > 1:\n",
    "   for i in range(2,num):\n",
    "       if (num % i) == 0:\n",
    "           print(num,\"不是质数\")\n",
    "           print(i,\"乘于\",num//i,\"是\",num)\n",
    "           break\n",
    "   else:\n",
    "       print(num,\"是质数\")\n",
    "\n",
    "else:\n",
    "   print(num,\"不是质数\")"
   ]
  },
  {
   "cell_type": "code",
   "execution_count": 61,
   "metadata": {},
   "outputs": [
    {
     "name": "stdout",
     "output_type": "stream",
     "text": [
      "输入摄氏温度: 22\n",
      "22.0 摄氏温度转为华氏温度为 71.6 \n"
     ]
    }
   ],
   "source": [
    "celsius = float(input('输入摄氏温度: '))\n",
    "fahrenheit = (celsius * 1.8) + 32\n",
    "print('%0.1f 摄氏温度转为华氏温度为 %0.1f ' %(celsius,fahrenheit))"
   ]
  },
  {
   "cell_type": "code",
   "execution_count": 62,
   "metadata": {},
   "outputs": [
    {
     "name": "stdout",
     "output_type": "stream",
     "text": [
      "您要输出几项? 5\n",
      "斐波那契数列:\n",
      "0\n",
      "1\n",
      "1\n",
      "2\n",
      "3\n"
     ]
    }
   ],
   "source": [
    "def recur_fibo(n):\n",
    "   if n <= 1:\n",
    "       return n\n",
    "   else:\n",
    "       return(recur_fibo(n-1) + recur_fibo(n-2))\n",
    "nterms = int(input(\"您要输出几项? \"))\n",
    "if nterms <= 0:\n",
    "   print(\"输入正数\")\n",
    "else:\n",
    "   print(\"斐波那契数列:\")\n",
    "   for i in range(nterms):\n",
    "       print(recur_fibo(i))"
   ]
  },
  {
   "cell_type": "code",
   "execution_count": 67,
   "metadata": {},
   "outputs": [
    {
     "name": "stdout",
     "output_type": "stream",
     "text": [
      "输入一个数字: 222\n",
      "222 是偶数\n"
     ]
    }
   ],
   "source": [
    "num = int(input(\"输入一个数字: \"))\n",
    "if (num % 2) == 0:\n",
    "   print(\"{0} 是偶数\".format(num))\n",
    "else:\n",
    "   print(\"{0} 是奇数\".format(num))"
   ]
  },
  {
   "cell_type": "code",
   "execution_count": 73,
   "metadata": {},
   "outputs": [
    {
     "name": "stdout",
     "output_type": "stream",
     "text": [
      "请输入一个数字: 7\n",
      "7 的阶乘为 5040\n"
     ]
    }
   ],
   "source": [
    "num = int(input(\"请输入一个数字: \"))\n",
    "factorial = 1\n",
    "if num < 0:\n",
    "   print(\"抱歉，负数没有阶乘\")\n",
    "elif num == 0:\n",
    "   print(\"0 的阶乘为 1\")\n",
    "else:\n",
    "   for i in range(1,num + 1):\n",
    "       factorial = factorial*i\n",
    "   print(\"%d 的阶乘为 %d\" %(num,factorial))"
   ]
  },
  {
   "cell_type": "code",
   "execution_count": 74,
   "metadata": {},
   "outputs": [
    {
     "name": "stdout",
     "output_type": "stream",
     "text": [
      "输入第一个数字: 11\n",
      "输入第二个数字: 22\n",
      "11 和 22 的最大公约数为 11\n"
     ]
    }
   ],
   "source": [
    "def hcf(x, y):\n",
    "   if x > y:\n",
    "       smaller = y\n",
    "   else:\n",
    "       smaller = x\n",
    "   for i in range(1,smaller + 1):\n",
    "       if((x % i == 0) and (y % i == 0)):\n",
    "           hcf = i\n",
    "   return hcf\n",
    "num1 = int(input(\"输入第一个数字: \"))\n",
    "num2 = int(input(\"输入第二个数字: \"))\n",
    " \n",
    "print( num1,\"和\", num2,\"的最大公约数为\", hcf(num1, num2))"
   ]
  },
  {
   "cell_type": "code",
   "execution_count": 76,
   "metadata": {},
   "outputs": [
    {
     "name": "stdout",
     "output_type": "stream",
     "text": [
      "请输入一个字符: a\n",
      "请输入一个ASCII码: 101\n",
      "a 的ASCII 码为 97\n",
      "101  对应的字符为 e\n"
     ]
    }
   ],
   "source": [
    "c = input(\"请输入一个字符: \")\n",
    "a = int(input(\"请输入一个ASCII码: \"))\n",
    "print( c + \" 的ASCII 码为\", ord(c))\n",
    "print( a , \" 对应的字符为\", chr(a))"
   ]
  },
  {
   "cell_type": "code",
   "execution_count": 77,
   "metadata": {},
   "outputs": [
    {
     "name": "stdout",
     "output_type": "stream",
     "text": [
      "输入区间最小值: 1\n",
      "输入区间最大值: 20\n",
      "2\n",
      "3\n",
      "5\n",
      "7\n",
      "11\n",
      "13\n",
      "17\n",
      "19\n"
     ]
    }
   ],
   "source": [
    "lower = int(input(\"输入区间最小值: \"))\n",
    "upper = int(input(\"输入区间最大值: \")) \n",
    "for num in range(lower,upper + 1):\n",
    "    if num > 1:\n",
    "        for i in range(2,num):\n",
    "            if (num % i) == 0:\n",
    "                break\n",
    "        else:\n",
    "            print(num)"
   ]
  },
  {
   "cell_type": "code",
   "execution_count": null,
   "metadata": {},
   "outputs": [],
   "source": []
  }
 ],
 "metadata": {
  "kernelspec": {
   "display_name": "Python 3",
   "language": "python",
   "name": "python3"
  },
  "language_info": {
   "codemirror_mode": {
    "name": "ipython",
    "version": 3
   },
   "file_extension": ".py",
   "mimetype": "text/x-python",
   "name": "python",
   "nbconvert_exporter": "python",
   "pygments_lexer": "ipython3",
   "version": "3.8.5"
  }
 },
 "nbformat": 4,
 "nbformat_minor": 4
}
