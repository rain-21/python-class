{
 "cells": [
  {
   "cell_type": "code",
   "execution_count": 1,
   "metadata": {},
   "outputs": [],
   "source": [
    "import numpy as np"
   ]
  },
  {
   "cell_type": "code",
   "execution_count": 2,
   "metadata": {},
   "outputs": [],
   "source": [
    "a = [1,2,3,4,5,6]"
   ]
  },
  {
   "cell_type": "code",
   "execution_count": 3,
   "metadata": {},
   "outputs": [],
   "source": [
    "b = np.array(a)"
   ]
  },
  {
   "cell_type": "code",
   "execution_count": 4,
   "metadata": {},
   "outputs": [
    {
     "name": "stdout",
     "output_type": "stream",
     "text": [
      "[1, 2, 3, 4, 5, 6]\n",
      "<class 'list'>\n",
      "[1 2 3 4 5 6]\n",
      "<class 'numpy.ndarray'>\n"
     ]
    }
   ],
   "source": [
    "print(a)\n",
    "print(type(a))\n",
    "print(b)\n",
    "print(type(b))"
   ]
  },
  {
   "cell_type": "code",
   "execution_count": 7,
   "metadata": {},
   "outputs": [],
   "source": [
    "#list可放不同类型数据 array只能放数字，计算效率高\n",
    "a = np.array([1,2,3])"
   ]
  },
  {
   "cell_type": "code",
   "execution_count": 8,
   "metadata": {},
   "outputs": [
    {
     "name": "stdout",
     "output_type": "stream",
     "text": [
      "[1 2 3]\n",
      "[1 2 3]\n"
     ]
    }
   ],
   "source": [
    "b = np.asarray([1,2,3])\n",
    "print(a)\n",
    "print(b)"
   ]
  },
  {
   "cell_type": "code",
   "execution_count": 13,
   "metadata": {},
   "outputs": [
    {
     "data": {
      "text/plain": [
       "array([[1, 2, 3],\n",
       "       [4, 5, 6]])"
      ]
     },
     "execution_count": 13,
     "metadata": {},
     "output_type": "execute_result"
    }
   ],
   "source": [
    "np.array([[1,2,3], [4,5,6]])"
   ]
  },
  {
   "cell_type": "code",
   "execution_count": 14,
   "metadata": {},
   "outputs": [
    {
     "data": {
      "text/plain": [
       "array([[0., 0., 0.],\n",
       "       [0., 0., 0.],\n",
       "       [0., 0., 0.]])"
      ]
     },
     "execution_count": 14,
     "metadata": {},
     "output_type": "execute_result"
    }
   ],
   "source": [
    "np.zeros((3,3))"
   ]
  },
  {
   "cell_type": "code",
   "execution_count": 15,
   "metadata": {},
   "outputs": [
    {
     "data": {
      "text/plain": [
       "array([[1., 1., 1.],\n",
       "       [1., 1., 1.]])"
      ]
     },
     "execution_count": 15,
     "metadata": {},
     "output_type": "execute_result"
    }
   ],
   "source": [
    "np.ones((2,3))"
   ]
  },
  {
   "cell_type": "code",
   "execution_count": 16,
   "metadata": {},
   "outputs": [
    {
     "data": {
      "text/plain": [
       "array([[4, 4, 4],\n",
       "       [4, 4, 4]])"
      ]
     },
     "execution_count": 16,
     "metadata": {},
     "output_type": "execute_result"
    }
   ],
   "source": [
    "np.full((2,3),4)"
   ]
  },
  {
   "cell_type": "code",
   "execution_count": 17,
   "metadata": {},
   "outputs": [],
   "source": [
    "a1 = np.array([[1,2,3],[4,5,6]])\n",
    "a2 = np.array([[6,5],[4,3],[2,1]])"
   ]
  },
  {
   "cell_type": "code",
   "execution_count": 18,
   "metadata": {},
   "outputs": [
    {
     "name": "stdout",
     "output_type": "stream",
     "text": [
      "(2, 3)\n"
     ]
    }
   ],
   "source": [
    "print(a1.shape)"
   ]
  },
  {
   "cell_type": "code",
   "execution_count": 19,
   "metadata": {},
   "outputs": [
    {
     "data": {
      "text/plain": [
       "array([1, 2, 3])"
      ]
     },
     "execution_count": 19,
     "metadata": {},
     "output_type": "execute_result"
    }
   ],
   "source": [
    "np.array([1,2,3,4,5,6])[:3]"
   ]
  },
  {
   "cell_type": "code",
   "execution_count": 21,
   "metadata": {},
   "outputs": [
    {
     "data": {
      "text/plain": [
       "array([[1],\n",
       "       [4]])"
      ]
     },
     "execution_count": 21,
     "metadata": {},
     "output_type": "execute_result"
    }
   ],
   "source": [
    "a1[:2,:1]"
   ]
  },
  {
   "cell_type": "code",
   "execution_count": 22,
   "metadata": {},
   "outputs": [
    {
     "data": {
      "text/plain": [
       "array([ 4, 10, 18])"
      ]
     },
     "execution_count": 22,
     "metadata": {},
     "output_type": "execute_result"
    }
   ],
   "source": [
    "np.array([1,2,3])*np.array([4,5,6])"
   ]
  },
  {
   "cell_type": "code",
   "execution_count": 23,
   "metadata": {},
   "outputs": [
    {
     "data": {
      "text/plain": [
       "array([[20, 14],\n",
       "       [56, 41]])"
      ]
     },
     "execution_count": 23,
     "metadata": {},
     "output_type": "execute_result"
    }
   ],
   "source": [
    "np.dot(a1,a2)"
   ]
  },
  {
   "cell_type": "code",
   "execution_count": 24,
   "metadata": {},
   "outputs": [
    {
     "data": {
      "text/plain": [
       "array([[20, 14],\n",
       "       [56, 41]])"
      ]
     },
     "execution_count": 24,
     "metadata": {},
     "output_type": "execute_result"
    }
   ],
   "source": [
    "a1.dot(a2)"
   ]
  },
  {
   "cell_type": "code",
   "execution_count": 25,
   "metadata": {},
   "outputs": [
    {
     "data": {
      "text/plain": [
       "21"
      ]
     },
     "execution_count": 25,
     "metadata": {},
     "output_type": "execute_result"
    }
   ],
   "source": [
    "np.sum(a1)"
   ]
  },
  {
   "cell_type": "code",
   "execution_count": 26,
   "metadata": {},
   "outputs": [
    {
     "data": {
      "text/plain": [
       "array([5, 7, 9])"
      ]
     },
     "execution_count": 26,
     "metadata": {},
     "output_type": "execute_result"
    }
   ],
   "source": [
    "np.sum(a1,axis=0)"
   ]
  },
  {
   "cell_type": "code",
   "execution_count": 27,
   "metadata": {},
   "outputs": [
    {
     "data": {
      "text/plain": [
       "array([ 6, 15])"
      ]
     },
     "execution_count": 27,
     "metadata": {},
     "output_type": "execute_result"
    }
   ],
   "source": [
    "np.sum(a1,axis=1)"
   ]
  },
  {
   "cell_type": "code",
   "execution_count": 29,
   "metadata": {},
   "outputs": [
    {
     "name": "stdout",
     "output_type": "stream",
     "text": [
      "[[1 2 3]\n",
      " [4 5 6]]\n",
      "6\n",
      "[4 5 6]\n",
      "[3 6]\n"
     ]
    }
   ],
   "source": [
    "print(a1)\n",
    "print(np.max(a1))\n",
    "print(np.max(a1,axis=0))\n",
    "print(np.max(a1,axis=1))"
   ]
  },
  {
   "cell_type": "code",
   "execution_count": 30,
   "metadata": {},
   "outputs": [
    {
     "name": "stdout",
     "output_type": "stream",
     "text": [
      "[[6 5]\n",
      " [4 3]\n",
      " [2 1]]\n",
      "[[ True  True]\n",
      " [ True  True]\n",
      " [ True False]]\n"
     ]
    }
   ],
   "source": [
    "print(a2)\n",
    "print((a2>1))"
   ]
  },
  {
   "cell_type": "code",
   "execution_count": 31,
   "metadata": {},
   "outputs": [
    {
     "name": "stdout",
     "output_type": "stream",
     "text": [
      "[6 5 4 3 2]\n"
     ]
    }
   ],
   "source": [
    "print(a2[a2>1])"
   ]
  },
  {
   "cell_type": "code",
   "execution_count": 32,
   "metadata": {},
   "outputs": [
    {
     "data": {
      "text/plain": [
       "6"
      ]
     },
     "execution_count": 32,
     "metadata": {},
     "output_type": "execute_result"
    }
   ],
   "source": [
    "np.size(a2)"
   ]
  },
  {
   "cell_type": "code",
   "execution_count": 33,
   "metadata": {},
   "outputs": [
    {
     "data": {
      "text/plain": [
       "array([[6, 5, 4],\n",
       "       [3, 2, 1]])"
      ]
     },
     "execution_count": 33,
     "metadata": {},
     "output_type": "execute_result"
    }
   ],
   "source": [
    "a2.reshape(2,3)"
   ]
  },
  {
   "cell_type": "code",
   "execution_count": 34,
   "metadata": {},
   "outputs": [
    {
     "data": {
      "text/plain": [
       "6"
      ]
     },
     "execution_count": 34,
     "metadata": {},
     "output_type": "execute_result"
    }
   ],
   "source": [
    "np.size(a2)"
   ]
  },
  {
   "cell_type": "code",
   "execution_count": 46,
   "metadata": {},
   "outputs": [
    {
     "name": "stderr",
     "output_type": "stream",
     "text": [
      "E:\\python\\Anaconda3\\lib\\site-packages\\ipykernel_launcher.py:1: DeprecationWarning: Non-string object detected for the array ordering. Please pass in 'C', 'F', 'A', or 'K' instead\n",
      "  \"\"\"Entry point for launching an IPython kernel.\n"
     ]
    },
    {
     "data": {
      "text/plain": [
       "array([6, 4, 2, 5, 3, 1])"
      ]
     },
     "execution_count": 46,
     "metadata": {},
     "output_type": "execute_result"
    }
   ],
   "source": [
    "a2.flatten([a2])"
   ]
  },
  {
   "cell_type": "code",
   "execution_count": 50,
   "metadata": {},
   "outputs": [
    {
     "name": "stdout",
     "output_type": "stream",
     "text": [
      "[[6 5]\n",
      " [4 3]\n",
      " [2 1]]\n"
     ]
    },
    {
     "data": {
      "text/plain": [
       "array([[6, 5, 4, 3, 2, 1]])"
      ]
     },
     "execution_count": 50,
     "metadata": {},
     "output_type": "execute_result"
    }
   ],
   "source": [
    "print(a2)\n",
    "a2.reshape(1,6)"
   ]
  },
  {
   "cell_type": "code",
   "execution_count": 53,
   "metadata": {},
   "outputs": [
    {
     "name": "stdout",
     "output_type": "stream",
     "text": [
      "[[6 5 4]\n",
      " [3 2 1]]\n",
      "[[[6]\n",
      "  [5]\n",
      "  [4]]\n",
      "\n",
      " [[3]\n",
      "  [2]\n",
      "  [1]]]\n"
     ]
    }
   ],
   "source": [
    "print(a2.reshape(2,3))\n",
    "print(a2.reshape(2,3,1))"
   ]
  },
  {
   "cell_type": "code",
   "execution_count": 54,
   "metadata": {},
   "outputs": [
    {
     "data": {
      "text/plain": [
       "array([1])"
      ]
     },
     "execution_count": 54,
     "metadata": {},
     "output_type": "execute_result"
    }
   ],
   "source": [
    "a2.reshape(2,3,1)[1,2,:]"
   ]
  },
  {
   "cell_type": "code",
   "execution_count": 55,
   "metadata": {},
   "outputs": [
    {
     "name": "stdout",
     "output_type": "stream",
     "text": [
      "[0 1 2 3 4 5 6 7 8 9]\n"
     ]
    }
   ],
   "source": [
    "a = np.arange(10)\n",
    "print(a)"
   ]
  },
  {
   "cell_type": "code",
   "execution_count": 56,
   "metadata": {},
   "outputs": [
    {
     "data": {
      "text/plain": [
       "numpy.ndarray"
      ]
     },
     "execution_count": 56,
     "metadata": {},
     "output_type": "execute_result"
    }
   ],
   "source": [
    "type(a)"
   ]
  },
  {
   "cell_type": "code",
   "execution_count": 57,
   "metadata": {},
   "outputs": [],
   "source": [
    "a = np.arange(16).reshape(4,4)"
   ]
  },
  {
   "cell_type": "code",
   "execution_count": 58,
   "metadata": {},
   "outputs": [
    {
     "data": {
      "text/plain": [
       "array([[ 0,  1,  2,  3],\n",
       "       [ 4,  5,  6,  7],\n",
       "       [ 8,  9, 10, 11],\n",
       "       [12, 13, 14, 15]])"
      ]
     },
     "execution_count": 58,
     "metadata": {},
     "output_type": "execute_result"
    }
   ],
   "source": [
    "a"
   ]
  },
  {
   "cell_type": "code",
   "execution_count": 59,
   "metadata": {},
   "outputs": [
    {
     "data": {
      "text/plain": [
       "array([0, 1, 2, 1])"
      ]
     },
     "execution_count": 59,
     "metadata": {},
     "output_type": "execute_result"
    }
   ],
   "source": [
    "x = np.array([0,1,2,1])\n",
    "x"
   ]
  },
  {
   "cell_type": "code",
   "execution_count": 60,
   "metadata": {},
   "outputs": [
    {
     "data": {
      "text/plain": [
       "array([False,  True, False,  True])"
      ]
     },
     "execution_count": 60,
     "metadata": {},
     "output_type": "execute_result"
    }
   ],
   "source": [
    "x == 1"
   ]
  },
  {
   "cell_type": "code",
   "execution_count": 61,
   "metadata": {},
   "outputs": [
    {
     "data": {
      "text/plain": [
       "array([[ 4,  5,  6,  7],\n",
       "       [12, 13, 14, 15]])"
      ]
     },
     "execution_count": 61,
     "metadata": {},
     "output_type": "execute_result"
    }
   ],
   "source": [
    "a[x == 1]"
   ]
  },
  {
   "cell_type": "code",
   "execution_count": 62,
   "metadata": {},
   "outputs": [
    {
     "data": {
      "text/plain": [
       "1"
      ]
     },
     "execution_count": 62,
     "metadata": {},
     "output_type": "execute_result"
    }
   ],
   "source": [
    "a[0,1]"
   ]
  },
  {
   "cell_type": "code",
   "execution_count": 63,
   "metadata": {},
   "outputs": [
    {
     "data": {
      "text/plain": [
       "array([], shape=(0, 4, 4), dtype=int32)"
      ]
     },
     "execution_count": 63,
     "metadata": {},
     "output_type": "execute_result"
    }
   ],
   "source": [
    "a[False,True]"
   ]
  },
  {
   "cell_type": "code",
   "execution_count": 68,
   "metadata": {},
   "outputs": [],
   "source": [
    "import matplotlib.pyplot as plt"
   ]
  },
  {
   "cell_type": "code",
   "execution_count": 65,
   "metadata": {},
   "outputs": [],
   "source": [
    "x = np.linspace(0,np.pi*2,200)"
   ]
  },
  {
   "cell_type": "code",
   "execution_count": 66,
   "metadata": {},
   "outputs": [],
   "source": [
    "c,s = np.cos(x),np.sin(x)"
   ]
  },
  {
   "cell_type": "code",
   "execution_count": 69,
   "metadata": {},
   "outputs": [
    {
     "data": {
      "image/png": "[encoded data removed]",
      "text/plain": [
       "<Figure size 432x288 with 1 Axes>"
      ]
     },
     "metadata": {},
     "output_type": "display_data"
    }
   ],
   "source": [
    "plt.plot(x,c)\n",
    "plt.plot(x,s)\n",
    "plt.show()"
   ]
  },
  {
   "cell_type": "code",
   "execution_count": 77,
   "metadata": {},
   "outputs": [
    {
     "data": {
      "image/png": "[encoded data removed]",
      "text/plain": [
       "<Figure size 432x288 with 1 Axes>"
      ]
     },
     "metadata": {},
     "output_type": "display_data"
    }
   ],
   "source": [
    "plt.plot(x,c,color = 'blue',linewidth = 2, linestyle='-')\n",
    "plt.plot(x,s,color = 'red', linewidth = 2, linestyle='-')\n",
    "plt.show()"
   ]
  },
  {
   "cell_type": "code",
   "execution_count": 86,
   "metadata": {},
   "outputs": [],
   "source": [
    "x = np.arange(10)\n",
    "y = np.random.rand(10)*100"
   ]
  },
  {
   "cell_type": "code",
   "execution_count": 87,
   "metadata": {},
   "outputs": [
    {
     "name": "stdout",
     "output_type": "stream",
     "text": [
      "[0 1 2 3 4 5 6 7 8 9]\n",
      "[65.67413688  1.28840619 19.61071146 39.92152265 14.14503009 87.55434315\n",
      " 50.70111084  2.01175042 19.11047858 96.70693573]\n"
     ]
    }
   ],
   "source": [
    "print(x)\n",
    "print(y)"
   ]
  },
  {
   "cell_type": "code",
   "execution_count": 88,
   "metadata": {},
   "outputs": [
    {
     "data": {
      "text/plain": [
       "<Figure size 1600x640 with 0 Axes>"
      ]
     },
     "execution_count": 88,
     "metadata": {},
     "output_type": "execute_result"
    },
    {
     "data": {
      "text/plain": [
       "<Figure size 1600x640 with 0 Axes>"
      ]
     },
     "metadata": {},
     "output_type": "display_data"
    }
   ],
   "source": [
    "plt.figure(figsize = (20,8),dpi = 80)"
   ]
  },
  {
   "cell_type": "code",
   "execution_count": 91,
   "metadata": {},
   "outputs": [
    {
     "data": {
      "text/plain": [
       "<BarContainer object of 10 artists>"
      ]
     },
     "execution_count": 91,
     "metadata": {},
     "output_type": "execute_result"
    },
    {
     "data": {
      "image/png": "[encoded data removed]",
      "text/plain": [
       "<Figure size 432x288 with 1 Axes>"
      ]
     },
     "metadata": {},
     "output_type": "display_data"
    }
   ],
   "source": [
    "plt.bar(range(len(x)),y,width=0.3)"
   ]
  },
  {
   "cell_type": "code",
   "execution_count": 92,
   "metadata": {},
   "outputs": [
    {
     "data": {
      "image/png": "[encoded data removed]",
      "text/plain": [
       "<Figure size 432x288 with 1 Axes>"
      ]
     },
     "metadata": {},
     "output_type": "display_data"
    }
   ],
   "source": [
    "plt.grid(0.3)"
   ]
  },
  {
   "cell_type": "code",
   "execution_count": 93,
   "metadata": {},
   "outputs": [
    {
     "data": {
      "image/png": "[encoded data removed]",
      "text/plain": [
       "<Figure size 432x288 with 1 Axes>"
      ]
     },
     "metadata": {},
     "output_type": "display_data"
    }
   ],
   "source": [
    "plt.bar(range(len(x)),y,width=0.3)\n",
    "plt.grid(0.3)\n",
    "plt.ylabel('Y')\n",
    "plt.xlabel('X')\n",
    "plt.title('TEST')\n",
    "plt.show()"
   ]
  },
  {
   "cell_type": "code",
   "execution_count": 97,
   "metadata": {},
   "outputs": [],
   "source": [
    "import numpy as np\n",
    "from keras.models import Sequential\n",
    "from keras.layers import Dense,Dropout,Flatten,Conv1D,MaxPooling1D,BatchNormalization,Activation\n",
    "import matplotlib.pyplot as plt\n",
    "import pandas as pd"
   ]
  },
  {
   "cell_type": "code",
   "execution_count": 98,
   "metadata": {},
   "outputs": [],
   "source": [
    "def data_pre(data, label):\n",
    "    a = np.loadtxt(data)\n",
    "    b = np.hstack((a[0:70000], a[100:70100]))\n",
    "    b = np.hstack((b, a[200:70200]))\n",
    "    b = np.hstack((b, a[300:70300]))\n",
    "    b = np.hstack((b, a[400:70400]))\n",
    "    b = np.hstack((b, a[500:70500]))\n",
    "    b = np.hstack((b, a[600:70600]))\n",
    "    b = np.hstack((b, a[700:70700]))\n",
    "    b = np.hstack((b, a[800:70800]))\n",
    "    b = np.hstack((b, a[900:70900]))\n",
    "    b = np.hstack((b, a[1000:71000]))\n",
    "    b = np.hstack((b, a[1100:71100]))\n",
    "    b = np.hstack((b, a[1200:71200]))\n",
    "    b = np.hstack((b, a[1300:71300]))\n",
    "    b = np.hstack((b, a[1400:71400]))\n",
    "    b = np.hstack((b, a[1500:71500]))\n",
    "    b = np.hstack((b, a[1600:71600]))\n",
    "    b = np.hstack((b, a[1700:71700]))\n",
    "    b = np.hstack((b, a[1800:71800]))\n",
    "    b = np.hstack((b, a[1900:71900]))\n",
    "    b = b[0:1398784]\n",
    "    c = b.reshape(683, 2048)\n",
    "    np.random.shuffle(c)\n",
    "    train = c[:600, :]\n",
    "    test = c[600:, :]\n",
    "    label_train = np.array([label for i in range(0, 600)])\n",
    "    label_test = np.array([label for i in range(0, 83)])\n",
    "    return train, test, label_train, label_test"
   ]
  },
  {
   "cell_type": "code",
   "execution_count": 99,
   "metadata": {},
   "outputs": [],
   "source": [
    "def stackkk(a, b, c, d, e, f, g, h):\n",
    "    aa = np.vstack((a, e))\n",
    "    bb = np.vstack((b, f))\n",
    "    cc = np.hstack((c, g))\n",
    "    dd = np.hstack((d, h))\n",
    "    return aa, bb, cc, dd"
   ]
  },
  {
   "cell_type": "code",
   "execution_count": 100,
   "metadata": {},
   "outputs": [],
   "source": [
    "x_tra0, x_tes0, y_tra0, y_tes0 = data_pre('C:\\\\Users\\\\Li\\\\Desktop\\\\信号处理大作业\\\\CNN\\\\n2.txt', 0)      #正常\n",
    "x_tra1, x_tes1, y_tra1, y_tes1 = data_pre('C:\\\\Users\\\\Li\\\\Desktop\\\\信号处理大作业\\\\CNN\\\\b_s2.txt', 1)    #滚动体轻微\n",
    "x_tra2, x_tes2, y_tra2, y_tes2 = data_pre('C:\\\\Users\\\\Li\\\\Desktop\\\\信号处理大作业\\\\CNN\\\\b_m2.txt', 2)    #滚动体严重\n",
    "x_tra3, x_tes3, y_tra3, y_tes3 = data_pre('C:\\\\Users\\\\Li\\\\Desktop\\\\信号处理大作业\\\\CNN\\\\i_s2.txt', 3)    #内圈轻微\n",
    "x_tra4, x_tes4, y_tra4, y_tes4 = data_pre('C:\\\\Users\\\\Li\\\\Desktop\\\\信号处理大作业\\\\CNN\\\\i_m2.txt', 4)    #内圈严重\n",
    "x_tra5, x_tes5, y_tra5, y_tes5 = data_pre('C:\\\\Users\\\\Li\\\\Desktop\\\\信号处理大作业\\\\CNN\\\\o_s2.txt', 5)    #外圈轻微\n",
    "x_tra6, x_tes6, y_tra6, y_tes6 = data_pre('C:\\\\Users\\\\Li\\\\Desktop\\\\信号处理大作业\\\\CNN\\\\o_m2.txt', 6)    #外圈严重\n",
    "x_tra7, x_tes7, y_tra7, y_tes7 = data_pre('C:\\\\Users\\\\Li\\\\Desktop\\\\信号处理大作业\\\\CNN\\\\h_s2.txt', 7)    #保持架轻微\n",
    "x_tra8, x_tes8, y_tra8, y_tes8 = data_pre('C:\\\\Users\\\\Li\\\\Desktop\\\\信号处理大作业\\\\CNN\\\\h_m2.txt', 8)    #保持架严重"
   ]
  },
  {
   "cell_type": "code",
   "execution_count": 101,
   "metadata": {},
   "outputs": [],
   "source": [
    "tr1, te1, yr1, ye1 = stackkk(x_tra0, x_tes0, y_tra0, y_tes0, x_tra1, x_tes1, y_tra1, y_tes1)\n",
    "tr2, te2, yr2, ye2 = stackkk(tr1, te1, yr1, ye1, x_tra2, x_tes2, y_tra2, y_tes2)\n",
    "tr3, te3, yr3, ye3 = stackkk(tr2, te2, yr2, ye2, x_tra3, x_tes3, y_tra3, y_tes3)\n",
    "tr4, te4, yr4, ye4 = stackkk(tr3, te3, yr3, ye3, x_tra4, x_tes4, y_tra4, y_tes4)\n",
    "tr5, te5, yr5, ye5 = stackkk(tr4, te4, yr4, ye4, x_tra5, x_tes5, y_tra5, y_tes5)\n",
    "tr6, te6, yr6, ye6 = stackkk(tr5, te5, yr5, ye5, x_tra6, x_tes6, y_tra6, y_tes6)\n",
    "tr7, te7, yr7, ye7 = stackkk(tr6, te6, yr6, ye6, x_tra7, x_tes7, y_tra7, y_tes7)\n",
    "tr8, te8, yr8, ye8 = stackkk(tr7, te7, yr7, ye7, x_tra8, x_tes8, y_tra8, y_tes8)"
   ]
  },
  {
   "cell_type": "code",
   "execution_count": 102,
   "metadata": {},
   "outputs": [],
   "source": [
    "data_train = tr8.reshape(5400, 2048, 1)     #训练数据\n",
    "data_test = te8.reshape(747, 2048, 1)       #测试数据\n",
    "label_train = yr8                        #训练标签\n",
    "label_test = ye8                         #测试标签"
   ]
  },
  {
   "cell_type": "code",
   "execution_count": 103,
   "metadata": {},
   "outputs": [],
   "source": [
    "state = np.random.get_state()\n",
    "np.random.shuffle(data_train)\n",
    "np.random.set_state(state)\n",
    "np.random.shuffle(label_train)"
   ]
  },
  {
   "cell_type": "code",
   "execution_count": 104,
   "metadata": {},
   "outputs": [],
   "source": [
    "def to_one_hot(labels, dimension = 9):\n",
    "    results = np.zeros((len(labels), dimension))\n",
    "    for i, label in enumerate(labels):\n",
    "        results[i, label] = 1\n",
    "    return results"
   ]
  },
  {
   "cell_type": "code",
   "execution_count": 105,
   "metadata": {},
   "outputs": [],
   "source": [
    "one_hot_train_label = to_one_hot(label_train)\n",
    "one_hot_test_label = to_one_hot(label_test)"
   ]
  },
  {
   "cell_type": "code",
   "execution_count": 110,
   "metadata": {},
   "outputs": [
    {
     "name": "stdout",
     "output_type": "stream",
     "text": [
      "Train on 3779 samples, validate on 1621 samples\n",
      "Epoch 1/30\n",
      " - 2s - loss: 2.1560 - accuracy: 0.1413 - val_loss: 2.0499 - val_accuracy: 0.2227\n",
      "Epoch 2/30\n",
      " - 1s - loss: 1.9385 - accuracy: 0.2453 - val_loss: 1.6931 - val_accuracy: 0.3078\n",
      "Epoch 3/30\n",
      " - 1s - loss: 1.5280 - accuracy: 0.3818 - val_loss: 1.1109 - val_accuracy: 0.4917\n",
      "Epoch 4/30\n",
      " - 1s - loss: 1.0732 - accuracy: 0.5475 - val_loss: 0.6823 - val_accuracy: 0.8735\n",
      "Epoch 5/30\n",
      " - 1s - loss: 0.7993 - accuracy: 0.6719 - val_loss: 0.4618 - val_accuracy: 0.9543\n",
      "Epoch 6/30\n",
      " - 1s - loss: 0.6165 - accuracy: 0.7560 - val_loss: 0.3641 - val_accuracy: 0.9105\n",
      "Epoch 7/30\n",
      " - 2s - loss: 0.4754 - accuracy: 0.8158 - val_loss: 0.2652 - val_accuracy: 0.9655\n",
      "Epoch 8/30\n",
      " - 1s - loss: 0.3902 - accuracy: 0.8460 - val_loss: 0.2111 - val_accuracy: 0.9796\n",
      "Epoch 9/30\n",
      " - 1s - loss: 0.3097 - accuracy: 0.8854 - val_loss: 0.1679 - val_accuracy: 0.9821\n",
      "Epoch 10/30\n",
      " - 1s - loss: 0.2653 - accuracy: 0.9069 - val_loss: 0.1386 - val_accuracy: 0.9840\n",
      "Epoch 11/30\n",
      " - 1s - loss: 0.2243 - accuracy: 0.9246 - val_loss: 0.1124 - val_accuracy: 0.9877\n",
      "Epoch 12/30\n",
      " - 1s - loss: 0.1900 - accuracy: 0.9394 - val_loss: 0.1058 - val_accuracy: 0.9827\n",
      "Epoch 13/30\n",
      " - 1s - loss: 0.1622 - accuracy: 0.9521 - val_loss: 0.0812 - val_accuracy: 0.9833\n",
      "Epoch 14/30\n",
      " - 1s - loss: 0.1351 - accuracy: 0.9611 - val_loss: 0.0631 - val_accuracy: 0.9914\n",
      "Epoch 15/30\n",
      " - 1s - loss: 0.1263 - accuracy: 0.9640 - val_loss: 0.0510 - val_accuracy: 0.9926\n",
      "Epoch 16/30\n",
      " - 1s - loss: 0.1053 - accuracy: 0.9712 - val_loss: 0.0406 - val_accuracy: 0.9932\n",
      "Epoch 17/30\n",
      " - 1s - loss: 0.0937 - accuracy: 0.9764 - val_loss: 0.0357 - val_accuracy: 0.9926\n",
      "Epoch 18/30\n",
      " - 1s - loss: 0.0784 - accuracy: 0.9817 - val_loss: 0.0290 - val_accuracy: 0.9951\n",
      "Epoch 19/30\n",
      " - 1s - loss: 0.0808 - accuracy: 0.9786 - val_loss: 0.0299 - val_accuracy: 0.9938\n",
      "Epoch 20/30\n",
      " - 1s - loss: 0.0657 - accuracy: 0.9841 - val_loss: 0.0234 - val_accuracy: 0.9938\n",
      "Epoch 21/30\n",
      " - 1s - loss: 0.0619 - accuracy: 0.9868 - val_loss: 0.0190 - val_accuracy: 0.9957\n",
      "Epoch 22/30\n",
      " - 1s - loss: 0.0613 - accuracy: 0.9839 - val_loss: 0.0164 - val_accuracy: 0.9975\n",
      "Epoch 23/30\n",
      " - 1s - loss: 0.0497 - accuracy: 0.9889 - val_loss: 0.0153 - val_accuracy: 0.9981\n",
      "Epoch 24/30\n",
      " - 1s - loss: 0.0467 - accuracy: 0.9873 - val_loss: 0.0144 - val_accuracy: 0.9975\n",
      "Epoch 25/30\n",
      " - 1s - loss: 0.0422 - accuracy: 0.9902 - val_loss: 0.0107 - val_accuracy: 0.9981\n",
      "Epoch 26/30\n",
      " - 2s - loss: 0.0456 - accuracy: 0.9881 - val_loss: 0.0125 - val_accuracy: 0.9963\n",
      "Epoch 27/30\n",
      " - 1s - loss: 0.0394 - accuracy: 0.9907 - val_loss: 0.0115 - val_accuracy: 0.9969\n",
      "Epoch 28/30\n",
      " - 1s - loss: 0.0335 - accuracy: 0.9929 - val_loss: 0.0118 - val_accuracy: 0.9969\n",
      "Epoch 29/30\n",
      " - 1s - loss: 0.0331 - accuracy: 0.9926 - val_loss: 0.0078 - val_accuracy: 0.9981\n",
      "Epoch 30/30\n",
      " - 2s - loss: 0.0377 - accuracy: 0.9889 - val_loss: 0.0071 - val_accuracy: 0.9988\n"
     ]
    }
   ],
   "source": [
    "model = Sequential()\n",
    "model.add(Conv1D(filters=32, kernel_size=112, strides=16,\n",
    "                     padding='same',\n",
    "                     input_shape=(2048, 1),\n",
    "                     activation='relu')),\n",
    "model.add(MaxPooling1D(pool_size=2, strides=2))\n",
    "model.add(Conv1D(filters=64, kernel_size=3, strides=1,activation='relu'))\n",
    "model.add(MaxPooling1D(pool_size=2, strides=2))\n",
    "model.add(Flatten())\n",
    "model.add(Dense(100, activation='relu'))\n",
    "model.add(Dropout(0.5))\n",
    "model.add(Dense(9, activation='softmax'))\n",
    "model.compile(loss='categorical_crossentropy',\n",
    "              optimizer='adam', metrics=['accuracy'])\n",
    "train_history = model.fit(x=data_train, y=one_hot_train_label,\n",
    "                          validation_split=0.3,epochs=30, batch_size=256, verbose=2)"
   ]
  },
  {
   "cell_type": "code",
   "execution_count": 111,
   "metadata": {},
   "outputs": [],
   "source": [
    "def show_train_history(train_history, train, validation):\n",
    "    plt.plot(train_history.history[train])\n",
    "    plt.plot(train_history.history[validation])\n",
    "    plt.ylabel(train,fontsize=14)\n",
    "    plt.xlabel('Epoch',fontsize=14)\n",
    "    plt.xticks(fontsize=14)\n",
    "    plt.yticks(fontsize=14)\n",
    "    plt.legend(['train','validation'],fontsize=14,loc = 'upper left')\n",
    "    plt.show()"
   ]
  },
  {
   "cell_type": "code",
   "execution_count": 112,
   "metadata": {},
   "outputs": [
    {
     "data": {
      "image/png": "[encoded data removed]",
      "text/plain": [
       "<Figure size 432x288 with 1 Axes>"
      ]
     },
     "metadata": {},
     "output_type": "display_data"
    },
    {
     "data": {
      "image/png": "[encoded data removed]",
      "text/plain": [
       "<Figure size 432x288 with 1 Axes>"
      ]
     },
     "metadata": {},
     "output_type": "display_data"
    }
   ],
   "source": [
    "show_train_history(train_history, 'accuracy', 'val_accuracy')\n",
    "show_train_history(train_history, 'loss', 'val_loss')"
   ]
  },
  {
   "cell_type": "code",
   "execution_count": 113,
   "metadata": {},
   "outputs": [],
   "source": [
    "def show_confusion(data,label):\n",
    "    predict = model.predict_classes(data)\n",
    "    cross = pd.crosstab(label,predict,rownames=['label'],colnames=['predict'],normalize='index')\n",
    "    confusion = cross.values\n",
    "    plt.imshow(confusion, cmap=plt.cm.Blues) # 热度图，后面是指定的颜色块，可设置其他的不同颜色\n",
    "    indices = range(len(confusion))\n",
    "    plt.xticks(indices, ['N', 'B_S','B_M', 'I_S','I_M', 'O_S','O_M', 'H_S', 'H_M'],fontsize=14) # 第一个是迭代对象，表示坐标的显示顺序，第二个参数是坐标轴显示列表\n",
    "    plt.yticks(indices, ['N', 'B_S','B_M', 'I_S','I_M', 'O_S','O_M', 'H_S', 'H_M'],fontsize=14)\n",
    "    plt.colorbar()\n",
    "    plt.xlabel('预测值',fontsize=14)\n",
    "    plt.ylabel('真实值',fontsize=14)\n",
    "    plt.rcParams['font.sans-serif']=['SimHei']\n",
    "    plt.rcParams['axes.unicode_minus'] = False\n",
    "    for first_index in range(len(confusion)):    #第几行\n",
    "        for second_index in range(len(confusion[first_index])):    #第几列\n",
    "            plt.text(second_index, first_index,\n",
    "                     round(confusion[first_index][second_index], 2),\n",
    "                     fontsize=12, verticalalignment='center',\n",
    "                     horizontalalignment = 'center')\n",
    "\n",
    "    plt.show()"
   ]
  },
  {
   "cell_type": "code",
   "execution_count": 114,
   "metadata": {},
   "outputs": [
    {
     "data": {
      "image/png": "[encoded data removed]",
      "text/plain": [
       "<Figure size 432x288 with 2 Axes>"
      ]
     },
     "metadata": {},
     "output_type": "display_data"
    },
    {
     "data": {
      "image/png": "[encoded data removed]",
      "text/plain": [
       "<Figure size 432x288 with 2 Axes>"
      ]
     },
     "metadata": {},
     "output_type": "display_data"
    }
   ],
   "source": [
    "show_confusion(data_train, label_train)\n",
    "show_confusion(data_test, label_test)"
   ]
  },
  {
   "cell_type": "code",
   "execution_count": 115,
   "metadata": {},
   "outputs": [
    {
     "name": "stdout",
     "output_type": "stream",
     "text": [
      "Model: \"sequential_3\"\n",
      "_________________________________________________________________\n",
      "Layer (type)                 Output Shape              Param #   \n",
      "=================================================================\n",
      "conv1d_5 (Conv1D)            (None, 128, 32)           3616      \n",
      "_________________________________________________________________\n",
      "max_pooling1d_5 (MaxPooling1 (None, 64, 32)            0         \n",
      "_________________________________________________________________\n",
      "conv1d_6 (Conv1D)            (None, 62, 64)            6208      \n",
      "_________________________________________________________________\n",
      "max_pooling1d_6 (MaxPooling1 (None, 31, 64)            0         \n",
      "_________________________________________________________________\n",
      "flatten_3 (Flatten)          (None, 1984)              0         \n",
      "_________________________________________________________________\n",
      "dense_5 (Dense)              (None, 100)               198500    \n",
      "_________________________________________________________________\n",
      "dropout_3 (Dropout)          (None, 100)               0         \n",
      "_________________________________________________________________\n",
      "dense_6 (Dense)              (None, 9)                 909       \n",
      "=================================================================\n",
      "Total params: 209,233\n",
      "Trainable params: 209,233\n",
      "Non-trainable params: 0\n",
      "_________________________________________________________________\n",
      "None\n"
     ]
    }
   ],
   "source": [
    "print(model.summary())"
   ]
  },
  {
   "cell_type": "code",
   "execution_count": 116,
   "metadata": {},
   "outputs": [
    {
     "name": "stdout",
     "output_type": "stream",
     "text": [
      "test loss: 0.004344928927205387\n",
      "test accuracy: 1.0\n"
     ]
    }
   ],
   "source": [
    "score = model.evaluate(data_test,one_hot_test_label,verbose=0)\n",
    "print('test loss:', score[0])\n",
    "print('test accuracy:', score[1])"
   ]
  },
  {
   "cell_type": "code",
   "execution_count": 118,
   "metadata": {},
   "outputs": [],
   "source": [
    "weights_conv1 = np.array(model.layers[0].get_weights()[0])\n",
    "w_plot = weights_conv1.reshape(112,32)"
   ]
  },
  {
   "cell_type": "code",
   "execution_count": 119,
   "metadata": {},
   "outputs": [
    {
     "name": "stdout",
     "output_type": "stream",
     "text": [
      "[[ 0.09822282 -0.11114343  0.0540104  ...  0.01852186 -0.05839349\n",
      "  -0.08152521]\n",
      " [ 0.02426215  0.08422113 -0.06376061 ... -0.00909474  0.03021294\n",
      "  -0.11036596]\n",
      " [ 0.04257789  0.14140089  0.11164106 ... -0.06432094 -0.08337097\n",
      "  -0.06487703]\n",
      " ...\n",
      " [ 0.0227359  -0.05499585  0.13115975 ... -0.07520883 -0.02373774\n",
      "  -0.07888995]\n",
      " [-0.04277137  0.13861941 -0.10882277 ...  0.06169714 -0.15147032\n",
      "   0.14244562]\n",
      " [-0.06851633  0.0779826   0.02297164 ...  0.09251517  0.02800152\n",
      "  -0.05871999]]\n"
     ]
    }
   ],
   "source": [
    "print(w_plot)"
   ]
  },
  {
   "cell_type": "code",
   "execution_count": 123,
   "metadata": {},
   "outputs": [
    {
     "data": {
      "image/png": "[encoded data removed]",
      "text/plain": [
       "<Figure size 432x288 with 1 Axes>"
      ]
     },
     "metadata": {},
     "output_type": "display_data"
    },
    {
     "data": {
      "image/png": "[encoded data removed]",
      "text/plain": [
       "<Figure size 432x288 with 1 Axes>"
      ]
     },
     "metadata": {},
     "output_type": "display_data"
    }
   ],
   "source": [
    "i=1\n",
    "plt.subplot(4,8,i)\n",
    "plt.plot(w_plot[:,i])\n",
    "plt.show()\n",
    "i+=1\n",
    "plt.subplot(4,8,i)\n",
    "plt.plot(w_plot[:,i])\n",
    "plt.show()"
   ]
  },
  {
   "cell_type": "code",
   "execution_count": null,
   "metadata": {},
   "outputs": [],
   "source": [
    "for i in range(16):\n",
    "    plt.subplot(4,4,i+1)\n",
    "    plt.plot(w_plot[:,i])\n",
    "\n",
    "    \n",
    "plt.imshow"
   ]
  },
  {
   "cell_type": "code",
   "execution_count": null,
   "metadata": {},
   "outputs": [],
   "source": [
    "    fft_w = np.abs(fft(w_plot[:,i]))\n",
    "    plt.plot(fft_w[0:56],'r')"
   ]
  }
 ],
 "metadata": {
  "kernelspec": {
   "display_name": "Python 3",
   "language": "python",
   "name": "python3"
  },
  "language_info": {
   "codemirror_mode": {
    "name": "ipython",
    "version": 3
   },
   "file_extension": ".py",
   "mimetype": "text/x-python",
   "name": "python",
   "nbconvert_exporter": "python",
   "pygments_lexer": "ipython3",
   "version": "3.6.5"
  }
 },
 "nbformat": 4,
 "nbformat_minor": 2
}
