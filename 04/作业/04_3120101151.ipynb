{
 "cells": [
  {
   "cell_type": "code",
   "execution_count": 2,
   "metadata": {},
   "outputs": [
    {
     "name": "stdin",
     "output_type": "stream",
     "text": [
      "输入第一个数字： 1\n",
      "输入第二个数字： 2\n"
     ]
    },
    {
     "name": "stdout",
     "output_type": "stream",
     "text": [
      "数字 1 和 2 相加结果为： 3.0\n"
     ]
    }
   ],
   "source": [
    "# 用户输入数字\n",
    "num1 = input('输入第一个数字：')\n",
    "num2 = input('输入第二个数字：')\n",
    " \n",
    "# 求和\n",
    "sum = float(num1) + float(num2)\n",
    " \n",
    "# 显示计算结果\n",
    "print('数字 {0} 和 {1} 相加结果为： {2}'.format(num1, num2, sum))"
   ]
  },
  {
   "cell_type": "code",
   "execution_count": 3,
   "metadata": {
    "collapsed": true,
    "jupyter": {
     "outputs_hidden": true
    }
   },
   "outputs": [
    {
     "name": "stdin",
     "output_type": "stream",
     "text": [
      "输入第一个数字： 4\n",
      "输入第二个数字： 4\n"
     ]
    },
    {
     "name": "stdout",
     "output_type": "stream",
     "text": [
      "两数之和为 8.0\n"
     ]
    }
   ],
   "source": [
    "print('两数之和为 %.1f' %(float(input('输入第一个数字：'))+float(input('输入第二个数字：'))))"
   ]
  },
  {
   "cell_type": "code",
   "execution_count": 4,
   "metadata": {},
   "outputs": [
    {
     "name": "stdin",
     "output_type": "stream",
     "text": [
      "请输入一个数字：  3\n"
     ]
    },
    {
     "name": "stdout",
     "output_type": "stream",
     "text": [
      " 3.000 的平方根为 1.732\n"
     ]
    }
   ],
   "source": [
    "num = float(input('请输入一个数字： '))\n",
    "num_sqrt = num ** 0.5\n",
    "print(' %0.3f 的平方根为 %0.3f'%(num ,num_sqrt))"
   ]
  },
  {
   "cell_type": "code",
   "execution_count": 1,
   "metadata": {},
   "outputs": [
    {
     "name": "stdin",
     "output_type": "stream",
     "text": [
      "输入 x 值:  4\n",
      "输入 y 值:  5\n"
     ]
    },
    {
     "name": "stdout",
     "output_type": "stream",
     "text": [
      "交换后 x 的值为: 5\n",
      "交换后 y 的值为: 4\n"
     ]
    }
   ],
   "source": [
    "x = input('输入 x 值: ')\n",
    "y = input('输入 y 值: ')\n",
    " \n",
    "# 创建临时变量，并交换\n",
    "temp = x\n",
    "x = y\n",
    "y = temp\n",
    " \n",
    "print('交换后 x 的值为: {}'.format(x))\n",
    "print('交换后 y 的值为: {}'.format(y))"
   ]
  },
  {
   "cell_type": "code",
   "execution_count": 2,
   "metadata": {},
   "outputs": [
    {
     "name": "stdin",
     "output_type": "stream",
     "text": [
      "输入 x 值:  7\n",
      "输入 y 值:  1\n"
     ]
    },
    {
     "name": "stdout",
     "output_type": "stream",
     "text": [
      "交换后 x 的值为: 1\n",
      "交换后 y 的值为: 7\n"
     ]
    }
   ],
   "source": [
    "x = input('输入 x 值: ')\n",
    "y = input('输入 y 值: ')\n",
    " \n",
    "# 不使用临时变量\n",
    "x,y = y,x\n",
    " \n",
    "print('交换后 x 的值为: {}'.format(x))\n",
    "print('交换后 y 的值为: {}'.format(y))"
   ]
  },
  {
   "cell_type": "code",
   "execution_count": 3,
   "metadata": {},
   "outputs": [
    {
     "name": "stdout",
     "output_type": "stream",
     "text": [
      "False\n",
      "True\n",
      "True\n",
      "True\n",
      "True\n",
      "True\n",
      "True\n",
      "True\n",
      "False\n"
     ]
    }
   ],
   "source": [
    "def is_number(s):\n",
    "    try:\n",
    "        float(s)\n",
    "        return True\n",
    "    except ValueError:\n",
    "        pass\n",
    " \n",
    "    try:\n",
    "        import unicodedata\n",
    "        unicodedata.numeric(s)\n",
    "        return True\n",
    "    except (TypeError, ValueError):\n",
    "        pass\n",
    " \n",
    "    return False\n",
    " \n",
    "# 测试字符串和数字\n",
    "print(is_number('foo'))   # False\n",
    "print(is_number('1'))     # True\n",
    "print(is_number('1.3'))   # True\n",
    "print(is_number('-1.37')) # True\n",
    "print(is_number('1e3'))   # True\n",
    " \n",
    "# 测试 Unicode\n",
    "# 阿拉伯语 5\n",
    "print(is_number('٥'))  # True\n",
    "# 泰语 2\n",
    "print(is_number('๒'))  # True\n",
    "# 中文数字\n",
    "print(is_number('四')) # True\n",
    "# 版权号\n",
    "print(is_number('©'))  # False"
   ]
  },
  {
   "cell_type": "code",
   "execution_count": 4,
   "metadata": {},
   "outputs": [
    {
     "name": "stdout",
     "output_type": "stream",
     "text": [
      "False\n",
      "True\n",
      "True\n",
      "True\n",
      "True\n",
      "False\n",
      "False\n",
      "False\n",
      "True\n",
      "True\n",
      "True\n",
      "True\n",
      "True\n",
      "True\n",
      "True\n",
      "True\n",
      "True\n",
      "True\n",
      "False\n",
      "False\n",
      "True\n",
      "True\n",
      "True\n",
      "True\n",
      "True\n",
      "False\n",
      "False\n"
     ]
    }
   ],
   "source": [
    "def is_number(s):\n",
    "    try:\n",
    "        float(s)\n",
    "        return True\n",
    "    except ValueError:\n",
    "        pass\n",
    "\n",
    "    import unicodedata\n",
    "    try:\n",
    "        unicodedata.numeric(s)\n",
    "        return True\n",
    "    except (TypeError, ValueError):\n",
    "        pass\n",
    "        \n",
    "    if len(s) < 2:\n",
    "        return False\n",
    "\n",
    "    try:\n",
    "        d = 0\n",
    "        if s.startswith('－'):\n",
    "            s = s[1:]\n",
    "        for c in s:\n",
    "            if c == '－': # 全角减号\n",
    "                return False\n",
    "                \n",
    "            if c == '．': # 全角点号\n",
    "                if d > 0:\n",
    "                    return False\n",
    "                else:\n",
    "                    d = 1\n",
    "                    continue\n",
    "            unicodedata.numeric(c)\n",
    "        return True\n",
    "    except (TypeError, ValueError):\n",
    "        pass\n",
    "\n",
    "    return False\n",
    "\n",
    "# 测试字符串和数字\n",
    "print(f'{is_number(\"foo\")}')\n",
    "print(f'{is_number(\"1\") }')\n",
    "print(f'{is_number(\"1.3\") }')\n",
    "print(f'{is_number(\"-1.37\") }')\n",
    "print(f'{is_number(\"1e3\") }')\n",
    "print(f'{is_number(\"2.345.6\") }')\n",
    "print(f'{is_number(\"-5.2-8\") }')\n",
    "print(f'{is_number(\"52-8\") }')\n",
    "print(f'{is_number(\"-.5\") }')\n",
    "print(f'{is_number(\"-5.\") }')\n",
    "print(f'{is_number(\".5\") }')\n",
    "\n",
    "# 测试Unicode\n",
    "# 阿拉伯语 5\n",
    "print(f'{is_number(\"٥\") }')\n",
    "# 泰语 2\n",
    "print(f'{is_number(\"๒\") }')\n",
    "# 中文数字\n",
    "print(f'{is_number(\"四\") }')\n",
    "print(f'{is_number(\"四卅\") }')\n",
    "# 全角数字\n",
    "print(f'{is_number(\"１２３\") }')\n",
    "print(f'{is_number(\"-１２３\") }')\n",
    "print(f'{is_number(\"－１２３\") }')\n",
    "print(f'{is_number(\"１２－３\") }')\n",
    "print(f'{is_number(\"１２３－\") }')\n",
    "print(f'{is_number(\"１.２３\") }')\n",
    "print(f'{is_number(\"１．２３\") }')\n",
    "print(f'{is_number(\"．２３\") }')\n",
    "print(f'{is_number(\"－．２３\") }')\n",
    "print(f'{is_number(\"１．23\") }')\n",
    "print(f'{is_number(\"１．２．３\") }')\n",
    "# 版权号\n",
    "print(f'{is_number(\"©\") }')"
   ]
  },
  {
   "cell_type": "code",
   "execution_count": 5,
   "metadata": {},
   "outputs": [
    {
     "name": "stdout",
     "output_type": "stream",
     "text": [
      "1x1=1\t\n",
      "1x2=2\t2x2=4\t\n",
      "1x3=3\t2x3=6\t3x3=9\t\n",
      "1x4=4\t2x4=8\t3x4=12\t4x4=16\t\n",
      "1x5=5\t2x5=10\t3x5=15\t4x5=20\t5x5=25\t\n",
      "1x6=6\t2x6=12\t3x6=18\t4x6=24\t5x6=30\t6x6=36\t\n",
      "1x7=7\t2x7=14\t3x7=21\t4x7=28\t5x7=35\t6x7=42\t7x7=49\t\n",
      "1x8=8\t2x8=16\t3x8=24\t4x8=32\t5x8=40\t6x8=48\t7x8=56\t8x8=64\t\n",
      "1x9=9\t2x9=18\t3x9=27\t4x9=36\t5x9=45\t6x9=54\t7x9=63\t8x9=72\t9x9=81\t\n"
     ]
    }
   ],
   "source": [
    "for i in range(1, 10):\n",
    "    for j in range(1, i+1):\n",
    "        print('{}x{}={}\\t'.format(j, i, i*j), end='')\n",
    "    print()"
   ]
  },
  {
   "cell_type": "code",
   "execution_count": 6,
   "metadata": {},
   "outputs": [
    {
     "name": "stdout",
     "output_type": "stream",
     "text": [
      "2\n",
      "b\n",
      "2\n",
      "2\n",
      "80, 100, 1000 最大值为:  1000\n",
      "-20, 100, 400最大值为:  400\n",
      "-80, -20, -10最大值为:  -10\n",
      "0, 100, -400最大值为: 100\n"
     ]
    }
   ],
   "source": [
    "# 最简单的\n",
    "print(max(1, 2))\n",
    "print(max('a', 'b'))\n",
    " \n",
    "# 也可以对列表和元组使用\n",
    "print(max([1,2]))\n",
    "print(max((1,2)))\n",
    " \n",
    "# 更多实例\n",
    "print(\"80, 100, 1000 最大值为: \", max(80, 100, 1000))\n",
    "print(\"-20, 100, 400最大值为: \", max(-20, 100, 400))\n",
    "print(\"-80, -20, -10最大值为: \", max(-80, -20, -10))\n",
    "print(\"0, 100, -400最大值为:\", max(0, 100, -400))"
   ]
  },
  {
   "cell_type": "code",
   "execution_count": 7,
   "metadata": {},
   "outputs": [
    {
     "name": "stdin",
     "output_type": "stream",
     "text": [
      "输入三角形第一边长:  5\n",
      "输入三角形第二边长:  6\n",
      "输入三角形第三边长:  7\n"
     ]
    },
    {
     "name": "stdout",
     "output_type": "stream",
     "text": [
      "三角形面积为 14.70\n"
     ]
    }
   ],
   "source": [
    "a = float(input('输入三角形第一边长: '))\n",
    "b = float(input('输入三角形第二边长: '))\n",
    "c = float(input('输入三角形第三边长: '))\n",
    " \n",
    "# 计算半周长\n",
    "s = (a + b + c) / 2\n",
    " \n",
    "# 计算面积\n",
    "area = (s*(s-a)*(s-b)*(s-c)) ** 0.5\n",
    "print('三角形面积为 %0.2f' %area)"
   ]
  },
  {
   "cell_type": "code",
   "execution_count": 8,
   "metadata": {},
   "outputs": [
    {
     "name": "stdin",
     "output_type": "stream",
     "text": [
      "你需要几项？ 4\n"
     ]
    },
    {
     "name": "stdout",
     "output_type": "stream",
     "text": [
      "斐波那契数列：\n",
      "0 , 1 , 1 , 2 , "
     ]
    }
   ],
   "source": [
    "# 获取用户输入数据\n",
    "nterms = int(input(\"你需要几项？\"))\n",
    " \n",
    "# 第一和第二项\n",
    "n1 = 0\n",
    "n2 = 1\n",
    "count = 2\n",
    " \n",
    "# 判断输入的值是否合法\n",
    "if nterms <= 0:\n",
    "   print(\"请输入一个正整数。\")\n",
    "elif nterms == 1:\n",
    "   print(\"斐波那契数列：\")\n",
    "   print(n1)\n",
    "else:\n",
    "   print(\"斐波那契数列：\")\n",
    "   print(n1,\",\",n2,end=\" , \")\n",
    "   while count < nterms:\n",
    "       nth = n1 + n2\n",
    "       print(nth,end=\" , \")\n",
    "       # 更新值\n",
    "       n1 = n2\n",
    "       n2 = nth\n",
    "       count += 1"
   ]
  },
  {
   "cell_type": "code",
   "execution_count": 1,
   "metadata": {},
   "outputs": [
    {
     "name": "stdin",
     "output_type": "stream",
     "text": [
      "输入第一个数字:  4\n",
      "输入第二个数字:  7\n"
     ]
    },
    {
     "name": "stdout",
     "output_type": "stream",
     "text": [
      "4 和 7 的最大公约数为 1\n"
     ]
    }
   ],
   "source": [
    "# 定义一个函数\n",
    "def hcf(x, y):\n",
    "   \"\"\"该函数返回两个数的最大公约数\"\"\"\n",
    " \n",
    "   # 获取最小值\n",
    "   if x > y:\n",
    "       smaller = y\n",
    "   else:\n",
    "       smaller = x\n",
    " \n",
    "   for i in range(1,smaller + 1):\n",
    "       if((x % i == 0) and (y % i == 0)):\n",
    "           hcf = i\n",
    " \n",
    "   return hcf\n",
    " \n",
    " \n",
    "# 用户输入两个数字\n",
    "num1 = int(input(\"输入第一个数字: \"))\n",
    "num2 = int(input(\"输入第二个数字: \"))\n",
    " \n",
    "print( num1,\"和\", num2,\"的最大公约数为\", hcf(num1, num2))"
   ]
  },
  {
   "cell_type": "code",
   "execution_count": 2,
   "metadata": {},
   "outputs": [
    {
     "name": "stdout",
     "output_type": "stream",
     "text": [
      "3 4 5 6 7 1 2 "
     ]
    }
   ],
   "source": [
    "def leftRotate(arr, d, n):\n",
    "    for i in range(d):\n",
    "        leftRotatebyOne(arr, n)\n",
    "def leftRotatebyOne(arr, n):\n",
    "    temp = arr[0]\n",
    "    for i in range(n-1):\n",
    "        arr[i] = arr[i+1]\n",
    "    arr[n-1] = temp\n",
    "         \n",
    " \n",
    "def printArray(arr,size):\n",
    "    for i in range(size):\n",
    "        print (\"%d\"% arr[i],end=\" \")\n",
    " \n",
    "\n",
    "arr = [1, 2, 3, 4, 5, 6, 7]\n",
    "leftRotate(arr, 2, 7)\n",
    "printArray(arr, 7)"
   ]
  },
  {
   "cell_type": "code",
   "execution_count": 3,
   "metadata": {},
   "outputs": [
    {
     "name": "stdout",
     "output_type": "stream",
     "text": [
      "3 4 5 6 7 1 2 "
     ]
    }
   ],
   "source": [
    "def leftRotate(arr, d, n):\n",
    "    for i in range(gcd(d,n)):\n",
    "         \n",
    "        temp = arr[i]\n",
    "        j = i\n",
    "        while 1:\n",
    "            k = j + d\n",
    "            if k >= n:\n",
    "                k = k - n\n",
    "            if k == i:\n",
    "                break\n",
    "            arr[j] = arr[k]\n",
    "            j = k\n",
    "        arr[j] = temp\n",
    "\n",
    "def printArray(arr, size):\n",
    "    for i in range(size):\n",
    "        print (\"%d\" % arr[i], end=\" \")\n",
    "\n",
    "def gcd(a, b):\n",
    "    if b == 0:\n",
    "        return a;\n",
    "    else:\n",
    "        return gcd(b, a%b)\n",
    "\n",
    "arr = [1, 2, 3, 4, 5, 6, 7]\n",
    "leftRotate(arr, 2, 7)\n",
    "printArray(arr, 7)"
   ]
  },
  {
   "cell_type": "code",
   "execution_count": null,
   "metadata": {},
   "outputs": [],
   "source": []
  }
 ],
 "metadata": {
  "kernelspec": {
   "display_name": "Python 3",
   "language": "python",
   "name": "python3"
  },
  "language_info": {
   "codemirror_mode": {
    "name": "ipython",
    "version": 3
   },
   "file_extension": ".py",
   "mimetype": "text/x-python",
   "name": "python",
   "nbconvert_exporter": "python",
   "pygments_lexer": "ipython3",
   "version": "3.8.5"
  }
 },
 "nbformat": 4,
 "nbformat_minor": 4
}
