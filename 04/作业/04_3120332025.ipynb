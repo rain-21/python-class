{
 "cells": [
  {
   "cell_type": "code",
   "execution_count": 1,
   "metadata": {},
   "outputs": [],
   "source": [
    "#for 循环"
   ]
  },
  {
   "cell_type": "code",
   "execution_count": 2,
   "metadata": {},
   "outputs": [
    {
     "name": "stdout",
     "output_type": "stream",
     "text": [
      "adding 0 to the list.\n",
      "adding 1 to the list.\n",
      "adding 2 to the list.\n",
      "adding 3 to the list.\n",
      "adding 4 to the list.\n",
      "adding 5 to the list.\n",
      "element was:0\n",
      "element was:1\n",
      "element was:2\n",
      "element was:3\n",
      "element was:4\n",
      "element was:5\n"
     ]
    }
   ],
   "source": [
    "the_count=[1,2,3,4,5]\n",
    "fruits=['apple','orange','pears','apricots']\n",
    "change=[1,'pennies',2,'dimes',3,'quarters']\n",
    "\n",
    "elements=[]\n",
    "\n",
    "for i in range(0,6):\n",
    "    print(f\"adding {i} to the list.\")\n",
    "    elements.append(i)\n",
    "    \n",
    "for i in elements:\n",
    "    print(f\"element was:{i}\")"
   ]
  },
  {
   "cell_type": "code",
   "execution_count": null,
   "metadata": {},
   "outputs": [],
   "source": [
    "###错误和异常"
   ]
  },
  {
   "cell_type": "code",
   "execution_count": 4,
   "metadata": {},
   "outputs": [
    {
     "data": {
      "text/plain": [
       "['ArithmeticError',\n",
       " 'AssertionError',\n",
       " 'AttributeError',\n",
       " 'BaseException',\n",
       " 'BlockingIOError',\n",
       " 'BrokenPipeError',\n",
       " 'BufferError',\n",
       " 'BytesWarning',\n",
       " 'ChildProcessError',\n",
       " 'ConnectionAbortedError',\n",
       " 'ConnectionError',\n",
       " 'ConnectionRefusedError',\n",
       " 'ConnectionResetError',\n",
       " 'DeprecationWarning',\n",
       " 'EOFError',\n",
       " 'Ellipsis',\n",
       " 'EnvironmentError',\n",
       " 'Exception',\n",
       " 'False',\n",
       " 'FileExistsError',\n",
       " 'FileNotFoundError',\n",
       " 'FloatingPointError',\n",
       " 'FutureWarning',\n",
       " 'GeneratorExit',\n",
       " 'IOError',\n",
       " 'ImportError',\n",
       " 'ImportWarning',\n",
       " 'IndentationError',\n",
       " 'IndexError',\n",
       " 'InterruptedError',\n",
       " 'IsADirectoryError',\n",
       " 'KeyError',\n",
       " 'KeyboardInterrupt',\n",
       " 'LookupError',\n",
       " 'MemoryError',\n",
       " 'ModuleNotFoundError',\n",
       " 'NameError',\n",
       " 'None',\n",
       " 'NotADirectoryError',\n",
       " 'NotImplemented',\n",
       " 'NotImplementedError',\n",
       " 'OSError',\n",
       " 'OverflowError',\n",
       " 'PendingDeprecationWarning',\n",
       " 'PermissionError',\n",
       " 'ProcessLookupError',\n",
       " 'RecursionError',\n",
       " 'ReferenceError',\n",
       " 'ResourceWarning',\n",
       " 'RuntimeError',\n",
       " 'RuntimeWarning',\n",
       " 'StopAsyncIteration',\n",
       " 'StopIteration',\n",
       " 'SyntaxError',\n",
       " 'SyntaxWarning',\n",
       " 'SystemError',\n",
       " 'SystemExit',\n",
       " 'TabError',\n",
       " 'TimeoutError',\n",
       " 'True',\n",
       " 'TypeError',\n",
       " 'UnboundLocalError',\n",
       " 'UnicodeDecodeError',\n",
       " 'UnicodeEncodeError',\n",
       " 'UnicodeError',\n",
       " 'UnicodeTranslateError',\n",
       " 'UnicodeWarning',\n",
       " 'UserWarning',\n",
       " 'ValueError',\n",
       " 'Warning',\n",
       " 'WindowsError',\n",
       " 'ZeroDivisionError',\n",
       " '__IPYTHON__',\n",
       " '__build_class__',\n",
       " '__debug__',\n",
       " '__doc__',\n",
       " '__import__',\n",
       " '__loader__',\n",
       " '__name__',\n",
       " '__package__',\n",
       " '__spec__',\n",
       " 'abs',\n",
       " 'all',\n",
       " 'any',\n",
       " 'ascii',\n",
       " 'bin',\n",
       " 'bool',\n",
       " 'breakpoint',\n",
       " 'bytearray',\n",
       " 'bytes',\n",
       " 'callable',\n",
       " 'chr',\n",
       " 'classmethod',\n",
       " 'compile',\n",
       " 'complex',\n",
       " 'copyright',\n",
       " 'credits',\n",
       " 'delattr',\n",
       " 'dict',\n",
       " 'dir',\n",
       " 'display',\n",
       " 'divmod',\n",
       " 'enumerate',\n",
       " 'eval',\n",
       " 'exec',\n",
       " 'filter',\n",
       " 'float',\n",
       " 'format',\n",
       " 'frozenset',\n",
       " 'get_ipython',\n",
       " 'getattr',\n",
       " 'globals',\n",
       " 'hasattr',\n",
       " 'hash',\n",
       " 'help',\n",
       " 'hex',\n",
       " 'id',\n",
       " 'input',\n",
       " 'int',\n",
       " 'isinstance',\n",
       " 'issubclass',\n",
       " 'iter',\n",
       " 'len',\n",
       " 'license',\n",
       " 'list',\n",
       " 'locals',\n",
       " 'map',\n",
       " 'max',\n",
       " 'memoryview',\n",
       " 'min',\n",
       " 'next',\n",
       " 'object',\n",
       " 'oct',\n",
       " 'open',\n",
       " 'ord',\n",
       " 'pow',\n",
       " 'print',\n",
       " 'property',\n",
       " 'range',\n",
       " 'repr',\n",
       " 'reversed',\n",
       " 'round',\n",
       " 'set',\n",
       " 'setattr',\n",
       " 'slice',\n",
       " 'sorted',\n",
       " 'staticmethod',\n",
       " 'str',\n",
       " 'sum',\n",
       " 'super',\n",
       " 'tuple',\n",
       " 'type',\n",
       " 'vars',\n",
       " 'zip']"
      ]
     },
     "execution_count": 4,
     "metadata": {},
     "output_type": "execute_result"
    }
   ],
   "source": [
    "import builtins\n",
    "dir(builtins)"
   ]
  },
  {
   "cell_type": "code",
   "execution_count": 5,
   "metadata": {},
   "outputs": [
    {
     "name": "stdout",
     "output_type": "stream",
     "text": [
      "Ada Lovelace\n"
     ]
    }
   ],
   "source": [
    "name=\"ada lovelace\"\n",
    "print(name.title())"
   ]
  },
  {
   "cell_type": "code",
   "execution_count": 6,
   "metadata": {},
   "outputs": [],
   "source": [
    "# 大小写处理方法"
   ]
  },
  {
   "cell_type": "code",
   "execution_count": 7,
   "metadata": {},
   "outputs": [
    {
     "name": "stdout",
     "output_type": "stream",
     "text": [
      "ADA LOVEPLACE\n",
      "ada loveplace\n"
     ]
    }
   ],
   "source": [
    "name=\"ada loveplace\"\n",
    "print(name.upper())\n",
    "print(name.lower())"
   ]
  },
  {
   "cell_type": "code",
   "execution_count": 8,
   "metadata": {},
   "outputs": [],
   "source": [
    "#合并字符串"
   ]
  },
  {
   "cell_type": "code",
   "execution_count": 9,
   "metadata": {},
   "outputs": [
    {
     "name": "stdout",
     "output_type": "stream",
     "text": [
      "ada loveplace\n",
      "hello,Ada Loveplace！\n"
     ]
    }
   ],
   "source": [
    "first_name=\"ada\"\n",
    "last_name=\"loveplace\"\n",
    "full_name=first_name+\" \"+last_name\n",
    "\n",
    "print(full_name)\n",
    "print(\"hello,\"+full_name.title()+\"！\")"
   ]
  },
  {
   "cell_type": "code",
   "execution_count": 10,
   "metadata": {},
   "outputs": [],
   "source": [
    "# 使用制表符或者换行符来添加空白"
   ]
  },
  {
   "cell_type": "code",
   "execution_count": 11,
   "metadata": {},
   "outputs": [
    {
     "name": "stdout",
     "output_type": "stream",
     "text": [
      "language:\n",
      "\tpython\n",
      "\tC\n",
      "\tjava\n"
     ]
    }
   ],
   "source": [
    "print(\"language:\\n\\tpython\\n\\tC\\n\\tjava\")"
   ]
  },
  {
   "cell_type": "code",
   "execution_count": 12,
   "metadata": {},
   "outputs": [
    {
     "name": "stdout",
     "output_type": "stream",
     "text": [
      "python\n"
     ]
    }
   ],
   "source": [
    "print(\"python\")"
   ]
  },
  {
   "cell_type": "code",
   "execution_count": 13,
   "metadata": {},
   "outputs": [
    {
     "name": "stdout",
     "output_type": "stream",
     "text": [
      "\tpython\n"
     ]
    }
   ],
   "source": [
    "print(\"\\tpython\")"
   ]
  },
  {
   "cell_type": "code",
   "execution_count": 14,
   "metadata": {},
   "outputs": [],
   "source": [
    "#删除空白"
   ]
  },
  {
   "cell_type": "code",
   "execution_count": 15,
   "metadata": {},
   "outputs": [
    {
     "data": {
      "text/plain": [
       "'python'"
      ]
     },
     "execution_count": 15,
     "metadata": {},
     "output_type": "execute_result"
    }
   ],
   "source": [
    "like='python '\n",
    "like=like.rstrip()\n",
    "#永久删除\n",
    "like"
   ]
  },
  {
   "cell_type": "code",
   "execution_count": 16,
   "metadata": {},
   "outputs": [
    {
     "data": {
      "text/plain": [
       "' python'"
      ]
     },
     "execution_count": 16,
     "metadata": {},
     "output_type": "execute_result"
    }
   ],
   "source": [
    "like=' python '\n",
    "like.rstrip()"
   ]
  },
  {
   "cell_type": "code",
   "execution_count": 17,
   "metadata": {},
   "outputs": [
    {
     "data": {
      "text/plain": [
       "'python'"
      ]
     },
     "execution_count": 17,
     "metadata": {},
     "output_type": "execute_result"
    }
   ],
   "source": [
    "like=' python '\n",
    "like.lstrip()\n",
    "like.strip()"
   ]
  },
  {
   "cell_type": "code",
   "execution_count": 18,
   "metadata": {},
   "outputs": [
    {
     "name": "stdout",
     "output_type": "stream",
     "text": [
      "Albert Einsteinonce said,a person who never made a mistake never tried anything new.\n"
     ]
    }
   ],
   "source": [
    "famous_person=\"albert einstein\"\n",
    "a_secent='a person who never made a mistake never tried anything new.'\n",
    "print(famous_person.title()+\"once said,\"+a_secent)"
   ]
  },
  {
   "cell_type": "code",
   "execution_count": 19,
   "metadata": {},
   "outputs": [],
   "source": [
    "#列表简介"
   ]
  },
  {
   "cell_type": "code",
   "execution_count": 20,
   "metadata": {},
   "outputs": [
    {
     "name": "stdout",
     "output_type": "stream",
     "text": [
      "['trek', 'cannondale', 'redline', 'specialized']\n"
     ]
    }
   ],
   "source": [
    "bicycles=['trek','cannondale','redline','specialized']\n",
    "print(bicycles)"
   ]
  },
  {
   "cell_type": "code",
   "execution_count": 21,
   "metadata": {},
   "outputs": [
    {
     "name": "stdout",
     "output_type": "stream",
     "text": [
      "Trek\n",
      "redline\n",
      "specialized\n",
      "my first bicycle was a Trek.\n"
     ]
    }
   ],
   "source": [
    "#访问列表元素\n",
    "bicycles=['trek','cannondale','redline','specialized']\n",
    "print(bicycles[0].title())\n",
    "print(bicycles[2])\n",
    "print(bicycles[-1])\n",
    "#使用列表中的各个值\n",
    "message=\"my first bicycle was a \"+bicycles[0].title()+\".\"\n",
    "print(message)"
   ]
  },
  {
   "cell_type": "code",
   "execution_count": 22,
   "metadata": {},
   "outputs": [
    {
     "name": "stdout",
     "output_type": "stream",
     "text": [
      "['wangdianni', 'zhongpeng', 'liuboyu', 'liudong']\n",
      "hai, my friend wangdianni.\n"
     ]
    }
   ],
   "source": [
    "names=['wangdianni','zhongpeng','liuboyu','liudong']\n",
    "print(names)\n",
    "\n",
    "message=\"hai, my friend \"+names[0]+\".\"\n",
    "print(message)"
   ]
  },
  {
   "cell_type": "code",
   "execution_count": 23,
   "metadata": {},
   "outputs": [
    {
     "name": "stdout",
     "output_type": "stream",
     "text": [
      "['dn', 'zp', 'lili', '11']\n"
     ]
    }
   ],
   "source": [
    "#修改列表元素\n",
    "names=['dianni','zp','lili','11']\n",
    "names[0]='dn'\n",
    "print(names)"
   ]
  },
  {
   "cell_type": "code",
   "execution_count": 24,
   "metadata": {},
   "outputs": [
    {
     "name": "stdout",
     "output_type": "stream",
     "text": [
      "['dianni', 'lili', 'zhongpeng', '11', 'wangchang']\n"
     ]
    }
   ],
   "source": [
    "#在列表中添加元素\n",
    "names=['dianni','lili','zhongpeng','11']\n",
    "names.append('wangchang')\n",
    "print(names)"
   ]
  },
  {
   "cell_type": "code",
   "execution_count": 25,
   "metadata": {},
   "outputs": [
    {
     "name": "stdout",
     "output_type": "stream",
     "text": [
      "['dianni', 'zhongpeng']\n"
     ]
    }
   ],
   "source": [
    "names=[]\n",
    "names.append('dianni')\n",
    "names.append('zhongpeng')\n",
    "print(names)"
   ]
  },
  {
   "cell_type": "code",
   "execution_count": 26,
   "metadata": {},
   "outputs": [
    {
     "name": "stdout",
     "output_type": "stream",
     "text": [
      "['wangchang', 'dianni', 'lili', 'zhongpeng', '11']\n"
     ]
    }
   ],
   "source": [
    "#在列表中插入元素\n",
    "names=['dianni','lili','zhongpeng','11']\n",
    "names.insert(0,'wangchang')\n",
    "print(names)"
   ]
  },
  {
   "cell_type": "code",
   "execution_count": 27,
   "metadata": {},
   "outputs": [
    {
     "name": "stdout",
     "output_type": "stream",
     "text": [
      "['lili', 'zhongpeng', '11']\n"
     ]
    }
   ],
   "source": [
    "#在列表中删除元素\n",
    "names=['dianni','lili','zhongpeng','11']\n",
    "del names[0]\n",
    "print(names)\n",
    "#使用del语句，你就无法再访问它了"
   ]
  },
  {
   "cell_type": "code",
   "execution_count": 28,
   "metadata": {},
   "outputs": [
    {
     "name": "stdout",
     "output_type": "stream",
     "text": [
      "['dianni', 'lili', 'zhongpeng']\n",
      "11\n"
     ]
    }
   ],
   "source": [
    "#使用方法pop删除元素，删除末尾的值，还可打印\n",
    "names=['dianni','lili','zhongpeng','11']\n",
    "popped_names=names.pop()\n",
    "print(names)\n",
    "print(popped_names)"
   ]
  },
  {
   "cell_type": "code",
   "execution_count": 30,
   "metadata": {},
   "outputs": [
    {
     "name": "stdout",
     "output_type": "stream",
     "text": [
      "the laet people is 11.\n"
     ]
    }
   ],
   "source": [
    "#指出最后的人\n",
    "names=['dianni','lili','zhongpeng','11']\n",
    "last_bought=names.pop()\n",
    "print(\"the laet people is \"+ last_bought.title()+\".\")"
   ]
  },
  {
   "cell_type": "code",
   "execution_count": 31,
   "metadata": {},
   "outputs": [
    {
     "name": "stdout",
     "output_type": "stream",
     "text": [
      "['dianni', 'zhongpeng', '11']\n"
     ]
    }
   ],
   "source": [
    "#弹出列表中任何位处的位置\n",
    "names=['dianni','lili','zhongpeng','11']\n",
    "last_bought=names.pop(1)\n",
    "print(names)\n",
    "#使用del 还是 pop 如果你从列表中删除一个元素，不会再以任何形式用它。del"
   ]
  },
  {
   "cell_type": "code",
   "execution_count": 32,
   "metadata": {},
   "outputs": [
    {
     "name": "stdout",
     "output_type": "stream",
     "text": [
      "['dianni', 'zhongpeng', '11']\n"
     ]
    }
   ],
   "source": [
    "#根据值删除元素\n",
    "names=['dianni','lili','zhongpeng','11']\n",
    "names.remove('lili')\n",
    "print(names)"
   ]
  },
  {
   "cell_type": "code",
   "execution_count": 33,
   "metadata": {},
   "outputs": [
    {
     "name": "stdout",
     "output_type": "stream",
     "text": [
      "['lili', 'zhongpeng', '11']\n",
      "\n",
      "A\n"
     ]
    }
   ],
   "source": [
    "#从remove从列表中删除值时，也可接着使用其值\n",
    "names=['dianni','lili','zhongpeng','11']\n",
    "stupid='dianni'\n",
    "names.remove(stupid)\n",
    "print(names)\n",
    "print(\"\\nA\")"
   ]
  },
  {
   "cell_type": "code",
   "execution_count": 34,
   "metadata": {},
   "outputs": [
    {
     "name": "stdout",
     "output_type": "stream",
     "text": [
      "['dianni', 'eleven', 'lili', 'zhongpeng']\n"
     ]
    }
   ],
   "source": [
    "#组织列表\n",
    "# 永久性排序\n",
    "names=['dianni','lili','zhongpeng','eleven']\n",
    "names.sort()\n",
    "print(names)"
   ]
  },
  {
   "cell_type": "code",
   "execution_count": 35,
   "metadata": {},
   "outputs": [
    {
     "name": "stdout",
     "output_type": "stream",
     "text": [
      "['zhongpeng', 'lili', 'eleven', 'dianni']\n"
     ]
    }
   ],
   "source": [
    "names=['dianni','lili','zhongpeng','eleven']\n",
    "names.sort(reverse=True)\n",
    "print(names)"
   ]
  },
  {
   "cell_type": "code",
   "execution_count": 36,
   "metadata": {},
   "outputs": [
    {
     "name": "stdout",
     "output_type": "stream",
     "text": [
      "here is the original lists:\n",
      "['dianni', 'lili', 'zhongpeng', 'eleven']\n",
      "\n",
      "here is the sorted list: \n",
      "['dianni', 'eleven', 'lili', 'zhongpeng']\n",
      "\n",
      "here is the original list again:\n",
      "['dianni', 'lili', 'zhongpeng', 'eleven']\n"
     ]
    }
   ],
   "source": [
    "#临时排序\n",
    "names=['dianni','lili','zhongpeng','eleven']\n",
    "print(\"here is the original lists:\")\n",
    "print(names)\n",
    "\n",
    "print(\"\\nhere is the sorted list: \")\n",
    "print(sorted(names))\n",
    "\n",
    "print(\"\\nhere is the original list again:\")\n",
    "print(names)"
   ]
  },
  {
   "cell_type": "code",
   "execution_count": 37,
   "metadata": {},
   "outputs": [
    {
     "name": "stdout",
     "output_type": "stream",
     "text": [
      "['eleven', 'zhongpeng', 'lili', 'dianni']\n"
     ]
    }
   ],
   "source": [
    "#倒着打印列表\n",
    "names=['dianni','lili','zhongpeng','eleven']\n",
    "names.reverse()\n",
    "print(names)"
   ]
  },
  {
   "cell_type": "code",
   "execution_count": 38,
   "metadata": {},
   "outputs": [
    {
     "data": {
      "text/plain": [
       "4"
      ]
     },
     "execution_count": 38,
     "metadata": {},
     "output_type": "execute_result"
    }
   ],
   "source": [
    "#确定列表的长度\n",
    "names=['dianni','lili','zhongpeng','eleven']\n",
    "len(names)\n",
    "# PYTHON 计算列表元素从1开始，不会遇到差1错误"
   ]
  },
  {
   "cell_type": "code",
   "execution_count": 39,
   "metadata": {},
   "outputs": [],
   "source": [
    "#使用列表时避免错误引索错误"
   ]
  },
  {
   "cell_type": "code",
   "execution_count": 40,
   "metadata": {},
   "outputs": [
    {
     "name": "stdout",
     "output_type": "stream",
     "text": [
      "dianni\n",
      "lili\n",
      "zhongpeng\n",
      "eleven\n"
     ]
    }
   ],
   "source": [
    "#操作列表\n",
    "#遍历整个列表\n",
    "names=['dianni','lili','zhongpeng','eleven']\n",
    "for name in names:\n",
    "    print(name)"
   ]
  },
  {
   "cell_type": "code",
   "execution_count": 41,
   "metadata": {},
   "outputs": [
    {
     "name": "stdout",
     "output_type": "stream",
     "text": [
      "Dianni , you are so clever!\n",
      "Lili , you are so clever!\n",
      "Zhongpeng , you are so clever!\n",
      "Eleven , you are so clever!\n"
     ]
    }
   ],
   "source": [
    "names=['dianni','lili','zhongpeng','eleven']\n",
    "for name in names:\n",
    "    print(name.title()+\" , you are so clever!\")"
   ]
  },
  {
   "cell_type": "code",
   "execution_count": 42,
   "metadata": {},
   "outputs": [
    {
     "name": "stdout",
     "output_type": "stream",
     "text": [
      "Dianni , you are so clever!\n",
      "fighting!Dianni\n",
      "Lili , you are so clever!\n",
      "fighting!Lili\n",
      "Zhongpeng , you are so clever!\n",
      "fighting!Zhongpeng\n",
      "Eleven , you are so clever!\n",
      "fighting!Eleven\n",
      "\n",
      "加油加油，毕业不愁\n"
     ]
    }
   ],
   "source": [
    "#使用for循环的总结性句子要不要缩进\n",
    "names=['dianni','lili','zhongpeng','eleven']\n",
    "for name in names:\n",
    "    print(name.title()+\" , you are so clever!\")\n",
    "    print(\"fighting!\"+name.title())\n",
    "\n",
    "print(\"\\n加油加油，毕业不愁\")"
   ]
  },
  {
   "cell_type": "code",
   "execution_count": 43,
   "metadata": {},
   "outputs": [
    {
     "name": "stdout",
     "output_type": "stream",
     "text": [
      "1\n",
      "2\n",
      "3\n",
      "4\n"
     ]
    }
   ],
   "source": [
    "#创建数值列表\n",
    "#使用rang()函数\n",
    "for value in range(1,5):\n",
    "    print(value)\n",
    "#在达到你指定的第二个数停止"
   ]
  },
  {
   "cell_type": "code",
   "execution_count": 44,
   "metadata": {},
   "outputs": [
    {
     "name": "stdout",
     "output_type": "stream",
     "text": [
      "[1, 2, 3, 4, 5]\n"
     ]
    }
   ],
   "source": [
    "#使用range 创建数字列表\n",
    "numbers=list(range(1,6))\n",
    "print(numbers)"
   ]
  },
  {
   "cell_type": "code",
   "execution_count": 45,
   "metadata": {},
   "outputs": [
    {
     "name": "stdout",
     "output_type": "stream",
     "text": [
      "[2, 4, 6, 8, 10]\n"
     ]
    }
   ],
   "source": [
    "#指定步长\n",
    "even_numbers=list(range(2,11,2))\n",
    "print(even_numbers)"
   ]
  },
  {
   "cell_type": "code",
   "execution_count": 46,
   "metadata": {},
   "outputs": [
    {
     "name": "stdout",
     "output_type": "stream",
     "text": [
      "[1]\n",
      "[1, 4]\n",
      "[1, 4, 9]\n",
      "[1, 4, 9, 16]\n",
      "[1, 4, 9, 16, 25]\n",
      "[1, 4, 9, 16, 25, 36]\n",
      "[1, 4, 9, 16, 25, 36, 49]\n",
      "[1, 4, 9, 16, 25, 36, 49, 64]\n",
      "[1, 4, 9, 16, 25, 36, 49, 64, 81]\n",
      "[1, 4, 9, 16, 25, 36, 49, 64, 81, 100]\n"
     ]
    }
   ],
   "source": [
    "squares=[]\n",
    "for value in range(1,11):\n",
    "    square=value**2\n",
    "    squares.append(square)\n",
    "    \n",
    "    print(squares)"
   ]
  },
  {
   "cell_type": "code",
   "execution_count": 47,
   "metadata": {},
   "outputs": [
    {
     "name": "stdout",
     "output_type": "stream",
     "text": [
      "[1]\n",
      "[1, 4]\n",
      "[1, 4, 9]\n",
      "[1, 4, 9, 16]\n",
      "[1, 4, 9, 16, 25]\n",
      "[1, 4, 9, 16, 25, 36]\n",
      "[1, 4, 9, 16, 25, 36, 49]\n",
      "[1, 4, 9, 16, 25, 36, 49, 64]\n",
      "[1, 4, 9, 16, 25, 36, 49, 64, 81]\n",
      "[1, 4, 9, 16, 25, 36, 49, 64, 81, 100]\n"
     ]
    }
   ],
   "source": [
    "squares=[]\n",
    "for value in range(1,11):\n",
    "    squares.append(value**2)\n",
    "    \n",
    "    print(squares)"
   ]
  },
  {
   "cell_type": "code",
   "execution_count": 50,
   "metadata": {},
   "outputs": [
    {
     "name": "stdout",
     "output_type": "stream",
     "text": [
      "[1, 4, 9, 16, 25, 36, 49, 64, 81, 100]\n"
     ]
    }
   ],
   "source": [
    "#列表解析\n",
    "#将for循环和创建新元素的代码合并成一行，并自动附加新元素\n",
    "squares=[value**2 for value in range(1,11)]\n",
    "print(squares)"
   ]
  },
  {
   "cell_type": "code",
   "execution_count": 51,
   "metadata": {},
   "outputs": [
    {
     "name": "stdout",
     "output_type": "stream",
     "text": [
      "1\n",
      "2\n",
      "3\n",
      "4\n",
      "5\n",
      "6\n",
      "7\n",
      "8\n",
      "9\n",
      "10\n",
      "11\n",
      "12\n",
      "13\n",
      "14\n",
      "15\n",
      "16\n",
      "17\n",
      "18\n",
      "19\n",
      "20\n"
     ]
    }
   ],
   "source": [
    "numbers=[]\n",
    "for value in range(1,21):\n",
    "    print(value)"
   ]
  },
  {
   "cell_type": "code",
   "execution_count": 52,
   "metadata": {},
   "outputs": [
    {
     "name": "stdout",
     "output_type": "stream",
     "text": [
      "1\n",
      "3\n",
      "5\n",
      "7\n",
      "9\n",
      "11\n",
      "13\n",
      "15\n",
      "17\n",
      "19\n"
     ]
    }
   ],
   "source": [
    "numbers=[]\n",
    "for value in range(1,21,2):\n",
    "    print(value)\n",
    "#奇数"
   ]
  },
  {
   "cell_type": "code",
   "execution_count": 53,
   "metadata": {},
   "outputs": [
    {
     "name": "stdout",
     "output_type": "stream",
     "text": [
      "3\n",
      "6\n",
      "9\n",
      "12\n",
      "15\n",
      "18\n",
      "21\n",
      "24\n",
      "27\n",
      "30\n"
     ]
    }
   ],
   "source": [
    "#3的倍数\n",
    "numbers=[]\n",
    "for value in range(3,31,3):\n",
    "    print(value)"
   ]
  },
  {
   "cell_type": "code",
   "execution_count": 54,
   "metadata": {},
   "outputs": [
    {
     "name": "stdout",
     "output_type": "stream",
     "text": [
      "[8]\n",
      "[8, 16]\n",
      "[8, 16, 24]\n",
      "[8, 16, 24, 32]\n",
      "[8, 16, 24, 32, 40]\n",
      "[8, 16, 24, 32, 40, 48]\n",
      "[8, 16, 24, 32, 40, 48, 56]\n",
      "[8, 16, 24, 32, 40, 48, 56, 64]\n",
      "[8, 16, 24, 32, 40, 48, 56, 64, 72]\n",
      "[8, 16, 24, 32, 40, 48, 56, 64, 72, 80]\n"
     ]
    }
   ],
   "source": [
    "#立方\n",
    "squares=[]\n",
    "for value in range(1,11):\n",
    "    squares.append(value*2**3)\n",
    "    \n",
    "    print(squares)"
   ]
  },
  {
   "cell_type": "code",
   "execution_count": 55,
   "metadata": {},
   "outputs": [
    {
     "name": "stdout",
     "output_type": "stream",
     "text": [
      "['dianni', 'lili', 'zhongpeng']\n"
     ]
    }
   ],
   "source": [
    "#使用列表的一部分 切片\n",
    "names=['dianni','lili','zhongpeng','eleven']\n",
    "print(names[:3])"
   ]
  },
  {
   "cell_type": "code",
   "execution_count": 56,
   "metadata": {},
   "outputs": [
    {
     "name": "stdout",
     "output_type": "stream",
     "text": [
      "they are my friends:\n",
      "Lili\n",
      "Zhongpeng\n",
      "Eleven\n"
     ]
    }
   ],
   "source": [
    "#遍历切片\n",
    "names=['dianni','lili','zhongpeng','eleven']\n",
    "\n",
    "print(\"they are my friends:\")\n",
    "for name in names[1:4]:\n",
    "    print(name.title())"
   ]
  },
  {
   "cell_type": "code",
   "execution_count": 57,
   "metadata": {},
   "outputs": [
    {
     "name": "stdout",
     "output_type": "stream",
     "text": [
      "the team members are: \n",
      "['dianni', 'lili', 'zhongpeng', 'eleven']\n"
     ]
    }
   ],
   "source": [
    "#复制列表\n",
    "names=['dianni','lili','zhongpeng','eleven']\n",
    "team_names=names[:]\n",
    "\n",
    "print(\"the team members are: \")\n",
    "print(team_names)"
   ]
  },
  {
   "cell_type": "code",
   "execution_count": 58,
   "metadata": {},
   "outputs": [
    {
     "name": "stdout",
     "output_type": "stream",
     "text": [
      "my favorite foods are:\n",
      "['pizza', 'apple', 'water', 'ice cream']\n",
      "\n",
      "my friend favorite foods are:\n",
      "['pizza', 'apple', 'water', 'cola']\n"
     ]
    }
   ],
   "source": [
    "my_foods=['pizza','apple','water']\n",
    "friend_foods=my_foods[:]\n",
    "my_foods.append('ice cream')\n",
    "friend_foods.append('cola')\n",
    "\n",
    "print(\"my favorite foods are:\")\n",
    "print(my_foods)\n",
    "\n",
    "print(\"\\nmy friend favorite foods are:\")\n",
    "print(friend_foods)"
   ]
  },
  {
   "cell_type": "code",
   "execution_count": 59,
   "metadata": {},
   "outputs": [
    {
     "name": "stdout",
     "output_type": "stream",
     "text": [
      "200\n",
      "50\n"
     ]
    }
   ],
   "source": [
    "#元组——不可变的列表\n",
    "#定义元组\n",
    "dimensions=(200,50)\n",
    "print(dimensions[0])\n",
    "print(dimensions[1])\n",
    "#试图修改元组的行为是被禁止的"
   ]
  },
  {
   "cell_type": "code",
   "execution_count": 61,
   "metadata": {},
   "outputs": [
    {
     "name": "stdout",
     "output_type": "stream",
     "text": [
      "100\n",
      "50\n"
     ]
    }
   ],
   "source": [
    "#遍历元组中的所有值\n",
    "dimensions=(100,50)\n",
    "for dimension in dimensions:\n",
    "    print(dimension)"
   ]
  },
  {
   "cell_type": "code",
   "execution_count": 62,
   "metadata": {},
   "outputs": [
    {
     "name": "stdout",
     "output_type": "stream",
     "text": [
      "original dimensions:\n",
      "200\n",
      "50\n",
      "\n",
      "modified dimensions:\n",
      "400\n",
      "100\n"
     ]
    }
   ],
   "source": [
    "#修改元组变量 重新定义整个元组\n",
    "dimensions=(200,50)\n",
    "print(\"original dimensions:\")\n",
    "for dimension in dimensions:\n",
    "    print(dimension)\n",
    "    \n",
    "dimensions=(400,100)\n",
    "print(\"\\nmodified dimensions:\")\n",
    "for dimension in dimensions:\n",
    "    print(dimension)\n",
    "#如果要存储的一组值在程序的整个生命周期内不变，可使用元组"
   ]
  },
  {
   "cell_type": "code",
   "execution_count": 63,
   "metadata": {},
   "outputs": [
    {
     "ename": "SyntaxError",
     "evalue": "invalid syntax (<ipython-input-63-3fb2fd93882f>, line 1)",
     "output_type": "error",
     "traceback": [
      "\u001b[1;36m  File \u001b[1;32m\"<ipython-input-63-3fb2fd93882f>\"\u001b[1;36m, line \u001b[1;32m1\u001b[0m\n\u001b[1;33m    def Chung:\u001b[0m\n\u001b[1;37m             ^\u001b[0m\n\u001b[1;31mSyntaxError\u001b[0m\u001b[1;31m:\u001b[0m invalid syntax\n"
     ]
    }
   ],
   "source": [
    "def Chung:\n",
    "    print('JINTIANDUOCHIDIAN')"
   ]
  },
  {
   "cell_type": "code",
   "execution_count": 64,
   "metadata": {},
   "outputs": [
    {
     "name": "stdin",
     "output_type": "stream",
     "text": [
      "如果你可以去世界的任何一个地方，你想去哪里？ japan\n",
      "是否结束？Yes/No yes\n",
      "如果你可以去世界的任何一个地方，你想去哪里？ japan \n",
      "是否结束？Yes/No no\n",
      "如果你可以去世界的任何一个地方，你想去哪里？ yes \n",
      "是否结束？Yes/No yes\n",
      "如果你可以去世界的任何一个地方，你想去哪里？ YES\n",
      "是否结束？Yes/No Yes\n"
     ]
    },
    {
     "name": "stdout",
     "output_type": "stream",
     "text": [
      "['japan', 'japan ', 'yes ', 'YES']\n"
     ]
    }
   ],
   "source": [
    "active=True\n",
    "sites=[]\n",
    "while active:\n",
    "    site=input(\"如果你可以去世界的任何一个地方，你想去哪里？\")\n",
    "    sites.append(site)\n",
    "    over=input(\"是否结束？Yes/No\")\n",
    "    if over==\"Yes\":\n",
    "        active=False\n",
    "print(sites)"
   ]
  },
  {
   "cell_type": "code",
   "execution_count": 65,
   "metadata": {},
   "outputs": [
    {
     "name": "stdout",
     "output_type": "stream",
     "text": [
      "Jimi Hendrix\n",
      "John Hooker Lee\n"
     ]
    }
   ],
   "source": [
    "def name(first_name,last_name,middle_name=''):\n",
    "    if middle_name:\n",
    "        full_name=first_name+' '+middle_name+' '+last_name\n",
    "    else:\n",
    "        full_name=first_name+' '+last_name\n",
    "    return full_name.title()\n",
    "musician=name('jimi','hendrix')\n",
    "print(musician)\n",
    "musician=name('john','lee','hooker')\n",
    "print(musician)"
   ]
  },
  {
   "cell_type": "code",
   "execution_count": 66,
   "metadata": {},
   "outputs": [
    {
     "name": "stdout",
     "output_type": "stream",
     "text": [
      "\n",
      "请告诉我你的名字\n",
      "输入q结束\n",
      "如果没有中间名字，请输入空格\n"
     ]
    },
    {
     "name": "stdin",
     "output_type": "stream",
     "text": [
      "First_name: winter\n",
      "Last_name: leo\n",
      "Middle_name: o\n"
     ]
    },
    {
     "name": "stdout",
     "output_type": "stream",
     "text": [
      "Winter O Leo\n",
      "\n",
      "请告诉我你的名字\n",
      "输入q结束\n",
      "如果没有中间名字，请输入空格\n"
     ]
    },
    {
     "name": "stdin",
     "output_type": "stream",
     "text": [
      "First_name:  \n",
      "Last_name:  \n",
      "Middle_name:  \n"
     ]
    },
    {
     "name": "stdout",
     "output_type": "stream",
     "text": [
      "     \n",
      "\n",
      "请告诉我你的名字\n",
      "输入q结束\n",
      "如果没有中间名字，请输入空格\n"
     ]
    },
    {
     "name": "stdin",
     "output_type": "stream",
     "text": [
      "First_name: \n",
      "Last_name: \n",
      "Middle_name: \n"
     ]
    },
    {
     "name": "stdout",
     "output_type": "stream",
     "text": [
      " \n",
      "\n",
      "请告诉我你的名字\n",
      "输入q结束\n",
      "如果没有中间名字，请输入空格\n"
     ]
    },
    {
     "name": "stdin",
     "output_type": "stream",
     "text": [
      "First_name: \n",
      "Last_name: q\n",
      "Middle_name: \n"
     ]
    }
   ],
   "source": [
    "def name(first_name,last_name,middle_name):\n",
    "    if middle_name:\n",
    "        full_name=first_name+' '+middle_name+' '+last_name\n",
    "    else:\n",
    "        full_name=first_name+' '+last_name\n",
    "    return full_name.title()\n",
    "while True:\n",
    "    print(\"\\n请告诉我你的名字\")\n",
    "    print(\"输入q结束\")\n",
    "    print(\"如果没有中间名字，请输入空格\")\n",
    "    f_name=input(\"First_name:\")\n",
    "    l_name=input(\"Last_name:\")\n",
    "    m_name=input(\"Middle_name:\")\n",
    "    if f_name=='q':\n",
    "        break\n",
    "    if l_name=='q':\n",
    "        break\n",
    "    if m_name=='q':\n",
    "        break\n",
    "    musician=name(f_name,l_name,m_name)\n",
    "    print(musician)"
   ]
  },
  {
   "cell_type": "code",
   "execution_count": 67,
   "metadata": {},
   "outputs": [
    {
     "name": "stdout",
     "output_type": "stream",
     "text": [
      "显示程序开始的时间： 2020-12-16 23:57:58\n",
      "显示程序结束的时间： 2020-12-16 23:57:58\n",
      "用时：0.000000s\n"
     ]
    }
   ],
   "source": [
    "import time\n",
    "t0 = time.time()\n",
    "print('显示程序开始的时间：',time.strftime('%Y-%m-%d %H:%M:%S',time.localtime(time.time())))\n",
    "\n",
    "t1=time.time()\n",
    "print('显示程序结束的时间：',time.strftime('%Y-%m-%d %H:%M:%S',time.localtime(time.time())))\n",
    "print('用时：%.6fs'%(t1-t0))"
   ]
  },
  {
   "cell_type": "code",
   "execution_count": 68,
   "metadata": {},
   "outputs": [
    {
     "name": "stdout",
     "output_type": "stream",
     "text": [
      "arange函数创建的数值范围为0~1间隔为0.01的数组arr1为：\n",
      " [0.   0.01 0.02 0.03 0.04 0.05 0.06 0.07 0.08 0.09 0.1  0.11 0.12 0.13\n",
      " 0.14 0.15 0.16 0.17 0.18 0.19 0.2  0.21 0.22 0.23 0.24 0.25 0.26 0.27\n",
      " 0.28 0.29 0.3  0.31 0.32 0.33 0.34 0.35 0.36 0.37 0.38 0.39 0.4  0.41\n",
      " 0.42 0.43 0.44 0.45 0.46 0.47 0.48 0.49 0.5  0.51 0.52 0.53 0.54 0.55\n",
      " 0.56 0.57 0.58 0.59 0.6  0.61 0.62 0.63 0.64 0.65 0.66 0.67 0.68 0.69\n",
      " 0.7  0.71 0.72 0.73 0.74 0.75 0.76 0.77 0.78 0.79 0.8  0.81 0.82 0.83\n",
      " 0.84 0.85 0.86 0.87 0.88 0.89 0.9  0.91 0.92 0.93 0.94 0.95 0.96 0.97\n",
      " 0.98 0.99]\n",
      "生成的随机数组arr1为：\n",
      " [-0.14402412  1.49115021 -1.00499915 -0.67760131  0.09675588  0.0065615\n",
      "  0.42213701 -1.56951484 -1.80574794  0.28876047  0.85371738  0.67891216\n",
      "  2.5215546   0.14281919  0.32490141 -1.34351555  0.30534578  0.5932597\n",
      " -0.71594519 -2.14279133 -0.28016807  1.92299437  0.36759223 -0.2594509\n",
      " -0.62091659  0.39764034  0.00479573  0.76442457 -0.93397441 -0.06879156\n",
      "  0.26926445 -1.0839305  -0.18205519 -1.29541504  0.16879471  0.91766757\n",
      " -0.32372643  2.33093666 -0.83387787 -1.11567049 -0.08009004  1.47402682\n",
      " -0.22165091 -1.66492239  0.76290882  0.79802942  1.01783071 -0.16249337\n",
      "  0.69719388  0.10073232  1.72980229 -1.16168584 -0.1625992   0.3174861\n",
      " -0.12503598  1.57765141 -0.61613549  0.94790574  0.54022312 -0.55243476\n",
      " -1.64327352 -0.83950308  0.44954967 -0.12803519  0.3513476   0.52299364\n",
      "  0.95606494  0.75904368 -0.14335671 -1.07281516  0.65317379 -1.76842152\n",
      "  0.80050178  2.24814108  1.05957544  0.30324196 -0.30953996  0.65262235\n",
      " -0.37273813 -0.95450972 -2.20202238 -1.23600305  0.19710944 -0.28424216\n",
      " -0.3210037   0.54647811 -0.40992664  0.08601124  1.24523596 -0.26097894\n",
      "  1.31551283 -0.68001662  0.56442923 -0.15435767 -2.18097209  1.21444324\n",
      " -0.78173796 -0.97846222  0.10631969 -0.79995023]\n",
      "arr1 + arr2: \n",
      " [-0.14402412  1.50115021 -0.98499915 -0.64760131  0.13675588  0.0565615\n",
      "  0.48213701 -1.49951484 -1.72574794  0.37876047  0.95371738  0.78891216\n",
      "  2.6415546   0.27281919  0.46490141 -1.19351555  0.46534578  0.7632597\n",
      " -0.53594519 -1.95279133 -0.08016807  2.13299437  0.58759223 -0.0294509\n",
      " -0.38091659  0.64764034  0.26479573  1.03442457 -0.65397441  0.22120844\n",
      "  0.56926445 -0.7739305   0.13794481 -0.96541504  0.50879471  1.26766757\n",
      "  0.03627357  2.70093666 -0.45387787 -0.72567049  0.31990996  1.88402682\n",
      "  0.19834909 -1.23492239  1.20290882  1.24802942  1.47783071  0.30750663\n",
      "  1.17719388  0.59073232  2.22980229 -0.65168584  0.3574008   0.8474861\n",
      "  0.41496402  2.12765141 -0.05613549  1.51790574  1.12022312  0.03756524\n",
      " -1.04327352 -0.22950308  1.06954967  0.50196481  0.9913476   1.17299364\n",
      "  1.61606494  1.42904368  0.53664329 -0.38281516  1.35317379 -1.05842152\n",
      "  1.52050178  2.97814108  1.79957544  1.05324196  0.45046004  1.42262235\n",
      "  0.40726187 -0.16450972 -1.40202238 -0.42600305  1.01710944  0.54575784\n",
      "  0.5189963   1.39647811  0.45007336  0.95601124  2.12523596  0.62902106\n",
      "  2.21551283  0.22998338  1.48442923  0.77564233 -1.24097209  2.16444324\n",
      "  0.17826204 -0.00846222  1.08631969  0.19004977]\n",
      "arr1 - arr2: \n",
      " [ 0.14402412 -1.48115021  1.02499915  0.70760131 -0.05675588  0.0434385\n",
      " -0.36213701  1.63951484  1.88574794 -0.19876047 -0.75371738 -0.56891216\n",
      " -2.4015546  -0.01281919 -0.18490141  1.49351555 -0.14534578 -0.4232597\n",
      "  0.89594519  2.33279133  0.48016807 -1.71299437 -0.14759223  0.4894509\n",
      "  0.86091659 -0.14764034  0.25520427 -0.49442457  1.21397441  0.35879156\n",
      "  0.03073555  1.3939305   0.50205519  1.62541504  0.17120529 -0.56766757\n",
      "  0.68372643 -1.96093666  1.21387787  1.50567049  0.48009004 -1.06402682\n",
      "  0.64165091  2.09492239 -0.32290882 -0.34802942 -0.55783071  0.63249337\n",
      " -0.21719388  0.38926768 -1.22980229  1.67168584  0.6825992   0.2125139\n",
      "  0.66503598 -1.02765141  1.17613549 -0.37790574  0.03977688  1.14243476\n",
      "  2.24327352  1.44950308  0.17045033  0.75803519  0.2886524   0.12700636\n",
      " -0.29606494 -0.08904368  0.82335671  1.76281516  0.04682621  2.47842152\n",
      " -0.08050178 -1.51814108 -0.31957544  0.44675804  1.06953996  0.11737765\n",
      "  1.15273813  1.74450972  3.00202238  2.04600305  0.62289056  1.11424216\n",
      "  1.1610037   0.30352189  1.26992664  0.78398876 -0.36523596  1.15097894\n",
      " -0.41551283  1.59001662  0.35557077  1.08435767  3.12097209 -0.26444324\n",
      "  1.74173796  1.94846222  0.87368031  1.78995023]\n",
      "arr1 * arr2: \n",
      " [-0.00000000e+00  1.49115021e-02 -2.00999830e-02 -2.03280392e-02\n",
      "  3.87023508e-03  3.28074782e-04  2.53282207e-02 -1.09866039e-01\n",
      " -1.44459835e-01  2.59884425e-02  8.53717376e-02  7.46803374e-02\n",
      "  3.02586552e-01  1.85664951e-02  4.54861970e-02 -2.01527332e-01\n",
      "  4.88553242e-02  1.00854148e-01 -1.28870134e-01 -4.07130353e-01\n",
      " -5.60336143e-02  4.03828817e-01  8.08702895e-02 -5.96737079e-02\n",
      " -1.49019982e-01  9.94100849e-02  1.24688944e-03  2.06394635e-01\n",
      " -2.61512836e-01 -1.99495525e-02  8.07793354e-02 -3.36018454e-01\n",
      " -5.82576618e-02 -4.27486963e-01  5.73902011e-02  3.21183649e-01\n",
      " -1.16541515e-01  8.62446566e-01 -3.16873589e-01 -4.35111490e-01\n",
      " -3.20360155e-02  6.04350995e-01 -9.30933834e-02 -7.15916628e-01\n",
      "  3.35679879e-01  3.59113239e-01  4.68202127e-01 -7.63718837e-02\n",
      "  3.34653062e-01  4.93588390e-02  8.64901143e-01 -5.92459779e-01\n",
      " -8.45515816e-02  1.68267632e-01 -6.75194312e-02  8.67708277e-01\n",
      " -3.45035872e-01  5.40306274e-01  3.13329409e-01 -3.25936506e-01\n",
      " -9.85964110e-01 -5.12096880e-01  2.78720798e-01 -8.06621666e-02\n",
      "  2.24862461e-01  3.39945866e-01  6.31002860e-01  5.08559268e-01\n",
      " -9.74825643e-02 -7.40242460e-01  4.57221651e-01 -1.25557928e+00\n",
      "  5.76361279e-01  1.64114299e+00  7.84085826e-01  2.27431467e-01\n",
      " -2.35250368e-01  5.02519212e-01 -2.90735741e-01 -7.54062680e-01\n",
      " -1.76161791e+00 -1.00116247e+00  1.61629738e-01 -2.35920996e-01\n",
      " -2.69643109e-01  4.64506394e-01 -3.52536912e-01  7.48297759e-02\n",
      "  1.09580764e+00 -2.32271258e-01  1.18396155e+00 -6.18815121e-01\n",
      "  5.19274895e-01 -1.43552634e-01 -2.05011377e+00  1.15372107e+00\n",
      " -7.50468441e-01 -9.49108355e-01  1.04193293e-01 -7.91950729e-01]\n",
      "arr1 / arr2: \n",
      " [-0.00000000e+00  6.70623249e-03 -1.99005143e-02 -4.42738226e-02\n",
      "  4.13411580e-01  7.62021386e+00  1.42133948e-01 -4.45997695e-02\n",
      " -4.43029718e-02  3.11677008e-01  1.17134783e-01  1.62023906e-01\n",
      "  4.75896892e-02  9.10241805e-01  4.30899949e-01 -1.11647387e-01\n",
      "  5.23996114e-01  2.86552417e-01 -2.51415894e-01 -8.86693899e-02\n",
      " -7.13857217e-01  1.09204688e-01  5.98489263e-01 -8.86487565e-01\n",
      " -3.86525345e-01  6.28708848e-01  5.42149109e+01  3.53206856e-01\n",
      " -2.99794080e-01 -4.21563340e+00  1.11414633e+00 -2.85996197e-01\n",
      " -1.75770872e+00 -2.54744611e-01  2.01428115e+00  3.81401732e-01\n",
      " -1.11205007e+00  1.58734472e-01 -4.55702227e-01 -3.49565579e-01\n",
      " -4.99437890e+00  2.78149621e-01 -1.89487151e+00 -2.58270297e-01\n",
      "  5.76739961e-01  5.63888986e-01  4.51941561e-01 -2.89242571e+00\n",
      "  6.88474203e-01  4.86437698e+00  2.89050375e-01 -4.39017144e-01\n",
      " -3.19804780e+00  1.66936443e+00 -4.31875676e+00  3.48619471e-01\n",
      " -9.08891005e-01  6.01325610e-01  1.07363047e+00 -1.06799942e+00\n",
      " -3.65124852e-01 -7.26620322e-01  1.37915793e+00 -4.92052243e+00\n",
      "  1.82155794e+00  1.24284494e+00  6.90329676e-01  8.82689646e-01\n",
      " -4.74341236e+00 -6.43167645e-01  1.07169028e+00 -4.01487988e-01\n",
      "  8.99435856e-01  3.24712717e-01  6.98392933e-01  2.47327254e+00\n",
      " -2.45525652e+00  1.17985539e+00 -2.09262197e+00 -8.27650031e-01\n",
      " -3.63302393e-01 -6.55338191e-01  4.16012554e+00 -2.92004532e+00\n",
      " -2.61679226e+00  1.55541454e+00 -2.09793634e+00  1.01149575e+01\n",
      "  7.06693373e-01 -3.41023683e+00  6.84143839e-01 -1.33820259e+00\n",
      "  1.62996518e+00 -6.02496784e+00 -4.31000471e-01  7.82251464e-01\n",
      " -1.22803298e+00 -9.91351509e-01  9.21748389e+00 -1.23757699e+00]\n",
      "正太分布数数组的累计和为：\n",
      " [-0.14402412  1.34712609  0.34212694 -0.33547436 -0.23871848 -0.23215699\n",
      "  0.18998002 -1.37953481 -3.18528275 -2.89652228 -2.04280491 -1.36389275\n",
      "  1.15766186  1.30048105  1.62538246  0.28186691  0.58721269  1.18047238\n",
      "  0.46452719 -1.67826414 -1.95843221 -0.03543784  0.33215438  0.07270348\n",
      " -0.54821311 -0.15057277 -0.14577704  0.61864753 -0.31532688 -0.38411844\n",
      " -0.11485399 -1.19878449 -1.38083968 -2.67625472 -2.50746001 -1.58979245\n",
      " -1.91351888  0.41741779 -0.41646008 -1.53213056 -1.6122206  -0.13819379\n",
      " -0.3598447  -2.02476709 -1.26185827 -0.46382886  0.55400185  0.39150849\n",
      "  1.08870236  1.18943469  2.91923697  1.75755113  1.59495194  1.91243804\n",
      "  1.78740205  3.36505346  2.74891798  3.69682372  4.23704684  3.68461209\n",
      "  2.04133857  1.20183549  1.65138516  1.52334998  1.87469757  2.39769121\n",
      "  3.35375615  4.11279984  3.96944312  2.89662796  3.54980175  1.78138023\n",
      "  2.581882    4.83002309  5.88959853  6.19284048  5.88330053  6.53592288\n",
      "  6.16318475  5.20867503  3.00665265  1.7706496   1.96775904  1.68351687\n",
      "  1.36251317  1.90899128  1.49906464  1.58507588  2.83031184  2.56933289\n",
      "  3.88484573  3.20482911  3.76925835  3.61490068  1.43392858  2.64837182\n",
      "  1.86663386  0.88817164  0.99449132  0.19454109]\n",
      "正态分布数去重后的值组为：\n",
      " [-2.20202238 -2.18097209 -2.14279133 -1.80574794 -1.76842152 -1.66492239\n",
      " -1.64327352 -1.56951484 -1.34351555 -1.29541504 -1.23600305 -1.16168584\n",
      " -1.11567049 -1.0839305  -1.07281516 -1.00499915 -0.97846222 -0.95450972\n",
      " -0.93397441 -0.83950308 -0.83387787 -0.79995023 -0.78173796 -0.71594519\n",
      " -0.68001662 -0.67760131 -0.62091659 -0.61613549 -0.55243476 -0.40992664\n",
      " -0.37273813 -0.32372643 -0.3210037  -0.30953996 -0.28424216 -0.28016807\n",
      " -0.26097894 -0.2594509  -0.22165091 -0.18205519 -0.1625992  -0.16249337\n",
      " -0.15435767 -0.14402412 -0.14335671 -0.12803519 -0.12503598 -0.08009004\n",
      " -0.06879156  0.00479573  0.0065615   0.08601124  0.09675588  0.10073232\n",
      "  0.10631969  0.14281919  0.16879471  0.19710944  0.26926445  0.28876047\n",
      "  0.30324196  0.30534578  0.3174861   0.32490141  0.3513476   0.36759223\n",
      "  0.39764034  0.42213701  0.44954967  0.52299364  0.54022312  0.54647811\n",
      "  0.56442923  0.5932597   0.65262235  0.65317379  0.67891216  0.69719388\n",
      "  0.75904368  0.76290882  0.76442457  0.79802942  0.80050178  0.85371738\n",
      "  0.91766757  0.94790574  0.95606494  1.01783071  1.05957544  1.21444324\n",
      "  1.24523596  1.31551283  1.47402682  1.49115021  1.57765141  1.72980229\n",
      "  1.92299437  2.24814108  2.33093666  2.5215546 ]\n",
      "正态分布数组的均值为： 0.0019454109086951487\n",
      "正态分布数组的标准差为: 0.9851424738883895\n",
      "正态分布数组的方差为： 0.9705056938589361\n",
      "正态分布数组的最小值为: -2.202022381939069\n",
      "正态分布数组的最大值为： 2.521554603750219\n",
      "正态分布数组的总和为： 0.19454109086951488\n"
     ]
    }
   ],
   "source": [
    "import numpy as np\n",
    "#1、创建一个数值范围为0~1，间隔为0.01的数组\n",
    "arr1 = np.arange(0,1,0.01)\n",
    "print('arange函数创建的数值范围为0~1间隔为0.01的数组arr1为：\\n',arr1)\n",
    "#2、创建由100个服从正太分布的随机数构成的数组\n",
    "arr2 = np.random.randn(100)\n",
    "print('生成的随机数组arr1为：\\n',arr2)\n",
    "#3、对创建的两个数组进行四则运算\n",
    "print('arr1 + arr2: \\n',arr1+arr2)\n",
    "print('arr1 - arr2: \\n',arr1-arr2)\n",
    "print('arr1 * arr2: \\n',arr1*arr2)\n",
    "print('arr1 / arr2: \\n',arr1/arr2)\n",
    "#4、对创建的数组进行简单的统计分析\n",
    "print('正太分布数数组的累计和为：\\n',np.cumsum(arr2))#计算所有元素的累计和\n",
    "print('正态分布数去重后的值组为：\\n',np.unique(arr2))#去除重复值\n",
    "print('正态分布数组的均值为：',np.mean(arr2))#计算数组均值\n",
    "print('正态分布数组的标准差为:',np.std(arr2))#计算数组标准差\n",
    "print('正态分布数组的方差为：',np.var(arr2))#计算数组方差\n",
    "print('正态分布数组的最小值为:',np.min(arr2))#计算最小值\n",
    "print('正态分布数组的最大值为：',np.max(arr2))#计算最大值\n",
    "print('正态分布数组的总和为：',np.sum(arr2))#计算数组总和"
   ]
  },
  {
   "cell_type": "code",
   "execution_count": 69,
   "metadata": {},
   "outputs": [
    {
     "name": "stdout",
     "output_type": "stream",
     "text": [
      "国际棋盘对应的矩阵为：\n",
      " [[0. 1. 0. 1. 0. 1. 0. 1.]\n",
      " [1. 0. 1. 0. 1. 0. 1. 0.]\n",
      " [0. 1. 0. 1. 0. 1. 0. 1.]\n",
      " [1. 0. 1. 0. 1. 0. 1. 0.]\n",
      " [0. 1. 0. 1. 0. 1. 0. 1.]\n",
      " [1. 0. 1. 0. 1. 0. 1. 0.]\n",
      " [0. 1. 0. 1. 0. 1. 0. 1.]\n",
      " [1. 0. 1. 0. 1. 0. 1. 0.]]\n",
      "□   ■   □   ■   □   ■   □   ■   \n",
      "\n",
      "■   □   ■   □   ■   □   ■   □   \n",
      "\n",
      "□   ■   □   ■   □   ■   □   ■   \n",
      "\n",
      "■   □   ■   □   ■   □   ■   □   \n",
      "\n",
      "□   ■   □   ■   □   ■   □   ■   \n",
      "\n",
      "■   □   ■   □   ■   □   ■   □   \n",
      "\n",
      "□   ■   □   ■   □   ■   □   ■   \n",
      "\n",
      "■   □   ■   □   ■   □   ■   □   \n",
      "\n"
     ]
    }
   ],
   "source": [
    "import numpy as np\n",
    "matr1=np.ones((8,8))\n",
    "for i in range(8):\n",
    "    for j in range(8):\n",
    "        if(i+j)%2==0:\n",
    "            matr1[i,j]=0\n",
    "print('国际棋盘对应的矩阵为：\\n',matr1)\n",
    "\n",
    "for i in range(0,8):\n",
    "    for j in range(0,8):\n",
    "        if matr1[i,j]==0:\n",
    "            print(\"□\",end='   ')\n",
    "        else:\n",
    "            print(\"■\", end='   ')\n",
    "    print('\\n')"
   ]
  },
  {
   "cell_type": "code",
   "execution_count": 70,
   "metadata": {},
   "outputs": [
    {
     "data": {
      "text/html": [
       "<div>\n",
       "<style scoped>\n",
       "    .dataframe tbody tr th:only-of-type {\n",
       "        vertical-align: middle;\n",
       "    }\n",
       "\n",
       "    .dataframe tbody tr th {\n",
       "        vertical-align: top;\n",
       "    }\n",
       "\n",
       "    .dataframe thead th {\n",
       "        text-align: right;\n",
       "    }\n",
       "</style>\n",
       "<table border=\"1\" class=\"dataframe\">\n",
       "  <thead>\n",
       "    <tr style=\"text-align: right;\">\n",
       "      <th></th>\n",
       "      <th>统计学</th>\n",
       "      <th>高数</th>\n",
       "      <th>英语</th>\n",
       "    </tr>\n",
       "  </thead>\n",
       "  <tbody>\n",
       "    <tr>\n",
       "      <th>张三</th>\n",
       "      <td>85</td>\n",
       "      <td>68</td>\n",
       "      <td>90</td>\n",
       "    </tr>\n",
       "    <tr>\n",
       "      <th>李四</th>\n",
       "      <td>82</td>\n",
       "      <td>63</td>\n",
       "      <td>88</td>\n",
       "    </tr>\n",
       "    <tr>\n",
       "      <th>王五</th>\n",
       "      <td>84</td>\n",
       "      <td>90</td>\n",
       "      <td>78</td>\n",
       "    </tr>\n",
       "  </tbody>\n",
       "</table>\n",
       "</div>"
      ],
      "text/plain": [
       "    统计学  高数  英语\n",
       "张三   85  68  90\n",
       "李四   82  63  88\n",
       "王五   84  90  78"
      ]
     },
     "execution_count": 70,
     "metadata": {},
     "output_type": "execute_result"
    }
   ],
   "source": [
    "import pandas as pd\n",
    "df = pd.DataFrame(np.array([[85, 68, 90], [82, 63, 88], [84, 90, 78]]), columns=['统计学', '高数', '英语'], index=['张三', '李四', '王五'])\n",
    "df"
   ]
  },
  {
   "cell_type": "code",
   "execution_count": 71,
   "metadata": {},
   "outputs": [
    {
     "name": "stdout",
     "output_type": "stream",
     "text": [
      "[1. 2. 3.]\n",
      "float64\n",
      "<class 'numpy.float64'>\n"
     ]
    }
   ],
   "source": [
    "import numpy as np\n",
    "\n",
    "a = [1, 2, 3]\n",
    "b = np.array(a, dtype=np.float_)\n",
    "# 或者\n",
    "b = np.array(a, dtype=float)\n",
    "\n",
    "print(b)\n",
    "print(b.dtype)\n",
    "print(type(b[0]))"
   ]
  },
  {
   "cell_type": "code",
   "execution_count": 72,
   "metadata": {},
   "outputs": [
    {
     "name": "stdout",
     "output_type": "stream",
     "text": [
      "array('i', [1, 2, 3, 4])\n",
      "[1 2 3 4]\n",
      "array('i', [10, 2, 3, 4])\n",
      "[10  2  3  4]\n"
     ]
    }
   ],
   "source": [
    "import numpy as np\n",
    "import array\n",
    "\n",
    "a = array.array('i', [1, 2, 3, 4])\n",
    "print(a)\n",
    "\n",
    "na = np.frombuffer(a, dtype=np.int_)\n",
    "print(na)\n",
    "\n",
    "a[0] = 10\n",
    "print(a)\n",
    "print(na)"
   ]
  },
  {
   "cell_type": "code",
   "execution_count": 74,
   "metadata": {},
   "outputs": [],
   "source": [
    "# GRADED FUNCTION: initialize_parameters\n",
    "\n",
    "def initialize_parameters(n_x, n_h, n_y):\n",
    "    \"\"\"\n",
    "    Argument:\n",
    "    n_x -- size of the input layer\n",
    "    n_h -- size of the hidden layer\n",
    "    n_y -- size of the output layer\n",
    "    \n",
    "    Returns:\n",
    "    parameters -- python dictionary containing your parameters:\n",
    "                    W1 -- weight matrix of shape (n_h, n_x)\n",
    "                    b1 -- bias vector of shape (n_h, 1)\n",
    "                    W2 -- weight matrix of shape (n_y, n_h)\n",
    "                    b2 -- bias vector of shape (n_y, 1)\n",
    "    \"\"\"\n",
    "    \n",
    "    np.random.seed(1)\n",
    "    \n",
    "    ### START CODE HERE ### (≈ 4 lines of code)\n",
    "    W1 = np.random.randn(n_h, n_x)*0.01\n",
    "    b1 = np.zeros((n_h, 1))\n",
    "    W2 = np.random.randn(n_y, n_h)*0.01\n",
    "    b2 = np.zeros((n_y, 1))\n",
    "    ### END CODE HERE ###\n",
    "    \n",
    "    assert(W1.shape == (n_h, n_x))\n",
    "    assert(b1.shape == (n_h, 1))\n",
    "    assert(W2.shape == (n_y, n_h))\n",
    "    assert(b2.shape == (n_y, 1))\n",
    "    \n",
    "    parameters = {\"W1\": W1,\n",
    "                  \"b1\": b1,\n",
    "                  \"W2\": W2,\n",
    "                  \"b2\": b2}\n",
    "    \n",
    "    return parameters"
   ]
  },
  {
   "cell_type": "code",
   "execution_count": 75,
   "metadata": {},
   "outputs": [
    {
     "name": "stdout",
     "output_type": "stream",
     "text": [
      "W1 = [[ 0.01624345 -0.00611756]\n",
      " [-0.00528172 -0.01072969]]\n",
      "b1 = [[0.]\n",
      " [0.]]\n",
      "W2 = [[ 0.00865408 -0.02301539]]\n",
      "b2 = [[0.]]\n"
     ]
    }
   ],
   "source": [
    "parameters = initialize_parameters(2,2,1)\n",
    "print(\"W1 = \" + str(parameters[\"W1\"]))\n",
    "print(\"b1 = \" + str(parameters[\"b1\"]))\n",
    "print(\"W2 = \" + str(parameters[\"W2\"]))\n",
    "print(\"b2 = \" + str(parameters[\"b2\"]))"
   ]
  },
  {
   "cell_type": "code",
   "execution_count": 76,
   "metadata": {},
   "outputs": [],
   "source": [
    "# GRADED FUNCTION: initialize_parameters_deep\n",
    "\n",
    "def initialize_parameters_deep(layer_dims):\n",
    "    \"\"\"\n",
    "    Arguments:\n",
    "    layer_dims -- python array (list) containing the dimensions of each layer in our network\n",
    "    \n",
    "    Returns:\n",
    "    parameters -- python dictionary containing your parameters \"W1\", \"b1\", ..., \"WL\", \"bL\":\n",
    "                    Wl -- weight matrix of shape (layer_dims[l], layer_dims[l-1])\n",
    "                    bl -- bias vector of shape (layer_dims[l], 1)\n",
    "    \"\"\"\n",
    "    \n",
    "    np.random.seed(3)\n",
    "    parameters = {}\n",
    "    L = len(layer_dims)            # number of layers in the network\n",
    "\n",
    "    for l in range(1, L):\n",
    "        ### START CODE HERE ### (≈ 2 lines of code)\n",
    "        parameters['W' + str(l)] = np.random.randn(layer_dims[l],layer_dims[l-1])*0.01\n",
    "        parameters['b' + str(l)] = np.zeros((layer_dims[l],1))\n",
    "        ### END CODE HERE ###\n",
    "        \n",
    "        assert(parameters['W' + str(l)].shape == (layer_dims[l], layer_dims[l-1]))\n",
    "        assert(parameters['b' + str(l)].shape == (layer_dims[l], 1))\n",
    "\n",
    "        \n",
    "    return parameters"
   ]
  },
  {
   "cell_type": "code",
   "execution_count": 77,
   "metadata": {},
   "outputs": [
    {
     "name": "stdout",
     "output_type": "stream",
     "text": [
      "W1 = [[ 0.01788628  0.0043651   0.00096497 -0.01863493 -0.00277388]\n",
      " [-0.00354759 -0.00082741 -0.00627001 -0.00043818 -0.00477218]\n",
      " [-0.01313865  0.00884622  0.00881318  0.01709573  0.00050034]\n",
      " [-0.00404677 -0.0054536  -0.01546477  0.00982367 -0.01101068]]\n",
      "b1 = [[0.]\n",
      " [0.]\n",
      " [0.]\n",
      " [0.]]\n",
      "W2 = [[-0.01185047 -0.0020565   0.01486148  0.00236716]\n",
      " [-0.01023785 -0.00712993  0.00625245 -0.00160513]\n",
      " [-0.00768836 -0.00230031  0.00745056  0.01976111]]\n",
      "b2 = [[0.]\n",
      " [0.]\n",
      " [0.]]\n"
     ]
    }
   ],
   "source": [
    "parameters = initialize_parameters_deep([5,4,3])\n",
    "print(\"W1 = \" + str(parameters[\"W1\"]))\n",
    "print(\"b1 = \" + str(parameters[\"b1\"]))\n",
    "print(\"W2 = \" + str(parameters[\"W2\"]))\n",
    "print(\"b2 = \" + str(parameters[\"b2\"]))"
   ]
  },
  {
   "cell_type": "code",
   "execution_count": 78,
   "metadata": {},
   "outputs": [],
   "source": [
    "# GRADED FUNCTION: linear_forward\n",
    "\n",
    "def linear_forward(A, W, b):\n",
    "    \"\"\"\n",
    "    Implement the linear part of a layer's forward propagation.\n",
    "\n",
    "    Arguments:\n",
    "    A -- activations from previous layer (or input data): (size of previous layer, number of examples)\n",
    "    W -- weights matrix: numpy array of shape (size of current layer, size of previous layer)\n",
    "    b -- bias vector, numpy array of shape (size of the current layer, 1)\n",
    "\n",
    "    Returns:\n",
    "    Z -- the input of the activation function, also called pre-activation parameter \n",
    "    cache -- a python dictionary containing \"A\", \"W\" and \"b\" ; stored for computing the backward pass efficiently\n",
    "    \"\"\"\n",
    "    \n",
    "    ### START CODE HERE ### (≈ 1 line of code)\n",
    "    Z = np.dot(W,A)+b\n",
    "    ### END CODE HERE ###\n",
    "    \n",
    "    assert(Z.shape == (W.shape[0], A.shape[1]))\n",
    "    cache = (A, W, b)\n",
    "    \n",
    "    return Z, cache"
   ]
  },
  {
   "cell_type": "code",
   "execution_count": 81,
   "metadata": {},
   "outputs": [
    {
     "ename": "SyntaxError",
     "evalue": "expression cannot contain assignment, perhaps you meant \"==\"? (<ipython-input-81-77d286e6afd4>, line 3)",
     "output_type": "error",
     "traceback": [
      "\u001b[1;36m  File \u001b[1;32m\"<ipython-input-81-77d286e6afd4>\"\u001b[1;36m, line \u001b[1;32m3\u001b[0m\n\u001b[1;33m    print(\"Z\" = + \"str\"(Z))\u001b[0m\n\u001b[1;37m          ^\u001b[0m\n\u001b[1;31mSyntaxError\u001b[0m\u001b[1;31m:\u001b[0m expression cannot contain assignment, perhaps you meant \"==\"?\n"
     ]
    }
   ],
   "source": [
    "A, W, b = linear_forward_test_case()\n",
    "Z, linear_cache = linear_forward(A, W, b)\n",
    "print(\"Z = + str(Z))"
   ]
  },
  {
   "cell_type": "code",
   "execution_count": null,
   "metadata": {},
   "outputs": [],
   "source": []
  }
 ],
 "metadata": {
  "kernelspec": {
   "display_name": "Python 3",
   "language": "python",
   "name": "python3"
  },
  "language_info": {
   "codemirror_mode": {
    "name": "ipython",
    "version": 3
   },
   "file_extension": ".py",
   "mimetype": "text/x-python",
   "name": "python",
   "nbconvert_exporter": "python",
   "pygments_lexer": "ipython3",
   "version": "3.8.3"
  }
 },
 "nbformat": 4,
 "nbformat_minor": 4
}
