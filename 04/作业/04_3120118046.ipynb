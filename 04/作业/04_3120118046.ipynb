{
 "cells": [
  {
   "cell_type": "code",
   "execution_count": 1,
   "metadata": {},
   "outputs": [
    {
     "name": "stdout",
     "output_type": "stream",
     "text": [
      "<class 'str'>\n",
      "str1[3]:  y\n",
      "str2[1:6]  want\n"
     ]
    }
   ],
   "source": [
    "str1=\"Jupyter Lab\"\n",
    "str2=\"I want to have a rest.\"\n",
    "print(type(str1))\n",
    "print(\"str1[3]: \", str1[3])\n",
    "print(\"str2[1:6]\", str2[1:6])"
   ]
  },
  {
   "cell_type": "code",
   "execution_count": 2,
   "metadata": {},
   "outputs": [
    {
     "name": "stdout",
     "output_type": "stream",
     "text": [
      "已更新字符串： Jupyter Mars\n"
     ]
    }
   ],
   "source": [
    "print(\"已更新字符串：\", str1[:8]+'Mars')"
   ]
  },
  {
   "cell_type": "code",
   "execution_count": 3,
   "metadata": {},
   "outputs": [
    {
     "data": {
      "text/plain": [
       "False"
      ]
     },
     "execution_count": 3,
     "metadata": {},
     "output_type": "execute_result"
    }
   ],
   "source": [
    "'Hi' *5\n",
    "'e' in 'Hi'"
   ]
  },
  {
   "cell_type": "code",
   "execution_count": 6,
   "metadata": {},
   "outputs": [
    {
     "name": "stdout",
     "output_type": "stream",
     "text": [
      "Her name is Lin.\n",
      "She\\'s fine.\n"
     ]
    }
   ],
   "source": [
    "name='Lin'\n",
    "print(f\"Her name is {name}.\")\n",
    "print(r'She\\'s fine.')"
   ]
  },
  {
   "cell_type": "code",
   "execution_count": 8,
   "metadata": {},
   "outputs": [
    {
     "name": "stdout",
     "output_type": "stream",
     "text": [
      "Saving completed\n",
      "SAVING COMPLETED\n",
      "Saving Completed\n"
     ]
    }
   ],
   "source": [
    "sentence=\"saving completed\"\n",
    "print(sentence.capitalize())\n",
    "print(sentence.upper())\n",
    "print(sentence.title())"
   ]
  },
  {
   "cell_type": "code",
   "execution_count": 12,
   "metadata": {},
   "outputs": [
    {
     "name": "stdout",
     "output_type": "stream",
     "text": [
      "str3.count('o')= 2\n",
      "str3.count('on',0,5)= 1\n"
     ]
    }
   ],
   "source": [
    "str3=\"coconut juice\"\n",
    "print(\"str3.count('o')=\",str3.count('o'))\n",
    "print(\"str3.count('on',0,5)=\", str3.count('on',0,5))"
   ]
  },
  {
   "cell_type": "code",
   "execution_count": 13,
   "metadata": {},
   "outputs": [
    {
     "name": "stdout",
     "output_type": "stream",
     "text": [
      "True\n",
      "True\n",
      "False\n",
      "False\n",
      "True\n",
      "------------------------------\n",
      "True\n",
      "True\n",
      "True\n",
      "True\n",
      "True\n",
      "------------------------------\n",
      "False\n",
      "False\n",
      "True\n",
      "False\n",
      "False\n",
      "------------------------------\n",
      "False\n",
      "False\n",
      "True\n",
      "False\n",
      "True\n"
     ]
    }
   ],
   "source": [
    "s1=\"你好\"\n",
    "s2=\"ciao\"\n",
    "s3=\"123\"\n",
    "s4=\"你好123\"\n",
    "s5=\"二零二零\"\n",
    "print(s1.isalpha())\n",
    "print(s2.isalpha())\n",
    "print(s3.isalpha())\n",
    "print(s4.isalpha())\n",
    "print(s5.isalpha())\n",
    "print('-'*30)\n",
    "print(s1.isalnum())\n",
    "print(s2.isalnum())\n",
    "print(s3.isalnum())\n",
    "print(s4.isalnum())\n",
    "print(s5.isalnum())\n",
    "print('-'*30)\n",
    "print(s1.isdigit())\n",
    "print(s2.isdigit())\n",
    "print(s3.isdigit())\n",
    "print(s4.isdigit())\n",
    "print(s5.isdigit())\n",
    "print('-'*30)\n",
    "print(s1.isnumeric())\n",
    "print(s2.isnumeric())\n",
    "print(s3.isnumeric())\n",
    "print(s4.isnumeric())\n",
    "print(s5.isnumeric())"
   ]
  },
  {
   "cell_type": "code",
   "execution_count": 16,
   "metadata": {},
   "outputs": [
    {
     "name": "stdout",
     "output_type": "stream",
     "text": [
      "False\n",
      "True\n",
      "True\n"
     ]
    }
   ],
   "source": [
    "var=\"this is string example...wow!\"\n",
    "print(var.startswith('a'))\n",
    "print(var.startswith('string', 8))\n",
    "print(var.startswith('is',2,4))"
   ]
  },
  {
   "cell_type": "code",
   "execution_count": 4,
   "metadata": {},
   "outputs": [
    {
     "name": "stdout",
     "output_type": "stream",
     "text": [
      "True\n",
      "False\n",
      "False\n",
      "False\n"
     ]
    }
   ],
   "source": [
    "var='Runoob example. Wow!!!'\n",
    "suffix='!!'\n",
    "print (var.endswith(suffix))\n",
    "print (var.endswith(suffix, len(var)-1))\n",
    "suffix='Run'\n",
    "print (var.endswith(suffix))\n",
    "print (var.endswith(suffix, 0, 2))"
   ]
  },
  {
   "cell_type": "code",
   "execution_count": 10,
   "metadata": {},
   "outputs": [
    {
     "name": "stdout",
     "output_type": "stream",
     "text": [
      "2\n",
      "2\n"
     ]
    },
    {
     "ename": "ValueError",
     "evalue": "substring not found",
     "output_type": "error",
     "traceback": [
      "\u001b[1;31m---------------------------------------------------------------------------\u001b[0m",
      "\u001b[1;31mValueError\u001b[0m                                Traceback (most recent call last)",
      "\u001b[1;32m<ipython-input-10-b9497e521279>\u001b[0m in \u001b[0;36m<module>\u001b[1;34m\u001b[0m\n\u001b[0;32m      3\u001b[0m \u001b[0mprint\u001b[0m\u001b[1;33m(\u001b[0m\u001b[0mstr1\u001b[0m\u001b[1;33m.\u001b[0m\u001b[0mfind\u001b[0m\u001b[1;33m(\u001b[0m\u001b[0mstr2\u001b[0m\u001b[1;33m)\u001b[0m\u001b[1;33m)\u001b[0m\u001b[1;33m\u001b[0m\u001b[1;33m\u001b[0m\u001b[0m\n\u001b[0;32m      4\u001b[0m \u001b[0mprint\u001b[0m\u001b[1;33m(\u001b[0m\u001b[0mstr1\u001b[0m\u001b[1;33m.\u001b[0m\u001b[0mfind\u001b[0m\u001b[1;33m(\u001b[0m\u001b[0mstr2\u001b[0m\u001b[1;33m,\u001b[0m \u001b[1;36m2\u001b[0m\u001b[1;33m)\u001b[0m\u001b[1;33m)\u001b[0m\u001b[1;33m\u001b[0m\u001b[1;33m\u001b[0m\u001b[0m\n\u001b[1;32m----> 5\u001b[1;33m \u001b[0mprint\u001b[0m\u001b[1;33m(\u001b[0m\u001b[0mstr1\u001b[0m\u001b[1;33m.\u001b[0m\u001b[0mindex\u001b[0m\u001b[1;33m(\u001b[0m\u001b[0mstr2\u001b[0m\u001b[1;33m,\u001b[0m \u001b[1;36m3\u001b[0m\u001b[1;33m)\u001b[0m\u001b[1;33m)\u001b[0m\u001b[1;33m\u001b[0m\u001b[1;33m\u001b[0m\u001b[0m\n\u001b[0m",
      "\u001b[1;31mValueError\u001b[0m: substring not found"
     ]
    }
   ],
   "source": [
    "str1='nude mood'\n",
    "str2='de'\n",
    "print(str1.find(str2))\n",
    "print(str1.find(str2, 2))\n",
    "print(str1.index(str2, 3))"
   ]
  },
  {
   "cell_type": "code",
   "execution_count": 17,
   "metadata": {},
   "outputs": [
    {
     "name": "stdout",
     "output_type": "stream",
     "text": [
      "--Hi! Go -to- sleep!--\n"
     ]
    },
    {
     "data": {
      "text/plain": [
       "'Hi! Go -to- sleep!'"
      ]
     },
     "execution_count": 17,
     "metadata": {},
     "output_type": "execute_result"
    }
   ],
   "source": [
    "str1=\" --Hi! Go -to- sleep!--  \"\n",
    "str1 = str1.strip()\n",
    "print(str1)\n",
    "str1 = str1.strip('-')\n",
    "str1"
   ]
  },
  {
   "cell_type": "code",
   "execution_count": 19,
   "metadata": {},
   "outputs": [
    {
     "name": "stdout",
     "output_type": "stream",
     "text": [
      "['Google', 'Runoob', 'Taobao', 'Facebook']\n",
      "['Google', 'Runoob', 'Taobao#Facebook']\n"
     ]
    }
   ],
   "source": [
    "txt = \"Google#Runoob#Taobao#Facebook\"\n",
    "print(txt.split('#'))\n",
    "x = txt.split(\"#\", 2)\n",
    "print(x)"
   ]
  },
  {
   "cell_type": "code",
   "execution_count": 21,
   "metadata": {},
   "outputs": [
    {
     "name": "stdout",
     "output_type": "stream",
     "text": [
      "The old website is: www.old.com\n",
      "The new one is: www.new.com\n"
     ]
    }
   ],
   "source": [
    "str1=\"www.old.com\"\n",
    "print('The old website is:',str1)\n",
    "print('The new one is:', str1.replace('old','new'))"
   ]
  },
  {
   "cell_type": "code",
   "execution_count": 22,
   "metadata": {},
   "outputs": [
    {
     "name": "stdout",
     "output_type": "stream",
     "text": [
      "<class 'list'>\n"
     ]
    },
    {
     "data": {
      "text/plain": [
       "['apple', 'orange', 'grape', 'kiwi']"
      ]
     },
     "execution_count": 22,
     "metadata": {},
     "output_type": "execute_result"
    }
   ],
   "source": [
    "fruit=['apple','orange','grape','kiwi']\n",
    "print(type(fruit))\n",
    "fruit"
   ]
  },
  {
   "cell_type": "code",
   "execution_count": 23,
   "metadata": {},
   "outputs": [
    {
     "name": "stdout",
     "output_type": "stream",
     "text": [
      "grape\n",
      "kiwi\n"
     ]
    }
   ],
   "source": [
    "print(fruit[2])\n",
    "print(fruit[-1])"
   ]
  },
  {
   "cell_type": "code",
   "execution_count": 26,
   "metadata": {},
   "outputs": [
    {
     "name": "stdout",
     "output_type": "stream",
     "text": [
      "<class 'list'>\n",
      "[5, 15, 20, 25, 30, 35]\n",
      "[15, 20]\n",
      "[5, 15, 20, 25, 30]\n",
      "[0, 5, 15, 20]\n",
      "[35, 30, 25, 20]\n",
      "[15, 20, 25, 30]\n",
      "[25, 20, 15, 5, 0]\n",
      "[35, 30, 25, 20, 15, 5, 0]\n"
     ]
    }
   ],
   "source": [
    "numbers=[0,5,15,20,25,30,35]\n",
    "print(type(numbers))\n",
    "\n",
    "print(numbers[1:])\n",
    "print(numbers[2:4])\n",
    "print(numbers[1:6:1])\n",
    "print(numbers[:4])\n",
    "print(numbers[-1:-5:-1])\n",
    "print(numbers[-5:-1])\n",
    "print(numbers[-3::-1])\n",
    "print(numbers[::-1])"
   ]
  },
  {
   "cell_type": "code",
   "execution_count": 27,
   "metadata": {},
   "outputs": [
    {
     "data": {
      "text/plain": [
       "['apple', 'orange', 'grape', 'pear']"
      ]
     },
     "execution_count": 27,
     "metadata": {},
     "output_type": "execute_result"
    }
   ],
   "source": [
    "fruit[3]='pear'\n",
    "fruit"
   ]
  },
  {
   "cell_type": "code",
   "execution_count": 28,
   "metadata": {},
   "outputs": [
    {
     "data": {
      "text/plain": [
       "['apple', 'pear']"
      ]
     },
     "execution_count": 28,
     "metadata": {},
     "output_type": "execute_result"
    }
   ],
   "source": [
    "del fruit[1]\n",
    "fruit.remove('grape')\n",
    "fruit"
   ]
  },
  {
   "cell_type": "code",
   "execution_count": 30,
   "metadata": {},
   "outputs": [
    {
     "data": {
      "text/plain": [
       "['apple', 'orange', 'orange', 'pear', 'apple', 'apple']"
      ]
     },
     "execution_count": 30,
     "metadata": {},
     "output_type": "execute_result"
    }
   ],
   "source": [
    "fruit.append('apple')\n",
    "fruit.insert(1,'orange')\n",
    "fruit"
   ]
  },
  {
   "cell_type": "code",
   "execution_count": 31,
   "metadata": {},
   "outputs": [
    {
     "name": "stdout",
     "output_type": "stream",
     "text": [
      "3\n",
      "3\n"
     ]
    }
   ],
   "source": [
    "print(fruit.count('apple'))\n",
    "print(fruit.index('pear'))"
   ]
  },
  {
   "cell_type": "code",
   "execution_count": 32,
   "metadata": {},
   "outputs": [
    {
     "data": {
      "text/plain": [
       "[1, 4, 9, 16, 25, 36, 49, 64]"
      ]
     },
     "execution_count": 32,
     "metadata": {},
     "output_type": "execute_result"
    }
   ],
   "source": [
    "squares = []\n",
    "squares += [1, 4, 9, 16, 25]\n",
    "squares += [36, 49, 64]\n",
    "squares"
   ]
  },
  {
   "cell_type": "code",
   "execution_count": 33,
   "metadata": {},
   "outputs": [
    {
     "data": {
      "text/plain": [
       "['Hello',\n",
       " 'World',\n",
       " 'Hello',\n",
       " 'World',\n",
       " 'Hello',\n",
       " 'World',\n",
       " 'Hello',\n",
       " 'World',\n",
       " 'Hello',\n",
       " 'World']"
      ]
     },
     "execution_count": 33,
     "metadata": {},
     "output_type": "execute_result"
    }
   ],
   "source": [
    "['Hello', 'World'] * 5"
   ]
  },
  {
   "cell_type": "code",
   "execution_count": 34,
   "metadata": {},
   "outputs": [
    {
     "name": "stdout",
     "output_type": "stream",
     "text": [
      "<class 'tuple'>\n",
      "('Google', 'Runoob', 1997, 2000)\n",
      "(1, 2, 3, 4, 5)\n",
      "('a', 'b', 'c', 'd')\n",
      "(1,)\n",
      "(1,)\n"
     ]
    }
   ],
   "source": [
    "tup1 = ('Google', 'Runoob', 1997, 2000)\n",
    "print(type(tup1))\n",
    "tup2 = (1, 2, 3, 4, 5)\n",
    "tup3 = \"a\", \"b\", \"c\", \"d\"   \n",
    "tup4 = (1,)\n",
    "tup5 = 1,\n",
    "print(tup1)\n",
    "print(tup2)\n",
    "print(tup3)\n",
    "print(tup4)\n",
    "print(tup5)"
   ]
  },
  {
   "cell_type": "code",
   "execution_count": 35,
   "metadata": {},
   "outputs": [
    {
     "data": {
      "text/plain": [
       "'Runoob'"
      ]
     },
     "execution_count": 35,
     "metadata": {},
     "output_type": "execute_result"
    }
   ],
   "source": [
    "tup1[1]"
   ]
  },
  {
   "cell_type": "code",
   "execution_count": 40,
   "metadata": {},
   "outputs": [
    {
     "ename": "TypeError",
     "evalue": "'tuple' object does not support item assignment",
     "output_type": "error",
     "traceback": [
      "\u001b[1;31m---------------------------------------------------------------------------\u001b[0m",
      "\u001b[1;31mTypeError\u001b[0m                                 Traceback (most recent call last)",
      "\u001b[1;32m<ipython-input-40-842cf46cea7b>\u001b[0m in \u001b[0;36m<module>\u001b[1;34m\u001b[0m\n\u001b[1;32m----> 1\u001b[1;33m \u001b[0mtup1\u001b[0m\u001b[1;33m[\u001b[0m\u001b[1;36m1\u001b[0m\u001b[1;33m]\u001b[0m \u001b[1;33m=\u001b[0m \u001b[1;34m'Baidu'\u001b[0m\u001b[1;33m\u001b[0m\u001b[1;33m\u001b[0m\u001b[0m\n\u001b[0m",
      "\u001b[1;31mTypeError\u001b[0m: 'tuple' object does not support item assignment"
     ]
    }
   ],
   "source": [
    "tup2[1] = 3"
   ]
  },
  {
   "cell_type": "code",
   "execution_count": 41,
   "metadata": {},
   "outputs": [
    {
     "data": {
      "text/plain": [
       "(1, 2, 3, 4, 5, 'a', 'b', 'c', 'd')"
      ]
     },
     "execution_count": 41,
     "metadata": {},
     "output_type": "execute_result"
    }
   ],
   "source": [
    "tup2 + tup3"
   ]
  },
  {
   "cell_type": "code",
   "execution_count": 42,
   "metadata": {},
   "outputs": [
    {
     "ename": "NameError",
     "evalue": "name 'tup1' is not defined",
     "output_type": "error",
     "traceback": [
      "\u001b[1;31m---------------------------------------------------------------------------\u001b[0m",
      "\u001b[1;31mNameError\u001b[0m                                 Traceback (most recent call last)",
      "\u001b[1;32m<ipython-input-42-aed842374e0c>\u001b[0m in \u001b[0;36m<module>\u001b[1;34m\u001b[0m\n\u001b[0;32m      1\u001b[0m \u001b[1;32mdel\u001b[0m \u001b[0mtup1\u001b[0m\u001b[1;33m\u001b[0m\u001b[1;33m\u001b[0m\u001b[0m\n\u001b[1;32m----> 2\u001b[1;33m \u001b[0mprint\u001b[0m\u001b[1;33m(\u001b[0m\u001b[0mtup1\u001b[0m\u001b[1;33m)\u001b[0m\u001b[1;33m\u001b[0m\u001b[1;33m\u001b[0m\u001b[0m\n\u001b[0m",
      "\u001b[1;31mNameError\u001b[0m: name 'tup1' is not defined"
     ]
    }
   ],
   "source": [
    "del tup1\n",
    "print(tup1)"
   ]
  },
  {
   "cell_type": "code",
   "execution_count": 44,
   "metadata": {},
   "outputs": [
    {
     "data": {
      "text/plain": [
       "(0, 1, 2, 3, 4)"
      ]
     },
     "execution_count": 44,
     "metadata": {},
     "output_type": "execute_result"
    }
   ],
   "source": [
    "tuple(range(5))"
   ]
  },
  {
   "cell_type": "code",
   "execution_count": 45,
   "metadata": {},
   "outputs": [
    {
     "name": "stdout",
     "output_type": "stream",
     "text": [
      "<class 'set'>\n",
      "{'banana', 'orange', 'apple', 'pear'}\n",
      "{'e', ' ', 'l', 'r', 'd', 'o', 'W', 'H'}\n"
     ]
    }
   ],
   "source": [
    "basket = {'apple', 'orange', 'apple', 'pear', 'orange', 'banana'}\n",
    "print(type(basket))\n",
    "print(basket)\n",
    "letters = set('Hello World')\n",
    "print(letters)"
   ]
  },
  {
   "cell_type": "code",
   "execution_count": 46,
   "metadata": {},
   "outputs": [
    {
     "name": "stdout",
     "output_type": "stream",
     "text": [
      "{'orange', 'pear', 'apple', 'melon', 'banana'}\n",
      "{'orange', 'pear', 'melon', 'banana'}\n"
     ]
    }
   ],
   "source": [
    "basket.add('melon')\n",
    "print(basket)\n",
    "basket.remove('apple')\n",
    "print(basket)"
   ]
  },
  {
   "cell_type": "code",
   "execution_count": 47,
   "metadata": {},
   "outputs": [
    {
     "name": "stdout",
     "output_type": "stream",
     "text": [
      "{'c', 'a', 'd', 'r', 'b'}\n",
      "{'c', 'm', 'a', 'l', 'z'}\n",
      "{'r', 'b', 'd'}\n",
      "{'c', 'm', 'a', 'l', 'r', 'd', 'z', 'b'}\n",
      "{'a', 'c'}\n",
      "{'r', 'm', 'z', 'b', 'l', 'd'}\n"
     ]
    }
   ],
   "source": [
    "a = set('abracadabra')\n",
    "b = set('alacazam')\n",
    "print(a)\n",
    "print(b)\n",
    "print(a - b) # 集合a中包含而集合b中不包含的元素\n",
    "print(a | b) # 集合a或b中包含的所有元素\n",
    "print(a & b) # 集合a和b中都包含了的元素\n",
    "print(a ^ b) # 不同时包含于a和b的元素"
   ]
  },
  {
   "cell_type": "code",
   "execution_count": 48,
   "metadata": {},
   "outputs": [
    {
     "name": "stdout",
     "output_type": "stream",
     "text": [
      "<class 'dict'>\n",
      "dict1['Name']:  Runoob\n",
      "dict1['Age']:  7\n"
     ]
    }
   ],
   "source": [
    "dict1 = {'Name': 'Runoob', 'Age': 7, 'Class': 'First'}\n",
    "print(type(dict1))\n",
    "print (\"dict1['Name']: \", dict1['Name'])\n",
    "print (\"dict1['Age']: \", dict1['Age'])"
   ]
  },
  {
   "cell_type": "code",
   "execution_count": 49,
   "metadata": {},
   "outputs": [
    {
     "data": {
      "text/plain": [
       "{'Name': 'Ins', 'Age': 7, 'Class': 'First', 'Type': 'SSN'}"
      ]
     },
     "execution_count": 49,
     "metadata": {},
     "output_type": "execute_result"
    }
   ],
   "source": [
    "dict1 = {\n",
    "    'Name': 'Runoob', \n",
    "    'Age': 7, \n",
    "    'Class': 'First'\n",
    "}\n",
    " \n",
    "dict1['Name'] = \"Ins\"             \n",
    "dict1['Type'] = \"SSN\" \n",
    "dict1"
   ]
  },
  {
   "cell_type": "code",
   "execution_count": 50,
   "metadata": {},
   "outputs": [
    {
     "name": "stdout",
     "output_type": "stream",
     "text": [
      "dict_keys(['Name', 'Age', 'Class'])\n",
      "dict_values(['Runoob', 7, 'First'])\n",
      "dict_items([('Name', 'Runoob'), ('Age', 7), ('Class', 'First')])\n"
     ]
    }
   ],
   "source": [
    "dict1 = {'Name': 'Runoob', 'Age': 7, 'Class': 'First'}\n",
    "print(dict1.keys())\n",
    "print(dict1.values())\n",
    "print(dict1.items())"
   ]
  },
  {
   "cell_type": "code",
   "execution_count": 51,
   "metadata": {},
   "outputs": [
    {
     "name": "stdout",
     "output_type": "stream",
     "text": [
      "{'a': 0, 'b': 0, 'c': 0}\n"
     ]
    }
   ],
   "source": [
    "print(dict1.fromkeys('abc', 0))"
   ]
  },
  {
   "cell_type": "code",
   "execution_count": 52,
   "metadata": {},
   "outputs": [
    {
     "name": "stdout",
     "output_type": "stream",
     "text": [
      "['apple', 'pear', 'banana', [0, 1, 2]]\n"
     ]
    }
   ],
   "source": [
    "basket = ['apple', 'pear', 'banana']\n",
    "numbers = list(range(3))\n",
    "basket.append(numbers)\n",
    "print(basket)"
   ]
  },
  {
   "cell_type": "code",
   "execution_count": 53,
   "metadata": {},
   "outputs": [
    {
     "data": {
      "text/plain": [
       "['apple', 'pear', 'banana', 0, 1, 2]"
      ]
     },
     "execution_count": 53,
     "metadata": {},
     "output_type": "execute_result"
    }
   ],
   "source": [
    "def flat(l):\n",
    "    f = []\n",
    "    for x in l:\n",
    "        if type(x) is list:\n",
    "            f.extend(x)\n",
    "        else:\n",
    "            f.append(x)\n",
    "    return f\n",
    "flat(basket)"
   ]
  },
  {
   "cell_type": "code",
   "execution_count": 54,
   "metadata": {},
   "outputs": [
    {
     "data": {
      "text/plain": [
       "[1, 2, 3, 4, 5]"
      ]
     },
     "execution_count": 54,
     "metadata": {},
     "output_type": "execute_result"
    }
   ],
   "source": [
    "def flat(l):\n",
    "    f = []\n",
    "    for x in l:\n",
    "        if type(x) is list:\n",
    "            f.extend(x)\n",
    "        else:\n",
    "            f.append(x)\n",
    "    return f\n",
    "flat(tup2)"
   ]
  },
  {
   "cell_type": "code",
   "execution_count": 56,
   "metadata": {},
   "outputs": [
    {
     "name": "stdout",
     "output_type": "stream",
     "text": [
      "1-2-3-4-"
     ]
    }
   ],
   "source": [
    "l=[1,2,3,4]\n",
    "it = iter(l)   \n",
    "for x in it:\n",
    "    print (x, end=\"-\")"
   ]
  },
  {
   "cell_type": "code",
   "execution_count": 57,
   "metadata": {},
   "outputs": [
    {
     "name": "stdout",
     "output_type": "stream",
     "text": [
      "0-1-1-2-3-5-8-13-21-34-55-"
     ]
    }
   ],
   "source": [
    "def fibonacci(n): \n",
    "    a, b, counter = 0, 1, 0\n",
    "    while True:\n",
    "        if (counter > n): \n",
    "            return\n",
    "        yield a\n",
    "        a, b = b, a + b\n",
    "        counter += 1\n",
    "f = fibonacci(10) \n",
    "\n",
    "for x in f:\n",
    "    print (x, end=\"-\")"
   ]
  },
  {
   "cell_type": "code",
   "execution_count": 58,
   "metadata": {},
   "outputs": [
    {
     "data": {
      "text/plain": [
       "6"
      ]
     },
     "execution_count": 58,
     "metadata": {},
     "output_type": "execute_result"
    }
   ],
   "source": [
    "add = lambda x, y : x * y \n",
    "add(2, 3)"
   ]
  },
  {
   "cell_type": "code",
   "execution_count": 59,
   "metadata": {},
   "outputs": [
    {
     "data": {
      "text/plain": [
       "[1, 4, 8]"
      ]
     },
     "execution_count": 59,
     "metadata": {},
     "output_type": "execute_result"
    }
   ],
   "source": [
    "a = filter(lambda x : x % 3 != 0, [1,4,6,8])\n",
    "list(a)"
   ]
  },
  {
   "cell_type": "code",
   "execution_count": 60,
   "metadata": {},
   "outputs": [
    {
     "data": {
      "text/plain": [
       "[3, 4, 5, 6]"
      ]
     },
     "execution_count": 60,
     "metadata": {},
     "output_type": "execute_result"
    }
   ],
   "source": [
    "b = map(lambda x : x + 2, [1,2,3,4])\n",
    "list(b)"
   ]
  },
  {
   "cell_type": "code",
   "execution_count": 61,
   "metadata": {},
   "outputs": [
    {
     "data": {
      "text/plain": [
       "10"
      ]
     },
     "execution_count": 61,
     "metadata": {},
     "output_type": "execute_result"
    }
   ],
   "source": [
    "from functools import reduce\n",
    "reduce(lambda x, y : x + y, [1,2,3,4])"
   ]
  },
  {
   "cell_type": "code",
   "execution_count": 63,
   "metadata": {},
   "outputs": [
    {
     "data": {
      "text/plain": [
       "24"
      ]
     },
     "execution_count": 63,
     "metadata": {},
     "output_type": "execute_result"
    }
   ],
   "source": [
    "from functools import reduce\n",
    "reduce(lambda x, y : x * y, [1,2,3,4])"
   ]
  },
  {
   "cell_type": "code",
   "execution_count": null,
   "metadata": {},
   "outputs": [],
   "source": []
  }
 ],
 "metadata": {
  "kernelspec": {
   "display_name": "Python 3",
   "language": "python",
   "name": "python3"
  },
  "language_info": {
   "codemirror_mode": {
    "name": "ipython",
    "version": 3
   },
   "file_extension": ".py",
   "mimetype": "text/x-python",
   "name": "python",
   "nbconvert_exporter": "python",
   "pygments_lexer": "ipython3",
   "version": "3.8.3"
  }
 },
 "nbformat": 4,
 "nbformat_minor": 4
}
