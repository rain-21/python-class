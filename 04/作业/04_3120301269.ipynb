{
 "metadata": {
  "language_info": {
   "codemirror_mode": {
    "name": "ipython",
    "version": 3
   },
   "file_extension": ".py",
   "mimetype": "text/x-python",
   "name": "python",
   "nbconvert_exporter": "python",
   "pygments_lexer": "ipython3",
   "version": "3.9.0-final"
  },
  "orig_nbformat": 2,
  "kernelspec": {
   "name": "python3",
   "display_name": "Python 3.9.0 64-bit",
   "metadata": {
    "interpreter": {
     "hash": "2ab2c0e7b6e6ba9dc939283903c3ba75012ad9fbda2ac1ab93760ff1ad22e559"
    }
   }
  }
 },
 "nbformat": 4,
 "nbformat_minor": 2,
 "cells": [
  {
   "source": [
    "显示程序运行时间和显示当前时间日期的方法（time库）"
   ],
   "cell_type": "markdown",
   "metadata": {}
  },
  {
   "cell_type": "code",
   "execution_count": 1,
   "metadata": {},
   "outputs": [
    {
     "output_type": "stream",
     "name": "stdout",
     "text": [
      "显示程序开始的时间： 2020-12-13 20:07:44\n显示程序结束的时间： 2020-12-13 20:07:44\n用时：0.000997s\n"
     ]
    }
   ],
   "source": [
    "import time\n",
    "t0 = time.time()\n",
    "print('显示程序开始的时间：',time.strftime('%Y-%m-%d %H:%M:%S',time.localtime(time.time())))\n",
    "\n",
    "t1=time.time()\n",
    "print('显示程序结束的时间：',time.strftime('%Y-%m-%d %H:%M:%S',time.localtime(time.time())))\n",
    "print('用时：%.6fs'%(t1-t0))"
   ]
  },
  {
   "cell_type": "code",
   "execution_count": 5,
   "metadata": {},
   "outputs": [
    {
     "output_type": "stream",
     "name": "stdout",
     "text": [
      "显示此刻的时间： 2020-12-13 20:21:11\n",
      "显示此刻的时间： 2020-12-13 20:22:55\n",
      "用时：103.19604s\n"
     ]
    }
   ],
   "source": [
    "import time\n",
    "t0 = time.time()\n",
    "print('显示此刻的时间：',time.strftime('%Y-%m-%d %H:%M:%S',time.localtime(time.time())))\n",
    "\n",
    "for i in range(0,1000):\n",
    "    for j in range(0,1000):\n",
    "        for k in range(0,1000):\n",
    "            if((i+j)==2997):\n",
    "                print(i,j,'\\n')\n",
    "\n",
    "t1 = time.time()\n",
    "print('显示此刻的时间：',time.strftime('%Y-%m-%d %H:%M:%S',time.localtime(time.time())))\n",
    "print('用时：%.5fs'%(t1-t0))"
   ]
  },
  {
   "source": [
    "创建数组并进行运算、创建一个国际象棋棋盘"
   ],
   "cell_type": "markdown",
   "metadata": {}
  },
  {
   "cell_type": "code",
   "execution_count": 7,
   "metadata": {},
   "outputs": [
    {
     "output_type": "stream",
     "name": "stdout",
     "text": [
      "arange函数创建的数值范围为0~1间隔为0.01的数组arr1为：\n [0.   0.01 0.02 0.03 0.04 0.05 0.06 0.07 0.08 0.09 0.1  0.11 0.12 0.13\n 0.14 0.15 0.16 0.17 0.18 0.19 0.2  0.21 0.22 0.23 0.24 0.25 0.26 0.27\n 0.28 0.29 0.3  0.31 0.32 0.33 0.34 0.35 0.36 0.37 0.38 0.39 0.4  0.41\n 0.42 0.43 0.44 0.45 0.46 0.47 0.48 0.49 0.5  0.51 0.52 0.53 0.54 0.55\n 0.56 0.57 0.58 0.59 0.6  0.61 0.62 0.63 0.64 0.65 0.66 0.67 0.68 0.69\n 0.7  0.71 0.72 0.73 0.74 0.75 0.76 0.77 0.78 0.79 0.8  0.81 0.82 0.83\n 0.84 0.85 0.86 0.87 0.88 0.89 0.9  0.91 0.92 0.93 0.94 0.95 0.96 0.97\n 0.98 0.99]\n生成的随机数组arr1为：\n [-1.50750722e+00 -1.50058769e+00 -1.18633287e-01  6.72825699e-01\n -4.28332140e-01  3.08396434e-01 -9.72605594e-01 -3.30734677e-01\n  6.67726023e-01 -1.31857785e+00 -2.43515968e-01  1.08750218e-01\n  4.75239688e-01 -3.12452460e-01 -2.69429867e-01 -2.75947716e-02\n  4.13529709e-01  2.25520605e+00  3.54489241e-01  9.65042496e-01\n  3.75904832e-01  3.21315386e-01  1.64357891e+00  1.39316303e+00\n  5.48018015e-01  6.52636797e-01  8.92598873e-02 -1.67365632e+00\n  1.06031490e+00  8.25034570e-01  4.19031141e-01 -9.69302387e-01\n -5.20358564e-01 -9.40729452e-02 -1.74791067e+00  1.43461733e+00\n -9.89414413e-04 -6.10528634e-01  1.40539458e+00 -8.48800343e-01\n -7.63515660e-01  1.40813978e+00  5.39094275e-01  6.94348574e-01\n  5.62157489e-02 -1.58410095e+00  4.05389903e-01 -2.13855539e+00\n -4.75439346e-02 -1.25143941e+00  8.60275949e-01 -7.41525259e-01\n -8.43233686e-01 -1.51311720e+00 -9.22874010e-01 -4.67725721e-01\n  2.29149678e-01  1.61384079e+00  1.34415226e-01 -5.72804498e-01\n -5.10241188e-01  2.34130929e-01 -1.40382036e+00 -6.65727136e-01\n  2.05971554e-01  4.18630483e-01 -1.58285483e+00 -7.39659868e-01\n  6.96463845e-01  1.30744592e+00 -7.40753781e-02 -9.65842621e-01\n -1.01071112e-01 -2.19579024e-01 -1.17979499e-02 -4.32804937e-01\n  8.49451170e-01  6.48943146e-01  5.98434302e-01 -8.67828263e-01\n -3.21391534e-01  1.16957989e+00 -2.10388494e+00 -1.95930918e+00\n -9.45969172e-01  1.36161393e+00  1.77938115e-01 -2.35246850e-02\n  2.96540001e+00 -7.14693801e-01  4.97193833e-01 -1.50285520e+00\n  1.86078602e-01 -4.35716085e-01  7.48173459e-01  1.26570416e+00\n -7.89876689e-01 -5.25592745e-01 -8.93206996e-01  1.32820321e+00]\narr1 + arr2: \n [-1.50750722 -1.49058769 -0.09863329  0.7028257  -0.38833214  0.35839643\n -0.91260559 -0.26073468  0.74772602 -1.22857785 -0.14351597  0.21875022\n  0.59523969 -0.18245246 -0.12942987  0.12240523  0.57352971  2.42520605\n  0.53448924  1.1550425   0.57590483  0.53131539  1.86357891  1.62316303\n  0.78801801  0.9026368   0.34925989 -1.40365632  1.3403149   1.11503457\n  0.71903114 -0.65930239 -0.20035856  0.23592705 -1.40791067  1.78461733\n  0.35901059 -0.24052863  1.78539458 -0.45880034 -0.36351566  1.81813978\n  0.95909428  1.12434857  0.49621575 -1.13410095  0.8653899  -1.66855539\n  0.43245607 -0.76143941  1.36027595 -0.23152526 -0.32323369 -0.9831172\n -0.38287401  0.08227428  0.78914968  2.18384079  0.71441523  0.0171955\n  0.08975881  0.84413093 -0.78382036 -0.03572714  0.84597155  1.06863048\n -0.92285483 -0.06965987  1.37646385  1.99744592  0.62592462 -0.25584262\n  0.61892889  0.51042098  0.72820205  0.31719506  1.60945117  1.41894315\n  1.3784343  -0.07782826  0.47860847  1.97957989 -1.28388494 -1.12930918\n -0.10596917  2.21161393  1.03793812  0.84647531  3.84540001  0.1753062\n  1.39719383 -0.5928552   1.1060786   0.49428391  1.68817346  2.21570416\n  0.17012331  0.44440726  0.086793    2.31820321]\narr1 - arr2: \n [ 1.50750722e+00  1.51058769e+00  1.38633287e-01 -6.42825699e-01\n  4.68332140e-01 -2.58396434e-01  1.03260559e+00  4.00734677e-01\n -5.87726023e-01  1.40857785e+00  3.43515968e-01  1.24978232e-03\n -3.55239688e-01  4.42452460e-01  4.09429867e-01  1.77594772e-01\n -2.53529709e-01 -2.08520605e+00 -1.74489241e-01 -7.75042496e-01\n -1.75904832e-01 -1.11315386e-01 -1.42357891e+00 -1.16316303e+00\n -3.08018015e-01 -4.02636797e-01  1.70740113e-01  1.94365632e+00\n -7.80314904e-01 -5.35034570e-01 -1.19031141e-01  1.27930239e+00\n  8.40358564e-01  4.24072945e-01  2.08791067e+00 -1.08461733e+00\n  3.60989414e-01  9.80528634e-01 -1.02539458e+00  1.23880034e+00\n  1.16351566e+00 -9.98139775e-01 -1.19094275e-01 -2.64348574e-01\n  3.83784251e-01  2.03410095e+00  5.46100971e-02  2.60855539e+00\n  5.27543935e-01  1.74143941e+00 -3.60275949e-01  1.25152526e+00\n  1.36323369e+00  2.04311720e+00  1.46287401e+00  1.01772572e+00\n  3.30850322e-01 -1.04384079e+00  4.45584774e-01  1.16280450e+00\n  1.11024119e+00  3.75869071e-01  2.02382036e+00  1.29572714e+00\n  4.34028446e-01  2.31369517e-01  2.24285483e+00  1.40965987e+00\n -1.64638454e-02 -6.17445917e-01  7.74075378e-01  1.67584262e+00\n  8.21071112e-01  9.49579024e-01  7.51797950e-01  1.18280494e+00\n -8.94511699e-02  1.21056854e-01  1.81565698e-01  1.65782826e+00\n  1.12139153e+00 -3.59579887e-01  2.92388494e+00  2.78930918e+00\n  1.78596917e+00 -5.11613930e-01  6.82061885e-01  8.93524685e-01\n -2.08540001e+00  1.60469380e+00  4.02806167e-01  2.41285520e+00\n  7.33921398e-01  1.36571609e+00  1.91826541e-01 -3.15704164e-01\n  1.74987669e+00  1.49559274e+00  1.87320700e+00 -3.38203215e-01]\narr1 * arr2: \n [-0.00000000e+00 -1.50058769e-02 -2.37266574e-03  2.01847710e-02\n -1.71332856e-02  1.54198217e-02 -5.83563357e-02 -2.31514274e-02\n  5.34180818e-02 -1.18672006e-01 -2.43515968e-02  1.19625239e-02\n  5.70287625e-02 -4.06188199e-02 -3.77201813e-02 -4.13921574e-03\n  6.61647534e-02  3.83385029e-01  6.38080633e-02  1.83358074e-01\n  7.51809665e-02  6.74762310e-02  3.61587361e-01  3.20427496e-01\n  1.31524324e-01  1.63159199e-01  2.32075707e-02 -4.51887208e-01\n  2.96888173e-01  2.39260025e-01  1.25709342e-01 -3.00483740e-01\n -1.66514741e-01 -3.10440719e-02 -5.94289629e-01  5.02116066e-01\n -3.56189189e-04 -2.25895594e-01  5.34049942e-01 -3.31032134e-01\n -3.05406264e-01  5.77337308e-01  2.26419596e-01  2.98569887e-01\n  2.47349295e-02 -7.12845429e-01  1.86479355e-01 -1.00512104e+00\n -2.28210886e-02 -6.13205312e-01  4.30137974e-01 -3.78177882e-01\n -4.38481517e-01 -8.01952116e-01 -4.98351965e-01 -2.57249147e-01\n  1.28323820e-01  9.19889247e-01  7.79608313e-02 -3.37954654e-01\n -3.06144713e-01  1.42819867e-01 -8.70368626e-01 -4.19408096e-01\n  1.31821795e-01  2.72109814e-01 -1.04468418e+00 -4.95572111e-01\n  4.73595415e-01  9.02137683e-01 -5.18527646e-02 -6.85748261e-01\n -7.27712009e-02 -1.60292688e-01 -8.73048295e-03 -3.24603703e-01\n  6.45582889e-01  4.99686223e-01  4.66778755e-01 -6.85584328e-01\n -2.57113227e-01  9.47359709e-01 -1.72518565e+00 -1.62622662e+00\n -7.94614104e-01  1.15737184e+00  1.53026779e-01 -2.04664760e-02\n  2.60955201e+00 -6.36077483e-01  4.47474450e-01 -1.36759823e+00\n  1.71192314e-01 -4.05215959e-01  7.03283051e-01  1.20241896e+00\n -7.58281622e-01 -5.09824962e-01 -8.75342856e-01  1.31492118e+00]\narr1 / arr2: \n [-0.00000000e+00 -6.66405575e-03 -1.68586747e-01  4.45880709e-02\n -9.33854742e-02  1.62128983e-01 -6.16899598e-02 -2.11650017e-01\n  1.19809618e-01 -6.82553556e-02 -4.10650689e-01  1.01149223e+00\n  2.52504164e-01 -4.16063294e-01 -5.19615742e-01 -5.43581234e+00\n  3.86912951e-01  7.53811386e-02  5.07772816e-01  1.96882522e-01\n  5.32049558e-01  6.53563475e-01  1.33854236e-01  1.65091949e-01\n  4.37941808e-01  3.83061454e-01  2.91284258e+00 -1.61323443e-01\n  2.64072493e-01  3.51500422e-01  7.15937243e-01 -3.19817638e-01\n -6.14960571e-01 -3.50791611e+00 -1.94517949e-01  2.43967497e-01\n -3.63851582e+02 -6.06032182e-01  2.70386697e-01 -4.59472010e-01\n -5.23892332e-01  2.91164277e-01  7.79084511e-01  6.19285494e-01\n  7.82698814e+00 -2.84072804e-01  1.13471006e+00 -2.19774527e-01\n -1.00959250e+01 -3.91549120e-01  5.81208856e-01 -6.87771582e-01\n -6.16673656e-01 -3.50270290e-01 -5.85128625e-01 -1.17590283e+00\n  2.44381753e+00  3.53194693e-01  4.31498734e+00 -1.03001984e+00\n -1.17591448e+00  2.60537983e+00 -4.41651949e-01 -9.46333664e-01\n  3.10722518e+00  1.55268196e+00 -4.16968119e-01 -9.05821756e-01\n  9.76360804e-01  5.27746495e-01 -9.44983365e+00 -7.35109411e-01\n -7.12369719e+00 -3.32454342e+00 -6.27227615e+01 -1.73288227e+00\n  8.94695336e-01  1.18654462e+00  1.30340122e+00 -9.10318359e-01\n -2.48917571e+00  6.92556369e-01 -3.89755155e-01 -4.23618696e-01\n -8.87978198e-01  6.24259183e-01  4.83314100e+00 -3.69824293e+01\n  2.96755917e-01 -1.24528854e+00  1.81015922e+00 -6.05514090e-01\n  4.94414719e+00 -2.13441741e+00  1.25639314e+00  7.50570336e-01\n -1.21537958e+00 -1.84553537e+00 -1.09717009e+00  7.45367869e-01]\n正太分布数数组的累计和为：\n [-1.50750722 -3.00809491 -3.1267282  -2.4539025  -2.88223464 -2.5738382\n -3.5464438  -3.87717848 -3.20945245 -4.5280303  -4.77154627 -4.66279605\n -4.18755636 -4.50000882 -4.76943869 -4.79703346 -4.38350375 -2.1282977\n -1.77380846 -0.80876596 -0.43286113 -0.11154575  1.53203317  2.9251962\n  3.47321421  4.12585101  4.21511089  2.54145457  3.60176947  4.42680404\n  4.84583518  3.8765328   3.35617423  3.26210129  1.51419061  2.94880794\n  2.94781853  2.3372899   3.74268448  2.89388414  2.13036848  3.53850825\n  4.07760253  4.7719511   4.82816685  3.2440659   3.6494558   1.5109004\n  1.46335647  0.21191706  1.07219301  0.33066775 -0.51256594 -2.02568314\n -2.94855715 -3.41628287 -3.18713319 -1.57329241 -1.43887718 -2.01168168\n -2.52192287 -2.28779194 -3.6916123  -4.35733944 -4.15136788 -3.7327374\n -5.31559223 -6.05525209 -5.35878825 -4.05134233 -4.12541771 -5.09126033\n -5.19233144 -5.41191047 -5.42370842 -5.85651335 -5.00706218 -4.35811904\n -3.75968474 -4.627513   -4.94890453 -3.77932465 -5.88320959 -7.84251876\n -8.78848794 -7.42687401 -7.24893589 -7.27246058 -4.30706056 -5.02175437\n -4.52456053 -6.02741573 -5.84133713 -6.27705322 -5.52887976 -4.26317559\n -5.05305228 -5.57864503 -6.47185202 -5.14364881]\n正态分布数去重后的值组为：\n [-2.13855539e+00 -2.10388494e+00 -1.95930918e+00 -1.74791067e+00\n -1.67365632e+00 -1.58410095e+00 -1.58285483e+00 -1.51311720e+00\n -1.50750722e+00 -1.50285520e+00 -1.50058769e+00 -1.40382036e+00\n -1.31857785e+00 -1.25143941e+00 -9.72605594e-01 -9.69302387e-01\n -9.65842621e-01 -9.45969172e-01 -9.22874010e-01 -8.93206996e-01\n -8.67828263e-01 -8.48800343e-01 -8.43233686e-01 -7.89876689e-01\n -7.63515660e-01 -7.41525259e-01 -7.39659868e-01 -7.14693801e-01\n -6.65727136e-01 -6.10528634e-01 -5.72804498e-01 -5.25592745e-01\n -5.20358564e-01 -5.10241188e-01 -4.67725721e-01 -4.35716085e-01\n -4.32804937e-01 -4.28332140e-01 -3.30734677e-01 -3.21391534e-01\n -3.12452460e-01 -2.69429867e-01 -2.43515968e-01 -2.19579024e-01\n -1.18633287e-01 -1.01071112e-01 -9.40729452e-02 -7.40753781e-02\n -4.75439346e-02 -2.75947716e-02 -2.35246850e-02 -1.17979499e-02\n -9.89414413e-04  5.62157489e-02  8.92598873e-02  1.08750218e-01\n  1.34415226e-01  1.77938115e-01  1.86078602e-01  2.05971554e-01\n  2.29149678e-01  2.34130929e-01  3.08396434e-01  3.21315386e-01\n  3.54489241e-01  3.75904832e-01  4.05389903e-01  4.13529709e-01\n  4.18630483e-01  4.19031141e-01  4.75239688e-01  4.97193833e-01\n  5.39094275e-01  5.48018015e-01  5.98434302e-01  6.48943146e-01\n  6.52636797e-01  6.67726023e-01  6.72825699e-01  6.94348574e-01\n  6.96463845e-01  7.48173459e-01  8.25034570e-01  8.49451170e-01\n  8.60275949e-01  9.65042496e-01  1.06031490e+00  1.16957989e+00\n  1.26570416e+00  1.30744592e+00  1.32820321e+00  1.36161393e+00\n  1.39316303e+00  1.40539458e+00  1.40813978e+00  1.43461733e+00\n  1.61384079e+00  1.64357891e+00  2.25520605e+00  2.96540001e+00]\n正态分布数组的均值为： -0.05143648808374388\n正态分布数组的标准差为: 0.9856959012993575\n正态分布数组的方差为： 0.9715964098383527\n正态分布数组的最小值为: -2.138555394650635\n正态分布数组的最大值为： 2.9654000105792417\n正态分布数组的总和为： -5.1436488083743885\n"
     ]
    }
   ],
   "source": [
    "import numpy as np\n",
    "#1、创建一个数值范围为0~1，间隔为0.01的数组\n",
    "arr1 = np.arange(0,1,0.01)\n",
    "print('arange函数创建的数值范围为0~1间隔为0.01的数组arr1为：\\n',arr1)\n",
    "#2、创建由100个服从正太分布的随机数构成的数组\n",
    "arr2 = np.random.randn(100)\n",
    "print('生成的随机数组arr1为：\\n',arr2)\n",
    "#3、对创建的两个数组进行四则运算\n",
    "print('arr1 + arr2: \\n',arr1+arr2)\n",
    "print('arr1 - arr2: \\n',arr1-arr2)\n",
    "print('arr1 * arr2: \\n',arr1*arr2)\n",
    "print('arr1 / arr2: \\n',arr1/arr2)\n",
    "#4、对创建的数组进行简单的统计分析\n",
    "print('正太分布数数组的累计和为：\\n',np.cumsum(arr2))#计算所有元素的累计和\n",
    "print('正态分布数去重后的值组为：\\n',np.unique(arr2))#去除重复值\n",
    "print('正态分布数组的均值为：',np.mean(arr2))#计算数组均值\n",
    "print('正态分布数组的标准差为:',np.std(arr2))#计算数组标准差\n",
    "print('正态分布数组的方差为：',np.var(arr2))#计算数组方差\n",
    "print('正态分布数组的最小值为:',np.min(arr2))#计算最小值\n",
    "print('正态分布数组的最大值为：',np.max(arr2))#计算最大值\n",
    "print('正态分布数组的总和为：',np.sum(arr2))#计算数组总和"
   ]
  },
  {
   "source": [
    "创建一个国际象棋的棋盘"
   ],
   "cell_type": "markdown",
   "metadata": {}
  },
  {
   "cell_type": "code",
   "execution_count": 9,
   "metadata": {},
   "outputs": [
    {
     "output_type": "stream",
     "name": "stdout",
     "text": [
      "国际棋盘对应的矩阵为：\n [[0. 1. 0. 1. 0. 1. 0. 1.]\n [1. 0. 1. 0. 1. 0. 1. 0.]\n [0. 1. 0. 1. 0. 1. 0. 1.]\n [1. 0. 1. 0. 1. 0. 1. 0.]\n [0. 1. 0. 1. 0. 1. 0. 1.]\n [1. 0. 1. 0. 1. 0. 1. 0.]\n [0. 1. 0. 1. 0. 1. 0. 1.]\n [1. 0. 1. 0. 1. 0. 1. 0.]]\n□   ■   □   ■   □   ■   □   ■   \n\n■   □   ■   □   ■   □   ■   □   \n\n□   ■   □   ■   □   ■   □   ■   \n\n■   □   ■   □   ■   □   ■   □   \n\n□   ■   □   ■   □   ■   □   ■   \n\n■   □   ■   □   ■   □   ■   □   \n\n□   ■   □   ■   □   ■   □   ■   \n\n■   □   ■   □   ■   □   ■   □   \n\n"
     ]
    }
   ],
   "source": [
    "import numpy as np\n",
    "matr1=np.ones((8,8))\n",
    "for i in range(8):\n",
    "    for j in range(8):\n",
    "        if(i+j)%2==0:\n",
    "            matr1[i,j]=0\n",
    "print('国际棋盘对应的矩阵为：\\n',matr1)\n",
    "\n",
    "for i in range(0,8):\n",
    "    for j in range(0,8):\n",
    "        if matr1[i,j]==0:\n",
    "            print(\"□\",end='   ')\n",
    "        else:\n",
    "            print(\"■\", end='   ')\n",
    "    print('\\n')"
   ]
  },
  {
   "source": [
    "numpy-基础篇"
   ],
   "cell_type": "markdown",
   "metadata": {}
  },
  {
   "cell_type": "code",
   "execution_count": 9,
   "metadata": {},
   "outputs": [
    {
     "output_type": "execute_result",
     "data": {
      "text/plain": [
       "array([[1., 0., 0., 0.],\n",
       "       [0., 1., 0., 0.],\n",
       "       [0., 0., 1., 0.],\n",
       "       [0., 0., 0., 1.]])"
      ]
     },
     "metadata": {},
     "execution_count": 9
    }
   ],
   "source": [
    "import numpy as np\n",
    "array = np.eye(4)\n",
    "array"
   ]
  },
  {
   "cell_type": "code",
   "execution_count": 13,
   "metadata": {},
   "outputs": [
    {
     "output_type": "stream",
     "name": "stdout",
     "text": [
      "[5, 7, 9, 11]\n[ 5  7  9 11]\n"
     ]
    },
    {
     "output_type": "execute_result",
     "data": {
      "text/plain": [
       "array([ 5,  7,  9, 11])"
      ]
     },
     "metadata": {},
     "execution_count": 13
    }
   ],
   "source": [
    "#使用Python列表\n",
    "a = [1,2,3,4]\n",
    "b = [4,5,6,7,8]\n",
    "out = []\n",
    "for i,j in zip(a,b):\n",
    "    out.append(i+j)\n",
    "print(out)\n",
    "\n",
    "#使用numpy\n",
    "import numpy as np\n",
    "a = np.array([1,2,3,4])\n",
    "b = np.array([4,5,6,7])\n",
    "print(a+b)\n",
    "\n",
    "array\n"
   ]
  },
  {
   "cell_type": "code",
   "execution_count": 14,
   "metadata": {},
   "outputs": [
    {
     "output_type": "stream",
     "name": "stdout",
     "text": [
      "39 ms ± 66.6 µs per loop (mean ± std. dev. of 7 runs, 10 loops each)\n",
      "356 µs ± 5 µs per loop (mean ± std. dev. of 7 runs, 1000 loops each)\n"
     ]
    }
   ],
   "source": [
    "#使用Python自带的数据类型\n",
    "a = list(range(1000000))\n",
    "%timeit sum(a)\n",
    "\n",
    "\n",
    "#使用numpy\n",
    "import numpy as np\n",
    "a = list(range(1000000))\n",
    "a_array = np.array(a)\n",
    "%timeit np.sum(a_array)\n",
    "\n"
   ]
  },
  {
   "cell_type": "code",
   "execution_count": 22,
   "metadata": {},
   "outputs": [],
   "source": [
    "import numpy as np\n",
    "a = np.array(['a','s','d','f'])\n",
    "b = np.array([1,2,3,4])\n",
    "c = np.array([4,5,6,7])\n",
    "d = np.eye(4)"
   ]
  },
  {
   "cell_type": "code",
   "execution_count": 23,
   "metadata": {},
   "outputs": [
    {
     "output_type": "execute_result",
     "data": {
      "text/plain": [
       "'s'"
      ]
     },
     "metadata": {},
     "execution_count": 23
    }
   ],
   "source": [
    "a[1]"
   ]
  },
  {
   "cell_type": "code",
   "execution_count": 24,
   "metadata": {},
   "outputs": [
    {
     "output_type": "execute_result",
     "data": {
      "text/plain": [
       "1.0"
      ]
     },
     "metadata": {},
     "execution_count": 24
    }
   ],
   "source": [
    "d[1,1]"
   ]
  },
  {
   "cell_type": "code",
   "execution_count": 25,
   "metadata": {},
   "outputs": [
    {
     "output_type": "execute_result",
     "data": {
      "text/plain": [
       "array(['a', 's', 'd', 'f'], dtype='<U1')"
      ]
     },
     "metadata": {},
     "execution_count": 25
    }
   ],
   "source": [
    "a"
   ]
  },
  {
   "cell_type": "code",
   "execution_count": 26,
   "metadata": {},
   "outputs": [
    {
     "output_type": "execute_result",
     "data": {
      "text/plain": [
       "array([0., 0., 1., 0.])"
      ]
     },
     "metadata": {},
     "execution_count": 26
    }
   ],
   "source": [
    "d[:,2]"
   ]
  },
  {
   "cell_type": "code",
   "execution_count": 28,
   "metadata": {},
   "outputs": [],
   "source": [
    "d[2,3]=5"
   ]
  },
  {
   "cell_type": "code",
   "execution_count": 29,
   "metadata": {},
   "outputs": [
    {
     "output_type": "execute_result",
     "data": {
      "text/plain": [
       "array([[1., 0., 0., 0.],\n",
       "       [0., 1., 0., 0.],\n",
       "       [0., 0., 1., 5.],\n",
       "       [0., 0., 0., 1.]])"
      ]
     },
     "metadata": {},
     "execution_count": 29
    }
   ],
   "source": [
    "d"
   ]
  },
  {
   "cell_type": "code",
   "execution_count": 30,
   "metadata": {},
   "outputs": [
    {
     "output_type": "execute_result",
     "data": {
      "text/plain": [
       "array([ 5,  7,  9, 11])"
      ]
     },
     "metadata": {},
     "execution_count": 30
    }
   ],
   "source": [
    "b+c"
   ]
  },
  {
   "cell_type": "code",
   "execution_count": 31,
   "metadata": {},
   "outputs": [
    {
     "output_type": "execute_result",
     "data": {
      "text/plain": [
       "array([-3, -3, -3, -3])"
      ]
     },
     "metadata": {},
     "execution_count": 31
    }
   ],
   "source": [
    "b-c"
   ]
  },
  {
   "cell_type": "code",
   "execution_count": 32,
   "metadata": {},
   "outputs": [
    {
     "output_type": "execute_result",
     "data": {
      "text/plain": [
       "array([ 4, 10, 18, 28])"
      ]
     },
     "metadata": {},
     "execution_count": 32
    }
   ],
   "source": [
    "b*c"
   ]
  },
  {
   "cell_type": "code",
   "execution_count": 34,
   "metadata": {},
   "outputs": [
    {
     "output_type": "execute_result",
     "data": {
      "text/plain": [
       "array([ 5,  7,  9, 11])"
      ]
     },
     "metadata": {},
     "execution_count": 34
    }
   ],
   "source": [
    "array"
   ]
  },
  {
   "cell_type": "code",
   "execution_count": 35,
   "metadata": {},
   "outputs": [
    {
     "output_type": "execute_result",
     "data": {
      "text/plain": [
       "array([0.25      , 0.4       , 0.5       , 0.57142857])"
      ]
     },
     "metadata": {},
     "execution_count": 35
    }
   ],
   "source": [
    "b/c"
   ]
  },
  {
   "cell_type": "code",
   "execution_count": 36,
   "metadata": {},
   "outputs": [
    {
     "output_type": "execute_result",
     "data": {
      "text/plain": [
       "array([    1,    32,   729, 16384], dtype=int32)"
      ]
     },
     "metadata": {},
     "execution_count": 36
    }
   ],
   "source": [
    "b**c"
   ]
  },
  {
   "cell_type": "code",
   "execution_count": 37,
   "metadata": {},
   "outputs": [
    {
     "output_type": "execute_result",
     "data": {
      "text/plain": [
       "(4,)"
      ]
     },
     "metadata": {},
     "execution_count": 37
    }
   ],
   "source": [
    "a.shape"
   ]
  },
  {
   "cell_type": "code",
   "execution_count": 38,
   "metadata": {},
   "outputs": [
    {
     "output_type": "execute_result",
     "data": {
      "text/plain": [
       "(4, 4)"
      ]
     },
     "metadata": {},
     "execution_count": 38
    }
   ],
   "source": [
    "d.shape"
   ]
  },
  {
   "cell_type": "code",
   "execution_count": 39,
   "metadata": {},
   "outputs": [
    {
     "output_type": "execute_result",
     "data": {
      "text/plain": [
       "1"
      ]
     },
     "metadata": {},
     "execution_count": 39
    }
   ],
   "source": [
    "a.ndim"
   ]
  },
  {
   "cell_type": "code",
   "execution_count": 40,
   "metadata": {},
   "outputs": [
    {
     "output_type": "execute_result",
     "data": {
      "text/plain": [
       "2"
      ]
     },
     "metadata": {},
     "execution_count": 40
    }
   ],
   "source": [
    "d.ndim"
   ]
  },
  {
   "cell_type": "code",
   "execution_count": 41,
   "metadata": {},
   "outputs": [
    {
     "output_type": "execute_result",
     "data": {
      "text/plain": [
       "dtype('<U1')"
      ]
     },
     "metadata": {},
     "execution_count": 41
    }
   ],
   "source": [
    "a.dtype"
   ]
  },
  {
   "cell_type": "code",
   "execution_count": 42,
   "metadata": {},
   "outputs": [
    {
     "output_type": "execute_result",
     "data": {
      "text/plain": [
       "dtype('float64')"
      ]
     },
     "metadata": {},
     "execution_count": 42
    }
   ],
   "source": [
    "d.dtype"
   ]
  },
  {
   "source": [
    "计算均值、方差、标准差 Numpy, Pandas"
   ],
   "cell_type": "markdown",
   "metadata": {}
  },
  {
   "cell_type": "code",
   "execution_count": 43,
   "metadata": {},
   "outputs": [
    {
     "output_type": "execute_result",
     "data": {
      "text/plain": [
       "9.0"
      ]
     },
     "metadata": {},
     "execution_count": 43
    }
   ],
   "source": [
    "import numpy as np \n",
    "a = [5,6,16,9]\n",
    "np.mean(a)"
   ]
  },
  {
   "cell_type": "code",
   "execution_count": 44,
   "metadata": {},
   "outputs": [
    {
     "output_type": "execute_result",
     "data": {
      "text/plain": [
       "9.0"
      ]
     },
     "metadata": {},
     "execution_count": 44
    }
   ],
   "source": [
    "np.average(a)"
   ]
  },
  {
   "cell_type": "code",
   "execution_count": 46,
   "metadata": {},
   "outputs": [
    {
     "output_type": "execute_result",
     "data": {
      "text/plain": [
       "9.0"
      ]
     },
     "metadata": {},
     "execution_count": 46
    }
   ],
   "source": [
    "np.average(a)"
   ]
  },
  {
   "cell_type": "code",
   "execution_count": 47,
   "metadata": {},
   "outputs": [
    {
     "output_type": "execute_result",
     "data": {
      "text/plain": [
       "8.4"
      ]
     },
     "metadata": {},
     "execution_count": 47
    }
   ],
   "source": [
    "np.average(a,weights=[1,2,1,1])"
   ]
  },
  {
   "cell_type": "code",
   "execution_count": 49,
   "metadata": {},
   "outputs": [
    {
     "output_type": "execute_result",
     "data": {
      "text/plain": [
       "18.5"
      ]
     },
     "metadata": {},
     "execution_count": 49
    }
   ],
   "source": [
    "a = [5,6,16,9]\n",
    "np.var(a)"
   ]
  },
  {
   "cell_type": "code",
   "execution_count": 50,
   "metadata": {},
   "outputs": [
    {
     "output_type": "execute_result",
     "data": {
      "text/plain": [
       "24.666666666666668"
      ]
     },
     "metadata": {},
     "execution_count": 50
    }
   ],
   "source": [
    "np.var(a, ddof =1)"
   ]
  },
  {
   "cell_type": "code",
   "execution_count": 51,
   "metadata": {},
   "outputs": [
    {
     "output_type": "execute_result",
     "data": {
      "text/plain": [
       "[[4, 5], [6, 7]]"
      ]
     },
     "metadata": {},
     "execution_count": 51
    }
   ],
   "source": [
    "b = [[4,5],[6,7]]\n",
    "b"
   ]
  },
  {
   "cell_type": "code",
   "execution_count": 52,
   "metadata": {},
   "outputs": [
    {
     "output_type": "execute_result",
     "data": {
      "text/plain": [
       "1.25"
      ]
     },
     "metadata": {},
     "execution_count": 52
    }
   ],
   "source": [
    "np.var(b)"
   ]
  },
  {
   "cell_type": "code",
   "execution_count": 53,
   "metadata": {},
   "outputs": [
    {
     "output_type": "execute_result",
     "data": {
      "text/plain": [
       "array([1., 1.])"
      ]
     },
     "metadata": {},
     "execution_count": 53
    }
   ],
   "source": [
    "np.var(b,axis=0)"
   ]
  },
  {
   "cell_type": "code",
   "execution_count": 54,
   "metadata": {},
   "outputs": [
    {
     "output_type": "execute_result",
     "data": {
      "text/plain": [
       "array([0.25, 0.25])"
      ]
     },
     "metadata": {},
     "execution_count": 54
    }
   ],
   "source": [
    "np.var(b,axis=1)"
   ]
  },
  {
   "source": [
    "Pandas 计算均值、方差、标准差"
   ],
   "cell_type": "markdown",
   "metadata": {}
  },
  {
   "cell_type": "code",
   "execution_count": 55,
   "metadata": {},
   "outputs": [
    {
     "output_type": "execute_result",
     "data": {
      "text/plain": [
       "    统计学  高数  英语\n",
       "张三   85  68  90\n",
       "李四   82  63  88\n",
       "王五   84  90  78"
      ],
      "text/html": "<div>\n<style scoped>\n    .dataframe tbody tr th:only-of-type {\n        vertical-align: middle;\n    }\n\n    .dataframe tbody tr th {\n        vertical-align: top;\n    }\n\n    .dataframe thead th {\n        text-align: right;\n    }\n</style>\n<table border=\"1\" class=\"dataframe\">\n  <thead>\n    <tr style=\"text-align: right;\">\n      <th></th>\n      <th>统计学</th>\n      <th>高数</th>\n      <th>英语</th>\n    </tr>\n  </thead>\n  <tbody>\n    <tr>\n      <th>张三</th>\n      <td>85</td>\n      <td>68</td>\n      <td>90</td>\n    </tr>\n    <tr>\n      <th>李四</th>\n      <td>82</td>\n      <td>63</td>\n      <td>88</td>\n    </tr>\n    <tr>\n      <th>王五</th>\n      <td>84</td>\n      <td>90</td>\n      <td>78</td>\n    </tr>\n  </tbody>\n</table>\n</div>"
     },
     "metadata": {},
     "execution_count": 55
    }
   ],
   "source": [
    "import pandas as pd\n",
    "df = pd.DataFrame(np.array([[85, 68, 90], [82, 63, 88], [84, 90, 78]]), columns=['统计学', '高数', '英语'], index=['张三', '李四', '王五'])\n",
    "df"
   ]
  },
  {
   "cell_type": "code",
   "execution_count": 56,
   "metadata": {},
   "outputs": [
    {
     "output_type": "execute_result",
     "data": {
      "text/plain": [
       "统计学    83.666667\n",
       "高数     73.666667\n",
       "英语     85.333333\n",
       "dtype: float64"
      ]
     },
     "metadata": {},
     "execution_count": 56
    }
   ],
   "source": [
    "df.mean()"
   ]
  },
  {
   "cell_type": "code",
   "execution_count": 58,
   "metadata": {},
   "outputs": [
    {
     "output_type": "execute_result",
     "data": {
      "text/plain": [
       "张三    81.000000\n",
       "李四    77.666667\n",
       "王五    84.000000\n",
       "dtype: float64"
      ]
     },
     "metadata": {},
     "execution_count": 58
    }
   ],
   "source": [
    "df.mean(axis=1)"
   ]
  },
  {
   "cell_type": "code",
   "execution_count": 59,
   "metadata": {},
   "outputs": [
    {
     "output_type": "execute_result",
     "data": {
      "text/plain": [
       "    统计学  高数  英语\n",
       "张三   85  68  90\n",
       "李四   82  63  88\n",
       "王五   84  90  78"
      ],
      "text/html": "<div>\n<style scoped>\n    .dataframe tbody tr th:only-of-type {\n        vertical-align: middle;\n    }\n\n    .dataframe tbody tr th {\n        vertical-align: top;\n    }\n\n    .dataframe thead th {\n        text-align: right;\n    }\n</style>\n<table border=\"1\" class=\"dataframe\">\n  <thead>\n    <tr style=\"text-align: right;\">\n      <th></th>\n      <th>统计学</th>\n      <th>高数</th>\n      <th>英语</th>\n    </tr>\n  </thead>\n  <tbody>\n    <tr>\n      <th>张三</th>\n      <td>85</td>\n      <td>68</td>\n      <td>90</td>\n    </tr>\n    <tr>\n      <th>李四</th>\n      <td>82</td>\n      <td>63</td>\n      <td>88</td>\n    </tr>\n    <tr>\n      <th>王五</th>\n      <td>84</td>\n      <td>90</td>\n      <td>78</td>\n    </tr>\n  </tbody>\n</table>\n</div>"
     },
     "metadata": {},
     "execution_count": 59
    }
   ],
   "source": [
    "df"
   ]
  },
  {
   "cell_type": "code",
   "execution_count": 60,
   "metadata": {},
   "outputs": [
    {
     "output_type": "execute_result",
     "data": {
      "text/plain": [
       "81.0"
      ]
     },
     "metadata": {},
     "execution_count": 60
    }
   ],
   "source": [
    "df.iloc[0,:].mean()"
   ]
  },
  {
   "cell_type": "code",
   "execution_count": 61,
   "metadata": {},
   "outputs": [
    {
     "output_type": "execute_result",
     "data": {
      "text/plain": [
       "85.33333333333333"
      ]
     },
     "metadata": {},
     "execution_count": 61
    }
   ],
   "source": [
    "df.iloc[:,2].mean()"
   ]
  },
  {
   "cell_type": "code",
   "execution_count": 62,
   "metadata": {},
   "outputs": [
    {
     "output_type": "execute_result",
     "data": {
      "text/plain": [
       "统计学      2.333333\n",
       "高数     206.333333\n",
       "英语      41.333333\n",
       "dtype: float64"
      ]
     },
     "metadata": {},
     "execution_count": 62
    }
   ],
   "source": [
    "df.var()"
   ]
  },
  {
   "cell_type": "code",
   "execution_count": 63,
   "metadata": {},
   "outputs": [
    {
     "output_type": "execute_result",
     "data": {
      "text/plain": [
       "张三    133.000000\n",
       "李四    170.333333\n",
       "王五     36.000000\n",
       "dtype: float64"
      ]
     },
     "metadata": {},
     "execution_count": 63
    }
   ],
   "source": [
    "df.var(axis=1)"
   ]
  },
  {
   "cell_type": "code",
   "execution_count": 64,
   "metadata": {},
   "outputs": [
    {
     "output_type": "execute_result",
     "data": {
      "text/plain": [
       "统计学     1.527525\n",
       "高数     14.364308\n",
       "英语      6.429101\n",
       "dtype: float64"
      ]
     },
     "metadata": {},
     "execution_count": 64
    }
   ],
   "source": [
    "df.std()"
   ]
  },
  {
   "cell_type": "code",
   "execution_count": 65,
   "metadata": {},
   "outputs": [
    {
     "output_type": "execute_result",
     "data": {
      "text/plain": [
       "11.532562594670797"
      ]
     },
     "metadata": {},
     "execution_count": 65
    }
   ],
   "source": [
    "df.iloc[0,:].std()"
   ]
  },
  {
   "cell_type": "code",
   "execution_count": 66,
   "metadata": {},
   "outputs": [
    {
     "output_type": "execute_result",
     "data": {
      "text/plain": [
       "6.429100507328636"
      ]
     },
     "metadata": {},
     "execution_count": 66
    }
   ],
   "source": [
    "df.iloc[:,2].std()"
   ]
  },
  {
   "cell_type": "code",
   "execution_count": 71,
   "metadata": {},
   "outputs": [
    {
     "output_type": "execute_result",
     "data": {
      "text/plain": [
       "array([1, 2, 3])"
      ]
     },
     "metadata": {},
     "execution_count": 71
    }
   ],
   "source": [
    "import numpy as np\n",
    "\n",
    "n1 = np.array([1, 2, 3]) # 列表\n",
    "n1\n"
   ]
  },
  {
   "cell_type": "code",
   "execution_count": 72,
   "metadata": {},
   "outputs": [
    {
     "output_type": "execute_result",
     "data": {
      "text/plain": [
       "array([4, 5, 6])"
      ]
     },
     "metadata": {},
     "execution_count": 72
    }
   ],
   "source": [
    "n2 = np.array((4,5,6))\n",
    "n2"
   ]
  },
  {
   "cell_type": "code",
   "execution_count": 73,
   "metadata": {},
   "outputs": [
    {
     "output_type": "execute_result",
     "data": {
      "text/plain": [
       "array([7, 8, 9])"
      ]
     },
     "metadata": {},
     "execution_count": 73
    }
   ],
   "source": [
    "n3 = np.array(range(7,10))\n",
    "n3"
   ]
  },
  {
   "source": [
    "np.arange(start, end, step)\n",
    "\n",
    "start - 起始，不存在时，默认从0开始\n",
    "end - 结束，不包括，实质上取到end-1\n",
    "step - 步长\n"
   ],
   "cell_type": "markdown",
   "metadata": {}
  },
  {
   "cell_type": "code",
   "execution_count": 74,
   "metadata": {},
   "outputs": [
    {
     "output_type": "execute_result",
     "data": {
      "text/plain": [
       "array([10, 11, 12])"
      ]
     },
     "metadata": {},
     "execution_count": 74
    }
   ],
   "source": [
    "np.arange(10,13,1)"
   ]
  },
  {
   "cell_type": "code",
   "execution_count": 76,
   "metadata": {},
   "outputs": [
    {
     "output_type": "execute_result",
     "data": {
      "text/plain": [
       "array([0., 1., 2.])"
      ]
     },
     "metadata": {},
     "execution_count": 76
    }
   ],
   "source": [
    "np.arange(3.0) "
   ]
  },
  {
   "cell_type": "code",
   "execution_count": 78,
   "metadata": {},
   "outputs": [
    {
     "output_type": "execute_result",
     "data": {
      "text/plain": [
       "array([0])"
      ]
     },
     "metadata": {},
     "execution_count": 78
    }
   ],
   "source": [
    "np.arange(True)"
   ]
  },
  {
   "cell_type": "code",
   "execution_count": 79,
   "metadata": {},
   "outputs": [
    {
     "output_type": "execute_result",
     "data": {
      "text/plain": [
       "array([0.+0.j, 1.+0.j, 2.+0.j, 3.+0.j])"
      ]
     },
     "metadata": {},
     "execution_count": 79
    }
   ],
   "source": [
    "np.arange(4+4j)"
   ]
  },
  {
   "source": [
    "random模块-随机创建"
   ],
   "cell_type": "markdown",
   "metadata": {}
  },
  {
   "cell_type": "code",
   "execution_count": 81,
   "metadata": {},
   "outputs": [
    {
     "output_type": "execute_result",
     "data": {
      "text/plain": [
       "array([[ 9, 14,  6,  7],\n",
       "       [13, 12,  7, 13],\n",
       "       [10,  9, 14, 10],\n",
       "       [ 5,  6, 11,  6]])"
      ]
     },
     "metadata": {},
     "execution_count": 81
    }
   ],
   "source": [
    "n1 = np.random.randint(5, 15, size=(4, 4))\n",
    "n1"
   ]
  },
  {
   "cell_type": "code",
   "execution_count": 2,
   "metadata": {},
   "outputs": [
    {
     "output_type": "stream",
     "name": "stdout",
     "text": [
      "[1. 2. 3.]\nfloat64\n<class 'numpy.float64'>\n"
     ]
    }
   ],
   "source": [
    "import numpy as np\n",
    "\n",
    "a = [1, 2, 3]\n",
    "b = np.array(a, dtype=np.float_)\n",
    "# 或者\n",
    "b = np.array(a, dtype=float)\n",
    "\n",
    "print(b)\n",
    "print(b.dtype)\n",
    "print(type(b[0]))\n"
   ]
  },
  {
   "cell_type": "code",
   "execution_count": 3,
   "metadata": {},
   "outputs": [
    {
     "output_type": "stream",
     "name": "stdout",
     "text": [
      "[0 2 3]\n[1 2 3]\n"
     ]
    }
   ],
   "source": [
    "import numpy as np\n",
    "\n",
    "a = np.array([1, 2, 3])\n",
    "b = np.array(a, copy=True)\n",
    "a[0] = 0\n",
    "\n",
    "print(a)\n",
    "print(b)\n"
   ]
  },
  {
   "cell_type": "code",
   "execution_count": 4,
   "metadata": {},
   "outputs": [
    {
     "output_type": "stream",
     "name": "stdout",
     "text": [
      "[0 2 3]\n[0 2 3]\n"
     ]
    }
   ],
   "source": [
    "import numpy as np\n",
    "\n",
    "a = np.array([1, 2, 3])\n",
    "b = np.array(a, copy=False)\n",
    "a[0] = 0\n",
    "\n",
    "print(a)\n",
    "print(b)\n"
   ]
  },
  {
   "cell_type": "code",
   "execution_count": 5,
   "metadata": {},
   "outputs": [
    {
     "output_type": "stream",
     "name": "stdout",
     "text": [
      "[[1 2 3]]\n"
     ]
    }
   ],
   "source": [
    "import numpy as np\n",
    "\n",
    "a = [1, 2, 3]\n",
    "b = np.array(a, ndmin=2)\n",
    "\n",
    "print(b)\n"
   ]
  },
  {
   "cell_type": "code",
   "execution_count": 6,
   "metadata": {},
   "outputs": [
    {
     "output_type": "stream",
     "name": "stdout",
     "text": [
      "<class 'numpy.matrix'>\n[[1 2 7]\n [3 4 8]\n [5 6 9]]\n<class 'numpy.matrix'>\n<class 'numpy.ndarray'>\n"
     ]
    }
   ],
   "source": [
    "import numpy as np\n",
    "\n",
    "a = np.matrix('1 2 7; 3 4 8; 5 6 9')\n",
    "print(type(a))\n",
    "print(a)\n",
    "at = np.array(a, subok=True)\n",
    "af = np.array(a, subok=False)\n",
    "print(type(at))\n",
    "print(type(af))\n"
   ]
  },
  {
   "cell_type": "code",
   "execution_count": 1,
   "metadata": {},
   "outputs": [
    {
     "output_type": "stream",
     "name": "stdout",
     "text": [
      "(2, 3)\n"
     ]
    }
   ],
   "source": [
    "import numpy as np\n",
    "\n",
    "a = np.array([[1, 2, 3], [4, 5, 6]])\n",
    "print(a.shape)\n"
   ]
  },
  {
   "cell_type": "code",
   "execution_count": 2,
   "metadata": {},
   "outputs": [
    {
     "output_type": "stream",
     "name": "stdout",
     "text": [
      "[[1 2]\n [3 4]\n [5 6]]\n"
     ]
    }
   ],
   "source": [
    "import numpy as np\n",
    "\n",
    "a = np.array([[1, 2, 3], [4, 5, 6]])\n",
    "a.shape = (3, 2)\n",
    "print(a)\n"
   ]
  },
  {
   "cell_type": "code",
   "execution_count": 3,
   "metadata": {},
   "outputs": [
    {
     "output_type": "stream",
     "name": "stdout",
     "text": [
      "[[1 2]\n [3 4]\n [5 6]]\n"
     ]
    }
   ],
   "source": [
    "import numpy as np\n",
    "\n",
    "a = np.array([[1, 2, 3], [4, 5, 6]])\n",
    "b = a.reshape(3, 2)\n",
    "print(b)  # a 没变\n"
   ]
  },
  {
   "cell_type": "code",
   "execution_count": 4,
   "metadata": {},
   "outputs": [
    {
     "output_type": "stream",
     "name": "stdout",
     "text": [
      "1\n3\n"
     ]
    }
   ],
   "source": [
    "import numpy as np\n",
    "\n",
    "a = np.arange(24)\n",
    "print(a.ndim)\n",
    "\n",
    "# 现在调整其大小\n",
    "b = a.reshape(2, 4, 3)\n",
    "print(b.ndim)\n"
   ]
  },
  {
   "cell_type": "code",
   "execution_count": 5,
   "metadata": {},
   "outputs": [
    {
     "output_type": "stream",
     "name": "stdout",
     "text": [
      "  C_CONTIGUOUS : True\n  F_CONTIGUOUS : False\n  OWNDATA : True\n  WRITEABLE : True\n  ALIGNED : True\n  WRITEBACKIFCOPY : False\n  UPDATEIFCOPY : False\n\n"
     ]
    }
   ],
   "source": [
    "import numpy as np\n",
    "\n",
    "a = np.array([[1, 2, 3], [4, 5, 6]])\n",
    "print(a.flags)\n"
   ]
  },
  {
   "cell_type": "code",
   "execution_count": 6,
   "metadata": {},
   "outputs": [
    {
     "output_type": "stream",
     "name": "stdout",
     "text": [
      "[1.        +0.j         0.70710678+0.70710678j]\n[1.         0.70710678]\nfloat64\n"
     ]
    }
   ],
   "source": [
    "import numpy as np\n",
    "\n",
    "x = np.sqrt([1+0j, 0+1j])\n",
    "print(x)\n",
    "print(x.real)\n",
    "print(x.real.dtype)\n"
   ]
  },
  {
   "cell_type": "code",
   "execution_count": 7,
   "metadata": {},
   "outputs": [
    {
     "output_type": "stream",
     "name": "stdout",
     "text": [
      "inf\n-inf\n0.0\n-0.0\nnan\n2.718281828459045\n3.141592653589793\n0.5772156649015329\nNone\n"
     ]
    }
   ],
   "source": [
    "print(np.inf)\n",
    "print(np.NINF)\n",
    "print(np.PZERO)\n",
    "print(np.NZERO)\n",
    "print(np.nan)\n",
    "print(np.e)\n",
    "print(np.pi)\n",
    "print(np.euler_gamma)\n",
    "print(np.newaxis)\n"
   ]
  },
  {
   "cell_type": "code",
   "execution_count": 8,
   "metadata": {},
   "outputs": [
    {
     "output_type": "stream",
     "name": "stdout",
     "text": [
      "[[1 2]\n [3 4]\n [5 6]]\n"
     ]
    }
   ],
   "source": [
    "import numpy as np\n",
    "\n",
    "x = np.empty([3, 2], dtype=int)\n",
    "print(x)\n"
   ]
  },
  {
   "cell_type": "code",
   "execution_count": 11,
   "metadata": {},
   "outputs": [
    {
     "output_type": "stream",
     "name": "stdout",
     "text": [
      "[0. 0. 0. 0. 0.]\n"
     ]
    }
   ],
   "source": [
    "import numpy as np\n",
    "\n",
    "x = np.zeros(5)\n",
    "print(x)\n"
   ]
  },
  {
   "cell_type": "code",
   "execution_count": 12,
   "metadata": {},
   "outputs": [
    {
     "output_type": "stream",
     "name": "stdout",
     "text": [
      "[[9 9 9]\n [9 9 9]]\n"
     ]
    }
   ],
   "source": [
    "import numpy as np\n",
    "\n",
    "a = np.full((2, 3), 9)\n",
    "print(a)\n"
   ]
  },
  {
   "cell_type": "code",
   "execution_count": 13,
   "metadata": {},
   "outputs": [
    {
     "output_type": "stream",
     "name": "stdout",
     "text": [
      "[0 1 2 3 4]\n[10 12 14 16 18]\n"
     ]
    }
   ],
   "source": [
    "import numpy as np\n",
    "\n",
    "a = np.arange(5)\n",
    "b = np.arange(10, 20, 2)\n",
    "print(a)\n",
    "print(b)\n"
   ]
  },
  {
   "cell_type": "code",
   "execution_count": 14,
   "metadata": {},
   "outputs": [
    {
     "output_type": "stream",
     "name": "stdout",
     "text": [
      "[0.         1.66666667 3.33333333]\n[0.         1.66666667 3.33333333 5.        ]\n"
     ]
    }
   ],
   "source": [
    "import numpy as np\n",
    "\n",
    "a = np.linspace(0, 5, 3, endpoint=False)\n",
    "b = np.linspace(0, 5, 4, endpoint=True)\n",
    "\n",
    "print(a)\n",
    "print(b)\n"
   ]
  },
  {
   "cell_type": "code",
   "execution_count": 17,
   "metadata": {},
   "outputs": [
    {
     "output_type": "stream",
     "name": "stdout",
     "text": [
      "(array([ 0. ,  2.5,  5. ,  7.5, 10. ]), 2.5)\n"
     ]
    }
   ],
   "source": [
    "import numpy as np\n",
    "\n",
    "a = np.linspace(0, 10, 5, retstep=True)\n",
    "print(a)\n"
   ]
  },
  {
   "cell_type": "code",
   "execution_count": 18,
   "metadata": {},
   "outputs": [
    {
     "output_type": "stream",
     "name": "stdout",
     "text": [
      "[   10.   100.  1000. 10000.]\n"
     ]
    }
   ],
   "source": [
    "import numpy as np\n",
    "\n",
    "a = np.logspace(1, 4, num=4)\n",
    "print(a)\n"
   ]
  },
  {
   "cell_type": "code",
   "execution_count": 19,
   "metadata": {},
   "outputs": [
    {
     "output_type": "stream",
     "name": "stdout",
     "text": [
      "[1. 2. 4. 8.]\n"
     ]
    }
   ],
   "source": [
    "import numpy as np\n",
    "\n",
    "a = np.geomspace(1, 8, num=4)\n",
    "print(a)"
   ]
  },
  {
   "cell_type": "code",
   "execution_count": 20,
   "metadata": {},
   "outputs": [
    {
     "output_type": "stream",
     "name": "stdout",
     "text": [
      "[1 2 3]\n"
     ]
    }
   ],
   "source": [
    "import numpy as np\n",
    "\n",
    "a = np.asarray([1, 2, 3])\n",
    "print(a)\n"
   ]
  },
  {
   "cell_type": "code",
   "execution_count": 21,
   "metadata": {},
   "outputs": [
    {
     "output_type": "stream",
     "name": "stdout",
     "text": [
      "[b'H' b'e' b'l' b'l' b'o' b' ' b'W' b'o' b'r' b'l' b'd']\n"
     ]
    }
   ],
   "source": [
    "import numpy as np\n",
    "\n",
    "a = np.frombuffer(b'Hello World', dtype='S1')\n",
    "print(a)\n"
   ]
  },
  {
   "cell_type": "code",
   "execution_count": 22,
   "metadata": {},
   "outputs": [
    {
     "output_type": "stream",
     "name": "stdout",
     "text": [
      "array('i', [1, 2, 3, 4])\n[1 2 3 4]\narray('i', [10, 2, 3, 4])\n[10  2  3  4]\n"
     ]
    }
   ],
   "source": [
    "import numpy as np\n",
    "import array\n",
    "\n",
    "a = array.array('i', [1, 2, 3, 4])\n",
    "print(a)\n",
    "\n",
    "na = np.frombuffer(a, dtype=np.int_)\n",
    "print(na)\n",
    "\n",
    "a[0] = 10\n",
    "print(a)\n",
    "print(na)\n"
   ]
  },
  {
   "cell_type": "code",
   "execution_count": 23,
   "metadata": {},
   "outputs": [
    {
     "output_type": "stream",
     "name": "stdout",
     "text": [
      "[1 2 3 4]\n[-535882272        653          3          4]\n"
     ]
    }
   ],
   "source": [
    "import numpy as np\n",
    "import array\n",
    "\n",
    "a = array.array(\"i\", [1, 2, 3, 4])\n",
    "na = np.frombuffer(a, dtype=int)\n",
    "print(na)\n",
    "\n",
    "a.append(5)\n",
    "print(na)\n"
   ]
  },
  {
   "cell_type": "code",
   "execution_count": 24,
   "metadata": {},
   "outputs": [
    {
     "output_type": "stream",
     "name": "stdout",
     "text": [
      "[ 0  1  4  9 16]\n"
     ]
    }
   ],
   "source": [
    "import numpy as np\n",
    "\n",
    "iterable = (x * x for x in range(5))\n",
    "a = np.fromiter(iterable, int)\n",
    "print(a)\n"
   ]
  },
  {
   "cell_type": "code",
   "execution_count": 26,
   "metadata": {},
   "outputs": [
    {
     "output_type": "stream",
     "name": "stdout",
     "text": [
      "[[-1431655765  1073392298 -1431655765]\n [ 1074440874           0  1075052544]]\n"
     ]
    }
   ],
   "source": [
    "import numpy as np\n",
    "a = np.empty_like([[1, 2, 3], [4, 5, 6]])\n",
    "print(a)\n"
   ]
  },
  {
   "cell_type": "code",
   "execution_count": null,
   "metadata": {},
   "outputs": [],
   "source": []
  }
 ]
}