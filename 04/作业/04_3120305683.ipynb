{
 "cells": [
  {
   "cell_type": "code",
   "execution_count": 1,
   "metadata": {},
   "outputs": [
    {
     "name": "stdin",
     "output_type": "stream",
     "text": [
      "Please enter your name: wang\n"
     ]
    },
    {
     "name": "stdout",
     "output_type": "stream",
     "text": [
      "hello,wang!\n"
     ]
    }
   ],
   "source": [
    "name=input(\"Please enter your name:\")\n",
    "print(\"hello,\"+name+\"!\")"
   ]
  },
  {
   "cell_type": "code",
   "execution_count": 2,
   "metadata": {},
   "outputs": [
    {
     "name": "stdin",
     "output_type": "stream",
     "text": [
      "这是一个注册表\n",
      "请告诉我你的名字：  wangshi\n"
     ]
    },
    {
     "name": "stdout",
     "output_type": "stream",
     "text": [
      "Hello,wangshi!\n"
     ]
    }
   ],
   "source": [
    "#多行\n",
    "message=\"这是一个注册表\"\n",
    "message+=\"\\n请告诉我你的名字： \"\n",
    "name=input(message)\n",
    "print(\"Hello,\"+name+\"!\")"
   ]
  },
  {
   "cell_type": "code",
   "execution_count": 3,
   "metadata": {},
   "outputs": [
    {
     "name": "stdin",
     "output_type": "stream",
     "text": [
      "你多大了？ 21\n"
     ]
    },
    {
     "name": "stdout",
     "output_type": "stream",
     "text": [
      "21\n",
      "ohoh\n"
     ]
    }
   ],
   "source": [
    "age=input(\"你多大了？\")\n",
    "age=int(age)\n",
    "print(age)\n",
    "if age >18:\n",
    "    print(\"ohoh\")\n",
    "else:\n",
    "    print(\"hoho\")"
   ]
  },
  {
   "cell_type": "code",
   "execution_count": 4,
   "metadata": {},
   "outputs": [
    {
     "name": "stdin",
     "output_type": "stream",
     "text": [
      "输入一个数字？  11\n"
     ]
    },
    {
     "name": "stdout",
     "output_type": "stream",
     "text": [
      "这是一个奇数\n"
     ]
    }
   ],
   "source": [
    "number=input(\"输入一个数字？ \")\n",
    "number=int(number)\n",
    "if number%2==0:\n",
    "    print(\"这是一个偶数\")\n",
    "else:\n",
    "    print(\"这是一个奇数\")"
   ]
  },
  {
   "cell_type": "code",
   "execution_count": 5,
   "metadata": {},
   "outputs": [
    {
     "name": "stdin",
     "output_type": "stream",
     "text": [
      "你们几位？  3\n"
     ]
    },
    {
     "name": "stdout",
     "output_type": "stream",
     "text": [
      "有空桌\n"
     ]
    }
   ],
   "source": [
    "#7-2\n",
    "person=input(\"你们几位？ \")\n",
    "person=int(person)\n",
    "if person >8:\n",
    "    print(\"没有空桌\")\n",
    "else:\n",
    "    print(\"有空桌\")"
   ]
  },
  {
   "cell_type": "code",
   "execution_count": 6,
   "metadata": {},
   "outputs": [
    {
     "name": "stdin",
     "output_type": "stream",
     "text": [
      "输入数字？ 34\n"
     ]
    },
    {
     "name": "stdout",
     "output_type": "stream",
     "text": [
      "No\n"
     ]
    }
   ],
   "source": [
    "#7-3\n",
    "number=input(\"输入数字？\")\n",
    "number=int(number)\n",
    "if number%10==0:\n",
    "    print(\"Yes\")\n",
    "else:\n",
    "    print(\"No\")"
   ]
  },
  {
   "cell_type": "code",
   "execution_count": 7,
   "metadata": {},
   "outputs": [
    {
     "name": "stdout",
     "output_type": "stream",
     "text": [
      "1\n",
      "2\n",
      "3\n",
      "4\n",
      "5\n"
     ]
    }
   ],
   "source": [
    "current_number=1\n",
    "while current_number<=5:\n",
    "    print(current_number)\n",
    "    current_number+=1"
   ]
  },
  {
   "cell_type": "code",
   "execution_count": 8,
   "metadata": {},
   "outputs": [
    {
     "name": "stdin",
     "output_type": "stream",
     "text": [
      "请输入？ 23\n"
     ]
    },
    {
     "name": "stdout",
     "output_type": "stream",
     "text": [
      "23\n"
     ]
    },
    {
     "name": "stdin",
     "output_type": "stream",
     "text": [
      "请输入？ 34\n"
     ]
    },
    {
     "name": "stdout",
     "output_type": "stream",
     "text": [
      "34\n"
     ]
    },
    {
     "name": "stdin",
     "output_type": "stream",
     "text": [
      "请输入？ quit\n"
     ]
    },
    {
     "name": "stdout",
     "output_type": "stream",
     "text": [
      "quit\n"
     ]
    }
   ],
   "source": [
    "message=\"\"\n",
    "while message!='quit':\n",
    "    message=input(\"请输入？\")\n",
    "    print(message)"
   ]
  },
  {
   "cell_type": "code",
   "execution_count": 9,
   "metadata": {},
   "outputs": [
    {
     "name": "stdin",
     "output_type": "stream",
     "text": [
      "请输入？ quit\n"
     ]
    }
   ],
   "source": [
    "message=\"\"\n",
    "while message!='quit':\n",
    "    message=input(\"请输入？\")\n",
    "    if message!='quit':\n",
    "        print(message)"
   ]
  },
  {
   "cell_type": "code",
   "execution_count": 10,
   "metadata": {},
   "outputs": [
    {
     "name": "stdin",
     "output_type": "stream",
     "text": [
      "请输入？ mess\n"
     ]
    },
    {
     "name": "stdout",
     "output_type": "stream",
     "text": [
      "mess\n"
     ]
    },
    {
     "name": "stdin",
     "output_type": "stream",
     "text": [
      "请输入？ quit\n"
     ]
    }
   ],
   "source": [
    "message=\"\"\n",
    "active=True#首字母大写\n",
    "while active:\n",
    "    message=input(\"请输入？\")\n",
    "    if message=='quit':\n",
    "        active=False\n",
    "    else:\n",
    "        print(message)"
   ]
  },
  {
   "cell_type": "code",
   "execution_count": 11,
   "metadata": {},
   "outputs": [
    {
     "name": "stdin",
     "output_type": "stream",
     "text": [
      "请输入配料表? [1,2,3,4]\n",
      "请输入配料表? quit\n"
     ]
    },
    {
     "name": "stdout",
     "output_type": "stream",
     "text": [
      "配料表：['[1,2,3,4]']\n"
     ]
    }
   ],
   "source": [
    "#7-4\n",
    "#prompt=\"\\n请输入配料表？\"\n",
    "#prompt+=\"\\n输入quit结束\"\n",
    "messages=[]\n",
    "active=True\n",
    "while active:\n",
    "    message=input(\"请输入配料表?\")\n",
    "    if message==\"quit\":\n",
    "        active=False\n",
    "    else:\n",
    "        messages.append(message)\n",
    "print(\"配料表：\"+str(messages))"
   ]
  },
  {
   "cell_type": "code",
   "execution_count": 12,
   "metadata": {},
   "outputs": [
    {
     "name": "stdin",
     "output_type": "stream",
     "text": [
      "\n",
      "请输入配料表？\n",
      "依次输入，输入quit结束 q,w,e,quit\n",
      "\n",
      "请输入配料表？\n",
      "依次输入，输入quit结束 quit\n"
     ]
    },
    {
     "name": "stdout",
     "output_type": "stream",
     "text": [
      "配料表：['q,w,e,quit']\n"
     ]
    }
   ],
   "source": [
    "prompt=\"\\n请输入配料表？\"\n",
    "prompt+=\"\\n依次输入，输入quit结束\"\n",
    "messages=[]\n",
    "while True:\n",
    "    message=input(prompt)\n",
    "    if message==\"quit\":\n",
    "        break\n",
    "    else:\n",
    "        messages.append(message)\n",
    "print(\"配料表：\"+str(messages))"
   ]
  },
  {
   "cell_type": "code",
   "execution_count": 13,
   "metadata": {},
   "outputs": [
    {
     "name": "stdin",
     "output_type": "stream",
     "text": [
      "\n",
      "请输入你的年龄 15\n",
      "\n",
      "请输入你的年龄 *\n"
     ]
    },
    {
     "name": "stdout",
     "output_type": "stream",
     "text": [
      "15\n"
     ]
    }
   ],
   "source": [
    "#7-5\n",
    "age=\"\"\n",
    "while age!=\"*\":\n",
    "    age=input(\"\\n请输入你的年龄\")\n",
    "    if age!=\"*\":\n",
    "        age=int(age)\n",
    "        if age<3:\n",
    "            price=0\n",
    "        elif age<12:\n",
    "            price=10\n",
    "        else:\n",
    "            price=15\n",
    "    else:\n",
    "        break\n",
    "print(price)"
   ]
  },
  {
   "cell_type": "code",
   "execution_count": 14,
   "metadata": {},
   "outputs": [
    {
     "name": "stdin",
     "output_type": "stream",
     "text": [
      "\n",
      "请输入你的年龄 23\n",
      "\n",
      "请输入你的年龄 *\n"
     ]
    },
    {
     "ename": "ValueError",
     "evalue": "invalid literal for int() with base 10: '*'",
     "output_type": "error",
     "traceback": [
      "\u001b[1;31m---------------------------------------------------------------------------\u001b[0m",
      "\u001b[1;31mValueError\u001b[0m                                Traceback (most recent call last)",
      "\u001b[1;32m<ipython-input-14-e57366516afb>\u001b[0m in \u001b[0;36m<module>\u001b[1;34m\u001b[0m\n\u001b[0;32m      2\u001b[0m \u001b[1;32mwhile\u001b[0m \u001b[0mage\u001b[0m\u001b[1;33m!=\u001b[0m\u001b[1;34m\"*\"\u001b[0m\u001b[1;33m:\u001b[0m\u001b[1;33m\u001b[0m\u001b[1;33m\u001b[0m\u001b[0m\n\u001b[0;32m      3\u001b[0m     \u001b[0mage\u001b[0m\u001b[1;33m=\u001b[0m\u001b[0minput\u001b[0m\u001b[1;33m(\u001b[0m\u001b[1;34m\"\\n请输入你的年龄\"\u001b[0m\u001b[1;33m)\u001b[0m\u001b[1;33m\u001b[0m\u001b[1;33m\u001b[0m\u001b[0m\n\u001b[1;32m----> 4\u001b[1;33m     \u001b[0mage\u001b[0m\u001b[1;33m=\u001b[0m\u001b[0mint\u001b[0m\u001b[1;33m(\u001b[0m\u001b[0mage\u001b[0m\u001b[1;33m)\u001b[0m\u001b[1;33m\u001b[0m\u001b[1;33m\u001b[0m\u001b[0m\n\u001b[0m\u001b[0;32m      5\u001b[0m     \u001b[1;32mif\u001b[0m \u001b[0mage\u001b[0m\u001b[1;33m<\u001b[0m\u001b[1;36m3\u001b[0m \u001b[1;32mand\u001b[0m \u001b[0mage\u001b[0m\u001b[1;33m>\u001b[0m\u001b[1;36m0\u001b[0m\u001b[1;33m:\u001b[0m\u001b[1;33m\u001b[0m\u001b[1;33m\u001b[0m\u001b[0m\n\u001b[0;32m      6\u001b[0m         \u001b[0mprice\u001b[0m\u001b[1;33m=\u001b[0m\u001b[1;36m0\u001b[0m\u001b[1;33m\u001b[0m\u001b[1;33m\u001b[0m\u001b[0m\n",
      "\u001b[1;31mValueError\u001b[0m: invalid literal for int() with base 10: '*'"
     ]
    }
   ],
   "source": [
    "age=\"\"\n",
    "while age!=\"*\":\n",
    "    age=input(\"\\n请输入你的年龄\")\n",
    "    age=int(age)\n",
    "    if age<3 and age>0:\n",
    "        price=0\n",
    "    elif age<12 and age>=3:\n",
    "        price=10\n",
    "    else:\n",
    "        price=15\n",
    "print(price)"
   ]
  },
  {
   "cell_type": "code",
   "execution_count": 15,
   "metadata": {},
   "outputs": [
    {
     "name": "stdout",
     "output_type": "stream",
     "text": [
      "正在核实的用户：Candace\n",
      "正在核实的用户：Brian\n",
      "正在核实的用户：Alice\n",
      "\n",
      "下面的用户已经核实：\n",
      "Candace\n",
      "Brian\n",
      "Alice\n"
     ]
    }
   ],
   "source": [
    "unconfirmed_users=['alice','brian','candace']\n",
    "confirmed_users=[]\n",
    "while unconfirmed_users:\n",
    "    current_user=unconfirmed_users.pop()\n",
    "    print(\"正在核实的用户：\"+current_user.title())\n",
    "    confirmed_users.append(current_user)\n",
    "print(\"\\n下面的用户已经核实：\")\n",
    "for confirmed_user in confirmed_users:\n",
    "    print(confirmed_user.title())"
   ]
  },
  {
   "cell_type": "code",
   "execution_count": 17,
   "metadata": {},
   "outputs": [
    {
     "name": "stdout",
     "output_type": "stream",
     "text": [
      "['dog', 'cat', 'dog', 'cat', 'goldfish', 'rabbit']\n"
     ]
    },
    {
     "ename": "ValueError",
     "evalue": "list.remove(x): x not in list",
     "output_type": "error",
     "traceback": [
      "\u001b[1;31m---------------------------------------------------------------------------\u001b[0m",
      "\u001b[1;31mValueError\u001b[0m                                Traceback (most recent call last)",
      "\u001b[1;32m<ipython-input-17-6ac21b59159b>\u001b[0m in \u001b[0;36m<module>\u001b[1;34m\u001b[0m\n\u001b[0;32m      2\u001b[0m \u001b[0mprint\u001b[0m\u001b[1;33m(\u001b[0m\u001b[0mpets\u001b[0m\u001b[1;33m)\u001b[0m\u001b[1;33m\u001b[0m\u001b[1;33m\u001b[0m\u001b[0m\n\u001b[0;32m      3\u001b[0m \u001b[1;32mwhile\u001b[0m \u001b[1;34m'cat'\u001b[0m \u001b[1;32min\u001b[0m \u001b[0mpets\u001b[0m\u001b[1;33m:\u001b[0m\u001b[1;33m\u001b[0m\u001b[1;33m\u001b[0m\u001b[0m\n\u001b[1;32m----> 4\u001b[1;33m     \u001b[0mpets\u001b[0m\u001b[1;33m.\u001b[0m\u001b[0mremove\u001b[0m\u001b[1;33m(\u001b[0m\u001b[1;34m'dog'\u001b[0m\u001b[1;33m)\u001b[0m\u001b[1;33m\u001b[0m\u001b[1;33m\u001b[0m\u001b[0m\n\u001b[0m\u001b[0;32m      5\u001b[0m \u001b[0mprint\u001b[0m\u001b[1;33m(\u001b[0m\u001b[0mpets\u001b[0m\u001b[1;33m)\u001b[0m\u001b[1;33m\u001b[0m\u001b[1;33m\u001b[0m\u001b[0m\n",
      "\u001b[1;31mValueError\u001b[0m: list.remove(x): x not in list"
     ]
    }
   ],
   "source": [
    "pets=['dog','cat','dog','cat','goldfish','rabbit']\n",
    "print(pets)\n",
    "while 'cat' in pets:\n",
    "    pets.remove('dog')\n",
    "print(pets)"
   ]
  },
  {
   "cell_type": "code",
   "execution_count": 18,
   "metadata": {},
   "outputs": [
    {
     "name": "stdout",
     "output_type": "stream",
     "text": [
      "['dog', 'cat', 'dog', 'cat', 'goldfish', 'rabbit']\n",
      "['cat', 'cat', 'goldfish', 'rabbit']\n"
     ]
    }
   ],
   "source": [
    "pets=['dog','cat','dog','cat','goldfish','rabbit']\n",
    "print(pets)\n",
    "while 'dog' in pets:\n",
    "    pets.remove('dog')\n",
    "print(pets)"
   ]
  },
  {
   "cell_type": "code",
   "execution_count": 19,
   "metadata": {},
   "outputs": [
    {
     "name": "stdout",
     "output_type": "stream",
     "text": [
      "\n",
      "I made your beef sandwich!\n",
      "\n",
      "I made your fish sandwich!\n",
      "\n",
      "I made your chicken sandwich!\n",
      "\n",
      "I made your vegetable sandwich!\n",
      "\n",
      "做好的三明治：['beef', 'fish', 'chicken', 'vegetable']\n"
     ]
    }
   ],
   "source": [
    "\n",
    "#7-8\n",
    "sandwich_orders=['vegetable','chicken','fish','beef']\n",
    "finished_sandwiches=[]\n",
    "while sandwich_orders:\n",
    "    current_sandwich=sandwich_orders.pop()\n",
    "    print(\"\\nI made your \"+current_sandwich+\" sandwich!\")\n",
    "    finished_sandwiches.append(current_sandwich)\n",
    "print(\"\\n做好的三明治：\"+str(finished_sandwiches))"
   ]
  },
  {
   "cell_type": "code",
   "execution_count": 20,
   "metadata": {},
   "outputs": [
    {
     "name": "stdout",
     "output_type": "stream",
     "text": [
      "五香烟熏牛肉卖完了\n",
      "目前有的三明治：['vegetable', 'chicken', 'fish', 'beef']\n",
      "\n",
      "I made your beef sandwich!\n",
      "\n",
      "I made your fish sandwich!\n",
      "\n",
      "I made your chicken sandwich!\n",
      "\n",
      "I made your vegetable sandwich!\n",
      "\n",
      "做好的三明治：['beef', 'fish', 'chicken', 'vegetable']\n"
     ]
    }
   ],
   "source": [
    "#7-9\n",
    "print(\"五香烟熏牛肉卖完了\")\n",
    "sandwich_orders=['pastrami','vegetable','pastrami','chicken','fish','pastrami','beef']\n",
    "while 'pastrami' in sandwich_orders:\n",
    "    sandwich_orders.remove('pastrami')\n",
    "print(\"目前有的三明治：\"+str(sandwich_orders))\n",
    "finished_sandwiches=[]\n",
    "while sandwich_orders:\n",
    "    current_sandwich=sandwich_orders.pop()\n",
    "    print(\"\\nI made your \"+current_sandwich+\" sandwich!\")\n",
    "    finished_sandwiches.append(current_sandwich)\n",
    "print(\"\\n做好的三明治：\"+str(finished_sandwiches))"
   ]
  },
  {
   "cell_type": "code",
   "execution_count": 21,
   "metadata": {},
   "outputs": [
    {
     "name": "stdin",
     "output_type": "stream",
     "text": [
      "如果你可以去世界的任何一个地方，你想去哪里？ jiangxi\n",
      "是否结束？Yes/No yes\n",
      "如果你可以去世界的任何一个地方，你想去哪里？ jaingxi\n",
      "是否结束？Yes/No Yes\n"
     ]
    },
    {
     "name": "stdout",
     "output_type": "stream",
     "text": [
      "['jiangxi', 'jaingxi']\n"
     ]
    }
   ],
   "source": [
    "#7-10\n",
    "active=True\n",
    "sites=[]\n",
    "while active:\n",
    "    site=input(\"如果你可以去世界的任何一个地方，你想去哪里？\")\n",
    "    sites.append(site)\n",
    "    over=input(\"是否结束？Yes/No\")\n",
    "    if over==\"Yes\":\n",
    "        active=False\n",
    "print(sites)"
   ]
  },
  {
   "cell_type": "code",
   "execution_count": 22,
   "metadata": {},
   "outputs": [
    {
     "name": "stdout",
     "output_type": "stream",
     "text": [
      "Hello,Tom!\n"
     ]
    }
   ],
   "source": [
    "def greet_user(username):\n",
    "    \"\"\"显示简单的问候语\"\"\"\n",
    "    print(\"Hello,\"+username.title()+\"!\")\n",
    "greet_user('tom')"
   ]
  },
  {
   "cell_type": "code",
   "execution_count": 1,
   "metadata": {},
   "outputs": [
    {
     "name": "stdout",
     "output_type": "stream",
     "text": [
      "One of my favorite book is Alice in Wonderland.\n"
     ]
    }
   ],
   "source": [
    "\n",
    "#157\n",
    "#8-2\n",
    "def favorite_book(title):\n",
    "    \"\"\"喜欢的书\"\"\"\n",
    "    print(\"One of my favorite book is \"+title.title()+\" in Wonderland.\")\n",
    "favorite_book('alice')"
   ]
  },
  {
   "cell_type": "code",
   "execution_count": 2,
   "metadata": {},
   "outputs": [
    {
     "name": "stdout",
     "output_type": "stream",
     "text": [
      "T恤的尺码：Xxl, T恤的字样：LOVE\n",
      "T恤的尺码：Xxl, T恤的字样：LOVE\n"
     ]
    }
   ],
   "source": [
    "#8-3\n",
    "def make_shirt(shirt_size,shirt_type):\n",
    "    print(\"T恤的尺码：\"+shirt_size.title()+\", T恤的字样：\"+shirt_type)\n",
    "make_shirt('xxl','LOVE')\n",
    "make_shirt(shirt_size='xxl',shirt_type='LOVE')"
   ]
  },
  {
   "cell_type": "code",
   "execution_count": 3,
   "metadata": {},
   "outputs": [
    {
     "name": "stdout",
     "output_type": "stream",
     "text": [
      "T恤的尺码：xl, T恤的字样：I love python\n",
      "T恤的尺码：xl, T恤的字样：I love python\n",
      "T恤的尺码：xxl, T恤的字样：LOVE\n"
     ]
    }
   ],
   "source": [
    "#8-4\n",
    "def make_shirt(shirt_size='xxl',shirt_type='I love python'):\n",
    "    print(\"T恤的尺码：\"+shirt_size+\", T恤的字样：\"+shirt_type)\n",
    "make_shirt('xl')\n",
    "make_shirt(shirt_size='xl')\n",
    "make_shirt(shirt_size='xxl',shirt_type='LOVE')"
   ]
  },
  {
   "cell_type": "code",
   "execution_count": 4,
   "metadata": {},
   "outputs": [
    {
     "name": "stdout",
     "output_type": "stream",
     "text": [
      "Reykjavik is in Iceland\n",
      "Beijing is in China\n",
      "洛杉矶 is in 美国\n"
     ]
    }
   ],
   "source": [
    "#8-5\n",
    "def describe_city(city='reykjavik',country='iceland'):\n",
    "    print(city.title()+\" is in \"+country.title())\n",
    "describe_city()\n",
    "describe_city('beijing','china')\n",
    "describe_city(city='洛杉矶',country='美国')"
   ]
  },
  {
   "cell_type": "code",
   "execution_count": 5,
   "metadata": {},
   "outputs": [
    {
     "name": "stdout",
     "output_type": "stream",
     "text": [
      "Jimi Hendrix\n",
      "John Hooker Lee\n"
     ]
    }
   ],
   "source": [
    "def name(first_name,last_name,middle_name=''):\n",
    "    if middle_name:\n",
    "        full_name=first_name+' '+middle_name+' '+last_name\n",
    "    else:\n",
    "        full_name=first_name+' '+last_name\n",
    "    return full_name.title()\n",
    "musician=name('jimi','hendrix')\n",
    "print(musician)\n",
    "musician=name('john','lee','hooker')\n",
    "print(musician)"
   ]
  },
  {
   "cell_type": "code",
   "execution_count": 6,
   "metadata": {},
   "outputs": [
    {
     "name": "stdout",
     "output_type": "stream",
     "text": [
      "\n",
      "请告诉我你的名字\n",
      "输入q结束\n",
      "如果没有中间名字，请输入空格\n"
     ]
    },
    {
     "name": "stdin",
     "output_type": "stream",
     "text": [
      "First_name: q\n",
      "Last_name: q\n",
      "Middle_name: q\n"
     ]
    }
   ],
   "source": [
    "def name(first_name,last_name,middle_name):\n",
    "    if middle_name:\n",
    "        full_name=first_name+' '+middle_name+' '+last_name\n",
    "    else:\n",
    "        full_name=first_name+' '+last_name\n",
    "    return full_name.title()\n",
    "while True:\n",
    "    print(\"\\n请告诉我你的名字\")\n",
    "    print(\"输入q结束\")\n",
    "    print(\"如果没有中间名字，请输入空格\")\n",
    "    f_name=input(\"First_name:\")\n",
    "    l_name=input(\"Last_name:\")\n",
    "    m_name=input(\"Middle_name:\")\n",
    "    if f_name=='q':\n",
    "        break\n",
    "    if l_name=='q':\n",
    "        break\n",
    "    if m_name=='q':\n",
    "        break\n",
    "    musician=name(f_name,l_name,m_name)\n",
    "    print(musician)"
   ]
  },
  {
   "cell_type": "code",
   "execution_count": null,
   "metadata": {},
   "outputs": [],
   "source": []
  }
 ],
 "metadata": {
  "kernelspec": {
   "display_name": "Python 3",
   "language": "python",
   "name": "python3"
  },
  "language_info": {
   "codemirror_mode": {
    "name": "ipython",
    "version": 3
   },
   "file_extension": ".py",
   "mimetype": "text/x-python",
   "name": "python",
   "nbconvert_exporter": "python",
   "pygments_lexer": "ipython3",
   "version": "3.8.5"
  }
 },
 "nbformat": 4,
 "nbformat_minor": 4
}
