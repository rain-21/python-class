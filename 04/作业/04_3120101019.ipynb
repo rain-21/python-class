{
 "cells": [
  {
   "cell_type": "code",
   "execution_count": 1,
   "metadata": {},
   "outputs": [
    {
     "name": "stdout",
     "output_type": "stream",
     "text": [
      "[61 63 65]\n"
     ]
    }
   ],
   "source": [
    "import numpy as np\n",
    "\n",
    "arr = np.array([61, 62, 63, 64, 65])\n",
    "\n",
    "x = arr[[True, False, True, False, True]]\n",
    "\n",
    "print(x)"
   ]
  },
  {
   "cell_type": "code",
   "execution_count": 2,
   "metadata": {},
   "outputs": [
    {
     "name": "stdout",
     "output_type": "stream",
     "text": [
      "[False, False, True, True, True]\n",
      "[63 64 65]\n"
     ]
    }
   ],
   "source": [
    "import numpy as np\n",
    "\n",
    "arr = np.array([61, 62, 63, 64, 65])\n",
    "\n",
    "# 创建一个空列表\n",
    "filter_arr = []\n",
    "\n",
    "# 遍历 arr 中的每个元素\n",
    "for element in arr:\n",
    "  # 如果元素大于 62，则将值设置为 True，否则为 False：\n",
    "  if element > 62:\n",
    "    filter_arr.append(True)\n",
    "  else:\n",
    "    filter_arr.append(False)\n",
    "\n",
    "newarr = arr[filter_arr]\n",
    "\n",
    "print(filter_arr)\n",
    "print(newarr)"
   ]
  },
  {
   "cell_type": "code",
   "execution_count": 3,
   "metadata": {},
   "outputs": [
    {
     "name": "stdout",
     "output_type": "stream",
     "text": [
      "[False, True, False, True, False, True, False]\n",
      "[2 4 6]\n"
     ]
    }
   ],
   "source": [
    "import numpy as np\n",
    "\n",
    "arr = np.array([1, 2, 3, 4, 5, 6, 7])\n",
    "\n",
    "# 创建一个空列表\n",
    "filter_arr = []\n",
    "\n",
    "# 遍历 arr 中的每个元素\n",
    "for element in arr:\n",
    "  # 如果元素可以被 2 整除，则将值设置为 True，否则设置为 False\n",
    "  if element % 2 == 0:\n",
    "    filter_arr.append(True)\n",
    "  else:\n",
    "    filter_arr.append(False)\n",
    "\n",
    "newarr = arr[filter_arr]\n",
    "\n",
    "print(filter_arr)\n",
    "print(newarr)"
   ]
  },
  {
   "cell_type": "code",
   "execution_count": 4,
   "metadata": {},
   "outputs": [
    {
     "name": "stdout",
     "output_type": "stream",
     "text": [
      "[False False  True  True  True]\n",
      "[63 64 65]\n"
     ]
    }
   ],
   "source": [
    "import numpy as np\n",
    "\n",
    "arr = np.array([61, 62, 63, 64, 65])\n",
    "\n",
    "filter_arr = arr > 62\n",
    "\n",
    "newarr = arr[filter_arr]\n",
    "\n",
    "print(filter_arr)\n",
    "print(newarr)"
   ]
  },
  {
   "cell_type": "code",
   "execution_count": 5,
   "metadata": {},
   "outputs": [
    {
     "name": "stdout",
     "output_type": "stream",
     "text": [
      "26\n"
     ]
    }
   ],
   "source": [
    "from numpy import random\n",
    "\n",
    "x = random.randint(100)\n",
    "\n",
    "print(x)"
   ]
  },
  {
   "cell_type": "code",
   "execution_count": 6,
   "metadata": {},
   "outputs": [
    {
     "name": "stdout",
     "output_type": "stream",
     "text": [
      "[[62 72 39 76 54]\n",
      " [84 47 82 48 90]\n",
      " [51 24 23 75 75]]\n"
     ]
    }
   ],
   "source": [
    " from numpy import random\n",
    "\n",
    "x = random.randint(100, size=(3, 5))\n",
    "\n",
    "print(x)"
   ]
  },
  {
   "cell_type": "code",
   "execution_count": 7,
   "metadata": {},
   "outputs": [
    {
     "name": "stdout",
     "output_type": "stream",
     "text": [
      "[[0.37232097 0.93830681 0.43878292 0.97819549 0.90757194]\n",
      " [0.26460553 0.00553414 0.63705285 0.30555576 0.72017572]\n",
      " [0.19197948 0.79464061 0.96804019 0.89616779 0.38941886]]\n"
     ]
    }
   ],
   "source": [
    "from numpy import random\n",
    "\n",
    "x = random.rand(3, 5)\n",
    "\n",
    "print(x)"
   ]
  },
  {
   "cell_type": "code",
   "execution_count": 8,
   "metadata": {},
   "outputs": [
    {
     "name": "stdout",
     "output_type": "stream",
     "text": [
      "9\n"
     ]
    }
   ],
   "source": [
    "from numpy import random\n",
    "\n",
    "x = random.choice([3, 5, 7, 9])\n",
    "\n",
    "print(x)"
   ]
  },
  {
   "cell_type": "code",
   "execution_count": 9,
   "metadata": {},
   "outputs": [
    {
     "name": "stdout",
     "output_type": "stream",
     "text": [
      "[[5 7 9 7 5]\n",
      " [7 7 3 9 9]\n",
      " [9 7 9 3 9]]\n"
     ]
    }
   ],
   "source": [
    "from numpy import random\n",
    "\n",
    "x = random.choice([3, 5, 7, 9], size=(3, 5))\n",
    "\n",
    "print(x)"
   ]
  },
  {
   "cell_type": "code",
   "execution_count": 10,
   "metadata": {},
   "outputs": [
    {
     "name": "stdout",
     "output_type": "stream",
     "text": [
      "[5, 7, 9, 11]\n"
     ]
    }
   ],
   "source": [
    "x = [1, 2, 3, 4]\n",
    "y = [4, 5, 6, 7]\n",
    "z = []\n",
    "\n",
    "for i, j in zip(x, y):\n",
    "  z.append(i + j)\n",
    "print(z)\n"
   ]
  },
  {
   "cell_type": "code",
   "execution_count": 11,
   "metadata": {},
   "outputs": [
    {
     "name": "stdout",
     "output_type": "stream",
     "text": [
      "Thread 1\t received message id 1\n",
      "Thread 0\t received message id 0\n",
      "Thread 1\t received message id 2\n",
      "Thread 0\t received message id 3\n",
      "Thread 0\t received message id 5\n",
      "Thread 1\t received message id 4\n",
      "Thread 0\t received message id 6\n",
      "Thread 1\t received message id 7\n",
      "Thread 1\t received message id 9\n",
      "Thread 0\t received message id 8\n"
     ]
    }
   ],
   "source": [
    "\n",
    "import time\n",
    "import threading\n",
    "import queue\n",
    "\n",
    "#创建工作队列并且限制队列的最大元素是10\n",
    "work_queue = queue.Queue(maxsize=10)\n",
    "\n",
    "#创建结果队列并且限制队列的最大元素是10\n",
    "result_queue = queue.Queue(maxsize=10)\n",
    "\n",
    "class workthread(threading.Thread):\n",
    "    def __init__(self,threaf_id):\n",
    "        super(workthread, self).__init__()\n",
    "        self.thread_id = threaf_id\n",
    "    def run(self):\n",
    "        while not work_queue.empty():\n",
    "            #从工作队列里获取数据\n",
    "            work = work_queue.get()\n",
    "            time.sleep(3)\n",
    "            out = \"Thread %d\\t received %s\"%(self.thread_id,work)\n",
    "            #把结果放入结果队列\n",
    "            result_queue.put(out)\n",
    "\n",
    "def main():\n",
    "    #工作队列放入数据\n",
    "    for i in range(10):\n",
    "        work_queue.put(\"message id %d\"%i)\n",
    "    #开启两个工作线程\n",
    "    for i in range(2):\n",
    "        thread = workthread(i)\n",
    "        thread.start()\n",
    "    #输出10个结果\n",
    "    for i in range(10):\n",
    "        result = result_queue.get()\n",
    "        print(result)\n",
    "if __name__ == '__main__':\n",
    "    main()\n"
   ]
  },
  {
   "cell_type": "code",
   "execution_count": 12,
   "metadata": {},
   "outputs": [
    {
     "name": "stdout",
     "output_type": "stream",
     "text": [
      "main thread start\n",
      "Thread 0\t is printing!times:0\n",
      "Thread 0\t is printing!times:1\n",
      "Thread 0\t is printing!times:2\n",
      "Thread 1\t is printing!times:0\n",
      "Thread 1\t is printing!times:1\n",
      "Thread 1\t is printing!times:2\n",
      "Thread 2\t is printing!times:0\n",
      "Thread 2\t is printing!times:1\n",
      "Thread 2\t is printing!times:2\n",
      "Thread 3\t is printing!times:0\n",
      "Thread 3\t is printing!times:1\n",
      "Thread 3\t is printing!times:2\n",
      "Thread 4\t is printing!times:0\n",
      "Thread 4\t is printing!times:1\n",
      "Thread 4\t is printing!times:2\n",
      "Thread 0\t is printing!times:0\n",
      "Thread 0\t is printing!times:1\n",
      "Thread 0\t is printing!times:2\n",
      "Thread 1\t is printing!times:0\n",
      "Thread 1\t is printing!times:1\n",
      "Thread 1\t is printing!times:2\n",
      "Thread 2\t is printing!times:0\n",
      "Thread 2\t is printing!times:1\n",
      "Thread 2\t is printing!times:2\n",
      "Thread 3\t is printing!times:0\n",
      "Thread 3\t is printing!times:1\n",
      "Thread 3\t is printing!times:2\n",
      "Thread 4\t is printing!times:0\n",
      "Thread 4\t is printing!times:1\n",
      "Thread 4\t is printing!times:2\n",
      "main thread finish\n"
     ]
    }
   ],
   "source": [
    "\n",
    "import time\n",
    "import threading\n",
    "\n",
    "thread_lock = None\n",
    "class mythread(threading.Thread):\n",
    "    def __init__(self,threat_id):\n",
    "        super(mythread, self).__init__()\n",
    "        self.threat_id = threat_id\n",
    "\n",
    "    def run(self):\n",
    "        #锁定\n",
    "        thread_lock.acquire()\n",
    "        for i in range(3):\n",
    "            print(\"Thread %d\\t is printing!times:%d\"%(self.threat_id,i))\n",
    "        #释放\n",
    "        thread_lock.release()\n",
    "        time.sleep(1)\n",
    "\n",
    "        #锁定\n",
    "        thread_lock.acquire()\n",
    "        for i in range(3):\n",
    "            print(\"Thread %d\\t is printing!times:%d\"%(self.threat_id,i))\n",
    "        # 释放\n",
    "        thread_lock.release()\n",
    "\n",
    "def main():\n",
    "    print(\"main thread start\")\n",
    "    threads = []\n",
    "\n",
    "    '''创建线程'''\n",
    "    for i in range(5):\n",
    "        thread = mythread(i)\n",
    "        threads.append(thread)\n",
    "\n",
    "    '''启动线程'''\n",
    "    for i in range(5):\n",
    "        threads[i].start()\n",
    "\n",
    "    '''等待线程执行完毕'''\n",
    "    for i in range(5):\n",
    "        threads[i].join()\n",
    "\n",
    "    print(\"main thread finish\")\n",
    "\n",
    "if __name__ == '__main__':\n",
    "    #获取锁\n",
    "    thread_lock = threading.Lock()\n",
    "    main()"
   ]
  },
  {
   "cell_type": "code",
   "execution_count": 13,
   "metadata": {},
   "outputs": [
    {
     "name": "stdout",
     "output_type": "stream",
     "text": [
      "[0 1 2 3]\n"
     ]
    }
   ],
   "source": [
    "import numpy as np\n",
    "\n",
    "arr = np.array([3, 2, 0, 1])\n",
    "\n",
    "print(np.sort(arr))"
   ]
  },
  {
   "cell_type": "code",
   "execution_count": 14,
   "metadata": {},
   "outputs": [
    {
     "name": "stdout",
     "output_type": "stream",
     "text": [
      "[[2 3 4]\n",
      " [0 1 5]]\n"
     ]
    }
   ],
   "source": [
    "import numpy as np\n",
    "\n",
    "arr = np.array([[3, 2, 4], [5, 0, 1]])\n",
    "\n",
    "print(np.sort(arr))"
   ]
  },
  {
   "cell_type": "code",
   "execution_count": 15,
   "metadata": {},
   "outputs": [
    {
     "name": "stdout",
     "output_type": "stream",
     "text": [
      "1\n"
     ]
    }
   ],
   "source": [
    "import numpy as np\n",
    "\n",
    "arr = np.array([6, 7, 8, 9])\n",
    "\n",
    "x = np.searchsorted(arr, 7)\n",
    "\n",
    "print(x)"
   ]
  },
  {
   "cell_type": "code",
   "execution_count": 16,
   "metadata": {},
   "outputs": [
    {
     "name": "stdout",
     "output_type": "stream",
     "text": [
      "2\n"
     ]
    }
   ],
   "source": [
    "import numpy as np\n",
    "\n",
    "arr = np.array([6, 7, 8, 9])\n",
    "\n",
    "x = np.searchsorted(arr, 7, side='right')\n",
    "\n",
    "print(x)"
   ]
  },
  {
   "cell_type": "code",
   "execution_count": 17,
   "metadata": {},
   "outputs": [
    {
     "name": "stdout",
     "output_type": "stream",
     "text": [
      "[1 2 3]\n"
     ]
    }
   ],
   "source": [
    "import numpy as np\n",
    "\n",
    "arr = np.array([1, 3, 5, 7])\n",
    "\n",
    "x = np.searchsorted(arr, [2, 4, 6])\n",
    "\n",
    "print(x)"
   ]
  },
  {
   "cell_type": "code",
   "execution_count": 18,
   "metadata": {},
   "outputs": [
    {
     "ename": "ModuleNotFoundError",
     "evalue": "No module named 'mysql'",
     "output_type": "error",
     "traceback": [
      "\u001b[1;31m---------------------------------------------------------------------------\u001b[0m",
      "\u001b[1;31mModuleNotFoundError\u001b[0m                       Traceback (most recent call last)",
      "\u001b[1;32m<ipython-input-18-76b4fc92f495>\u001b[0m in \u001b[0;36m<module>\u001b[1;34m\u001b[0m\n\u001b[1;32m----> 1\u001b[1;33m \u001b[1;32mimport\u001b[0m \u001b[0mmysql\u001b[0m\u001b[1;33m.\u001b[0m\u001b[0mconnector\u001b[0m\u001b[1;33m\u001b[0m\u001b[1;33m\u001b[0m\u001b[0m\n\u001b[0m\u001b[0;32m      2\u001b[0m \u001b[1;33m\u001b[0m\u001b[0m\n\u001b[0;32m      3\u001b[0m mydb = mysql.connector.connect(\n\u001b[0;32m      4\u001b[0m   \u001b[0mhost\u001b[0m\u001b[1;33m=\u001b[0m\u001b[1;34m\"localhost\"\u001b[0m\u001b[1;33m,\u001b[0m\u001b[1;33m\u001b[0m\u001b[1;33m\u001b[0m\u001b[0m\n\u001b[0;32m      5\u001b[0m   \u001b[0muser\u001b[0m\u001b[1;33m=\u001b[0m\u001b[1;34m\"yourusername\"\u001b[0m\u001b[1;33m,\u001b[0m\u001b[1;33m\u001b[0m\u001b[1;33m\u001b[0m\u001b[0m\n",
      "\u001b[1;31mModuleNotFoundError\u001b[0m: No module named 'mysql'"
     ]
    }
   ],
   "source": [
    "import mysql.connector\n",
    "\n",
    "mydb = mysql.connector.connect(\n",
    "  host=\"localhost\",\n",
    "  user=\"yourusername\",\n",
    "  passwd=\"yourpassword\"\n",
    ")\n",
    "\n",
    "mycursor = mydb.cursor()\n",
    "\n",
    "mycursor.execute(\"SHOW DATABASES\")\n",
    "\n",
    "for x in mycursor:\n",
    "  print(x)"
   ]
  },
  {
   "cell_type": "code",
   "execution_count": 19,
   "metadata": {},
   "outputs": [
    {
     "name": "stdout",
     "output_type": "stream",
     "text": [
      "89.76923076923077\n"
     ]
    }
   ],
   "source": [
    "import numpy\n",
    "\n",
    "speed = [99,86,87,88,111,86,103,87,94,78,77,85,86]\n",
    "\n",
    "x = numpy.mean(speed)\n",
    "\n",
    "print(x)"
   ]
  },
  {
   "cell_type": "code",
   "execution_count": 20,
   "metadata": {},
   "outputs": [
    {
     "name": "stdout",
     "output_type": "stream",
     "text": [
      "87.0\n"
     ]
    }
   ],
   "source": [
    "#中值\n",
    "import numpy\n",
    "\n",
    "speed = [99,86,87,88,111,86,103,87,94,78,77,85,86]\n",
    "\n",
    "x = numpy.median(speed)\n",
    "\n",
    "print(x)"
   ]
  },
  {
   "cell_type": "code",
   "execution_count": 21,
   "metadata": {},
   "outputs": [
    {
     "name": "stdout",
     "output_type": "stream",
     "text": [
      "86.5\n"
     ]
    }
   ],
   "source": [
    "import numpy\n",
    "\n",
    "speed = [99,86,87,88,86,103,87,94,78,77,85,86]\n",
    "\n",
    "x = numpy.median(speed)\n",
    "\n",
    "print(x)"
   ]
  },
  {
   "cell_type": "code",
   "execution_count": 22,
   "metadata": {},
   "outputs": [
    {
     "name": "stdout",
     "output_type": "stream",
     "text": [
      "ModeResult(mode=array([86]), count=array([3]))\n"
     ]
    }
   ],
   "source": [
    "from scipy import stats\n",
    "\n",
    "speed = [99,86,87,88,111,86,103,87,94,78,77,85,86]\n",
    "\n",
    "x = stats.mode(speed)\n",
    "\n",
    "print(x)"
   ]
  },
  {
   "cell_type": "code",
   "execution_count": 23,
   "metadata": {},
   "outputs": [
    {
     "name": "stdout",
     "output_type": "stream",
     "text": [
      "0.9035079029052513\n"
     ]
    }
   ],
   "source": [
    "import numpy\n",
    "\n",
    "speed = [86,87,88,86,87,85,86]\n",
    "\n",
    "x = numpy.std(speed)\n",
    "\n",
    "print(x)"
   ]
  },
  {
   "cell_type": "code",
   "execution_count": 24,
   "metadata": {},
   "outputs": [
    {
     "name": "stdout",
     "output_type": "stream",
     "text": [
      "1432.2448979591834\n"
     ]
    }
   ],
   "source": [
    "import numpy\n",
    "\n",
    "speed = [32,111,138,28,59,77,97]\n",
    "\n",
    "x = numpy.var(speed)\n",
    "\n",
    "print(x)"
   ]
  },
  {
   "cell_type": "code",
   "execution_count": 25,
   "metadata": {},
   "outputs": [
    {
     "name": "stdout",
     "output_type": "stream",
     "text": [
      "43.0\n"
     ]
    }
   ],
   "source": [
    "import numpy\n",
    "\n",
    "ages = [5,31,43,48,50,41,7,11,15,39,80,82,32,2,8,6,25,36,27,61,31]\n",
    "\n",
    "x = numpy.percentile(ages, 75)\n",
    "\n",
    "print(x)"
   ]
  },
  {
   "cell_type": "code",
   "execution_count": 26,
   "metadata": {},
   "outputs": [
    {
     "name": "stdout",
     "output_type": "stream",
     "text": [
      "61.0\n"
     ]
    }
   ],
   "source": [
    "import numpy\n",
    "\n",
    "ages = [5,31,43,48,50,41,7,11,15,39,80,82,32,2,8,6,25,36,27,61,31]\n",
    "\n",
    "x = numpy.percentile(ages, 90)\n",
    "\n",
    "print(x)"
   ]
  },
  {
   "cell_type": "code",
   "execution_count": 28,
   "metadata": {},
   "outputs": [
    {
     "name": "stdout",
     "output_type": "stream",
     "text": [
      "[3.48797203 0.97510848 0.32119669 2.16286118 4.68718437 0.54493248\n",
      " 4.16372509 3.919786   4.65258615 4.36276738 0.00585224 2.71264538\n",
      " 2.03377067 2.92955746 3.07899896 0.71956517 3.57291087 2.55056667\n",
      " 0.62741288 4.35579698 4.65946881 0.43305208 1.36304719 4.1881232\n",
      " 3.27530317 3.53108791 2.35255422 3.55626732 3.56021604 1.34571516\n",
      " 4.77767505 2.13125867 2.9665476  1.06922104 3.81218584 4.40822092\n",
      " 3.298784   0.21795983 3.40662281 1.44273677 2.11027908 4.85540208\n",
      " 2.70155931 2.2848016  0.35592602 1.95575224 4.61232112 3.5765127\n",
      " 2.40194538 4.79303254]\n"
     ]
    }
   ],
   "source": [
    "import numpy\n",
    "\n",
    "x = numpy.random.uniform(0.0, 5.0, 50)\n",
    "\n",
    "print(x)"
   ]
  },
  {
   "cell_type": "code",
   "execution_count": 29,
   "metadata": {},
   "outputs": [
    {
     "data": {
      "image/png": "[encoded data removed]",
      "text/plain": [
       "<Figure size 432x288 with 1 Axes>"
      ]
     },
     "metadata": {
      "needs_background": "light"
     },
     "output_type": "display_data"
    }
   ],
   "source": [
    "import numpy\n",
    "import matplotlib.pyplot as plt\n",
    "\n",
    "x = numpy.random.uniform(0.0, 5.0, 250)\n",
    "\n",
    "plt.hist(x, 5)\n",
    "plt.show()"
   ]
  },
  {
   "cell_type": "code",
   "execution_count": 30,
   "metadata": {},
   "outputs": [
    {
     "data": {
      "image/png": "[encoded data removed]",
      "text/plain": [
       "<Figure size 432x288 with 1 Axes>"
      ]
     },
     "metadata": {
      "needs_background": "light"
     },
     "output_type": "display_data"
    }
   ],
   "source": [
    "import numpy\n",
    "import matplotlib.pyplot as plt\n",
    "\n",
    "x = numpy.random.uniform(0.0, 5.0, 100000)\n",
    "\n",
    "plt.hist(x, 100)\n",
    "plt.show()"
   ]
  },
  {
   "cell_type": "code",
   "execution_count": null,
   "metadata": {},
   "outputs": [],
   "source": []
  }
 ],
 "metadata": {
  "kernelspec": {
   "display_name": "Python 3",
   "language": "python",
   "name": "python3"
  },
  "language_info": {
   "codemirror_mode": {
    "name": "ipython",
    "version": 3
   },
   "file_extension": ".py",
   "mimetype": "text/x-python",
   "name": "python",
   "nbconvert_exporter": "python",
   "pygments_lexer": "ipython3",
   "version": "3.8.5"
  }
 },
 "nbformat": 4,
 "nbformat_minor": 4
}
