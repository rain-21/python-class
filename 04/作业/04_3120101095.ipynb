{
 "cells": [
  {
   "cell_type": "code",
   "execution_count": 1,
   "metadata": {},
   "outputs": [
    {
     "name": "stdout",
     "output_type": "stream",
     "text": [
      "1 2 3\n",
      "1 2 4\n",
      "1 2 5\n",
      "1 2 6\n",
      "1 2 7\n",
      "1 2 8\n",
      "1 2 9\n",
      "1 3 2\n",
      "1 3 4\n",
      "1 3 5\n",
      "1 3 6\n",
      "1 3 7\n",
      "1 3 8\n",
      "1 3 9\n",
      "1 4 2\n",
      "1 4 3\n",
      "1 4 5\n",
      "1 4 6\n",
      "1 4 7\n",
      "1 4 8\n",
      "1 4 9\n",
      "1 5 2\n",
      "1 5 3\n",
      "1 5 4\n",
      "1 5 6\n",
      "1 5 7\n",
      "1 5 8\n",
      "1 5 9\n",
      "1 6 2\n",
      "1 6 3\n",
      "1 6 4\n",
      "1 6 5\n",
      "1 6 7\n",
      "1 6 8\n",
      "1 6 9\n",
      "1 7 2\n",
      "1 7 3\n",
      "1 7 4\n",
      "1 7 5\n",
      "1 7 6\n",
      "1 7 8\n",
      "1 7 9\n",
      "1 8 2\n",
      "1 8 3\n",
      "1 8 4\n",
      "1 8 5\n",
      "1 8 6\n",
      "1 8 7\n",
      "1 8 9\n",
      "1 9 2\n",
      "1 9 3\n",
      "1 9 4\n",
      "1 9 5\n",
      "1 9 6\n",
      "1 9 7\n",
      "1 9 8\n",
      "2 1 3\n",
      "2 1 4\n",
      "2 1 5\n",
      "2 1 6\n",
      "2 1 7\n",
      "2 1 8\n",
      "2 1 9\n",
      "2 3 1\n",
      "2 3 4\n",
      "2 3 5\n",
      "2 3 6\n",
      "2 3 7\n",
      "2 3 8\n",
      "2 3 9\n",
      "2 4 1\n",
      "2 4 3\n",
      "2 4 5\n",
      "2 4 6\n",
      "2 4 7\n",
      "2 4 8\n",
      "2 4 9\n",
      "2 5 1\n",
      "2 5 3\n",
      "2 5 4\n",
      "2 5 6\n",
      "2 5 7\n",
      "2 5 8\n",
      "2 5 9\n",
      "2 6 1\n",
      "2 6 3\n",
      "2 6 4\n",
      "2 6 5\n",
      "2 6 7\n",
      "2 6 8\n",
      "2 6 9\n",
      "2 7 1\n",
      "2 7 3\n",
      "2 7 4\n",
      "2 7 5\n",
      "2 7 6\n",
      "2 7 8\n",
      "2 7 9\n",
      "2 8 1\n",
      "2 8 3\n",
      "2 8 4\n",
      "2 8 5\n",
      "2 8 6\n",
      "2 8 7\n",
      "2 8 9\n",
      "2 9 1\n",
      "2 9 3\n",
      "2 9 4\n",
      "2 9 5\n",
      "2 9 6\n",
      "2 9 7\n",
      "2 9 8\n",
      "3 1 2\n",
      "3 1 4\n",
      "3 1 5\n",
      "3 1 6\n",
      "3 1 7\n",
      "3 1 8\n",
      "3 1 9\n",
      "3 2 1\n",
      "3 2 4\n",
      "3 2 5\n",
      "3 2 6\n",
      "3 2 7\n",
      "3 2 8\n",
      "3 2 9\n",
      "3 4 1\n",
      "3 4 2\n",
      "3 4 5\n",
      "3 4 6\n",
      "3 4 7\n",
      "3 4 8\n",
      "3 4 9\n",
      "3 5 1\n",
      "3 5 2\n",
      "3 5 4\n",
      "3 5 6\n",
      "3 5 7\n",
      "3 5 8\n",
      "3 5 9\n",
      "3 6 1\n",
      "3 6 2\n",
      "3 6 4\n",
      "3 6 5\n",
      "3 6 7\n",
      "3 6 8\n",
      "3 6 9\n",
      "3 7 1\n",
      "3 7 2\n",
      "3 7 4\n",
      "3 7 5\n",
      "3 7 6\n",
      "3 7 8\n",
      "3 7 9\n",
      "3 8 1\n",
      "3 8 2\n",
      "3 8 4\n",
      "3 8 5\n",
      "3 8 6\n",
      "3 8 7\n",
      "3 8 9\n",
      "3 9 1\n",
      "3 9 2\n",
      "3 9 4\n",
      "3 9 5\n",
      "3 9 6\n",
      "3 9 7\n",
      "3 9 8\n",
      "4 1 2\n",
      "4 1 3\n",
      "4 1 5\n",
      "4 1 6\n",
      "4 1 7\n",
      "4 1 8\n",
      "4 1 9\n",
      "4 2 1\n",
      "4 2 3\n",
      "4 2 5\n",
      "4 2 6\n",
      "4 2 7\n",
      "4 2 8\n",
      "4 2 9\n",
      "4 3 1\n",
      "4 3 2\n",
      "4 3 5\n",
      "4 3 6\n",
      "4 3 7\n",
      "4 3 8\n",
      "4 3 9\n",
      "4 5 1\n",
      "4 5 2\n",
      "4 5 3\n",
      "4 5 6\n",
      "4 5 7\n",
      "4 5 8\n",
      "4 5 9\n",
      "4 6 1\n",
      "4 6 2\n",
      "4 6 3\n",
      "4 6 5\n",
      "4 6 7\n",
      "4 6 8\n",
      "4 6 9\n",
      "4 7 1\n",
      "4 7 2\n",
      "4 7 3\n",
      "4 7 5\n",
      "4 7 6\n",
      "4 7 8\n",
      "4 7 9\n",
      "4 8 1\n",
      "4 8 2\n",
      "4 8 3\n",
      "4 8 5\n",
      "4 8 6\n",
      "4 8 7\n",
      "4 8 9\n",
      "4 9 1\n",
      "4 9 2\n",
      "4 9 3\n",
      "4 9 5\n",
      "4 9 6\n",
      "4 9 7\n",
      "4 9 8\n",
      "5 1 2\n",
      "5 1 3\n",
      "5 1 4\n",
      "5 1 6\n",
      "5 1 7\n",
      "5 1 8\n",
      "5 1 9\n",
      "5 2 1\n",
      "5 2 3\n",
      "5 2 4\n",
      "5 2 6\n",
      "5 2 7\n",
      "5 2 8\n",
      "5 2 9\n",
      "5 3 1\n",
      "5 3 2\n",
      "5 3 4\n",
      "5 3 6\n",
      "5 3 7\n",
      "5 3 8\n",
      "5 3 9\n",
      "5 4 1\n",
      "5 4 2\n",
      "5 4 3\n",
      "5 4 6\n",
      "5 4 7\n",
      "5 4 8\n",
      "5 4 9\n",
      "5 6 1\n",
      "5 6 2\n",
      "5 6 3\n",
      "5 6 4\n",
      "5 6 7\n",
      "5 6 8\n",
      "5 6 9\n",
      "5 7 1\n",
      "5 7 2\n",
      "5 7 3\n",
      "5 7 4\n",
      "5 7 6\n",
      "5 7 8\n",
      "5 7 9\n",
      "5 8 1\n",
      "5 8 2\n",
      "5 8 3\n",
      "5 8 4\n",
      "5 8 6\n",
      "5 8 7\n",
      "5 8 9\n",
      "5 9 1\n",
      "5 9 2\n",
      "5 9 3\n",
      "5 9 4\n",
      "5 9 6\n",
      "5 9 7\n",
      "5 9 8\n",
      "6 1 2\n",
      "6 1 3\n",
      "6 1 4\n",
      "6 1 5\n",
      "6 1 7\n",
      "6 1 8\n",
      "6 1 9\n",
      "6 2 1\n",
      "6 2 3\n",
      "6 2 4\n",
      "6 2 5\n",
      "6 2 7\n",
      "6 2 8\n",
      "6 2 9\n",
      "6 3 1\n",
      "6 3 2\n",
      "6 3 4\n",
      "6 3 5\n",
      "6 3 7\n",
      "6 3 8\n",
      "6 3 9\n",
      "6 4 1\n",
      "6 4 2\n",
      "6 4 3\n",
      "6 4 5\n",
      "6 4 7\n",
      "6 4 8\n",
      "6 4 9\n",
      "6 5 1\n",
      "6 5 2\n",
      "6 5 3\n",
      "6 5 4\n",
      "6 5 7\n",
      "6 5 8\n",
      "6 5 9\n",
      "6 7 1\n",
      "6 7 2\n",
      "6 7 3\n",
      "6 7 4\n",
      "6 7 5\n",
      "6 7 8\n",
      "6 7 9\n",
      "6 8 1\n",
      "6 8 2\n",
      "6 8 3\n",
      "6 8 4\n",
      "6 8 5\n",
      "6 8 7\n",
      "6 8 9\n",
      "6 9 1\n",
      "6 9 2\n",
      "6 9 3\n",
      "6 9 4\n",
      "6 9 5\n",
      "6 9 7\n",
      "6 9 8\n",
      "7 1 2\n",
      "7 1 3\n",
      "7 1 4\n",
      "7 1 5\n",
      "7 1 6\n",
      "7 1 8\n",
      "7 1 9\n",
      "7 2 1\n",
      "7 2 3\n",
      "7 2 4\n",
      "7 2 5\n",
      "7 2 6\n",
      "7 2 8\n",
      "7 2 9\n",
      "7 3 1\n",
      "7 3 2\n",
      "7 3 4\n",
      "7 3 5\n",
      "7 3 6\n",
      "7 3 8\n",
      "7 3 9\n",
      "7 4 1\n",
      "7 4 2\n",
      "7 4 3\n",
      "7 4 5\n",
      "7 4 6\n",
      "7 4 8\n",
      "7 4 9\n",
      "7 5 1\n",
      "7 5 2\n",
      "7 5 3\n",
      "7 5 4\n",
      "7 5 6\n",
      "7 5 8\n",
      "7 5 9\n",
      "7 6 1\n",
      "7 6 2\n",
      "7 6 3\n",
      "7 6 4\n",
      "7 6 5\n",
      "7 6 8\n",
      "7 6 9\n",
      "7 8 1\n",
      "7 8 2\n",
      "7 8 3\n",
      "7 8 4\n",
      "7 8 5\n",
      "7 8 6\n",
      "7 8 9\n",
      "7 9 1\n",
      "7 9 2\n",
      "7 9 3\n",
      "7 9 4\n",
      "7 9 5\n",
      "7 9 6\n",
      "7 9 8\n",
      "8 1 2\n",
      "8 1 3\n",
      "8 1 4\n",
      "8 1 5\n",
      "8 1 6\n",
      "8 1 7\n",
      "8 1 9\n",
      "8 2 1\n",
      "8 2 3\n",
      "8 2 4\n",
      "8 2 5\n",
      "8 2 6\n",
      "8 2 7\n",
      "8 2 9\n",
      "8 3 1\n",
      "8 3 2\n",
      "8 3 4\n",
      "8 3 5\n",
      "8 3 6\n",
      "8 3 7\n",
      "8 3 9\n",
      "8 4 1\n",
      "8 4 2\n",
      "8 4 3\n",
      "8 4 5\n",
      "8 4 6\n",
      "8 4 7\n",
      "8 4 9\n",
      "8 5 1\n",
      "8 5 2\n",
      "8 5 3\n",
      "8 5 4\n",
      "8 5 6\n",
      "8 5 7\n",
      "8 5 9\n",
      "8 6 1\n",
      "8 6 2\n",
      "8 6 3\n",
      "8 6 4\n",
      "8 6 5\n",
      "8 6 7\n",
      "8 6 9\n",
      "8 7 1\n",
      "8 7 2\n",
      "8 7 3\n",
      "8 7 4\n",
      "8 7 5\n",
      "8 7 6\n",
      "8 7 9\n",
      "8 9 1\n",
      "8 9 2\n",
      "8 9 3\n",
      "8 9 4\n",
      "8 9 5\n",
      "8 9 6\n",
      "8 9 7\n",
      "9 1 2\n",
      "9 1 3\n",
      "9 1 4\n",
      "9 1 5\n",
      "9 1 6\n",
      "9 1 7\n",
      "9 1 8\n",
      "9 2 1\n",
      "9 2 3\n",
      "9 2 4\n",
      "9 2 5\n",
      "9 2 6\n",
      "9 2 7\n",
      "9 2 8\n",
      "9 3 1\n",
      "9 3 2\n",
      "9 3 4\n",
      "9 3 5\n",
      "9 3 6\n",
      "9 3 7\n",
      "9 3 8\n",
      "9 4 1\n",
      "9 4 2\n",
      "9 4 3\n",
      "9 4 5\n",
      "9 4 6\n",
      "9 4 7\n",
      "9 4 8\n",
      "9 5 1\n",
      "9 5 2\n",
      "9 5 3\n",
      "9 5 4\n",
      "9 5 6\n",
      "9 5 7\n",
      "9 5 8\n",
      "9 6 1\n",
      "9 6 2\n",
      "9 6 3\n",
      "9 6 4\n",
      "9 6 5\n",
      "9 6 7\n",
      "9 6 8\n",
      "9 7 1\n",
      "9 7 2\n",
      "9 7 3\n",
      "9 7 4\n",
      "9 7 5\n",
      "9 7 6\n",
      "9 7 8\n",
      "9 8 1\n",
      "9 8 2\n",
      "9 8 3\n",
      "9 8 4\n",
      "9 8 5\n",
      "9 8 6\n",
      "9 8 7\n"
     ]
    }
   ],
   "source": [
    "for i in range(1,10):\n",
    "    for j in range(1,10):\n",
    "        for k in range(1,10):\n",
    "            if (i!=j) and (i!=k) and (j!=k):\n",
    "                print(i,j,k)"
   ]
  },
  {
   "cell_type": "code",
   "execution_count": 5,
   "metadata": {},
   "outputs": [
    {
     "name": "stdin",
     "output_type": "stream",
     "text": [
      "请输入第一个数字： 2\n",
      "请输入第二个数字： 3\n"
     ]
    },
    {
     "name": "stdout",
     "output_type": "stream",
     "text": [
      "数字2.0和3.0求和结果是：5.0\n"
     ]
    }
   ],
   "source": [
    "num1=input('请输入第一个数字：')\n",
    "num2=input('请输入第二个数字：')\n",
    "a=float(num1)\n",
    "b=float(num2)\n",
    "sum=a+b\n",
    "print('数字{0}和{1}求和结果是：{2}'.format(a,b,sum))"
   ]
  },
  {
   "cell_type": "code",
   "execution_count": 6,
   "metadata": {},
   "outputs": [
    {
     "name": "stdin",
     "output_type": "stream",
     "text": [
      "请输入一个数字： 9\n"
     ]
    },
    {
     "name": "stdout",
     "output_type": "stream",
     "text": [
      "9.000的平方根为3.000\n"
     ]
    }
   ],
   "source": [
    "#两个数字求和\n",
    "a=input('请输入一个数字：')\n",
    "num=float(a)\n",
    "num_sqrt=num**0.5\n",
    "print('%0.3f的平方根为%0.3f'%(num,num_sqrt))"
   ]
  },
  {
   "cell_type": "code",
   "execution_count": 7,
   "metadata": {},
   "outputs": [
    {
     "name": "stdin",
     "output_type": "stream",
     "text": [
      "请输入a: 1\n",
      "请输入b: 2\n",
      "请输入c: 1\n"
     ]
    },
    {
     "name": "stdout",
     "output_type": "stream",
     "text": [
      "结果为(-1+0j)和(-1+0j)\n"
     ]
    }
   ],
   "source": [
    "#求解二次方程组\n",
    "import cmath\n",
    "num1=input('请输入a:')\n",
    "num2=input('请输入b:')\n",
    "num3=input('请输入c:')\n",
    "a=float(num1)\n",
    "b=float(num2)\n",
    "c=float(num3)\n",
    "d=(b**2)-(4*a*c)\n",
    "sol1=(-b-cmath.sqrt(d))/(2*a)\n",
    "sol2=(-b+cmath.sqrt(d))/(2*a)\n",
    "print('结果为{0}和{1}'.format(sol1,sol2))"
   ]
  },
  {
   "cell_type": "code",
   "execution_count": 9,
   "metadata": {},
   "outputs": [
    {
     "name": "stdin",
     "output_type": "stream",
     "text": [
      "请输入三角形第一条边的边长： 3\n",
      "请输入三角形第二条边的边长： 4\n",
      "请输入三角形第三条边的边长： 5\n"
     ]
    },
    {
     "name": "stdout",
     "output_type": "stream",
     "text": [
      "三角形的面积为6.00\n"
     ]
    }
   ],
   "source": [
    "#计算三角形面积\n",
    "num1=input('请输入三角形第一条边的边长：')\n",
    "num2=input('请输入三角形第二条边的边长：')\n",
    "num3=input('请输入三角形第三条边的边长：')\n",
    "a=float(num1)\n",
    "b=float(num2)\n",
    "c=float(num3)\n",
    "s=(a+b+c)/2\n",
    "area=(s*(s-a)*(s-b)*(s-c))**0.5\n",
    "print('三角形的面积为%0.2f'%area)"
   ]
  },
  {
   "cell_type": "code",
   "execution_count": 10,
   "metadata": {},
   "outputs": [
    {
     "name": "stdout",
     "output_type": "stream",
     "text": [
      "I LOVE YOU FOREVER\n"
     ]
    }
   ],
   "source": [
    "print(\"I LOVE YOU FOREVER\")"
   ]
  },
  {
   "cell_type": "code",
   "execution_count": 11,
   "metadata": {},
   "outputs": [
    {
     "data": {
      "text/plain": [
       "['False',\n",
       " 'None',\n",
       " 'True',\n",
       " 'and',\n",
       " 'as',\n",
       " 'assert',\n",
       " 'async',\n",
       " 'await',\n",
       " 'break',\n",
       " 'class',\n",
       " 'continue',\n",
       " 'def',\n",
       " 'del',\n",
       " 'elif',\n",
       " 'else',\n",
       " 'except',\n",
       " 'finally',\n",
       " 'for',\n",
       " 'from',\n",
       " 'global',\n",
       " 'if',\n",
       " 'import',\n",
       " 'in',\n",
       " 'is',\n",
       " 'lambda',\n",
       " 'nonlocal',\n",
       " 'not',\n",
       " 'or',\n",
       " 'pass',\n",
       " 'raise',\n",
       " 'return',\n",
       " 'try',\n",
       " 'while',\n",
       " 'with',\n",
       " 'yield']"
      ]
     },
     "execution_count": 11,
     "metadata": {},
     "output_type": "execute_result"
    }
   ],
   "source": [
    "import keyword\n",
    "keyword.kwlist"
   ]
  },
  {
   "cell_type": "code",
   "execution_count": 12,
   "metadata": {},
   "outputs": [
    {
     "name": "stdout",
     "output_type": "stream",
     "text": [
      "True\n"
     ]
    }
   ],
   "source": [
    "if True:\n",
    "    print(\"True\")\n",
    "else:\n",
    "    print(\"Flase\")"
   ]
  },
  {
   "cell_type": "code",
   "execution_count": 19,
   "metadata": {},
   "outputs": [
    {
     "name": "stdout",
     "output_type": "stream",
     "text": [
      "Runoob\n",
      "Runoo\n",
      "R\n",
      "noo\n",
      "noob\n",
      "uo\n",
      "RunoobRunoob\n",
      "Runoob 你好\n",
      "----------------------\n",
      "hello\n",
      "runoob\n",
      "hello\\nrunoob\n"
     ]
    }
   ],
   "source": [
    "str='Runoob'\n",
    "print(str)       #输出字符串\n",
    "print(str[0:-1]) #输出第一个到倒数第二个的所有字符\n",
    "print(str[0])    #输出字符串第一个字符\n",
    "print(str[2:5])  #输出从第三个开始到第五个的字符\n",
    "print(str[2:])   #输出从第三个开始后的所有字符\n",
    "print(str[1:5:2])#输出从第二个开始到第五个且每隔两个的字符\n",
    "print(str*2)     #输出字符串两次\n",
    "print(str+' 你好')#连接字符串\n",
    "print('----------------------')\n",
    "print('hello\\nrunoob')\n",
    "print(r'hello\\nrunoob')"
   ]
  },
  {
   "cell_type": "code",
   "execution_count": 20,
   "metadata": {},
   "outputs": [
    {
     "name": "stdout",
     "output_type": "stream",
     "text": [
      "a\n",
      "b\n",
      "----------\n",
      "ab\n"
     ]
    }
   ],
   "source": [
    "x=\"a\"\n",
    "y=\"b\"\n",
    "print(x)\n",
    "print(y)#换行输出\n",
    "print('----------')\n",
    "print(x,end=\"\")\n",
    "print(y,end=\"\")\n",
    "print()#不换行输出"
   ]
  },
  {
   "cell_type": "code",
   "execution_count": 21,
   "metadata": {},
   "outputs": [
    {
     "name": "stdout",
     "output_type": "stream",
     "text": [
      "100\n",
      "1000.0\n",
      "zhang shanyi\n"
     ]
    }
   ],
   "source": [
    "counter=100         #整型变量\n",
    "miles=1000.0        #浮点型变量\n",
    "name=\"zhang shanyi\" #字符串\n",
    "print(counter)\n",
    "print(miles)\n",
    "print(name)"
   ]
  },
  {
   "cell_type": "code",
   "execution_count": 22,
   "metadata": {},
   "outputs": [
    {
     "name": "stdout",
     "output_type": "stream",
     "text": [
      "1 1 1 2 3 zhang\n"
     ]
    }
   ],
   "source": [
    "#多个变量赋值\n",
    "a=b=c=1\n",
    "d,e,f = 2,3,\"zhang\"\n",
    "print(a,b,c,d,e,f)"
   ]
  },
  {
   "cell_type": "code",
   "execution_count": 23,
   "metadata": {},
   "outputs": [
    {
     "name": "stdout",
     "output_type": "stream",
     "text": [
      "<class 'int'> <class 'float'> <class 'bool'> <class 'complex'>\n"
     ]
    }
   ],
   "source": [
    "#数据类型\n",
    "a,b,c,d=20,5.5,True,4+3j\n",
    "print(type(a),type(b),type(c),type(d))"
   ]
  },
  {
   "cell_type": "code",
   "execution_count": 25,
   "metadata": {},
   "outputs": [
    {
     "data": {
      "text/plain": [
       "True"
      ]
     },
     "execution_count": 25,
     "metadata": {},
     "output_type": "execute_result"
    }
   ],
   "source": [
    "#isinstance判断\n",
    "a=521\n",
    "isinstance(a,int)"
   ]
  },
  {
   "cell_type": "code",
   "execution_count": 26,
   "metadata": {},
   "outputs": [
    {
     "name": "stdout",
     "output_type": "stream",
     "text": [
      "P n\n",
      "n P\n"
     ]
    }
   ],
   "source": [
    "word='Python'\n",
    "print(word[0],word[5])\n",
    "print(word[-1],word[-6])"
   ]
  },
  {
   "cell_type": "code",
   "execution_count": 30,
   "metadata": {},
   "outputs": [
    {
     "name": "stdout",
     "output_type": "stream",
     "text": [
      "('abcd', 786, 2.23, 'runoob', 70.2)\n",
      "abcd\n",
      "(786, 2.23)\n",
      "(2.23, 'runoob', 70.2)\n",
      "(123, 'runoob', 123, 'runoob')\n",
      "('abcd', 786, 2.23, 'runoob', 70.2, 123, 'runoob')\n"
     ]
    }
   ],
   "source": [
    "tuple=('abcd',786,2.23,'runoob',70.2)\n",
    "tinytuple=(123,'runoob')\n",
    "print(tuple)\n",
    "print(tuple[0])\n",
    "print(tuple[1:3])\n",
    "print(tuple[2:])\n",
    "print(tinytuple*2)\n",
    "print(tuple+tinytuple)"
   ]
  },
  {
   "cell_type": "code",
   "execution_count": 32,
   "metadata": {},
   "outputs": [
    {
     "name": "stdout",
     "output_type": "stream",
     "text": [
      "1\n",
      "(2, 3, 4, 5)\n"
     ]
    }
   ],
   "source": [
    "tup=(1,2,3,4,5,6)\n",
    "print(tup[0])\n",
    "print(tup[1:5])"
   ]
  },
  {
   "cell_type": "code",
   "execution_count": 38,
   "metadata": {},
   "outputs": [
    {
     "name": "stdout",
     "output_type": "stream",
     "text": [
      "{'google', 'runoob', 'taobao', 'baidu', 'zhihu'}\n",
      "runoob在集合中\n",
      "{'d', 'b', 'a', 'c', 'r'}\n",
      "{'b', 'd', 'r'}\n",
      "{'z', 'l', 'd', 'm', 'b', 'a', 'c', 'r'}\n",
      "{'a', 'c'}\n",
      "{'m', 'b', 'z', 'd', 'l', 'r'}\n"
     ]
    }
   ],
   "source": [
    "sites={'google','taobao','runoob','zhihu','taobao','baidu'}\n",
    "print(sites)#输出集合，重复的元素被自动去掉\n",
    "if 'runoob' in sites:\n",
    "    print('runoob在集合中')\n",
    "else:\n",
    "    print('runoob不在集合中')#成员测试\n",
    "a=set('abracadabra')\n",
    "b=set('alacazam')\n",
    "print(a)\n",
    "print(a-b)#a和b的差集\n",
    "print(a|b)#a和b的并集\n",
    "print(a&b)#a和b的交集\n",
    "print(a^b)#a和b中不同时存在的元素"
   ]
  },
  {
   "cell_type": "code",
   "execution_count": 41,
   "metadata": {},
   "outputs": [
    {
     "name": "stdout",
     "output_type": "stream",
     "text": [
      "1-菜鸟教程\n",
      "2-菜鸟工具\n",
      "{'name': 'runoob', 'code': 1, 'site': 'www.runoob.com'}\n",
      "dict_keys(['name', 'code', 'site'])\n",
      "dict_values(['runoob', 1, 'www.runoob.com'])\n"
     ]
    }
   ],
   "source": [
    "dict={}\n",
    "dict['one']=\"1-菜鸟教程\"\n",
    "dict[2]=\"2-菜鸟工具\"\n",
    "tinydict={'name':'runoob','code':1,'site':'www.runoob.com'}\n",
    "print(dict['one'])#输出键为‘one’的值\n",
    "print(dict[2])#输出键为‘2’的值\n",
    "print(tinydict)#输出完整的字典\n",
    "print(tinydict.keys())#输出所有键\n",
    "print(tinydict.values())#输出所有值"
   ]
  },
  {
   "cell_type": "code",
   "execution_count": 51,
   "metadata": {},
   "outputs": [
    {
     "name": "stdout",
     "output_type": "stream",
     "text": [
      "1-c的值为: 31\n",
      "2-c的值为: 11\n",
      "3-c的值为: 210\n",
      "4-c的值为: 2.1\n",
      "5-c的值为: 1\n",
      "6-c的值为: 8\n",
      "7-c的值为: 2\n"
     ]
    }
   ],
   "source": [
    "a=21\n",
    "b=10\n",
    "c=0\n",
    "c=a+b\n",
    "print(\"1-c的值为:\",c)\n",
    "c=a-b\n",
    "print(\"2-c的值为:\",c)\n",
    "c=a*b\n",
    "print(\"3-c的值为:\",c)\n",
    "c=a/b\n",
    "print(\"4-c的值为:\",c)\n",
    "c=a%b\n",
    "print(\"5-c的值为:\",c)\n",
    "#修改变量a、b、c\n",
    "a=2\n",
    "b=3\n",
    "c=a**b\n",
    "print(\"6-c的值为:\",c)\n",
    "a=10\n",
    "b=5\n",
    "c=a//b\n",
    "print(\"7-c的值为:\",c)"
   ]
  },
  {
   "cell_type": "code",
   "execution_count": 55,
   "metadata": {},
   "outputs": [
    {
     "name": "stdout",
     "output_type": "stream",
     "text": [
      "1-a不等于b\n",
      "2-a不等于b\n",
      "3-a大于等于b\n",
      "4-a大于b\n",
      "5-a小于等于b\n",
      "6-b大于等于a\n"
     ]
    }
   ],
   "source": [
    "a=21\n",
    "b=10\n",
    "c=0\n",
    "if(a==b):\n",
    "    print(\"1-a等于b\")\n",
    "else:\n",
    "    print(\"1-a不等于b\")\n",
    "if(a!=b):\n",
    "    print(\"2-a不等于b\")\n",
    "else:\n",
    "    print(\"2-a等于b\")\n",
    "if(a<b):\n",
    "    print(\"3-a小于b\")\n",
    "else:\n",
    "    print(\"3-a大于等于b\")\n",
    "if(a>b):\n",
    "    print(\"4-a大于b\")\n",
    "else:\n",
    "    print(\"4-a小于等于b\")\n",
    "#修改变量a和b的值\n",
    "a=5\n",
    "b=20\n",
    "if (a<=b):\n",
    "    print(\"5-a小于等于b\")\n",
    "else:\n",
    "    print(\"5-a大于b\")\n",
    "if (b>=a):\n",
    "    print(\"6-b大于等于a\")\n",
    "else:\n",
    "    print(\"6-b小于a\")"
   ]
  },
  {
   "cell_type": "code",
   "execution_count": 57,
   "metadata": {},
   "outputs": [
    {
     "name": "stdout",
     "output_type": "stream",
     "text": [
      "1-c的值为: 31\n",
      "2-c的值为: 52\n",
      "3-c的值为: 1092\n",
      "4-c的值为: 52.0\n",
      "5-c的值为: 2\n",
      "6-c的值为: 2097152\n",
      "7-c的值为: 99864\n"
     ]
    }
   ],
   "source": [
    "a=21\n",
    "b=10\n",
    "c=0\n",
    "c=a+b\n",
    "print(\"1-c的值为:\",c)\n",
    "c+=a\n",
    "print(\"2-c的值为:\",c)\n",
    "c*=a\n",
    "print(\"3-c的值为:\",c)\n",
    "c/=a\n",
    "print(\"4-c的值为:\",c)\n",
    "c=2\n",
    "c%=a\n",
    "print(\"5-c的值为:\",c)\n",
    "c**=a\n",
    "print(\"6-c的值为:\",c)\n",
    "c//=a\n",
    "print(\"7-c的值为:\",c)"
   ]
  },
  {
   "cell_type": "code",
   "execution_count": 59,
   "metadata": {},
   "outputs": [
    {
     "name": "stdout",
     "output_type": "stream",
     "text": [
      "1-变量a和b都为true\n",
      "2-变量a和b都为true，或其中一个变量为true\n",
      "3-变量a和b有一个不为true\n",
      "4-变量a和b都为true，或其中一个变量为true\n",
      "5-变量a和b都为false，或其中一个变量为false\n"
     ]
    }
   ],
   "source": [
    "a=10\n",
    "b=20\n",
    "if (a and b):\n",
    "    print(\"1-变量a和b都为true\")\n",
    "else:\n",
    "    print(\"1-变量a和b有一个不为true\")\n",
    "if (a or b):\n",
    "    print(\"2-变量a和b都为true，或其中一个变量为true\")\n",
    "else:\n",
    "    print(\"2-变量a和b都不为true\")\n",
    "a=0\n",
    "if (a and b):\n",
    "    print(\"3-变量a和b都为true\")\n",
    "else:\n",
    "    print(\"3-变量a和b有一个不为true\")\n",
    "if (a or b):\n",
    "    print(\"4-变量a和b都为true，或其中一个变量为true\")\n",
    "else:\n",
    "    print(\"4-变量a和b都不为true\")\n",
    "if not(a and b):\n",
    "    print(\"5-变量a和b都为false，或其中一个变量为false\")\n",
    "else:\n",
    "    print(\"5-变量a和b都为true\")"
   ]
  },
  {
   "cell_type": "code",
   "execution_count": 62,
   "metadata": {},
   "outputs": [
    {
     "name": "stdout",
     "output_type": "stream",
     "text": [
      "1-变量a不在给定的列表list中\n",
      "2-变量b不在给定的列表list中\n",
      "3-变量a在给定的列表list中\n"
     ]
    }
   ],
   "source": [
    "a=10\n",
    "b=20\n",
    "list=[1,2,3,4,5]\n",
    "if (a in list):\n",
    "    print(\"1-变量a在给定的列表中list中\")\n",
    "else:\n",
    "    print(\"1-变量a不在给定的列表list中\")\n",
    "if (b not in list):\n",
    "    print(\"2-变量b不在给定的列表list中\")\n",
    "else:\n",
    "    print(\"2-变量b在给定的列表list中\")\n",
    "#修改变量a的值\n",
    "a=2\n",
    "if (a in list):\n",
    "    print(\"3-变量a在给定的列表list中\")\n",
    "else:\n",
    "    print(\"3-变量a不在给定的列表list中\")"
   ]
  },
  {
   "cell_type": "code",
   "execution_count": null,
   "metadata": {},
   "outputs": [],
   "source": [
    "import random\n",
    "print(random.randint(0,100))"
   ]
  },
  {
   "cell_type": "code",
   "execution_count": null,
   "metadata": {},
   "outputs": [],
   "source": []
  }
 ],
 "metadata": {
  "kernelspec": {
   "display_name": "Python 3",
   "language": "python",
   "name": "python3"
  },
  "language_info": {
   "codemirror_mode": {
    "name": "ipython",
    "version": 3
   },
   "file_extension": ".py",
   "mimetype": "text/x-python",
   "name": "python",
   "nbconvert_exporter": "python",
   "pygments_lexer": "ipython3",
   "version": "3.8.5"
  }
 },
 "nbformat": 4,
 "nbformat_minor": 4
}
