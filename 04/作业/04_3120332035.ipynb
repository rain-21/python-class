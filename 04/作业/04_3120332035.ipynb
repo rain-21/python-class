{
 "cells": [
  {
   "cell_type": "code",
   "execution_count": 1,
   "metadata": {},
   "outputs": [
    {
     "name": "stdin",
     "output_type": "stream",
     "text": [
      "Please enter your age: 12\n"
     ]
    },
    {
     "name": "stdout",
     "output_type": "stream",
     "text": [
      "hello,12!\n"
     ]
    }
   ],
   "source": [
    "age=input(\"Please enter your age:\")\n",
    "print(\"hello,\"+age+\"!\")"
   ]
  },
  {
   "cell_type": "code",
   "execution_count": 6,
   "metadata": {},
   "outputs": [
    {
     "name": "stdin",
     "output_type": "stream",
     "text": [
      "这是一个注册表\n",
      "请告诉我你的年纪：  10\n"
     ]
    },
    {
     "name": "stdout",
     "output_type": "stream",
     "text": [
      "Hello,10!\n"
     ]
    }
   ],
   "source": [
    "message=\"这是一个注册表\"\n",
    "message+=\"\\n请告诉我你的年纪： \"\n",
    "age=input(message)\n",
    "print(\"Hello,\"+age+\"!\")"
   ]
  },
  {
   "cell_type": "code",
   "execution_count": 7,
   "metadata": {},
   "outputs": [
    {
     "name": "stdin",
     "output_type": "stream",
     "text": [
      "你几岁了？ 10\n"
     ]
    },
    {
     "name": "stdout",
     "output_type": "stream",
     "text": [
      "10\n",
      "hoho\n"
     ]
    }
   ],
   "source": [
    "age=input(\"你几岁了？\")\n",
    "age=int(age)\n",
    "print(age)\n",
    "if age >18:\n",
    "    print(\"ohoh\")\n",
    "else:\n",
    "    print(\"hoho\")"
   ]
  },
  {
   "cell_type": "code",
   "execution_count": 8,
   "metadata": {},
   "outputs": [
    {
     "name": "stdin",
     "output_type": "stream",
     "text": [
      "Please enter your name: yu\n"
     ]
    },
    {
     "name": "stdout",
     "output_type": "stream",
     "text": [
      "hello,yu!\n"
     ]
    }
   ],
   "source": [
    "name=input(\"Please enter your name:\")\n",
    "print(\"hello,\"+name+\"!\")"
   ]
  },
  {
   "cell_type": "code",
   "execution_count": 9,
   "metadata": {},
   "outputs": [
    {
     "name": "stdin",
     "output_type": "stream",
     "text": [
      "这是一个注册表\n",
      "请告诉我你的名字：  yu\n"
     ]
    },
    {
     "name": "stdout",
     "output_type": "stream",
     "text": [
      "Hello,yu!\n"
     ]
    }
   ],
   "source": [
    "message=\"这是一个注册表\"\n",
    "message+=\"\\n请告诉我你的名字： \"\n",
    "name=input(message)\n",
    "print(\"Hello,\"+name+\"!\")"
   ]
  },
  {
   "cell_type": "code",
   "execution_count": 10,
   "metadata": {},
   "outputs": [
    {
     "name": "stdin",
     "output_type": "stream",
     "text": [
      "输入一个数字？  5\n"
     ]
    },
    {
     "name": "stdout",
     "output_type": "stream",
     "text": [
      "这是一个奇数\n"
     ]
    }
   ],
   "source": [
    "number=input(\"输入一个数字？ \")\n",
    "number=int(number)\n",
    "if number%2==0:\n",
    "    print(\"这是一个偶数\")\n",
    "else:\n",
    "    print(\"这是一个奇数\")"
   ]
  },
  {
   "cell_type": "code",
   "execution_count": 11,
   "metadata": {},
   "outputs": [
    {
     "name": "stdin",
     "output_type": "stream",
     "text": [
      "你们几位？  9\n"
     ]
    },
    {
     "name": "stdout",
     "output_type": "stream",
     "text": [
      "有空桌\n"
     ]
    }
   ],
   "source": [
    "person=input(\"你们几位？ \")\n",
    "person=int(person)\n",
    "if person >10:\n",
    "    print(\"没有空桌\")\n",
    "else:\n",
    "    print(\"有空桌\")"
   ]
  },
  {
   "cell_type": "code",
   "execution_count": 12,
   "metadata": {},
   "outputs": [
    {
     "name": "stdin",
     "output_type": "stream",
     "text": [
      "输入数字？ 4\n"
     ]
    },
    {
     "name": "stdout",
     "output_type": "stream",
     "text": [
      "Yes\n"
     ]
    }
   ],
   "source": [
    "number=input(\"输入数字？\")\n",
    "number=int(number)\n",
    "if number%2==0:\n",
    "    print(\"Yes\")\n",
    "else:\n",
    "    print(\"No\")"
   ]
  },
  {
   "cell_type": "code",
   "execution_count": 13,
   "metadata": {},
   "outputs": [
    {
     "name": "stdout",
     "output_type": "stream",
     "text": [
      "1\n",
      "2\n",
      "3\n",
      "4\n",
      "5\n",
      "6\n",
      "7\n",
      "8\n",
      "9\n",
      "10\n"
     ]
    }
   ],
   "source": [
    "current_number=1\n",
    "while current_number<=10:\n",
    "    print(current_number)\n",
    "    current_number+=1"
   ]
  },
  {
   "cell_type": "code",
   "execution_count": 14,
   "metadata": {},
   "outputs": [
    {
     "name": "stdin",
     "output_type": "stream",
     "text": [
      "输入数字？ 20\n"
     ]
    },
    {
     "name": "stdout",
     "output_type": "stream",
     "text": [
      "Yes\n"
     ]
    }
   ],
   "source": [
    "number=input(\"输入数字？\")\n",
    "number=int(number)\n",
    "if number%5==0:\n",
    "    print(\"Yes\")\n",
    "else:\n",
    "    print(\"No\")"
   ]
  },
  {
   "cell_type": "code",
   "execution_count": 15,
   "metadata": {},
   "outputs": [
    {
     "name": "stdin",
     "output_type": "stream",
     "text": [
      "请输入？ quit\n"
     ]
    },
    {
     "name": "stdout",
     "output_type": "stream",
     "text": [
      "quit\n"
     ]
    }
   ],
   "source": [
    "message=\"\"\n",
    "while message!='quit':\n",
    "    message=input(\"请输入？\")\n",
    "    print(message)"
   ]
  },
  {
   "cell_type": "code",
   "execution_count": 18,
   "metadata": {},
   "outputs": [
    {
     "name": "stdin",
     "output_type": "stream",
     "text": [
      "请输入？ yu\n"
     ]
    },
    {
     "name": "stdout",
     "output_type": "stream",
     "text": [
      "yu\n"
     ]
    },
    {
     "name": "stdin",
     "output_type": "stream",
     "text": [
      "请输入？ 请输入\n"
     ]
    },
    {
     "name": "stdout",
     "output_type": "stream",
     "text": [
      "请输入\n"
     ]
    },
    {
     "name": "stdin",
     "output_type": "stream",
     "text": [
      "请输入？ quit\n"
     ]
    }
   ],
   "source": [
    "message=\"\"\n",
    "while message!='quit':\n",
    "    message=input(\"请输入？\")\n",
    "    if message!='quit':\n",
    "        print(message)\n",
    "    "
   ]
  },
  {
   "cell_type": "code",
   "execution_count": null,
   "metadata": {},
   "outputs": [
    {
     "name": "stdin",
     "output_type": "stream",
     "text": [
      "输入： 嘿嘿\n"
     ]
    }
   ],
   "source": [
    "messages=[]\n",
    "active=True\n",
    "while active:\n",
    "    message=input(\"输入：\")\n",
    "    if message==\"quit\":\n",
    "        active=False\n",
    "    else:\n",
    "        messages.append(message)\n",
    "print(\"嘿嘿\"+str(messages))"
   ]
  },
  {
   "cell_type": "code",
   "execution_count": null,
   "metadata": {},
   "outputs": [],
   "source": [
    "prompt=\"\\n请输入配料表？\"\n",
    "prompt+=\"\\n依次输入，输入quit结束\"\n",
    "messages=[]\n",
    "while True:\n",
    "    message=input(prompt)\n",
    "    if message==\"quit\":\n",
    "        break\n",
    "    else:\n",
    "        messages.append(message)\n",
    "print(\"配料表：\"+str(messages))"
   ]
  },
  {
   "cell_type": "code",
   "execution_count": null,
   "metadata": {},
   "outputs": [],
   "source": [
    "pets=['dog','cat','dog','cat','goldfish','rabbit']\n",
    "print(pets)\n",
    "while 'dog' in pets:\n",
    "    pets.remove('dog')\n",
    "print(pets)"
   ]
  },
  {
   "cell_type": "code",
   "execution_count": 2,
   "metadata": {},
   "outputs": [
    {
     "name": "stdout",
     "output_type": "stream",
     "text": [
      "['dog', 'cat', 'dog', 'cat', 'goldfish', 'rabbit']\n",
      "['cat', 'cat', 'goldfish', 'rabbit']\n"
     ]
    }
   ],
   "source": [
    "pets=['dog','cat','dog','cat','goldfish','rabbit']\n",
    "print(pets)\n",
    "while 'dog' in pets:\n",
    "    pets.remove('dog')\n",
    "print(pets)"
   ]
  },
  {
   "cell_type": "code",
   "execution_count": 1,
   "metadata": {},
   "outputs": [
    {
     "name": "stdout",
     "output_type": "stream",
     "text": [
      "\n",
      "I made your beef sandwich!\n",
      "\n",
      "I made your fish sandwich!\n",
      "\n",
      "I made your chicken sandwich!\n",
      "\n",
      "I made your vegetable sandwich!\n",
      "\n",
      "做好的三明治：['beef', 'fish', 'chicken', 'vegetable']\n"
     ]
    }
   ],
   "source": [
    "sandwich_orders=['vegetable','chicken','fish','beef']\n",
    "finished_sandwiches=[]\n",
    "while sandwich_orders:\n",
    "    current_sandwich=sandwich_orders.pop()\n",
    "    print(\"\\nI made your \"+current_sandwich+\" sandwich!\")\n",
    "    finished_sandwiches.append(current_sandwich)\n",
    "print(\"\\n做好的三明治：\"+str(finished_sandwiches))"
   ]
  },
  {
   "cell_type": "code",
   "execution_count": 2,
   "metadata": {},
   "outputs": [
    {
     "name": "stdout",
     "output_type": "stream",
     "text": [
      "五香烟熏牛肉卖完了\n",
      "目前有的三明治：['vegetable', 'chicken', 'fish', 'beef']\n",
      "\n",
      "I made your beef sandwich!\n",
      "\n",
      "I made your fish sandwich!\n",
      "\n",
      "I made your chicken sandwich!\n",
      "\n",
      "I made your vegetable sandwich!\n",
      "\n",
      "做好的三明治：['beef', 'fish', 'chicken', 'vegetable']\n"
     ]
    }
   ],
   "source": [
    "print(\"五香烟熏牛肉卖完了\")\n",
    "sandwich_orders=['pastrami','vegetable','pastrami','chicken','fish','pastrami','beef']\n",
    "while 'pastrami' in sandwich_orders:\n",
    "    sandwich_orders.remove('pastrami')\n",
    "print(\"目前有的三明治：\"+str(sandwich_orders))\n",
    "finished_sandwiches=[]\n",
    "while sandwich_orders:\n",
    "    current_sandwich=sandwich_orders.pop()\n",
    "    print(\"\\nI made your \"+current_sandwich+\" sandwich!\")\n",
    "    finished_sandwiches.append(current_sandwich)\n",
    "print(\"\\n做好的三明治：\"+str(finished_sandwiches))"
   ]
  },
  {
   "cell_type": "code",
   "execution_count": null,
   "metadata": {},
   "outputs": [],
   "source": [
    "active=True\n",
    "sites=[]\n",
    "while active:\n",
    "    site=input(\"如果你可以去世界的任何一个地方，你想去哪里？\")\n",
    "    sites.append(site)\n",
    "    over=input(\"是否结束？Yes/No\")\n",
    "    if over==\"Yes\":\n",
    "        active=False\n",
    "print(sites)"
   ]
  },
  {
   "cell_type": "code",
   "execution_count": 1,
   "metadata": {},
   "outputs": [
    {
     "name": "stdout",
     "output_type": "stream",
     "text": [
      "One of my favorite book is Alice in Wonderland.\n"
     ]
    }
   ],
   "source": [
    "def favorite_book(title):\n",
    "    \"\"\"喜欢的书\"\"\"\n",
    "    print(\"One of my favorite book is \"+title.title()+\" in Wonderland.\")\n",
    "favorite_book('alice')"
   ]
  },
  {
   "cell_type": "code",
   "execution_count": 2,
   "metadata": {},
   "outputs": [
    {
     "name": "stdout",
     "output_type": "stream",
     "text": [
      "T恤的尺码：Xxl, T恤的字样：LOVE\n",
      "T恤的尺码：Xxl, T恤的字样：LOVE\n"
     ]
    }
   ],
   "source": [
    "def make_shirt(shirt_size,shirt_type):\n",
    "    print(\"T恤的尺码：\"+shirt_size.title()+\", T恤的字样：\"+shirt_type)\n",
    "make_shirt('xxl','LOVE')\n",
    "make_shirt(shirt_size='xxl',shirt_type='LOVE')"
   ]
  },
  {
   "cell_type": "code",
   "execution_count": 3,
   "metadata": {},
   "outputs": [
    {
     "name": "stdout",
     "output_type": "stream",
     "text": [
      "T恤的尺码：xl, T恤的字样：I love python\n",
      "T恤的尺码：xl, T恤的字样：I love python\n",
      "T恤的尺码：xxl, T恤的字样：LOVE\n"
     ]
    }
   ],
   "source": [
    "def make_shirt(shirt_size='xxl',shirt_type='I love python'):\n",
    "    print(\"T恤的尺码：\"+shirt_size+\", T恤的字样：\"+shirt_type)\n",
    "make_shirt('xl')\n",
    "make_shirt(shirt_size='xl')\n",
    "make_shirt(shirt_size='xxl',shirt_type='LOVE')"
   ]
  },
  {
   "cell_type": "code",
   "execution_count": 4,
   "metadata": {},
   "outputs": [
    {
     "name": "stdout",
     "output_type": "stream",
     "text": [
      "Reykjavik is in Iceland\n",
      "Beijing is in China\n",
      "北京 is in 中国\n"
     ]
    }
   ],
   "source": [
    "def describe_city(city='reykjavik',country='iceland'):\n",
    "    print(city.title()+\" is in \"+country.title())\n",
    "describe_city()\n",
    "describe_city('beijing','china')\n",
    "describe_city(city='北京',country='中国')"
   ]
  },
  {
   "cell_type": "code",
   "execution_count": 5,
   "metadata": {},
   "outputs": [
    {
     "name": "stdout",
     "output_type": "stream",
     "text": [
      "Jimi Hendrix\n",
      "John Hooker Lee\n"
     ]
    }
   ],
   "source": [
    "\n",
    "def name(first_name,last_name,middle_name=''):\n",
    "    if middle_name:\n",
    "        full_name=first_name+' '+middle_name+' '+last_name\n",
    "    else:\n",
    "        full_name=first_name+' '+last_name\n",
    "    return full_name.title()\n",
    "musician=name('jimi','hendrix')\n",
    "print(musician)\n",
    "musician=name('john','lee','hooker')\n",
    "print(musician)"
   ]
  },
  {
   "cell_type": "code",
   "execution_count": null,
   "metadata": {},
   "outputs": [
    {
     "name": "stdout",
     "output_type": "stream",
     "text": [
      "\n",
      "请告诉我你的名字\n",
      "输入q结束\n",
      "如果没有中间名字，请输入空格\n"
     ]
    },
    {
     "name": "stdin",
     "output_type": "stream",
     "text": [
      "First_name: yu\n",
      "Last_name: yu\n",
      "Middle_name: yu\n"
     ]
    },
    {
     "name": "stdout",
     "output_type": "stream",
     "text": [
      "Yu Yu Yu\n",
      "\n",
      "请告诉我你的名字\n",
      "输入q结束\n",
      "如果没有中间名字，请输入空格\n"
     ]
    }
   ],
   "source": [
    "def name(first_name,last_name,middle_name):\n",
    "    if middle_name:\n",
    "        full_name=first_name+' '+middle_name+' '+last_name\n",
    "    else:\n",
    "        full_name=first_name+' '+last_name\n",
    "    return full_name.title()\n",
    "while True:\n",
    "    print(\"\\n请告诉我你的名字\")\n",
    "    print(\"输入q结束\")\n",
    "    print(\"如果没有中间名字，请输入空格\")\n",
    "    f_name=input(\"First_name:\")\n",
    "    l_name=input(\"Last_name:\")\n",
    "    m_name=input(\"Middle_name:\")\n",
    "    if f_name=='q':\n",
    "        break\n",
    "    if l_name=='q':\n",
    "        break\n",
    "    if m_name=='q':\n",
    "        break\n",
    "    musician=name(f_name,l_name,m_name)\n",
    "    print(musician)"
   ]
  },
  {
   "cell_type": "code",
   "execution_count": null,
   "metadata": {},
   "outputs": [],
   "source": []
  },
  {
   "cell_type": "code",
   "execution_count": 1,
   "metadata": {},
   "outputs": [
    {
     "name": "stdout",
     "output_type": "stream",
     "text": [
      "1到100 之和为：1 \n",
      "1到100 之和为：3 \n",
      "1到100 之和为：6 \n",
      "1到100 之和为：10 \n",
      "1到100 之和为：15 \n",
      "1到100 之和为：21 \n",
      "1到100 之和为：28 \n",
      "1到100 之和为：36 \n",
      "1到100 之和为：45 \n",
      "1到100 之和为：55 \n",
      "1到100 之和为：66 \n",
      "1到100 之和为：78 \n",
      "1到100 之和为：91 \n",
      "1到100 之和为：105 \n",
      "1到100 之和为：120 \n",
      "1到100 之和为：136 \n",
      "1到100 之和为：153 \n",
      "1到100 之和为：171 \n",
      "1到100 之和为：190 \n",
      "1到100 之和为：210 \n",
      "1到100 之和为：231 \n",
      "1到100 之和为：253 \n",
      "1到100 之和为：276 \n",
      "1到100 之和为：300 \n",
      "1到100 之和为：325 \n",
      "1到100 之和为：351 \n",
      "1到100 之和为：378 \n",
      "1到100 之和为：406 \n",
      "1到100 之和为：435 \n",
      "1到100 之和为：465 \n",
      "1到100 之和为：496 \n",
      "1到100 之和为：528 \n",
      "1到100 之和为：561 \n",
      "1到100 之和为：595 \n",
      "1到100 之和为：630 \n",
      "1到100 之和为：666 \n",
      "1到100 之和为：703 \n",
      "1到100 之和为：741 \n",
      "1到100 之和为：780 \n",
      "1到100 之和为：820 \n",
      "1到100 之和为：861 \n",
      "1到100 之和为：903 \n",
      "1到100 之和为：946 \n",
      "1到100 之和为：990 \n",
      "1到100 之和为：1035 \n",
      "1到100 之和为：1081 \n",
      "1到100 之和为：1128 \n",
      "1到100 之和为：1176 \n",
      "1到100 之和为：1225 \n",
      "1到100 之和为：1275 \n",
      "1到100 之和为：1326 \n",
      "1到100 之和为：1378 \n",
      "1到100 之和为：1431 \n",
      "1到100 之和为：1485 \n",
      "1到100 之和为：1540 \n",
      "1到100 之和为：1596 \n",
      "1到100 之和为：1653 \n",
      "1到100 之和为：1711 \n",
      "1到100 之和为：1770 \n",
      "1到100 之和为：1830 \n",
      "1到100 之和为：1891 \n",
      "1到100 之和为：1953 \n",
      "1到100 之和为：2016 \n",
      "1到100 之和为：2080 \n",
      "1到100 之和为：2145 \n",
      "1到100 之和为：2211 \n",
      "1到100 之和为：2278 \n",
      "1到100 之和为：2346 \n",
      "1到100 之和为：2415 \n",
      "1到100 之和为：2485 \n",
      "1到100 之和为：2556 \n",
      "1到100 之和为：2628 \n",
      "1到100 之和为：2701 \n",
      "1到100 之和为：2775 \n",
      "1到100 之和为：2850 \n",
      "1到100 之和为：2926 \n",
      "1到100 之和为：3003 \n",
      "1到100 之和为：3081 \n",
      "1到100 之和为：3160 \n",
      "1到100 之和为：3240 \n",
      "1到100 之和为：3321 \n",
      "1到100 之和为：3403 \n",
      "1到100 之和为：3486 \n",
      "1到100 之和为：3570 \n",
      "1到100 之和为：3655 \n",
      "1到100 之和为：3741 \n",
      "1到100 之和为：3828 \n",
      "1到100 之和为：3916 \n",
      "1到100 之和为：4005 \n",
      "1到100 之和为：4095 \n",
      "1到100 之和为：4186 \n",
      "1到100 之和为：4278 \n",
      "1到100 之和为：4371 \n",
      "1到100 之和为：4465 \n",
      "1到100 之和为：4560 \n",
      "1到100 之和为：4656 \n",
      "1到100 之和为：4753 \n",
      "1到100 之和为：4851 \n",
      "1到100 之和为：4950 \n",
      "1到100 之和为：5050 \n"
     ]
    }
   ],
   "source": [
    "n=100\n",
    "\n",
    "sum=0\n",
    "counter=1\n",
    "while counter<=n:\n",
    "    sum=sum+counter\n",
    "    counter+=1\n",
    "    print(\"1到%d 之和为：%d \"%(n,sum))"
   ]
  },
  {
   "cell_type": "code",
   "execution_count": 2,
   "metadata": {},
   "outputs": [],
   "source": [
    "def save_grade(name,grade):\n",
    "    grade=open('sample.txt','a')\n",
    "    grade.write(f'姓名:{name}\\t成绩；{grade}\\n')\n",
    "    grade.close()"
   ]
  },
  {
   "cell_type": "code",
   "execution_count": 5,
   "metadata": {},
   "outputs": [
    {
     "name": "stdin",
     "output_type": "stream",
     "text": [
      "请输入姓名： yu\n",
      "请输入成绩： 100\n"
     ]
    },
    {
     "ename": "AttributeError",
     "evalue": "'str' object has no attribute 'write'",
     "output_type": "error",
     "traceback": [
      "\u001b[1;31m---------------------------------------------------------------------------\u001b[0m",
      "\u001b[1;31mAttributeError\u001b[0m                            Traceback (most recent call last)",
      "\u001b[1;32m<ipython-input-5-f4f95f19f8a5>\u001b[0m in \u001b[0;36m<module>\u001b[1;34m\u001b[0m\n\u001b[0;32m      2\u001b[0m     \u001b[0mname\u001b[0m\u001b[1;33m=\u001b[0m\u001b[0minput\u001b[0m\u001b[1;33m(\u001b[0m\u001b[1;34m\"请输入姓名：\"\u001b[0m\u001b[1;33m)\u001b[0m\u001b[1;33m\u001b[0m\u001b[1;33m\u001b[0m\u001b[0m\n\u001b[0;32m      3\u001b[0m     \u001b[0mgrade\u001b[0m\u001b[1;33m=\u001b[0m\u001b[0minput\u001b[0m\u001b[1;33m(\u001b[0m\u001b[1;34m'请输入成绩：'\u001b[0m\u001b[1;33m)\u001b[0m\u001b[1;33m\u001b[0m\u001b[1;33m\u001b[0m\u001b[0m\n\u001b[1;32m----> 4\u001b[1;33m     \u001b[0msave_grade\u001b[0m\u001b[1;33m(\u001b[0m\u001b[0mname\u001b[0m\u001b[1;33m,\u001b[0m\u001b[0mgrade\u001b[0m\u001b[1;33m)\u001b[0m\u001b[1;33m\u001b[0m\u001b[1;33m\u001b[0m\u001b[0m\n\u001b[0m\u001b[0;32m      5\u001b[0m     \u001b[0mprint\u001b[0m\u001b[1;33m(\u001b[0m\u001b[1;34mf'{name}的成绩已保存。'\u001b[0m\u001b[1;33m)\u001b[0m\u001b[1;33m\u001b[0m\u001b[1;33m\u001b[0m\u001b[0m\n\u001b[0;32m      6\u001b[0m     \u001b[0mgo_on\u001b[0m\u001b[1;33m=\u001b[0m\u001b[0minput\u001b[0m\u001b[1;33m(\u001b[0m\u001b[1;34m'是否继续输入(yes or no)?'\u001b[0m\u001b[1;33m)\u001b[0m\u001b[1;33m\u001b[0m\u001b[1;33m\u001b[0m\u001b[0m\n",
      "\u001b[1;32m<ipython-input-2-a1c03961a46b>\u001b[0m in \u001b[0;36msave_grade\u001b[1;34m(name, grade)\u001b[0m\n\u001b[0;32m      1\u001b[0m \u001b[1;32mdef\u001b[0m \u001b[0msave_grade\u001b[0m\u001b[1;33m(\u001b[0m\u001b[0mname\u001b[0m\u001b[1;33m,\u001b[0m\u001b[0mgrade\u001b[0m\u001b[1;33m)\u001b[0m\u001b[1;33m:\u001b[0m\u001b[1;33m\u001b[0m\u001b[1;33m\u001b[0m\u001b[0m\n\u001b[0;32m      2\u001b[0m     \u001b[0mgrades\u001b[0m\u001b[1;33m=\u001b[0m\u001b[0mopen\u001b[0m\u001b[1;33m(\u001b[0m\u001b[1;34m'sample.txt'\u001b[0m\u001b[1;33m,\u001b[0m\u001b[1;34m'a'\u001b[0m\u001b[1;33m)\u001b[0m\u001b[1;33m\u001b[0m\u001b[1;33m\u001b[0m\u001b[0m\n\u001b[1;32m----> 3\u001b[1;33m     \u001b[0mgrade\u001b[0m\u001b[1;33m.\u001b[0m\u001b[0mwrite\u001b[0m\u001b[1;33m(\u001b[0m\u001b[1;34mf'姓名:{name}\\t成绩；{grade}\\n'\u001b[0m\u001b[1;33m)\u001b[0m\u001b[1;33m\u001b[0m\u001b[1;33m\u001b[0m\u001b[0m\n\u001b[0m\u001b[0;32m      4\u001b[0m     \u001b[0mgrade\u001b[0m\u001b[1;33m.\u001b[0m\u001b[0mclose\u001b[0m\u001b[1;33m(\u001b[0m\u001b[1;33m)\u001b[0m\u001b[1;33m\u001b[0m\u001b[1;33m\u001b[0m\u001b[0m\n",
      "\u001b[1;31mAttributeError\u001b[0m: 'str' object has no attribute 'write'"
     ]
    }
   ],
   "source": [
    "while True:\n",
    "    name=input(\"请输入姓名：\")\n",
    "    grade=input('请输入成绩：')\n",
    "    save_grade(name,grade)\n",
    "    print(f'{name}的成绩已保存。')\n",
    "    go_on=input('是否继续输入(yes or no)?')\n",
    "    n = 0\n",
    "    while n<2:\n",
    "        if go_on=='yes':\n",
    "            break\n",
    "            n=0\n",
    "        elif go_on =='no':\n",
    "            break\n",
    "        else:\n",
    "            n+=1\n",
    "            go_on=input(f'{n+1}指令无效，是否继续输入(yes or no)?')\n",
    "        if go_on=='no'or n==2:\n",
    "            prit('结束')\n",
    "            break"
   ]
  },
  {
   "cell_type": "code",
   "execution_count": 4,
   "metadata": {},
   "outputs": [
    {
     "name": "stdout",
     "output_type": "stream",
     "text": [
      "adding 0 to the list.\n",
      "adding 1 to the list.\n",
      "adding 2 to the list.\n",
      "adding 3 to the list.\n",
      "adding 4 to the list.\n",
      "adding 5 to the list.\n",
      "element was:0\n",
      "element was:1\n",
      "element was:2\n",
      "element was:3\n",
      "element was:4\n",
      "element was:5\n"
     ]
    }
   ],
   "source": [
    "the_count=[1,2,3,4,5]\n",
    "fruits=['apple','orange','pears','apricots']\n",
    "change=[1,'pennies',2,'dimes',3,'quarters']\n",
    "\n",
    "elements=[]\n",
    "\n",
    "for i in range(0,6):\n",
    "    print(f\"adding {i} to the list.\")\n",
    "    elements.append(i)\n",
    "    \n",
    "for i in elements:\n",
    "    print(f\"element was:{i}\")"
   ]
  },
  {
   "cell_type": "code",
   "execution_count": 6,
   "metadata": {},
   "outputs": [
    {
     "data": {
      "text/plain": [
       "['ArithmeticError',\n",
       " 'AssertionError',\n",
       " 'AttributeError',\n",
       " 'BaseException',\n",
       " 'BlockingIOError',\n",
       " 'BrokenPipeError',\n",
       " 'BufferError',\n",
       " 'BytesWarning',\n",
       " 'ChildProcessError',\n",
       " 'ConnectionAbortedError',\n",
       " 'ConnectionError',\n",
       " 'ConnectionRefusedError',\n",
       " 'ConnectionResetError',\n",
       " 'DeprecationWarning',\n",
       " 'EOFError',\n",
       " 'Ellipsis',\n",
       " 'EnvironmentError',\n",
       " 'Exception',\n",
       " 'False',\n",
       " 'FileExistsError',\n",
       " 'FileNotFoundError',\n",
       " 'FloatingPointError',\n",
       " 'FutureWarning',\n",
       " 'GeneratorExit',\n",
       " 'IOError',\n",
       " 'ImportError',\n",
       " 'ImportWarning',\n",
       " 'IndentationError',\n",
       " 'IndexError',\n",
       " 'InterruptedError',\n",
       " 'IsADirectoryError',\n",
       " 'KeyError',\n",
       " 'KeyboardInterrupt',\n",
       " 'LookupError',\n",
       " 'MemoryError',\n",
       " 'ModuleNotFoundError',\n",
       " 'NameError',\n",
       " 'None',\n",
       " 'NotADirectoryError',\n",
       " 'NotImplemented',\n",
       " 'NotImplementedError',\n",
       " 'OSError',\n",
       " 'OverflowError',\n",
       " 'PendingDeprecationWarning',\n",
       " 'PermissionError',\n",
       " 'ProcessLookupError',\n",
       " 'RecursionError',\n",
       " 'ReferenceError',\n",
       " 'ResourceWarning',\n",
       " 'RuntimeError',\n",
       " 'RuntimeWarning',\n",
       " 'StopAsyncIteration',\n",
       " 'StopIteration',\n",
       " 'SyntaxError',\n",
       " 'SyntaxWarning',\n",
       " 'SystemError',\n",
       " 'SystemExit',\n",
       " 'TabError',\n",
       " 'TimeoutError',\n",
       " 'True',\n",
       " 'TypeError',\n",
       " 'UnboundLocalError',\n",
       " 'UnicodeDecodeError',\n",
       " 'UnicodeEncodeError',\n",
       " 'UnicodeError',\n",
       " 'UnicodeTranslateError',\n",
       " 'UnicodeWarning',\n",
       " 'UserWarning',\n",
       " 'ValueError',\n",
       " 'Warning',\n",
       " 'WindowsError',\n",
       " 'ZeroDivisionError',\n",
       " '__IPYTHON__',\n",
       " '__build_class__',\n",
       " '__debug__',\n",
       " '__doc__',\n",
       " '__import__',\n",
       " '__loader__',\n",
       " '__name__',\n",
       " '__package__',\n",
       " '__spec__',\n",
       " 'abs',\n",
       " 'all',\n",
       " 'any',\n",
       " 'ascii',\n",
       " 'bin',\n",
       " 'bool',\n",
       " 'breakpoint',\n",
       " 'bytearray',\n",
       " 'bytes',\n",
       " 'callable',\n",
       " 'chr',\n",
       " 'classmethod',\n",
       " 'compile',\n",
       " 'complex',\n",
       " 'copyright',\n",
       " 'credits',\n",
       " 'delattr',\n",
       " 'dict',\n",
       " 'dir',\n",
       " 'display',\n",
       " 'divmod',\n",
       " 'enumerate',\n",
       " 'eval',\n",
       " 'exec',\n",
       " 'filter',\n",
       " 'float',\n",
       " 'format',\n",
       " 'frozenset',\n",
       " 'get_ipython',\n",
       " 'getattr',\n",
       " 'globals',\n",
       " 'hasattr',\n",
       " 'hash',\n",
       " 'help',\n",
       " 'hex',\n",
       " 'id',\n",
       " 'input',\n",
       " 'int',\n",
       " 'isinstance',\n",
       " 'issubclass',\n",
       " 'iter',\n",
       " 'len',\n",
       " 'license',\n",
       " 'list',\n",
       " 'locals',\n",
       " 'map',\n",
       " 'max',\n",
       " 'memoryview',\n",
       " 'min',\n",
       " 'next',\n",
       " 'object',\n",
       " 'oct',\n",
       " 'open',\n",
       " 'ord',\n",
       " 'pow',\n",
       " 'print',\n",
       " 'property',\n",
       " 'range',\n",
       " 'repr',\n",
       " 'reversed',\n",
       " 'round',\n",
       " 'set',\n",
       " 'setattr',\n",
       " 'slice',\n",
       " 'sorted',\n",
       " 'staticmethod',\n",
       " 'str',\n",
       " 'sum',\n",
       " 'super',\n",
       " 'tuple',\n",
       " 'type',\n",
       " 'vars',\n",
       " 'zip']"
      ]
     },
     "execution_count": 6,
     "metadata": {},
     "output_type": "execute_result"
    }
   ],
   "source": [
    "import builtins\n",
    "dir(builtins)"
   ]
  },
  {
   "cell_type": "code",
   "execution_count": 7,
   "metadata": {},
   "outputs": [],
   "source": [
    "# 大小写处理方法"
   ]
  },
  {
   "cell_type": "code",
   "execution_count": 8,
   "metadata": {},
   "outputs": [
    {
     "name": "stdout",
     "output_type": "stream",
     "text": [
      "ADA LOVEPLACE\n",
      "ada loveplace\n"
     ]
    }
   ],
   "source": [
    "name=\"ada loveplace\"\n",
    "print(name.upper())\n",
    "print(name.lower())"
   ]
  },
  {
   "cell_type": "code",
   "execution_count": 9,
   "metadata": {},
   "outputs": [],
   "source": [
    "#合并字符串"
   ]
  },
  {
   "cell_type": "code",
   "execution_count": 10,
   "metadata": {},
   "outputs": [
    {
     "name": "stdout",
     "output_type": "stream",
     "text": [
      "ada loveplace\n",
      "hello,Ada Loveplace！\n"
     ]
    }
   ],
   "source": [
    "first_name=\"ada\"\n",
    "last_name=\"loveplace\"\n",
    "full_name=first_name+\" \"+last_name\n",
    "\n",
    "print(full_name)\n",
    "print(\"hello,\"+full_name.title()+\"！\")"
   ]
  },
  {
   "cell_type": "code",
   "execution_count": 11,
   "metadata": {},
   "outputs": [
    {
     "name": "stdout",
     "output_type": "stream",
     "text": [
      "here is the original lists:\n",
      "['dianni', 'lili', 'zhongpeng', 'eleven']\n",
      "\n",
      "here is the sorted list: \n",
      "['dianni', 'eleven', 'lili', 'zhongpeng']\n",
      "\n",
      "here is the original list again:\n",
      "['dianni', 'lili', 'zhongpeng', 'eleven']\n"
     ]
    }
   ],
   "source": [
    "#临时排序\n",
    "names=['dianni','lili','zhongpeng','eleven']\n",
    "print(\"here is the original lists:\")\n",
    "print(names)\n",
    "\n",
    "print(\"\\nhere is the sorted list: \")\n",
    "print(sorted(names))\n",
    "\n",
    "print(\"\\nhere is the original list again:\")\n",
    "print(names)"
   ]
  },
  {
   "cell_type": "code",
   "execution_count": 12,
   "metadata": {},
   "outputs": [
    {
     "name": "stdout",
     "output_type": "stream",
     "text": [
      "Dianni , you are so clever!\n",
      "fighting!Dianni\n",
      "Lili , you are so clever!\n",
      "fighting!Lili\n",
      "Zhongpeng , you are so clever!\n",
      "fighting!Zhongpeng\n",
      "Eleven , you are so clever!\n",
      "fighting!Eleven\n",
      "\n",
      "加油加油，毕业不愁\n"
     ]
    }
   ],
   "source": [
    "#使用for循环的总结性句子要不要缩进\n",
    "names=['dianni','lili','zhongpeng','eleven']\n",
    "for name in names:\n",
    "    print(name.title()+\" , you are so clever!\")\n",
    "    print(\"fighting!\"+name.title())\n",
    "\n",
    "print(\"\\n加油加油，毕业不愁\")"
   ]
  },
  {
   "cell_type": "code",
   "execution_count": 13,
   "metadata": {},
   "outputs": [
    {
     "name": "stdout",
     "output_type": "stream",
     "text": [
      "[1]\n",
      "[1, 4]\n",
      "[1, 4, 9]\n",
      "[1, 4, 9, 16]\n",
      "[1, 4, 9, 16, 25]\n",
      "[1, 4, 9, 16, 25, 36]\n",
      "[1, 4, 9, 16, 25, 36, 49]\n",
      "[1, 4, 9, 16, 25, 36, 49, 64]\n",
      "[1, 4, 9, 16, 25, 36, 49, 64, 81]\n",
      "[1, 4, 9, 16, 25, 36, 49, 64, 81, 100]\n"
     ]
    }
   ],
   "source": [
    "squares=[]\n",
    "for value in range(1,11):\n",
    "    square=value**2\n",
    "    squares.append(square)\n",
    "    \n",
    "    print(squares)"
   ]
  },
  {
   "cell_type": "code",
   "execution_count": 14,
   "metadata": {},
   "outputs": [
    {
     "name": "stdout",
     "output_type": "stream",
     "text": [
      "[1]\n",
      "[1, 4]\n",
      "[1, 4, 9]\n",
      "[1, 4, 9, 16]\n",
      "[1, 4, 9, 16, 25]\n",
      "[1, 4, 9, 16, 25, 36]\n",
      "[1, 4, 9, 16, 25, 36, 49]\n",
      "[1, 4, 9, 16, 25, 36, 49, 64]\n",
      "[1, 4, 9, 16, 25, 36, 49, 64, 81]\n",
      "[1, 4, 9, 16, 25, 36, 49, 64, 81, 100]\n"
     ]
    }
   ],
   "source": [
    "squares=[]\n",
    "for value in range(1,11):\n",
    "    squares.append(value**2)\n",
    "    \n",
    "    print(squares)"
   ]
  },
  {
   "cell_type": "code",
   "execution_count": 15,
   "metadata": {},
   "outputs": [
    {
     "name": "stdout",
     "output_type": "stream",
     "text": [
      "1\n",
      "2\n",
      "3\n",
      "4\n",
      "5\n",
      "6\n",
      "7\n",
      "8\n",
      "9\n",
      "10\n",
      "11\n",
      "12\n",
      "13\n",
      "14\n",
      "15\n",
      "16\n",
      "17\n",
      "18\n",
      "19\n",
      "20\n"
     ]
    }
   ],
   "source": [
    "numbers=[]\n",
    "for value in range(1,21):\n",
    "    print(value)"
   ]
  },
  {
   "cell_type": "code",
   "execution_count": 17,
   "metadata": {},
   "outputs": [
    {
     "name": "stdout",
     "output_type": "stream",
     "text": [
      "3\n",
      "6\n",
      "9\n",
      "12\n",
      "15\n",
      "18\n",
      "21\n",
      "24\n",
      "27\n",
      "30\n"
     ]
    }
   ],
   "source": [
    "#3的倍数\n",
    "numbers=[]\n",
    "for value in range(3,31,3):\n",
    "    print(value)"
   ]
  },
  {
   "cell_type": "code",
   "execution_count": 18,
   "metadata": {},
   "outputs": [
    {
     "name": "stdout",
     "output_type": "stream",
     "text": [
      "[8]\n",
      "[8, 16]\n",
      "[8, 16, 24]\n",
      "[8, 16, 24, 32]\n",
      "[8, 16, 24, 32, 40]\n",
      "[8, 16, 24, 32, 40, 48]\n",
      "[8, 16, 24, 32, 40, 48, 56]\n",
      "[8, 16, 24, 32, 40, 48, 56, 64]\n",
      "[8, 16, 24, 32, 40, 48, 56, 64, 72]\n",
      "[8, 16, 24, 32, 40, 48, 56, 64, 72, 80]\n"
     ]
    }
   ],
   "source": [
    "#立方\n",
    "squares=[]\n",
    "for value in range(1,11):\n",
    "    squares.append(value*2**3)\n",
    "    \n",
    "    print(squares)"
   ]
  },
  {
   "cell_type": "code",
   "execution_count": 19,
   "metadata": {},
   "outputs": [
    {
     "name": "stdout",
     "output_type": "stream",
     "text": [
      "[(0, 'apple'), (1, 'orange'), (2, 'apple'), (3, 'pear'), (4, 'orange'), (5, 'banana')]\n",
      "0----------apple\n",
      "1----------orange\n",
      "2----------apple\n",
      "3----------pear\n",
      "4----------orange\n",
      "5----------banana\n"
     ]
    }
   ],
   "source": [
    "basket = ['apple', 'orange', 'apple', 'pear', 'orange', 'banana']\n",
    "print(list(enumerate(basket)))\n",
    "for i, v in enumerate(basket):\n",
    "    print(f'{i}{\"-\"*10}{v}')"
   ]
  },
  {
   "cell_type": "code",
   "execution_count": 20,
   "metadata": {},
   "outputs": [
    {
     "name": "stdout",
     "output_type": "stream",
     "text": [
      "[(0, 'apple'), (1, 'orange'), (2, 'apple'), (3, 'pear'), (4, 'orange'), (5, 'banana')]\n",
      "0----------apple\n",
      "1----------orange\n",
      "2----------apple\n",
      "3----------pear\n",
      "4----------orange\n",
      "5----------banana\n"
     ]
    }
   ],
   "source": [
    "basket =  ['apple', 'orange', 'apple', 'pear', 'orange', 'banana']\n",
    "indexes = range(len(basket))\n",
    "print(list(zip(indexes,basket)))\n",
    "for i, v in zip(indexes,basket):\n",
    "    print(f'{i}{\"-\"*10}{v}')"
   ]
  },
  {
   "cell_type": "code",
   "execution_count": 21,
   "metadata": {},
   "outputs": [
    {
     "name": "stdout",
     "output_type": "stream",
     "text": [
      "0*10 is 0\n",
      "1*11 is 11\n",
      "2*12 is 24\n",
      "3*13 is 39\n",
      "4*14 is 56\n",
      "5*15 is 75\n",
      "6*16 is 96\n",
      "7*17 is 119\n",
      "8*18 is 144\n",
      "9*19 is 171\n"
     ]
    }
   ],
   "source": [
    "r1 = range(10)\n",
    "r2 = range(10,20)\n",
    "for i,j in zip(r1,r2):\n",
    "    print(f'{i}*{j} is {i * j}')"
   ]
  },
  {
   "cell_type": "code",
   "execution_count": null,
   "metadata": {},
   "outputs": [],
   "source": []
  }
 ],
 "metadata": {
  "kernelspec": {
   "display_name": "Python 3",
   "language": "python",
   "name": "python3"
  },
  "language_info": {
   "codemirror_mode": {
    "name": "ipython",
    "version": 3
   },
   "file_extension": ".py",
   "mimetype": "text/x-python",
   "name": "python",
   "nbconvert_exporter": "python",
   "pygments_lexer": "ipython3",
   "version": "3.8.3"
  }
 },
 "nbformat": 4,
 "nbformat_minor": 4
}
